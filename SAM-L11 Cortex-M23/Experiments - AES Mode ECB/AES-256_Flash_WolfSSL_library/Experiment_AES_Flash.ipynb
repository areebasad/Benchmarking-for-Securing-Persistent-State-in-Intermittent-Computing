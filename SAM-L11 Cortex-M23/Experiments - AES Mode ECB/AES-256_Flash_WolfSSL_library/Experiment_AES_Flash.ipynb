{
 "cells": [
  {
   "cell_type": "markdown",
   "metadata": {},
   "source": [
    "## Import Libraries"
   ]
  },
  {
   "cell_type": "code",
   "execution_count": 1,
   "metadata": {},
   "outputs": [],
   "source": [
    "# %matplotlib ipympl\n",
    "# %matplotlib inline\n",
    "%matplotlib wx"
   ]
  },
  {
   "cell_type": "code",
   "execution_count": 2,
   "metadata": {},
   "outputs": [],
   "source": [
    "import matplotlib.pyplot as plt\n",
    "plt.ion()"
   ]
  },
  {
   "cell_type": "code",
   "execution_count": 3,
   "metadata": {},
   "outputs": [],
   "source": [
    "from pydgilib_extra import *\n",
    "from atprogram.atprogram import atprogram"
   ]
  },
  {
   "cell_type": "code",
   "execution_count": 4,
   "metadata": {},
   "outputs": [],
   "source": [
    "from os import getcwd, path, pardir\n",
    "import pickle"
   ]
  },
  {
   "cell_type": "markdown",
   "metadata": {},
   "source": [
    "## Compile and program project"
   ]
  },
  {
   "cell_type": "code",
   "execution_count": 5,
   "metadata": {},
   "outputs": [
    {
     "data": {
      "text/plain": [
       "['.', 'AES_Flash-S']"
      ]
     },
     "execution_count": 5,
     "metadata": {},
     "output_type": "execute_result"
    }
   ],
   "source": [
    "project_path = [path.curdir, \"AES_Flash-S\"]\n",
    "project_path "
   ]
  },
  {
   "cell_type": "code",
   "execution_count": 6,
   "metadata": {},
   "outputs": [
    {
     "name": "stdout",
     "output_type": "stream",
     "text": [
      "make: Nothing to be done for 'all'.\n",
      "\n",
      "[DEBUG] Starting execution of \"chiperase\"\n",
      "[DEBUG] Starting process 'C:\\Program Files (x86)\\Atmel\\Studio\\7.0\\atbackend\\atbackend.exe'\n",
      "[DEBUG] Connecting to TCP:127.0.0.1:51126\n",
      "[INFO] Connected to edbg, fw version: 3.25\n",
      "[INFO] Firmware check OK\n",
      "[DEBUG] Command \"chiperase\" finished with return code 0\n",
      "[DEBUG] Starting execution of \"program\"\n",
      "[DEBUG] Memory segment base written at 0x00000000. Size = 0x0000408c.\n",
      "[DEBUG] Memory segment base written at 0x0000408c. Size = 0x00000074.\n",
      "[DEBUG] Memory segment base written at 0x00804000. Size = 0x00000020.\n",
      "[DEBUG] Command \"program\" finished with return code 0\n",
      "[DEBUG] Exit successfully.\n",
      "Firmware check OK\n",
      "Chiperase completed successfully\n",
      "Programming completed successfully.\n",
      "\n"
     ]
    },
    {
     "data": {
      "text/plain": [
       "0"
      ]
     },
     "execution_count": 6,
     "metadata": {},
     "output_type": "execute_result"
    }
   ],
   "source": [
    "atprogram(\"./Crypto-Current\", verbose=2)"
   ]
  },
  {
   "cell_type": "code",
   "execution_count": 40,
   "metadata": {},
   "outputs": [],
   "source": [
    "#atprogram(path.abspath(path.join(*project_path)), verbose=2)"
   ]
  },
  {
   "cell_type": "code",
   "execution_count": null,
   "metadata": {},
   "outputs": [],
   "source": []
  },
  {
   "cell_type": "markdown",
   "metadata": {},
   "source": [
    "## Data Logging"
   ]
  },
  {
   "cell_type": "code",
   "execution_count": 7,
   "metadata": {},
   "outputs": [],
   "source": [
    "live_plot = False"
   ]
  },
  {
   "cell_type": "markdown",
   "metadata": {},
   "source": [
    "Create a figure for the plot."
   ]
  },
  {
   "cell_type": "code",
   "execution_count": 8,
   "metadata": {},
   "outputs": [],
   "source": [
    "if live_plot:\n",
    "    fig = plt.figure(figsize=(10, 6))\n",
    "    fig.show()"
   ]
  },
  {
   "cell_type": "markdown",
   "metadata": {},
   "source": [
    "Create the configuration dictionary for `DGILibExtra`."
   ]
  },
  {
   "cell_type": "code",
   "execution_count": 9,
   "metadata": {},
   "outputs": [],
   "source": [
    "config_dict = {\n",
    "    \"loggers\": [LOGGER_OBJECT, LOGGER_CSV],\n",
    "    \"file_name_base\": \"experiment_aes_flash\"\n",
    "}\n",
    "config_dict_plot = {\n",
    "    \"loggers\": [LOGGER_OBJECT, LOGGER_PLOT, LOGGER_CSV],\n",
    "    \"plot_pins\": [False, False, True, True],\n",
    "    \"plot_pins_method\": \"line\",\n",
    "    \"plot_xmax\": 5,\n",
    "    \"window_title\": \"Experiment AES-128 Flash\",\n",
    "}"
   ]
  },
  {
   "cell_type": "markdown",
   "metadata": {},
   "source": [
    "Stop criteria to pass to the logger:"
   ]
  },
  {
   "cell_type": "code",
   "execution_count": 10,
   "metadata": {},
   "outputs": [],
   "source": [
    "def stop_fn(logger_data):\n",
    "    return all(logger_data.gpio.values[-1])"
   ]
  },
  {
   "cell_type": "markdown",
   "metadata": {},
   "source": [
    "Perform the measurement."
   ]
  },
  {
   "cell_type": "code",
   "execution_count": 11,
   "metadata": {},
   "outputs": [],
   "source": [
    "data = []\n",
    "cd = config_dict.copy()\n",
    "if live_plot:\n",
    "    fig.clf()\n",
    "    for ax in fig.get_axes():\n",
    "        ax.cla()\n",
    "    \n",
    "    cd.update(config_dict_plot)\n",
    "    cd[\"fig\"] = fig\n",
    "    \n",
    "with DGILibExtra(**cd) as dgilib:\n",
    "    dgilib.device_reset()\n",
    "    dgilib.logger.log(1000,stop_fn)\n",
    "    data = dgilib.data"
   ]
  },
  {
   "cell_type": "code",
   "execution_count": 12,
   "metadata": {},
   "outputs": [
    {
     "data": {
      "text/plain": [
       "{48: 6005, 256: 405000}"
      ]
     },
     "execution_count": 12,
     "metadata": {},
     "output_type": "execute_result"
    }
   ],
   "source": [
    "data.length()"
   ]
  },
  {
   "cell_type": "code",
   "execution_count": 13,
   "metadata": {},
   "outputs": [
    {
     "name": "stdout",
     "output_type": "stream",
     "text": [
      "Interfaces:\n",
      "\t  48:   gpio,    samples:    6005\n",
      "\t 256:   power,   samples:  405000\n",
      "\n"
     ]
    }
   ],
   "source": [
    "print(data)"
   ]
  },
  {
   "cell_type": "markdown",
   "metadata": {},
   "source": [
    "# Store Data"
   ]
  },
  {
   "cell_type": "code",
   "execution_count": 14,
   "metadata": {},
   "outputs": [],
   "source": [
    "import pickle"
   ]
  },
  {
   "cell_type": "code",
   "execution_count": 15,
   "metadata": {},
   "outputs": [],
   "source": [
    "pickle.dump(data, open(\"aes_flash_logger_data.p\", \"wb\"))"
   ]
  },
  {
   "cell_type": "markdown",
   "metadata": {},
   "source": [
    "# Load Data"
   ]
  },
  {
   "cell_type": "code",
   "execution_count": 16,
   "metadata": {},
   "outputs": [],
   "source": [
    "data = pickle.load(open(\"aes_flash_logger_data.p\", \"rb\"))"
   ]
  },
  {
   "cell_type": "code",
   "execution_count": 19,
   "metadata": {},
   "outputs": [
    {
     "ename": "FileNotFoundError",
     "evalue": "[Errno 2] No such file or directory: '..\\\\..\\\\AES-128_Flash_0.p'",
     "output_type": "error",
     "traceback": [
      "\u001b[1;31m---------------------------------------------------------------------------\u001b[0m",
      "\u001b[1;31mFileNotFoundError\u001b[0m                         Traceback (most recent call last)",
      "\u001b[1;32m<ipython-input-19-fe9506c66d68>\u001b[0m in \u001b[0;36m<module>\u001b[1;34m\u001b[0m\n\u001b[0;32m      1\u001b[0m \u001b[0miteration\u001b[0m \u001b[1;33m=\u001b[0m \u001b[1;36m0\u001b[0m\u001b[1;33m\u001b[0m\u001b[1;33m\u001b[0m\u001b[0m\n\u001b[0;32m      2\u001b[0m \u001b[0mname\u001b[0m \u001b[1;33m=\u001b[0m \u001b[1;34m\"AES-128_Flash\"\u001b[0m\u001b[1;33m\u001b[0m\u001b[1;33m\u001b[0m\u001b[0m\n\u001b[1;32m----> 3\u001b[1;33m \u001b[0mdata\u001b[0m \u001b[1;33m=\u001b[0m \u001b[0mpickle\u001b[0m\u001b[1;33m.\u001b[0m\u001b[0mload\u001b[0m\u001b[1;33m(\u001b[0m\u001b[0mopen\u001b[0m\u001b[1;33m(\u001b[0m\u001b[0mpath\u001b[0m\u001b[1;33m.\u001b[0m\u001b[0mjoin\u001b[0m\u001b[1;33m(\u001b[0m\u001b[0mpath\u001b[0m\u001b[1;33m.\u001b[0m\u001b[0mpardir\u001b[0m\u001b[1;33m,\u001b[0m \u001b[0mpath\u001b[0m\u001b[1;33m.\u001b[0m\u001b[0mpardir\u001b[0m\u001b[1;33m,\u001b[0m \u001b[1;34mf\"{name}_{iteration}.p\"\u001b[0m\u001b[1;33m)\u001b[0m\u001b[1;33m,\u001b[0m \u001b[1;34m\"rb\"\u001b[0m\u001b[1;33m)\u001b[0m\u001b[1;33m)\u001b[0m\u001b[1;33m\u001b[0m\u001b[1;33m\u001b[0m\u001b[0m\n\u001b[0m",
      "\u001b[1;31mFileNotFoundError\u001b[0m: [Errno 2] No such file or directory: '..\\\\..\\\\AES-128_Flash_0.p'"
     ]
    }
   ],
   "source": [
    "iteration = 0\n",
    "name = \"AES-128_Flash\"\n",
    "data = pickle.load(open(path.join(path.pardir, path.pardir, f\"{name}_{iteration}.p\"), \"rb\"))"
   ]
  },
  {
   "cell_type": "markdown",
   "metadata": {},
   "source": [
    "## Analysis"
   ]
  },
  {
   "cell_type": "markdown",
   "metadata": {},
   "source": [
    "Create Stop Function to stop parsing the data when all pins are high."
   ]
  },
  {
   "cell_type": "code",
   "execution_count": 17,
   "metadata": {},
   "outputs": [],
   "source": [
    "def stop_function(pin_values):\n",
    "    return all(pin_values)"
   ]
  },
  {
   "cell_type": "markdown",
   "metadata": {},
   "source": [
    "Parse the data."
   ]
  },
  {
   "cell_type": "code",
   "execution_count": 18,
   "metadata": {},
   "outputs": [],
   "source": [
    "aes_charge, aes_time = power_and_time_per_pulse(data, 2, stop_function=stop_function)"
   ]
  },
  {
   "cell_type": "code",
   "execution_count": 19,
   "metadata": {},
   "outputs": [],
   "source": [
    "flash_charge, flash_time = power_and_time_per_pulse(data, 3, stop_function=stop_function)"
   ]
  },
  {
   "cell_type": "code",
   "execution_count": 20,
   "metadata": {},
   "outputs": [
    {
     "name": "stdout",
     "output_type": "stream",
     "text": [
      "750 750 750 750\n"
     ]
    }
   ],
   "source": [
    "print(len(aes_charge), len(aes_time), len(flash_charge), len(flash_time))\n",
    "# cutoff = min(len(aes_charge), len(aes_time), len(flash_charge), len(flash_time))\n",
    "# aes_charge = aes_charge[:cutoff]\n",
    "# aes_time = aes_time[:cutoff]\n",
    "# flash_charge = flash_charge[:cutoff]\n",
    "# flash_time = flash_time[:cutoff]"
   ]
  },
  {
   "cell_type": "code",
   "execution_count": 21,
   "metadata": {},
   "outputs": [],
   "source": [
    "# length = len(aes_charge)\n",
    "# assert length == len(aes_time)\n",
    "# assert length == len(flash_charge)\n",
    "# assert length == len(flash_time)\n",
    "# print(length)"
   ]
  },
  {
   "cell_type": "code",
   "execution_count": 22,
   "metadata": {},
   "outputs": [],
   "source": [
    "aes_encrypt_charge = aes_charge[0::2]\n",
    "aes_decrypt_charge = aes_charge[1::2]\n",
    "aes_encrypt_time = aes_time[0::2]\n",
    "aes_decrypt_time = aes_time[1::2]"
   ]
  },
  {
   "cell_type": "code",
   "execution_count": 23,
   "metadata": {},
   "outputs": [],
   "source": [
    "aes_flash_write_charge = flash_charge[0::2]\n",
    "aes_flash_read_charge = flash_charge[1::2]\n",
    "aes_flash_write_time = flash_time[0::2]\n",
    "aes_flash_read_time = flash_time[1::2]"
   ]
  },
  {
   "cell_type": "code",
   "execution_count": 24,
   "metadata": {},
   "outputs": [
    {
     "data": {
      "text/plain": [
       "(375, 375, 375, 375, 375, 375, 375, 375)"
      ]
     },
     "execution_count": 24,
     "metadata": {},
     "output_type": "execute_result"
    }
   ],
   "source": [
    "len(aes_encrypt_charge), len(aes_decrypt_charge), len(aes_encrypt_time), len(aes_decrypt_time), len(aes_flash_write_charge), len(aes_flash_read_charge), len(aes_flash_write_time), len(aes_flash_read_time)"
   ]
  },
  {
   "cell_type": "code",
   "execution_count": 25,
   "metadata": {},
   "outputs": [],
   "source": [
    "drop = 0\n",
    "cutoff = min(len(aes_encrypt_charge), len(aes_decrypt_charge), len(aes_encrypt_time), len(aes_decrypt_time), len(aes_flash_write_charge), len(aes_flash_read_charge), len(aes_flash_write_time), len(aes_flash_read_time)) - drop\n",
    "aes_encrypt_charge = aes_encrypt_charge[:cutoff]\n",
    "aes_decrypt_charge = aes_decrypt_charge[:cutoff]\n",
    "aes_encrypt_time = aes_encrypt_time[:cutoff]\n",
    "aes_decrypt_time = aes_decrypt_time[:cutoff]\n",
    "aes_flash_write_charge = aes_flash_write_charge[:cutoff]\n",
    "aes_flash_read_charge = aes_flash_read_charge[:cutoff]\n",
    "aes_flash_write_time = aes_flash_write_time[:cutoff]\n",
    "aes_flash_read_time = aes_flash_read_time[:cutoff]"
   ]
  },
  {
   "cell_type": "code",
   "execution_count": 26,
   "metadata": {},
   "outputs": [
    {
     "name": "stdout",
     "output_type": "stream",
     "text": [
      "375\n"
     ]
    }
   ],
   "source": [
    "length = len(aes_encrypt_charge)\n",
    "assert length == len(aes_decrypt_charge)\n",
    "assert length == len(aes_encrypt_time)\n",
    "assert length == len(aes_decrypt_time)\n",
    "assert length == len(aes_flash_write_charge)\n",
    "assert length == len(aes_flash_read_charge)\n",
    "assert length == len(aes_flash_write_time)\n",
    "assert length == len(aes_flash_read_time)\n",
    "print(length)"
   ]
  },
  {
   "cell_type": "markdown",
   "metadata": {},
   "source": [
    "# Convert to Joule"
   ]
  },
  {
   "cell_type": "code",
   "execution_count": 27,
   "metadata": {},
   "outputs": [],
   "source": [
    "voltage = 3.33\n",
    "j_scale = 1e3 # m\n",
    "t_scale = 1e3 # m\n",
    "model_j_scale = 1e6 # n\n",
    "model_t_scale = 1e3 # u\n",
    "\n",
    "experiment_name = 'AES-256'"
   ]
  },
  {
   "cell_type": "code",
   "execution_count": 28,
   "metadata": {},
   "outputs": [],
   "source": [
    "aes_encrypt_energy = aes_encrypt_charge[:cutoff]\n",
    "aes_flash_write_energy = aes_flash_write_charge[:cutoff]\n",
    "aes_flash_read_energy = aes_flash_read_charge[:cutoff]\n",
    "aes_decrypt_energy = aes_decrypt_charge[:cutoff]\n",
    "aes_encrypt_time_s = aes_encrypt_time[:cutoff]\n",
    "aes_flash_write_time_s = aes_flash_write_time[:cutoff]\n",
    "aes_flash_read_time_s = aes_flash_read_time[:cutoff]\n",
    "aes_decrypt_time_s = aes_decrypt_time[:cutoff]\n",
    "\n",
    "for i in range(len(aes_encrypt_energy)):\n",
    "    aes_encrypt_energy[i] = aes_encrypt_energy[i] * voltage * j_scale\n",
    "for i in range(len(aes_flash_write_energy)):\n",
    "    aes_flash_write_energy[i] = aes_flash_write_energy[i] * voltage * j_scale\n",
    "for i in range(len(aes_flash_read_energy)):\n",
    "    aes_flash_read_energy[i] = aes_flash_read_energy[i] * voltage * j_scale\n",
    "for i in range(len(aes_decrypt_energy)):\n",
    "    aes_decrypt_energy[i] = aes_decrypt_energy[i] * voltage * j_scale\n",
    "    \n",
    "for i in range(len(aes_encrypt_time_s)):\n",
    "    aes_encrypt_time_s[i] = aes_encrypt_time_s[i] * t_scale\n",
    "for i in range(len(aes_flash_write_time_s)):\n",
    "    aes_flash_write_time_s[i] = aes_flash_write_time_s[i] * t_scale\n",
    "for i in range(len(aes_flash_read_time_s)):\n",
    "    aes_flash_read_time_s[i] = aes_flash_read_time_s[i] * t_scale\n",
    "for i in range(len(aes_decrypt_time_s)):\n",
    "    aes_decrypt_time_s[i] = aes_decrypt_time_s[i] * t_scale"
   ]
  },
  {
   "cell_type": "code",
   "execution_count": 29,
   "metadata": {},
   "outputs": [
    {
     "name": "stdout",
     "output_type": "stream",
     "text": [
      "MAX_NUM_BYTES: 6000\n"
     ]
    }
   ],
   "source": [
    "MBEDTLS_AES_BLOCK_SIZE = 16\n",
    "STEP_SIZE = MBEDTLS_AES_BLOCK_SIZE\n",
    "MIN_NUM_BYTES = STEP_SIZE\n",
    "num_bytes = range(MIN_NUM_BYTES, MIN_NUM_BYTES + STEP_SIZE * len(aes_encrypt_energy), STEP_SIZE)\n",
    "print(f\"MAX_NUM_BYTES: {num_bytes[-1]}\")"
   ]
  },
  {
   "cell_type": "code",
   "execution_count": 30,
   "metadata": {},
   "outputs": [],
   "source": [
    "from lmfit import Model\n",
    "\n",
    "def line(x, slope, intercept):\n",
    "    \"\"\"a line\"\"\"\n",
    "    return [slope*i + intercept for i in x]\n",
    "\n",
    "mod = Model(line)\n",
    "pars = mod.make_params(slope=0, intercept=1)\n",
    "# pars['intercept'].set(min=0)"
   ]
  },
  {
   "cell_type": "code",
   "execution_count": 31,
   "metadata": {},
   "outputs": [
    {
     "name": "stdout",
     "output_type": "stream",
     "text": [
      "[[Model]]\n",
      "    Model(line)\n",
      "[[Fit Statistics]]\n",
      "    # fitting method   = leastsq\n",
      "    # function evals   = 6\n",
      "    # data points      = 375\n",
      "    # variables        = 2\n",
      "    chi-square         = 6.4074e-05\n",
      "    reduced chi-square = 1.7178e-07\n",
      "    Akaike info crit   = -5839.39797\n",
      "    Bayesian info crit = -5831.54412\n",
      "[[Variables]]\n",
      "    slope:     -1.6360e-08 +/- 1.2357e-08 (75.53%) (init = 0)\n",
      "    intercept:  0.01123508 +/- 4.2891e-05 (0.38%) (init = 1)\n",
      "[[Correlations]] (unreported correlations are < 0.100)\n",
      "    C(slope, intercept) = -0.867\n",
      "[[Model]]\n",
      "    Model(line)\n",
      "[[Fit Statistics]]\n",
      "    # fitting method   = leastsq\n",
      "    # function evals   = 6\n",
      "    # data points      = 375\n",
      "    # variables        = 2\n",
      "    chi-square         = 0.04347729\n",
      "    reduced chi-square = 1.1656e-04\n",
      "    Akaike info crit   = -3394.41599\n",
      "    Bayesian info crit = -3386.56214\n",
      "[[Variables]]\n",
      "    slope:      2.0591e-04 +/- 3.2189e-07 (0.16%) (init = 0)\n",
      "    intercept:  0.02454822 +/- 0.00111728 (4.55%) (init = 1)\n",
      "[[Correlations]] (unreported correlations are < 0.100)\n",
      "    C(slope, intercept) = -0.867\n",
      "[[Model]]\n",
      "    Model(line)\n",
      "[[Fit Statistics]]\n",
      "    # fitting method   = leastsq\n",
      "    # function evals   = 7\n",
      "    # data points      = 375\n",
      "    # variables        = 2\n",
      "    chi-square         = 4.1485e-05\n",
      "    reduced chi-square = 1.1122e-07\n",
      "    Akaike info crit   = -6002.41439\n",
      "    Bayesian info crit = -5994.56054\n",
      "[[Variables]]\n",
      "    slope:      2.7095e-05 +/- 9.9429e-09 (0.04%) (init = 0)\n",
      "    intercept:  5.8013e-05 +/- 3.4512e-05 (59.49%) (init = 1)\n",
      "[[Correlations]] (unreported correlations are < 0.100)\n",
      "    C(slope, intercept) = -0.867\n",
      "[[Model]]\n",
      "    Model(line)\n",
      "[[Fit Statistics]]\n",
      "    # fitting method   = leastsq\n",
      "    # function evals   = 6\n",
      "    # data points      = 375\n",
      "    # variables        = 2\n",
      "    chi-square         = 4.1790e-05\n",
      "    reduced chi-square = 1.1204e-07\n",
      "    Akaike info crit   = -5999.67178\n",
      "    Bayesian info crit = -5991.81793\n",
      "[[Variables]]\n",
      "    slope:     -1.5153e-08 +/- 9.9794e-09 (65.86%) (init = 0)\n",
      "    intercept:  0.01100361 +/- 3.4639e-05 (0.31%) (init = 1)\n",
      "[[Correlations]] (unreported correlations are < 0.100)\n",
      "    C(slope, intercept) = -0.867\n",
      "[[Model]]\n",
      "    Model(line)\n",
      "[[Fit Statistics]]\n",
      "    # fitting method   = leastsq\n",
      "    # function evals   = 6\n",
      "    # data points      = 375\n",
      "    # variables        = 2\n",
      "    chi-square         = 0.40302265\n",
      "    reduced chi-square = 0.00108049\n",
      "    Akaike info crit   = -2559.38320\n",
      "    Bayesian info crit = -2551.52935\n",
      "[[Variables]]\n",
      "    slope:     -1.4025e-06 +/- 9.8002e-07 (69.88%) (init = 0)\n",
      "    intercept:  0.89231476 +/- 0.00340168 (0.38%) (init = 1)\n",
      "[[Correlations]] (unreported correlations are < 0.100)\n",
      "    C(slope, intercept) = -0.867\n",
      "[[Model]]\n",
      "    Model(line)\n",
      "[[Fit Statistics]]\n",
      "    # fitting method   = leastsq\n",
      "    # function evals   = 6\n",
      "    # data points      = 375\n",
      "    # variables        = 2\n",
      "    chi-square         = 125.127314\n",
      "    reduced chi-square = 0.33546197\n",
      "    Akaike info crit   = -407.597861\n",
      "    Bayesian info crit = -399.744009\n",
      "[[Variables]]\n",
      "    slope:      0.01149724 +/- 1.7268e-05 (0.15%) (init = 0)\n",
      "    intercept:  1.57029101 +/- 0.05993840 (3.82%) (init = 1)\n",
      "[[Correlations]] (unreported correlations are < 0.100)\n",
      "    C(slope, intercept) = -0.867\n",
      "[[Model]]\n",
      "    Model(line)\n",
      "[[Fit Statistics]]\n",
      "    # fitting method   = leastsq\n",
      "    # function evals   = 6\n",
      "    # data points      = 375\n",
      "    # variables        = 2\n",
      "    chi-square         = 0.25668219\n",
      "    reduced chi-square = 6.8816e-04\n",
      "    Akaike info crit   = -2728.56597\n",
      "    Bayesian info crit = -2720.71212\n",
      "[[Variables]]\n",
      "    slope:      0.00212504 +/- 7.8211e-07 (0.04%) (init = 0)\n",
      "    intercept:  0.01619646 +/- 0.00271473 (16.76%) (init = 1)\n",
      "[[Correlations]] (unreported correlations are < 0.100)\n",
      "    C(slope, intercept) = -0.867\n",
      "[[Model]]\n",
      "    Model(line)\n",
      "[[Fit Statistics]]\n",
      "    # fitting method   = leastsq\n",
      "    # function evals   = 6\n",
      "    # data points      = 375\n",
      "    # variables        = 2\n",
      "    chi-square         = 0.26456099\n",
      "    reduced chi-square = 7.0928e-04\n",
      "    Akaike info crit   = -2717.22855\n",
      "    Bayesian info crit = -2709.37470\n",
      "[[Variables]]\n",
      "    slope:     -1.3265e-06 +/- 7.9402e-07 (59.86%) (init = 0)\n",
      "    intercept:  0.87554253 +/- 0.00275608 (0.31%) (init = 1)\n",
      "[[Correlations]] (unreported correlations are < 0.100)\n",
      "    C(slope, intercept) = -0.867\n",
      "[[Model]]\n",
      "    Model(line)\n",
      "[[Fit Statistics]]\n",
      "    # fitting method   = leastsq\n",
      "    # function evals   = 6\n",
      "    # data points      = 375\n",
      "    # variables        = 2\n",
      "    chi-square         = 0.04372802\n",
      "    reduced chi-square = 1.1723e-04\n",
      "    Akaike info crit   = -3392.25957\n",
      "    Bayesian info crit = -3384.40572\n",
      "[[Variables]]\n",
      "    slope:      2.3297e-04 +/- 3.2281e-07 (0.14%) (init = 0)\n",
      "    intercept:  0.04684493 +/- 0.00112049 (2.39%) (init = 1)\n",
      "[[Correlations]] (unreported correlations are < 0.100)\n",
      "    C(slope, intercept) = -0.867\n",
      "[[Model]]\n",
      "    Model(line)\n",
      "[[Fit Statistics]]\n",
      "    # fitting method   = leastsq\n",
      "    # function evals   = 6\n",
      "    # data points      = 375\n",
      "    # variables        = 2\n",
      "    chi-square         = 126.912753\n",
      "    reduced chi-square = 0.34024867\n",
      "    Akaike info crit   = -402.284811\n",
      "    Bayesian info crit = -394.430959\n",
      "[[Variables]]\n",
      "    slope:      0.01361955 +/- 1.7391e-05 (0.13%) (init = 0)\n",
      "    intercept:  3.35434477 +/- 0.06036452 (1.80%) (init = 1)\n",
      "[[Correlations]] (unreported correlations are < 0.100)\n",
      "    C(slope, intercept) = -0.867\n"
     ]
    }
   ],
   "source": [
    "results = []\n",
    "ylabels = (['Energy [mJ]'] * 2 + ['Time [ms]'] * 2) * 2 + ['Energy [mJ]'] + ['Time [ms]']\n",
    "parameter_names = [\n",
    "    'Encrypt Energy',\n",
    "    'Flash Write Energy',\n",
    "    'Flash Read Energy',\n",
    "    'Decrypt Energy',\n",
    "    'Encrypt Time',\n",
    "    'Flash Write Time',\n",
    "    'Flash Read Time',\n",
    "    'Decrypt Time',\n",
    "    'Total Energy',\n",
    "    'Total Time',\n",
    "]\n",
    "for y in [aes_encrypt_energy, aes_flash_write_energy, aes_flash_read_energy, aes_decrypt_energy, aes_encrypt_time_s, aes_flash_write_time_s, aes_flash_read_time_s, aes_decrypt_time_s,\n",
    "          [e + w + r + d for (e,w,r,d) in zip(aes_encrypt_energy, aes_flash_write_energy, aes_flash_read_energy, aes_decrypt_energy)],\n",
    "          [e + w + r + d for (e,w,r,d) in zip(aes_encrypt_time_s, aes_flash_write_time_s, aes_flash_read_time_s, aes_decrypt_time_s)]]:\n",
    "    result = mod.fit(y, pars, x=num_bytes)\n",
    "    print(result.fit_report())\n",
    "    fig, grid = result.plot(\n",
    "        xlabel='Checkpoint Size [Bytes]',\n",
    "        ylabel=ylabels[len(results)])\n",
    "    fig.tight_layout(rect=(0.05, 0.05, 1, 1))\n",
    "    fig.set_size_inches(5, 4.5, forward=True)\n",
    "    fig.canvas.set_window_title(\n",
    "        f\"Residuals of {experiment_name} {parameter_names[len(results)]}\")\n",
    "    fig.show()\n",
    "    results.append(result)"
   ]
  },
  {
   "cell_type": "code",
   "execution_count": 32,
   "metadata": {},
   "outputs": [],
   "source": [
    "fig2 = plt.figure(figsize=(8, 6))\n",
    "fig2.canvas.set_window_title(f\"Analysis {experiment_name}\")"
   ]
  },
  {
   "cell_type": "code",
   "execution_count": 33,
   "metadata": {},
   "outputs": [],
   "source": [
    "charge_color = 'r'\n",
    "time_color = 'b'"
   ]
  },
  {
   "cell_type": "code",
   "execution_count": 34,
   "metadata": {},
   "outputs": [],
   "source": [
    "fig2.clf()\n",
    "# fig2.suptitle(\"Energy analysis of AES\")\n",
    "ax1 = fig2.add_subplot(1, 1, 1)\n",
    "ax2 = ax1.twinx()\n",
    "ax1.set_xlabel('Checkpoint Size [Bytes]')\n",
    "ax1.set_ylabel('Energy [mJ]', color=charge_color)\n",
    "ax2.set_ylabel('Time [ms]', color=time_color)\n",
    "ax1.tick_params('y', colors=charge_color)\n",
    "ax2.tick_params('y', colors=time_color)"
   ]
  },
  {
   "cell_type": "code",
   "execution_count": 35,
   "metadata": {},
   "outputs": [],
   "source": [
    "lines = []\n",
    "lines += ax1.plot(num_bytes, aes_encrypt_energy, charge_color+'-', label=f'{parameter_names[len(lines)]}')\n",
    "lines += ax1.plot(num_bytes, aes_flash_write_energy, charge_color+'-.', label=f'{parameter_names[len(lines)]}')\n",
    "lines += ax1.plot(num_bytes, aes_flash_read_energy, charge_color+':', label=f'{parameter_names[len(lines)]}')\n",
    "lines += ax1.plot(num_bytes, aes_decrypt_energy, charge_color+'--', label=f'{parameter_names[len(lines)]}')\n",
    "lines += ax2.plot(num_bytes, aes_encrypt_time_s, time_color+'-', label=f'{parameter_names[len(lines)]}')\n",
    "lines += ax2.plot(num_bytes, aes_flash_write_time_s, time_color+'-.', label=f'{parameter_names[len(lines)]}')\n",
    "lines += ax2.plot(num_bytes, aes_flash_read_time_s, time_color+':', label=f'{parameter_names[len(lines)]}')\n",
    "lines += ax2.plot(num_bytes, aes_decrypt_time_s, time_color+'--', label=f'{parameter_names[len(lines)]}')\n",
    "ax1.legend(handles=lines)\n",
    "ax1.set_title(\n",
    "    f\"{parameter_names[0]}: Slope {results[0].params['slope'].value * model_j_scale:.04} nJ/B, Intercept {results[0].params['intercept'].value * model_j_scale:.04} nJ\\n\" +\n",
    "    f\"{parameter_names[1]}: Slope {results[1].params['slope'].value * model_j_scale:.04} nJ/B, Intercept {results[1].params['intercept'].value * model_j_scale:.04} nJ\\n\" +\n",
    "    f\"{parameter_names[2]}: Slope {results[2].params['slope'].value * model_j_scale:.04} nJ/B, Intercept {results[2].params['intercept'].value * model_j_scale:.04} nJ\\n\" +\n",
    "    f\"{parameter_names[3]}: Slope {results[3].params['slope'].value * model_j_scale:.04} nJ/B, Intercept {results[3].params['intercept'].value * model_j_scale:.04} nJ\\n\" +\n",
    "    f\"{parameter_names[4]}: Slope {results[4].params['slope'].value * model_t_scale:.04} $\\mu$s/B, Intercept {results[4].params['intercept'].value * model_t_scale:.04} $\\mu$s\\n\" +\n",
    "    f\"{parameter_names[5]}: Slope {results[5].params['slope'].value * model_t_scale:.04} $\\mu$s/B, Intercept {results[5].params['intercept'].value * model_t_scale:.04} $\\mu$s\\n\" +\n",
    "    f\"{parameter_names[6]}: Slope {results[6].params['slope'].value * model_t_scale:.04} $\\mu$s/B, Intercept {results[6].params['intercept'].value * model_t_scale:.04} $\\mu$s\\n\" +\n",
    "    f\"{parameter_names[7]}: Slope {results[7].params['slope'].value * model_t_scale:.04} $\\mu$s/B, Intercept {results[7].params['intercept'].value * model_t_scale:.04} $\\mu$s\\n\" +\n",
    "    f\"{parameter_names[8]}: Slope {results[8].params['slope'].value * model_j_scale:.04} nJ/B, Intercept {results[8].params['intercept'].value * model_j_scale:.04} nJ\\n\" +\n",
    "    f\"{parameter_names[9]}: Slope {results[9].params['slope'].value * model_t_scale:.04} $\\mu$s/B, Intercept {results[9].params['intercept'].value * model_t_scale:.04} $\\mu$s\\n\")\n",
    "fig2.tight_layout()\n",
    "fig2.show()"
   ]
  },
  {
   "cell_type": "code",
   "execution_count": 36,
   "metadata": {},
   "outputs": [
    {
     "name": "stdout",
     "output_type": "stream",
     "text": [
      "Encrypt Energy: Slope -0.016359892873513744854 nJ/B, Intercept 11235.080456387102458 nJ\n",
      "Flash Write Energy: Slope 205.90599958088711219 nJ/B, Intercept 24548.223573444662179 nJ\n",
      "Flash Read Energy: Slope 27.094695762093355285 nJ/B, Intercept 58.012682910169033335 nJ\n",
      "Decrypt Energy: Slope -0.015153390858372016783 nJ/B, Intercept 11003.609029250794265 nJ\n",
      "Encrypt Time: Slope -0.0014025012629061564887 $\\mu$s/B, Intercept 892.31476077640672884 $\\mu$s\n",
      "Flash Write Time: Slope 11.497242953102801977 $\\mu$s/B, Intercept 1570.2910097656936159 $\\mu$s\n",
      "Flash Read Time: Slope 2.1250410206971364069 $\\mu$s/B, Intercept 16.196463265817918398 $\\mu$s\n",
      "Decrypt Time: Slope -0.0013265147494823919389 $\\mu$s/B, Intercept 875.54253183286868989 $\\mu$s\n",
      "Total Energy: Slope 232.96918205924714584 nJ/B, Intercept 46844.925748542373185 nJ\n",
      "Total Time: Slope 13.619554957787546101 $\\mu$s/B, Intercept 3354.3447656473363168 $\\mu$s\n",
      "\n"
     ]
    }
   ],
   "source": [
    "print(\n",
    "    f\"{parameter_names[0]}: Slope {results[0].params['slope'].value * model_j_scale:.020} nJ/B, Intercept {results[0].params['intercept'].value * model_j_scale:.020} nJ\\n\" +\n",
    "    f\"{parameter_names[1]}: Slope {results[1].params['slope'].value * model_j_scale:.020} nJ/B, Intercept {results[1].params['intercept'].value * model_j_scale:.020} nJ\\n\" +\n",
    "    f\"{parameter_names[2]}: Slope {results[2].params['slope'].value * model_j_scale:.020} nJ/B, Intercept {results[2].params['intercept'].value * model_j_scale:.020} nJ\\n\" +\n",
    "    f\"{parameter_names[3]}: Slope {results[3].params['slope'].value * model_j_scale:.020} nJ/B, Intercept {results[3].params['intercept'].value * model_j_scale:.020} nJ\\n\" +\n",
    "    f\"{parameter_names[4]}: Slope {results[4].params['slope'].value * model_t_scale:.020} $\\mu$s/B, Intercept {results[4].params['intercept'].value * model_t_scale:.020} $\\mu$s\\n\" +\n",
    "    f\"{parameter_names[5]}: Slope {results[5].params['slope'].value * model_t_scale:.020} $\\mu$s/B, Intercept {results[5].params['intercept'].value * model_t_scale:.020} $\\mu$s\\n\" +\n",
    "    f\"{parameter_names[6]}: Slope {results[6].params['slope'].value * model_t_scale:.020} $\\mu$s/B, Intercept {results[6].params['intercept'].value * model_t_scale:.020} $\\mu$s\\n\" +\n",
    "    f\"{parameter_names[7]}: Slope {results[7].params['slope'].value * model_t_scale:.020} $\\mu$s/B, Intercept {results[7].params['intercept'].value * model_t_scale:.020} $\\mu$s\\n\" +\n",
    "    f\"{parameter_names[8]}: Slope {results[8].params['slope'].value * model_j_scale:.020} nJ/B, Intercept {results[8].params['intercept'].value * model_j_scale:.020} nJ\\n\" +\n",
    "    f\"{parameter_names[9]}: Slope {results[9].params['slope'].value * model_t_scale:.020} $\\mu$s/B, Intercept {results[9].params['intercept'].value * model_t_scale:.020} $\\mu$s\\n\"\n",
    ")"
   ]
  },
  {
   "cell_type": "code",
   "execution_count": 37,
   "metadata": {},
   "outputs": [],
   "source": [
    "# Save Charge amount list into pickle file\n",
    "import pickle\n",
    "pickle.dump(aes_encrypt_energy, open(\"aes_flash_encrypt_energy_mJ.p\", \"wb\"))\n",
    "pickle.dump(aes_decrypt_energy, open(\"aes_flash_decrypt_energy_mJ.p\", \"wb\"))\n",
    "pickle.dump(aes_flash_write_energy, open(\"aes_flash_write_energy_mJ.p\", \"wb\"))\n",
    "pickle.dump(aes_flash_read_energy, open(\"aes_flash_read_energy_mJ.p\", \"wb\"))\n",
    "pickle.dump(aes_encrypt_time_s, open(\"aes_flash_encrypt_time_ms.p\", \"wb\"))\n",
    "pickle.dump(aes_decrypt_time_s, open(\"aes_flash_decrypt_time_ms.p\", \"wb\"))\n",
    "pickle.dump(aes_flash_write_time_s, open(\"aes_flash_write_time_ms.p\", \"wb\"))\n",
    "pickle.dump(aes_flash_read_time_s, open(\"aes_flash_read_time_ms.p\", \"wb\"))"
   ]
  },
  {
   "cell_type": "code",
   "execution_count": 38,
   "metadata": {},
   "outputs": [
    {
     "name": "stdout",
     "output_type": "stream",
     "text": [
      "375 6000\n",
      "375 6000\n",
      "375 6000\n",
      "375 6000\n",
      "375 6000\n",
      "375 6000\n",
      "375 6000\n",
      "375 6000\n"
     ]
    }
   ],
   "source": [
    "aes = [aes_encrypt_energy, aes_flash_write_energy, aes_flash_read_energy, aes_decrypt_energy, aes_encrypt_time_s, aes_flash_write_time_s, aes_flash_read_time_s, aes_decrypt_time_s]\n",
    "for i in aes:\n",
    "    print(len(i), len(i)*16)"
   ]
  },
  {
   "cell_type": "markdown",
   "metadata": {},
   "source": [
    "## Write config file"
   ]
  },
  {
   "cell_type": "code",
   "execution_count": 39,
   "metadata": {},
   "outputs": [],
   "source": [
    "import json\n",
    "\n",
    "config = {}\n",
    "config[\"name\"] = \"AES-128 Flash\"\n",
    "config[\"project_paths\"] = [project_path]\n",
    "config[\"config_dict\"] = config_dict\n",
    "config[\"config_dict_plot\"] = config_dict_plot\n",
    "config[\"analysis\"] = {\"pins\":{2: [\"AES-128 Encrypt\", \"AES-128 Decrypt\"], 3: [\"AES-128 Flash Write\", \"AES-128 Flash Read\"]}, \n",
    "                      \"result_types\": [\"Charge\", \"Time\"],\n",
    "                      \"section_types\": {\"init\": [], \n",
    "                                        \"store\": [\"AES-128 Encrypt\", \"AES-128 Flash Write\"],\n",
    "                                        \"load\": [\"AES-128 Flash Read\", \"AES-128 Decrypt\"],\n",
    "                                        \"exit\": []},\n",
    "                      \"labels\": {\n",
    "                          \"Charge\": {\"x\":\"Data Size\", \"x_unit\": \"byte\", \"y\": \"Charge\", \"y_unit\": \"C\"},\n",
    "                          \"Time\": {\"x\":\"Data Size\", \"x_unit\": \"byte\", \"y\": \"Time\", \"y_unit\": \"s\"},\n",
    "                      },\n",
    "                      \"x_step\": MBEDTLS_AES_BLOCK_SIZE}\n",
    "\n",
    "with open(\"looped_experiment.json\", 'w') as config_file:  \n",
    "    json.dump(config, config_file, indent=4)"
   ]
  },
  {
   "cell_type": "markdown",
   "metadata": {},
   "source": [
    "# Write model data"
   ]
  },
  {
   "cell_type": "code",
   "execution_count": 40,
   "metadata": {},
   "outputs": [],
   "source": [
    "dump_pickle = True\n",
    "fit_lm = True\n",
    "verbose = 2\n",
    "show_lm_plot = 2\n",
    "# drop = 1"
   ]
  },
  {
   "cell_type": "code",
   "execution_count": 41,
   "metadata": {},
   "outputs": [],
   "source": [
    "# Parse data\n",
    "analysis_config = config.get(\"analysis\")\n",
    "result_types = analysis_config.get(\"result_types\")\n",
    "x_step = analysis_config.get(\"x_step\")\n",
    "parsed_data = {}\n",
    "for pin, parameter_names in analysis_config.get(\"pins\").items():\n",
    "    data2 = power_and_time_per_pulse(\n",
    "        data, int(pin), stop_function=stop_function)\n",
    "    num_names = len(parameter_names)\n",
    "    for i, parameter_name in enumerate(parameter_names):\n",
    "        end_index = -drop * num_names or None\n",
    "        parsed_data[parameter_name] = {\n",
    "            result_types[0]: data2[0][i:end_index:num_names],\n",
    "            result_types[1]: data2[1][i:end_index:num_names],\n",
    "            \"x_step\": x_step}\n",
    "if dump_pickle:\n",
    "    pickle.dump(parsed_data, open(\n",
    "        path.join(path.curdir,\n",
    "                  f\"{config_dict.get('file_name_base')}_looped.p\"), \"wb\"))"
   ]
  },
  {
   "cell_type": "code",
   "execution_count": 42,
   "metadata": {},
   "outputs": [
    {
     "name": "stdout",
     "output_type": "stream",
     "text": [
      "Fitting model to AES-128 Encrypt with 375 samples, from 16 to 6000 bytes in steps of 16.\n",
      "[[Model]]\n",
      "    Model(line)\n",
      "[[Fit Statistics]]\n",
      "    # fitting method   = leastsq\n",
      "    # function evals   = 9\n",
      "    # data points      = 375\n",
      "    # variables        = 2\n",
      "    chi-square         = 5.7782e-12\n",
      "    reduced chi-square = 1.5491e-14\n",
      "    Akaike info crit   = -11922.4437\n",
      "    Bayesian info crit = -11914.5898\n",
      "[[Variables]]\n",
      "    intercept:  3.3739e-06 +/- 1.2880e-08 (0.38%) (init = 0)\n",
      "    slope:     -4.9129e-12 +/- 3.7108e-12 (75.53%) (init = 1)\n",
      "[[Correlations]] (unreported correlations are < 0.100)\n",
      "    C(intercept, slope) = -0.867\n",
      "[[Model]]\n",
      "    Model(line)\n",
      "[[Fit Statistics]]\n",
      "    # fitting method   = leastsq\n",
      "    # function evals   = 7\n",
      "    # data points      = 375\n",
      "    # variables        = 2\n",
      "    chi-square         = 4.0302e-07\n",
      "    reduced chi-square = 1.0805e-09\n",
      "    Akaike info crit   = -7740.19966\n",
      "    Bayesian info crit = -7732.34581\n",
      "[[Variables]]\n",
      "    intercept:  8.9231e-04 +/- 3.4017e-06 (0.38%) (init = 0)\n",
      "    slope:     -1.4025e-09 +/- 9.8002e-10 (69.88%) (init = 1)\n",
      "[[Correlations]] (unreported correlations are < 0.100)\n",
      "    C(intercept, slope) = -0.867\n",
      "Fitting model to AES-128 Decrypt with 375 samples, from 16 to 6000 bytes in steps of 16.\n",
      "[[Model]]\n",
      "    Model(line)\n",
      "[[Fit Statistics]]\n",
      "    # fitting method   = leastsq\n",
      "    # function evals   = 9\n",
      "    # data points      = 375\n",
      "    # variables        = 2\n",
      "    chi-square         = 3.7686e-12\n",
      "    reduced chi-square = 1.0103e-14\n",
      "    Akaike info crit   = -12082.7175\n",
      "    Bayesian info crit = -12074.8636\n",
      "[[Variables]]\n",
      "    intercept:  3.3044e-06 +/- 1.0402e-08 (0.31%) (init = 0)\n",
      "    slope:     -4.5506e-12 +/- 2.9968e-12 (65.86%) (init = 1)\n",
      "[[Correlations]] (unreported correlations are < 0.100)\n",
      "    C(intercept, slope) = -0.867\n",
      "[[Model]]\n",
      "    Model(line)\n",
      "[[Fit Statistics]]\n",
      "    # fitting method   = leastsq\n",
      "    # function evals   = 7\n",
      "    # data points      = 375\n",
      "    # variables        = 2\n",
      "    chi-square         = 2.6456e-07\n",
      "    reduced chi-square = 7.0928e-10\n",
      "    Akaike info crit   = -7898.04501\n",
      "    Bayesian info crit = -7890.19116\n",
      "[[Variables]]\n",
      "    intercept:  8.7554e-04 +/- 2.7561e-06 (0.31%) (init = 0)\n",
      "    slope:     -1.3265e-09 +/- 7.9402e-10 (59.86%) (init = 1)\n",
      "[[Correlations]] (unreported correlations are < 0.100)\n",
      "    C(intercept, slope) = -0.867\n",
      "Fitting model to AES-128 Flash Write with 375 samples, from 16 to 6000 bytes in steps of 16.\n",
      "[[Model]]\n",
      "    Model(line)\n",
      "[[Fit Statistics]]\n",
      "    # fitting method   = leastsq\n",
      "    # function evals   = 9\n",
      "    # data points      = 375\n",
      "    # variables        = 2\n",
      "    chi-square         = 3.9208e-09\n",
      "    reduced chi-square = 1.0512e-11\n",
      "    Akaike info crit   = -9477.46168\n",
      "    Bayesian info crit = -9469.60783\n",
      "[[Variables]]\n",
      "    intercept:  7.3718e-06 +/- 3.3552e-07 (4.55%) (init = 0)\n",
      "    slope:      6.1834e-08 +/- 9.6662e-11 (0.16%) (init = 1)\n",
      "[[Correlations]] (unreported correlations are < 0.100)\n",
      "    C(intercept, slope) = -0.867\n",
      "[[Model]]\n",
      "    Model(line)\n",
      "[[Fit Statistics]]\n",
      "    # fitting method   = leastsq\n",
      "    # function evals   = 7\n",
      "    # data points      = 375\n",
      "    # variables        = 2\n",
      "    chi-square         = 1.2513e-04\n",
      "    reduced chi-square = 3.3546e-07\n",
      "    Akaike info crit   = -5588.41432\n",
      "    Bayesian info crit = -5580.56047\n",
      "[[Variables]]\n",
      "    intercept:  0.00157029 +/- 5.9938e-05 (3.82%) (init = 0)\n",
      "    slope:      1.1497e-05 +/- 1.7268e-08 (0.15%) (init = 1)\n",
      "[[Correlations]] (unreported correlations are < 0.100)\n",
      "    C(intercept, slope) = -0.867\n",
      "Fitting model to AES-128 Flash Read with 375 samples, from 16 to 6000 bytes in steps of 16.\n",
      "[[Model]]\n",
      "    Model(line)\n",
      "[[Fit Statistics]]\n",
      "    # fitting method   = leastsq\n",
      "    # function evals   = 10\n",
      "    # data points      = 375\n",
      "    # variables        = 2\n",
      "    chi-square         = 3.7411e-12\n",
      "    reduced chi-square = 1.0030e-14\n",
      "    Akaike info crit   = -12085.4601\n",
      "    Bayesian info crit = -12077.6062\n",
      "[[Variables]]\n",
      "    intercept:  1.7421e-08 +/- 1.0364e-08 (59.49%) (init = 0)\n",
      "    slope:      8.1365e-09 +/- 2.9859e-12 (0.04%) (init = 1)\n",
      "[[Correlations]] (unreported correlations are < 0.100)\n",
      "    C(intercept, slope) = -0.867\n",
      "[[Model]]\n",
      "    Model(line)\n",
      "[[Fit Statistics]]\n",
      "    # fitting method   = leastsq\n",
      "    # function evals   = 7\n",
      "    # data points      = 375\n",
      "    # variables        = 2\n",
      "    chi-square         = 2.5668e-07\n",
      "    reduced chi-square = 6.8816e-10\n",
      "    Akaike info crit   = -7909.38243\n",
      "    Bayesian info crit = -7901.52858\n",
      "[[Variables]]\n",
      "    intercept:  1.6196e-05 +/- 2.7147e-06 (16.76%) (init = 0)\n",
      "    slope:      2.1250e-06 +/- 7.8211e-10 (0.04%) (init = 1)\n",
      "[[Correlations]] (unreported correlations are < 0.100)\n",
      "    C(intercept, slope) = -0.867\n"
     ]
    }
   ],
   "source": [
    "# Fit lm\n",
    "if fit_lm:\n",
    "    model = None\n",
    "    if model is None:\n",
    "        def line(x, intercept, slope):\n",
    "            \"\"\"a line\"\"\"\n",
    "            return [intercept + slope*i for i in x]\n",
    "\n",
    "        model = Model(line)\n",
    "        params = model.make_params(intercept=0, slope=1)\n",
    "#         params['intercept'].set(min=0)\n",
    "    else:\n",
    "        params = model.params\n",
    "\n",
    "    model_results = {}\n",
    "    labels = analysis_config.get(\"labels\")\n",
    "    for parameter_name in parsed_data.keys():\n",
    "        length = len(parsed_data[parameter_name][result_types[0]])\n",
    "        x_step = parsed_data[parameter_name][\"x_step\"]\n",
    "        num_bytes = range(x_step, (length+1)*x_step, x_step)\n",
    "        if verbose:\n",
    "            print(\n",
    "                f\"Fitting model to {parameter_name} with {length} \" +\n",
    "                f\"samples, from {min(num_bytes)} to {max(num_bytes)} \"\n",
    "                f\"bytes in steps of {x_step}.\")\n",
    "        model_result = {}\n",
    "        for result_type in result_types:\n",
    "            model_result[result_type] = model.fit(\n",
    "                parsed_data[parameter_name][result_type], params,\n",
    "                x=num_bytes)\n",
    "            if verbose >= 2:\n",
    "                print(model_result[result_type].fit_report())\n",
    "            # Plot multiple view\n",
    "            if show_lm_plot >= 2:\n",
    "                fig, grid = model_result[result_type].plot(\n",
    "                    xlabel=f\"{labels[result_type]['x']} \" +\n",
    "                           f\"[{labels[result_type]['x_unit']}]\",\n",
    "                    ylabel=f\"{labels[result_type]['y']} \" +\n",
    "                           f\"[{labels[result_type]['y_unit']}]\")\n",
    "                fig.canvas.set_window_title(\n",
    "                    f\"Residuals of {parameter_name}\")\n",
    "                fig.tight_layout()\n",
    "                fig.show()\n",
    "            model_results[parameter_name] = model_result\n",
    "\n",
    "    # Plot single view\n",
    "    if show_lm_plot:\n",
    "        import matplotlib.pyplot as plt\n",
    "        fig = plt.figure(figsize=(9, 6))\n",
    "        fig.canvas.set_window_title(f\"Analysis {config.get('name')}\")\n",
    "        colors = dict(zip(result_types, ['r', 'b']))\n",
    "        line_styles = (\n",
    "            line_style for line_style in ('-', '--', '-.', ':') * 2)\n",
    "        # fig.suptitle(f\"Energy analysis of {config.get('name')}\")\n",
    "        ax = {}\n",
    "        ax[result_types[0]] = fig.add_subplot(1, 1, 1)\n",
    "        ax[result_types[1]] = ax[result_types[0]].twinx()\n",
    "        ax[result_types[0]].set_xlabel(\n",
    "            f\"{labels[result_types[0]]['x']} \" +\n",
    "            f\"[{labels[result_types[0]]['x_unit']}]\")\n",
    "        for result_type in result_types:\n",
    "            ax[result_type].set_ylabel(\n",
    "                f\"{labels[result_type]['y']} \" +\n",
    "                f\"[{labels[result_type]['y_unit']}]\",\n",
    "                color=colors[result_type])\n",
    "            ax[result_type].tick_params('y', colors=colors[result_type])\n",
    "\n",
    "        lines = []\n",
    "        title_str = \"\"\n",
    "        for parameter_name in parsed_data.keys():\n",
    "            length = len(parsed_data[parameter_name][result_types[0]])\n",
    "            x_step = parsed_data[parameter_name][\"x_step\"]\n",
    "            num_bytes = range(x_step, (length+1)*x_step, x_step)\n",
    "            model_result = {}\n",
    "            line_style = next(line_styles)\n",
    "            for result_type in result_types:\n",
    "                label = f\"{parameter_name} {labels[result_type]['y']}\"\n",
    "                lines += ax[result_type].plot(\n",
    "                    num_bytes, parsed_data[parameter_name][result_type],\n",
    "                    colors[result_type] + line_style, label=label)\n",
    "                title_str += f\"{label} \"\n",
    "                for param in params.keys():\n",
    "                    title_str += \"\".join(\n",
    "                        f\"{params[param].name.capitalize()}: \")\n",
    "                    title_str += \"\".join(\n",
    "                        f\"{model_results[parameter_name][result_type].params[param].value: .03} \")\n",
    "                    title_str += \"\".join(\n",
    "                        f\"{labels[result_type]['y_unit']}, \")\n",
    "                title_str = title_str[:-2] + \\\n",
    "                    f\" per {labels[result_type]['x_unit']}\\n\"\n",
    "        ax[result_types[0]].legend(handles=lines)\n",
    "        ax[result_types[0]].set_title(title_str[:-1])\n",
    "        # fig.tight_layout()\n",
    "        fig.tight_layout(rect=(0.05, 0.05, 1, 1))\n",
    "        fig.set_size_inches(8, 6, forward=True)\n",
    "        fig.show()\n",
    "\n",
    "    # Save model results to file\n",
    "    if dump_pickle:\n",
    "        model_results_dump = {}\n",
    "        for parameter_name in model_results.keys():\n",
    "            model_results_dump[parameter_name] = {}\n",
    "            for result_type in model_results[parameter_name].keys():\n",
    "                model_results_dump[parameter_name][result_type] = \\\n",
    "                    model_results[parameter_name][result_type].values\n",
    "\n",
    "        pickle.dump(model_results_dump, open(path.join(\n",
    "            path.curdir,\n",
    "            f\"{config_dict.get('file_name_base')}_model.p\"), \"wb\"))"
   ]
  },
  {
   "cell_type": "markdown",
   "metadata": {},
   "source": [
    "# Total from measurement"
   ]
  },
  {
   "cell_type": "code",
   "execution_count": 43,
   "metadata": {},
   "outputs": [
    {
     "name": "stdout",
     "output_type": "stream",
     "text": [
      "280.35608451930307 16620.73727946667\n"
     ]
    }
   ],
   "source": [
    "n_samples = 5995\n",
    "\n",
    "total_energy = sum(aes_encrypt_energy[:n_samples]) + sum(aes_flash_write_energy[:n_samples]) + sum(aes_flash_read_energy[:n_samples]) + sum(aes_decrypt_energy[:n_samples])\n",
    "total_time = sum(aes_encrypt_time_s[:n_samples]) + sum(aes_flash_write_time_s[:n_samples]) + sum(aes_flash_read_time_s[:n_samples]) + sum(aes_decrypt_time_s[:n_samples])\n",
    "print(total_energy, total_time)"
   ]
  },
  {
   "cell_type": "code",
   "execution_count": 44,
   "metadata": {},
   "outputs": [
    {
     "data": {
      "text/plain": [
       "[3.5641728000000046,\n",
       " 3.6961792000000178,\n",
       " 3.6301759999999987,\n",
       " 3.69617920000001,\n",
       " 4.0921983999999965,\n",
       " 4.2241141333332894,\n",
       " 4.1578656000000045,\n",
       " 4.28986133333334,\n",
       " 4.685818133333353,\n",
       " 4.751731199999997,\n",
       " 4.8177274666667,\n",
       " 4.884171733333332,\n",
       " 5.214294933333363,\n",
       " 5.3463023999999475,\n",
       " 5.345740799999998,\n",
       " 5.411737600000022,\n",
       " 7.325734933333328,\n",
       " 7.524425600000052,\n",
       " 7.194406933333397,\n",
       " 7.259841599999984,\n",
       " 7.7877482666666165,\n",
       " 8.051802133333341,\n",
       " 7.9863226666667675,\n",
       " 8.118328000000119,\n",
       " 8.579722666666733,\n",
       " 8.315663999999723,\n",
       " 8.24965226666663,\n",
       " 8.579584000000029,\n",
       " 8.84357120000001,\n",
       " 9.108588799999984,\n",
       " 8.910576000000114,\n",
       " 9.173585066666657,\n",
       " 11.021376533333237,\n",
       " 11.021764800000057,\n",
       " 11.088537600000059,\n",
       " 11.022295466666776,\n",
       " 11.549253333333343,\n",
       " 11.615346133333482,\n",
       " 11.682566399999983,\n",
       " 11.682484266666737,\n",
       " 11.879520000000143,\n",
       " 12.143509333333302,\n",
       " 12.209506666666314,\n",
       " 11.945517333333378,\n",
       " 12.60671306666672,\n",
       " 12.672716799999817,\n",
       " 12.671692799999912,\n",
       " 12.473697600000166,\n",
       " 14.586589333333233,\n",
       " 14.388498133333316,\n",
       " 14.717167466666403,\n",
       " 14.78326826666665,\n",
       " 15.18085866666663,\n",
       " 15.180530666666803,\n",
       " 15.24501439999959,\n",
       " 15.245058133333433,\n",
       " 15.6411152,\n",
       " 15.708394133333359,\n",
       " 15.708761599999788,\n",
       " 15.839541333333429,\n",
       " 16.30155626666685,\n",
       " 16.369058133333336,\n",
       " 16.302661333333248,\n",
       " 16.432937600000088,\n",
       " 18.216147199999757,\n",
       " 18.28347733333313,\n",
       " 18.215051200000108,\n",
       " 18.214983466666723,\n",
       " 18.743242666666937,\n",
       " 18.74404053333345,\n",
       " 18.81091200000018,\n",
       " 18.875237333333406,\n",
       " 19.205550399999716,\n",
       " 19.27309013333378,\n",
       " 19.337788266666767,\n",
       " 19.337218666665823,\n",
       " 19.80095999999998,\n",
       " 19.800370133332912,\n",
       " 19.930711466666473,\n",
       " 19.9970154666671,\n",
       " 21.845329066666697,\n",
       " 21.781232000000372,\n",
       " 21.84486880000014,\n",
       " 21.845189866666725,\n",
       " 22.37526560000047,\n",
       " 22.241184533333236,\n",
       " 22.373405333333096,\n",
       " 22.440906666667093,\n",
       " 22.90114400000043,\n",
       " 22.901074666666688,\n",
       " 22.901074666666688,\n",
       " 22.96948479999994,\n",
       " 23.364870400000015,\n",
       " 23.36324480000007,\n",
       " 23.43094666666712,\n",
       " 23.429954666666752,\n",
       " 25.0790559999996,\n",
       " 25.41102666666628,\n",
       " 25.409101333333517,\n",
       " 25.408925333333165,\n",
       " 25.870785600000445,\n",
       " 25.93988639999978,\n",
       " 25.739479999999926,\n",
       " 26.003239466666273,\n",
       " 26.467710933333333,\n",
       " 26.39893333333365,\n",
       " 26.53244800000021,\n",
       " 26.202653866666648,\n",
       " 26.99269120000025,\n",
       " 26.9931274666666,\n",
       " 26.862614933332196,\n",
       " 26.862668800000655,\n",
       " 28.90668160000054,\n",
       " 28.711392000000835,\n",
       " 28.97245813333349,\n",
       " 29.040104533334166,\n",
       " 29.437230933332614,\n",
       " 29.501046399998287,\n",
       " 29.56704426666601,\n",
       " 29.569590399999512,\n",
       " 29.964018133331827,\n",
       " 29.96315413333317,\n",
       " 30.030901333333304,\n",
       " 30.16053760000137,\n",
       " 30.560222400000114,\n",
       " 30.55792480000008,\n",
       " 30.623059199999858,\n",
       " 30.623359999999877,\n",
       " 32.47428693333365,\n",
       " 32.537737066668626,\n",
       " 32.27530400000145,\n",
       " 32.53695200000095,\n",
       " 32.80248159999921,\n",
       " 33.00065599999957,\n",
       " 33.06484266666665,\n",
       " 33.06461333333299,\n",
       " 33.53016746666704,\n",
       " 33.65863999999963,\n",
       " 33.66182720000044,\n",
       " 33.65955199999959,\n",
       " 34.12293813333189,\n",
       " 34.1886255999988,\n",
       " 34.12083573333291,\n",
       " 34.18722186666656,\n",
       " 35.97203733333121,\n",
       " 36.0349114666656,\n",
       " 36.17004586666717,\n",
       " 36.16624639999966,\n",
       " 36.50035946666641,\n",
       " 36.5629013333324,\n",
       " 36.62881599999945,\n",
       " 36.63190133333405,\n",
       " 37.15799146666665,\n",
       " 37.15931519999938,\n",
       " 37.224584533332994,\n",
       " 37.2898074666681,\n",
       " 37.75292586666623,\n",
       " 37.75047466666592,\n",
       " 37.68514293333336,\n",
       " 37.75362346666711,\n",
       " 39.66540053333478,\n",
       " 39.66671306666747,\n",
       " 39.66448053333327,\n",
       " 39.73356799999905,\n",
       " 40.12605440000083,\n",
       " 40.1927903999999,\n",
       " 40.26201599999979,\n",
       " 40.19355893333287,\n",
       " 40.65760639999905,\n",
       " 40.72072586666842,\n",
       " 40.8557125333342,\n",
       " 40.72073813333432,\n",
       " 41.18370879999933,\n",
       " 41.31842773333361,\n",
       " 41.31536533333158,\n",
       " 41.382662933331815,\n",
       " 43.163707199999735,\n",
       " 43.2313519999985,\n",
       " 43.294771200001136,\n",
       " 43.2975423999995,\n",
       " 43.758604799998935,\n",
       " 43.75981279999941,\n",
       " 43.75732320000125,\n",
       " 43.89344959999697,\n",
       " 44.28385279999958,\n",
       " 44.35030506666848,\n",
       " 44.28906400000088,\n",
       " 44.48280106666758,\n",
       " 44.815403200001214,\n",
       " 44.8786453333323,\n",
       " 44.617386666669034,\n",
       " 44.680555733334515,\n",
       " 46.72884693333401,\n",
       " 46.79297173333552,\n",
       " 46.7308543999998,\n",
       " 46.85817600000064,\n",
       " 47.257454933333776,\n",
       " 47.385505066666056,\n",
       " 47.387556266668796,\n",
       " 47.3883146666676,\n",
       " 47.78514133333189,\n",
       " 47.91504959999848,\n",
       " 47.918253866665594,\n",
       " 47.84873546666546,\n",
       " 48.44202133333653,\n",
       " 48.51077599999698,\n",
       " 48.37845173333655,\n",
       " 48.50904159999736,\n",
       " 50.09615360000197,\n",
       " 50.42234879999796,\n",
       " 50.35674613333185,\n",
       " 50.49091466666589,\n",
       " 50.8868330666683,\n",
       " 50.88456479999692,\n",
       " 50.954798933334544,\n",
       " 51.016005333332615,\n",
       " 51.413986666666744,\n",
       " 51.41402773333503,\n",
       " 51.548077866666375,\n",
       " 51.543903999998975,\n",
       " 51.87844533333319,\n",
       " 52.00608639999871,\n",
       " 52.076289600000436,\n",
       " 52.072075199998125,\n",
       " 53.65991359999889,\n",
       " 53.525811199996554,\n",
       " 53.72287466666492,\n",
       " 53.78830293333259,\n",
       " 54.188454933333574,\n",
       " 54.18539893333296,\n",
       " 54.25186560000128,\n",
       " 54.05688426666977,\n",
       " 54.64535040000129,\n",
       " 54.77990239999997,\n",
       " 54.910654933332026,\n",
       " 54.847885333336066,\n",
       " 55.240807999998864,\n",
       " 55.30768533333408,\n",
       " 55.37216906666664,\n",
       " 55.375954133335625,\n",
       " 56.958247466667444,\n",
       " 57.08859786666842,\n",
       " 57.09286506666622,\n",
       " 57.0878421333294,\n",
       " 57.5528117333306,\n",
       " 57.55022506666663,\n",
       " 57.553597866666806,\n",
       " 57.48802293333455,\n",
       " 58.01175306666373,\n",
       " 58.14524426666701,\n",
       " 57.81557119999903,\n",
       " 58.280308266665415,\n",
       " 58.60680960000053,\n",
       " 58.73931040000002,\n",
       " 58.47515413333504,\n",
       " 58.477783466665656,\n",
       " 60.06141599999815,\n",
       " 60.3222431999999,\n",
       " 60.32517920000302,\n",
       " 60.38719146666516,\n",
       " 60.65756160000113,\n",
       " 60.78679679999688,\n",
       " 60.91654986667017,\n",
       " 60.721296000000535,\n",
       " 61.37726613333605,\n",
       " 61.44851573333199,\n",
       " 61.51348266666723,\n",
       " 61.37679840000132,\n",
       " 62.04145706666786,\n",
       " 62.10298880000309,\n",
       " 61.976188800001,\n",
       " 61.8427530666672,\n",
       " 63.62189120000039,\n",
       " 63.62555520000157,\n",
       " 63.75343626666741,\n",
       " 64.0219445333301,\n",
       " 64.41756266666587,\n",
       " 64.08475520000323,\n",
       " 64.01927039999578,\n",
       " 64.41404906666293,\n",
       " 65.07747093333549,\n",
       " 64.68237119999642,\n",
       " 64.81264426666655,\n",
       " 65.07494986666984,\n",
       " 65.53762400000096,\n",
       " 65.60227359999615,\n",
       " 65.34138453332972,\n",
       " 65.0786330666655,\n",
       " 67.25142773333914,\n",
       " 67.25669013333047,\n",
       " 67.31973759999832,\n",
       " 67.1211845333275,\n",
       " 67.58665119999208,\n",
       " 67.84438346667088,\n",
       " 67.3877247999961,\n",
       " 67.38782720000103,\n",
       " 67.84730240000414,\n",
       " 68.11065173333475,\n",
       " 68.1777759999953,\n",
       " 68.24300693333285,\n",
       " 68.83853599999412,\n",
       " 68.84008213333459,\n",
       " 68.70322399999651,\n",
       " 68.97323893333152,\n",
       " 70.6208586666719,\n",
       " 70.28920799999838,\n",
       " 70.421829866671,\n",
       " 70.48646133333492,\n",
       " 71.14673813333994,\n",
       " 71.14957226666263,\n",
       " 70.88628480000025,\n",
       " 71.20997173333166,\n",
       " 71.48131413333303,\n",
       " 71.41437760000358,\n",
       " 71.4763706666659,\n",
       " 71.74009333333942,\n",
       " 72.20400426666984,\n",
       " 72.20219733333266,\n",
       " 71.80782826666743,\n",
       " 72.14043199999765,\n",
       " 73.58808480000079,\n",
       " 73.92109546666248,\n",
       " 73.72385546667104,\n",
       " 73.98812426666623,\n",
       " 74.4447722666699,\n",
       " 74.51706133333147,\n",
       " 74.51525546666815,\n",
       " 74.31471466667006,\n",
       " 74.97501173333632,\n",
       " 74.97570773333351,\n",
       " 75.0406704000035,\n",
       " 75.10652479999536,\n",
       " 74.91061866666726,\n",
       " 74.97496533333248,\n",
       " 75.37071146666108,\n",
       " 75.3071024000036,\n",
       " 76.89269173333102,\n",
       " 76.82108479999883,\n",
       " 77.02237013333502,\n",
       " 76.69504640000468,\n",
       " 77.5510213333277,\n",
       " 77.4142464000036,\n",
       " 77.42061120000088,\n",
       " 77.42043466666715,\n",
       " 78.14592426666422,\n",
       " 77.87678666666764,\n",
       " 78.14737653333736,\n",
       " 78.4742938666696,\n",
       " 78.87018079999919,\n",
       " 78.93313386666989,\n",
       " 78.73963733333156,\n",
       " 78.6737312000021,\n",
       " 79.9913013333331,\n",
       " 80.5833375999967,\n",
       " 80.38958506666916,\n",
       " 80.7200309333389,\n",
       " 80.91515519999604,\n",
       " 81.11131839999786,\n",
       " 80.91812800000397,\n",
       " 81.17982879999985,\n",
       " 81.70878293333317,\n",
       " 81.4400512000013,\n",
       " 81.64457493333188,\n",
       " 81.84119679999924,\n",
       " 82.23707680000203,\n",
       " 81.96824533333569,\n",
       " 82.17410186666285,\n",
       " 82.03983733332976,\n",
       " 83.821172800004,\n",
       " 83.94896586666789,\n",
       " 83.75815680000187,\n",
       " 83.82274240000243,\n",
       " 84.4159712000021,\n",
       " 84.34499040000176,\n",
       " 84.28166773332535]"
      ]
     },
     "execution_count": 44,
     "metadata": {},
     "output_type": "execute_result"
    }
   ],
   "source": [
    "          [e + w + r + d for (e,w,r,d) in zip(aes_encrypt_energy, aes_flash_write_energy, aes_flash_read_energy, aes_decrypt_energy)],\n",
    "          [e + w + r + d for (e,w,r,d) in zip(aes_encrypt_time_s, aes_flash_write_time_s, aes_flash_read_time_s, aes_decrypt_time_s)]"
   ]
  },
  {
   "cell_type": "code",
   "execution_count": null,
   "metadata": {},
   "outputs": [],
   "source": []
  },
  {
   "cell_type": "code",
   "execution_count": null,
   "metadata": {},
   "outputs": [],
   "source": []
  }
 ],
 "metadata": {
  "kernelspec": {
   "display_name": "Python 3",
   "language": "python",
   "name": "python3"
  },
  "language_info": {
   "codemirror_mode": {
    "name": "ipython",
    "version": 3
   },
   "file_extension": ".py",
   "mimetype": "text/x-python",
   "name": "python",
   "nbconvert_exporter": "python",
   "pygments_lexer": "ipython3",
   "version": "3.8.1"
  }
 },
 "nbformat": 4,
 "nbformat_minor": 4
}

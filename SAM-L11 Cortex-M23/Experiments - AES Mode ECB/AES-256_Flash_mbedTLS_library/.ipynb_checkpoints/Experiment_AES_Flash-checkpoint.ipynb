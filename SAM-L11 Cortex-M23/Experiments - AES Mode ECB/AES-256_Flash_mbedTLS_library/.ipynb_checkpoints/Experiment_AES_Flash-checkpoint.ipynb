{
 "cells": [
  {
   "cell_type": "markdown",
   "metadata": {},
   "source": [
    "## Import Libraries"
   ]
  },
  {
   "cell_type": "code",
   "execution_count": 1,
   "metadata": {},
   "outputs": [],
   "source": [
    "# %matplotlib ipympl\n",
    "# %matplotlib inline\n",
    "%matplotlib wx"
   ]
  },
  {
   "cell_type": "code",
   "execution_count": 2,
   "metadata": {},
   "outputs": [],
   "source": [
    "import matplotlib.pyplot as plt\n",
    "plt.ion()"
   ]
  },
  {
   "cell_type": "code",
   "execution_count": 3,
   "metadata": {},
   "outputs": [],
   "source": [
    "from pydgilib_extra import *\n",
    "from atprogram.atprogram import atprogram"
   ]
  },
  {
   "cell_type": "code",
   "execution_count": 4,
   "metadata": {},
   "outputs": [],
   "source": [
    "from os import getcwd, path, pardir\n",
    "import pickle"
   ]
  },
  {
   "cell_type": "markdown",
   "metadata": {},
   "source": [
    "## Compile and program project"
   ]
  },
  {
   "cell_type": "code",
   "execution_count": 5,
   "metadata": {},
   "outputs": [
    {
     "data": {
      "text/plain": [
       "['.', 'AES_Flash-S']"
      ]
     },
     "execution_count": 5,
     "metadata": {},
     "output_type": "execute_result"
    }
   ],
   "source": [
    "project_path = [path.curdir, \"AES_Flash-S\"]\n",
    "project_path"
   ]
  },
  {
   "cell_type": "code",
   "execution_count": 9,
   "metadata": {},
   "outputs": [
    {
     "name": "stdout",
     "output_type": "stream",
     "text": [
      "make: Nothing to be done for 'all'.\n",
      "\n",
      "[DEBUG] Starting execution of \"chiperase\"\n",
      "[DEBUG] Starting process 'C:\\Program Files (x86)\\Atmel\\Studio\\7.0\\atbackend\\atbackend.exe'\n",
      "[DEBUG] Connecting to TCP:127.0.0.1:52835\n",
      "[INFO] Connected to edbg, fw version: 3.25\n",
      "[INFO] Firmware check OK\n",
      "[DEBUG] Command \"chiperase\" finished with return code 0\n",
      "[DEBUG] Starting execution of \"program\"\n",
      "[DEBUG] Memory segment base written at 0x00000000. Size = 0x000045e0.\n",
      "[DEBUG] Memory segment base written at 0x000045e0. Size = 0x00000088.\n",
      "[DEBUG] Memory segment base written at 0x0000fb00. Size = 0x00000020.\n",
      "[DEBUG] Memory segment base written at 0x00804000. Size = 0x00000020.\n",
      "[DEBUG] Command \"program\" finished with return code 0\n",
      "[DEBUG] Exit successfully.\n",
      "Firmware check OK\n",
      "Chiperase completed successfully\n",
      "Programming completed successfully.\n",
      "\n"
     ]
    },
    {
     "data": {
      "text/plain": [
       "0"
      ]
     },
     "execution_count": 9,
     "metadata": {},
     "output_type": "execute_result"
    }
   ],
   "source": [
    "atprogram(\"AES_Flash-S\", verbose=2)"
   ]
  },
  {
   "cell_type": "code",
   "execution_count": 7,
   "metadata": {},
   "outputs": [
    {
     "name": "stdout",
     "output_type": "stream",
     "text": [
      "make: Nothing to be done for 'all'.\n",
      "\n",
      "[ERROR] Unrecognized or ambiguous command: 'Assad\\Desktop\\Thesis\\Erik'\n",
      "\n",
      "13\n",
      "[DEBUG] Starting execution of \"exitcodes\"\n",
      "[DEBUG] Command \"exitcodes\" finished with return code 0\n",
      "[DEBUG] Exit successfully.\n",
      "Exit codes for atprogram\n",
      "    \n",
      "atprogram is the Atmel Studio Command Line Interface which is deployed with \n",
      "Atmel Studio 6 as well as in a standalone package.  It replaces the individual\n",
      "Tools' command line interfaces, including:\n",
      "  - Stk500.exe\n",
      "  - Stk600.exe\n",
      "  - jtagiceii.exe\n",
      "  - AVRDragon.exe\n",
      "  - avrone.exe\n",
      "    \n",
      "atprogram also replaces the command line interface to UC3 devices- avr32program\n",
      "atprogram also provides command line access to JTAGICE3 and SAMICE.\n",
      "    \n",
      "atprogram makes use of the Atmel Studio backend, which means that all tools\n",
      "and devices supported by Atmel Studio are supported by atprogram.exe\n",
      "    \n",
      "This guide is intended to be used as a reference when using atprogram \n",
      "in script utilities.\n",
      "\n",
      "Code ranges:\n",
      " 0-9         Exit codes that is locked or unknown\n",
      " 10-50       Exit codes due to errors in atprogram itself\n",
      " 100-200     Exit codes from atbackend\n",
      "\n",
      "\n",
      "Exits Codes:\n",
      "\n",
      "0    Success                       The program executed with no errors \n",
      "1    Unexpected Error              A run time error that was not anticipated\n",
      "2    User Interrupt Error          A user interrupted the program\n",
      "10   Command Error                 Exception which indicates that a command has\n",
      "                                   failed for some internal reason.\n",
      "11   Command Argument Error        Raised when there are error in the arguments\n",
      "                                   passed to the command\n",
      "12   Missing Command Error         An error which occurs if there is no command\n",
      "13   Command Parser Error          Error when parsing command line arguments.\n",
      "14   Tool Error                    Exception raised when there is an error with\n",
      "                                   the setup or use of a tool\n",
      "15   Resource Error                Exception raised when there is an error in\n",
      "                                   creating or serving a resource.\n",
      "16   Tcf Error                     A TCF command returned an error.\n",
      "17   Timeout Error                 Error because of an timeout.\n",
      "18   Missing Or Wrong Input Error  An error caused by incomplete information\n",
      "                                   specified by user\n",
      "19   Old Fw Exception              Firmware must be upgraded\n",
      "20   Backend Creation Error        Exception raised when there is an error in\n",
      "                                   creating or serving a resource.\n",
      "21   Options Parse Error           Error in parsing an option.\n",
      "22   Json Parse Error              Exception which can be thrown if a TCF\n",
      "                                   response could not be parsed.\n",
      "23   Verify Error                  An error given when failing to verify memory\n",
      "                                   content\n",
      "\n",
      "\n"
     ]
    },
    {
     "data": {
      "text/plain": [
       "13"
      ]
     },
     "execution_count": 7,
     "metadata": {},
     "output_type": "execute_result"
    }
   ],
   "source": [
    "atprogram(path.abspath(path.join(*project_path)), verbose=2)"
   ]
  },
  {
   "cell_type": "markdown",
   "metadata": {},
   "source": [
    "## Data Logging"
   ]
  },
  {
   "cell_type": "code",
   "execution_count": 10,
   "metadata": {},
   "outputs": [],
   "source": [
    "live_plot = False"
   ]
  },
  {
   "cell_type": "markdown",
   "metadata": {},
   "source": [
    "Create a figure for the plot."
   ]
  },
  {
   "cell_type": "code",
   "execution_count": 11,
   "metadata": {},
   "outputs": [],
   "source": [
    "if live_plot:\n",
    "    fig = plt.figure(figsize=(6, 4))\n",
    "    fig.show()"
   ]
  },
  {
   "cell_type": "markdown",
   "metadata": {},
   "source": [
    "Create the configuration dictionary for `DGILibExtra`."
   ]
  },
  {
   "cell_type": "code",
   "execution_count": 12,
   "metadata": {},
   "outputs": [],
   "source": [
    "config_dict = {\n",
    "    \"loggers\": [LOGGER_OBJECT, LOGGER_CSV],\n",
    "    \"file_name_base\": \"experiment_aes_flash\"\n",
    "}\n",
    "config_dict_plot = {\n",
    "    \"loggers\": [LOGGER_OBJECT, LOGGER_PLOT, LOGGER_CSV],\n",
    "    \"plot_pins\": [False, False, True, True],\n",
    "    \"plot_pins_method\": \"line\",\n",
    "    \"plot_xmax\": 5,\n",
    "    \"window_title\": \"Experiment AES-256 Flash\",\n",
    "}"
   ]
  },
  {
   "cell_type": "markdown",
   "metadata": {},
   "source": [
    "Stop criteria to pass to the logger:"
   ]
  },
  {
   "cell_type": "code",
   "execution_count": 13,
   "metadata": {},
   "outputs": [],
   "source": [
    "def stop_fn(logger_data):\n",
    "    return all(logger_data.gpio.values[-1])"
   ]
  },
  {
   "cell_type": "markdown",
   "metadata": {},
   "source": [
    "Perform the measurement."
   ]
  },
  {
   "cell_type": "code",
   "execution_count": 14,
   "metadata": {},
   "outputs": [],
   "source": [
    "data = []\n",
    "cd = config_dict.copy()\n",
    "if live_plot:\n",
    "    fig.clf()\n",
    "    for ax in fig.get_axes():\n",
    "        ax.cla()\n",
    "    \n",
    "    cd.update(config_dict_plot)\n",
    "    cd[\"fig\"] = fig\n",
    "    \n",
    "with DGILibExtra(**cd) as dgilib:\n",
    "    dgilib.device_reset()\n",
    "    dgilib.logger.log(1000,stop_fn)\n",
    "    data = dgilib.data"
   ]
  },
  {
   "cell_type": "markdown",
   "metadata": {},
   "source": [
    "# Store Data"
   ]
  },
  {
   "cell_type": "code",
   "execution_count": 15,
   "metadata": {},
   "outputs": [],
   "source": [
    "import pickle"
   ]
  },
  {
   "cell_type": "code",
   "execution_count": 16,
   "metadata": {},
   "outputs": [],
   "source": [
    "pickle.dump(data, open(\"aes_flash_logger_data.p\", \"wb\"))"
   ]
  },
  {
   "cell_type": "markdown",
   "metadata": {},
   "source": [
    "# Load Data"
   ]
  },
  {
   "cell_type": "code",
   "execution_count": 17,
   "metadata": {},
   "outputs": [],
   "source": [
    "data = pickle.load(open(\"aes_flash_logger_data.p\", \"rb\"))"
   ]
  },
  {
   "cell_type": "code",
   "execution_count": 17,
   "metadata": {},
   "outputs": [],
   "source": [
    "iteration = 0\n",
    "name = \"AES-256_Flash\"\n",
    "data = pickle.load(open(path.join(path.pardir, path.pardir, f\"{name}_{iteration}.p\"), \"rb\"))"
   ]
  },
  {
   "cell_type": "markdown",
   "metadata": {},
   "source": [
    "## Analysis"
   ]
  },
  {
   "cell_type": "markdown",
   "metadata": {},
   "source": [
    "Create Stop Function to stop parsing the data when all pins are high."
   ]
  },
  {
   "cell_type": "code",
   "execution_count": 18,
   "metadata": {},
   "outputs": [],
   "source": [
    "def stop_function(pin_values):\n",
    "    return all(pin_values)"
   ]
  },
  {
   "cell_type": "markdown",
   "metadata": {},
   "source": [
    "Parse the data."
   ]
  },
  {
   "cell_type": "code",
   "execution_count": 19,
   "metadata": {},
   "outputs": [],
   "source": [
    "aes_charge, aes_time = power_and_time_per_pulse(data, 2, stop_function=stop_function)"
   ]
  },
  {
   "cell_type": "code",
   "execution_count": 20,
   "metadata": {},
   "outputs": [],
   "source": [
    "flash_charge, flash_time = power_and_time_per_pulse(data, 3, stop_function=stop_function)"
   ]
  },
  {
   "cell_type": "code",
   "execution_count": 21,
   "metadata": {},
   "outputs": [
    {
     "name": "stdout",
     "output_type": "stream",
     "text": [
      "750\n"
     ]
    }
   ],
   "source": [
    "length = len(aes_charge)\n",
    "assert length == len(aes_time)\n",
    "assert length == len(flash_charge)\n",
    "assert length == len(flash_time)\n",
    "print(length)"
   ]
  },
  {
   "cell_type": "code",
   "execution_count": 22,
   "metadata": {},
   "outputs": [],
   "source": [
    "aes_encrypt_charge = aes_charge[0::2]\n",
    "aes_decrypt_charge = aes_charge[1::2]\n",
    "aes_encrypt_time = aes_time[0::2]\n",
    "aes_decrypt_time = aes_time[1::2]"
   ]
  },
  {
   "cell_type": "code",
   "execution_count": 23,
   "metadata": {},
   "outputs": [],
   "source": [
    "aes_flash_write_charge = flash_charge[0::2]\n",
    "aes_flash_read_charge = flash_charge[1::2]\n",
    "aes_flash_write_time = flash_time[0::2]\n",
    "aes_flash_read_time = flash_time[1::2]"
   ]
  },
  {
   "cell_type": "code",
   "execution_count": 24,
   "metadata": {},
   "outputs": [
    {
     "data": {
      "text/plain": [
       "(375, 375, 375, 375, 375, 375, 375, 375)"
      ]
     },
     "execution_count": 24,
     "metadata": {},
     "output_type": "execute_result"
    }
   ],
   "source": [
    "len(aes_encrypt_charge), len(aes_decrypt_charge), len(aes_encrypt_time), len(aes_decrypt_time), len(aes_flash_write_charge), len(aes_flash_read_charge), len(aes_flash_write_time), len(aes_flash_read_time)"
   ]
  },
  {
   "cell_type": "code",
   "execution_count": 25,
   "metadata": {},
   "outputs": [],
   "source": [
    "drop = 0\n",
    "cutoff = min(len(aes_encrypt_charge), len(aes_decrypt_charge), len(aes_encrypt_time), len(aes_decrypt_time), len(aes_flash_write_charge), len(aes_flash_read_charge), len(aes_flash_write_time), len(aes_flash_read_time)) - drop\n",
    "aes_encrypt_charge = aes_encrypt_charge[:cutoff]\n",
    "aes_decrypt_charge = aes_decrypt_charge[:cutoff]\n",
    "aes_encrypt_time = aes_encrypt_time[:cutoff]\n",
    "aes_decrypt_time = aes_decrypt_time[:cutoff]\n",
    "aes_flash_write_charge = aes_flash_write_charge[:cutoff]\n",
    "aes_flash_read_charge = aes_flash_read_charge[:cutoff]\n",
    "aes_flash_write_time = aes_flash_write_time[:cutoff]\n",
    "aes_flash_read_time = aes_flash_read_time[:cutoff]"
   ]
  },
  {
   "cell_type": "code",
   "execution_count": 26,
   "metadata": {},
   "outputs": [
    {
     "name": "stdout",
     "output_type": "stream",
     "text": [
      "375\n"
     ]
    }
   ],
   "source": [
    "length = len(aes_encrypt_charge)\n",
    "assert length == len(aes_decrypt_charge)\n",
    "assert length == len(aes_encrypt_time)\n",
    "assert length == len(aes_decrypt_time)\n",
    "assert length == len(aes_flash_write_charge)\n",
    "assert length == len(aes_flash_read_charge)\n",
    "assert length == len(aes_flash_write_time)\n",
    "assert length == len(aes_flash_read_time)\n",
    "print(length)"
   ]
  },
  {
   "cell_type": "markdown",
   "metadata": {},
   "source": [
    "# Convert to Joule"
   ]
  },
  {
   "cell_type": "code",
   "execution_count": 27,
   "metadata": {},
   "outputs": [],
   "source": [
    "voltage = 3.33\n",
    "j_scale = 1e3 # m\n",
    "t_scale = 1e3 # m\n",
    "model_j_scale = 1e6 # n\n",
    "model_t_scale = 1e3 # u\n",
    "\n",
    "experiment_name = 'AES-256'"
   ]
  },
  {
   "cell_type": "code",
   "execution_count": 28,
   "metadata": {},
   "outputs": [],
   "source": [
    "aes_encrypt_energy = aes_encrypt_charge[:cutoff]\n",
    "aes_flash_write_energy = aes_flash_write_charge[:cutoff]\n",
    "aes_flash_read_energy = aes_flash_read_charge[:cutoff]\n",
    "aes_decrypt_energy = aes_decrypt_charge[:cutoff]\n",
    "aes_encrypt_time_s = aes_encrypt_time[:cutoff]\n",
    "aes_flash_write_time_s = aes_flash_write_time[:cutoff]\n",
    "aes_flash_read_time_s = aes_flash_read_time[:cutoff]\n",
    "aes_decrypt_time_s = aes_decrypt_time[:cutoff]\n",
    "\n",
    "for i in range(len(aes_encrypt_energy)):\n",
    "    aes_encrypt_energy[i] = aes_encrypt_energy[i] * voltage * j_scale\n",
    "for i in range(len(aes_flash_write_energy)):\n",
    "    aes_flash_write_energy[i] = aes_flash_write_energy[i] * voltage * j_scale\n",
    "for i in range(len(aes_flash_read_energy)):\n",
    "    aes_flash_read_energy[i] = aes_flash_read_energy[i] * voltage * j_scale\n",
    "for i in range(len(aes_decrypt_energy)):\n",
    "    aes_decrypt_energy[i] = aes_decrypt_energy[i] * voltage * j_scale\n",
    "    \n",
    "for i in range(len(aes_encrypt_time_s)):\n",
    "    aes_encrypt_time_s[i] = aes_encrypt_time_s[i] * t_scale\n",
    "for i in range(len(aes_flash_write_time_s)):\n",
    "    aes_flash_write_time_s[i] = aes_flash_write_time_s[i] * t_scale\n",
    "for i in range(len(aes_flash_read_time_s)):\n",
    "    aes_flash_read_time_s[i] = aes_flash_read_time_s[i] * t_scale\n",
    "for i in range(len(aes_decrypt_time_s)):\n",
    "    aes_decrypt_time_s[i] = aes_decrypt_time_s[i] * t_scale"
   ]
  },
  {
   "cell_type": "code",
   "execution_count": 29,
   "metadata": {},
   "outputs": [
    {
     "name": "stdout",
     "output_type": "stream",
     "text": [
      "MAX_NUM_BYTES: 6000\n"
     ]
    }
   ],
   "source": [
    "MBEDTLS_AES_BLOCK_SIZE = 16\n",
    "STEP_SIZE = MBEDTLS_AES_BLOCK_SIZE\n",
    "MIN_NUM_BYTES = STEP_SIZE\n",
    "num_bytes = range(MIN_NUM_BYTES, MIN_NUM_BYTES + STEP_SIZE * len(aes_encrypt_energy), STEP_SIZE)\n",
    "print(f\"MAX_NUM_BYTES: {num_bytes[-1]}\")"
   ]
  },
  {
   "cell_type": "code",
   "execution_count": 30,
   "metadata": {},
   "outputs": [],
   "source": [
    "from lmfit import Model\n",
    "\n",
    "def line(x, slope, intercept):\n",
    "    \"\"\"a line\"\"\"\n",
    "    return [slope*i + intercept for i in x]\n",
    "\n",
    "mod = Model(line)\n",
    "pars = mod.make_params(slope=0, intercept=1)\n",
    "# pars['intercept'].set(min=0)"
   ]
  },
  {
   "cell_type": "code",
   "execution_count": 31,
   "metadata": {},
   "outputs": [
    {
     "name": "stdout",
     "output_type": "stream",
     "text": [
      "[[Model]]\n",
      "    Model(line)\n",
      "[[Fit Statistics]]\n",
      "    # fitting method   = leastsq\n",
      "    # function evals   = 7\n",
      "    # data points      = 375\n",
      "    # variables        = 2\n",
      "    chi-square         = 7.1848e-05\n",
      "    reduced chi-square = 1.9262e-07\n",
      "    Akaike info crit   = -5796.45425\n",
      "    Bayesian info crit = -5788.60040\n",
      "[[Variables]]\n",
      "    slope:      1.0531e-04 +/- 1.3085e-08 (0.01%) (init = 0)\n",
      "    intercept: -0.00122636 +/- 4.5419e-05 (3.70%) (init = 1)\n",
      "[[Correlations]] (unreported correlations are < 0.100)\n",
      "    C(slope, intercept) = -0.867\n",
      "[[Model]]\n",
      "    Model(line)\n",
      "[[Fit Statistics]]\n",
      "    # fitting method   = leastsq\n",
      "    # function evals   = 6\n",
      "    # data points      = 375\n",
      "    # variables        = 2\n",
      "    chi-square         = 0.00542739\n",
      "    reduced chi-square = 1.4551e-05\n",
      "    Akaike info crit   = -4174.70892\n",
      "    Bayesian info crit = -4166.85507\n",
      "[[Variables]]\n",
      "    slope:      7.2631e-05 +/- 1.1373e-07 (0.16%) (init = 0)\n",
      "    intercept:  0.00705862 +/- 3.9475e-04 (5.59%) (init = 1)\n",
      "[[Correlations]] (unreported correlations are < 0.100)\n",
      "    C(slope, intercept) = -0.867\n",
      "[[Model]]\n",
      "    Model(line)\n",
      "[[Fit Statistics]]\n",
      "    # fitting method   = leastsq\n",
      "    # function evals   = 6\n",
      "    # data points      = 375\n",
      "    # variables        = 2\n",
      "    chi-square         = 6.7982e-07\n",
      "    reduced chi-square = 1.8226e-09\n",
      "    Akaike info crit   = -7544.13798\n",
      "    Bayesian info crit = -7536.28413\n",
      "[[Variables]]\n",
      "    slope:      2.4956e-06 +/- 1.2728e-09 (0.05%) (init = 0)\n",
      "    intercept: -9.6513e-05 +/- 4.4180e-06 (4.58%) (init = 1)\n",
      "[[Correlations]] (unreported correlations are < 0.100)\n",
      "    C(slope, intercept) = -0.867\n",
      "[[Model]]\n",
      "    Model(line)\n",
      "[[Fit Statistics]]\n",
      "    # fitting method   = leastsq\n",
      "    # function evals   = 7\n",
      "    # data points      = 375\n",
      "    # variables        = 2\n",
      "    chi-square         = 7.2388e-05\n",
      "    reduced chi-square = 1.9407e-07\n",
      "    Akaike info crit   = -5793.65022\n",
      "    Bayesian info crit = -5785.79636\n",
      "[[Variables]]\n",
      "    slope:      1.0991e-04 +/- 1.3134e-08 (0.01%) (init = 0)\n",
      "    intercept: -0.00124061 +/- 4.5589e-05 (3.67%) (init = 1)\n",
      "[[Correlations]] (unreported correlations are < 0.100)\n",
      "    C(slope, intercept) = -0.867\n",
      "[[Model]]\n",
      "    Model(line)\n",
      "[[Fit Statistics]]\n",
      "    # fitting method   = leastsq\n",
      "    # function evals   = 10\n",
      "    # data points      = 375\n",
      "    # variables        = 2\n",
      "    chi-square         = 0.38959193\n",
      "    reduced chi-square = 0.00104448\n",
      "    Akaike info crit   = -2572.09304\n",
      "    Bayesian info crit = -2564.23919\n",
      "[[Variables]]\n",
      "    slope:      0.06102121 +/- 9.6354e-07 (0.00%) (init = 0)\n",
      "    intercept:  0.04916136 +/- 0.00334447 (6.80%) (init = 1)\n",
      "[[Correlations]] (unreported correlations are < 0.100)\n",
      "    C(slope, intercept) = -0.867\n",
      "[[Model]]\n",
      "    Model(line)\n",
      "[[Fit Statistics]]\n",
      "    # fitting method   = leastsq\n",
      "    # function evals   = 6\n",
      "    # data points      = 375\n",
      "    # variables        = 2\n",
      "    chi-square         = 111.703395\n",
      "    reduced chi-square = 0.29947291\n",
      "    Akaike info crit   = -450.154597\n",
      "    Bayesian info crit = -442.300745\n",
      "[[Variables]]\n",
      "    slope:      0.01153191 +/- 1.6316e-05 (0.14%) (init = 0)\n",
      "    intercept:  1.54507032 +/- 0.05663205 (3.67%) (init = 1)\n",
      "[[Correlations]] (unreported correlations are < 0.100)\n",
      "    C(slope, intercept) = -0.867\n",
      "[[Model]]\n",
      "    Model(line)\n",
      "[[Fit Statistics]]\n",
      "    # fitting method   = leastsq\n",
      "    # function evals   = 6\n",
      "    # data points      = 375\n",
      "    # variables        = 2\n",
      "    chi-square         = 0.30207444\n",
      "    reduced chi-square = 8.0985e-04\n",
      "    Akaike info crit   = -2667.50293\n",
      "    Bayesian info crit = -2659.64908\n",
      "[[Variables]]\n",
      "    slope:      0.00212437 +/- 8.4845e-07 (0.04%) (init = 0)\n",
      "    intercept:  0.01684101 +/- 0.00294500 (17.49%) (init = 1)\n",
      "[[Correlations]] (unreported correlations are < 0.100)\n",
      "    C(slope, intercept) = -0.867\n",
      "[[Model]]\n",
      "    Model(line)\n",
      "[[Fit Statistics]]\n",
      "    # fitting method   = leastsq\n",
      "    # function evals   = 10\n",
      "    # data points      = 375\n",
      "    # variables        = 2\n",
      "    chi-square         = 0.46613893\n",
      "    reduced chi-square = 0.00124970\n",
      "    Akaike info crit   = -2504.82409\n",
      "    Bayesian info crit = -2496.97024\n",
      "[[Variables]]\n",
      "    slope:      0.06414579 +/- 1.0540e-06 (0.00%) (init = 0)\n",
      "    intercept:  0.05611065 +/- 0.00365836 (6.52%) (init = 1)\n",
      "[[Correlations]] (unreported correlations are < 0.100)\n",
      "    C(slope, intercept) = -0.867\n",
      "[[Model]]\n",
      "    Model(line)\n",
      "[[Fit Statistics]]\n",
      "    # fitting method   = leastsq\n",
      "    # function evals   = 6\n",
      "    # data points      = 375\n",
      "    # variables        = 2\n",
      "    chi-square         = 0.00441193\n",
      "    reduced chi-square = 1.1828e-05\n",
      "    Akaike info crit   = -4252.38821\n",
      "    Bayesian info crit = -4244.53436\n",
      "[[Variables]]\n",
      "    slope:      2.9035e-04 +/- 1.0254e-07 (0.04%) (init = 0)\n",
      "    intercept:  0.00449514 +/- 3.5591e-04 (7.92%) (init = 1)\n",
      "[[Correlations]] (unreported correlations are < 0.100)\n",
      "    C(slope, intercept) = -0.867\n",
      "[[Model]]\n",
      "    Model(line)\n",
      "[[Fit Statistics]]\n",
      "    # fitting method   = leastsq\n",
      "    # function evals   = 13\n",
      "    # data points      = 375\n",
      "    # variables        = 2\n",
      "    chi-square         = 120.381711\n",
      "    reduced chi-square = 0.32273917\n",
      "    Akaike info crit   = -422.096904\n",
      "    Bayesian info crit = -414.243052\n",
      "[[Variables]]\n",
      "    slope:      0.13882328 +/- 1.6938e-05 (0.01%) (init = 0)\n",
      "    intercept:  1.66718312 +/- 0.05879079 (3.53%) (init = 1)\n",
      "[[Correlations]] (unreported correlations are < 0.100)\n",
      "    C(slope, intercept) = -0.867\n"
     ]
    }
   ],
   "source": [
    "results = []\n",
    "ylabels = (['Energy [mJ]'] * 2 + ['Time [ms]'] * 2) * 2 + ['Energy [mJ]'] + ['Time [ms]']\n",
    "parameter_names = [\n",
    "    'Encrypt Energy',\n",
    "    'Flash Write Energy',\n",
    "    'Flash Read Energy',\n",
    "    'Decrypt Energy',\n",
    "    'Encrypt Time',\n",
    "    'Flash Write Time',\n",
    "    'Flash Read Time',\n",
    "    'Decrypt Time',\n",
    "    'Total Energy',\n",
    "    'Total Time',\n",
    "]\n",
    "for y in [aes_encrypt_energy, aes_flash_write_energy, aes_flash_read_energy, aes_decrypt_energy, aes_encrypt_time_s, aes_flash_write_time_s, aes_flash_read_time_s, aes_decrypt_time_s,\n",
    "          [e + w + r + d for (e,w,r,d) in zip(aes_encrypt_energy, aes_flash_write_energy, aes_flash_read_energy, aes_decrypt_energy)],\n",
    "          [e + w + r + d for (e,w,r,d) in zip(aes_encrypt_time_s, aes_flash_write_time_s, aes_flash_read_time_s, aes_decrypt_time_s)]]:\n",
    "    result = mod.fit(y, pars, x=num_bytes)\n",
    "    print(result.fit_report())\n",
    "    fig, grid = result.plot(\n",
    "        xlabel='Checkpoint Size [Bytes]',\n",
    "        ylabel=ylabels[len(results)])\n",
    "    fig.tight_layout(rect=(0.05, 0.05, 1, 1))\n",
    "    fig.set_size_inches(5, 4.5, forward=True)\n",
    "    fig.canvas.set_window_title(\n",
    "        f\"Residuals of {experiment_name} {parameter_names[len(results)]}\")\n",
    "    fig.show()\n",
    "    results.append(result)"
   ]
  },
  {
   "cell_type": "code",
   "execution_count": 32,
   "metadata": {},
   "outputs": [],
   "source": [
    "fig2 = plt.figure(figsize=(8, 6))\n",
    "fig2.canvas.set_window_title(f\"Analysis {experiment_name}\")"
   ]
  },
  {
   "cell_type": "code",
   "execution_count": 33,
   "metadata": {},
   "outputs": [],
   "source": [
    "charge_color = 'r'\n",
    "time_color = 'b'"
   ]
  },
  {
   "cell_type": "code",
   "execution_count": 34,
   "metadata": {},
   "outputs": [],
   "source": [
    "fig2.clf()\n",
    "# fig2.suptitle(\"Energy analysis of AES\")\n",
    "ax1 = fig2.add_subplot(1, 1, 1)\n",
    "ax2 = ax1.twinx()\n",
    "ax1.set_xlabel('Checkpoint Size [Bytes]')\n",
    "ax1.set_ylabel('Energy [mJ]', color=charge_color)\n",
    "ax2.set_ylabel('Time [ms]', color=time_color)\n",
    "ax1.tick_params('y', colors=charge_color)\n",
    "ax2.tick_params('y', colors=time_color)"
   ]
  },
  {
   "cell_type": "code",
   "execution_count": 35,
   "metadata": {},
   "outputs": [],
   "source": [
    "lines = []\n",
    "lines += ax1.plot(num_bytes, aes_encrypt_energy, charge_color+'-', label=f'{parameter_names[len(lines)]}')\n",
    "lines += ax1.plot(num_bytes, aes_flash_write_energy, charge_color+'-.', label=f'{parameter_names[len(lines)]}')\n",
    "lines += ax1.plot(num_bytes, aes_flash_read_energy, charge_color+':', label=f'{parameter_names[len(lines)]}')\n",
    "lines += ax1.plot(num_bytes, aes_decrypt_energy, charge_color+'--', label=f'{parameter_names[len(lines)]}')\n",
    "lines += ax2.plot(num_bytes, aes_encrypt_time_s, time_color+'-', label=f'{parameter_names[len(lines)]}')\n",
    "lines += ax2.plot(num_bytes, aes_flash_write_time_s, time_color+'-.', label=f'{parameter_names[len(lines)]}')\n",
    "lines += ax2.plot(num_bytes, aes_flash_read_time_s, time_color+':', label=f'{parameter_names[len(lines)]}')\n",
    "lines += ax2.plot(num_bytes, aes_decrypt_time_s, time_color+'--', label=f'{parameter_names[len(lines)]}')\n",
    "ax1.legend(handles=lines)\n",
    "ax1.set_title(\n",
    "    f\"{parameter_names[0]}: Slope {results[0].params['slope'].value * model_j_scale:.04} nJ/B, Intercept {results[0].params['intercept'].value * model_j_scale:.04} nJ\\n\" +\n",
    "    f\"{parameter_names[1]}: Slope {results[1].params['slope'].value * model_j_scale:.04} nJ/B, Intercept {results[1].params['intercept'].value * model_j_scale:.04} nJ\\n\" +\n",
    "    f\"{parameter_names[2]}: Slope {results[2].params['slope'].value * model_j_scale:.04} nJ/B, Intercept {results[2].params['intercept'].value * model_j_scale:.04} nJ\\n\" +\n",
    "    f\"{parameter_names[3]}: Slope {results[3].params['slope'].value * model_j_scale:.04} nJ/B, Intercept {results[3].params['intercept'].value * model_j_scale:.04} nJ\\n\" +\n",
    "    f\"{parameter_names[4]}: Slope {results[4].params['slope'].value * model_t_scale:.04} $\\mu$s/B, Intercept {results[4].params['intercept'].value * model_t_scale:.04} $\\mu$s\\n\" +\n",
    "    f\"{parameter_names[5]}: Slope {results[5].params['slope'].value * model_t_scale:.04} $\\mu$s/B, Intercept {results[5].params['intercept'].value * model_t_scale:.04} $\\mu$s\\n\" +\n",
    "    f\"{parameter_names[6]}: Slope {results[6].params['slope'].value * model_t_scale:.04} $\\mu$s/B, Intercept {results[6].params['intercept'].value * model_t_scale:.04} $\\mu$s\\n\" +\n",
    "    f\"{parameter_names[7]}: Slope {results[7].params['slope'].value * model_t_scale:.04} $\\mu$s/B, Intercept {results[7].params['intercept'].value * model_t_scale:.04} $\\mu$s\\n\" +\n",
    "    f\"{parameter_names[8]}: Slope {results[8].params['slope'].value * model_j_scale:.04} nJ/B, Intercept {results[8].params['intercept'].value * model_j_scale:.04} nJ\\n\" +\n",
    "    f\"{parameter_names[9]}: Slope {results[9].params['slope'].value * model_t_scale:.04} $\\mu$s/B, Intercept {results[9].params['intercept'].value * model_t_scale:.04} $\\mu$s\\n\")\n",
    "fig2.tight_layout()\n",
    "fig2.show()"
   ]
  },
  {
   "cell_type": "code",
   "execution_count": 36,
   "metadata": {},
   "outputs": [
    {
     "name": "stdout",
     "output_type": "stream",
     "text": [
      "Encrypt Energy: Slope 105.30771814675219389 nJ/B, Intercept -1226.3566688184291706 nJ\n",
      "Flash Write Energy: Slope 72.630528765532858415 nJ/B, Intercept 7058.6180500923355794 nJ\n",
      "Flash Read Energy: Slope 2.4956429521393324045 nJ/B, Intercept -96.512896449629792528 nJ\n",
      "Decrypt Energy: Slope 109.91495287115556323 nJ/B, Intercept -1240.6089384378037721 nJ\n",
      "Encrypt Time: Slope 61.021206641579354368 $\\mu$s/B, Intercept 49.161357054819021073 $\\mu$s\n",
      "Flash Write Time: Slope 11.531912043086407493 $\\mu$s/B, Intercept 1545.0703159837298699 $\\mu$s\n",
      "Flash Read Time: Slope 2.1243731396638350084 $\\mu$s/B, Intercept 16.841006391630997996 $\\mu$s\n",
      "Decrypt Time: Slope 64.145791104785914172 $\\mu$s/B, Intercept 56.110647566873858239 $\\mu$s\n",
      "Total Energy: Slope 290.34884273557923962 nJ/B, Intercept 4495.1395529330138743 nJ\n",
      "Total Time: Slope 138.82328297990119381 $\\mu$s/B, Intercept 1667.1831234703647624 $\\mu$s\n",
      "\n"
     ]
    }
   ],
   "source": [
    "print(\n",
    "    f\"{parameter_names[0]}: Slope {results[0].params['slope'].value * model_j_scale:.020} nJ/B, Intercept {results[0].params['intercept'].value * model_j_scale:.020} nJ\\n\" +\n",
    "    f\"{parameter_names[1]}: Slope {results[1].params['slope'].value * model_j_scale:.020} nJ/B, Intercept {results[1].params['intercept'].value * model_j_scale:.020} nJ\\n\" +\n",
    "    f\"{parameter_names[2]}: Slope {results[2].params['slope'].value * model_j_scale:.020} nJ/B, Intercept {results[2].params['intercept'].value * model_j_scale:.020} nJ\\n\" +\n",
    "    f\"{parameter_names[3]}: Slope {results[3].params['slope'].value * model_j_scale:.020} nJ/B, Intercept {results[3].params['intercept'].value * model_j_scale:.020} nJ\\n\" +\n",
    "    f\"{parameter_names[4]}: Slope {results[4].params['slope'].value * model_t_scale:.020} $\\mu$s/B, Intercept {results[4].params['intercept'].value * model_t_scale:.020} $\\mu$s\\n\" +\n",
    "    f\"{parameter_names[5]}: Slope {results[5].params['slope'].value * model_t_scale:.020} $\\mu$s/B, Intercept {results[5].params['intercept'].value * model_t_scale:.020} $\\mu$s\\n\" +\n",
    "    f\"{parameter_names[6]}: Slope {results[6].params['slope'].value * model_t_scale:.020} $\\mu$s/B, Intercept {results[6].params['intercept'].value * model_t_scale:.020} $\\mu$s\\n\" +\n",
    "    f\"{parameter_names[7]}: Slope {results[7].params['slope'].value * model_t_scale:.020} $\\mu$s/B, Intercept {results[7].params['intercept'].value * model_t_scale:.020} $\\mu$s\\n\" +\n",
    "    f\"{parameter_names[8]}: Slope {results[8].params['slope'].value * model_j_scale:.020} nJ/B, Intercept {results[8].params['intercept'].value * model_j_scale:.020} nJ\\n\" +\n",
    "    f\"{parameter_names[9]}: Slope {results[9].params['slope'].value * model_t_scale:.020} $\\mu$s/B, Intercept {results[9].params['intercept'].value * model_t_scale:.020} $\\mu$s\\n\"\n",
    ")"
   ]
  },
  {
   "cell_type": "code",
   "execution_count": 37,
   "metadata": {},
   "outputs": [],
   "source": [
    "# Save Charge amount list into pickle file\n",
    "import pickle\n",
    "pickle.dump(aes_encrypt_energy, open(\"aes_flash_encrypt_energy_mJ.p\", \"wb\"))\n",
    "pickle.dump(aes_decrypt_energy, open(\"aes_flash_decrypt_energy_mJ.p\", \"wb\"))\n",
    "pickle.dump(aes_flash_write_energy, open(\"aes_flash_write_energy_mJ.p\", \"wb\"))\n",
    "pickle.dump(aes_flash_read_energy, open(\"aes_flash_read_energy_mJ.p\", \"wb\"))\n",
    "pickle.dump(aes_encrypt_time_s, open(\"aes_flash_encrypt_time_ms.p\", \"wb\"))\n",
    "pickle.dump(aes_decrypt_time_s, open(\"aes_flash_decrypt_time_ms.p\", \"wb\"))\n",
    "pickle.dump(aes_flash_write_time_s, open(\"aes_flash_write_time_ms.p\", \"wb\"))\n",
    "pickle.dump(aes_flash_read_time_s, open(\"aes_flash_read_time_ms.p\", \"wb\"))"
   ]
  },
  {
   "cell_type": "code",
   "execution_count": 38,
   "metadata": {},
   "outputs": [
    {
     "name": "stdout",
     "output_type": "stream",
     "text": [
      "375 6000\n",
      "375 6000\n",
      "375 6000\n",
      "375 6000\n",
      "375 6000\n",
      "375 6000\n",
      "375 6000\n",
      "375 6000\n"
     ]
    }
   ],
   "source": [
    "aes = [aes_encrypt_energy, aes_flash_write_energy, aes_flash_read_energy, aes_decrypt_energy, aes_encrypt_time_s, aes_flash_write_time_s, aes_flash_read_time_s, aes_decrypt_time_s]\n",
    "for i in aes:\n",
    "    print(len(i), len(i)*16)"
   ]
  },
  {
   "cell_type": "markdown",
   "metadata": {},
   "source": [
    "## Write config file"
   ]
  },
  {
   "cell_type": "code",
   "execution_count": 39,
   "metadata": {},
   "outputs": [],
   "source": [
    "import json\n",
    "\n",
    "config = {}\n",
    "config[\"name\"] = \"AES-256 Flash\"\n",
    "config[\"project_paths\"] = [project_path]\n",
    "config[\"config_dict\"] = config_dict\n",
    "config[\"config_dict_plot\"] = config_dict_plot\n",
    "config[\"analysis\"] = {\"pins\":{2: [\"AES-256 Encrypt\", \"AES-256 Decrypt\"], 3: [\"AES-256 Flash Write\", \"AES-256 Flash Read\"]}, \n",
    "                      \"result_types\": [\"Charge\", \"Time\"],\n",
    "                      \"section_types\": {\"init\": [], \n",
    "                                        \"store\": [\"AES-256 Encrypt\", \"AES-256 Flash Write\"],\n",
    "                                        \"load\": [\"AES-256 Flash Read\", \"AES-256 Decrypt\"],\n",
    "                                        \"exit\": []},\n",
    "                      \"labels\": {\n",
    "                          \"Charge\": {\"x\":\"Data Size\", \"x_unit\": \"byte\", \"y\": \"Charge\", \"y_unit\": \"C\"},\n",
    "                          \"Time\": {\"x\":\"Data Size\", \"x_unit\": \"byte\", \"y\": \"Time\", \"y_unit\": \"s\"},\n",
    "                      },\n",
    "                      \"x_step\": MBEDTLS_AES_BLOCK_SIZE}\n",
    "\n",
    "with open(\"looped_experiment.json\", 'w') as config_file:  \n",
    "    json.dump(config, config_file, indent=4)"
   ]
  },
  {
   "cell_type": "markdown",
   "metadata": {},
   "source": [
    "# Write model data"
   ]
  },
  {
   "cell_type": "code",
   "execution_count": 40,
   "metadata": {},
   "outputs": [],
   "source": [
    "dump_pickle = True\n",
    "fit_lm = True\n",
    "verbose = 2\n",
    "show_lm_plot = 2"
   ]
  },
  {
   "cell_type": "code",
   "execution_count": 41,
   "metadata": {},
   "outputs": [],
   "source": [
    "# Parse data\n",
    "analysis_config = config.get(\"analysis\")\n",
    "result_types = analysis_config.get(\"result_types\")\n",
    "x_step = analysis_config.get(\"x_step\")\n",
    "parsed_data = {}\n",
    "for pin, parameter_names in analysis_config.get(\"pins\").items():\n",
    "    data2 = power_and_time_per_pulse(\n",
    "        data, int(pin), stop_function=stop_function)\n",
    "    num_names = len(parameter_names)\n",
    "    for i, parameter_name in enumerate(parameter_names):\n",
    "        end_index = -drop * num_names or None\n",
    "        parsed_data[parameter_name] = {\n",
    "            result_types[0]: data2[0][i:end_index:num_names],\n",
    "            result_types[1]: data2[1][i:end_index:num_names],\n",
    "            \"x_step\": x_step}\n",
    "if dump_pickle:\n",
    "    pickle.dump(parsed_data, open(\n",
    "        path.join(path.curdir,\n",
    "                  f\"{config_dict.get('file_name_base')}_looped.p\"), \"wb\"))"
   ]
  },
  {
   "cell_type": "code",
   "execution_count": 42,
   "metadata": {},
   "outputs": [
    {
     "name": "stdout",
     "output_type": "stream",
     "text": [
      "Fitting model to AES-256 Encrypt with 375 samples, from 16 to 6000 bytes in steps of 16.\n",
      "[[Model]]\n",
      "    Model(line)\n",
      "[[Fit Statistics]]\n",
      "    # fitting method   = leastsq\n",
      "    # function evals   = 9\n",
      "    # data points      = 375\n",
      "    # variables        = 2\n",
      "    chi-square         = 6.4793e-12\n",
      "    reduced chi-square = 1.7371e-14\n",
      "    Akaike info crit   = -11879.4999\n",
      "    Bayesian info crit = -11871.6461\n",
      "[[Variables]]\n",
      "    intercept: -3.6828e-07 +/- 1.3639e-08 (3.70%) (init = 0)\n",
      "    slope:      3.1624e-08 +/- 3.9295e-12 (0.01%) (init = 1)\n",
      "[[Correlations]] (unreported correlations are < 0.100)\n",
      "    C(intercept, slope) = -0.867\n",
      "[[Model]]\n",
      "    Model(line)\n",
      "[[Fit Statistics]]\n",
      "    # fitting method   = leastsq\n",
      "    # function evals   = 7\n",
      "    # data points      = 375\n",
      "    # variables        = 2\n",
      "    chi-square         = 3.8959e-07\n",
      "    reduced chi-square = 1.0445e-09\n",
      "    Akaike info crit   = -7752.90950\n",
      "    Bayesian info crit = -7745.05565\n",
      "[[Variables]]\n",
      "    intercept:  4.9161e-05 +/- 3.3445e-06 (6.80%) (init = 0)\n",
      "    slope:      6.1021e-05 +/- 9.6358e-10 (0.00%) (init = 1)\n",
      "[[Correlations]] (unreported correlations are < 0.100)\n",
      "    C(intercept, slope) = -0.867\n",
      "Fitting model to AES-256 Decrypt with 375 samples, from 16 to 6000 bytes in steps of 16.\n",
      "[[Model]]\n",
      "    Model(line)\n",
      "[[Fit Statistics]]\n",
      "    # fitting method   = leastsq\n",
      "    # function evals   = 10\n",
      "    # data points      = 375\n",
      "    # variables        = 2\n",
      "    chi-square         = 6.5279e-12\n",
      "    reduced chi-square = 1.7501e-14\n",
      "    Akaike info crit   = -11876.6959\n",
      "    Bayesian info crit = -11868.8421\n",
      "[[Variables]]\n",
      "    intercept: -3.7256e-07 +/- 1.3690e-08 (3.67%) (init = 0)\n",
      "    slope:      3.3007e-08 +/- 3.9442e-12 (0.01%) (init = 1)\n",
      "[[Correlations]] (unreported correlations are < 0.100)\n",
      "    C(intercept, slope) = -0.867\n",
      "[[Model]]\n",
      "    Model(line)\n",
      "[[Fit Statistics]]\n",
      "    # fitting method   = leastsq\n",
      "    # function evals   = 7\n",
      "    # data points      = 375\n",
      "    # variables        = 2\n",
      "    chi-square         = 4.6614e-07\n",
      "    reduced chi-square = 1.2497e-09\n",
      "    Akaike info crit   = -7685.64055\n",
      "    Bayesian info crit = -7677.78670\n",
      "[[Variables]]\n",
      "    intercept:  5.6111e-05 +/- 3.6584e-06 (6.52%) (init = 0)\n",
      "    slope:      6.4146e-05 +/- 1.0540e-09 (0.00%) (init = 1)\n",
      "[[Correlations]] (unreported correlations are < 0.100)\n",
      "    C(intercept, slope) = -0.867\n",
      "Fitting model to AES-256 Flash Write with 375 samples, from 16 to 6000 bytes in steps of 16.\n",
      "[[Model]]\n",
      "    Model(line)\n",
      "[[Fit Statistics]]\n",
      "    # fitting method   = leastsq\n",
      "    # function evals   = 9\n",
      "    # data points      = 375\n",
      "    # variables        = 2\n",
      "    chi-square         = 4.8944e-10\n",
      "    reduced chi-square = 1.3122e-12\n",
      "    Akaike info crit   = -10257.7546\n",
      "    Bayesian info crit = -10249.9008\n",
      "[[Variables]]\n",
      "    intercept:  2.1197e-06 +/- 1.1854e-07 (5.59%) (init = 0)\n",
      "    slope:      2.1811e-08 +/- 3.4152e-11 (0.16%) (init = 1)\n",
      "[[Correlations]] (unreported correlations are < 0.100)\n",
      "    C(intercept, slope) = -0.867\n",
      "[[Model]]\n",
      "    Model(line)\n",
      "[[Fit Statistics]]\n",
      "    # fitting method   = leastsq\n",
      "    # function evals   = 7\n",
      "    # data points      = 375\n",
      "    # variables        = 2\n",
      "    chi-square         = 1.1170e-04\n",
      "    reduced chi-square = 2.9947e-07\n",
      "    Akaike info crit   = -5630.97106\n",
      "    Bayesian info crit = -5623.11720\n",
      "[[Variables]]\n",
      "    intercept:  0.00154507 +/- 5.6632e-05 (3.67%) (init = 0)\n",
      "    slope:      1.1532e-05 +/- 1.6316e-08 (0.14%) (init = 1)\n",
      "[[Correlations]] (unreported correlations are < 0.100)\n",
      "    C(intercept, slope) = -0.867\n",
      "Fitting model to AES-256 Flash Read with 375 samples, from 16 to 6000 bytes in steps of 16.\n",
      "[[Model]]\n",
      "    Model(line)\n",
      "[[Fit Statistics]]\n",
      "    # fitting method   = leastsq\n",
      "    # function evals   = 10\n",
      "    # data points      = 375\n",
      "    # variables        = 2\n",
      "    chi-square         = 6.1306e-14\n",
      "    reduced chi-square = 1.6436e-16\n",
      "    Akaike info crit   = -13627.1837\n",
      "    Bayesian info crit = -13619.3298\n",
      "[[Variables]]\n",
      "    intercept: -2.8983e-08 +/- 1.3267e-09 (4.58%) (init = 0)\n",
      "    slope:      7.4944e-10 +/- 3.8223e-13 (0.05%) (init = 1)\n",
      "[[Correlations]] (unreported correlations are < 0.100)\n",
      "    C(intercept, slope) = -0.867\n",
      "[[Model]]\n",
      "    Model(line)\n",
      "[[Fit Statistics]]\n",
      "    # fitting method   = leastsq\n",
      "    # function evals   = 7\n",
      "    # data points      = 375\n",
      "    # variables        = 2\n",
      "    chi-square         = 3.0207e-07\n",
      "    reduced chi-square = 8.0985e-10\n",
      "    Akaike info crit   = -7848.31939\n",
      "    Bayesian info crit = -7840.46554\n",
      "[[Variables]]\n",
      "    intercept:  1.6841e-05 +/- 2.9450e-06 (17.49%) (init = 0)\n",
      "    slope:      2.1244e-06 +/- 8.4846e-10 (0.04%) (init = 1)\n",
      "[[Correlations]] (unreported correlations are < 0.100)\n",
      "    C(intercept, slope) = -0.867\n"
     ]
    }
   ],
   "source": [
    "# Fit lm\n",
    "if fit_lm:\n",
    "    model = None\n",
    "    if model is None:\n",
    "        def line(x, intercept, slope):\n",
    "            \"\"\"a line\"\"\"\n",
    "            return [intercept + slope*i for i in x]\n",
    "\n",
    "        model = Model(line)\n",
    "        params = model.make_params(intercept=0, slope=1)\n",
    "#         params['intercept'].set(min=0)\n",
    "    else:\n",
    "        params = model.params\n",
    "\n",
    "    model_results = {}\n",
    "    labels = analysis_config.get(\"labels\")\n",
    "    for parameter_name in parsed_data.keys():\n",
    "        length = len(parsed_data[parameter_name][result_types[0]])\n",
    "        x_step = parsed_data[parameter_name][\"x_step\"]\n",
    "        num_bytes = range(x_step, (length+1)*x_step, x_step)\n",
    "        if verbose:\n",
    "            print(\n",
    "                f\"Fitting model to {parameter_name} with {length} \" +\n",
    "                f\"samples, from {min(num_bytes)} to {max(num_bytes)} \"\n",
    "                f\"bytes in steps of {x_step}.\")\n",
    "        model_result = {}\n",
    "        for result_type in result_types:\n",
    "            model_result[result_type] = model.fit(\n",
    "                parsed_data[parameter_name][result_type], params,\n",
    "                x=num_bytes)\n",
    "            if verbose >= 2:\n",
    "                print(model_result[result_type].fit_report())\n",
    "            # Plot multiple view\n",
    "            if show_lm_plot >= 2:\n",
    "                fig, grid = model_result[result_type].plot(\n",
    "                    xlabel=f\"{labels[result_type]['x']} \" +\n",
    "                           f\"[{labels[result_type]['x_unit']}]\",\n",
    "                    ylabel=f\"{labels[result_type]['y']} \" +\n",
    "                           f\"[{labels[result_type]['y_unit']}]\")\n",
    "                fig.canvas.set_window_title(\n",
    "                    f\"Residuals of {parameter_name}\")\n",
    "                fig.tight_layout()\n",
    "                fig.show()\n",
    "            model_results[parameter_name] = model_result\n",
    "\n",
    "    # Plot single view\n",
    "    if show_lm_plot:\n",
    "        import matplotlib.pyplot as plt\n",
    "        fig = plt.figure(figsize=(9, 6))\n",
    "        fig.canvas.set_window_title(f\"Analysis {config.get('name')}\")\n",
    "        colors = dict(zip(result_types, ['r', 'b']))\n",
    "        line_styles = (\n",
    "            line_style for line_style in ('-', '--', '-.', ':') * 2)\n",
    "        # fig.suptitle(f\"Energy analysis of {config.get('name')}\")\n",
    "        ax = {}\n",
    "        ax[result_types[0]] = fig.add_subplot(1, 1, 1)\n",
    "        ax[result_types[1]] = ax[result_types[0]].twinx()\n",
    "        ax[result_types[0]].set_xlabel(\n",
    "            f\"{labels[result_types[0]]['x']} \" +\n",
    "            f\"[{labels[result_types[0]]['x_unit']}]\")\n",
    "        for result_type in result_types:\n",
    "            ax[result_type].set_ylabel(\n",
    "                f\"{labels[result_type]['y']} \" +\n",
    "                f\"[{labels[result_type]['y_unit']}]\",\n",
    "                color=colors[result_type])\n",
    "            ax[result_type].tick_params('y', colors=colors[result_type])\n",
    "\n",
    "        lines = []\n",
    "        title_str = \"\"\n",
    "        for parameter_name in parsed_data.keys():\n",
    "            length = len(parsed_data[parameter_name][result_types[0]])\n",
    "            x_step = parsed_data[parameter_name][\"x_step\"]\n",
    "            num_bytes = range(x_step, (length+1)*x_step, x_step)\n",
    "            model_result = {}\n",
    "            line_style = next(line_styles)\n",
    "            for result_type in result_types:\n",
    "                label = f\"{parameter_name} {labels[result_type]['y']}\"\n",
    "                lines += ax[result_type].plot(\n",
    "                    num_bytes, parsed_data[parameter_name][result_type],\n",
    "                    colors[result_type] + line_style, label=label)\n",
    "                title_str += f\"{label} \"\n",
    "                for param in params.keys():\n",
    "                    title_str += \"\".join(\n",
    "                        f\"{params[param].name.capitalize()}: \")\n",
    "                    title_str += \"\".join(\n",
    "                        f\"{model_results[parameter_name][result_type].params[param].value: .03} \")\n",
    "                    title_str += \"\".join(\n",
    "                        f\"{labels[result_type]['y_unit']}, \")\n",
    "                title_str = title_str[:-2] + \\\n",
    "                    f\" per {labels[result_type]['x_unit']}\\n\"\n",
    "        ax[result_types[0]].legend(handles=lines)\n",
    "        ax[result_types[0]].set_title(title_str[:-1])\n",
    "        # fig.tight_layout()\n",
    "        fig.tight_layout(rect=(0.05, 0.05, 1, 1))\n",
    "        fig.set_size_inches(8, 6, forward=True)\n",
    "        fig.show()\n",
    "\n",
    "    # Save model results to file\n",
    "    if dump_pickle:\n",
    "        model_results_dump = {}\n",
    "        for parameter_name in model_results.keys():\n",
    "            model_results_dump[parameter_name] = {}\n",
    "            for result_type in model_results[parameter_name].keys():\n",
    "                model_results_dump[parameter_name][result_type] = \\\n",
    "                    model_results[parameter_name][result_type].values\n",
    "\n",
    "        pickle.dump(model_results_dump, open(path.join(\n",
    "            path.curdir,\n",
    "            f\"{config_dict.get('file_name_base')}_model.p\"), \"wb\"))"
   ]
  },
  {
   "cell_type": "code",
   "execution_count": null,
   "metadata": {},
   "outputs": [],
   "source": []
  }
 ],
 "metadata": {
  "kernelspec": {
   "display_name": "Python 3",
   "language": "python",
   "name": "python3"
  },
  "language_info": {
   "codemirror_mode": {
    "name": "ipython",
    "version": 3
   },
   "file_extension": ".py",
   "mimetype": "text/x-python",
   "name": "python",
   "nbconvert_exporter": "python",
   "pygments_lexer": "ipython3",
   "version": "3.8.1"
  }
 },
 "nbformat": 4,
 "nbformat_minor": 4
}

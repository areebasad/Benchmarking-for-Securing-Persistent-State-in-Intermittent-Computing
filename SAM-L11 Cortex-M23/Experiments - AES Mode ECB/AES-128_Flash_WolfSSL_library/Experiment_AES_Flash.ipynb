{
 "cells": [
  {
   "cell_type": "markdown",
   "metadata": {},
   "source": [
    "## Import Libraries"
   ]
  },
  {
   "cell_type": "code",
   "execution_count": 1,
   "metadata": {},
   "outputs": [],
   "source": [
    "# %matplotlib ipympl\n",
    "# %matplotlib inline\n",
    "%matplotlib wx"
   ]
  },
  {
   "cell_type": "code",
   "execution_count": 2,
   "metadata": {},
   "outputs": [],
   "source": [
    "import matplotlib.pyplot as plt\n",
    "plt.ion()"
   ]
  },
  {
   "cell_type": "code",
   "execution_count": 3,
   "metadata": {},
   "outputs": [],
   "source": [
    "from pydgilib_extra import *\n",
    "from atprogram.atprogram import atprogram"
   ]
  },
  {
   "cell_type": "code",
   "execution_count": 4,
   "metadata": {},
   "outputs": [],
   "source": [
    "from os import getcwd, path, pardir\n",
    "import pickle"
   ]
  },
  {
   "cell_type": "markdown",
   "metadata": {},
   "source": [
    "## Compile and program project"
   ]
  },
  {
   "cell_type": "code",
   "execution_count": 5,
   "metadata": {},
   "outputs": [
    {
     "data": {
      "text/plain": [
       "['.', 'AES_Flash-S']"
      ]
     },
     "execution_count": 5,
     "metadata": {},
     "output_type": "execute_result"
    }
   ],
   "source": [
    "project_path = [path.curdir, \"AES_Flash-S\"]\n",
    "project_path "
   ]
  },
  {
   "cell_type": "code",
   "execution_count": 6,
   "metadata": {},
   "outputs": [
    {
     "name": "stdout",
     "output_type": "stream",
     "text": [
      "make: Nothing to be done for 'all'.\n",
      "\n",
      "[DEBUG] Starting execution of \"chiperase\"\n",
      "[DEBUG] Starting process 'C:\\Program Files (x86)\\Atmel\\Studio\\7.0\\atbackend\\atbackend.exe'\n",
      "[DEBUG] Connecting to TCP:127.0.0.1:64719\n",
      "[INFO] Connected to edbg, fw version: 3.25\n",
      "[INFO] Firmware check OK\n",
      "[DEBUG] Command \"chiperase\" finished with return code 0\n",
      "[DEBUG] Starting execution of \"program\"\n",
      "[DEBUG] Memory segment base written at 0x00000000. Size = 0x00003cd8.\n",
      "[DEBUG] Memory segment base written at 0x00003cd8. Size = 0x00000074.\n",
      "[DEBUG] Memory segment base written at 0x0000fb00. Size = 0x00000020.\n",
      "[DEBUG] Memory segment base written at 0x00804000. Size = 0x00000020.\n",
      "[DEBUG] Command \"program\" finished with return code 0\n",
      "[DEBUG] Exit successfully.\n",
      "Firmware check OK\n",
      "Chiperase completed successfully\n",
      "Programming completed successfully.\n",
      "\n"
     ]
    },
    {
     "data": {
      "text/plain": [
       "0"
      ]
     },
     "execution_count": 6,
     "metadata": {},
     "output_type": "execute_result"
    }
   ],
   "source": [
    "atprogram(\"./AES-128_Flash_WolfSSL_library\", device_name = \"ATSAML11E16A\", verbose=2)"
   ]
  },
  {
   "cell_type": "code",
   "execution_count": 7,
   "metadata": {},
   "outputs": [],
   "source": [
    "#atprogram(path.abspath(path.join(*project_path)), verbose=2)"
   ]
  },
  {
   "cell_type": "code",
   "execution_count": null,
   "metadata": {},
   "outputs": [],
   "source": []
  },
  {
   "cell_type": "markdown",
   "metadata": {},
   "source": [
    "## Data Logging"
   ]
  },
  {
   "cell_type": "code",
   "execution_count": 8,
   "metadata": {},
   "outputs": [],
   "source": [
    "live_plot = False"
   ]
  },
  {
   "cell_type": "markdown",
   "metadata": {},
   "source": [
    "Create a figure for the plot."
   ]
  },
  {
   "cell_type": "code",
   "execution_count": 9,
   "metadata": {},
   "outputs": [],
   "source": [
    "if live_plot:\n",
    "    fig = plt.figure(figsize=(10, 6))\n",
    "    fig.show()"
   ]
  },
  {
   "cell_type": "markdown",
   "metadata": {},
   "source": [
    "Create the configuration dictionary for `DGILibExtra`."
   ]
  },
  {
   "cell_type": "code",
   "execution_count": 10,
   "metadata": {},
   "outputs": [],
   "source": [
    "config_dict = {\n",
    "    \"loggers\": [LOGGER_OBJECT, LOGGER_CSV],\n",
    "    \"file_name_base\": \"experiment_aes_flash\"\n",
    "}\n",
    "config_dict_plot = {\n",
    "    \"loggers\": [LOGGER_OBJECT, LOGGER_PLOT, LOGGER_CSV],\n",
    "    \"plot_pins\": [False, False, True, True],\n",
    "    \"plot_pins_method\": \"line\",\n",
    "    \"plot_xmax\": 5,\n",
    "    \"window_title\": \"Experiment AES-128 Flash\",\n",
    "}"
   ]
  },
  {
   "cell_type": "markdown",
   "metadata": {},
   "source": [
    "Stop criteria to pass to the logger:"
   ]
  },
  {
   "cell_type": "code",
   "execution_count": 11,
   "metadata": {},
   "outputs": [],
   "source": [
    "def stop_fn(logger_data):\n",
    "    return all(logger_data.gpio.values[-1])"
   ]
  },
  {
   "cell_type": "markdown",
   "metadata": {},
   "source": [
    "Perform the measurement."
   ]
  },
  {
   "cell_type": "code",
   "execution_count": 12,
   "metadata": {},
   "outputs": [],
   "source": [
    "data = []\n",
    "cd = config_dict.copy()\n",
    "if live_plot:\n",
    "    fig.clf()\n",
    "    for ax in fig.get_axes():\n",
    "        ax.cla()\n",
    "    \n",
    "    cd.update(config_dict_plot)\n",
    "    cd[\"fig\"] = fig\n",
    "    \n",
    "with DGILibExtra(**cd) as dgilib:\n",
    "    dgilib.device_reset()\n",
    "    dgilib.logger.log(1000,stop_fn)\n",
    "    data = dgilib.data"
   ]
  },
  {
   "cell_type": "code",
   "execution_count": 13,
   "metadata": {},
   "outputs": [
    {
     "data": {
      "text/plain": [
       "{48: 6011, 256: 1955000}"
      ]
     },
     "execution_count": 13,
     "metadata": {},
     "output_type": "execute_result"
    }
   ],
   "source": [
    "data.length()"
   ]
  },
  {
   "cell_type": "code",
   "execution_count": 14,
   "metadata": {},
   "outputs": [
    {
     "name": "stdout",
     "output_type": "stream",
     "text": [
      "Interfaces:\n",
      "\t  48:   gpio,    samples:    6011\n",
      "\t 256:   power,   samples: 1955000\n",
      "\n"
     ]
    }
   ],
   "source": [
    "print(data)"
   ]
  },
  {
   "cell_type": "markdown",
   "metadata": {},
   "source": [
    "# Store Data"
   ]
  },
  {
   "cell_type": "code",
   "execution_count": 15,
   "metadata": {},
   "outputs": [],
   "source": [
    "import pickle"
   ]
  },
  {
   "cell_type": "code",
   "execution_count": 16,
   "metadata": {},
   "outputs": [],
   "source": [
    "pickle.dump(data, open(\"aes_flash_logger_data.p\", \"wb\"))"
   ]
  },
  {
   "cell_type": "markdown",
   "metadata": {},
   "source": [
    "# Load Data"
   ]
  },
  {
   "cell_type": "code",
   "execution_count": 17,
   "metadata": {},
   "outputs": [],
   "source": [
    "data = pickle.load(open(\"aes_flash_logger_data.p\", \"rb\"))"
   ]
  },
  {
   "cell_type": "code",
   "execution_count": 18,
   "metadata": {},
   "outputs": [],
   "source": [
    "iteration = 0\n",
    "name = \"AES-128_Flash\"\n",
    "#data = pickle.load(open(path.join(path.pardir, path.pardir, f\"{name}_{iteration}.p\"), \"rb\"))"
   ]
  },
  {
   "cell_type": "markdown",
   "metadata": {},
   "source": [
    "## Analysis"
   ]
  },
  {
   "cell_type": "markdown",
   "metadata": {},
   "source": [
    "Create Stop Function to stop parsing the data when all pins are high."
   ]
  },
  {
   "cell_type": "code",
   "execution_count": 19,
   "metadata": {},
   "outputs": [],
   "source": [
    "def stop_function(pin_values):\n",
    "    return all(pin_values)"
   ]
  },
  {
   "cell_type": "markdown",
   "metadata": {},
   "source": [
    "Parse the data."
   ]
  },
  {
   "cell_type": "code",
   "execution_count": 20,
   "metadata": {},
   "outputs": [],
   "source": [
    "aes_charge, aes_time = power_and_time_per_pulse(data, 2, stop_function=stop_function)"
   ]
  },
  {
   "cell_type": "code",
   "execution_count": 21,
   "metadata": {},
   "outputs": [],
   "source": [
    "flash_charge, flash_time = power_and_time_per_pulse(data, 3, stop_function=stop_function)"
   ]
  },
  {
   "cell_type": "code",
   "execution_count": 22,
   "metadata": {},
   "outputs": [
    {
     "name": "stdout",
     "output_type": "stream",
     "text": [
      "750 750 750 750\n"
     ]
    }
   ],
   "source": [
    "print(len(aes_charge), len(aes_time), len(flash_charge), len(flash_time))\n",
    "# cutoff = min(len(aes_charge), len(aes_time), len(flash_charge), len(flash_time))\n",
    "# aes_charge = aes_charge[:cutoff]\n",
    "# aes_time = aes_time[:cutoff]\n",
    "# flash_charge = flash_charge[:cutoff]\n",
    "# flash_time = flash_time[:cutoff]"
   ]
  },
  {
   "cell_type": "code",
   "execution_count": 23,
   "metadata": {},
   "outputs": [],
   "source": [
    "# length = len(aes_charge)\n",
    "# assert length == len(aes_time)\n",
    "# assert length == len(flash_charge)\n",
    "# assert length == len(flash_time)\n",
    "# print(length)"
   ]
  },
  {
   "cell_type": "code",
   "execution_count": 24,
   "metadata": {},
   "outputs": [],
   "source": [
    "aes_encrypt_charge = aes_charge[0::2]\n",
    "aes_decrypt_charge = aes_charge[1::2]\n",
    "aes_encrypt_time = aes_time[0::2]\n",
    "aes_decrypt_time = aes_time[1::2]"
   ]
  },
  {
   "cell_type": "code",
   "execution_count": 25,
   "metadata": {},
   "outputs": [],
   "source": [
    "aes_flash_write_charge = flash_charge[0::2]\n",
    "aes_flash_read_charge = flash_charge[1::2]\n",
    "aes_flash_write_time = flash_time[0::2]\n",
    "aes_flash_read_time = flash_time[1::2]"
   ]
  },
  {
   "cell_type": "code",
   "execution_count": 26,
   "metadata": {},
   "outputs": [
    {
     "data": {
      "text/plain": [
       "(375, 375, 375, 375, 375, 375, 375, 375)"
      ]
     },
     "execution_count": 26,
     "metadata": {},
     "output_type": "execute_result"
    }
   ],
   "source": [
    "len(aes_encrypt_charge), len(aes_decrypt_charge), len(aes_encrypt_time), len(aes_decrypt_time), len(aes_flash_write_charge), len(aes_flash_read_charge), len(aes_flash_write_time), len(aes_flash_read_time)"
   ]
  },
  {
   "cell_type": "code",
   "execution_count": 27,
   "metadata": {},
   "outputs": [],
   "source": [
    "drop = 0\n",
    "cutoff = min(len(aes_encrypt_charge), len(aes_decrypt_charge), len(aes_encrypt_time), len(aes_decrypt_time), len(aes_flash_write_charge), len(aes_flash_read_charge), len(aes_flash_write_time), len(aes_flash_read_time)) - drop\n",
    "aes_encrypt_charge = aes_encrypt_charge[:cutoff]\n",
    "aes_decrypt_charge = aes_decrypt_charge[:cutoff]\n",
    "aes_encrypt_time = aes_encrypt_time[:cutoff]\n",
    "aes_decrypt_time = aes_decrypt_time[:cutoff]\n",
    "aes_flash_write_charge = aes_flash_write_charge[:cutoff]\n",
    "aes_flash_read_charge = aes_flash_read_charge[:cutoff]\n",
    "aes_flash_write_time = aes_flash_write_time[:cutoff]\n",
    "aes_flash_read_time = aes_flash_read_time[:cutoff]"
   ]
  },
  {
   "cell_type": "code",
   "execution_count": 28,
   "metadata": {},
   "outputs": [
    {
     "name": "stdout",
     "output_type": "stream",
     "text": [
      "375\n"
     ]
    }
   ],
   "source": [
    "length = len(aes_encrypt_charge)\n",
    "assert length == len(aes_decrypt_charge)\n",
    "assert length == len(aes_encrypt_time)\n",
    "assert length == len(aes_decrypt_time)\n",
    "assert length == len(aes_flash_write_charge)\n",
    "assert length == len(aes_flash_read_charge)\n",
    "assert length == len(aes_flash_write_time)\n",
    "assert length == len(aes_flash_read_time)\n",
    "print(length)"
   ]
  },
  {
   "cell_type": "markdown",
   "metadata": {},
   "source": [
    "# Convert to Joule"
   ]
  },
  {
   "cell_type": "code",
   "execution_count": 29,
   "metadata": {},
   "outputs": [],
   "source": [
    "voltage = 3.33\n",
    "j_scale = 1e3 # m\n",
    "t_scale = 1e3 # m\n",
    "model_j_scale = 1e6 # n\n",
    "model_t_scale = 1e3 # u\n",
    "\n",
    "experiment_name = 'AES-128'"
   ]
  },
  {
   "cell_type": "code",
   "execution_count": 30,
   "metadata": {},
   "outputs": [],
   "source": [
    "aes_encrypt_energy = aes_encrypt_charge[:cutoff]\n",
    "aes_flash_write_energy = aes_flash_write_charge[:cutoff]\n",
    "aes_flash_read_energy = aes_flash_read_charge[:cutoff]\n",
    "aes_decrypt_energy = aes_decrypt_charge[:cutoff]\n",
    "aes_encrypt_time_s = aes_encrypt_time[:cutoff]\n",
    "aes_flash_write_time_s = aes_flash_write_time[:cutoff]\n",
    "aes_flash_read_time_s = aes_flash_read_time[:cutoff]\n",
    "aes_decrypt_time_s = aes_decrypt_time[:cutoff]\n",
    "\n",
    "for i in range(len(aes_encrypt_energy)):\n",
    "    aes_encrypt_energy[i] = aes_encrypt_energy[i] * voltage * j_scale\n",
    "for i in range(len(aes_flash_write_energy)):\n",
    "    aes_flash_write_energy[i] = aes_flash_write_energy[i] * voltage * j_scale\n",
    "for i in range(len(aes_flash_read_energy)):\n",
    "    aes_flash_read_energy[i] = aes_flash_read_energy[i] * voltage * j_scale\n",
    "for i in range(len(aes_decrypt_energy)):\n",
    "    aes_decrypt_energy[i] = aes_decrypt_energy[i] * voltage * j_scale\n",
    "    \n",
    "for i in range(len(aes_encrypt_time_s)):\n",
    "    aes_encrypt_time_s[i] = aes_encrypt_time_s[i] * t_scale\n",
    "for i in range(len(aes_flash_write_time_s)):\n",
    "    aes_flash_write_time_s[i] = aes_flash_write_time_s[i] * t_scale\n",
    "for i in range(len(aes_flash_read_time_s)):\n",
    "    aes_flash_read_time_s[i] = aes_flash_read_time_s[i] * t_scale\n",
    "for i in range(len(aes_decrypt_time_s)):\n",
    "    aes_decrypt_time_s[i] = aes_decrypt_time_s[i] * t_scale"
   ]
  },
  {
   "cell_type": "code",
   "execution_count": 31,
   "metadata": {},
   "outputs": [
    {
     "name": "stdout",
     "output_type": "stream",
     "text": [
      "MAX_NUM_BYTES: 6000\n"
     ]
    }
   ],
   "source": [
    "MBEDTLS_AES_BLOCK_SIZE = 16\n",
    "STEP_SIZE = MBEDTLS_AES_BLOCK_SIZE\n",
    "MIN_NUM_BYTES = STEP_SIZE\n",
    "num_bytes = range(MIN_NUM_BYTES, MIN_NUM_BYTES + STEP_SIZE * len(aes_encrypt_energy), STEP_SIZE)\n",
    "print(f\"MAX_NUM_BYTES: {num_bytes[-1]}\")"
   ]
  },
  {
   "cell_type": "code",
   "execution_count": 32,
   "metadata": {},
   "outputs": [],
   "source": [
    "from lmfit import Model\n",
    "\n",
    "def line(x, slope, intercept):\n",
    "    \"\"\"a line\"\"\"\n",
    "    return [slope*i + intercept for i in x]\n",
    "\n",
    "mod = Model(line)\n",
    "pars = mod.make_params(slope=0, intercept=1)\n",
    "# pars['intercept'].set(min=0)"
   ]
  },
  {
   "cell_type": "code",
   "execution_count": 33,
   "metadata": {},
   "outputs": [
    {
     "name": "stdout",
     "output_type": "stream",
     "text": [
      "[[Model]]\n",
      "    Model(line)\n",
      "[[Fit Statistics]]\n",
      "    # fitting method   = leastsq\n",
      "    # function evals   = 7\n",
      "    # data points      = 375\n",
      "    # variables        = 2\n",
      "    chi-square         = 8.5680e-06\n",
      "    reduced chi-square = 2.2971e-08\n",
      "    Akaike info crit   = -6593.89989\n",
      "    Bayesian info crit = -6586.04604\n",
      "[[Variables]]\n",
      "    slope:      7.0601e-05 +/- 4.5187e-09 (0.01%) (init = 0)\n",
      "    intercept: -1.1268e-04 +/- 1.5684e-05 (13.92%) (init = 1)\n",
      "[[Correlations]] (unreported correlations are < 0.100)\n",
      "    C(slope, intercept) = -0.867\n",
      "[[Model]]\n",
      "    Model(line)\n",
      "[[Fit Statistics]]\n",
      "    # fitting method   = leastsq\n",
      "    # function evals   = 6\n",
      "    # data points      = 375\n",
      "    # variables        = 2\n",
      "    chi-square         = 0.00914225\n",
      "    reduced chi-square = 2.4510e-05\n",
      "    Akaike info crit   = -3979.16564\n",
      "    Bayesian info crit = -3971.31179\n",
      "[[Variables]]\n",
      "    slope:      8.3029e-05 +/- 1.4760e-07 (0.18%) (init = 0)\n",
      "    intercept:  0.01293858 +/- 5.1234e-04 (3.96%) (init = 1)\n",
      "[[Correlations]] (unreported correlations are < 0.100)\n",
      "    C(slope, intercept) = -0.867\n",
      "[[Model]]\n",
      "    Model(line)\n",
      "[[Fit Statistics]]\n",
      "    # fitting method   = leastsq\n",
      "    # function evals   = 6\n",
      "    # data points      = 375\n",
      "    # variables        = 2\n",
      "    chi-square         = 5.7308e-07\n",
      "    reduced chi-square = 1.5364e-09\n",
      "    Akaike info crit   = -7608.19019\n",
      "    Bayesian info crit = -7600.33634\n",
      "[[Variables]]\n",
      "    slope:      2.4849e-06 +/- 1.1686e-09 (0.05%) (init = 0)\n",
      "    intercept:  5.8309e-06 +/- 4.0563e-06 (69.57%) (init = 1)\n",
      "[[Correlations]] (unreported correlations are < 0.100)\n",
      "    C(slope, intercept) = -0.867\n",
      "[[Model]]\n",
      "    Model(line)\n",
      "[[Fit Statistics]]\n",
      "    # fitting method   = leastsq\n",
      "    # function evals   = 6\n",
      "    # data points      = 375\n",
      "    # variables        = 2\n",
      "    chi-square         = 0.00410734\n",
      "    reduced chi-square = 1.1012e-05\n",
      "    Akaike info crit   = -4279.21471\n",
      "    Bayesian info crit = -4271.36086\n",
      "[[Variables]]\n",
      "    slope:      6.9767e-05 +/- 9.8936e-08 (0.14%) (init = 0)\n",
      "    intercept:  2.1515e-04 +/- 3.4341e-04 (159.61%) (init = 1)\n",
      "[[Correlations]] (unreported correlations are < 0.100)\n",
      "    C(slope, intercept) = -0.867\n",
      "[[Model]]\n",
      "    Model(line)\n",
      "[[Fit Statistics]]\n",
      "    # fitting method   = leastsq\n",
      "    # function evals   = 10\n",
      "    # data points      = 375\n",
      "    # variables        = 2\n",
      "    chi-square         = 0.33446031\n",
      "    reduced chi-square = 8.9668e-04\n",
      "    Akaike info crit   = -2629.31116\n",
      "    Bayesian info crit = -2621.45731\n",
      "[[Variables]]\n",
      "    slope:      0.04527860 +/- 8.9275e-07 (0.00%) (init = 0)\n",
      "    intercept:  0.00915901 +/- 0.00309877 (33.83%) (init = 1)\n",
      "[[Correlations]] (unreported correlations are < 0.100)\n",
      "    C(slope, intercept) = -0.867\n",
      "[[Model]]\n",
      "    Model(line)\n",
      "[[Fit Statistics]]\n",
      "    # fitting method   = leastsq\n",
      "    # function evals   = 6\n",
      "    # data points      = 375\n",
      "    # variables        = 2\n",
      "    chi-square         = 168.655411\n",
      "    reduced chi-square = 0.45215928\n",
      "    Akaike info crit   = -295.650643\n",
      "    Bayesian info crit = -287.796791\n",
      "[[Variables]]\n",
      "    slope:      0.01289229 +/- 2.0048e-05 (0.16%) (init = 0)\n",
      "    intercept:  1.90080726 +/- 0.06958719 (3.66%) (init = 1)\n",
      "[[Correlations]] (unreported correlations are < 0.100)\n",
      "    C(slope, intercept) = -0.867\n",
      "[[Model]]\n",
      "    Model(line)\n",
      "[[Fit Statistics]]\n",
      "    # fitting method   = leastsq\n",
      "    # function evals   = 7\n",
      "    # data points      = 375\n",
      "    # variables        = 2\n",
      "    chi-square         = 0.29989618\n",
      "    reduced chi-square = 8.0401e-04\n",
      "    Akaike info crit   = -2670.21686\n",
      "    Bayesian info crit = -2662.36301\n",
      "[[Variables]]\n",
      "    slope:      0.00212295 +/- 8.4539e-07 (0.04%) (init = 0)\n",
      "    intercept:  0.01159456 +/- 0.00293438 (25.31%) (init = 1)\n",
      "[[Correlations]] (unreported correlations are < 0.100)\n",
      "    C(slope, intercept) = -0.867\n",
      "[[Model]]\n",
      "    Model(line)\n",
      "[[Fit Statistics]]\n",
      "    # fitting method   = leastsq\n",
      "    # function evals   = 10\n",
      "    # data points      = 375\n",
      "    # variables        = 2\n",
      "    chi-square         = 1654.61324\n",
      "    reduced chi-square = 4.43596042\n",
      "    Akaike info crit   = 560.648703\n",
      "    Bayesian info crit = 568.502555\n",
      "[[Variables]]\n",
      "    slope:      0.04390720 +/- 6.2794e-05 (0.14%) (init = 0)\n",
      "    intercept:  0.22317833 +/- 0.21796046 (97.66%) (init = 1)\n",
      "[[Correlations]] (unreported correlations are < 0.100)\n",
      "    C(slope, intercept) = -0.867\n",
      "[[Model]]\n",
      "    Model(line)\n",
      "[[Fit Statistics]]\n",
      "    # fitting method   = leastsq\n",
      "    # function evals   = 6\n",
      "    # data points      = 375\n",
      "    # variables        = 2\n",
      "    chi-square         = 0.01408385\n",
      "    reduced chi-square = 3.7758e-05\n",
      "    Akaike info crit   = -3817.11964\n",
      "    Bayesian info crit = -3809.26578\n",
      "[[Variables]]\n",
      "    slope:      2.2588e-04 +/- 1.8320e-07 (0.08%) (init = 0)\n",
      "    intercept:  0.01304689 +/- 6.3590e-04 (4.87%) (init = 1)\n",
      "[[Correlations]] (unreported correlations are < 0.100)\n",
      "    C(slope, intercept) = -0.867\n",
      "[[Model]]\n",
      "    Model(line)\n",
      "[[Fit Statistics]]\n",
      "    # fitting method   = leastsq\n",
      "    # function evals   = 12\n",
      "    # data points      = 375\n",
      "    # variables        = 2\n",
      "    chi-square         = 1929.25762\n",
      "    reduced chi-square = 5.17227245\n",
      "    Akaike info crit   = 618.236699\n",
      "    Bayesian info crit = 626.090551\n",
      "[[Variables]]\n",
      "    slope:      0.10420104 +/- 6.7806e-05 (0.07%) (init = 0)\n",
      "    intercept:  2.14473925 +/- 0.23535540 (10.97%) (init = 1)\n",
      "[[Correlations]] (unreported correlations are < 0.100)\n",
      "    C(slope, intercept) = -0.867\n"
     ]
    }
   ],
   "source": [
    "results = []\n",
    "ylabels = (['Energy [mJ]'] * 2 + ['Time [ms]'] * 2) * 2 + ['Energy [mJ]'] + ['Time [ms]']\n",
    "parameter_names = [\n",
    "    'Encrypt Energy',\n",
    "    'Flash Write Energy',\n",
    "    'Flash Read Energy',\n",
    "    'Decrypt Energy',\n",
    "    'Encrypt Time',\n",
    "    'Flash Write Time',\n",
    "    'Flash Read Time',\n",
    "    'Decrypt Time',\n",
    "    'Total Energy',\n",
    "    'Total Time',\n",
    "]\n",
    "for y in [aes_encrypt_energy, aes_flash_write_energy, aes_flash_read_energy, aes_decrypt_energy, aes_encrypt_time_s, aes_flash_write_time_s, aes_flash_read_time_s, aes_decrypt_time_s,\n",
    "          [e + w + r + d for (e,w,r,d) in zip(aes_encrypt_energy, aes_flash_write_energy, aes_flash_read_energy, aes_decrypt_energy)],\n",
    "          [e + w + r + d for (e,w,r,d) in zip(aes_encrypt_time_s, aes_flash_write_time_s, aes_flash_read_time_s, aes_decrypt_time_s)]]:\n",
    "    result = mod.fit(y, pars, x=num_bytes)\n",
    "    print(result.fit_report())\n",
    "    fig, grid = result.plot(\n",
    "        xlabel='Checkpoint Size [Bytes]',\n",
    "        ylabel=ylabels[len(results)])\n",
    "    fig.tight_layout(rect=(0.05, 0.05, 1, 1))\n",
    "    fig.set_size_inches(5, 4.5, forward=True)\n",
    "    fig.canvas.set_window_title(\n",
    "        f\"Residuals of {experiment_name} {parameter_names[len(results)]}\")\n",
    "    fig.show()\n",
    "    results.append(result)"
   ]
  },
  {
   "cell_type": "code",
   "execution_count": 34,
   "metadata": {},
   "outputs": [],
   "source": [
    "fig2 = plt.figure(figsize=(8, 6))\n",
    "fig2.canvas.set_window_title(f\"Analysis {experiment_name}\")"
   ]
  },
  {
   "cell_type": "code",
   "execution_count": 35,
   "metadata": {},
   "outputs": [],
   "source": [
    "charge_color = 'r'\n",
    "time_color = 'b'"
   ]
  },
  {
   "cell_type": "code",
   "execution_count": 36,
   "metadata": {},
   "outputs": [],
   "source": [
    "fig2.clf()\n",
    "# fig2.suptitle(\"Energy analysis of AES\")\n",
    "ax1 = fig2.add_subplot(1, 1, 1)\n",
    "ax2 = ax1.twinx()\n",
    "ax1.set_xlabel('Checkpoint Size [Bytes]')\n",
    "ax1.set_ylabel('Energy [mJ]', color=charge_color)\n",
    "ax2.set_ylabel('Time [ms]', color=time_color)\n",
    "ax1.tick_params('y', colors=charge_color)\n",
    "ax2.tick_params('y', colors=time_color)"
   ]
  },
  {
   "cell_type": "code",
   "execution_count": 37,
   "metadata": {},
   "outputs": [],
   "source": [
    "lines = []\n",
    "lines += ax1.plot(num_bytes, aes_encrypt_energy, charge_color+'-', label=f'{parameter_names[len(lines)]}')\n",
    "lines += ax1.plot(num_bytes, aes_flash_write_energy, charge_color+'-.', label=f'{parameter_names[len(lines)]}')\n",
    "lines += ax1.plot(num_bytes, aes_flash_read_energy, charge_color+':', label=f'{parameter_names[len(lines)]}')\n",
    "lines += ax1.plot(num_bytes, aes_decrypt_energy, charge_color+'--', label=f'{parameter_names[len(lines)]}')\n",
    "lines += ax2.plot(num_bytes, aes_encrypt_time_s, time_color+'-', label=f'{parameter_names[len(lines)]}')\n",
    "lines += ax2.plot(num_bytes, aes_flash_write_time_s, time_color+'-.', label=f'{parameter_names[len(lines)]}')\n",
    "lines += ax2.plot(num_bytes, aes_flash_read_time_s, time_color+':', label=f'{parameter_names[len(lines)]}')\n",
    "lines += ax2.plot(num_bytes, aes_decrypt_time_s, time_color+'--', label=f'{parameter_names[len(lines)]}')\n",
    "ax1.legend(handles=lines)\n",
    "ax1.set_title(\n",
    "    f\"{parameter_names[0]}: Slope {results[0].params['slope'].value * model_j_scale:.04} nJ/B, Intercept {results[0].params['intercept'].value * model_j_scale:.04} nJ\\n\" +\n",
    "    f\"{parameter_names[1]}: Slope {results[1].params['slope'].value * model_j_scale:.04} nJ/B, Intercept {results[1].params['intercept'].value * model_j_scale:.04} nJ\\n\" +\n",
    "    f\"{parameter_names[2]}: Slope {results[2].params['slope'].value * model_j_scale:.04} nJ/B, Intercept {results[2].params['intercept'].value * model_j_scale:.04} nJ\\n\" +\n",
    "    f\"{parameter_names[3]}: Slope {results[3].params['slope'].value * model_j_scale:.04} nJ/B, Intercept {results[3].params['intercept'].value * model_j_scale:.04} nJ\\n\" +\n",
    "    f\"{parameter_names[4]}: Slope {results[4].params['slope'].value * model_t_scale:.04} $\\mu$s/B, Intercept {results[4].params['intercept'].value * model_t_scale:.04} $\\mu$s\\n\" +\n",
    "    f\"{parameter_names[5]}: Slope {results[5].params['slope'].value * model_t_scale:.04} $\\mu$s/B, Intercept {results[5].params['intercept'].value * model_t_scale:.04} $\\mu$s\\n\" +\n",
    "    f\"{parameter_names[6]}: Slope {results[6].params['slope'].value * model_t_scale:.04} $\\mu$s/B, Intercept {results[6].params['intercept'].value * model_t_scale:.04} $\\mu$s\\n\" +\n",
    "    f\"{parameter_names[7]}: Slope {results[7].params['slope'].value * model_t_scale:.04} $\\mu$s/B, Intercept {results[7].params['intercept'].value * model_t_scale:.04} $\\mu$s\\n\" +\n",
    "    f\"{parameter_names[8]}: Slope {results[8].params['slope'].value * model_j_scale:.04} nJ/B, Intercept {results[8].params['intercept'].value * model_j_scale:.04} nJ\\n\" +\n",
    "    f\"{parameter_names[9]}: Slope {results[9].params['slope'].value * model_t_scale:.04} $\\mu$s/B, Intercept {results[9].params['intercept'].value * model_t_scale:.04} $\\mu$s\\n\")\n",
    "fig2.tight_layout()\n",
    "fig2.show()"
   ]
  },
  {
   "cell_type": "code",
   "execution_count": 38,
   "metadata": {},
   "outputs": [
    {
     "name": "stdout",
     "output_type": "stream",
     "text": [
      "Encrypt Energy: Slope 70.600777025975389734 nJ/B, Intercept -112.67955322158407228 nJ\n",
      "Flash Write Energy: Slope 83.029344586789136429 nJ/B, Intercept 12938.581126877734278 nJ\n",
      "Flash Read Energy: Slope 2.4849466140655462887 nJ/B, Intercept 5.8308920142247089302 nJ\n",
      "Decrypt Energy: Slope 69.766590775324914375 nJ/B, Intercept 215.15294420515473917 nJ\n",
      "Encrypt Time: Slope 45.278603727524902922 $\\mu$s/B, Intercept 9.1590072113660880859 $\\mu$s\n",
      "Flash Write Time: Slope 12.89228559845016342 $\\mu$s/B, Intercept 1900.8072595037917836 $\\mu$s\n",
      "Flash Read Time: Slope 2.1229479886951163614 $\\mu$s/B, Intercept 11.594561305875771495 $\\mu$s\n",
      "Decrypt Time: Slope 43.907200062898063209 $\\mu$s/B, Intercept 223.17833328153824368 $\\mu$s\n",
      "Total Energy: Slope 225.88165900215463466 nJ/B, Intercept 13046.885416421628179 nJ\n",
      "Total Time: Slope 104.2010374943098725 $\\mu$s/B, Intercept 2144.7392461751560404 $\\mu$s\n",
      "\n"
     ]
    }
   ],
   "source": [
    "print(\n",
    "    f\"{parameter_names[0]}: Slope {results[0].params['slope'].value * model_j_scale:.020} nJ/B, Intercept {results[0].params['intercept'].value * model_j_scale:.020} nJ\\n\" +\n",
    "    f\"{parameter_names[1]}: Slope {results[1].params['slope'].value * model_j_scale:.020} nJ/B, Intercept {results[1].params['intercept'].value * model_j_scale:.020} nJ\\n\" +\n",
    "    f\"{parameter_names[2]}: Slope {results[2].params['slope'].value * model_j_scale:.020} nJ/B, Intercept {results[2].params['intercept'].value * model_j_scale:.020} nJ\\n\" +\n",
    "    f\"{parameter_names[3]}: Slope {results[3].params['slope'].value * model_j_scale:.020} nJ/B, Intercept {results[3].params['intercept'].value * model_j_scale:.020} nJ\\n\" +\n",
    "    f\"{parameter_names[4]}: Slope {results[4].params['slope'].value * model_t_scale:.020} $\\mu$s/B, Intercept {results[4].params['intercept'].value * model_t_scale:.020} $\\mu$s\\n\" +\n",
    "    f\"{parameter_names[5]}: Slope {results[5].params['slope'].value * model_t_scale:.020} $\\mu$s/B, Intercept {results[5].params['intercept'].value * model_t_scale:.020} $\\mu$s\\n\" +\n",
    "    f\"{parameter_names[6]}: Slope {results[6].params['slope'].value * model_t_scale:.020} $\\mu$s/B, Intercept {results[6].params['intercept'].value * model_t_scale:.020} $\\mu$s\\n\" +\n",
    "    f\"{parameter_names[7]}: Slope {results[7].params['slope'].value * model_t_scale:.020} $\\mu$s/B, Intercept {results[7].params['intercept'].value * model_t_scale:.020} $\\mu$s\\n\" +\n",
    "    f\"{parameter_names[8]}: Slope {results[8].params['slope'].value * model_j_scale:.020} nJ/B, Intercept {results[8].params['intercept'].value * model_j_scale:.020} nJ\\n\" +\n",
    "    f\"{parameter_names[9]}: Slope {results[9].params['slope'].value * model_t_scale:.020} $\\mu$s/B, Intercept {results[9].params['intercept'].value * model_t_scale:.020} $\\mu$s\\n\"\n",
    ")"
   ]
  },
  {
   "cell_type": "code",
   "execution_count": 39,
   "metadata": {},
   "outputs": [],
   "source": [
    "# Save Charge amount list into pickle file\n",
    "import pickle\n",
    "pickle.dump(aes_encrypt_energy, open(\"aes_flash_encrypt_energy_mJ.p\", \"wb\"))\n",
    "pickle.dump(aes_decrypt_energy, open(\"aes_flash_decrypt_energy_mJ.p\", \"wb\"))\n",
    "pickle.dump(aes_flash_write_energy, open(\"aes_flash_write_energy_mJ.p\", \"wb\"))\n",
    "pickle.dump(aes_flash_read_energy, open(\"aes_flash_read_energy_mJ.p\", \"wb\"))\n",
    "pickle.dump(aes_encrypt_time_s, open(\"aes_flash_encrypt_time_ms.p\", \"wb\"))\n",
    "pickle.dump(aes_decrypt_time_s, open(\"aes_flash_decrypt_time_ms.p\", \"wb\"))\n",
    "pickle.dump(aes_flash_write_time_s, open(\"aes_flash_write_time_ms.p\", \"wb\"))\n",
    "pickle.dump(aes_flash_read_time_s, open(\"aes_flash_read_time_ms.p\", \"wb\"))"
   ]
  },
  {
   "cell_type": "code",
   "execution_count": 40,
   "metadata": {},
   "outputs": [
    {
     "name": "stdout",
     "output_type": "stream",
     "text": [
      "375 6000\n",
      "375 6000\n",
      "375 6000\n",
      "375 6000\n",
      "375 6000\n",
      "375 6000\n",
      "375 6000\n",
      "375 6000\n"
     ]
    }
   ],
   "source": [
    "aes = [aes_encrypt_energy, aes_flash_write_energy, aes_flash_read_energy, aes_decrypt_energy, aes_encrypt_time_s, aes_flash_write_time_s, aes_flash_read_time_s, aes_decrypt_time_s]\n",
    "for i in aes:\n",
    "    print(len(i), len(i)*16)"
   ]
  },
  {
   "cell_type": "markdown",
   "metadata": {},
   "source": [
    "## Write config file"
   ]
  },
  {
   "cell_type": "code",
   "execution_count": 41,
   "metadata": {},
   "outputs": [],
   "source": [
    "import json\n",
    "\n",
    "config = {}\n",
    "config[\"name\"] = \"AES-128 Flash\"\n",
    "config[\"project_paths\"] = [project_path]\n",
    "config[\"config_dict\"] = config_dict\n",
    "config[\"config_dict_plot\"] = config_dict_plot\n",
    "config[\"analysis\"] = {\"pins\":{2: [\"AES-128 Encrypt\", \"AES-128 Decrypt\"], 3: [\"AES-128 Flash Write\", \"AES-128 Flash Read\"]}, \n",
    "                      \"result_types\": [\"Charge\", \"Time\"],\n",
    "                      \"section_types\": {\"init\": [], \n",
    "                                        \"store\": [\"AES-128 Encrypt\", \"AES-128 Flash Write\"],\n",
    "                                        \"load\": [\"AES-128 Flash Read\", \"AES-128 Decrypt\"],\n",
    "                                        \"exit\": []},\n",
    "                      \"labels\": {\n",
    "                          \"Charge\": {\"x\":\"Data Size\", \"x_unit\": \"byte\", \"y\": \"Charge\", \"y_unit\": \"C\"},\n",
    "                          \"Time\": {\"x\":\"Data Size\", \"x_unit\": \"byte\", \"y\": \"Time\", \"y_unit\": \"s\"},\n",
    "                      },\n",
    "                      \"x_step\": MBEDTLS_AES_BLOCK_SIZE}\n",
    "\n",
    "with open(\"looped_experiment.json\", 'w') as config_file:  \n",
    "    json.dump(config, config_file, indent=4)"
   ]
  },
  {
   "cell_type": "markdown",
   "metadata": {},
   "source": [
    "# Write model data"
   ]
  },
  {
   "cell_type": "code",
   "execution_count": 42,
   "metadata": {},
   "outputs": [],
   "source": [
    "dump_pickle = True\n",
    "fit_lm = True\n",
    "verbose = 2\n",
    "show_lm_plot = 2\n",
    "# drop = 1"
   ]
  },
  {
   "cell_type": "code",
   "execution_count": 43,
   "metadata": {},
   "outputs": [],
   "source": [
    "# Parse data\n",
    "analysis_config = config.get(\"analysis\")\n",
    "result_types = analysis_config.get(\"result_types\")\n",
    "x_step = analysis_config.get(\"x_step\")\n",
    "parsed_data = {}\n",
    "for pin, parameter_names in analysis_config.get(\"pins\").items():\n",
    "    data2 = power_and_time_per_pulse(\n",
    "        data, int(pin), stop_function=stop_function)\n",
    "    num_names = len(parameter_names)\n",
    "    for i, parameter_name in enumerate(parameter_names):\n",
    "        end_index = -drop * num_names or None\n",
    "        parsed_data[parameter_name] = {\n",
    "            result_types[0]: data2[0][i:end_index:num_names],\n",
    "            result_types[1]: data2[1][i:end_index:num_names],\n",
    "            \"x_step\": x_step}\n",
    "if dump_pickle:\n",
    "    pickle.dump(parsed_data, open(\n",
    "        path.join(path.curdir,\n",
    "                  f\"{config_dict.get('file_name_base')}_looped.p\"), \"wb\"))"
   ]
  },
  {
   "cell_type": "code",
   "execution_count": 44,
   "metadata": {},
   "outputs": [
    {
     "name": "stdout",
     "output_type": "stream",
     "text": [
      "Fitting model to AES-128 Encrypt with 375 samples, from 16 to 6000 bytes in steps of 16.\n",
      "[[Model]]\n",
      "    Model(line)\n",
      "[[Fit Statistics]]\n",
      "    # fitting method   = leastsq\n",
      "    # function evals   = 10\n",
      "    # data points      = 375\n",
      "    # variables        = 2\n",
      "    chi-square         = 7.7267e-13\n",
      "    reduced chi-square = 2.0715e-15\n",
      "    Akaike info crit   = -12676.9456\n",
      "    Bayesian info crit = -12669.0917\n",
      "[[Variables]]\n",
      "    intercept: -3.3838e-08 +/- 4.7101e-09 (13.92%) (init = 0)\n",
      "    slope:      2.1201e-08 +/- 1.3570e-12 (0.01%) (init = 1)\n",
      "[[Correlations]] (unreported correlations are < 0.100)\n",
      "    C(intercept, slope) = -0.867\n",
      "[[Model]]\n",
      "    Model(line)\n",
      "[[Fit Statistics]]\n",
      "    # fitting method   = leastsq\n",
      "    # function evals   = 7\n",
      "    # data points      = 375\n",
      "    # variables        = 2\n",
      "    chi-square         = 3.3446e-07\n",
      "    reduced chi-square = 8.9668e-10\n",
      "    Akaike info crit   = -7810.12762\n",
      "    Bayesian info crit = -7802.27377\n",
      "[[Variables]]\n",
      "    intercept:  9.1586e-06 +/- 3.0989e-06 (33.84%) (init = 0)\n",
      "    slope:      4.5279e-05 +/- 8.9280e-10 (0.00%) (init = 1)\n",
      "[[Correlations]] (unreported correlations are < 0.100)\n",
      "    C(intercept, slope) = -0.867\n",
      "Fitting model to AES-128 Decrypt with 375 samples, from 16 to 6000 bytes in steps of 16.\n",
      "[[Model]]\n",
      "    Model(line)\n",
      "[[Fit Statistics]]\n",
      "    # fitting method   = leastsq\n",
      "    # function evals   = 10\n",
      "    # data points      = 375\n",
      "    # variables        = 2\n",
      "    chi-square         = 3.7040e-10\n",
      "    reduced chi-square = 9.9303e-13\n",
      "    Akaike info crit   = -10362.2604\n",
      "    Bayesian info crit = -10354.4065\n",
      "[[Variables]]\n",
      "    intercept:  6.4608e-08 +/- 1.0313e-07 (159.62%) (init = 0)\n",
      "    slope:      2.0951e-08 +/- 2.9710e-11 (0.14%) (init = 1)\n",
      "[[Correlations]] (unreported correlations are < 0.100)\n",
      "    C(intercept, slope) = -0.867\n",
      "[[Model]]\n",
      "    Model(line)\n",
      "[[Fit Statistics]]\n",
      "    # fitting method   = leastsq\n",
      "    # function evals   = 7\n",
      "    # data points      = 375\n",
      "    # variables        = 2\n",
      "    chi-square         = 0.00165461\n",
      "    reduced chi-square = 4.4360e-06\n",
      "    Akaike info crit   = -4620.16776\n",
      "    Bayesian info crit = -4612.31390\n",
      "[[Variables]]\n",
      "    intercept:  2.2318e-04 +/- 2.1796e-04 (97.66%) (init = 0)\n",
      "    slope:      4.3907e-05 +/- 6.2794e-08 (0.14%) (init = 1)\n",
      "[[Correlations]] (unreported correlations are < 0.100)\n",
      "    C(intercept, slope) = -0.867\n",
      "Fitting model to AES-128 Flash Write with 375 samples, from 16 to 6000 bytes in steps of 16.\n",
      "[[Model]]\n",
      "    Model(line)\n",
      "[[Fit Statistics]]\n",
      "    # fitting method   = leastsq\n",
      "    # function evals   = 9\n",
      "    # data points      = 375\n",
      "    # variables        = 2\n",
      "    chi-square         = 8.2445e-10\n",
      "    reduced chi-square = 2.2103e-12\n",
      "    Akaike info crit   = -10062.2113\n",
      "    Bayesian info crit = -10054.3575\n",
      "[[Variables]]\n",
      "    intercept:  3.8855e-06 +/- 1.5385e-07 (3.96%) (init = 0)\n",
      "    slope:      2.4934e-08 +/- 4.4325e-11 (0.18%) (init = 1)\n",
      "[[Correlations]] (unreported correlations are < 0.100)\n",
      "    C(intercept, slope) = -0.867\n",
      "[[Model]]\n",
      "    Model(line)\n",
      "[[Fit Statistics]]\n",
      "    # fitting method   = leastsq\n",
      "    # function evals   = 7\n",
      "    # data points      = 375\n",
      "    # variables        = 2\n",
      "    chi-square         = 1.6866e-04\n",
      "    reduced chi-square = 4.5216e-07\n",
      "    Akaike info crit   = -5476.46710\n",
      "    Bayesian info crit = -5468.61325\n",
      "[[Variables]]\n",
      "    intercept:  0.00190081 +/- 6.9587e-05 (3.66%) (init = 0)\n",
      "    slope:      1.2892e-05 +/- 2.0048e-08 (0.16%) (init = 1)\n",
      "[[Correlations]] (unreported correlations are < 0.100)\n",
      "    C(intercept, slope) = -0.867\n",
      "Fitting model to AES-128 Flash Read with 375 samples, from 16 to 6000 bytes in steps of 16.\n",
      "[[Model]]\n",
      "    Model(line)\n",
      "[[Fit Statistics]]\n",
      "    # fitting method   = leastsq\n",
      "    # function evals   = 10\n",
      "    # data points      = 375\n",
      "    # variables        = 2\n",
      "    chi-square         = 5.1680e-14\n",
      "    reduced chi-square = 1.3855e-16\n",
      "    Akaike info crit   = -13691.2359\n",
      "    Bayesian info crit = -13683.3820\n",
      "[[Variables]]\n",
      "    intercept:  1.7510e-09 +/- 1.2181e-09 (69.57%) (init = 0)\n",
      "    slope:      7.4623e-10 +/- 3.5094e-13 (0.05%) (init = 1)\n",
      "[[Correlations]] (unreported correlations are < 0.100)\n",
      "    C(intercept, slope) = -0.867\n",
      "[[Model]]\n",
      "    Model(line)\n",
      "[[Fit Statistics]]\n",
      "    # fitting method   = leastsq\n",
      "    # function evals   = 7\n",
      "    # data points      = 375\n",
      "    # variables        = 2\n",
      "    chi-square         = 2.9990e-07\n",
      "    reduced chi-square = 8.0401e-10\n",
      "    Akaike info crit   = -7851.03332\n",
      "    Bayesian info crit = -7843.17947\n",
      "[[Variables]]\n",
      "    intercept:  1.1595e-05 +/- 2.9344e-06 (25.31%) (init = 0)\n",
      "    slope:      2.1229e-06 +/- 8.4539e-10 (0.04%) (init = 1)\n",
      "[[Correlations]] (unreported correlations are < 0.100)\n",
      "    C(intercept, slope) = -0.867\n"
     ]
    }
   ],
   "source": [
    "# Fit lm\n",
    "if fit_lm:\n",
    "    model = None\n",
    "    if model is None:\n",
    "        def line(x, intercept, slope):\n",
    "            \"\"\"a line\"\"\"\n",
    "            return [intercept + slope*i for i in x]\n",
    "\n",
    "        model = Model(line)\n",
    "        params = model.make_params(intercept=0, slope=1)\n",
    "#         params['intercept'].set(min=0)\n",
    "    else:\n",
    "        params = model.params\n",
    "\n",
    "    model_results = {}\n",
    "    labels = analysis_config.get(\"labels\")\n",
    "    for parameter_name in parsed_data.keys():\n",
    "        length = len(parsed_data[parameter_name][result_types[0]])\n",
    "        x_step = parsed_data[parameter_name][\"x_step\"]\n",
    "        num_bytes = range(x_step, (length+1)*x_step, x_step)\n",
    "        if verbose:\n",
    "            print(\n",
    "                f\"Fitting model to {parameter_name} with {length} \" +\n",
    "                f\"samples, from {min(num_bytes)} to {max(num_bytes)} \"\n",
    "                f\"bytes in steps of {x_step}.\")\n",
    "        model_result = {}\n",
    "        for result_type in result_types:\n",
    "            model_result[result_type] = model.fit(\n",
    "                parsed_data[parameter_name][result_type], params,\n",
    "                x=num_bytes)\n",
    "            if verbose >= 2:\n",
    "                print(model_result[result_type].fit_report())\n",
    "            # Plot multiple view\n",
    "            if show_lm_plot >= 2:\n",
    "                fig, grid = model_result[result_type].plot(\n",
    "                    xlabel=f\"{labels[result_type]['x']} \" +\n",
    "                           f\"[{labels[result_type]['x_unit']}]\",\n",
    "                    ylabel=f\"{labels[result_type]['y']} \" +\n",
    "                           f\"[{labels[result_type]['y_unit']}]\")\n",
    "                fig.canvas.set_window_title(\n",
    "                    f\"Residuals of {parameter_name}\")\n",
    "                fig.tight_layout()\n",
    "                fig.show()\n",
    "            model_results[parameter_name] = model_result\n",
    "\n",
    "    # Plot single view\n",
    "    if show_lm_plot:\n",
    "        import matplotlib.pyplot as plt\n",
    "        fig = plt.figure(figsize=(9, 6))\n",
    "        fig.canvas.set_window_title(f\"Analysis {config.get('name')}\")\n",
    "        colors = dict(zip(result_types, ['r', 'b']))\n",
    "        line_styles = (\n",
    "            line_style for line_style in ('-', '--', '-.', ':') * 2)\n",
    "        # fig.suptitle(f\"Energy analysis of {config.get('name')}\")\n",
    "        ax = {}\n",
    "        ax[result_types[0]] = fig.add_subplot(1, 1, 1)\n",
    "        ax[result_types[1]] = ax[result_types[0]].twinx()\n",
    "        ax[result_types[0]].set_xlabel(\n",
    "            f\"{labels[result_types[0]]['x']} \" +\n",
    "            f\"[{labels[result_types[0]]['x_unit']}]\")\n",
    "        for result_type in result_types:\n",
    "            ax[result_type].set_ylabel(\n",
    "                f\"{labels[result_type]['y']} \" +\n",
    "                f\"[{labels[result_type]['y_unit']}]\",\n",
    "                color=colors[result_type])\n",
    "            ax[result_type].tick_params('y', colors=colors[result_type])\n",
    "\n",
    "        lines = []\n",
    "        title_str = \"\"\n",
    "        for parameter_name in parsed_data.keys():\n",
    "            length = len(parsed_data[parameter_name][result_types[0]])\n",
    "            x_step = parsed_data[parameter_name][\"x_step\"]\n",
    "            num_bytes = range(x_step, (length+1)*x_step, x_step)\n",
    "            model_result = {}\n",
    "            line_style = next(line_styles)\n",
    "            for result_type in result_types:\n",
    "                label = f\"{parameter_name} {labels[result_type]['y']}\"\n",
    "                lines += ax[result_type].plot(\n",
    "                    num_bytes, parsed_data[parameter_name][result_type],\n",
    "                    colors[result_type] + line_style, label=label)\n",
    "                title_str += f\"{label} \"\n",
    "                for param in params.keys():\n",
    "                    title_str += \"\".join(\n",
    "                        f\"{params[param].name.capitalize()}: \")\n",
    "                    title_str += \"\".join(\n",
    "                        f\"{model_results[parameter_name][result_type].params[param].value: .03} \")\n",
    "                    title_str += \"\".join(\n",
    "                        f\"{labels[result_type]['y_unit']}, \")\n",
    "                title_str = title_str[:-2] + \\\n",
    "                    f\" per {labels[result_type]['x_unit']}\\n\"\n",
    "        ax[result_types[0]].legend(handles=lines)\n",
    "        ax[result_types[0]].set_title(title_str[:-1])\n",
    "        # fig.tight_layout()\n",
    "        fig.tight_layout(rect=(0.05, 0.05, 1, 1))\n",
    "        fig.set_size_inches(8, 6, forward=True)\n",
    "        fig.show()\n",
    "\n",
    "    # Save model results to file\n",
    "    if dump_pickle:\n",
    "        model_results_dump = {}\n",
    "        for parameter_name in model_results.keys():\n",
    "            model_results_dump[parameter_name] = {}\n",
    "            for result_type in model_results[parameter_name].keys():\n",
    "                model_results_dump[parameter_name][result_type] = \\\n",
    "                    model_results[parameter_name][result_type].values\n",
    "\n",
    "        pickle.dump(model_results_dump, open(path.join(\n",
    "            path.curdir,\n",
    "            f\"{config_dict.get('file_name_base')}_model.p\"), \"wb\"))"
   ]
  },
  {
   "cell_type": "markdown",
   "metadata": {},
   "source": [
    "# Total from measurement"
   ]
  },
  {
   "cell_type": "code",
   "execution_count": 45,
   "metadata": {},
   "outputs": [
    {
     "name": "stdout",
     "output_type": "stream",
     "text": [
      "259.68709338638547 118343.04747200015\n"
     ]
    }
   ],
   "source": [
    "n_samples = 5995\n",
    "\n",
    "total_energy = sum(aes_encrypt_energy[:n_samples]) + sum(aes_flash_write_energy[:n_samples]) + sum(aes_flash_read_energy[:n_samples]) + sum(aes_decrypt_energy[:n_samples])\n",
    "total_time = sum(aes_encrypt_time_s[:n_samples]) + sum(aes_flash_write_time_s[:n_samples]) + sum(aes_flash_read_time_s[:n_samples]) + sum(aes_decrypt_time_s[:n_samples])\n",
    "print(total_energy, total_time)"
   ]
  },
  {
   "cell_type": "code",
   "execution_count": 46,
   "metadata": {},
   "outputs": [
    {
     "data": {
      "text/plain": [
       "[3.8278453333333293,\n",
       " 5.279786666666668,\n",
       " 6.6657306666666605,\n",
       " 8.117672000000006,\n",
       " 10.097639466666642,\n",
       " 11.483628799999979,\n",
       " 13.001958933333334,\n",
       " 14.388581333333345,\n",
       " 16.235796266666657,\n",
       " 17.75285226666673,\n",
       " 19.272570133333332,\n",
       " 20.592678400000064,\n",
       " 22.50509066666656,\n",
       " 24.024485333333345,\n",
       " 25.411074133333265,\n",
       " 26.92691199999997,\n",
       " 30.75690133333331,\n",
       " 32.2085290666666,\n",
       " 33.65844693333353,\n",
       " 35.110201599999996,\n",
       " 36.89668319999994,\n",
       " 38.41011733333322,\n",
       " 39.86569599999989,\n",
       " 41.31580480000007,\n",
       " 43.2303359999997,\n",
       " 44.68186666666662,\n",
       " 46.13149120000015,\n",
       " 47.65245226666681,\n",
       " 49.4336789333334,\n",
       " 50.95280906666644,\n",
       " 52.40182933333327,\n",
       " 53.79262453333311,\n",
       " 57.68086239999981,\n",
       " 59.0033274666668,\n",
       " 60.587203200000104,\n",
       " 62.04175466666694,\n",
       " 63.88692266666719,\n",
       " 65.3402879999998,\n",
       " 66.85470186666676,\n",
       " 68.2459599999996,\n",
       " 70.02602453333307,\n",
       " 71.54334506666693,\n",
       " 72.99635680000004,\n",
       " 74.50978506666628,\n",
       " 76.495927466667,\n",
       " 77.8807178666665,\n",
       " 79.19981866666647,\n",
       " 80.78349333333357,\n",
       " 84.61229759999966,\n",
       " 85.99780639999955,\n",
       " 87.44921866666732,\n",
       " 88.83665813333329,\n",
       " 90.74696319999998,\n",
       " 92.33492800000009,\n",
       " 93.72027306666686,\n",
       " 95.1058202666668,\n",
       " 96.95179573333412,\n",
       " 98.53866186666681,\n",
       " 99.8584864000014,\n",
       " 101.44312959999979,\n",
       " 103.29044000000032,\n",
       " 104.74186186666668,\n",
       " 106.2614698666664,\n",
       " 107.64225759999934,\n",
       " 111.14344853333336,\n",
       " 112.66185653333417,\n",
       " 114.11258986666707,\n",
       " 115.76493653333398,\n",
       " 117.54540693333216,\n",
       " 118.9309679999999,\n",
       " 120.44726613333266,\n",
       " 121.77114240000098,\n",
       " 123.75245120000145,\n",
       " 125.13292800000107,\n",
       " 126.65585386666666,\n",
       " 128.1070597333329,\n",
       " 130.0162128000002,\n",
       " 131.47462720000024,\n",
       " 132.99208320000224,\n",
       " 134.37134666666762,\n",
       " 138.20703359999877,\n",
       " 139.8564336000012,\n",
       " 141.03824906666597,\n",
       " 142.5630853333342,\n",
       " 144.27476426666797,\n",
       " 145.793101333334,\n",
       " 147.30972159999922,\n",
       " 148.82851893333182,\n",
       " 150.67507679999892,\n",
       " 152.1334533333345,\n",
       " 153.90936853333415,\n",
       " 155.03914239999972,\n",
       " 156.88024106666808,\n",
       " 158.33293546666738,\n",
       " 159.85202933333298,\n",
       " 161.36827520000097,\n",
       " 164.80576160000203,\n",
       " 166.18408000000073,\n",
       " 167.7046015999988,\n",
       " 169.16210666666842,\n",
       " 171.07046080000111,\n",
       " 172.58947306666352,\n",
       " 173.9744991999981,\n",
       " 175.36446400000116,\n",
       " 177.27463573333324,\n",
       " 178.5937055999991,\n",
       " 180.58114079999933,\n",
       " 181.69664533333219,\n",
       " 183.6727418666655,\n",
       " 185.0632383999997,\n",
       " 186.4495232000003,\n",
       " 187.96560213333535,\n",
       " 191.6707146666674,\n",
       " 193.24425759999997,\n",
       " 194.6354293333332,\n",
       " 195.8190218666651,\n",
       " 197.66833919999982,\n",
       " 199.12075520000093,\n",
       " 200.6371946666672,\n",
       " 202.15909600000083,\n",
       " 203.93723786666484,\n",
       " 205.4600101333346,\n",
       " 206.9729221333354,\n",
       " 208.42890080000132,\n",
       " 210.27388053333596,\n",
       " 211.72850879999316,\n",
       " 213.4412880000056,\n",
       " 214.69556853333316,\n",
       " 218.3940112000009,\n",
       " 219.90760533332931,\n",
       " 221.56551093333476,\n",
       " 223.01086613332544,\n",
       " 224.7313722666675,\n",
       " 225.98541493333357,\n",
       " 227.56776960000735,\n",
       " 229.01971786665953,\n",
       " 231.20022773333204,\n",
       " 232.38145013333522,\n",
       " 233.63897706666492,\n",
       " 235.35950720000542,\n",
       " 237.2005392000034,\n",
       " 238.5241871999959,\n",
       " 240.10994240000016,\n",
       " 241.56133813333014,\n",
       " 244.98936213333522,\n",
       " 246.77245066666487,\n",
       " 247.8968960000003,\n",
       " 249.4140293333338,\n",
       " 251.32833813333022,\n",
       " 252.37984853333373,\n",
       " 254.29827413334039,\n",
       " 255.88369866666483,\n",
       " 257.6014943999958,\n",
       " 258.9855317333338,\n",
       " 260.5001253333335,\n",
       " 261.88366666666593,\n",
       " 263.7370613333338,\n",
       " 265.3177173333354,\n",
       " 266.77132373332665,\n",
       " 268.2254426666688,\n",
       " 271.7242453333313,\n",
       " 273.2392880000027,\n",
       " 274.9554912000036,\n",
       " 276.4080810666662,\n",
       " 278.05889653332724,\n",
       " 279.90668853333386,\n",
       " 280.8950085333315,\n",
       " 282.87840799999844,\n",
       " 284.3952197333337,\n",
       " 285.8448181333344,\n",
       " 287.3637221333354,\n",
       " 288.8829162666617,\n",
       " 290.5975482666676,\n",
       " 292.11532640000115,\n",
       " 293.5031903999956,\n",
       " 295.14894880000145,\n",
       " 298.5815674666661,\n",
       " 299.9737119999928,\n",
       " 301.61803733333414,\n",
       " 303.0701055999998,\n",
       " 305.11453546666445,\n",
       " 306.56875733333067,\n",
       " 307.82207893332725,\n",
       " 309.0749221333269,\n",
       " 311.65645920000173,\n",
       " 312.57849120000003,\n",
       " 314.2254421333206,\n",
       " 315.34760853334376,\n",
       " 317.2648970666714,\n",
       " 318.7123989333358,\n",
       " 320.62672160000005,\n",
       " 321.748783466667,\n",
       " 325.5799925333349,\n",
       " 326.7628266666591,\n",
       " 328.2831280000025,\n",
       " 329.9324543999944,\n",
       " 331.57858399999895,\n",
       " 333.30161173333295,\n",
       " 334.68133973333636,\n",
       " 336.267146666664,\n",
       " 337.9216303999897,\n",
       " 338.97652106666953,\n",
       " 340.56166293333234,\n",
       " 342.5408656000073,\n",
       " 344.1199253333451,\n",
       " 345.7733690666558,\n",
       " 347.0271813333383,\n",
       " 348.4186224000041,\n",
       " 352.0440602666781,\n",
       " 353.2321194666608,\n",
       " 354.6172197333419,\n",
       " 356.52969546666213,\n",
       " 357.919733866666,\n",
       " 359.6341957333351,\n",
       " 361.3477056000107,\n",
       " 362.60490133332723,\n",
       " 364.7795279999926,\n",
       " 366.3684330666612,\n",
       " 367.41760639998944,\n",
       " 368.5464565333376,\n",
       " 370.72533919999984,\n",
       " 372.10410026666807,\n",
       " 373.62657760001383,\n",
       " 375.27521386664375,\n",
       " 378.83660906666705,\n",
       " 380.02836053333766,\n",
       " 381.80371733333374,\n",
       " 383.5927903999945,\n",
       " 384.9769839999908,\n",
       " 386.69389066667037,\n",
       " 387.8143770666753,\n",
       " 389.39829013333593,\n",
       " 391.18422186667345,\n",
       " 392.8958778666569,\n",
       " 394.2834373333284,\n",
       " 395.6725029333441,\n",
       " 397.2555120000081,\n",
       " 398.7668229333394,\n",
       " 400.61826719999516,\n",
       " 401.8072613333388,\n",
       " 405.2378319999903,\n",
       " 407.02274506666924,\n",
       " 408.47202453333864,\n",
       " 409.6592197333351,\n",
       " 412.1036250666563,\n",
       " 413.6204336000162,\n",
       " 414.6107599999951,\n",
       " 416.19455146665985,\n",
       " 417.9118735999978,\n",
       " 419.5621861333265,\n",
       " 421.0123184000025,\n",
       " 422.46435893333256,\n",
       " 424.37937280000426,\n",
       " 425.3678474666671,\n",
       " 427.01999946666547,\n",
       " 428.73261013332353,\n",
       " 432.0335845333432,\n",
       " 433.22330666666176,\n",
       " 435.00337440000436,\n",
       " 436.65753333333157,\n",
       " 438.2401040000303,\n",
       " 439.7567893333303,\n",
       " 441.3387248000191,\n",
       " 442.92400800000564,\n",
       " 444.70994879998216,\n",
       " 446.22624746668293,\n",
       " 447.6098319999977,\n",
       " 449.06365013335403,\n",
       " 450.84454186668665,\n",
       " 452.5613541333513,\n",
       " 454.1447871999793,\n",
       " 454.6716176000132,\n",
       " 458.63327200001436,\n",
       " 460.0204602666622,\n",
       " 461.93358773334126,\n",
       " 463.3833690666762,\n",
       " 464.8361338666547,\n",
       " 466.1622261333491,\n",
       " 467.87515359999077,\n",
       " 469.7194101333366,\n",
       " 471.4400917333421,\n",
       " 472.95949333334875,\n",
       " 474.0747434666588,\n",
       " 475.5929871999882,\n",
       " 477.84006399999157,\n",
       " 478.9592303999797,\n",
       " 480.4812858666736,\n",
       " 482.06465013335276,\n",
       " 485.29586613332754,\n",
       " 487.0136357333479,\n",
       " 488.3343258666599,\n",
       " 489.7812405333468,\n",
       " 491.95971680001094,\n",
       " 493.02279306668595,\n",
       " 494.73763573334395,\n",
       " 496.5193007999744,\n",
       " 497.9035221333561,\n",
       " 499.29333760000816,\n",
       " 500.8060597333497,\n",
       " 502.32398346666685,\n",
       " 504.1753216000018,\n",
       " 505.16776533333996,\n",
       " 507.2728149333443,\n",
       " 508.3967685333448,\n",
       " 511.82454453334003,\n",
       " 513.477136533325,\n",
       " 514.6632282666559,\n",
       " 516.2553370666814,\n",
       " 518.5627978666503,\n",
       " 519.6111973333473,\n",
       " 521.139182400006,\n",
       " 522.4528906666563,\n",
       " 524.5688997333389,\n",
       " 526.2861231999949,\n",
       " 527.4674608000112,\n",
       " 529.1887866666656,\n",
       " 530.9035482666644,\n",
       " 532.2205023999942,\n",
       " 533.7425690666606,\n",
       " 534.994051200016,\n",
       " 538.2937231999847,\n",
       " 539.4188890666669,\n",
       " 540.940277333334,\n",
       " 542.4520880000188,\n",
       " 544.5644816000197,\n",
       " 546.412204799978,\n",
       " 547.6663999999971,\n",
       " 549.1156533333168,\n",
       " 550.8373919999912,\n",
       " 552.1551040000077,\n",
       " 553.6714576000179,\n",
       " 555.3274266666364,\n",
       " 556.712248000025,\n",
       " 558.9546218666612,\n",
       " 559.9377498666769,\n",
       " 561.3979738666757,\n",
       " 564.5647071999917,\n",
       " 566.3409674666582,\n",
       " 567.863010666656,\n",
       " 569.3160837333266,\n",
       " 571.0288832000003,\n",
       " 572.4155317333128,\n",
       " 574.0024655999889,\n",
       " 575.0575530666708,\n",
       " 577.102978666673,\n",
       " 578.6899615999914,\n",
       " 580.1355109333173,\n",
       " 581.7908165333279,\n",
       " 583.5712010666612,\n",
       " 584.8907743999945,\n",
       " 586.2741584000162,\n",
       " 588.1248298666577,\n",
       " 591.0918885333558,\n",
       " 592.8073621333425,\n",
       " 594.4598522666809,\n",
       " 595.7098746666531,\n",
       " 597.2335898666614,\n",
       " 599.1457866666678,\n",
       " 600.0711530666791,\n",
       " 601.9851023999792,\n",
       " 603.1059840000097,\n",
       " 605.1495541333196,\n",
       " 606.4771242666467,\n",
       " 607.987129600005,\n",
       " 609.9053594666515,\n",
       " 611.3523344000242,\n",
       " 613.0030943999998,\n",
       " 614.3953376000013,\n",
       " 617.4284234666487,\n",
       " 618.4868160000008,\n",
       " 620.5274885333267,\n",
       " 621.7245168000147,\n",
       " 623.5017034666726,\n",
       " 625.2817231999899,\n",
       " 585.615056533328]"
      ]
     },
     "execution_count": 46,
     "metadata": {},
     "output_type": "execute_result"
    }
   ],
   "source": [
    "          [e + w + r + d for (e,w,r,d) in zip(aes_encrypt_energy, aes_flash_write_energy, aes_flash_read_energy, aes_decrypt_energy)],\n",
    "          [e + w + r + d for (e,w,r,d) in zip(aes_encrypt_time_s, aes_flash_write_time_s, aes_flash_read_time_s, aes_decrypt_time_s)]"
   ]
  },
  {
   "cell_type": "code",
   "execution_count": null,
   "metadata": {},
   "outputs": [],
   "source": []
  },
  {
   "cell_type": "code",
   "execution_count": null,
   "metadata": {},
   "outputs": [],
   "source": []
  },
  {
   "cell_type": "code",
   "execution_count": null,
   "metadata": {},
   "outputs": [],
   "source": []
  },
  {
   "cell_type": "code",
   "execution_count": null,
   "metadata": {},
   "outputs": [],
   "source": []
  },
  {
   "cell_type": "code",
   "execution_count": null,
   "metadata": {},
   "outputs": [],
   "source": []
  },
  {
   "cell_type": "code",
   "execution_count": null,
   "metadata": {},
   "outputs": [],
   "source": []
  },
  {
   "cell_type": "code",
   "execution_count": null,
   "metadata": {},
   "outputs": [],
   "source": []
  }
 ],
 "metadata": {
  "kernelspec": {
   "display_name": "Python 3",
   "language": "python",
   "name": "python3"
  },
  "language_info": {
   "codemirror_mode": {
    "name": "ipython",
    "version": 3
   },
   "file_extension": ".py",
   "mimetype": "text/x-python",
   "name": "python",
   "nbconvert_exporter": "python",
   "pygments_lexer": "ipython3",
   "version": "3.8.1"
  }
 },
 "nbformat": 4,
 "nbformat_minor": 4
}

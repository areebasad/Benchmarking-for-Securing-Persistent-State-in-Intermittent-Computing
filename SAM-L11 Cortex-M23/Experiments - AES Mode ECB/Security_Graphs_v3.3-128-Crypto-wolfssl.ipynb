{
 "cells": [
  {
   "cell_type": "code",
   "execution_count": 313,
   "metadata": {},
   "outputs": [],
   "source": [
    "# %matplotlib ipympl\n",
    "# %matplotlib inline\n",
    "%matplotlib wx"
   ]
  },
  {
   "cell_type": "code",
   "execution_count": 314,
   "metadata": {},
   "outputs": [],
   "source": [
    "import matplotlib.pyplot as plt\n",
    "import numpy as np\n",
    "import pickle\n",
    "from os import path"
   ]
  },
  {
   "cell_type": "code",
   "execution_count": 315,
   "metadata": {},
   "outputs": [],
   "source": [
    "security_projects=['Crypto-128','AES-128_Flash-Wolfssl','AES-128_Flash', 'TrustZone_Flash', 'No_Security_Flash']"
   ]
  },
  {
   "cell_type": "code",
   "execution_count": 316,
   "metadata": {},
   "outputs": [
    {
     "name": "stdout",
     "output_type": "stream",
     "text": [
      "26 416\n"
     ]
    }
   ],
   "source": [
    "crypto128_path = [\"AES-128_Crypto-Accelerator\"]\n",
    "\n",
    "crypto128_encrypt_energy_mJ = pickle.load(open(path.join(*crypto128_path, \"aes_flash_encrypt_energy_mJ.p\"), \"rb\"))\n",
    "crypto128_decrypt_energy_mJ = pickle.load(open(path.join(*crypto128_path, \"aes_flash_decrypt_energy_mJ.p\"), \"rb\"))\n",
    "crypto128_flash_write_energy_mJ = pickle.load(open(path.join(*crypto128_path, \"aes_flash_write_energy_mJ.p\"), \"rb\"))\n",
    "crypto128_flash_read_energy_mJ = pickle.load(open(path.join(*crypto128_path, \"aes_flash_read_energy_mJ.p\"), \"rb\"))\n",
    "crypto128_encrypt_time_ms = pickle.load(open(path.join(*crypto128_path, \"aes_flash_encrypt_time_ms.p\"), \"rb\"))\n",
    "crypto128_decrypt_time_ms = pickle.load(open(path.join(*crypto128_path, \"aes_flash_decrypt_time_ms.p\"), \"rb\"))\n",
    "crypto128_flash_write_time_ms = pickle.load(open(path.join(*crypto128_path, \"aes_flash_write_time_ms.p\"), \"rb\"))\n",
    "crypto128_flash_read_time_ms = pickle.load(open(path.join(*crypto128_path, \"aes_flash_read_time_ms.p\"), \"rb\"))\n",
    "crypto128 = [\n",
    "    crypto128_encrypt_energy_mJ,\n",
    "    crypto128_decrypt_energy_mJ,\n",
    "    crypto128_flash_write_energy_mJ,\n",
    "    crypto128_flash_read_energy_mJ,\n",
    "    crypto128_encrypt_time_ms,\n",
    "    crypto128_decrypt_time_ms,\n",
    "    crypto128_flash_write_time_ms,\n",
    "    crypto128_flash_read_time_ms,\n",
    "]\n",
    "for i in crypto128_path:\n",
    "    print(len(i), len(i)*16)"
   ]
  },
  {
   "cell_type": "code",
   "execution_count": 317,
   "metadata": {},
   "outputs": [
    {
     "name": "stdout",
     "output_type": "stream",
     "text": [
      "29 464\n"
     ]
    }
   ],
   "source": [
    "aes128w_path = [\"AES-128_Flash_WolfSSL_library\"]\n",
    "\n",
    "aes128w_encrypt_energy_mJ = pickle.load(open(path.join(*aes128w_path, \"aes_flash_encrypt_energy_mJ.p\"), \"rb\"))\n",
    "aes128w_decrypt_energy_mJ = pickle.load(open(path.join(*aes128w_path, \"aes_flash_decrypt_energy_mJ.p\"), \"rb\"))\n",
    "aes128w_flash_write_energy_mJ = pickle.load(open(path.join(*aes128w_path, \"aes_flash_write_energy_mJ.p\"), \"rb\"))\n",
    "aes128w_flash_read_energy_mJ = pickle.load(open(path.join(*aes128w_path, \"aes_flash_read_energy_mJ.p\"), \"rb\"))\n",
    "aes128w_encrypt_time_ms = pickle.load(open(path.join(*aes128w_path, \"aes_flash_encrypt_time_ms.p\"), \"rb\"))\n",
    "aes128w_decrypt_time_ms = pickle.load(open(path.join(*aes128w_path, \"aes_flash_decrypt_time_ms.p\"), \"rb\"))\n",
    "aes128w_flash_write_time_ms = pickle.load(open(path.join(*aes128w_path, \"aes_flash_write_time_ms.p\"), \"rb\"))\n",
    "aes128w_flash_read_time_ms = pickle.load(open(path.join(*aes128w_path, \"aes_flash_read_time_ms.p\"), \"rb\"))\n",
    "aes128w = [\n",
    "    aes128w_encrypt_energy_mJ,\n",
    "    aes128w_decrypt_energy_mJ,\n",
    "    aes128w_flash_write_energy_mJ,\n",
    "    aes128w_flash_read_energy_mJ,\n",
    "    aes128w_encrypt_time_ms,\n",
    "    aes128w_decrypt_time_ms,\n",
    "    aes128w_flash_write_time_ms,\n",
    "    aes128w_flash_read_time_ms,\n",
    "]\n",
    "for i in aes128w_path:\n",
    "    print(len(i), len(i)*16)"
   ]
  },
  {
   "cell_type": "code",
   "execution_count": 318,
   "metadata": {},
   "outputs": [
    {
     "name": "stdout",
     "output_type": "stream",
     "text": [
      "13 208\n"
     ]
    }
   ],
   "source": [
    "aes128_path = [\"AES-128_Flash\"]\n",
    "\n",
    "aes128_encrypt_energy_mJ = pickle.load(open(path.join(*aes128_path, \"aes_flash_encrypt_energy_mJ.p\"), \"rb\"))\n",
    "aes128_decrypt_energy_mJ = pickle.load(open(path.join(*aes128_path, \"aes_flash_decrypt_energy_mJ.p\"), \"rb\"))\n",
    "aes128_flash_write_energy_mJ = pickle.load(open(path.join(*aes128_path, \"aes_flash_write_energy_mJ.p\"), \"rb\"))\n",
    "aes128_flash_read_energy_mJ = pickle.load(open(path.join(*aes128_path, \"aes_flash_read_energy_mJ.p\"), \"rb\"))\n",
    "aes128_encrypt_time_ms = pickle.load(open(path.join(*aes128_path, \"aes_flash_encrypt_time_ms.p\"), \"rb\"))\n",
    "aes128_decrypt_time_ms = pickle.load(open(path.join(*aes128_path, \"aes_flash_decrypt_time_ms.p\"), \"rb\"))\n",
    "aes128_flash_write_time_ms = pickle.load(open(path.join(*aes128_path, \"aes_flash_write_time_ms.p\"), \"rb\"))\n",
    "aes128_flash_read_time_ms = pickle.load(open(path.join(*aes128_path, \"aes_flash_read_time_ms.p\"), \"rb\"))\n",
    "aes128 = [\n",
    "    aes128_encrypt_energy_mJ,\n",
    "    aes128_decrypt_energy_mJ,\n",
    "    aes128_flash_write_energy_mJ,\n",
    "    aes128_flash_read_energy_mJ,\n",
    "    aes128_encrypt_time_ms,\n",
    "    aes128_decrypt_time_ms,\n",
    "    aes128_flash_write_time_ms,\n",
    "    aes128_flash_read_time_ms,\n",
    "]\n",
    "for i in aes128_path:\n",
    "    print(len(i), len(i)*16)"
   ]
  },
  {
   "cell_type": "code",
   "execution_count": 319,
   "metadata": {},
   "outputs": [
    {
     "name": "stdout",
     "output_type": "stream",
     "text": [
      "5999\n",
      "5999\n",
      "5999\n",
      "5999\n"
     ]
    }
   ],
   "source": [
    "no_security_path = [\"No_Security_Flash\"]\n",
    "\n",
    "flash_write_energy_mJ = pickle.load(open(path.join(*no_security_path, \"no_security_flash_write_energy_mJ.p\"), \"rb\"))\n",
    "flash_read_energy_mJ = pickle.load(open(path.join(*no_security_path, \"no_security_flash_read_energy_mJ.p\"), \"rb\"))\n",
    "flash_write_time_ms = pickle.load(open(path.join(*no_security_path, \"no_security_flash_write_time_ms.p\"), \"rb\"))\n",
    "flash_read_time_ms = pickle.load(open(path.join(*no_security_path, \"no_security_flash_read_time_ms.p\"), \"rb\"))\n",
    "no_security = [flash_write_energy_mJ, flash_read_energy_mJ, flash_write_time_ms, flash_read_time_ms]\n",
    "for i in no_security:\n",
    "    print(len(i))"
   ]
  },
  {
   "cell_type": "code",
   "execution_count": 320,
   "metadata": {},
   "outputs": [
    {
     "name": "stdout",
     "output_type": "stream",
     "text": [
      "6000\n",
      "6000\n",
      "6000\n",
      "6000\n"
     ]
    }
   ],
   "source": [
    "trustzone_path = [\"TrustZone_Flash\"]\n",
    "\n",
    "nsc_write_energy_mJ = pickle.load(open(path.join(*trustzone_path, \"trustzone_flash_write_energy_mJ.p\"), \"rb\"))\n",
    "nsc_read_energy_mJ = pickle.load(open(path.join(*trustzone_path, \"trustzone_flash_read_energy_mJ.p\"), \"rb\"))\n",
    "nsc_write_time_ms = pickle.load(open(path.join(*trustzone_path, \"trustzone_flash_write_time_ms.p\"), \"rb\"))\n",
    "nsc_read_time_ms = pickle.load(open(path.join(*trustzone_path, \"trustzone_flash_read_time_ms.p\"), \"rb\"))\n",
    "trustzone = [nsc_write_energy_mJ, nsc_read_energy_mJ, nsc_write_time_ms, nsc_read_time_ms]\n",
    "for i in trustzone:\n",
    "    print(len(i))"
   ]
  },
  {
   "cell_type": "code",
   "execution_count": 321,
   "metadata": {},
   "outputs": [],
   "source": [
    "min_num = 6000-1"
   ]
  },
  {
   "cell_type": "code",
   "execution_count": 322,
   "metadata": {},
   "outputs": [],
   "source": [
    "j_scale = 1e6\n",
    "m_to_u = 1e3\n",
    "voltage = 3.33"
   ]
  },
  {
   "cell_type": "code",
   "execution_count": 323,
   "metadata": {},
   "outputs": [],
   "source": [
    "MBEDTLS_AES_BLOCK_SIZE = 16\n",
    "STEP_SIZE = MBEDTLS_AES_BLOCK_SIZE\n",
    "MIN_NUM_BYTES = STEP_SIZE\n",
    "crypto128_chkp = []\n",
    "crypto128_rest = []\n",
    "crypto128_chkp_time = []\n",
    "crypto128_rest_time = []\n",
    "crypto128_x = []\n",
    "for i in range(0, min_num//STEP_SIZE):\n",
    "    crypto128_x.append(MIN_NUM_BYTES + i*STEP_SIZE)\n",
    "    crypto128_chkp.append((crypto128_encrypt_energy_mJ[i] + crypto128_flash_write_energy_mJ[i])  * m_to_u)\n",
    "    crypto128_rest.append((crypto128_decrypt_energy_mJ[i] + crypto128_flash_read_energy_mJ[i]) * m_to_u)\n",
    "    crypto128_chkp_time.append((crypto128_encrypt_time_ms[i] + crypto128_flash_write_time_ms[i]))\n",
    "    crypto128_rest_time.append((crypto128_decrypt_time_ms[i] + crypto128_flash_read_time_ms[i]))"
   ]
  },
  {
   "cell_type": "code",
   "execution_count": 324,
   "metadata": {},
   "outputs": [],
   "source": [
    "WOLFSSL_AES_BLOCK_SIZE = 16\n",
    "STEP_SIZE = WOLFSSL_AES_BLOCK_SIZE\n",
    "MIN_NUM_BYTES = STEP_SIZE\n",
    "aes128w_chkp = []\n",
    "aes128w_rest = []\n",
    "aes128w_chkp_time = []\n",
    "aes128w_rest_time = []\n",
    "aes128w_x = []\n",
    "for i in range(0, min_num//STEP_SIZE):\n",
    "    aes128w_x.append(MIN_NUM_BYTES + i*STEP_SIZE)\n",
    "    aes128w_chkp.append((aes128w_encrypt_energy_mJ[i] + aes128w_flash_write_energy_mJ[i])  * m_to_u)\n",
    "    aes128w_rest.append((aes128w_decrypt_energy_mJ[i] + aes128w_flash_read_energy_mJ[i]) * m_to_u)\n",
    "    aes128w_chkp_time.append((aes128w_encrypt_time_ms[i] + aes128w_flash_write_time_ms[i]))\n",
    "    aes128w_rest_time.append((aes128w_decrypt_time_ms[i] + aes128w_flash_read_time_ms[i]))"
   ]
  },
  {
   "cell_type": "code",
   "execution_count": 325,
   "metadata": {},
   "outputs": [],
   "source": [
    "MBEDTLS_AES_BLOCK_SIZE = 16\n",
    "STEP_SIZE = MBEDTLS_AES_BLOCK_SIZE\n",
    "MIN_NUM_BYTES = STEP_SIZE\n",
    "aes128_chkp = []\n",
    "aes128_rest = []\n",
    "aes128_chkp_time = []\n",
    "aes128_rest_time = []\n",
    "aes128_x = []\n",
    "for i in range(0, min_num//STEP_SIZE):\n",
    "    aes128_x.append(MIN_NUM_BYTES + i*STEP_SIZE)\n",
    "    aes128_chkp.append((aes128_encrypt_energy_mJ[i] + aes128_flash_write_energy_mJ[i])  * m_to_u)\n",
    "    aes128_rest.append((aes128_decrypt_energy_mJ[i] + aes128_flash_read_energy_mJ[i]) * m_to_u)\n",
    "    aes128_chkp_time.append((aes128_encrypt_time_ms[i] + aes128_flash_write_time_ms[i]))\n",
    "    aes128_rest_time.append((aes128_decrypt_time_ms[i] + aes128_flash_read_time_ms[i]))"
   ]
  },
  {
   "cell_type": "code",
   "execution_count": 326,
   "metadata": {},
   "outputs": [],
   "source": [
    "no_security_chkp = []\n",
    "no_security_rest = []\n",
    "no_security_chkp_time = []\n",
    "no_security_rest_time = []\n",
    "no_security_x = []\n",
    "for i in range(0, min_num):\n",
    "    no_security_x.append(i+1)\n",
    "    no_security_chkp.append(flash_write_energy_mJ[i]  * m_to_u)\n",
    "    no_security_rest.append(flash_read_energy_mJ[i] * m_to_u)\n",
    "    no_security_chkp_time.append(flash_write_time_ms[i])\n",
    "    no_security_rest_time.append(flash_read_time_ms[i])"
   ]
  },
  {
   "cell_type": "code",
   "execution_count": 327,
   "metadata": {},
   "outputs": [],
   "source": [
    "trustzone_chkp = []\n",
    "trustzone_rest = []\n",
    "trustzone_chkp_time = []\n",
    "trustzone_rest_time = []\n",
    "trustzone_x = []\n",
    "for i in range(0, min_num):\n",
    "    trustzone_x.append(i+1)\n",
    "    trustzone_chkp.append(nsc_write_energy_mJ[i] * m_to_u)\n",
    "    trustzone_rest.append(nsc_read_energy_mJ[i] * m_to_u)\n",
    "    trustzone_chkp_time.append(nsc_write_time_ms[i])\n",
    "    trustzone_rest_time.append(nsc_read_time_ms[i])"
   ]
  },
  {
   "cell_type": "code",
   "execution_count": 353,
   "metadata": {},
   "outputs": [],
   "source": [
    "every = 500\n",
    "everies= [every//MBEDTLS_AES_BLOCK_SIZE*2, every//MBEDTLS_AES_BLOCK_SIZE, \n",
    "          every//MBEDTLS_AES_BLOCK_SIZE, every//MBEDTLS_AES_BLOCK_SIZE,\n",
    "          every//MBEDTLS_AES_BLOCK_SIZE*2, every//MBEDTLS_AES_BLOCK_SIZE*2,\n",
    "          every, every*2, every*2, every]\n",
    "\n",
    "colors = ['#D80303','#D80303',\n",
    "          '#F4D03F','#F4D03F',\n",
    "         # '#cca300', '#cca300',\n",
    "          '#85e085', '#85e085',\n",
    "         # '#258e25', '#258e25',\n",
    "          '#66b3ff', '#66b3ff',\n",
    "          '#262932', '#262932'] #'k'\n",
    "#'#D80303','#D80303',\n",
    "# colors = ['#85e085', '#85e085', '#258e25', '#258e25', '#66b3ff', '#66b3ff', '#b3b3cc', '#b3b3cc'] #'k'\n",
    "# security_colors = {'AES_Flash':'#85e085', 'AES-128_Flash':'#85e085', 'AES-256_Flash':'#258e25', 'TrustZone_Flash':'#66b3ff', 'No_Security_Flash':'#b3b3cc'}\n",
    "\n",
    "linestyles = [(0, (1.0, 0)), (0, (1.0, 0.5)),\n",
    "              (0, (1.0, 0)), (0, (1.0, 0.5)),\n",
    "            #  (0, (1.0, 0)), (0, (1.0, 0.5)),\n",
    "              (0, (1.0, 0)), (0, (1.0, 0.5)),\n",
    "            #  (0, (2.0, 1.0)), (0, (3.0, 1.5)),\n",
    "              (0, (4.0, 2.0)), (0, (5.0, 2.5)), (0, (6.0, 3.0)), (0, (7.0, 3.5))]\n",
    "markers = ['*','.',\n",
    "           'v', '^',\n",
    "          # 'v', '^',\n",
    "           'v', '^',\n",
    "          # 7, 6,\n",
    "           '<', '>', 'o', 'D']\n",
    "opacity = 0.8"
   ]
  },
  {
   "cell_type": "code",
   "execution_count": 354,
   "metadata": {},
   "outputs": [],
   "source": [
    "consistent_colors = True"
   ]
  },
  {
   "cell_type": "code",
   "execution_count": 1,
   "metadata": {},
   "outputs": [
    {
     "ename": "NameError",
     "evalue": "name 'plt' is not defined",
     "output_type": "error",
     "traceback": [
      "\u001b[1;31m---------------------------------------------------------------------------\u001b[0m",
      "\u001b[1;31mNameError\u001b[0m                                 Traceback (most recent call last)",
      "\u001b[1;32m<ipython-input-1-b1fbcf8cedb1>\u001b[0m in \u001b[0;36m<module>\u001b[1;34m\u001b[0m\n\u001b[1;32m----> 1\u001b[1;33m \u001b[0mfig_energy\u001b[0m \u001b[1;33m=\u001b[0m \u001b[0mplt\u001b[0m\u001b[1;33m.\u001b[0m\u001b[0mfigure\u001b[0m\u001b[1;33m(\u001b[0m\u001b[0mfigsize\u001b[0m\u001b[1;33m=\u001b[0m\u001b[1;33m(\u001b[0m\u001b[1;36m12\u001b[0m\u001b[1;33m,\u001b[0m\u001b[1;36m8\u001b[0m\u001b[1;33m)\u001b[0m\u001b[1;33m,\u001b[0m \u001b[0mdpi\u001b[0m\u001b[1;33m=\u001b[0m \u001b[1;36m220\u001b[0m\u001b[1;33m)\u001b[0m\u001b[1;33m\u001b[0m\u001b[1;33m\u001b[0m\u001b[0m\n\u001b[0m\u001b[0;32m      2\u001b[0m \u001b[0mfig_energy\u001b[0m\u001b[1;33m.\u001b[0m\u001b[0mcanvas\u001b[0m\u001b[1;33m.\u001b[0m\u001b[0mset_window_title\u001b[0m\u001b[1;33m(\u001b[0m\u001b[1;34m\"Analysis Energy\"\u001b[0m\u001b[1;33m)\u001b[0m\u001b[1;33m\u001b[0m\u001b[1;33m\u001b[0m\u001b[0m\n\u001b[0;32m      3\u001b[0m \u001b[1;31m#figsize=(15, 7.5), dpi= 100\u001b[0m\u001b[1;33m\u001b[0m\u001b[1;33m\u001b[0m\u001b[1;33m\u001b[0m\u001b[0m\n",
      "\u001b[1;31mNameError\u001b[0m: name 'plt' is not defined"
     ]
    }
   ],
   "source": [
    "fig_energy = plt.figure(figsize=(12,8), dpi= 220)\n",
    "fig_energy.canvas.set_window_title(\"Analysis Energy\")\n",
    "#figsize=(15, 7.5), dpi= 100"
   ]
  },
  {
   "cell_type": "code",
   "execution_count": 377,
   "metadata": {},
   "outputs": [
    {
     "data": {
      "text/plain": [
       "Text(0, 0.5, 'Energy [$\\\\mu$J]')"
      ]
     },
     "execution_count": 377,
     "metadata": {},
     "output_type": "execute_result"
    }
   ],
   "source": [
    "fig_energy.clf()\n",
    "ax1 = fig_energy.add_subplot(1, 1, 1)\n",
    "ax1.set_xlabel('Checkpoint Size [Bytes]')\n",
    "ax1.set_ylabel('Energy [$\\mu$J]') # $\\mu$"
   ]
  },
  {
   "cell_type": "code",
   "execution_count": 378,
   "metadata": {},
   "outputs": [],
   "source": [
    "lines = []\n",
    "lines += ax1.plot(crypto128_x, crypto128_chkp, label='AES-128 ECB Crypto-Accelerator Checkpoint', alpha=opacity)\n",
    "lines += ax1.plot(crypto128_x, crypto128_rest, label='AES-128 ECB Crypto-Accelerator Restore', alpha=opacity)\n",
    "lines += ax1.plot(aes128w_x, aes128w_chkp, label='AES-128 ECB wolfSSL Checkpoint', alpha=0.6)\n",
    "lines += ax1.plot(aes128w_x, aes128w_rest, label='AES-128 ECB wolfSSL Restore', alpha=1)\n",
    "lines += ax1.plot(aes128_x, aes128_chkp, label='AES-128 ECB mbedTLS Checkpoint', zorder=1, alpha=opacity)\n",
    "lines += ax1.plot(aes128_x, aes128_rest, label='AES-128 ECB mbedTLS Restore', alpha=opacity)\n",
    "lines += ax1.plot(trustzone_x, trustzone_chkp, label='TrustZone Checkpoint', zorder=3, alpha=opacity)\n",
    "lines += ax1.plot(trustzone_x, trustzone_rest, label='TrustZone Restore', zorder=3, alpha=opacity)\n",
    "lines += ax1.plot(no_security_x, no_security_chkp, label='No Security Checkpoint', zorder=0, alpha=opacity)\n",
    "lines += ax1.plot(no_security_x, no_security_rest, label='No Security Restore', zorder=0, alpha=opacity)\n",
    "for i in range(len(lines)):\n",
    "    lines[i].set_markevery(everies[i])\n",
    "    lines[i].set_linestyle(linestyles[i])\n",
    "    lines[i].set_marker(markers[i])\n",
    "    if consistent_colors:\n",
    "        lines[i].set_color(colors[i])\n",
    "\n",
    "ax1.legend(handles=lines)\n",
    "# ax1.set_yscale('log')\n",
    "ax1.grid()\n",
    "fig_energy.tight_layout()\n",
    "fig_energy.show()"
   ]
  },
  {
   "cell_type": "code",
   "execution_count": 333,
   "metadata": {},
   "outputs": [],
   "source": [
    "fig_time = plt.figure(figsize=(12,8), dpi= 220)\n",
    "fig_time.canvas.set_window_title(\"Analysis Time\")"
   ]
  },
  {
   "cell_type": "code",
   "execution_count": 334,
   "metadata": {},
   "outputs": [
    {
     "data": {
      "text/plain": [
       "Text(0, 0.5, 'Time [ms]')"
      ]
     },
     "execution_count": 334,
     "metadata": {},
     "output_type": "execute_result"
    }
   ],
   "source": [
    "fig_time.clf()\n",
    "ax2 = fig_time.add_subplot(1, 1, 1)\n",
    "ax2.set_xlabel('Checkpoint Size [Bytes]')\n",
    "ax2.set_ylabel('Time [ms]') # $\\mu$"
   ]
  },
  {
   "cell_type": "code",
   "execution_count": 335,
   "metadata": {},
   "outputs": [],
   "source": [
    "lines = []\n",
    "lines += ax2.plot(crypto128_x, crypto128_chkp_time, label='AES-128 ECB Crypto-Accelerator Checkpoint', alpha=opacity)\n",
    "lines += ax2.plot(crypto128_x, crypto128_rest_time, label='AES-128 ECB Crypto-Accelerator Restore', alpha=opacity)\n",
    "lines += ax2.plot(aes128w_x, aes128w_chkp_time, label='AES-128 ECB wolfSSL Checkpoint', alpha=opacity)\n",
    "lines += ax2.plot(aes128w_x, aes128w_rest_time, label='AES-128 ECB wolfSSL Restore', alpha=opacity)\n",
    "lines += ax2.plot(aes128_x, aes128_chkp_time, label='AES-128 ECB mbedTLS Checkpoint', alpha=opacity)\n",
    "lines += ax2.plot(aes128_x, aes128_rest_time, label='AES-128 ECB mbedTLS Restore', alpha=opacity)\n",
    "lines += ax2.plot(trustzone_x, trustzone_chkp_time, label='TrustZone Checkpoint', zorder=3, alpha=opacity)\n",
    "lines += ax2.plot(trustzone_x, trustzone_rest_time, label='TrustZone Restore', zorder=3, alpha=opacity)\n",
    "lines += ax2.plot(no_security_x, no_security_chkp_time, label='No Security Checkpoint', zorder=0, alpha=opacity)\n",
    "lines += ax2.plot(no_security_x, no_security_rest_time, label='No Security Restore', zorder=0, alpha=opacity)\n",
    "for i in range(len(lines)):\n",
    "    lines[i].set_markevery(everies[i])\n",
    "    lines[i].set_linestyle(linestyles[i])\n",
    "    lines[i].set_marker(markers[i])\n",
    "    if consistent_colors:\n",
    "        lines[i].set_color(colors[i])\n",
    "\n",
    "ax2.legend(handles=lines)\n",
    "# ax2.set_yscale('log')\n",
    "ax2.grid()\n",
    "fig_time.tight_layout()\n",
    "fig_time.show()"
   ]
  },
  {
   "cell_type": "markdown",
   "metadata": {},
   "source": [
    "## Zoom"
   ]
  },
  {
   "cell_type": "code",
   "execution_count": 176,
   "metadata": {},
   "outputs": [],
   "source": [
    "ax1.set_xlim(5001,5250)\n",
    "# ax1.set_ylim(trustzone_chkp[5001-10]*0.99,trustzone_chkp[5001]*1.05)\n",
    "ax1.set_ylim(460,500)\n",
    "\n",
    "ax1.get_legend().remove()\n",
    "# ax1.legend(handles=[lines[4]]+[lines[6]])"
   ]
  },
  {
   "cell_type": "code",
   "execution_count": 177,
   "metadata": {},
   "outputs": [],
   "source": [
    "ax2.set_xlim(5001,5250)\n",
    "ax2.set_ylim(73,80)\n",
    "\n",
    "ax2.get_legend().remove()\n",
    "# ax2.legend(handles=[lines[4]]+[lines[6]])"
   ]
  },
  {
   "cell_type": "code",
   "execution_count": null,
   "metadata": {},
   "outputs": [],
   "source": []
  },
  {
   "cell_type": "code",
   "execution_count": null,
   "metadata": {},
   "outputs": [],
   "source": []
  },
  {
   "cell_type": "code",
   "execution_count": null,
   "metadata": {},
   "outputs": [],
   "source": []
  },
  {
   "cell_type": "code",
   "execution_count": 178,
   "metadata": {},
   "outputs": [
    {
     "ename": "FileNotFoundError",
     "evalue": "[Errno 2] No such file or directory: 'Validation\\\\No_Security_Flash\\\\no_security_flash_write_charge.p'",
     "output_type": "error",
     "traceback": [
      "\u001b[1;31m---------------------------------------------------------------------------\u001b[0m",
      "\u001b[1;31mFileNotFoundError\u001b[0m                         Traceback (most recent call last)",
      "\u001b[1;32m<ipython-input-178-6bcd80f97326>\u001b[0m in \u001b[0;36m<module>\u001b[1;34m\u001b[0m\n\u001b[1;32m----> 1\u001b[1;33m \u001b[0mtz_flash_write_charge\u001b[0m \u001b[1;33m=\u001b[0m \u001b[0mpickle\u001b[0m\u001b[1;33m.\u001b[0m\u001b[0mload\u001b[0m\u001b[1;33m(\u001b[0m\u001b[0mopen\u001b[0m\u001b[1;33m(\u001b[0m\u001b[0mpath\u001b[0m\u001b[1;33m.\u001b[0m\u001b[0mjoin\u001b[0m\u001b[1;33m(\u001b[0m\u001b[1;34m\"Validation\"\u001b[0m\u001b[1;33m,\u001b[0m \u001b[1;34m\"No_Security_Flash\"\u001b[0m\u001b[1;33m,\u001b[0m \u001b[1;34m\"no_security_flash_write_charge.p\"\u001b[0m\u001b[1;33m)\u001b[0m\u001b[1;33m,\u001b[0m \u001b[1;34m\"rb\"\u001b[0m\u001b[1;33m)\u001b[0m\u001b[1;33m)\u001b[0m\u001b[1;33m\u001b[0m\u001b[1;33m\u001b[0m\u001b[0m\n\u001b[0m\u001b[0;32m      2\u001b[0m \u001b[0mtz_flash_read_charge\u001b[0m \u001b[1;33m=\u001b[0m \u001b[0mpickle\u001b[0m\u001b[1;33m.\u001b[0m\u001b[0mload\u001b[0m\u001b[1;33m(\u001b[0m\u001b[0mopen\u001b[0m\u001b[1;33m(\u001b[0m\u001b[0mpath\u001b[0m\u001b[1;33m.\u001b[0m\u001b[0mjoin\u001b[0m\u001b[1;33m(\u001b[0m\u001b[1;34m\"Validation\"\u001b[0m\u001b[1;33m,\u001b[0m \u001b[1;34m\"No_Security_Flash\"\u001b[0m\u001b[1;33m,\u001b[0m \u001b[1;34m\"no_security_flash_read_charge.p\"\u001b[0m\u001b[1;33m)\u001b[0m\u001b[1;33m,\u001b[0m \u001b[1;34m\"rb\"\u001b[0m\u001b[1;33m)\u001b[0m\u001b[1;33m)\u001b[0m\u001b[1;33m\u001b[0m\u001b[1;33m\u001b[0m\u001b[0m\n\u001b[0;32m      3\u001b[0m \u001b[0mtz_flash_write_time\u001b[0m \u001b[1;33m=\u001b[0m \u001b[0mpickle\u001b[0m\u001b[1;33m.\u001b[0m\u001b[0mload\u001b[0m\u001b[1;33m(\u001b[0m\u001b[0mopen\u001b[0m\u001b[1;33m(\u001b[0m\u001b[0mpath\u001b[0m\u001b[1;33m.\u001b[0m\u001b[0mjoin\u001b[0m\u001b[1;33m(\u001b[0m\u001b[1;34m\"Validation\"\u001b[0m\u001b[1;33m,\u001b[0m \u001b[1;34m\"No_Security_Flash\"\u001b[0m\u001b[1;33m,\u001b[0m \u001b[1;34m\"no_security_flash_write_time.p\"\u001b[0m\u001b[1;33m)\u001b[0m\u001b[1;33m,\u001b[0m \u001b[1;34m\"rb\"\u001b[0m\u001b[1;33m)\u001b[0m\u001b[1;33m)\u001b[0m\u001b[1;33m\u001b[0m\u001b[1;33m\u001b[0m\u001b[0m\n\u001b[0;32m      4\u001b[0m \u001b[0mtz_flash_read_time\u001b[0m \u001b[1;33m=\u001b[0m \u001b[0mpickle\u001b[0m\u001b[1;33m.\u001b[0m\u001b[0mload\u001b[0m\u001b[1;33m(\u001b[0m\u001b[0mopen\u001b[0m\u001b[1;33m(\u001b[0m\u001b[0mpath\u001b[0m\u001b[1;33m.\u001b[0m\u001b[0mjoin\u001b[0m\u001b[1;33m(\u001b[0m\u001b[1;34m\"Validation\"\u001b[0m\u001b[1;33m,\u001b[0m \u001b[1;34m\"No_Security_Flash\"\u001b[0m\u001b[1;33m,\u001b[0m \u001b[1;34m\"no_security_flash_read_time.p\"\u001b[0m\u001b[1;33m)\u001b[0m\u001b[1;33m,\u001b[0m \u001b[1;34m\"rb\"\u001b[0m\u001b[1;33m)\u001b[0m\u001b[1;33m)\u001b[0m\u001b[1;33m\u001b[0m\u001b[1;33m\u001b[0m\u001b[0m\n\u001b[0;32m      5\u001b[0m \u001b[0mtz_no_security\u001b[0m \u001b[1;33m=\u001b[0m \u001b[1;33m[\u001b[0m\u001b[0mtz_flash_write_charge\u001b[0m\u001b[1;33m,\u001b[0m \u001b[0mtz_flash_read_charge\u001b[0m\u001b[1;33m,\u001b[0m \u001b[0mtz_flash_write_time\u001b[0m\u001b[1;33m,\u001b[0m \u001b[0mtz_flash_read_time\u001b[0m\u001b[1;33m]\u001b[0m\u001b[1;33m\u001b[0m\u001b[1;33m\u001b[0m\u001b[0m\n",
      "\u001b[1;31mFileNotFoundError\u001b[0m: [Errno 2] No such file or directory: 'Validation\\\\No_Security_Flash\\\\no_security_flash_write_charge.p'"
     ]
    }
   ],
   "source": [
    "tz_flash_write_charge = pickle.load(open(path.join(\"Validation\", \"No_Security_Flash\", \"no_security_flash_write_charge.p\"), \"rb\"))\n",
    "tz_flash_read_charge = pickle.load(open(path.join(\"Validation\", \"No_Security_Flash\", \"no_security_flash_read_charge.p\"), \"rb\"))\n",
    "tz_flash_write_time = pickle.load(open(path.join(\"Validation\", \"No_Security_Flash\", \"no_security_flash_write_time.p\"), \"rb\"))\n",
    "tz_flash_read_time = pickle.load(open(path.join(\"Validation\", \"No_Security_Flash\", \"no_security_flash_read_time.p\"), \"rb\"))\n",
    "tz_no_security = [tz_flash_write_charge, tz_flash_read_charge, tz_flash_write_time, tz_flash_read_time]\n",
    "for i in tz_no_security:\n",
    "    print(len(i))\n",
    "    \n",
    "tz_no_security_chkp = []\n",
    "tz_no_security_rest = []\n",
    "tz_no_security_x = []\n",
    "for i in range(0, min_num):\n",
    "    tz_no_security_x.append(i+1)\n",
    "    tz_no_security_chkp.append(tz_flash_write_charge[i] * voltage * j_scale)\n",
    "    tz_no_security_rest.append(tz_flash_read_charge[i] * voltage * j_scale)"
   ]
  },
  {
   "cell_type": "code",
   "execution_count": 179,
   "metadata": {},
   "outputs": [],
   "source": [
    "fig_comp = plt.figure(figsize=(6, 4))\n",
    "fig_comp.canvas.set_window_title(\"Analysis Compare\")"
   ]
  },
  {
   "cell_type": "code",
   "execution_count": 180,
   "metadata": {},
   "outputs": [
    {
     "data": {
      "text/plain": [
       "Text(0, 0.5, 'Energy [$\\\\mu$J]')"
      ]
     },
     "execution_count": 180,
     "metadata": {},
     "output_type": "execute_result"
    }
   ],
   "source": [
    "fig_comp.clf()\n",
    "ax1 = fig_comp.add_subplot(1, 1, 1)\n",
    "ax1.set_xlabel('Checkpoint Size [Bytes]')\n",
    "ax1.set_ylabel('Energy [$\\mu$J]') # $\\mu$"
   ]
  },
  {
   "cell_type": "code",
   "execution_count": 181,
   "metadata": {},
   "outputs": [
    {
     "ename": "NameError",
     "evalue": "name 'tz_no_security_x' is not defined",
     "output_type": "error",
     "traceback": [
      "\u001b[1;31m---------------------------------------------------------------------------\u001b[0m",
      "\u001b[1;31mNameError\u001b[0m                                 Traceback (most recent call last)",
      "\u001b[1;32m<ipython-input-181-ff72dd6662a3>\u001b[0m in \u001b[0;36m<module>\u001b[1;34m\u001b[0m\n\u001b[0;32m      1\u001b[0m \u001b[0mlines\u001b[0m \u001b[1;33m=\u001b[0m \u001b[1;33m[\u001b[0m\u001b[1;33m]\u001b[0m\u001b[1;33m\u001b[0m\u001b[1;33m\u001b[0m\u001b[0m\n\u001b[1;32m----> 2\u001b[1;33m \u001b[0mlines\u001b[0m \u001b[1;33m+=\u001b[0m \u001b[0max1\u001b[0m\u001b[1;33m.\u001b[0m\u001b[0mplot\u001b[0m\u001b[1;33m(\u001b[0m\u001b[0mtz_no_security_x\u001b[0m\u001b[1;33m,\u001b[0m \u001b[0mtz_no_security_chkp\u001b[0m\u001b[1;33m,\u001b[0m \u001b[0mlabel\u001b[0m\u001b[1;33m=\u001b[0m\u001b[1;34m'TZ No Security Checkpoint'\u001b[0m\u001b[1;33m)\u001b[0m\u001b[1;33m\u001b[0m\u001b[1;33m\u001b[0m\u001b[0m\n\u001b[0m\u001b[0;32m      3\u001b[0m \u001b[0mlines\u001b[0m \u001b[1;33m+=\u001b[0m \u001b[0max1\u001b[0m\u001b[1;33m.\u001b[0m\u001b[0mplot\u001b[0m\u001b[1;33m(\u001b[0m\u001b[0mtz_no_security_x\u001b[0m\u001b[1;33m,\u001b[0m \u001b[0mtz_no_security_rest\u001b[0m\u001b[1;33m,\u001b[0m \u001b[0mlabel\u001b[0m\u001b[1;33m=\u001b[0m\u001b[1;34m'TZ No Security Restore'\u001b[0m\u001b[1;33m)\u001b[0m\u001b[1;33m\u001b[0m\u001b[1;33m\u001b[0m\u001b[0m\n\u001b[0;32m      4\u001b[0m \u001b[0mlines\u001b[0m \u001b[1;33m+=\u001b[0m \u001b[0max1\u001b[0m\u001b[1;33m.\u001b[0m\u001b[0mplot\u001b[0m\u001b[1;33m(\u001b[0m\u001b[0mno_security_x\u001b[0m\u001b[1;33m,\u001b[0m \u001b[0mno_security_chkp\u001b[0m\u001b[1;33m,\u001b[0m \u001b[0mlabel\u001b[0m\u001b[1;33m=\u001b[0m\u001b[1;34m'No Security Checkpoint'\u001b[0m\u001b[1;33m)\u001b[0m\u001b[1;33m\u001b[0m\u001b[1;33m\u001b[0m\u001b[0m\n\u001b[0;32m      5\u001b[0m \u001b[0mlines\u001b[0m \u001b[1;33m+=\u001b[0m \u001b[0max1\u001b[0m\u001b[1;33m.\u001b[0m\u001b[0mplot\u001b[0m\u001b[1;33m(\u001b[0m\u001b[0mno_security_x\u001b[0m\u001b[1;33m,\u001b[0m \u001b[0mno_security_rest\u001b[0m\u001b[1;33m,\u001b[0m \u001b[0mlabel\u001b[0m\u001b[1;33m=\u001b[0m\u001b[1;34m'No Security Restore'\u001b[0m\u001b[1;33m)\u001b[0m\u001b[1;33m\u001b[0m\u001b[1;33m\u001b[0m\u001b[0m\n",
      "\u001b[1;31mNameError\u001b[0m: name 'tz_no_security_x' is not defined"
     ]
    }
   ],
   "source": [
    "lines = []\n",
    "lines += ax1.plot(tz_no_security_x, tz_no_security_chkp, label='TZ No Security Checkpoint')\n",
    "lines += ax1.plot(tz_no_security_x, tz_no_security_rest, label='TZ No Security Restore')\n",
    "lines += ax1.plot(no_security_x, no_security_chkp, label='No Security Checkpoint')\n",
    "lines += ax1.plot(no_security_x, no_security_rest, label='No Security Restore')\n",
    "for i in range(len(lines)):\n",
    "    lines[i].set_markevery(everies[i+2])\n",
    "    lines[i].set_linestyle(linestyles[i])\n",
    "    lines[i].set_marker(markers[i])\n",
    "#     lines[i].set_color(colors[i])\n",
    "\n",
    "ax1.legend(handles=lines)\n",
    "# ax1.set_yscale('log')\n",
    "ax1.grid()\n",
    "fig_comp.tight_layout()\n",
    "fig_comp.show()"
   ]
  },
  {
   "cell_type": "code",
   "execution_count": null,
   "metadata": {},
   "outputs": [],
   "source": []
  },
  {
   "cell_type": "code",
   "execution_count": null,
   "metadata": {},
   "outputs": [],
   "source": []
  },
  {
   "cell_type": "code",
   "execution_count": null,
   "metadata": {},
   "outputs": [],
   "source": []
  },
  {
   "cell_type": "code",
   "execution_count": null,
   "metadata": {},
   "outputs": [],
   "source": []
  },
  {
   "cell_type": "code",
   "execution_count": null,
   "metadata": {},
   "outputs": [],
   "source": []
  },
  {
   "cell_type": "code",
   "execution_count": null,
   "metadata": {},
   "outputs": [],
   "source": []
  },
  {
   "cell_type": "code",
   "execution_count": null,
   "metadata": {},
   "outputs": [],
   "source": []
  },
  {
   "cell_type": "code",
   "execution_count": null,
   "metadata": {},
   "outputs": [],
   "source": []
  },
  {
   "cell_type": "code",
   "execution_count": null,
   "metadata": {},
   "outputs": [],
   "source": []
  },
  {
   "cell_type": "code",
   "execution_count": null,
   "metadata": {},
   "outputs": [],
   "source": []
  },
  {
   "cell_type": "code",
   "execution_count": null,
   "metadata": {},
   "outputs": [],
   "source": []
  },
  {
   "cell_type": "code",
   "execution_count": null,
   "metadata": {},
   "outputs": [],
   "source": []
  },
  {
   "cell_type": "code",
   "execution_count": null,
   "metadata": {},
   "outputs": [],
   "source": []
  },
  {
   "cell_type": "code",
   "execution_count": null,
   "metadata": {},
   "outputs": [],
   "source": []
  }
 ],
 "metadata": {
  "kernelspec": {
   "display_name": "Python 3",
   "language": "python",
   "name": "python3"
  },
  "language_info": {
   "codemirror_mode": {
    "name": "ipython",
    "version": 3
   },
   "file_extension": ".py",
   "mimetype": "text/x-python",
   "name": "python",
   "nbconvert_exporter": "python",
   "pygments_lexer": "ipython3",
   "version": "3.8.1"
  }
 },
 "nbformat": 4,
 "nbformat_minor": 4
}

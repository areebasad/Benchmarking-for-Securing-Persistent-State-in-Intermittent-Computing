{
 "cells": [
  {
   "cell_type": "markdown",
   "metadata": {},
   "source": [
    "## Import Libraries"
   ]
  },
  {
   "cell_type": "code",
   "execution_count": 1,
   "metadata": {},
   "outputs": [],
   "source": [
    "# %matplotlib ipympl\n",
    "# %matplotlib inline\n",
    "%matplotlib wx"
   ]
  },
  {
   "cell_type": "code",
   "execution_count": 2,
   "metadata": {},
   "outputs": [],
   "source": [
    "import matplotlib.pyplot as plt\n",
    "plt.ion()"
   ]
  },
  {
   "cell_type": "code",
   "execution_count": 3,
   "metadata": {},
   "outputs": [],
   "source": [
    "from pydgilib_extra import *\n",
    "from atprogram import atprogram"
   ]
  },
  {
   "cell_type": "code",
   "execution_count": 4,
   "metadata": {},
   "outputs": [],
   "source": [
    "from os import getcwd, path, pardir\n",
    "import pickle"
   ]
  },
  {
   "cell_type": "markdown",
   "metadata": {},
   "source": [
    "## Compile and program project"
   ]
  },
  {
   "cell_type": "code",
   "execution_count": 5,
   "metadata": {},
   "outputs": [
    {
     "data": {
      "text/plain": [
       "['.', '/', 'AES-256_Crypto-Accelerator']"
      ]
     },
     "execution_count": 5,
     "metadata": {},
     "output_type": "execute_result"
    }
   ],
   "source": [
    "project_path = path.curdir + \"/\" + \"AES-256_Crypto-Accelerator\"\n",
    "project_name =  \"AES-256_Crypto-Accelerator\"\n",
    "device_name = \"ATSAML21J18B\"\n",
    "project_path  "
   ]
  },
  {
   "cell_type": "code",
   "execution_count": 6,
   "metadata": {},
   "outputs": [
    {
     "name": "stdout",
     "output_type": "stream",
     "text": [
      "make: Nothing to be done for 'all'.\n",
      "\n",
      "[DEBUG] Starting execution of \"chiperase\"\n",
      "[DEBUG] Starting process 'C:\\Program Files (x86)\\Atmel\\Studio\\7.0\\atbackend\\atbackend.exe'\n",
      "[DEBUG] Connecting to TCP:127.0.0.1:58032\n",
      "[INFO] Connected to edbg, fw version: 3.25\n",
      "[INFO] Firmware check OK\n",
      "[DEBUG] Command \"chiperase\" finished with return code 0\n",
      "[DEBUG] Starting execution of \"program\"\n",
      "[DEBUG] Memory segment base written at 0x00000000. Size = 0x00001418.\n",
      "[DEBUG] Memory segment base written at 0x00001418. Size = 0x00000084.\n",
      "[DEBUG] Command \"program\" finished with return code 0\n",
      "[DEBUG] Starting execution of \"info\"\n",
      "[ERROR] Error in TCF lockbit format. Missed key Could not get Module LOCKBIT for ATSAML21J18B. (TCF Error code: 131120)\n",
      "[DEBUG] Command \"info\" finished with return code 0\n",
      "[DEBUG] Exit successfully.\n",
      "Firmware check OK\n",
      "Chiperase completed successfully\n",
      "Programming completed successfully.\n",
      "Tool edbg has firmware version: 03.25\n",
      "Target voltage: 3.31 V\n",
      "\n",
      "Device information:\n",
      "\n",
      "Name:       ATSAML21J18B  \n",
      "JtagId:     N/A           \n",
      "Revision:   C             \n",
      "Chip ID:    0x1081020f\n",
      "CPU arch.:  CORTEX-M0PLUS \n",
      "Series:     SAML21\n",
      "\n",
      "Memory Information:\n",
      "\n",
      "Address Space    StartAddress            Size\n",
      "\n",
      "base                      0x0     0x100000000\n",
      "  FLASH                   0x0         0x40000\n",
      "  CAL                0x800000             0x8\n",
      "  LOCKBIT            0x802000             0x4\n",
      "  AUX0               0x804000           0x100\n",
      "  AUX1               0x806000           0x100\n",
      "  RWW                0x400000          0x2000\n",
      "  HSRAM            0x20000000          0x8000\n",
      "  LPRAM            0x30000000          0x2000\n",
      "  HPB0             0x40000000          0x4000\n",
      "  HPB1             0x41000000         0x10000\n",
      "  HPB2             0x42000000          0x8000\n",
      "  HPB3             0x43000000          0x2000\n",
      "  HPB4             0x44000000          0x1000\n",
      "  PPB              0xe0000000        0x100000\n",
      "  SCS              0xe000e000          0x1000\n",
      "  PERIPHERALS      0x40000000      0x20000000\n",
      "\n",
      "fuses                     0x0      0x20000000\n",
      "\n",
      "OTP5_WORD_0 (0b01110111011001010010110110111111 <-> 0x77652dbf):\n",
      "   USB_TRIM      0x6\n",
      "   USB_TRANSP    0x19\n",
      "   USB_TRANSN    0x9\n",
      "   ADC_BIASCOMP  0x7\n",
      "   ADC_BIASREFBUF 0x7\n",
      "\n",
      "TEMP_LOG_WORD_1 (0b11010101010010111000100111111001 <-> 0xd54b89f9):\n",
      "   HOT_ADC_VAL   0xd54\n",
      "   ROOM_ADC_VAL  0xb89\n",
      "   HOT_INT1V_VAL 0xf9\n",
      "\n",
      "TEMP_LOG_WORD_0 (0b11111011100101010100100000011101 <-> 0xfb95481d):\n",
      "   ROOM_INT1V_VAL 0xfb\n",
      "   HOT_TEMP_VAL_DEC 0x9\n",
      "   HOT_TEMP_VAL_INT 0x54\n",
      "   ROOM_TEMP_VAL_DEC 0x8\n",
      "   ROOM_TEMP_VAL_INT 0x1d\n",
      "\n",
      "USER_WORD_1 (0b11111111111111111111100010111011 <-> 0xfffff8bb):\n",
      "   NVMCTRL_REGION_LOCKS 0xffff\n",
      "   BOD12_HYST    0\n",
      "   BOD33_HYST    0\n",
      "   WDT_WEN       0\n",
      "   WDT_EWOFFSET  0xb\n",
      "   WDT_WINDOW    0xb\n",
      "\n",
      "USER_WORD_0 (0b10110001000111101000011011111111 <-> 0xb11e86ff):\n",
      "   WDT_PER       0xb\n",
      "   WDT_ALWAYSON  0\n",
      "   WDT_ENABLE    0\n",
      "   BOD12_DIS     0\n",
      "   BOD33_ACTION  0x1\n",
      "   BOD33_DIS     0\n",
      "   BOD33USERLEVEL 0x6\n",
      "   NVMCTRL_EEPROM_SIZE 0x7\n",
      "   NVMCTRL_BOOTPROT 0x7\n",
      "\n",
      "\n"
     ]
    },
    {
     "data": {
      "text/plain": [
       "0"
      ]
     },
     "execution_count": 6,
     "metadata": {},
     "output_type": "execute_result"
    }
   ],
   "source": [
    "atprogram.atprogram(project_path, device_name = device_name ,verbose=3)"
   ]
  },
  {
   "cell_type": "code",
   "execution_count": 7,
   "metadata": {},
   "outputs": [],
   "source": [
    "#atprogram(path.abspath(path.join(*project_path)), verbose=2)"
   ]
  },
  {
   "cell_type": "code",
   "execution_count": 9,
   "metadata": {},
   "outputs": [
    {
     "name": "stdout",
     "output_type": "stream",
     "text": [
      "{'text': 5144, 'data': 132, 'bss': 8348, 'dec': 13624, 'hex': 13624, 'filename': 'AES-256_Crypto-Accelerator.elf'}\n"
     ]
    },
    {
     "data": {
      "text/plain": [
       "{'text': 5144,\n",
       " 'data': 132,\n",
       " 'bss': 8348,\n",
       " 'dec': 13624,\n",
       " 'hex': 13624,\n",
       " 'filename': 'AES-256_Crypto-Accelerator.elf'}"
      ]
     },
     "execution_count": 9,
     "metadata": {},
     "output_type": "execute_result"
    }
   ],
   "source": [
    "atprogram.get_project_size(project_path, device_name = device_name, verbose=2)"
   ]
  },
  {
   "cell_type": "code",
   "execution_count": null,
   "metadata": {},
   "outputs": [],
   "source": []
  },
  {
   "cell_type": "markdown",
   "metadata": {},
   "source": [
    "## Data Logging"
   ]
  },
  {
   "cell_type": "code",
   "execution_count": 10,
   "metadata": {},
   "outputs": [],
   "source": [
    "live_plot = False"
   ]
  },
  {
   "cell_type": "markdown",
   "metadata": {},
   "source": [
    "Create a figure for the plot."
   ]
  },
  {
   "cell_type": "code",
   "execution_count": 11,
   "metadata": {},
   "outputs": [],
   "source": [
    "if live_plot:\n",
    "    fig = plt.figure(figsize=(10, 6))\n",
    "    fig.show()"
   ]
  },
  {
   "cell_type": "markdown",
   "metadata": {},
   "source": [
    "Create the configuration dictionary for `DGILibExtra`."
   ]
  },
  {
   "cell_type": "code",
   "execution_count": 12,
   "metadata": {},
   "outputs": [],
   "source": [
    "config_dict = {\n",
    "    \"loggers\": [LOGGER_OBJECT, LOGGER_CSV],\n",
    "    \"file_name_base\": \"experiment_aes_flash\"\n",
    "}\n",
    "config_dict_plot = {\n",
    "    \"loggers\": [LOGGER_OBJECT, LOGGER_PLOT, LOGGER_CSV],\n",
    "    \"plot_pins\": [False, False, True, True],\n",
    "    \"plot_pins_method\": \"line\",\n",
    "    \"plot_xmax\": 5,\n",
    "    \"window_title\": \"Experiment AES-128 Flash\",\n",
    "}"
   ]
  },
  {
   "cell_type": "markdown",
   "metadata": {},
   "source": [
    "Stop criteria to pass to the logger:"
   ]
  },
  {
   "cell_type": "code",
   "execution_count": 13,
   "metadata": {},
   "outputs": [],
   "source": [
    "def stop_fn(logger_data):\n",
    "    return all(logger_data.gpio.values[-1])"
   ]
  },
  {
   "cell_type": "code",
   "execution_count": 14,
   "metadata": {},
   "outputs": [],
   "source": [
    "#with DGILib() as dgilib:\n",
    "#     dgilib.get_major_version()"
   ]
  },
  {
   "cell_type": "markdown",
   "metadata": {},
   "source": [
    "Perform the measurement."
   ]
  },
  {
   "cell_type": "code",
   "execution_count": 15,
   "metadata": {},
   "outputs": [
    {
     "name": "stdout",
     "output_type": "stream",
     "text": [
      "1\n"
     ]
    }
   ],
   "source": [
    "data = []\n",
    "cd = config_dict.copy()\n",
    "if live_plot:\n",
    "    fig.clf()\n",
    "    for ax in fig.get_axes():\n",
    "        ax.cla()\n",
    "    \n",
    "    cd.update(config_dict_plot)\n",
    "    cd[\"fig\"] = fig\n",
    "    \n",
    "with DGILibExtra(**cd) as dgilib:\n",
    "    dgilib.device_reset()\n",
    "    dgilib.logger.log(1000,stop_fn)\n",
    "    data = dgilib.data"
   ]
  },
  {
   "cell_type": "code",
   "execution_count": 16,
   "metadata": {},
   "outputs": [
    {
     "data": {
      "text/plain": [
       "{48: 6149, 256: 897000}"
      ]
     },
     "execution_count": 16,
     "metadata": {},
     "output_type": "execute_result"
    }
   ],
   "source": [
    "data.length()"
   ]
  },
  {
   "cell_type": "code",
   "execution_count": 17,
   "metadata": {},
   "outputs": [
    {
     "name": "stdout",
     "output_type": "stream",
     "text": [
      "Interfaces:\n",
      "\t  48:   gpio,    samples:    6149\n",
      "\t 256:   power,   samples:  897000\n",
      "\n"
     ]
    }
   ],
   "source": [
    "print(data)"
   ]
  },
  {
   "cell_type": "markdown",
   "metadata": {},
   "source": [
    "# Store Data"
   ]
  },
  {
   "cell_type": "code",
   "execution_count": 18,
   "metadata": {},
   "outputs": [],
   "source": [
    "import pickle"
   ]
  },
  {
   "cell_type": "code",
   "execution_count": 19,
   "metadata": {},
   "outputs": [],
   "source": [
    "pickle.dump(data, open(\"aes_flash_logger_data.p\", \"wb\"))"
   ]
  },
  {
   "cell_type": "markdown",
   "metadata": {},
   "source": [
    "# Load Data"
   ]
  },
  {
   "cell_type": "code",
   "execution_count": 20,
   "metadata": {},
   "outputs": [],
   "source": [
    "data = pickle.load(open(\"aes_flash_logger_data.p\", \"rb\"))"
   ]
  },
  {
   "cell_type": "code",
   "execution_count": 21,
   "metadata": {},
   "outputs": [],
   "source": [
    "#iteration = 0\n",
    "#name = \"AES-128_Flash\"\n",
    "#data = pickle.load(open(path.join(path.pardir, path.pardir, f\"{name}_{iteration}.p\"), \"rb\"))"
   ]
  },
  {
   "cell_type": "markdown",
   "metadata": {},
   "source": [
    "## Analysis"
   ]
  },
  {
   "cell_type": "markdown",
   "metadata": {},
   "source": [
    "Create Stop Function to stop parsing the data when all pins are high."
   ]
  },
  {
   "cell_type": "code",
   "execution_count": 22,
   "metadata": {},
   "outputs": [],
   "source": [
    "def stop_function(pin_values):\n",
    "    return all(pin_values)"
   ]
  },
  {
   "cell_type": "markdown",
   "metadata": {},
   "source": [
    "Parse the data."
   ]
  },
  {
   "cell_type": "code",
   "execution_count": 23,
   "metadata": {},
   "outputs": [],
   "source": [
    "aes_charge, aes_time = power_and_time_per_pulse(data, 2, stop_function=stop_function)"
   ]
  },
  {
   "cell_type": "code",
   "execution_count": 24,
   "metadata": {},
   "outputs": [],
   "source": [
    "flash_charge, flash_time = power_and_time_per_pulse(data, 3, stop_function=stop_function)"
   ]
  },
  {
   "cell_type": "code",
   "execution_count": 25,
   "metadata": {},
   "outputs": [
    {
     "name": "stdout",
     "output_type": "stream",
     "text": [
      "768 768 768 768\n"
     ]
    }
   ],
   "source": [
    "print(len(aes_charge), len(aes_time), len(flash_charge), len(flash_time))\n",
    "# cutoff = min(len(aes_charge), len(aes_time), len(flash_charge), len(flash_time))\n",
    "# aes_charge = aes_charge[:cutoff]\n",
    "# aes_time = aes_time[:cutoff]\n",
    "# flash_charge = flash_charge[:cutoff]\n",
    "# flash_time = flash_time[:cutoff]"
   ]
  },
  {
   "cell_type": "code",
   "execution_count": 26,
   "metadata": {},
   "outputs": [],
   "source": [
    "# length = len(aes_charge)\n",
    "# assert length == len(aes_time)\n",
    "# assert length == len(flash_charge)\n",
    "# assert length == len(flash_time)\n",
    "# print(length)"
   ]
  },
  {
   "cell_type": "code",
   "execution_count": 27,
   "metadata": {},
   "outputs": [],
   "source": [
    "aes_encrypt_charge = aes_charge[0::2]\n",
    "aes_decrypt_charge = aes_charge[1::2]\n",
    "aes_encrypt_time = aes_time[0::2]\n",
    "aes_decrypt_time = aes_time[1::2]"
   ]
  },
  {
   "cell_type": "code",
   "execution_count": 28,
   "metadata": {},
   "outputs": [],
   "source": [
    "aes_flash_write_charge = flash_charge[0::2]\n",
    "aes_flash_read_charge = flash_charge[1::2]\n",
    "aes_flash_write_time = flash_time[0::2]\n",
    "aes_flash_read_time = flash_time[1::2]"
   ]
  },
  {
   "cell_type": "code",
   "execution_count": 29,
   "metadata": {},
   "outputs": [
    {
     "data": {
      "text/plain": [
       "(384, 384, 384, 384, 384, 384, 384, 384)"
      ]
     },
     "execution_count": 29,
     "metadata": {},
     "output_type": "execute_result"
    }
   ],
   "source": [
    "len(aes_encrypt_charge), len(aes_decrypt_charge), len(aes_encrypt_time), len(aes_decrypt_time), len(aes_flash_write_charge), len(aes_flash_read_charge), len(aes_flash_write_time), len(aes_flash_read_time)"
   ]
  },
  {
   "cell_type": "code",
   "execution_count": 30,
   "metadata": {},
   "outputs": [],
   "source": [
    "drop = 0\n",
    "cutoff = min(len(aes_encrypt_charge), len(aes_decrypt_charge), len(aes_encrypt_time), len(aes_decrypt_time), len(aes_flash_write_charge), len(aes_flash_read_charge), len(aes_flash_write_time), len(aes_flash_read_time)) - drop\n",
    "aes_encrypt_charge = aes_encrypt_charge[:cutoff]\n",
    "aes_decrypt_charge = aes_decrypt_charge[:cutoff]\n",
    "aes_encrypt_time = aes_encrypt_time[:cutoff]\n",
    "aes_decrypt_time = aes_decrypt_time[:cutoff]\n",
    "aes_flash_write_charge = aes_flash_write_charge[:cutoff]\n",
    "aes_flash_read_charge = aes_flash_read_charge[:cutoff]\n",
    "aes_flash_write_time = aes_flash_write_time[:cutoff]\n",
    "aes_flash_read_time = aes_flash_read_time[:cutoff]"
   ]
  },
  {
   "cell_type": "code",
   "execution_count": 31,
   "metadata": {},
   "outputs": [
    {
     "name": "stdout",
     "output_type": "stream",
     "text": [
      "384\n"
     ]
    }
   ],
   "source": [
    "length = len(aes_encrypt_charge)\n",
    "assert length == len(aes_decrypt_charge)\n",
    "assert length == len(aes_encrypt_time)\n",
    "assert length == len(aes_decrypt_time)\n",
    "assert length == len(aes_flash_write_charge)\n",
    "assert length == len(aes_flash_read_charge)\n",
    "assert length == len(aes_flash_write_time)\n",
    "assert length == len(aes_flash_read_time)\n",
    "print(length)"
   ]
  },
  {
   "cell_type": "markdown",
   "metadata": {},
   "source": [
    "# Convert to Joule"
   ]
  },
  {
   "cell_type": "code",
   "execution_count": 32,
   "metadata": {},
   "outputs": [],
   "source": [
    "voltage = 3.31\n",
    "j_scale = 1e3 # m\n",
    "t_scale = 1e3 # m\n",
    "model_j_scale = 1e6 # n\n",
    "model_t_scale = 1e3 # u\n",
    "\n",
    "experiment_name = project_name"
   ]
  },
  {
   "cell_type": "code",
   "execution_count": 33,
   "metadata": {},
   "outputs": [],
   "source": [
    "aes_encrypt_energy = aes_encrypt_charge[:cutoff]\n",
    "aes_flash_write_energy = aes_flash_write_charge[:cutoff]\n",
    "aes_flash_read_energy = aes_flash_read_charge[:cutoff]\n",
    "aes_decrypt_energy = aes_decrypt_charge[:cutoff]\n",
    "aes_encrypt_time_s = aes_encrypt_time[:cutoff]\n",
    "aes_flash_write_time_s = aes_flash_write_time[:cutoff]\n",
    "aes_flash_read_time_s = aes_flash_read_time[:cutoff]\n",
    "aes_decrypt_time_s = aes_decrypt_time[:cutoff]\n",
    "\n",
    "for i in range(len(aes_encrypt_energy)):\n",
    "    aes_encrypt_energy[i] = aes_encrypt_energy[i] * voltage * j_scale\n",
    "for i in range(len(aes_flash_write_energy)):\n",
    "    aes_flash_write_energy[i] = aes_flash_write_energy[i] * voltage * j_scale\n",
    "for i in range(len(aes_flash_read_energy)):\n",
    "    aes_flash_read_energy[i] = aes_flash_read_energy[i] * voltage * j_scale\n",
    "for i in range(len(aes_decrypt_energy)):\n",
    "    aes_decrypt_energy[i] = aes_decrypt_energy[i] * voltage * j_scale\n",
    "    \n",
    "for i in range(len(aes_encrypt_time_s)):\n",
    "    aes_encrypt_time_s[i] = aes_encrypt_time_s[i] * t_scale\n",
    "for i in range(len(aes_flash_write_time_s)):\n",
    "    aes_flash_write_time_s[i] = aes_flash_write_time_s[i] * t_scale\n",
    "for i in range(len(aes_flash_read_time_s)):\n",
    "    aes_flash_read_time_s[i] = aes_flash_read_time_s[i] * t_scale\n",
    "for i in range(len(aes_decrypt_time_s)):\n",
    "    aes_decrypt_time_s[i] = aes_decrypt_time_s[i] * t_scale"
   ]
  },
  {
   "cell_type": "code",
   "execution_count": 34,
   "metadata": {},
   "outputs": [
    {
     "name": "stdout",
     "output_type": "stream",
     "text": [
      "MAX_NUM_BYTES: 6144\n"
     ]
    }
   ],
   "source": [
    "MBEDTLS_AES_BLOCK_SIZE = 16\n",
    "STEP_SIZE = MBEDTLS_AES_BLOCK_SIZE\n",
    "MIN_NUM_BYTES = STEP_SIZE\n",
    "num_bytes = range(MIN_NUM_BYTES, MIN_NUM_BYTES + STEP_SIZE * len(aes_encrypt_energy), STEP_SIZE)\n",
    "print(f\"MAX_NUM_BYTES: {num_bytes[-1]}\")"
   ]
  },
  {
   "cell_type": "code",
   "execution_count": 35,
   "metadata": {},
   "outputs": [],
   "source": [
    "from lmfit import Model\n",
    "\n",
    "def line(x, slope, intercept):\n",
    "    \"\"\"a line\"\"\"\n",
    "    return [slope*i + intercept for i in x]\n",
    "\n",
    "mod = Model(line)\n",
    "pars = mod.make_params(slope=0, intercept=1)\n",
    "# pars['intercept'].set(min=0)"
   ]
  },
  {
   "cell_type": "code",
   "execution_count": 36,
   "metadata": {},
   "outputs": [
    {
     "name": "stdout",
     "output_type": "stream",
     "text": [
      "[[Model]]\n",
      "    Model(line)\n",
      "[[Fit Statistics]]\n",
      "    # fitting method   = leastsq\n",
      "    # function evals   = 6\n",
      "    # data points      = 384\n",
      "    # variables        = 2\n",
      "    chi-square         = 1.8746e-06\n",
      "    reduced chi-square = 4.9074e-09\n",
      "    Akaike info crit   = -7344.89438\n",
      "    Bayesian info crit = -7336.99309\n",
      "[[Variables]]\n",
      "    slope:      1.2815e-05 +/- 2.0156e-09 (0.02%) (init = 0)\n",
      "    intercept:  3.1756e-04 +/- 7.1637e-06 (2.26%) (init = 1)\n",
      "[[Correlations]] (unreported correlations are < 0.100)\n",
      "    C(slope, intercept) = -0.867\n",
      "[[Model]]\n",
      "    Model(line)\n",
      "[[Fit Statistics]]\n",
      "    # fitting method   = leastsq\n",
      "    # function evals   = 6\n",
      "    # data points      = 384\n",
      "    # variables        = 2\n",
      "    chi-square         = 0.02410873\n",
      "    reduced chi-square = 6.3112e-05\n",
      "    Akaike info crit   = -3711.51637\n",
      "    Bayesian info crit = -3703.61508\n",
      "[[Variables]]\n",
      "    slope:      1.1295e-04 +/- 2.2858e-07 (0.20%) (init = 0)\n",
      "    intercept:  0.01714375 +/- 8.1240e-04 (4.74%) (init = 1)\n",
      "[[Correlations]] (unreported correlations are < 0.100)\n",
      "    C(slope, intercept) = -0.867\n",
      "[[Model]]\n",
      "    Model(line)\n",
      "[[Fit Statistics]]\n",
      "    # fitting method   = leastsq\n",
      "    # function evals   = 7\n",
      "    # data points      = 384\n",
      "    # variables        = 2\n",
      "    chi-square         = 1.0960e-06\n",
      "    reduced chi-square = 2.8692e-09\n",
      "    Akaike info crit   = -7550.98731\n",
      "    Bayesian info crit = -7543.08603\n",
      "[[Variables]]\n",
      "    slope:      3.7647e-06 +/- 1.5412e-09 (0.04%) (init = 0)\n",
      "    intercept: -3.9602e-06 +/- 5.4777e-06 (138.32%) (init = 1)\n",
      "[[Correlations]] (unreported correlations are < 0.100)\n",
      "    C(slope, intercept) = -0.867\n",
      "[[Model]]\n",
      "    Model(line)\n",
      "[[Fit Statistics]]\n",
      "    # fitting method   = leastsq\n",
      "    # function evals   = 6\n",
      "    # data points      = 384\n",
      "    # variables        = 2\n",
      "    chi-square         = 2.7851e-04\n",
      "    reduced chi-square = 7.2907e-07\n",
      "    Akaike info crit   = -5424.49806\n",
      "    Bayesian info crit = -5416.59678\n",
      "[[Variables]]\n",
      "    slope:      1.2779e-05 +/- 2.4567e-08 (0.19%) (init = 0)\n",
      "    intercept:  4.2683e-04 +/- 8.7317e-05 (20.46%) (init = 1)\n",
      "[[Correlations]] (unreported correlations are < 0.100)\n",
      "    C(slope, intercept) = -0.867\n",
      "[[Model]]\n",
      "    Model(line)\n",
      "[[Fit Statistics]]\n",
      "    # fitting method   = leastsq\n",
      "    # function evals   = 6\n",
      "    # data points      = 384\n",
      "    # variables        = 2\n",
      "    chi-square         = 0.28999448\n",
      "    reduced chi-square = 7.5915e-04\n",
      "    Akaike info crit   = -2756.39780\n",
      "    Bayesian info crit = -2748.49652\n",
      "[[Variables]]\n",
      "    slope:      0.00862456 +/- 7.9275e-07 (0.01%) (init = 0)\n",
      "    intercept:  0.19496203 +/- 0.00281758 (1.45%) (init = 1)\n",
      "[[Correlations]] (unreported correlations are < 0.100)\n",
      "    C(slope, intercept) = -0.867\n",
      "[[Model]]\n",
      "    Model(line)\n",
      "[[Fit Statistics]]\n",
      "    # fitting method   = leastsq\n",
      "    # function evals   = 6\n",
      "    # data points      = 384\n",
      "    # variables        = 2\n",
      "    chi-square         = 499.844256\n",
      "    reduced chi-square = 1.30849282\n",
      "    Akaike info crit   = 105.243140\n",
      "    Bayesian info crit = 113.144425\n",
      "[[Variables]]\n",
      "    slope:      0.02081857 +/- 3.2913e-05 (0.16%) (init = 0)\n",
      "    intercept:  2.28501151 +/- 0.11697656 (5.12%) (init = 1)\n",
      "[[Correlations]] (unreported correlations are < 0.100)\n",
      "    C(slope, intercept) = -0.867\n",
      "[[Model]]\n",
      "    Model(line)\n",
      "[[Fit Statistics]]\n",
      "    # fitting method   = leastsq\n",
      "    # function evals   = 6\n",
      "    # data points      = 384\n",
      "    # variables        = 2\n",
      "    chi-square         = 0.26842872\n",
      "    reduced chi-square = 7.0269e-04\n",
      "    Akaike info crit   = -2786.07197\n",
      "    Bayesian info crit = -2778.17069\n",
      "[[Variables]]\n",
      "    slope:      0.00212448 +/- 7.6271e-07 (0.04%) (init = 0)\n",
      "    intercept:  0.02403297 +/- 0.00271079 (11.28%) (init = 1)\n",
      "[[Correlations]] (unreported correlations are < 0.100)\n",
      "    C(slope, intercept) = -0.867\n",
      "[[Model]]\n",
      "    Model(line)\n",
      "[[Fit Statistics]]\n",
      "    # fitting method   = leastsq\n",
      "    # function evals   = 6\n",
      "    # data points      = 384\n",
      "    # variables        = 2\n",
      "    chi-square         = 126.312191\n",
      "    reduced chi-square = 0.33066019\n",
      "    Akaike info crit   = -422.964225\n",
      "    Bayesian info crit = -415.062940\n",
      "[[Variables]]\n",
      "    slope:      0.00859614 +/- 1.6545e-05 (0.19%) (init = 0)\n",
      "    intercept:  0.26525969 +/- 0.05880363 (22.17%) (init = 1)\n",
      "[[Correlations]] (unreported correlations are < 0.100)\n",
      "    C(slope, intercept) = -0.867\n",
      "[[Model]]\n",
      "    Model(line)\n",
      "[[Fit Statistics]]\n",
      "    # fitting method   = leastsq\n",
      "    # function evals   = 6\n",
      "    # data points      = 384\n",
      "    # variables        = 2\n",
      "    chi-square         = 0.02466836\n",
      "    reduced chi-square = 6.4577e-05\n",
      "    Akaike info crit   = -3702.70446\n",
      "    Bayesian info crit = -3694.80317\n",
      "[[Variables]]\n",
      "    slope:      1.4231e-04 +/- 2.3121e-07 (0.16%) (init = 0)\n",
      "    intercept:  0.01788418 +/- 8.2177e-04 (4.59%) (init = 1)\n",
      "[[Correlations]] (unreported correlations are < 0.100)\n",
      "    C(slope, intercept) = -0.867\n",
      "[[Model]]\n",
      "    Model(line)\n",
      "[[Fit Statistics]]\n",
      "    # fitting method   = leastsq\n",
      "    # function evals   = 10\n",
      "    # data points      = 384\n",
      "    # variables        = 2\n",
      "    chi-square         = 676.913956\n",
      "    reduced chi-square = 1.77202606\n",
      "    Akaike info crit   = 221.690220\n",
      "    Bayesian info crit = 229.591506\n",
      "[[Variables]]\n",
      "    slope:      0.04016376 +/- 3.8301e-05 (0.10%) (init = 0)\n",
      "    intercept:  2.76926617 +/- 0.13612824 (4.92%) (init = 1)\n",
      "[[Correlations]] (unreported correlations are < 0.100)\n",
      "    C(slope, intercept) = -0.867\n"
     ]
    }
   ],
   "source": [
    "results = []\n",
    "ylabels = (['Energy [mJ]'] * 2 + ['Time [ms]'] * 2) * 2 + ['Energy [mJ]'] + ['Time [ms]']\n",
    "parameter_names = [\n",
    "    'Encrypt Energy',\n",
    "    'Flash Write Energy',\n",
    "    'Flash Read Energy',\n",
    "    'Decrypt Energy',\n",
    "    'Encrypt Time',\n",
    "    'Flash Write Time',\n",
    "    'Flash Read Time',\n",
    "    'Decrypt Time',\n",
    "    'Total Energy',\n",
    "    'Total Time',\n",
    "]\n",
    "for y in [aes_encrypt_energy, aes_flash_write_energy, aes_flash_read_energy, aes_decrypt_energy, aes_encrypt_time_s, aes_flash_write_time_s, aes_flash_read_time_s, aes_decrypt_time_s,\n",
    "          [e + w + r + d for (e,w,r,d) in zip(aes_encrypt_energy, aes_flash_write_energy, aes_flash_read_energy, aes_decrypt_energy)],\n",
    "          [e + w + r + d for (e,w,r,d) in zip(aes_encrypt_time_s, aes_flash_write_time_s, aes_flash_read_time_s, aes_decrypt_time_s)]]:\n",
    "    result = mod.fit(y, pars, x=num_bytes)\n",
    "    print(result.fit_report())\n",
    "    fig, grid = result.plot(\n",
    "        xlabel='Checkpoint Size [Bytes]',\n",
    "        ylabel=ylabels[len(results)])\n",
    "    fig.tight_layout(rect=(0.05, 0.05, 1, 1))\n",
    "    fig.set_size_inches(5, 4.5, forward=True)\n",
    "    fig.canvas.set_window_title(\n",
    "        f\"Residuals of {experiment_name} {parameter_names[len(results)]}\")\n",
    "    fig.savefig( f\"Residuals of {experiment_name} {parameter_names[len(results)]}\")\n",
    "    fig.show()\n",
    "    results.append(result)"
   ]
  },
  {
   "cell_type": "code",
   "execution_count": 37,
   "metadata": {},
   "outputs": [],
   "source": [
    "fig2 = plt.figure(figsize=(8, 6))\n",
    "fig2.canvas.set_window_title(f\"Analysis {experiment_name}\")"
   ]
  },
  {
   "cell_type": "code",
   "execution_count": 38,
   "metadata": {},
   "outputs": [],
   "source": [
    "charge_color = 'r'\n",
    "time_color = 'b'"
   ]
  },
  {
   "cell_type": "code",
   "execution_count": 39,
   "metadata": {},
   "outputs": [],
   "source": [
    "fig2.clf()\n",
    "# fig2.suptitle(\"Energy analysis of AES\")\n",
    "ax1 = fig2.add_subplot(1, 1, 1)\n",
    "ax2 = ax1.twinx()\n",
    "ax1.set_xlabel('Checkpoint Size [Bytes]')\n",
    "ax1.set_ylabel('Energy [mJ]', color=charge_color)\n",
    "ax2.set_ylabel('Time [ms]', color=time_color)\n",
    "ax1.tick_params('y', colors=charge_color)\n",
    "ax2.tick_params('y', colors=time_color)"
   ]
  },
  {
   "cell_type": "code",
   "execution_count": 40,
   "metadata": {},
   "outputs": [],
   "source": [
    "lines = []\n",
    "lines += ax1.plot(num_bytes, aes_encrypt_energy, charge_color+'-', label=f'{parameter_names[len(lines)]}')\n",
    "lines += ax1.plot(num_bytes, aes_flash_write_energy, charge_color+'-.', label=f'{parameter_names[len(lines)]}')\n",
    "lines += ax1.plot(num_bytes, aes_flash_read_energy, charge_color+':', label=f'{parameter_names[len(lines)]}')\n",
    "lines += ax1.plot(num_bytes, aes_decrypt_energy, charge_color+'--', label=f'{parameter_names[len(lines)]}')\n",
    "lines += ax2.plot(num_bytes, aes_encrypt_time_s, time_color+'-', label=f'{parameter_names[len(lines)]}')\n",
    "lines += ax2.plot(num_bytes, aes_flash_write_time_s, time_color+'-.', label=f'{parameter_names[len(lines)]}')\n",
    "lines += ax2.plot(num_bytes, aes_flash_read_time_s, time_color+':', label=f'{parameter_names[len(lines)]}')\n",
    "lines += ax2.plot(num_bytes, aes_decrypt_time_s, time_color+'--', label=f'{parameter_names[len(lines)]}')\n",
    "ax1.legend(handles=lines)\n",
    "ax1.set_title(\n",
    "    f\"{parameter_names[0]}: Slope {results[0].params['slope'].value * model_j_scale:.04} nJ/B, Intercept {results[0].params['intercept'].value * model_j_scale:.04} nJ\\n\" +\n",
    "    f\"{parameter_names[1]}: Slope {results[1].params['slope'].value * model_j_scale:.04} nJ/B, Intercept {results[1].params['intercept'].value * model_j_scale:.04} nJ\\n\" +\n",
    "    f\"{parameter_names[2]}: Slope {results[2].params['slope'].value * model_j_scale:.04} nJ/B, Intercept {results[2].params['intercept'].value * model_j_scale:.04} nJ\\n\" +\n",
    "    f\"{parameter_names[3]}: Slope {results[3].params['slope'].value * model_j_scale:.04} nJ/B, Intercept {results[3].params['intercept'].value * model_j_scale:.04} nJ\\n\" +\n",
    "    f\"{parameter_names[4]}: Slope {results[4].params['slope'].value * model_t_scale:.04} $\\mu$s/B, Intercept {results[4].params['intercept'].value * model_t_scale:.04} $\\mu$s\\n\" +\n",
    "    f\"{parameter_names[5]}: Slope {results[5].params['slope'].value * model_t_scale:.04} $\\mu$s/B, Intercept {results[5].params['intercept'].value * model_t_scale:.04} $\\mu$s\\n\" +\n",
    "    f\"{parameter_names[6]}: Slope {results[6].params['slope'].value * model_t_scale:.04} $\\mu$s/B, Intercept {results[6].params['intercept'].value * model_t_scale:.04} $\\mu$s\\n\" +\n",
    "    f\"{parameter_names[7]}: Slope {results[7].params['slope'].value * model_t_scale:.04} $\\mu$s/B, Intercept {results[7].params['intercept'].value * model_t_scale:.04} $\\mu$s\\n\" +\n",
    "    f\"{parameter_names[8]}: Slope {results[8].params['slope'].value * model_j_scale:.04} nJ/B, Intercept {results[8].params['intercept'].value * model_j_scale:.04} nJ\\n\" +\n",
    "    f\"{parameter_names[9]}: Slope {results[9].params['slope'].value * model_t_scale:.04} $\\mu$s/B, Intercept {results[9].params['intercept'].value * model_t_scale:.04} $\\mu$s\\n\")\n",
    "fig2.tight_layout()\n",
    "fig2.savefig(f\"Analysis {experiment_name}\")\n",
    "fig2.show()"
   ]
  },
  {
   "cell_type": "code",
   "execution_count": 41,
   "metadata": {},
   "outputs": [
    {
     "name": "stdout",
     "output_type": "stream",
     "text": [
      "Encrypt Energy: Slope 12.815254933102396606 nJ/B, Intercept 317.55791974252821319 nJ\n",
      "Flash Write Energy: Slope 112.94686364566079817 nJ/B, Intercept 17143.747031462818995 nJ\n",
      "Flash Read Energy: Slope 3.7647269435100456647 nJ/B, Intercept -3.9601509969067194561 nJ\n",
      "Decrypt Energy: Slope 12.778817748535145071 nJ/B, Intercept 426.83256326547791559 nJ\n",
      "Encrypt Time: Slope 8.6245643529641782266 $\\mu$s/B, Intercept 194.96203459328231133 $\\mu$s\n",
      "Flash Write Time: Slope 20.818574851338386367 $\\mu$s/B, Intercept 2285.0115066316047887 $\\mu$s\n",
      "Flash Read Time: Slope 2.1244819399398009452 $\\mu$s/B, Intercept 24.032972219977686734 $\\mu$s\n",
      "Decrypt Time: Slope 8.5961391283650652184 $\\mu$s/B, Intercept 265.25968885832082833 $\\mu$s\n",
      "Total Energy: Slope 142.30566327080964584 nJ/B, Intercept 17884.177370012021129 nJ\n",
      "Total Time: Slope 40.163760279709833867 $\\mu$s/B, Intercept 2769.2661731739376592 $\\mu$s\n",
      "\n"
     ]
    }
   ],
   "source": [
    "print(\n",
    "    f\"{parameter_names[0]}: Slope {results[0].params['slope'].value * model_j_scale:.020} nJ/B, Intercept {results[0].params['intercept'].value * model_j_scale:.020} nJ\\n\" +\n",
    "    f\"{parameter_names[1]}: Slope {results[1].params['slope'].value * model_j_scale:.020} nJ/B, Intercept {results[1].params['intercept'].value * model_j_scale:.020} nJ\\n\" +\n",
    "    f\"{parameter_names[2]}: Slope {results[2].params['slope'].value * model_j_scale:.020} nJ/B, Intercept {results[2].params['intercept'].value * model_j_scale:.020} nJ\\n\" +\n",
    "    f\"{parameter_names[3]}: Slope {results[3].params['slope'].value * model_j_scale:.020} nJ/B, Intercept {results[3].params['intercept'].value * model_j_scale:.020} nJ\\n\" +\n",
    "    f\"{parameter_names[4]}: Slope {results[4].params['slope'].value * model_t_scale:.020} $\\mu$s/B, Intercept {results[4].params['intercept'].value * model_t_scale:.020} $\\mu$s\\n\" +\n",
    "    f\"{parameter_names[5]}: Slope {results[5].params['slope'].value * model_t_scale:.020} $\\mu$s/B, Intercept {results[5].params['intercept'].value * model_t_scale:.020} $\\mu$s\\n\" +\n",
    "    f\"{parameter_names[6]}: Slope {results[6].params['slope'].value * model_t_scale:.020} $\\mu$s/B, Intercept {results[6].params['intercept'].value * model_t_scale:.020} $\\mu$s\\n\" +\n",
    "    f\"{parameter_names[7]}: Slope {results[7].params['slope'].value * model_t_scale:.020} $\\mu$s/B, Intercept {results[7].params['intercept'].value * model_t_scale:.020} $\\mu$s\\n\" +\n",
    "    f\"{parameter_names[8]}: Slope {results[8].params['slope'].value * model_j_scale:.020} nJ/B, Intercept {results[8].params['intercept'].value * model_j_scale:.020} nJ\\n\" +\n",
    "    f\"{parameter_names[9]}: Slope {results[9].params['slope'].value * model_t_scale:.020} $\\mu$s/B, Intercept {results[9].params['intercept'].value * model_t_scale:.020} $\\mu$s\\n\"\n",
    ")"
   ]
  },
  {
   "cell_type": "code",
   "execution_count": 42,
   "metadata": {},
   "outputs": [],
   "source": [
    "# Save Charge amount list into pickle file\n",
    "import pickle\n",
    "pickle.dump(aes_encrypt_energy, open(\"aes_flash_encrypt_energy_mJ.p\", \"wb\"))\n",
    "pickle.dump(aes_decrypt_energy, open(\"aes_flash_decrypt_energy_mJ.p\", \"wb\"))\n",
    "pickle.dump(aes_flash_write_energy, open(\"aes_flash_write_energy_mJ.p\", \"wb\"))\n",
    "pickle.dump(aes_flash_read_energy, open(\"aes_flash_read_energy_mJ.p\", \"wb\"))\n",
    "pickle.dump(aes_encrypt_time_s, open(\"aes_flash_encrypt_time_ms.p\", \"wb\"))\n",
    "pickle.dump(aes_decrypt_time_s, open(\"aes_flash_decrypt_time_ms.p\", \"wb\"))\n",
    "pickle.dump(aes_flash_write_time_s, open(\"aes_flash_write_time_ms.p\", \"wb\"))\n",
    "pickle.dump(aes_flash_read_time_s, open(\"aes_flash_read_time_ms.p\", \"wb\"))"
   ]
  },
  {
   "cell_type": "code",
   "execution_count": 43,
   "metadata": {},
   "outputs": [
    {
     "name": "stdout",
     "output_type": "stream",
     "text": [
      "384 6144\n",
      "384 6144\n",
      "384 6144\n",
      "384 6144\n",
      "384 6144\n",
      "384 6144\n",
      "384 6144\n",
      "384 6144\n"
     ]
    }
   ],
   "source": [
    "aes = [aes_encrypt_energy, aes_flash_write_energy, aes_flash_read_energy, aes_decrypt_energy, aes_encrypt_time_s, aes_flash_write_time_s, aes_flash_read_time_s, aes_decrypt_time_s]\n",
    "for i in aes:\n",
    "    print(len(i), len(i)*16)"
   ]
  },
  {
   "cell_type": "markdown",
   "metadata": {},
   "source": [
    "## Write config file"
   ]
  },
  {
   "cell_type": "code",
   "execution_count": 44,
   "metadata": {},
   "outputs": [],
   "source": [
    "import json\n",
    "\n",
    "config = {}\n",
    "config[\"name\"] = \"AES-256 Flash\"\n",
    "config[\"project_paths\"] = [project_path]\n",
    "config[\"config_dict\"] = config_dict\n",
    "config[\"config_dict_plot\"] = config_dict_plot\n",
    "config[\"analysis\"] = {\"pins\":{2: [\"AES-256 Encrypt\", \"AES-256 Decrypt\"], 3: [\"AES-256 Flash Write\", \"AES-256 Flash Read\"]}, \n",
    "                      \"result_types\": [\"Charge\", \"Time\"],\n",
    "                      \"section_types\": {\"init\": [], \n",
    "                                        \"store\": [\"AES-256 Encrypt\", \"AES-256 Flash Write\"],\n",
    "                                        \"load\": [\"AES-256 Flash Read\", \"AES-256 Decrypt\"],\n",
    "                                        \"exit\": []},\n",
    "                      \"labels\": {\n",
    "                          \"Charge\": {\"x\":\"Data Size\", \"x_unit\": \"byte\", \"y\": \"Charge\", \"y_unit\": \"C\"},\n",
    "                          \"Time\": {\"x\":\"Data Size\", \"x_unit\": \"byte\", \"y\": \"Time\", \"y_unit\": \"s\"},\n",
    "                      },\n",
    "                      \"x_step\": MBEDTLS_AES_BLOCK_SIZE}\n",
    "\n",
    "with open(\"looped_experiment.json\", 'w') as config_file:  \n",
    "    json.dump(config, config_file, indent=4)"
   ]
  },
  {
   "cell_type": "markdown",
   "metadata": {},
   "source": [
    "# Write model data"
   ]
  },
  {
   "cell_type": "code",
   "execution_count": 45,
   "metadata": {},
   "outputs": [],
   "source": [
    "dump_pickle = True\n",
    "fit_lm = True\n",
    "verbose = 2\n",
    "show_lm_plot = 2\n",
    "# drop = 1"
   ]
  },
  {
   "cell_type": "code",
   "execution_count": 46,
   "metadata": {},
   "outputs": [],
   "source": [
    "# Parse data\n",
    "analysis_config = config.get(\"analysis\")\n",
    "result_types = analysis_config.get(\"result_types\")\n",
    "x_step = analysis_config.get(\"x_step\")\n",
    "parsed_data = {}\n",
    "for pin, parameter_names in analysis_config.get(\"pins\").items():\n",
    "    data2 = power_and_time_per_pulse(\n",
    "        data, int(pin), stop_function=stop_function)\n",
    "    num_names = len(parameter_names)\n",
    "    for i, parameter_name in enumerate(parameter_names):\n",
    "        end_index = -drop * num_names or None\n",
    "        parsed_data[parameter_name] = {\n",
    "            result_types[0]: data2[0][i:end_index:num_names],\n",
    "            result_types[1]: data2[1][i:end_index:num_names],\n",
    "            \"x_step\": x_step}\n",
    "if dump_pickle:\n",
    "    pickle.dump(parsed_data, open(\n",
    "        path.join(path.curdir,\n",
    "                  f\"{config_dict.get('file_name_base')}_looped.p\"), \"wb\"))"
   ]
  },
  {
   "cell_type": "code",
   "execution_count": 47,
   "metadata": {},
   "outputs": [
    {
     "name": "stdout",
     "output_type": "stream",
     "text": [
      "Fitting model to AES-256 Encrypt with 384 samples, from 16 to 6144 bytes in steps of 16.\n",
      "[[Model]]\n",
      "    Model(line)\n",
      "[[Fit Statistics]]\n",
      "    # fitting method   = leastsq\n",
      "    # function evals   = 10\n",
      "    # data points      = 384\n",
      "    # variables        = 2\n",
      "    chi-square         = 1.6905e-13\n",
      "    reduced chi-square = 4.4255e-16\n",
      "    Akaike info crit   = -13573.9332\n",
      "    Bayesian info crit = -13566.0319\n",
      "[[Variables]]\n",
      "    intercept:  9.5363e-08 +/- 2.1513e-09 (2.26%) (init = 0)\n",
      "    slope:      3.8484e-09 +/- 6.0528e-13 (0.02%) (init = 1)\n",
      "[[Correlations]] (unreported correlations are < 0.100)\n",
      "    C(intercept, slope) = -0.867\n",
      "[[Model]]\n",
      "    Model(line)\n",
      "[[Fit Statistics]]\n",
      "    # fitting method   = leastsq\n",
      "    # function evals   = 7\n",
      "    # data points      = 384\n",
      "    # variables        = 2\n",
      "    chi-square         = 2.8999e-07\n",
      "    reduced chi-square = 7.5915e-10\n",
      "    Akaike info crit   = -8061.55386\n",
      "    Bayesian info crit = -8053.65257\n",
      "[[Variables]]\n",
      "    intercept:  1.9496e-04 +/- 2.8176e-06 (1.45%) (init = 0)\n",
      "    slope:      8.6246e-06 +/- 7.9275e-10 (0.01%) (init = 1)\n",
      "[[Correlations]] (unreported correlations are < 0.100)\n",
      "    C(intercept, slope) = -0.867\n",
      "Fitting model to AES-256 Decrypt with 384 samples, from 16 to 6144 bytes in steps of 16.\n",
      "[[Model]]\n",
      "    Model(line)\n",
      "[[Fit Statistics]]\n",
      "    # fitting method   = leastsq\n",
      "    # function evals   = 10\n",
      "    # data points      = 384\n",
      "    # variables        = 2\n",
      "    chi-square         = 2.5116e-11\n",
      "    reduced chi-square = 6.5748e-14\n",
      "    Akaike info crit   = -11653.5368\n",
      "    Bayesian info crit = -11645.6356\n",
      "[[Variables]]\n",
      "    intercept:  1.2818e-07 +/- 2.6221e-08 (20.46%) (init = 0)\n",
      "    slope:      3.8375e-09 +/- 7.3776e-12 (0.19%) (init = 1)\n",
      "[[Correlations]] (unreported correlations are < 0.100)\n",
      "    C(intercept, slope) = -0.867\n",
      "[[Model]]\n",
      "    Model(line)\n",
      "[[Fit Statistics]]\n",
      "    # fitting method   = leastsq\n",
      "    # function evals   = 7\n",
      "    # data points      = 384\n",
      "    # variables        = 2\n",
      "    chi-square         = 1.2631e-04\n",
      "    reduced chi-square = 3.3066e-07\n",
      "    Akaike info crit   = -5728.12028\n",
      "    Bayesian info crit = -5720.21899\n",
      "[[Variables]]\n",
      "    intercept:  2.6526e-04 +/- 5.8804e-05 (22.17%) (init = 0)\n",
      "    slope:      8.5961e-06 +/- 1.6545e-08 (0.19%) (init = 1)\n",
      "[[Correlations]] (unreported correlations are < 0.100)\n",
      "    C(intercept, slope) = -0.867\n",
      "Fitting model to AES-256 Flash Write with 384 samples, from 16 to 6144 bytes in steps of 16.\n",
      "[[Model]]\n",
      "    Model(line)\n",
      "[[Fit Statistics]]\n",
      "    # fitting method   = leastsq\n",
      "    # function evals   = 9\n",
      "    # data points      = 384\n",
      "    # variables        = 2\n",
      "    chi-square         = 2.1741e-09\n",
      "    reduced chi-square = 5.6914e-12\n",
      "    Akaike info crit   = -9940.55515\n",
      "    Bayesian info crit = -9932.65386\n",
      "[[Variables]]\n",
      "    intercept:  5.1483e-06 +/- 2.4396e-07 (4.74%) (init = 0)\n",
      "    slope:      3.3918e-08 +/- 6.8641e-11 (0.20%) (init = 1)\n",
      "[[Correlations]] (unreported correlations are < 0.100)\n",
      "    C(intercept, slope) = -0.867\n",
      "[[Model]]\n",
      "    Model(line)\n",
      "[[Fit Statistics]]\n",
      "    # fitting method   = leastsq\n",
      "    # function evals   = 7\n",
      "    # data points      = 384\n",
      "    # variables        = 2\n",
      "    chi-square         = 4.9984e-04\n",
      "    reduced chi-square = 1.3085e-06\n",
      "    Akaike info crit   = -5199.91291\n",
      "    Bayesian info crit = -5192.01163\n",
      "[[Variables]]\n",
      "    intercept:  0.00228501 +/- 1.1698e-04 (5.12%) (init = 0)\n",
      "    slope:      2.0819e-05 +/- 3.2913e-08 (0.16%) (init = 1)\n",
      "[[Correlations]] (unreported correlations are < 0.100)\n",
      "    C(intercept, slope) = -0.867\n",
      "Fitting model to AES-256 Flash Read with 384 samples, from 16 to 6144 bytes in steps of 16.\n",
      "[[Model]]\n",
      "    Model(line)\n",
      "[[Fit Statistics]]\n",
      "    # fitting method   = leastsq\n",
      "    # function evals   = 10\n",
      "    # data points      = 384\n",
      "    # variables        = 2\n",
      "    chi-square         = 9.8842e-14\n",
      "    reduced chi-square = 2.5875e-16\n",
      "    Akaike info crit   = -13780.0261\n",
      "    Bayesian info crit = -13772.1248\n",
      "[[Variables]]\n",
      "    intercept: -1.1892e-09 +/- 1.6450e-09 (138.32%) (init = 0)\n",
      "    slope:      1.1305e-09 +/- 4.6283e-13 (0.04%) (init = 1)\n",
      "[[Correlations]] (unreported correlations are < 0.100)\n",
      "    C(intercept, slope) = -0.867\n",
      "[[Model]]\n",
      "    Model(line)\n",
      "[[Fit Statistics]]\n",
      "    # fitting method   = leastsq\n",
      "    # function evals   = 7\n",
      "    # data points      = 384\n",
      "    # variables        = 2\n",
      "    chi-square         = 2.6843e-07\n",
      "    reduced chi-square = 7.0269e-10\n",
      "    Akaike info crit   = -8091.22803\n",
      "    Bayesian info crit = -8083.32674\n",
      "[[Variables]]\n",
      "    intercept:  2.4033e-05 +/- 2.7108e-06 (11.28%) (init = 0)\n",
      "    slope:      2.1245e-06 +/- 7.6271e-10 (0.04%) (init = 1)\n",
      "[[Correlations]] (unreported correlations are < 0.100)\n",
      "    C(intercept, slope) = -0.867\n"
     ]
    }
   ],
   "source": [
    "# Fit lm\n",
    "if fit_lm:\n",
    "    model = None\n",
    "    if model is None:\n",
    "        def line(x, intercept, slope):\n",
    "            \"\"\"a line\"\"\"\n",
    "            return [intercept + slope*i for i in x]\n",
    "\n",
    "        model = Model(line)\n",
    "        params = model.make_params(intercept=0, slope=1)\n",
    "#         params['intercept'].set(min=0)\n",
    "    else:\n",
    "        params = model.params\n",
    "\n",
    "    model_results = {}\n",
    "    labels = analysis_config.get(\"labels\")\n",
    "    for parameter_name in parsed_data.keys():\n",
    "        length = len(parsed_data[parameter_name][result_types[0]])\n",
    "        x_step = parsed_data[parameter_name][\"x_step\"]\n",
    "        num_bytes = range(x_step, (length+1)*x_step, x_step)\n",
    "        if verbose:\n",
    "            print(\n",
    "                f\"Fitting model to {parameter_name} with {length} \" +\n",
    "                f\"samples, from {min(num_bytes)} to {max(num_bytes)} \"\n",
    "                f\"bytes in steps of {x_step}.\")\n",
    "        model_result = {}\n",
    "        for result_type in result_types:\n",
    "            model_result[result_type] = model.fit(\n",
    "                parsed_data[parameter_name][result_type], params,\n",
    "                x=num_bytes)\n",
    "            if verbose >= 2:\n",
    "                print(model_result[result_type].fit_report())\n",
    "            # Plot multiple view\n",
    "            if show_lm_plot >= 2:\n",
    "                fig, grid = model_result[result_type].plot(\n",
    "                    xlabel=f\"{labels[result_type]['x']} \" +\n",
    "                           f\"[{labels[result_type]['x_unit']}]\",\n",
    "                    ylabel=f\"{labels[result_type]['y']} \" +\n",
    "                           f\"[{labels[result_type]['y_unit']}]\")\n",
    "                fig.canvas.set_window_title(\n",
    "                    f\"Residuals of {parameter_name}\")\n",
    "                fig.tight_layout()\n",
    "                fig.show()\n",
    "            model_results[parameter_name] = model_result\n",
    "\n",
    "    # Plot single view\n",
    "    if show_lm_plot:\n",
    "        import matplotlib.pyplot as plt\n",
    "        fig = plt.figure(figsize=(9, 6))\n",
    "        fig.canvas.set_window_title(f\"Analysis {config.get('name')}\")\n",
    "        colors = dict(zip(result_types, ['r', 'b']))\n",
    "        line_styles = (\n",
    "            line_style for line_style in ('-', '--', '-.', ':') * 2)\n",
    "        # fig.suptitle(f\"Energy analysis of {config.get('name')}\")\n",
    "        ax = {}\n",
    "        ax[result_types[0]] = fig.add_subplot(1, 1, 1)\n",
    "        ax[result_types[1]] = ax[result_types[0]].twinx()\n",
    "        ax[result_types[0]].set_xlabel(\n",
    "            f\"{labels[result_types[0]]['x']} \" +\n",
    "            f\"[{labels[result_types[0]]['x_unit']}]\")\n",
    "        for result_type in result_types:\n",
    "            ax[result_type].set_ylabel(\n",
    "                f\"{labels[result_type]['y']} \" +\n",
    "                f\"[{labels[result_type]['y_unit']}]\",\n",
    "                color=colors[result_type])\n",
    "            ax[result_type].tick_params('y', colors=colors[result_type])\n",
    "\n",
    "        lines = []\n",
    "        title_str = \"\"\n",
    "        for parameter_name in parsed_data.keys():\n",
    "            length = len(parsed_data[parameter_name][result_types[0]])\n",
    "            x_step = parsed_data[parameter_name][\"x_step\"]\n",
    "            num_bytes = range(x_step, (length+1)*x_step, x_step)\n",
    "            model_result = {}\n",
    "            line_style = next(line_styles)\n",
    "            for result_type in result_types:\n",
    "                label = f\"{parameter_name} {labels[result_type]['y']}\"\n",
    "                lines += ax[result_type].plot(\n",
    "                    num_bytes, parsed_data[parameter_name][result_type],\n",
    "                    colors[result_type] + line_style, label=label)\n",
    "                title_str += f\"{label} \"\n",
    "                for param in params.keys():\n",
    "                    title_str += \"\".join(\n",
    "                        f\"{params[param].name.capitalize()}: \")\n",
    "                    title_str += \"\".join(\n",
    "                        f\"{model_results[parameter_name][result_type].params[param].value: .03} \")\n",
    "                    title_str += \"\".join(\n",
    "                        f\"{labels[result_type]['y_unit']}, \")\n",
    "                title_str = title_str[:-2] + \\\n",
    "                    f\" per {labels[result_type]['x_unit']}\\n\"\n",
    "        ax[result_types[0]].legend(handles=lines)\n",
    "        ax[result_types[0]].set_title(title_str[:-1])\n",
    "        # fig.tight_layout()\n",
    "        fig.tight_layout(rect=(0.05, 0.05, 1, 1))\n",
    "        fig.set_size_inches(8, 6, forward=True)\n",
    "        fig.show()\n",
    "\n",
    "    # Save model results to file\n",
    "    if dump_pickle:\n",
    "        model_results_dump = {}\n",
    "        for parameter_name in model_results.keys():\n",
    "            model_results_dump[parameter_name] = {}\n",
    "            for result_type in model_results[parameter_name].keys():\n",
    "                model_results_dump[parameter_name][result_type] = \\\n",
    "                    model_results[parameter_name][result_type].values\n",
    "\n",
    "        pickle.dump(model_results_dump, open(path.join(\n",
    "            path.curdir,\n",
    "            f\"{config_dict.get('file_name_base')}_model.p\"), \"wb\"))"
   ]
  },
  {
   "cell_type": "markdown",
   "metadata": {},
   "source": [
    "# Total from measurement"
   ]
  },
  {
   "cell_type": "code",
   "execution_count": 48,
   "metadata": {},
   "outputs": [
    {
     "name": "stdout",
     "output_type": "stream",
     "text": [
      "175.17527817455473 48565.88077120009\n"
     ]
    }
   ],
   "source": [
    "n_samples = 5995\n",
    "\n",
    "total_energy = sum(aes_encrypt_energy[:n_samples]) + sum(aes_flash_write_energy[:n_samples]) + sum(aes_flash_read_energy[:n_samples]) + sum(aes_decrypt_energy[:n_samples])\n",
    "total_time = sum(aes_encrypt_time_s[:n_samples]) + sum(aes_flash_write_time_s[:n_samples]) + sum(aes_flash_read_time_s[:n_samples]) + sum(aes_decrypt_time_s[:n_samples])\n",
    "print(total_energy, total_time)"
   ]
  },
  {
   "cell_type": "code",
   "execution_count": 49,
   "metadata": {},
   "outputs": [
    {
     "data": {
      "text/plain": [
       "[4.619813333333313,\n",
       " 4.949800000000003,\n",
       " 5.345783999999992,\n",
       " 5.873845866666658,\n",
       " 6.204401066666669,\n",
       " 6.53442239999999,\n",
       " 6.996156266666692,\n",
       " 7.457578133333364,\n",
       " 7.787559466666621,\n",
       " 8.1836032,\n",
       " 8.579584000000029,\n",
       " 8.910086400000017,\n",
       " 9.43845759999995,\n",
       " 9.768211199999987,\n",
       " 10.229503999999999,\n",
       " 10.625484800000029,\n",
       " 14.850599999999993,\n",
       " 15.312452266666664,\n",
       " 15.707619199999856,\n",
       " 16.169819199999935,\n",
       " 16.566803199999924,\n",
       " 16.962359466666577,\n",
       " 17.22488640000008,\n",
       " 18.01805226666675,\n",
       " 18.15087999999998,\n",
       " 18.611302400000085,\n",
       " 18.874927466666634,\n",
       " 19.336281066666515,\n",
       " 19.600948800000076,\n",
       " 20.13081333333333,\n",
       " 20.591270400000084,\n",
       " 20.921264533333428,\n",
       " 25.34502399999994,\n",
       " 25.805464000000057,\n",
       " 26.069598399999894,\n",
       " 26.599719466666507,\n",
       " 26.993485866666724,\n",
       " 27.38925653333335,\n",
       " 27.65370240000009,\n",
       " 28.0518133333334,\n",
       " 28.577893866666763,\n",
       " 28.90796213333347,\n",
       " 29.371884799999748,\n",
       " 29.764797333333263,\n",
       " 30.09708160000035,\n",
       " 30.624946133332998,\n",
       " 30.88700160000002,\n",
       " 31.348986666666747,\n",
       " 35.708013866666334,\n",
       " 35.969884800000074,\n",
       " 36.43232853333322,\n",
       " 36.96055466666648,\n",
       " 37.28910079999981,\n",
       " 37.68727253333326,\n",
       " 38.08076906666669,\n",
       " 38.60812800000035,\n",
       " 38.94210559999989,\n",
       " 39.335089066666384,\n",
       " 39.732922666666504,\n",
       " 40.12746666666711,\n",
       " 40.524351466666445,\n",
       " 40.98648319999976,\n",
       " 41.38066240000038,\n",
       " 41.5799386666671,\n",
       " 46.06978986666688,\n",
       " 46.59579520000045,\n",
       " 46.926957866666015,\n",
       " 47.255941333333325,\n",
       " 47.65211626666632,\n",
       " 48.0461290666665,\n",
       " 48.511335999999794,\n",
       " 48.97144373333307,\n",
       " 49.23724053333345,\n",
       " 49.696094933333605,\n",
       " 50.096416000000595,\n",
       " 50.48760426666643,\n",
       " 50.9510783999998,\n",
       " 51.41599253333328,\n",
       " 51.743541866666305,\n",
       " 52.07388640000054,\n",
       " 56.49751679999992,\n",
       " 56.758397866665256,\n",
       " 57.35118559999819,\n",
       " 57.619838399999956,\n",
       " 58.07981866666623,\n",
       " 58.47464906666744,\n",
       " 58.873184533334566,\n",
       " 59.397600000000494,\n",
       " 59.597851199999496,\n",
       " 60.191182399998766,\n",
       " 60.32671146666768,\n",
       " 60.851348266666605,\n",
       " 61.31540533333446,\n",
       " 61.77350400000048,\n",
       " 62.04286933333414,\n",
       " 62.501780799999906,\n",
       " 66.9238741333329,\n",
       " 67.32181866666576,\n",
       " 67.71381119999998,\n",
       " 67.98264106666619,\n",
       " 68.50679253333425,\n",
       " 68.83903359999977,\n",
       " 69.23625226666718,\n",
       " 69.62718666666578,\n",
       " 69.96206933333315,\n",
       " 70.42109600000046,\n",
       " 70.88463359999952,\n",
       " 71.28245706666547,\n",
       " 71.6736330666663,\n",
       " 72.07422613333314,\n",
       " 72.40216959999924,\n",
       " 72.7304362666672,\n",
       " 77.22226720000069,\n",
       " 77.61410559999948,\n",
       " 78.14511306666816,\n",
       " 78.47545919999988,\n",
       " 78.80486506666529,\n",
       " 79.263303466667,\n",
       " 79.66442399999974,\n",
       " 80.05664639999921,\n",
       " 80.4546309333345,\n",
       " 80.85128000000097,\n",
       " 81.1788074666664,\n",
       " 81.57657973333255,\n",
       " 82.10692266666709,\n",
       " 82.37070293333382,\n",
       " 82.82703839999606,\n",
       " 83.22920746666718,\n",
       " 87.58342506666672,\n",
       " 88.1108128000001,\n",
       " 88.43723786666402,\n",
       " 88.83804746666613,\n",
       " 89.23341013333541,\n",
       " 89.69360693333073,\n",
       " 89.95545813333727,\n",
       " 90.42194933333292,\n",
       " 90.88284373333266,\n",
       " 91.27854453333306,\n",
       " 91.73777013333329,\n",
       " 92.13779626666607,\n",
       " 92.46691626666603,\n",
       " 92.92884586666439,\n",
       " 93.18976906666698,\n",
       " 93.7882186666652,\n",
       " 98.01079253333,\n",
       " 98.40594346666443,\n",
       " 98.79723786666794,\n",
       " 99.26568320000051,\n",
       " 99.72849973333275,\n",
       " 100.0577984000035,\n",
       " 100.51640053333344,\n",
       " 100.8480255999995,\n",
       " 101.2447029333341,\n",
       " 101.57221173333397,\n",
       " 102.10288906666598,\n",
       " 102.56393919999951,\n",
       " 102.8278986666713,\n",
       " 103.28485280000343,\n",
       " 103.75043039999987,\n",
       " 104.08026613333199,\n",
       " 108.501180266666,\n",
       " 108.83242079999889,\n",
       " 109.29548426666713,\n",
       " 109.69171200000005,\n",
       " 110.08262613333031,\n",
       " 110.35049173333178,\n",
       " 110.81545333333409,\n",
       " 111.14040266666514,\n",
       " 111.60584586666822,\n",
       " 112.0016741333334,\n",
       " 112.39887359999834,\n",
       " 112.86079519999959,\n",
       " 113.32208213333139,\n",
       " 113.71794773333477,\n",
       " 114.04490666666867,\n",
       " 114.51081600000101,\n",
       " 118.93280906666881,\n",
       " 119.19125119999663,\n",
       " 119.59464533333453,\n",
       " 119.9235429333303,\n",
       " 120.5140079999989,\n",
       " 120.77870293333248,\n",
       " 121.11104160000252,\n",
       " 121.56948906667076,\n",
       " 122.09755146666801,\n",
       " 122.22958719999788,\n",
       " 122.88971466666432,\n",
       " 123.15153546666835,\n",
       " 123.68301066667087,\n",
       " 124.145611200003,\n",
       " 124.4722954666706,\n",
       " 124.80586186665832,\n",
       " 129.2286325333336,\n",
       " 129.68892853333358,\n",
       " 130.086301333332,\n",
       " 130.41447946666906,\n",
       " 130.94092533332713,\n",
       " 131.33737120000433,\n",
       " 131.73254933333212,\n",
       " 131.9313077333355,\n",
       " 132.72341120000064,\n",
       " 132.85055626666775,\n",
       " 133.1855680000018,\n",
       " 133.51494773333528,\n",
       " 134.1710575999997,\n",
       " 134.37583840000045,\n",
       " 134.8359152000036,\n",
       " 135.0984613333317,\n",
       " 139.25687253333408,\n",
       " 139.85088106666765,\n",
       " 140.2457658666627,\n",
       " 140.83870026666645,\n",
       " 141.03682133333706,\n",
       " 141.36905866666538,\n",
       " 141.77029653333406,\n",
       " 142.42628906666255,\n",
       " 142.56184159999918,\n",
       " 143.02270719999655,\n",
       " 143.4135093333353,\n",
       " 144.01159946666553,\n",
       " 144.47333653332706,\n",
       " 144.53675946666777,\n",
       " 145.13729119999752,\n",
       " 145.65773013333683,\n",
       " 149.7548293333324,\n",
       " 150.27974026667223,\n",
       " 150.41208106666915,\n",
       " 150.9401930666705,\n",
       " 151.005895466664,\n",
       " 151.73007573332953,\n",
       " 152.19411946666384,\n",
       " 152.5223024000013,\n",
       " 152.85359679999644,\n",
       " 153.31831093333292,\n",
       " 153.77903733333298,\n",
       " 154.17333760000318,\n",
       " 154.83017920000108,\n",
       " 154.76362079999717,\n",
       " 155.36283573333165,\n",
       " 155.7615616000021,\n",
       " 160.1829674666675,\n",
       " 159.9824170666686,\n",
       " 160.6450357333351,\n",
       " 161.10594719999938,\n",
       " 161.70460000000375,\n",
       " 162.0965418666671,\n",
       " 162.48968213333015,\n",
       " 162.89018186666482,\n",
       " 163.4148965333324,\n",
       " 163.9468389333345,\n",
       " 164.27178453333013,\n",
       " 164.40597706666793,\n",
       " 164.86925439999567,\n",
       " 165.32902239999814,\n",
       " 165.66040053332998,\n",
       " 166.05582400000074,\n",
       " 170.4806991999952,\n",
       " 170.67657066666442,\n",
       " 170.8102447999984,\n",
       " 171.66814560000176,\n",
       " 171.9945242666654,\n",
       " 171.99900800000023,\n",
       " 172.39152266666835,\n",
       " 172.98719253333417,\n",
       " 173.51421173333037,\n",
       " 173.714514666667,\n",
       " 174.56915093334047,\n",
       " 174.57025386666558,\n",
       " 175.03528106666622,\n",
       " 175.75656639999693,\n",
       " 175.89290826666115,\n",
       " 176.1539557333336,\n",
       " 179.850105066663,\n",
       " 180.11292693333303,\n",
       " 180.57804373333042,\n",
       " 181.4324469333357,\n",
       " 181.4350671999989,\n",
       " 182.09190879999682,\n",
       " 182.48980426667316,\n",
       " 183.21443413332617,\n",
       " 183.66959146666773,\n",
       " 184.1377413333376,\n",
       " 184.46243679999696,\n",
       " 184.85958720000895,\n",
       " 185.18721386666215,\n",
       " 185.9153424000013,\n",
       " 185.84821973333732,\n",
       " 186.64451413332728,\n",
       " 190.47141226666753,\n",
       " 190.34035093334012,\n",
       " 190.66926880000779,\n",
       " 191.26856000000458,\n",
       " 191.99191253334646,\n",
       " 192.65451039999704,\n",
       " 192.98149866666847,\n",
       " 193.05033653333226,\n",
       " 193.70470026666453,\n",
       " 194.16890773332796,\n",
       " 194.82401493333157,\n",
       " 195.02511519999643,\n",
       " 195.29372159999525,\n",
       " 196.0225045333388,\n",
       " 195.95374453333392,\n",
       " 196.6135450666684,\n",
       " 200.17798133334708,\n",
       " 200.31020533332367,\n",
       " 201.16788640000038,\n",
       " 201.17111093333762,\n",
       " 202.22296053333366,\n",
       " 202.6890746666652,\n",
       " 203.27880106668061,\n",
       " 203.21718933332278,\n",
       " 203.5413685333296,\n",
       " 204.4722138666728,\n",
       " 204.66540640000375,\n",
       " 205.0648442666656,\n",
       " 205.65411306666448,\n",
       " 206.31779786666726,\n",
       " 206.58241546667,\n",
       " 207.1759722666684,\n",
       " 210.54038453332424,\n",
       " 210.93854826667524,\n",
       " 211.19970720000936,\n",
       " 211.7948981333342,\n",
       " 212.31136533332773,\n",
       " 212.51680106667692,\n",
       " 213.2365429333447,\n",
       " 213.172665066665,\n",
       " 213.83545493333855,\n",
       " 214.55949279999942,\n",
       " 214.7620554666716,\n",
       " 215.22043840001004,\n",
       " 215.29329279999843,\n",
       " 216.28006400000288,\n",
       " 216.87551360000157,\n",
       " 216.93596160000794,\n",
       " 220.77065120001294,\n",
       " 220.8960453333475,\n",
       " 221.36051893333075,\n",
       " 221.95404213333347,\n",
       " 222.2145909333264,\n",
       " 223.47241973334064,\n",
       " 223.66773173332888,\n",
       " 223.6058543999988,\n",
       " 224.1363722666776,\n",
       " 224.40039573332626,\n",
       " 225.1817557333382,\n",
       " 225.58008106666705,\n",
       " 226.11360533332459,\n",
       " 226.04214773333808,\n",
       " 226.90254239999774,\n",
       " 227.2390288000139,\n",
       " 230.47353279999783,\n",
       " 231.1289311999971,\n",
       " 231.3987834666733,\n",
       " 232.12534026665566,\n",
       " 232.58097813333478,\n",
       " 233.04317920000273,\n",
       " 233.1718762666668,\n",
       " 233.56514666666328,\n",
       " 234.29167946666496,\n",
       " 234.5564741333348,\n",
       " 235.22108159999533,\n",
       " 235.7526373333343,\n",
       " 236.1487989333355,\n",
       " 236.5341397333367,\n",
       " 237.20340799999917,\n",
       " 236.7417466666737,\n",
       " 240.76680959999663,\n",
       " 240.96820639999805,\n",
       " 241.02789759999865,\n",
       " 242.15528426667277,\n",
       " 242.68342080000593,\n",
       " 242.6116261333391,\n",
       " 243.41012533333384,\n",
       " 243.99145920000365,\n",
       " 244.59453119999353,\n",
       " 244.52303733333736,\n",
       " 245.055318933332,\n",
       " 245.84383466667248,\n",
       " 246.4320581333368,\n",
       " 246.3021018666609,\n",
       " 247.09477013333014,\n",
       " 235.94365653333682]"
      ]
     },
     "execution_count": 49,
     "metadata": {},
     "output_type": "execute_result"
    }
   ],
   "source": [
    "          [e + w + r + d for (e,w,r,d) in zip(aes_encrypt_energy, aes_flash_write_energy, aes_flash_read_energy, aes_decrypt_energy)],\n",
    "          [e + w + r + d for (e,w,r,d) in zip(aes_encrypt_time_s, aes_flash_write_time_s, aes_flash_read_time_s, aes_decrypt_time_s)]"
   ]
  },
  {
   "cell_type": "code",
   "execution_count": null,
   "metadata": {},
   "outputs": [],
   "source": []
  },
  {
   "cell_type": "code",
   "execution_count": null,
   "metadata": {},
   "outputs": [],
   "source": []
  }
 ],
 "metadata": {
  "kernelspec": {
   "display_name": "Python 3",
   "language": "python",
   "name": "python3"
  },
  "language_info": {
   "codemirror_mode": {
    "name": "ipython",
    "version": 3
   },
   "file_extension": ".py",
   "mimetype": "text/x-python",
   "name": "python",
   "nbconvert_exporter": "python",
   "pygments_lexer": "ipython3",
   "version": "3.8.1"
  }
 },
 "nbformat": 4,
 "nbformat_minor": 4
}

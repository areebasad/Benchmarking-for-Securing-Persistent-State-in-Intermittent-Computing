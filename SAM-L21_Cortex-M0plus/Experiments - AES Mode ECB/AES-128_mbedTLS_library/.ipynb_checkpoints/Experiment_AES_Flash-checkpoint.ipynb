{
 "cells": [
  {
   "cell_type": "markdown",
   "metadata": {},
   "source": [
    "## Import Libraries"
   ]
  },
  {
   "cell_type": "code",
   "execution_count": 1,
   "metadata": {},
   "outputs": [],
   "source": [
    "# %matplotlib ipympl\n",
    "# %matplotlib inline\n",
    "%matplotlib wx"
   ]
  },
  {
   "cell_type": "code",
   "execution_count": 2,
   "metadata": {},
   "outputs": [],
   "source": [
    "import matplotlib.pyplot as plt\n",
    "plt.ion()"
   ]
  },
  {
   "cell_type": "code",
   "execution_count": 3,
   "metadata": {},
   "outputs": [],
   "source": [
    "from pydgilib_extra import *\n",
    "from atprogram import atprogram"
   ]
  },
  {
   "cell_type": "code",
   "execution_count": 4,
   "metadata": {},
   "outputs": [],
   "source": [
    "from os import getcwd, path, pardir\n",
    "import pickle"
   ]
  },
  {
   "cell_type": "markdown",
   "metadata": {},
   "source": [
    "## Compile and program project"
   ]
  },
  {
   "cell_type": "code",
   "execution_count": 5,
   "metadata": {},
   "outputs": [
    {
     "data": {
      "text/plain": [
       "'./AES-128_mbedTLS_library'"
      ]
     },
     "execution_count": 5,
     "metadata": {},
     "output_type": "execute_result"
    }
   ],
   "source": [
    "project_path = path.curdir + \"/\" + \"AES-128_mbedTLS_library\"\n",
    "project_name =  \"AES-128_mbedTLS_library\"\n",
    "device_name = \"ATSAML21J18B\"\n",
    "project_path "
   ]
  },
  {
   "cell_type": "code",
   "execution_count": null,
   "metadata": {},
   "outputs": [],
   "source": [
    "atprogram.atprogram(project_path, device_name = device_name ,verbose=3)"
   ]
  },
  {
   "cell_type": "code",
   "execution_count": 69,
   "metadata": {},
   "outputs": [],
   "source": [
    "#atprogram(path.abspath(path.join(*project_path)), verbose=2)"
   ]
  },
  {
   "cell_type": "code",
   "execution_count": 70,
   "metadata": {},
   "outputs": [
    {
     "name": "stdout",
     "output_type": "stream",
     "text": [
      "{'text': 17200, 'data': 136, 'bss': 8832, 'dec': 26168, 'hex': 26168, 'filename': 'AES-128_mbedTLS_library.elf'}\n"
     ]
    },
    {
     "data": {
      "text/plain": [
       "{'text': 17200,\n",
       " 'data': 136,\n",
       " 'bss': 8832,\n",
       " 'dec': 26168,\n",
       " 'hex': 26168,\n",
       " 'filename': 'AES-128_mbedTLS_library.elf'}"
      ]
     },
     "execution_count": 70,
     "metadata": {},
     "output_type": "execute_result"
    }
   ],
   "source": [
    "atprogram.get_project_size(project_path, device_name=device_name, verbose=2)"
   ]
  },
  {
   "cell_type": "code",
   "execution_count": null,
   "metadata": {},
   "outputs": [],
   "source": []
  },
  {
   "cell_type": "markdown",
   "metadata": {},
   "source": [
    "## Data Logging"
   ]
  },
  {
   "cell_type": "code",
   "execution_count": 71,
   "metadata": {},
   "outputs": [],
   "source": [
    "live_plot = False"
   ]
  },
  {
   "cell_type": "markdown",
   "metadata": {},
   "source": [
    "Create a figure for the plot."
   ]
  },
  {
   "cell_type": "code",
   "execution_count": 72,
   "metadata": {},
   "outputs": [],
   "source": [
    "if live_plot:\n",
    "    fig = plt.figure(figsize=(10, 6))\n",
    "    fig.show()"
   ]
  },
  {
   "cell_type": "markdown",
   "metadata": {},
   "source": [
    "Create the configuration dictionary for `DGILibExtra`."
   ]
  },
  {
   "cell_type": "code",
   "execution_count": 73,
   "metadata": {},
   "outputs": [],
   "source": [
    "config_dict = {\n",
    "    \"loggers\": [LOGGER_OBJECT, LOGGER_CSV],\n",
    "    \"file_name_base\": \"experiment_aes_flash\"\n",
    "}\n",
    "config_dict_plot = {\n",
    "    \"loggers\": [LOGGER_OBJECT, LOGGER_PLOT, LOGGER_CSV],\n",
    "    \"plot_pins\": [False, False, True, True],\n",
    "    \"plot_pins_method\": \"line\",\n",
    "    \"plot_xmax\": 5,\n",
    "    \"window_title\": \"Experiment AES-128 Flash\",\n",
    "}"
   ]
  },
  {
   "cell_type": "markdown",
   "metadata": {},
   "source": [
    "Stop criteria to pass to the logger:"
   ]
  },
  {
   "cell_type": "code",
   "execution_count": 74,
   "metadata": {},
   "outputs": [],
   "source": [
    "def stop_fn(logger_data):\n",
    "    return all(logger_data.gpio.values[-1])"
   ]
  },
  {
   "cell_type": "code",
   "execution_count": 75,
   "metadata": {},
   "outputs": [],
   "source": [
    "#with DGILib() as dgilib:\n",
    "#     dgilib.get_major_version()"
   ]
  },
  {
   "cell_type": "markdown",
   "metadata": {},
   "source": [
    "Perform the measurement."
   ]
  },
  {
   "cell_type": "code",
   "execution_count": 76,
   "metadata": {},
   "outputs": [
    {
     "name": "stdout",
     "output_type": "stream",
     "text": [
      "1\n"
     ]
    }
   ],
   "source": [
    "data = []\n",
    "cd = config_dict.copy()\n",
    "if live_plot:\n",
    "    fig.clf()\n",
    "    for ax in fig.get_axes():\n",
    "        ax.cla()\n",
    "    \n",
    "    cd.update(config_dict_plot)\n",
    "    cd[\"fig\"] = fig\n",
    "    \n",
    "with DGILibExtra(**cd) as dgilib:\n",
    "    dgilib.device_reset()\n",
    "    dgilib.logger.log(1000,stop_fn)\n",
    "    data = dgilib.data"
   ]
  },
  {
   "cell_type": "code",
   "execution_count": 77,
   "metadata": {},
   "outputs": [
    {
     "data": {
      "text/plain": [
       "{48: 6005, 256: 1650000}"
      ]
     },
     "execution_count": 77,
     "metadata": {},
     "output_type": "execute_result"
    }
   ],
   "source": [
    "data.length()"
   ]
  },
  {
   "cell_type": "code",
   "execution_count": 78,
   "metadata": {},
   "outputs": [
    {
     "name": "stdout",
     "output_type": "stream",
     "text": [
      "Interfaces:\n",
      "\t  48:   gpio,    samples:    6005\n",
      "\t 256:   power,   samples: 1650000\n",
      "\n"
     ]
    }
   ],
   "source": [
    "print(data)"
   ]
  },
  {
   "cell_type": "markdown",
   "metadata": {},
   "source": [
    "# Store Data"
   ]
  },
  {
   "cell_type": "code",
   "execution_count": 79,
   "metadata": {},
   "outputs": [],
   "source": [
    "import pickle"
   ]
  },
  {
   "cell_type": "code",
   "execution_count": 80,
   "metadata": {},
   "outputs": [],
   "source": [
    "pickle.dump(data, open(\"aes_flash_logger_data.p\", \"wb\"))"
   ]
  },
  {
   "cell_type": "markdown",
   "metadata": {},
   "source": [
    "# Load Data"
   ]
  },
  {
   "cell_type": "code",
   "execution_count": 81,
   "metadata": {},
   "outputs": [],
   "source": [
    "data = pickle.load(open(\"aes_flash_logger_data.p\", \"rb\"))"
   ]
  },
  {
   "cell_type": "code",
   "execution_count": 82,
   "metadata": {},
   "outputs": [],
   "source": [
    "#iteration = 0\n",
    "#name = \"AES-128_Flash\"\n",
    "#data = pickle.load(open(path.join(path.pardir, path.pardir, f\"{name}_{iteration}.p\"), \"rb\"))"
   ]
  },
  {
   "cell_type": "markdown",
   "metadata": {},
   "source": [
    "## Analysis"
   ]
  },
  {
   "cell_type": "markdown",
   "metadata": {},
   "source": [
    "Create Stop Function to stop parsing the data when all pins are high."
   ]
  },
  {
   "cell_type": "code",
   "execution_count": 83,
   "metadata": {},
   "outputs": [],
   "source": [
    "def stop_function(pin_values):\n",
    "    return all(pin_values)"
   ]
  },
  {
   "cell_type": "markdown",
   "metadata": {},
   "source": [
    "Parse the data."
   ]
  },
  {
   "cell_type": "code",
   "execution_count": 84,
   "metadata": {},
   "outputs": [],
   "source": [
    "aes_charge, aes_time = power_and_time_per_pulse(data, 2, stop_function=stop_function)"
   ]
  },
  {
   "cell_type": "code",
   "execution_count": 85,
   "metadata": {},
   "outputs": [],
   "source": [
    "flash_charge, flash_time = power_and_time_per_pulse(data, 3, stop_function=stop_function)"
   ]
  },
  {
   "cell_type": "code",
   "execution_count": 86,
   "metadata": {},
   "outputs": [
    {
     "name": "stdout",
     "output_type": "stream",
     "text": [
      "750 750 750 750\n"
     ]
    }
   ],
   "source": [
    "print(len(aes_charge), len(aes_time), len(flash_charge), len(flash_time))\n",
    "# cutoff = min(len(aes_charge), len(aes_time), len(flash_charge), len(flash_time))\n",
    "# aes_charge = aes_charge[:cutoff]\n",
    "# aes_time = aes_time[:cutoff]\n",
    "# flash_charge = flash_charge[:cutoff]\n",
    "# flash_time = flash_time[:cutoff]"
   ]
  },
  {
   "cell_type": "code",
   "execution_count": 87,
   "metadata": {},
   "outputs": [],
   "source": [
    "# length = len(aes_charge)\n",
    "# assert length == len(aes_time)\n",
    "# assert length == len(flash_charge)\n",
    "# assert length == len(flash_time)\n",
    "# print(length)"
   ]
  },
  {
   "cell_type": "code",
   "execution_count": 88,
   "metadata": {},
   "outputs": [],
   "source": [
    "aes_encrypt_charge = aes_charge[0::2]\n",
    "aes_decrypt_charge = aes_charge[1::2]\n",
    "aes_encrypt_time = aes_time[0::2]\n",
    "aes_decrypt_time = aes_time[1::2]"
   ]
  },
  {
   "cell_type": "code",
   "execution_count": 89,
   "metadata": {},
   "outputs": [],
   "source": [
    "aes_flash_write_charge = flash_charge[0::2]\n",
    "aes_flash_read_charge = flash_charge[1::2]\n",
    "aes_flash_write_time = flash_time[0::2]\n",
    "aes_flash_read_time = flash_time[1::2]"
   ]
  },
  {
   "cell_type": "code",
   "execution_count": 90,
   "metadata": {},
   "outputs": [
    {
     "data": {
      "text/plain": [
       "(375, 375, 375, 375, 375, 375, 375, 375)"
      ]
     },
     "execution_count": 90,
     "metadata": {},
     "output_type": "execute_result"
    }
   ],
   "source": [
    "len(aes_encrypt_charge), len(aes_decrypt_charge), len(aes_encrypt_time), len(aes_decrypt_time), len(aes_flash_write_charge), len(aes_flash_read_charge), len(aes_flash_write_time), len(aes_flash_read_time)"
   ]
  },
  {
   "cell_type": "code",
   "execution_count": 91,
   "metadata": {},
   "outputs": [],
   "source": [
    "drop = 0\n",
    "cutoff = min(len(aes_encrypt_charge), len(aes_decrypt_charge), len(aes_encrypt_time), len(aes_decrypt_time), len(aes_flash_write_charge), len(aes_flash_read_charge), len(aes_flash_write_time), len(aes_flash_read_time)) - drop\n",
    "aes_encrypt_charge = aes_encrypt_charge[:cutoff]\n",
    "aes_decrypt_charge = aes_decrypt_charge[:cutoff]\n",
    "aes_encrypt_time = aes_encrypt_time[:cutoff]\n",
    "aes_decrypt_time = aes_decrypt_time[:cutoff]\n",
    "aes_flash_write_charge = aes_flash_write_charge[:cutoff]\n",
    "aes_flash_read_charge = aes_flash_read_charge[:cutoff]\n",
    "aes_flash_write_time = aes_flash_write_time[:cutoff]\n",
    "aes_flash_read_time = aes_flash_read_time[:cutoff]"
   ]
  },
  {
   "cell_type": "code",
   "execution_count": 92,
   "metadata": {},
   "outputs": [
    {
     "name": "stdout",
     "output_type": "stream",
     "text": [
      "375\n"
     ]
    }
   ],
   "source": [
    "length = len(aes_encrypt_charge)\n",
    "assert length == len(aes_decrypt_charge)\n",
    "assert length == len(aes_encrypt_time)\n",
    "assert length == len(aes_decrypt_time)\n",
    "assert length == len(aes_flash_write_charge)\n",
    "assert length == len(aes_flash_read_charge)\n",
    "assert length == len(aes_flash_write_time)\n",
    "assert length == len(aes_flash_read_time)\n",
    "print(length)"
   ]
  },
  {
   "cell_type": "markdown",
   "metadata": {},
   "source": [
    "# Convert to Joule"
   ]
  },
  {
   "cell_type": "code",
   "execution_count": 93,
   "metadata": {},
   "outputs": [],
   "source": [
    "voltage = 3.31\n",
    "j_scale = 1e3 # m\n",
    "t_scale = 1e3 # m\n",
    "model_j_scale = 1e6 # n\n",
    "model_t_scale = 1e3 # u\n",
    "\n",
    "experiment_name = project_name"
   ]
  },
  {
   "cell_type": "code",
   "execution_count": 94,
   "metadata": {},
   "outputs": [],
   "source": [
    "aes_encrypt_energy = aes_encrypt_charge[:cutoff]\n",
    "aes_flash_write_energy = aes_flash_write_charge[:cutoff]\n",
    "aes_flash_read_energy = aes_flash_read_charge[:cutoff]\n",
    "aes_decrypt_energy = aes_decrypt_charge[:cutoff]\n",
    "aes_encrypt_time_s = aes_encrypt_time[:cutoff]\n",
    "aes_flash_write_time_s = aes_flash_write_time[:cutoff]\n",
    "aes_flash_read_time_s = aes_flash_read_time[:cutoff]\n",
    "aes_decrypt_time_s = aes_decrypt_time[:cutoff]\n",
    "\n",
    "for i in range(len(aes_encrypt_energy)):\n",
    "    aes_encrypt_energy[i] = aes_encrypt_energy[i] * voltage * j_scale\n",
    "for i in range(len(aes_flash_write_energy)):\n",
    "    aes_flash_write_energy[i] = aes_flash_write_energy[i] * voltage * j_scale\n",
    "for i in range(len(aes_flash_read_energy)):\n",
    "    aes_flash_read_energy[i] = aes_flash_read_energy[i] * voltage * j_scale\n",
    "for i in range(len(aes_decrypt_energy)):\n",
    "    aes_decrypt_energy[i] = aes_decrypt_energy[i] * voltage * j_scale\n",
    "    \n",
    "for i in range(len(aes_encrypt_time_s)):\n",
    "    aes_encrypt_time_s[i] = aes_encrypt_time_s[i] * t_scale\n",
    "for i in range(len(aes_flash_write_time_s)):\n",
    "    aes_flash_write_time_s[i] = aes_flash_write_time_s[i] * t_scale\n",
    "for i in range(len(aes_flash_read_time_s)):\n",
    "    aes_flash_read_time_s[i] = aes_flash_read_time_s[i] * t_scale\n",
    "for i in range(len(aes_decrypt_time_s)):\n",
    "    aes_decrypt_time_s[i] = aes_decrypt_time_s[i] * t_scale"
   ]
  },
  {
   "cell_type": "code",
   "execution_count": 95,
   "metadata": {},
   "outputs": [
    {
     "name": "stdout",
     "output_type": "stream",
     "text": [
      "MAX_NUM_BYTES: 6000\n"
     ]
    }
   ],
   "source": [
    "MBEDTLS_AES_BLOCK_SIZE = 16\n",
    "STEP_SIZE = MBEDTLS_AES_BLOCK_SIZE\n",
    "MIN_NUM_BYTES = STEP_SIZE\n",
    "num_bytes = range(MIN_NUM_BYTES, MIN_NUM_BYTES + STEP_SIZE * len(aes_encrypt_energy), STEP_SIZE)\n",
    "print(f\"MAX_NUM_BYTES: {num_bytes[-1]}\")"
   ]
  },
  {
   "cell_type": "code",
   "execution_count": 96,
   "metadata": {},
   "outputs": [],
   "source": [
    "from lmfit import Model\n",
    "\n",
    "def line(x, slope, intercept):\n",
    "    \"\"\"a line\"\"\"\n",
    "    return [slope*i + intercept for i in x]\n",
    "\n",
    "mod = Model(line)\n",
    "pars = mod.make_params(slope=0, intercept=1)\n",
    "# pars['intercept'].set(min=0)"
   ]
  },
  {
   "cell_type": "code",
   "execution_count": 97,
   "metadata": {},
   "outputs": [
    {
     "name": "stdout",
     "output_type": "stream",
     "text": [
      "[[Model]]\n",
      "    Model(line)\n",
      "[[Fit Statistics]]\n",
      "    # fitting method   = leastsq\n",
      "    # function evals   = 7\n",
      "    # data points      = 375\n",
      "    # variables        = 2\n",
      "    chi-square         = 1.5766e-05\n",
      "    reduced chi-square = 4.2268e-08\n",
      "    Akaike info crit   = -6365.21756\n",
      "    Bayesian info crit = -6357.36371\n",
      "[[Variables]]\n",
      "    slope:      6.9773e-05 +/- 6.1296e-09 (0.01%) (init = 0)\n",
      "    intercept: -1.9002e-04 +/- 2.1276e-05 (11.20%) (init = 1)\n",
      "[[Correlations]] (unreported correlations are < 0.100)\n",
      "    C(slope, intercept) = -0.867\n",
      "[[Model]]\n",
      "    Model(line)\n",
      "[[Fit Statistics]]\n",
      "    # fitting method   = leastsq\n",
      "    # function evals   = 6\n",
      "    # data points      = 375\n",
      "    # variables        = 2\n",
      "    chi-square         = 0.01485206\n",
      "    reduced chi-square = 3.9818e-05\n",
      "    Akaike info crit   = -3797.20361\n",
      "    Bayesian info crit = -3789.34976\n",
      "[[Variables]]\n",
      "    slope:      1.1001e-04 +/- 1.8813e-07 (0.17%) (init = 0)\n",
      "    intercept:  0.01461279 +/- 6.5301e-04 (4.47%) (init = 1)\n",
      "[[Correlations]] (unreported correlations are < 0.100)\n",
      "    C(slope, intercept) = -0.867\n",
      "[[Model]]\n",
      "    Model(line)\n",
      "[[Fit Statistics]]\n",
      "    # fitting method   = leastsq\n",
      "    # function evals   = 7\n",
      "    # data points      = 375\n",
      "    # variables        = 2\n",
      "    chi-square         = 9.0562e-07\n",
      "    reduced chi-square = 2.4279e-09\n",
      "    Akaike info crit   = -7436.59107\n",
      "    Bayesian info crit = -7428.73722\n",
      "[[Variables]]\n",
      "    slope:      3.3328e-06 +/- 1.4690e-09 (0.04%) (init = 0)\n",
      "    intercept:  3.6718e-06 +/- 5.0991e-06 (138.87%) (init = 1)\n",
      "[[Correlations]] (unreported correlations are < 0.100)\n",
      "    C(slope, intercept) = -0.867\n",
      "[[Model]]\n",
      "    Model(line)\n",
      "[[Fit Statistics]]\n",
      "    # fitting method   = leastsq\n",
      "    # function evals   = 6\n",
      "    # data points      = 375\n",
      "    # variables        = 2\n",
      "    chi-square         = 0.00285170\n",
      "    reduced chi-square = 7.6453e-06\n",
      "    Akaike info crit   = -4416.03763\n",
      "    Bayesian info crit = -4408.18377\n",
      "[[Variables]]\n",
      "    slope:      7.3838e-05 +/- 8.2437e-08 (0.11%) (init = 0)\n",
      "    intercept:  3.8454e-04 +/- 2.8614e-04 (74.41%) (init = 1)\n",
      "[[Correlations]] (unreported correlations are < 0.100)\n",
      "    C(slope, intercept) = -0.867\n",
      "[[Model]]\n",
      "    Model(line)\n",
      "[[Fit Statistics]]\n",
      "    # fitting method   = leastsq\n",
      "    # function evals   = 7\n",
      "    # data points      = 375\n",
      "    # variables        = 2\n",
      "    chi-square         = 0.29924681\n",
      "    reduced chi-square = 8.0227e-04\n",
      "    Akaike info crit   = -2671.02973\n",
      "    Bayesian info crit = -2663.17588\n",
      "[[Variables]]\n",
      "    slope:      0.03035429 +/- 8.4448e-07 (0.00%) (init = 0)\n",
      "    intercept:  0.01178546 +/- 0.00293123 (24.87%) (init = 1)\n",
      "[[Correlations]] (unreported correlations are < 0.100)\n",
      "    C(slope, intercept) = -0.867\n",
      "[[Model]]\n",
      "    Model(line)\n",
      "[[Fit Statistics]]\n",
      "    # fitting method   = leastsq\n",
      "    # function evals   = 6\n",
      "    # data points      = 375\n",
      "    # variables        = 2\n",
      "    chi-square         = 398.386494\n",
      "    reduced chi-square = 1.06806031\n",
      "    Akaike info crit   = 26.6862249\n",
      "    Bayesian info crit = 34.5400770\n",
      "[[Variables]]\n",
      "    slope:      0.02097915 +/- 3.0812e-05 (0.15%) (init = 0)\n",
      "    intercept:  2.20746925 +/- 0.10695015 (4.84%) (init = 1)\n",
      "[[Correlations]] (unreported correlations are < 0.100)\n",
      "    C(slope, intercept) = -0.867\n",
      "[[Model]]\n",
      "    Model(line)\n",
      "[[Fit Statistics]]\n",
      "    # fitting method   = leastsq\n",
      "    # function evals   = 6\n",
      "    # data points      = 375\n",
      "    # variables        = 2\n",
      "    chi-square         = 0.27437100\n",
      "    reduced chi-square = 7.3558e-04\n",
      "    Akaike info crit   = -2703.57503\n",
      "    Bayesian info crit = -2695.72118\n",
      "[[Variables]]\n",
      "    slope:      0.00212560 +/- 8.0861e-07 (0.04%) (init = 0)\n",
      "    intercept:  0.02405912 +/- 0.00280672 (11.67%) (init = 1)\n",
      "[[Correlations]] (unreported correlations are < 0.100)\n",
      "    C(slope, intercept) = -0.867\n",
      "[[Model]]\n",
      "    Model(line)\n",
      "[[Fit Statistics]]\n",
      "    # fitting method   = leastsq\n",
      "    # function evals   = 10\n",
      "    # data points      = 375\n",
      "    # variables        = 2\n",
      "    chi-square         = 568.918204\n",
      "    reduced chi-square = 1.52524988\n",
      "    Akaike info crit   = 160.303991\n",
      "    Bayesian info crit = 168.157843\n",
      "[[Variables]]\n",
      "    slope:      0.03324355 +/- 3.6821e-05 (0.11%) (init = 0)\n",
      "    intercept:  0.14584945 +/- 0.12780681 (87.63%) (init = 1)\n",
      "[[Correlations]] (unreported correlations are < 0.100)\n",
      "    C(slope, intercept) = -0.867\n",
      "[[Model]]\n",
      "    Model(line)\n",
      "[[Fit Statistics]]\n",
      "    # fitting method   = leastsq\n",
      "    # function evals   = 6\n",
      "    # data points      = 375\n",
      "    # variables        = 2\n",
      "    chi-square         = 0.01818029\n",
      "    reduced chi-square = 4.8741e-05\n",
      "    Akaike info crit   = -3721.37867\n",
      "    Bayesian info crit = -3713.52482\n",
      "[[Variables]]\n",
      "    slope:      2.5695e-04 +/- 2.0815e-07 (0.08%) (init = 0)\n",
      "    intercept:  0.01481098 +/- 7.2249e-04 (4.88%) (init = 1)\n",
      "[[Correlations]] (unreported correlations are < 0.100)\n",
      "    C(slope, intercept) = -0.867\n",
      "[[Model]]\n",
      "    Model(line)\n",
      "[[Fit Statistics]]\n",
      "    # fitting method   = leastsq\n",
      "    # function evals   = 10\n",
      "    # data points      = 375\n",
      "    # variables        = 2\n",
      "    chi-square         = 989.054145\n",
      "    reduced chi-square = 2.65161969\n",
      "    Akaike info crit   = 367.683644\n",
      "    Bayesian info crit = 375.537496\n",
      "[[Variables]]\n",
      "    slope:      0.08670258 +/- 4.8549e-05 (0.06%) (init = 0)\n",
      "    intercept:  2.38916372 +/- 0.16851520 (7.05%) (init = 1)\n",
      "[[Correlations]] (unreported correlations are < 0.100)\n",
      "    C(slope, intercept) = -0.867\n"
     ]
    }
   ],
   "source": [
    "results = []\n",
    "ylabels = (['Energy [mJ]'] * 2 + ['Time [ms]'] * 2) * 2 + ['Energy [mJ]'] + ['Time [ms]']\n",
    "parameter_names = [\n",
    "    'Encrypt Energy',\n",
    "    'Flash Write Energy',\n",
    "    'Flash Read Energy',\n",
    "    'Decrypt Energy',\n",
    "    'Encrypt Time',\n",
    "    'Flash Write Time',\n",
    "    'Flash Read Time',\n",
    "    'Decrypt Time',\n",
    "    'Total Energy',\n",
    "    'Total Time',\n",
    "]\n",
    "for y in [aes_encrypt_energy, aes_flash_write_energy, aes_flash_read_energy, aes_decrypt_energy, aes_encrypt_time_s, aes_flash_write_time_s, aes_flash_read_time_s, aes_decrypt_time_s,\n",
    "          [e + w + r + d for (e,w,r,d) in zip(aes_encrypt_energy, aes_flash_write_energy, aes_flash_read_energy, aes_decrypt_energy)],\n",
    "          [e + w + r + d for (e,w,r,d) in zip(aes_encrypt_time_s, aes_flash_write_time_s, aes_flash_read_time_s, aes_decrypt_time_s)]]:\n",
    "    result = mod.fit(y, pars, x=num_bytes)\n",
    "    print(result.fit_report())\n",
    "    fig, grid = result.plot(\n",
    "        xlabel='Checkpoint Size [Bytes]',\n",
    "        ylabel=ylabels[len(results)])\n",
    "    fig.tight_layout(rect=(0.05, 0.05, 1, 1))\n",
    "    fig.set_size_inches(5, 4.5, forward=True)\n",
    "    fig.canvas.set_window_title(\n",
    "        f\"Residuals of {experiment_name} {parameter_names[len(results)]}\")\n",
    "    fig.savefig( f\"Residuals of {experiment_name} {parameter_names[len(results)]}\")\n",
    "    fig.show()\n",
    "    results.append(result)"
   ]
  },
  {
   "cell_type": "code",
   "execution_count": 98,
   "metadata": {},
   "outputs": [],
   "source": [
    "fig2 = plt.figure(figsize=(8, 6))\n",
    "fig2.canvas.set_window_title(f\"Analysis {experiment_name}\")"
   ]
  },
  {
   "cell_type": "code",
   "execution_count": 99,
   "metadata": {},
   "outputs": [],
   "source": [
    "charge_color = 'r'\n",
    "time_color = 'b'"
   ]
  },
  {
   "cell_type": "code",
   "execution_count": 100,
   "metadata": {},
   "outputs": [],
   "source": [
    "fig2.clf()\n",
    "# fig2.suptitle(\"Energy analysis of AES\")\n",
    "ax1 = fig2.add_subplot(1, 1, 1)\n",
    "ax2 = ax1.twinx()\n",
    "ax1.set_xlabel('Checkpoint Size [Bytes]')\n",
    "ax1.set_ylabel('Energy [mJ]', color=charge_color)\n",
    "ax2.set_ylabel('Time [ms]', color=time_color)\n",
    "ax1.tick_params('y', colors=charge_color)\n",
    "ax2.tick_params('y', colors=time_color)"
   ]
  },
  {
   "cell_type": "code",
   "execution_count": 101,
   "metadata": {},
   "outputs": [],
   "source": [
    "lines = []\n",
    "lines += ax1.plot(num_bytes, aes_encrypt_energy, charge_color+'-', label=f'{parameter_names[len(lines)]}')\n",
    "lines += ax1.plot(num_bytes, aes_flash_write_energy, charge_color+'-.', label=f'{parameter_names[len(lines)]}')\n",
    "lines += ax1.plot(num_bytes, aes_flash_read_energy, charge_color+':', label=f'{parameter_names[len(lines)]}')\n",
    "lines += ax1.plot(num_bytes, aes_decrypt_energy, charge_color+'--', label=f'{parameter_names[len(lines)]}')\n",
    "lines += ax2.plot(num_bytes, aes_encrypt_time_s, time_color+'-', label=f'{parameter_names[len(lines)]}')\n",
    "lines += ax2.plot(num_bytes, aes_flash_write_time_s, time_color+'-.', label=f'{parameter_names[len(lines)]}')\n",
    "lines += ax2.plot(num_bytes, aes_flash_read_time_s, time_color+':', label=f'{parameter_names[len(lines)]}')\n",
    "lines += ax2.plot(num_bytes, aes_decrypt_time_s, time_color+'--', label=f'{parameter_names[len(lines)]}')\n",
    "ax1.legend(handles=lines)\n",
    "ax1.set_title(\n",
    "    f\"{parameter_names[0]}: Slope {results[0].params['slope'].value * model_j_scale:.04} nJ/B, Intercept {results[0].params['intercept'].value * model_j_scale:.04} nJ\\n\" +\n",
    "    f\"{parameter_names[1]}: Slope {results[1].params['slope'].value * model_j_scale:.04} nJ/B, Intercept {results[1].params['intercept'].value * model_j_scale:.04} nJ\\n\" +\n",
    "    f\"{parameter_names[2]}: Slope {results[2].params['slope'].value * model_j_scale:.04} nJ/B, Intercept {results[2].params['intercept'].value * model_j_scale:.04} nJ\\n\" +\n",
    "    f\"{parameter_names[3]}: Slope {results[3].params['slope'].value * model_j_scale:.04} nJ/B, Intercept {results[3].params['intercept'].value * model_j_scale:.04} nJ\\n\" +\n",
    "    f\"{parameter_names[4]}: Slope {results[4].params['slope'].value * model_t_scale:.04} $\\mu$s/B, Intercept {results[4].params['intercept'].value * model_t_scale:.04} $\\mu$s\\n\" +\n",
    "    f\"{parameter_names[5]}: Slope {results[5].params['slope'].value * model_t_scale:.04} $\\mu$s/B, Intercept {results[5].params['intercept'].value * model_t_scale:.04} $\\mu$s\\n\" +\n",
    "    f\"{parameter_names[6]}: Slope {results[6].params['slope'].value * model_t_scale:.04} $\\mu$s/B, Intercept {results[6].params['intercept'].value * model_t_scale:.04} $\\mu$s\\n\" +\n",
    "    f\"{parameter_names[7]}: Slope {results[7].params['slope'].value * model_t_scale:.04} $\\mu$s/B, Intercept {results[7].params['intercept'].value * model_t_scale:.04} $\\mu$s\\n\" +\n",
    "    f\"{parameter_names[8]}: Slope {results[8].params['slope'].value * model_j_scale:.04} nJ/B, Intercept {results[8].params['intercept'].value * model_j_scale:.04} nJ\\n\" +\n",
    "    f\"{parameter_names[9]}: Slope {results[9].params['slope'].value * model_t_scale:.04} $\\mu$s/B, Intercept {results[9].params['intercept'].value * model_t_scale:.04} $\\mu$s\\n\")\n",
    "fig2.tight_layout()\n",
    "fig2.savefig(f\"Analysis {experiment_name}\")\n",
    "fig2.show()"
   ]
  },
  {
   "cell_type": "code",
   "execution_count": 102,
   "metadata": {},
   "outputs": [
    {
     "name": "stdout",
     "output_type": "stream",
     "text": [
      "Encrypt Energy: Slope 69.772733053734455666 nJ/B, Intercept -190.02086137986930225 nJ\n",
      "Flash Write Energy: Slope 110.01048353959966164 nJ/B, Intercept 14612.790504271999453 nJ\n",
      "Flash Read Energy: Slope 3.3328165474835733662 nJ/B, Intercept 3.6718440539207364282 nJ\n",
      "Decrypt Energy: Slope 73.837811804316430653 nJ/B, Intercept 384.53681269479125149 nJ\n",
      "Encrypt Time: Slope 30.35428616033478022 $\\mu$s/B, Intercept 11.785459243416894992 $\\mu$s\n",
      "Flash Write Time: Slope 20.979152056889336819 $\\mu$s/B, Intercept 2207.4692533722663939 $\\mu$s\n",
      "Flash Read Time: Slope 2.1255951639520764829 $\\mu$s/B, Intercept 24.059115021936918311 $\\mu$s\n",
      "Decrypt Time: Slope 33.243549511039383049 $\\mu$s/B, Intercept 145.84944872945325756 $\\mu$s\n",
      "Total Energy: Slope 256.95384494513302798 nJ/B, Intercept 14810.978306188715578 nJ\n",
      "Total Time: Slope 86.702582781450573179 $\\mu$s/B, Intercept 2389.1637206694585984 $\\mu$s\n",
      "\n"
     ]
    }
   ],
   "source": [
    "print(\n",
    "    f\"{parameter_names[0]}: Slope {results[0].params['slope'].value * model_j_scale:.020} nJ/B, Intercept {results[0].params['intercept'].value * model_j_scale:.020} nJ\\n\" +\n",
    "    f\"{parameter_names[1]}: Slope {results[1].params['slope'].value * model_j_scale:.020} nJ/B, Intercept {results[1].params['intercept'].value * model_j_scale:.020} nJ\\n\" +\n",
    "    f\"{parameter_names[2]}: Slope {results[2].params['slope'].value * model_j_scale:.020} nJ/B, Intercept {results[2].params['intercept'].value * model_j_scale:.020} nJ\\n\" +\n",
    "    f\"{parameter_names[3]}: Slope {results[3].params['slope'].value * model_j_scale:.020} nJ/B, Intercept {results[3].params['intercept'].value * model_j_scale:.020} nJ\\n\" +\n",
    "    f\"{parameter_names[4]}: Slope {results[4].params['slope'].value * model_t_scale:.020} $\\mu$s/B, Intercept {results[4].params['intercept'].value * model_t_scale:.020} $\\mu$s\\n\" +\n",
    "    f\"{parameter_names[5]}: Slope {results[5].params['slope'].value * model_t_scale:.020} $\\mu$s/B, Intercept {results[5].params['intercept'].value * model_t_scale:.020} $\\mu$s\\n\" +\n",
    "    f\"{parameter_names[6]}: Slope {results[6].params['slope'].value * model_t_scale:.020} $\\mu$s/B, Intercept {results[6].params['intercept'].value * model_t_scale:.020} $\\mu$s\\n\" +\n",
    "    f\"{parameter_names[7]}: Slope {results[7].params['slope'].value * model_t_scale:.020} $\\mu$s/B, Intercept {results[7].params['intercept'].value * model_t_scale:.020} $\\mu$s\\n\" +\n",
    "    f\"{parameter_names[8]}: Slope {results[8].params['slope'].value * model_j_scale:.020} nJ/B, Intercept {results[8].params['intercept'].value * model_j_scale:.020} nJ\\n\" +\n",
    "    f\"{parameter_names[9]}: Slope {results[9].params['slope'].value * model_t_scale:.020} $\\mu$s/B, Intercept {results[9].params['intercept'].value * model_t_scale:.020} $\\mu$s\\n\"\n",
    ")"
   ]
  },
  {
   "cell_type": "code",
   "execution_count": 103,
   "metadata": {},
   "outputs": [],
   "source": [
    "# Save Charge amount list into pickle file\n",
    "import pickle\n",
    "pickle.dump(aes_encrypt_energy, open(\"aes_flash_encrypt_energy_mJ.p\", \"wb\"))\n",
    "pickle.dump(aes_decrypt_energy, open(\"aes_flash_decrypt_energy_mJ.p\", \"wb\"))\n",
    "pickle.dump(aes_flash_write_energy, open(\"aes_flash_write_energy_mJ.p\", \"wb\"))\n",
    "pickle.dump(aes_flash_read_energy, open(\"aes_flash_read_energy_mJ.p\", \"wb\"))\n",
    "pickle.dump(aes_encrypt_time_s, open(\"aes_flash_encrypt_time_ms.p\", \"wb\"))\n",
    "pickle.dump(aes_decrypt_time_s, open(\"aes_flash_decrypt_time_ms.p\", \"wb\"))\n",
    "pickle.dump(aes_flash_write_time_s, open(\"aes_flash_write_time_ms.p\", \"wb\"))\n",
    "pickle.dump(aes_flash_read_time_s, open(\"aes_flash_read_time_ms.p\", \"wb\"))"
   ]
  },
  {
   "cell_type": "code",
   "execution_count": 104,
   "metadata": {},
   "outputs": [
    {
     "name": "stdout",
     "output_type": "stream",
     "text": [
      "375 6000\n",
      "375 6000\n",
      "375 6000\n",
      "375 6000\n",
      "375 6000\n",
      "375 6000\n",
      "375 6000\n",
      "375 6000\n"
     ]
    }
   ],
   "source": [
    "aes = [aes_encrypt_energy, aes_flash_write_energy, aes_flash_read_energy, aes_decrypt_energy, aes_encrypt_time_s, aes_flash_write_time_s, aes_flash_read_time_s, aes_decrypt_time_s]\n",
    "for i in aes:\n",
    "    print(len(i), len(i)*16)"
   ]
  },
  {
   "cell_type": "markdown",
   "metadata": {},
   "source": [
    "## Write config file"
   ]
  },
  {
   "cell_type": "code",
   "execution_count": 105,
   "metadata": {},
   "outputs": [],
   "source": [
    "import json\n",
    "\n",
    "config = {}\n",
    "config[\"name\"] = \"AES-128 Flash\"\n",
    "config[\"project_paths\"] = [project_path]\n",
    "config[\"config_dict\"] = config_dict\n",
    "config[\"config_dict_plot\"] = config_dict_plot\n",
    "config[\"analysis\"] = {\"pins\":{2: [\"AES-128 Encrypt\", \"AES-128 Decrypt\"], 3: [\"AES-128 Flash Write\", \"AES-128 Flash Read\"]}, \n",
    "                      \"result_types\": [\"Charge\", \"Time\"],\n",
    "                      \"section_types\": {\"init\": [], \n",
    "                                        \"store\": [\"AES-128 Encrypt\", \"AES-128 Flash Write\"],\n",
    "                                        \"load\": [\"AES-128 Flash Read\", \"AES-128 Decrypt\"],\n",
    "                                        \"exit\": []},\n",
    "                      \"labels\": {\n",
    "                          \"Charge\": {\"x\":\"Data Size\", \"x_unit\": \"byte\", \"y\": \"Charge\", \"y_unit\": \"C\"},\n",
    "                          \"Time\": {\"x\":\"Data Size\", \"x_unit\": \"byte\", \"y\": \"Time\", \"y_unit\": \"s\"},\n",
    "                      },\n",
    "                      \"x_step\": MBEDTLS_AES_BLOCK_SIZE}\n",
    "\n",
    "with open(\"looped_experiment.json\", 'w') as config_file:  \n",
    "    json.dump(config, config_file, indent=4)"
   ]
  },
  {
   "cell_type": "markdown",
   "metadata": {},
   "source": [
    "# Write model data"
   ]
  },
  {
   "cell_type": "code",
   "execution_count": 106,
   "metadata": {},
   "outputs": [],
   "source": [
    "dump_pickle = True\n",
    "fit_lm = True\n",
    "verbose = 2\n",
    "show_lm_plot = 2\n",
    "# drop = 1"
   ]
  },
  {
   "cell_type": "code",
   "execution_count": 107,
   "metadata": {},
   "outputs": [],
   "source": [
    "# Parse data\n",
    "analysis_config = config.get(\"analysis\")\n",
    "result_types = analysis_config.get(\"result_types\")\n",
    "x_step = analysis_config.get(\"x_step\")\n",
    "parsed_data = {}\n",
    "for pin, parameter_names in analysis_config.get(\"pins\").items():\n",
    "    data2 = power_and_time_per_pulse(\n",
    "        data, int(pin), stop_function=stop_function)\n",
    "    num_names = len(parameter_names)\n",
    "    for i, parameter_name in enumerate(parameter_names):\n",
    "        end_index = -drop * num_names or None\n",
    "        parsed_data[parameter_name] = {\n",
    "            result_types[0]: data2[0][i:end_index:num_names],\n",
    "            result_types[1]: data2[1][i:end_index:num_names],\n",
    "            \"x_step\": x_step}\n",
    "if dump_pickle:\n",
    "    pickle.dump(parsed_data, open(\n",
    "        path.join(path.curdir,\n",
    "                  f\"{config_dict.get('file_name_base')}_looped.p\"), \"wb\"))"
   ]
  },
  {
   "cell_type": "code",
   "execution_count": 108,
   "metadata": {},
   "outputs": [
    {
     "name": "stdout",
     "output_type": "stream",
     "text": [
      "Fitting model to AES-128 Encrypt with 375 samples, from 16 to 6000 bytes in steps of 16.\n",
      "[[Model]]\n",
      "    Model(line)\n",
      "[[Fit Statistics]]\n",
      "    # fitting method   = leastsq\n",
      "    # function evals   = 10\n",
      "    # data points      = 375\n",
      "    # variables        = 2\n",
      "    chi-square         = 1.4390e-12\n",
      "    reduced chi-square = 3.8580e-15\n",
      "    Akaike info crit   = -12443.7452\n",
      "    Bayesian info crit = -12435.8913\n",
      "[[Variables]]\n",
      "    intercept: -5.7408e-08 +/- 6.4278e-09 (11.20%) (init = 0)\n",
      "    slope:      2.1079e-08 +/- 1.8518e-12 (0.01%) (init = 1)\n",
      "[[Correlations]] (unreported correlations are < 0.100)\n",
      "    C(intercept, slope) = -0.867\n",
      "[[Model]]\n",
      "    Model(line)\n",
      "[[Fit Statistics]]\n",
      "    # fitting method   = leastsq\n",
      "    # function evals   = 7\n",
      "    # data points      = 375\n",
      "    # variables        = 2\n",
      "    chi-square         = 2.9925e-07\n",
      "    reduced chi-square = 8.0227e-10\n",
      "    Akaike info crit   = -7851.84619\n",
      "    Bayesian info crit = -7843.99234\n",
      "[[Variables]]\n",
      "    intercept:  1.1786e-05 +/- 2.9311e-06 (24.87%) (init = 0)\n",
      "    slope:      3.0354e-05 +/- 8.4445e-10 (0.00%) (init = 1)\n",
      "[[Correlations]] (unreported correlations are < 0.100)\n",
      "    C(intercept, slope) = -0.867\n",
      "Fitting model to AES-128 Decrypt with 375 samples, from 16 to 6000 bytes in steps of 16.\n",
      "[[Model]]\n",
      "    Model(line)\n",
      "[[Fit Statistics]]\n",
      "    # fitting method   = leastsq\n",
      "    # function evals   = 10\n",
      "    # data points      = 375\n",
      "    # variables        = 2\n",
      "    chi-square         = 2.6028e-10\n",
      "    reduced chi-square = 6.9781e-13\n",
      "    Akaike info crit   = -10494.5652\n",
      "    Bayesian info crit = -10486.7114\n",
      "[[Variables]]\n",
      "    intercept:  1.1617e-07 +/- 8.6448e-08 (74.41%) (init = 0)\n",
      "    slope:      2.2307e-08 +/- 2.4905e-11 (0.11%) (init = 1)\n",
      "[[Correlations]] (unreported correlations are < 0.100)\n",
      "    C(intercept, slope) = -0.867\n",
      "[[Model]]\n",
      "    Model(line)\n",
      "[[Fit Statistics]]\n",
      "    # fitting method   = leastsq\n",
      "    # function evals   = 7\n",
      "    # data points      = 375\n",
      "    # variables        = 2\n",
      "    chi-square         = 5.6892e-04\n",
      "    reduced chi-square = 1.5252e-06\n",
      "    Akaike info crit   = -5020.51247\n",
      "    Bayesian info crit = -5012.65862\n",
      "[[Variables]]\n",
      "    intercept:  1.4585e-04 +/- 1.2781e-04 (87.63%) (init = 0)\n",
      "    slope:      3.3244e-05 +/- 3.6821e-08 (0.11%) (init = 1)\n",
      "[[Correlations]] (unreported correlations are < 0.100)\n",
      "    C(intercept, slope) = -0.867\n",
      "Fitting model to AES-128 Flash Write with 375 samples, from 16 to 6000 bytes in steps of 16.\n",
      "[[Model]]\n",
      "    Model(line)\n",
      "[[Fit Statistics]]\n",
      "    # fitting method   = leastsq\n",
      "    # function evals   = 9\n",
      "    # data points      = 375\n",
      "    # variables        = 2\n",
      "    chi-square         = 1.3556e-09\n",
      "    reduced chi-square = 3.6343e-12\n",
      "    Akaike info crit   = -9875.73122\n",
      "    Bayesian info crit = -9867.87736\n",
      "[[Variables]]\n",
      "    intercept:  4.4147e-06 +/- 1.9729e-07 (4.47%) (init = 0)\n",
      "    slope:      3.3236e-08 +/- 5.6838e-11 (0.17%) (init = 1)\n",
      "[[Correlations]] (unreported correlations are < 0.100)\n",
      "    C(intercept, slope) = -0.867\n",
      "[[Model]]\n",
      "    Model(line)\n",
      "[[Fit Statistics]]\n",
      "    # fitting method   = leastsq\n",
      "    # function evals   = 7\n",
      "    # data points      = 375\n",
      "    # variables        = 2\n",
      "    chi-square         = 3.9839e-04\n",
      "    reduced chi-square = 1.0681e-06\n",
      "    Akaike info crit   = -5154.13023\n",
      "    Bayesian info crit = -5146.27638\n",
      "[[Variables]]\n",
      "    intercept:  0.00220747 +/- 1.0695e-04 (4.84%) (init = 0)\n",
      "    slope:      2.0979e-05 +/- 3.0812e-08 (0.15%) (init = 1)\n",
      "[[Correlations]] (unreported correlations are < 0.100)\n",
      "    C(intercept, slope) = -0.867\n",
      "Fitting model to AES-128 Flash Read with 375 samples, from 16 to 6000 bytes in steps of 16.\n",
      "[[Model]]\n",
      "    Model(line)\n",
      "[[Fit Statistics]]\n",
      "    # fitting method   = leastsq\n",
      "    # function evals   = 10\n",
      "    # data points      = 375\n",
      "    # variables        = 2\n",
      "    chi-square         = 8.2659e-14\n",
      "    reduced chi-square = 2.2160e-16\n",
      "    Akaike info crit   = -13515.1187\n",
      "    Bayesian info crit = -13507.2648\n",
      "[[Variables]]\n",
      "    intercept:  1.1093e-09 +/- 1.5405e-09 (138.87%) (init = 0)\n",
      "    slope:      1.0069e-09 +/- 4.4383e-13 (0.04%) (init = 1)\n",
      "[[Correlations]] (unreported correlations are < 0.100)\n",
      "    C(intercept, slope) = -0.867\n",
      "[[Model]]\n",
      "    Model(line)\n",
      "[[Fit Statistics]]\n",
      "    # fitting method   = leastsq\n",
      "    # function evals   = 7\n",
      "    # data points      = 375\n",
      "    # variables        = 2\n",
      "    chi-square         = 2.7437e-07\n",
      "    reduced chi-square = 7.3558e-10\n",
      "    Akaike info crit   = -7884.39149\n",
      "    Bayesian info crit = -7876.53764\n",
      "[[Variables]]\n",
      "    intercept:  2.4059e-05 +/- 2.8067e-06 (11.67%) (init = 0)\n",
      "    slope:      2.1256e-06 +/- 8.0861e-10 (0.04%) (init = 1)\n",
      "[[Correlations]] (unreported correlations are < 0.100)\n",
      "    C(intercept, slope) = -0.867\n"
     ]
    }
   ],
   "source": [
    "# Fit lm\n",
    "if fit_lm:\n",
    "    model = None\n",
    "    if model is None:\n",
    "        def line(x, intercept, slope):\n",
    "            \"\"\"a line\"\"\"\n",
    "            return [intercept + slope*i for i in x]\n",
    "\n",
    "        model = Model(line)\n",
    "        params = model.make_params(intercept=0, slope=1)\n",
    "#         params['intercept'].set(min=0)\n",
    "    else:\n",
    "        params = model.params\n",
    "\n",
    "    model_results = {}\n",
    "    labels = analysis_config.get(\"labels\")\n",
    "    for parameter_name in parsed_data.keys():\n",
    "        length = len(parsed_data[parameter_name][result_types[0]])\n",
    "        x_step = parsed_data[parameter_name][\"x_step\"]\n",
    "        num_bytes = range(x_step, (length+1)*x_step, x_step)\n",
    "        if verbose:\n",
    "            print(\n",
    "                f\"Fitting model to {parameter_name} with {length} \" +\n",
    "                f\"samples, from {min(num_bytes)} to {max(num_bytes)} \"\n",
    "                f\"bytes in steps of {x_step}.\")\n",
    "        model_result = {}\n",
    "        for result_type in result_types:\n",
    "            model_result[result_type] = model.fit(\n",
    "                parsed_data[parameter_name][result_type], params,\n",
    "                x=num_bytes)\n",
    "            if verbose >= 2:\n",
    "                print(model_result[result_type].fit_report())\n",
    "            # Plot multiple view\n",
    "            if show_lm_plot >= 2:\n",
    "                fig, grid = model_result[result_type].plot(\n",
    "                    xlabel=f\"{labels[result_type]['x']} \" +\n",
    "                           f\"[{labels[result_type]['x_unit']}]\",\n",
    "                    ylabel=f\"{labels[result_type]['y']} \" +\n",
    "                           f\"[{labels[result_type]['y_unit']}]\")\n",
    "                fig.canvas.set_window_title(\n",
    "                    f\"Residuals of {parameter_name}\")\n",
    "                fig.tight_layout()\n",
    "                fig.show()\n",
    "            model_results[parameter_name] = model_result\n",
    "\n",
    "    # Plot single view\n",
    "    if show_lm_plot:\n",
    "        import matplotlib.pyplot as plt\n",
    "        fig = plt.figure(figsize=(9, 6))\n",
    "        fig.canvas.set_window_title(f\"Analysis {config.get('name')}\")\n",
    "        colors = dict(zip(result_types, ['r', 'b']))\n",
    "        line_styles = (\n",
    "            line_style for line_style in ('-', '--', '-.', ':') * 2)\n",
    "        # fig.suptitle(f\"Energy analysis of {config.get('name')}\")\n",
    "        ax = {}\n",
    "        ax[result_types[0]] = fig.add_subplot(1, 1, 1)\n",
    "        ax[result_types[1]] = ax[result_types[0]].twinx()\n",
    "        ax[result_types[0]].set_xlabel(\n",
    "            f\"{labels[result_types[0]]['x']} \" +\n",
    "            f\"[{labels[result_types[0]]['x_unit']}]\")\n",
    "        for result_type in result_types:\n",
    "            ax[result_type].set_ylabel(\n",
    "                f\"{labels[result_type]['y']} \" +\n",
    "                f\"[{labels[result_type]['y_unit']}]\",\n",
    "                color=colors[result_type])\n",
    "            ax[result_type].tick_params('y', colors=colors[result_type])\n",
    "\n",
    "        lines = []\n",
    "        title_str = \"\"\n",
    "        for parameter_name in parsed_data.keys():\n",
    "            length = len(parsed_data[parameter_name][result_types[0]])\n",
    "            x_step = parsed_data[parameter_name][\"x_step\"]\n",
    "            num_bytes = range(x_step, (length+1)*x_step, x_step)\n",
    "            model_result = {}\n",
    "            line_style = next(line_styles)\n",
    "            for result_type in result_types:\n",
    "                label = f\"{parameter_name} {labels[result_type]['y']}\"\n",
    "                lines += ax[result_type].plot(\n",
    "                    num_bytes, parsed_data[parameter_name][result_type],\n",
    "                    colors[result_type] + line_style, label=label)\n",
    "                title_str += f\"{label} \"\n",
    "                for param in params.keys():\n",
    "                    title_str += \"\".join(\n",
    "                        f\"{params[param].name.capitalize()}: \")\n",
    "                    title_str += \"\".join(\n",
    "                        f\"{model_results[parameter_name][result_type].params[param].value: .03} \")\n",
    "                    title_str += \"\".join(\n",
    "                        f\"{labels[result_type]['y_unit']}, \")\n",
    "                title_str = title_str[:-2] + \\\n",
    "                    f\" per {labels[result_type]['x_unit']}\\n\"\n",
    "        ax[result_types[0]].legend(handles=lines)\n",
    "        ax[result_types[0]].set_title(title_str[:-1])\n",
    "        # fig.tight_layout()\n",
    "        fig.tight_layout(rect=(0.05, 0.05, 1, 1))\n",
    "        fig.set_size_inches(8, 6, forward=True)\n",
    "        fig.show()\n",
    "\n",
    "    # Save model results to file\n",
    "    if dump_pickle:\n",
    "        model_results_dump = {}\n",
    "        for parameter_name in model_results.keys():\n",
    "            model_results_dump[parameter_name] = {}\n",
    "            for result_type in model_results[parameter_name].keys():\n",
    "                model_results_dump[parameter_name][result_type] = \\\n",
    "                    model_results[parameter_name][result_type].values\n",
    "\n",
    "        pickle.dump(model_results_dump, open(path.join(\n",
    "            path.curdir,\n",
    "            f\"{config_dict.get('file_name_base')}_model.p\"), \"wb\"))"
   ]
  },
  {
   "cell_type": "markdown",
   "metadata": {},
   "source": [
    "# Total from measurement"
   ]
  },
  {
   "cell_type": "code",
   "execution_count": 109,
   "metadata": {},
   "outputs": [
    {
     "name": "stdout",
     "output_type": "stream",
     "text": [
      "295.3980539637248 98696.4497279999\n"
     ]
    }
   ],
   "source": [
    "n_samples = 5995\n",
    "\n",
    "total_energy = sum(aes_encrypt_energy[:n_samples]) + sum(aes_flash_write_energy[:n_samples]) + sum(aes_flash_read_energy[:n_samples]) + sum(aes_decrypt_energy[:n_samples])\n",
    "total_time = sum(aes_encrypt_time_s[:n_samples]) + sum(aes_flash_write_time_s[:n_samples]) + sum(aes_flash_read_time_s[:n_samples]) + sum(aes_decrypt_time_s[:n_samples])\n",
    "print(total_energy, total_time)"
   ]
  },
  {
   "cell_type": "code",
   "execution_count": 110,
   "metadata": {},
   "outputs": [
    {
     "data": {
      "text/plain": [
       "[5.016364799999995,\n",
       " 6.07244160000002,\n",
       " 7.326532800000007,\n",
       " 8.646628800000002,\n",
       " 9.50436319999999,\n",
       " 10.691481599999996,\n",
       " 11.813427200000032,\n",
       " 12.935581866666684,\n",
       " 14.123543466666694,\n",
       " 15.312989866666681,\n",
       " 16.6329711999999,\n",
       " 17.55500693333334,\n",
       " 18.611731200000037,\n",
       " 19.867123733333326,\n",
       " 20.98824853333331,\n",
       " 21.977289600000116,\n",
       " 27.78802079999998,\n",
       " 28.908398400000035,\n",
       " 29.76461653333329,\n",
       " 30.886752000000126,\n",
       " 32.01163253333328,\n",
       " 33.13222826666673,\n",
       " 34.319916800000016,\n",
       " 35.5097546666665,\n",
       " 36.62851999999994,\n",
       " 37.754723200000285,\n",
       " 38.80745493333371,\n",
       " 39.92881226666678,\n",
       " 41.11877919999984,\n",
       " 42.24066773333335,\n",
       " 43.6918010666667,\n",
       " 44.55083520000014,\n",
       " 49.8303120000001,\n",
       " 50.886798399999876,\n",
       " 52.07189599999995,\n",
       " 53.131451733333,\n",
       " 54.58146559999987,\n",
       " 55.6408202666665,\n",
       " 56.824819200000036,\n",
       " 57.55318506666684,\n",
       " 58.8700970666669,\n",
       " 60.25926719999975,\n",
       " 61.04924106666675,\n",
       " 62.4380576000001,\n",
       " 63.62452160000043,\n",
       " 64.48187146666618,\n",
       " 65.60144319999984,\n",
       " 67.05831466666635,\n",
       " 71.9410549333337,\n",
       " 73.06110613333372,\n",
       " 74.2510666666667,\n",
       " 75.63428319999987,\n",
       " 76.75969120000036,\n",
       " 77.55103413333408,\n",
       " 78.80422773333385,\n",
       " 80.18931893333337,\n",
       " 81.11412000000007,\n",
       " 82.23560426666631,\n",
       " 83.4907008000001,\n",
       " 84.74583786666746,\n",
       " 85.73075360000048,\n",
       " 87.122063999999,\n",
       " 87.91359626666573,\n",
       " 89.36604693333283,\n",
       " 94.24403413333415,\n",
       " 95.37111519999985,\n",
       " 96.55897546666736,\n",
       " 97.8797514666665,\n",
       " 98.73241013333356,\n",
       " 100.18932586666729,\n",
       " 101.31159893333307,\n",
       " 102.23541066666542,\n",
       " 103.68486079999873,\n",
       " 104.74437653333356,\n",
       " 105.60060373333525,\n",
       " 107.05137173333324,\n",
       " 108.17462346666673,\n",
       " 109.0991045333327,\n",
       " 110.48537439999961,\n",
       " 111.40497600000108,\n",
       " 116.68901440000035,\n",
       " 117.61310293333338,\n",
       " 118.66613866666674,\n",
       " 119.92174666666688,\n",
       " 121.04470506666587,\n",
       " 122.16713333333385,\n",
       " 123.48735306666737,\n",
       " 124.34341279999917,\n",
       " 125.6636490666665,\n",
       " 126.91791679999919,\n",
       " 128.04079786666733,\n",
       " 129.09526879999865,\n",
       " 130.08583413333065,\n",
       " 131.40698506666837,\n",
       " 132.46283733333541,\n",
       " 133.78219413333346,\n",
       " 138.7312026666656,\n",
       " 139.85311893333474,\n",
       " 141.10805653333358,\n",
       " 142.22963200000117,\n",
       " 143.2873098666647,\n",
       " 144.47362986666334,\n",
       " 145.59998026666676,\n",
       " 146.714669333333,\n",
       " 148.1072879999985,\n",
       " 149.02790933333065,\n",
       " 150.21621333333178,\n",
       " 151.2712320000009,\n",
       " 152.4602805333295,\n",
       " 153.64663626666797,\n",
       " 154.64132480000183,\n",
       " 155.82357546666793,\n",
       " 160.3826837333333,\n",
       " 161.49991146666486,\n",
       " 162.82057280000117,\n",
       " 163.94655786666945,\n",
       " 165.52577706666582,\n",
       " 166.71723253333326,\n",
       " 167.7714053333368,\n",
       " 168.76210933333448,\n",
       " 170.01779466666812,\n",
       " 171.2693077333327,\n",
       " 172.72035200000246,\n",
       " 173.5780831999989,\n",
       " 175.03756426666683,\n",
       " 175.75640640000145,\n",
       " 177.14331573333374,\n",
       " 178.07056639999885,\n",
       " 182.75264693333605,\n",
       " 184.20693759999727,\n",
       " 185.06340586666602,\n",
       " 186.2523194666661,\n",
       " 187.70284373333368,\n",
       " 188.69960799999853,\n",
       " 189.88033759999644,\n",
       " 191.0078389333325,\n",
       " 192.45454506666704,\n",
       " 193.5795877333355,\n",
       " 194.63348639999722,\n",
       " 195.8199482666636,\n",
       " 196.881394666665,\n",
       " 198.06487146666285,\n",
       " 199.19137279999433,\n",
       " 200.37478133333053,\n",
       " 205.00075413333718,\n",
       " 206.2477674666674,\n",
       " 207.3113413333374,\n",
       " 208.4261317333329,\n",
       " 209.75159360000006,\n",
       " 210.9339130666683,\n",
       " 212.19373973333333,\n",
       " 213.37437013333727,\n",
       " 214.76592693333885,\n",
       " 215.81998986666662,\n",
       " 217.14055680000044,\n",
       " 218.06648853332788,\n",
       " 219.24987253333583,\n",
       " 220.5115493333345,\n",
       " 221.62461173333625,\n",
       " 222.68653653333104,\n",
       " 227.50226879999857,\n",
       " 228.4267920000076,\n",
       " 229.74714719999412,\n",
       " 230.8699189333332,\n",
       " 232.1177845333331,\n",
       " 233.50892639999898,\n",
       " 234.36946826666727,\n",
       " 235.88008639999813,\n",
       " 236.94373493333387,\n",
       " 238.32891306667392,\n",
       " 239.51718453333015,\n",
       " 240.36688906666726,\n",
       " 241.43151199999835,\n",
       " 242.620059733337,\n",
       " 243.8021946666673,\n",
       " 245.12620213333847,\n",
       " 249.54535733333927,\n",
       " 250.7351578666679,\n",
       " 251.85856906666615,\n",
       " 252.84281706666434,\n",
       " 254.43380266666438,\n",
       " 255.55174773333533,\n",
       " 256.93922079999965,\n",
       " 258.0625520000019,\n",
       " 259.2497088000023,\n",
       " 260.4394821333358,\n",
       " 261.7542474666692,\n",
       " 262.61269280000124,\n",
       " 263.87032213333225,\n",
       " 265.25296959999525,\n",
       " 265.9793728000004,\n",
       " 267.4345674666654,\n",
       " 271.85821013333464,\n",
       " 272.97781706665705,\n",
       " 274.43010293333003,\n",
       " 275.48487146666287,\n",
       " 276.8722346666692,\n",
       " 277.8625568000024,\n",
       " 279.0474554666602,\n",
       " 280.3045360000027,\n",
       " 281.68943573333394,\n",
       " 282.8124949333315,\n",
       " 283.93324319999635,\n",
       " 284.92226026667566,\n",
       " 285.9140485333356,\n",
       " 287.0338949333302,\n",
       " 288.22455839998895,\n",
       " 289.67577333334305,\n",
       " 293.96201279999445,\n",
       " 295.4172693333277,\n",
       " 296.40483893334135,\n",
       " 297.5275866666678,\n",
       " 298.9197354666686,\n",
       " 300.03468373333675,\n",
       " 301.09173226666286,\n",
       " 302.34615519999863,\n",
       " 303.7324885333348,\n",
       " 305.0509376000079,\n",
       " 305.9765626666646,\n",
       " 307.43360106666984,\n",
       " 308.55110346666237,\n",
       " 309.7389152000005,\n",
       " 310.5291839999822,\n",
       " 311.987274666663,\n",
       " 316.33789706665283,\n",
       " 317.5923776000076,\n",
       " 318.6469967999983,\n",
       " 319.972012800001,\n",
       " 321.15654666666416,\n",
       " 322.2111631999951,\n",
       " 323.5325045333255,\n",
       " 324.85789919999064,\n",
       " 326.10629386666545,\n",
       " 327.3613040000001,\n",
       " 328.28680746666095,\n",
       " 329.7369648000057,\n",
       " 330.9240453333331,\n",
       " 331.97972426667377,\n",
       " 333.1028186666529,\n",
       " 334.0256853333372,\n",
       " 338.916437866672,\n",
       " 339.9001935999948,\n",
       " 340.82641386666523,\n",
       " 342.1452623999883,\n",
       " 343.72427520001025,\n",
       " 344.9220485333413,\n",
       " 345.9058837333373,\n",
       " 347.1612517333327,\n",
       " 348.2803375999879,\n",
       " 349.4067082666703,\n",
       " 350.5926197333338,\n",
       " 351.98293653334645,\n",
       " 352.90124960000213,\n",
       " 354.15931466666706,\n",
       " 355.2124362666689,\n",
       " 356.5318821333392,\n",
       " 360.88964266667034,\n",
       " 362.1459109333145,\n",
       " 363.4595664000173,\n",
       " 364.51984586665986,\n",
       " 365.9706842666566,\n",
       " 366.8954074666573,\n",
       " 368.14452640000184,\n",
       " 368.94076053334146,\n",
       " 370.4643744000009,\n",
       " 371.9751082666676,\n",
       " 372.7062565333341,\n",
       " 373.9587882666697,\n",
       " 375.0108757333308,\n",
       " 376.4693088000044,\n",
       " 377.385585066655,\n",
       " 378.51166133332015,\n",
       " 383.1337045333427,\n",
       " 384.05672320000406,\n",
       " 385.7013381333374,\n",
       " 386.82707679999595,\n",
       " 388.2163183999836,\n",
       " 388.8706677333502,\n",
       " 390.2579152000101,\n",
       " 391.3841674666685,\n",
       " 392.83263519999423,\n",
       " 394.0165168000007,\n",
       " 395.077881066662,\n",
       " 396.0009498666608,\n",
       " 397.1228789333239,\n",
       " 398.5753578667044,\n",
       " 399.6307423999923,\n",
       " 400.8180303999751,\n",
       " 404.9107237333516,\n",
       " 406.09894133334024,\n",
       " 407.68599626665036,\n",
       " 408.4069760000375,\n",
       " 409.86001280001005,\n",
       " 411.04819893331523,\n",
       " 412.2357295999848,\n",
       " 413.3601914666656,\n",
       " 414.945004799975,\n",
       " 416.1985215999948,\n",
       " 417.12224000001186,\n",
       " 418.5081402666668,\n",
       " 419.10035946666824,\n",
       " 420.61864853332054,\n",
       " 421.6058869333352,\n",
       " 423.0465024000125,\n",
       " 426.8836277333321,\n",
       " 428.26978666668936,\n",
       " 429.5927002666531,\n",
       " 430.6505077333469,\n",
       " 431.903436799999,\n",
       " 433.4868965333385,\n",
       " 434.3453642666475,\n",
       " 435.13814080000657,\n",
       " 436.98268693333375,\n",
       " 438.17366559997595,\n",
       " 439.09856693333893,\n",
       " 440.288041600013,\n",
       " 441.40891733330534,\n",
       " 442.7863290666494,\n",
       " 443.6530282666524,\n",
       " 444.8426319999754,\n",
       " 449.33295573332543,\n",
       " 450.51862826667843,\n",
       " 451.70553813335346,\n",
       " 452.6939770666729,\n",
       " 453.81643893334456,\n",
       " 455.00786239999513,\n",
       " 456.1926394666358,\n",
       " 457.5123136000059,\n",
       " 458.89638826668033,\n",
       " 459.82276213332796,\n",
       " 461.3410170666725,\n",
       " 462.202407999996,\n",
       " 463.3228090666677,\n",
       " 464.5068165333157,\n",
       " 465.5675039999778,\n",
       " 466.88087786667154,\n",
       " 471.11003520001304,\n",
       " 472.36180799998806,\n",
       " 473.42188639998994,\n",
       " 474.73686346666,\n",
       " 476.3236698666873,\n",
       " 477.38078826667163,\n",
       " 478.30343360000427,\n",
       " 479.0992416000108,\n",
       " 480.7456560000105,\n",
       " 481.99854399999253,\n",
       " 483.1158261333428,\n",
       " 484.11352959998055,\n",
       " 485.6251056000076,\n",
       " 486.7506064000082,\n",
       " 487.93794079999486,\n",
       " 489.1281056000025,\n",
       " 493.3497877333224,\n",
       " 494.6046202666565,\n",
       " 495.19916213334625,\n",
       " 496.84889973332247,\n",
       " 498.0349162666755,\n",
       " 499.22515679999435,\n",
       " 500.6768042666607,\n",
       " 501.2752629333477,\n",
       " 503.18490879998024,\n",
       " 503.9810250666932,\n",
       " 505.16257653335117,\n",
       " 506.48400586666753,\n",
       " 507.4097903999899,\n",
       " 508.27152319999414,\n",
       " 509.6512245333429,\n",
       " 511.10421866665945,\n",
       " 514.9310949333454,\n",
       " 515.9908234666659,\n",
       " 517.3104229333205,\n",
       " 518.6264976000103,\n",
       " 520.2821792000094,\n",
       " 521.3997343999921,\n",
       " 498.50248533331865]"
      ]
     },
     "execution_count": 110,
     "metadata": {},
     "output_type": "execute_result"
    }
   ],
   "source": [
    "          [e + w + r + d for (e,w,r,d) in zip(aes_encrypt_energy, aes_flash_write_energy, aes_flash_read_energy, aes_decrypt_energy)],\n",
    "          [e + w + r + d for (e,w,r,d) in zip(aes_encrypt_time_s, aes_flash_write_time_s, aes_flash_read_time_s, aes_decrypt_time_s)]"
   ]
  },
  {
   "cell_type": "code",
   "execution_count": null,
   "metadata": {},
   "outputs": [],
   "source": []
  },
  {
   "cell_type": "code",
   "execution_count": null,
   "metadata": {},
   "outputs": [],
   "source": []
  },
  {
   "cell_type": "code",
   "execution_count": null,
   "metadata": {},
   "outputs": [],
   "source": []
  },
  {
   "cell_type": "code",
   "execution_count": null,
   "metadata": {},
   "outputs": [],
   "source": []
  }
 ],
 "metadata": {
  "kernelspec": {
   "display_name": "Python 3",
   "language": "python",
   "name": "python3"
  },
  "language_info": {
   "codemirror_mode": {
    "name": "ipython",
    "version": 3
   },
   "file_extension": ".py",
   "mimetype": "text/x-python",
   "name": "python",
   "nbconvert_exporter": "python",
   "pygments_lexer": "ipython3",
   "version": "3.8.1"
  }
 },
 "nbformat": 4,
 "nbformat_minor": 4
}

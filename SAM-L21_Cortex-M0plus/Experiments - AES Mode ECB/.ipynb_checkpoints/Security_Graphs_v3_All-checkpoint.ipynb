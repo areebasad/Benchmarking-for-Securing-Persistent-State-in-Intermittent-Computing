{
 "cells": [
  {
   "cell_type": "code",
   "execution_count": 1,
   "metadata": {},
   "outputs": [],
   "source": [
    "# %matplotlib ipympl\n",
    "# %matplotlib inline\n",
    "%matplotlib wx"
   ]
  },
  {
   "cell_type": "code",
   "execution_count": 2,
   "metadata": {},
   "outputs": [],
   "source": [
    "import matplotlib.pyplot as plt\n",
    "import numpy as np\n",
    "import pickle\n",
    "from os import path"
   ]
  },
  {
   "cell_type": "code",
   "execution_count": 3,
   "metadata": {},
   "outputs": [],
   "source": [
    "security_projects=['AES-128_Crypto_Flash','AES-128_MbedTLS_Flash', 'AES-128_WolfSSL_Flash',\n",
    "                   'AES-256_Crypto_Flash', 'AES-256_MbedTLS_Flash', 'AES-256_WolfSSL_Flash', 'No-Security']"
   ]
  },
  {
   "cell_type": "code",
   "execution_count": 4,
   "metadata": {},
   "outputs": [
    {
     "name": "stdout",
     "output_type": "stream",
     "text": [
      "1 16\n",
      "26 416\n"
     ]
    }
   ],
   "source": [
    "crypto128_path = [\".\", \"AES-128_Crypto-Accelerator\"]\n",
    "\n",
    "crypto128_encrypt_energy_mJ = pickle.load(open(path.join(*crypto128_path, \"aes_flash_encrypt_energy_mJ.p\"), \"rb\"))\n",
    "crypto128_decrypt_energy_mJ = pickle.load(open(path.join(*crypto128_path, \"aes_flash_decrypt_energy_mJ.p\"), \"rb\"))\n",
    "crypto128_flash_write_energy_mJ = pickle.load(open(path.join(*crypto128_path, \"aes_flash_write_energy_mJ.p\"), \"rb\"))\n",
    "crypto128_flash_read_energy_mJ = pickle.load(open(path.join(*crypto128_path, \"aes_flash_read_energy_mJ.p\"), \"rb\"))\n",
    "crypto128_encrypt_time_ms = pickle.load(open(path.join(*crypto128_path, \"aes_flash_encrypt_time_ms.p\"), \"rb\"))\n",
    "crypto128_decrypt_time_ms = pickle.load(open(path.join(*crypto128_path, \"aes_flash_decrypt_time_ms.p\"), \"rb\"))\n",
    "crypto128_flash_write_time_ms = pickle.load(open(path.join(*crypto128_path, \"aes_flash_write_time_ms.p\"), \"rb\"))\n",
    "crypto128_flash_read_time_ms = pickle.load(open(path.join(*crypto128_path, \"aes_flash_read_time_ms.p\"), \"rb\"))\n",
    "crypto128 = [\n",
    "    crypto128_encrypt_energy_mJ,\n",
    "    crypto128_decrypt_energy_mJ,\n",
    "    crypto128_flash_write_energy_mJ,\n",
    "    crypto128_flash_read_energy_mJ,\n",
    "    crypto128_encrypt_time_ms,\n",
    "    crypto128_decrypt_time_ms,\n",
    "    crypto128_flash_write_time_ms,\n",
    "    crypto128_flash_read_time_ms,\n",
    "]\n",
    "for i in crypto128_path:\n",
    "    print(len(i), len(i)*16)"
   ]
  },
  {
   "cell_type": "code",
   "execution_count": 5,
   "metadata": {},
   "outputs": [
    {
     "name": "stdout",
     "output_type": "stream",
     "text": [
      "1 16\n",
      "26 416\n"
     ]
    }
   ],
   "source": [
    "crypto256_path = [\".\", \"AES-256_Crypto-Accelerator\"]\n",
    "\n",
    "crypto256_encrypt_energy_mJ = pickle.load(open(path.join(*crypto256_path, \"aes_flash_encrypt_energy_mJ.p\"), \"rb\"))\n",
    "crypto256_decrypt_energy_mJ = pickle.load(open(path.join(*crypto256_path, \"aes_flash_decrypt_energy_mJ.p\"), \"rb\"))\n",
    "crypto256_flash_write_energy_mJ = pickle.load(open(path.join(*crypto256_path, \"aes_flash_write_energy_mJ.p\"), \"rb\"))\n",
    "crypto256_flash_read_energy_mJ = pickle.load(open(path.join(*crypto256_path, \"aes_flash_read_energy_mJ.p\"), \"rb\"))\n",
    "crypto256_encrypt_time_ms = pickle.load(open(path.join(*crypto256_path, \"aes_flash_encrypt_time_ms.p\"), \"rb\"))\n",
    "crypto256_decrypt_time_ms = pickle.load(open(path.join(*crypto256_path, \"aes_flash_decrypt_time_ms.p\"), \"rb\"))\n",
    "crypto256_flash_write_time_ms = pickle.load(open(path.join(*crypto256_path, \"aes_flash_write_time_ms.p\"), \"rb\"))\n",
    "crypto256_flash_read_time_ms = pickle.load(open(path.join(*crypto256_path, \"aes_flash_read_time_ms.p\"), \"rb\"))\n",
    "crypto256 = [\n",
    "    crypto256_encrypt_energy_mJ,\n",
    "    crypto256_decrypt_energy_mJ,\n",
    "    crypto256_flash_write_energy_mJ,\n",
    "    crypto256_flash_read_energy_mJ,\n",
    "    crypto256_encrypt_time_ms,\n",
    "    crypto256_decrypt_time_ms,\n",
    "    crypto256_flash_write_time_ms,\n",
    "    crypto256_flash_read_time_ms,\n",
    "]\n",
    "for i in crypto256_path:\n",
    "    print(len(i), len(i)*16)"
   ]
  },
  {
   "cell_type": "code",
   "execution_count": 6,
   "metadata": {},
   "outputs": [
    {
     "name": "stdout",
     "output_type": "stream",
     "text": [
      "1 16\n",
      "23 368\n"
     ]
    }
   ],
   "source": [
    "aes128_path = [\".\", \"AES-128_mbedTLS_library\"]\n",
    "\n",
    "aes128_encrypt_energy_mJ = pickle.load(open(path.join(*aes128_path, \"aes_flash_encrypt_energy_mJ.p\"), \"rb\"))\n",
    "aes128_decrypt_energy_mJ = pickle.load(open(path.join(*aes128_path, \"aes_flash_decrypt_energy_mJ.p\"), \"rb\"))\n",
    "aes128_flash_write_energy_mJ = pickle.load(open(path.join(*aes128_path, \"aes_flash_write_energy_mJ.p\"), \"rb\"))\n",
    "aes128_flash_read_energy_mJ = pickle.load(open(path.join(*aes128_path, \"aes_flash_read_energy_mJ.p\"), \"rb\"))\n",
    "aes128_encrypt_time_ms = pickle.load(open(path.join(*aes128_path, \"aes_flash_encrypt_time_ms.p\"), \"rb\"))\n",
    "aes128_decrypt_time_ms = pickle.load(open(path.join(*aes128_path, \"aes_flash_decrypt_time_ms.p\"), \"rb\"))\n",
    "aes128_flash_write_time_ms = pickle.load(open(path.join(*aes128_path, \"aes_flash_write_time_ms.p\"), \"rb\"))\n",
    "aes128_flash_read_time_ms = pickle.load(open(path.join(*aes128_path, \"aes_flash_read_time_ms.p\"), \"rb\"))\n",
    "aes128 = [\n",
    "    aes128_encrypt_energy_mJ,\n",
    "    aes128_decrypt_energy_mJ,\n",
    "    aes128_flash_write_energy_mJ,\n",
    "    aes128_flash_read_energy_mJ,\n",
    "    aes128_encrypt_time_ms,\n",
    "    aes128_decrypt_time_ms,\n",
    "    aes128_flash_write_time_ms,\n",
    "    aes128_flash_read_time_ms,\n",
    "]\n",
    "for i in aes128_path:\n",
    "    print(len(i), len(i)*16)"
   ]
  },
  {
   "cell_type": "code",
   "execution_count": 7,
   "metadata": {},
   "outputs": [
    {
     "name": "stdout",
     "output_type": "stream",
     "text": [
      "1 16\n",
      "23 368\n"
     ]
    }
   ],
   "source": [
    "aes256_path = [\".\", \"AES-256_mbedTLS_library\"]\n",
    "\n",
    "aes256_encrypt_energy_mJ = pickle.load(open(path.join(*aes256_path, \"aes_flash_encrypt_energy_mJ.p\"), \"rb\"))\n",
    "aes256_decrypt_energy_mJ = pickle.load(open(path.join(*aes256_path, \"aes_flash_decrypt_energy_mJ.p\"), \"rb\"))\n",
    "aes256_flash_write_energy_mJ = pickle.load(open(path.join(*aes256_path, \"aes_flash_write_energy_mJ.p\"), \"rb\"))\n",
    "aes256_flash_read_energy_mJ = pickle.load(open(path.join(*aes256_path, \"aes_flash_read_energy_mJ.p\"), \"rb\"))\n",
    "aes256_encrypt_time_ms = pickle.load(open(path.join(*aes256_path, \"aes_flash_encrypt_time_ms.p\"), \"rb\"))\n",
    "aes256_decrypt_time_ms = pickle.load(open(path.join(*aes256_path, \"aes_flash_decrypt_time_ms.p\"), \"rb\"))\n",
    "aes256_flash_write_time_ms = pickle.load(open(path.join(*aes256_path, \"aes_flash_write_time_ms.p\"), \"rb\"))\n",
    "aes256_flash_read_time_ms = pickle.load(open(path.join(*aes256_path, \"aes_flash_read_time_ms.p\"), \"rb\"))\n",
    "aes256 = [\n",
    "    aes256_encrypt_energy_mJ,\n",
    "    aes256_decrypt_energy_mJ,\n",
    "    aes256_flash_write_energy_mJ,\n",
    "    aes256_flash_read_energy_mJ,\n",
    "    aes256_encrypt_time_ms,\n",
    "    aes256_decrypt_time_ms,\n",
    "    aes256_flash_write_time_ms,\n",
    "    aes256_flash_read_time_ms,\n",
    "]\n",
    "for i in aes256_path:\n",
    "    print(len(i), len(i)*16)"
   ]
  },
  {
   "cell_type": "code",
   "execution_count": 8,
   "metadata": {},
   "outputs": [
    {
     "name": "stdout",
     "output_type": "stream",
     "text": [
      "1 16\n",
      "23 368\n"
     ]
    }
   ],
   "source": [
    "aes128w_path = [\".\", \"AES-128_WolfSSL_library\"]\n",
    "\n",
    "aes128w_encrypt_energy_mJ = pickle.load(open(path.join(*aes128w_path, \"aes_flash_encrypt_energy_mJ.p\"), \"rb\"))\n",
    "aes128w_decrypt_energy_mJ = pickle.load(open(path.join(*aes128w_path, \"aes_flash_decrypt_energy_mJ.p\"), \"rb\"))\n",
    "aes128w_flash_write_energy_mJ = pickle.load(open(path.join(*aes128w_path, \"aes_flash_write_energy_mJ.p\"), \"rb\"))\n",
    "aes128w_flash_read_energy_mJ = pickle.load(open(path.join(*aes128w_path, \"aes_flash_read_energy_mJ.p\"), \"rb\"))\n",
    "aes128w_encrypt_time_ms = pickle.load(open(path.join(*aes128w_path, \"aes_flash_encrypt_time_ms.p\"), \"rb\"))\n",
    "aes128w_decrypt_time_ms = pickle.load(open(path.join(*aes128w_path, \"aes_flash_decrypt_time_ms.p\"), \"rb\"))\n",
    "aes128w_flash_write_time_ms = pickle.load(open(path.join(*aes128w_path, \"aes_flash_write_time_ms.p\"), \"rb\"))\n",
    "aes128w_flash_read_time_ms = pickle.load(open(path.join(*aes128w_path, \"aes_flash_read_time_ms.p\"), \"rb\"))\n",
    "aes128w = [\n",
    "    aes128w_encrypt_energy_mJ,\n",
    "    aes128w_decrypt_energy_mJ,\n",
    "    aes128w_flash_write_energy_mJ,\n",
    "    aes128w_flash_read_energy_mJ,\n",
    "    aes128w_encrypt_time_ms,\n",
    "    aes128w_decrypt_time_ms,\n",
    "    aes128w_flash_write_time_ms,\n",
    "    aes128w_flash_read_time_ms,\n",
    "]\n",
    "for i in aes128w_path:\n",
    "    print(len(i), len(i)*16)"
   ]
  },
  {
   "cell_type": "code",
   "execution_count": 9,
   "metadata": {},
   "outputs": [
    {
     "name": "stdout",
     "output_type": "stream",
     "text": [
      "1 16\n",
      "23 368\n"
     ]
    }
   ],
   "source": [
    "aes256w_path = [\".\", \"AES-256_WolfSSL_library\"]\n",
    "\n",
    "aes256w_encrypt_energy_mJ = pickle.load(open(path.join(*aes256w_path, \"aes_flash_encrypt_energy_mJ.p\"), \"rb\"))\n",
    "aes256w_decrypt_energy_mJ = pickle.load(open(path.join(*aes256w_path, \"aes_flash_decrypt_energy_mJ.p\"), \"rb\"))\n",
    "aes256w_flash_write_energy_mJ = pickle.load(open(path.join(*aes256w_path, \"aes_flash_write_energy_mJ.p\"), \"rb\"))\n",
    "aes256w_flash_read_energy_mJ = pickle.load(open(path.join(*aes256w_path, \"aes_flash_read_energy_mJ.p\"), \"rb\"))\n",
    "aes256w_encrypt_time_ms = pickle.load(open(path.join(*aes256w_path, \"aes_flash_encrypt_time_ms.p\"), \"rb\"))\n",
    "aes256w_decrypt_time_ms = pickle.load(open(path.join(*aes256w_path, \"aes_flash_decrypt_time_ms.p\"), \"rb\"))\n",
    "aes256w_flash_write_time_ms = pickle.load(open(path.join(*aes256w_path, \"aes_flash_write_time_ms.p\"), \"rb\"))\n",
    "aes256w_flash_read_time_ms = pickle.load(open(path.join(*aes256w_path, \"aes_flash_read_time_ms.p\"), \"rb\"))\n",
    "aes256w = [\n",
    "    aes256w_encrypt_energy_mJ,\n",
    "    aes256w_decrypt_energy_mJ,\n",
    "    aes256w_flash_write_energy_mJ,\n",
    "    aes256w_flash_read_energy_mJ,\n",
    "    aes256w_encrypt_time_ms,\n",
    "    aes256w_decrypt_time_ms,\n",
    "    aes256w_flash_write_time_ms,\n",
    "    aes256w_flash_read_time_ms,\n",
    "]\n",
    "for i in aes256w_path:\n",
    "    print(len(i), len(i)*16)"
   ]
  },
  {
   "cell_type": "code",
   "execution_count": 10,
   "metadata": {},
   "outputs": [
    {
     "name": "stdout",
     "output_type": "stream",
     "text": [
      "5999\n",
      "5999\n",
      "5999\n",
      "5999\n"
     ]
    },
    {
     "data": {
      "text/plain": [
       "0.48999661575827"
      ]
     },
     "execution_count": 10,
     "metadata": {},
     "output_type": "execute_result"
    }
   ],
   "source": [
    "no_security_path = [\".\", \"No-Security\"]\n",
    "\n",
    "flash_write_energy_mJ = pickle.load(open(path.join(*no_security_path, \"no_security_flash_write_energy_mJ.p\"), \"rb\"))\n",
    "flash_read_energy_mJ = pickle.load(open(path.join(*no_security_path, \"no_security_flash_read_energy_mJ.p\"), \"rb\"))\n",
    "flash_write_time_ms = pickle.load(open(path.join(*no_security_path, \"no_security_flash_write_time_ms.p\"), \"rb\"))\n",
    "flash_read_time_ms = pickle.load(open(path.join(*no_security_path, \"no_security_flash_read_time_ms.p\"), \"rb\"))\n",
    "no_security = [flash_write_energy_mJ, flash_read_energy_mJ, flash_write_time_ms, flash_read_time_ms]\n",
    "for i in no_security:\n",
    "    print(len(i))\n",
    "len(flash_write_energy_mJ)\n",
    "flash_write_energy_mJ[4096]    "
   ]
  },
  {
   "cell_type": "code",
   "execution_count": 11,
   "metadata": {},
   "outputs": [],
   "source": [
    "min_num = 6000-1"
   ]
  },
  {
   "cell_type": "code",
   "execution_count": 12,
   "metadata": {},
   "outputs": [],
   "source": [
    "j_scale = 1e6\n",
    "m_to_u = 1e3\n",
    "voltage = 3.31"
   ]
  },
  {
   "cell_type": "code",
   "execution_count": 13,
   "metadata": {},
   "outputs": [],
   "source": [
    "AES_BLOCK_SIZE = 16\n",
    "STEP_SIZE = AES_BLOCK_SIZE\n",
    "MIN_NUM_BYTES = STEP_SIZE\n",
    "crypto128_chkp = []\n",
    "crypto128_rest = []\n",
    "crypto128_chkp_time = []\n",
    "crypto128_rest_time = []\n",
    "crypto128_x = []\n",
    "for i in range(0, min_num//STEP_SIZE):\n",
    "    crypto128_x.append(MIN_NUM_BYTES + i*STEP_SIZE)\n",
    "    crypto128_chkp.append((crypto128_encrypt_energy_mJ[i] + crypto128_flash_write_energy_mJ[i])  * m_to_u)\n",
    "    crypto128_rest.append((crypto128_decrypt_energy_mJ[i] + crypto128_flash_read_energy_mJ[i]) * m_to_u)\n",
    "    crypto128_chkp_time.append((crypto128_encrypt_time_ms[i] + crypto128_flash_write_time_ms[i]))\n",
    "    crypto128_rest_time.append((crypto128_decrypt_time_ms[i] + crypto128_flash_read_time_ms[i]))"
   ]
  },
  {
   "cell_type": "code",
   "execution_count": 14,
   "metadata": {},
   "outputs": [],
   "source": [
    "AES_BLOCK_SIZE = 16\n",
    "STEP_SIZE = AES_BLOCK_SIZE\n",
    "MIN_NUM_BYTES = STEP_SIZE\n",
    "crypto256_chkp = []\n",
    "crypto256_rest = []\n",
    "crypto256_chkp_time = []\n",
    "crypto256_rest_time = []\n",
    "crypto256_x = []\n",
    "for i in range(0, min_num//STEP_SIZE):\n",
    "    crypto256_x.append(MIN_NUM_BYTES + i*STEP_SIZE)\n",
    "    crypto256_chkp.append((crypto256_encrypt_energy_mJ[i] + crypto256_flash_write_energy_mJ[i])  * m_to_u)\n",
    "    crypto256_rest.append((crypto256_decrypt_energy_mJ[i] + crypto256_flash_read_energy_mJ[i]) * m_to_u)\n",
    "    crypto256_chkp_time.append((crypto256_encrypt_time_ms[i] + crypto256_flash_write_time_ms[i]))\n",
    "    crypto256_rest_time.append((crypto256_decrypt_time_ms[i] + crypto256_flash_read_time_ms[i]))"
   ]
  },
  {
   "cell_type": "code",
   "execution_count": 15,
   "metadata": {},
   "outputs": [],
   "source": [
    "MBEDTLS_AES_BLOCK_SIZE = 16\n",
    "STEP_SIZE = MBEDTLS_AES_BLOCK_SIZE\n",
    "MIN_NUM_BYTES = STEP_SIZE\n",
    "aes128_chkp = []\n",
    "aes128_rest = []\n",
    "aes128_chkp_time = []\n",
    "aes128_rest_time = []\n",
    "aes128_x = []\n",
    "for i in range(0, min_num//STEP_SIZE):\n",
    "    aes128_x.append(MIN_NUM_BYTES + i*STEP_SIZE)\n",
    "    aes128_chkp.append((aes128_encrypt_energy_mJ[i] + aes128_flash_write_energy_mJ[i])  * m_to_u)\n",
    "    aes128_rest.append((aes128_decrypt_energy_mJ[i] + aes128_flash_read_energy_mJ[i]) * m_to_u)\n",
    "    aes128_chkp_time.append((aes128_encrypt_time_ms[i] + aes128_flash_write_time_ms[i]))\n",
    "    aes128_rest_time.append((aes128_decrypt_time_ms[i] + aes128_flash_read_time_ms[i]))"
   ]
  },
  {
   "cell_type": "code",
   "execution_count": 16,
   "metadata": {},
   "outputs": [],
   "source": [
    "MBEDTLS_AES_BLOCK_SIZE = 16\n",
    "STEP_SIZE = MBEDTLS_AES_BLOCK_SIZE\n",
    "MIN_NUM_BYTES = STEP_SIZE\n",
    "aes256_chkp = []\n",
    "aes256_rest = []\n",
    "aes256_chkp_time = []\n",
    "aes256_rest_time = []\n",
    "aes256_x = []\n",
    "for i in range(0, min_num//STEP_SIZE):\n",
    "    aes256_x.append(MIN_NUM_BYTES + i*STEP_SIZE)\n",
    "    aes256_chkp.append((aes256_encrypt_energy_mJ[i] + aes256_flash_write_energy_mJ[i])  * m_to_u)\n",
    "    aes256_rest.append((aes256_decrypt_energy_mJ[i] + aes256_flash_read_energy_mJ[i]) * m_to_u)\n",
    "    aes256_chkp_time.append((aes256_encrypt_time_ms[i] + aes256_flash_write_time_ms[i]))\n",
    "    aes256_rest_time.append((aes256_decrypt_time_ms[i] + aes256_flash_read_time_ms[i]))"
   ]
  },
  {
   "cell_type": "code",
   "execution_count": 17,
   "metadata": {},
   "outputs": [],
   "source": [
    "WOLFSSL_AES_BLOCK_SIZE = 16\n",
    "STEP_SIZE = WOLFSSL_AES_BLOCK_SIZE\n",
    "MIN_NUM_BYTES = STEP_SIZE\n",
    "aes128w_chkp = []\n",
    "aes128w_rest = []\n",
    "aes128w_chkp_time = []\n",
    "aes128w_rest_time = []\n",
    "aes128w_x = []\n",
    "for i in range(0, min_num//STEP_SIZE):\n",
    "    aes128w_x.append(MIN_NUM_BYTES + i*STEP_SIZE)\n",
    "    aes128w_chkp.append((aes128w_encrypt_energy_mJ[i] + aes128w_flash_write_energy_mJ[i])  * m_to_u)\n",
    "    aes128w_rest.append((aes128w_decrypt_energy_mJ[i] + aes128w_flash_read_energy_mJ[i]) * m_to_u)\n",
    "    aes128w_chkp_time.append((aes128w_encrypt_time_ms[i] + aes128w_flash_write_time_ms[i]))\n",
    "    aes128w_rest_time.append((aes128w_decrypt_time_ms[i] + aes128w_flash_read_time_ms[i]))"
   ]
  },
  {
   "cell_type": "code",
   "execution_count": 18,
   "metadata": {},
   "outputs": [],
   "source": [
    "WOLFSSL_AES_BLOCK_SIZE = 16\n",
    "STEP_SIZE = WOLFSSL_AES_BLOCK_SIZE\n",
    "MIN_NUM_BYTES = STEP_SIZE\n",
    "aes256w_chkp = []\n",
    "aes256w_rest = []\n",
    "aes256w_chkp_time = []\n",
    "aes256w_rest_time = []\n",
    "aes256w_x = []\n",
    "for i in range(0, min_num//STEP_SIZE):\n",
    "    aes256w_x.append(MIN_NUM_BYTES + i*STEP_SIZE)\n",
    "    aes256w_chkp.append((aes256w_encrypt_energy_mJ[i] + aes256w_flash_write_energy_mJ[i])  * m_to_u)\n",
    "    aes256w_rest.append((aes256w_decrypt_energy_mJ[i] + aes256w_flash_read_energy_mJ[i]) * m_to_u)\n",
    "    aes256w_chkp_time.append((aes256w_encrypt_time_ms[i] + aes256w_flash_write_time_ms[i]))\n",
    "    aes256w_rest_time.append((aes256w_decrypt_time_ms[i] + aes256w_flash_read_time_ms[i]))"
   ]
  },
  {
   "cell_type": "code",
   "execution_count": 19,
   "metadata": {},
   "outputs": [
    {
     "data": {
      "text/plain": [
       "465.9305904490598"
      ]
     },
     "execution_count": 19,
     "metadata": {},
     "output_type": "execute_result"
    }
   ],
   "source": [
    "no_security_chkp = []\n",
    "no_security_rest = []\n",
    "no_security_chkp_time = []\n",
    "no_security_rest_time = []\n",
    "no_security_x = []\n",
    "for i in range(0, min_num):\n",
    "    no_security_x.append(i+1)\n",
    "    no_security_chkp.append(flash_write_energy_mJ[i]  * m_to_u)\n",
    "    no_security_rest.append(flash_read_energy_mJ[i] * m_to_u)\n",
    "    no_security_chkp_time.append(flash_write_time_ms[i])\n",
    "    no_security_rest_time.append(flash_read_time_ms[i])\n",
    "    \n",
    "no_security_chkp[4095]    \n",
    "#no_security_chkp_time[4095]"
   ]
  },
  {
   "cell_type": "markdown",
   "metadata": {},
   "source": [
    "## For-128-Only"
   ]
  },
  {
   "cell_type": "code",
   "execution_count": null,
   "metadata": {},
   "outputs": [],
   "source": []
  },
  {
   "cell_type": "code",
   "execution_count": 111,
   "metadata": {},
   "outputs": [],
   "source": [
    "every = 500\n",
    "everies= [every//MBEDTLS_AES_BLOCK_SIZE*2, every//MBEDTLS_AES_BLOCK_SIZE,\n",
    "          every//MBEDTLS_AES_BLOCK_SIZE, every//MBEDTLS_AES_BLOCK_SIZE*2,\n",
    "          every//MBEDTLS_AES_BLOCK_SIZE*2, every//MBEDTLS_AES_BLOCK_SIZE,\n",
    "          every*2, every]\n",
    "colors = ['#92140c','#92140c',\n",
    "          '#EFEE69','#EFEE69',\n",
    "          '#85e085', '#85e085',\n",
    "          '#262932', '#262932']\n",
    "     \n",
    "linestyles = [(0, (1.0, 0)), (0, (1.0, 0.5)), (0, (1.0, 0)), (0, (1.0, 0.5)), (0, (1.0, 0)), (0, (1.0, 0.5)), (0, (6.0, 3.0)), (0, (7.0, 3.5))]\n",
    "        \n",
    "markers = ['o', '^',\n",
    "           'o', '^',\n",
    "           'o', '^',\n",
    "          'o', 'D'] #, 'o', 'D'\n",
    "#marker_edgeColor = ['b','c','b','c','b','c','b','c','b','c','b','c']\n",
    "marker_fillStyle = ['full','full',\n",
    "                    'full','full',\n",
    "                    'full','full',\n",
    "                   'full','full']\n",
    "opacity = 0.8"
   ]
  },
  {
   "cell_type": "code",
   "execution_count": 112,
   "metadata": {},
   "outputs": [
    {
     "data": {
      "text/plain": [
       "Text(0, 0.5, 'Energy [$\\\\mu$J]')"
      ]
     },
     "execution_count": 112,
     "metadata": {},
     "output_type": "execute_result"
    }
   ],
   "source": [
    "consistent_colors = True\n",
    "fig_energy = plt.figure(figsize=(6, 4))\n",
    "fig_energy.canvas.set_window_title(\"Analysis Energy\")\n",
    "fig_energy.clf()\n",
    "ax1 = fig_energy.add_subplot(1, 1, 1)\n",
    "ax1.set_xlabel('Checkpoint Size [Bytes]')\n",
    "ax1.set_ylabel('Energy [$\\mu$J]') # $\\mu$"
   ]
  },
  {
   "cell_type": "code",
   "execution_count": 113,
   "metadata": {},
   "outputs": [],
   "source": [
    "lines = []\n",
    "lines += ax1.plot(crypto128_x, crypto128_chkp, label='AES-128 ECB Crypto-Accelerator Checkpoint', alpha=0.6)\n",
    "lines += ax1.plot(crypto128_x, crypto128_rest, label='AES-128 ECB Crypto-Accelerator Restore', alpha=0.6)\n",
    "lines += ax1.plot(aes128w_x, aes128w_chkp, label='AES-128 ECB wolfSSL Checkpoint', alpha=1)\n",
    "lines += ax1.plot(aes128w_x, aes128w_rest, label='AES-128 ECB wolfSSL Restore', alpha=1)\n",
    "lines += ax1.plot(aes128_x, aes128_chkp, label='AES-128 ECB mbedTLS Checkpoint', alpha=opacity)\n",
    "lines += ax1.plot(aes128_x, aes128_rest, label='AES-128 ECB mbedTLS Restore', alpha=opacity)\n",
    "lines += ax1.plot(no_security_x, no_security_chkp, label='No Security Checkpoint', zorder=0, alpha=opacity)\n",
    "lines += ax1.plot(no_security_x, no_security_rest, label='No Security Restore', zorder=0, alpha=opacity)\n",
    "for i in range(len(lines)):\n",
    "    lines[i].set_markevery(everies[i])\n",
    "    lines[i].set_linestyle(linestyles[i])\n",
    "    lines[i].set_marker(markers[i])\n",
    "   # lines[i].set_markeredgecolor(marker_edgeColor[i])\n",
    "    lines[i].set_fillstyle(marker_fillStyle[i])\n",
    "    if consistent_colors:\n",
    "        lines[i].set_color(colors[i])\n",
    "\n",
    "ax1.legend(handles=lines)\n",
    "ax1.legend(title='Cortex M0+')\n",
    "# ax1.set_yscale('log')\n",
    "ax1.grid()\n",
    "fig_energy.tight_layout()\n",
    "fig_energy.show()"
   ]
  },
  {
   "cell_type": "code",
   "execution_count": 123,
   "metadata": {},
   "outputs": [],
   "source": [
    "fig_time = plt.figure(figsize=(6, 4))\n",
    "fig_time.canvas.set_window_title(\"Analysis Time\")"
   ]
  },
  {
   "cell_type": "code",
   "execution_count": 124,
   "metadata": {},
   "outputs": [
    {
     "data": {
      "text/plain": [
       "Text(0, 0.5, 'Time [ms]')"
      ]
     },
     "execution_count": 124,
     "metadata": {},
     "output_type": "execute_result"
    }
   ],
   "source": [
    "fig_time.clf()\n",
    "ax2 = fig_time.add_subplot(1, 1, 1)\n",
    "ax2.set_xlabel('Checkpoint Size [Bytes]')\n",
    "ax2.set_ylabel('Time [ms]') # $\\mu$"
   ]
  },
  {
   "cell_type": "code",
   "execution_count": 125,
   "metadata": {},
   "outputs": [],
   "source": [
    "lines = []\n",
    "lines += ax2.plot(crypto128_x, crypto128_chkp_time, label='AES-128 ECB Crypto-Accelerator Checkpoint', alpha=opacity)\n",
    "lines += ax2.plot(crypto128_x, crypto128_rest_time, label='AES-128 ECB Crypto-Accelerator Restore', alpha=opacity)\n",
    "lines += ax2.plot(aes128w_x, aes128w_chkp_time, label='AES-128 ECB wolfSSL Checkpoint', alpha=opacity)\n",
    "lines += ax2.plot(aes128w_x, aes128w_rest_time, label='AES-128 ECB wolfSSL Restore', alpha=opacity)\n",
    "lines += ax2.plot(aes128_x, aes128_chkp_time, label='AES-128 ECB mbedTLS Checkpoint', alpha=opacity)\n",
    "lines += ax2.plot(aes128_x, aes128_rest_time, label='AES-128 ECB mbedTLS Restore', alpha=opacity)\n",
    "lines += ax2.plot(no_security_x, no_security_chkp_time, label='No Security Checkpoint', zorder=0, alpha=opacity)\n",
    "lines += ax2.plot(no_security_x, no_security_rest_time, label='No Security Restore', zorder=0, alpha=opacity)\n",
    "for i in range(len(lines)):\n",
    "    lines[i].set_markevery(everies[i])\n",
    "    lines[i].set_linestyle(linestyles[i])\n",
    "    lines[i].set_marker(markers[i])\n",
    "    lines[i].set_fillstyle(marker_fillStyle[i])\n",
    "    if consistent_colors:\n",
    "        lines[i].set_color(colors[i])\n",
    "\n",
    "ax2.legend(handles=lines)\n",
    "ax2.legend(title='Cortex M0+')\n",
    "# ax2.set_yscale('log')\n",
    "ax2.grid()\n",
    "fig_time.tight_layout()\n",
    "fig_time.show()"
   ]
  },
  {
   "cell_type": "markdown",
   "metadata": {},
   "source": [
    "## For 256 Only"
   ]
  },
  {
   "cell_type": "code",
   "execution_count": 172,
   "metadata": {},
   "outputs": [],
   "source": [
    "every = 500\n",
    "everies= [every//MBEDTLS_AES_BLOCK_SIZE*2, every//MBEDTLS_AES_BLOCK_SIZE,\n",
    "          every//MBEDTLS_AES_BLOCK_SIZE, every//MBEDTLS_AES_BLOCK_SIZE*2,\n",
    "        #  every//MBEDTLS_AES_BLOCK_SIZE*2, every//MBEDTLS_AES_BLOCK_SIZE,\n",
    "        #  every//MBEDTLS_AES_BLOCK_SIZE*2, every//MBEDTLS_AES_BLOCK_SIZE,\n",
    "        #  every//MBEDTLS_AES_BLOCK_SIZE*2, every//MBEDTLS_AES_BLOCK_SIZE,\n",
    "       #   every, every*2,\n",
    "          every//MBEDTLS_AES_BLOCK_SIZE*2, every//MBEDTLS_AES_BLOCK_SIZE]\n",
    "colors = [\n",
    "        '#92140c','#92140c',\n",
    "        #  '#284b63', '#284b63',\n",
    "        #  '#EFEE69','#EFEE69',\n",
    "          '#C8B94E', '#C8B94E',\n",
    "        #  '#85e085', '#85e085']\n",
    "          '#258e25', '#258e25'] \n",
    "     #     '#66b3ff', '#66b3ff'\n",
    "          #'k'#D80303\n",
    "#colors = [\n",
    "#    '#27496d',\n",
    "#    '#00a8cc',\n",
    "#    '#f6d743',\n",
    "#    '#f6f578',\n",
    "#    '06623b',\n",
    "#    '#649d66'\n",
    "    \n",
    "#]        \n",
    "\n",
    "# colors = ['#85e085', '#85e085', '#258e25', '#258e25', '#66b3ff', '#66b3ff', '#b3b3cc', '#b3b3cc'] #'k'\n",
    "# security_colors = {'AES_Flash':'#85e085', 'AES-128_Flash':'#85e085', 'AES-256_Flash':'#258e25', 'TrustZone_Flash':'#66b3ff', 'No_Security_Flash':'#b3b3cc'}\n",
    "\n",
    "linestyles = [(0, (1.0, 0)), (0, (1.0, 0.5)), (0, (1.0, 0)), (0, (1.0, 0.5)), (0, (1.0, 0)), (0, (1.0, 0.5))]\n",
    "          #(0, (1.0, 0)), (0, (1.0, 0.5)),\n",
    "              #(0, (1.0, 0)), (0, (1.0, 0.5)),\n",
    "              #(0, (1.0, 0)), (0, (1.0, 0.5)),\n",
    "              #, (0, (6.0, 3.0)), (0, (7.0, 3.5))]\n",
    "markers = ['o', '^',\n",
    "           'o', '^',\n",
    "           #'o', '^',\n",
    "           #'o', '^', \n",
    "           #'o', '^',\n",
    "           'o', '^'] #, 'o', 'D'\n",
    "#marker_edgeColor = ['b','c','b','c','b','c','b','c','b','c','b','c']\n",
    "marker_fillStyle = ['full','full',\n",
    "                    'full','full',\n",
    "                    #'full','full',\n",
    "                    #'full','full',\n",
    "                    #'full','full',\n",
    "                    'full','full' ]\n",
    "opacity = 0.8"
   ]
  },
  {
   "cell_type": "code",
   "execution_count": 135,
   "metadata": {},
   "outputs": [
    {
     "data": {
      "text/plain": [
       "Text(0, 0.5, 'Energy [$\\\\mu$J]')"
      ]
     },
     "execution_count": 135,
     "metadata": {},
     "output_type": "execute_result"
    }
   ],
   "source": [
    "consistent_colors = True\n",
    "fig_energy = plt.figure(figsize=(15, 7.5), dpi= 100)\n",
    "fig_energy.canvas.set_window_title(\"Analysis Energy Key 256-bit\")\n",
    "fig_energy.clf()\n",
    "ax1 = fig_energy.add_subplot(1, 1, 1)\n",
    "ax1.set_xlabel('Checkpoint Size [Bytes]')\n",
    "ax1.set_ylabel('Energy [$\\mu$J]') # $\\mu$"
   ]
  },
  {
   "cell_type": "markdown",
   "metadata": {},
   "source": [
    "## For 256 Stack Representation"
   ]
  },
  {
   "cell_type": "code",
   "execution_count": 174,
   "metadata": {},
   "outputs": [],
   "source": [
    "def sub(list1,list2):\n",
    " difference = []\n",
    " zip_object = zip(list1, list2)\n",
    " for list1_i, list2_i in zip_object:\n",
    "     difference.append(list1_i-list2_i)\n",
    "\n",
    " return(difference)"
   ]
  },
  {
   "cell_type": "code",
   "execution_count": 175,
   "metadata": {},
   "outputs": [],
   "source": [
    "#colors = [\n",
    "#    '#7aa6c2',   #Restore Crypto\n",
    "#    '#649d66',   #Restore Mbed \n",
    "#    '#346888',   #Checkpoint Crypto\n",
    "#    '#F6D35B',   #Restore WolfSSL\n",
    "#    '#06623b',    #Checkpoint MbedTLS\n",
    "#    '#f6d743'    #CheckpointWolfSSL\n",
    "#]"
   ]
  },
  {
   "cell_type": "code",
   "execution_count": 176,
   "metadata": {},
   "outputs": [],
   "source": [
    "labels= [\"AES-256 CBC Crypto-Accelerator Restore\",\"AES-256 CBC mbedTLS Restore\",\n",
    "         \"AES-256 CBC Crypto-Accelerator Checkpoint\",\"AES-256 CBC wolfSSL Restore\",\n",
    "        \"AES-256 CBC mbedTLS Checkpoint\", \"AES-256 CBC wolfSSL Checkpoint\"]\n",
    "hatches = [\"x\", \"x\", \"\", \"x\",\"\", \"\"]\n",
    "colors_stack = [\n",
    "    '#92140c',   #Restore Crypto\n",
    "    '#258e25',   #Restore Mbed \n",
    "    '#92140c',   #Checkpoint Crypto\n",
    "    '#C8B94E',   #Restore WolfSSL\n",
    "    '#258e25',    #Checkpoint MbedTLS\n",
    "    '#C8B94E'    #CheckpointWolfSSL\n",
    "]\n",
    "edge_colors = [\n",
    "    '#897A31',   #Restore Crypto\n",
    "    '#897A31',   #Restore Mbed \n",
    "    '#DAA520',   #Checkpoint Crypto\n",
    "    '#000000',   #Restore WolfSSL\n",
    "    '#DAA520',    #Checkpoint MbedTLS\n",
    "    '#DAA520'    #CheckpointWolfSSL \n",
    "]\n",
    "alpha = [0.3, 0.3, 0.7,0.4,0.7,0.7]\n",
    "i = 0\n",
    "stacks = ax1.stackplot(crypto128_x,crypto256_rest, sub(aes256_rest, crypto256_rest),sub(crypto256_chkp, aes256_rest),\n",
    "                       sub(aes256w_rest,crypto256_chkp),sub(aes256_chkp,aes256w_rest ),sub(aes256w_chkp, aes256_chkp),  colors=colors_stack) #labels=labels,\n",
    "#ax1.legend(title='#Cortex M0+# \\nCheckpoint = Encryption + Write on Flash \\nRestore = Read from Flash + Decryption', loc='upper left')\n",
    "for stack, hatch in zip(stacks, hatches):\n",
    "    stack.set_hatch(hatch)\n",
    "    stack.set_alpha(alpha[i])\n",
    "    #stack.set_edgecolor(edge_colors[i])\n",
    "    i = i+1\n",
    "\n",
    "#fig_energy.tight_layout()\n",
    "#fig_energy.show()"
   ]
  },
  {
   "cell_type": "markdown",
   "metadata": {},
   "source": [
    "## For Line Representation"
   ]
  },
  {
   "cell_type": "code",
   "execution_count": 136,
   "metadata": {},
   "outputs": [],
   "source": [
    "lines = []\n",
    "#lines += ax1.plot(crypto128_x, crypto128_chkp, label='AES-128 CBC Crypto-Accelerator Checkpoint', alpha=0.6)\n",
    "#lines += ax1.plot(crypto128_x, crypto128_rest, label='AES-128 CBC Crypto-Accelerator Restore', alpha=0.6)\n",
    "lines += ax1.plot(crypto256_x, crypto256_chkp, label='AES-256 ECB Crypto-Accelerator Checkpoint', alpha =1) #\n",
    "lines += ax1.plot(crypto256_x, crypto256_rest, label='AES-256 ECB Crypto-Accelerator Restore', alpha=0.7)\n",
    "#lines += ax1.plot(aes128w_x, aes128w_chkp, label='AES-128 CBC wolfSSL Checkpoint', alpha=1)\n",
    "#lines += ax1.plot(aes128w_x, aes128w_rest, label='AES-128 CBC wolfSSL Restore', alpha=1)\n",
    "lines += ax1.plot(aes256w_x, aes256w_chkp, label='AES-256 ECB wolfSSL Checkpoint', alpha=1)\n",
    "lines += ax1.plot(aes256w_x, aes256w_rest, label='AES-256 ECB wolfSSL Restore', alpha=0.7)\n",
    "#lines += ax1.plot(aes128_x, aes128_chkp, label='AES-128 CBC mbedTLS Checkpoint', alpha=opacity)\n",
    "#lines += ax1.plot(aes128_x, aes128_rest, label='AES-128 CBC mbedTLS Restore', alpha=opacity)\n",
    "lines += ax1.plot(aes256_x, aes256_chkp, label='AES-256 ECB mbedTLS Checkpoint', alpha=1)\n",
    "lines += ax1.plot(aes256_x, aes256_rest, label='AES-256 ECB mbedTLS Restore', alpha=0.7)\n",
    "lines += ax1.plot(no_security_x, no_security_chkp, label='No Security Checkpoint (Only write on flash)', zorder=0, alpha=opacity)\n",
    "lines += ax1.plot(no_security_x, no_security_rest, label='No Security Restore (Only read from flash)', zorder=0, alpha=opacity)\n",
    "for i in range(len(lines)):\n",
    "    lines[i].set_markevery(everies[i])\n",
    "    lines[i].set_linestyle(linestyles[i])\n",
    "    lines[i].set_marker(markers[i])\n",
    "   # lines[i].set_markeredgecolor(marker_edgeColor[i])\n",
    "    lines[i].set_fillstyle(marker_fillStyle[i])\n",
    "    if consistent_colors:\n",
    "        lines[i].set_color(colors[i])\n",
    "\n",
    "ax1.legend(handles=lines)\n",
    "#fig_energy.legend(suptitle='Cortex M0+ \\nCheckpoint = Encryption + Write on Flash \\nRestore = Read from Flash + Decryption')\n",
    "ax1.legend(title='Cortex M0+ \\nCheckpoint = Encryption + Write on Flash \\nRestore = Read from Flash + Decryption')\n",
    "# ax1.set_yscale('log')\n",
    "#ax1.grid()\n",
    "fig_energy.tight_layout()\n",
    "fig_energy.show()"
   ]
  },
  {
   "cell_type": "code",
   "execution_count": 143,
   "metadata": {},
   "outputs": [],
   "source": [
    "fig_time = plt.figure(figsize=(6, 4))\n",
    "fig_time.canvas.set_window_title(\"Analysis Time\")"
   ]
  },
  {
   "cell_type": "code",
   "execution_count": 144,
   "metadata": {},
   "outputs": [
    {
     "data": {
      "text/plain": [
       "Text(0, 0.5, 'Time [ms]')"
      ]
     },
     "execution_count": 144,
     "metadata": {},
     "output_type": "execute_result"
    }
   ],
   "source": [
    "fig_time.clf()\n",
    "ax2 = fig_time.add_subplot(1, 1, 1)\n",
    "ax2.set_xlabel('Checkpoint Size [Bytes]')\n",
    "ax2.set_ylabel('Time [ms]') # $\\mu$"
   ]
  },
  {
   "cell_type": "code",
   "execution_count": 145,
   "metadata": {},
   "outputs": [],
   "source": [
    "lines = []\n",
    "lines += ax2.plot(crypto256_x, crypto256_chkp_time, label='AES-256 ECB Crypto-Accelerator Checkpoint', zorder=3, alpha=opacity)\n",
    "lines += ax2.plot(crypto256_x, crypto256_rest_time, label='AES-256 ECB Crypto-Accelerator Restore', alpha=opacity)\n",
    "lines += ax2.plot(aes256w_x, aes256w_chkp_time, label='AES-256 ECB wolfSSL Checkpoint', alpha=opacity)\n",
    "lines += ax2.plot(aes256w_x, aes256w_rest_time, label='AES-256 ECB wolfSSL Restore', alpha=opacity)\n",
    "lines += ax2.plot(aes256_x, aes256_chkp_time, label='AES-256 ECB mbedTLS Checkpoint', alpha=opacity)\n",
    "lines += ax2.plot(aes256_x, aes256_rest_time, label='AES-256 ECB mbedTLS Restore', alpha=opacity)\n",
    "lines += ax2.plot(no_security_x, no_security_chkp_time, label='No Security Checkpoint  (Only write on flash)', zorder=0, alpha=opacity)\n",
    "lines += ax2.plot(no_security_x, no_security_rest_time, label='No Security Restore (Only read from flash)', zorder=0, alpha=opacity)\n",
    "for i in range(len(lines)):\n",
    "    lines[i].set_markevery(everies[i])\n",
    "    lines[i].set_linestyle(linestyles[i])\n",
    "    lines[i].set_marker(markers[i])\n",
    "    lines[i].set_fillstyle(marker_fillStyle[i])\n",
    "    if consistent_colors:\n",
    "        lines[i].set_color(colors[i])\n",
    "\n",
    "ax2.legend(handles=lines)\n",
    "ax2.legend(title='Cortex M0+')\n",
    "# ax2.set_yscale('log')\n",
    "ax2.grid()\n",
    "fig_time.tight_layout()\n",
    "fig_time.show()"
   ]
  },
  {
   "cell_type": "markdown",
   "metadata": {},
   "source": [
    "## For ALL"
   ]
  },
  {
   "cell_type": "code",
   "execution_count": 140,
   "metadata": {},
   "outputs": [],
   "source": [
    "every = 500\n",
    "everies= [every//MBEDTLS_AES_BLOCK_SIZE, every//MBEDTLS_AES_BLOCK_SIZE,\n",
    "          every//MBEDTLS_AES_BLOCK_SIZE*2, every//MBEDTLS_AES_BLOCK_SIZE*2,\n",
    "          every//MBEDTLS_AES_BLOCK_SIZE*2, every//MBEDTLS_AES_BLOCK_SIZE,\n",
    "          every//MBEDTLS_AES_BLOCK_SIZE*2, every//MBEDTLS_AES_BLOCK_SIZE,\n",
    "          every//MBEDTLS_AES_BLOCK_SIZE*2, every//MBEDTLS_AES_BLOCK_SIZE,\n",
    "          every//MBEDTLS_AES_BLOCK_SIZE*2, every//MBEDTLS_AES_BLOCK_SIZE,\n",
    "          every*2, every,]\n",
    "colors = ['#92140c','#92140c',\n",
    "          '#284b63', '#284b63',\n",
    "          '#EFEE69','#EFEE69',\n",
    "          '#C8B94E', '#C8B94E',\n",
    "          '#85e085', '#85e085',\n",
    "          '#258e25', '#258e25',\n",
    "          '#262932', '#262932'] \n",
    "     #     '#66b3ff', '#66b3ff'\n",
    "          #'k'#D80303\n",
    "\n",
    "# colors = ['#85e085', '#85e085', '#258e25', '#258e25', '#66b3ff', '#66b3ff', '#b3b3cc', '#b3b3cc'] #'k'\n",
    "# security_colors = {'AES_Flash':'#85e085', 'AES-128_Flash':'#85e085', 'AES-256_Flash':'#258e25', 'TrustZone_Flash':'#66b3ff', 'No_Security_Flash':'#b3b3cc'}\n",
    "\n",
    "linestyles = [(0, (1.0, 0)), (0, (1.0, 0.5)),(0, (1.0, 0)), (0, (1.0, 0.5)),(0, (1.0, 0)), (0, (1.0, 0.5)), (0, (1.0, 0)), (0, (1.0, 0.5)), (0, (1.0, 0)), (0, (1.0, 0.5)),(0, (1.0, 0)), (0, (1.0, 0.5)), (0, (6.0, 3.0)), (0, (7.0, 3.5))]\n",
    "              #, (0, (6.0, 3.0)), (0, (7.0, 3.5))]\n",
    "markers = ['o', '^','o', '^','o', '^','o', '^', 'o', '^', 'o', '^', 'o', '^']\n",
    "#marker_edgeColor = ['b','c','b','c','b','c','b','c','b','c','b','c']\n",
    "marker_fillStyle = [ 'full','full', 'full','full', 'full','full', 'full','full', 'full','full', 'full','full', 'full','full' ]\n",
    "opacity = 0.8"
   ]
  },
  {
   "cell_type": "code",
   "execution_count": 141,
   "metadata": {},
   "outputs": [],
   "source": [
    "consistent_colors = True"
   ]
  },
  {
   "cell_type": "code",
   "execution_count": 222,
   "metadata": {},
   "outputs": [],
   "source": [
    "fig_energy = plt.figure(figsize=(6.4, 4.8 ), dpi= 220) #figsize=(6, 4) width 6.4 height 4.8\n",
    "fig_energy.canvas.set_window_title(\"Analysis Energy\")"
   ]
  },
  {
   "cell_type": "code",
   "execution_count": 223,
   "metadata": {},
   "outputs": [
    {
     "data": {
      "text/plain": [
       "Text(0, 0.5, 'Energy [$\\\\mu$J]')"
      ]
     },
     "execution_count": 223,
     "metadata": {},
     "output_type": "execute_result"
    }
   ],
   "source": [
    "fig_energy.clf()\n",
    "ax1 = fig_energy.add_subplot(1, 1, 1)\n",
    "ax1.set_xlabel('Checkpoint Size [Bytes]')\n",
    "ax1.set_ylabel('Energy [$\\mu$J]') # $\\mu$"
   ]
  },
  {
   "cell_type": "code",
   "execution_count": 224,
   "metadata": {},
   "outputs": [],
   "source": [
    "class LegendTitle(object):\n",
    "    def __init__(self, text_props=None):\n",
    "        self.text_props = text_props or {}\n",
    "        super(LegendTitle, self).__init__()\n",
    "\n",
    "    def legend_artist(self, legend, orig_handle, fontsize, handlebox):\n",
    "        x0, y0 = handlebox.xdescent, handlebox.ydescent\n",
    "        title = mtext.Text(x0, y0,  orig_handle , **self.text_props)\n",
    "        handlebox.add_artist(title)\n",
    "        return title\n",
    "\n"
   ]
  },
  {
   "cell_type": "code",
   "execution_count": 225,
   "metadata": {},
   "outputs": [],
   "source": [
    "import matplotlib.text as mtext\n",
    "\n",
    "lines = []\n",
    "lines += ax1.plot(crypto128_x, crypto128_chkp, label='AES-128 ECB Crypto-Accelerator Checkpoint', alpha=0.6)\n",
    "lines += ax1.plot(crypto128_x, crypto128_rest, label='AES-128 ECB Crypto-Accelerator Restore', alpha=0.6)\n",
    "lines += ax1.plot(crypto256_x, crypto256_chkp, label='AES-256 ECB Crypto-Accelerator Checkpoint', alpha=0.6)\n",
    "lines += ax1.plot(crypto256_x, crypto256_rest, label='AES-256 ECB Crypto-Accelerator Restore', alpha=0.6)\n",
    "lines += ax1.plot(aes128w_x, aes128w_chkp, label='AES-128 ECB wolfSSL Checkpoint', alpha=1)\n",
    "lines += ax1.plot(aes128w_x, aes128w_rest, label='AES-128 ECB wolfSSL Restore', alpha=1)\n",
    "lines += ax1.plot(aes256w_x, aes256w_chkp, label='AES-256 ECB wolfSSL Checkpoint', alpha=opacity)\n",
    "lines += ax1.plot(aes256w_x, aes256w_rest, label='AES-256 ECB wolfSSL Restore', alpha=opacity)\n",
    "lines += ax1.plot(aes128_x, aes128_chkp, label='AES-128 ECB mbedTLS Checkpoint', alpha=opacity)\n",
    "lines += ax1.plot(aes128_x, aes128_rest, label='AES-128 ECB mbedTLS Restore', alpha=opacity)\n",
    "lines += ax1.plot(aes256_x, aes256_chkp, label='AES-256 ECB mbedTLS Checkpoint', alpha=opacity)\n",
    "lines += ax1.plot(aes256_x, aes256_rest, label='AES-256 ECB mbedTLS Restore', alpha=opacity)\n",
    "lines += ax1.plot(no_security_x, no_security_chkp, label='No Security Checkpoint (Only write on flash)', zorder=0, alpha=opacity)\n",
    "lines += ax1.plot(no_security_x, no_security_rest, label='No Security Restore (Only read from flash)', zorder=0, alpha=opacity)\n",
    "for i in range(len(lines)):\n",
    "    lines[i].set_markevery(everies[i])\n",
    "    lines[i].set_linestyle(linestyles[i])\n",
    "    lines[i].set_marker(markers[i])\n",
    "   # lines[i].set_markeredgecolor(marker_edgeColor[i])\n",
    "    lines[i].set_fillstyle(marker_fillStyle[i])\n",
    "    if consistent_colors:\n",
    "        lines[i].set_color(colors[i])\n",
    "\n",
    "#fig_energy.suptitle('Cortex M0+')        \n",
    "#ax1.legend(handles=lines)\n",
    "\n",
    "ax1.legend(['$\\it{Hardware}$', lines[0], lines[1], lines[2], lines[3], '$\\it{Software}$', lines[4], lines[5], lines[6], lines[7], lines[8], lines[9], lines[10], lines[11],'$\\it{No\\ Security}$', lines[12], lines[13]],\n",
    "           ['', 'AES-128 ECB AES-Module Checkpoint', 'AES-128 ECB AES-Module Restore', 'AES-256 ECB AES-Module Checkpoint', 'AES-256 ECB AES-Module Restore',\n",
    "            ' ','AES-128 ECB wolfCrypt Checkpoint','AES-128 ECB wolfCrypt Restore', 'AES-256 ECB wolfCrypt Checkpoint', 'AES-256 ECB wolfCrypt Restore',\n",
    "           'AES-128 ECB mbedTLS Checkpoint', 'AES-128 ECB mbedTLS Restore','AES-256 ECB mbedTLS Checkpoint', 'AES-256 ECB mbedTLS Restore', \n",
    "           ' ', 'No Security Checkpoint','No Security Restore'],\n",
    "           handler_map={str: LegendTitle({'fontsize': 5.2})} ,loc=2, prop={'size': 5.4}) #\n",
    "#ax1.legend(title='Cortex M0+')\n",
    "\n",
    "# ax1.set_yscale('log')\n",
    "ax1.grid()\n",
    "fig_energy.tight_layout()\n",
    "fig_energy.savefig('Analysis_Energy_M0.svg')\n",
    "#fig_energy.show()"
   ]
  },
  {
   "cell_type": "code",
   "execution_count": 185,
   "metadata": {},
   "outputs": [],
   "source": [
    "fig_time = plt.figure(figsize=(15, 7.5), dpi= 100)\n",
    "fig_time.canvas.set_window_title(\"Analysis Time\")"
   ]
  },
  {
   "cell_type": "code",
   "execution_count": 159,
   "metadata": {},
   "outputs": [
    {
     "data": {
      "text/plain": [
       "Text(0, 0.5, 'Time [ms]')"
      ]
     },
     "execution_count": 159,
     "metadata": {},
     "output_type": "execute_result"
    }
   ],
   "source": [
    "fig_time.clf()\n",
    "ax2 = fig_time.add_subplot(1, 1, 1)\n",
    "ax2.set_xlabel('Checkpoint Size [Bytes]')\n",
    "ax2.set_ylabel('Time [ms]') # $\\mu$"
   ]
  },
  {
   "cell_type": "code",
   "execution_count": 160,
   "metadata": {},
   "outputs": [],
   "source": [
    "lines = []\n",
    "lines += ax2.plot(crypto128_x, crypto128_chkp_time, label='AES-128 ECB Crypto-Accelerator Checkpoint', alpha=opacity)\n",
    "lines += ax2.plot(crypto128_x, crypto128_rest_time, label='AES-128 ECB Crypto-Accelerator Restore', alpha=opacity)\n",
    "lines += ax2.plot(crypto256_x, crypto256_chkp_time, label='AES-256 ECB Crypto-Accelerator Checkpoint', alpha=opacity)\n",
    "lines += ax2.plot(crypto256_x, crypto256_rest_time, label='AES-256 ECB Crypto-Accelerator Restore', alpha=opacity)\n",
    "lines += ax2.plot(aes128w_x, aes128w_chkp_time, label='AES-128 ECB wolfSSL Checkpoint', alpha=opacity)\n",
    "lines += ax2.plot(aes128w_x, aes128w_rest_time, label='AES-128 ECB wolfSSL Restore', alpha=opacity)\n",
    "lines += ax2.plot(aes256w_x, aes256w_chkp_time, label='AES-256 ECB wolfSSL Checkpoint', alpha=opacity)\n",
    "lines += ax2.plot(aes256w_x, aes256w_rest_time, label='AES-256 ECB wolfSSL Restore', alpha=opacity)\n",
    "lines += ax2.plot(aes128_x, aes128_chkp_time, label='AES-128 ECB mbedTLS Checkpoint', alpha=opacity)\n",
    "lines += ax2.plot(aes128_x, aes128_rest_time, label='AES-128 ECB mbedTLS Restore', alpha=opacity)\n",
    "lines += ax2.plot(aes256_x, aes256_chkp_time, label='AES-256 ECB mbedTLS Checkpoint', alpha=opacity)\n",
    "lines += ax2.plot(aes256_x, aes256_rest_time, label='AES-256 ECB mbedTLS Restore', alpha=opacity)\n",
    "lines += ax2.plot(no_security_x, no_security_chkp_time, label='No Security Checkpoint', zorder=0, alpha=opacity)\n",
    "lines += ax2.plot(no_security_x, no_security_rest_time, label='No Security Restore', zorder=0, alpha=opacity)\n",
    "for i in range(len(lines)):\n",
    "    lines[i].set_markevery(everies[i])\n",
    "    lines[i].set_linestyle(linestyles[i])\n",
    "    lines[i].set_marker(markers[i])\n",
    "    if consistent_colors:\n",
    "        lines[i].set_color(colors[i])\n",
    "\n",
    "#ax2.legend(handles=lines)\n",
    "fig_time.suptitle('Time Analysis - Cortex M0+')        \n",
    "\n",
    "#ax2.legend(title='Cortex M0+')\n",
    "ax2.legend(['Hardware', lines[0], lines[1], lines[2], lines[3], 'Software', lines[4], lines[5], lines[6], lines[7], lines[8], lines[9], lines[10], lines[11],'No Security', lines[12], lines[13]],\n",
    "           ['', 'AES-128 ECB Crypto-Accelerator Checkpoint', 'AES-128 ECB Crypto-Accelerator Restore', 'AES-256 ECB Crypto-Accelerator Checkpoint', 'AES-256 ECB Crypto-Accelerator Restore',\n",
    "            ' ','AES-128 ECB wolfSSL Checkpoint','AES-128 ECB wolfSSL Restore', 'AES-256 ECB wolfSSL Checkpoint', 'AES-256 ECB wolfSSL Restore',\n",
    "           'AES-128 ECB mbedTLS Checkpoint', 'AES-128 ECB mbedTLS Restore','AES-256 ECB mbedTLS Checkpoint', 'AES-256 ECB mbedTLS Restore', \n",
    "           ' ', 'No Security Checkpoint','No Security Restore'],\n",
    "           handler_map={str: LegendTitle({'fontsize': 11})})\n",
    "# ax2.set_yscale('log')\n",
    "ax2.grid()\n",
    "#fig_time.tight_layout()\n",
    "fig_time.show()"
   ]
  },
  {
   "cell_type": "markdown",
   "metadata": {},
   "source": [
    "## Zoom"
   ]
  },
  {
   "cell_type": "code",
   "execution_count": null,
   "metadata": {},
   "outputs": [],
   "source": [
    "ax1.set_xlim(5001,5250)\n",
    "# ax1.set_ylim(trustzone_chkp[5001-10]*0.99,trustzone_chkp[5001]*1.05)\n",
    "ax1.set_ylim(460,500)\n",
    "\n",
    "ax1.get_legend().remove()\n",
    "# ax1.legend(handles=[lines[4]]+[lines[6]])"
   ]
  },
  {
   "cell_type": "code",
   "execution_count": null,
   "metadata": {},
   "outputs": [],
   "source": [
    "ax2.set_xlim(5001,5250)\n",
    "ax2.set_ylim(73,80)\n",
    "\n",
    "ax2.get_legend().remove()\n",
    "# ax2.legend(handles=[lines[4]]+[lines[6]])"
   ]
  },
  {
   "cell_type": "code",
   "execution_count": null,
   "metadata": {},
   "outputs": [],
   "source": []
  },
  {
   "cell_type": "code",
   "execution_count": null,
   "metadata": {},
   "outputs": [],
   "source": []
  },
  {
   "cell_type": "code",
   "execution_count": null,
   "metadata": {},
   "outputs": [],
   "source": []
  },
  {
   "cell_type": "code",
   "execution_count": null,
   "metadata": {},
   "outputs": [],
   "source": [
    "tz_flash_write_charge = pickle.load(open(path.join(\"Validation\", \"No_Security_Flash\", \"no_security_flash_write_charge.p\"), \"rb\"))\n",
    "tz_flash_read_charge = pickle.load(open(path.join(\"Validation\", \"No_Security_Flash\", \"no_security_flash_read_charge.p\"), \"rb\"))\n",
    "tz_flash_write_time = pickle.load(open(path.join(\"Validation\", \"No_Security_Flash\", \"no_security_flash_write_time.p\"), \"rb\"))\n",
    "tz_flash_read_time = pickle.load(open(path.join(\"Validation\", \"No_Security_Flash\", \"no_security_flash_read_time.p\"), \"rb\"))\n",
    "tz_no_security = [tz_flash_write_charge, tz_flash_read_charge, tz_flash_write_time, tz_flash_read_time]\n",
    "for i in tz_no_security:\n",
    "    print(len(i))\n",
    "    \n",
    "tz_no_security_chkp = []\n",
    "tz_no_security_rest = []\n",
    "tz_no_security_x = []\n",
    "for i in range(0, min_num):\n",
    "    tz_no_security_x.append(i+1)\n",
    "    tz_no_security_chkp.append(tz_flash_write_charge[i] * voltage * j_scale)\n",
    "    tz_no_security_rest.append(tz_flash_read_charge[i] * voltage * j_scale)"
   ]
  },
  {
   "cell_type": "code",
   "execution_count": null,
   "metadata": {},
   "outputs": [],
   "source": [
    "fig_comp = plt.figure(figsize=(6, 4))\n",
    "fig_comp.canvas.set_window_title(\"Analysis Compare\")"
   ]
  },
  {
   "cell_type": "code",
   "execution_count": null,
   "metadata": {},
   "outputs": [],
   "source": [
    "fig_comp.clf()\n",
    "ax1 = fig_comp.add_subplot(1, 1, 1)\n",
    "ax1.set_xlabel('Checkpoint Size [Bytes]')\n",
    "ax1.set_ylabel('Energy [$\\mu$J]') # $\\mu$"
   ]
  },
  {
   "cell_type": "code",
   "execution_count": null,
   "metadata": {},
   "outputs": [],
   "source": [
    "lines = []\n",
    "lines += ax1.plot(tz_no_security_x, tz_no_security_chkp, label='TZ No Security Checkpoint')\n",
    "lines += ax1.plot(tz_no_security_x, tz_no_security_rest, label='TZ No Security Restore')\n",
    "lines += ax1.plot(no_security_x, no_security_chkp, label='No Security Checkpoint')\n",
    "lines += ax1.plot(no_security_x, no_security_rest, label='No Security Restore')\n",
    "for i in range(len(lines)):\n",
    "    lines[i].set_markevery(everies[i+2])\n",
    "    lines[i].set_linestyle(linestyles[i])\n",
    "    lines[i].set_marker(markers[i])\n",
    "#     lines[i].set_color(colors[i])\n",
    "\n",
    "ax1.legend(handles=lines)\n",
    "# ax1.set_yscale('log')\n",
    "ax1.grid()\n",
    "fig_comp.tight_layout()\n",
    "fig_comp.show()"
   ]
  },
  {
   "cell_type": "code",
   "execution_count": null,
   "metadata": {},
   "outputs": [],
   "source": []
  },
  {
   "cell_type": "code",
   "execution_count": null,
   "metadata": {},
   "outputs": [],
   "source": []
  },
  {
   "cell_type": "code",
   "execution_count": null,
   "metadata": {},
   "outputs": [],
   "source": []
  },
  {
   "cell_type": "code",
   "execution_count": null,
   "metadata": {},
   "outputs": [],
   "source": []
  },
  {
   "cell_type": "code",
   "execution_count": null,
   "metadata": {},
   "outputs": [],
   "source": []
  },
  {
   "cell_type": "code",
   "execution_count": null,
   "metadata": {},
   "outputs": [],
   "source": []
  },
  {
   "cell_type": "code",
   "execution_count": null,
   "metadata": {},
   "outputs": [],
   "source": []
  },
  {
   "cell_type": "code",
   "execution_count": null,
   "metadata": {},
   "outputs": [],
   "source": []
  },
  {
   "cell_type": "code",
   "execution_count": null,
   "metadata": {},
   "outputs": [],
   "source": []
  },
  {
   "cell_type": "code",
   "execution_count": null,
   "metadata": {},
   "outputs": [],
   "source": []
  },
  {
   "cell_type": "code",
   "execution_count": null,
   "metadata": {},
   "outputs": [],
   "source": []
  },
  {
   "cell_type": "code",
   "execution_count": null,
   "metadata": {},
   "outputs": [],
   "source": []
  }
 ],
 "metadata": {
  "kernelspec": {
   "display_name": "Python 3",
   "language": "python",
   "name": "python3"
  },
  "language_info": {
   "codemirror_mode": {
    "name": "ipython",
    "version": 3
   },
   "file_extension": ".py",
   "mimetype": "text/x-python",
   "name": "python",
   "nbconvert_exporter": "python",
   "pygments_lexer": "ipython3",
   "version": "3.8.1"
  }
 },
 "nbformat": 4,
 "nbformat_minor": 4
}

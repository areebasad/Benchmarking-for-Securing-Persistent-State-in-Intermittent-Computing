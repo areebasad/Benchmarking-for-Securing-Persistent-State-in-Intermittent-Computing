{
 "cells": [
  {
   "cell_type": "markdown",
   "metadata": {},
   "source": [
    "## Import Libraries"
   ]
  },
  {
   "cell_type": "code",
   "execution_count": 51,
   "metadata": {},
   "outputs": [],
   "source": [
    "# %matplotlib ipympl\n",
    "# %matplotlib inline\n",
    "%matplotlib wx"
   ]
  },
  {
   "cell_type": "code",
   "execution_count": 52,
   "metadata": {},
   "outputs": [],
   "source": [
    "import matplotlib.pyplot as plt\n",
    "plt.ion()"
   ]
  },
  {
   "cell_type": "code",
   "execution_count": 53,
   "metadata": {},
   "outputs": [],
   "source": [
    "from pydgilib_extra import *\n",
    "from atprogram import atprogram"
   ]
  },
  {
   "cell_type": "code",
   "execution_count": 54,
   "metadata": {},
   "outputs": [],
   "source": [
    "from os import getcwd, path, pardir\n",
    "import pickle"
   ]
  },
  {
   "cell_type": "markdown",
   "metadata": {},
   "source": [
    "## Compile and program project"
   ]
  },
  {
   "cell_type": "code",
   "execution_count": 55,
   "metadata": {},
   "outputs": [
    {
     "data": {
      "text/plain": [
       "'./AES-128_Crypto-Accelerator'"
      ]
     },
     "execution_count": 55,
     "metadata": {},
     "output_type": "execute_result"
    }
   ],
   "source": [
    "project_path = path.curdir + \"/\" + \"AES-128_Crypto-Accelerator\"\n",
    "project_name =  \"AES-128_Crypto-Accelerator\"\n",
    "device_name = \"ATSAML21J18B\"\n",
    "project_path "
   ]
  },
  {
   "cell_type": "code",
   "execution_count": 56,
   "metadata": {},
   "outputs": [
    {
     "name": "stdout",
     "output_type": "stream",
     "text": [
      "make: Nothing to be done for 'all'.\n",
      "\n",
      "[DEBUG] Starting execution of \"chiperase\"\n",
      "[DEBUG] Starting process 'C:\\Program Files (x86)\\Atmel\\Studio\\7.0\\atbackend\\atbackend.exe'\n",
      "[DEBUG] Connecting to TCP:127.0.0.1:50617\n",
      "[INFO] Connected to edbg, fw version: 3.25\n",
      "[INFO] Firmware check OK\n",
      "[DEBUG] Command \"chiperase\" finished with return code 0\n",
      "[DEBUG] Starting execution of \"program\"\n",
      "[DEBUG] Memory segment base written at 0x00000000. Size = 0x00000fb0.\n",
      "[DEBUG] Memory segment base written at 0x00000fb0. Size = 0x00000064.\n",
      "[DEBUG] Command \"program\" finished with return code 0\n",
      "[DEBUG] Starting execution of \"info\"\n",
      "[ERROR] Error in TCF lockbit format. Missed key Could not get Module LOCKBIT for ATSAML21J18B. (TCF Error code: 131120)\n",
      "[DEBUG] Command \"info\" finished with return code 0\n",
      "[DEBUG] Exit successfully.\n",
      "Firmware check OK\n",
      "Chiperase completed successfully\n",
      "Programming completed successfully.\n",
      "Tool edbg has firmware version: 03.25\n",
      "Target voltage: 3.31 V\n",
      "\n",
      "Device information:\n",
      "\n",
      "Name:       ATSAML21J18B  \n",
      "JtagId:     N/A           \n",
      "Revision:   C             \n",
      "Chip ID:    0x1081020f\n",
      "CPU arch.:  CORTEX-M0PLUS \n",
      "Series:     SAML21\n",
      "\n",
      "Memory Information:\n",
      "\n",
      "Address Space    StartAddress            Size\n",
      "\n",
      "base                      0x0     0x100000000\n",
      "  FLASH                   0x0         0x40000\n",
      "  CAL                0x800000             0x8\n",
      "  LOCKBIT            0x802000             0x4\n",
      "  AUX0               0x804000           0x100\n",
      "  AUX1               0x806000           0x100\n",
      "  RWW                0x400000          0x2000\n",
      "  HSRAM            0x20000000          0x8000\n",
      "  LPRAM            0x30000000          0x2000\n",
      "  HPB0             0x40000000          0x4000\n",
      "  HPB1             0x41000000         0x10000\n",
      "  HPB2             0x42000000          0x8000\n",
      "  HPB3             0x43000000          0x2000\n",
      "  HPB4             0x44000000          0x1000\n",
      "  PPB              0xe0000000        0x100000\n",
      "  SCS              0xe000e000          0x1000\n",
      "  PERIPHERALS      0x40000000      0x20000000\n",
      "\n",
      "fuses                     0x0      0x20000000\n",
      "\n",
      "OTP5_WORD_0 (0b01110111011001010010110110111111 <-> 0x77652dbf):\n",
      "   USB_TRIM      0x6\n",
      "   USB_TRANSP    0x19\n",
      "   USB_TRANSN    0x9\n",
      "   ADC_BIASCOMP  0x7\n",
      "   ADC_BIASREFBUF 0x7\n",
      "\n",
      "TEMP_LOG_WORD_1 (0b11010101010010111000100111111001 <-> 0xd54b89f9):\n",
      "   HOT_ADC_VAL   0xd54\n",
      "   ROOM_ADC_VAL  0xb89\n",
      "   HOT_INT1V_VAL 0xf9\n",
      "\n",
      "TEMP_LOG_WORD_0 (0b11111011100101010100100000011101 <-> 0xfb95481d):\n",
      "   ROOM_INT1V_VAL 0xfb\n",
      "   HOT_TEMP_VAL_DEC 0x9\n",
      "   HOT_TEMP_VAL_INT 0x54\n",
      "   ROOM_TEMP_VAL_DEC 0x8\n",
      "   ROOM_TEMP_VAL_INT 0x1d\n",
      "\n",
      "USER_WORD_1 (0b11111111111111111111100010111011 <-> 0xfffff8bb):\n",
      "   NVMCTRL_REGION_LOCKS 0xffff\n",
      "   BOD12_HYST    0\n",
      "   BOD33_HYST    0\n",
      "   WDT_WEN       0\n",
      "   WDT_EWOFFSET  0xb\n",
      "   WDT_WINDOW    0xb\n",
      "\n",
      "USER_WORD_0 (0b10110001000111101000011011111111 <-> 0xb11e86ff):\n",
      "   WDT_PER       0xb\n",
      "   WDT_ALWAYSON  0\n",
      "   WDT_ENABLE    0\n",
      "   BOD12_DIS     0\n",
      "   BOD33_ACTION  0x1\n",
      "   BOD33_DIS     0\n",
      "   BOD33USERLEVEL 0x6\n",
      "   NVMCTRL_EEPROM_SIZE 0x7\n",
      "   NVMCTRL_BOOTPROT 0x7\n",
      "\n",
      "\n"
     ]
    },
    {
     "data": {
      "text/plain": [
       "0"
      ]
     },
     "execution_count": 56,
     "metadata": {},
     "output_type": "execute_result"
    }
   ],
   "source": [
    "atprogram.atprogram(project_path, device_name = device_name ,verbose=3)"
   ]
  },
  {
   "cell_type": "code",
   "execution_count": 57,
   "metadata": {},
   "outputs": [],
   "source": [
    "#atprogram(path.abspath(path.join(*project_path)), verbose=2)"
   ]
  },
  {
   "cell_type": "code",
   "execution_count": 58,
   "metadata": {},
   "outputs": [
    {
     "name": "stdout",
     "output_type": "stream",
     "text": [
      "{'text': 4016, 'data': 100, 'bss': 8332, 'dec': 12448, 'hex': 12448, 'filename': 'AES-128_Crypto-Accelerator.elf'}\n"
     ]
    },
    {
     "data": {
      "text/plain": [
       "{'text': 4016,\n",
       " 'data': 100,\n",
       " 'bss': 8332,\n",
       " 'dec': 12448,\n",
       " 'hex': 12448,\n",
       " 'filename': 'AES-128_Crypto-Accelerator.elf'}"
      ]
     },
     "execution_count": 58,
     "metadata": {},
     "output_type": "execute_result"
    }
   ],
   "source": [
    "atprogram.get_project_size(project_path, device_name = device_name , verbose=2)"
   ]
  },
  {
   "cell_type": "code",
   "execution_count": null,
   "metadata": {},
   "outputs": [],
   "source": []
  },
  {
   "cell_type": "markdown",
   "metadata": {},
   "source": [
    "## Data Logging"
   ]
  },
  {
   "cell_type": "code",
   "execution_count": 59,
   "metadata": {},
   "outputs": [],
   "source": [
    "live_plot = False"
   ]
  },
  {
   "cell_type": "markdown",
   "metadata": {},
   "source": [
    "Create a figure for the plot."
   ]
  },
  {
   "cell_type": "code",
   "execution_count": 60,
   "metadata": {},
   "outputs": [],
   "source": [
    "if live_plot:\n",
    "    fig = plt.figure(figsize=(10, 6))\n",
    "    fig.show()"
   ]
  },
  {
   "cell_type": "markdown",
   "metadata": {},
   "source": [
    "Create the configuration dictionary for `DGILibExtra`."
   ]
  },
  {
   "cell_type": "code",
   "execution_count": 61,
   "metadata": {},
   "outputs": [],
   "source": [
    "config_dict = {\n",
    "    \"loggers\": [LOGGER_OBJECT, LOGGER_CSV],\n",
    "    \"file_name_base\": \"experiment_aes_flash\"\n",
    "}\n",
    "config_dict_plot = {\n",
    "    \"loggers\": [LOGGER_OBJECT, LOGGER_PLOT, LOGGER_CSV],\n",
    "    \"plot_pins\": [False, False, True, True],\n",
    "    \"plot_pins_method\": \"line\",\n",
    "    \"plot_xmax\": 5,\n",
    "    \"window_title\": \"Experiment AES-128 Flash\",\n",
    "}"
   ]
  },
  {
   "cell_type": "markdown",
   "metadata": {},
   "source": [
    "Stop criteria to pass to the logger:"
   ]
  },
  {
   "cell_type": "code",
   "execution_count": 62,
   "metadata": {},
   "outputs": [],
   "source": [
    "def stop_fn(logger_data):\n",
    "    return all(logger_data.gpio.values[-1])"
   ]
  },
  {
   "cell_type": "code",
   "execution_count": 63,
   "metadata": {},
   "outputs": [],
   "source": [
    "with DGILib() as dgilib:\n",
    "    dgilib.get_major_version()"
   ]
  },
  {
   "cell_type": "markdown",
   "metadata": {},
   "source": [
    "Perform the measurement."
   ]
  },
  {
   "cell_type": "code",
   "execution_count": 64,
   "metadata": {},
   "outputs": [],
   "source": [
    "data = []\n",
    "cd = config_dict.copy()\n",
    "if live_plot:\n",
    "    fig.clf()\n",
    "    for ax in fig.get_axes():\n",
    "        ax.cla()\n",
    "    \n",
    "    cd.update(config_dict_plot)\n",
    "    cd[\"fig\"] = fig\n",
    "    \n",
    "with DGILibExtra(**cd) as dgilib:\n",
    "    dgilib.device_reset()\n",
    "    dgilib.logger.log(1000,stop_fn)\n",
    "    data = dgilib.data"
   ]
  },
  {
   "cell_type": "code",
   "execution_count": 65,
   "metadata": {},
   "outputs": [
    {
     "data": {
      "text/plain": [
       "{48: 6005, 256: 969000}"
      ]
     },
     "execution_count": 65,
     "metadata": {},
     "output_type": "execute_result"
    }
   ],
   "source": [
    "data.length()"
   ]
  },
  {
   "cell_type": "code",
   "execution_count": 66,
   "metadata": {},
   "outputs": [
    {
     "name": "stdout",
     "output_type": "stream",
     "text": [
      "Interfaces:\n",
      "\t  48:   gpio,    samples:    6005\n",
      "\t 256:   power,   samples:  969000\n",
      "\n"
     ]
    }
   ],
   "source": [
    "print(data)"
   ]
  },
  {
   "cell_type": "markdown",
   "metadata": {},
   "source": [
    "# Store Data"
   ]
  },
  {
   "cell_type": "code",
   "execution_count": 67,
   "metadata": {},
   "outputs": [],
   "source": [
    "import pickle"
   ]
  },
  {
   "cell_type": "code",
   "execution_count": 68,
   "metadata": {},
   "outputs": [],
   "source": [
    "pickle.dump(data, open(\"aes_flash_logger_data.p\", \"wb\"))"
   ]
  },
  {
   "cell_type": "markdown",
   "metadata": {},
   "source": [
    "# Load Data"
   ]
  },
  {
   "cell_type": "code",
   "execution_count": 69,
   "metadata": {},
   "outputs": [],
   "source": [
    "data = pickle.load(open(\"aes_flash_logger_data.p\", \"rb\"))"
   ]
  },
  {
   "cell_type": "code",
   "execution_count": 70,
   "metadata": {},
   "outputs": [],
   "source": [
    "#iteration = 0\n",
    "#name = \"AES-128_Flash\"\n",
    "#data = pickle.load(open(path.join(path.pardir, path.pardir, f\"{name}_{iteration}.p\"), \"rb\"))"
   ]
  },
  {
   "cell_type": "markdown",
   "metadata": {},
   "source": [
    "## Analysis"
   ]
  },
  {
   "cell_type": "markdown",
   "metadata": {},
   "source": [
    "Create Stop Function to stop parsing the data when all pins are high."
   ]
  },
  {
   "cell_type": "code",
   "execution_count": 71,
   "metadata": {},
   "outputs": [],
   "source": [
    "def stop_function(pin_values):\n",
    "    return all(pin_values)"
   ]
  },
  {
   "cell_type": "markdown",
   "metadata": {},
   "source": [
    "Parse the data."
   ]
  },
  {
   "cell_type": "code",
   "execution_count": 72,
   "metadata": {},
   "outputs": [],
   "source": [
    "aes_charge, aes_time = power_and_time_per_pulse(data, 2, stop_function=stop_function)"
   ]
  },
  {
   "cell_type": "code",
   "execution_count": 73,
   "metadata": {},
   "outputs": [],
   "source": [
    "flash_charge, flash_time = power_and_time_per_pulse(data, 3, stop_function=stop_function)"
   ]
  },
  {
   "cell_type": "code",
   "execution_count": 74,
   "metadata": {},
   "outputs": [
    {
     "name": "stdout",
     "output_type": "stream",
     "text": [
      "750 750 750 750\n"
     ]
    }
   ],
   "source": [
    "print(len(aes_charge), len(aes_time), len(flash_charge), len(flash_time))\n",
    "# cutoff = min(len(aes_charge), len(aes_time), len(flash_charge), len(flash_time))\n",
    "# aes_charge = aes_charge[:cutoff]\n",
    "# aes_time = aes_time[:cutoff]\n",
    "# flash_charge = flash_charge[:cutoff]\n",
    "# flash_time = flash_time[:cutoff]"
   ]
  },
  {
   "cell_type": "code",
   "execution_count": 75,
   "metadata": {},
   "outputs": [],
   "source": [
    "# length = len(aes_charge)\n",
    "# assert length == len(aes_time)\n",
    "# assert length == len(flash_charge)\n",
    "# assert length == len(flash_time)\n",
    "# print(length)"
   ]
  },
  {
   "cell_type": "code",
   "execution_count": 76,
   "metadata": {},
   "outputs": [],
   "source": [
    "aes_encrypt_charge = aes_charge[0::2]\n",
    "aes_decrypt_charge = aes_charge[1::2]\n",
    "aes_encrypt_time = aes_time[0::2]\n",
    "aes_decrypt_time = aes_time[1::2]"
   ]
  },
  {
   "cell_type": "code",
   "execution_count": 77,
   "metadata": {},
   "outputs": [],
   "source": [
    "aes_flash_write_charge = flash_charge[0::2]\n",
    "aes_flash_read_charge = flash_charge[1::2]\n",
    "aes_flash_write_time = flash_time[0::2]\n",
    "aes_flash_read_time = flash_time[1::2]"
   ]
  },
  {
   "cell_type": "code",
   "execution_count": 78,
   "metadata": {},
   "outputs": [
    {
     "data": {
      "text/plain": [
       "(375, 375, 375, 375, 375, 375, 375, 375)"
      ]
     },
     "execution_count": 78,
     "metadata": {},
     "output_type": "execute_result"
    }
   ],
   "source": [
    "len(aes_encrypt_charge), len(aes_decrypt_charge), len(aes_encrypt_time), len(aes_decrypt_time), len(aes_flash_write_charge), len(aes_flash_read_charge), len(aes_flash_write_time), len(aes_flash_read_time)"
   ]
  },
  {
   "cell_type": "code",
   "execution_count": 79,
   "metadata": {},
   "outputs": [],
   "source": [
    "drop = 0\n",
    "cutoff = min(len(aes_encrypt_charge), len(aes_decrypt_charge), len(aes_encrypt_time), len(aes_decrypt_time), len(aes_flash_write_charge), len(aes_flash_read_charge), len(aes_flash_write_time), len(aes_flash_read_time)) - drop\n",
    "aes_encrypt_charge = aes_encrypt_charge[:cutoff]\n",
    "aes_decrypt_charge = aes_decrypt_charge[:cutoff]\n",
    "aes_encrypt_time = aes_encrypt_time[:cutoff]\n",
    "aes_decrypt_time = aes_decrypt_time[:cutoff]\n",
    "aes_flash_write_charge = aes_flash_write_charge[:cutoff]\n",
    "aes_flash_read_charge = aes_flash_read_charge[:cutoff]\n",
    "aes_flash_write_time = aes_flash_write_time[:cutoff]\n",
    "aes_flash_read_time = aes_flash_read_time[:cutoff]"
   ]
  },
  {
   "cell_type": "code",
   "execution_count": 80,
   "metadata": {},
   "outputs": [
    {
     "name": "stdout",
     "output_type": "stream",
     "text": [
      "375\n"
     ]
    }
   ],
   "source": [
    "length = len(aes_encrypt_charge)\n",
    "assert length == len(aes_decrypt_charge)\n",
    "assert length == len(aes_encrypt_time)\n",
    "assert length == len(aes_decrypt_time)\n",
    "assert length == len(aes_flash_write_charge)\n",
    "assert length == len(aes_flash_read_charge)\n",
    "assert length == len(aes_flash_write_time)\n",
    "assert length == len(aes_flash_read_time)\n",
    "print(length)"
   ]
  },
  {
   "cell_type": "markdown",
   "metadata": {},
   "source": [
    "# Convert to Joule"
   ]
  },
  {
   "cell_type": "code",
   "execution_count": 81,
   "metadata": {},
   "outputs": [],
   "source": [
    "voltage = 3.31\n",
    "j_scale = 1e3 # m\n",
    "t_scale = 1e3 # m\n",
    "model_j_scale = 1e6 # n\n",
    "model_t_scale = 1e3 # u\n",
    "\n",
    "experiment_name =  project_name"
   ]
  },
  {
   "cell_type": "code",
   "execution_count": 82,
   "metadata": {},
   "outputs": [],
   "source": [
    "aes_encrypt_energy = aes_encrypt_charge[:cutoff]\n",
    "aes_flash_write_energy = aes_flash_write_charge[:cutoff]\n",
    "aes_flash_read_energy = aes_flash_read_charge[:cutoff]\n",
    "aes_decrypt_energy = aes_decrypt_charge[:cutoff]\n",
    "aes_encrypt_time_s = aes_encrypt_time[:cutoff]\n",
    "aes_flash_write_time_s = aes_flash_write_time[:cutoff]\n",
    "aes_flash_read_time_s = aes_flash_read_time[:cutoff]\n",
    "aes_decrypt_time_s = aes_decrypt_time[:cutoff]\n",
    "\n",
    "for i in range(len(aes_encrypt_energy)):\n",
    "    aes_encrypt_energy[i] = aes_encrypt_energy[i] * voltage * j_scale\n",
    "for i in range(len(aes_flash_write_energy)):\n",
    "    aes_flash_write_energy[i] = aes_flash_write_energy[i] * voltage * j_scale\n",
    "for i in range(len(aes_flash_read_energy)):\n",
    "    aes_flash_read_energy[i] = aes_flash_read_energy[i] * voltage * j_scale\n",
    "for i in range(len(aes_decrypt_energy)):\n",
    "    aes_decrypt_energy[i] = aes_decrypt_energy[i] * voltage * j_scale\n",
    "    \n",
    "for i in range(len(aes_encrypt_time_s)):\n",
    "    aes_encrypt_time_s[i] = aes_encrypt_time_s[i] * t_scale\n",
    "for i in range(len(aes_flash_write_time_s)):\n",
    "    aes_flash_write_time_s[i] = aes_flash_write_time_s[i] * t_scale\n",
    "for i in range(len(aes_flash_read_time_s)):\n",
    "    aes_flash_read_time_s[i] = aes_flash_read_time_s[i] * t_scale\n",
    "for i in range(len(aes_decrypt_time_s)):\n",
    "    aes_decrypt_time_s[i] = aes_decrypt_time_s[i] * t_scale"
   ]
  },
  {
   "cell_type": "code",
   "execution_count": 83,
   "metadata": {},
   "outputs": [
    {
     "name": "stdout",
     "output_type": "stream",
     "text": [
      "MAX_NUM_BYTES: 6000\n"
     ]
    }
   ],
   "source": [
    "MBEDTLS_AES_BLOCK_SIZE = 16\n",
    "STEP_SIZE = MBEDTLS_AES_BLOCK_SIZE\n",
    "MIN_NUM_BYTES = STEP_SIZE\n",
    "num_bytes = range(MIN_NUM_BYTES, MIN_NUM_BYTES + STEP_SIZE * len(aes_encrypt_energy), STEP_SIZE)\n",
    "print(f\"MAX_NUM_BYTES: {num_bytes[-1]}\")"
   ]
  },
  {
   "cell_type": "code",
   "execution_count": 84,
   "metadata": {},
   "outputs": [],
   "source": [
    "from lmfit import Model\n",
    "\n",
    "def line(x, slope, intercept):\n",
    "    \"\"\"a line\"\"\"\n",
    "    return [slope*i + intercept for i in x]\n",
    "\n",
    "mod = Model(line)\n",
    "pars = mod.make_params(slope=0, intercept=1)\n",
    "# pars['intercept'].set(min=0)"
   ]
  },
  {
   "cell_type": "code",
   "execution_count": 85,
   "metadata": {},
   "outputs": [
    {
     "name": "stdout",
     "output_type": "stream",
     "text": [
      "[[Model]]\n",
      "    Model(line)\n",
      "[[Fit Statistics]]\n",
      "    # fitting method   = leastsq\n",
      "    # function evals   = 7\n",
      "    # data points      = 375\n",
      "    # variables        = 2\n",
      "    chi-square         = 2.0129e-06\n",
      "    reduced chi-square = 5.3966e-09\n",
      "    Akaike info crit   = -7137.06943\n",
      "    Bayesian info crit = -7129.21558\n",
      "[[Variables]]\n",
      "    slope:      1.6121e-05 +/- 2.1902e-09 (0.01%) (init = 0)\n",
      "    intercept: -6.2700e-05 +/- 7.6022e-06 (12.12%) (init = 1)\n",
      "[[Correlations]] (unreported correlations are < 0.100)\n",
      "    C(slope, intercept) = -0.867\n",
      "[[Model]]\n",
      "    Model(line)\n",
      "[[Fit Statistics]]\n",
      "    # fitting method   = leastsq\n",
      "    # function evals   = 6\n",
      "    # data points      = 375\n",
      "    # variables        = 2\n",
      "    chi-square         = 0.01881171\n",
      "    reduced chi-square = 5.0434e-05\n",
      "    Akaike info crit   = -3708.57566\n",
      "    Bayesian info crit = -3700.72181\n",
      "[[Variables]]\n",
      "    slope:      1.1269e-04 +/- 2.1173e-07 (0.19%) (init = 0)\n",
      "    intercept:  0.01835119 +/- 7.3493e-04 (4.00%) (init = 1)\n",
      "[[Correlations]] (unreported correlations are < 0.100)\n",
      "    C(slope, intercept) = -0.867\n",
      "[[Model]]\n",
      "    Model(line)\n",
      "[[Fit Statistics]]\n",
      "    # fitting method   = leastsq\n",
      "    # function evals   = 7\n",
      "    # data points      = 375\n",
      "    # variables        = 2\n",
      "    chi-square         = 8.8923e-07\n",
      "    reduced chi-square = 2.3840e-09\n",
      "    Akaike info crit   = -7443.43717\n",
      "    Bayesian info crit = -7435.58332\n",
      "[[Variables]]\n",
      "    slope:      3.3236e-06 +/- 1.4557e-09 (0.04%) (init = 0)\n",
      "    intercept: -5.5839e-06 +/- 5.0529e-06 (90.49%) (init = 1)\n",
      "[[Correlations]] (unreported correlations are < 0.100)\n",
      "    C(slope, intercept) = -0.867\n",
      "[[Model]]\n",
      "    Model(line)\n",
      "[[Fit Statistics]]\n",
      "    # fitting method   = leastsq\n",
      "    # function evals   = 7\n",
      "    # data points      = 375\n",
      "    # variables        = 2\n",
      "    chi-square         = 0.00512662\n",
      "    reduced chi-square = 1.3744e-05\n",
      "    Akaike info crit   = -4196.08799\n",
      "    Bayesian info crit = -4188.23414\n",
      "[[Variables]]\n",
      "    slope:      1.6455e-05 +/- 1.1053e-07 (0.67%) (init = 0)\n",
      "    intercept:  3.4673e-04 +/- 3.8366e-04 (110.65%) (init = 1)\n",
      "[[Correlations]] (unreported correlations are < 0.100)\n",
      "    C(slope, intercept) = -0.867\n",
      "[[Model]]\n",
      "    Model(line)\n",
      "[[Fit Statistics]]\n",
      "    # fitting method   = leastsq\n",
      "    # function evals   = 7\n",
      "    # data points      = 375\n",
      "    # variables        = 2\n",
      "    chi-square         = 0.26827965\n",
      "    reduced chi-square = 7.1925e-04\n",
      "    Akaike info crit   = -2711.99428\n",
      "    Bayesian info crit = -2704.14043\n",
      "[[Variables]]\n",
      "    slope:      0.01138611 +/- 7.9956e-07 (0.01%) (init = 0)\n",
      "    intercept:  0.00570070 +/- 0.00277533 (48.68%) (init = 1)\n",
      "[[Correlations]] (unreported correlations are < 0.100)\n",
      "    C(slope, intercept) = -0.867\n",
      "[[Model]]\n",
      "    Model(line)\n",
      "[[Fit Statistics]]\n",
      "    # fitting method   = leastsq\n",
      "    # function evals   = 6\n",
      "    # data points      = 375\n",
      "    # variables        = 2\n",
      "    chi-square         = 460.066421\n",
      "    reduced chi-square = 1.23342204\n",
      "    Akaike info crit   = 80.6668171\n",
      "    Bayesian info crit = 88.5206692\n",
      "[[Variables]]\n",
      "    slope:      0.02130685 +/- 3.3112e-05 (0.16%) (init = 0)\n",
      "    intercept:  2.76534721 +/- 0.11493157 (4.16%) (init = 1)\n",
      "[[Correlations]] (unreported correlations are < 0.100)\n",
      "    C(slope, intercept) = -0.867\n",
      "[[Model]]\n",
      "    Model(line)\n",
      "[[Fit Statistics]]\n",
      "    # fitting method   = leastsq\n",
      "    # function evals   = 6\n",
      "    # data points      = 375\n",
      "    # variables        = 2\n",
      "    chi-square         = 0.24505931\n",
      "    reduced chi-square = 6.5700e-04\n",
      "    Akaike info crit   = -2745.94290\n",
      "    Bayesian info crit = -2738.08905\n",
      "[[Variables]]\n",
      "    slope:      0.00212782 +/- 7.6420e-07 (0.04%) (init = 0)\n",
      "    intercept:  0.02157994 +/- 0.00265256 (12.29%) (init = 1)\n",
      "[[Correlations]] (unreported correlations are < 0.100)\n",
      "    C(slope, intercept) = -0.867\n",
      "[[Model]]\n",
      "    Model(line)\n",
      "[[Fit Statistics]]\n",
      "    # fitting method   = leastsq\n",
      "    # function evals   = 6\n",
      "    # data points      = 375\n",
      "    # variables        = 2\n",
      "    chi-square         = 2620.12861\n",
      "    reduced chi-square = 7.02447348\n",
      "    Akaike info crit   = 733.019746\n",
      "    Bayesian info crit = 740.873598\n",
      "[[Variables]]\n",
      "    slope:      0.01174903 +/- 7.9019e-05 (0.67%) (init = 0)\n",
      "    intercept:  0.28530840 +/- 0.27427759 (96.13%) (init = 1)\n",
      "[[Correlations]] (unreported correlations are < 0.100)\n",
      "    C(slope, intercept) = -0.867\n",
      "[[Model]]\n",
      "    Model(line)\n",
      "[[Fit Statistics]]\n",
      "    # fitting method   = leastsq\n",
      "    # function evals   = 6\n",
      "    # data points      = 375\n",
      "    # variables        = 2\n",
      "    chi-square         = 0.02515527\n",
      "    reduced chi-square = 6.7440e-05\n",
      "    Akaike info crit   = -3599.60527\n",
      "    Bayesian info crit = -3591.75141\n",
      "[[Variables]]\n",
      "    slope:      1.4859e-04 +/- 2.4484e-07 (0.16%) (init = 0)\n",
      "    intercept:  0.01862964 +/- 8.4985e-04 (4.56%) (init = 1)\n",
      "[[Correlations]] (unreported correlations are < 0.100)\n",
      "    C(slope, intercept) = -0.867\n",
      "[[Model]]\n",
      "    Model(line)\n",
      "[[Fit Statistics]]\n",
      "    # fitting method   = leastsq\n",
      "    # function evals   = 9\n",
      "    # data points      = 375\n",
      "    # variables        = 2\n",
      "    chi-square         = 3192.93146\n",
      "    reduced chi-square = 8.56013797\n",
      "    Akaike info crit   = 807.163263\n",
      "    Bayesian info crit = 815.017115\n",
      "[[Variables]]\n",
      "    slope:      0.04656980 +/- 8.7230e-05 (0.19%) (init = 0)\n",
      "    intercept:  3.07793605 +/- 0.30277771 (9.84%) (init = 1)\n",
      "[[Correlations]] (unreported correlations are < 0.100)\n",
      "    C(slope, intercept) = -0.867\n"
     ]
    }
   ],
   "source": [
    "results = []\n",
    "ylabels = (['Energy [mJ]'] * 2 + ['Time [ms]'] * 2) * 2 + ['Energy [mJ]'] + ['Time [ms]']\n",
    "parameter_names = [\n",
    "    'Encrypt Energy',\n",
    "    'Flash Write Energy',\n",
    "    'Flash Read Energy',\n",
    "    'Decrypt Energy',\n",
    "    'Encrypt Time',\n",
    "    'Flash Write Time',\n",
    "    'Flash Read Time',\n",
    "    'Decrypt Time',\n",
    "    'Total Energy',\n",
    "    'Total Time',\n",
    "]\n",
    "for y in [aes_encrypt_energy, aes_flash_write_energy, aes_flash_read_energy, aes_decrypt_energy, aes_encrypt_time_s, aes_flash_write_time_s, aes_flash_read_time_s, aes_decrypt_time_s,\n",
    "          [e + w + r + d for (e,w,r,d) in zip(aes_encrypt_energy, aes_flash_write_energy, aes_flash_read_energy, aes_decrypt_energy)],\n",
    "          [e + w + r + d for (e,w,r,d) in zip(aes_encrypt_time_s, aes_flash_write_time_s, aes_flash_read_time_s, aes_decrypt_time_s)]]:\n",
    "    result = mod.fit(y, pars, x=num_bytes)\n",
    "    print(result.fit_report())\n",
    "    fig, grid = result.plot(\n",
    "        xlabel='Checkpoint Size [Bytes]',\n",
    "        ylabel=ylabels[len(results)])\n",
    "    fig.tight_layout(rect=(0.05, 0.05, 1, 1))\n",
    "    fig.set_size_inches(5, 4.5, forward=True)\n",
    "    fig.canvas.set_window_title(\n",
    "        f\"Residuals of {experiment_name} {parameter_names[len(results)]}\")\n",
    "    fig.show()\n",
    "    fig.savefig( f\"Residuals of {experiment_name} {parameter_names[len(results)]}\")\n",
    "    results.append(result)"
   ]
  },
  {
   "cell_type": "code",
   "execution_count": 86,
   "metadata": {},
   "outputs": [],
   "source": [
    "fig2 = plt.figure(figsize=(8, 6))\n",
    "fig2.canvas.set_window_title(f\"Analysis {experiment_name}\")"
   ]
  },
  {
   "cell_type": "code",
   "execution_count": 87,
   "metadata": {},
   "outputs": [],
   "source": [
    "charge_color = 'r'\n",
    "time_color = 'b'"
   ]
  },
  {
   "cell_type": "code",
   "execution_count": 88,
   "metadata": {},
   "outputs": [],
   "source": [
    "fig2.clf()\n",
    "# fig2.suptitle(\"Energy analysis of AES\")\n",
    "ax1 = fig2.add_subplot(1, 1, 1)\n",
    "ax2 = ax1.twinx()\n",
    "ax1.set_xlabel('Checkpoint Size [Bytes]')\n",
    "ax1.set_ylabel('Energy [mJ]', color=charge_color)\n",
    "ax2.set_ylabel('Time [ms]', color=time_color)\n",
    "ax1.tick_params('y', colors=charge_color)\n",
    "ax2.tick_params('y', colors=time_color)"
   ]
  },
  {
   "cell_type": "code",
   "execution_count": 89,
   "metadata": {},
   "outputs": [],
   "source": [
    "lines = []\n",
    "lines += ax1.plot(num_bytes, aes_encrypt_energy, charge_color+'-', label=f'{parameter_names[len(lines)]}')\n",
    "lines += ax1.plot(num_bytes, aes_flash_write_energy, charge_color+'-.', label=f'{parameter_names[len(lines)]}')\n",
    "lines += ax1.plot(num_bytes, aes_flash_read_energy, charge_color+':', label=f'{parameter_names[len(lines)]}')\n",
    "lines += ax1.plot(num_bytes, aes_decrypt_energy, charge_color+'--', label=f'{parameter_names[len(lines)]}')\n",
    "lines += ax2.plot(num_bytes, aes_encrypt_time_s, time_color+'-', label=f'{parameter_names[len(lines)]}')\n",
    "lines += ax2.plot(num_bytes, aes_flash_write_time_s, time_color+'-.', label=f'{parameter_names[len(lines)]}')\n",
    "lines += ax2.plot(num_bytes, aes_flash_read_time_s, time_color+':', label=f'{parameter_names[len(lines)]}')\n",
    "lines += ax2.plot(num_bytes, aes_decrypt_time_s, time_color+'--', label=f'{parameter_names[len(lines)]}')\n",
    "ax1.legend(handles=lines)\n",
    "ax1.set_title(\n",
    "    f\"{parameter_names[0]}: Slope {results[0].params['slope'].value * model_j_scale:.04} nJ/B, Intercept {results[0].params['intercept'].value * model_j_scale:.04} nJ\\n\" +\n",
    "    f\"{parameter_names[1]}: Slope {results[1].params['slope'].value * model_j_scale:.04} nJ/B, Intercept {results[1].params['intercept'].value * model_j_scale:.04} nJ\\n\" +\n",
    "    f\"{parameter_names[2]}: Slope {results[2].params['slope'].value * model_j_scale:.04} nJ/B, Intercept {results[2].params['intercept'].value * model_j_scale:.04} nJ\\n\" +\n",
    "    f\"{parameter_names[3]}: Slope {results[3].params['slope'].value * model_j_scale:.04} nJ/B, Intercept {results[3].params['intercept'].value * model_j_scale:.04} nJ\\n\" +\n",
    "    f\"{parameter_names[4]}: Slope {results[4].params['slope'].value * model_t_scale:.04} $\\mu$s/B, Intercept {results[4].params['intercept'].value * model_t_scale:.04} $\\mu$s\\n\" +\n",
    "    f\"{parameter_names[5]}: Slope {results[5].params['slope'].value * model_t_scale:.04} $\\mu$s/B, Intercept {results[5].params['intercept'].value * model_t_scale:.04} $\\mu$s\\n\" +\n",
    "    f\"{parameter_names[6]}: Slope {results[6].params['slope'].value * model_t_scale:.04} $\\mu$s/B, Intercept {results[6].params['intercept'].value * model_t_scale:.04} $\\mu$s\\n\" +\n",
    "    f\"{parameter_names[7]}: Slope {results[7].params['slope'].value * model_t_scale:.04} $\\mu$s/B, Intercept {results[7].params['intercept'].value * model_t_scale:.04} $\\mu$s\\n\" +\n",
    "    f\"{parameter_names[8]}: Slope {results[8].params['slope'].value * model_j_scale:.04} nJ/B, Intercept {results[8].params['intercept'].value * model_j_scale:.04} nJ\\n\" +\n",
    "    f\"{parameter_names[9]}: Slope {results[9].params['slope'].value * model_t_scale:.04} $\\mu$s/B, Intercept {results[9].params['intercept'].value * model_t_scale:.04} $\\mu$s\\n\")\n",
    "fig2.tight_layout()\n",
    "fig2.savefig(f\"Analysis {experiment_name}\")\n",
    "fig2.show()"
   ]
  },
  {
   "cell_type": "code",
   "execution_count": 90,
   "metadata": {},
   "outputs": [
    {
     "name": "stdout",
     "output_type": "stream",
     "text": [
      "Encrypt Energy: Slope 16.121040031940353288 nJ/B, Intercept -62.70029652277742116 nJ\n",
      "Flash Write Energy: Slope 112.68505056514311491 nJ/B, Intercept 18351.193810270837275 nJ\n",
      "Flash Read Energy: Slope 3.3235597620637844507 nJ/B, Intercept -5.5838801296115292416 nJ\n",
      "Decrypt Energy: Slope 16.455435236665781673 nJ/B, Intercept 346.72837460847370039 nJ\n",
      "Encrypt Time: Slope 11.386112914523938144 $\\mu$s/B, Intercept 5.7007002065683209935 $\\mu$s\n",
      "Flash Write Time: Slope 21.30684934889167792 $\\mu$s/B, Intercept 2765.347213077570359 $\\mu$s\n",
      "Flash Read Time: Slope 2.1278155562909066845 $\\mu$s/B, Intercept 21.579940199937141188 $\\mu$s\n",
      "Decrypt Time: Slope 11.749026508388352497 $\\mu$s/B, Intercept 285.30839582111445907 $\\mu$s\n",
      "Total Energy: Slope 148.58508559581264308 nJ/B, Intercept 18629.63801477146626 nJ\n",
      "Total Time: Slope 46.569804350167416374 $\\mu$s/B, Intercept 3077.9360454807188034 $\\mu$s\n",
      "\n"
     ]
    }
   ],
   "source": [
    "print(\n",
    "    f\"{parameter_names[0]}: Slope {results[0].params['slope'].value * model_j_scale:.020} nJ/B, Intercept {results[0].params['intercept'].value * model_j_scale:.020} nJ\\n\" +\n",
    "    f\"{parameter_names[1]}: Slope {results[1].params['slope'].value * model_j_scale:.020} nJ/B, Intercept {results[1].params['intercept'].value * model_j_scale:.020} nJ\\n\" +\n",
    "    f\"{parameter_names[2]}: Slope {results[2].params['slope'].value * model_j_scale:.020} nJ/B, Intercept {results[2].params['intercept'].value * model_j_scale:.020} nJ\\n\" +\n",
    "    f\"{parameter_names[3]}: Slope {results[3].params['slope'].value * model_j_scale:.020} nJ/B, Intercept {results[3].params['intercept'].value * model_j_scale:.020} nJ\\n\" +\n",
    "    f\"{parameter_names[4]}: Slope {results[4].params['slope'].value * model_t_scale:.020} $\\mu$s/B, Intercept {results[4].params['intercept'].value * model_t_scale:.020} $\\mu$s\\n\" +\n",
    "    f\"{parameter_names[5]}: Slope {results[5].params['slope'].value * model_t_scale:.020} $\\mu$s/B, Intercept {results[5].params['intercept'].value * model_t_scale:.020} $\\mu$s\\n\" +\n",
    "    f\"{parameter_names[6]}: Slope {results[6].params['slope'].value * model_t_scale:.020} $\\mu$s/B, Intercept {results[6].params['intercept'].value * model_t_scale:.020} $\\mu$s\\n\" +\n",
    "    f\"{parameter_names[7]}: Slope {results[7].params['slope'].value * model_t_scale:.020} $\\mu$s/B, Intercept {results[7].params['intercept'].value * model_t_scale:.020} $\\mu$s\\n\" +\n",
    "    f\"{parameter_names[8]}: Slope {results[8].params['slope'].value * model_j_scale:.020} nJ/B, Intercept {results[8].params['intercept'].value * model_j_scale:.020} nJ\\n\" +\n",
    "    f\"{parameter_names[9]}: Slope {results[9].params['slope'].value * model_t_scale:.020} $\\mu$s/B, Intercept {results[9].params['intercept'].value * model_t_scale:.020} $\\mu$s\\n\"\n",
    ")"
   ]
  },
  {
   "cell_type": "code",
   "execution_count": 91,
   "metadata": {},
   "outputs": [],
   "source": [
    "# Save Charge amount list into pickle file\n",
    "import pickle\n",
    "pickle.dump(aes_encrypt_energy, open(\"aes_flash_encrypt_energy_mJ.p\", \"wb\"))\n",
    "pickle.dump(aes_decrypt_energy, open(\"aes_flash_decrypt_energy_mJ.p\", \"wb\"))\n",
    "pickle.dump(aes_flash_write_energy, open(\"aes_flash_write_energy_mJ.p\", \"wb\"))\n",
    "pickle.dump(aes_flash_read_energy, open(\"aes_flash_read_energy_mJ.p\", \"wb\"))\n",
    "pickle.dump(aes_encrypt_time_s, open(\"aes_flash_encrypt_time_ms.p\", \"wb\"))\n",
    "pickle.dump(aes_decrypt_time_s, open(\"aes_flash_decrypt_time_ms.p\", \"wb\"))\n",
    "pickle.dump(aes_flash_write_time_s, open(\"aes_flash_write_time_ms.p\", \"wb\"))\n",
    "pickle.dump(aes_flash_read_time_s, open(\"aes_flash_read_time_ms.p\", \"wb\"))"
   ]
  },
  {
   "cell_type": "code",
   "execution_count": 92,
   "metadata": {},
   "outputs": [
    {
     "name": "stdout",
     "output_type": "stream",
     "text": [
      "375 6000\n",
      "375 6000\n",
      "375 6000\n",
      "375 6000\n",
      "375 6000\n",
      "375 6000\n",
      "375 6000\n",
      "375 6000\n"
     ]
    }
   ],
   "source": [
    "aes = [aes_encrypt_energy, aes_flash_write_energy, aes_flash_read_energy, aes_decrypt_energy, aes_encrypt_time_s, aes_flash_write_time_s, aes_flash_read_time_s, aes_decrypt_time_s]\n",
    "for i in aes:\n",
    "    print(len(i), len(i)*16)"
   ]
  },
  {
   "cell_type": "markdown",
   "metadata": {},
   "source": [
    "## Write config file"
   ]
  },
  {
   "cell_type": "code",
   "execution_count": 93,
   "metadata": {},
   "outputs": [],
   "source": [
    "import json\n",
    "\n",
    "config = {}\n",
    "config[\"name\"] = \"AES-128 Flash\"\n",
    "config[\"project_paths\"] = [project_path]\n",
    "config[\"config_dict\"] = config_dict\n",
    "config[\"config_dict_plot\"] = config_dict_plot\n",
    "config[\"analysis\"] = {\"pins\":{2: [\"AES-128 Encrypt\", \"AES-128 Decrypt\"], 3: [\"AES-128 Flash Write\", \"AES-128 Flash Read\"]}, \n",
    "                      \"result_types\": [\"Charge\", \"Time\"],\n",
    "                      \"section_types\": {\"init\": [], \n",
    "                                        \"store\": [\"AES-128 Encrypt\", \"AES-128 Flash Write\"],\n",
    "                                        \"load\": [\"AES-128 Flash Read\", \"AES-128 Decrypt\"],\n",
    "                                        \"exit\": []},\n",
    "                      \"labels\": {\n",
    "                          \"Charge\": {\"x\":\"Data Size\", \"x_unit\": \"byte\", \"y\": \"Charge\", \"y_unit\": \"C\"},\n",
    "                          \"Time\": {\"x\":\"Data Size\", \"x_unit\": \"byte\", \"y\": \"Time\", \"y_unit\": \"s\"},\n",
    "                      },\n",
    "                      \"x_step\": MBEDTLS_AES_BLOCK_SIZE}\n",
    "\n",
    "with open(\"looped_experiment.json\", 'w') as config_file:  \n",
    "    json.dump(config, config_file, indent=4)"
   ]
  },
  {
   "cell_type": "markdown",
   "metadata": {},
   "source": [
    "# Write model data"
   ]
  },
  {
   "cell_type": "code",
   "execution_count": 94,
   "metadata": {},
   "outputs": [],
   "source": [
    "dump_pickle = True\n",
    "fit_lm = True\n",
    "verbose = 2\n",
    "show_lm_plot = 2\n",
    "# drop = 1"
   ]
  },
  {
   "cell_type": "code",
   "execution_count": 95,
   "metadata": {},
   "outputs": [],
   "source": [
    "# Parse data\n",
    "analysis_config = config.get(\"analysis\")\n",
    "result_types = analysis_config.get(\"result_types\")\n",
    "x_step = analysis_config.get(\"x_step\")\n",
    "parsed_data = {}\n",
    "for pin, parameter_names in analysis_config.get(\"pins\").items():\n",
    "    data2 = power_and_time_per_pulse(\n",
    "        data, int(pin), stop_function=stop_function)\n",
    "    num_names = len(parameter_names)\n",
    "    for i, parameter_name in enumerate(parameter_names):\n",
    "        end_index = -drop * num_names or None\n",
    "        parsed_data[parameter_name] = {\n",
    "            result_types[0]: data2[0][i:end_index:num_names],\n",
    "            result_types[1]: data2[1][i:end_index:num_names],\n",
    "            \"x_step\": x_step}\n",
    "if dump_pickle:\n",
    "    pickle.dump(parsed_data, open(\n",
    "        path.join(path.curdir,\n",
    "                  f\"{config_dict.get('file_name_base')}_looped.p\"), \"wb\"))"
   ]
  },
  {
   "cell_type": "code",
   "execution_count": 96,
   "metadata": {},
   "outputs": [
    {
     "name": "stdout",
     "output_type": "stream",
     "text": [
      "Fitting model to AES-128 Encrypt with 375 samples, from 16 to 6000 bytes in steps of 16.\n",
      "[[Model]]\n",
      "    Model(line)\n",
      "[[Fit Statistics]]\n",
      "    # fitting method   = leastsq\n",
      "    # function evals   = 10\n",
      "    # data points      = 375\n",
      "    # variables        = 2\n",
      "    chi-square         = 1.8373e-13\n",
      "    reduced chi-square = 4.9256e-16\n",
      "    Akaike info crit   = -13215.5970\n",
      "    Bayesian info crit = -13207.7432\n",
      "[[Variables]]\n",
      "    intercept: -1.8943e-08 +/- 2.2968e-09 (12.12%) (init = 0)\n",
      "    slope:      4.8704e-09 +/- 6.6169e-13 (0.01%) (init = 1)\n",
      "[[Correlations]] (unreported correlations are < 0.100)\n",
      "    C(intercept, slope) = -0.867\n",
      "[[Model]]\n",
      "    Model(line)\n",
      "[[Fit Statistics]]\n",
      "    # fitting method   = leastsq\n",
      "    # function evals   = 7\n",
      "    # data points      = 375\n",
      "    # variables        = 2\n",
      "    chi-square         = 2.6828e-07\n",
      "    reduced chi-square = 7.1925e-10\n",
      "    Akaike info crit   = -7892.81074\n",
      "    Bayesian info crit = -7884.95689\n",
      "[[Variables]]\n",
      "    intercept:  5.7006e-06 +/- 2.7754e-06 (48.69%) (init = 0)\n",
      "    slope:      1.1386e-05 +/- 7.9958e-10 (0.01%) (init = 1)\n",
      "[[Correlations]] (unreported correlations are < 0.100)\n",
      "    C(intercept, slope) = -0.867\n",
      "Fitting model to AES-128 Decrypt with 375 samples, from 16 to 6000 bytes in steps of 16.\n",
      "[[Model]]\n",
      "    Model(line)\n",
      "[[Fit Statistics]]\n",
      "    # fitting method   = leastsq\n",
      "    # function evals   = 9\n",
      "    # data points      = 375\n",
      "    # variables        = 2\n",
      "    chi-square         = 4.6792e-10\n",
      "    reduced chi-square = 1.2545e-12\n",
      "    Akaike info crit   = -10274.6156\n",
      "    Bayesian info crit = -10266.7617\n",
      "[[Variables]]\n",
      "    intercept:  1.0475e-07 +/- 1.1591e-07 (110.65%) (init = 0)\n",
      "    slope:      4.9714e-09 +/- 3.3393e-11 (0.67%) (init = 1)\n",
      "[[Correlations]] (unreported correlations are < 0.100)\n",
      "    C(intercept, slope) = -0.867\n",
      "[[Model]]\n",
      "    Model(line)\n",
      "[[Fit Statistics]]\n",
      "    # fitting method   = leastsq\n",
      "    # function evals   = 7\n",
      "    # data points      = 375\n",
      "    # variables        = 2\n",
      "    chi-square         = 0.00262013\n",
      "    reduced chi-square = 7.0245e-06\n",
      "    Akaike info crit   = -4447.79671\n",
      "    Bayesian info crit = -4439.94286\n",
      "[[Variables]]\n",
      "    intercept:  2.8531e-04 +/- 2.7428e-04 (96.13%) (init = 0)\n",
      "    slope:      1.1749e-05 +/- 7.9019e-08 (0.67%) (init = 1)\n",
      "[[Correlations]] (unreported correlations are < 0.100)\n",
      "    C(intercept, slope) = -0.867\n",
      "Fitting model to AES-128 Flash Write with 375 samples, from 16 to 6000 bytes in steps of 16.\n",
      "[[Model]]\n",
      "    Model(line)\n",
      "[[Fit Statistics]]\n",
      "    # fitting method   = leastsq\n",
      "    # function evals   = 9\n",
      "    # data points      = 375\n",
      "    # variables        = 2\n",
      "    chi-square         = 1.7170e-09\n",
      "    reduced chi-square = 4.6032e-12\n",
      "    Akaike info crit   = -9787.10326\n",
      "    Bayesian info crit = -9779.24941\n",
      "[[Variables]]\n",
      "    intercept:  5.5442e-06 +/- 2.2203e-07 (4.00%) (init = 0)\n",
      "    slope:      3.4044e-08 +/- 6.3967e-11 (0.19%) (init = 1)\n",
      "[[Correlations]] (unreported correlations are < 0.100)\n",
      "    C(intercept, slope) = -0.867\n",
      "[[Model]]\n",
      "    Model(line)\n",
      "[[Fit Statistics]]\n",
      "    # fitting method   = leastsq\n",
      "    # function evals   = 7\n",
      "    # data points      = 375\n",
      "    # variables        = 2\n",
      "    chi-square         = 4.6007e-04\n",
      "    reduced chi-square = 1.2334e-06\n",
      "    Akaike info crit   = -5100.14964\n",
      "    Bayesian info crit = -5092.29579\n",
      "[[Variables]]\n",
      "    intercept:  0.00276535 +/- 1.1493e-04 (4.16%) (init = 0)\n",
      "    slope:      2.1307e-05 +/- 3.3112e-08 (0.16%) (init = 1)\n",
      "[[Correlations]] (unreported correlations are < 0.100)\n",
      "    C(intercept, slope) = -0.867\n",
      "Fitting model to AES-128 Flash Read with 375 samples, from 16 to 6000 bytes in steps of 16.\n",
      "[[Model]]\n",
      "    Model(line)\n",
      "[[Fit Statistics]]\n",
      "    # fitting method   = leastsq\n",
      "    # function evals   = 10\n",
      "    # data points      = 375\n",
      "    # variables        = 2\n",
      "    chi-square         = 8.1163e-14\n",
      "    reduced chi-square = 2.1760e-16\n",
      "    Akaike info crit   = -13521.9648\n",
      "    Bayesian info crit = -13514.1109\n",
      "[[Variables]]\n",
      "    intercept: -1.6870e-09 +/- 1.5265e-09 (90.49%) (init = 0)\n",
      "    slope:      1.0041e-09 +/- 4.3980e-13 (0.04%) (init = 1)\n",
      "[[Correlations]] (unreported correlations are < 0.100)\n",
      "    C(intercept, slope) = -0.867\n",
      "[[Model]]\n",
      "    Model(line)\n",
      "[[Fit Statistics]]\n",
      "    # fitting method   = leastsq\n",
      "    # function evals   = 7\n",
      "    # data points      = 375\n",
      "    # variables        = 2\n",
      "    chi-square         = 2.4506e-07\n",
      "    reduced chi-square = 6.5700e-10\n",
      "    Akaike info crit   = -7926.75936\n",
      "    Bayesian info crit = -7918.90551\n",
      "[[Variables]]\n",
      "    intercept:  2.1580e-05 +/- 2.6526e-06 (12.29%) (init = 0)\n",
      "    slope:      2.1278e-06 +/- 7.6420e-10 (0.04%) (init = 1)\n",
      "[[Correlations]] (unreported correlations are < 0.100)\n",
      "    C(intercept, slope) = -0.867\n"
     ]
    }
   ],
   "source": [
    "# Fit lm\n",
    "if fit_lm:\n",
    "    model = None\n",
    "    if model is None:\n",
    "        def line(x, intercept, slope):\n",
    "            \"\"\"a line\"\"\"\n",
    "            return [intercept + slope*i for i in x]\n",
    "\n",
    "        model = Model(line)\n",
    "        params = model.make_params(intercept=0, slope=1)\n",
    "#         params['intercept'].set(min=0)\n",
    "    else:\n",
    "        params = model.params\n",
    "\n",
    "    model_results = {}\n",
    "    labels = analysis_config.get(\"labels\")\n",
    "    for parameter_name in parsed_data.keys():\n",
    "        length = len(parsed_data[parameter_name][result_types[0]])\n",
    "        x_step = parsed_data[parameter_name][\"x_step\"]\n",
    "        num_bytes = range(x_step, (length+1)*x_step, x_step)\n",
    "        if verbose:\n",
    "            print(\n",
    "                f\"Fitting model to {parameter_name} with {length} \" +\n",
    "                f\"samples, from {min(num_bytes)} to {max(num_bytes)} \"\n",
    "                f\"bytes in steps of {x_step}.\")\n",
    "        model_result = {}\n",
    "        for result_type in result_types:\n",
    "            model_result[result_type] = model.fit(\n",
    "                parsed_data[parameter_name][result_type], params,\n",
    "                x=num_bytes)\n",
    "            if verbose >= 2:\n",
    "                print(model_result[result_type].fit_report())\n",
    "            # Plot multiple view\n",
    "            if show_lm_plot >= 2:\n",
    "                fig, grid = model_result[result_type].plot(\n",
    "                    xlabel=f\"{labels[result_type]['x']} \" +\n",
    "                           f\"[{labels[result_type]['x_unit']}]\",\n",
    "                    ylabel=f\"{labels[result_type]['y']} \" +\n",
    "                           f\"[{labels[result_type]['y_unit']}]\")\n",
    "                fig.canvas.set_window_title(\n",
    "                    f\"Residuals of {parameter_name}\")\n",
    "                fig.tight_layout()\n",
    "                fig.show()\n",
    "            model_results[parameter_name] = model_result\n",
    "\n",
    "    # Plot single view\n",
    "    if show_lm_plot:\n",
    "        import matplotlib.pyplot as plt\n",
    "        fig = plt.figure(figsize=(9, 6))\n",
    "        fig.canvas.set_window_title(f\"Analysis {config.get('name')}\")\n",
    "        colors = dict(zip(result_types, ['r', 'b']))\n",
    "        line_styles = (\n",
    "            line_style for line_style in ('-', '--', '-.', ':') * 2)\n",
    "        # fig.suptitle(f\"Energy analysis of {config.get('name')}\")\n",
    "        ax = {}\n",
    "        ax[result_types[0]] = fig.add_subplot(1, 1, 1)\n",
    "        ax[result_types[1]] = ax[result_types[0]].twinx()\n",
    "        ax[result_types[0]].set_xlabel(\n",
    "            f\"{labels[result_types[0]]['x']} \" +\n",
    "            f\"[{labels[result_types[0]]['x_unit']}]\")\n",
    "        for result_type in result_types:\n",
    "            ax[result_type].set_ylabel(\n",
    "                f\"{labels[result_type]['y']} \" +\n",
    "                f\"[{labels[result_type]['y_unit']}]\",\n",
    "                color=colors[result_type])\n",
    "            ax[result_type].tick_params('y', colors=colors[result_type])\n",
    "\n",
    "        lines = []\n",
    "        title_str = \"\"\n",
    "        for parameter_name in parsed_data.keys():\n",
    "            length = len(parsed_data[parameter_name][result_types[0]])\n",
    "            x_step = parsed_data[parameter_name][\"x_step\"]\n",
    "            num_bytes = range(x_step, (length+1)*x_step, x_step)\n",
    "            model_result = {}\n",
    "            line_style = next(line_styles)\n",
    "            for result_type in result_types:\n",
    "                label = f\"{parameter_name} {labels[result_type]['y']}\"\n",
    "                lines += ax[result_type].plot(\n",
    "                    num_bytes, parsed_data[parameter_name][result_type],\n",
    "                    colors[result_type] + line_style, label=label)\n",
    "                title_str += f\"{label} \"\n",
    "                for param in params.keys():\n",
    "                    title_str += \"\".join(\n",
    "                        f\"{params[param].name.capitalize()}: \")\n",
    "                    title_str += \"\".join(\n",
    "                        f\"{model_results[parameter_name][result_type].params[param].value: .03} \")\n",
    "                    title_str += \"\".join(\n",
    "                        f\"{labels[result_type]['y_unit']}, \")\n",
    "                title_str = title_str[:-2] + \\\n",
    "                    f\" per {labels[result_type]['x_unit']}\\n\"\n",
    "        ax[result_types[0]].legend(handles=lines)\n",
    "        ax[result_types[0]].set_title(title_str[:-1])\n",
    "        # fig.tight_layout()\n",
    "        fig.tight_layout(rect=(0.05, 0.05, 1, 1))\n",
    "        fig.set_size_inches(8, 6, forward=True)\n",
    "        fig.show()\n",
    "\n",
    "    # Save model results to file\n",
    "    if dump_pickle:\n",
    "        model_results_dump = {}\n",
    "        for parameter_name in model_results.keys():\n",
    "            model_results_dump[parameter_name] = {}\n",
    "            for result_type in model_results[parameter_name].keys():\n",
    "                model_results_dump[parameter_name][result_type] = \\\n",
    "                    model_results[parameter_name][result_type].values\n",
    "\n",
    "        pickle.dump(model_results_dump, open(path.join(\n",
    "            path.curdir,\n",
    "            f\"{config_dict.get('file_name_base')}_model.p\"), \"wb\"))"
   ]
  },
  {
   "cell_type": "markdown",
   "metadata": {},
   "source": [
    "# Total from measurement"
   ]
  },
  {
   "cell_type": "code",
   "execution_count": 97,
   "metadata": {},
   "outputs": [
    {
     "name": "stdout",
     "output_type": "stream",
     "text": [
      "174.59009080841187 53684.96537546665\n"
     ]
    }
   ],
   "source": [
    "n_samples = 5995\n",
    "\n",
    "total_energy = sum(aes_encrypt_energy[:n_samples]) + sum(aes_flash_write_energy[:n_samples]) + sum(aes_flash_read_energy[:n_samples]) + sum(aes_decrypt_energy[:n_samples])\n",
    "total_time = sum(aes_encrypt_time_s[:n_samples]) + sum(aes_flash_write_time_s[:n_samples]) + sum(aes_flash_read_time_s[:n_samples]) + sum(aes_decrypt_time_s[:n_samples])\n",
    "print(total_energy, total_time)"
   ]
  },
  {
   "cell_type": "code",
   "execution_count": 98,
   "metadata": {},
   "outputs": [
    {
     "data": {
      "text/plain": [
       "[4.487854933333335,\n",
       " 4.9498400000000045,\n",
       " 5.543820800000002,\n",
       " 6.005805866666645,\n",
       " 6.533879466666642,\n",
       " 7.062342399999977,\n",
       " 7.458361600000046,\n",
       " 7.985689066666662,\n",
       " 8.51365599999998,\n",
       " 8.975618666666684,\n",
       " 9.503539199999967,\n",
       " 9.965759466666668,\n",
       " 10.428589866666671,\n",
       " 10.89061600000002,\n",
       " 11.417538666666726,\n",
       " 11.94551733333332,\n",
       " 16.764757866666702,\n",
       " 17.293117866666652,\n",
       " 17.62100320000004,\n",
       " 18.21540266666666,\n",
       " 18.679056533333238,\n",
       " 19.27248693333339,\n",
       " 19.733043200000022,\n",
       " 20.19668479999992,\n",
       " 20.65880266666653,\n",
       " 21.184801599999915,\n",
       " 21.5807791999999,\n",
       " 22.1747456000001,\n",
       " 22.639243199999882,\n",
       " 23.232654933333265,\n",
       " 23.69304266666639,\n",
       " 24.09085119999998,\n",
       " 28.908678399999886,\n",
       " 29.36872960000003,\n",
       " 29.833446399999854,\n",
       " 30.35916159999985,\n",
       " 30.88665920000011,\n",
       " 31.41553600000013,\n",
       " 31.879803199999834,\n",
       " 32.339195199999835,\n",
       " 32.86895359999997,\n",
       " 33.26538773333332,\n",
       " 33.79188693333313,\n",
       " 34.387389333333516,\n",
       " 34.846592000000065,\n",
       " 35.309008533333625,\n",
       " 35.772620799999764,\n",
       " 36.23474773333313,\n",
       " 41.05132106666676,\n",
       " 41.51498879999993,\n",
       " 42.040987733332976,\n",
       " 42.50541120000007,\n",
       " 43.09561600000045,\n",
       " 43.49246613333335,\n",
       " 44.024455466666,\n",
       " 44.48284479999965,\n",
       " 45.013865599999654,\n",
       " 45.53852959999993,\n",
       " 46.003803733333015,\n",
       " 46.528383999999704,\n",
       " 46.99075199999969,\n",
       " 47.5218309333334,\n",
       " 47.98132319999926,\n",
       " 48.51150826666695,\n",
       " 53.128959999999566,\n",
       " 53.658383999999785,\n",
       " 54.18353013333332,\n",
       " 54.71613333333369,\n",
       " 55.240707199999406,\n",
       " 55.64013333333406,\n",
       " 56.165212799999864,\n",
       " 56.69525600000025,\n",
       " 57.153690666666535,\n",
       " 57.62029919999989,\n",
       " 58.14563466666689,\n",
       " 58.741725333333335,\n",
       " 59.13623093333298,\n",
       " 59.66237706666622,\n",
       " 60.189902933334594,\n",
       " 60.65603520000007,\n",
       " 65.34089600000127,\n",
       " 65.80020586666802,\n",
       " 66.2664789333327,\n",
       " 66.78955626666827,\n",
       " 67.32322879999941,\n",
       " 67.84603733333228,\n",
       " 68.31005066666584,\n",
       " 68.8398416000009,\n",
       " 69.2317621333336,\n",
       " 69.63248373333286,\n",
       " 70.22281600000025,\n",
       " 70.75150400000041,\n",
       " 71.34778613333293,\n",
       " 71.80574080000035,\n",
       " 72.20582826666622,\n",
       " 72.86267893333331,\n",
       " 77.54928693333163,\n",
       " 78.14527199999955,\n",
       " 78.27397973333383,\n",
       " 78.74021813333343,\n",
       " 79.4650266666661,\n",
       " 79.99372693333396,\n",
       " 80.51696426666588,\n",
       " 81.04968533333334,\n",
       " 81.50996000000089,\n",
       " 81.7077834666664,\n",
       " 82.30205760000064,\n",
       " 82.89430293333399,\n",
       " 83.35877173333373,\n",
       " 83.95453600000025,\n",
       " 84.41549013333294,\n",
       " 84.93756799999997,\n",
       " 89.10284320000007,\n",
       " 89.56344906666568,\n",
       " 90.09195946666803,\n",
       " 90.61507093333265,\n",
       " 91.41242026666595,\n",
       " 91.80646133333336,\n",
       " 92.40226240000027,\n",
       " 92.85791679999988,\n",
       " 93.59035680000005,\n",
       " 94.11758719999952,\n",
       " 94.51372266666525,\n",
       " 94.70506773333298,\n",
       " 95.6359183999993,\n",
       " 95.89912799999745,\n",
       " 96.49258560000007,\n",
       " 97.01817493333031,\n",
       " 100.98083840000172,\n",
       " 101.57532053333185,\n",
       " 102.16713226666663,\n",
       " 102.56476906666734,\n",
       " 103.28982133333398,\n",
       " 103.8184869333314,\n",
       " 104.01099413333625,\n",
       " 104.74508266666938,\n",
       " 105.46901226666883,\n",
       " 105.99680800000044,\n",
       " 106.52405493333639,\n",
       " 106.92012533333006,\n",
       " 107.57979360000114,\n",
       " 107.97273919999917,\n",
       " 108.57135466666712,\n",
       " 108.96830826666637,\n",
       " 113.19213706666709,\n",
       " 113.78484319999949,\n",
       " 113.98290133333333,\n",
       " 114.84043520000142,\n",
       " 115.4982005333327,\n",
       " 115.89776373333294,\n",
       " 116.35874080000086,\n",
       " 116.94796159999932,\n",
       " 117.6802122666647,\n",
       " 118.07571306666631,\n",
       " 118.66673866666666,\n",
       " 118.99927359999829,\n",
       " 119.65901173333293,\n",
       " 120.18798666666619,\n",
       " 120.44995946666681,\n",
       " 121.17721600000131,\n",
       " 125.13657439999903,\n",
       " 125.59755573333575,\n",
       " 126.05982186666509,\n",
       " 126.65450346666596,\n",
       " 127.64337226666811,\n",
       " 127.9069978666687,\n",
       " 128.37059786666492,\n",
       " 128.89770079999963,\n",
       " 129.5573498666638,\n",
       " 130.08715786666693,\n",
       " 130.61429333333228,\n",
       " 131.1434757333334,\n",
       " 131.53731306666572,\n",
       " 132.13291306666798,\n",
       " 132.59490826666996,\n",
       " 133.18920159999692,\n",
       " 137.08141279999708,\n",
       " 137.41254026666638,\n",
       " 138.07128159999849,\n",
       " 138.73399680000276,\n",
       " 139.19712479999902,\n",
       " 139.78523680000166,\n",
       " 140.12094986667378,\n",
       " 140.84508693333575,\n",
       " 141.6338293333297,\n",
       " 142.0964245333316,\n",
       " 142.4934959999966,\n",
       " 143.0216224000027,\n",
       " 143.55183413332995,\n",
       " 144.00977066666343,\n",
       " 144.47651573333786,\n",
       " 145.0045877333359,\n",
       " 149.02604160000266,\n",
       " 149.42388693333086,\n",
       " 150.0179770666641,\n",
       " 150.2168752000017,\n",
       " 151.14276959999984,\n",
       " 152.0607952000006,\n",
       " 152.06808586666654,\n",
       " 152.45954239999548,\n",
       " 153.44809973333184,\n",
       " 154.17764426666736,\n",
       " 154.50339679999914,\n",
       " 155.03719519999848,\n",
       " 155.49656800000022,\n",
       " 156.0237674666638,\n",
       " 156.42129653333114,\n",
       " 156.88021013333397,\n",
       " 160.58249599999996,\n",
       " 161.36897440000197,\n",
       " 161.89555306666747,\n",
       " 162.42748106666482,\n",
       " 163.15072000000086,\n",
       " 163.74806026666988,\n",
       " 163.8116293333347,\n",
       " 164.4070858666673,\n",
       " 165.33358826666245,\n",
       " 165.79004373333106,\n",
       " 166.44993440000633,\n",
       " 166.84815573333367,\n",
       " 167.3130426666667,\n",
       " 167.96727200000205,\n",
       " 168.43180693333792,\n",
       " 168.83084533332848,\n",
       " 172.91826186666626,\n",
       " 173.44578773333197,\n",
       " 173.77674613333483,\n",
       " 174.37463893333316,\n",
       " 175.03085333333246,\n",
       " 175.4287893333384,\n",
       " 176.08859573333646,\n",
       " 176.54734453333276,\n",
       " 177.27824906666712,\n",
       " 177.86914346666904,\n",
       " 178.33103626666613,\n",
       " 178.66052053333803,\n",
       " 179.25787199999732,\n",
       " 179.7825786666678,\n",
       " 180.31383359999964,\n",
       " 180.77337440000107,\n",
       " 184.79830666666786,\n",
       " 185.26422986666802,\n",
       " 186.05143839999627,\n",
       " 186.2553903999995,\n",
       " 187.17427893332683,\n",
       " 187.50730506667068,\n",
       " 187.83580533332866,\n",
       " 188.49572426666583,\n",
       " 189.35393599999983,\n",
       " 189.55256373333285,\n",
       " 190.14554773333714,\n",
       " 190.7422576000002,\n",
       " 191.26569546666872,\n",
       " 191.6014496000038,\n",
       " 192.05852266667023,\n",
       " 192.79011786666445,\n",
       " 196.74312106666392,\n",
       " 197.40988320000596,\n",
       " 197.9314479999985,\n",
       " 198.13408000000976,\n",
       " 198.92349599999193,\n",
       " 199.32076426666612,\n",
       " 199.9791136000013,\n",
       " 200.3779903999927,\n",
       " 201.36492960000396,\n",
       " 201.23591733333512,\n",
       " 202.15603039999763,\n",
       " 202.5581002666712,\n",
       " 203.2778421333319,\n",
       " 203.54675733334204,\n",
       " 204.07048799999927,\n",
       " 204.669566400014,\n",
       " 208.55725919999912,\n",
       " 209.22299786666798,\n",
       " 209.48087413333383,\n",
       " 209.7501663999921,\n",
       " 210.8680528000093,\n",
       " 211.26558133332907,\n",
       " 211.92759039999487,\n",
       " 212.58675786668135,\n",
       " 213.11356053332986,\n",
       " 213.5772384000134,\n",
       " 214.03337173332204,\n",
       " 214.70077280000055,\n",
       " 215.02465653332337,\n",
       " 215.82150613333795,\n",
       " 215.88737866666463,\n",
       " 216.61185066666633,\n",
       " 220.5755466666588,\n",
       " 220.96593226665817,\n",
       " 221.5624656000017,\n",
       " 221.89376959999407,\n",
       " 222.75082346667574,\n",
       " 223.2095552000004,\n",
       " 223.67422826665972,\n",
       " 224.1993189333371,\n",
       " 224.92792053333233,\n",
       " 225.45928639999602,\n",
       " 226.11478080000325,\n",
       " 226.71075733332913,\n",
       " 226.9767749333269,\n",
       " 227.5036847999985,\n",
       " 228.02668319999952,\n",
       " 228.23014506666794,\n",
       " 232.05602133332803,\n",
       " 232.91095520000482,\n",
       " 233.4417024000004,\n",
       " 233.90409919999655,\n",
       " 234.36727039999994,\n",
       " 235.02232746666607,\n",
       " 235.42257973332426,\n",
       " 235.88724000000383,\n",
       " 236.80507040000975,\n",
       " 237.20680800000338,\n",
       " 237.9303103999888,\n",
       " 238.12840373333444,\n",
       " 238.92065760000492,\n",
       " 239.44775359999682,\n",
       " 239.6465520000035,\n",
       " 240.37429013333877,\n",
       " 244.13727573332977,\n",
       " 244.52980266667623,\n",
       " 245.0565167999983,\n",
       " 245.58782933332424,\n",
       " 246.38084960000128,\n",
       " 246.57715146667414,\n",
       " 246.905639466668,\n",
       " 247.2333887999909,\n",
       " 248.62294773333105,\n",
       " 249.01643679999808,\n",
       " 249.54600053332854,\n",
       " 249.81326293332984,\n",
       " 250.27107306667062,\n",
       " 251.0017760000025,\n",
       " 251.52254079999636,\n",
       " 251.92285066665931,\n",
       " 255.68385866665722,\n",
       " 256.3462533333265,\n",
       " 256.6737056000008,\n",
       " 257.3374400000077,\n",
       " 257.99461279999036,\n",
       " 258.4600869333258,\n",
       " 259.1809536000014,\n",
       " 259.44484053333383,\n",
       " 259.84439039999785,\n",
       " 260.6991642666685,\n",
       " 261.1621680000127,\n",
       " 261.7583002666706,\n",
       " 261.95609493333905,\n",
       " 262.41718666666003,\n",
       " 263.21111733332714,\n",
       " 263.6701237333341,\n",
       " 267.4976538666769,\n",
       " 267.76503093333304,\n",
       " 268.09136959999336,\n",
       " 268.9528853333272,\n",
       " 269.47779146666306,\n",
       " 269.87091573334254,\n",
       " 270.5380832000017,\n",
       " 270.6662869333343,\n",
       " 271.523189866663,\n",
       " 272.1892256000018,\n",
       " 272.9116890666745,\n",
       " 273.30447840000005,\n",
       " 273.57557066666516,\n",
       " 274.29725920000436,\n",
       " 274.8217317333186,\n",
       " 275.7515040000129,\n",
       " 278.91714186665695,\n",
       " 279.5102650666621,\n",
       " 279.90498506667194,\n",
       " 280.4366821333346,\n",
       " 281.16194720000465,\n",
       " 281.7524165333367,\n",
       " 230.53910293333502]"
      ]
     },
     "execution_count": 98,
     "metadata": {},
     "output_type": "execute_result"
    }
   ],
   "source": [
    "          [e + w + r + d for (e,w,r,d) in zip(aes_encrypt_energy, aes_flash_write_energy, aes_flash_read_energy, aes_decrypt_energy)],\n",
    "          [e + w + r + d for (e,w,r,d) in zip(aes_encrypt_time_s, aes_flash_write_time_s, aes_flash_read_time_s, aes_decrypt_time_s)]"
   ]
  },
  {
   "cell_type": "code",
   "execution_count": null,
   "metadata": {},
   "outputs": [],
   "source": []
  },
  {
   "cell_type": "code",
   "execution_count": null,
   "metadata": {},
   "outputs": [],
   "source": []
  },
  {
   "cell_type": "code",
   "execution_count": null,
   "metadata": {},
   "outputs": [],
   "source": []
  },
  {
   "cell_type": "code",
   "execution_count": null,
   "metadata": {},
   "outputs": [],
   "source": []
  },
  {
   "cell_type": "code",
   "execution_count": null,
   "metadata": {},
   "outputs": [],
   "source": []
  },
  {
   "cell_type": "code",
   "execution_count": null,
   "metadata": {},
   "outputs": [],
   "source": []
  }
 ],
 "metadata": {
  "kernelspec": {
   "display_name": "Python 3",
   "language": "python",
   "name": "python3"
  },
  "language_info": {
   "codemirror_mode": {
    "name": "ipython",
    "version": 3
   },
   "file_extension": ".py",
   "mimetype": "text/x-python",
   "name": "python",
   "nbconvert_exporter": "python",
   "pygments_lexer": "ipython3",
   "version": "3.8.1"
  }
 },
 "nbformat": 4,
 "nbformat_minor": 4
}

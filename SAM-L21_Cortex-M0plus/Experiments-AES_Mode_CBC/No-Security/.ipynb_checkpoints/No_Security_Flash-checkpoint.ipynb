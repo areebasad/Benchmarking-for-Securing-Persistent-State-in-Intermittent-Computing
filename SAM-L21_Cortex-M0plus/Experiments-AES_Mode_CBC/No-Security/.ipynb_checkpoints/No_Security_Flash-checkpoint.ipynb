{
 "cells": [
  {
   "cell_type": "markdown",
   "metadata": {},
   "source": [
    "## Import Libraries"
   ]
  },
  {
   "cell_type": "code",
   "execution_count": 3,
   "metadata": {},
   "outputs": [],
   "source": [
    "# %matplotlib ipympl\n",
    "# %matplotlib inline\n",
    "%matplotlib wx"
   ]
  },
  {
   "cell_type": "code",
   "execution_count": 4,
   "metadata": {},
   "outputs": [],
   "source": [
    "import matplotlib.pyplot as plt\n",
    "plt.ion()"
   ]
  },
  {
   "cell_type": "code",
   "execution_count": 5,
   "metadata": {},
   "outputs": [],
   "source": [
    "from pydgilib_extra import *\n",
    "from atprogram.atprogram import atprogram"
   ]
  },
  {
   "cell_type": "code",
   "execution_count": 6,
   "metadata": {},
   "outputs": [],
   "source": [
    "from os import getcwd, path, pardir\n",
    "import pickle"
   ]
  },
  {
   "cell_type": "markdown",
   "metadata": {},
   "source": [
    "## Compile and program project"
   ]
  },
  {
   "cell_type": "code",
   "execution_count": 7,
   "metadata": {},
   "outputs": [
    {
     "data": {
      "text/plain": [
       "'./No-Security'"
      ]
     },
     "execution_count": 7,
     "metadata": {},
     "output_type": "execute_result"
    }
   ],
   "source": [
    "project_path = path.curdir + \"/\" + \"No-Security\"\n",
    "project_name =  \"No-Security\"\n",
    "device_name = \"ATSAML21J18B\"\n",
    "project_path"
   ]
  },
  {
   "cell_type": "code",
   "execution_count": null,
   "metadata": {},
   "outputs": [
    {
     "name": "stdout",
     "output_type": "stream",
     "text": [
      "Building file: ../Device_Startup/startup_saml21.c\n",
      "Invoking: ARM/GNU C Compiler : 6.3.1\n",
      "\"C:\\Program Files (x86)\\Atmel\\Studio\\7.0\\toolchain\\arm\\arm-gnu-toolchain\\bin\\arm-none-eabi-gcc.exe\"  -x c -mthumb -D__SAML21J18B__ -DDEBUG  -I\"C:\\Program Files (x86)\\Atmel\\Studio\\7.0\\Packs\\arm\\CMSIS\\5.4.0\\CMSIS\\Core\\Include\" -I\"../Config\" -I\"..\" -I\"../examples\" -I\"../hal/include\" -I\"../hal/utils/include\" -I\"../hpl/core\" -I\"../hpl/dmac\" -I\"../hpl/gclk\" -I\"../hpl/mclk\" -I\"../hpl/nvmctrl\" -I\"../hpl/osc32kctrl\" -I\"../hpl/oscctrl\" -I\"../hpl/pm\" -I\"../hpl/port\" -I\"../hpl/systick\" -I\"../hri\" -I\"C:\\Program Files (x86)\\Atmel\\Studio\\7.0\\Packs\\atmel\\SAML21_DFP\\1.2.125\\saml21b\\include\"  -O1 -ffunction-sections -mlong-calls -g3 -Wall -mcpu=cortex-m0plus -c -std=gnu99 -MD -MP -MF \"Device_Startup/startup_saml21.d\" -MT\"Device_Startup/startup_saml21.d\" -MT\"Device_Startup/startup_saml21.o\"   -o \"Device_Startup/startup_saml21.o\" \"../Device_Startup/startup_saml21.c\" \n",
      "Finished building: ../Device_Startup/startup_saml21.c\n",
      "Building file: ../Device_Startup/system_saml21.c\n",
      "Invoking: ARM/GNU C Compiler : 6.3.1\n",
      "\"C:\\Program Files (x86)\\Atmel\\Studio\\7.0\\toolchain\\arm\\arm-gnu-toolchain\\bin\\arm-none-eabi-gcc.exe\"  -x c -mthumb -D__SAML21J18B__ -DDEBUG  -I\"C:\\Program Files (x86)\\Atmel\\Studio\\7.0\\Packs\\arm\\CMSIS\\5.4.0\\CMSIS\\Core\\Include\" -I\"../Config\" -I\"..\" -I\"../examples\" -I\"../hal/include\" -I\"../hal/utils/include\" -I\"../hpl/core\" -I\"../hpl/dmac\" -I\"../hpl/gclk\" -I\"../hpl/mclk\" -I\"../hpl/nvmctrl\" -I\"../hpl/osc32kctrl\" -I\"../hpl/oscctrl\" -I\"../hpl/pm\" -I\"../hpl/port\" -I\"../hpl/systick\" -I\"../hri\" -I\"C:\\Program Files (x86)\\Atmel\\Studio\\7.0\\Packs\\atmel\\SAML21_DFP\\1.2.125\\saml21b\\include\"  -O1 -ffunction-sections -mlong-calls -g3 -Wall -mcpu=cortex-m0plus -c -std=gnu99 -MD -MP -MF \"Device_Startup/system_saml21.d\" -MT\"Device_Startup/system_saml21.d\" -MT\"Device_Startup/system_saml21.o\"   -o \"Device_Startup/system_saml21.o\" \"../Device_Startup/system_saml21.c\" \n",
      "Finished building: ../Device_Startup/system_saml21.c\n",
      "Building file: ../hal/src/hal_init.c\n",
      "Invoking: ARM/GNU C Compiler : 6.3.1\n",
      "\"C:\\Program Files (x86)\\Atmel\\Studio\\7.0\\toolchain\\arm\\arm-gnu-toolchain\\bin\\arm-none-eabi-gcc.exe\"  -x c -mthumb -D__SAML21J18B__ -DDEBUG  -I\"C:\\Program Files (x86)\\Atmel\\Studio\\7.0\\Packs\\arm\\CMSIS\\5.4.0\\CMSIS\\Core\\Include\" -I\"../Config\" -I\"..\" -I\"../examples\" -I\"../hal/include\" -I\"../hal/utils/include\" -I\"../hpl/core\" -I\"../hpl/dmac\" -I\"../hpl/gclk\" -I\"../hpl/mclk\" -I\"../hpl/nvmctrl\" -I\"../hpl/osc32kctrl\" -I\"../hpl/oscctrl\" -I\"../hpl/pm\" -I\"../hpl/port\" -I\"../hpl/systick\" -I\"../hri\" -I\"C:\\Program Files (x86)\\Atmel\\Studio\\7.0\\Packs\\atmel\\SAML21_DFP\\1.2.125\\saml21b\\include\"  -O1 -ffunction-sections -mlong-calls -g3 -Wall -mcpu=cortex-m0plus -c -std=gnu99 -MD -MP -MF \"hal/src/hal_init.d\" -MT\"hal/src/hal_init.d\" -MT\"hal/src/hal_init.o\"   -o \"hal/src/hal_init.o\" \"../hal/src/hal_init.c\" \n",
      "Finished building: ../hal/src/hal_init.c\n",
      "Building file: ../hal/src/hal_atomic.c\n",
      "Invoking: ARM/GNU C Compiler : 6.3.1\n",
      "\"C:\\Program Files (x86)\\Atmel\\Studio\\7.0\\toolchain\\arm\\arm-gnu-toolchain\\bin\\arm-none-eabi-gcc.exe\"  -x c -mthumb -D__SAML21J18B__ -DDEBUG  -I\"C:\\Program Files (x86)\\Atmel\\Studio\\7.0\\Packs\\arm\\CMSIS\\5.4.0\\CMSIS\\Core\\Include\" -I\"../Config\" -I\"..\" -I\"../examples\" -I\"../hal/include\" -I\"../hal/utils/include\" -I\"../hpl/core\" -I\"../hpl/dmac\" -I\"../hpl/gclk\" -I\"../hpl/mclk\" -I\"../hpl/nvmctrl\" -I\"../hpl/osc32kctrl\" -I\"../hpl/oscctrl\" -I\"../hpl/pm\" -I\"../hpl/port\" -I\"../hpl/systick\" -I\"../hri\" -I\"C:\\Program Files (x86)\\Atmel\\Studio\\7.0\\Packs\\atmel\\SAML21_DFP\\1.2.125\\saml21b\\include\"  -O1 -ffunction-sections -mlong-calls -g3 -Wall -mcpu=cortex-m0plus -c -std=gnu99 -MD -MP -MF \"hal/src/hal_atomic.d\" -MT\"hal/src/hal_atomic.d\" -MT\"hal/src/hal_atomic.o\"   -o \"hal/src/hal_atomic.o\" \"../hal/src/hal_atomic.c\" \n",
      "Finished building: ../hal/src/hal_atomic.c\n",
      "Building file: ../hal/src/hal_delay.c\n",
      "Invoking: ARM/GNU C Compiler : 6.3.1\n",
      "\"C:\\Program Files (x86)\\Atmel\\Studio\\7.0\\toolchain\\arm\\arm-gnu-toolchain\\bin\\arm-none-eabi-gcc.exe\"  -x c -mthumb -D__SAML21J18B__ -DDEBUG  -I\"C:\\Program Files (x86)\\Atmel\\Studio\\7.0\\Packs\\arm\\CMSIS\\5.4.0\\CMSIS\\Core\\Include\" -I\"../Config\" -I\"..\" -I\"../examples\" -I\"../hal/include\" -I\"../hal/utils/include\" -I\"../hpl/core\" -I\"../hpl/dmac\" -I\"../hpl/gclk\" -I\"../hpl/mclk\" -I\"../hpl/nvmctrl\" -I\"../hpl/osc32kctrl\" -I\"../hpl/oscctrl\" -I\"../hpl/pm\" -I\"../hpl/port\" -I\"../hpl/systick\" -I\"../hri\" -I\"C:\\Program Files (x86)\\Atmel\\Studio\\7.0\\Packs\\atmel\\SAML21_DFP\\1.2.125\\saml21b\\include\"  -O1 -ffunction-sections -mlong-calls -g3 -Wall -mcpu=cortex-m0plus -c -std=gnu99 -MD -MP -MF \"hal/src/hal_delay.d\" -MT\"hal/src/hal_delay.d\" -MT\"hal/src/hal_delay.o\"   -o \"hal/src/hal_delay.o\" \"../hal/src/hal_delay.c\" \n",
      "Finished building: ../hal/src/hal_delay.c\n",
      "Building file: .././atmel_start.c\n",
      "Invoking: ARM/GNU C Compiler : 6.3.1\n",
      "\"C:\\Program Files (x86)\\Atmel\\Studio\\7.0\\toolchain\\arm\\arm-gnu-toolchain\\bin\\arm-none-eabi-gcc.exe\"  -x c -mthumb -D__SAML21J18B__ -DDEBUG  -I\"C:\\Program Files (x86)\\Atmel\\Studio\\7.0\\Packs\\arm\\CMSIS\\5.4.0\\CMSIS\\Core\\Include\" -I\"../Config\" -I\"..\" -I\"../examples\" -I\"../hal/include\" -I\"../hal/utils/include\" -I\"../hpl/core\" -I\"../hpl/dmac\" -I\"../hpl/gclk\" -I\"../hpl/mclk\" -I\"../hpl/nvmctrl\" -I\"../hpl/osc32kctrl\" -I\"../hpl/oscctrl\" -I\"../hpl/pm\" -I\"../hpl/port\" -I\"../hpl/systick\" -I\"../hri\" -I\"C:\\Program Files (x86)\\Atmel\\Studio\\7.0\\Packs\\atmel\\SAML21_DFP\\1.2.125\\saml21b\\include\"  -O1 -ffunction-sections -mlong-calls -g3 -Wall -mcpu=cortex-m0plus -c -std=gnu99 -MD -MP -MF \"atmel_start.d\" -MT\"atmel_start.d\" -MT\"atmel_start.o\"   -o \"atmel_start.o\" \".././atmel_start.c\" \n",
      "Finished building: .././atmel_start.c\n",
      "Building file: ../examples/driver_examples.c\n",
      "Invoking: ARM/GNU C Compiler : 6.3.1\n",
      "\"C:\\Program Files (x86)\\Atmel\\Studio\\7.0\\toolchain\\arm\\arm-gnu-toolchain\\bin\\arm-none-eabi-gcc.exe\"  -x c -mthumb -D__SAML21J18B__ -DDEBUG  -I\"C:\\Program Files (x86)\\Atmel\\Studio\\7.0\\Packs\\arm\\CMSIS\\5.4.0\\CMSIS\\Core\\Include\" -I\"../Config\" -I\"..\" -I\"../examples\" -I\"../hal/include\" -I\"../hal/utils/include\" -I\"../hpl/core\" -I\"../hpl/dmac\" -I\"../hpl/gclk\" -I\"../hpl/mclk\" -I\"../hpl/nvmctrl\" -I\"../hpl/osc32kctrl\" -I\"../hpl/oscctrl\" -I\"../hpl/pm\" -I\"../hpl/port\" -I\"../hpl/systick\" -I\"../hri\" -I\"C:\\Program Files (x86)\\Atmel\\Studio\\7.0\\Packs\\atmel\\SAML21_DFP\\1.2.125\\saml21b\\include\"  -O1 -ffunction-sections -mlong-calls -g3 -Wall -mcpu=cortex-m0plus -c -std=gnu99 -MD -MP -MF \"examples/driver_examples.d\" -MT\"examples/driver_examples.d\" -MT\"examples/driver_examples.o\"   -o \"examples/driver_examples.o\" \"../examples/driver_examples.c\" \n",
      "Finished building: ../examples/driver_examples.c\n",
      "Building file: .././driver_init.c\n",
      "Invoking: ARM/GNU C Compiler : 6.3.1\n",
      "\"C:\\Program Files (x86)\\Atmel\\Studio\\7.0\\toolchain\\arm\\arm-gnu-toolchain\\bin\\arm-none-eabi-gcc.exe\"  -x c -mthumb -D__SAML21J18B__ -DDEBUG  -I\"C:\\Program Files (x86)\\Atmel\\Studio\\7.0\\Packs\\arm\\CMSIS\\5.4.0\\CMSIS\\Core\\Include\" -I\"../Config\" -I\"..\" -I\"../examples\" -I\"../hal/include\" -I\"../hal/utils/include\" -I\"../hpl/core\" -I\"../hpl/dmac\" -I\"../hpl/gclk\" -I\"../hpl/mclk\" -I\"../hpl/nvmctrl\" -I\"../hpl/osc32kctrl\" -I\"../hpl/oscctrl\" -I\"../hpl/pm\" -I\"../hpl/port\" -I\"../hpl/systick\" -I\"../hri\" -I\"C:\\Program Files (x86)\\Atmel\\Studio\\7.0\\Packs\\atmel\\SAML21_DFP\\1.2.125\\saml21b\\include\"  -O1 -ffunction-sections -mlong-calls -g3 -Wall -mcpu=cortex-m0plus -c -std=gnu99 -MD -MP -MF \"driver_init.d\" -MT\"driver_init.d\" -MT\"driver_init.o\"   -o \"driver_init.o\" \".././driver_init.c\" \n",
      "Finished building: .././driver_init.c\n",
      "Building file: .././gpio_init.c\n",
      "Invoking: ARM/GNU C Compiler : 6.3.1\n",
      "\"C:\\Program Files (x86)\\Atmel\\Studio\\7.0\\toolchain\\arm\\arm-gnu-toolchain\\bin\\arm-none-eabi-gcc.exe\"  -x c -mthumb -D__SAML21J18B__ -DDEBUG  -I\"C:\\Program Files (x86)\\Atmel\\Studio\\7.0\\Packs\\arm\\CMSIS\\5.4.0\\CMSIS\\Core\\Include\" -I\"../Config\" -I\"..\" -I\"../examples\" -I\"../hal/include\" -I\"../hal/utils/include\" -I\"../hpl/core\" -I\"../hpl/dmac\" -I\"../hpl/gclk\" -I\"../hpl/mclk\" -I\"../hpl/nvmctrl\" -I\"../hpl/osc32kctrl\" -I\"../hpl/oscctrl\" -I\"../hpl/pm\" -I\"../hpl/port\" -I\"../hpl/systick\" -I\"../hri\" -I\"C:\\Program Files (x86)\\Atmel\\Studio\\7.0\\Packs\\atmel\\SAML21_DFP\\1.2.125\\saml21b\\include\"  -O1 -ffunction-sections -mlong-calls -g3 -Wall -mcpu=cortex-m0plus -c -std=gnu99 -MD -MP -MF \"gpio_init.d\" -MT\"gpio_init.d\" -MT\"gpio_init.o\"   -o \"gpio_init.o\" \".././gpio_init.c\" \n",
      "Finished building: .././gpio_init.c\n",
      "Building file: ../hal/src/hal_flash.c\n",
      "Invoking: ARM/GNU C Compiler : 6.3.1\n",
      "\"C:\\Program Files (x86)\\Atmel\\Studio\\7.0\\toolchain\\arm\\arm-gnu-toolchain\\bin\\arm-none-eabi-gcc.exe\"  -x c -mthumb -D__SAML21J18B__ -DDEBUG  -I\"C:\\Program Files (x86)\\Atmel\\Studio\\7.0\\Packs\\arm\\CMSIS\\5.4.0\\CMSIS\\Core\\Include\" -I\"../Config\" -I\"..\" -I\"../examples\" -I\"../hal/include\" -I\"../hal/utils/include\" -I\"../hpl/core\" -I\"../hpl/dmac\" -I\"../hpl/gclk\" -I\"../hpl/mclk\" -I\"../hpl/nvmctrl\" -I\"../hpl/osc32kctrl\" -I\"../hpl/oscctrl\" -I\"../hpl/pm\" -I\"../hpl/port\" -I\"../hpl/systick\" -I\"../hri\" -I\"C:\\Program Files (x86)\\Atmel\\Studio\\7.0\\Packs\\atmel\\SAML21_DFP\\1.2.125\\saml21b\\include\"  -O1 -ffunction-sections -mlong-calls -g3 -Wall -mcpu=cortex-m0plus -c -std=gnu99 -MD -MP -MF \"hal/src/hal_flash.d\" -MT\"hal/src/hal_flash.d\" -MT\"hal/src/hal_flash.o\"   -o \"hal/src/hal_flash.o\" \"../hal/src/hal_flash.c\" \n",
      "Finished building: ../hal/src/hal_flash.c\n",
      "Building file: ../hal/src/hal_gpio.c\n",
      "Invoking: ARM/GNU C Compiler : 6.3.1\n",
      "\"C:\\Program Files (x86)\\Atmel\\Studio\\7.0\\toolchain\\arm\\arm-gnu-toolchain\\bin\\arm-none-eabi-gcc.exe\"  -x c -mthumb -D__SAML21J18B__ -DDEBUG  -I\"C:\\Program Files (x86)\\Atmel\\Studio\\7.0\\Packs\\arm\\CMSIS\\5.4.0\\CMSIS\\Core\\Include\" -I\"../Config\" -I\"..\" -I\"../examples\" -I\"../hal/include\" -I\"../hal/utils/include\" -I\"../hpl/core\" -I\"../hpl/dmac\" -I\"../hpl/gclk\" -I\"../hpl/mclk\" -I\"../hpl/nvmctrl\" -I\"../hpl/osc32kctrl\" -I\"../hpl/oscctrl\" -I\"../hpl/pm\" -I\"../hpl/port\" -I\"../hpl/systick\" -I\"../hri\" -I\"C:\\Program Files (x86)\\Atmel\\Studio\\7.0\\Packs\\atmel\\SAML21_DFP\\1.2.125\\saml21b\\include\"  -O1 -ffunction-sections -mlong-calls -g3 -Wall -mcpu=cortex-m0plus -c -std=gnu99 -MD -MP -MF \"hal/src/hal_gpio.d\" -MT\"hal/src/hal_gpio.d\" -MT\"hal/src/hal_gpio.o\"   -o \"hal/src/hal_gpio.o\" \"../hal/src/hal_gpio.c\" \n",
      "Finished building: ../hal/src/hal_gpio.c\n",
      "Building file: ../hal/src/hal_io.c\n",
      "Invoking: ARM/GNU C Compiler : 6.3.1\n",
      "\"C:\\Program Files (x86)\\Atmel\\Studio\\7.0\\toolchain\\arm\\arm-gnu-toolchain\\bin\\arm-none-eabi-gcc.exe\"  -x c -mthumb -D__SAML21J18B__ -DDEBUG  -I\"C:\\Program Files (x86)\\Atmel\\Studio\\7.0\\Packs\\arm\\CMSIS\\5.4.0\\CMSIS\\Core\\Include\" -I\"../Config\" -I\"..\" -I\"../examples\" -I\"../hal/include\" -I\"../hal/utils/include\" -I\"../hpl/core\" -I\"../hpl/dmac\" -I\"../hpl/gclk\" -I\"../hpl/mclk\" -I\"../hpl/nvmctrl\" -I\"../hpl/osc32kctrl\" -I\"../hpl/oscctrl\" -I\"../hpl/pm\" -I\"../hpl/port\" -I\"../hpl/systick\" -I\"../hri\" -I\"C:\\Program Files (x86)\\Atmel\\Studio\\7.0\\Packs\\atmel\\SAML21_DFP\\1.2.125\\saml21b\\include\"  -O1 -ffunction-sections -mlong-calls -g3 -Wall -mcpu=cortex-m0plus -c -std=gnu99 -MD -MP -MF \"hal/src/hal_io.d\" -MT\"hal/src/hal_io.d\" -MT\"hal/src/hal_io.o\"   -o \"hal/src/hal_io.o\" \"../hal/src/hal_io.c\" \n",
      "Finished building: ../hal/src/hal_io.c\n",
      "Building file: ../hal/src/hal_sleep.c\n",
      "Invoking: ARM/GNU C Compiler : 6.3.1\n",
      "\"C:\\Program Files (x86)\\Atmel\\Studio\\7.0\\toolchain\\arm\\arm-gnu-toolchain\\bin\\arm-none-eabi-gcc.exe\"  -x c -mthumb -D__SAML21J18B__ -DDEBUG  -I\"C:\\Program Files (x86)\\Atmel\\Studio\\7.0\\Packs\\arm\\CMSIS\\5.4.0\\CMSIS\\Core\\Include\" -I\"../Config\" -I\"..\" -I\"../examples\" -I\"../hal/include\" -I\"../hal/utils/include\" -I\"../hpl/core\" -I\"../hpl/dmac\" -I\"../hpl/gclk\" -I\"../hpl/mclk\" -I\"../hpl/nvmctrl\" -I\"../hpl/osc32kctrl\" -I\"../hpl/oscctrl\" -I\"../hpl/pm\" -I\"../hpl/port\" -I\"../hpl/systick\" -I\"../hri\" -I\"C:\\Program Files (x86)\\Atmel\\Studio\\7.0\\Packs\\atmel\\SAML21_DFP\\1.2.125\\saml21b\\include\"  -O1 -ffunction-sections -mlong-calls -g3 -Wall -mcpu=cortex-m0plus -c -std=gnu99 -MD -MP -MF \"hal/src/hal_sleep.d\" -MT\"hal/src/hal_sleep.d\" -MT\"hal/src/hal_sleep.o\"   -o \"hal/src/hal_sleep.o\" \"../hal/src/hal_sleep.c\" \n",
      "Finished building: ../hal/src/hal_sleep.c\n",
      "Building file: ../hal/utils/src/utils_assert.c\n",
      "Invoking: ARM/GNU C Compiler : 6.3.1\n",
      "\"C:\\Program Files (x86)\\Atmel\\Studio\\7.0\\toolchain\\arm\\arm-gnu-toolchain\\bin\\arm-none-eabi-gcc.exe\"  -x c -mthumb -D__SAML21J18B__ -DDEBUG  -I\"C:\\Program Files (x86)\\Atmel\\Studio\\7.0\\Packs\\arm\\CMSIS\\5.4.0\\CMSIS\\Core\\Include\" -I\"../Config\" -I\"..\" -I\"../examples\" -I\"../hal/include\" -I\"../hal/utils/include\" -I\"../hpl/core\" -I\"../hpl/dmac\" -I\"../hpl/gclk\" -I\"../hpl/mclk\" -I\"../hpl/nvmctrl\" -I\"../hpl/osc32kctrl\" -I\"../hpl/oscctrl\" -I\"../hpl/pm\" -I\"../hpl/port\" -I\"../hpl/systick\" -I\"../hri\" -I\"C:\\Program Files (x86)\\Atmel\\Studio\\7.0\\Packs\\atmel\\SAML21_DFP\\1.2.125\\saml21b\\include\"  -O1 -ffunction-sections -mlong-calls -g3 -Wall -mcpu=cortex-m0plus -c -std=gnu99 -MD -MP -MF \"hal/utils/src/utils_assert.d\" -MT\"hal/utils/src/utils_assert.d\" -MT\"hal/utils/src/utils_assert.o\"   -o \"hal/utils/src/utils_assert.o\" \"../hal/utils/src/utils_assert.c\" \n",
      "Finished building: ../hal/utils/src/utils_assert.c\n",
      "Building file: ../hal/utils/src/utils_list.c\n",
      "Invoking: ARM/GNU C Compiler : 6.3.1\n",
      "\"C:\\Program Files (x86)\\Atmel\\Studio\\7.0\\toolchain\\arm\\arm-gnu-toolchain\\bin\\arm-none-eabi-gcc.exe\"  -x c -mthumb -D__SAML21J18B__ -DDEBUG  -I\"C:\\Program Files (x86)\\Atmel\\Studio\\7.0\\Packs\\arm\\CMSIS\\5.4.0\\CMSIS\\Core\\Include\" -I\"../Config\" -I\"..\" -I\"../examples\" -I\"../hal/include\" -I\"../hal/utils/include\" -I\"../hpl/core\" -I\"../hpl/dmac\" -I\"../hpl/gclk\" -I\"../hpl/mclk\" -I\"../hpl/nvmctrl\" -I\"../hpl/osc32kctrl\" -I\"../hpl/oscctrl\" -I\"../hpl/pm\" -I\"../hpl/port\" -I\"../hpl/systick\" -I\"../hri\" -I\"C:\\Program Files (x86)\\Atmel\\Studio\\7.0\\Packs\\atmel\\SAML21_DFP\\1.2.125\\saml21b\\include\"  -O1 -ffunction-sections -mlong-calls -g3 -Wall -mcpu=cortex-m0plus -c -std=gnu99 -MD -MP -MF \"hal/utils/src/utils_list.d\" -MT\"hal/utils/src/utils_list.d\" -MT\"hal/utils/src/utils_list.o\"   -o \"hal/utils/src/utils_list.o\" \"../hal/utils/src/utils_list.c\" \n",
      "Finished building: ../hal/utils/src/utils_list.c\n",
      "Building file: ../hpl/core/hpl_core_m0plus_base.c\n",
      "Invoking: ARM/GNU C Compiler : 6.3.1\n",
      "\"C:\\Program Files (x86)\\Atmel\\Studio\\7.0\\toolchain\\arm\\arm-gnu-toolchain\\bin\\arm-none-eabi-gcc.exe\"  -x c -mthumb -D__SAML21J18B__ -DDEBUG  -I\"C:\\Program Files (x86)\\Atmel\\Studio\\7.0\\Packs\\arm\\CMSIS\\5.4.0\\CMSIS\\Core\\Include\" -I\"../Config\" -I\"..\" -I\"../examples\" -I\"../hal/include\" -I\"../hal/utils/include\" -I\"../hpl/core\" -I\"../hpl/dmac\" -I\"../hpl/gclk\" -I\"../hpl/mclk\" -I\"../hpl/nvmctrl\" -I\"../hpl/osc32kctrl\" -I\"../hpl/oscctrl\" -I\"../hpl/pm\" -I\"../hpl/port\" -I\"../hpl/systick\" -I\"../hri\" -I\"C:\\Program Files (x86)\\Atmel\\Studio\\7.0\\Packs\\atmel\\SAML21_DFP\\1.2.125\\saml21b\\include\"  -O1 -ffunction-sections -mlong-calls -g3 -Wall -mcpu=cortex-m0plus -c -std=gnu99 -MD -MP -MF \"hpl/core/hpl_core_m0plus_base.d\" -MT\"hpl/core/hpl_core_m0plus_base.d\" -MT\"hpl/core/hpl_core_m0plus_base.o\"   -o \"hpl/core/hpl_core_m0plus_base.o\" \"../hpl/core/hpl_core_m0plus_base.c\" \n",
      "Finished building: ../hpl/core/hpl_core_m0plus_base.c\n",
      "Building file: ../hpl/core/hpl_init.c\n",
      "Invoking: ARM/GNU C Compiler : 6.3.1\n",
      "\"C:\\Program Files (x86)\\Atmel\\Studio\\7.0\\toolchain\\arm\\arm-gnu-toolchain\\bin\\arm-none-eabi-gcc.exe\"  -x c -mthumb -D__SAML21J18B__ -DDEBUG  -I\"C:\\Program Files (x86)\\Atmel\\Studio\\7.0\\Packs\\arm\\CMSIS\\5.4.0\\CMSIS\\Core\\Include\" -I\"../Config\" -I\"..\" -I\"../examples\" -I\"../hal/include\" -I\"../hal/utils/include\" -I\"../hpl/core\" -I\"../hpl/dmac\" -I\"../hpl/gclk\" -I\"../hpl/mclk\" -I\"../hpl/nvmctrl\" -I\"../hpl/osc32kctrl\" -I\"../hpl/oscctrl\" -I\"../hpl/pm\" -I\"../hpl/port\" -I\"../hpl/systick\" -I\"../hri\" -I\"C:\\Program Files (x86)\\Atmel\\Studio\\7.0\\Packs\\atmel\\SAML21_DFP\\1.2.125\\saml21b\\include\"  -O1 -ffunction-sections -mlong-calls -g3 -Wall -mcpu=cortex-m0plus -c -std=gnu99 -MD -MP -MF \"hpl/core/hpl_init.d\" -MT\"hpl/core/hpl_init.d\" -MT\"hpl/core/hpl_init.o\"   -o \"hpl/core/hpl_init.o\" \"../hpl/core/hpl_init.c\" \n",
      "Finished building: ../hpl/core/hpl_init.c\n",
      "Building file: ../hal/utils/src/utils_event.c\n",
      "Invoking: ARM/GNU C Compiler : 6.3.1\n",
      "\"C:\\Program Files (x86)\\Atmel\\Studio\\7.0\\toolchain\\arm\\arm-gnu-toolchain\\bin\\arm-none-eabi-gcc.exe\"  -x c -mthumb -D__SAML21J18B__ -DDEBUG  -I\"C:\\Program Files (x86)\\Atmel\\Studio\\7.0\\Packs\\arm\\CMSIS\\5.4.0\\CMSIS\\Core\\Include\" -I\"../Config\" -I\"..\" -I\"../examples\" -I\"../hal/include\" -I\"../hal/utils/include\" -I\"../hpl/core\" -I\"../hpl/dmac\" -I\"../hpl/gclk\" -I\"../hpl/mclk\" -I\"../hpl/nvmctrl\" -I\"../hpl/osc32kctrl\" -I\"../hpl/oscctrl\" -I\"../hpl/pm\" -I\"../hpl/port\" -I\"../hpl/systick\" -I\"../hri\" -I\"C:\\Program Files (x86)\\Atmel\\Studio\\7.0\\Packs\\atmel\\SAML21_DFP\\1.2.125\\saml21b\\include\"  -O1 -ffunction-sections -mlong-calls -g3 -Wall -mcpu=cortex-m0plus -c -std=gnu99 -MD -MP -MF \"hal/utils/src/utils_event.d\" -MT\"hal/utils/src/utils_event.d\" -MT\"hal/utils/src/utils_event.o\"   -o \"hal/utils/src/utils_event.o\" \"../hal/utils/src/utils_event.c\" \n",
      "Finished building: ../hal/utils/src/utils_event.c\n",
      "Building file: ../hpl/dmac/hpl_dmac.c\n",
      "Invoking: ARM/GNU C Compiler : 6.3.1\n",
      "\"C:\\Program Files (x86)\\Atmel\\Studio\\7.0\\toolchain\\arm\\arm-gnu-toolchain\\bin\\arm-none-eabi-gcc.exe\"  -x c -mthumb -D__SAML21J18B__ -DDEBUG  -I\"C:\\Program Files (x86)\\Atmel\\Studio\\7.0\\Packs\\arm\\CMSIS\\5.4.0\\CMSIS\\Core\\Include\" -I\"../Config\" -I\"..\" -I\"../examples\" -I\"../hal/include\" -I\"../hal/utils/include\" -I\"../hpl/core\" -I\"../hpl/dmac\" -I\"../hpl/gclk\" -I\"../hpl/mclk\" -I\"../hpl/nvmctrl\" -I\"../hpl/osc32kctrl\" -I\"../hpl/oscctrl\" -I\"../hpl/pm\" -I\"../hpl/port\" -I\"../hpl/systick\" -I\"../hri\" -I\"C:\\Program Files (x86)\\Atmel\\Studio\\7.0\\Packs\\atmel\\SAML21_DFP\\1.2.125\\saml21b\\include\"  -O1 -ffunction-sections -mlong-calls -g3 -Wall -mcpu=cortex-m0plus -c -std=gnu99 -MD -MP -MF \"hpl/dmac/hpl_dmac.d\" -MT\"hpl/dmac/hpl_dmac.d\" -MT\"hpl/dmac/hpl_dmac.o\"   -o \"hpl/dmac/hpl_dmac.o\" \"../hpl/dmac/hpl_dmac.c\" \n",
      "Finished building: ../hpl/dmac/hpl_dmac.c\n",
      "Building file: ../hpl/gclk/hpl_gclk.c\n",
      "Invoking: ARM/GNU C Compiler : 6.3.1\n",
      "\"C:\\Program Files (x86)\\Atmel\\Studio\\7.0\\toolchain\\arm\\arm-gnu-toolchain\\bin\\arm-none-eabi-gcc.exe\"  -x c -mthumb -D__SAML21J18B__ -DDEBUG  -I\"C:\\Program Files (x86)\\Atmel\\Studio\\7.0\\Packs\\arm\\CMSIS\\5.4.0\\CMSIS\\Core\\Include\" -I\"../Config\" -I\"..\" -I\"../examples\" -I\"../hal/include\" -I\"../hal/utils/include\" -I\"../hpl/core\" -I\"../hpl/dmac\" -I\"../hpl/gclk\" -I\"../hpl/mclk\" -I\"../hpl/nvmctrl\" -I\"../hpl/osc32kctrl\" -I\"../hpl/oscctrl\" -I\"../hpl/pm\" -I\"../hpl/port\" -I\"../hpl/systick\" -I\"../hri\" -I\"C:\\Program Files (x86)\\Atmel\\Studio\\7.0\\Packs\\atmel\\SAML21_DFP\\1.2.125\\saml21b\\include\"  -O1 -ffunction-sections -mlong-calls -g3 -Wall -mcpu=cortex-m0plus -c -std=gnu99 -MD -MP -MF \"hpl/gclk/hpl_gclk.d\" -MT\"hpl/gclk/hpl_gclk.d\" -MT\"hpl/gclk/hpl_gclk.o\"   -o \"hpl/gclk/hpl_gclk.o\" \"../hpl/gclk/hpl_gclk.c\" \n",
      "Finished building: ../hpl/gclk/hpl_gclk.c\n",
      "Building file: ../hpl/mclk/hpl_mclk.c\n",
      "Invoking: ARM/GNU C Compiler : 6.3.1\n",
      "\"C:\\Program Files (x86)\\Atmel\\Studio\\7.0\\toolchain\\arm\\arm-gnu-toolchain\\bin\\arm-none-eabi-gcc.exe\"  -x c -mthumb -D__SAML21J18B__ -DDEBUG  -I\"C:\\Program Files (x86)\\Atmel\\Studio\\7.0\\Packs\\arm\\CMSIS\\5.4.0\\CMSIS\\Core\\Include\" -I\"../Config\" -I\"..\" -I\"../examples\" -I\"../hal/include\" -I\"../hal/utils/include\" -I\"../hpl/core\" -I\"../hpl/dmac\" -I\"../hpl/gclk\" -I\"../hpl/mclk\" -I\"../hpl/nvmctrl\" -I\"../hpl/osc32kctrl\" -I\"../hpl/oscctrl\" -I\"../hpl/pm\" -I\"../hpl/port\" -I\"../hpl/systick\" -I\"../hri\" -I\"C:\\Program Files (x86)\\Atmel\\Studio\\7.0\\Packs\\atmel\\SAML21_DFP\\1.2.125\\saml21b\\include\"  -O1 -ffunction-sections -mlong-calls -g3 -Wall -mcpu=cortex-m0plus -c -std=gnu99 -MD -MP -MF \"hpl/mclk/hpl_mclk.d\" -MT\"hpl/mclk/hpl_mclk.d\" -MT\"hpl/mclk/hpl_mclk.o\"   -o \"hpl/mclk/hpl_mclk.o\" \"../hpl/mclk/hpl_mclk.c\" \n",
      "Finished building: ../hpl/mclk/hpl_mclk.c\n",
      "Building file: ../hpl/osc32kctrl/hpl_osc32kctrl.c\n",
      "Invoking: ARM/GNU C Compiler : 6.3.1\n",
      "\"C:\\Program Files (x86)\\Atmel\\Studio\\7.0\\toolchain\\arm\\arm-gnu-toolchain\\bin\\arm-none-eabi-gcc.exe\"  -x c -mthumb -D__SAML21J18B__ -DDEBUG  -I\"C:\\Program Files (x86)\\Atmel\\Studio\\7.0\\Packs\\arm\\CMSIS\\5.4.0\\CMSIS\\Core\\Include\" -I\"../Config\" -I\"..\" -I\"../examples\" -I\"../hal/include\" -I\"../hal/utils/include\" -I\"../hpl/core\" -I\"../hpl/dmac\" -I\"../hpl/gclk\" -I\"../hpl/mclk\" -I\"../hpl/nvmctrl\" -I\"../hpl/osc32kctrl\" -I\"../hpl/oscctrl\" -I\"../hpl/pm\" -I\"../hpl/port\" -I\"../hpl/systick\" -I\"../hri\" -I\"C:\\Program Files (x86)\\Atmel\\Studio\\7.0\\Packs\\atmel\\SAML21_DFP\\1.2.125\\saml21b\\include\"  -O1 -ffunction-sections -mlong-calls -g3 -Wall -mcpu=cortex-m0plus -c -std=gnu99 -MD -MP -MF \"hpl/osc32kctrl/hpl_osc32kctrl.d\" -MT\"hpl/osc32kctrl/hpl_osc32kctrl.d\" -MT\"hpl/osc32kctrl/hpl_osc32kctrl.o\"   -o \"hpl/osc32kctrl/hpl_osc32kctrl.o\" \"../hpl/osc32kctrl/hpl_osc32kctrl.c\" \n",
      "Finished building: ../hpl/osc32kctrl/hpl_osc32kctrl.c\n",
      "Building file: ../hpl/oscctrl/hpl_oscctrl.c\n",
      "Invoking: ARM/GNU C Compiler : 6.3.1\n",
      "\"C:\\Program Files (x86)\\Atmel\\Studio\\7.0\\toolchain\\arm\\arm-gnu-toolchain\\bin\\arm-none-eabi-gcc.exe\"  -x c -mthumb -D__SAML21J18B__ -DDEBUG  -I\"C:\\Program Files (x86)\\Atmel\\Studio\\7.0\\Packs\\arm\\CMSIS\\5.4.0\\CMSIS\\Core\\Include\" -I\"../Config\" -I\"..\" -I\"../examples\" -I\"../hal/include\" -I\"../hal/utils/include\" -I\"../hpl/core\" -I\"../hpl/dmac\" -I\"../hpl/gclk\" -I\"../hpl/mclk\" -I\"../hpl/nvmctrl\" -I\"../hpl/osc32kctrl\" -I\"../hpl/oscctrl\" -I\"../hpl/pm\" -I\"../hpl/port\" -I\"../hpl/systick\" -I\"../hri\" -I\"C:\\Program Files (x86)\\Atmel\\Studio\\7.0\\Packs\\atmel\\SAML21_DFP\\1.2.125\\saml21b\\include\"  -O1 -ffunction-sections -mlong-calls -g3 -Wall -mcpu=cortex-m0plus -c -std=gnu99 -MD -MP -MF \"hpl/oscctrl/hpl_oscctrl.d\" -MT\"hpl/oscctrl/hpl_oscctrl.d\" -MT\"hpl/oscctrl/hpl_oscctrl.o\"   -o \"hpl/oscctrl/hpl_oscctrl.o\" \"../hpl/oscctrl/hpl_oscctrl.c\" \n",
      "Finished building: ../hpl/oscctrl/hpl_oscctrl.c\n",
      "Building file: ../hpl/nvmctrl/hpl_nvmctrl.c\n",
      "Invoking: ARM/GNU C Compiler : 6.3.1\n",
      "\"C:\\Program Files (x86)\\Atmel\\Studio\\7.0\\toolchain\\arm\\arm-gnu-toolchain\\bin\\arm-none-eabi-gcc.exe\"  -x c -mthumb -D__SAML21J18B__ -DDEBUG  -I\"C:\\Program Files (x86)\\Atmel\\Studio\\7.0\\Packs\\arm\\CMSIS\\5.4.0\\CMSIS\\Core\\Include\" -I\"../Config\" -I\"..\" -I\"../examples\" -I\"../hal/include\" -I\"../hal/utils/include\" -I\"../hpl/core\" -I\"../hpl/dmac\" -I\"../hpl/gclk\" -I\"../hpl/mclk\" -I\"../hpl/nvmctrl\" -I\"../hpl/osc32kctrl\" -I\"../hpl/oscctrl\" -I\"../hpl/pm\" -I\"../hpl/port\" -I\"../hpl/systick\" -I\"../hri\" -I\"C:\\Program Files (x86)\\Atmel\\Studio\\7.0\\Packs\\atmel\\SAML21_DFP\\1.2.125\\saml21b\\include\"  -O1 -ffunction-sections -mlong-calls -g3 -Wall -mcpu=cortex-m0plus -c -std=gnu99 -MD -MP -MF \"hpl/nvmctrl/hpl_nvmctrl.d\" -MT\"hpl/nvmctrl/hpl_nvmctrl.d\" -MT\"hpl/nvmctrl/hpl_nvmctrl.o\"   -o \"hpl/nvmctrl/hpl_nvmctrl.o\" \"../hpl/nvmctrl/hpl_nvmctrl.c\" \n",
      "Finished building: ../hpl/nvmctrl/hpl_nvmctrl.c\n",
      "Building file: ../hpl/pm/hpl_pm.c\n",
      "Invoking: ARM/GNU C Compiler : 6.3.1\n",
      "\"C:\\Program Files (x86)\\Atmel\\Studio\\7.0\\toolchain\\arm\\arm-gnu-toolchain\\bin\\arm-none-eabi-gcc.exe\"  -x c -mthumb -D__SAML21J18B__ -DDEBUG  -I\"C:\\Program Files (x86)\\Atmel\\Studio\\7.0\\Packs\\arm\\CMSIS\\5.4.0\\CMSIS\\Core\\Include\" -I\"../Config\" -I\"..\" -I\"../examples\" -I\"../hal/include\" -I\"../hal/utils/include\" -I\"../hpl/core\" -I\"../hpl/dmac\" -I\"../hpl/gclk\" -I\"../hpl/mclk\" -I\"../hpl/nvmctrl\" -I\"../hpl/osc32kctrl\" -I\"../hpl/oscctrl\" -I\"../hpl/pm\" -I\"../hpl/port\" -I\"../hpl/systick\" -I\"../hri\" -I\"C:\\Program Files (x86)\\Atmel\\Studio\\7.0\\Packs\\atmel\\SAML21_DFP\\1.2.125\\saml21b\\include\"  -O1 -ffunction-sections -mlong-calls -g3 -Wall -mcpu=cortex-m0plus -c -std=gnu99 -MD -MP -MF \"hpl/pm/hpl_pm.d\" -MT\"hpl/pm/hpl_pm.d\" -MT\"hpl/pm/hpl_pm.o\"   -o \"hpl/pm/hpl_pm.o\" \"../hpl/pm/hpl_pm.c\" \n",
      "Finished building: ../hpl/pm/hpl_pm.c\n",
      "Building file: ../hpl/systick/hpl_systick.c\n",
      "Invoking: ARM/GNU C Compiler : 6.3.1\n",
      "\"C:\\Program Files (x86)\\Atmel\\Studio\\7.0\\toolchain\\arm\\arm-gnu-toolchain\\bin\\arm-none-eabi-gcc.exe\"  -x c -mthumb -D__SAML21J18B__ -DDEBUG  -I\"C:\\Program Files (x86)\\Atmel\\Studio\\7.0\\Packs\\arm\\CMSIS\\5.4.0\\CMSIS\\Core\\Include\" -I\"../Config\" -I\"..\" -I\"../examples\" -I\"../hal/include\" -I\"../hal/utils/include\" -I\"../hpl/core\" -I\"../hpl/dmac\" -I\"../hpl/gclk\" -I\"../hpl/mclk\" -I\"../hpl/nvmctrl\" -I\"../hpl/osc32kctrl\" -I\"../hpl/oscctrl\" -I\"../hpl/pm\" -I\"../hpl/port\" -I\"../hpl/systick\" -I\"../hri\" -I\"C:\\Program Files (x86)\\Atmel\\Studio\\7.0\\Packs\\atmel\\SAML21_DFP\\1.2.125\\saml21b\\include\"  -O1 -ffunction-sections -mlong-calls -g3 -Wall -mcpu=cortex-m0plus -c -std=gnu99 -MD -MP -MF \"hpl/systick/hpl_systick.d\" -MT\"hpl/systick/hpl_systick.d\" -MT\"hpl/systick/hpl_systick.o\"   -o \"hpl/systick/hpl_systick.o\" \"../hpl/systick/hpl_systick.c\" \n",
      "Finished building: ../hpl/systick/hpl_systick.c\n",
      "Building file: .././main.c\n",
      "Invoking: ARM/GNU C Compiler : 6.3.1\n",
      "\"C:\\Program Files (x86)\\Atmel\\Studio\\7.0\\toolchain\\arm\\arm-gnu-toolchain\\bin\\arm-none-eabi-gcc.exe\"  -x c -mthumb -D__SAML21J18B__ -DDEBUG  -I\"C:\\Program Files (x86)\\Atmel\\Studio\\7.0\\Packs\\arm\\CMSIS\\5.4.0\\CMSIS\\Core\\Include\" -I\"../Config\" -I\"..\" -I\"../examples\" -I\"../hal/include\" -I\"../hal/utils/include\" -I\"../hpl/core\" -I\"../hpl/dmac\" -I\"../hpl/gclk\" -I\"../hpl/mclk\" -I\"../hpl/nvmctrl\" -I\"../hpl/osc32kctrl\" -I\"../hpl/oscctrl\" -I\"../hpl/pm\" -I\"../hpl/port\" -I\"../hpl/systick\" -I\"../hri\" -I\"C:\\Program Files (x86)\\Atmel\\Studio\\7.0\\Packs\\atmel\\SAML21_DFP\\1.2.125\\saml21b\\include\"  -O1 -ffunction-sections -mlong-calls -g3 -Wall -mcpu=cortex-m0plus -c -std=gnu99 -MD -MP -MF \"main.d\" -MT\"main.d\" -MT\"main.o\"   -o \"main.o\" \".././main.c\" \n",
      "Finished building: .././main.c\n",
      "Building target: No-Security.elf\n",
      "Invoking: ARM/GNU Linker : 6.3.1\n",
      "\"C:\\Program Files (x86)\\Atmel\\Studio\\7.0\\toolchain\\arm\\arm-gnu-toolchain\\bin\\arm-none-eabi-gcc.exe\" -o No-Security.elf  atmel_start.o Device_Startup/startup_saml21.o Device_Startup/system_saml21.o driver_init.o examples/driver_examples.o gpio_init.o hal/src/hal_atomic.o hal/src/hal_delay.o hal/src/hal_flash.o hal/src/hal_gpio.o hal/src/hal_init.o hal/src/hal_io.o hal/src/hal_sleep.o hal/utils/src/utils_assert.o hal/utils/src/utils_event.o hal/utils/src/utils_list.o hal/utils/src/utils_syscalls.o hpl/core/hpl_core_m0plus_base.o hpl/core/hpl_init.o hpl/dmac/hpl_dmac.o hpl/gclk/hpl_gclk.o hpl/mclk/hpl_mclk.o hpl/nvmctrl/hpl_nvmctrl.o hpl/osc32kctrl/hpl_osc32kctrl.o hpl/oscctrl/hpl_oscctrl.o hpl/pm/hpl_pm.o hpl/systick/hpl_systick.o main.o   -mthumb -Wl,-Map=\"No-Security.map\" --specs=nano.specs -Wl,--start-group -lm  -Wl,--end-group -L\"..\\\\Device_Startup\"  -Wl,--gc-sections -mcpu=cortex-m0plus -Tsaml21j18b_flash.ld  \n",
      "Finished building target: No-Security.elf\n",
      "\"C:\\Program Files (x86)\\Atmel\\Studio\\7.0\\toolchain\\arm\\arm-gnu-toolchain\\bin\\arm-none-eabi-objcopy.exe\" -O binary \"No-Security.elf\" \"No-Security.bin\"\n",
      "\"C:\\Program Files (x86)\\Atmel\\Studio\\7.0\\toolchain\\arm\\arm-gnu-toolchain\\bin\\arm-none-eabi-objcopy.exe\" -O ihex -R .eeprom -R .fuse -R .lock -R .signature  \"No-Security.elf\" \"No-Security.hex\"\n",
      "\"C:\\Program Files (x86)\\Atmel\\Studio\\7.0\\toolchain\\arm\\arm-gnu-toolchain\\bin\\arm-none-eabi-objcopy.exe\" -j .eeprom --set-section-flags=.eeprom=alloc,load --change-section-lma .eeprom=0 --no-change-warnings -O binary \"No-Security.elf\" \"No-Security.eep\" || exit 0\n",
      "\"C:\\Program Files (x86)\\Atmel\\Studio\\7.0\\toolchain\\arm\\arm-gnu-toolchain\\bin\\arm-none-eabi-objdump.exe\" -h -S \"No-Security.elf\" > \"No-Security.lss\"\n",
      "\"C:\\Program Files (x86)\\Atmel\\Studio\\7.0\\toolchain\\arm\\arm-gnu-toolchain\\bin\\arm-none-eabi-objcopy.exe\" -O srec -R .eeprom -R .fuse -R .lock -R .signature  \"No-Security.elf\" \"No-Security.srec\"\n",
      "\"C:\\Program Files (x86)\\Atmel\\Studio\\7.0\\toolchain\\arm\\arm-gnu-toolchain\\bin\\arm-none-eabi-size.exe\" \"No-Security.elf\"\n",
      "   text\t   data\t    bss\t    dec\t    hex\tfilename\n",
      "   3136\t    100\t   8276\t  11512\t   2cf8\tNo-Security.elf\n",
      "\n"
     ]
    }
   ],
   "source": [
    "atprogram(project_path, device_name = device_name, verbose=3)"
   ]
  },
  {
   "cell_type": "markdown",
   "metadata": {},
   "source": [
    "## Data Logging"
   ]
  },
  {
   "cell_type": "code",
   "execution_count": 7,
   "metadata": {},
   "outputs": [],
   "source": [
    "live_plot = False"
   ]
  },
  {
   "cell_type": "markdown",
   "metadata": {},
   "source": [
    "Create a figure for the plot."
   ]
  },
  {
   "cell_type": "code",
   "execution_count": 8,
   "metadata": {},
   "outputs": [],
   "source": [
    "if live_plot:\n",
    "    fig = plt.figure(figsize=(10, 6))\n",
    "    fig.show()"
   ]
  },
  {
   "cell_type": "markdown",
   "metadata": {},
   "source": [
    "Create the configuration dictionary for `DGILibExtra`."
   ]
  },
  {
   "cell_type": "code",
   "execution_count": 9,
   "metadata": {},
   "outputs": [],
   "source": [
    "config_dict = {\n",
    "    \"loggers\": [LOGGER_OBJECT, LOGGER_CSV],\n",
    "    \"file_name_base\": \"experiment_no_security_flash\"\n",
    "}\n",
    "config_dict_plot = {\n",
    "    \"loggers\": [LOGGER_OBJECT, LOGGER_PLOT, LOGGER_CSV],\n",
    "    \"plot_pins\": [False, False, True, True],\n",
    "    \"plot_pins_method\": \"line\",\n",
    "    \"plot_xmax\": 5,\n",
    "    \"window_title\": \"Experiment No Security\",\n",
    "}"
   ]
  },
  {
   "cell_type": "markdown",
   "metadata": {},
   "source": [
    "Stop criteria to pass to the logger:"
   ]
  },
  {
   "cell_type": "code",
   "execution_count": 10,
   "metadata": {},
   "outputs": [],
   "source": [
    "def stop_fn(logger_data):\n",
    "    return all(logger_data.gpio.values[-1])"
   ]
  },
  {
   "cell_type": "markdown",
   "metadata": {},
   "source": [
    "Perform the measurement."
   ]
  },
  {
   "cell_type": "code",
   "execution_count": 11,
   "metadata": {},
   "outputs": [],
   "source": [
    "data = []\n",
    "cd = config_dict.copy()\n",
    "if live_plot:\n",
    "    fig.clf()\n",
    "    for ax in fig.get_axes():\n",
    "        ax.cla()\n",
    "    \n",
    "    cd.update(config_dict_plot)\n",
    "    cd[\"fig\"] = fig\n",
    "    \n",
    "with DGILibExtra(**cd) as dgilib:\n",
    "    dgilib.device_reset()\n",
    "    dgilib.logger.log(1000,stop_fn)\n",
    "    data = dgilib.data"
   ]
  },
  {
   "cell_type": "markdown",
   "metadata": {},
   "source": [
    "# Store Data"
   ]
  },
  {
   "cell_type": "code",
   "execution_count": 6,
   "metadata": {},
   "outputs": [],
   "source": [
    "import pickle"
   ]
  },
  {
   "cell_type": "code",
   "execution_count": 7,
   "metadata": {},
   "outputs": [
    {
     "ename": "NameError",
     "evalue": "name 'data' is not defined",
     "output_type": "error",
     "traceback": [
      "\u001b[1;31m---------------------------------------------------------------------------\u001b[0m",
      "\u001b[1;31mNameError\u001b[0m                                 Traceback (most recent call last)",
      "\u001b[1;32m<ipython-input-7-2a556dd37146>\u001b[0m in \u001b[0;36m<module>\u001b[1;34m\u001b[0m\n\u001b[1;32m----> 1\u001b[1;33m \u001b[0mpickle\u001b[0m\u001b[1;33m.\u001b[0m\u001b[0mdump\u001b[0m\u001b[1;33m(\u001b[0m\u001b[0mdata\u001b[0m\u001b[1;33m,\u001b[0m \u001b[0mopen\u001b[0m\u001b[1;33m(\u001b[0m\u001b[1;34m\"no_security_flash_logger_data.p\"\u001b[0m\u001b[1;33m,\u001b[0m \u001b[1;34m\"wb\"\u001b[0m\u001b[1;33m)\u001b[0m\u001b[1;33m)\u001b[0m\u001b[1;33m\u001b[0m\u001b[1;33m\u001b[0m\u001b[0m\n\u001b[0m",
      "\u001b[1;31mNameError\u001b[0m: name 'data' is not defined"
     ]
    }
   ],
   "source": [
    "pickle.dump(data, open(\"no_security_flash_logger_data.p\", \"wb\"))"
   ]
  },
  {
   "cell_type": "markdown",
   "metadata": {},
   "source": [
    "# Load Data"
   ]
  },
  {
   "cell_type": "code",
   "execution_count": 11,
   "metadata": {},
   "outputs": [],
   "source": [
    "data = pickle.load(open(\"no_security_flash_logger_data.p\", \"rb\"))"
   ]
  },
  {
   "cell_type": "code",
   "execution_count": 12,
   "metadata": {},
   "outputs": [],
   "source": [
    "#iteration = 0\n",
    "#name = \"No_Security_Flash\"\n",
    "#data = pickle.load(open(path.join(path.pardir, path.pardir, f\"{name}_{iteration}.p\"), \"rb\"))"
   ]
  },
  {
   "cell_type": "markdown",
   "metadata": {},
   "source": [
    "## Analysis"
   ]
  },
  {
   "cell_type": "markdown",
   "metadata": {},
   "source": [
    "Create Stop Function to stop parsing the data when all pins are high."
   ]
  },
  {
   "cell_type": "code",
   "execution_count": 13,
   "metadata": {},
   "outputs": [],
   "source": [
    "def stop_function(pin_values):\n",
    "    return all(pin_values)"
   ]
  },
  {
   "cell_type": "markdown",
   "metadata": {},
   "source": [
    "Parse the data."
   ]
  },
  {
   "cell_type": "code",
   "execution_count": 14,
   "metadata": {},
   "outputs": [],
   "source": [
    "flash_write_charge, flash_write_time = power_and_time_per_pulse(data, 2, stop_function=stop_function)"
   ]
  },
  {
   "cell_type": "code",
   "execution_count": 15,
   "metadata": {},
   "outputs": [],
   "source": [
    "flash_read_charge, flash_read_time = power_and_time_per_pulse(data, 3, stop_function=stop_function)"
   ]
  },
  {
   "cell_type": "code",
   "execution_count": 16,
   "metadata": {},
   "outputs": [
    {
     "name": "stdout",
     "output_type": "stream",
     "text": [
      "6000 6000 6000 6000\n"
     ]
    }
   ],
   "source": [
    "print(len(flash_write_charge), len(flash_write_time), len(flash_read_charge), len(flash_read_time))"
   ]
  },
  {
   "cell_type": "code",
   "execution_count": 17,
   "metadata": {},
   "outputs": [],
   "source": [
    "drop = 1\n",
    "cutoff = max(len(flash_write_charge), len(flash_write_time), len(flash_read_charge), len(flash_read_time)) - drop\n",
    "flash_write_charge = flash_write_charge[:cutoff]\n",
    "flash_write_time = flash_write_time[:cutoff]\n",
    "flash_read_charge = flash_read_charge[:cutoff]\n",
    "flash_read_time = flash_read_time[:cutoff]"
   ]
  },
  {
   "cell_type": "markdown",
   "metadata": {},
   "source": [
    "# Convert to Joule"
   ]
  },
  {
   "cell_type": "code",
   "execution_count": 18,
   "metadata": {},
   "outputs": [],
   "source": [
    "voltage = 3.31\n",
    "j_scale = 1e3 # m\n",
    "t_scale = 1e3 # m\n",
    "model_j_scale = 1e6 # n\n",
    "model_t_scale = 1e3 # u\n",
    "\n",
    "experiment_name = 'No Security'"
   ]
  },
  {
   "cell_type": "code",
   "execution_count": 19,
   "metadata": {},
   "outputs": [],
   "source": [
    "flash_write_energy = flash_write_charge[:cutoff]\n",
    "flash_read_energy = flash_read_charge[:cutoff]\n",
    "flash_write_time_s = flash_write_time[:cutoff]\n",
    "flash_read_time_s = flash_read_time[:cutoff]\n",
    "\n",
    "for i in range(len(flash_write_energy)):\n",
    "    flash_write_energy[i] = flash_write_energy[i] * voltage * j_scale\n",
    "for i in range(len(flash_read_energy)):\n",
    "    flash_read_energy[i] = flash_read_energy[i] * voltage * j_scale\n",
    "    \n",
    "for i in range(len(flash_write_time_s)):\n",
    "    flash_write_time_s[i] = flash_write_time_s[i] * t_scale\n",
    "for i in range(len(flash_read_time_s)):\n",
    "    flash_read_time_s[i] = flash_read_time_s[i] * t_scale"
   ]
  },
  {
   "cell_type": "code",
   "execution_count": 20,
   "metadata": {},
   "outputs": [
    {
     "name": "stdout",
     "output_type": "stream",
     "text": [
      "MAX_NUM_BYTES: 5999\n"
     ]
    }
   ],
   "source": [
    "MIN_NUM_BYTES = 1\n",
    "num_bytes = range(MIN_NUM_BYTES, MIN_NUM_BYTES + len(flash_write_charge))\n",
    "print(f\"MAX_NUM_BYTES: {num_bytes[-1]}\")"
   ]
  },
  {
   "cell_type": "code",
   "execution_count": null,
   "metadata": {},
   "outputs": [],
   "source": [
    "from lmfit import Model\n",
    "\n",
    "def line(x, slope, intercept):\n",
    "    \"\"\"a line\"\"\"\n",
    "    return [slope*i + intercept for i in x]\n",
    "\n",
    "mod = Model(line)\n",
    "pars = mod.make_params(slope=0, intercept=1)\n",
    "# pars['intercept'].set(min=0)"
   ]
  },
  {
   "cell_type": "code",
   "execution_count": null,
   "metadata": {},
   "outputs": [],
   "source": [
    "results = []\n",
    "ylabels = ['Energy [mJ]'] * 2 + ['Time [ms]'] * 2 + ['Energy [mJ]'] + ['Time [ms]']\n",
    "parameter_names = [\n",
    "    'Flash Write Energy',\n",
    "    'Flash Read Energy',\n",
    "    'Flash Write Time',\n",
    "    'Flash Read Time',\n",
    "    'Total Energy',\n",
    "    'Total Time',\n",
    "]\n",
    "for y in [flash_write_energy, flash_read_energy, flash_write_time_s, flash_read_time_s, \n",
    "          [w + r for (w,r) in zip(flash_write_energy, flash_read_energy)],\n",
    "          [w + r for (w,r) in zip(flash_write_time_s, flash_read_time_s)]]:\n",
    "#     result = mod.fit(y[16:-16], pars, x=num_bytes[16:-16])\n",
    "    result = mod.fit(y, pars, x=num_bytes) \n",
    "    print(result.fit_report())\n",
    "    fig, grid = result.plot(\n",
    "        xlabel='Checkpoint Size [Bytes]',\n",
    "        ylabel=ylabels[len(results)])\n",
    "    fig.tight_layout(rect=(0.05, 0.05, 1, 1))\n",
    "    fig.set_size_inches(5, 4.5, forward=True)\n",
    "    fig.canvas.set_window_title(\n",
    "        f\"Residuals of {experiment_name} {parameter_names[len(results)]}\")\n",
    "    fig.show()\n",
    "    fig.savefig( f\"Residuals_of_{experiment_name}_{parameter_names[len(results)]}\", dpi= 300)\n",
    "    results.append(result)"
   ]
  },
  {
   "cell_type": "code",
   "execution_count": 26,
   "metadata": {},
   "outputs": [],
   "source": [
    "fig2 = plt.figure(figsize=(8, 6))\n",
    "fig2.canvas.set_window_title(f\"Analysis {experiment_name}\")"
   ]
  },
  {
   "cell_type": "code",
   "execution_count": 27,
   "metadata": {},
   "outputs": [],
   "source": [
    "charge_color = 'r'\n",
    "time_color = 'b'"
   ]
  },
  {
   "cell_type": "code",
   "execution_count": 28,
   "metadata": {},
   "outputs": [],
   "source": [
    "fig2.clf()\n",
    "# fig2.suptitle(\"Energy analysis of AES\")\n",
    "ax1 = fig2.add_subplot(1, 1, 1)\n",
    "ax2 = ax1.twinx()\n",
    "ax1.set_xlabel('Checkpoint Size [Bytes]')\n",
    "ax1.set_ylabel('Energy [mJ]', color=charge_color)\n",
    "ax2.set_ylabel('Time [ms]', color=time_color)\n",
    "ax1.tick_params('y', colors=charge_color)\n",
    "ax2.tick_params('y', colors=time_color)"
   ]
  },
  {
   "cell_type": "code",
   "execution_count": 29,
   "metadata": {},
   "outputs": [],
   "source": [
    "lines = []\n",
    "lines += ax1.plot(num_bytes, flash_write_energy, charge_color+'-', label=f'{parameter_names[len(lines)]}')\n",
    "lines += ax1.plot(num_bytes, flash_read_energy, charge_color+'--', label=f'{parameter_names[len(lines)]}')\n",
    "lines += ax2.plot(num_bytes, flash_write_time_s, time_color+'-', label=f'{parameter_names[len(lines)]}')\n",
    "lines += ax2.plot(num_bytes, flash_read_time_s, time_color+'--', label=f'{parameter_names[len(lines)]}')\n",
    "ax1.legend(handles=lines)\n",
    "# [flash_write_charge, flash_read_charge, flash_write_time, flash_read_time]:\n",
    "ax1.set_title(\n",
    "    f\"{parameter_names[0]}: Slope {results[0].params['slope'].value * model_j_scale:.04} nJ/B, Intercept {results[0].params['intercept'].value * model_j_scale:.04} nJ\\n\" +\n",
    "    f\"{parameter_names[1]}: Slope {results[1].params['slope'].value * model_j_scale:.04} nJ/B, Intercept {results[1].params['intercept'].value * model_j_scale:.04} nJ\\n\" +\n",
    "    f\"{parameter_names[2]}: Slope {results[2].params['slope'].value * model_t_scale:.04} $\\mu$s/B, Intercept {results[2].params['intercept'].value * model_t_scale:.04} $\\mu$s\\n\" +\n",
    "    f\"{parameter_names[3]}: Slope {results[3].params['slope'].value * model_t_scale:.04} $\\mu$s/B, Intercept {results[3].params['intercept'].value * model_t_scale:.04} $\\mu$s\\n\" +\n",
    "    f\"{parameter_names[4]}: Slope {results[4].params['slope'].value * model_j_scale:.04} nJ/B, Intercept {results[4].params['intercept'].value * model_j_scale:.04} nJ\\n\" +\n",
    "    f\"{parameter_names[5]}: Slope {results[5].params['slope'].value * model_t_scale:.04} $\\mu$s/B, Intercept {results[5].params['intercept'].value * model_t_scale:.04} $\\mu$s\\n\")\n",
    "fig2.tight_layout()\n",
    "fig2.show()"
   ]
  },
  {
   "cell_type": "code",
   "execution_count": 30,
   "metadata": {},
   "outputs": [
    {
     "name": "stdout",
     "output_type": "stream",
     "text": [
      "Flash Write Energy: Slope 113.20742651867206519 nJ/B, Intercept 13234.290841700247256 nJ\n",
      "Flash Read Energy: Slope 3.2962588636857423907 nJ/B, Intercept -139.02439436996871791 nJ\n",
      "Flash Write Time: Slope 21.366322455697783766 $\\mu$s/B, Intercept 2576.9980190141163803 $\\mu$s\n",
      "Flash Read Time: Slope 2.1272328925805563671 $\\mu$s/B, Intercept 23.666969166746820719 $\\mu$s\n",
      "Total Energy: Slope 116.50368538235757399 nJ/B, Intercept 13095.266449510645543 nJ\n",
      "Total Time: Slope 23.493555348278338357 $\\mu$s/B, Intercept 2600.6649881830371669 $\\mu$s\n",
      "\n"
     ]
    }
   ],
   "source": [
    "print(\n",
    "    f\"{parameter_names[0]}: Slope {results[0].params['slope'].value * model_j_scale:.020} nJ/B, Intercept {results[0].params['intercept'].value * model_j_scale:.020} nJ\\n\" +\n",
    "    f\"{parameter_names[1]}: Slope {results[1].params['slope'].value * model_j_scale:.020} nJ/B, Intercept {results[1].params['intercept'].value * model_j_scale:.020} nJ\\n\" +\n",
    "    f\"{parameter_names[2]}: Slope {results[2].params['slope'].value * model_t_scale:.020} $\\mu$s/B, Intercept {results[2].params['intercept'].value * model_t_scale:.020} $\\mu$s\\n\" +\n",
    "    f\"{parameter_names[3]}: Slope {results[3].params['slope'].value * model_t_scale:.020} $\\mu$s/B, Intercept {results[3].params['intercept'].value * model_t_scale:.020} $\\mu$s\\n\" +\n",
    "    f\"{parameter_names[4]}: Slope {results[4].params['slope'].value * model_j_scale:.020} nJ/B, Intercept {results[4].params['intercept'].value * model_j_scale:.020} nJ\\n\" +\n",
    "    f\"{parameter_names[5]}: Slope {results[5].params['slope'].value * model_t_scale:.020} $\\mu$s/B, Intercept {results[5].params['intercept'].value * model_t_scale:.020} $\\mu$s\\n\"\n",
    ")"
   ]
  },
  {
   "cell_type": "code",
   "execution_count": 31,
   "metadata": {},
   "outputs": [],
   "source": [
    "# Save Charge amount list into pickle file\n",
    "import pickle\n",
    "pickle.dump(flash_write_energy, open(\"no_security_flash_write_energy_mJ.p\", \"wb\"))\n",
    "pickle.dump(flash_read_energy, open(\"no_security_flash_read_energy_mJ.p\", \"wb\"))\n",
    "pickle.dump(flash_write_time_s, open(\"no_security_flash_write_time_ms.p\", \"wb\"))\n",
    "pickle.dump(flash_read_time_s, open(\"no_security_flash_read_time_ms.p\", \"wb\"))"
   ]
  },
  {
   "cell_type": "markdown",
   "metadata": {},
   "source": [
    "## Write config file"
   ]
  },
  {
   "cell_type": "code",
   "execution_count": 32,
   "metadata": {},
   "outputs": [],
   "source": [
    "import json\n",
    "\n",
    "config = {}\n",
    "config[\"name\"] = \"No Security Flash\"\n",
    "config[\"project_paths\"] = [project_path]\n",
    "config[\"config_dict\"] = config_dict\n",
    "config[\"config_dict_plot\"] = config_dict_plot\n",
    "config[\"analysis\"] = {\"pins\":{2: [\"No Security Flash Write\"], 3: [\"No Security Flash Read\"]}, \n",
    "                      \"result_types\": [\"Charge\", \"Time\"],\n",
    "                      \"section_types\": {\"init\": [], \n",
    "                                        \"store\": [\"No Security Flash Write\"],\n",
    "                                        \"load\": [\"No Security Flash Read\"],\n",
    "                                        \"exit\": []},\n",
    "                      \"labels\": {\n",
    "                          \"Charge\": {\"x\":\"Data Size\", \"x_unit\": \"byte\", \"y\": \"Charge\", \"y_unit\": \"C\"},\n",
    "                          \"Time\": {\"x\":\"Data Size\", \"x_unit\": \"byte\", \"y\": \"Time\", \"y_unit\": \"s\"},\n",
    "                      },\n",
    "                      \"x_step\": 1}\n",
    "\n",
    "with open(\"looped_experiment.json\", 'w') as config_file:  \n",
    "    json.dump(config, config_file, indent=4)"
   ]
  },
  {
   "cell_type": "markdown",
   "metadata": {},
   "source": [
    "# Write model data"
   ]
  },
  {
   "cell_type": "code",
   "execution_count": 33,
   "metadata": {},
   "outputs": [],
   "source": [
    "dump_pickle = True\n",
    "fit_lm = True\n",
    "verbose = 2\n",
    "show_lm_plot = 2"
   ]
  },
  {
   "cell_type": "code",
   "execution_count": 34,
   "metadata": {},
   "outputs": [],
   "source": [
    "# Parse data\n",
    "analysis_config = config.get(\"analysis\")\n",
    "result_types = analysis_config.get(\"result_types\")\n",
    "x_step = analysis_config.get(\"x_step\")\n",
    "parsed_data = {}\n",
    "for pin, parameter_names in analysis_config.get(\"pins\").items():\n",
    "    data2 = power_and_time_per_pulse(\n",
    "        data, int(pin), stop_function=stop_function)\n",
    "    num_names = len(parameter_names)\n",
    "    for i, parameter_name in enumerate(parameter_names):\n",
    "        end_index = -drop * num_names or None\n",
    "        parsed_data[parameter_name] = {\n",
    "            result_types[0]: data2[0][i:end_index:num_names],\n",
    "            result_types[1]: data2[1][i:end_index:num_names],\n",
    "            \"x_step\": x_step}\n",
    "if dump_pickle:\n",
    "    pickle.dump(parsed_data, open(\n",
    "        path.join(path.curdir,\n",
    "                  f\"{config_dict.get('file_name_base')}_looped.p\"), \"wb\"))"
   ]
  },
  {
   "cell_type": "code",
   "execution_count": 35,
   "metadata": {},
   "outputs": [
    {
     "name": "stdout",
     "output_type": "stream",
     "text": [
      "Fitting model to No Security Flash Write with 5999 samples, from 1 to 5999 bytes in steps of 1.\n",
      "[[Model]]\n",
      "    Model(line)\n",
      "[[Fit Statistics]]\n",
      "    # fitting method   = leastsq\n",
      "    # function evals   = 9\n",
      "    # data points      = 5999\n",
      "    # variables        = 2\n",
      "    chi-square         = 2.7133e-08\n",
      "    reduced chi-square = 4.5245e-12\n",
      "    Akaike info crit   = -156701.013\n",
      "    Bayesian info crit = -156687.614\n",
      "[[Variables]]\n",
      "    intercept:  3.9983e-06 +/- 5.4932e-08 (1.37%) (init = 0)\n",
      "    slope:      3.4202e-08 +/- 1.5858e-11 (0.05%) (init = 1)\n",
      "[[Correlations]] (unreported correlations are < 0.100)\n",
      "    C(intercept, slope) = -0.866\n",
      "[[Model]]\n",
      "    Model(line)\n",
      "[[Fit Statistics]]\n",
      "    # fitting method   = leastsq\n",
      "    # function evals   = 7\n",
      "    # data points      = 5999\n",
      "    # variables        = 2\n",
      "    chi-square         = 0.00669163\n",
      "    reduced chi-square = 1.1158e-06\n",
      "    Akaike info crit   = -82219.7718\n",
      "    Bayesian info crit = -82206.3731\n",
      "[[Variables]]\n",
      "    intercept:  0.00257700 +/- 2.7280e-05 (1.06%) (init = 0)\n",
      "    slope:      2.1366e-05 +/- 7.8754e-09 (0.04%) (init = 1)\n",
      "[[Correlations]] (unreported correlations are < 0.100)\n",
      "    C(intercept, slope) = -0.866\n",
      "Fitting model to No Security Flash Read with 5999 samples, from 1 to 5999 bytes in steps of 1.\n",
      "[[Model]]\n",
      "    Model(line)\n",
      "[[Fit Statistics]]\n",
      "    # fitting method   = leastsq\n",
      "    # function evals   = 9\n",
      "    # data points      = 5999\n",
      "    # variables        = 2\n",
      "    chi-square         = 1.7666e-12\n",
      "    reduced chi-square = 2.9458e-16\n",
      "    Akaike info crit   = -214528.196\n",
      "    Bayesian info crit = -214514.797\n",
      "[[Variables]]\n",
      "    intercept: -4.2001e-08 +/- 4.4325e-10 (1.06%) (init = 0)\n",
      "    slope:      9.9585e-10 +/- 1.2796e-13 (0.01%) (init = 1)\n",
      "[[Correlations]] (unreported correlations are < 0.100)\n",
      "    C(intercept, slope) = -0.866\n",
      "[[Model]]\n",
      "    Model(line)\n",
      "[[Fit Statistics]]\n",
      "    # fitting method   = leastsq\n",
      "    # function evals   = 7\n",
      "    # data points      = 5999\n",
      "    # variables        = 2\n",
      "    chi-square         = 4.3931e-06\n",
      "    reduced chi-square = 7.3254e-10\n",
      "    Akaike info crit   = -126183.973\n",
      "    Bayesian info crit = -126170.575\n",
      "[[Variables]]\n",
      "    intercept:  2.3667e-05 +/- 6.9897e-07 (2.95%) (init = 0)\n",
      "    slope:      2.1272e-06 +/- 2.0178e-10 (0.01%) (init = 1)\n",
      "[[Correlations]] (unreported correlations are < 0.100)\n",
      "    C(intercept, slope) = -0.866\n"
     ]
    }
   ],
   "source": [
    "# Fit lm\n",
    "if fit_lm:\n",
    "    model = None\n",
    "    if model is None:\n",
    "        def line(x, intercept, slope):\n",
    "            \"\"\"a line\"\"\"\n",
    "            return [intercept + slope*i for i in x]\n",
    "\n",
    "        model = Model(line)\n",
    "        params = model.make_params(intercept=0, slope=1)\n",
    "#         params['intercept'].set(min=0)\n",
    "    else:\n",
    "        params = model.params\n",
    "\n",
    "    model_results = {}\n",
    "    labels = analysis_config.get(\"labels\")\n",
    "    for parameter_name in parsed_data.keys():\n",
    "        length = len(parsed_data[parameter_name][result_types[0]])\n",
    "        x_step = parsed_data[parameter_name][\"x_step\"]\n",
    "        num_bytes = range(x_step, (length+1)*x_step, x_step)\n",
    "        if verbose:\n",
    "            print(\n",
    "                f\"Fitting model to {parameter_name} with {length} \" +\n",
    "                f\"samples, from {min(num_bytes)} to {max(num_bytes)} \"\n",
    "                f\"bytes in steps of {x_step}.\")\n",
    "        model_result = {}\n",
    "        for result_type in result_types:\n",
    "            model_result[result_type] = model.fit(\n",
    "                parsed_data[parameter_name][result_type], params,\n",
    "                x=num_bytes)\n",
    "            if verbose >= 2:\n",
    "                print(model_result[result_type].fit_report())\n",
    "            # Plot multiple view\n",
    "            if show_lm_plot >= 2:\n",
    "                fig, grid = model_result[result_type].plot(\n",
    "                    xlabel=f\"{labels[result_type]['x']} \" +\n",
    "                           f\"[{labels[result_type]['x_unit']}]\",\n",
    "                    ylabel=f\"{labels[result_type]['y']} \" +\n",
    "                           f\"[{labels[result_type]['y_unit']}]\")\n",
    "                fig.canvas.set_window_title(\n",
    "                    f\"Residuals of {parameter_name}\")\n",
    "                fig.tight_layout()\n",
    "                fig.show()\n",
    "            model_results[parameter_name] = model_result\n",
    "\n",
    "    # Plot single view\n",
    "    if show_lm_plot:\n",
    "        import matplotlib.pyplot as plt\n",
    "        fig = plt.figure(figsize=(9, 6))\n",
    "        fig.canvas.set_window_title(f\"Analysis {config.get('name')}\")\n",
    "        colors = dict(zip(result_types, ['r', 'b']))\n",
    "        line_styles = (\n",
    "            line_style for line_style in ('-', '--', '-.', ':') * 2)\n",
    "        # fig.suptitle(f\"Energy analysis of {config.get('name')}\")\n",
    "        ax = {}\n",
    "        ax[result_types[0]] = fig.add_subplot(1, 1, 1)\n",
    "        ax[result_types[1]] = ax[result_types[0]].twinx()\n",
    "        ax[result_types[0]].set_xlabel(\n",
    "            f\"{labels[result_types[0]]['x']} \" +\n",
    "            f\"[{labels[result_types[0]]['x_unit']}]\")\n",
    "        for result_type in result_types:\n",
    "            ax[result_type].set_ylabel(\n",
    "                f\"{labels[result_type]['y']} \" +\n",
    "                f\"[{labels[result_type]['y_unit']}]\",\n",
    "                color=colors[result_type])\n",
    "            ax[result_type].tick_params('y', colors=colors[result_type])\n",
    "\n",
    "        lines = []\n",
    "        title_str = \"\"\n",
    "        for parameter_name in parsed_data.keys():\n",
    "            length = len(parsed_data[parameter_name][result_types[0]])\n",
    "            x_step = parsed_data[parameter_name][\"x_step\"]\n",
    "            num_bytes = range(x_step, (length+1)*x_step, x_step)\n",
    "            model_result = {}\n",
    "            line_style = next(line_styles)\n",
    "            for result_type in result_types:\n",
    "                label = f\"{parameter_name} {labels[result_type]['y']}\"\n",
    "                lines += ax[result_type].plot(\n",
    "                    num_bytes, parsed_data[parameter_name][result_type],\n",
    "                    colors[result_type] + line_style, label=label)\n",
    "                title_str += f\"{label} \"\n",
    "                for param in params.keys():\n",
    "                    title_str += \"\".join(\n",
    "                        f\"{params[param].name.capitalize()}: \")\n",
    "                    title_str += \"\".join(\n",
    "                        f\"{model_results[parameter_name][result_type].params[param].value: .03} \")\n",
    "                    title_str += \"\".join(\n",
    "                        f\"{labels[result_type]['y_unit']}, \")\n",
    "                title_str = title_str[:-2] + \\\n",
    "                    f\" per {labels[result_type]['x_unit']}\\n\"\n",
    "        ax[result_types[0]].legend(handles=lines)\n",
    "        ax[result_types[0]].set_title(title_str[:-1])\n",
    "        # fig.tight_layout()\n",
    "        fig.tight_layout(rect=(0.05, 0.05, 1, 1))\n",
    "        fig.set_size_inches(8, 6, forward=True)\n",
    "        fig.show()\n",
    "\n",
    "    # Save model results to file\n",
    "    if dump_pickle:\n",
    "        model_results_dump = {}\n",
    "        for parameter_name in model_results.keys():\n",
    "            model_results_dump[parameter_name] = {}\n",
    "            for result_type in model_results[parameter_name].keys():\n",
    "                model_results_dump[parameter_name][result_type] = \\\n",
    "                    model_results[parameter_name][result_type].values\n",
    "\n",
    "        pickle.dump(model_results_dump, open(path.join(\n",
    "            path.curdir,\n",
    "            f\"{config_dict.get('file_name_base')}_model.p\"), \"wb\"))"
   ]
  },
  {
   "cell_type": "markdown",
   "metadata": {},
   "source": [
    "# Total from measurement"
   ]
  },
  {
   "cell_type": "code",
   "execution_count": 36,
   "metadata": {},
   "outputs": [
    {
     "ename": "NameError",
     "evalue": "name 'total_energy' is not defined",
     "output_type": "error",
     "traceback": [
      "\u001b[1;31m---------------------------------------------------------------------------\u001b[0m",
      "\u001b[1;31mNameError\u001b[0m                                 Traceback (most recent call last)",
      "\u001b[1;32m<ipython-input-36-4b5c66ec2826>\u001b[0m in \u001b[0;36m<module>\u001b[1;34m\u001b[0m\n\u001b[0;32m      6\u001b[0m \u001b[0mavg_energy\u001b[0m \u001b[1;33m=\u001b[0m \u001b[0msum\u001b[0m\u001b[1;33m(\u001b[0m\u001b[0mflash_write_energy\u001b[0m\u001b[1;33m[\u001b[0m\u001b[1;33m:\u001b[0m\u001b[0mn_samples\u001b[0m\u001b[1;33m]\u001b[0m\u001b[1;33m)\u001b[0m \u001b[1;33m+\u001b[0m \u001b[0msum\u001b[0m\u001b[1;33m(\u001b[0m\u001b[0mflash_read_energy\u001b[0m\u001b[1;33m[\u001b[0m\u001b[1;33m:\u001b[0m\u001b[0mn_samples\u001b[0m\u001b[1;33m]\u001b[0m\u001b[1;33m)\u001b[0m\u001b[1;33m\u001b[0m\u001b[1;33m\u001b[0m\u001b[0m\n\u001b[0;32m      7\u001b[0m \u001b[0mavg_time\u001b[0m \u001b[1;33m=\u001b[0m \u001b[0msum\u001b[0m\u001b[1;33m(\u001b[0m\u001b[0mflash_write_time_s\u001b[0m\u001b[1;33m[\u001b[0m\u001b[1;33m:\u001b[0m\u001b[0mn_samples\u001b[0m\u001b[1;33m]\u001b[0m\u001b[1;33m)\u001b[0m \u001b[1;33m+\u001b[0m \u001b[0msum\u001b[0m\u001b[1;33m(\u001b[0m\u001b[0mflash_read_time_s\u001b[0m\u001b[1;33m[\u001b[0m\u001b[1;33m:\u001b[0m\u001b[0mn_samples\u001b[0m\u001b[1;33m]\u001b[0m\u001b[1;33m)\u001b[0m\u001b[1;33m\u001b[0m\u001b[1;33m\u001b[0m\u001b[0m\n\u001b[1;32m----> 8\u001b[1;33m \u001b[0mprint\u001b[0m\u001b[1;33m(\u001b[0m\u001b[0mtotal_energy\u001b[0m\u001b[1;33m,\u001b[0m \u001b[0mtotal_time\u001b[0m\u001b[1;33m)\u001b[0m\u001b[1;33m\u001b[0m\u001b[1;33m\u001b[0m\u001b[0m\n\u001b[0m",
      "\u001b[1;31mNameError\u001b[0m: name 'total_energy' is not defined"
     ]
    }
   ],
   "source": [
    "n_samples = 5995\n",
    "\n",
    "def avg(l):\n",
    "    return sum(l)/len(l)\n",
    "\n",
    "avg_energy = sum(flash_write_energy[:n_samples]) + sum(flash_read_energy[:n_samples])\n",
    "avg_time = sum(flash_write_time_s[:n_samples]) + sum(flash_read_time_s[:n_samples])\n",
    "print(total_energy, total_time)"
   ]
  },
  {
   "cell_type": "code",
   "execution_count": null,
   "metadata": {},
   "outputs": [],
   "source": []
  },
  {
   "cell_type": "code",
   "execution_count": null,
   "metadata": {},
   "outputs": [],
   "source": []
  },
  {
   "cell_type": "code",
   "execution_count": null,
   "metadata": {},
   "outputs": [],
   "source": []
  },
  {
   "cell_type": "code",
   "execution_count": null,
   "metadata": {},
   "outputs": [],
   "source": []
  },
  {
   "cell_type": "code",
   "execution_count": null,
   "metadata": {},
   "outputs": [],
   "source": []
  }
 ],
 "metadata": {
  "kernelspec": {
   "display_name": "Python 3",
   "language": "python",
   "name": "python3"
  },
  "language_info": {
   "codemirror_mode": {
    "name": "ipython",
    "version": 3
   },
   "file_extension": ".py",
   "mimetype": "text/x-python",
   "name": "python",
   "nbconvert_exporter": "python",
   "pygments_lexer": "ipython3",
   "version": "3.8.1"
  }
 },
 "nbformat": 4,
 "nbformat_minor": 4
}

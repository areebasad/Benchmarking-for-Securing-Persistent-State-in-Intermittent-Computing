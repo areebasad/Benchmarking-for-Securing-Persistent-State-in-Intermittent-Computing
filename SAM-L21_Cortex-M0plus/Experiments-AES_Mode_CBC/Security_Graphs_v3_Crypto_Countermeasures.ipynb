{
 "cells": [
  {
   "cell_type": "code",
   "execution_count": 118,
   "metadata": {},
   "outputs": [],
   "source": [
    "# %matplotlib ipympl\n",
    "# %matplotlib inline\n",
    "%matplotlib wx"
   ]
  },
  {
   "cell_type": "code",
   "execution_count": 119,
   "metadata": {},
   "outputs": [],
   "source": [
    "import matplotlib.pyplot as plt\n",
    "import numpy as np\n",
    "import pickle\n",
    "from os import path"
   ]
  },
  {
   "cell_type": "code",
   "execution_count": 120,
   "metadata": {},
   "outputs": [],
   "source": [
    "security_projects=['AES-128_Crypto_Flash','AES-128_Crypto_Flash_Countermeasures', \n",
    "                   'AES-256_Crypto_Flash','AES-256_Crypto_Flash_Countermeasures', \n",
    "                   'No_Security_Flash']"
   ]
  },
  {
   "cell_type": "code",
   "execution_count": 121,
   "metadata": {},
   "outputs": [
    {
     "name": "stdout",
     "output_type": "stream",
     "text": [
      "1 16\n",
      "26 416\n"
     ]
    }
   ],
   "source": [
    "crypto128_path = [\".\", \"AES-128_Crypto-Accelerator\"]\n",
    "\n",
    "crypto128_encrypt_energy_mJ = pickle.load(open(path.join(*crypto128_path, \"aes_flash_encrypt_energy_mJ.p\"), \"rb\"))\n",
    "crypto128_decrypt_energy_mJ = pickle.load(open(path.join(*crypto128_path, \"aes_flash_decrypt_energy_mJ.p\"), \"rb\"))\n",
    "crypto128_flash_write_energy_mJ = pickle.load(open(path.join(*crypto128_path, \"aes_flash_write_energy_mJ.p\"), \"rb\"))\n",
    "crypto128_flash_read_energy_mJ = pickle.load(open(path.join(*crypto128_path, \"aes_flash_read_energy_mJ.p\"), \"rb\"))\n",
    "crypto128_encrypt_time_ms = pickle.load(open(path.join(*crypto128_path, \"aes_flash_encrypt_time_ms.p\"), \"rb\"))\n",
    "crypto128_decrypt_time_ms = pickle.load(open(path.join(*crypto128_path, \"aes_flash_decrypt_time_ms.p\"), \"rb\"))\n",
    "crypto128_flash_write_time_ms = pickle.load(open(path.join(*crypto128_path, \"aes_flash_write_time_ms.p\"), \"rb\"))\n",
    "crypto128_flash_read_time_ms = pickle.load(open(path.join(*crypto128_path, \"aes_flash_read_time_ms.p\"), \"rb\"))\n",
    "crypto128 = [\n",
    "    crypto128_encrypt_energy_mJ,\n",
    "    crypto128_decrypt_energy_mJ,\n",
    "    crypto128_flash_write_energy_mJ,\n",
    "    crypto128_flash_read_energy_mJ,\n",
    "    crypto128_encrypt_time_ms,\n",
    "    crypto128_decrypt_time_ms,\n",
    "    crypto128_flash_write_time_ms,\n",
    "    crypto128_flash_read_time_ms,\n",
    "]\n",
    "for i in crypto128_path:\n",
    "    print(len(i), len(i)*16)"
   ]
  },
  {
   "cell_type": "code",
   "execution_count": 122,
   "metadata": {},
   "outputs": [
    {
     "name": "stdout",
     "output_type": "stream",
     "text": [
      "1 16\n",
      "26 416\n"
     ]
    }
   ],
   "source": [
    "crypto256_path = [\".\", \"AES-256_Crypto-Accelerator\"]\n",
    "\n",
    "crypto256_encrypt_energy_mJ = pickle.load(open(path.join(*crypto256_path, \"aes_flash_encrypt_energy_mJ.p\"), \"rb\"))\n",
    "crypto256_decrypt_energy_mJ = pickle.load(open(path.join(*crypto256_path, \"aes_flash_decrypt_energy_mJ.p\"), \"rb\"))\n",
    "crypto256_flash_write_energy_mJ = pickle.load(open(path.join(*crypto256_path, \"aes_flash_write_energy_mJ.p\"), \"rb\"))\n",
    "crypto256_flash_read_energy_mJ = pickle.load(open(path.join(*crypto256_path, \"aes_flash_read_energy_mJ.p\"), \"rb\"))\n",
    "crypto256_encrypt_time_ms = pickle.load(open(path.join(*crypto256_path, \"aes_flash_encrypt_time_ms.p\"), \"rb\"))\n",
    "crypto256_decrypt_time_ms = pickle.load(open(path.join(*crypto256_path, \"aes_flash_decrypt_time_ms.p\"), \"rb\"))\n",
    "crypto256_flash_write_time_ms = pickle.load(open(path.join(*crypto256_path, \"aes_flash_write_time_ms.p\"), \"rb\"))\n",
    "crypto256_flash_read_time_ms = pickle.load(open(path.join(*crypto256_path, \"aes_flash_read_time_ms.p\"), \"rb\"))\n",
    "crypto256 = [\n",
    "    crypto256_encrypt_energy_mJ,\n",
    "    crypto256_decrypt_energy_mJ,\n",
    "    crypto256_flash_write_energy_mJ,\n",
    "    crypto256_flash_read_energy_mJ,\n",
    "    crypto256_encrypt_time_ms,\n",
    "    crypto256_decrypt_time_ms,\n",
    "    crypto256_flash_write_time_ms,\n",
    "    crypto256_flash_read_time_ms,\n",
    "]\n",
    "for i in crypto256_path:\n",
    "    print(len(i), len(i)*16)"
   ]
  },
  {
   "cell_type": "code",
   "execution_count": 123,
   "metadata": {},
   "outputs": [
    {
     "name": "stdout",
     "output_type": "stream",
     "text": [
      "1 16\n",
      "42 672\n"
     ]
    }
   ],
   "source": [
    "crypto128Cm_path = [\".\", \"AES-128_Crypto-Accelerator_Countermeasures\"]\n",
    "\n",
    "crypto128Cm_encrypt_energy_mJ = pickle.load(open(path.join(*crypto128Cm_path, \"aes_flash_encrypt_energy_mJ.p\"), \"rb\"))\n",
    "crypto128Cm_decrypt_energy_mJ = pickle.load(open(path.join(*crypto128Cm_path, \"aes_flash_decrypt_energy_mJ.p\"), \"rb\"))\n",
    "crypto128Cm_flash_write_energy_mJ = pickle.load(open(path.join(*crypto128Cm_path, \"aes_flash_write_energy_mJ.p\"), \"rb\"))\n",
    "crypto128Cm_flash_read_energy_mJ = pickle.load(open(path.join(*crypto128Cm_path, \"aes_flash_read_energy_mJ.p\"), \"rb\"))\n",
    "crypto128Cm_encrypt_time_ms = pickle.load(open(path.join(*crypto128Cm_path, \"aes_flash_encrypt_time_ms.p\"), \"rb\"))\n",
    "crypto128Cm_decrypt_time_ms = pickle.load(open(path.join(*crypto128Cm_path, \"aes_flash_decrypt_time_ms.p\"), \"rb\"))\n",
    "crypto128Cm_flash_write_time_ms = pickle.load(open(path.join(*crypto128Cm_path, \"aes_flash_write_time_ms.p\"), \"rb\"))\n",
    "crypto128Cm_flash_read_time_ms = pickle.load(open(path.join(*crypto128Cm_path, \"aes_flash_read_time_ms.p\"), \"rb\"))\n",
    "crypto128Cm = [\n",
    "    crypto128Cm_encrypt_energy_mJ,\n",
    "    crypto128Cm_decrypt_energy_mJ,\n",
    "    crypto128Cm_flash_write_energy_mJ,\n",
    "    crypto128Cm_flash_read_energy_mJ,\n",
    "    crypto128Cm_encrypt_time_ms,\n",
    "    crypto128Cm_decrypt_time_ms,\n",
    "    crypto128Cm_flash_write_time_ms,\n",
    "    crypto128Cm_flash_read_time_ms,\n",
    "]\n",
    "for i in crypto128Cm_path:\n",
    "    print(len(i), len(i)*16)"
   ]
  },
  {
   "cell_type": "code",
   "execution_count": 124,
   "metadata": {},
   "outputs": [
    {
     "name": "stdout",
     "output_type": "stream",
     "text": [
      "1 16\n",
      "42 672\n"
     ]
    }
   ],
   "source": [
    "crypto256Cm_path = [\".\", \"AES-256_Crypto-Accelerator_Countermeasures\"]\n",
    "\n",
    "crypto256Cm_encrypt_energy_mJ = pickle.load(open(path.join(*crypto256Cm_path, \"aes_flash_encrypt_energy_mJ.p\"), \"rb\"))\n",
    "crypto256Cm_decrypt_energy_mJ = pickle.load(open(path.join(*crypto256Cm_path, \"aes_flash_decrypt_energy_mJ.p\"), \"rb\"))\n",
    "crypto256Cm_flash_write_energy_mJ = pickle.load(open(path.join(*crypto256Cm_path, \"aes_flash_write_energy_mJ.p\"), \"rb\"))\n",
    "crypto256Cm_flash_read_energy_mJ = pickle.load(open(path.join(*crypto256Cm_path, \"aes_flash_read_energy_mJ.p\"), \"rb\"))\n",
    "crypto256Cm_encrypt_time_ms = pickle.load(open(path.join(*crypto256Cm_path, \"aes_flash_encrypt_time_ms.p\"), \"rb\"))\n",
    "crypto256Cm_decrypt_time_ms = pickle.load(open(path.join(*crypto256Cm_path, \"aes_flash_decrypt_time_ms.p\"), \"rb\"))\n",
    "crypto256Cm_flash_write_time_ms = pickle.load(open(path.join(*crypto256Cm_path, \"aes_flash_write_time_ms.p\"), \"rb\"))\n",
    "crypto256Cm_flash_read_time_ms = pickle.load(open(path.join(*crypto256Cm_path, \"aes_flash_read_time_ms.p\"), \"rb\"))\n",
    "crypto256Cm = [\n",
    "    crypto256Cm_encrypt_energy_mJ,\n",
    "    crypto256Cm_decrypt_energy_mJ,\n",
    "    crypto256Cm_flash_write_energy_mJ,\n",
    "    crypto256Cm_flash_read_energy_mJ,\n",
    "    crypto256Cm_encrypt_time_ms,\n",
    "    crypto256Cm_decrypt_time_ms,\n",
    "    crypto256Cm_flash_write_time_ms,\n",
    "    crypto256Cm_flash_read_time_ms,\n",
    "]\n",
    "for i in crypto256Cm_path:\n",
    "    print(len(i), len(i)*16)"
   ]
  },
  {
   "cell_type": "raw",
   "metadata": {},
   "source": [
    "no_security_path = [\"Security\", \"No_Security_Flash\"]\n",
    "\n",
    "flash_write_energy_mJ = pickle.load(open(path.join(*no_security_path, \"no_security_flash_write_energy_mJ.p\"), \"rb\"))\n",
    "flash_read_energy_mJ = pickle.load(open(path.join(*no_security_path, \"no_security_flash_read_energy_mJ.p\"), \"rb\"))\n",
    "flash_write_time_ms = pickle.load(open(path.join(*no_security_path, \"no_security_flash_write_time_ms.p\"), \"rb\"))\n",
    "flash_read_time_ms = pickle.load(open(path.join(*no_security_path, \"no_security_flash_read_time_ms.p\"), \"rb\"))\n",
    "no_security = [flash_write_energy_mJ, flash_read_energy_mJ, flash_write_time_ms, flash_read_time_ms]\n",
    "for i in no_security:\n",
    "    print(len(i))"
   ]
  },
  {
   "cell_type": "code",
   "execution_count": 125,
   "metadata": {},
   "outputs": [],
   "source": [
    "min_num = 6000-1"
   ]
  },
  {
   "cell_type": "code",
   "execution_count": 126,
   "metadata": {},
   "outputs": [],
   "source": [
    "j_scale = 1e6\n",
    "m_to_u = 1e3\n",
    "voltage = 3.31"
   ]
  },
  {
   "cell_type": "code",
   "execution_count": 142,
   "metadata": {},
   "outputs": [
    {
     "name": "stdout",
     "output_type": "stream",
     "text": [
      "564.2118112293246\n",
      "472.97707694965004\n",
      "38.85565211005113\n"
     ]
    }
   ],
   "source": [
    "AES_BLOCK_SIZE = 16\n",
    "STEP_SIZE = AES_BLOCK_SIZE\n",
    "MIN_NUM_BYTES = STEP_SIZE\n",
    "crypto128_chkp = []\n",
    "crypto128_rest = []\n",
    "crypto128_chkp_time = []\n",
    "crypto128_rest_time = []\n",
    "crypto128_x = []\n",
    "for i in range(0, min_num//STEP_SIZE):\n",
    "    crypto128_x.append(MIN_NUM_BYTES + i*STEP_SIZE)\n",
    "    crypto128_chkp.append((crypto128_encrypt_energy_mJ[i] + crypto128_flash_write_energy_mJ[i])  * m_to_u)\n",
    "    crypto128_rest.append((crypto128_decrypt_energy_mJ[i] + crypto128_flash_read_energy_mJ[i]) * m_to_u)\n",
    "    crypto128_chkp_time.append((crypto128_encrypt_time_ms[i] + crypto128_flash_write_time_ms[i]))\n",
    "    crypto128_rest_time.append((crypto128_decrypt_time_ms[i] + crypto128_flash_read_time_ms[i]))\n",
    "p =255\n",
    "print(crypto128_chkp[p] + crypto128_rest[p])\n",
    "print(crypto128_flash_write_energy_mJ[p]  * m_to_u)\n",
    "print(crypto128_encrypt_energy_mJ[p]* m_to_u)    "
   ]
  },
  {
   "cell_type": "code",
   "execution_count": 137,
   "metadata": {},
   "outputs": [
    {
     "data": {
      "text/plain": [
       "576.0045184416414"
      ]
     },
     "execution_count": 137,
     "metadata": {},
     "output_type": "execute_result"
    }
   ],
   "source": [
    "AES_BLOCK_SIZE = 16\n",
    "STEP_SIZE = AES_BLOCK_SIZE\n",
    "MIN_NUM_BYTES = STEP_SIZE\n",
    "crypto256_chkp = []\n",
    "crypto256_rest = []\n",
    "crypto256_chkp_time = []\n",
    "crypto256_rest_time = []\n",
    "crypto256_x = []\n",
    "for i in range(0, min_num//STEP_SIZE):\n",
    "    crypto256_x.append(MIN_NUM_BYTES + i*STEP_SIZE)\n",
    "    crypto256_chkp.append((crypto256_encrypt_energy_mJ[i] + crypto256_flash_write_energy_mJ[i])  * m_to_u)\n",
    "    crypto256_rest.append((crypto256_decrypt_energy_mJ[i] + crypto256_flash_read_energy_mJ[i]) * m_to_u)\n",
    "    crypto256_chkp_time.append((crypto256_encrypt_time_ms[i] + crypto256_flash_write_time_ms[i]))\n",
    "    crypto256_rest_time.append((crypto256_decrypt_time_ms[i] + crypto256_flash_read_time_ms[i]))\n",
    "crypto256_chkp[255] + crypto256_rest[255]   \n",
    "#crypto256_flash_write_energy_mJ[259]  * m_to_u\n",
    "#crypto256_encrypt_energy_mJ[255]* m_to_u\n",
    "#(crypto256_chkp[255])"
   ]
  },
  {
   "cell_type": "code",
   "execution_count": null,
   "metadata": {},
   "outputs": [],
   "source": [
    "AES_BLOCK_SIZE = 16\n",
    "STEP_SIZE = AES_BLOCK_SIZE\n",
    "MIN_NUM_BYTES = STEP_SIZE\n",
    "crypto128Cm_chkp = []\n",
    "crypto128Cm_rest = []\n",
    "crypto128Cm_chkp_time = []\n",
    "crypto128Cm_rest_time = []\n",
    "crypto128Cm_x = []\n",
    "for i in range(0, min_num//STEP_SIZE):\n",
    "    crypto128Cm_x.append(MIN_NUM_BYTES + i*STEP_SIZE)\n",
    "    crypto128Cm_chkp.append((crypto128Cm_encrypt_energy_mJ[i] + crypto128Cm_flash_write_energy_mJ[i])  * m_to_u)\n",
    "    crypto128Cm_rest.append((crypto128Cm_decrypt_energy_mJ[i] + crypto128Cm_flash_read_energy_mJ[i]) * m_to_u)\n",
    "    crypto128Cm_chkp_time.append((crypto128Cm_encrypt_time_ms[i] + crypto128Cm_flash_write_time_ms[i]))\n",
    "    crypto128Cm_rest_time.append((crypto128Cm_decrypt_time_ms[i] + crypto128Cm_flash_read_time_ms[i]))\n",
    "crypto128Cm_chkp[350]   \n",
    "crypto128Cm_flash_write_energy_mJ[350]* m_to_u\n",
    "#crypto128Cm_encrypt_energy_mJ[350] * m_to_u    "
   ]
  },
  {
   "cell_type": "code",
   "execution_count": 128,
   "metadata": {},
   "outputs": [
    {
     "data": {
      "text/plain": [
       "0.050390766195374595"
      ]
     },
     "execution_count": 128,
     "metadata": {},
     "output_type": "execute_result"
    }
   ],
   "source": [
    "AES_BLOCK_SIZE = 16\n",
    "STEP_SIZE = AES_BLOCK_SIZE\n",
    "MIN_NUM_BYTES = STEP_SIZE\n",
    "crypto256Cm_chkp = []\n",
    "crypto256Cm_rest = []\n",
    "crypto256Cm_chkp_time = []\n",
    "crypto256Cm_rest_time = []\n",
    "crypto256Cm_x = []\n",
    "for i in range(0, min_num//STEP_SIZE):\n",
    "    crypto256Cm_x.append(MIN_NUM_BYTES + i*STEP_SIZE)\n",
    "    crypto256Cm_chkp.append((crypto256Cm_encrypt_energy_mJ[i] + crypto256Cm_flash_write_energy_mJ[i])  * m_to_u)\n",
    "    crypto256Cm_rest.append((crypto256Cm_decrypt_energy_mJ[i] + crypto256Cm_flash_read_energy_mJ[i]) * m_to_u)\n",
    "    crypto256Cm_chkp_time.append((crypto256Cm_encrypt_time_ms[i] + crypto256Cm_flash_write_time_ms[i]))\n",
    "    crypto256Cm_rest_time.append((crypto256Cm_decrypt_time_ms[i] + crypto256Cm_flash_read_time_ms[i]))\n",
    "#crypto256Cm_chkp[255] +   \n",
    "#crypto256Cm_flash_write_energy_mJ[350]* m_to_u\n",
    "crypto256Cm_encrypt_energy_mJ[255]"
   ]
  },
  {
   "cell_type": "code",
   "execution_count": 89,
   "metadata": {},
   "outputs": [
    {
     "ename": "NameError",
     "evalue": "name 'flash_write_energy_mJ' is not defined",
     "output_type": "error",
     "traceback": [
      "\u001b[1;31m---------------------------------------------------------------------------\u001b[0m",
      "\u001b[1;31mNameError\u001b[0m                                 Traceback (most recent call last)",
      "\u001b[1;32m<ipython-input-89-7708a98c7853>\u001b[0m in \u001b[0;36m<module>\u001b[1;34m\u001b[0m\n\u001b[0;32m      6\u001b[0m \u001b[1;32mfor\u001b[0m \u001b[0mi\u001b[0m \u001b[1;32min\u001b[0m \u001b[0mrange\u001b[0m\u001b[1;33m(\u001b[0m\u001b[1;36m0\u001b[0m\u001b[1;33m,\u001b[0m \u001b[0mmin_num\u001b[0m\u001b[1;33m)\u001b[0m\u001b[1;33m:\u001b[0m\u001b[1;33m\u001b[0m\u001b[1;33m\u001b[0m\u001b[0m\n\u001b[0;32m      7\u001b[0m     \u001b[0mno_security_x\u001b[0m\u001b[1;33m.\u001b[0m\u001b[0mappend\u001b[0m\u001b[1;33m(\u001b[0m\u001b[0mi\u001b[0m\u001b[1;33m+\u001b[0m\u001b[1;36m1\u001b[0m\u001b[1;33m)\u001b[0m\u001b[1;33m\u001b[0m\u001b[1;33m\u001b[0m\u001b[0m\n\u001b[1;32m----> 8\u001b[1;33m     \u001b[0mno_security_chkp\u001b[0m\u001b[1;33m.\u001b[0m\u001b[0mappend\u001b[0m\u001b[1;33m(\u001b[0m\u001b[0mflash_write_energy_mJ\u001b[0m\u001b[1;33m[\u001b[0m\u001b[0mi\u001b[0m\u001b[1;33m]\u001b[0m  \u001b[1;33m*\u001b[0m \u001b[0mm_to_u\u001b[0m\u001b[1;33m)\u001b[0m\u001b[1;33m\u001b[0m\u001b[1;33m\u001b[0m\u001b[0m\n\u001b[0m\u001b[0;32m      9\u001b[0m     \u001b[0mno_security_rest\u001b[0m\u001b[1;33m.\u001b[0m\u001b[0mappend\u001b[0m\u001b[1;33m(\u001b[0m\u001b[0mflash_read_energy_mJ\u001b[0m\u001b[1;33m[\u001b[0m\u001b[0mi\u001b[0m\u001b[1;33m]\u001b[0m \u001b[1;33m*\u001b[0m \u001b[0mm_to_u\u001b[0m\u001b[1;33m)\u001b[0m\u001b[1;33m\u001b[0m\u001b[1;33m\u001b[0m\u001b[0m\n\u001b[0;32m     10\u001b[0m     \u001b[0mno_security_chkp_time\u001b[0m\u001b[1;33m.\u001b[0m\u001b[0mappend\u001b[0m\u001b[1;33m(\u001b[0m\u001b[0mflash_write_time_ms\u001b[0m\u001b[1;33m[\u001b[0m\u001b[0mi\u001b[0m\u001b[1;33m]\u001b[0m\u001b[1;33m)\u001b[0m\u001b[1;33m\u001b[0m\u001b[1;33m\u001b[0m\u001b[0m\n",
      "\u001b[1;31mNameError\u001b[0m: name 'flash_write_energy_mJ' is not defined"
     ]
    }
   ],
   "source": [
    "no_security_chkp = []\n",
    "no_security_rest = []\n",
    "no_security_chkp_time = []\n",
    "no_security_rest_time = []\n",
    "no_security_x = []\n",
    "for i in range(0, min_num):\n",
    "    no_security_x.append(i+1)\n",
    "    no_security_chkp.append(flash_write_energy_mJ[i]  * m_to_u)\n",
    "    no_security_rest.append(flash_read_energy_mJ[i] * m_to_u)\n",
    "    no_security_chkp_time.append(flash_write_time_ms[i])\n",
    "    no_security_rest_time.append(flash_read_time_ms[i])"
   ]
  },
  {
   "cell_type": "markdown",
   "metadata": {},
   "source": [
    "## For-128-Only"
   ]
  },
  {
   "cell_type": "code",
   "execution_count": null,
   "metadata": {},
   "outputs": [],
   "source": []
  },
  {
   "cell_type": "code",
   "execution_count": 90,
   "metadata": {},
   "outputs": [],
   "source": [
    "every = 500\n",
    "MBEDTLS_AES_BLOCK_SIZE = 16\n",
    "everies= [every//MBEDTLS_AES_BLOCK_SIZE*2, every//MBEDTLS_AES_BLOCK_SIZE,\n",
    "          every//MBEDTLS_AES_BLOCK_SIZE, every//MBEDTLS_AES_BLOCK_SIZE*2,\n",
    "          ]\n",
    "colors = ['#92140c','#92140c',\n",
    "          '#346888','#346888',\n",
    "         ]\n",
    "     \n",
    "linestyles = [(0, (1.0, 0)), (0, (1.0, 0.5)), (0, (1.0, 0)), (0, (1.0, 0.5))]\n",
    "        \n",
    "markers = ['o', '^',\n",
    "           'o', '^'] #, 'o', 'D'\n",
    "#marker_edgeColor = ['b','c','b','c','b','c','b','c','b','c','b','c']\n",
    "marker_fillStyle = ['full','full',\n",
    "                    'full','full' ]\n",
    "opacity = 0.8"
   ]
  },
  {
   "cell_type": "code",
   "execution_count": 18,
   "metadata": {},
   "outputs": [
    {
     "data": {
      "text/plain": [
       "Text(0, 0.5, 'Energy [$\\\\mu$J]')"
      ]
     },
     "execution_count": 18,
     "metadata": {},
     "output_type": "execute_result"
    }
   ],
   "source": [
    "consistent_colors = True\n",
    "fig_energy = plt.figure(figsize=(3, 2), dpi=300)\n",
    "fig_energy.canvas.set_window_title(\"Analysis Energy\")\n",
    "fig_energy.clf()\n",
    "ax1 = fig_energy.add_subplot(1, 1, 1)\n",
    "ax1.set_xlabel('Checkpoint Size [Bytes]')\n",
    "ax1.set_ylabel('Energy [$\\mu$J]') # $\\mu$"
   ]
  },
  {
   "cell_type": "raw",
   "metadata": {},
   "source": [
    "lines = []\n",
    "lines += ax1.plot(crypto128_x, crypto128_chkp, label='AES-128 CBC Crypto-Accelerator Checkpoint', alpha=0.5)\n",
    "lines += ax1.plot(crypto128_x, crypto128_rest, label='AES-128 CBC Crypto-Accelerator Restore', alpha=0.5)\n",
    "lines += ax1.plot(crypto128Cm_x, crypto128Cm_chkp, label='AES-128 CBC Crypto-Accelerator with Countermeasures Checkpoint', zorder=3, alpha=0.9)\n",
    "lines += ax1.plot(crypto128Cm_x, crypto128Cm_rest, label='AES-128 CBC Crypto-Accelerator with Countermeasures Restore',  zorder=3,alpha=0.9)\n",
    "#lines += ax1.plot(aes128_x, aes128_chkp, label='AES-128 CBC mbedTLS Checkpoint', alpha=opacity)\n",
    "#lines += ax1.plot(aes128_x, aes128_rest, label='AES-128 CBC mbedTLS Restore', alpha=opacity)\n",
    "#lines += ax1.plot(no_security_x, no_security_chkp, label='No Security Checkpoint', zorder=0, alpha=opacity)\n",
    "#lines += ax1.plot(no_security_x, no_security_rest, label='No Security Restore', zorder=0, alpha=opacity)\n",
    "for i in range(len(lines)):\n",
    "    lines[i].set_markevery(everies[i])\n",
    "    lines[i].set_linestyle(linestyles[i])\n",
    "    lines[i].set_marker(markers[i])\n",
    "   # lines[i].set_markeredgecolor(marker_edgeColor[i])\n",
    "    lines[i].set_fillstyle(marker_fillStyle[i])\n",
    "    if consistent_colors:\n",
    "        lines[i].set_color(colors[i])\n",
    "\n",
    "ax1.legend(handles=lines)\n",
    "ax1.legend(title='Cortex M0+')\n",
    "# ax1.set_yscale('log')\n",
    "ax1.grid()\n",
    "fig_energy.tight_layout()\n",
    "fig_energy.show()"
   ]
  },
  {
   "cell_type": "raw",
   "metadata": {},
   "source": [
    "fig_time = plt.figure(figsize=(6, 4))\n",
    "fig_time.canvas.set_window_title(\"Analysis Time\")"
   ]
  },
  {
   "cell_type": "raw",
   "metadata": {},
   "source": [
    "fig_time.clf()\n",
    "ax2 = fig_time.add_subplot(1, 1, 1)\n",
    "ax2.set_xlabel('Checkpoint Size [Bytes]')\n",
    "ax2.set_ylabel('Time [ms]') # $\\mu$"
   ]
  },
  {
   "cell_type": "raw",
   "metadata": {},
   "source": [
    "lines = []\n",
    "lines += ax2.plot(crypto128_x, crypto128_chkp_time, label='AES-128 CBC Crypto-Accelerator Checkpoint', alpha=opacity)\n",
    "lines += ax2.plot(crypto128_x, crypto128_rest_time, label='AES-128 CBC Crypto-Accelerator Restore', alpha=opacity)\n",
    "lines += ax2.plot(crypto128Cm_x, crypto128Cm_chkp_time, label='AES-128 CBC Crypto-Accelerator with Countermeasures Checkpoint', zorder=3, alpha=0.9)\n",
    "lines += ax2.plot(crypto128Cm_x, crypto128Cm_rest_time, label='AES-128 CBC Crypto-Accelerator with Countermeasures Restore', zorder=3,alpha=0.9)\n",
    "for i in range(len(lines)):\n",
    "    lines[i].set_markevery(everies[i])\n",
    "    lines[i].set_linestyle(linestyles[i])\n",
    "    lines[i].set_marker(markers[i])\n",
    "    lines[i].set_fillstyle(marker_fillStyle[i])\n",
    "    if consistent_colors:\n",
    "        lines[i].set_color(colors[i])\n",
    "\n",
    "ax2.legend(handles=lines)\n",
    "ax2.legend(title='Cortex M0+')\n",
    "# ax2.set_yscale('log')\n",
    "ax2.grid()\n",
    "fig_time.tight_layout()\n",
    "fig_time.show()"
   ]
  },
  {
   "cell_type": "markdown",
   "metadata": {},
   "source": [
    "## For 256 Only"
   ]
  },
  {
   "cell_type": "markdown",
   "metadata": {},
   "source": [
    "## For Line Representation"
   ]
  },
  {
   "cell_type": "code",
   "execution_count": 67,
   "metadata": {},
   "outputs": [
    {
     "data": {
      "text/plain": [
       "Text(0, 0.5, 'Energy [$\\\\mu$J]')"
      ]
     },
     "execution_count": 67,
     "metadata": {},
     "output_type": "execute_result"
    }
   ],
   "source": [
    "consistent_colors = True\n",
    "fig_energy = plt.figure(figsize=(6, 4)) #, dpi=300\n",
    "fig_energy.canvas.set_window_title(\"Analysis Energy\")\n",
    "fig_energy.clf()\n",
    "ax1 = fig_energy.add_subplot(1, 1, 1)\n",
    "ax1.set_xlabel('Checkpoint Size [Bytes]')\n",
    "ax1.set_ylabel('Energy [$\\mu$J]') # $\\mu$"
   ]
  },
  {
   "cell_type": "code",
   "execution_count": 69,
   "metadata": {},
   "outputs": [
    {
     "ename": "OSError",
     "evalue": "[Errno 22] Invalid argument: 'Energy_sca.pdf'",
     "output_type": "error",
     "traceback": [
      "\u001b[1;31m---------------------------------------------------------------------------\u001b[0m",
      "\u001b[1;31mOSError\u001b[0m                                   Traceback (most recent call last)",
      "\u001b[1;32m<ipython-input-69-de75cbe8d71c>\u001b[0m in \u001b[0;36m<module>\u001b[1;34m\u001b[0m\n\u001b[0;32m     26\u001b[0m \u001b[1;33m\u001b[0m\u001b[0m\n\u001b[0;32m     27\u001b[0m \u001b[0mfig_energy\u001b[0m\u001b[1;33m.\u001b[0m\u001b[0mtight_layout\u001b[0m\u001b[1;33m(\u001b[0m\u001b[1;33m)\u001b[0m\u001b[1;33m\u001b[0m\u001b[1;33m\u001b[0m\u001b[0m\n\u001b[1;32m---> 28\u001b[1;33m \u001b[0mfig_energy\u001b[0m\u001b[1;33m.\u001b[0m\u001b[0msavefig\u001b[0m\u001b[1;33m(\u001b[0m\u001b[1;34m'Energy_sca.pdf'\u001b[0m\u001b[1;33m,\u001b[0m \u001b[0mbbox_inches\u001b[0m\u001b[1;33m=\u001b[0m\u001b[1;34m'tight'\u001b[0m\u001b[1;33m,\u001b[0m \u001b[0mdpi\u001b[0m\u001b[1;33m=\u001b[0m\u001b[1;36m1000\u001b[0m\u001b[1;33m)\u001b[0m\u001b[1;33m\u001b[0m\u001b[1;33m\u001b[0m\u001b[0m\n\u001b[0m\u001b[0;32m     29\u001b[0m \u001b[1;33m\u001b[0m\u001b[0m\n\u001b[0;32m     30\u001b[0m \u001b[0mfig_energy\u001b[0m\u001b[1;33m.\u001b[0m\u001b[0mshow\u001b[0m\u001b[1;33m(\u001b[0m\u001b[1;33m)\u001b[0m\u001b[1;33m\u001b[0m\u001b[1;33m\u001b[0m\u001b[0m\n",
      "\u001b[1;32mc:\\users\\areeb assad\\appdata\\local\\programs\\python\\python38-32\\lib\\site-packages\\matplotlib\\figure.py\u001b[0m in \u001b[0;36msavefig\u001b[1;34m(self, fname, transparent, **kwargs)\u001b[0m\n\u001b[0;32m   2178\u001b[0m             \u001b[0mself\u001b[0m\u001b[1;33m.\u001b[0m\u001b[0mpatch\u001b[0m\u001b[1;33m.\u001b[0m\u001b[0mset_visible\u001b[0m\u001b[1;33m(\u001b[0m\u001b[0mframeon\u001b[0m\u001b[1;33m)\u001b[0m\u001b[1;33m\u001b[0m\u001b[1;33m\u001b[0m\u001b[0m\n\u001b[0;32m   2179\u001b[0m \u001b[1;33m\u001b[0m\u001b[0m\n\u001b[1;32m-> 2180\u001b[1;33m         \u001b[0mself\u001b[0m\u001b[1;33m.\u001b[0m\u001b[0mcanvas\u001b[0m\u001b[1;33m.\u001b[0m\u001b[0mprint_figure\u001b[0m\u001b[1;33m(\u001b[0m\u001b[0mfname\u001b[0m\u001b[1;33m,\u001b[0m \u001b[1;33m**\u001b[0m\u001b[0mkwargs\u001b[0m\u001b[1;33m)\u001b[0m\u001b[1;33m\u001b[0m\u001b[1;33m\u001b[0m\u001b[0m\n\u001b[0m\u001b[0;32m   2181\u001b[0m \u001b[1;33m\u001b[0m\u001b[0m\n\u001b[0;32m   2182\u001b[0m         \u001b[1;32mif\u001b[0m \u001b[0mframeon\u001b[0m\u001b[1;33m:\u001b[0m\u001b[1;33m\u001b[0m\u001b[1;33m\u001b[0m\u001b[0m\n",
      "\u001b[1;32mc:\\users\\areeb assad\\appdata\\local\\programs\\python\\python38-32\\lib\\site-packages\\matplotlib\\backends\\backend_wx.py\u001b[0m in \u001b[0;36mprint_figure\u001b[1;34m(self, filename, *args, **kwargs)\u001b[0m\n\u001b[0;32m    738\u001b[0m     \u001b[1;32mdef\u001b[0m \u001b[0mprint_figure\u001b[0m\u001b[1;33m(\u001b[0m\u001b[0mself\u001b[0m\u001b[1;33m,\u001b[0m \u001b[0mfilename\u001b[0m\u001b[1;33m,\u001b[0m \u001b[1;33m*\u001b[0m\u001b[0margs\u001b[0m\u001b[1;33m,\u001b[0m \u001b[1;33m**\u001b[0m\u001b[0mkwargs\u001b[0m\u001b[1;33m)\u001b[0m\u001b[1;33m:\u001b[0m\u001b[1;33m\u001b[0m\u001b[1;33m\u001b[0m\u001b[0m\n\u001b[0;32m    739\u001b[0m         \u001b[1;31m# docstring inherited\u001b[0m\u001b[1;33m\u001b[0m\u001b[1;33m\u001b[0m\u001b[1;33m\u001b[0m\u001b[0m\n\u001b[1;32m--> 740\u001b[1;33m         \u001b[0msuper\u001b[0m\u001b[1;33m(\u001b[0m\u001b[1;33m)\u001b[0m\u001b[1;33m.\u001b[0m\u001b[0mprint_figure\u001b[0m\u001b[1;33m(\u001b[0m\u001b[0mfilename\u001b[0m\u001b[1;33m,\u001b[0m \u001b[1;33m*\u001b[0m\u001b[0margs\u001b[0m\u001b[1;33m,\u001b[0m \u001b[1;33m**\u001b[0m\u001b[0mkwargs\u001b[0m\u001b[1;33m)\u001b[0m\u001b[1;33m\u001b[0m\u001b[1;33m\u001b[0m\u001b[0m\n\u001b[0m\u001b[0;32m    741\u001b[0m         \u001b[1;31m# Restore the current view; this is needed because the artist contains\u001b[0m\u001b[1;33m\u001b[0m\u001b[1;33m\u001b[0m\u001b[1;33m\u001b[0m\u001b[0m\n\u001b[0;32m    742\u001b[0m         \u001b[1;31m# methods rely on particular attributes of the rendered figure for\u001b[0m\u001b[1;33m\u001b[0m\u001b[1;33m\u001b[0m\u001b[1;33m\u001b[0m\u001b[0m\n",
      "\u001b[1;32mc:\\users\\areeb assad\\appdata\\local\\programs\\python\\python38-32\\lib\\site-packages\\matplotlib\\backend_bases.py\u001b[0m in \u001b[0;36mprint_figure\u001b[1;34m(self, filename, dpi, facecolor, edgecolor, orientation, format, bbox_inches, **kwargs)\u001b[0m\n\u001b[0;32m   2082\u001b[0m \u001b[1;33m\u001b[0m\u001b[0m\n\u001b[0;32m   2083\u001b[0m             \u001b[1;32mtry\u001b[0m\u001b[1;33m:\u001b[0m\u001b[1;33m\u001b[0m\u001b[1;33m\u001b[0m\u001b[0m\n\u001b[1;32m-> 2084\u001b[1;33m                 result = print_method(\n\u001b[0m\u001b[0;32m   2085\u001b[0m                     \u001b[0mfilename\u001b[0m\u001b[1;33m,\u001b[0m\u001b[1;33m\u001b[0m\u001b[1;33m\u001b[0m\u001b[0m\n\u001b[0;32m   2086\u001b[0m                     \u001b[0mdpi\u001b[0m\u001b[1;33m=\u001b[0m\u001b[0mdpi\u001b[0m\u001b[1;33m,\u001b[0m\u001b[1;33m\u001b[0m\u001b[1;33m\u001b[0m\u001b[0m\n",
      "\u001b[1;32mc:\\users\\areeb assad\\appdata\\local\\programs\\python\\python38-32\\lib\\site-packages\\matplotlib\\backends\\backend_pdf.py\u001b[0m in \u001b[0;36mprint_pdf\u001b[1;34m(self, filename, dpi, bbox_inches_restore, metadata, **kwargs)\u001b[0m\n\u001b[0;32m   2494\u001b[0m             \u001b[0mfile\u001b[0m \u001b[1;33m=\u001b[0m \u001b[0mfilename\u001b[0m\u001b[1;33m.\u001b[0m\u001b[0m_file\u001b[0m\u001b[1;33m\u001b[0m\u001b[1;33m\u001b[0m\u001b[0m\n\u001b[0;32m   2495\u001b[0m         \u001b[1;32melse\u001b[0m\u001b[1;33m:\u001b[0m\u001b[1;33m\u001b[0m\u001b[1;33m\u001b[0m\u001b[0m\n\u001b[1;32m-> 2496\u001b[1;33m             \u001b[0mfile\u001b[0m \u001b[1;33m=\u001b[0m \u001b[0mPdfFile\u001b[0m\u001b[1;33m(\u001b[0m\u001b[0mfilename\u001b[0m\u001b[1;33m,\u001b[0m \u001b[0mmetadata\u001b[0m\u001b[1;33m=\u001b[0m\u001b[0mmetadata\u001b[0m\u001b[1;33m)\u001b[0m\u001b[1;33m\u001b[0m\u001b[1;33m\u001b[0m\u001b[0m\n\u001b[0m\u001b[0;32m   2497\u001b[0m         \u001b[1;32mtry\u001b[0m\u001b[1;33m:\u001b[0m\u001b[1;33m\u001b[0m\u001b[1;33m\u001b[0m\u001b[0m\n\u001b[0;32m   2498\u001b[0m             \u001b[0mfile\u001b[0m\u001b[1;33m.\u001b[0m\u001b[0mnewPage\u001b[0m\u001b[1;33m(\u001b[0m\u001b[0mwidth\u001b[0m\u001b[1;33m,\u001b[0m \u001b[0mheight\u001b[0m\u001b[1;33m)\u001b[0m\u001b[1;33m\u001b[0m\u001b[1;33m\u001b[0m\u001b[0m\n",
      "\u001b[1;32mc:\\users\\areeb assad\\appdata\\local\\programs\\python\\python38-32\\lib\\site-packages\\matplotlib\\backends\\backend_pdf.py\u001b[0m in \u001b[0;36m__init__\u001b[1;34m(self, filename, metadata)\u001b[0m\n\u001b[0;32m    430\u001b[0m         \u001b[0mself\u001b[0m\u001b[1;33m.\u001b[0m\u001b[0moriginal_file_like\u001b[0m \u001b[1;33m=\u001b[0m \u001b[1;32mNone\u001b[0m\u001b[1;33m\u001b[0m\u001b[1;33m\u001b[0m\u001b[0m\n\u001b[0;32m    431\u001b[0m         \u001b[0mself\u001b[0m\u001b[1;33m.\u001b[0m\u001b[0mtell_base\u001b[0m \u001b[1;33m=\u001b[0m \u001b[1;36m0\u001b[0m\u001b[1;33m\u001b[0m\u001b[1;33m\u001b[0m\u001b[0m\n\u001b[1;32m--> 432\u001b[1;33m         \u001b[0mfh\u001b[0m\u001b[1;33m,\u001b[0m \u001b[0mopened\u001b[0m \u001b[1;33m=\u001b[0m \u001b[0mcbook\u001b[0m\u001b[1;33m.\u001b[0m\u001b[0mto_filehandle\u001b[0m\u001b[1;33m(\u001b[0m\u001b[0mfilename\u001b[0m\u001b[1;33m,\u001b[0m \u001b[1;34m\"wb\"\u001b[0m\u001b[1;33m,\u001b[0m \u001b[0mreturn_opened\u001b[0m\u001b[1;33m=\u001b[0m\u001b[1;32mTrue\u001b[0m\u001b[1;33m)\u001b[0m\u001b[1;33m\u001b[0m\u001b[1;33m\u001b[0m\u001b[0m\n\u001b[0m\u001b[0;32m    433\u001b[0m         \u001b[1;32mif\u001b[0m \u001b[1;32mnot\u001b[0m \u001b[0mopened\u001b[0m\u001b[1;33m:\u001b[0m\u001b[1;33m\u001b[0m\u001b[1;33m\u001b[0m\u001b[0m\n\u001b[0;32m    434\u001b[0m             \u001b[1;32mtry\u001b[0m\u001b[1;33m:\u001b[0m\u001b[1;33m\u001b[0m\u001b[1;33m\u001b[0m\u001b[0m\n",
      "\u001b[1;32mc:\\users\\areeb assad\\appdata\\local\\programs\\python\\python38-32\\lib\\site-packages\\matplotlib\\cbook\\__init__.py\u001b[0m in \u001b[0;36mto_filehandle\u001b[1;34m(fname, flag, return_opened, encoding)\u001b[0m\n\u001b[0;32m    430\u001b[0m             \u001b[0mfh\u001b[0m \u001b[1;33m=\u001b[0m \u001b[0mbz2\u001b[0m\u001b[1;33m.\u001b[0m\u001b[0mBZ2File\u001b[0m\u001b[1;33m(\u001b[0m\u001b[0mfname\u001b[0m\u001b[1;33m,\u001b[0m \u001b[0mflag\u001b[0m\u001b[1;33m)\u001b[0m\u001b[1;33m\u001b[0m\u001b[1;33m\u001b[0m\u001b[0m\n\u001b[0;32m    431\u001b[0m         \u001b[1;32melse\u001b[0m\u001b[1;33m:\u001b[0m\u001b[1;33m\u001b[0m\u001b[1;33m\u001b[0m\u001b[0m\n\u001b[1;32m--> 432\u001b[1;33m             \u001b[0mfh\u001b[0m \u001b[1;33m=\u001b[0m \u001b[0mopen\u001b[0m\u001b[1;33m(\u001b[0m\u001b[0mfname\u001b[0m\u001b[1;33m,\u001b[0m \u001b[0mflag\u001b[0m\u001b[1;33m,\u001b[0m \u001b[0mencoding\u001b[0m\u001b[1;33m=\u001b[0m\u001b[0mencoding\u001b[0m\u001b[1;33m)\u001b[0m\u001b[1;33m\u001b[0m\u001b[1;33m\u001b[0m\u001b[0m\n\u001b[0m\u001b[0;32m    433\u001b[0m         \u001b[0mopened\u001b[0m \u001b[1;33m=\u001b[0m \u001b[1;32mTrue\u001b[0m\u001b[1;33m\u001b[0m\u001b[1;33m\u001b[0m\u001b[0m\n\u001b[0;32m    434\u001b[0m     \u001b[1;32melif\u001b[0m \u001b[0mhasattr\u001b[0m\u001b[1;33m(\u001b[0m\u001b[0mfname\u001b[0m\u001b[1;33m,\u001b[0m \u001b[1;34m'seek'\u001b[0m\u001b[1;33m)\u001b[0m\u001b[1;33m:\u001b[0m\u001b[1;33m\u001b[0m\u001b[1;33m\u001b[0m\u001b[0m\n",
      "\u001b[1;31mOSError\u001b[0m: [Errno 22] Invalid argument: 'Energy_sca.pdf'"
     ]
    }
   ],
   "source": [
    "lines = []\n",
    "lines += ax1.plot(crypto256_x, crypto256_chkp, label='AES-Module Checkpoint', alpha =1) #\n",
    "lines += ax1.plot(crypto256_x, crypto256_rest, label='AES-Module Restore', alpha=0.7)\n",
    "lines += ax1.plot(crypto256Cm_x, crypto256Cm_chkp, label='AES-Module with CM Checkpoint',alpha=1)\n",
    "lines += ax1.plot(crypto256Cm_x, crypto256Cm_rest, label='AES-Module with CM Restore', alpha=0.7) #zorder=1\n",
    "for i in range(len(lines)):\n",
    "    lines[i].set_markevery(everies[i])\n",
    "    lines[i].set_linestyle(linestyles[i])\n",
    "    lines[i].set_marker(markers[i])\n",
    "   # lines[i].set_markeredgecolor(marker_edgeColor[i])\n",
    "    lines[i].set_fillstyle(marker_fillStyle[i])\n",
    "    if consistent_colors:\n",
    "        lines[i].set_color(colors[i])\n",
    "\n",
    "      \n",
    "\n",
    "ax1.legend(handles=lines)\n",
    "#fig_energy.legend(suptitle='Cortex M0+ \\nCheckpoint = Encryption + Write on Flash \\nRestore = Read from Flash + Decryption')\n",
    "#ax1.legend(title='Cortex M0+ \\nCheckpoint = Encryption + Write on Flash \\nRestore = Read from Flash + Decryption')\n",
    "leg = ax1.legend(title='Security Mode= AES-256 CBC')\n",
    "leg._legend_box.align = \"left\"\n",
    "\n",
    "# ax1.set_yscale('log')\n",
    "#ax1.grid()\n",
    "#plt.gcf().set_size_inches(5, 7)\n",
    "\n",
    "fig_energy.tight_layout()\n",
    "fig_energy.savefig('Energy_sca.pdf', bbox_inches='tight', dpi=1000)\n",
    "\n",
    "fig_energy.show()"
   ]
  },
  {
   "cell_type": "code",
   "execution_count": 95,
   "metadata": {},
   "outputs": [],
   "source": [
    "fig_time = plt.figure(figsize=(6, 4))\n",
    "fig_time.canvas.set_window_title(\"Analysis Time\")"
   ]
  },
  {
   "cell_type": "code",
   "execution_count": 96,
   "metadata": {},
   "outputs": [
    {
     "data": {
      "text/plain": [
       "Text(0, 0.5, 'Time [ms]')"
      ]
     },
     "execution_count": 96,
     "metadata": {},
     "output_type": "execute_result"
    }
   ],
   "source": [
    "fig_time.clf()\n",
    "ax2 = fig_time.add_subplot(1, 1, 1)\n",
    "ax2.set_xlabel('Checkpoint Size [Bytes]')\n",
    "ax2.set_ylabel('Time [ms]') # $\\mu$"
   ]
  },
  {
   "cell_type": "code",
   "execution_count": 97,
   "metadata": {},
   "outputs": [],
   "source": [
    "#Time\n",
    "lines = []\n",
    "lines += ax2.plot(crypto256_x, crypto256_chkp_time, label='AES-Module Checkpoint', alpha=opacity)\n",
    "lines += ax2.plot(crypto256_x, crypto256_rest_time, label='AES-Module Restore', alpha=opacity)\n",
    "lines += ax2.plot(crypto256Cm_x, crypto256Cm_chkp_time, label='AES-Module with CM Checkpoint', zorder=3, alpha=0.9)\n",
    "lines += ax2.plot(crypto256Cm_x, crypto256Cm_rest_time, label='AES-Module with CM Restore', zorder=3,alpha=0.9)\n",
    "for i in range(len(lines)):\n",
    "    lines[i].set_markevery(everies[i])\n",
    "    lines[i].set_linestyle(linestyles[i])\n",
    "    lines[i].set_marker(markers[i])\n",
    "    lines[i].set_fillstyle(marker_fillStyle[i])\n",
    "    if consistent_colors:\n",
    "        lines[i].set_color(colors[i])\n",
    "\n",
    "ax2.legend(handles=lines)\n",
    "#ax2.legend(title='Cortex M0+')\n",
    "leg2 = ax2.legend(title='Security Mode= AES-256 CBC')\n",
    "leg2._legend_box.align = \"left\"\n",
    "# ax2.set_yscale('log')\n",
    "ax2.grid()\n",
    "fig_time.tight_layout()\n",
    "fig_time.savefig('Time_sca.pdf', bbox_inches='tight', dpi=1000)\n",
    "\n",
    "fig_time.show()"
   ]
  },
  {
   "cell_type": "markdown",
   "metadata": {},
   "source": [
    "## For ALL"
   ]
  },
  {
   "cell_type": "code",
   "execution_count": 81,
   "metadata": {},
   "outputs": [],
   "source": [
    "every = 500\n",
    "everies= [every//MBEDTLS_AES_BLOCK_SIZE*2, every//MBEDTLS_AES_BLOCK_SIZE,\n",
    "          every//MBEDTLS_AES_BLOCK_SIZE, every//MBEDTLS_AES_BLOCK_SIZE*2,\n",
    "          every//MBEDTLS_AES_BLOCK_SIZE*2, every//MBEDTLS_AES_BLOCK_SIZE,\n",
    "          every//MBEDTLS_AES_BLOCK_SIZE*2, every//MBEDTLS_AES_BLOCK_SIZE,\n",
    "          every//MBEDTLS_AES_BLOCK_SIZE*2, every//MBEDTLS_AES_BLOCK_SIZE,\n",
    "       #   every, every*2,\n",
    "          every//MBEDTLS_AES_BLOCK_SIZE*2, every//MBEDTLS_AES_BLOCK_SIZE]\n",
    "colors = ['#92140c','#92140c',\n",
    "          '#284b63', '#284b63',\n",
    "          '#EFEE69','#EFEE69',\n",
    "          '#C8B94E', '#C8B94E',\n",
    "          '#85e085', '#85e085',\n",
    "          '#258e25', '#258e25'] \n",
    "     #     '#66b3ff', '#66b3ff'\n",
    "          #'k'#D80303\n",
    "\n",
    "# colors = ['#85e085', '#85e085', '#258e25', '#258e25', '#66b3ff', '#66b3ff', '#b3b3cc', '#b3b3cc'] #'k'\n",
    "# security_colors = {'AES_Flash':'#85e085', 'AES-128_Flash':'#85e085', 'AES-256_Flash':'#258e25', 'TrustZone_Flash':'#66b3ff', 'No_Security_Flash':'#b3b3cc'}\n",
    "\n",
    "linestyles = [(0, (1.0, 0)), (0, (1.0, 0.5)),(0, (1.0, 0)), (0, (1.0, 0.5)),(0, (1.0, 0)), (0, (1.0, 0.5)), (0, (1.0, 0)), (0, (1.0, 0.5)), (0, (1.0, 0)), (0, (1.0, 0.5)),(0, (1.0, 0)), (0, (1.0, 0.5))]\n",
    "              #, (0, (6.0, 3.0)), (0, (7.0, 3.5))]\n",
    "markers = ['o', '^','o', '^','o', '^','o', '^', 'o', '^', 'o', '^'] #, 'o', 'D'\n",
    "#marker_edgeColor = ['b','c','b','c','b','c','b','c','b','c','b','c']\n",
    "marker_fillStyle = [ 'full','full', 'full','full', 'full','full', 'full','full', 'full','full', 'full','full' ]\n",
    "opacity = 0.8"
   ]
  },
  {
   "cell_type": "code",
   "execution_count": 82,
   "metadata": {},
   "outputs": [],
   "source": [
    "consistent_colors = True"
   ]
  },
  {
   "cell_type": "code",
   "execution_count": 83,
   "metadata": {},
   "outputs": [],
   "source": [
    "fig_energy = plt.figure(figsize=(15, 7.5), dpi= 100) #figsize=(6, 4)\n",
    "fig_energy.canvas.set_window_title(\"Analysis Energy\")"
   ]
  },
  {
   "cell_type": "code",
   "execution_count": 84,
   "metadata": {},
   "outputs": [
    {
     "data": {
      "text/plain": [
       "Text(0, 0.5, 'Energy [$\\\\mu$J]')"
      ]
     },
     "execution_count": 84,
     "metadata": {},
     "output_type": "execute_result"
    }
   ],
   "source": [
    "fig_energy.clf()\n",
    "ax1 = fig_energy.add_subplot(1, 1, 1)\n",
    "ax1.set_xlabel('Checkpoint Size [Bytes]')\n",
    "ax1.set_ylabel('Energy [$\\mu$J]') # $\\mu$"
   ]
  },
  {
   "cell_type": "code",
   "execution_count": 85,
   "metadata": {},
   "outputs": [],
   "source": [
    "class LegendTitle(object):\n",
    "    def __init__(self, text_props=None):\n",
    "        self.text_props = text_props or {}\n",
    "        super(LegendTitle, self).__init__()\n",
    "\n",
    "    def legend_artist(self, legend, orig_handle, fontsize, handlebox):\n",
    "        x0, y0 = handlebox.xdescent, handlebox.ydescent\n",
    "        title = mtext.Text(x0, y0,  orig_handle , **self.text_props)\n",
    "        handlebox.add_artist(title)\n",
    "        return title\n",
    "\n"
   ]
  },
  {
   "cell_type": "code",
   "execution_count": 86,
   "metadata": {},
   "outputs": [],
   "source": [
    "import matplotlib.text as mtext\n",
    "\n",
    "lines = []\n",
    "lines += ax1.plot(crypto128_x, crypto128_chkp, label='AES-128 CBC Crypto-Accelerator Checkpoint', alpha=0.6)\n",
    "lines += ax1.plot(crypto128_x, crypto128_rest, label='AES-128 CBC Crypto-Accelerator Restore', alpha=0.6)\n",
    "lines += ax1.plot(crypto256_x, crypto256_chkp, label='AES-256 CBC Crypto-Accelerator Checkpoint', alpha=0.6)\n",
    "lines += ax1.plot(crypto256_x, crypto256_rest, label='AES-256 CBC Crypto-Accelerator Restore', alpha=0.6)\n",
    "lines += ax1.plot(aes128w_x, aes128w_chkp, label='AES-128 CBC wolfSSL Checkpoint', alpha=1)\n",
    "lines += ax1.plot(aes128w_x, aes128w_rest, label='AES-128 CBC wolfSSL Restore', alpha=1)\n",
    "lines += ax1.plot(aes256w_x, aes256w_chkp, label='AES-256 CBC wolfSSL Checkpoint', alpha=opacity)\n",
    "lines += ax1.plot(aes256w_x, aes256w_rest, label='AES-256 CBC wolfSSL Restore', alpha=opacity)\n",
    "lines += ax1.plot(aes128_x, aes128_chkp, label='AES-128 CBC mbedTLS Checkpoint', alpha=opacity)\n",
    "lines += ax1.plot(aes128_x, aes128_rest, label='AES-128 CBC mbedTLS Restore', alpha=opacity)\n",
    "lines += ax1.plot(aes256_x, aes256_chkp, label='AES-256 CBC mbedTLS Checkpoint', alpha=opacity)\n",
    "lines += ax1.plot(aes256_x, aes256_rest, label='AES-256 CBC mbedTLS Restore', alpha=opacity)\n",
    "#lines += ax1.plot(no_security_x, no_security_chkp, label='No Security Checkpoint', zorder=0, alpha=opacity)\n",
    "#lines += ax1.plot(no_security_x, no_security_rest, label='No Security Restore', zorder=0, alpha=opacity)\n",
    "for i in range(len(lines)):\n",
    "    lines[i].set_markevery(everies[i])\n",
    "    lines[i].set_linestyle(linestyles[i])\n",
    "    lines[i].set_marker(markers[i])\n",
    "   # lines[i].set_markeredgecolor(marker_edgeColor[i])\n",
    "    lines[i].set_fillstyle(marker_fillStyle[i])\n",
    "    if consistent_colors:\n",
    "        lines[i].set_color(colors[i])\n",
    "\n",
    "fig_energy.suptitle('Cortex M0+')        \n",
    "#ax1.legend(handles=lines)\n",
    "\n",
    "ax1.legend(['Hardware', lines[0], lines[1], lines[2], lines[3], 'Software', lines[4], lines[5], lines[6], lines[7], lines[8], lines[9], lines[10], lines[11]],\n",
    "           ['', 'AES-128 CBC Crypto-Accelerator Checkpoint', 'AES-128 CBC Crypto-Accelerator Restore', 'AES-256 CBC Crypto-Accelerator Checkpoint', 'AES-256 CBC Crypto-Accelerator Restore',\n",
    "            ' ','AES-128 CBC wolfSSL Checkpoint','AES-128 CBC wolfSSL Restore', 'AES-256 CBC wolfSSL Checkpoint', 'AES-256 CBC wolfSSL Restore'\n",
    "           'AES-128 CBC mbedTLS Checkpoint', 'AES-128 CBC mbedTLS Restore','AES-256 CBC mbedTLS Checkpoint', 'AES-256 CBC mbedTLS Restore'  ],\n",
    "           handler_map={str: LegendTitle({'fontsize': 11})})\n",
    "#ax1.legend(title='Cortex M0+')\n",
    "\n",
    "# ax1.set_yscale('log')\n",
    "ax1.grid()\n",
    "#fig_energy.tight_layout()\n",
    "#fig_energy.savefig('himom.png')\n",
    "fig_energy.show()"
   ]
  },
  {
   "cell_type": "code",
   "execution_count": 111,
   "metadata": {},
   "outputs": [],
   "source": [
    "fig_time = plt.figure(figsize=(15, 7.5), dpi= 100)\n",
    "fig_time.canvas.set_window_title(\"Analysis Time\")"
   ]
  },
  {
   "cell_type": "code",
   "execution_count": 112,
   "metadata": {},
   "outputs": [
    {
     "data": {
      "text/plain": [
       "Text(0, 0.5, 'Time [ms]')"
      ]
     },
     "execution_count": 112,
     "metadata": {},
     "output_type": "execute_result"
    }
   ],
   "source": [
    "fig_time.clf()\n",
    "ax2 = fig_time.add_subplot(1, 1, 1)\n",
    "ax2.set_xlabel('Checkpoint Size [Bytes]')\n",
    "ax2.set_ylabel('Time [ms]') # $\\mu$"
   ]
  },
  {
   "cell_type": "code",
   "execution_count": 113,
   "metadata": {},
   "outputs": [],
   "source": [
    "lines = []\n",
    "lines += ax2.plot(crypto128_x, crypto128_chkp_time, label='AES-128 CBC Crypto-Accelerator Checkpoint', alpha=opacity)\n",
    "lines += ax2.plot(crypto128_x, crypto128_rest_time, label='AES-128 CBC Crypto-Accelerator Restore', alpha=opacity)\n",
    "lines += ax2.plot(crypto256_x, crypto256_chkp_time, label='AES-256 CBC Crypto-Accelerator Checkpoint', alpha=opacity)\n",
    "lines += ax2.plot(crypto256_x, crypto256_rest_time, label='AES-256 CBC Crypto-Accelerator Restore', alpha=opacity)\n",
    "lines += ax2.plot(aes128w_x, aes128w_chkp_time, label='AES-128 CBC wolfSSL Checkpoint', alpha=opacity)\n",
    "lines += ax2.plot(aes128w_x, aes128w_rest_time, label='AES-128 CBC wolfSSL Restore', alpha=opacity)\n",
    "lines += ax2.plot(aes256w_x, aes256w_chkp_time, label='AES-256 CBC wolfSSL Checkpoint', alpha=opacity)\n",
    "lines += ax2.plot(aes256w_x, aes256w_rest_time, label='AES-256 CBC wolfSSL Restore', alpha=opacity)\n",
    "lines += ax2.plot(aes128_x, aes128_chkp_time, label='AES-128 CBC mbedTLS Checkpoint', alpha=opacity)\n",
    "lines += ax2.plot(aes128_x, aes128_rest_time, label='AES-128 CBC mbedTLS Restore', alpha=opacity)\n",
    "lines += ax2.plot(aes256_x, aes256_chkp_time, label='AES-256 CBC mbedTLS Checkpoint', alpha=opacity)\n",
    "lines += ax2.plot(aes256_x, aes256_rest_time, label='AES-256 CBC mbedTLS Restore', alpha=opacity)\n",
    "#lines += ax2.plot(no_security_x, no_security_chkp_time, label='No Security Checkpoint', zorder=0, alpha=opacity)\n",
    "#lines += ax2.plot(no_security_x, no_security_rest_time, label='No Security Restore', zorder=0, alpha=opacity)\n",
    "for i in range(len(lines)):\n",
    "    lines[i].set_markevery(everies[i])\n",
    "    lines[i].set_linestyle(linestyles[i])\n",
    "    lines[i].set_marker(markers[i])\n",
    "    if consistent_colors:\n",
    "        lines[i].set_color(colors[i])\n",
    "\n",
    "#ax2.legend(handles=lines)\n",
    "fig_time.suptitle('Time Analysis - Cortex M0+')        \n",
    "\n",
    "#ax2.legend(title='Cortex M0+')\n",
    "ax2.legend(['Hardware', lines[0], lines[1], lines[2], lines[3], 'Software', lines[4], lines[5], lines[6], lines[7], lines[8], lines[9], lines[10], lines[11]],\n",
    "           ['', 'AES-128 CBC Crypto-Accelerator Checkpoint', 'AES-128 CBC Crypto-Accelerator Restore', 'AES-256 CBC Crypto-Accelerator Checkpoint', 'AES-256 CBC Crypto-Accelerator Restore',\n",
    "            ' ','AES-128 CBC wolfSSL Checkpoint','AES-128 CBC wolfSSL Restore', 'AES-256 CBC wolfSSL Checkpoint', 'AES-256 CBC wolfSSL Restore'\n",
    "           'AES-128 CBC mbedTLS Checkpoint', 'AES-128 CBC mbedTLS Restore','AES-256 CBC mbedTLS Checkpoint', 'AES-256 CBC mbedTLS Restore'  ],\n",
    "           handler_map={str: LegendTitle({'fontsize': 11})})\n",
    "# ax2.set_yscale('log')\n",
    "ax2.grid()\n",
    "#fig_time.tight_layout()\n",
    "fig_time.show()"
   ]
  },
  {
   "cell_type": "markdown",
   "metadata": {},
   "source": [
    "## Zoom"
   ]
  },
  {
   "cell_type": "code",
   "execution_count": 24,
   "metadata": {},
   "outputs": [],
   "source": [
    "ax1.set_xlim(5001,5250)\n",
    "# ax1.set_ylim(trustzone_chkp[5001-10]*0.99,trustzone_chkp[5001]*1.05)\n",
    "ax1.set_ylim(460,500)\n",
    "\n",
    "ax1.get_legend().remove()\n",
    "# ax1.legend(handles=[lines[4]]+[lines[6]])"
   ]
  },
  {
   "cell_type": "code",
   "execution_count": 25,
   "metadata": {},
   "outputs": [],
   "source": [
    "ax2.set_xlim(5001,5250)\n",
    "ax2.set_ylim(73,80)\n",
    "\n",
    "ax2.get_legend().remove()\n",
    "# ax2.legend(handles=[lines[4]]+[lines[6]])"
   ]
  },
  {
   "cell_type": "code",
   "execution_count": null,
   "metadata": {},
   "outputs": [],
   "source": []
  },
  {
   "cell_type": "code",
   "execution_count": null,
   "metadata": {},
   "outputs": [],
   "source": []
  },
  {
   "cell_type": "code",
   "execution_count": null,
   "metadata": {},
   "outputs": [],
   "source": []
  },
  {
   "cell_type": "code",
   "execution_count": 26,
   "metadata": {},
   "outputs": [
    {
     "ename": "FileNotFoundError",
     "evalue": "[Errno 2] No such file or directory: 'Validation\\\\No_Security_Flash\\\\no_security_flash_write_charge.p'",
     "output_type": "error",
     "traceback": [
      "\u001b[1;31m---------------------------------------------------------------------------\u001b[0m",
      "\u001b[1;31mFileNotFoundError\u001b[0m                         Traceback (most recent call last)",
      "\u001b[1;32m<ipython-input-26-6bcd80f97326>\u001b[0m in \u001b[0;36m<module>\u001b[1;34m\u001b[0m\n\u001b[1;32m----> 1\u001b[1;33m \u001b[0mtz_flash_write_charge\u001b[0m \u001b[1;33m=\u001b[0m \u001b[0mpickle\u001b[0m\u001b[1;33m.\u001b[0m\u001b[0mload\u001b[0m\u001b[1;33m(\u001b[0m\u001b[0mopen\u001b[0m\u001b[1;33m(\u001b[0m\u001b[0mpath\u001b[0m\u001b[1;33m.\u001b[0m\u001b[0mjoin\u001b[0m\u001b[1;33m(\u001b[0m\u001b[1;34m\"Validation\"\u001b[0m\u001b[1;33m,\u001b[0m \u001b[1;34m\"No_Security_Flash\"\u001b[0m\u001b[1;33m,\u001b[0m \u001b[1;34m\"no_security_flash_write_charge.p\"\u001b[0m\u001b[1;33m)\u001b[0m\u001b[1;33m,\u001b[0m \u001b[1;34m\"rb\"\u001b[0m\u001b[1;33m)\u001b[0m\u001b[1;33m)\u001b[0m\u001b[1;33m\u001b[0m\u001b[1;33m\u001b[0m\u001b[0m\n\u001b[0m\u001b[0;32m      2\u001b[0m \u001b[0mtz_flash_read_charge\u001b[0m \u001b[1;33m=\u001b[0m \u001b[0mpickle\u001b[0m\u001b[1;33m.\u001b[0m\u001b[0mload\u001b[0m\u001b[1;33m(\u001b[0m\u001b[0mopen\u001b[0m\u001b[1;33m(\u001b[0m\u001b[0mpath\u001b[0m\u001b[1;33m.\u001b[0m\u001b[0mjoin\u001b[0m\u001b[1;33m(\u001b[0m\u001b[1;34m\"Validation\"\u001b[0m\u001b[1;33m,\u001b[0m \u001b[1;34m\"No_Security_Flash\"\u001b[0m\u001b[1;33m,\u001b[0m \u001b[1;34m\"no_security_flash_read_charge.p\"\u001b[0m\u001b[1;33m)\u001b[0m\u001b[1;33m,\u001b[0m \u001b[1;34m\"rb\"\u001b[0m\u001b[1;33m)\u001b[0m\u001b[1;33m)\u001b[0m\u001b[1;33m\u001b[0m\u001b[1;33m\u001b[0m\u001b[0m\n\u001b[0;32m      3\u001b[0m \u001b[0mtz_flash_write_time\u001b[0m \u001b[1;33m=\u001b[0m \u001b[0mpickle\u001b[0m\u001b[1;33m.\u001b[0m\u001b[0mload\u001b[0m\u001b[1;33m(\u001b[0m\u001b[0mopen\u001b[0m\u001b[1;33m(\u001b[0m\u001b[0mpath\u001b[0m\u001b[1;33m.\u001b[0m\u001b[0mjoin\u001b[0m\u001b[1;33m(\u001b[0m\u001b[1;34m\"Validation\"\u001b[0m\u001b[1;33m,\u001b[0m \u001b[1;34m\"No_Security_Flash\"\u001b[0m\u001b[1;33m,\u001b[0m \u001b[1;34m\"no_security_flash_write_time.p\"\u001b[0m\u001b[1;33m)\u001b[0m\u001b[1;33m,\u001b[0m \u001b[1;34m\"rb\"\u001b[0m\u001b[1;33m)\u001b[0m\u001b[1;33m)\u001b[0m\u001b[1;33m\u001b[0m\u001b[1;33m\u001b[0m\u001b[0m\n\u001b[0;32m      4\u001b[0m \u001b[0mtz_flash_read_time\u001b[0m \u001b[1;33m=\u001b[0m \u001b[0mpickle\u001b[0m\u001b[1;33m.\u001b[0m\u001b[0mload\u001b[0m\u001b[1;33m(\u001b[0m\u001b[0mopen\u001b[0m\u001b[1;33m(\u001b[0m\u001b[0mpath\u001b[0m\u001b[1;33m.\u001b[0m\u001b[0mjoin\u001b[0m\u001b[1;33m(\u001b[0m\u001b[1;34m\"Validation\"\u001b[0m\u001b[1;33m,\u001b[0m \u001b[1;34m\"No_Security_Flash\"\u001b[0m\u001b[1;33m,\u001b[0m \u001b[1;34m\"no_security_flash_read_time.p\"\u001b[0m\u001b[1;33m)\u001b[0m\u001b[1;33m,\u001b[0m \u001b[1;34m\"rb\"\u001b[0m\u001b[1;33m)\u001b[0m\u001b[1;33m)\u001b[0m\u001b[1;33m\u001b[0m\u001b[1;33m\u001b[0m\u001b[0m\n\u001b[0;32m      5\u001b[0m \u001b[0mtz_no_security\u001b[0m \u001b[1;33m=\u001b[0m \u001b[1;33m[\u001b[0m\u001b[0mtz_flash_write_charge\u001b[0m\u001b[1;33m,\u001b[0m \u001b[0mtz_flash_read_charge\u001b[0m\u001b[1;33m,\u001b[0m \u001b[0mtz_flash_write_time\u001b[0m\u001b[1;33m,\u001b[0m \u001b[0mtz_flash_read_time\u001b[0m\u001b[1;33m]\u001b[0m\u001b[1;33m\u001b[0m\u001b[1;33m\u001b[0m\u001b[0m\n",
      "\u001b[1;31mFileNotFoundError\u001b[0m: [Errno 2] No such file or directory: 'Validation\\\\No_Security_Flash\\\\no_security_flash_write_charge.p'"
     ]
    }
   ],
   "source": [
    "tz_flash_write_charge = pickle.load(open(path.join(\"Validation\", \"No_Security_Flash\", \"no_security_flash_write_charge.p\"), \"rb\"))\n",
    "tz_flash_read_charge = pickle.load(open(path.join(\"Validation\", \"No_Security_Flash\", \"no_security_flash_read_charge.p\"), \"rb\"))\n",
    "tz_flash_write_time = pickle.load(open(path.join(\"Validation\", \"No_Security_Flash\", \"no_security_flash_write_time.p\"), \"rb\"))\n",
    "tz_flash_read_time = pickle.load(open(path.join(\"Validation\", \"No_Security_Flash\", \"no_security_flash_read_time.p\"), \"rb\"))\n",
    "tz_no_security = [tz_flash_write_charge, tz_flash_read_charge, tz_flash_write_time, tz_flash_read_time]\n",
    "for i in tz_no_security:\n",
    "    print(len(i))\n",
    "    \n",
    "tz_no_security_chkp = []\n",
    "tz_no_security_rest = []\n",
    "tz_no_security_x = []\n",
    "for i in range(0, min_num):\n",
    "    tz_no_security_x.append(i+1)\n",
    "    tz_no_security_chkp.append(tz_flash_write_charge[i] * voltage * j_scale)\n",
    "    tz_no_security_rest.append(tz_flash_read_charge[i] * voltage * j_scale)"
   ]
  },
  {
   "cell_type": "code",
   "execution_count": 27,
   "metadata": {},
   "outputs": [],
   "source": [
    "fig_comp = plt.figure(figsize=(6, 4))\n",
    "fig_comp.canvas.set_window_title(\"Analysis Compare\")"
   ]
  },
  {
   "cell_type": "code",
   "execution_count": 28,
   "metadata": {},
   "outputs": [
    {
     "data": {
      "text/plain": [
       "Text(0, 0.5, 'Energy [$\\\\mu$J]')"
      ]
     },
     "execution_count": 28,
     "metadata": {},
     "output_type": "execute_result"
    }
   ],
   "source": [
    "fig_comp.clf()\n",
    "ax1 = fig_comp.add_subplot(1, 1, 1)\n",
    "ax1.set_xlabel('Checkpoint Size [Bytes]')\n",
    "ax1.set_ylabel('Energy [$\\mu$J]') # $\\mu$"
   ]
  },
  {
   "cell_type": "code",
   "execution_count": 29,
   "metadata": {},
   "outputs": [
    {
     "ename": "NameError",
     "evalue": "name 'tz_no_security_x' is not defined",
     "output_type": "error",
     "traceback": [
      "\u001b[1;31m---------------------------------------------------------------------------\u001b[0m",
      "\u001b[1;31mNameError\u001b[0m                                 Traceback (most recent call last)",
      "\u001b[1;32m<ipython-input-29-ff72dd6662a3>\u001b[0m in \u001b[0;36m<module>\u001b[1;34m\u001b[0m\n\u001b[0;32m      1\u001b[0m \u001b[0mlines\u001b[0m \u001b[1;33m=\u001b[0m \u001b[1;33m[\u001b[0m\u001b[1;33m]\u001b[0m\u001b[1;33m\u001b[0m\u001b[1;33m\u001b[0m\u001b[0m\n\u001b[1;32m----> 2\u001b[1;33m \u001b[0mlines\u001b[0m \u001b[1;33m+=\u001b[0m \u001b[0max1\u001b[0m\u001b[1;33m.\u001b[0m\u001b[0mplot\u001b[0m\u001b[1;33m(\u001b[0m\u001b[0mtz_no_security_x\u001b[0m\u001b[1;33m,\u001b[0m \u001b[0mtz_no_security_chkp\u001b[0m\u001b[1;33m,\u001b[0m \u001b[0mlabel\u001b[0m\u001b[1;33m=\u001b[0m\u001b[1;34m'TZ No Security Checkpoint'\u001b[0m\u001b[1;33m)\u001b[0m\u001b[1;33m\u001b[0m\u001b[1;33m\u001b[0m\u001b[0m\n\u001b[0m\u001b[0;32m      3\u001b[0m \u001b[0mlines\u001b[0m \u001b[1;33m+=\u001b[0m \u001b[0max1\u001b[0m\u001b[1;33m.\u001b[0m\u001b[0mplot\u001b[0m\u001b[1;33m(\u001b[0m\u001b[0mtz_no_security_x\u001b[0m\u001b[1;33m,\u001b[0m \u001b[0mtz_no_security_rest\u001b[0m\u001b[1;33m,\u001b[0m \u001b[0mlabel\u001b[0m\u001b[1;33m=\u001b[0m\u001b[1;34m'TZ No Security Restore'\u001b[0m\u001b[1;33m)\u001b[0m\u001b[1;33m\u001b[0m\u001b[1;33m\u001b[0m\u001b[0m\n\u001b[0;32m      4\u001b[0m \u001b[0mlines\u001b[0m \u001b[1;33m+=\u001b[0m \u001b[0max1\u001b[0m\u001b[1;33m.\u001b[0m\u001b[0mplot\u001b[0m\u001b[1;33m(\u001b[0m\u001b[0mno_security_x\u001b[0m\u001b[1;33m,\u001b[0m \u001b[0mno_security_chkp\u001b[0m\u001b[1;33m,\u001b[0m \u001b[0mlabel\u001b[0m\u001b[1;33m=\u001b[0m\u001b[1;34m'No Security Checkpoint'\u001b[0m\u001b[1;33m)\u001b[0m\u001b[1;33m\u001b[0m\u001b[1;33m\u001b[0m\u001b[0m\n\u001b[0;32m      5\u001b[0m \u001b[0mlines\u001b[0m \u001b[1;33m+=\u001b[0m \u001b[0max1\u001b[0m\u001b[1;33m.\u001b[0m\u001b[0mplot\u001b[0m\u001b[1;33m(\u001b[0m\u001b[0mno_security_x\u001b[0m\u001b[1;33m,\u001b[0m \u001b[0mno_security_rest\u001b[0m\u001b[1;33m,\u001b[0m \u001b[0mlabel\u001b[0m\u001b[1;33m=\u001b[0m\u001b[1;34m'No Security Restore'\u001b[0m\u001b[1;33m)\u001b[0m\u001b[1;33m\u001b[0m\u001b[1;33m\u001b[0m\u001b[0m\n",
      "\u001b[1;31mNameError\u001b[0m: name 'tz_no_security_x' is not defined"
     ]
    }
   ],
   "source": [
    "lines = []\n",
    "lines += ax1.plot(tz_no_security_x, tz_no_security_chkp, label='TZ No Security Checkpoint')\n",
    "lines += ax1.plot(tz_no_security_x, tz_no_security_rest, label='TZ No Security Restore')\n",
    "lines += ax1.plot(no_security_x, no_security_chkp, label='No Security Checkpoint')\n",
    "lines += ax1.plot(no_security_x, no_security_rest, label='No Security Restore')\n",
    "for i in range(len(lines)):\n",
    "    lines[i].set_markevery(everies[i+2])\n",
    "    lines[i].set_linestyle(linestyles[i])\n",
    "    lines[i].set_marker(markers[i])\n",
    "#     lines[i].set_color(colors[i])\n",
    "\n",
    "ax1.legend(handles=lines)\n",
    "# ax1.set_yscale('log')\n",
    "ax1.grid()\n",
    "fig_comp.tight_layout()\n",
    "fig_comp.show()"
   ]
  },
  {
   "cell_type": "code",
   "execution_count": null,
   "metadata": {},
   "outputs": [],
   "source": []
  },
  {
   "cell_type": "code",
   "execution_count": null,
   "metadata": {},
   "outputs": [],
   "source": []
  },
  {
   "cell_type": "code",
   "execution_count": null,
   "metadata": {},
   "outputs": [],
   "source": []
  },
  {
   "cell_type": "code",
   "execution_count": null,
   "metadata": {},
   "outputs": [],
   "source": []
  },
  {
   "cell_type": "code",
   "execution_count": null,
   "metadata": {},
   "outputs": [],
   "source": []
  },
  {
   "cell_type": "code",
   "execution_count": null,
   "metadata": {},
   "outputs": [],
   "source": []
  },
  {
   "cell_type": "code",
   "execution_count": null,
   "metadata": {},
   "outputs": [],
   "source": []
  },
  {
   "cell_type": "code",
   "execution_count": null,
   "metadata": {},
   "outputs": [],
   "source": []
  },
  {
   "cell_type": "code",
   "execution_count": null,
   "metadata": {},
   "outputs": [],
   "source": []
  },
  {
   "cell_type": "code",
   "execution_count": null,
   "metadata": {},
   "outputs": [],
   "source": []
  },
  {
   "cell_type": "code",
   "execution_count": null,
   "metadata": {},
   "outputs": [],
   "source": []
  },
  {
   "cell_type": "code",
   "execution_count": null,
   "metadata": {},
   "outputs": [],
   "source": []
  }
 ],
 "metadata": {
  "kernelspec": {
   "display_name": "Python 3",
   "language": "python",
   "name": "python3"
  },
  "language_info": {
   "codemirror_mode": {
    "name": "ipython",
    "version": 3
   },
   "file_extension": ".py",
   "mimetype": "text/x-python",
   "name": "python",
   "nbconvert_exporter": "python",
   "pygments_lexer": "ipython3",
   "version": "3.8.1"
  }
 },
 "nbformat": 4,
 "nbformat_minor": 4
}

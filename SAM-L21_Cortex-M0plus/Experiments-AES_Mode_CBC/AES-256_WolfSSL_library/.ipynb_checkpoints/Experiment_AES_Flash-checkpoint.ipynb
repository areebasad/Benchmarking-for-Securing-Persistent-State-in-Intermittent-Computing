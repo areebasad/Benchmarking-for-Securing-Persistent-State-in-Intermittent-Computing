{
 "cells": [
  {
   "cell_type": "markdown",
   "metadata": {},
   "source": [
    "## Import Libraries"
   ]
  },
  {
   "cell_type": "code",
   "execution_count": 8,
   "metadata": {},
   "outputs": [],
   "source": [
    "# %matplotlib ipympl\n",
    "# %matplotlib inline\n",
    "%matplotlib wx"
   ]
  },
  {
   "cell_type": "code",
   "execution_count": 9,
   "metadata": {},
   "outputs": [],
   "source": [
    "import matplotlib.pyplot as plt\n",
    "plt.ion()"
   ]
  },
  {
   "cell_type": "code",
   "execution_count": 10,
   "metadata": {},
   "outputs": [],
   "source": [
    "from pydgilib_extra import *\n",
    "from atprogram import atprogram"
   ]
  },
  {
   "cell_type": "code",
   "execution_count": 11,
   "metadata": {},
   "outputs": [],
   "source": [
    "from os import getcwd, path, pardir\n",
    "import pickle"
   ]
  },
  {
   "cell_type": "markdown",
   "metadata": {},
   "source": [
    "## Compile and program project"
   ]
  },
  {
   "cell_type": "code",
   "execution_count": 12,
   "metadata": {},
   "outputs": [
    {
     "data": {
      "text/plain": [
       "['.', '/', 'AES 128 Crypto Accelerator']"
      ]
     },
     "execution_count": 12,
     "metadata": {},
     "output_type": "execute_result"
    }
   ],
   "source": [
    "project_path = path.curdir + \"/\" + \"AES-256_WolfSSL_library\"\n",
    "project_name =  \"AES-256_WolfSSL_library\"\n",
    "device_name = \"ATSAML21J18B\"\n",
    "project_path"
   ]
  },
  {
   "cell_type": "code",
   "execution_count": 13,
   "metadata": {},
   "outputs": [
    {
     "name": "stdout",
     "output_type": "stream",
     "text": [
      "make: Nothing to be done for 'all'.\n",
      "\n",
      "[DEBUG] Starting execution of \"chiperase\"\n",
      "[DEBUG] Starting process 'C:\\Program Files (x86)\\Atmel\\Studio\\7.0\\atbackend\\atbackend.exe'\n",
      "[DEBUG] Connecting to TCP:127.0.0.1:65326\n",
      "[INFO] Connected to edbg, fw version: 3.25\n",
      "[INFO] Firmware check OK\n",
      "[DEBUG] Command \"chiperase\" finished with return code 0\n",
      "[DEBUG] Starting execution of \"program\"\n",
      "[DEBUG] Memory segment base written at 0x00000000. Size = 0x000043c4.\n",
      "[DEBUG] Memory segment base written at 0x000043c4. Size = 0x00000084.\n",
      "[DEBUG] Command \"program\" finished with return code 0\n",
      "[DEBUG] Starting execution of \"info\"\n",
      "[ERROR] Error in TCF lockbit format. Missed key Could not get Module LOCKBIT for ATSAML21J18B. (TCF Error code: 131120)\n",
      "[DEBUG] Command \"info\" finished with return code 0\n",
      "[DEBUG] Exit successfully.\n",
      "Firmware check OK\n",
      "Chiperase completed successfully\n",
      "Programming completed successfully.\n",
      "Tool edbg has firmware version: 03.25\n",
      "Target voltage: 3.31 V\n",
      "\n",
      "Device information:\n",
      "\n",
      "Name:       ATSAML21J18B  \n",
      "JtagId:     N/A           \n",
      "Revision:   C             \n",
      "Chip ID:    0x1081020f\n",
      "CPU arch.:  CORTEX-M0PLUS \n",
      "Series:     SAML21\n",
      "\n",
      "Memory Information:\n",
      "\n",
      "Address Space    StartAddress            Size\n",
      "\n",
      "base                      0x0     0x100000000\n",
      "  FLASH                   0x0         0x40000\n",
      "  CAL                0x800000             0x8\n",
      "  LOCKBIT            0x802000             0x4\n",
      "  AUX0               0x804000           0x100\n",
      "  AUX1               0x806000           0x100\n",
      "  RWW                0x400000          0x2000\n",
      "  HSRAM            0x20000000          0x8000\n",
      "  LPRAM            0x30000000          0x2000\n",
      "  HPB0             0x40000000          0x4000\n",
      "  HPB1             0x41000000         0x10000\n",
      "  HPB2             0x42000000          0x8000\n",
      "  HPB3             0x43000000          0x2000\n",
      "  HPB4             0x44000000          0x1000\n",
      "  PPB              0xe0000000        0x100000\n",
      "  SCS              0xe000e000          0x1000\n",
      "  PERIPHERALS      0x40000000      0x20000000\n",
      "\n",
      "fuses                     0x0      0x20000000\n",
      "\n",
      "OTP5_WORD_0 (0b01110111011001010010110110111111 <-> 0x77652dbf):\n",
      "   USB_TRIM      0x6\n",
      "   USB_TRANSP    0x19\n",
      "   USB_TRANSN    0x9\n",
      "   ADC_BIASCOMP  0x7\n",
      "   ADC_BIASREFBUF 0x7\n",
      "\n",
      "TEMP_LOG_WORD_1 (0b11010101010010111000100111111001 <-> 0xd54b89f9):\n",
      "   HOT_ADC_VAL   0xd54\n",
      "   ROOM_ADC_VAL  0xb89\n",
      "   HOT_INT1V_VAL 0xf9\n",
      "\n",
      "TEMP_LOG_WORD_0 (0b11111011100101010100100000011101 <-> 0xfb95481d):\n",
      "   ROOM_INT1V_VAL 0xfb\n",
      "   HOT_TEMP_VAL_DEC 0x9\n",
      "   HOT_TEMP_VAL_INT 0x54\n",
      "   ROOM_TEMP_VAL_DEC 0x8\n",
      "   ROOM_TEMP_VAL_INT 0x1d\n",
      "\n",
      "USER_WORD_1 (0b11111111111111111111100010111011 <-> 0xfffff8bb):\n",
      "   NVMCTRL_REGION_LOCKS 0xffff\n",
      "   BOD12_HYST    0\n",
      "   BOD33_HYST    0\n",
      "   WDT_WEN       0\n",
      "   WDT_EWOFFSET  0xb\n",
      "   WDT_WINDOW    0xb\n",
      "\n",
      "USER_WORD_0 (0b10110001000111101000011011111111 <-> 0xb11e86ff):\n",
      "   WDT_PER       0xb\n",
      "   WDT_ALWAYSON  0\n",
      "   WDT_ENABLE    0\n",
      "   BOD12_DIS     0\n",
      "   BOD33_ACTION  0x1\n",
      "   BOD33_DIS     0\n",
      "   BOD33USERLEVEL 0x6\n",
      "   NVMCTRL_EEPROM_SIZE 0x7\n",
      "   NVMCTRL_BOOTPROT 0x7\n",
      "\n",
      "\n"
     ]
    },
    {
     "data": {
      "text/plain": [
       "0"
      ]
     },
     "execution_count": 13,
     "metadata": {},
     "output_type": "execute_result"
    }
   ],
   "source": [
    "atprogram.atprogram(project_name, device_name = device_name ,verbose=3)"
   ]
  },
  {
   "cell_type": "code",
   "execution_count": 14,
   "metadata": {},
   "outputs": [],
   "source": [
    "#atprogram(path.abspath(path.join(*project_path)), verbose=2)"
   ]
  },
  {
   "cell_type": "code",
   "execution_count": 15,
   "metadata": {},
   "outputs": [
    {
     "name": "stdout",
     "output_type": "stream",
     "text": [
      "{'text': 17348, 'data': 132, 'bss': 8292, 'dec': 25772, 'hex': 25772, 'filename': 'AES-256_WolfSSL_library.elf'}\n"
     ]
    },
    {
     "data": {
      "text/plain": [
       "{'text': 17348,\n",
       " 'data': 132,\n",
       " 'bss': 8292,\n",
       " 'dec': 25772,\n",
       " 'hex': 25772,\n",
       " 'filename': 'AES-256_WolfSSL_library.elf'}"
      ]
     },
     "execution_count": 15,
     "metadata": {},
     "output_type": "execute_result"
    }
   ],
   "source": [
    "atprogram.get_project_size(project_name, device_name = device_name, verbose=2)"
   ]
  },
  {
   "cell_type": "code",
   "execution_count": null,
   "metadata": {},
   "outputs": [],
   "source": []
  },
  {
   "cell_type": "markdown",
   "metadata": {},
   "source": [
    "## Data Logging"
   ]
  },
  {
   "cell_type": "code",
   "execution_count": 16,
   "metadata": {},
   "outputs": [],
   "source": [
    "live_plot = False"
   ]
  },
  {
   "cell_type": "markdown",
   "metadata": {},
   "source": [
    "Create a figure for the plot."
   ]
  },
  {
   "cell_type": "code",
   "execution_count": 17,
   "metadata": {},
   "outputs": [],
   "source": [
    "if live_plot:\n",
    "    fig = plt.figure(figsize=(10, 6))\n",
    "    fig.show()"
   ]
  },
  {
   "cell_type": "markdown",
   "metadata": {},
   "source": [
    "Create the configuration dictionary for `DGILibExtra`."
   ]
  },
  {
   "cell_type": "code",
   "execution_count": 18,
   "metadata": {},
   "outputs": [],
   "source": [
    "config_dict = {\n",
    "    \"loggers\": [LOGGER_OBJECT, LOGGER_CSV],\n",
    "    \"file_name_base\": \"experiment_aes_flash\"\n",
    "}\n",
    "config_dict_plot = {\n",
    "    \"loggers\": [LOGGER_OBJECT, LOGGER_PLOT, LOGGER_CSV],\n",
    "    \"plot_pins\": [False, False, True, True],\n",
    "    \"plot_pins_method\": \"line\",\n",
    "    \"plot_xmax\": 5,\n",
    "    \"window_title\": \"Experiment AES-128 Flash\",\n",
    "}"
   ]
  },
  {
   "cell_type": "markdown",
   "metadata": {},
   "source": [
    "Stop criteria to pass to the logger:"
   ]
  },
  {
   "cell_type": "code",
   "execution_count": 19,
   "metadata": {},
   "outputs": [],
   "source": [
    "def stop_fn(logger_data):\n",
    "    return all(logger_data.gpio.values[-1])"
   ]
  },
  {
   "cell_type": "code",
   "execution_count": 20,
   "metadata": {},
   "outputs": [],
   "source": [
    "#with DGILib() as dgilib:\n",
    "#     dgilib.get_major_version()"
   ]
  },
  {
   "cell_type": "markdown",
   "metadata": {},
   "source": [
    "Perform the measurement."
   ]
  },
  {
   "cell_type": "code",
   "execution_count": 21,
   "metadata": {},
   "outputs": [
    {
     "name": "stdout",
     "output_type": "stream",
     "text": [
      "1\n"
     ]
    }
   ],
   "source": [
    "data = []\n",
    "cd = config_dict.copy()\n",
    "if live_plot:\n",
    "    fig.clf()\n",
    "    for ax in fig.get_axes():\n",
    "        ax.cla()\n",
    "    \n",
    "    cd.update(config_dict_plot)\n",
    "    cd[\"fig\"] = fig\n",
    "    \n",
    "with DGILibExtra(**cd) as dgilib:\n",
    "    dgilib.device_reset()\n",
    "    dgilib.logger.log(1000,stop_fn)\n",
    "    data = dgilib.data"
   ]
  },
  {
   "cell_type": "code",
   "execution_count": 22,
   "metadata": {},
   "outputs": [
    {
     "data": {
      "text/plain": [
       "{48: 6149, 256: 2845000}"
      ]
     },
     "execution_count": 22,
     "metadata": {},
     "output_type": "execute_result"
    }
   ],
   "source": [
    "data.length()"
   ]
  },
  {
   "cell_type": "code",
   "execution_count": 23,
   "metadata": {},
   "outputs": [
    {
     "name": "stdout",
     "output_type": "stream",
     "text": [
      "Interfaces:\n",
      "\t  48:   gpio,    samples:    6149\n",
      "\t 256:   power,   samples: 2845000\n",
      "\n"
     ]
    }
   ],
   "source": [
    "print(data)"
   ]
  },
  {
   "cell_type": "markdown",
   "metadata": {},
   "source": [
    "# Store Data"
   ]
  },
  {
   "cell_type": "code",
   "execution_count": 24,
   "metadata": {},
   "outputs": [],
   "source": [
    "import pickle"
   ]
  },
  {
   "cell_type": "code",
   "execution_count": 25,
   "metadata": {},
   "outputs": [],
   "source": [
    "pickle.dump(data, open(\"aes_flash_logger_data.p\", \"wb\"))"
   ]
  },
  {
   "cell_type": "markdown",
   "metadata": {},
   "source": [
    "# Load Data"
   ]
  },
  {
   "cell_type": "code",
   "execution_count": 26,
   "metadata": {},
   "outputs": [],
   "source": [
    "data = pickle.load(open(\"aes_flash_logger_data.p\", \"rb\"))"
   ]
  },
  {
   "cell_type": "code",
   "execution_count": 27,
   "metadata": {},
   "outputs": [],
   "source": [
    "#iteration = 0\n",
    "#name = \"AES-128_Flash\"\n",
    "#data = pickle.load(open(path.join(path.pardir, path.pardir, f\"{name}_{iteration}.p\"), \"rb\"))"
   ]
  },
  {
   "cell_type": "markdown",
   "metadata": {},
   "source": [
    "## Analysis"
   ]
  },
  {
   "cell_type": "markdown",
   "metadata": {},
   "source": [
    "Create Stop Function to stop parsing the data when all pins are high."
   ]
  },
  {
   "cell_type": "code",
   "execution_count": 28,
   "metadata": {},
   "outputs": [],
   "source": [
    "def stop_function(pin_values):\n",
    "    return all(pin_values)"
   ]
  },
  {
   "cell_type": "markdown",
   "metadata": {},
   "source": [
    "Parse the data."
   ]
  },
  {
   "cell_type": "code",
   "execution_count": 29,
   "metadata": {},
   "outputs": [],
   "source": [
    "aes_charge, aes_time = power_and_time_per_pulse(data, 2, stop_function=stop_function)"
   ]
  },
  {
   "cell_type": "code",
   "execution_count": 30,
   "metadata": {},
   "outputs": [],
   "source": [
    "flash_charge, flash_time = power_and_time_per_pulse(data, 3, stop_function=stop_function)"
   ]
  },
  {
   "cell_type": "code",
   "execution_count": 31,
   "metadata": {},
   "outputs": [
    {
     "name": "stdout",
     "output_type": "stream",
     "text": [
      "768 768 768 768\n"
     ]
    }
   ],
   "source": [
    "print(len(aes_charge), len(aes_time), len(flash_charge), len(flash_time))\n",
    "# cutoff = min(len(aes_charge), len(aes_time), len(flash_charge), len(flash_time))\n",
    "# aes_charge = aes_charge[:cutoff]\n",
    "# aes_time = aes_time[:cutoff]\n",
    "# flash_charge = flash_charge[:cutoff]\n",
    "# flash_time = flash_time[:cutoff]"
   ]
  },
  {
   "cell_type": "code",
   "execution_count": 32,
   "metadata": {},
   "outputs": [],
   "source": [
    "# length = len(aes_charge)\n",
    "# assert length == len(aes_time)\n",
    "# assert length == len(flash_charge)\n",
    "# assert length == len(flash_time)\n",
    "# print(length)"
   ]
  },
  {
   "cell_type": "code",
   "execution_count": 33,
   "metadata": {},
   "outputs": [],
   "source": [
    "aes_encrypt_charge = aes_charge[0::2]\n",
    "aes_decrypt_charge = aes_charge[1::2]\n",
    "aes_encrypt_time = aes_time[0::2]\n",
    "aes_decrypt_time = aes_time[1::2]"
   ]
  },
  {
   "cell_type": "code",
   "execution_count": 34,
   "metadata": {},
   "outputs": [],
   "source": [
    "aes_flash_write_charge = flash_charge[0::2]\n",
    "aes_flash_read_charge = flash_charge[1::2]\n",
    "aes_flash_write_time = flash_time[0::2]\n",
    "aes_flash_read_time = flash_time[1::2]"
   ]
  },
  {
   "cell_type": "code",
   "execution_count": 35,
   "metadata": {},
   "outputs": [
    {
     "data": {
      "text/plain": [
       "(384, 384, 384, 384, 384, 384, 384, 384)"
      ]
     },
     "execution_count": 35,
     "metadata": {},
     "output_type": "execute_result"
    }
   ],
   "source": [
    "len(aes_encrypt_charge), len(aes_decrypt_charge), len(aes_encrypt_time), len(aes_decrypt_time), len(aes_flash_write_charge), len(aes_flash_read_charge), len(aes_flash_write_time), len(aes_flash_read_time)"
   ]
  },
  {
   "cell_type": "code",
   "execution_count": 36,
   "metadata": {},
   "outputs": [],
   "source": [
    "drop = 0\n",
    "cutoff = min(len(aes_encrypt_charge), len(aes_decrypt_charge), len(aes_encrypt_time), len(aes_decrypt_time), len(aes_flash_write_charge), len(aes_flash_read_charge), len(aes_flash_write_time), len(aes_flash_read_time)) - drop\n",
    "aes_encrypt_charge = aes_encrypt_charge[:cutoff]\n",
    "aes_decrypt_charge = aes_decrypt_charge[:cutoff]\n",
    "aes_encrypt_time = aes_encrypt_time[:cutoff]\n",
    "aes_decrypt_time = aes_decrypt_time[:cutoff]\n",
    "aes_flash_write_charge = aes_flash_write_charge[:cutoff]\n",
    "aes_flash_read_charge = aes_flash_read_charge[:cutoff]\n",
    "aes_flash_write_time = aes_flash_write_time[:cutoff]\n",
    "aes_flash_read_time = aes_flash_read_time[:cutoff]"
   ]
  },
  {
   "cell_type": "code",
   "execution_count": 37,
   "metadata": {},
   "outputs": [
    {
     "name": "stdout",
     "output_type": "stream",
     "text": [
      "384\n"
     ]
    }
   ],
   "source": [
    "length = len(aes_encrypt_charge)\n",
    "assert length == len(aes_decrypt_charge)\n",
    "assert length == len(aes_encrypt_time)\n",
    "assert length == len(aes_decrypt_time)\n",
    "assert length == len(aes_flash_write_charge)\n",
    "assert length == len(aes_flash_read_charge)\n",
    "assert length == len(aes_flash_write_time)\n",
    "assert length == len(aes_flash_read_time)\n",
    "print(length)"
   ]
  },
  {
   "cell_type": "markdown",
   "metadata": {},
   "source": [
    "# Convert to Joule"
   ]
  },
  {
   "cell_type": "code",
   "execution_count": 38,
   "metadata": {},
   "outputs": [],
   "source": [
    "voltage = 3.31\n",
    "j_scale = 1e3 # m\n",
    "t_scale = 1e3 # m\n",
    "model_j_scale = 1e6 # n\n",
    "model_t_scale = 1e3 # u\n",
    "\n",
    "experiment_name = project_name"
   ]
  },
  {
   "cell_type": "code",
   "execution_count": 39,
   "metadata": {},
   "outputs": [],
   "source": [
    "aes_encrypt_energy = aes_encrypt_charge[:cutoff]\n",
    "aes_flash_write_energy = aes_flash_write_charge[:cutoff]\n",
    "aes_flash_read_energy = aes_flash_read_charge[:cutoff]\n",
    "aes_decrypt_energy = aes_decrypt_charge[:cutoff]\n",
    "aes_encrypt_time_s = aes_encrypt_time[:cutoff]\n",
    "aes_flash_write_time_s = aes_flash_write_time[:cutoff]\n",
    "aes_flash_read_time_s = aes_flash_read_time[:cutoff]\n",
    "aes_decrypt_time_s = aes_decrypt_time[:cutoff]\n",
    "\n",
    "for i in range(len(aes_encrypt_energy)):\n",
    "    aes_encrypt_energy[i] = aes_encrypt_energy[i] * voltage * j_scale\n",
    "for i in range(len(aes_flash_write_energy)):\n",
    "    aes_flash_write_energy[i] = aes_flash_write_energy[i] * voltage * j_scale\n",
    "for i in range(len(aes_flash_read_energy)):\n",
    "    aes_flash_read_energy[i] = aes_flash_read_energy[i] * voltage * j_scale\n",
    "for i in range(len(aes_decrypt_energy)):\n",
    "    aes_decrypt_energy[i] = aes_decrypt_energy[i] * voltage * j_scale\n",
    "    \n",
    "for i in range(len(aes_encrypt_time_s)):\n",
    "    aes_encrypt_time_s[i] = aes_encrypt_time_s[i] * t_scale\n",
    "for i in range(len(aes_flash_write_time_s)):\n",
    "    aes_flash_write_time_s[i] = aes_flash_write_time_s[i] * t_scale\n",
    "for i in range(len(aes_flash_read_time_s)):\n",
    "    aes_flash_read_time_s[i] = aes_flash_read_time_s[i] * t_scale\n",
    "for i in range(len(aes_decrypt_time_s)):\n",
    "    aes_decrypt_time_s[i] = aes_decrypt_time_s[i] * t_scale"
   ]
  },
  {
   "cell_type": "code",
   "execution_count": 40,
   "metadata": {},
   "outputs": [
    {
     "name": "stdout",
     "output_type": "stream",
     "text": [
      "MAX_NUM_BYTES: 6144\n"
     ]
    }
   ],
   "source": [
    "MBEDTLS_AES_BLOCK_SIZE = 16\n",
    "STEP_SIZE = MBEDTLS_AES_BLOCK_SIZE\n",
    "MIN_NUM_BYTES = STEP_SIZE\n",
    "num_bytes = range(MIN_NUM_BYTES, MIN_NUM_BYTES + STEP_SIZE * len(aes_encrypt_energy), STEP_SIZE)\n",
    "print(f\"MAX_NUM_BYTES: {num_bytes[-1]}\")"
   ]
  },
  {
   "cell_type": "code",
   "execution_count": 41,
   "metadata": {},
   "outputs": [],
   "source": [
    "from lmfit import Model\n",
    "\n",
    "def line(x, slope, intercept):\n",
    "    \"\"\"a line\"\"\"\n",
    "    return [slope*i + intercept for i in x]\n",
    "\n",
    "mod = Model(line)\n",
    "pars = mod.make_params(slope=0, intercept=1)\n",
    "# pars['intercept'].set(min=0)"
   ]
  },
  {
   "cell_type": "code",
   "execution_count": 42,
   "metadata": {},
   "outputs": [
    {
     "name": "stdout",
     "output_type": "stream",
     "text": [
      "[[Model]]\n",
      "    Model(line)\n",
      "[[Fit Statistics]]\n",
      "    # fitting method   = leastsq\n",
      "    # function evals   = 7\n",
      "    # data points      = 384\n",
      "    # variables        = 2\n",
      "    chi-square         = 1.3818e-04\n",
      "    reduced chi-square = 3.6173e-07\n",
      "    Akaike info crit   = -5693.63215\n",
      "    Bayesian info crit = -5685.73086\n",
      "[[Variables]]\n",
      "    slope:      1.4040e-04 +/- 1.7305e-08 (0.01%) (init = 0)\n",
      "    intercept:  6.0425e-04 +/- 6.1504e-05 (10.18%) (init = 1)\n",
      "[[Correlations]] (unreported correlations are < 0.100)\n",
      "    C(slope, intercept) = -0.867\n",
      "[[Model]]\n",
      "    Model(line)\n",
      "[[Fit Statistics]]\n",
      "    # fitting method   = leastsq\n",
      "    # function evals   = 6\n",
      "    # data points      = 384\n",
      "    # variables        = 2\n",
      "    chi-square         = 0.01537604\n",
      "    reduced chi-square = 4.0251e-05\n",
      "    Akaike info crit   = -3884.22565\n",
      "    Bayesian info crit = -3876.32437\n",
      "[[Variables]]\n",
      "    slope:      1.1327e-04 +/- 1.8254e-07 (0.16%) (init = 0)\n",
      "    intercept:  0.01390733 +/- 6.4879e-04 (4.67%) (init = 1)\n",
      "[[Correlations]] (unreported correlations are < 0.100)\n",
      "    C(slope, intercept) = -0.867\n",
      "[[Model]]\n",
      "    Model(line)\n",
      "[[Fit Statistics]]\n",
      "    # fitting method   = leastsq\n",
      "    # function evals   = 6\n",
      "    # data points      = 384\n",
      "    # variables        = 2\n",
      "    chi-square         = 1.0771e-06\n",
      "    reduced chi-square = 2.8198e-09\n",
      "    Akaike info crit   = -7557.66576\n",
      "    Bayesian info crit = -7549.76448\n",
      "[[Variables]]\n",
      "    slope:      3.7200e-06 +/- 1.5278e-09 (0.04%) (init = 0)\n",
      "    intercept:  1.4867e-05 +/- 5.4302e-06 (36.53%) (init = 1)\n",
      "[[Correlations]] (unreported correlations are < 0.100)\n",
      "    C(slope, intercept) = -0.867\n",
      "[[Model]]\n",
      "    Model(line)\n",
      "[[Fit Statistics]]\n",
      "    # fitting method   = leastsq\n",
      "    # function evals   = 7\n",
      "    # data points      = 384\n",
      "    # variables        = 2\n",
      "    chi-square         = 7.1131e-04\n",
      "    reduced chi-square = 1.8621e-06\n",
      "    Akaike info crit   = -5064.43256\n",
      "    Bayesian info crit = -5056.53128\n",
      "[[Variables]]\n",
      "    slope:      1.3985e-04 +/- 3.9262e-08 (0.03%) (init = 0)\n",
      "    intercept:  5.1671e-04 +/- 1.3954e-04 (27.01%) (init = 1)\n",
      "[[Correlations]] (unreported correlations are < 0.100)\n",
      "    C(slope, intercept) = -0.867\n",
      "[[Model]]\n",
      "    Model(line)\n",
      "[[Fit Statistics]]\n",
      "    # fitting method   = leastsq\n",
      "    # function evals   = 10\n",
      "    # data points      = 384\n",
      "    # variables        = 2\n",
      "    chi-square         = 0.42695526\n",
      "    reduced chi-square = 0.00111768\n",
      "    Akaike info crit   = -2607.85994\n",
      "    Bayesian info crit = -2599.95866\n",
      "[[Variables]]\n",
      "    slope:      0.06288969 +/- 9.6187e-07 (0.00%) (init = 0)\n",
      "    intercept:  0.01545986 +/- 0.00341866 (22.11%) (init = 1)\n",
      "[[Correlations]] (unreported correlations are < 0.100)\n",
      "    C(slope, intercept) = -0.867\n",
      "[[Model]]\n",
      "    Model(line)\n",
      "[[Fit Statistics]]\n",
      "    # fitting method   = leastsq\n",
      "    # function evals   = 6\n",
      "    # data points      = 384\n",
      "    # variables        = 2\n",
      "    chi-square         = 396.546658\n",
      "    reduced chi-square = 1.03808026\n",
      "    Akaike info crit   = 16.3460436\n",
      "    Bayesian info crit = 24.2473287\n",
      "[[Variables]]\n",
      "    slope:      0.02088658 +/- 2.9315e-05 (0.14%) (init = 0)\n",
      "    intercept:  2.12728832 +/- 0.10419062 (4.90%) (init = 1)\n",
      "[[Correlations]] (unreported correlations are < 0.100)\n",
      "    C(slope, intercept) = -0.867\n",
      "[[Model]]\n",
      "    Model(line)\n",
      "[[Fit Statistics]]\n",
      "    # fitting method   = leastsq\n",
      "    # function evals   = 6\n",
      "    # data points      = 384\n",
      "    # variables        = 2\n",
      "    chi-square         = 0.24668354\n",
      "    reduced chi-square = 6.4577e-04\n",
      "    Akaike info crit   = -2818.51195\n",
      "    Bayesian info crit = -2810.61067\n",
      "[[Variables]]\n",
      "    slope:      0.00212459 +/- 7.3116e-07 (0.03%) (init = 0)\n",
      "    intercept:  0.02585838 +/- 0.00259867 (10.05%) (init = 1)\n",
      "[[Correlations]] (unreported correlations are < 0.100)\n",
      "    C(slope, intercept) = -0.867\n",
      "[[Model]]\n",
      "    Model(line)\n",
      "[[Fit Statistics]]\n",
      "    # fitting method   = leastsq\n",
      "    # function evals   = 10\n",
      "    # data points      = 384\n",
      "    # variables        = 2\n",
      "    chi-square         = 130.085191\n",
      "    reduced chi-square = 0.34053715\n",
      "    Akaike info crit   = -411.661952\n",
      "    Bayesian info crit = -403.760667\n",
      "[[Variables]]\n",
      "    slope:      0.06264116 +/- 1.6790e-05 (0.03%) (init = 0)\n",
      "    intercept:  0.07876805 +/- 0.05967481 (75.76%) (init = 1)\n",
      "[[Correlations]] (unreported correlations are < 0.100)\n",
      "    C(slope, intercept) = -0.867\n",
      "[[Model]]\n",
      "    Model(line)\n",
      "[[Fit Statistics]]\n",
      "    # fitting method   = leastsq\n",
      "    # function evals   = 7\n",
      "    # data points      = 384\n",
      "    # variables        = 2\n",
      "    chi-square         = 0.01819589\n",
      "    reduced chi-square = 4.7633e-05\n",
      "    Akaike info crit   = -3819.56566\n",
      "    Bayesian info crit = -3811.66437\n",
      "[[Variables]]\n",
      "    slope:      3.9724e-04 +/- 1.9858e-07 (0.05%) (init = 0)\n",
      "    intercept:  0.01504315 +/- 7.0578e-04 (4.69%) (init = 1)\n",
      "[[Correlations]] (unreported correlations are < 0.100)\n",
      "    C(slope, intercept) = -0.867\n",
      "[[Model]]\n",
      "    Model(line)\n",
      "[[Fit Statistics]]\n",
      "    # fitting method   = leastsq\n",
      "    # function evals   = 13\n",
      "    # data points      = 384\n",
      "    # variables        = 2\n",
      "    chi-square         = 572.408353\n",
      "    reduced chi-square = 1.49845119\n",
      "    Akaike info crit   = 157.296674\n",
      "    Bayesian info crit = 165.197959\n",
      "[[Variables]]\n",
      "    slope:      0.14854202 +/- 3.5221e-05 (0.02%) (init = 0)\n",
      "    intercept:  2.24737482 +/- 0.12517988 (5.57%) (init = 1)\n",
      "[[Correlations]] (unreported correlations are < 0.100)\n",
      "    C(slope, intercept) = -0.867\n"
     ]
    }
   ],
   "source": [
    "results = []\n",
    "ylabels = (['Energy [mJ]'] * 2 + ['Time [ms]'] * 2) * 2 + ['Energy [mJ]'] + ['Time [ms]']\n",
    "parameter_names = [\n",
    "    'Encrypt Energy',\n",
    "    'Flash Write Energy',\n",
    "    'Flash Read Energy',\n",
    "    'Decrypt Energy',\n",
    "    'Encrypt Time',\n",
    "    'Flash Write Time',\n",
    "    'Flash Read Time',\n",
    "    'Decrypt Time',\n",
    "    'Total Energy',\n",
    "    'Total Time',\n",
    "]\n",
    "for y in [aes_encrypt_energy, aes_flash_write_energy, aes_flash_read_energy, aes_decrypt_energy, aes_encrypt_time_s, aes_flash_write_time_s, aes_flash_read_time_s, aes_decrypt_time_s,\n",
    "          [e + w + r + d for (e,w,r,d) in zip(aes_encrypt_energy, aes_flash_write_energy, aes_flash_read_energy, aes_decrypt_energy)],\n",
    "          [e + w + r + d for (e,w,r,d) in zip(aes_encrypt_time_s, aes_flash_write_time_s, aes_flash_read_time_s, aes_decrypt_time_s)]]:\n",
    "    result = mod.fit(y, pars, x=num_bytes)\n",
    "    print(result.fit_report())\n",
    "    fig, grid = result.plot(\n",
    "        xlabel='Checkpoint Size [Bytes]',\n",
    "        ylabel=ylabels[len(results)])\n",
    "    fig.tight_layout(rect=(0.05, 0.05, 1, 1))\n",
    "    fig.set_size_inches(5, 4.5, forward=True)\n",
    "    fig.canvas.set_window_title(\n",
    "        f\"Residuals of {experiment_name} {parameter_names[len(results)]}\")\n",
    "    fig.savefig( f\"Residuals of {experiment_name} {parameter_names[len(results)]}\")\n",
    "    fig.show()\n",
    "    results.append(result)"
   ]
  },
  {
   "cell_type": "code",
   "execution_count": 43,
   "metadata": {},
   "outputs": [],
   "source": [
    "fig2 = plt.figure(figsize=(8, 6))\n",
    "fig2.canvas.set_window_title(f\"Analysis {experiment_name}\")"
   ]
  },
  {
   "cell_type": "code",
   "execution_count": 44,
   "metadata": {},
   "outputs": [],
   "source": [
    "charge_color = 'r'\n",
    "time_color = 'b'"
   ]
  },
  {
   "cell_type": "code",
   "execution_count": 45,
   "metadata": {},
   "outputs": [],
   "source": [
    "fig2.clf()\n",
    "# fig2.suptitle(\"Energy analysis of AES\")\n",
    "ax1 = fig2.add_subplot(1, 1, 1)\n",
    "ax2 = ax1.twinx()\n",
    "ax1.set_xlabel('Checkpoint Size [Bytes]')\n",
    "ax1.set_ylabel('Energy [mJ]', color=charge_color)\n",
    "ax2.set_ylabel('Time [ms]', color=time_color)\n",
    "ax1.tick_params('y', colors=charge_color)\n",
    "ax2.tick_params('y', colors=time_color)"
   ]
  },
  {
   "cell_type": "code",
   "execution_count": 46,
   "metadata": {},
   "outputs": [],
   "source": [
    "lines = []\n",
    "lines += ax1.plot(num_bytes, aes_encrypt_energy, charge_color+'-', label=f'{parameter_names[len(lines)]}')\n",
    "lines += ax1.plot(num_bytes, aes_flash_write_energy, charge_color+'-.', label=f'{parameter_names[len(lines)]}')\n",
    "lines += ax1.plot(num_bytes, aes_flash_read_energy, charge_color+':', label=f'{parameter_names[len(lines)]}')\n",
    "lines += ax1.plot(num_bytes, aes_decrypt_energy, charge_color+'--', label=f'{parameter_names[len(lines)]}')\n",
    "lines += ax2.plot(num_bytes, aes_encrypt_time_s, time_color+'-', label=f'{parameter_names[len(lines)]}')\n",
    "lines += ax2.plot(num_bytes, aes_flash_write_time_s, time_color+'-.', label=f'{parameter_names[len(lines)]}')\n",
    "lines += ax2.plot(num_bytes, aes_flash_read_time_s, time_color+':', label=f'{parameter_names[len(lines)]}')\n",
    "lines += ax2.plot(num_bytes, aes_decrypt_time_s, time_color+'--', label=f'{parameter_names[len(lines)]}')\n",
    "ax1.legend(handles=lines)\n",
    "ax1.set_title(\n",
    "    f\"{parameter_names[0]}: Slope {results[0].params['slope'].value * model_j_scale:.04} nJ/B, Intercept {results[0].params['intercept'].value * model_j_scale:.04} nJ\\n\" +\n",
    "    f\"{parameter_names[1]}: Slope {results[1].params['slope'].value * model_j_scale:.04} nJ/B, Intercept {results[1].params['intercept'].value * model_j_scale:.04} nJ\\n\" +\n",
    "    f\"{parameter_names[2]}: Slope {results[2].params['slope'].value * model_j_scale:.04} nJ/B, Intercept {results[2].params['intercept'].value * model_j_scale:.04} nJ\\n\" +\n",
    "    f\"{parameter_names[3]}: Slope {results[3].params['slope'].value * model_j_scale:.04} nJ/B, Intercept {results[3].params['intercept'].value * model_j_scale:.04} nJ\\n\" +\n",
    "    f\"{parameter_names[4]}: Slope {results[4].params['slope'].value * model_t_scale:.04} $\\mu$s/B, Intercept {results[4].params['intercept'].value * model_t_scale:.04} $\\mu$s\\n\" +\n",
    "    f\"{parameter_names[5]}: Slope {results[5].params['slope'].value * model_t_scale:.04} $\\mu$s/B, Intercept {results[5].params['intercept'].value * model_t_scale:.04} $\\mu$s\\n\" +\n",
    "    f\"{parameter_names[6]}: Slope {results[6].params['slope'].value * model_t_scale:.04} $\\mu$s/B, Intercept {results[6].params['intercept'].value * model_t_scale:.04} $\\mu$s\\n\" +\n",
    "    f\"{parameter_names[7]}: Slope {results[7].params['slope'].value * model_t_scale:.04} $\\mu$s/B, Intercept {results[7].params['intercept'].value * model_t_scale:.04} $\\mu$s\\n\" +\n",
    "    f\"{parameter_names[8]}: Slope {results[8].params['slope'].value * model_j_scale:.04} nJ/B, Intercept {results[8].params['intercept'].value * model_j_scale:.04} nJ\\n\" +\n",
    "    f\"{parameter_names[9]}: Slope {results[9].params['slope'].value * model_t_scale:.04} $\\mu$s/B, Intercept {results[9].params['intercept'].value * model_t_scale:.04} $\\mu$s\\n\")\n",
    "fig2.tight_layout()\n",
    "fig2.savefig(f\"Analysis {experiment_name}\")\n",
    "fig2.show()"
   ]
  },
  {
   "cell_type": "code",
   "execution_count": 47,
   "metadata": {},
   "outputs": [
    {
     "name": "stdout",
     "output_type": "stream",
     "text": [
      "Encrypt Energy: Slope 140.39890786346481377 nJ/B, Intercept 604.25077133907655025 nJ\n",
      "Flash Write Energy: Slope 113.26936111522860529 nJ/B, Intercept 13907.327263750325073 nJ\n",
      "Flash Read Energy: Slope 3.7200087579597509446 nJ/B, Intercept 14.866986961514783161 nJ\n",
      "Decrypt Energy: Slope 139.85219930417960654 nJ/B, Intercept 516.70674033232887723 nJ\n",
      "Encrypt Time: Slope 62.889694638527117831 $\\mu$s/B, Intercept 15.459861008203407806 $\\mu$s\n",
      "Flash Write Time: Slope 20.886575799844312229 $\\mu$s/B, Intercept 2127.2883171773451068 $\\mu$s\n",
      "Flash Read Time: Slope 2.1245860600169428345 $\\mu$s/B, Intercept 25.858376826273676841 $\\mu$s\n",
      "Decrypt Time: Slope 62.641159575383355218 $\\mu$s/B, Intercept 78.768045639755257525 $\\mu$s\n",
      "Total Energy: Slope 397.24047704083466215 nJ/B, Intercept 15043.151768919238748 nJ\n",
      "Total Time: Slope 148.54201605208766068 $\\mu$s/B, Intercept 2247.3748166243672131 $\\mu$s\n",
      "\n"
     ]
    }
   ],
   "source": [
    "print(\n",
    "    f\"{parameter_names[0]}: Slope {results[0].params['slope'].value * model_j_scale:.020} nJ/B, Intercept {results[0].params['intercept'].value * model_j_scale:.020} nJ\\n\" +\n",
    "    f\"{parameter_names[1]}: Slope {results[1].params['slope'].value * model_j_scale:.020} nJ/B, Intercept {results[1].params['intercept'].value * model_j_scale:.020} nJ\\n\" +\n",
    "    f\"{parameter_names[2]}: Slope {results[2].params['slope'].value * model_j_scale:.020} nJ/B, Intercept {results[2].params['intercept'].value * model_j_scale:.020} nJ\\n\" +\n",
    "    f\"{parameter_names[3]}: Slope {results[3].params['slope'].value * model_j_scale:.020} nJ/B, Intercept {results[3].params['intercept'].value * model_j_scale:.020} nJ\\n\" +\n",
    "    f\"{parameter_names[4]}: Slope {results[4].params['slope'].value * model_t_scale:.020} $\\mu$s/B, Intercept {results[4].params['intercept'].value * model_t_scale:.020} $\\mu$s\\n\" +\n",
    "    f\"{parameter_names[5]}: Slope {results[5].params['slope'].value * model_t_scale:.020} $\\mu$s/B, Intercept {results[5].params['intercept'].value * model_t_scale:.020} $\\mu$s\\n\" +\n",
    "    f\"{parameter_names[6]}: Slope {results[6].params['slope'].value * model_t_scale:.020} $\\mu$s/B, Intercept {results[6].params['intercept'].value * model_t_scale:.020} $\\mu$s\\n\" +\n",
    "    f\"{parameter_names[7]}: Slope {results[7].params['slope'].value * model_t_scale:.020} $\\mu$s/B, Intercept {results[7].params['intercept'].value * model_t_scale:.020} $\\mu$s\\n\" +\n",
    "    f\"{parameter_names[8]}: Slope {results[8].params['slope'].value * model_j_scale:.020} nJ/B, Intercept {results[8].params['intercept'].value * model_j_scale:.020} nJ\\n\" +\n",
    "    f\"{parameter_names[9]}: Slope {results[9].params['slope'].value * model_t_scale:.020} $\\mu$s/B, Intercept {results[9].params['intercept'].value * model_t_scale:.020} $\\mu$s\\n\"\n",
    ")"
   ]
  },
  {
   "cell_type": "code",
   "execution_count": 48,
   "metadata": {},
   "outputs": [],
   "source": [
    "# Save Charge amount list into pickle file\n",
    "import pickle\n",
    "pickle.dump(aes_encrypt_energy, open(\"aes_flash_encrypt_energy_mJ.p\", \"wb\"))\n",
    "pickle.dump(aes_decrypt_energy, open(\"aes_flash_decrypt_energy_mJ.p\", \"wb\"))\n",
    "pickle.dump(aes_flash_write_energy, open(\"aes_flash_write_energy_mJ.p\", \"wb\"))\n",
    "pickle.dump(aes_flash_read_energy, open(\"aes_flash_read_energy_mJ.p\", \"wb\"))\n",
    "pickle.dump(aes_encrypt_time_s, open(\"aes_flash_encrypt_time_ms.p\", \"wb\"))\n",
    "pickle.dump(aes_decrypt_time_s, open(\"aes_flash_decrypt_time_ms.p\", \"wb\"))\n",
    "pickle.dump(aes_flash_write_time_s, open(\"aes_flash_write_time_ms.p\", \"wb\"))\n",
    "pickle.dump(aes_flash_read_time_s, open(\"aes_flash_read_time_ms.p\", \"wb\"))"
   ]
  },
  {
   "cell_type": "code",
   "execution_count": 49,
   "metadata": {},
   "outputs": [
    {
     "name": "stdout",
     "output_type": "stream",
     "text": [
      "384 6144\n",
      "384 6144\n",
      "384 6144\n",
      "384 6144\n",
      "384 6144\n",
      "384 6144\n",
      "384 6144\n",
      "384 6144\n"
     ]
    }
   ],
   "source": [
    "aes = [aes_encrypt_energy, aes_flash_write_energy, aes_flash_read_energy, aes_decrypt_energy, aes_encrypt_time_s, aes_flash_write_time_s, aes_flash_read_time_s, aes_decrypt_time_s]\n",
    "for i in aes:\n",
    "    print(len(i), len(i)*16)"
   ]
  },
  {
   "cell_type": "markdown",
   "metadata": {},
   "source": [
    "## Write config file"
   ]
  },
  {
   "cell_type": "code",
   "execution_count": 50,
   "metadata": {},
   "outputs": [],
   "source": [
    "import json\n",
    "\n",
    "config = {}\n",
    "config[\"name\"] = \"AES-256 Flash\"\n",
    "config[\"project_paths\"] = [project_path]\n",
    "config[\"config_dict\"] = config_dict\n",
    "config[\"config_dict_plot\"] = config_dict_plot\n",
    "config[\"analysis\"] = {\"pins\":{2: [\"AES-256 Encrypt\", \"AES-256 Decrypt\"], 3: [\"AES-256 Flash Write\", \"AES-256 Flash Read\"]}, \n",
    "                      \"result_types\": [\"Charge\", \"Time\"],\n",
    "                      \"section_types\": {\"init\": [], \n",
    "                                        \"store\": [\"AES-256 Encrypt\", \"AES-256 Flash Write\"],\n",
    "                                        \"load\": [\"AES-256 Flash Read\", \"AES-256 Decrypt\"],\n",
    "                                        \"exit\": []},\n",
    "                      \"labels\": {\n",
    "                          \"Charge\": {\"x\":\"Data Size\", \"x_unit\": \"byte\", \"y\": \"Charge\", \"y_unit\": \"C\"},\n",
    "                          \"Time\": {\"x\":\"Data Size\", \"x_unit\": \"byte\", \"y\": \"Time\", \"y_unit\": \"s\"},\n",
    "                      },\n",
    "                      \"x_step\": MBEDTLS_AES_BLOCK_SIZE}\n",
    "\n",
    "with open(\"looped_experiment.json\", 'w') as config_file:  \n",
    "    json.dump(config, config_file, indent=4)"
   ]
  },
  {
   "cell_type": "markdown",
   "metadata": {},
   "source": [
    "# Write model data"
   ]
  },
  {
   "cell_type": "code",
   "execution_count": 51,
   "metadata": {},
   "outputs": [],
   "source": [
    "dump_pickle = True\n",
    "fit_lm = True\n",
    "verbose = 2\n",
    "show_lm_plot = 2\n",
    "# drop = 1"
   ]
  },
  {
   "cell_type": "code",
   "execution_count": 52,
   "metadata": {},
   "outputs": [],
   "source": [
    "# Parse data\n",
    "analysis_config = config.get(\"analysis\")\n",
    "result_types = analysis_config.get(\"result_types\")\n",
    "x_step = analysis_config.get(\"x_step\")\n",
    "parsed_data = {}\n",
    "for pin, parameter_names in analysis_config.get(\"pins\").items():\n",
    "    data2 = power_and_time_per_pulse(\n",
    "        data, int(pin), stop_function=stop_function)\n",
    "    num_names = len(parameter_names)\n",
    "    for i, parameter_name in enumerate(parameter_names):\n",
    "        end_index = -drop * num_names or None\n",
    "        parsed_data[parameter_name] = {\n",
    "            result_types[0]: data2[0][i:end_index:num_names],\n",
    "            result_types[1]: data2[1][i:end_index:num_names],\n",
    "            \"x_step\": x_step}\n",
    "if dump_pickle:\n",
    "    pickle.dump(parsed_data, open(\n",
    "        path.join(path.curdir,\n",
    "                  f\"{config_dict.get('file_name_base')}_looped.p\"), \"wb\"))"
   ]
  },
  {
   "cell_type": "code",
   "execution_count": 53,
   "metadata": {},
   "outputs": [
    {
     "name": "stdout",
     "output_type": "stream",
     "text": [
      "Fitting model to AES-128 Encrypt with 384 samples, from 16 to 6144 bytes in steps of 16.\n",
      "[[Model]]\n",
      "    Model(line)\n",
      "[[Fit Statistics]]\n",
      "    # fitting method   = leastsq\n",
      "    # function evals   = 10\n",
      "    # data points      = 384\n",
      "    # variables        = 2\n",
      "    chi-square         = 1.2461e-11\n",
      "    reduced chi-square = 3.2621e-14\n",
      "    Akaike info crit   = -11922.6709\n",
      "    Bayesian info crit = -11914.7696\n",
      "[[Variables]]\n",
      "    intercept:  1.8146e-07 +/- 1.8470e-08 (10.18%) (init = 0)\n",
      "    slope:      4.2162e-08 +/- 5.1967e-12 (0.01%) (init = 1)\n",
      "[[Correlations]] (unreported correlations are < 0.100)\n",
      "    C(intercept, slope) = -0.867\n",
      "[[Model]]\n",
      "    Model(line)\n",
      "[[Fit Statistics]]\n",
      "    # fitting method   = leastsq\n",
      "    # function evals   = 7\n",
      "    # data points      = 384\n",
      "    # variables        = 2\n",
      "    chi-square         = 4.2696e-07\n",
      "    reduced chi-square = 1.1177e-09\n",
      "    Akaike info crit   = -7913.01599\n",
      "    Bayesian info crit = -7905.11471\n",
      "[[Variables]]\n",
      "    intercept:  1.5459e-05 +/- 3.4187e-06 (22.11%) (init = 0)\n",
      "    slope:      6.2890e-05 +/- 9.6191e-10 (0.00%) (init = 1)\n",
      "[[Correlations]] (unreported correlations are < 0.100)\n",
      "    C(intercept, slope) = -0.867\n",
      "Fitting model to AES-128 Decrypt with 384 samples, from 16 to 6144 bytes in steps of 16.\n",
      "[[Model]]\n",
      "    Model(line)\n",
      "[[Fit Statistics]]\n",
      "    # fitting method   = leastsq\n",
      "    # function evals   = 9\n",
      "    # data points      = 384\n",
      "    # variables        = 2\n",
      "    chi-square         = 6.4146e-11\n",
      "    reduced chi-square = 1.6792e-13\n",
      "    Akaike info crit   = -11293.4713\n",
      "    Bayesian info crit = -11285.5701\n",
      "[[Variables]]\n",
      "    intercept:  1.5517e-07 +/- 4.1905e-08 (27.01%) (init = 0)\n",
      "    slope:      4.1998e-08 +/- 1.1790e-11 (0.03%) (init = 1)\n",
      "[[Correlations]] (unreported correlations are < 0.100)\n",
      "    C(intercept, slope) = -0.867\n",
      "[[Model]]\n",
      "    Model(line)\n",
      "[[Fit Statistics]]\n",
      "    # fitting method   = leastsq\n",
      "    # function evals   = 7\n",
      "    # data points      = 384\n",
      "    # variables        = 2\n",
      "    chi-square         = 1.3009e-04\n",
      "    reduced chi-square = 3.4054e-07\n",
      "    Akaike info crit   = -5716.81801\n",
      "    Bayesian info crit = -5708.91672\n",
      "[[Variables]]\n",
      "    intercept:  7.8768e-05 +/- 5.9675e-05 (75.76%) (init = 0)\n",
      "    slope:      6.2641e-05 +/- 1.6790e-08 (0.03%) (init = 1)\n",
      "[[Correlations]] (unreported correlations are < 0.100)\n",
      "    C(intercept, slope) = -0.867\n",
      "Fitting model to AES-128 Flash Write with 384 samples, from 16 to 6144 bytes in steps of 16.\n",
      "[[Model]]\n",
      "    Model(line)\n",
      "[[Fit Statistics]]\n",
      "    # fitting method   = leastsq\n",
      "    # function evals   = 9\n",
      "    # data points      = 384\n",
      "    # variables        = 2\n",
      "    chi-square         = 1.3866e-09\n",
      "    reduced chi-square = 3.6299e-12\n",
      "    Akaike info crit   = -10113.2644\n",
      "    Bayesian info crit = -10105.3632\n",
      "[[Variables]]\n",
      "    intercept:  4.1764e-06 +/- 1.9483e-07 (4.67%) (init = 0)\n",
      "    slope:      3.4015e-08 +/- 5.4818e-11 (0.16%) (init = 1)\n",
      "[[Correlations]] (unreported correlations are < 0.100)\n",
      "    C(intercept, slope) = -0.867\n",
      "[[Model]]\n",
      "    Model(line)\n",
      "[[Fit Statistics]]\n",
      "    # fitting method   = leastsq\n",
      "    # function evals   = 7\n",
      "    # data points      = 384\n",
      "    # variables        = 2\n",
      "    chi-square         = 3.9655e-04\n",
      "    reduced chi-square = 1.0381e-06\n",
      "    Akaike info crit   = -5288.81001\n",
      "    Bayesian info crit = -5280.90873\n",
      "[[Variables]]\n",
      "    intercept:  0.00212729 +/- 1.0419e-04 (4.90%) (init = 0)\n",
      "    slope:      2.0887e-05 +/- 2.9315e-08 (0.14%) (init = 1)\n",
      "[[Correlations]] (unreported correlations are < 0.100)\n",
      "    C(intercept, slope) = -0.867\n",
      "Fitting model to AES-128 Flash Read with 384 samples, from 16 to 6144 bytes in steps of 16.\n",
      "[[Model]]\n",
      "    Model(line)\n",
      "[[Fit Statistics]]\n",
      "    # fitting method   = leastsq\n",
      "    # function evals   = 10\n",
      "    # data points      = 384\n",
      "    # variables        = 2\n",
      "    chi-square         = 9.7137e-14\n",
      "    reduced chi-square = 2.5429e-16\n",
      "    Akaike info crit   = -13786.7045\n",
      "    Bayesian info crit = -13778.8033\n",
      "[[Variables]]\n",
      "    intercept:  4.4646e-09 +/- 1.6307e-09 (36.53%) (init = 0)\n",
      "    slope:      1.1171e-09 +/- 4.5882e-13 (0.04%) (init = 1)\n",
      "[[Correlations]] (unreported correlations are < 0.100)\n",
      "    C(intercept, slope) = -0.867\n",
      "[[Model]]\n",
      "    Model(line)\n",
      "[[Fit Statistics]]\n",
      "    # fitting method   = leastsq\n",
      "    # function evals   = 7\n",
      "    # data points      = 384\n",
      "    # variables        = 2\n",
      "    chi-square         = 2.4668e-07\n",
      "    reduced chi-square = 6.4577e-10\n",
      "    Akaike info crit   = -8123.66801\n",
      "    Bayesian info crit = -8115.76672\n",
      "[[Variables]]\n",
      "    intercept:  2.5858e-05 +/- 2.5987e-06 (10.05%) (init = 0)\n",
      "    slope:      2.1246e-06 +/- 7.3116e-10 (0.03%) (init = 1)\n",
      "[[Correlations]] (unreported correlations are < 0.100)\n",
      "    C(intercept, slope) = -0.867\n"
     ]
    }
   ],
   "source": [
    "# Fit lm\n",
    "if fit_lm:\n",
    "    model = None\n",
    "    if model is None:\n",
    "        def line(x, intercept, slope):\n",
    "            \"\"\"a line\"\"\"\n",
    "            return [intercept + slope*i for i in x]\n",
    "\n",
    "        model = Model(line)\n",
    "        params = model.make_params(intercept=0, slope=1)\n",
    "#         params['intercept'].set(min=0)\n",
    "    else:\n",
    "        params = model.params\n",
    "\n",
    "    model_results = {}\n",
    "    labels = analysis_config.get(\"labels\")\n",
    "    for parameter_name in parsed_data.keys():\n",
    "        length = len(parsed_data[parameter_name][result_types[0]])\n",
    "        x_step = parsed_data[parameter_name][\"x_step\"]\n",
    "        num_bytes = range(x_step, (length+1)*x_step, x_step)\n",
    "        if verbose:\n",
    "            print(\n",
    "                f\"Fitting model to {parameter_name} with {length} \" +\n",
    "                f\"samples, from {min(num_bytes)} to {max(num_bytes)} \"\n",
    "                f\"bytes in steps of {x_step}.\")\n",
    "        model_result = {}\n",
    "        for result_type in result_types:\n",
    "            model_result[result_type] = model.fit(\n",
    "                parsed_data[parameter_name][result_type], params,\n",
    "                x=num_bytes)\n",
    "            if verbose >= 2:\n",
    "                print(model_result[result_type].fit_report())\n",
    "            # Plot multiple view\n",
    "            if show_lm_plot >= 2:\n",
    "                fig, grid = model_result[result_type].plot(\n",
    "                    xlabel=f\"{labels[result_type]['x']} \" +\n",
    "                           f\"[{labels[result_type]['x_unit']}]\",\n",
    "                    ylabel=f\"{labels[result_type]['y']} \" +\n",
    "                           f\"[{labels[result_type]['y_unit']}]\")\n",
    "                fig.canvas.set_window_title(\n",
    "                    f\"Residuals of {parameter_name}\")\n",
    "                fig.tight_layout()\n",
    "                fig.show()\n",
    "            model_results[parameter_name] = model_result\n",
    "\n",
    "    # Plot single view\n",
    "    if show_lm_plot:\n",
    "        import matplotlib.pyplot as plt\n",
    "        fig = plt.figure(figsize=(9, 6))\n",
    "        fig.canvas.set_window_title(f\"Analysis {config.get('name')}\")\n",
    "        colors = dict(zip(result_types, ['r', 'b']))\n",
    "        line_styles = (\n",
    "            line_style for line_style in ('-', '--', '-.', ':') * 2)\n",
    "        # fig.suptitle(f\"Energy analysis of {config.get('name')}\")\n",
    "        ax = {}\n",
    "        ax[result_types[0]] = fig.add_subplot(1, 1, 1)\n",
    "        ax[result_types[1]] = ax[result_types[0]].twinx()\n",
    "        ax[result_types[0]].set_xlabel(\n",
    "            f\"{labels[result_types[0]]['x']} \" +\n",
    "            f\"[{labels[result_types[0]]['x_unit']}]\")\n",
    "        for result_type in result_types:\n",
    "            ax[result_type].set_ylabel(\n",
    "                f\"{labels[result_type]['y']} \" +\n",
    "                f\"[{labels[result_type]['y_unit']}]\",\n",
    "                color=colors[result_type])\n",
    "            ax[result_type].tick_params('y', colors=colors[result_type])\n",
    "\n",
    "        lines = []\n",
    "        title_str = \"\"\n",
    "        for parameter_name in parsed_data.keys():\n",
    "            length = len(parsed_data[parameter_name][result_types[0]])\n",
    "            x_step = parsed_data[parameter_name][\"x_step\"]\n",
    "            num_bytes = range(x_step, (length+1)*x_step, x_step)\n",
    "            model_result = {}\n",
    "            line_style = next(line_styles)\n",
    "            for result_type in result_types:\n",
    "                label = f\"{parameter_name} {labels[result_type]['y']}\"\n",
    "                lines += ax[result_type].plot(\n",
    "                    num_bytes, parsed_data[parameter_name][result_type],\n",
    "                    colors[result_type] + line_style, label=label)\n",
    "                title_str += f\"{label} \"\n",
    "                for param in params.keys():\n",
    "                    title_str += \"\".join(\n",
    "                        f\"{params[param].name.capitalize()}: \")\n",
    "                    title_str += \"\".join(\n",
    "                        f\"{model_results[parameter_name][result_type].params[param].value: .03} \")\n",
    "                    title_str += \"\".join(\n",
    "                        f\"{labels[result_type]['y_unit']}, \")\n",
    "                title_str = title_str[:-2] + \\\n",
    "                    f\" per {labels[result_type]['x_unit']}\\n\"\n",
    "        ax[result_types[0]].legend(handles=lines)\n",
    "        ax[result_types[0]].set_title(title_str[:-1])\n",
    "        # fig.tight_layout()\n",
    "        fig.tight_layout(rect=(0.05, 0.05, 1, 1))\n",
    "        fig.set_size_inches(8, 6, forward=True)\n",
    "        fig.show()\n",
    "\n",
    "    # Save model results to file\n",
    "    if dump_pickle:\n",
    "        model_results_dump = {}\n",
    "        for parameter_name in model_results.keys():\n",
    "            model_results_dump[parameter_name] = {}\n",
    "            for result_type in model_results[parameter_name].keys():\n",
    "                model_results_dump[parameter_name][result_type] = \\\n",
    "                    model_results[parameter_name][result_type].values\n",
    "\n",
    "        pickle.dump(model_results_dump, open(path.join(\n",
    "            path.curdir,\n",
    "            f\"{config_dict.get('file_name_base')}_model.p\"), \"wb\"))"
   ]
  },
  {
   "cell_type": "markdown",
   "metadata": {},
   "source": [
    "# Total from measurement"
   ]
  },
  {
   "cell_type": "code",
   "execution_count": 54,
   "metadata": {},
   "outputs": [
    {
     "name": "stdout",
     "output_type": "stream",
     "text": [
      "475.6008272858131 176546.60516106646\n"
     ]
    }
   ],
   "source": [
    "n_samples = 5995\n",
    "\n",
    "total_energy = sum(aes_encrypt_energy[:n_samples]) + sum(aes_flash_write_energy[:n_samples]) + sum(aes_flash_read_energy[:n_samples]) + sum(aes_decrypt_energy[:n_samples])\n",
    "total_time = sum(aes_encrypt_time_s[:n_samples]) + sum(aes_flash_write_time_s[:n_samples]) + sum(aes_flash_read_time_s[:n_samples]) + sum(aes_decrypt_time_s[:n_samples])\n",
    "print(total_energy, total_time)"
   ]
  },
  {
   "cell_type": "code",
   "execution_count": 55,
   "metadata": {},
   "outputs": [
    {
     "data": {
      "text/plain": [
       "[6.005708800000001,\n",
       " 8.117606399999998,\n",
       " 10.229504000000015,\n",
       " 12.407398400000005,\n",
       " 14.45398559999997,\n",
       " 16.566401600000006,\n",
       " 18.80927839999999,\n",
       " 20.92102453333333,\n",
       " 23.032697066666717,\n",
       " 25.080162133333307,\n",
       " 27.25821066666667,\n",
       " 29.368813333333353,\n",
       " 31.54952959999996,\n",
       " 33.65946239999995,\n",
       " 35.837495999999966,\n",
       " 38.01536640000014,\n",
       " 44.35043200000011,\n",
       " 46.19965866666675,\n",
       " 48.308800000000154,\n",
       " 50.488104000000035,\n",
       " 52.53561813333319,\n",
       " 54.779630933333486,\n",
       " 56.75777813333326,\n",
       " 59.004580266666544,\n",
       " 61.176975999999826,\n",
       " 63.22501653333346,\n",
       " 65.46838133333299,\n",
       " 67.78211093333341,\n",
       " 69.6286245333333,\n",
       " 71.73855679999997,\n",
       " 74.18052266666675,\n",
       " 76.02921706666655,\n",
       " 82.10316639999982,\n",
       " 84.34607946666661,\n",
       " 86.3883717333338,\n",
       " 88.83601760000025,\n",
       " 90.55037013333322,\n",
       " 92.92711840000045,\n",
       " 94.96578293333347,\n",
       " 97.08587840000015,\n",
       " 99.19882026666649,\n",
       " 101.30999786666717,\n",
       " 103.48379786666584,\n",
       " 105.60077866666705,\n",
       " 108.04293653333329,\n",
       " 110.1548170666673,\n",
       " 111.93396906666652,\n",
       " 114.17880106666667,\n",
       " 120.64304640000056,\n",
       " 122.4258234666662,\n",
       " 124.54181546666732,\n",
       " 126.65365599999934,\n",
       " 128.82345440000086,\n",
       " 131.07552426666658,\n",
       " 133.12195999999864,\n",
       " 135.22524799999937,\n",
       " 137.4764997333333,\n",
       " 139.3873754666668,\n",
       " 141.89477813333352,\n",
       " 143.74361920000123,\n",
       " 146.117033066667,\n",
       " 148.03359306666763,\n",
       " 150.07862346666644,\n",
       " 152.25654986666726,\n",
       " 157.80159093333435,\n",
       " 160.04758719999933,\n",
       " 162.09315680000105,\n",
       " 164.46528960000074,\n",
       " 166.90897440000097,\n",
       " 168.76256373333476,\n",
       " 171.13309439999915,\n",
       " 173.2428165333344,\n",
       " 175.49209813333366,\n",
       " 177.53395253333082,\n",
       " 179.78081173333393,\n",
       " 181.75861919999824,\n",
       " 184.20630986666708,\n",
       " 186.17729813333384,\n",
       " 188.22437013333547,\n",
       " 190.73402079999903,\n",
       " 196.01230399999992,\n",
       " 198.12992639999828,\n",
       " 200.23298933333143,\n",
       " 202.41980373333666,\n",
       " 204.7242597333323,\n",
       " 207.1711215999983,\n",
       " 209.0136389333317,\n",
       " 211.13034186666724,\n",
       " 213.50250346666755,\n",
       " 215.5605189333336,\n",
       " 218.12177119999808,\n",
       " 220.1673376000013,\n",
       " 222.01703040000174,\n",
       " 224.52260693333238,\n",
       " 226.30748319999938,\n",
       " 228.2152287999999,\n",
       " 234.29412373333133,\n",
       " 236.1445280000023,\n",
       " 238.31951413333564,\n",
       " 240.42801119999876,\n",
       " 242.7427264000013,\n",
       " 244.92866559999982,\n",
       " 247.03549066666676,\n",
       " 249.47419679999783,\n",
       " 251.91726453333098,\n",
       " 253.90261066666753,\n",
       " 255.946666666663,\n",
       " 258.2503898666637,\n",
       " 260.1079839999976,\n",
       " 262.54115466667116,\n",
       " 264.72451520000106,\n",
       " 266.8401119999935,\n",
       " 272.4448490666731,\n",
       " 274.2877130666699,\n",
       " 276.46866506666254,\n",
       " 278.8511637333322,\n",
       " 280.9594341333366,\n",
       " 283.1327104000039,\n",
       " 285.1160293333379,\n",
       " 287.4203311999963,\n",
       " 289.73524000000236,\n",
       " 291.912049600004,\n",
       " 294.3539935999979,\n",
       " 296.1356112000004,\n",
       " 298.37678026666833,\n",
       " 300.4874762666709,\n",
       " 302.8738783999962,\n",
       " 304.71118666666894,\n",
       " 310.5207231999998,\n",
       " 312.49920533333864,\n",
       " 314.74655893332937,\n",
       " 317.0534597333301,\n",
       " 319.2974480000004,\n",
       " 321.40861173333235,\n",
       " 323.25730239999825,\n",
       " 325.43678080000757,\n",
       " 328.07250666666476,\n",
       " 329.9876917333364,\n",
       " 332.1094650666687,\n",
       " 334.21635306666883,\n",
       " 336.3273941333382,\n",
       " 338.703884800001,\n",
       " 340.8819690666611,\n",
       " 343.06127786666707,\n",
       " 348.34299413332917,\n",
       " 350.70632053333384,\n",
       " 352.6311989333344,\n",
       " 355.13593706666666,\n",
       " 357.44344586666443,\n",
       " 359.6231429333336,\n",
       " 361.4682341333371,\n",
       " 363.6472815999987,\n",
       " 366.29076533333557,\n",
       " 368.2016319999981,\n",
       " 370.19701653332504,\n",
       " 372.5627642666609,\n",
       " 374.53713226665997,\n",
       " 376.65314933333605,\n",
       " 379.09038453334176,\n",
       " 381.20811200000304,\n",
       " 386.5013552000036,\n",
       " 388.99539146665774,\n",
       " 391.0492389333271,\n",
       " 392.96079999999733,\n",
       " 395.342319466657,\n",
       " 397.5841711999948,\n",
       " 399.4904373333341,\n",
       " 401.731993599995,\n",
       " 404.4411695999912,\n",
       " 406.4806693333338,\n",
       " 408.59403573333,\n",
       " 410.8396816000024,\n",
       " 413.21327146665965,\n",
       " 414.8006074666668,\n",
       " 417.2422613333282,\n",
       " 419.3485471999949,\n",
       " 424.6402506666698,\n",
       " 426.82158506666923,\n",
       " 429.25345119999037,\n",
       " 431.2946165333358,\n",
       " 433.6075338666632,\n",
       " 435.58600853333473,\n",
       " 438.02686826666104,\n",
       " 440.1424352000163,\n",
       " 442.2525845333354,\n",
       " 444.3001477333439,\n",
       " 446.8047818666605,\n",
       " 448.92044053333535,\n",
       " 450.96197760000933,\n",
       " 452.88740159999463,\n",
       " 455.0584645333302,\n",
       " 457.43892373332073,\n",
       " 462.7780240000021,\n",
       " 465.08028213333574,\n",
       " 467.0676853333404,\n",
       " 469.17783626665255,\n",
       " 471.6192197333342,\n",
       " 473.596753599999,\n",
       " 475.7835631999967,\n",
       " 478.1630783999944,\n",
       " 480.21245333333695,\n",
       " 482.44395093333736,\n",
       " 484.4958490666684,\n",
       " 486.86981333333534,\n",
       " 489.1167413333335,\n",
       " 491.1613567999993,\n",
       " 493.1472853333361,\n",
       " 495.26317706666845,\n",
       " 500.7984256000029,\n",
       " 502.98149813333737,\n",
       " 505.0818272000086,\n",
       " 507.47270080000817,\n",
       " 509.6370373333343,\n",
       " 512.0782560000023,\n",
       " 513.8624293333364,\n",
       " 516.3042256000026,\n",
       " 518.6107306666727,\n",
       " 520.5281253333353,\n",
       " 522.9715914666571,\n",
       " 525.1483343999937,\n",
       " 527.0618655999826,\n",
       " 529.1073573333307,\n",
       " 531.4924800000114,\n",
       " 533.6509941333389,\n",
       " 538.4786192000064,\n",
       " 541.115905600023,\n",
       " 543.2930223999932,\n",
       " 545.4668720000058,\n",
       " 547.7850666666768,\n",
       " 549.7045519999944,\n",
       " 552.0103749333316,\n",
       " 554.1247935999678,\n",
       " 556.6280362666731,\n",
       " 558.7399226666747,\n",
       " 561.1099183999784,\n",
       " 563.0301680000116,\n",
       " 565.411279466673,\n",
       " 567.8485781333222,\n",
       " 569.7584480000017,\n",
       " 571.5408154666619,\n",
       " 577.4811141333345,\n",
       " 578.9986250666601,\n",
       " 580.9135776000005,\n",
       " 583.7473354666685,\n",
       " 586.1238672000013,\n",
       " 588.0498576000122,\n",
       " 590.4186026666878,\n",
       " 592.4565344000001,\n",
       " 594.5782410666567,\n",
       " 596.7579061333339,\n",
       " 599.2642501333307,\n",
       " 600.9821872000032,\n",
       " 603.362079466649,\n",
       " 605.5998992000156,\n",
       " 607.2485536000016,\n",
       " 609.4867546666478,\n",
       " 614.9801637333354,\n",
       " 616.752819200002,\n",
       " 618.9239098666803,\n",
       " 621.3013647999759,\n",
       " 623.7515530666684,\n",
       " 625.6735717333299,\n",
       " 627.8991205333284,\n",
       " 630.150336533319,\n",
       " 632.5210384000002,\n",
       " 634.9688298666507,\n",
       " 636.7610437333298,\n",
       " 639.1189552000185,\n",
       " 641.1049216000038,\n",
       " 643.1462735999958,\n",
       " 645.2662218666632,\n",
       " 647.3049120000098,\n",
       " 652.7243317333387,\n",
       " 654.4993135999846,\n",
       " 656.5585114666703,\n",
       " 659.7095466666758,\n",
       " 661.5671770666864,\n",
       " 664.330140266685,\n",
       " 665.8691226666775,\n",
       " 667.9195573333345,\n",
       " 670.6346031999999,\n",
       " 672.5505440000035,\n",
       " 674.7687898666896,\n",
       " 676.739253866657,\n",
       " 679.1855999999967,\n",
       " 681.2261429333404,\n",
       " 683.1539882666533,\n",
       " 685.3901423999815,\n",
       " 690.8100495999889,\n",
       " 693.0666730666672,\n",
       " 695.1096149333296,\n",
       " 697.4872469333491,\n",
       " 699.4687658666834,\n",
       " 701.7816901333447,\n",
       " 704.1552261333237,\n",
       " 706.5072010666853,\n",
       " 707.9730992000037,\n",
       " 710.5346325333528,\n",
       " 713.042621866677,\n",
       " 714.8330250666675,\n",
       " 717.4013386666758,\n",
       " 719.0496432000089,\n",
       " 721.6137605333159,\n",
       " 723.5347568000208,\n",
       " 728.7171658666693,\n",
       " 730.9544725333268,\n",
       " 733.2650293333387,\n",
       " 735.490422399991,\n",
       " 737.4628533333549,\n",
       " 739.6376709333481,\n",
       " 741.897573866666,\n",
       " 743.8063157333232,\n",
       " 746.5109130666718,\n",
       " 748.7074618666583,\n",
       " 749.9987701333453,\n",
       " 752.4406016000142,\n",
       " 755.0790938666978,\n",
       " 757.0639514666198,\n",
       " 759.0427013332999,\n",
       " 760.6890981332697,\n",
       " 766.5061338666419,\n",
       " 768.4212346666186,\n",
       " 770.4337130666374,\n",
       " 772.5912453333308,\n",
       " 775.2188698667055,\n",
       " 777.4599674666547,\n",
       " 779.7661013333084,\n",
       " 781.8796816000031,\n",
       " 784.3963210666516,\n",
       " 786.1048672000095,\n",
       " 788.1445082666119,\n",
       " 790.5370117333632,\n",
       " 792.5800384000183,\n",
       " 795.349529066641,\n",
       " 797.1210522666468,\n",
       " 799.3034058666808,\n",
       " 804.7129957332686,\n",
       " 806.8211173333282,\n",
       " 808.5406586666295,\n",
       " 810.7261578666112,\n",
       " 813.4296122667024,\n",
       " 815.4107690666592,\n",
       " 817.6510602666553,\n",
       " 819.2381157333273,\n",
       " 822.1342335999964,\n",
       " 824.3246917333238,\n",
       " 826.3622474667329,\n",
       " 828.6795888000142,\n",
       " 831.2419349333595,\n",
       " 832.6273941332829,\n",
       " 835.2655690666779,\n",
       " 836.9238053332992,\n",
       " 842.7398154666719,\n",
       " 844.4724373333656,\n",
       " 846.7041509333626,\n",
       " 848.5544661333506,\n",
       " 851.1180570666568,\n",
       " 853.298453866671,\n",
       " 855.472131733336,\n",
       " 857.5952298666607,\n",
       " 859.9534890666405,\n",
       " 862.0681189333652,\n",
       " 864.2477296000095,\n",
       " 866.6848602666732,\n",
       " 868.864573333326,\n",
       " 870.7088970666916,\n",
       " 872.8234426666575,\n",
       " 874.9575349332872,\n",
       " 879.7719391999976,\n",
       " 882.3506005333286,\n",
       " 884.1934138666829,\n",
       " 886.704970666699,\n",
       " 889.0089264000096,\n",
       " 890.65183306667,\n",
       " 893.0939024000111,\n",
       " 895.1967157333343,\n",
       " 897.5042997332991,\n",
       " 899.6890463999705,\n",
       " 901.8020106666711,\n",
       " 904.1058751999742,\n",
       " 905.8140944000002,\n",
       " 908.658299199999,\n",
       " 910.6417498666701,\n",
       " 901.4025034666702]"
      ]
     },
     "execution_count": 55,
     "metadata": {},
     "output_type": "execute_result"
    }
   ],
   "source": [
    "          [e + w + r + d for (e,w,r,d) in zip(aes_encrypt_energy, aes_flash_write_energy, aes_flash_read_energy, aes_decrypt_energy)],\n",
    "          [e + w + r + d for (e,w,r,d) in zip(aes_encrypt_time_s, aes_flash_write_time_s, aes_flash_read_time_s, aes_decrypt_time_s)]"
   ]
  },
  {
   "cell_type": "code",
   "execution_count": null,
   "metadata": {},
   "outputs": [],
   "source": []
  },
  {
   "cell_type": "code",
   "execution_count": null,
   "metadata": {},
   "outputs": [],
   "source": []
  },
  {
   "cell_type": "code",
   "execution_count": null,
   "metadata": {},
   "outputs": [],
   "source": []
  }
 ],
 "metadata": {
  "kernelspec": {
   "display_name": "Python 3",
   "language": "python",
   "name": "python3"
  },
  "language_info": {
   "codemirror_mode": {
    "name": "ipython",
    "version": 3
   },
   "file_extension": ".py",
   "mimetype": "text/x-python",
   "name": "python",
   "nbconvert_exporter": "python",
   "pygments_lexer": "ipython3",
   "version": "3.8.1"
  }
 },
 "nbformat": 4,
 "nbformat_minor": 4
}

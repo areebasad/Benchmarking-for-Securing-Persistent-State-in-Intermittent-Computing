{
 "cells": [
  {
   "cell_type": "markdown",
   "metadata": {},
   "source": [
    "## Import Libraries"
   ]
  },
  {
   "cell_type": "code",
   "execution_count": 16,
   "metadata": {},
   "outputs": [],
   "source": [
    "# %matplotlib ipympl\n",
    "# %matplotlib inline\n",
    "%matplotlib wx"
   ]
  },
  {
   "cell_type": "code",
   "execution_count": 17,
   "metadata": {},
   "outputs": [],
   "source": [
    "import matplotlib.pyplot as plt\n",
    "plt.ion()"
   ]
  },
  {
   "cell_type": "code",
   "execution_count": 18,
   "metadata": {},
   "outputs": [],
   "source": [
    "from pydgilib_extra import *\n",
    "from atprogram.atprogram import atprogram"
   ]
  },
  {
   "cell_type": "code",
   "execution_count": 19,
   "metadata": {},
   "outputs": [],
   "source": [
    "from os import path, pardir"
   ]
  },
  {
   "cell_type": "markdown",
   "metadata": {},
   "source": [
    "## Compile and program project"
   ]
  },
  {
   "cell_type": "code",
   "execution_count": 20,
   "metadata": {},
   "outputs": [
    {
     "data": {
      "text/plain": [
       "['.', 'FFT']"
      ]
     },
     "execution_count": 20,
     "metadata": {},
     "output_type": "execute_result"
    }
   ],
   "source": [
    "project_path = [path.curdir, \"FFT\"]\n",
    "project_path"
   ]
  },
  {
   "cell_type": "code",
   "execution_count": 22,
   "metadata": {},
   "outputs": [
    {
     "name": "stdout",
     "output_type": "stream",
     "text": [
      "make: Nothing to be done for 'all'.\n",
      "\n",
      "[DEBUG] Starting execution of \"chiperase\"\n",
      "[DEBUG] Starting process 'C:\\Program Files (x86)\\Atmel\\Studio\\7.0\\atbackend\\atbackend.exe'\n",
      "[DEBUG] Connecting to TCP:127.0.0.1:54100\n",
      "[INFO] Connected to edbg, fw version: 3.25\n",
      "[INFO] Firmware check OK\n",
      "[DEBUG] Command \"chiperase\" finished with return code 0\n",
      "[DEBUG] Starting execution of \"program\"\n",
      "[DEBUG] Memory segment base written at 0x00000000. Size = 0x000056d0.\n",
      "[DEBUG] Memory segment base written at 0x000056d0. Size = 0x00000068.\n",
      "[DEBUG] Command \"program\" finished with return code 0\n",
      "[DEBUG] Starting execution of \"info\"\n",
      "[ERROR] Error in TCF lockbit format. Missed key Could not get Module LOCKBIT for ATSAML21J18B. (TCF Error code: 131120)\n",
      "[DEBUG] Command \"info\" finished with return code 0\n",
      "[DEBUG] Exit successfully.\n",
      "Firmware check OK\n",
      "Chiperase completed successfully\n",
      "Programming completed successfully.\n",
      "Tool edbg has firmware version: 03.25\n",
      "Target voltage: 3.31 V\n",
      "\n",
      "Device information:\n",
      "\n",
      "Name:       ATSAML21J18B  \n",
      "JtagId:     N/A           \n",
      "Revision:   C             \n",
      "Chip ID:    0x1081020f\n",
      "CPU arch.:  CORTEX-M0PLUS \n",
      "Series:     SAML21\n",
      "\n",
      "Memory Information:\n",
      "\n",
      "Address Space    StartAddress            Size\n",
      "\n",
      "base                      0x0     0x100000000\n",
      "  FLASH                   0x0         0x40000\n",
      "  CAL                0x800000             0x8\n",
      "  LOCKBIT            0x802000             0x4\n",
      "  AUX0               0x804000           0x100\n",
      "  AUX1               0x806000           0x100\n",
      "  RWW                0x400000          0x2000\n",
      "  HSRAM            0x20000000          0x8000\n",
      "  LPRAM            0x30000000          0x2000\n",
      "  HPB0             0x40000000          0x4000\n",
      "  HPB1             0x41000000         0x10000\n",
      "  HPB2             0x42000000          0x8000\n",
      "  HPB3             0x43000000          0x2000\n",
      "  HPB4             0x44000000          0x1000\n",
      "  PPB              0xe0000000        0x100000\n",
      "  SCS              0xe000e000          0x1000\n",
      "  PERIPHERALS      0x40000000      0x20000000\n",
      "\n",
      "fuses                     0x0      0x20000000\n",
      "\n",
      "OTP5_WORD_0 (0b01110111011001010010110110111111 <-> 0x77652dbf):\n",
      "   USB_TRIM      0x6\n",
      "   USB_TRANSP    0x19\n",
      "   USB_TRANSN    0x9\n",
      "   ADC_BIASCOMP  0x7\n",
      "   ADC_BIASREFBUF 0x7\n",
      "\n",
      "TEMP_LOG_WORD_1 (0b11010101010010111000100111111001 <-> 0xd54b89f9):\n",
      "   HOT_ADC_VAL   0xd54\n",
      "   ROOM_ADC_VAL  0xb89\n",
      "   HOT_INT1V_VAL 0xf9\n",
      "\n",
      "TEMP_LOG_WORD_0 (0b11111011100101010100100000011101 <-> 0xfb95481d):\n",
      "   ROOM_INT1V_VAL 0xfb\n",
      "   HOT_TEMP_VAL_DEC 0x9\n",
      "   HOT_TEMP_VAL_INT 0x54\n",
      "   ROOM_TEMP_VAL_DEC 0x8\n",
      "   ROOM_TEMP_VAL_INT 0x1d\n",
      "\n",
      "USER_WORD_1 (0b11111111111111111111100010111011 <-> 0xfffff8bb):\n",
      "   NVMCTRL_REGION_LOCKS 0xffff\n",
      "   BOD12_HYST    0\n",
      "   BOD33_HYST    0\n",
      "   WDT_WEN       0\n",
      "   WDT_EWOFFSET  0xb\n",
      "   WDT_WINDOW    0xb\n",
      "\n",
      "USER_WORD_0 (0b10110001000111101000011011111111 <-> 0xb11e86ff):\n",
      "   WDT_PER       0xb\n",
      "   WDT_ALWAYSON  0\n",
      "   WDT_ENABLE    0\n",
      "   BOD12_DIS     0\n",
      "   BOD33_ACTION  0x1\n",
      "   BOD33_DIS     0\n",
      "   BOD33USERLEVEL 0x6\n",
      "   NVMCTRL_EEPROM_SIZE 0x7\n",
      "   NVMCTRL_BOOTPROT 0x7\n",
      "\n",
      "\n"
     ]
    },
    {
     "data": {
      "text/plain": [
       "0"
      ]
     },
     "execution_count": 22,
     "metadata": {},
     "output_type": "execute_result"
    }
   ],
   "source": [
    "atprogram(\"./FFT\", device_name = \"ATSAML21J18B\",verbose=3)"
   ]
  },
  {
   "cell_type": "markdown",
   "metadata": {},
   "source": [
    "## Data Logging"
   ]
  },
  {
   "cell_type": "code",
   "execution_count": 23,
   "metadata": {},
   "outputs": [],
   "source": [
    "live_plot = True"
   ]
  },
  {
   "cell_type": "markdown",
   "metadata": {},
   "source": [
    "Create a figure for the plot."
   ]
  },
  {
   "cell_type": "code",
   "execution_count": 24,
   "metadata": {},
   "outputs": [],
   "source": [
    "if live_plot:\n",
    "    fig = plt.figure(figsize=(10, 6))\n",
    "    fig.show()"
   ]
  },
  {
   "cell_type": "markdown",
   "metadata": {},
   "source": [
    "Create the configuration dictionary for `DGILibExtra`."
   ]
  },
  {
   "cell_type": "code",
   "execution_count": 25,
   "metadata": {},
   "outputs": [],
   "source": [
    "config_dict = {\n",
    "    \"loggers\": [LOGGER_OBJECT, LOGGER_CSV],\n",
    "    \"file_name_base\": \"experiment_fft\"\n",
    "}\n",
    "config_dict_plot = {\n",
    "    \"loggers\": [LOGGER_OBJECT, LOGGER_PLOT, LOGGER_CSV],\n",
    "    \"plot_pins\": [False, False, True, True],\n",
    "    \"plot_pins_method\": \"line\",\n",
    "    \"plot_xmax\": 1,\n",
    "    \"window_title\": \"Experiment FFT\",\n",
    "}"
   ]
  },
  {
   "cell_type": "markdown",
   "metadata": {},
   "source": [
    "Stop criteria to pass to the logger:"
   ]
  },
  {
   "cell_type": "code",
   "execution_count": 26,
   "metadata": {},
   "outputs": [],
   "source": [
    "def stop_fn(logger_data):\n",
    "    return len(logger_data.gpio) and all(logger_data.gpio.values[-1])"
   ]
  },
  {
   "cell_type": "markdown",
   "metadata": {},
   "source": [
    "Stop criteria to pass to the parser:"
   ]
  },
  {
   "cell_type": "code",
   "execution_count": 27,
   "metadata": {},
   "outputs": [],
   "source": [
    "def stop_function(pin_values):\n",
    "    return all(pin_values)"
   ]
  },
  {
   "cell_type": "code",
   "execution_count": 28,
   "metadata": {},
   "outputs": [],
   "source": [
    "repetitions = 10"
   ]
  },
  {
   "cell_type": "markdown",
   "metadata": {},
   "source": [
    "Perform the measurement."
   ]
  },
  {
   "cell_type": "code",
   "execution_count": 29,
   "metadata": {},
   "outputs": [],
   "source": [
    "data = []\n",
    "cd = config_dict.copy()\n",
    "if live_plot:\n",
    "    fig.clf()\n",
    "    for ax in fig.get_axes():\n",
    "        ax.cla()\n",
    "    \n",
    "    cd.update(config_dict_plot)\n",
    "    cd[\"fig\"] = fig\n",
    "        \n",
    "charges_allocate = []\n",
    "charges_fft = []\n",
    "charges_free = []\n",
    "times_allocate = []\n",
    "times_fft = []\n",
    "times_free = []\n",
    "\n",
    "\n",
    "with DGILibExtra(**cd) as dgilib:\n",
    "    for _ in range(repetitions):\n",
    "        dgilib.device_reset()\n",
    "        dgilib.logger.log(10,stop_fn)\n",
    "        charge2, time2 = power_and_time_per_pulse(dgilib.data, 2, stop_function=stop_function)\n",
    "        charge3, time3 = power_and_time_per_pulse(dgilib.data, 3, stop_function=stop_function)\n",
    "        \n",
    "        if len(charge2) != 2 or len(time2) != 2 or len(charge3) != 1 or len(time3) != 1:\n",
    "            print(f\"Parsing of measurement data failed, charge2:{charge2}, time2:{time2}, charge3:{charge3}, time3:{time3},\")\n",
    "            break\n",
    "        charges_allocate.append(charge2[0])\n",
    "        charges_fft.append(charge3[0])\n",
    "        charges_free.append(charge2[1])\n",
    "        times_allocate.append(time2[0])\n",
    "        times_fft.append(time3[0])\n",
    "        times_free.append(time2[1])\n",
    "        dgilib.empty_data()\n",
    "\n",
    "    charges = charges_allocate + charges_fft + charges_free \n",
    "    times = times_allocate + times_fft + times_free\n",
    "    \n",
    "    \n",
    "    charges = [charge_allocate + charge_fft + charge_free for charge_allocate, charge_fft, charge_free in zip(charges_allocate, charges_fft, charges_free)]\n",
    "    times = [time_allocate + time_fft + time_free for time_allocate, time_fft, time_free in zip(times_allocate, times_fft, times_free)]\n",
    "\n",
    "    dgilib.logger.plotobj.ax.set_title(f\"Average of {repetitions} samples: charge: {sum(charges)/len(charges)*1e3:.06} mC, time: {sum(times)/len(times):.06} s\")"
   ]
  },
  {
   "cell_type": "code",
   "execution_count": 30,
   "metadata": {},
   "outputs": [],
   "source": [
    "import json\n",
    "\n",
    "config = {}\n",
    "config[\"name\"] = \"FFT 128\"\n",
    "config[\"project_paths\"] = [project_path]\n",
    "config[\"config_dict\"] = config_dict\n",
    "config[\"config_dict_plot\"] = config_dict_plot\n",
    "config[\"analysis\"] = {\"pins\":{2: [\"Allocate FFT\", \"Free FFT\"], 3: [\"FFT\"]}, \n",
    "                      \"result_types\": [\"Charge\", \"Time\"], \n",
    "                      \"section_types\": {\"init\": [\"Allocate FFT\"], \n",
    "                                        \"loop\": [\"FFT\"],\n",
    "                                        \"exit\": [\"Free FFT\"]}}\n",
    "\n",
    "with open(\"repeated_experiment.json\", 'w') as config_file:  \n",
    "    json.dump(config, config_file, indent=4)"
   ]
  },
  {
   "cell_type": "code",
   "execution_count": 31,
   "metadata": {},
   "outputs": [],
   "source": [
    "import pandas as pd"
   ]
  },
  {
   "cell_type": "code",
   "execution_count": 32,
   "metadata": {},
   "outputs": [],
   "source": [
    "df = pd.DataFrame({'charges_allocate': charges_allocate, 'charges_fft':charges_fft, 'charges_free':charges_free, 'times_allocate':times_allocate, 'times_fft':times_fft, 'times_free':times_free})"
   ]
  },
  {
   "cell_type": "code",
   "execution_count": 33,
   "metadata": {},
   "outputs": [
    {
     "data": {
      "text/html": [
       "<div>\n",
       "<style scoped>\n",
       "    .dataframe tbody tr th:only-of-type {\n",
       "        vertical-align: middle;\n",
       "    }\n",
       "\n",
       "    .dataframe tbody tr th {\n",
       "        vertical-align: top;\n",
       "    }\n",
       "\n",
       "    .dataframe thead th {\n",
       "        text-align: right;\n",
       "    }\n",
       "</style>\n",
       "<table border=\"1\" class=\"dataframe\">\n",
       "  <thead>\n",
       "    <tr style=\"text-align: right;\">\n",
       "      <th></th>\n",
       "      <th>charges_allocate</th>\n",
       "      <th>charges_fft</th>\n",
       "      <th>charges_free</th>\n",
       "      <th>times_allocate</th>\n",
       "      <th>times_fft</th>\n",
       "      <th>times_free</th>\n",
       "    </tr>\n",
       "  </thead>\n",
       "  <tbody>\n",
       "    <tr>\n",
       "      <th>0</th>\n",
       "      <td>0.000314</td>\n",
       "      <td>0.000072</td>\n",
       "      <td>2.612489e-08</td>\n",
       "      <td>0.488990</td>\n",
       "      <td>0.125926</td>\n",
       "      <td>0.000066</td>\n",
       "    </tr>\n",
       "    <tr>\n",
       "      <th>1</th>\n",
       "      <td>0.000314</td>\n",
       "      <td>0.000072</td>\n",
       "      <td>3.358995e-08</td>\n",
       "      <td>0.488992</td>\n",
       "      <td>0.125926</td>\n",
       "      <td>0.000066</td>\n",
       "    </tr>\n",
       "    <tr>\n",
       "      <th>2</th>\n",
       "      <td>0.000314</td>\n",
       "      <td>0.000072</td>\n",
       "      <td>0.000000e+00</td>\n",
       "      <td>0.488998</td>\n",
       "      <td>0.125995</td>\n",
       "      <td>0.000000</td>\n",
       "    </tr>\n",
       "    <tr>\n",
       "      <th>3</th>\n",
       "      <td>0.000314</td>\n",
       "      <td>0.000072</td>\n",
       "      <td>0.000000e+00</td>\n",
       "      <td>0.489130</td>\n",
       "      <td>0.125995</td>\n",
       "      <td>0.000000</td>\n",
       "    </tr>\n",
       "    <tr>\n",
       "      <th>4</th>\n",
       "      <td>0.000314</td>\n",
       "      <td>0.000072</td>\n",
       "      <td>2.612489e-08</td>\n",
       "      <td>0.489069</td>\n",
       "      <td>0.125925</td>\n",
       "      <td>0.000066</td>\n",
       "    </tr>\n",
       "    <tr>\n",
       "      <th>5</th>\n",
       "      <td>0.000314</td>\n",
       "      <td>0.000072</td>\n",
       "      <td>2.519186e-08</td>\n",
       "      <td>0.489064</td>\n",
       "      <td>0.125929</td>\n",
       "      <td>0.000066</td>\n",
       "    </tr>\n",
       "    <tr>\n",
       "      <th>6</th>\n",
       "      <td>0.000314</td>\n",
       "      <td>0.000072</td>\n",
       "      <td>2.612531e-08</td>\n",
       "      <td>0.489057</td>\n",
       "      <td>0.125925</td>\n",
       "      <td>0.000066</td>\n",
       "    </tr>\n",
       "    <tr>\n",
       "      <th>7</th>\n",
       "      <td>0.000314</td>\n",
       "      <td>0.000072</td>\n",
       "      <td>2.519450e-08</td>\n",
       "      <td>0.489056</td>\n",
       "      <td>0.125929</td>\n",
       "      <td>0.000066</td>\n",
       "    </tr>\n",
       "    <tr>\n",
       "      <th>8</th>\n",
       "      <td>0.000314</td>\n",
       "      <td>0.000072</td>\n",
       "      <td>2.612531e-08</td>\n",
       "      <td>0.489000</td>\n",
       "      <td>0.125929</td>\n",
       "      <td>0.000066</td>\n",
       "    </tr>\n",
       "    <tr>\n",
       "      <th>9</th>\n",
       "      <td>0.000314</td>\n",
       "      <td>0.000072</td>\n",
       "      <td>0.000000e+00</td>\n",
       "      <td>0.488998</td>\n",
       "      <td>0.125930</td>\n",
       "      <td>0.000000</td>\n",
       "    </tr>\n",
       "  </tbody>\n",
       "</table>\n",
       "</div>"
      ],
      "text/plain": [
       "   charges_allocate  charges_fft  charges_free  times_allocate  times_fft  \\\n",
       "0          0.000314     0.000072  2.612489e-08        0.488990   0.125926   \n",
       "1          0.000314     0.000072  3.358995e-08        0.488992   0.125926   \n",
       "2          0.000314     0.000072  0.000000e+00        0.488998   0.125995   \n",
       "3          0.000314     0.000072  0.000000e+00        0.489130   0.125995   \n",
       "4          0.000314     0.000072  2.612489e-08        0.489069   0.125925   \n",
       "5          0.000314     0.000072  2.519186e-08        0.489064   0.125929   \n",
       "6          0.000314     0.000072  2.612531e-08        0.489057   0.125925   \n",
       "7          0.000314     0.000072  2.519450e-08        0.489056   0.125929   \n",
       "8          0.000314     0.000072  2.612531e-08        0.489000   0.125929   \n",
       "9          0.000314     0.000072  0.000000e+00        0.488998   0.125930   \n",
       "\n",
       "   times_free  \n",
       "0    0.000066  \n",
       "1    0.000066  \n",
       "2    0.000000  \n",
       "3    0.000000  \n",
       "4    0.000066  \n",
       "5    0.000066  \n",
       "6    0.000066  \n",
       "7    0.000066  \n",
       "8    0.000066  \n",
       "9    0.000000  "
      ]
     },
     "execution_count": 33,
     "metadata": {},
     "output_type": "execute_result"
    }
   ],
   "source": [
    "df"
   ]
  },
  {
   "cell_type": "code",
   "execution_count": 34,
   "metadata": {},
   "outputs": [
    {
     "data": {
      "text/html": [
       "<div>\n",
       "<style scoped>\n",
       "    .dataframe tbody tr th:only-of-type {\n",
       "        vertical-align: middle;\n",
       "    }\n",
       "\n",
       "    .dataframe tbody tr th {\n",
       "        vertical-align: top;\n",
       "    }\n",
       "\n",
       "    .dataframe thead th {\n",
       "        text-align: right;\n",
       "    }\n",
       "</style>\n",
       "<table border=\"1\" class=\"dataframe\">\n",
       "  <thead>\n",
       "    <tr style=\"text-align: right;\">\n",
       "      <th></th>\n",
       "      <th>charges_allocate</th>\n",
       "      <th>charges_fft</th>\n",
       "      <th>charges_free</th>\n",
       "      <th>times_allocate</th>\n",
       "      <th>times_fft</th>\n",
       "      <th>times_free</th>\n",
       "    </tr>\n",
       "  </thead>\n",
       "  <tbody>\n",
       "    <tr>\n",
       "      <th>count</th>\n",
       "      <td>1.000000e+01</td>\n",
       "      <td>1.000000e+01</td>\n",
       "      <td>1.000000e+01</td>\n",
       "      <td>10.000000</td>\n",
       "      <td>10.000000</td>\n",
       "      <td>10.000000</td>\n",
       "    </tr>\n",
       "    <tr>\n",
       "      <th>mean</th>\n",
       "      <td>3.136024e-04</td>\n",
       "      <td>7.224295e-05</td>\n",
       "      <td>1.884767e-08</td>\n",
       "      <td>0.489035</td>\n",
       "      <td>0.125941</td>\n",
       "      <td>0.000046</td>\n",
       "    </tr>\n",
       "    <tr>\n",
       "      <th>std</th>\n",
       "      <td>6.921281e-08</td>\n",
       "      <td>6.023594e-08</td>\n",
       "      <td>1.323049e-08</td>\n",
       "      <td>0.000047</td>\n",
       "      <td>0.000029</td>\n",
       "      <td>0.000032</td>\n",
       "    </tr>\n",
       "    <tr>\n",
       "      <th>min</th>\n",
       "      <td>3.135148e-04</td>\n",
       "      <td>7.215042e-05</td>\n",
       "      <td>0.000000e+00</td>\n",
       "      <td>0.488990</td>\n",
       "      <td>0.125925</td>\n",
       "      <td>0.000000</td>\n",
       "    </tr>\n",
       "    <tr>\n",
       "      <th>25%</th>\n",
       "      <td>3.135442e-04</td>\n",
       "      <td>7.220244e-05</td>\n",
       "      <td>6.297964e-09</td>\n",
       "      <td>0.488998</td>\n",
       "      <td>0.125926</td>\n",
       "      <td>0.000016</td>\n",
       "    </tr>\n",
       "    <tr>\n",
       "      <th>50%</th>\n",
       "      <td>3.135947e-04</td>\n",
       "      <td>7.225767e-05</td>\n",
       "      <td>2.565969e-08</td>\n",
       "      <td>0.489028</td>\n",
       "      <td>0.125929</td>\n",
       "      <td>0.000066</td>\n",
       "    </tr>\n",
       "    <tr>\n",
       "      <th>75%</th>\n",
       "      <td>3.136452e-04</td>\n",
       "      <td>7.226577e-05</td>\n",
       "      <td>2.612520e-08</td>\n",
       "      <td>0.489062</td>\n",
       "      <td>0.125930</td>\n",
       "      <td>0.000066</td>\n",
       "    </tr>\n",
       "    <tr>\n",
       "      <th>max</th>\n",
       "      <td>3.137169e-04</td>\n",
       "      <td>7.233903e-05</td>\n",
       "      <td>3.358995e-08</td>\n",
       "      <td>0.489130</td>\n",
       "      <td>0.125995</td>\n",
       "      <td>0.000066</td>\n",
       "    </tr>\n",
       "  </tbody>\n",
       "</table>\n",
       "</div>"
      ],
      "text/plain": [
       "       charges_allocate   charges_fft  charges_free  times_allocate  \\\n",
       "count      1.000000e+01  1.000000e+01  1.000000e+01       10.000000   \n",
       "mean       3.136024e-04  7.224295e-05  1.884767e-08        0.489035   \n",
       "std        6.921281e-08  6.023594e-08  1.323049e-08        0.000047   \n",
       "min        3.135148e-04  7.215042e-05  0.000000e+00        0.488990   \n",
       "25%        3.135442e-04  7.220244e-05  6.297964e-09        0.488998   \n",
       "50%        3.135947e-04  7.225767e-05  2.565969e-08        0.489028   \n",
       "75%        3.136452e-04  7.226577e-05  2.612520e-08        0.489062   \n",
       "max        3.137169e-04  7.233903e-05  3.358995e-08        0.489130   \n",
       "\n",
       "       times_fft  times_free  \n",
       "count  10.000000   10.000000  \n",
       "mean    0.125941    0.000046  \n",
       "std     0.000029    0.000032  \n",
       "min     0.125925    0.000000  \n",
       "25%     0.125926    0.000016  \n",
       "50%     0.125929    0.000066  \n",
       "75%     0.125930    0.000066  \n",
       "max     0.125995    0.000066  "
      ]
     },
     "execution_count": 34,
     "metadata": {},
     "output_type": "execute_result"
    }
   ],
   "source": [
    "df.describe()"
   ]
  },
  {
   "cell_type": "code",
   "execution_count": null,
   "metadata": {},
   "outputs": [],
   "source": []
  },
  {
   "cell_type": "code",
   "execution_count": null,
   "metadata": {},
   "outputs": [],
   "source": []
  }
 ],
 "metadata": {
  "kernelspec": {
   "display_name": "Python 3",
   "language": "python",
   "name": "python3"
  },
  "language_info": {
   "codemirror_mode": {
    "name": "ipython",
    "version": 3
   },
   "file_extension": ".py",
   "mimetype": "text/x-python",
   "name": "python",
   "nbconvert_exporter": "python",
   "pygments_lexer": "ipython3",
   "version": "3.8.1"
  }
 },
 "nbformat": 4,
 "nbformat_minor": 4
}

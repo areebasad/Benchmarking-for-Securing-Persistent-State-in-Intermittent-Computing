{
 "cells": [
  {
   "cell_type": "markdown",
   "metadata": {},
   "source": [
    "## Import Libraries"
   ]
  },
  {
   "cell_type": "code",
   "execution_count": 1,
   "metadata": {},
   "outputs": [],
   "source": [
    "# %matplotlib ipympl\n",
    "# %matplotlib inline\n",
    "%matplotlib wx"
   ]
  },
  {
   "cell_type": "code",
   "execution_count": 2,
   "metadata": {},
   "outputs": [],
   "source": [
    "import matplotlib.pyplot as plt\n",
    "plt.ion()"
   ]
  },
  {
   "cell_type": "code",
   "execution_count": 3,
   "metadata": {},
   "outputs": [],
   "source": [
    "from pydgilib_extra import *\n",
    "from atprogram.atprogram import atprogram"
   ]
  },
  {
   "cell_type": "code",
   "execution_count": 4,
   "metadata": {},
   "outputs": [],
   "source": [
    "from os import path, pardir"
   ]
  },
  {
   "cell_type": "markdown",
   "metadata": {},
   "source": [
    "## Compile and program project"
   ]
  },
  {
   "cell_type": "code",
   "execution_count": 9,
   "metadata": {},
   "outputs": [
    {
     "data": {
      "text/plain": [
       "['.', 'Sorting']"
      ]
     },
     "execution_count": 9,
     "metadata": {},
     "output_type": "execute_result"
    }
   ],
   "source": [
    "project_path = [path.curdir, \"Sorting\"]\n",
    "project_path"
   ]
  },
  {
   "cell_type": "code",
   "execution_count": 11,
   "metadata": {},
   "outputs": [
    {
     "name": "stdout",
     "output_type": "stream",
     "text": [
      "make: Nothing to be done for 'all'.\n",
      "\n",
      "[DEBUG] Starting execution of \"chiperase\"\n",
      "[DEBUG] Starting process 'C:\\Program Files (x86)\\Atmel\\Studio\\7.0\\atbackend\\atbackend.exe'\n",
      "[DEBUG] Connecting to TCP:127.0.0.1:53454\n",
      "[INFO] Connected to edbg, fw version: 3.25\n",
      "[INFO] Firmware check OK\n",
      "[DEBUG] Command \"chiperase\" finished with return code 0\n",
      "[DEBUG] Starting execution of \"program\"\n",
      "[DEBUG] Memory segment base written at 0x00000000. Size = 0x000007fc.\n",
      "[DEBUG] Memory segment base written at 0x000007fc. Size = 0x00000100.\n",
      "[DEBUG] Command \"program\" finished with return code 0\n",
      "[DEBUG] Exit successfully.\n",
      "Firmware check OK\n",
      "Chiperase completed successfully\n",
      "Programming completed successfully.\n",
      "\n"
     ]
    },
    {
     "data": {
      "text/plain": [
       "0"
      ]
     },
     "execution_count": 11,
     "metadata": {},
     "output_type": "execute_result"
    }
   ],
   "source": [
    "atprogram(\"./Sorting\",device_name = \"ATSAML21J18B\", verbose=2)"
   ]
  },
  {
   "cell_type": "markdown",
   "metadata": {},
   "source": [
    "## Data Logging"
   ]
  },
  {
   "cell_type": "code",
   "execution_count": 12,
   "metadata": {},
   "outputs": [],
   "source": [
    "live_plot = True"
   ]
  },
  {
   "cell_type": "markdown",
   "metadata": {},
   "source": [
    "Create a figure for the plot."
   ]
  },
  {
   "cell_type": "code",
   "execution_count": 13,
   "metadata": {},
   "outputs": [],
   "source": [
    "if live_plot:\n",
    "    fig = plt.figure(figsize=(10, 6))\n",
    "    fig.show()"
   ]
  },
  {
   "cell_type": "markdown",
   "metadata": {},
   "source": [
    "Create the configuration dictionary for `DGILibExtra`."
   ]
  },
  {
   "cell_type": "code",
   "execution_count": 14,
   "metadata": {},
   "outputs": [],
   "source": [
    "config_dict = {\n",
    "    \"loggers\": [LOGGER_OBJECT, LOGGER_CSV],\n",
    "    \"file_name_base\": \"experiment_sorting\"\n",
    "}\n",
    "config_dict_plot = {\n",
    "    \"loggers\": [LOGGER_OBJECT, LOGGER_PLOT, LOGGER_CSV],\n",
    "    \"plot_pins\": [False, False, True, False],\n",
    "    \"plot_pins_method\": \"line\",\n",
    "    \"plot_xmax\": 0.6,\n",
    "    \"window_title\": \"Experiment Sorting\",\n",
    "}"
   ]
  },
  {
   "cell_type": "markdown",
   "metadata": {},
   "source": [
    "Stop criteria to pass to the logger:"
   ]
  },
  {
   "cell_type": "code",
   "execution_count": 15,
   "metadata": {},
   "outputs": [],
   "source": [
    "def stop_fn(logger_data):\n",
    "    return len(logger_data.gpio) and all(logger_data.gpio.values[-1])"
   ]
  },
  {
   "cell_type": "markdown",
   "metadata": {},
   "source": [
    "Stop criteria to pass to the parser:"
   ]
  },
  {
   "cell_type": "code",
   "execution_count": 16,
   "metadata": {},
   "outputs": [],
   "source": [
    "def stop_function(pin_values):\n",
    "    return all(pin_values)"
   ]
  },
  {
   "cell_type": "code",
   "execution_count": 17,
   "metadata": {},
   "outputs": [],
   "source": [
    "repetitions = 10"
   ]
  },
  {
   "cell_type": "markdown",
   "metadata": {},
   "source": [
    "Perform the measurement."
   ]
  },
  {
   "cell_type": "code",
   "execution_count": 19,
   "metadata": {},
   "outputs": [
    {
     "name": "stdout",
     "output_type": "stream",
     "text": [
      "Parsing of measurement data failed, charge:[], time:[]\n"
     ]
    }
   ],
   "source": [
    "data = []\n",
    "cd = config_dict.copy()\n",
    "if live_plot:\n",
    "    fig.clf()\n",
    "    for ax in fig.get_axes():\n",
    "        ax.cla()\n",
    "    \n",
    "    cd.update(config_dict_plot)\n",
    "    cd[\"fig\"] = fig\n",
    "        \n",
    "charges = []\n",
    "times = []\n",
    "\n",
    "with DGILibExtra(**cd) as dgilib:\n",
    "    for _ in range(repetitions):\n",
    "        dgilib.device_reset()\n",
    "        dgilib.logger.log(2,stop_fn)\n",
    "        charge, time = power_and_time_per_pulse(dgilib.data, 2, stop_function=stop_function)\n",
    "        charges += charge\n",
    "        times += time\n",
    "        if len(charge) != 1 or len(time) != 1:\n",
    "            print(f\"Parsing of measurement data failed, charge:{charge}, time:{time}\")\n",
    "            break\n",
    "        dgilib.empty_data()\n",
    "    \n",
    "    dgilib.logger.plotobj.ax.set_title(f\"Average of {repetitions} samples: charge: {sum(charges)/len(charges)*1e3:.06} mC, time: {sum(times)/len(times):.06} s\")"
   ]
  },
  {
   "cell_type": "code",
   "execution_count": 20,
   "metadata": {},
   "outputs": [],
   "source": [
    "import json\n",
    "\n",
    "config = {}\n",
    "config[\"name\"] = \"Sorting 1024\"\n",
    "config[\"project_paths\"] = [project_path]\n",
    "config[\"config_dict\"] = config_dict\n",
    "config[\"config_dict_plot\"] = config_dict_plot\n",
    "config[\"analysis\"] = {\"pins\":{2: [\"Sorting\"]}, \n",
    "                      \"result_types\": [\"Charge\", \"Time\"], \n",
    "                      \"section_types\": {\"init\": [], \n",
    "                                        \"loop\": [\"Sorting\"],\n",
    "                                        \"exit\": []}}\n",
    "\n",
    "with open(\"repeated_experiment.json\", 'w') as config_file:  \n",
    "    json.dump(config, config_file, indent=4)"
   ]
  },
  {
   "cell_type": "markdown",
   "metadata": {},
   "source": [
    "## Generate test data"
   ]
  },
  {
   "cell_type": "code",
   "execution_count": 21,
   "metadata": {},
   "outputs": [
    {
     "name": "stdout",
     "output_type": "stream",
     "text": [
      "Unsorted:\n",
      "[8, 109, 201, 179, 86, 42, 206, 240, 7, 226, 186, 120, 86, 71, 80, 163, 108, 150, 7, 88, 4, 160, 91, 68, 173, 104, 88, 144, 111, 9, 61, 54, 45, 66, 71, 86, 227, 123, 164, 136, 50, 0, 135, 227, 82, 57, 88, 165, 205, 189, 246, 221, 63, 91, 107, 9, 213, 132, 178, 137, 110, 86, 139, 18, 16, 85, 102, 124, 111, 242, 128, 208, 186, 97, 22, 250, 154, 222, 65, 222, 194, 187, 241, 189, 233, 44, 112, 66, 177, 135, 145, 3, 208, 100, 91, 187, 231, 165, 3, 239, 42, 165, 188, 208, 67, 42, 144, 110, 31, 211, 225, 225, 38, 85, 85, 203, 27, 200, 176, 48, 1, 153, 20, 52, 86, 101, 39, 211, 213, 233, 190, 60, 121, 69, 238, 250, 190, 89, 99, 180, 245, 33, 83, 157, 135, 235, 216, 206, 249, 178, 55, 208, 179, 141, 155, 33, 111, 254, 63, 39, 134, 95, 244, 182, 68, 71, 220, 134, 227, 74, 5, 230, 74, 158, 109, 46, 77, 27, 90, 18, 15, 158, 93, 8, 135, 150, 10, 86, 134, 191, 62, 32, 23, 167, 142, 141, 247, 57, 106, 195, 75, 238, 187, 112, 182, 38, 62, 103, 44, 252, 48, 38, 219, 87, 243, 46, 135, 232, 186, 11, 146, 96, 222, 32, 161, 32, 27, 183, 86, 223, 107, 207, 10, 195, 45, 196, 72, 161, 186, 127, 26, 17, 244, 170, 210, 49, 111, 68, 32, 140, 94, 222, 161, 98, 180, 34]\n",
      "Sorted:\n",
      "[0, 1, 3, 3, 4, 5, 7, 7, 8, 8, 9, 9, 10, 10, 11, 15, 16, 17, 18, 18, 20, 22, 23, 26, 27, 27, 27, 31, 32, 32, 32, 32, 33, 33, 34, 38, 38, 38, 39, 39, 42, 42, 42, 44, 44, 45, 45, 46, 46, 48, 48, 49, 50, 52, 54, 55, 57, 57, 60, 61, 62, 62, 63, 63, 65, 66, 66, 67, 68, 68, 68, 69, 71, 71, 71, 72, 74, 74, 75, 77, 80, 82, 83, 85, 85, 85, 86, 86, 86, 86, 86, 86, 86, 87, 88, 88, 88, 89, 90, 91, 91, 91, 93, 94, 95, 96, 97, 98, 99, 100, 101, 102, 103, 104, 106, 107, 107, 108, 109, 109, 110, 110, 111, 111, 111, 111, 112, 112, 120, 121, 123, 124, 127, 128, 132, 134, 134, 134, 135, 135, 135, 135, 135, 136, 137, 139, 140, 141, 141, 142, 144, 144, 145, 146, 150, 150, 153, 154, 155, 157, 158, 158, 160, 161, 161, 161, 163, 164, 165, 165, 165, 167, 170, 173, 176, 177, 178, 178, 179, 179, 180, 180, 182, 182, 183, 186, 186, 186, 186, 187, 187, 187, 188, 189, 189, 190, 190, 191, 194, 195, 195, 196, 200, 201, 203, 205, 206, 206, 207, 208, 208, 208, 208, 210, 211, 211, 213, 213, 216, 219, 220, 221, 222, 222, 222, 222, 223, 225, 225, 226, 227, 227, 227, 230, 231, 232, 233, 233, 235, 238, 238, 239, 240, 241, 242, 243, 244, 244, 245, 246, 247, 249, 250, 250, 252, 254]\n"
     ]
    }
   ],
   "source": [
    "import numpy as np\n",
    "np.random.seed(314)\n",
    "n = 256\n",
    "int_max = 255\n",
    "randints = np.random.randint(int_max+1, size=n)\n",
    "print(\"Unsorted:\")\n",
    "print(list(randints))\n",
    "randints.sort()\n",
    "print(\"Sorted:\")\n",
    "print(list(randints))"
   ]
  },
  {
   "cell_type": "markdown",
   "metadata": {},
   "source": [
    "## Analysis"
   ]
  },
  {
   "cell_type": "code",
   "execution_count": 22,
   "metadata": {},
   "outputs": [],
   "source": [
    "import pandas as pd"
   ]
  },
  {
   "cell_type": "code",
   "execution_count": 23,
   "metadata": {},
   "outputs": [],
   "source": [
    "df = pd.DataFrame({'times': times, 'charges':charges})"
   ]
  },
  {
   "cell_type": "code",
   "execution_count": 24,
   "metadata": {},
   "outputs": [
    {
     "data": {
      "text/html": [
       "<div>\n",
       "<style scoped>\n",
       "    .dataframe tbody tr th:only-of-type {\n",
       "        vertical-align: middle;\n",
       "    }\n",
       "\n",
       "    .dataframe tbody tr th {\n",
       "        vertical-align: top;\n",
       "    }\n",
       "\n",
       "    .dataframe thead th {\n",
       "        text-align: right;\n",
       "    }\n",
       "</style>\n",
       "<table border=\"1\" class=\"dataframe\">\n",
       "  <thead>\n",
       "    <tr style=\"text-align: right;\">\n",
       "      <th></th>\n",
       "      <th>times</th>\n",
       "      <th>charges</th>\n",
       "    </tr>\n",
       "  </thead>\n",
       "  <tbody>\n",
       "    <tr>\n",
       "      <th>0</th>\n",
       "      <td>0.010693</td>\n",
       "      <td>0.000005</td>\n",
       "    </tr>\n",
       "    <tr>\n",
       "      <th>1</th>\n",
       "      <td>0.010693</td>\n",
       "      <td>0.000005</td>\n",
       "    </tr>\n",
       "    <tr>\n",
       "      <th>2</th>\n",
       "      <td>0.010692</td>\n",
       "      <td>0.000005</td>\n",
       "    </tr>\n",
       "  </tbody>\n",
       "</table>\n",
       "</div>"
      ],
      "text/plain": [
       "      times   charges\n",
       "0  0.010693  0.000005\n",
       "1  0.010693  0.000005\n",
       "2  0.010692  0.000005"
      ]
     },
     "execution_count": 24,
     "metadata": {},
     "output_type": "execute_result"
    }
   ],
   "source": [
    "df"
   ]
  },
  {
   "cell_type": "code",
   "execution_count": 25,
   "metadata": {},
   "outputs": [
    {
     "data": {
      "text/html": [
       "<div>\n",
       "<style scoped>\n",
       "    .dataframe tbody tr th:only-of-type {\n",
       "        vertical-align: middle;\n",
       "    }\n",
       "\n",
       "    .dataframe tbody tr th {\n",
       "        vertical-align: top;\n",
       "    }\n",
       "\n",
       "    .dataframe thead th {\n",
       "        text-align: right;\n",
       "    }\n",
       "</style>\n",
       "<table border=\"1\" class=\"dataframe\">\n",
       "  <thead>\n",
       "    <tr style=\"text-align: right;\">\n",
       "      <th></th>\n",
       "      <th>times</th>\n",
       "      <th>charges</th>\n",
       "    </tr>\n",
       "  </thead>\n",
       "  <tbody>\n",
       "    <tr>\n",
       "      <th>count</th>\n",
       "      <td>3.000000e+00</td>\n",
       "      <td>3.000000e+00</td>\n",
       "    </tr>\n",
       "    <tr>\n",
       "      <th>mean</th>\n",
       "      <td>1.069235e-02</td>\n",
       "      <td>4.835712e-06</td>\n",
       "    </tr>\n",
       "    <tr>\n",
       "      <th>std</th>\n",
       "      <td>5.255507e-07</td>\n",
       "      <td>3.381322e-08</td>\n",
       "    </tr>\n",
       "    <tr>\n",
       "      <th>min</th>\n",
       "      <td>1.069174e-02</td>\n",
       "      <td>4.815532e-06</td>\n",
       "    </tr>\n",
       "    <tr>\n",
       "      <th>25%</th>\n",
       "      <td>1.069217e-02</td>\n",
       "      <td>4.816193e-06</td>\n",
       "    </tr>\n",
       "    <tr>\n",
       "      <th>50%</th>\n",
       "      <td>1.069260e-02</td>\n",
       "      <td>4.816854e-06</td>\n",
       "    </tr>\n",
       "    <tr>\n",
       "      <th>75%</th>\n",
       "      <td>1.069265e-02</td>\n",
       "      <td>4.845801e-06</td>\n",
       "    </tr>\n",
       "    <tr>\n",
       "      <th>max</th>\n",
       "      <td>1.069269e-02</td>\n",
       "      <td>4.874748e-06</td>\n",
       "    </tr>\n",
       "  </tbody>\n",
       "</table>\n",
       "</div>"
      ],
      "text/plain": [
       "              times       charges\n",
       "count  3.000000e+00  3.000000e+00\n",
       "mean   1.069235e-02  4.835712e-06\n",
       "std    5.255507e-07  3.381322e-08\n",
       "min    1.069174e-02  4.815532e-06\n",
       "25%    1.069217e-02  4.816193e-06\n",
       "50%    1.069260e-02  4.816854e-06\n",
       "75%    1.069265e-02  4.845801e-06\n",
       "max    1.069269e-02  4.874748e-06"
      ]
     },
     "execution_count": 25,
     "metadata": {},
     "output_type": "execute_result"
    }
   ],
   "source": [
    "df.describe()"
   ]
  },
  {
   "cell_type": "code",
   "execution_count": 26,
   "metadata": {},
   "outputs": [
    {
     "data": {
      "text/plain": [
       "1.4507135012467188e-06"
      ]
     },
     "execution_count": 26,
     "metadata": {},
     "output_type": "execute_result"
    }
   ],
   "source": [
    "sum(charges)/repetitions"
   ]
  },
  {
   "cell_type": "code",
   "execution_count": 27,
   "metadata": {},
   "outputs": [
    {
     "name": "stdout",
     "output_type": "stream",
     "text": [
      "0.0000014507135012467187732332005167812383206182857975363731384277343750000000000000000000000000000000\n"
     ]
    }
   ],
   "source": [
    "print(\"%.0100f\" % (sum(charges)/repetitions))"
   ]
  },
  {
   "cell_type": "code",
   "execution_count": null,
   "metadata": {},
   "outputs": [],
   "source": []
  },
  {
   "cell_type": "code",
   "execution_count": null,
   "metadata": {},
   "outputs": [],
   "source": []
  },
  {
   "cell_type": "code",
   "execution_count": 28,
   "metadata": {},
   "outputs": [
    {
     "data": {
      "text/plain": [
       "375.0"
      ]
     },
     "execution_count": 28,
     "metadata": {},
     "output_type": "execute_result"
    }
   ],
   "source": [
    "6000/16"
   ]
  },
  {
   "cell_type": "code",
   "execution_count": null,
   "metadata": {},
   "outputs": [],
   "source": []
  },
  {
   "cell_type": "code",
   "execution_count": null,
   "metadata": {},
   "outputs": [],
   "source": []
  }
 ],
 "metadata": {
  "kernelspec": {
   "display_name": "Python 3",
   "language": "python",
   "name": "python3"
  },
  "language_info": {
   "codemirror_mode": {
    "name": "ipython",
    "version": 3
   },
   "file_extension": ".py",
   "mimetype": "text/x-python",
   "name": "python",
   "nbconvert_exporter": "python",
   "pygments_lexer": "ipython3",
   "version": "3.8.1"
  }
 },
 "nbformat": 4,
 "nbformat_minor": 4
}

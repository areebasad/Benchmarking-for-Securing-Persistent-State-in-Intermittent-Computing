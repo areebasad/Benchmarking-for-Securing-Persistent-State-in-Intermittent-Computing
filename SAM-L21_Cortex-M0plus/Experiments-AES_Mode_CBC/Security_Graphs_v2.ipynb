{
 "cells": [
  {
   "cell_type": "code",
   "execution_count": 1,
   "metadata": {},
   "outputs": [],
   "source": [
    "# %matplotlib ipympl\n",
    "# %matplotlib inline\n",
    "%matplotlib wx"
   ]
  },
  {
   "cell_type": "code",
   "execution_count": 2,
   "metadata": {},
   "outputs": [],
   "source": [
    "import matplotlib.pyplot as plt\n",
    "import numpy as np\n",
    "import pickle\n",
    "from os import path"
   ]
  },
  {
   "cell_type": "code",
   "execution_count": 3,
   "metadata": {},
   "outputs": [],
   "source": [
    "security_projects=['AES-128_Flash', 'AES-256_Flash', 'TrustZone_Flash', 'No_Security_Flash']"
   ]
  },
  {
   "cell_type": "code",
   "execution_count": 4,
   "metadata": {},
   "outputs": [
    {
     "name": "stdout",
     "output_type": "stream",
     "text": [
      "8 128\n",
      "13 208\n"
     ]
    }
   ],
   "source": [
    "aes128_path = [\"Security\", \"AES-128_Flash\"]\n",
    "\n",
    "aes128_encrypt_energy_mJ = pickle.load(open(path.join(*aes128_path, \"aes_flash_encrypt_energy_mJ.p\"), \"rb\"))\n",
    "aes128_decrypt_energy_mJ = pickle.load(open(path.join(*aes128_path, \"aes_flash_decrypt_energy_mJ.p\"), \"rb\"))\n",
    "aes128_flash_write_energy_mJ = pickle.load(open(path.join(*aes128_path, \"aes_flash_write_energy_mJ.p\"), \"rb\"))\n",
    "aes128_flash_read_energy_mJ = pickle.load(open(path.join(*aes128_path, \"aes_flash_read_energy_mJ.p\"), \"rb\"))\n",
    "aes128_encrypt_time_ms = pickle.load(open(path.join(*aes128_path, \"aes_flash_encrypt_time_ms.p\"), \"rb\"))\n",
    "aes128_decrypt_time_ms = pickle.load(open(path.join(*aes128_path, \"aes_flash_decrypt_time_ms.p\"), \"rb\"))\n",
    "aes128_flash_write_time_ms = pickle.load(open(path.join(*aes128_path, \"aes_flash_write_time_ms.p\"), \"rb\"))\n",
    "aes128_flash_read_time_ms = pickle.load(open(path.join(*aes128_path, \"aes_flash_read_time_ms.p\"), \"rb\"))\n",
    "aes128 = [\n",
    "    aes128_encrypt_energy_mJ,\n",
    "    aes128_decrypt_energy_mJ,\n",
    "    aes128_flash_write_energy_mJ,\n",
    "    aes128_flash_read_energy_mJ,\n",
    "    aes128_encrypt_time_ms,\n",
    "    aes128_decrypt_time_ms,\n",
    "    aes128_flash_write_time_ms,\n",
    "    aes128_flash_read_time_ms,\n",
    "]\n",
    "for i in aes128_path:\n",
    "    print(len(i), len(i)*16)"
   ]
  },
  {
   "cell_type": "code",
   "execution_count": 5,
   "metadata": {},
   "outputs": [
    {
     "name": "stdout",
     "output_type": "stream",
     "text": [
      "8 128\n",
      "13 208\n"
     ]
    }
   ],
   "source": [
    "aes256_path = [\"Security\", \"AES-256_Flash\"]\n",
    "\n",
    "aes256_encrypt_energy_mJ = pickle.load(open(path.join(*aes256_path, \"aes_flash_encrypt_energy_mJ.p\"), \"rb\"))\n",
    "aes256_decrypt_energy_mJ = pickle.load(open(path.join(*aes256_path, \"aes_flash_decrypt_energy_mJ.p\"), \"rb\"))\n",
    "aes256_flash_write_energy_mJ = pickle.load(open(path.join(*aes256_path, \"aes_flash_write_energy_mJ.p\"), \"rb\"))\n",
    "aes256_flash_read_energy_mJ = pickle.load(open(path.join(*aes256_path, \"aes_flash_read_energy_mJ.p\"), \"rb\"))\n",
    "aes256_encrypt_time_ms = pickle.load(open(path.join(*aes256_path, \"aes_flash_encrypt_time_ms.p\"), \"rb\"))\n",
    "aes256_decrypt_time_ms = pickle.load(open(path.join(*aes256_path, \"aes_flash_decrypt_time_ms.p\"), \"rb\"))\n",
    "aes256_flash_write_time_ms = pickle.load(open(path.join(*aes256_path, \"aes_flash_write_time_ms.p\"), \"rb\"))\n",
    "aes256_flash_read_time_ms = pickle.load(open(path.join(*aes256_path, \"aes_flash_read_time_ms.p\"), \"rb\"))\n",
    "aes256 = [\n",
    "    aes256_encrypt_energy_mJ,\n",
    "    aes256_decrypt_energy_mJ,\n",
    "    aes256_flash_write_energy_mJ,\n",
    "    aes256_flash_read_energy_mJ,\n",
    "    aes256_encrypt_time_ms,\n",
    "    aes256_decrypt_time_ms,\n",
    "    aes256_flash_write_time_ms,\n",
    "    aes256_flash_read_time_ms,\n",
    "]\n",
    "for i in aes256_path:\n",
    "    print(len(i), len(i)*16)"
   ]
  },
  {
   "cell_type": "code",
   "execution_count": 6,
   "metadata": {},
   "outputs": [
    {
     "name": "stdout",
     "output_type": "stream",
     "text": [
      "5999\n",
      "5999\n",
      "5999\n",
      "5999\n"
     ]
    }
   ],
   "source": [
    "no_security_path = [\"Security\", \"No_Security_Flash\"]\n",
    "\n",
    "flash_write_energy_mJ = pickle.load(open(path.join(*no_security_path, \"no_security_flash_write_energy_mJ.p\"), \"rb\"))\n",
    "flash_read_energy_mJ = pickle.load(open(path.join(*no_security_path, \"no_security_flash_read_energy_mJ.p\"), \"rb\"))\n",
    "flash_write_time_ms = pickle.load(open(path.join(*no_security_path, \"no_security_flash_write_time_ms.p\"), \"rb\"))\n",
    "flash_read_time_ms = pickle.load(open(path.join(*no_security_path, \"no_security_flash_read_time_ms.p\"), \"rb\"))\n",
    "no_security = [flash_write_energy_mJ, flash_read_energy_mJ, flash_write_time_ms, flash_read_time_ms]\n",
    "for i in no_security:\n",
    "    print(len(i))"
   ]
  },
  {
   "cell_type": "code",
   "execution_count": 7,
   "metadata": {},
   "outputs": [
    {
     "name": "stdout",
     "output_type": "stream",
     "text": [
      "6000\n",
      "6000\n",
      "6000\n",
      "6000\n"
     ]
    }
   ],
   "source": [
    "trustzone_path = [\"Security\", \"TrustZone_Flash\"]\n",
    "\n",
    "nsc_write_energy_mJ = pickle.load(open(path.join(*trustzone_path, \"trustzone_flash_write_energy_mJ.p\"), \"rb\"))\n",
    "nsc_read_energy_mJ = pickle.load(open(path.join(*trustzone_path, \"trustzone_flash_read_energy_mJ.p\"), \"rb\"))\n",
    "nsc_write_time_ms = pickle.load(open(path.join(*trustzone_path, \"trustzone_flash_write_time_ms.p\"), \"rb\"))\n",
    "nsc_read_time_ms = pickle.load(open(path.join(*trustzone_path, \"trustzone_flash_read_time_ms.p\"), \"rb\"))\n",
    "trustzone = [nsc_write_energy_mJ, nsc_read_energy_mJ, nsc_write_time_ms, nsc_read_time_ms]\n",
    "for i in trustzone:\n",
    "    print(len(i))"
   ]
  },
  {
   "cell_type": "code",
   "execution_count": 8,
   "metadata": {},
   "outputs": [],
   "source": [
    "min_num = 6000-1"
   ]
  },
  {
   "cell_type": "code",
   "execution_count": 9,
   "metadata": {},
   "outputs": [],
   "source": [
    "j_scale = 1e6\n",
    "m_to_u = 1e3\n",
    "voltage = 3.33"
   ]
  },
  {
   "cell_type": "code",
   "execution_count": 10,
   "metadata": {},
   "outputs": [],
   "source": [
    "MBEDTLS_AES_BLOCK_SIZE = 16\n",
    "STEP_SIZE = MBEDTLS_AES_BLOCK_SIZE\n",
    "MIN_NUM_BYTES = STEP_SIZE\n",
    "aes128_chkp = []\n",
    "aes128_rest = []\n",
    "aes128_chkp_time = []\n",
    "aes128_rest_time = []\n",
    "aes128_x = []\n",
    "for i in range(0, min_num//STEP_SIZE):\n",
    "    aes128_x.append(MIN_NUM_BYTES + i*STEP_SIZE)\n",
    "    aes128_chkp.append((aes128_encrypt_energy_mJ[i] + aes128_flash_write_energy_mJ[i])  * m_to_u)\n",
    "    aes128_rest.append((aes128_decrypt_energy_mJ[i] + aes128_flash_read_energy_mJ[i]) * m_to_u)\n",
    "    aes128_chkp_time.append((aes128_encrypt_time_ms[i] + aes128_flash_write_time_ms[i]))\n",
    "    aes128_rest_time.append((aes128_decrypt_time_ms[i] + aes128_flash_read_time_ms[i]))"
   ]
  },
  {
   "cell_type": "code",
   "execution_count": 11,
   "metadata": {},
   "outputs": [],
   "source": [
    "MBEDTLS_AES_BLOCK_SIZE = 16\n",
    "STEP_SIZE = MBEDTLS_AES_BLOCK_SIZE\n",
    "MIN_NUM_BYTES = STEP_SIZE\n",
    "aes256_chkp = []\n",
    "aes256_rest = []\n",
    "aes256_chkp_time = []\n",
    "aes256_rest_time = []\n",
    "aes256_x = []\n",
    "for i in range(0, min_num//STEP_SIZE):\n",
    "    aes256_x.append(MIN_NUM_BYTES + i*STEP_SIZE)\n",
    "    aes256_chkp.append((aes256_encrypt_energy_mJ[i] + aes256_flash_write_energy_mJ[i])  * m_to_u)\n",
    "    aes256_rest.append((aes256_decrypt_energy_mJ[i] + aes256_flash_read_energy_mJ[i]) * m_to_u)\n",
    "    aes256_chkp_time.append((aes256_encrypt_time_ms[i] + aes256_flash_write_time_ms[i]))\n",
    "    aes256_rest_time.append((aes256_decrypt_time_ms[i] + aes256_flash_read_time_ms[i]))"
   ]
  },
  {
   "cell_type": "code",
   "execution_count": 12,
   "metadata": {},
   "outputs": [],
   "source": [
    "no_security_chkp = []\n",
    "no_security_rest = []\n",
    "no_security_chkp_time = []\n",
    "no_security_rest_time = []\n",
    "no_security_x = []\n",
    "for i in range(0, min_num):\n",
    "    no_security_x.append(i+1)\n",
    "    no_security_chkp.append(flash_write_energy_mJ[i]  * m_to_u)\n",
    "    no_security_rest.append(flash_read_energy_mJ[i] * m_to_u)\n",
    "    no_security_chkp_time.append(flash_write_time_ms[i])\n",
    "    no_security_rest_time.append(flash_read_time_ms[i])"
   ]
  },
  {
   "cell_type": "code",
   "execution_count": 13,
   "metadata": {},
   "outputs": [],
   "source": [
    "trustzone_chkp = []\n",
    "trustzone_rest = []\n",
    "trustzone_chkp_time = []\n",
    "trustzone_rest_time = []\n",
    "trustzone_x = []\n",
    "for i in range(0, min_num):\n",
    "    trustzone_x.append(i+1)\n",
    "    trustzone_chkp.append(nsc_write_energy_mJ[i] * m_to_u)\n",
    "    trustzone_rest.append(nsc_read_energy_mJ[i] * m_to_u)\n",
    "    trustzone_chkp_time.append(nsc_write_time_ms[i])\n",
    "    trustzone_rest_time.append(nsc_read_time_ms[i])"
   ]
  },
  {
   "cell_type": "code",
   "execution_count": 14,
   "metadata": {},
   "outputs": [],
   "source": [
    "every = 500\n",
    "everies= [every//MBEDTLS_AES_BLOCK_SIZE*2, every//MBEDTLS_AES_BLOCK_SIZE,\n",
    "          every//MBEDTLS_AES_BLOCK_SIZE*2, every//MBEDTLS_AES_BLOCK_SIZE,\n",
    "          every, every*2,\n",
    "          every*2, every]\n",
    "colors = ['#85e085', '#85e085', '#258e25', '#258e25', '#66b3ff', '#66b3ff', '#262932', '#262932'] #'k'\n",
    "# colors = ['#85e085', '#85e085', '#258e25', '#258e25', '#66b3ff', '#66b3ff', '#b3b3cc', '#b3b3cc'] #'k'\n",
    "# security_colors = {'AES_Flash':'#85e085', 'AES-128_Flash':'#85e085', 'AES-256_Flash':'#258e25', 'TrustZone_Flash':'#66b3ff', 'No_Security_Flash':'#b3b3cc'}\n",
    "\n",
    "linestyles = [(0, (1.0, 0)), (0, (1.0, 0.5)), (0, (2.0, 1.0)), (0, (3.0, 1.5)), (0, (4.0, 2.0)), (0, (5.0, 2.5)), (0, (6.0, 3.0)), (0, (7.0, 3.5))]\n",
    "markers = ['v', '^', 7, 6, '<', '>', 'o', 'D']\n",
    "opacity = 0.8"
   ]
  },
  {
   "cell_type": "code",
   "execution_count": 15,
   "metadata": {},
   "outputs": [],
   "source": [
    "consistent_colors = True"
   ]
  },
  {
   "cell_type": "code",
   "execution_count": 16,
   "metadata": {},
   "outputs": [],
   "source": [
    "fig_energy = plt.figure(figsize=(6, 4))\n",
    "fig_energy.canvas.set_window_title(\"Analysis Energy\")"
   ]
  },
  {
   "cell_type": "code",
   "execution_count": 17,
   "metadata": {},
   "outputs": [
    {
     "data": {
      "text/plain": [
       "Text(0, 0.5, 'Energy [$\\\\mu$J]')"
      ]
     },
     "execution_count": 17,
     "metadata": {},
     "output_type": "execute_result"
    }
   ],
   "source": [
    "fig_energy.clf()\n",
    "ax1 = fig_energy.add_subplot(1, 1, 1)\n",
    "ax1.set_xlabel('Checkpoint Size [Bytes]')\n",
    "ax1.set_ylabel('Energy [$\\mu$J]') # $\\mu$"
   ]
  },
  {
   "cell_type": "code",
   "execution_count": 18,
   "metadata": {},
   "outputs": [],
   "source": [
    "lines = []\n",
    "lines += ax1.plot(aes128_x, aes128_chkp, label='AES-128 Checkpoint', alpha=opacity)\n",
    "lines += ax1.plot(aes128_x, aes128_rest, label='AES-128 Restore', alpha=opacity)\n",
    "lines += ax1.plot(aes256_x, aes256_chkp, label='AES-256 Checkpoint', alpha=opacity)\n",
    "lines += ax1.plot(aes256_x, aes256_rest, label='AES-256 Restore', alpha=opacity)\n",
    "lines += ax1.plot(trustzone_x, trustzone_chkp, label='TrustZone Checkpoint', zorder=3, alpha=opacity)\n",
    "lines += ax1.plot(trustzone_x, trustzone_rest, label='TrustZone Restore', zorder=3, alpha=opacity)\n",
    "lines += ax1.plot(no_security_x, no_security_chkp, label='No Security Checkpoint', zorder=0, alpha=opacity)\n",
    "lines += ax1.plot(no_security_x, no_security_rest, label='No Security Restore', zorder=0, alpha=opacity)\n",
    "for i in range(len(lines)):\n",
    "    lines[i].set_markevery(everies[i])\n",
    "    lines[i].set_linestyle(linestyles[i])\n",
    "    lines[i].set_marker(markers[i])\n",
    "    if consistent_colors:\n",
    "        lines[i].set_color(colors[i])\n",
    "\n",
    "ax1.legend(handles=lines)\n",
    "# ax1.set_yscale('log')\n",
    "ax1.grid()\n",
    "fig_energy.tight_layout()\n",
    "fig_energy.show()"
   ]
  },
  {
   "cell_type": "code",
   "execution_count": 50,
   "metadata": {},
   "outputs": [],
   "source": [
    "fig_time = plt.figure(figsize=(6, 4))\n",
    "fig_time.canvas.set_window_title(\"Analysis Time\")"
   ]
  },
  {
   "cell_type": "code",
   "execution_count": 51,
   "metadata": {},
   "outputs": [
    {
     "data": {
      "text/plain": [
       "Text(0, 0.5, 'Time [ms]')"
      ]
     },
     "execution_count": 51,
     "metadata": {},
     "output_type": "execute_result"
    }
   ],
   "source": [
    "fig_time.clf()\n",
    "ax2 = fig_time.add_subplot(1, 1, 1)\n",
    "ax2.set_xlabel('Checkpoint Size [Bytes]')\n",
    "ax2.set_ylabel('Time [ms]') # $\\mu$"
   ]
  },
  {
   "cell_type": "code",
   "execution_count": 52,
   "metadata": {},
   "outputs": [],
   "source": [
    "lines = []\n",
    "lines += ax2.plot(aes128_x, aes128_chkp_time, label='AES-128 Checkpoint', alpha=opacity)\n",
    "lines += ax2.plot(aes128_x, aes128_rest_time, label='AES-128 Restore', alpha=opacity)\n",
    "lines += ax2.plot(aes256_x, aes256_chkp_time, label='AES-256 Checkpoint', alpha=opacity)\n",
    "lines += ax2.plot(aes256_x, aes256_rest_time, label='AES-256 Restore', alpha=opacity)\n",
    "lines += ax2.plot(trustzone_x, trustzone_chkp_time, label='TrustZone Checkpoint', zorder=3, alpha=opacity)\n",
    "lines += ax2.plot(trustzone_x, trustzone_rest_time, label='TrustZone Restore', zorder=3, alpha=opacity)\n",
    "lines += ax2.plot(no_security_x, no_security_chkp_time, label='No Security Checkpoint', zorder=0, alpha=opacity)\n",
    "lines += ax2.plot(no_security_x, no_security_rest_time, label='No Security Restore', zorder=0, alpha=opacity)\n",
    "for i in range(len(lines)):\n",
    "    lines[i].set_markevery(everies[i])\n",
    "    lines[i].set_linestyle(linestyles[i])\n",
    "    lines[i].set_marker(markers[i])\n",
    "    if consistent_colors:\n",
    "        lines[i].set_color(colors[i])\n",
    "\n",
    "ax2.legend(handles=lines)\n",
    "# ax2.set_yscale('log')\n",
    "ax2.grid()\n",
    "fig_time.tight_layout()\n",
    "fig_time.show()"
   ]
  },
  {
   "cell_type": "markdown",
   "metadata": {},
   "source": [
    "## Zoom"
   ]
  },
  {
   "cell_type": "code",
   "execution_count": 53,
   "metadata": {},
   "outputs": [],
   "source": [
    "ax1.set_xlim(5001,5250)\n",
    "# ax1.set_ylim(trustzone_chkp[5001-10]*0.99,trustzone_chkp[5001]*1.05)\n",
    "ax1.set_ylim(460,500)\n",
    "\n",
    "ax1.get_legend().remove()\n",
    "# ax1.legend(handles=[lines[4]]+[lines[6]])"
   ]
  },
  {
   "cell_type": "code",
   "execution_count": 54,
   "metadata": {},
   "outputs": [],
   "source": [
    "ax2.set_xlim(5001,5250)\n",
    "ax2.set_ylim(73,80)\n",
    "\n",
    "ax2.get_legend().remove()\n",
    "# ax2.legend(handles=[lines[4]]+[lines[6]])"
   ]
  },
  {
   "cell_type": "code",
   "execution_count": null,
   "metadata": {},
   "outputs": [],
   "source": []
  },
  {
   "cell_type": "code",
   "execution_count": null,
   "metadata": {},
   "outputs": [],
   "source": []
  },
  {
   "cell_type": "code",
   "execution_count": null,
   "metadata": {},
   "outputs": [],
   "source": []
  },
  {
   "cell_type": "code",
   "execution_count": 44,
   "metadata": {},
   "outputs": [
    {
     "name": "stdout",
     "output_type": "stream",
     "text": [
      "5999\n",
      "5999\n",
      "5999\n",
      "5999\n"
     ]
    }
   ],
   "source": [
    "tz_flash_write_charge = pickle.load(open(path.join(\"Validation\", \"No_Security_Flash\", \"no_security_flash_write_charge.p\"), \"rb\"))\n",
    "tz_flash_read_charge = pickle.load(open(path.join(\"Validation\", \"No_Security_Flash\", \"no_security_flash_read_charge.p\"), \"rb\"))\n",
    "tz_flash_write_time = pickle.load(open(path.join(\"Validation\", \"No_Security_Flash\", \"no_security_flash_write_time.p\"), \"rb\"))\n",
    "tz_flash_read_time = pickle.load(open(path.join(\"Validation\", \"No_Security_Flash\", \"no_security_flash_read_time.p\"), \"rb\"))\n",
    "tz_no_security = [tz_flash_write_charge, tz_flash_read_charge, tz_flash_write_time, tz_flash_read_time]\n",
    "for i in tz_no_security:\n",
    "    print(len(i))\n",
    "    \n",
    "tz_no_security_chkp = []\n",
    "tz_no_security_rest = []\n",
    "tz_no_security_x = []\n",
    "for i in range(0, min_num):\n",
    "    tz_no_security_x.append(i+1)\n",
    "    tz_no_security_chkp.append(tz_flash_write_charge[i] * voltage * j_scale)\n",
    "    tz_no_security_rest.append(tz_flash_read_charge[i] * voltage * j_scale)"
   ]
  },
  {
   "cell_type": "code",
   "execution_count": 45,
   "metadata": {},
   "outputs": [],
   "source": [
    "fig_comp = plt.figure(figsize=(6, 4))\n",
    "fig_comp.canvas.set_window_title(\"Analysis Compare\")"
   ]
  },
  {
   "cell_type": "code",
   "execution_count": 46,
   "metadata": {},
   "outputs": [
    {
     "data": {
      "text/plain": [
       "Text(0, 0.5, 'Energy [$\\\\mu$J]')"
      ]
     },
     "execution_count": 46,
     "metadata": {},
     "output_type": "execute_result"
    }
   ],
   "source": [
    "fig_comp.clf()\n",
    "ax1 = fig_comp.add_subplot(1, 1, 1)\n",
    "ax1.set_xlabel('Checkpoint Size [Bytes]')\n",
    "ax1.set_ylabel('Energy [$\\mu$J]') # $\\mu$"
   ]
  },
  {
   "cell_type": "code",
   "execution_count": 47,
   "metadata": {},
   "outputs": [],
   "source": [
    "lines = []\n",
    "lines += ax1.plot(tz_no_security_x, tz_no_security_chkp, label='TZ No Security Checkpoint')\n",
    "lines += ax1.plot(tz_no_security_x, tz_no_security_rest, label='TZ No Security Restore')\n",
    "lines += ax1.plot(no_security_x, no_security_chkp, label='No Security Checkpoint')\n",
    "lines += ax1.plot(no_security_x, no_security_rest, label='No Security Restore')\n",
    "for i in range(len(lines)):\n",
    "    lines[i].set_markevery(everies[i+2])\n",
    "    lines[i].set_linestyle(linestyles[i])\n",
    "    lines[i].set_marker(markers[i])\n",
    "#     lines[i].set_color(colors[i])\n",
    "\n",
    "ax1.legend(handles=lines)\n",
    "# ax1.set_yscale('log')\n",
    "ax1.grid()\n",
    "fig_comp.tight_layout()\n",
    "fig_comp.show()"
   ]
  },
  {
   "cell_type": "code",
   "execution_count": null,
   "metadata": {},
   "outputs": [],
   "source": []
  },
  {
   "cell_type": "code",
   "execution_count": null,
   "metadata": {},
   "outputs": [],
   "source": []
  },
  {
   "cell_type": "code",
   "execution_count": null,
   "metadata": {},
   "outputs": [],
   "source": []
  },
  {
   "cell_type": "code",
   "execution_count": null,
   "metadata": {},
   "outputs": [],
   "source": []
  },
  {
   "cell_type": "code",
   "execution_count": null,
   "metadata": {},
   "outputs": [],
   "source": []
  },
  {
   "cell_type": "code",
   "execution_count": null,
   "metadata": {},
   "outputs": [],
   "source": []
  },
  {
   "cell_type": "code",
   "execution_count": null,
   "metadata": {},
   "outputs": [],
   "source": []
  },
  {
   "cell_type": "code",
   "execution_count": null,
   "metadata": {},
   "outputs": [],
   "source": []
  },
  {
   "cell_type": "code",
   "execution_count": null,
   "metadata": {},
   "outputs": [],
   "source": []
  },
  {
   "cell_type": "code",
   "execution_count": null,
   "metadata": {},
   "outputs": [],
   "source": []
  },
  {
   "cell_type": "code",
   "execution_count": null,
   "metadata": {},
   "outputs": [],
   "source": []
  }
 ],
 "metadata": {
  "kernelspec": {
   "display_name": "Python 3",
   "language": "python",
   "name": "python3"
  },
  "language_info": {
   "codemirror_mode": {
    "name": "ipython",
    "version": 3
   },
   "file_extension": ".py",
   "mimetype": "text/x-python",
   "name": "python",
   "nbconvert_exporter": "python",
   "pygments_lexer": "ipython3",
   "version": "3.8.1"
  }
 },
 "nbformat": 4,
 "nbformat_minor": 4
}

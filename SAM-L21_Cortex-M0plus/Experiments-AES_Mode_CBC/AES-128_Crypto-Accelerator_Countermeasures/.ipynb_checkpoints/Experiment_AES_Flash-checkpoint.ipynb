{
 "cells": [
  {
   "cell_type": "markdown",
   "metadata": {},
   "source": [
    "## Import Libraries"
   ]
  },
  {
   "cell_type": "code",
   "execution_count": 1,
   "metadata": {},
   "outputs": [],
   "source": [
    "# %matplotlib ipympl\n",
    "# %matplotlib inline\n",
    "%matplotlib wx"
   ]
  },
  {
   "cell_type": "code",
   "execution_count": 2,
   "metadata": {},
   "outputs": [],
   "source": [
    "import matplotlib.pyplot as plt\n",
    "plt.ion()"
   ]
  },
  {
   "cell_type": "code",
   "execution_count": 3,
   "metadata": {},
   "outputs": [],
   "source": [
    "from pydgilib_extra import *\n",
    "from atprogram import atprogram"
   ]
  },
  {
   "cell_type": "code",
   "execution_count": 4,
   "metadata": {},
   "outputs": [],
   "source": [
    "from os import getcwd, path, pardir\n",
    "import pickle"
   ]
  },
  {
   "cell_type": "markdown",
   "metadata": {},
   "source": [
    "## Compile and program project"
   ]
  },
  {
   "cell_type": "code",
   "execution_count": 5,
   "metadata": {},
   "outputs": [
    {
     "data": {
      "text/plain": [
       "'./AES-128_Crypto-Accelerator'"
      ]
     },
     "execution_count": 5,
     "metadata": {},
     "output_type": "execute_result"
    }
   ],
   "source": [
    "project_path = path.curdir + \"/\" + \"AES-128_Crypto-Accelerator\"\n",
    "project_name =  \"AES-128_Crypto-Accelerator\"\n",
    "device_name = \"ATSAML21J18B\"\n",
    "project_path "
   ]
  },
  {
   "cell_type": "code",
   "execution_count": 6,
   "metadata": {},
   "outputs": [
    {
     "name": "stdout",
     "output_type": "stream",
     "text": [
      "make: Nothing to be done for 'all'.\n",
      "\n",
      "[DEBUG] Starting execution of \"chiperase\"\n",
      "[DEBUG] Starting process 'C:\\Program Files (x86)\\Atmel\\Studio\\7.0\\atbackend\\atbackend.exe'\n",
      "[DEBUG] Connecting to TCP:127.0.0.1:50130\n",
      "[INFO] Could not find tool. Retrying...\n",
      "[INFO] Could not find tool. Retrying...\n",
      "[INFO] Could not find tool. Retrying...\n",
      "[INFO] Could not find tool. Retrying...\n",
      "[INFO] Could not find tool. Retrying...\n",
      "[ERROR] Could not find tool.\n",
      "\n",
      "14\n",
      "[DEBUG] Starting execution of \"exitcodes\"\n",
      "[DEBUG] Command \"exitcodes\" finished with return code 0\n",
      "[DEBUG] Exit successfully.\n",
      "Exit codes for atprogram\n",
      "    \n",
      "atprogram is the Atmel Studio Command Line Interface which is deployed with \n",
      "Atmel Studio 6 as well as in a standalone package.  It replaces the individual\n",
      "Tools' command line interfaces, including:\n",
      "  - Stk500.exe\n",
      "  - Stk600.exe\n",
      "  - jtagiceii.exe\n",
      "  - AVRDragon.exe\n",
      "  - avrone.exe\n",
      "    \n",
      "atprogram also replaces the command line interface to UC3 devices- avr32program\n",
      "atprogram also provides command line access to JTAGICE3 and SAMICE.\n",
      "    \n",
      "atprogram makes use of the Atmel Studio backend, which means that all tools\n",
      "and devices supported by Atmel Studio are supported by atprogram.exe\n",
      "    \n",
      "This guide is intended to be used as a reference when using atprogram \n",
      "in script utilities.\n",
      "\n",
      "Code ranges:\n",
      " 0-9         Exit codes that is locked or unknown\n",
      " 10-50       Exit codes due to errors in atprogram itself\n",
      " 100-200     Exit codes from atbackend\n",
      "\n",
      "\n",
      "Exits Codes:\n",
      "\n",
      "0    Success                       The program executed with no errors \n",
      "1    Unexpected Error              A run time error that was not anticipated\n",
      "2    User Interrupt Error          A user interrupted the program\n",
      "10   Command Error                 Exception which indicates that a command has\n",
      "                                   failed for some internal reason.\n",
      "11   Command Argument Error        Raised when there are error in the arguments\n",
      "                                   passed to the command\n",
      "12   Missing Command Error         An error which occurs if there is no command\n",
      "13   Command Parser Error          Error when parsing command line arguments.\n",
      "14   Tool Error                    Exception raised when there is an error with\n",
      "                                   the setup or use of a tool\n",
      "15   Resource Error                Exception raised when there is an error in\n",
      "                                   creating or serving a resource.\n",
      "16   Tcf Error                     A TCF command returned an error.\n",
      "17   Timeout Error                 Error because of an timeout.\n",
      "18   Missing Or Wrong Input Error  An error caused by incomplete information\n",
      "                                   specified by user\n",
      "19   Old Fw Exception              Firmware must be upgraded\n",
      "20   Backend Creation Error        Exception raised when there is an error in\n",
      "                                   creating or serving a resource.\n",
      "21   Options Parse Error           Error in parsing an option.\n",
      "22   Json Parse Error              Exception which can be thrown if a TCF\n",
      "                                   response could not be parsed.\n",
      "23   Verify Error                  An error given when failing to verify memory\n",
      "                                   content\n",
      "\n",
      "\n"
     ]
    },
    {
     "data": {
      "text/plain": [
       "14"
      ]
     },
     "execution_count": 6,
     "metadata": {},
     "output_type": "execute_result"
    }
   ],
   "source": [
    "atprogram.atprogram(project_path, device_name = device_name ,verbose=3)"
   ]
  },
  {
   "cell_type": "code",
   "execution_count": 8,
   "metadata": {},
   "outputs": [],
   "source": [
    "#atprogram(path.abspath(path.join(*project_path)), verbose=2)"
   ]
  },
  {
   "cell_type": "code",
   "execution_count": 9,
   "metadata": {},
   "outputs": [
    {
     "name": "stdout",
     "output_type": "stream",
     "text": [
      "{'text': 5128, 'data': 132, 'bss': 8348, 'dec': 13608, 'hex': 13608, 'filename': 'AES-128_Crypto-Accelerator.elf'}\n"
     ]
    },
    {
     "data": {
      "text/plain": [
       "{'text': 5128,\n",
       " 'data': 132,\n",
       " 'bss': 8348,\n",
       " 'dec': 13608,\n",
       " 'hex': 13608,\n",
       " 'filename': 'AES-128_Crypto-Accelerator.elf'}"
      ]
     },
     "execution_count": 9,
     "metadata": {},
     "output_type": "execute_result"
    }
   ],
   "source": [
    "atprogram.get_project_size(project_path, device_name = device_name , verbose=2)"
   ]
  },
  {
   "cell_type": "code",
   "execution_count": null,
   "metadata": {},
   "outputs": [],
   "source": []
  },
  {
   "cell_type": "markdown",
   "metadata": {},
   "source": [
    "## Data Logging"
   ]
  },
  {
   "cell_type": "code",
   "execution_count": 10,
   "metadata": {},
   "outputs": [],
   "source": [
    "live_plot = False"
   ]
  },
  {
   "cell_type": "markdown",
   "metadata": {},
   "source": [
    "Create a figure for the plot."
   ]
  },
  {
   "cell_type": "code",
   "execution_count": 11,
   "metadata": {},
   "outputs": [],
   "source": [
    "if live_plot:\n",
    "    fig = plt.figure(figsize=(10, 6))\n",
    "    fig.show()"
   ]
  },
  {
   "cell_type": "markdown",
   "metadata": {},
   "source": [
    "Create the configuration dictionary for `DGILibExtra`."
   ]
  },
  {
   "cell_type": "code",
   "execution_count": 12,
   "metadata": {},
   "outputs": [],
   "source": [
    "config_dict = {\n",
    "    \"loggers\": [LOGGER_OBJECT, LOGGER_CSV],\n",
    "    \"file_name_base\": \"experiment_aes_flash\"\n",
    "}\n",
    "config_dict_plot = {\n",
    "    \"loggers\": [LOGGER_OBJECT, LOGGER_PLOT, LOGGER_CSV],\n",
    "    \"plot_pins\": [False, False, True, True],\n",
    "    \"plot_pins_method\": \"line\",\n",
    "    \"plot_xmax\": 5,\n",
    "    \"window_title\": \"Experiment AES-128 Flash\",\n",
    "}"
   ]
  },
  {
   "cell_type": "markdown",
   "metadata": {},
   "source": [
    "Stop criteria to pass to the logger:"
   ]
  },
  {
   "cell_type": "code",
   "execution_count": 13,
   "metadata": {},
   "outputs": [],
   "source": [
    "def stop_fn(logger_data):\n",
    "    return all(logger_data.gpio.values[-1])"
   ]
  },
  {
   "cell_type": "code",
   "execution_count": 14,
   "metadata": {},
   "outputs": [],
   "source": [
    "#with DGILib() as dgilib:\n",
    "#     dgilib.get_major_version()"
   ]
  },
  {
   "cell_type": "markdown",
   "metadata": {},
   "source": [
    "Perform the measurement."
   ]
  },
  {
   "cell_type": "code",
   "execution_count": 16,
   "metadata": {},
   "outputs": [
    {
     "name": "stdout",
     "output_type": "stream",
     "text": [
      "1\n"
     ]
    }
   ],
   "source": [
    "data = []\n",
    "cd = config_dict.copy()\n",
    "if live_plot:\n",
    "    fig.clf()\n",
    "    for ax in fig.get_axes():\n",
    "        ax.cla()\n",
    "    \n",
    "    cd.update(config_dict_plot)\n",
    "    cd[\"fig\"] = fig\n",
    "    \n",
    "with DGILibExtra(**cd) as dgilib:\n",
    "    dgilib.device_reset()\n",
    "    dgilib.logger.log(1000,stop_fn)\n",
    "    data = dgilib.data"
   ]
  },
  {
   "cell_type": "code",
   "execution_count": 17,
   "metadata": {},
   "outputs": [
    {
     "data": {
      "text/plain": [
       "{48: 6149, 256: 852000}"
      ]
     },
     "execution_count": 17,
     "metadata": {},
     "output_type": "execute_result"
    }
   ],
   "source": [
    "data.length()"
   ]
  },
  {
   "cell_type": "code",
   "execution_count": 18,
   "metadata": {},
   "outputs": [
    {
     "name": "stdout",
     "output_type": "stream",
     "text": [
      "Interfaces:\n",
      "\t  48:   gpio,    samples:    6149\n",
      "\t 256:   power,   samples:  852000\n",
      "\n"
     ]
    }
   ],
   "source": [
    "print(data)"
   ]
  },
  {
   "cell_type": "markdown",
   "metadata": {},
   "source": [
    "# Store Data"
   ]
  },
  {
   "cell_type": "code",
   "execution_count": 19,
   "metadata": {},
   "outputs": [],
   "source": [
    "import pickle"
   ]
  },
  {
   "cell_type": "code",
   "execution_count": 20,
   "metadata": {},
   "outputs": [],
   "source": [
    "pickle.dump(data, open(\"aes_flash_logger_data.p\", \"wb\"))"
   ]
  },
  {
   "cell_type": "markdown",
   "metadata": {},
   "source": [
    "# Load Data"
   ]
  },
  {
   "cell_type": "code",
   "execution_count": 21,
   "metadata": {},
   "outputs": [],
   "source": [
    "data = pickle.load(open(\"aes_flash_logger_data.p\", \"rb\"))"
   ]
  },
  {
   "cell_type": "code",
   "execution_count": 22,
   "metadata": {},
   "outputs": [],
   "source": [
    "#iteration = 0\n",
    "#name = \"AES-128_Flash\"\n",
    "#data = pickle.load(open(path.join(path.pardir, path.pardir, f\"{name}_{iteration}.p\"), \"rb\"))"
   ]
  },
  {
   "cell_type": "markdown",
   "metadata": {},
   "source": [
    "## Analysis"
   ]
  },
  {
   "cell_type": "markdown",
   "metadata": {},
   "source": [
    "Create Stop Function to stop parsing the data when all pins are high."
   ]
  },
  {
   "cell_type": "code",
   "execution_count": 23,
   "metadata": {},
   "outputs": [],
   "source": [
    "def stop_function(pin_values):\n",
    "    return all(pin_values)"
   ]
  },
  {
   "cell_type": "markdown",
   "metadata": {},
   "source": [
    "Parse the data."
   ]
  },
  {
   "cell_type": "code",
   "execution_count": 24,
   "metadata": {},
   "outputs": [],
   "source": [
    "aes_charge, aes_time = power_and_time_per_pulse(data, 2, stop_function=stop_function)"
   ]
  },
  {
   "cell_type": "code",
   "execution_count": 25,
   "metadata": {},
   "outputs": [],
   "source": [
    "flash_charge, flash_time = power_and_time_per_pulse(data, 3, stop_function=stop_function)"
   ]
  },
  {
   "cell_type": "code",
   "execution_count": 26,
   "metadata": {},
   "outputs": [
    {
     "name": "stdout",
     "output_type": "stream",
     "text": [
      "768 768 768 768\n"
     ]
    }
   ],
   "source": [
    "print(len(aes_charge), len(aes_time), len(flash_charge), len(flash_time))\n",
    "# cutoff = min(len(aes_charge), len(aes_time), len(flash_charge), len(flash_time))\n",
    "# aes_charge = aes_charge[:cutoff]\n",
    "# aes_time = aes_time[:cutoff]\n",
    "# flash_charge = flash_charge[:cutoff]\n",
    "# flash_time = flash_time[:cutoff]"
   ]
  },
  {
   "cell_type": "code",
   "execution_count": 27,
   "metadata": {},
   "outputs": [],
   "source": [
    "# length = len(aes_charge)\n",
    "# assert length == len(aes_time)\n",
    "# assert length == len(flash_charge)\n",
    "# assert length == len(flash_time)\n",
    "# print(length)"
   ]
  },
  {
   "cell_type": "code",
   "execution_count": 28,
   "metadata": {},
   "outputs": [],
   "source": [
    "aes_encrypt_charge = aes_charge[0::2]\n",
    "aes_decrypt_charge = aes_charge[1::2]\n",
    "aes_encrypt_time = aes_time[0::2]\n",
    "aes_decrypt_time = aes_time[1::2]"
   ]
  },
  {
   "cell_type": "code",
   "execution_count": 29,
   "metadata": {},
   "outputs": [],
   "source": [
    "aes_flash_write_charge = flash_charge[0::2]\n",
    "aes_flash_read_charge = flash_charge[1::2]\n",
    "aes_flash_write_time = flash_time[0::2]\n",
    "aes_flash_read_time = flash_time[1::2]"
   ]
  },
  {
   "cell_type": "code",
   "execution_count": 30,
   "metadata": {},
   "outputs": [
    {
     "data": {
      "text/plain": [
       "(384, 384, 384, 384, 384, 384, 384, 384)"
      ]
     },
     "execution_count": 30,
     "metadata": {},
     "output_type": "execute_result"
    }
   ],
   "source": [
    "len(aes_encrypt_charge), len(aes_decrypt_charge), len(aes_encrypt_time), len(aes_decrypt_time), len(aes_flash_write_charge), len(aes_flash_read_charge), len(aes_flash_write_time), len(aes_flash_read_time)"
   ]
  },
  {
   "cell_type": "code",
   "execution_count": 31,
   "metadata": {},
   "outputs": [],
   "source": [
    "drop = 0\n",
    "cutoff = min(len(aes_encrypt_charge), len(aes_decrypt_charge), len(aes_encrypt_time), len(aes_decrypt_time), len(aes_flash_write_charge), len(aes_flash_read_charge), len(aes_flash_write_time), len(aes_flash_read_time)) - drop\n",
    "aes_encrypt_charge = aes_encrypt_charge[:cutoff]\n",
    "aes_decrypt_charge = aes_decrypt_charge[:cutoff]\n",
    "aes_encrypt_time = aes_encrypt_time[:cutoff]\n",
    "aes_decrypt_time = aes_decrypt_time[:cutoff]\n",
    "aes_flash_write_charge = aes_flash_write_charge[:cutoff]\n",
    "aes_flash_read_charge = aes_flash_read_charge[:cutoff]\n",
    "aes_flash_write_time = aes_flash_write_time[:cutoff]\n",
    "aes_flash_read_time = aes_flash_read_time[:cutoff]"
   ]
  },
  {
   "cell_type": "code",
   "execution_count": 32,
   "metadata": {},
   "outputs": [
    {
     "name": "stdout",
     "output_type": "stream",
     "text": [
      "384\n"
     ]
    }
   ],
   "source": [
    "length = len(aes_encrypt_charge)\n",
    "assert length == len(aes_decrypt_charge)\n",
    "assert length == len(aes_encrypt_time)\n",
    "assert length == len(aes_decrypt_time)\n",
    "assert length == len(aes_flash_write_charge)\n",
    "assert length == len(aes_flash_read_charge)\n",
    "assert length == len(aes_flash_write_time)\n",
    "assert length == len(aes_flash_read_time)\n",
    "print(length)"
   ]
  },
  {
   "cell_type": "markdown",
   "metadata": {},
   "source": [
    "# Convert to Joule"
   ]
  },
  {
   "cell_type": "code",
   "execution_count": 16,
   "metadata": {},
   "outputs": [
    {
     "data": {
      "text/plain": [
       "'AES-128_Crypto-Accelerator'"
      ]
     },
     "execution_count": 16,
     "metadata": {},
     "output_type": "execute_result"
    }
   ],
   "source": [
    "voltage = 3.31\n",
    "j_scale = 1e3 # m\n",
    "t_scale = 1e3 # m\n",
    "model_j_scale = 1e6 # n\n",
    "model_t_scale = 1e3 # u\n",
    "\n",
    "experiment_name =  project_name"
   ]
  },
  {
   "cell_type": "code",
   "execution_count": 34,
   "metadata": {},
   "outputs": [],
   "source": [
    "aes_encrypt_energy = aes_encrypt_charge[:cutoff]\n",
    "aes_flash_write_energy = aes_flash_write_charge[:cutoff]\n",
    "aes_flash_read_energy = aes_flash_read_charge[:cutoff]\n",
    "aes_decrypt_energy = aes_decrypt_charge[:cutoff]\n",
    "aes_encrypt_time_s = aes_encrypt_time[:cutoff]\n",
    "aes_flash_write_time_s = aes_flash_write_time[:cutoff]\n",
    "aes_flash_read_time_s = aes_flash_read_time[:cutoff]\n",
    "aes_decrypt_time_s = aes_decrypt_time[:cutoff]\n",
    "\n",
    "for i in range(len(aes_encrypt_energy)):\n",
    "    aes_encrypt_energy[i] = aes_encrypt_energy[i] * voltage * j_scale\n",
    "for i in range(len(aes_flash_write_energy)):\n",
    "    aes_flash_write_energy[i] = aes_flash_write_energy[i] * voltage * j_scale\n",
    "for i in range(len(aes_flash_read_energy)):\n",
    "    aes_flash_read_energy[i] = aes_flash_read_energy[i] * voltage * j_scale\n",
    "for i in range(len(aes_decrypt_energy)):\n",
    "    aes_decrypt_energy[i] = aes_decrypt_energy[i] * voltage * j_scale\n",
    "    \n",
    "for i in range(len(aes_encrypt_time_s)):\n",
    "    aes_encrypt_time_s[i] = aes_encrypt_time_s[i] * t_scale\n",
    "for i in range(len(aes_flash_write_time_s)):\n",
    "    aes_flash_write_time_s[i] = aes_flash_write_time_s[i] * t_scale\n",
    "for i in range(len(aes_flash_read_time_s)):\n",
    "    aes_flash_read_time_s[i] = aes_flash_read_time_s[i] * t_scale\n",
    "for i in range(len(aes_decrypt_time_s)):\n",
    "    aes_decrypt_time_s[i] = aes_decrypt_time_s[i] * t_scale"
   ]
  },
  {
   "cell_type": "code",
   "execution_count": 35,
   "metadata": {},
   "outputs": [
    {
     "name": "stdout",
     "output_type": "stream",
     "text": [
      "MAX_NUM_BYTES: 6144\n"
     ]
    }
   ],
   "source": [
    "MBEDTLS_AES_BLOCK_SIZE = 16\n",
    "STEP_SIZE = MBEDTLS_AES_BLOCK_SIZE\n",
    "MIN_NUM_BYTES = STEP_SIZE\n",
    "num_bytes = range(MIN_NUM_BYTES, MIN_NUM_BYTES + STEP_SIZE * len(aes_encrypt_energy), STEP_SIZE)\n",
    "print(f\"MAX_NUM_BYTES: {num_bytes[-1]}\")"
   ]
  },
  {
   "cell_type": "code",
   "execution_count": 36,
   "metadata": {},
   "outputs": [],
   "source": [
    "from lmfit import Model\n",
    "\n",
    "def line(x, slope, intercept):\n",
    "    \"\"\"a line\"\"\"\n",
    "    return [slope*i + intercept for i in x]\n",
    "\n",
    "mod = Model(line)\n",
    "pars = mod.make_params(slope=0, intercept=1)\n",
    "# pars['intercept'].set(min=0)"
   ]
  },
  {
   "cell_type": "code",
   "execution_count": 37,
   "metadata": {},
   "outputs": [
    {
     "name": "stdout",
     "output_type": "stream",
     "text": [
      "[[Model]]\n",
      "    Model(line)\n",
      "[[Fit Statistics]]\n",
      "    # fitting method   = leastsq\n",
      "    # function evals   = 6\n",
      "    # data points      = 384\n",
      "    # variables        = 2\n",
      "    chi-square         = 1.7341e-06\n",
      "    reduced chi-square = 4.5395e-09\n",
      "    Akaike info crit   = -7374.81628\n",
      "    Bayesian info crit = -7366.91499\n",
      "[[Variables]]\n",
      "    slope:      1.0911e-05 +/- 1.9386e-09 (0.02%) (init = 0)\n",
      "    intercept:  2.6246e-04 +/- 6.8900e-06 (2.63%) (init = 1)\n",
      "[[Correlations]] (unreported correlations are < 0.100)\n",
      "    C(slope, intercept) = -0.867\n",
      "[[Model]]\n",
      "    Model(line)\n",
      "[[Fit Statistics]]\n",
      "    # fitting method   = leastsq\n",
      "    # function evals   = 6\n",
      "    # data points      = 384\n",
      "    # variables        = 2\n",
      "    chi-square         = 0.02664235\n",
      "    reduced chi-square = 6.9744e-05\n",
      "    Akaike info crit   = -3673.14392\n",
      "    Bayesian info crit = -3665.24263\n",
      "[[Variables]]\n",
      "    slope:      1.1284e-04 +/- 2.4029e-07 (0.21%) (init = 0)\n",
      "    intercept:  0.01659766 +/- 8.5402e-04 (5.15%) (init = 1)\n",
      "[[Correlations]] (unreported correlations are < 0.100)\n",
      "    C(slope, intercept) = -0.867\n",
      "[[Model]]\n",
      "    Model(line)\n",
      "[[Fit Statistics]]\n",
      "    # fitting method   = leastsq\n",
      "    # function evals   = 7\n",
      "    # data points      = 384\n",
      "    # variables        = 2\n",
      "    chi-square         = 1.1883e-06\n",
      "    reduced chi-square = 3.1108e-09\n",
      "    Akaike info crit   = -7519.94926\n",
      "    Bayesian info crit = -7512.04797\n",
      "[[Variables]]\n",
      "    slope:      3.7673e-06 +/- 1.6048e-09 (0.04%) (init = 0)\n",
      "    intercept:  1.8100e-06 +/- 5.7037e-06 (315.13%) (init = 1)\n",
      "[[Correlations]] (unreported correlations are < 0.100)\n",
      "    C(slope, intercept) = -0.867\n",
      "[[Model]]\n",
      "    Model(line)\n",
      "[[Fit Statistics]]\n",
      "    # fitting method   = leastsq\n",
      "    # function evals   = 6\n",
      "    # data points      = 384\n",
      "    # variables        = 2\n",
      "    chi-square         = 1.7367e-06\n",
      "    reduced chi-square = 4.5463e-09\n",
      "    Akaike info crit   = -7374.23947\n",
      "    Bayesian info crit = -7366.33819\n",
      "[[Variables]]\n",
      "    slope:      1.0926e-05 +/- 1.9400e-09 (0.02%) (init = 0)\n",
      "    intercept:  2.8529e-04 +/- 6.8952e-06 (2.42%) (init = 1)\n",
      "[[Correlations]] (unreported correlations are < 0.100)\n",
      "    C(slope, intercept) = -0.867\n",
      "[[Model]]\n",
      "    Model(line)\n",
      "[[Fit Statistics]]\n",
      "    # fitting method   = leastsq\n",
      "    # function evals   = 6\n",
      "    # data points      = 384\n",
      "    # variables        = 2\n",
      "    chi-square         = 0.27078254\n",
      "    reduced chi-square = 7.0885e-04\n",
      "    Akaike info crit   = -2782.71940\n",
      "    Bayesian info crit = -2774.81811\n",
      "[[Variables]]\n",
      "    slope:      0.00737601 +/- 7.6604e-07 (0.01%) (init = 0)\n",
      "    intercept:  0.17501157 +/- 0.00272265 (1.56%) (init = 1)\n",
      "[[Correlations]] (unreported correlations are < 0.100)\n",
      "    C(slope, intercept) = -0.867\n",
      "[[Model]]\n",
      "    Model(line)\n",
      "[[Fit Statistics]]\n",
      "    # fitting method   = leastsq\n",
      "    # function evals   = 6\n",
      "    # data points      = 384\n",
      "    # variables        = 2\n",
      "    chi-square         = 531.508136\n",
      "    reduced chi-square = 1.39138256\n",
      "    Akaike info crit   = 128.829166\n",
      "    Bayesian info crit = 136.730451\n",
      "[[Variables]]\n",
      "    slope:      0.02078372 +/- 3.3939e-05 (0.16%) (init = 0)\n",
      "    intercept:  2.33884682 +/- 0.12062476 (5.16%) (init = 1)\n",
      "[[Correlations]] (unreported correlations are < 0.100)\n",
      "    C(slope, intercept) = -0.867\n",
      "[[Model]]\n",
      "    Model(line)\n",
      "[[Fit Statistics]]\n",
      "    # fitting method   = leastsq\n",
      "    # function evals   = 6\n",
      "    # data points      = 384\n",
      "    # variables        = 2\n",
      "    chi-square         = 0.27574923\n",
      "    reduced chi-square = 7.2186e-04\n",
      "    Akaike info crit   = -2775.73989\n",
      "    Bayesian info crit = -2767.83860\n",
      "[[Variables]]\n",
      "    slope:      0.00212522 +/- 7.7304e-07 (0.04%) (init = 0)\n",
      "    intercept:  0.02580329 +/- 0.00274750 (10.65%) (init = 1)\n",
      "[[Correlations]] (unreported correlations are < 0.100)\n",
      "    C(slope, intercept) = -0.867\n",
      "[[Model]]\n",
      "    Model(line)\n",
      "[[Fit Statistics]]\n",
      "    # fitting method   = leastsq\n",
      "    # function evals   = 6\n",
      "    # data points      = 384\n",
      "    # variables        = 2\n",
      "    chi-square         = 0.27840552\n",
      "    reduced chi-square = 7.2881e-04\n",
      "    Akaike info crit   = -2772.05853\n",
      "    Bayesian info crit = -2764.15725\n",
      "[[Variables]]\n",
      "    slope:      0.00737639 +/- 7.7675e-07 (0.01%) (init = 0)\n",
      "    intercept:  0.17974269 +/- 0.00276071 (1.54%) (init = 1)\n",
      "[[Correlations]] (unreported correlations are < 0.100)\n",
      "    C(slope, intercept) = -0.867\n",
      "[[Model]]\n",
      "    Model(line)\n",
      "[[Fit Statistics]]\n",
      "    # fitting method   = leastsq\n",
      "    # function evals   = 6\n",
      "    # data points      = 384\n",
      "    # variables        = 2\n",
      "    chi-square         = 0.02643862\n",
      "    reduced chi-square = 6.9211e-05\n",
      "    Akaike info crit   = -3676.09171\n",
      "    Bayesian info crit = -3668.19042\n",
      "[[Variables]]\n",
      "    slope:      1.3844e-04 +/- 2.3937e-07 (0.17%) (init = 0)\n",
      "    intercept:  0.01714721 +/- 8.5075e-04 (4.96%) (init = 1)\n",
      "[[Correlations]] (unreported correlations are < 0.100)\n",
      "    C(slope, intercept) = -0.867\n",
      "[[Model]]\n",
      "    Model(line)\n",
      "[[Fit Statistics]]\n",
      "    # fitting method   = leastsq\n",
      "    # function evals   = 10\n",
      "    # data points      = 384\n",
      "    # variables        = 2\n",
      "    chi-square         = 532.092685\n",
      "    reduced chi-square = 1.39291279\n",
      "    Akaike info crit   = 129.251254\n",
      "    Bayesian info crit = 137.152539\n",
      "[[Variables]]\n",
      "    slope:      0.03766135 +/- 3.3958e-05 (0.09%) (init = 0)\n",
      "    intercept:  2.71940440 +/- 0.12069107 (4.44%) (init = 1)\n",
      "[[Correlations]] (unreported correlations are < 0.100)\n",
      "    C(slope, intercept) = -0.867\n"
     ]
    }
   ],
   "source": [
    "results = []\n",
    "ylabels = (['Energy [mJ]'] * 2 + ['Time [ms]'] * 2) * 2 + ['Energy [mJ]'] + ['Time [ms]']\n",
    "parameter_names = [\n",
    "    'Encrypt Energy',\n",
    "    'Flash Write Energy',\n",
    "    'Flash Read Energy',\n",
    "    'Decrypt Energy',\n",
    "    'Encrypt Time',\n",
    "    'Flash Write Time',\n",
    "    'Flash Read Time',\n",
    "    'Decrypt Time',\n",
    "    'Total Energy',\n",
    "    'Total Time',\n",
    "]\n",
    "for y in [aes_encrypt_energy, aes_flash_write_energy, aes_flash_read_energy, aes_decrypt_energy, aes_encrypt_time_s, aes_flash_write_time_s, aes_flash_read_time_s, aes_decrypt_time_s,\n",
    "          [e + w + r + d for (e,w,r,d) in zip(aes_encrypt_energy, aes_flash_write_energy, aes_flash_read_energy, aes_decrypt_energy)],\n",
    "          [e + w + r + d for (e,w,r,d) in zip(aes_encrypt_time_s, aes_flash_write_time_s, aes_flash_read_time_s, aes_decrypt_time_s)]]:\n",
    "    result = mod.fit(y, pars, x=num_bytes)\n",
    "    print(result.fit_report())\n",
    "    fig, grid = result.plot(\n",
    "        xlabel='Checkpoint Size [Bytes]',\n",
    "        ylabel=ylabels[len(results)])\n",
    "    fig.tight_layout(rect=(0.05, 0.05, 1, 1))\n",
    "    fig.set_size_inches(5, 4.5, forward=True)\n",
    "    fig.canvas.set_window_title(\n",
    "        f\"Residuals of {experiment_name} {parameter_names[len(results)]}\")\n",
    "    fig.show()\n",
    "    fig.savefig( f\"Residuals of {experiment_name} {parameter_names[len(results)]}\")\n",
    "    results.append(result)"
   ]
  },
  {
   "cell_type": "code",
   "execution_count": 38,
   "metadata": {},
   "outputs": [],
   "source": [
    "fig2 = plt.figure(figsize=(8, 6))\n",
    "fig2.canvas.set_window_title(f\"Analysis {experiment_name}\")"
   ]
  },
  {
   "cell_type": "code",
   "execution_count": 39,
   "metadata": {},
   "outputs": [],
   "source": [
    "charge_color = 'r'\n",
    "time_color = 'b'"
   ]
  },
  {
   "cell_type": "code",
   "execution_count": 40,
   "metadata": {},
   "outputs": [],
   "source": [
    "fig2.clf()\n",
    "# fig2.suptitle(\"Energy analysis of AES\")\n",
    "ax1 = fig2.add_subplot(1, 1, 1)\n",
    "ax2 = ax1.twinx()\n",
    "ax1.set_xlabel('Checkpoint Size [Bytes]')\n",
    "ax1.set_ylabel('Energy [mJ]', color=charge_color)\n",
    "ax2.set_ylabel('Time [ms]', color=time_color)\n",
    "ax1.tick_params('y', colors=charge_color)\n",
    "ax2.tick_params('y', colors=time_color)"
   ]
  },
  {
   "cell_type": "code",
   "execution_count": 41,
   "metadata": {},
   "outputs": [],
   "source": [
    "lines = []\n",
    "lines += ax1.plot(num_bytes, aes_encrypt_energy, charge_color+'-', label=f'{parameter_names[len(lines)]}')\n",
    "lines += ax1.plot(num_bytes, aes_flash_write_energy, charge_color+'-.', label=f'{parameter_names[len(lines)]}')\n",
    "lines += ax1.plot(num_bytes, aes_flash_read_energy, charge_color+':', label=f'{parameter_names[len(lines)]}')\n",
    "lines += ax1.plot(num_bytes, aes_decrypt_energy, charge_color+'--', label=f'{parameter_names[len(lines)]}')\n",
    "lines += ax2.plot(num_bytes, aes_encrypt_time_s, time_color+'-', label=f'{parameter_names[len(lines)]}')\n",
    "lines += ax2.plot(num_bytes, aes_flash_write_time_s, time_color+'-.', label=f'{parameter_names[len(lines)]}')\n",
    "lines += ax2.plot(num_bytes, aes_flash_read_time_s, time_color+':', label=f'{parameter_names[len(lines)]}')\n",
    "lines += ax2.plot(num_bytes, aes_decrypt_time_s, time_color+'--', label=f'{parameter_names[len(lines)]}')\n",
    "ax1.legend(handles=lines)\n",
    "ax1.set_title(\n",
    "    f\"{parameter_names[0]}: Slope {results[0].params['slope'].value * model_j_scale:.04} nJ/B, Intercept {results[0].params['intercept'].value * model_j_scale:.04} nJ\\n\" +\n",
    "    f\"{parameter_names[1]}: Slope {results[1].params['slope'].value * model_j_scale:.04} nJ/B, Intercept {results[1].params['intercept'].value * model_j_scale:.04} nJ\\n\" +\n",
    "    f\"{parameter_names[2]}: Slope {results[2].params['slope'].value * model_j_scale:.04} nJ/B, Intercept {results[2].params['intercept'].value * model_j_scale:.04} nJ\\n\" +\n",
    "    f\"{parameter_names[3]}: Slope {results[3].params['slope'].value * model_j_scale:.04} nJ/B, Intercept {results[3].params['intercept'].value * model_j_scale:.04} nJ\\n\" +\n",
    "    f\"{parameter_names[4]}: Slope {results[4].params['slope'].value * model_t_scale:.04} $\\mu$s/B, Intercept {results[4].params['intercept'].value * model_t_scale:.04} $\\mu$s\\n\" +\n",
    "    f\"{parameter_names[5]}: Slope {results[5].params['slope'].value * model_t_scale:.04} $\\mu$s/B, Intercept {results[5].params['intercept'].value * model_t_scale:.04} $\\mu$s\\n\" +\n",
    "    f\"{parameter_names[6]}: Slope {results[6].params['slope'].value * model_t_scale:.04} $\\mu$s/B, Intercept {results[6].params['intercept'].value * model_t_scale:.04} $\\mu$s\\n\" +\n",
    "    f\"{parameter_names[7]}: Slope {results[7].params['slope'].value * model_t_scale:.04} $\\mu$s/B, Intercept {results[7].params['intercept'].value * model_t_scale:.04} $\\mu$s\\n\" +\n",
    "    f\"{parameter_names[8]}: Slope {results[8].params['slope'].value * model_j_scale:.04} nJ/B, Intercept {results[8].params['intercept'].value * model_j_scale:.04} nJ\\n\" +\n",
    "    f\"{parameter_names[9]}: Slope {results[9].params['slope'].value * model_t_scale:.04} $\\mu$s/B, Intercept {results[9].params['intercept'].value * model_t_scale:.04} $\\mu$s\\n\")\n",
    "fig2.tight_layout()\n",
    "fig2.savefig(f\"Analysis {experiment_name}\")\n",
    "fig2.show()"
   ]
  },
  {
   "cell_type": "code",
   "execution_count": 42,
   "metadata": {},
   "outputs": [
    {
     "name": "stdout",
     "output_type": "stream",
     "text": [
      "Encrypt Energy: Slope 10.911326579511170465 nJ/B, Intercept 262.45538533553605021 nJ\n",
      "Flash Write Energy: Slope 112.83629224216440434 nJ/B, Intercept 16597.659848363920901 nJ\n",
      "Flash Read Energy: Slope 3.767280181506056369 nJ/B, Intercept 1.8099650538339062678 nJ\n",
      "Decrypt Energy: Slope 10.925845723810830634 nJ/B, Intercept 285.28731299037877989 nJ\n",
      "Encrypt Time: Slope 7.3760126106607550867 $\\mu$s/B, Intercept 175.01156615718750231 $\\mu$s\n",
      "Flash Write Time: Slope 20.783721902253486036 $\\mu$s/B, Intercept 2338.8468175907355544 $\\mu$s\n",
      "Flash Read Time: Slope 2.1252210776957713989 $\\mu$s/B, Intercept 25.803293209278209019 $\\mu$s\n",
      "Decrypt Time: Slope 7.3763895792380420602 $\\mu$s/B, Intercept 179.74269043909129095 $\\mu$s\n",
      "Total Energy: Slope 138.44074472699281841 nJ/B, Intercept 17147.212518284326507 nJ\n",
      "Total Time: Slope 37.661345160940584265 $\\mu$s/B, Intercept 2719.4044038353963515 $\\mu$s\n",
      "\n"
     ]
    }
   ],
   "source": [
    "print(\n",
    "    f\"{parameter_names[0]}: Slope {results[0].params['slope'].value * model_j_scale:.020} nJ/B, Intercept {results[0].params['intercept'].value * model_j_scale:.020} nJ\\n\" +\n",
    "    f\"{parameter_names[1]}: Slope {results[1].params['slope'].value * model_j_scale:.020} nJ/B, Intercept {results[1].params['intercept'].value * model_j_scale:.020} nJ\\n\" +\n",
    "    f\"{parameter_names[2]}: Slope {results[2].params['slope'].value * model_j_scale:.020} nJ/B, Intercept {results[2].params['intercept'].value * model_j_scale:.020} nJ\\n\" +\n",
    "    f\"{parameter_names[3]}: Slope {results[3].params['slope'].value * model_j_scale:.020} nJ/B, Intercept {results[3].params['intercept'].value * model_j_scale:.020} nJ\\n\" +\n",
    "    f\"{parameter_names[4]}: Slope {results[4].params['slope'].value * model_t_scale:.020} $\\mu$s/B, Intercept {results[4].params['intercept'].value * model_t_scale:.020} $\\mu$s\\n\" +\n",
    "    f\"{parameter_names[5]}: Slope {results[5].params['slope'].value * model_t_scale:.020} $\\mu$s/B, Intercept {results[5].params['intercept'].value * model_t_scale:.020} $\\mu$s\\n\" +\n",
    "    f\"{parameter_names[6]}: Slope {results[6].params['slope'].value * model_t_scale:.020} $\\mu$s/B, Intercept {results[6].params['intercept'].value * model_t_scale:.020} $\\mu$s\\n\" +\n",
    "    f\"{parameter_names[7]}: Slope {results[7].params['slope'].value * model_t_scale:.020} $\\mu$s/B, Intercept {results[7].params['intercept'].value * model_t_scale:.020} $\\mu$s\\n\" +\n",
    "    f\"{parameter_names[8]}: Slope {results[8].params['slope'].value * model_j_scale:.020} nJ/B, Intercept {results[8].params['intercept'].value * model_j_scale:.020} nJ\\n\" +\n",
    "    f\"{parameter_names[9]}: Slope {results[9].params['slope'].value * model_t_scale:.020} $\\mu$s/B, Intercept {results[9].params['intercept'].value * model_t_scale:.020} $\\mu$s\\n\"\n",
    ")"
   ]
  },
  {
   "cell_type": "code",
   "execution_count": 43,
   "metadata": {},
   "outputs": [],
   "source": [
    "# Save Charge amount list into pickle file\n",
    "import pickle\n",
    "pickle.dump(aes_encrypt_energy, open(\"aes_flash_encrypt_energy_mJ.p\", \"wb\"))\n",
    "pickle.dump(aes_decrypt_energy, open(\"aes_flash_decrypt_energy_mJ.p\", \"wb\"))\n",
    "pickle.dump(aes_flash_write_energy, open(\"aes_flash_write_energy_mJ.p\", \"wb\"))\n",
    "pickle.dump(aes_flash_read_energy, open(\"aes_flash_read_energy_mJ.p\", \"wb\"))\n",
    "pickle.dump(aes_encrypt_time_s, open(\"aes_flash_encrypt_time_ms.p\", \"wb\"))\n",
    "pickle.dump(aes_decrypt_time_s, open(\"aes_flash_decrypt_time_ms.p\", \"wb\"))\n",
    "pickle.dump(aes_flash_write_time_s, open(\"aes_flash_write_time_ms.p\", \"wb\"))\n",
    "pickle.dump(aes_flash_read_time_s, open(\"aes_flash_read_time_ms.p\", \"wb\"))"
   ]
  },
  {
   "cell_type": "code",
   "execution_count": 44,
   "metadata": {},
   "outputs": [
    {
     "name": "stdout",
     "output_type": "stream",
     "text": [
      "384 6144\n",
      "384 6144\n",
      "384 6144\n",
      "384 6144\n",
      "384 6144\n",
      "384 6144\n",
      "384 6144\n",
      "384 6144\n"
     ]
    }
   ],
   "source": [
    "aes = [aes_encrypt_energy, aes_flash_write_energy, aes_flash_read_energy, aes_decrypt_energy, aes_encrypt_time_s, aes_flash_write_time_s, aes_flash_read_time_s, aes_decrypt_time_s]\n",
    "for i in aes:\n",
    "    print(len(i), len(i)*16)"
   ]
  },
  {
   "cell_type": "markdown",
   "metadata": {},
   "source": [
    "## Write config file"
   ]
  },
  {
   "cell_type": "code",
   "execution_count": 45,
   "metadata": {},
   "outputs": [],
   "source": [
    "import json\n",
    "\n",
    "config = {}\n",
    "config[\"name\"] = \"AES-128 Flash\"\n",
    "config[\"project_paths\"] = [project_path]\n",
    "config[\"config_dict\"] = config_dict\n",
    "config[\"config_dict_plot\"] = config_dict_plot\n",
    "config[\"analysis\"] = {\"pins\":{2: [\"AES-128 Encrypt\", \"AES-128 Decrypt\"], 3: [\"AES-128 Flash Write\", \"AES-128 Flash Read\"]}, \n",
    "                      \"result_types\": [\"Charge\", \"Time\"],\n",
    "                      \"section_types\": {\"init\": [], \n",
    "                                        \"store\": [\"AES-128 Encrypt\", \"AES-128 Flash Write\"],\n",
    "                                        \"load\": [\"AES-128 Flash Read\", \"AES-128 Decrypt\"],\n",
    "                                        \"exit\": []},\n",
    "                      \"labels\": {\n",
    "                          \"Charge\": {\"x\":\"Data Size\", \"x_unit\": \"byte\", \"y\": \"Charge\", \"y_unit\": \"C\"},\n",
    "                          \"Time\": {\"x\":\"Data Size\", \"x_unit\": \"byte\", \"y\": \"Time\", \"y_unit\": \"s\"},\n",
    "                      },\n",
    "                      \"x_step\": MBEDTLS_AES_BLOCK_SIZE}\n",
    "\n",
    "with open(\"looped_experiment.json\", 'w') as config_file:  \n",
    "    json.dump(config, config_file, indent=4)"
   ]
  },
  {
   "cell_type": "markdown",
   "metadata": {},
   "source": [
    "# Write model data"
   ]
  },
  {
   "cell_type": "code",
   "execution_count": 46,
   "metadata": {},
   "outputs": [],
   "source": [
    "dump_pickle = True\n",
    "fit_lm = True\n",
    "verbose = 2\n",
    "show_lm_plot = 2\n",
    "# drop = 1"
   ]
  },
  {
   "cell_type": "code",
   "execution_count": 47,
   "metadata": {},
   "outputs": [],
   "source": [
    "# Parse data\n",
    "analysis_config = config.get(\"analysis\")\n",
    "result_types = analysis_config.get(\"result_types\")\n",
    "x_step = analysis_config.get(\"x_step\")\n",
    "parsed_data = {}\n",
    "for pin, parameter_names in analysis_config.get(\"pins\").items():\n",
    "    data2 = power_and_time_per_pulse(\n",
    "        data, int(pin), stop_function=stop_function)\n",
    "    num_names = len(parameter_names)\n",
    "    for i, parameter_name in enumerate(parameter_names):\n",
    "        end_index = -drop * num_names or None\n",
    "        parsed_data[parameter_name] = {\n",
    "            result_types[0]: data2[0][i:end_index:num_names],\n",
    "            result_types[1]: data2[1][i:end_index:num_names],\n",
    "            \"x_step\": x_step}\n",
    "if dump_pickle:\n",
    "    pickle.dump(parsed_data, open(\n",
    "        path.join(path.curdir,\n",
    "                  f\"{config_dict.get('file_name_base')}_looped.p\"), \"wb\"))"
   ]
  },
  {
   "cell_type": "code",
   "execution_count": 48,
   "metadata": {},
   "outputs": [
    {
     "name": "stdout",
     "output_type": "stream",
     "text": [
      "Fitting model to AES-128 Encrypt with 384 samples, from 16 to 6144 bytes in steps of 16.\n",
      "[[Model]]\n",
      "    Model(line)\n",
      "[[Fit Statistics]]\n",
      "    # fitting method   = leastsq\n",
      "    # function evals   = 10\n",
      "    # data points      = 384\n",
      "    # variables        = 2\n",
      "    chi-square         = 1.5638e-13\n",
      "    reduced chi-square = 4.0937e-16\n",
      "    Akaike info crit   = -13603.8551\n",
      "    Bayesian info crit = -13595.9538\n",
      "[[Variables]]\n",
      "    intercept:  7.8815e-08 +/- 2.0691e-09 (2.63%) (init = 0)\n",
      "    slope:      3.2767e-09 +/- 5.8215e-13 (0.02%) (init = 1)\n",
      "[[Correlations]] (unreported correlations are < 0.100)\n",
      "    C(intercept, slope) = -0.867\n",
      "[[Model]]\n",
      "    Model(line)\n",
      "[[Fit Statistics]]\n",
      "    # fitting method   = leastsq\n",
      "    # function evals   = 7\n",
      "    # data points      = 384\n",
      "    # variables        = 2\n",
      "    chi-square         = 2.7078e-07\n",
      "    reduced chi-square = 7.0885e-10\n",
      "    Akaike info crit   = -8087.87545\n",
      "    Bayesian info crit = -8079.97417\n",
      "[[Variables]]\n",
      "    intercept:  1.7501e-04 +/- 2.7227e-06 (1.56%) (init = 0)\n",
      "    slope:      7.3760e-06 +/- 7.6605e-10 (0.01%) (init = 1)\n",
      "[[Correlations]] (unreported correlations are < 0.100)\n",
      "    C(intercept, slope) = -0.867\n",
      "Fitting model to AES-128 Decrypt with 384 samples, from 16 to 6144 bytes in steps of 16.\n",
      "[[Model]]\n",
      "    Model(line)\n",
      "[[Fit Statistics]]\n",
      "    # fitting method   = leastsq\n",
      "    # function evals   = 10\n",
      "    # data points      = 384\n",
      "    # variables        = 2\n",
      "    chi-square         = 1.5662e-13\n",
      "    reduced chi-square = 4.0999e-16\n",
      "    Akaike info crit   = -13603.2783\n",
      "    Bayesian info crit = -13595.3770\n",
      "[[Variables]]\n",
      "    intercept:  8.5672e-08 +/- 2.0706e-09 (2.42%) (init = 0)\n",
      "    slope:      3.2810e-09 +/- 5.8259e-13 (0.02%) (init = 1)\n",
      "[[Correlations]] (unreported correlations are < 0.100)\n",
      "    C(intercept, slope) = -0.867\n",
      "[[Model]]\n",
      "    Model(line)\n",
      "[[Fit Statistics]]\n",
      "    # fitting method   = leastsq\n",
      "    # function evals   = 7\n",
      "    # data points      = 384\n",
      "    # variables        = 2\n",
      "    chi-square         = 2.7841e-07\n",
      "    reduced chi-square = 7.2881e-10\n",
      "    Akaike info crit   = -8077.21458\n",
      "    Bayesian info crit = -8069.31330\n",
      "[[Variables]]\n",
      "    intercept:  1.7974e-04 +/- 2.7607e-06 (1.54%) (init = 0)\n",
      "    slope:      7.3764e-06 +/- 7.7675e-10 (0.01%) (init = 1)\n",
      "[[Correlations]] (unreported correlations are < 0.100)\n",
      "    C(intercept, slope) = -0.867\n",
      "Fitting model to AES-128 Flash Write with 384 samples, from 16 to 6144 bytes in steps of 16.\n",
      "[[Model]]\n",
      "    Model(line)\n",
      "[[Fit Statistics]]\n",
      "    # fitting method   = leastsq\n",
      "    # function evals   = 9\n",
      "    # data points      = 384\n",
      "    # variables        = 2\n",
      "    chi-square         = 2.4026e-09\n",
      "    reduced chi-square = 6.2896e-12\n",
      "    Akaike info crit   = -9902.18270\n",
      "    Bayesian info crit = -9894.28141\n",
      "[[Variables]]\n",
      "    intercept:  4.9843e-06 +/- 2.5646e-07 (5.15%) (init = 0)\n",
      "    slope:      3.3885e-08 +/- 7.2158e-11 (0.21%) (init = 1)\n",
      "[[Correlations]] (unreported correlations are < 0.100)\n",
      "    C(intercept, slope) = -0.867\n",
      "[[Model]]\n",
      "    Model(line)\n",
      "[[Fit Statistics]]\n",
      "    # fitting method   = leastsq\n",
      "    # function evals   = 7\n",
      "    # data points      = 384\n",
      "    # variables        = 2\n",
      "    chi-square         = 5.3151e-04\n",
      "    reduced chi-square = 1.3914e-06\n",
      "    Akaike info crit   = -5176.32689\n",
      "    Bayesian info crit = -5168.42560\n",
      "[[Variables]]\n",
      "    intercept:  0.00233885 +/- 1.2062e-04 (5.16%) (init = 0)\n",
      "    slope:      2.0784e-05 +/- 3.3939e-08 (0.16%) (init = 1)\n",
      "[[Correlations]] (unreported correlations are < 0.100)\n",
      "    C(intercept, slope) = -0.867\n",
      "Fitting model to AES-128 Flash Read with 384 samples, from 16 to 6144 bytes in steps of 16.\n",
      "[[Model]]\n",
      "    Model(line)\n",
      "[[Fit Statistics]]\n",
      "    # fitting method   = leastsq\n",
      "    # function evals   = 10\n",
      "    # data points      = 384\n",
      "    # variables        = 2\n",
      "    chi-square         = 1.0716e-13\n",
      "    reduced chi-square = 2.8053e-16\n",
      "    Akaike info crit   = -13748.9880\n",
      "    Bayesian info crit = -13741.0868\n",
      "[[Variables]]\n",
      "    intercept:  5.4353e-10 +/- 1.7128e-09 (315.12%) (init = 0)\n",
      "    slope:      1.1313e-09 +/- 4.8191e-13 (0.04%) (init = 1)\n",
      "[[Correlations]] (unreported correlations are < 0.100)\n",
      "    C(intercept, slope) = -0.867\n",
      "[[Model]]\n",
      "    Model(line)\n",
      "[[Fit Statistics]]\n",
      "    # fitting method   = leastsq\n",
      "    # function evals   = 7\n",
      "    # data points      = 384\n",
      "    # variables        = 2\n",
      "    chi-square         = 2.7575e-07\n",
      "    reduced chi-square = 7.2186e-10\n",
      "    Akaike info crit   = -8080.89594\n",
      "    Bayesian info crit = -8072.99466\n",
      "[[Variables]]\n",
      "    intercept:  2.5803e-05 +/- 2.7475e-06 (10.65%) (init = 0)\n",
      "    slope:      2.1252e-06 +/- 7.7304e-10 (0.04%) (init = 1)\n",
      "[[Correlations]] (unreported correlations are < 0.100)\n",
      "    C(intercept, slope) = -0.867\n"
     ]
    }
   ],
   "source": [
    "# Fit lm\n",
    "if fit_lm:\n",
    "    model = None\n",
    "    if model is None:\n",
    "        def line(x, intercept, slope):\n",
    "            \"\"\"a line\"\"\"\n",
    "            return [intercept + slope*i for i in x]\n",
    "\n",
    "        model = Model(line)\n",
    "        params = model.make_params(intercept=0, slope=1)\n",
    "#         params['intercept'].set(min=0)\n",
    "    else:\n",
    "        params = model.params\n",
    "\n",
    "    model_results = {}\n",
    "    labels = analysis_config.get(\"labels\")\n",
    "    for parameter_name in parsed_data.keys():\n",
    "        length = len(parsed_data[parameter_name][result_types[0]])\n",
    "        x_step = parsed_data[parameter_name][\"x_step\"]\n",
    "        num_bytes = range(x_step, (length+1)*x_step, x_step)\n",
    "        if verbose:\n",
    "            print(\n",
    "                f\"Fitting model to {parameter_name} with {length} \" +\n",
    "                f\"samples, from {min(num_bytes)} to {max(num_bytes)} \"\n",
    "                f\"bytes in steps of {x_step}.\")\n",
    "        model_result = {}\n",
    "        for result_type in result_types:\n",
    "            model_result[result_type] = model.fit(\n",
    "                parsed_data[parameter_name][result_type], params,\n",
    "                x=num_bytes)\n",
    "            if verbose >= 2:\n",
    "                print(model_result[result_type].fit_report())\n",
    "            # Plot multiple view\n",
    "            if show_lm_plot >= 2:\n",
    "                fig, grid = model_result[result_type].plot(\n",
    "                    xlabel=f\"{labels[result_type]['x']} \" +\n",
    "                           f\"[{labels[result_type]['x_unit']}]\",\n",
    "                    ylabel=f\"{labels[result_type]['y']} \" +\n",
    "                           f\"[{labels[result_type]['y_unit']}]\")\n",
    "                fig.canvas.set_window_title(\n",
    "                    f\"Residuals of {parameter_name}\")\n",
    "                fig.tight_layout()\n",
    "                fig.show()\n",
    "            model_results[parameter_name] = model_result\n",
    "\n",
    "    # Plot single view\n",
    "    if show_lm_plot:\n",
    "        import matplotlib.pyplot as plt\n",
    "        fig = plt.figure(figsize=(9, 6))\n",
    "        fig.canvas.set_window_title(f\"Analysis {config.get('name')}\")\n",
    "        colors = dict(zip(result_types, ['r', 'b']))\n",
    "        line_styles = (\n",
    "            line_style for line_style in ('-', '--', '-.', ':') * 2)\n",
    "        # fig.suptitle(f\"Energy analysis of {config.get('name')}\")\n",
    "        ax = {}\n",
    "        ax[result_types[0]] = fig.add_subplot(1, 1, 1)\n",
    "        ax[result_types[1]] = ax[result_types[0]].twinx()\n",
    "        ax[result_types[0]].set_xlabel(\n",
    "            f\"{labels[result_types[0]]['x']} \" +\n",
    "            f\"[{labels[result_types[0]]['x_unit']}]\")\n",
    "        for result_type in result_types:\n",
    "            ax[result_type].set_ylabel(\n",
    "                f\"{labels[result_type]['y']} \" +\n",
    "                f\"[{labels[result_type]['y_unit']}]\",\n",
    "                color=colors[result_type])\n",
    "            ax[result_type].tick_params('y', colors=colors[result_type])\n",
    "\n",
    "        lines = []\n",
    "        title_str = \"\"\n",
    "        for parameter_name in parsed_data.keys():\n",
    "            length = len(parsed_data[parameter_name][result_types[0]])\n",
    "            x_step = parsed_data[parameter_name][\"x_step\"]\n",
    "            num_bytes = range(x_step, (length+1)*x_step, x_step)\n",
    "            model_result = {}\n",
    "            line_style = next(line_styles)\n",
    "            for result_type in result_types:\n",
    "                label = f\"{parameter_name} {labels[result_type]['y']}\"\n",
    "                lines += ax[result_type].plot(\n",
    "                    num_bytes, parsed_data[parameter_name][result_type],\n",
    "                    colors[result_type] + line_style, label=label)\n",
    "                title_str += f\"{label} \"\n",
    "                for param in params.keys():\n",
    "                    title_str += \"\".join(\n",
    "                        f\"{params[param].name.capitalize()}: \")\n",
    "                    title_str += \"\".join(\n",
    "                        f\"{model_results[parameter_name][result_type].params[param].value: .03} \")\n",
    "                    title_str += \"\".join(\n",
    "                        f\"{labels[result_type]['y_unit']}, \")\n",
    "                title_str = title_str[:-2] + \\\n",
    "                    f\" per {labels[result_type]['x_unit']}\\n\"\n",
    "        ax[result_types[0]].legend(handles=lines)\n",
    "        ax[result_types[0]].set_title(title_str[:-1])\n",
    "        # fig.tight_layout()\n",
    "        fig.tight_layout(rect=(0.05, 0.05, 1, 1))\n",
    "        fig.set_size_inches(8, 6, forward=True)\n",
    "        fig.show()\n",
    "\n",
    "    # Save model results to file\n",
    "    if dump_pickle:\n",
    "        model_results_dump = {}\n",
    "        for parameter_name in model_results.keys():\n",
    "            model_results_dump[parameter_name] = {}\n",
    "            for result_type in model_results[parameter_name].keys():\n",
    "                model_results_dump[parameter_name][result_type] = \\\n",
    "                    model_results[parameter_name][result_type].values\n",
    "\n",
    "        pickle.dump(model_results_dump, open(path.join(\n",
    "            path.curdir,\n",
    "            f\"{config_dict.get('file_name_base')}_model.p\"), \"wb\"))"
   ]
  },
  {
   "cell_type": "markdown",
   "metadata": {},
   "source": [
    "# Total from measurement"
   ]
  },
  {
   "cell_type": "code",
   "execution_count": 49,
   "metadata": {},
   "outputs": [
    {
     "name": "stdout",
     "output_type": "stream",
     "text": [
      "170.3211672113486 45587.07743626681\n"
     ]
    }
   ],
   "source": [
    "n_samples = 5995\n",
    "\n",
    "total_energy = sum(aes_encrypt_energy[:n_samples]) + sum(aes_flash_write_energy[:n_samples]) + sum(aes_flash_read_energy[:n_samples]) + sum(aes_decrypt_energy[:n_samples])\n",
    "total_time = sum(aes_encrypt_time_s[:n_samples]) + sum(aes_flash_write_time_s[:n_samples]) + sum(aes_flash_read_time_s[:n_samples]) + sum(aes_decrypt_time_s[:n_samples])\n",
    "print(total_energy, total_time)"
   ]
  },
  {
   "cell_type": "code",
   "execution_count": 50,
   "metadata": {},
   "outputs": [
    {
     "data": {
      "text/plain": [
       "[4.554183999999989,\n",
       " 4.8181946666666775,\n",
       " 5.2142106666666495,\n",
       " 5.610146666666635,\n",
       " 5.939519999999976,\n",
       " 6.269493333333348,\n",
       " 6.599486933333287,\n",
       " 6.929551999999978,\n",
       " 7.325526400000033,\n",
       " 7.722374400000009,\n",
       " 8.052390399999998,\n",
       " 8.448178133333316,\n",
       " 8.843428266666729,\n",
       " 9.173449599999993,\n",
       " 9.438152533333298,\n",
       " 9.834158933333281,\n",
       " 14.254864000000033,\n",
       " 14.51859199999983,\n",
       " 14.981973333333398,\n",
       " 15.24624639999994,\n",
       " 15.574993066666764,\n",
       " 16.03696319999992,\n",
       " 16.432539200000207,\n",
       " 16.762853333333382,\n",
       " 17.160415999999845,\n",
       " 17.49002079999995,\n",
       " 17.88469920000002,\n",
       " 18.215923199999985,\n",
       " 18.546599466666812,\n",
       " 18.808659733333233,\n",
       " 19.205098133333376,\n",
       " 19.669112533333035,\n",
       " 24.02359093333351,\n",
       " 24.352031999999912,\n",
       " 24.74800000000021,\n",
       " 25.079394133332933,\n",
       " 25.41007946666629,\n",
       " 25.80454026666667,\n",
       " 26.135985600000076,\n",
       " 26.531916799999777,\n",
       " 26.860263466666588,\n",
       " 27.192489066666823,\n",
       " 27.58767146666674,\n",
       " 27.91619519999977,\n",
       " 28.24617386666661,\n",
       " 28.644009599999794,\n",
       " 29.039611733333363,\n",
       " 29.302022399999792,\n",
       " 33.66054399999995,\n",
       " 34.119723733333274,\n",
       " 34.319721599999966,\n",
       " 34.9131498666666,\n",
       " 35.24115200000022,\n",
       " 35.505699733333174,\n",
       " 35.90429013333374,\n",
       " 36.164785066666205,\n",
       " 36.630431999999935,\n",
       " 36.82621119999973,\n",
       " 37.35480533333346,\n",
       " 37.68585813333347,\n",
       " 37.94793119999973,\n",
       " 38.409875200000165,\n",
       " 38.74228479999964,\n",
       " 39.13546986666727,\n",
       " 43.49399999999992,\n",
       " 43.88716266666748,\n",
       " 44.22250133333306,\n",
       " 44.48148373333316,\n",
       " 44.8756480000001,\n",
       " 45.21146133333387,\n",
       " 45.60305173333346,\n",
       " 46.00446560000026,\n",
       " 46.39495839999963,\n",
       " 46.794816533333616,\n",
       " 47.0540266666668,\n",
       " 47.385672533333256,\n",
       " 47.78363946666708,\n",
       " 48.11138079999999,\n",
       " 48.576068799999646,\n",
       " 48.83838560000031,\n",
       " 53.260692800000335,\n",
       " 53.58869333333382,\n",
       " 53.98885333333281,\n",
       " 54.24812373333321,\n",
       " 54.71467306666611,\n",
       " 55.04155733333249,\n",
       " 55.372926400001354,\n",
       " 55.633969599999666,\n",
       " 56.1001173333322,\n",
       " 56.36099093333247,\n",
       " 56.76071039999986,\n",
       " 57.08822880000053,\n",
       " 57.54963199999974,\n",
       " 58.010174933333936,\n",
       " 58.14704906666712,\n",
       " 58.6723573333332,\n",
       " 62.96124960000071,\n",
       " 63.226991999998816,\n",
       " 63.55350080000033,\n",
       " 64.01859733333293,\n",
       " 64.47904480000055,\n",
       " 64.87924799999956,\n",
       " 65.13948373333278,\n",
       " 65.60069333333374,\n",
       " 65.93009920000003,\n",
       " 66.26223840000023,\n",
       " 66.5934133333339,\n",
       " 66.98624800000007,\n",
       " 67.31697973333351,\n",
       " 67.57928693333426,\n",
       " 68.04522933333334,\n",
       " 68.37564160000031,\n",
       " 72.72827839999962,\n",
       " 73.12371413333274,\n",
       " 73.45510933333266,\n",
       " 73.78488853333477,\n",
       " 74.183912533333,\n",
       " 74.5802474666668,\n",
       " 74.97211093333345,\n",
       " 75.30484373333302,\n",
       " 75.56661866666659,\n",
       " 75.96338239999767,\n",
       " 76.36170826666611,\n",
       " 76.68765333333383,\n",
       " 77.02453120000018,\n",
       " 77.35227573333336,\n",
       " 77.67907519999895,\n",
       " 78.14132373333571,\n",
       " 82.36598986666621,\n",
       " 82.8928287999986,\n",
       " 83.22155893333338,\n",
       " 83.6854522666659,\n",
       " 83.81552960000072,\n",
       " 84.21442346666552,\n",
       " 84.61135573333323,\n",
       " 84.87585706666678,\n",
       " 85.33219146666404,\n",
       " 85.66876053333417,\n",
       " 86.0656741333301,\n",
       " 86.46003199999797,\n",
       " 86.78656800000084,\n",
       " 87.18590880000043,\n",
       " 87.6483621333346,\n",
       " 87.84457440000004,\n",
       " 92.19763306666806,\n",
       " 92.59886879999968,\n",
       " 92.99469706666663,\n",
       " 93.32473760000148,\n",
       " 93.64930293333451,\n",
       " 94.05011199999791,\n",
       " 94.37935040000056,\n",
       " 94.71000266666607,\n",
       " 95.10071786666785,\n",
       " 95.37046560000029,\n",
       " 95.83007360000018,\n",
       " 96.22787200000005,\n",
       " 96.55424320000172,\n",
       " 96.8872778666654,\n",
       " 97.28230400000015,\n",
       " 97.5456351999977,\n",
       " 101.96989599999817,\n",
       " 102.36595893333345,\n",
       " 102.69296426666763,\n",
       " 103.08558400000045,\n",
       " 103.55428640000142,\n",
       " 103.75287466666627,\n",
       " 104.01636639999978,\n",
       " 104.53901173333513,\n",
       " 104.87101493333206,\n",
       " 105.33335893333451,\n",
       " 105.593722666665,\n",
       " 106.06115306666908,\n",
       " 106.32486773333305,\n",
       " 106.71969120000036,\n",
       " 106.98165013333671,\n",
       " 107.31432639999916,\n",
       " 111.80142613333288,\n",
       " 112.0607552000017,\n",
       " 112.52877386666604,\n",
       " 112.79405386666674,\n",
       " 113.18885866666584,\n",
       " 113.52147360000053,\n",
       " 113.91578079999931,\n",
       " 114.2474048000004,\n",
       " 114.5744367999999,\n",
       " 114.90531680000338,\n",
       " 115.36611253333717,\n",
       " 115.4939648000024,\n",
       " 116.08991893333354,\n",
       " 116.42129706666537,\n",
       " 116.68009279999936,\n",
       " 117.08458879999739,\n",
       " 121.50591039999625,\n",
       " 121.83137760000307,\n",
       " 122.23104693333653,\n",
       " 122.56570399999944,\n",
       " 122.89380533333016,\n",
       " 123.15965013333141,\n",
       " 123.61626133333203,\n",
       " 124.00927466666545,\n",
       " 124.40658186667264,\n",
       " 124.80231733333369,\n",
       " 124.93420053332827,\n",
       " 125.26408853333493,\n",
       " 125.7913434666662,\n",
       " 126.1223503999993,\n",
       " 126.45114453333406,\n",
       " 126.9805152000032,\n",
       " 130.74363413333856,\n",
       " 131.41066773333065,\n",
       " 131.67026613333732,\n",
       " 132.06084960000197,\n",
       " 132.13312160000257,\n",
       " 132.79640160000028,\n",
       " 133.2547861333353,\n",
       " 133.32483573333676,\n",
       " 133.8531738666653,\n",
       " 134.11014880000138,\n",
       " 134.37251199999878,\n",
       " 134.83737973333731,\n",
       " 135.2338480000057,\n",
       " 135.56635626666846,\n",
       " 136.22326186666456,\n",
       " 136.28910186667298,\n",
       " 140.24833333333575,\n",
       " 141.17524693333294,\n",
       " 141.50077493333058,\n",
       " 141.76514773333437,\n",
       " 141.89310453332737,\n",
       " 142.49393706666424,\n",
       " 142.82106133332562,\n",
       " 143.0174746666637,\n",
       " 143.4159632000025,\n",
       " 143.68018560000095,\n",
       " 144.07568426666373,\n",
       " 144.67070133333237,\n",
       " 144.9949338666663,\n",
       " 145.39341653333437,\n",
       " 145.72402346666635,\n",
       " 146.1204959999982,\n",
       " 150.27953866666266,\n",
       " 150.60753706667285,\n",
       " 150.87457653334013,\n",
       " 151.26957120000384,\n",
       " 151.92651200000284,\n",
       " 152.25909866666498,\n",
       " 152.32835200000494,\n",
       " 152.98940106666592,\n",
       " 153.32041386666972,\n",
       " 153.77574613333778,\n",
       " 154.043298666668,\n",
       " 153.91172960000077,\n",
       " 154.96817386666706,\n",
       " 155.231585066673,\n",
       " 155.03124319999984,\n",
       " 155.55827520000065,\n",
       " 159.9810858666615,\n",
       " 160.1124106666667,\n",
       " 160.51046826666493,\n",
       " 160.57239520000266,\n",
       " 161.10331840000214,\n",
       " 161.4944730666643,\n",
       " 162.15953120000037,\n",
       " 162.22186613333633,\n",
       " 162.81807573333396,\n",
       " 163.14919200000233,\n",
       " 163.86866026666524,\n",
       " 163.87162186666515,\n",
       " 164.00274453333097,\n",
       " 164.33733119999872,\n",
       " 165.32389600000386,\n",
       " 165.38750986666884,\n",
       " 169.15610613333953,\n",
       " 169.61222186666092,\n",
       " 169.4136805333386,\n",
       " 170.0776058666662,\n",
       " 170.67515893333152,\n",
       " 170.99978880000677,\n",
       " 171.2641242666635,\n",
       " 171.9940634666628,\n",
       " 171.98747306667173,\n",
       " 172.71934559999735,\n",
       " 172.85001706666847,\n",
       " 173.18203573334046,\n",
       " 173.5759615999939,\n",
       " 174.17496746666927,\n",
       " 174.36673439998884,\n",
       " 174.63557279999264,\n",
       " 178.99223893333271,\n",
       " 179.38112533333594,\n",
       " 179.4522277333428,\n",
       " 180.1131072000004,\n",
       " 180.10831040000852,\n",
       " 180.7023802666805,\n",
       " 181.16621066666738,\n",
       " 181.35905919999828,\n",
       " 181.43244533333558,\n",
       " 182.28438559999915,\n",
       " 182.35287306666237,\n",
       " 182.41777173333418,\n",
       " 183.1464042666653,\n",
       " 183.15072853333447,\n",
       " 183.67362026666,\n",
       " 183.94334080000618,\n",
       " 188.4925967999962,\n",
       " 188.49162453333435,\n",
       " 189.28121493333094,\n",
       " 189.2181626666769,\n",
       " 189.48100960000147,\n",
       " 189.81095466667597,\n",
       " 190.60581226666784,\n",
       " 190.6740954666759,\n",
       " 191.2670880000178,\n",
       " 191.33228480000497,\n",
       " 191.78644373333498,\n",
       " 192.5836821333391,\n",
       " 192.7122650666675,\n",
       " 192.91416373334158,\n",
       " 193.5072399999882,\n",
       " 193.64275520000263,\n",
       " 197.467148266675,\n",
       " 198.1279029333365,\n",
       " 198.45514133334063,\n",
       " 198.78929066666018,\n",
       " 199.37800586665588,\n",
       " 199.6461087999961,\n",
       " 200.1011258666736,\n",
       " 200.43709279999433,\n",
       " 200.76693333333395,\n",
       " 200.90555306667568,\n",
       " 201.7596165333373,\n",
       " 201.62477599999562,\n",
       " 202.21770879999923,\n",
       " 202.61864479999758,\n",
       " 202.94453653333022,\n",
       " 203.5383962666728,\n",
       " 206.8343648000024,\n",
       " 207.23924640000035,\n",
       " 207.43233866667055,\n",
       " 207.56811413333764,\n",
       " 208.88476693333047,\n",
       " 208.95122719999648,\n",
       " 209.34321493333385,\n",
       " 209.35160799999863,\n",
       " 210.14091146666658,\n",
       " 210.60095039999993,\n",
       " 211.39306453332551,\n",
       " 211.06390133334685,\n",
       " 211.5946746666708,\n",
       " 211.92052906667413,\n",
       " 212.3208672000061,\n",
       " 212.57773813333358,\n",
       " 216.34479040000087,\n",
       " 216.41274773332952,\n",
       " 217.13827359999271,\n",
       " 217.32940853333815,\n",
       " 217.9948069333264,\n",
       " 218.32278506666114,\n",
       " 218.72371573334703,\n",
       " 218.98629173333006,\n",
       " 219.63741386666413,\n",
       " 220.50379413332877,\n",
       " 220.56561280001574,\n",
       " 220.83342506666526,\n",
       " 220.960381866675,\n",
       " 221.48874773333915,\n",
       " 221.6859093333241,\n",
       " 222.28161333332963,\n",
       " 225.9160783999974,\n",
       " 226.24154453333034,\n",
       " 226.17689439999822,\n",
       " 226.76853599999447,\n",
       " 227.62709973333983,\n",
       " 227.88747946666632,\n",
       " 228.2889584000003,\n",
       " 228.61898080000032,\n",
       " 229.01599466666056,\n",
       " 229.4097296000004,\n",
       " 229.93526879999848,\n",
       " 230.72867093333116,\n",
       " 230.79190240000003,\n",
       " 230.92623786666167,\n",
       " 231.52408533332647,\n",
       " 231.78389386666254]"
      ]
     },
     "execution_count": 50,
     "metadata": {},
     "output_type": "execute_result"
    }
   ],
   "source": [
    "          [e + w + r + d for (e,w,r,d) in zip(aes_encrypt_energy, aes_flash_write_energy, aes_flash_read_energy, aes_decrypt_energy)],\n",
    "          [e + w + r + d for (e,w,r,d) in zip(aes_encrypt_time_s, aes_flash_write_time_s, aes_flash_read_time_s, aes_decrypt_time_s)]"
   ]
  },
  {
   "cell_type": "code",
   "execution_count": null,
   "metadata": {},
   "outputs": [],
   "source": []
  },
  {
   "cell_type": "code",
   "execution_count": null,
   "metadata": {},
   "outputs": [],
   "source": []
  }
 ],
 "metadata": {
  "kernelspec": {
   "display_name": "Python 3",
   "language": "python",
   "name": "python3"
  },
  "language_info": {
   "codemirror_mode": {
    "name": "ipython",
    "version": 3
   },
   "file_extension": ".py",
   "mimetype": "text/x-python",
   "name": "python",
   "nbconvert_exporter": "python",
   "pygments_lexer": "ipython3",
   "version": "3.8.1"
  }
 },
 "nbformat": 4,
 "nbformat_minor": 4
}

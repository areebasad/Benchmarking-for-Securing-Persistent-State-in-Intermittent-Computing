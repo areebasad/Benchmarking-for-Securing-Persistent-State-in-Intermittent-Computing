{
 "cells": [
  {
   "cell_type": "markdown",
   "metadata": {},
   "source": [
    "## Import Libraries"
   ]
  },
  {
   "cell_type": "code",
   "execution_count": 1,
   "metadata": {},
   "outputs": [],
   "source": [
    "# %matplotlib ipympl\n",
    "# %matplotlib inline\n",
    "%matplotlib wx"
   ]
  },
  {
   "cell_type": "code",
   "execution_count": 2,
   "metadata": {},
   "outputs": [],
   "source": [
    "import matplotlib.pyplot as plt\n",
    "plt.ion()"
   ]
  },
  {
   "cell_type": "code",
   "execution_count": 3,
   "metadata": {},
   "outputs": [],
   "source": [
    "from pydgilib_extra import *\n",
    "from atprogram import atprogram"
   ]
  },
  {
   "cell_type": "code",
   "execution_count": 4,
   "metadata": {},
   "outputs": [],
   "source": [
    "from os import getcwd, path, pardir\n",
    "import pickle"
   ]
  },
  {
   "cell_type": "markdown",
   "metadata": {},
   "source": [
    "## Compile and program project"
   ]
  },
  {
   "cell_type": "code",
   "execution_count": 5,
   "metadata": {},
   "outputs": [
    {
     "data": {
      "text/plain": [
       "'./AES-128_Crypto-Accelerator_Countermeasures'"
      ]
     },
     "execution_count": 5,
     "metadata": {},
     "output_type": "execute_result"
    }
   ],
   "source": [
    "project_path = path.curdir + \"/\" + \"AES-128_Crypto-Accelerator_Countermeasures\"\n",
    "project_name =  \"AES-128_Crypto-Accelerator_Countermeasures\"\n",
    "device_name = \"ATSAML21J18B\"\n",
    "project_path "
   ]
  },
  {
   "cell_type": "code",
   "execution_count": 6,
   "metadata": {},
   "outputs": [
    {
     "name": "stdout",
     "output_type": "stream",
     "text": [
      "make: Nothing to be done for 'all'.\n",
      "\n",
      "[DEBUG] Starting execution of \"chiperase\"\n",
      "[DEBUG] Starting process 'C:\\Program Files (x86)\\Atmel\\Studio\\7.0\\atbackend\\atbackend.exe'\n",
      "[DEBUG] Connecting to TCP:127.0.0.1:55436\n",
      "[INFO] Connected to edbg, fw version: 3.25\n",
      "[INFO] Firmware check OK\n",
      "[DEBUG] Command \"chiperase\" finished with return code 0\n",
      "[DEBUG] Starting execution of \"program\"\n",
      "[DEBUG] Memory segment base written at 0x00000000. Size = 0x00001130.\n",
      "[DEBUG] Memory segment base written at 0x00001130. Size = 0x00000084.\n",
      "[DEBUG] Command \"program\" finished with return code 0\n",
      "[DEBUG] Starting execution of \"info\"\n",
      "[ERROR] Error in TCF lockbit format. Missed key Could not get Module LOCKBIT for ATSAML21J18B. (TCF Error code: 131120)\n",
      "[DEBUG] Command \"info\" finished with return code 0\n",
      "[DEBUG] Exit successfully.\n",
      "Firmware check OK\n",
      "Chiperase completed successfully\n",
      "Programming completed successfully.\n",
      "Tool edbg has firmware version: 03.25\n",
      "Target voltage: 3.31 V\n",
      "\n",
      "Device information:\n",
      "\n",
      "Name:       ATSAML21J18B  \n",
      "JtagId:     N/A           \n",
      "Revision:   C             \n",
      "Chip ID:    0x1081020f\n",
      "CPU arch.:  CORTEX-M0PLUS \n",
      "Series:     SAML21\n",
      "\n",
      "Memory Information:\n",
      "\n",
      "Address Space    StartAddress            Size\n",
      "\n",
      "base                      0x0     0x100000000\n",
      "  FLASH                   0x0         0x40000\n",
      "  CAL                0x800000             0x8\n",
      "  LOCKBIT            0x802000             0x4\n",
      "  AUX0               0x804000           0x100\n",
      "  AUX1               0x806000           0x100\n",
      "  RWW                0x400000          0x2000\n",
      "  HSRAM            0x20000000          0x8000\n",
      "  LPRAM            0x30000000          0x2000\n",
      "  HPB0             0x40000000          0x4000\n",
      "  HPB1             0x41000000         0x10000\n",
      "  HPB2             0x42000000          0x8000\n",
      "  HPB3             0x43000000          0x2000\n",
      "  HPB4             0x44000000          0x1000\n",
      "  PPB              0xe0000000        0x100000\n",
      "  SCS              0xe000e000          0x1000\n",
      "  PERIPHERALS      0x40000000      0x20000000\n",
      "\n",
      "fuses                     0x0      0x20000000\n",
      "\n",
      "OTP5_WORD_0 (0b01110111011001010010110110111111 <-> 0x77652dbf):\n",
      "   USB_TRIM      0x6\n",
      "   USB_TRANSP    0x19\n",
      "   USB_TRANSN    0x9\n",
      "   ADC_BIASCOMP  0x7\n",
      "   ADC_BIASREFBUF 0x7\n",
      "\n",
      "TEMP_LOG_WORD_1 (0b11010101010010111000100111111001 <-> 0xd54b89f9):\n",
      "   HOT_ADC_VAL   0xd54\n",
      "   ROOM_ADC_VAL  0xb89\n",
      "   HOT_INT1V_VAL 0xf9\n",
      "\n",
      "TEMP_LOG_WORD_0 (0b11111011100101010100100000011101 <-> 0xfb95481d):\n",
      "   ROOM_INT1V_VAL 0xfb\n",
      "   HOT_TEMP_VAL_DEC 0x9\n",
      "   HOT_TEMP_VAL_INT 0x54\n",
      "   ROOM_TEMP_VAL_DEC 0x8\n",
      "   ROOM_TEMP_VAL_INT 0x1d\n",
      "\n",
      "USER_WORD_1 (0b11111111111111111111100010111011 <-> 0xfffff8bb):\n",
      "   NVMCTRL_REGION_LOCKS 0xffff\n",
      "   BOD12_HYST    0\n",
      "   BOD33_HYST    0\n",
      "   WDT_WEN       0\n",
      "   WDT_EWOFFSET  0xb\n",
      "   WDT_WINDOW    0xb\n",
      "\n",
      "USER_WORD_0 (0b10110001000111101000011011111111 <-> 0xb11e86ff):\n",
      "   WDT_PER       0xb\n",
      "   WDT_ALWAYSON  0\n",
      "   WDT_ENABLE    0\n",
      "   BOD12_DIS     0\n",
      "   BOD33_ACTION  0x1\n",
      "   BOD33_DIS     0\n",
      "   BOD33USERLEVEL 0x6\n",
      "   NVMCTRL_EEPROM_SIZE 0x7\n",
      "   NVMCTRL_BOOTPROT 0x7\n",
      "\n",
      "\n"
     ]
    },
    {
     "data": {
      "text/plain": [
       "0"
      ]
     },
     "execution_count": 6,
     "metadata": {},
     "output_type": "execute_result"
    }
   ],
   "source": [
    "atprogram.atprogram(project_path, device_name = device_name ,verbose=3)"
   ]
  },
  {
   "cell_type": "code",
   "execution_count": 7,
   "metadata": {},
   "outputs": [],
   "source": [
    "#atprogram(path.abspath(path.join(*project_path)), verbose=2)"
   ]
  },
  {
   "cell_type": "code",
   "execution_count": 8,
   "metadata": {},
   "outputs": [
    {
     "name": "stdout",
     "output_type": "stream",
     "text": [
      "{'text': 4400, 'data': 132, 'bss': 8332, 'dec': 12864, 'hex': 12864, 'filename': 'AES-128_Crypto-Accelerator_Countermeasures.elf'}\n"
     ]
    },
    {
     "data": {
      "text/plain": [
       "{'text': 4400,\n",
       " 'data': 132,\n",
       " 'bss': 8332,\n",
       " 'dec': 12864,\n",
       " 'hex': 12864,\n",
       " 'filename': 'AES-128_Crypto-Accelerator_Countermeasures.elf'}"
      ]
     },
     "execution_count": 8,
     "metadata": {},
     "output_type": "execute_result"
    }
   ],
   "source": [
    "atprogram.get_project_size(project_path, device_name = device_name , verbose=2)"
   ]
  },
  {
   "cell_type": "code",
   "execution_count": null,
   "metadata": {},
   "outputs": [],
   "source": []
  },
  {
   "cell_type": "markdown",
   "metadata": {},
   "source": [
    "## Data Logging"
   ]
  },
  {
   "cell_type": "code",
   "execution_count": 9,
   "metadata": {},
   "outputs": [],
   "source": [
    "live_plot = False"
   ]
  },
  {
   "cell_type": "markdown",
   "metadata": {},
   "source": [
    "Create a figure for the plot."
   ]
  },
  {
   "cell_type": "code",
   "execution_count": 10,
   "metadata": {},
   "outputs": [],
   "source": [
    "if live_plot:\n",
    "    fig = plt.figure(figsize=(10, 6))\n",
    "    fig.show()"
   ]
  },
  {
   "cell_type": "markdown",
   "metadata": {},
   "source": [
    "Create the configuration dictionary for `DGILibExtra`."
   ]
  },
  {
   "cell_type": "code",
   "execution_count": 11,
   "metadata": {},
   "outputs": [],
   "source": [
    "config_dict = {\n",
    "    \"loggers\": [LOGGER_OBJECT, LOGGER_CSV],\n",
    "    \"file_name_base\": \"experiment_aes_flash\"\n",
    "}\n",
    "config_dict_plot = {\n",
    "    \"loggers\": [LOGGER_OBJECT, LOGGER_PLOT, LOGGER_CSV],\n",
    "    \"plot_pins\": [False, False, True, True],\n",
    "    \"plot_pins_method\": \"line\",\n",
    "    \"plot_xmax\": 5,\n",
    "    \"window_title\": \"Experiment AES-128 Flash\",\n",
    "}"
   ]
  },
  {
   "cell_type": "markdown",
   "metadata": {},
   "source": [
    "Stop criteria to pass to the logger:"
   ]
  },
  {
   "cell_type": "code",
   "execution_count": 12,
   "metadata": {},
   "outputs": [],
   "source": [
    "def stop_fn(logger_data):\n",
    "    return all(logger_data.gpio.values[-1])"
   ]
  },
  {
   "cell_type": "code",
   "execution_count": 13,
   "metadata": {},
   "outputs": [],
   "source": [
    "#with DGILib() as dgilib:\n",
    "#     dgilib.get_major_version()"
   ]
  },
  {
   "cell_type": "markdown",
   "metadata": {},
   "source": [
    "Perform the measurement."
   ]
  },
  {
   "cell_type": "code",
   "execution_count": 15,
   "metadata": {},
   "outputs": [],
   "source": [
    "data = []\n",
    "cd = config_dict.copy()\n",
    "if live_plot:\n",
    "    fig.clf()\n",
    "    for ax in fig.get_axes():\n",
    "        ax.cla()\n",
    "    \n",
    "    cd.update(config_dict_plot)\n",
    "    cd[\"fig\"] = fig\n",
    "    \n",
    "with DGILibExtra(**cd) as dgilib:\n",
    "    dgilib.device_reset()\n",
    "    dgilib.logger.log(1000,stop_fn)\n",
    "    data = dgilib.data"
   ]
  },
  {
   "cell_type": "code",
   "execution_count": 16,
   "metadata": {},
   "outputs": [
    {
     "data": {
      "text/plain": [
       "{48: 6005, 256: 858000}"
      ]
     },
     "execution_count": 16,
     "metadata": {},
     "output_type": "execute_result"
    }
   ],
   "source": [
    "data.length()"
   ]
  },
  {
   "cell_type": "code",
   "execution_count": 17,
   "metadata": {},
   "outputs": [
    {
     "name": "stdout",
     "output_type": "stream",
     "text": [
      "Interfaces:\n",
      "\t  48:   gpio,    samples:    6005\n",
      "\t 256:   power,   samples:  858000\n",
      "\n"
     ]
    }
   ],
   "source": [
    "print(data)"
   ]
  },
  {
   "cell_type": "markdown",
   "metadata": {},
   "source": [
    "# Store Data"
   ]
  },
  {
   "cell_type": "code",
   "execution_count": 18,
   "metadata": {},
   "outputs": [],
   "source": [
    "import pickle"
   ]
  },
  {
   "cell_type": "code",
   "execution_count": 19,
   "metadata": {},
   "outputs": [],
   "source": [
    "pickle.dump(data, open(\"aes_flash_logger_data.p\", \"wb\"))"
   ]
  },
  {
   "cell_type": "markdown",
   "metadata": {},
   "source": [
    "# Load Data"
   ]
  },
  {
   "cell_type": "code",
   "execution_count": 20,
   "metadata": {},
   "outputs": [],
   "source": [
    "data = pickle.load(open(\"aes_flash_logger_data.p\", \"rb\"))"
   ]
  },
  {
   "cell_type": "code",
   "execution_count": 21,
   "metadata": {},
   "outputs": [],
   "source": [
    "#iteration = 0\n",
    "#name = \"AES-128_Flash\"\n",
    "#data = pickle.load(open(path.join(path.pardir, path.pardir, f\"{name}_{iteration}.p\"), \"rb\"))"
   ]
  },
  {
   "cell_type": "markdown",
   "metadata": {},
   "source": [
    "## Analysis"
   ]
  },
  {
   "cell_type": "markdown",
   "metadata": {},
   "source": [
    "Create Stop Function to stop parsing the data when all pins are high."
   ]
  },
  {
   "cell_type": "code",
   "execution_count": 22,
   "metadata": {},
   "outputs": [],
   "source": [
    "def stop_function(pin_values):\n",
    "    return all(pin_values)"
   ]
  },
  {
   "cell_type": "markdown",
   "metadata": {},
   "source": [
    "Parse the data."
   ]
  },
  {
   "cell_type": "code",
   "execution_count": 23,
   "metadata": {},
   "outputs": [],
   "source": [
    "aes_charge, aes_time = power_and_time_per_pulse(data, 2, stop_function=stop_function)"
   ]
  },
  {
   "cell_type": "code",
   "execution_count": 24,
   "metadata": {},
   "outputs": [],
   "source": [
    "flash_charge, flash_time = power_and_time_per_pulse(data, 3, stop_function=stop_function)"
   ]
  },
  {
   "cell_type": "code",
   "execution_count": 25,
   "metadata": {},
   "outputs": [
    {
     "name": "stdout",
     "output_type": "stream",
     "text": [
      "750 750 750 750\n"
     ]
    }
   ],
   "source": [
    "print(len(aes_charge), len(aes_time), len(flash_charge), len(flash_time))\n",
    "# cutoff = min(len(aes_charge), len(aes_time), len(flash_charge), len(flash_time))\n",
    "# aes_charge = aes_charge[:cutoff]\n",
    "# aes_time = aes_time[:cutoff]\n",
    "# flash_charge = flash_charge[:cutoff]\n",
    "# flash_time = flash_time[:cutoff]"
   ]
  },
  {
   "cell_type": "code",
   "execution_count": 26,
   "metadata": {},
   "outputs": [],
   "source": [
    "# length = len(aes_charge)\n",
    "# assert length == len(aes_time)\n",
    "# assert length == len(flash_charge)\n",
    "# assert length == len(flash_time)\n",
    "# print(length)"
   ]
  },
  {
   "cell_type": "code",
   "execution_count": 27,
   "metadata": {},
   "outputs": [],
   "source": [
    "aes_encrypt_charge = aes_charge[0::2]\n",
    "aes_decrypt_charge = aes_charge[1::2]\n",
    "aes_encrypt_time = aes_time[0::2]\n",
    "aes_decrypt_time = aes_time[1::2]"
   ]
  },
  {
   "cell_type": "code",
   "execution_count": 28,
   "metadata": {},
   "outputs": [],
   "source": [
    "aes_flash_write_charge = flash_charge[0::2]\n",
    "aes_flash_read_charge = flash_charge[1::2]\n",
    "aes_flash_write_time = flash_time[0::2]\n",
    "aes_flash_read_time = flash_time[1::2]"
   ]
  },
  {
   "cell_type": "code",
   "execution_count": 29,
   "metadata": {},
   "outputs": [
    {
     "data": {
      "text/plain": [
       "(375, 375, 375, 375, 375, 375, 375, 375)"
      ]
     },
     "execution_count": 29,
     "metadata": {},
     "output_type": "execute_result"
    }
   ],
   "source": [
    "len(aes_encrypt_charge), len(aes_decrypt_charge), len(aes_encrypt_time), len(aes_decrypt_time), len(aes_flash_write_charge), len(aes_flash_read_charge), len(aes_flash_write_time), len(aes_flash_read_time)"
   ]
  },
  {
   "cell_type": "code",
   "execution_count": 30,
   "metadata": {},
   "outputs": [],
   "source": [
    "drop = 0\n",
    "cutoff = min(len(aes_encrypt_charge), len(aes_decrypt_charge), len(aes_encrypt_time), len(aes_decrypt_time), len(aes_flash_write_charge), len(aes_flash_read_charge), len(aes_flash_write_time), len(aes_flash_read_time)) - drop\n",
    "aes_encrypt_charge = aes_encrypt_charge[:cutoff]\n",
    "aes_decrypt_charge = aes_decrypt_charge[:cutoff]\n",
    "aes_encrypt_time = aes_encrypt_time[:cutoff]\n",
    "aes_decrypt_time = aes_decrypt_time[:cutoff]\n",
    "aes_flash_write_charge = aes_flash_write_charge[:cutoff]\n",
    "aes_flash_read_charge = aes_flash_read_charge[:cutoff]\n",
    "aes_flash_write_time = aes_flash_write_time[:cutoff]\n",
    "aes_flash_read_time = aes_flash_read_time[:cutoff]"
   ]
  },
  {
   "cell_type": "code",
   "execution_count": 31,
   "metadata": {},
   "outputs": [
    {
     "name": "stdout",
     "output_type": "stream",
     "text": [
      "375\n"
     ]
    }
   ],
   "source": [
    "length = len(aes_encrypt_charge)\n",
    "assert length == len(aes_decrypt_charge)\n",
    "assert length == len(aes_encrypt_time)\n",
    "assert length == len(aes_decrypt_time)\n",
    "assert length == len(aes_flash_write_charge)\n",
    "assert length == len(aes_flash_read_charge)\n",
    "assert length == len(aes_flash_write_time)\n",
    "assert length == len(aes_flash_read_time)\n",
    "print(length)"
   ]
  },
  {
   "cell_type": "markdown",
   "metadata": {},
   "source": [
    "# Convert to Joule"
   ]
  },
  {
   "cell_type": "code",
   "execution_count": 32,
   "metadata": {},
   "outputs": [],
   "source": [
    "voltage = 3.31\n",
    "j_scale = 1e3 # m\n",
    "t_scale = 1e3 # m\n",
    "model_j_scale = 1e6 # n\n",
    "model_t_scale = 1e3 # u\n",
    "\n",
    "experiment_name =  project_name"
   ]
  },
  {
   "cell_type": "code",
   "execution_count": 33,
   "metadata": {},
   "outputs": [],
   "source": [
    "aes_encrypt_energy = aes_encrypt_charge[:cutoff]\n",
    "aes_flash_write_energy = aes_flash_write_charge[:cutoff]\n",
    "aes_flash_read_energy = aes_flash_read_charge[:cutoff]\n",
    "aes_decrypt_energy = aes_decrypt_charge[:cutoff]\n",
    "aes_encrypt_time_s = aes_encrypt_time[:cutoff]\n",
    "aes_flash_write_time_s = aes_flash_write_time[:cutoff]\n",
    "aes_flash_read_time_s = aes_flash_read_time[:cutoff]\n",
    "aes_decrypt_time_s = aes_decrypt_time[:cutoff]\n",
    "\n",
    "for i in range(len(aes_encrypt_energy)):\n",
    "    aes_encrypt_energy[i] = aes_encrypt_energy[i] * voltage * j_scale\n",
    "for i in range(len(aes_flash_write_energy)):\n",
    "    aes_flash_write_energy[i] = aes_flash_write_energy[i] * voltage * j_scale\n",
    "for i in range(len(aes_flash_read_energy)):\n",
    "    aes_flash_read_energy[i] = aes_flash_read_energy[i] * voltage * j_scale\n",
    "for i in range(len(aes_decrypt_energy)):\n",
    "    aes_decrypt_energy[i] = aes_decrypt_energy[i] * voltage * j_scale\n",
    "    \n",
    "for i in range(len(aes_encrypt_time_s)):\n",
    "    aes_encrypt_time_s[i] = aes_encrypt_time_s[i] * t_scale\n",
    "for i in range(len(aes_flash_write_time_s)):\n",
    "    aes_flash_write_time_s[i] = aes_flash_write_time_s[i] * t_scale\n",
    "for i in range(len(aes_flash_read_time_s)):\n",
    "    aes_flash_read_time_s[i] = aes_flash_read_time_s[i] * t_scale\n",
    "for i in range(len(aes_decrypt_time_s)):\n",
    "    aes_decrypt_time_s[i] = aes_decrypt_time_s[i] * t_scale"
   ]
  },
  {
   "cell_type": "code",
   "execution_count": 34,
   "metadata": {},
   "outputs": [
    {
     "name": "stdout",
     "output_type": "stream",
     "text": [
      "MAX_NUM_BYTES: 6000\n"
     ]
    }
   ],
   "source": [
    "MBEDTLS_AES_BLOCK_SIZE = 16\n",
    "STEP_SIZE = MBEDTLS_AES_BLOCK_SIZE\n",
    "MIN_NUM_BYTES = STEP_SIZE\n",
    "num_bytes = range(MIN_NUM_BYTES, MIN_NUM_BYTES + STEP_SIZE * len(aes_encrypt_energy), STEP_SIZE)\n",
    "print(f\"MAX_NUM_BYTES: {num_bytes[-1]}\")"
   ]
  },
  {
   "cell_type": "code",
   "execution_count": 35,
   "metadata": {},
   "outputs": [],
   "source": [
    "from lmfit import Model\n",
    "\n",
    "def line(x, slope, intercept):\n",
    "    \"\"\"a line\"\"\"\n",
    "    return [slope*i + intercept for i in x]\n",
    "\n",
    "mod = Model(line)\n",
    "pars = mod.make_params(slope=0, intercept=1)\n",
    "# pars['intercept'].set(min=0)"
   ]
  },
  {
   "cell_type": "code",
   "execution_count": 36,
   "metadata": {},
   "outputs": [
    {
     "name": "stdout",
     "output_type": "stream",
     "text": [
      "[[Model]]\n",
      "    Model(line)\n",
      "[[Fit Statistics]]\n",
      "    # fitting method   = leastsq\n",
      "    # function evals   = 6\n",
      "    # data points      = 375\n",
      "    # variables        = 2\n",
      "    chi-square         = 3.3200e-06\n",
      "    reduced chi-square = 8.9007e-09\n",
      "    Akaike info crit   = -6949.43011\n",
      "    Bayesian info crit = -6941.57626\n",
      "[[Variables]]\n",
      "    slope:      1.0445e-05 +/- 2.8128e-09 (0.03%) (init = 0)\n",
      "    intercept:  3.5590e-04 +/- 9.7633e-06 (2.74%) (init = 1)\n",
      "[[Correlations]] (unreported correlations are < 0.100)\n",
      "    C(slope, intercept) = -0.867\n",
      "[[Model]]\n",
      "    Model(line)\n",
      "[[Fit Statistics]]\n",
      "    # fitting method   = leastsq\n",
      "    # function evals   = 6\n",
      "    # data points      = 375\n",
      "    # variables        = 2\n",
      "    chi-square         = 0.02731884\n",
      "    reduced chi-square = 7.3241e-05\n",
      "    Akaike info crit   = -3568.66427\n",
      "    Bayesian info crit = -3560.81042\n",
      "[[Variables]]\n",
      "    slope:      1.1693e-04 +/- 2.5515e-07 (0.22%) (init = 0)\n",
      "    intercept:  0.01240888 +/- 8.8565e-04 (7.14%) (init = 1)\n",
      "[[Correlations]] (unreported correlations are < 0.100)\n",
      "    C(slope, intercept) = -0.867\n",
      "[[Model]]\n",
      "    Model(line)\n",
      "[[Fit Statistics]]\n",
      "    # fitting method   = leastsq\n",
      "    # function evals   = 6\n",
      "    # data points      = 375\n",
      "    # variables        = 2\n",
      "    chi-square         = 1.2209e-06\n",
      "    reduced chi-square = 3.2732e-09\n",
      "    Akaike info crit   = -7324.56529\n",
      "    Bayesian info crit = -7316.71143\n",
      "[[Variables]]\n",
      "    slope:      3.2971e-06 +/- 1.7057e-09 (0.05%) (init = 0)\n",
      "    intercept: -1.3050e-04 +/- 5.9207e-06 (4.54%) (init = 1)\n",
      "[[Correlations]] (unreported correlations are < 0.100)\n",
      "    C(slope, intercept) = -0.867\n",
      "[[Model]]\n",
      "    Model(line)\n",
      "[[Fit Statistics]]\n",
      "    # fitting method   = leastsq\n",
      "    # function evals   = 6\n",
      "    # data points      = 375\n",
      "    # variables        = 2\n",
      "    chi-square         = 0.00270698\n",
      "    reduced chi-square = 7.2573e-06\n",
      "    Akaike info crit   = -4435.56831\n",
      "    Bayesian info crit = -4427.71446\n",
      "[[Variables]]\n",
      "    slope:      1.0332e-05 +/- 8.0318e-08 (0.78%) (init = 0)\n",
      "    intercept:  6.6083e-04 +/- 2.7879e-04 (42.19%) (init = 1)\n",
      "[[Correlations]] (unreported correlations are < 0.100)\n",
      "    C(slope, intercept) = -0.867\n",
      "[[Model]]\n",
      "    Model(line)\n",
      "[[Fit Statistics]]\n",
      "    # fitting method   = leastsq\n",
      "    # function evals   = 6\n",
      "    # data points      = 375\n",
      "    # variables        = 2\n",
      "    chi-square         = 1.67885038\n",
      "    reduced chi-square = 0.00450094\n",
      "    Akaike info crit   = -2024.30629\n",
      "    Bayesian info crit = -2016.45244\n",
      "[[Variables]]\n",
      "    slope:      0.00808917 +/- 2.0002e-06 (0.02%) (init = 0)\n",
      "    intercept:  0.18284344 +/- 0.00694281 (3.80%) (init = 1)\n",
      "[[Correlations]] (unreported correlations are < 0.100)\n",
      "    C(slope, intercept) = -0.867\n",
      "[[Model]]\n",
      "    Model(line)\n",
      "[[Fit Statistics]]\n",
      "    # fitting method   = leastsq\n",
      "    # function evals   = 6\n",
      "    # data points      = 375\n",
      "    # variables        = 2\n",
      "    chi-square         = 564.524412\n",
      "    reduced chi-square = 1.51347027\n",
      "    Akaike info crit   = 157.396601\n",
      "    Bayesian info crit = 165.250453\n",
      "[[Variables]]\n",
      "    slope:      0.02179540 +/- 3.6679e-05 (0.17%) (init = 0)\n",
      "    intercept:  2.74251034 +/- 0.12731233 (4.64%) (init = 1)\n",
      "[[Correlations]] (unreported correlations are < 0.100)\n",
      "    C(slope, intercept) = -0.867\n",
      "[[Model]]\n",
      "    Model(line)\n",
      "[[Fit Statistics]]\n",
      "    # fitting method   = leastsq\n",
      "    # function evals   = 6\n",
      "    # data points      = 375\n",
      "    # variables        = 2\n",
      "    chi-square         = 0.27694197\n",
      "    reduced chi-square = 7.4247e-04\n",
      "    Akaike info crit   = -2700.07749\n",
      "    Bayesian info crit = -2692.22364\n",
      "[[Variables]]\n",
      "    slope:      0.00212475 +/- 8.1239e-07 (0.04%) (init = 0)\n",
      "    intercept:  0.02834263 +/- 0.00281983 (9.95%) (init = 1)\n",
      "[[Correlations]] (unreported correlations are < 0.100)\n",
      "    C(slope, intercept) = -0.867\n",
      "[[Model]]\n",
      "    Model(line)\n",
      "[[Fit Statistics]]\n",
      "    # fitting method   = leastsq\n",
      "    # function evals   = 6\n",
      "    # data points      = 375\n",
      "    # variables        = 2\n",
      "    chi-square         = 1617.65597\n",
      "    reduced chi-square = 4.33687928\n",
      "    Akaike info crit   = 552.177784\n",
      "    Bayesian info crit = 560.031636\n",
      "[[Variables]]\n",
      "    slope:      0.00798322 +/- 6.2089e-05 (0.78%) (init = 0)\n",
      "    intercept:  0.40186905 +/- 0.21551241 (53.63%) (init = 1)\n",
      "[[Correlations]] (unreported correlations are < 0.100)\n",
      "    C(slope, intercept) = -0.867\n",
      "[[Model]]\n",
      "    Model(line)\n",
      "[[Fit Statistics]]\n",
      "    # fitting method   = leastsq\n",
      "    # function evals   = 6\n",
      "    # data points      = 375\n",
      "    # variables        = 2\n",
      "    chi-square         = 0.03112533\n",
      "    reduced chi-square = 8.3446e-05\n",
      "    Akaike info crit   = -3519.74723\n",
      "    Bayesian info crit = -3511.89338\n",
      "[[Variables]]\n",
      "    slope:      1.4100e-04 +/- 2.7235e-07 (0.19%) (init = 0)\n",
      "    intercept:  0.01329511 +/- 9.4534e-04 (7.11%) (init = 1)\n",
      "[[Correlations]] (unreported correlations are < 0.100)\n",
      "    C(slope, intercept) = -0.867\n",
      "[[Model]]\n",
      "    Model(line)\n",
      "[[Fit Statistics]]\n",
      "    # fitting method   = leastsq\n",
      "    # function evals   = 9\n",
      "    # data points      = 375\n",
      "    # variables        = 2\n",
      "    chi-square         = 2300.55463\n",
      "    reduced chi-square = 6.16770678\n",
      "    Akaike info crit   = 684.242309\n",
      "    Bayesian info crit = 692.096161\n",
      "[[Variables]]\n",
      "    slope:      0.03999255 +/- 7.4044e-05 (0.19%) (init = 0)\n",
      "    intercept:  3.35556554 +/- 0.25700728 (7.66%) (init = 1)\n",
      "[[Correlations]] (unreported correlations are < 0.100)\n",
      "    C(slope, intercept) = -0.867\n"
     ]
    }
   ],
   "source": [
    "results = []\n",
    "ylabels = (['Energy [mJ]'] * 2 + ['Time [ms]'] * 2) * 2 + ['Energy [mJ]'] + ['Time [ms]']\n",
    "parameter_names = [\n",
    "    'Encrypt Energy',\n",
    "    'Flash Write Energy',\n",
    "    'Flash Read Energy',\n",
    "    'Decrypt Energy',\n",
    "    'Encrypt Time',\n",
    "    'Flash Write Time',\n",
    "    'Flash Read Time',\n",
    "    'Decrypt Time',\n",
    "    'Total Energy',\n",
    "    'Total Time',\n",
    "]\n",
    "for y in [aes_encrypt_energy, aes_flash_write_energy, aes_flash_read_energy, aes_decrypt_energy, aes_encrypt_time_s, aes_flash_write_time_s, aes_flash_read_time_s, aes_decrypt_time_s,\n",
    "          [e + w + r + d for (e,w,r,d) in zip(aes_encrypt_energy, aes_flash_write_energy, aes_flash_read_energy, aes_decrypt_energy)],\n",
    "          [e + w + r + d for (e,w,r,d) in zip(aes_encrypt_time_s, aes_flash_write_time_s, aes_flash_read_time_s, aes_decrypt_time_s)]]:\n",
    "    result = mod.fit(y, pars, x=num_bytes)\n",
    "    print(result.fit_report())\n",
    "    fig, grid = result.plot(\n",
    "        xlabel='Checkpoint Size [Bytes]',\n",
    "        ylabel=ylabels[len(results)])\n",
    "    fig.tight_layout(rect=(0.05, 0.05, 1, 1))\n",
    "    fig.set_size_inches(5, 4.5, forward=True)\n",
    "    fig.canvas.set_window_title(\n",
    "        f\"Residuals of {experiment_name} {parameter_names[len(results)]}\")\n",
    "    fig.show()\n",
    "    fig.savefig( f\"Residuals of {experiment_name} {parameter_names[len(results)]}\")\n",
    "    results.append(result)"
   ]
  },
  {
   "cell_type": "code",
   "execution_count": 37,
   "metadata": {},
   "outputs": [],
   "source": [
    "fig2 = plt.figure(figsize=(8, 6))\n",
    "fig2.canvas.set_window_title(f\"Analysis {experiment_name}\")"
   ]
  },
  {
   "cell_type": "code",
   "execution_count": 38,
   "metadata": {},
   "outputs": [],
   "source": [
    "charge_color = 'r'\n",
    "time_color = 'b'"
   ]
  },
  {
   "cell_type": "code",
   "execution_count": 39,
   "metadata": {},
   "outputs": [],
   "source": [
    "fig2.clf()\n",
    "# fig2.suptitle(\"Energy analysis of AES\")\n",
    "ax1 = fig2.add_subplot(1, 1, 1)\n",
    "ax2 = ax1.twinx()\n",
    "ax1.set_xlabel('Checkpoint Size [Bytes]')\n",
    "ax1.set_ylabel('Energy [mJ]', color=charge_color)\n",
    "ax2.set_ylabel('Time [ms]', color=time_color)\n",
    "ax1.tick_params('y', colors=charge_color)\n",
    "ax2.tick_params('y', colors=time_color)"
   ]
  },
  {
   "cell_type": "code",
   "execution_count": 40,
   "metadata": {},
   "outputs": [],
   "source": [
    "lines = []\n",
    "lines += ax1.plot(num_bytes, aes_encrypt_energy, charge_color+'-', label=f'{parameter_names[len(lines)]}')\n",
    "lines += ax1.plot(num_bytes, aes_flash_write_energy, charge_color+'-.', label=f'{parameter_names[len(lines)]}')\n",
    "lines += ax1.plot(num_bytes, aes_flash_read_energy, charge_color+':', label=f'{parameter_names[len(lines)]}')\n",
    "lines += ax1.plot(num_bytes, aes_decrypt_energy, charge_color+'--', label=f'{parameter_names[len(lines)]}')\n",
    "lines += ax2.plot(num_bytes, aes_encrypt_time_s, time_color+'-', label=f'{parameter_names[len(lines)]}')\n",
    "lines += ax2.plot(num_bytes, aes_flash_write_time_s, time_color+'-.', label=f'{parameter_names[len(lines)]}')\n",
    "lines += ax2.plot(num_bytes, aes_flash_read_time_s, time_color+':', label=f'{parameter_names[len(lines)]}')\n",
    "lines += ax2.plot(num_bytes, aes_decrypt_time_s, time_color+'--', label=f'{parameter_names[len(lines)]}')\n",
    "ax1.legend(handles=lines)\n",
    "ax1.set_title(\n",
    "    f\"{parameter_names[0]}: Slope {results[0].params['slope'].value * model_j_scale:.04} nJ/B, Intercept {results[0].params['intercept'].value * model_j_scale:.04} nJ\\n\" +\n",
    "    f\"{parameter_names[1]}: Slope {results[1].params['slope'].value * model_j_scale:.04} nJ/B, Intercept {results[1].params['intercept'].value * model_j_scale:.04} nJ\\n\" +\n",
    "    f\"{parameter_names[2]}: Slope {results[2].params['slope'].value * model_j_scale:.04} nJ/B, Intercept {results[2].params['intercept'].value * model_j_scale:.04} nJ\\n\" +\n",
    "    f\"{parameter_names[3]}: Slope {results[3].params['slope'].value * model_j_scale:.04} nJ/B, Intercept {results[3].params['intercept'].value * model_j_scale:.04} nJ\\n\" +\n",
    "    f\"{parameter_names[4]}: Slope {results[4].params['slope'].value * model_t_scale:.04} $\\mu$s/B, Intercept {results[4].params['intercept'].value * model_t_scale:.04} $\\mu$s\\n\" +\n",
    "    f\"{parameter_names[5]}: Slope {results[5].params['slope'].value * model_t_scale:.04} $\\mu$s/B, Intercept {results[5].params['intercept'].value * model_t_scale:.04} $\\mu$s\\n\" +\n",
    "    f\"{parameter_names[6]}: Slope {results[6].params['slope'].value * model_t_scale:.04} $\\mu$s/B, Intercept {results[6].params['intercept'].value * model_t_scale:.04} $\\mu$s\\n\" +\n",
    "    f\"{parameter_names[7]}: Slope {results[7].params['slope'].value * model_t_scale:.04} $\\mu$s/B, Intercept {results[7].params['intercept'].value * model_t_scale:.04} $\\mu$s\\n\" +\n",
    "    f\"{parameter_names[8]}: Slope {results[8].params['slope'].value * model_j_scale:.04} nJ/B, Intercept {results[8].params['intercept'].value * model_j_scale:.04} nJ\\n\" +\n",
    "    f\"{parameter_names[9]}: Slope {results[9].params['slope'].value * model_t_scale:.04} $\\mu$s/B, Intercept {results[9].params['intercept'].value * model_t_scale:.04} $\\mu$s\\n\")\n",
    "fig2.tight_layout()\n",
    "fig2.savefig(f\"Analysis {experiment_name}\")\n",
    "fig2.show()"
   ]
  },
  {
   "cell_type": "code",
   "execution_count": 41,
   "metadata": {},
   "outputs": [
    {
     "name": "stdout",
     "output_type": "stream",
     "text": [
      "Encrypt Energy: Slope 10.445482046553758337 nJ/B, Intercept 355.89601143204419031 nJ\n",
      "Flash Write Energy: Slope 116.92978838793817431 nJ/B, Intercept 12408.878903546472429 nJ\n",
      "Flash Read Energy: Slope 3.2971426877064402561 nJ/B, Intercept -130.49524219344021958 nJ\n",
      "Decrypt Energy: Slope 10.331846857126599559 nJ/B, Intercept 660.82965050306972898 nJ\n",
      "Encrypt Time: Slope 8.0891743293535469661 $\\mu$s/B, Intercept 182.84343957798944302 $\\mu$s\n",
      "Flash Write Time: Slope 21.795398897259882887 $\\mu$s/B, Intercept 2742.5103394111988564 $\\mu$s\n",
      "Flash Read Time: Slope 2.1247504514704900203 $\\mu$s/B, Intercept 28.342629188534363749 $\\mu$s\n",
      "Decrypt Time: Slope 7.9832239670443829738 $\\mu$s/B, Intercept 401.86904993710493272 $\\mu$s\n",
      "Total Energy: Slope 141.00425997932492805 nJ/B, Intercept 13295.109329833687298 nJ\n",
      "Total Time: Slope 39.992547663404884872 $\\mu$s/B, Intercept 3355.5655430253032137 $\\mu$s\n",
      "\n"
     ]
    }
   ],
   "source": [
    "print(\n",
    "    f\"{parameter_names[0]}: Slope {results[0].params['slope'].value * model_j_scale:.020} nJ/B, Intercept {results[0].params['intercept'].value * model_j_scale:.020} nJ\\n\" +\n",
    "    f\"{parameter_names[1]}: Slope {results[1].params['slope'].value * model_j_scale:.020} nJ/B, Intercept {results[1].params['intercept'].value * model_j_scale:.020} nJ\\n\" +\n",
    "    f\"{parameter_names[2]}: Slope {results[2].params['slope'].value * model_j_scale:.020} nJ/B, Intercept {results[2].params['intercept'].value * model_j_scale:.020} nJ\\n\" +\n",
    "    f\"{parameter_names[3]}: Slope {results[3].params['slope'].value * model_j_scale:.020} nJ/B, Intercept {results[3].params['intercept'].value * model_j_scale:.020} nJ\\n\" +\n",
    "    f\"{parameter_names[4]}: Slope {results[4].params['slope'].value * model_t_scale:.020} $\\mu$s/B, Intercept {results[4].params['intercept'].value * model_t_scale:.020} $\\mu$s\\n\" +\n",
    "    f\"{parameter_names[5]}: Slope {results[5].params['slope'].value * model_t_scale:.020} $\\mu$s/B, Intercept {results[5].params['intercept'].value * model_t_scale:.020} $\\mu$s\\n\" +\n",
    "    f\"{parameter_names[6]}: Slope {results[6].params['slope'].value * model_t_scale:.020} $\\mu$s/B, Intercept {results[6].params['intercept'].value * model_t_scale:.020} $\\mu$s\\n\" +\n",
    "    f\"{parameter_names[7]}: Slope {results[7].params['slope'].value * model_t_scale:.020} $\\mu$s/B, Intercept {results[7].params['intercept'].value * model_t_scale:.020} $\\mu$s\\n\" +\n",
    "    f\"{parameter_names[8]}: Slope {results[8].params['slope'].value * model_j_scale:.020} nJ/B, Intercept {results[8].params['intercept'].value * model_j_scale:.020} nJ\\n\" +\n",
    "    f\"{parameter_names[9]}: Slope {results[9].params['slope'].value * model_t_scale:.020} $\\mu$s/B, Intercept {results[9].params['intercept'].value * model_t_scale:.020} $\\mu$s\\n\"\n",
    ")"
   ]
  },
  {
   "cell_type": "code",
   "execution_count": 42,
   "metadata": {},
   "outputs": [],
   "source": [
    "# Save Charge amount list into pickle file\n",
    "import pickle\n",
    "pickle.dump(aes_encrypt_energy, open(\"aes_flash_encrypt_energy_mJ.p\", \"wb\"))\n",
    "pickle.dump(aes_decrypt_energy, open(\"aes_flash_decrypt_energy_mJ.p\", \"wb\"))\n",
    "pickle.dump(aes_flash_write_energy, open(\"aes_flash_write_energy_mJ.p\", \"wb\"))\n",
    "pickle.dump(aes_flash_read_energy, open(\"aes_flash_read_energy_mJ.p\", \"wb\"))\n",
    "pickle.dump(aes_encrypt_time_s, open(\"aes_flash_encrypt_time_ms.p\", \"wb\"))\n",
    "pickle.dump(aes_decrypt_time_s, open(\"aes_flash_decrypt_time_ms.p\", \"wb\"))\n",
    "pickle.dump(aes_flash_write_time_s, open(\"aes_flash_write_time_ms.p\", \"wb\"))\n",
    "pickle.dump(aes_flash_read_time_s, open(\"aes_flash_read_time_ms.p\", \"wb\"))"
   ]
  },
  {
   "cell_type": "code",
   "execution_count": 43,
   "metadata": {},
   "outputs": [
    {
     "name": "stdout",
     "output_type": "stream",
     "text": [
      "375 6000\n",
      "375 6000\n",
      "375 6000\n",
      "375 6000\n",
      "375 6000\n",
      "375 6000\n",
      "375 6000\n",
      "375 6000\n"
     ]
    }
   ],
   "source": [
    "aes = [aes_encrypt_energy, aes_flash_write_energy, aes_flash_read_energy, aes_decrypt_energy, aes_encrypt_time_s, aes_flash_write_time_s, aes_flash_read_time_s, aes_decrypt_time_s]\n",
    "for i in aes:\n",
    "    print(len(i), len(i)*16)"
   ]
  },
  {
   "cell_type": "markdown",
   "metadata": {},
   "source": [
    "## Write config file"
   ]
  },
  {
   "cell_type": "code",
   "execution_count": 44,
   "metadata": {},
   "outputs": [],
   "source": [
    "import json\n",
    "\n",
    "config = {}\n",
    "config[\"name\"] = \"AES-128 Flash\"\n",
    "config[\"project_paths\"] = [project_path]\n",
    "config[\"config_dict\"] = config_dict\n",
    "config[\"config_dict_plot\"] = config_dict_plot\n",
    "config[\"analysis\"] = {\"pins\":{2: [\"AES-128 Encrypt\", \"AES-128 Decrypt\"], 3: [\"AES-128 Flash Write\", \"AES-128 Flash Read\"]}, \n",
    "                      \"result_types\": [\"Charge\", \"Time\"],\n",
    "                      \"section_types\": {\"init\": [], \n",
    "                                        \"store\": [\"AES-128 Encrypt\", \"AES-128 Flash Write\"],\n",
    "                                        \"load\": [\"AES-128 Flash Read\", \"AES-128 Decrypt\"],\n",
    "                                        \"exit\": []},\n",
    "                      \"labels\": {\n",
    "                          \"Charge\": {\"x\":\"Data Size\", \"x_unit\": \"byte\", \"y\": \"Charge\", \"y_unit\": \"C\"},\n",
    "                          \"Time\": {\"x\":\"Data Size\", \"x_unit\": \"byte\", \"y\": \"Time\", \"y_unit\": \"s\"},\n",
    "                      },\n",
    "                      \"x_step\": MBEDTLS_AES_BLOCK_SIZE}\n",
    "\n",
    "with open(\"looped_experiment.json\", 'w') as config_file:  \n",
    "    json.dump(config, config_file, indent=4)"
   ]
  },
  {
   "cell_type": "markdown",
   "metadata": {},
   "source": [
    "# Write model data"
   ]
  },
  {
   "cell_type": "code",
   "execution_count": 45,
   "metadata": {},
   "outputs": [],
   "source": [
    "dump_pickle = True\n",
    "fit_lm = True\n",
    "verbose = 2\n",
    "show_lm_plot = 2\n",
    "# drop = 1"
   ]
  },
  {
   "cell_type": "code",
   "execution_count": 46,
   "metadata": {},
   "outputs": [],
   "source": [
    "# Parse data\n",
    "analysis_config = config.get(\"analysis\")\n",
    "result_types = analysis_config.get(\"result_types\")\n",
    "x_step = analysis_config.get(\"x_step\")\n",
    "parsed_data = {}\n",
    "for pin, parameter_names in analysis_config.get(\"pins\").items():\n",
    "    data2 = power_and_time_per_pulse(\n",
    "        data, int(pin), stop_function=stop_function)\n",
    "    num_names = len(parameter_names)\n",
    "    for i, parameter_name in enumerate(parameter_names):\n",
    "        end_index = -drop * num_names or None\n",
    "        parsed_data[parameter_name] = {\n",
    "            result_types[0]: data2[0][i:end_index:num_names],\n",
    "            result_types[1]: data2[1][i:end_index:num_names],\n",
    "            \"x_step\": x_step}\n",
    "if dump_pickle:\n",
    "    pickle.dump(parsed_data, open(\n",
    "        path.join(path.curdir,\n",
    "                  f\"{config_dict.get('file_name_base')}_looped.p\"), \"wb\"))"
   ]
  },
  {
   "cell_type": "code",
   "execution_count": 47,
   "metadata": {},
   "outputs": [
    {
     "name": "stdout",
     "output_type": "stream",
     "text": [
      "Fitting model to AES-128 Encrypt with 375 samples, from 16 to 6000 bytes in steps of 16.\n",
      "[[Model]]\n",
      "    Model(line)\n",
      "[[Fit Statistics]]\n",
      "    # fitting method   = leastsq\n",
      "    # function evals   = 10\n",
      "    # data points      = 375\n",
      "    # variables        = 2\n",
      "    chi-square         = 3.0302e-13\n",
      "    reduced chi-square = 8.1240e-16\n",
      "    Akaike info crit   = -13027.9577\n",
      "    Bayesian info crit = -13020.1039\n",
      "[[Variables]]\n",
      "    intercept:  1.0752e-07 +/- 2.9496e-09 (2.74%) (init = 0)\n",
      "    slope:      3.1557e-09 +/- 8.4979e-13 (0.03%) (init = 1)\n",
      "[[Correlations]] (unreported correlations are < 0.100)\n",
      "    C(intercept, slope) = -0.867\n",
      "[[Model]]\n",
      "    Model(line)\n",
      "[[Fit Statistics]]\n",
      "    # fitting method   = leastsq\n",
      "    # function evals   = 7\n",
      "    # data points      = 375\n",
      "    # variables        = 2\n",
      "    chi-square         = 1.6789e-06\n",
      "    reduced chi-square = 4.5009e-09\n",
      "    Akaike info crit   = -7205.12275\n",
      "    Bayesian info crit = -7197.26889\n",
      "[[Variables]]\n",
      "    intercept:  1.8284e-04 +/- 6.9428e-06 (3.80%) (init = 0)\n",
      "    slope:      8.0892e-06 +/- 2.0002e-09 (0.02%) (init = 1)\n",
      "[[Correlations]] (unreported correlations are < 0.100)\n",
      "    C(intercept, slope) = -0.867\n",
      "Fitting model to AES-128 Decrypt with 375 samples, from 16 to 6000 bytes in steps of 16.\n",
      "[[Model]]\n",
      "    Model(line)\n",
      "[[Fit Statistics]]\n",
      "    # fitting method   = leastsq\n",
      "    # function evals   = 9\n",
      "    # data points      = 375\n",
      "    # variables        = 2\n",
      "    chi-square         = 2.4707e-10\n",
      "    reduced chi-square = 6.6240e-13\n",
      "    Akaike info crit   = -10514.0959\n",
      "    Bayesian info crit = -10506.2421\n",
      "[[Variables]]\n",
      "    intercept:  1.9965e-07 +/- 8.4225e-08 (42.19%) (init = 0)\n",
      "    slope:      3.1214e-09 +/- 2.4265e-11 (0.78%) (init = 1)\n",
      "[[Correlations]] (unreported correlations are < 0.100)\n",
      "    C(intercept, slope) = -0.867\n",
      "[[Model]]\n",
      "    Model(line)\n",
      "[[Fit Statistics]]\n",
      "    # fitting method   = leastsq\n",
      "    # function evals   = 7\n",
      "    # data points      = 375\n",
      "    # variables        = 2\n",
      "    chi-square         = 0.00161766\n",
      "    reduced chi-square = 4.3369e-06\n",
      "    Akaike info crit   = -4628.63868\n",
      "    Bayesian info crit = -4620.78482\n",
      "[[Variables]]\n",
      "    intercept:  4.0187e-04 +/- 2.1551e-04 (53.63%) (init = 0)\n",
      "    slope:      7.9832e-06 +/- 6.2089e-08 (0.78%) (init = 1)\n",
      "[[Correlations]] (unreported correlations are < 0.100)\n",
      "    C(intercept, slope) = -0.867\n",
      "Fitting model to AES-128 Flash Write with 375 samples, from 16 to 6000 bytes in steps of 16.\n",
      "[[Model]]\n",
      "    Model(line)\n",
      "[[Fit Statistics]]\n",
      "    # fitting method   = leastsq\n",
      "    # function evals   = 9\n",
      "    # data points      = 375\n",
      "    # variables        = 2\n",
      "    chi-square         = 2.4935e-09\n",
      "    reduced chi-square = 6.6849e-12\n",
      "    Akaike info crit   = -9647.19187\n",
      "    Bayesian info crit = -9639.33802\n",
      "[[Variables]]\n",
      "    intercept:  3.7489e-06 +/- 2.6757e-07 (7.14%) (init = 0)\n",
      "    slope:      3.5326e-08 +/- 7.7086e-11 (0.22%) (init = 1)\n",
      "[[Correlations]] (unreported correlations are < 0.100)\n",
      "    C(intercept, slope) = -0.867\n",
      "[[Model]]\n",
      "    Model(line)\n",
      "[[Fit Statistics]]\n",
      "    # fitting method   = leastsq\n",
      "    # function evals   = 7\n",
      "    # data points      = 375\n",
      "    # variables        = 2\n",
      "    chi-square         = 5.6452e-04\n",
      "    reduced chi-square = 1.5135e-06\n",
      "    Akaike info crit   = -5023.41986\n",
      "    Bayesian info crit = -5015.56601\n",
      "[[Variables]]\n",
      "    intercept:  0.00274251 +/- 1.2731e-04 (4.64%) (init = 0)\n",
      "    slope:      2.1795e-05 +/- 3.6679e-08 (0.17%) (init = 1)\n",
      "[[Correlations]] (unreported correlations are < 0.100)\n",
      "    C(intercept, slope) = -0.867\n",
      "Fitting model to AES-128 Flash Read with 375 samples, from 16 to 6000 bytes in steps of 16.\n",
      "[[Model]]\n",
      "    Model(line)\n",
      "[[Fit Statistics]]\n",
      "    # fitting method   = leastsq\n",
      "    # function evals   = 10\n",
      "    # data points      = 375\n",
      "    # variables        = 2\n",
      "    chi-square         = 1.1144e-13\n",
      "    reduced chi-square = 2.9876e-16\n",
      "    Akaike info crit   = -13403.0929\n",
      "    Bayesian info crit = -13395.2390\n",
      "[[Variables]]\n",
      "    intercept: -3.9425e-08 +/- 1.7887e-09 (4.54%) (init = 0)\n",
      "    slope:      9.9612e-10 +/- 5.1533e-13 (0.05%) (init = 1)\n",
      "[[Correlations]] (unreported correlations are < 0.100)\n",
      "    C(intercept, slope) = -0.867\n",
      "[[Model]]\n",
      "    Model(line)\n",
      "[[Fit Statistics]]\n",
      "    # fitting method   = leastsq\n",
      "    # function evals   = 7\n",
      "    # data points      = 375\n",
      "    # variables        = 2\n",
      "    chi-square         = 2.7694e-07\n",
      "    reduced chi-square = 7.4247e-10\n",
      "    Akaike info crit   = -7880.89395\n",
      "    Bayesian info crit = -7873.04010\n",
      "[[Variables]]\n",
      "    intercept:  2.8343e-05 +/- 2.8198e-06 (9.95%) (init = 0)\n",
      "    slope:      2.1248e-06 +/- 8.1239e-10 (0.04%) (init = 1)\n",
      "[[Correlations]] (unreported correlations are < 0.100)\n",
      "    C(intercept, slope) = -0.867\n"
     ]
    }
   ],
   "source": [
    "# Fit lm\n",
    "if fit_lm:\n",
    "    model = None\n",
    "    if model is None:\n",
    "        def line(x, intercept, slope):\n",
    "            \"\"\"a line\"\"\"\n",
    "            return [intercept + slope*i for i in x]\n",
    "\n",
    "        model = Model(line)\n",
    "        params = model.make_params(intercept=0, slope=1)\n",
    "#         params['intercept'].set(min=0)\n",
    "    else:\n",
    "        params = model.params\n",
    "\n",
    "    model_results = {}\n",
    "    labels = analysis_config.get(\"labels\")\n",
    "    for parameter_name in parsed_data.keys():\n",
    "        length = len(parsed_data[parameter_name][result_types[0]])\n",
    "        x_step = parsed_data[parameter_name][\"x_step\"]\n",
    "        num_bytes = range(x_step, (length+1)*x_step, x_step)\n",
    "        if verbose:\n",
    "            print(\n",
    "                f\"Fitting model to {parameter_name} with {length} \" +\n",
    "                f\"samples, from {min(num_bytes)} to {max(num_bytes)} \"\n",
    "                f\"bytes in steps of {x_step}.\")\n",
    "        model_result = {}\n",
    "        for result_type in result_types:\n",
    "            model_result[result_type] = model.fit(\n",
    "                parsed_data[parameter_name][result_type], params,\n",
    "                x=num_bytes)\n",
    "            if verbose >= 2:\n",
    "                print(model_result[result_type].fit_report())\n",
    "            # Plot multiple view\n",
    "            if show_lm_plot >= 2:\n",
    "                fig, grid = model_result[result_type].plot(\n",
    "                    xlabel=f\"{labels[result_type]['x']} \" +\n",
    "                           f\"[{labels[result_type]['x_unit']}]\",\n",
    "                    ylabel=f\"{labels[result_type]['y']} \" +\n",
    "                           f\"[{labels[result_type]['y_unit']}]\")\n",
    "                fig.canvas.set_window_title(\n",
    "                    f\"Residuals of {parameter_name}\")\n",
    "                fig.tight_layout()\n",
    "                fig.show()\n",
    "            model_results[parameter_name] = model_result\n",
    "\n",
    "    # Plot single view\n",
    "    if show_lm_plot:\n",
    "        import matplotlib.pyplot as plt\n",
    "        fig = plt.figure(figsize=(9, 6))\n",
    "        fig.canvas.set_window_title(f\"Analysis {config.get('name')}\")\n",
    "        colors = dict(zip(result_types, ['r', 'b']))\n",
    "        line_styles = (\n",
    "            line_style for line_style in ('-', '--', '-.', ':') * 2)\n",
    "        # fig.suptitle(f\"Energy analysis of {config.get('name')}\")\n",
    "        ax = {}\n",
    "        ax[result_types[0]] = fig.add_subplot(1, 1, 1)\n",
    "        ax[result_types[1]] = ax[result_types[0]].twinx()\n",
    "        ax[result_types[0]].set_xlabel(\n",
    "            f\"{labels[result_types[0]]['x']} \" +\n",
    "            f\"[{labels[result_types[0]]['x_unit']}]\")\n",
    "        for result_type in result_types:\n",
    "            ax[result_type].set_ylabel(\n",
    "                f\"{labels[result_type]['y']} \" +\n",
    "                f\"[{labels[result_type]['y_unit']}]\",\n",
    "                color=colors[result_type])\n",
    "            ax[result_type].tick_params('y', colors=colors[result_type])\n",
    "\n",
    "        lines = []\n",
    "        title_str = \"\"\n",
    "        for parameter_name in parsed_data.keys():\n",
    "            length = len(parsed_data[parameter_name][result_types[0]])\n",
    "            x_step = parsed_data[parameter_name][\"x_step\"]\n",
    "            num_bytes = range(x_step, (length+1)*x_step, x_step)\n",
    "            model_result = {}\n",
    "            line_style = next(line_styles)\n",
    "            for result_type in result_types:\n",
    "                label = f\"{parameter_name} {labels[result_type]['y']}\"\n",
    "                lines += ax[result_type].plot(\n",
    "                    num_bytes, parsed_data[parameter_name][result_type],\n",
    "                    colors[result_type] + line_style, label=label)\n",
    "                title_str += f\"{label} \"\n",
    "                for param in params.keys():\n",
    "                    title_str += \"\".join(\n",
    "                        f\"{params[param].name.capitalize()}: \")\n",
    "                    title_str += \"\".join(\n",
    "                        f\"{model_results[parameter_name][result_type].params[param].value: .03} \")\n",
    "                    title_str += \"\".join(\n",
    "                        f\"{labels[result_type]['y_unit']}, \")\n",
    "                title_str = title_str[:-2] + \\\n",
    "                    f\" per {labels[result_type]['x_unit']}\\n\"\n",
    "        ax[result_types[0]].legend(handles=lines)\n",
    "        ax[result_types[0]].set_title(title_str[:-1])\n",
    "        # fig.tight_layout()\n",
    "        fig.tight_layout(rect=(0.05, 0.05, 1, 1))\n",
    "        fig.set_size_inches(8, 6, forward=True)\n",
    "        fig.show()\n",
    "\n",
    "    # Save model results to file\n",
    "    if dump_pickle:\n",
    "        model_results_dump = {}\n",
    "        for parameter_name in model_results.keys():\n",
    "            model_results_dump[parameter_name] = {}\n",
    "            for result_type in model_results[parameter_name].keys():\n",
    "                model_results_dump[parameter_name][result_type] = \\\n",
    "                    model_results[parameter_name][result_type].values\n",
    "\n",
    "        pickle.dump(model_results_dump, open(path.join(\n",
    "            path.curdir,\n",
    "            f\"{config_dict.get('file_name_base')}_model.p\"), \"wb\"))"
   ]
  },
  {
   "cell_type": "markdown",
   "metadata": {},
   "source": [
    "# Total from measurement"
   ]
  },
  {
   "cell_type": "code",
   "execution_count": 48,
   "metadata": {},
   "outputs": [
    {
     "name": "stdout",
     "output_type": "stream",
     "text": [
      "164.03847125616667 46369.93079039993\n"
     ]
    }
   ],
   "source": [
    "n_samples = 5995\n",
    "\n",
    "total_energy = sum(aes_encrypt_energy[:n_samples]) + sum(aes_flash_write_energy[:n_samples]) + sum(aes_flash_read_energy[:n_samples]) + sum(aes_decrypt_energy[:n_samples])\n",
    "total_time = sum(aes_encrypt_time_s[:n_samples]) + sum(aes_flash_write_time_s[:n_samples]) + sum(aes_flash_read_time_s[:n_samples]) + sum(aes_decrypt_time_s[:n_samples])\n",
    "print(total_energy, total_time)"
   ]
  },
  {
   "cell_type": "code",
   "execution_count": 49,
   "metadata": {},
   "outputs": [
    {
     "data": {
      "text/plain": [
       "[5.015837866666664,\n",
       " 5.081835733333339,\n",
       " 5.807812266666643,\n",
       " 6.269797333333328,\n",
       " 6.335897599999973,\n",
       " 6.930448000000033,\n",
       " 7.062456533333345,\n",
       " 7.457823466666652,\n",
       " 8.117671999999992,\n",
       " 8.24964319999999,\n",
       " 8.77750346666667,\n",
       " 9.239477333333301,\n",
       " 9.570360000000111,\n",
       " 9.768473599999995,\n",
       " 10.164202666666622,\n",
       " 10.559829333333383,\n",
       " 15.31192053333341,\n",
       " 15.906642666666581,\n",
       " 16.43415040000007,\n",
       " 16.631462400000018,\n",
       " 16.83060000000003,\n",
       " 17.358981866666397,\n",
       " 17.687528000000064,\n",
       " 18.215675200000224,\n",
       " 18.67905653333346,\n",
       " 18.678556266666703,\n",
       " 19.40290240000009,\n",
       " 19.733361600000055,\n",
       " 20.195510400000003,\n",
       " 20.395483199999838,\n",
       " 20.922873600000113,\n",
       " 21.250969599999834,\n",
       " 26.00518079999992,\n",
       " 25.939119999999654,\n",
       " 26.3331487999996,\n",
       " 26.86351946666643,\n",
       " 27.126318399999903,\n",
       " 27.520887999999964,\n",
       " 28.11486399999974,\n",
       " 28.249642666666517,\n",
       " 28.645463466666406,\n",
       " 29.3693002666664,\n",
       " 29.43814080000018,\n",
       " 30.095448533333574,\n",
       " 30.491689066666886,\n",
       " 30.822899199999917,\n",
       " 30.952499200000094,\n",
       " 31.414712533333276,\n",
       " 36.037232000000195,\n",
       " 36.30110079999982,\n",
       " 36.62972426666644,\n",
       " 37.42398666666702,\n",
       " 37.882962133333194,\n",
       " 38.21585279999962,\n",
       " 38.47706720000011,\n",
       " 39.004249599999596,\n",
       " 38.87613439999971,\n",
       " 39.40208000000034,\n",
       " 39.666546666666136,\n",
       " 40.52479039999968,\n",
       " 40.58919039999998,\n",
       " 40.85489920000063,\n",
       " 41.445826133333696,\n",
       " 41.77729653333318,\n",
       " 46.862055466666774,\n",
       " 47.05766080000017,\n",
       " 47.58740586666655,\n",
       " 47.8497983999997,\n",
       " 48.247484800000514,\n",
       " 48.837802666666704,\n",
       " 48.77450613333333,\n",
       " 49.43356533333353,\n",
       " 49.56738933333371,\n",
       " 50.09357493333289,\n",
       " 50.75601440000055,\n",
       " 51.08193599999921,\n",
       " 51.4128725333327,\n",
       " 51.87789760000027,\n",
       " 52.07284799999945,\n",
       " 52.602687466666524,\n",
       " 57.156910400000704,\n",
       " 57.353102400001355,\n",
       " 57.880447466668095,\n",
       " 58.213465599999736,\n",
       " 58.54210346666555,\n",
       " 59.00413013333328,\n",
       " 59.40249653333307,\n",
       " 59.66122453333522,\n",
       " 60.192105600000545,\n",
       " 60.45558186666611,\n",
       " 60.92063093333255,\n",
       " 61.37788000000022,\n",
       " 61.44713973333271,\n",
       " 61.97172746666535,\n",
       " 62.17370986666726,\n",
       " 62.70010666666703,\n",
       " 67.05551786666587,\n",
       " 67.7843957333346,\n",
       " 68.17534506666689,\n",
       " 68.24670933333188,\n",
       " 68.83726506666576,\n",
       " 69.23440213333443,\n",
       " 69.82973226666722,\n",
       " 69.82574293333332,\n",
       " 70.49086186666554,\n",
       " 70.88240746666673,\n",
       " 71.14717813333459,\n",
       " 71.47998186666626,\n",
       " 71.73968106666794,\n",
       " 72.20677013333355,\n",
       " 72.9964965333325,\n",
       " 73.25940106666539,\n",
       " 77.74935520000082,\n",
       " 77.87798719999905,\n",
       " 78.60632640000098,\n",
       " 78.80553866666595,\n",
       " 79.3325919999983,\n",
       " 79.72542293333262,\n",
       " 80.19205706666634,\n",
       " 80.32139840000062,\n",
       " 80.71812693333325,\n",
       " 81.31193599999965,\n",
       " 81.24431840000045,\n",
       " 82.03793333333297,\n",
       " 82.43577653333212,\n",
       " 82.56792639999588,\n",
       " 82.95864800000352,\n",
       " 83.42710506666329,\n",
       " 87.91356159999886,\n",
       " 88.30879093333444,\n",
       " 89.16217279999827,\n",
       " 89.43170773333442,\n",
       " 89.6949520000021,\n",
       " 89.95752213333219,\n",
       " 90.15227626666622,\n",
       " 90.61939199999891,\n",
       " 90.9494197333327,\n",
       " 91.41164266666557,\n",
       " 91.60488853333071,\n",
       " 92.07121066666701,\n",
       " 92.53324693333376,\n",
       " 93.19287573333312,\n",
       " 93.32039359999911,\n",
       " 93.92082879999997,\n",
       " 98.53935039999939,\n",
       " 98.67225226666676,\n",
       " 99.26149493333547,\n",
       " 99.39788266666838,\n",
       " 99.79293920000032,\n",
       " 99.92390133333551,\n",
       " 100.71621546666698,\n",
       " 101.31003893333457,\n",
       " 100.98027466666615,\n",
       " 101.96704746666718,\n",
       " 102.30094186666605,\n",
       " 102.4327973333321,\n",
       " 102.82846079999963,\n",
       " 103.61880159999792,\n",
       " 103.95093759999874,\n",
       " 104.21499999999995,\n",
       " 108.766258666666,\n",
       " 108.90167786666716,\n",
       " 109.82551893333081,\n",
       " 109.89078346666403,\n",
       " 110.613674133333,\n",
       " 110.8795066666648,\n",
       " 111.07787679999959,\n",
       " 111.60074080000193,\n",
       " 111.9362874666674,\n",
       " 112.06973973333234,\n",
       " 112.66186186666616,\n",
       " 113.05818240000143,\n",
       " 113.58665706666216,\n",
       " 113.78552480000259,\n",
       " 114.24402986666848,\n",
       " 114.57604639999808,\n",
       " 118.99806986666484,\n",
       " 119.39081813333097,\n",
       " 120.1208069333326,\n",
       " 120.31740640000166,\n",
       " 120.77687359999878,\n",
       " 121.11274240000114,\n",
       " 121.57284319999917,\n",
       " 122.03102079999972,\n",
       " 122.23138026666724,\n",
       " 122.56456319999742,\n",
       " 122.89064960000218,\n",
       " 123.48782026666782,\n",
       " 123.68459680000043,\n",
       " 124.1459194666632,\n",
       " 124.4112032000011,\n",
       " 125.00485333332989,\n",
       " 129.2941029333292,\n",
       " 129.88920426666795,\n",
       " 130.22019413333652,\n",
       " 130.6792719999983,\n",
       " 131.14350880000103,\n",
       " 131.40829493333683,\n",
       " 131.7998015999997,\n",
       " 132.3316117333313,\n",
       " 132.5292357333332,\n",
       " 133.1176672000005,\n",
       " 133.38731786666713,\n",
       " 133.91546133333065,\n",
       " 133.97649973333614,\n",
       " 134.37614239999718,\n",
       " 134.96969920000268,\n",
       " 135.4970815999934,\n",
       " 140.05140106666758,\n",
       " 139.9861637333366,\n",
       " 140.31452693333435,\n",
       " 140.84548319999612,\n",
       " 141.2381328000052,\n",
       " 141.63867093333238,\n",
       " 142.29787680000072,\n",
       " 142.16071199999547,\n",
       " 142.6285701333363,\n",
       " 143.1527872000018,\n",
       " 143.61629653333097,\n",
       " 143.94689920000303,\n",
       " 144.27551466666344,\n",
       " 144.93690240000845,\n",
       " 145.13654720000346,\n",
       " 145.394963199994,\n",
       " 149.8222773333353,\n",
       " 149.81974879999882,\n",
       " 150.4141434666657,\n",
       " 150.2832122666682,\n",
       " 150.8072837333323,\n",
       " 151.6706122666669,\n",
       " 151.99713280000182,\n",
       " 152.0636400000015,\n",
       " 153.51687360000454,\n",
       " 153.51394506666693,\n",
       " 153.98151253333126,\n",
       " 154.30939146666844,\n",
       " 154.7027759999935,\n",
       " 155.1663237333294,\n",
       " 155.29661333333422,\n",
       " 155.76267306666836,\n",
       " 159.78653333333526,\n",
       " 159.85092693333414,\n",
       " 160.31472053333573,\n",
       " 160.90660000000057,\n",
       " 161.3075754666653,\n",
       " 161.89750559999894,\n",
       " 162.55793653333228,\n",
       " 162.69463253333427,\n",
       " 163.41388160000037,\n",
       " 164.07584533333264,\n",
       " 164.47071786666356,\n",
       " 164.73841973333236,\n",
       " 164.93357706666956,\n",
       " 165.06468106666716,\n",
       " 165.99134506666502,\n",
       " 166.3190341333305,\n",
       " 170.01705119999855,\n",
       " 170.4094869333339,\n",
       " 171.14046559999707,\n",
       " 171.4681258666637,\n",
       " 171.92866879999613,\n",
       " 172.4589664000007,\n",
       " 172.91633599999656,\n",
       " 172.98425653333283,\n",
       " 173.7124277333315,\n",
       " 174.11086506666607,\n",
       " 174.96598880000036,\n",
       " 174.77010026666662,\n",
       " 175.69138560000397,\n",
       " 175.622967999999,\n",
       " 175.89307520000474,\n",
       " 176.41573226666551,\n",
       " 179.91764586666292,\n",
       " 180.77197333333217,\n",
       " 181.17114239999665,\n",
       " 181.69622293333276,\n",
       " 182.16265013333555,\n",
       " 182.68767946666742,\n",
       " 183.28359200000222,\n",
       " 183.2159690666586,\n",
       " 183.54574933334078,\n",
       " 184.53823039999406,\n",
       " 184.26934346667423,\n",
       " 185.13206400000115,\n",
       " 185.91930133333534,\n",
       " 185.46157013333442,\n",
       " 186.1856336000045,\n",
       " 187.04306293333417,\n",
       " 190.6083509333314,\n",
       " 190.41022773333793,\n",
       " 191.3330186666684,\n",
       " 191.66495466665623,\n",
       " 192.4542575999979,\n",
       " 192.59064639999224,\n",
       " 192.719076799996,\n",
       " 193.3191973333308,\n",
       " 193.4435487999977,\n",
       " 193.84582133332628,\n",
       " 194.23641226667598,\n",
       " 194.90097173332543,\n",
       " 195.55661973333116,\n",
       " 195.62849119999015,\n",
       " 196.08391200000597,\n",
       " 196.08873760000023,\n",
       " 200.57125439999623,\n",
       " 200.97233279999926,\n",
       " 201.42918613333904,\n",
       " 201.5659119999995,\n",
       " 201.95795946666806,\n",
       " 202.29271679999528,\n",
       " 202.74917333333065,\n",
       " 203.67905706667244,\n",
       " 203.80610400000165,\n",
       " 204.07382666667218,\n",
       " 204.1379904000067,\n",
       " 205.32728533332545,\n",
       " 205.19498186668272,\n",
       " 205.65639839999506,\n",
       " 206.05239519999685,\n",
       " 206.77641333332986,\n",
       " 210.93548853333743,\n",
       " 210.7406346666636,\n",
       " 211.06375946666134,\n",
       " 211.79504480000588,\n",
       " 211.9223893333313,\n",
       " 212.98300959998784,\n",
       " 213.17736960000389,\n",
       " 213.1807621333266,\n",
       " 214.24020479999228,\n",
       " 214.43125173333755,\n",
       " 214.6342730666717,\n",
       " 214.96023839999623,\n",
       " 215.68963840000066,\n",
       " 215.9513354666558,\n",
       " 215.6230661333396,\n",
       " 216.5437626666673,\n",
       " 220.3083365333285,\n",
       " 220.70201119999666,\n",
       " 221.1661690666773,\n",
       " 221.1692074666587,\n",
       " 222.08730346666528,\n",
       " 222.22307039999833,\n",
       " 222.35454933333187,\n",
       " 223.54422720000144,\n",
       " 223.6721877333352,\n",
       " 224.468429333335,\n",
       " 224.8593344000014,\n",
       " 225.06177333333,\n",
       " 225.195360533327,\n",
       " 225.65129013332808,\n",
       " 226.0508992000112,\n",
       " 226.71043626667142,\n",
       " 230.73860373333588,\n",
       " 231.06255893333838,\n",
       " 230.93410826666627,\n",
       " 231.33205173333948,\n",
       " 231.85568160000258,\n",
       " 232.78480533333834,\n",
       " 232.78083413334372,\n",
       " 233.2445199999924,\n",
       " 234.2346831999933,\n",
       " 233.57190026666785,\n",
       " 234.63024213333483,\n",
       " 234.69799520000123,\n",
       " 235.62232160000462,\n",
       " 235.6173840000011,\n",
       " 236.4781295999947,\n",
       " 236.80961119999466,\n",
       " 240.04057759999853,\n",
       " 240.50621866666688,\n",
       " 240.89668533332542,\n",
       " 240.96727786665895,\n",
       " 241.69340800000327,\n",
       " 242.28384586666607,\n",
       " 201.82866133333022]"
      ]
     },
     "execution_count": 49,
     "metadata": {},
     "output_type": "execute_result"
    }
   ],
   "source": [
    "          [e + w + r + d for (e,w,r,d) in zip(aes_encrypt_energy, aes_flash_write_energy, aes_flash_read_energy, aes_decrypt_energy)],\n",
    "          [e + w + r + d for (e,w,r,d) in zip(aes_encrypt_time_s, aes_flash_write_time_s, aes_flash_read_time_s, aes_decrypt_time_s)]"
   ]
  },
  {
   "cell_type": "code",
   "execution_count": null,
   "metadata": {},
   "outputs": [],
   "source": []
  },
  {
   "cell_type": "code",
   "execution_count": null,
   "metadata": {},
   "outputs": [],
   "source": []
  },
  {
   "cell_type": "code",
   "execution_count": null,
   "metadata": {},
   "outputs": [],
   "source": []
  },
  {
   "cell_type": "code",
   "execution_count": null,
   "metadata": {},
   "outputs": [],
   "source": []
  },
  {
   "cell_type": "code",
   "execution_count": null,
   "metadata": {},
   "outputs": [],
   "source": []
  },
  {
   "cell_type": "code",
   "execution_count": null,
   "metadata": {},
   "outputs": [],
   "source": []
  },
  {
   "cell_type": "code",
   "execution_count": null,
   "metadata": {},
   "outputs": [],
   "source": []
  }
 ],
 "metadata": {
  "kernelspec": {
   "display_name": "Python 3",
   "language": "python",
   "name": "python3"
  },
  "language_info": {
   "codemirror_mode": {
    "name": "ipython",
    "version": 3
   },
   "file_extension": ".py",
   "mimetype": "text/x-python",
   "name": "python",
   "nbconvert_exporter": "python",
   "pygments_lexer": "ipython3",
   "version": "3.8.1"
  }
 },
 "nbformat": 4,
 "nbformat_minor": 4
}

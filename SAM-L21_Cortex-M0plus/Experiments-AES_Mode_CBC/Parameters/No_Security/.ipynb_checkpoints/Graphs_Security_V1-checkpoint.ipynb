{
 "cells": [
  {
   "cell_type": "code",
   "execution_count": 1,
   "metadata": {},
   "outputs": [],
   "source": [
    "# %matplotlib ipympl\n",
    "# %matplotlib inline\n",
    "%matplotlib wx"
   ]
  },
  {
   "cell_type": "code",
   "execution_count": 2,
   "metadata": {},
   "outputs": [],
   "source": [
    "import matplotlib.pyplot as plt\n",
    "import numpy as np"
   ]
  },
  {
   "cell_type": "markdown",
   "metadata": {},
   "source": [
    "## Load Pickles of checkpoint charges per byte"
   ]
  },
  {
   "cell_type": "code",
   "execution_count": 3,
   "metadata": {},
   "outputs": [],
   "source": [
    "from os import path, pardir, scandir\n",
    "import sys\n",
    "import pickle\n",
    "from math import ceil"
   ]
  },
  {
   "cell_type": "code",
   "execution_count": 4,
   "metadata": {},
   "outputs": [],
   "source": [
    "from pydgilib_extra import LOGGER_CSV"
   ]
  },
  {
   "cell_type": "code",
   "execution_count": 5,
   "metadata": {},
   "outputs": [],
   "source": [
    "sys.path.insert(0,'../..')"
   ]
  },
  {
   "cell_type": "code",
   "execution_count": 6,
   "metadata": {},
   "outputs": [],
   "source": [
    "measure_security = False\n",
    "show_lm_plot=2\n",
    "measure_workloads = True\n",
    "repetitions = 100"
   ]
  },
  {
   "cell_type": "code",
   "execution_count": 7,
   "metadata": {},
   "outputs": [],
   "source": [
    "from experiments.checkpoint_energy import CheckpointEnergy"
   ]
  },
  {
   "cell_type": "code",
   "execution_count": 8,
   "metadata": {},
   "outputs": [],
   "source": [
    "text_as_size = False\n",
    "\n",
    "security_method = 'No Security'\n",
    "\n",
    "#checkpoint_energy = CheckpointEnergy()\n",
    "# checkpoint_energy = CheckpointEnergy(security_projects=['AES_Flash', 'TrustZone_Flash', 'No_Security_Flash'])\n",
    "checkpoint_energy = CheckpointEnergy(workload_folder = \"../../Workloads\"\n",
    "                                     ,security_projects=['No-Security_O1_4Mhz',\n",
    "                                                        'No-Security_O1_12Mhz',\n",
    "                                                        'No-Security_O3_4Mhz',\n",
    "                                                        'No-Security_O3_12Mhz'], text_as_size=text_as_size)"
   ]
  },
  {
   "cell_type": "code",
   "execution_count": 9,
   "metadata": {},
   "outputs": [
    {
     "data": {
      "text/plain": [
       "['No-Security_O1_4Mhz',\n",
       " 'No-Security_O1_12Mhz',\n",
       " 'No-Security_O3_4Mhz',\n",
       " 'No-Security_O3_12Mhz']"
      ]
     },
     "execution_count": 9,
     "metadata": {},
     "output_type": "execute_result"
    }
   ],
   "source": [
    "checkpoint_energy.security_projects"
   ]
  },
  {
   "cell_type": "code",
   "execution_count": 10,
   "metadata": {},
   "outputs": [
    {
     "data": {
      "text/plain": [
       "['BitCounting', 'Dijkstra', 'FFT', 'Sorting']"
      ]
     },
     "execution_count": 10,
     "metadata": {},
     "output_type": "execute_result"
    }
   ],
   "source": [
    "checkpoint_energy.workload_projects"
   ]
  },
  {
   "cell_type": "markdown",
   "metadata": {},
   "source": [
    "### Smoothen?"
   ]
  },
  {
   "cell_type": "markdown",
   "metadata": {},
   "source": [
    "Get lookup function"
   ]
  },
  {
   "cell_type": "code",
   "execution_count": 11,
   "metadata": {},
   "outputs": [],
   "source": [
    "get_security_energy = checkpoint_energy.get_security_energy_function()"
   ]
  },
  {
   "cell_type": "code",
   "execution_count": 12,
   "metadata": {},
   "outputs": [
    {
     "name": "stdout",
     "output_type": "stream",
     "text": [
      "No-Security_O1_4Mhz {'No Security Flash Write': 7.83852588068152e-05, 'No Security Flash Read': 2.0069835765135478e-06}\n",
      "No-Security_O1_4Mhz {'No Security Flash Write': 7.404323271431247e-05, 'No Security Flash Read': 1.9974966075267753e-06}\n",
      "No-Security_O1_4Mhz {'No Security Flash Write': 3.4201679425044835, 'No Security Flash Read': 0.09958481777066054}\n",
      "No-Security_O1_12Mhz {'No Security Flash Write': 9.235259321160087e-05, 'No Security Flash Read': 1.7979811016691636e-06}\n",
      "No-Security_O1_12Mhz {'No Security Flash Write': 8.727605325690089e-05, 'No Security Flash Read': 1.7988133545383578e-06}\n",
      "No-Security_O1_12Mhz {'No Security Flash Write': 3.9779628152536315, 'No Security Flash Read': 0.08829428061043977}\n",
      "No-Security_O3_4Mhz {'No Security Flash Write': 7.706895844451065e-05, 'No Security Flash Read': 1.8923870373786442e-06}\n",
      "No-Security_O3_4Mhz {'No Security Flash Write': 7.272500303049978e-05, 'No Security Flash Read': 1.8803323629722353e-06}\n",
      "No-Security_O3_4Mhz {'No Security Flash Write': 3.4036161141871877, 'No Security Flash Read': 0.09444228602173291}\n",
      "No-Security_O3_12Mhz {'No Security Flash Write': 9.132894151174914e-05, 'No Security Flash Read': 1.795356064303139e-06}\n",
      "No-Security_O3_12Mhz {'No Security Flash Write': 8.73851829750682e-05, 'No Security Flash Read': 1.7983782117791598e-06}\n",
      "No-Security_O3_12Mhz {'No Security Flash Write': 3.987957261626391, 'No Security Flash Read': 0.08821416435364846}\n",
      "None {'None': 0}\n",
      "None {'None': 0}\n",
      "None {'None': 0}\n"
     ]
    }
   ],
   "source": [
    "for security_type in checkpoint_energy.security_projects + [\"None\"]:\n",
    "    print(security_type, get_security_energy(security_type,2048))\n",
    "    print(security_type, get_security_energy(security_type,2048, use_model=True))\n",
    "    print(security_type, get_security_energy(security_type,100000000))"
   ]
  },
  {
   "cell_type": "code",
   "execution_count": 13,
   "metadata": {},
   "outputs": [],
   "source": [
    "import numpy as np\n",
    "from math import sqrt, floor\n",
    "import matplotlib.pyplot as plt\n",
    "import matplotlib.animation as animation\n",
    "import matplotlib as mpl\n",
    "import matplotlib.patches as mpatches\n",
    "import matplotlib.ticker as tck\n"
   ]
  },
  {
   "cell_type": "code",
   "execution_count": 14,
   "metadata": {},
   "outputs": [],
   "source": [
    "c_scale = 1e3\n",
    "j_scale = 1e6\n",
    "t_scale = 1e3\n",
    "voltage = 3.31"
   ]
  },
  {
   "cell_type": "code",
   "execution_count": 15,
   "metadata": {},
   "outputs": [
    {
     "data": {
      "text/plain": [
       "['No-Security_O1_4Mhz',\n",
       " 'No-Security_O1_12Mhz',\n",
       " 'No-Security_O3_4Mhz',\n",
       " 'No-Security_O3_12Mhz']"
      ]
     },
     "execution_count": 15,
     "metadata": {},
     "output_type": "execute_result"
    }
   ],
   "source": [
    "checkpoint_energy.security_projects"
   ]
  },
  {
   "cell_type": "code",
   "execution_count": 16,
   "metadata": {},
   "outputs": [],
   "source": [
    "workload_colors = {'BitCounting':'tab:blue', 'Dijkstra':'tab:green', 'FFT':'tab:red', 'Sorting':'tab:orange'}\n",
    "# security_colors = {'AES_Flash':'#85e085', 'TrustZone_Flash':'#66b3ff', 'No_Security_Flash':'#b3b3cc'}\n",
    "security_colors = {'No-Security_O1_4Mhz':'#b3b3cc', \n",
    "                   'No-Security_O1_12Mhz':'#b3b3cc',\n",
    "                   'No-Security_O3_4Mhz':'#b3b3cc',\n",
    "                   'No-Security_O3_12Mhz':'#b3b3cc'}\n",
    "colors = {**workload_colors, **security_colors}"
   ]
  },
  {
   "cell_type": "code",
   "execution_count": 17,
   "metadata": {},
   "outputs": [],
   "source": [
    "security_projects=[ 'No-Security_O1_4Mhz',\n",
    "                                                        'No-Security_O1_12Mhz',\n",
    "                                                        'No-Security_O3_4Mhz',\n",
    "                                                        'No-Security_O3_12Mhz']"
   ]
  },
  {
   "cell_type": "code",
   "execution_count": 18,
   "metadata": {},
   "outputs": [],
   "source": [
    "hatches = ['-', '+', 'x', '\\\\', '*', 'o', 'O', '.']"
   ]
  },
  {
   "cell_type": "code",
   "execution_count": 19,
   "metadata": {},
   "outputs": [],
   "source": [
    "section_hatches = {'AES Encrypt': '\\\\\\\\', \n",
    "                   'AES Decrypt': '//', \n",
    "                   'AES-256 Encrypt': '\\\\\\\\', \n",
    "                   'AES-256 Decrypt': '//', \n",
    "                   'AES-128 Encrypt': '\\\\\\\\', \n",
    "                   'AES-128 Decrypt': '//', \n",
    "                   'Flash Write': 'xx', \n",
    "                   'Flash Read': '/////', \n",
    "                   'AES-256 Flash Write': 'xx', \n",
    "                   'AES-256 Flash Read': '/////', \n",
    "                   'AES-128 Flash Write': 'xx', \n",
    "                   'AES-128 Flash Read': '/////', \n",
    "                   'No Security Flash Write': 'xx', \n",
    "                   'No Security Flash Read': '/////', \n",
    "                   'TrustZone Flash Write': 'xx', \n",
    "                   'TrustZone Flash Read': '/////', \n",
    "                   'Bit Counting': 'ooo', \n",
    "                   'Create Graph': '0', \n",
    "                   'Dijkstra': 'ooo',\n",
    "                   'Allocate FFT': '0',\n",
    "                   'FFT': 'ooo',\n",
    "                   'Free FFT': '...',\n",
    "                   'Sorting': 'ooo'\n",
    "                  }\n",
    "\n",
    "\n",
    "circ1 = mpatches.Patch( facecolor='None', hatch=r'\\\\\\\\',label='AES CBC Mode Encrypt')\n",
    "circ2 = mpatches.Patch( facecolor='None', hatch='//',label='AES CBC Mode Decrypt')\n",
    "circ3 = mpatches.Patch( facecolor='None', hatch='xx',label='Flash Write')\n",
    "circ4 = mpatches.Patch( facecolor='None', hatch='/////',label='Flash Read')\n",
    "        "
   ]
  },
  {
   "cell_type": "code",
   "execution_count": 20,
   "metadata": {},
   "outputs": [],
   "source": [
    "edgecolor = 'black'\n",
    "linewidth = 0.8"
   ]
  },
  {
   "cell_type": "code",
   "execution_count": null,
   "metadata": {},
   "outputs": [],
   "source": []
  },
  {
   "cell_type": "code",
   "execution_count": 21,
   "metadata": {},
   "outputs": [],
   "source": [
    "xLabels = ['O1\\n4MHz','O1\\n12MHz','O3\\n4MHz',\n",
    "            'O3\\n12MHz']"
   ]
  },
  {
   "cell_type": "code",
   "execution_count": 22,
   "metadata": {},
   "outputs": [],
   "source": [
    "#security_projects=['AES-128_Flash', 'AES-256_Flash', 'TrustZone_Flash', 'No_Security_Flash']"
   ]
  },
  {
   "cell_type": "code",
   "execution_count": 23,
   "metadata": {},
   "outputs": [
    {
     "data": {
      "text/plain": [
       "490.2943617799731"
      ]
     },
     "execution_count": 23,
     "metadata": {},
     "output_type": "execute_result"
    }
   ],
   "source": [
    "totalEnergy = get_security_energy('No-Security_O1_4Mhz',4096, use_model=True)\n",
    "sum =0\n",
    "for evl in totalEnergy.values():\n",
    "    sum+=evl*j_scale*voltage\n",
    "sum    "
   ]
  },
  {
   "cell_type": "code",
   "execution_count": 24,
   "metadata": {},
   "outputs": [],
   "source": [
    "class WorkloadPlotter(object):\n",
    "    def __init__(self, checkpoint_energy=CheckpointEnergy(workload_folder = \"../../Workloads\",security_projects=security_projects), fig=None, ax=None, show=False):\n",
    "        self.checkpoint_energy = checkpoint_energy\n",
    "        self.fig = fig\n",
    "        self.ax = ax\n",
    "        if show:\n",
    "            self.make_fig()\n",
    "            self.update_fig()\n",
    "            \n",
    "        \n",
    "    def make_fig(self, *args, **kwargs):\n",
    "        self.fig, self.ax = plt.subplots(*args, **kwargs)\n",
    "    \n",
    "    def update_fig(self):\n",
    "        opacity = 0.8\n",
    "        self.ax.cla()\n",
    "        \n",
    "        self.bars = {}\n",
    "        for index, workload_project in enumerate(self.checkpoint_energy.workload_projects):\n",
    "            self.bars[workload_project] = {}\n",
    "            section_averages = self.checkpoint_energy.get_workload_average(workload_project)\n",
    "            section_stds = self.checkpoint_energy.get_workload_std(workload_project)\n",
    "            bottom = 0\n",
    "            for section in section_averages.keys():\n",
    "                self.bars[workload_project][section] = self.ax.bar(index, section_averages[section]*j_scale*voltage, color=colors[workload_project], \n",
    "                                                                   label=section, alpha=opacity, yerr=section_stds[section]*j_scale*voltage, bottom=bottom, \n",
    "                                                                   hatch=section_hatches[section], linewidth=linewidth, edgecolor=edgecolor)\n",
    "                bottom += section_averages[section]*j_scale*voltage\n",
    "        \n",
    "        self.ax.set_xticks(range(len(self.checkpoint_energy.workload_projects)))\n",
    "        self.ax.set_xticklabels(self.checkpoint_energy.workload_projects)\n",
    "        self.ax.legend()\n",
    "#         self.ax.set_yscale('log')\n",
    "        # self.ax.grid()\n",
    "\n",
    "        self.ax.set_xlabel('Workload')\n",
    "        self.ax.set_ylabel('Energy [$\\mu$J]')\n",
    "        self.ax.set_title('Energy per Section')\n",
    "        self.fig.canvas.set_window_title('Energy per Workload')\n",
    "        self.fig.show()"
   ]
  },
  {
   "cell_type": "code",
   "execution_count": 25,
   "metadata": {},
   "outputs": [],
   "source": [
    "workload_plotter = WorkloadPlotter(checkpoint_energy, show=True)"
   ]
  },
  {
   "cell_type": "code",
   "execution_count": 26,
   "metadata": {},
   "outputs": [],
   "source": [
    "# workload_plotter.make_fig()"
   ]
  },
  {
   "cell_type": "code",
   "execution_count": 27,
   "metadata": {},
   "outputs": [],
   "source": [
    "# workload_plotter.update_fig()"
   ]
  },
  {
   "cell_type": "code",
   "execution_count": 28,
   "metadata": {},
   "outputs": [
    {
     "data": {
      "text/plain": [
       "['No-Security_O1_4Mhz',\n",
       " 'No-Security_O1_12Mhz',\n",
       " 'No-Security_O3_4Mhz',\n",
       " 'No-Security_O3_12Mhz']"
      ]
     },
     "execution_count": 28,
     "metadata": {},
     "output_type": "execute_result"
    }
   ],
   "source": [
    "checkpoint_energy.security_projects\n",
    "#checkpoint_energy.get_security_energy('AES-256_Crypto-Accelerator', 4096)"
   ]
  },
  {
   "cell_type": "code",
   "execution_count": 29,
   "metadata": {},
   "outputs": [],
   "source": [
    "def set_size(w,h, ax=None):\n",
    "    \"\"\" w, h: width, height in inches \"\"\"\n",
    "    if not ax: ax=plt.gca()\n",
    "    l = ax.figure.subplotpars.left\n",
    "    r = ax.figure.subplotpars.right\n",
    "    t = ax.figure.subplotpars.top\n",
    "    b = ax.figure.subplotpars.bottom\n",
    "    figw = float(w)/(r-l)\n",
    "    figh = float(h)/(t-b)\n",
    "    ax.figure.set_size_inches(figw, figh)\n"
   ]
  },
  {
   "cell_type": "code",
   "execution_count": 30,
   "metadata": {},
   "outputs": [],
   "source": [
    "def set_xmargin(ax, left=0.0, right=0.3):\n",
    "    ax.set_xmargin(0)\n",
    "    ax.autoscale_view()\n",
    "    lim = ax.get_xlim()\n",
    "    delta = np.diff(lim)\n",
    "    left = lim[0] - delta*left\n",
    "    right = lim[1] + delta*right\n",
    "    ax.set_xlim(left,right)"
   ]
  },
  {
   "cell_type": "code",
   "execution_count": 31,
   "metadata": {},
   "outputs": [],
   "source": [
    "class SecurityPlotter(object):\n",
    "    def __init__(self, checkpoint_energy=CheckpointEnergy(workload_folder = \"../../Workloads\",security_projects=security_projects), num_bytes=4096, fig=None, ax=None, show=0, use_model=False):\n",
    "        self.checkpoint_energy = checkpoint_energy\n",
    "        self.fig = fig\n",
    "        self.ax = ax\n",
    "        self.num_bytes = num_bytes\n",
    "        self.use_model = use_model\n",
    "        if show:\n",
    "            self.make_fig(figsize=(12.8, 6.8),dpi= 300) #width, height in inches\n",
    "            self.update_fig()\n",
    "            if show >= 2:\n",
    "                self.animate()\n",
    "        \n",
    "    def make_fig(self, *args, **kwargs):\n",
    "        self.fig, self.ax = plt.subplots(*args, **kwargs)\n",
    "    \n",
    "    def update_fig(self, num_bytes=None):\n",
    "        if num_bytes is None:\n",
    "            num_bytes = self.num_bytes\n",
    "        opacity = 0.8\n",
    "        self.ax.cla()\n",
    "#         self.ax.grid(zorder=0)\n",
    "        self.ax.yaxis.grid(True, alpha=0.3)\n",
    "        \n",
    "        self.bars = {}\n",
    "        for index, security_project in enumerate(self.checkpoint_energy.security_projects):\n",
    "            self.bars[security_project] = {}\n",
    "            security_energy = self.checkpoint_energy.get_security_energy(security_project, num_bytes, use_model=self.use_model)\n",
    "            #print(f'{security_energy}')\n",
    "            bottom = 0\n",
    "            sectionEnergies = get_security_energy(security_project,num_bytes, use_model=self.use_model)\n",
    "            totalEnergy = 0\n",
    "            for sectionEnergy in sectionEnergies.values():\n",
    "                totalEnergy+=sectionEnergy * j_scale * voltage\n",
    "            #print(f'{totalEnergy}')\n",
    "            for section in security_energy.keys():\n",
    "                self.bars[security_project][section] = self.ax.bar(index, security_energy[section] * j_scale*voltage, color=colors[security_project], \n",
    "                                                                   label=section, width=0.4, alpha=opacity, bottom=bottom, zorder=3,\n",
    "                                                                   hatch=section_hatches[section], linewidth=linewidth, edgecolor=edgecolor)\n",
    "                sectionValue = security_energy[section] * j_scale*voltage\n",
    "                accumulatedValue = sectionValue + bottom\n",
    "                yValue = (totalEnergy - accumulatedValue/2)\n",
    "                bar = self.bars[security_project][section].get_children()\n",
    "                print(f'{index} : {sectionValue}')\n",
    "                self.ax.text(x=index + (bar[0].get_width()*1.01 ) , y= bottom + sectionValue/2 -15 , \n",
    "                             s=f\"{round(sectionValue)}\", ha = 'center', va = 'center', fontdict=dict(fontsize=11))\n",
    "                bottom += security_energy[section]*j_scale*voltage\n",
    "                \n",
    "            self.ax.text(x=index + 0.03 , y =bottom+25 , s=f\"{round(bottom, 2)}\" ,bbox=dict(boxstyle=\"square, pad=0.03\", fc=\"none\", ec=\"gray\", zorder=0.9, lw=0.5),\n",
    "                         va='baseline', horizontalalignment='center', fontdict=dict(fontsize=12))\n",
    "    \n",
    "            print(f'{security_project}: {bottom}')        \n",
    "        \n",
    "        self.ax.set_xticks(range(len(self.checkpoint_energy.security_projects)) )\n",
    "     ##   self.ax.set_xticklabels([s.replace('_',' ') for s in self.checkpoint_energy.security_projects])\n",
    "        self.ax.set_xticklabels(xLabels, fontdict=dict(fontsize=12))\n",
    "        self.ax.yaxis.set_tick_params(labelsize=12)\n",
    "\n",
    "     #   self.ax.set_xticklabels([\" \".join(s.split('_')[:-1]) for s in self.checkpoint_energy.security_projects])\n",
    "       \n",
    "      #  self.ax.set_yticks( fontdict=dict(fontsize=4))\n",
    "      #  self.ax.legend(handles = [circ1,circ2,circ3, circ4],loc=6, prop={'size': 4})\n",
    "       \n",
    "      #  self.ax.set_yscale('log')\n",
    "\n",
    "       # self.ax.set_xlabel('\\nDifferent AES-Modes execution on AES-Module')\n",
    "        self.ax.set_ylabel('Energy [$\\mu$J]', fontdict=dict(fontsize=12))\n",
    "        self.ax.set_title(f'(d) No Security' ,  fontdict=dict(fontsize=12))\n",
    "        self.fig.canvas.set_window_title('Energy_per_parameter_mbedTLS')\n",
    "        self.ax.margins( y= 0.12)\n",
    "        self.ax.yaxis.set_minor_locator(tck.AutoMinorLocator())\n",
    "\n",
    "       # self.ax.set(adjustable=\"datalim\")\n",
    "        #ratio = 0.5\n",
    "        #xleft, xright = self.ax.get_xlim()\n",
    "        #ybottom, ytop = self.ax.get_ylim()\n",
    "        # the abs method is used to make sure that all numbers are positive\n",
    "        # because x and y axis of an axes maybe inversed.\n",
    "        #self.ax.set_aspect(abs((xright-xleft)/(ybottom-ytop))*ratio)\n",
    "        \n",
    "        set_xmargin(self.ax, left=0.05, right=0.11)\n",
    "        #set_size(6.4,12.4, self.ax)\n",
    "        plt.gcf().set_size_inches(5, 7)\n",
    "\n",
    "        self.fig.tight_layout()\n",
    "        \n",
    "        self.fig.savefig('Energy_per_parameter_NoSecurity.pdf', bbox_inches='tight', dpi=1000)\n",
    "        self.fig.savefig('Energy_per_parameter_NoSecurity.svg', bbox_inches='tight', dpi=300)\n",
    "        self.fig.show()\n",
    "    def anim_func(self, num_bytes, *fargs):\n",
    "        self.update_fig(num_bytes)\n",
    "        return flatten(self.bars)\n",
    "    \n",
    "    def animate(self, frames=range(100, 6001, 100), save=False, *save_args, **save_kwargs):\n",
    "        self.animation = animation.FuncAnimation(self.fig, self.anim_func, blit=True, interval=0,frames=frames ,repeat=False)\n",
    "        if save:\n",
    "            self.animation.save('Charge_per_Security.mp4', *save_args, **save_kwargs)\n",
    "        \n",
    "        \n",
    "def flatten(d, ret=None):\n",
    "    if ret is None:\n",
    "        ret = []\n",
    "    for k, v in sorted(d.items()):\n",
    "        if isinstance(v, dict):\n",
    "            flatten(v, ret)\n",
    "        else:\n",
    "            ret.extend(v.get_children())\n",
    "    return ret"
   ]
  },
  {
   "cell_type": "code",
   "execution_count": 32,
   "metadata": {},
   "outputs": [
    {
     "name": "stdout",
     "output_type": "stream",
     "text": [
      "0 : 489.99661575827\n",
      "0 : 13.2985848543289\n",
      "No-Security_O1_4Mhz: 503.29520061259893\n",
      "1 : 574.3692648075906\n",
      "1 : 11.98737734000716\n",
      "No-Security_O1_12Mhz: 586.3566421475978\n",
      "2 : 484.00548634960876\n",
      "2 : 12.592531692503098\n",
      "No-Security_O3_4Mhz: 496.59801804211185\n",
      "3 : 574.2244704298703\n",
      "3 : 11.941046262892982\n",
      "No-Security_O3_12Mhz: 586.1655166927633\n"
     ]
    }
   ],
   "source": [
    "security_plotter = SecurityPlotter(checkpoint_energy, show=1, use_model=False)\n",
    "#security_plotter = SecurityPlotter(checkpoint_energy, show=1, use_model=True)"
   ]
  },
  {
   "cell_type": "markdown",
   "metadata": {},
   "source": [
    "## Security Time"
   ]
  },
  {
   "cell_type": "code",
   "execution_count": 33,
   "metadata": {},
   "outputs": [],
   "source": [
    "def get_security_time(project_name, num_bytes):\n",
    "    time_dict = {}\n",
    "    project_path = [\".\", project_name]\n",
    "    #encrypt_time_ms = pickle.load(open(path.join(*project_path, \"aes_flash_encrypt_time_ms.p\"), \"rb\"))\n",
    "    #decrypt_time_ms = pickle.load(open(path.join(*project_path, \"aes_flash_decrypt_time_ms.p\"), \"rb\"))\n",
    "    flash_write_time_ms = pickle.load(open(path.join(*project_path, \"no_security_flash_write_time_ms.p\"), \"rb\"))\n",
    "    flash_read_time_ms = pickle.load(open(path.join(*project_path, \"no_security_flash_read_time_ms.p\"), \"rb\"))\n",
    "    \n",
    "    i = round((num_bytes) - 1)\n",
    "    print(f'{i}')\n",
    "    #time_dict['AES-256 Encrypt'] = encrypt_time_ms[i]\n",
    "    #time_dict['AES-256 Decrypt'] = decrypt_time_ms[i]\n",
    "    time_dict['AES-256 Flash Write'] =  flash_write_time_ms[i]\n",
    "    time_dict['AES-256 Flash Read'] = flash_read_time_ms[i]\n",
    "    \n",
    "    return time_dict"
   ]
  },
  {
   "cell_type": "code",
   "execution_count": 34,
   "metadata": {},
   "outputs": [],
   "source": [
    "class SecurityPlotter(object):\n",
    "    def __init__(self, checkpoint_energy=CheckpointEnergy(workload_folder = \"../../Workloads\",security_projects=security_projects), num_bytes=4096, fig=None, ax=None, show=0, use_model=False):\n",
    "        self.checkpoint_energy = checkpoint_energy\n",
    "        self.fig = fig\n",
    "        self.ax = ax\n",
    "        self.num_bytes = num_bytes\n",
    "        self.use_model = use_model\n",
    "        if show:\n",
    "            self.make_fig(figsize=(12.8, 6.8),dpi= 300) #width, height in inches\n",
    "            self.update_fig()\n",
    "            if show >= 2:\n",
    "                self.animate()\n",
    "        \n",
    "    def make_fig(self, *args, **kwargs):\n",
    "        self.fig, self.ax = plt.subplots(*args, **kwargs)\n",
    "    \n",
    "    def update_fig(self, num_bytes=None):\n",
    "        if num_bytes is None:\n",
    "            num_bytes = self.num_bytes\n",
    "        opacity = 0.8\n",
    "        self.ax.cla()\n",
    "#         self.ax.grid(zorder=0)\n",
    "        self.ax.yaxis.grid(True, alpha=0.3)\n",
    "        \n",
    "        self.bars = {}\n",
    "        for index, security_project in enumerate(self.checkpoint_energy.security_projects):\n",
    "            self.bars[security_project] = {}\n",
    "            security_time = get_security_time(security_project, num_bytes)\n",
    "            #print(f'{security_energy}')\n",
    "            bottom = 0\n",
    "            sectionTimes = get_security_time(security_project,num_bytes)\n",
    "            totalTime = 0\n",
    "            for sectionTime in sectionTimes.values():\n",
    "                totalTime+=sectionTime\n",
    "            #print(f'{totalEnergy}')\n",
    "            for section in security_time.keys():\n",
    "                self.bars[security_project][section] = self.ax.bar(index, security_time[section] , color=colors[security_project], \n",
    "                                                                   label=section, width=0.4, alpha=opacity, bottom=bottom, zorder=3,\n",
    "                                                                   hatch=section_hatches[section], linewidth=linewidth, edgecolor=edgecolor)\n",
    "                sectionValue = security_time[section] \n",
    "                accumulatedValue = sectionValue + bottom\n",
    "                yValue = (totalTime - accumulatedValue/2)\n",
    "                bar = self.bars[security_project][section].get_children()\n",
    "                print(f'{index} : {sectionValue}')\n",
    "                self.ax.text(x=index + (bar[0].get_width()*0.85 ) , y= bottom + sectionValue/3  , \n",
    "                             s=f\"{round(sectionValue)}\", ha = 'center', va = 'center', fontdict=dict(fontsize=11))\n",
    "                bottom += security_time[section]\n",
    "                \n",
    "            self.ax.text(x=index + 0.01 , y =bottom+4 , s=f\"{round(bottom, 2)}\" ,bbox=dict(boxstyle=\"square, pad=0.03\", fc=\"none\", ec=\"gray\", zorder=0.9, lw=0.5),\n",
    "                         va='baseline', horizontalalignment='center', fontdict=dict(fontsize=12))\n",
    "    \n",
    "            print(f'{security_project}: {bottom}')        \n",
    "        \n",
    "        self.ax.set_xticks(range(len(self.checkpoint_energy.security_projects)) )\n",
    "     ##   self.ax.set_xticklabels([s.replace('_',' ') for s in self.checkpoint_energy.security_projects])\n",
    "        self.ax.set_xticklabels(xLabels, fontdict=dict(fontsize=12))\n",
    "        self.ax.yaxis.set_tick_params(labelsize=12)\n",
    "\n",
    "     #   self.ax.set_xticklabels([\" \".join(s.split('_')[:-1]) for s in self.checkpoint_energy.security_projects])\n",
    "       \n",
    "      #  self.ax.set_yticks( fontdict=dict(fontsize=4))\n",
    "      #  self.ax.legend(handles = [circ1,circ2,circ3, circ4],loc=6, prop={'size': 4})\n",
    "       \n",
    "      #  self.ax.set_yscale('log')\n",
    "\n",
    "       # self.ax.set_xlabel('\\nDifferent AES-Modes execution on AES-Module')\n",
    "        self.ax.set_ylabel('Time [ms]', fontdict=dict(fontsize=12))\n",
    "        self.ax.set_title(f'(d) {security_method}' ,  fontdict=dict(fontsize=12))\n",
    "        self.fig.canvas.set_window_title(f'Time_per_parameter_{security_method}')\n",
    "        self.ax.margins( y= 0.12)\n",
    "        self.ax.yaxis.set_minor_locator(tck.AutoMinorLocator())\n",
    "\n",
    "       # self.ax.set(adjustable=\"datalim\")\n",
    "        #ratio = 0.5\n",
    "        #xleft, xright = self.ax.get_xlim()\n",
    "        #ybottom, ytop = self.ax.get_ylim()\n",
    "        # the abs method is used to make sure that all numbers are positive\n",
    "        # because x and y axis of an axes maybe inversed.\n",
    "        #self.ax.set_aspect(abs((xright-xleft)/(ybottom-ytop))*ratio)\n",
    "        \n",
    "        set_xmargin(self.ax, left=0.05, right=0.11)\n",
    "        #set_size(6.4,12.4, self.ax)\n",
    "        plt.gcf().set_size_inches(5, 7)\n",
    "\n",
    "        self.fig.tight_layout()\n",
    "        \n",
    "        self.fig.savefig(f'Time_per_parameter_NoSecurity.pdf', bbox_inches='tight', dpi=1000)\n",
    "        self.fig.savefig(f'Time_per_parameter_NoSecurity.svg', bbox_inches='tight', dpi=1000)\n",
    "        self.fig.show()\n",
    "    def anim_func(self, num_bytes, *fargs):\n",
    "        self.update_fig(num_bytes)\n",
    "        return flatten(self.bars)\n",
    "    \n",
    "    def animate(self, frames=range(100, 6001, 100), save=False, *save_args, **save_kwargs):\n",
    "        self.animation = animation.FuncAnimation(self.fig, self.anim_func, blit=True, interval=0,frames=frames ,repeat=False)\n",
    "        if save:\n",
    "            self.animation.save('Charge_per_Security.mp4', *save_args, **save_kwargs)\n",
    "        \n",
    "        \n",
    "def flatten(d, ret=None):\n",
    "    if ret is None:\n",
    "        ret = []\n",
    "    for k, v in sorted(d.items()):\n",
    "        if isinstance(v, dict):\n",
    "            flatten(v, ret)\n",
    "        else:\n",
    "            ret.extend(v.get_children())\n",
    "    return ret"
   ]
  },
  {
   "cell_type": "code",
   "execution_count": 35,
   "metadata": {},
   "outputs": [
    {
     "name": "stdout",
     "output_type": "stream",
     "text": [
      "4095\n",
      "4095\n",
      "0 : 88.37305013338437\n",
      "0 : 8.77856746666339\n",
      "No-Security_O1_4Mhz: 97.15161760004776\n",
      "4095\n",
      "4095\n",
      "1 : 58.476484266691386\n",
      "1 : 2.9039061333264726\n",
      "No-Security_O1_12Mhz: 61.38039040001786\n",
      "4095\n",
      "4095\n",
      "2 : 82.37145813330926\n",
      "2 : 8.249666666642952\n",
      "No-Security_O3_4Mhz: 90.62112479995221\n",
      "4095\n",
      "4095\n",
      "3 : 58.803438933352936\n",
      "3 : 2.903859199989256\n",
      "No-Security_O3_12Mhz: 61.70729813334219\n"
     ]
    }
   ],
   "source": [
    "#Security Time Pass same parameters\n",
    "security_plotter = SecurityPlotter(checkpoint_energy, show=1, use_model=False)"
   ]
  },
  {
   "cell_type": "code",
   "execution_count": null,
   "metadata": {},
   "outputs": [],
   "source": []
  }
 ],
 "metadata": {
  "kernelspec": {
   "display_name": "Python 3",
   "language": "python",
   "name": "python3"
  },
  "language_info": {
   "codemirror_mode": {
    "name": "ipython",
    "version": 3
   },
   "file_extension": ".py",
   "mimetype": "text/x-python",
   "name": "python",
   "nbconvert_exporter": "python",
   "pygments_lexer": "ipython3",
   "version": "3.8.1"
  }
 },
 "nbformat": 4,
 "nbformat_minor": 4
}

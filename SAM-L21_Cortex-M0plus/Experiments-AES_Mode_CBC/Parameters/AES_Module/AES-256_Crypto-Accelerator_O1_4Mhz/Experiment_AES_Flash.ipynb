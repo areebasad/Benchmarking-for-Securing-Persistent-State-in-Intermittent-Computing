{
 "cells": [
  {
   "cell_type": "markdown",
   "metadata": {},
   "source": [
    "## Import Libraries"
   ]
  },
  {
   "cell_type": "code",
   "execution_count": 1,
   "metadata": {},
   "outputs": [],
   "source": [
    "# %matplotlib ipympl\n",
    "# %matplotlib inline\n",
    "%matplotlib wx"
   ]
  },
  {
   "cell_type": "code",
   "execution_count": 2,
   "metadata": {},
   "outputs": [],
   "source": [
    "import matplotlib.pyplot as plt\n",
    "plt.ion()"
   ]
  },
  {
   "cell_type": "code",
   "execution_count": 3,
   "metadata": {},
   "outputs": [],
   "source": [
    "from pydgilib_extra import *\n",
    "from atprogram import atprogram"
   ]
  },
  {
   "cell_type": "code",
   "execution_count": 4,
   "metadata": {},
   "outputs": [],
   "source": [
    "from os import getcwd, path, pardir\n",
    "import pickle"
   ]
  },
  {
   "cell_type": "markdown",
   "metadata": {},
   "source": [
    "## Compile and program project"
   ]
  },
  {
   "cell_type": "code",
   "execution_count": 5,
   "metadata": {},
   "outputs": [
    {
     "data": {
      "text/plain": [
       "'./AES-256_Crypto-Accelerator'"
      ]
     },
     "execution_count": 5,
     "metadata": {},
     "output_type": "execute_result"
    }
   ],
   "source": [
    "project_path = path.curdir + \"/\" + \"AES-256_Crypto-Accelerator\"\n",
    "project_name =  \"AES-256_Crypto-Accelerator\"\n",
    "device_name = \"ATSAML21J18B\"\n",
    "project_path  "
   ]
  },
  {
   "cell_type": "code",
   "execution_count": 6,
   "metadata": {},
   "outputs": [
    {
     "name": "stdout",
     "output_type": "stream",
     "text": [
      "make: Nothing to be done for 'all'.\n",
      "\n",
      "[DEBUG] Starting execution of \"chiperase\"\n",
      "[DEBUG] Starting process 'C:\\Program Files (x86)\\Atmel\\Studio\\7.0\\atbackend\\atbackend.exe'\n",
      "[DEBUG] Connecting to TCP:127.0.0.1:51431\n",
      "[INFO] Connected to edbg, fw version: 3.25\n",
      "[INFO] Firmware check OK\n",
      "[DEBUG] Command \"chiperase\" finished with return code 0\n",
      "[DEBUG] Starting execution of \"program\"\n",
      "[DEBUG] Memory segment base written at 0x00000000. Size = 0x00001138.\n",
      "[DEBUG] Memory segment base written at 0x00001138. Size = 0x00000084.\n",
      "[DEBUG] Command \"program\" finished with return code 0\n",
      "[DEBUG] Starting execution of \"info\"\n",
      "[ERROR] Error in TCF lockbit format. Missed key Could not get Module LOCKBIT for ATSAML21J18B. (TCF Error code: 131120)\n",
      "[DEBUG] Command \"info\" finished with return code 0\n",
      "[DEBUG] Exit successfully.\n",
      "Firmware check OK\n",
      "Chiperase completed successfully\n",
      "Programming completed successfully.\n",
      "Tool edbg has firmware version: 03.25\n",
      "Target voltage: 3.31 V\n",
      "\n",
      "Device information:\n",
      "\n",
      "Name:       ATSAML21J18B  \n",
      "JtagId:     N/A           \n",
      "Revision:   C             \n",
      "Chip ID:    0x1081020f\n",
      "CPU arch.:  CORTEX-M0PLUS \n",
      "Series:     SAML21\n",
      "\n",
      "Memory Information:\n",
      "\n",
      "Address Space    StartAddress            Size\n",
      "\n",
      "base                      0x0     0x100000000\n",
      "  FLASH                   0x0         0x40000\n",
      "  CAL                0x800000             0x8\n",
      "  LOCKBIT            0x802000             0x4\n",
      "  AUX0               0x804000           0x100\n",
      "  AUX1               0x806000           0x100\n",
      "  RWW                0x400000          0x2000\n",
      "  HSRAM            0x20000000          0x8000\n",
      "  LPRAM            0x30000000          0x2000\n",
      "  HPB0             0x40000000          0x4000\n",
      "  HPB1             0x41000000         0x10000\n",
      "  HPB2             0x42000000          0x8000\n",
      "  HPB3             0x43000000          0x2000\n",
      "  HPB4             0x44000000          0x1000\n",
      "  PPB              0xe0000000        0x100000\n",
      "  SCS              0xe000e000          0x1000\n",
      "  PERIPHERALS      0x40000000      0x20000000\n",
      "\n",
      "fuses                     0x0      0x20000000\n",
      "\n",
      "OTP5_WORD_0 (0b01110111011001010010110110111111 <-> 0x77652dbf):\n",
      "   USB_TRIM      0x6\n",
      "   USB_TRANSP    0x19\n",
      "   USB_TRANSN    0x9\n",
      "   ADC_BIASCOMP  0x7\n",
      "   ADC_BIASREFBUF 0x7\n",
      "\n",
      "TEMP_LOG_WORD_1 (0b11010101010010111000100111111001 <-> 0xd54b89f9):\n",
      "   HOT_ADC_VAL   0xd54\n",
      "   ROOM_ADC_VAL  0xb89\n",
      "   HOT_INT1V_VAL 0xf9\n",
      "\n",
      "TEMP_LOG_WORD_0 (0b11111011100101010100100000011101 <-> 0xfb95481d):\n",
      "   ROOM_INT1V_VAL 0xfb\n",
      "   HOT_TEMP_VAL_DEC 0x9\n",
      "   HOT_TEMP_VAL_INT 0x54\n",
      "   ROOM_TEMP_VAL_DEC 0x8\n",
      "   ROOM_TEMP_VAL_INT 0x1d\n",
      "\n",
      "USER_WORD_1 (0b11111111111111111111100010111011 <-> 0xfffff8bb):\n",
      "   NVMCTRL_REGION_LOCKS 0xffff\n",
      "   BOD12_HYST    0\n",
      "   BOD33_HYST    0\n",
      "   WDT_WEN       0\n",
      "   WDT_EWOFFSET  0xb\n",
      "   WDT_WINDOW    0xb\n",
      "\n",
      "USER_WORD_0 (0b10110001000111101000011011111111 <-> 0xb11e86ff):\n",
      "   WDT_PER       0xb\n",
      "   WDT_ALWAYSON  0\n",
      "   WDT_ENABLE    0\n",
      "   BOD12_DIS     0\n",
      "   BOD33_ACTION  0x1\n",
      "   BOD33_DIS     0\n",
      "   BOD33USERLEVEL 0x6\n",
      "   NVMCTRL_EEPROM_SIZE 0x7\n",
      "   NVMCTRL_BOOTPROT 0x7\n",
      "\n",
      "\n"
     ]
    },
    {
     "data": {
      "text/plain": [
       "0"
      ]
     },
     "execution_count": 6,
     "metadata": {},
     "output_type": "execute_result"
    }
   ],
   "source": [
    "atprogram.atprogram(project_path, device_name = device_name ,verbose=3)"
   ]
  },
  {
   "cell_type": "code",
   "execution_count": 7,
   "metadata": {},
   "outputs": [],
   "source": [
    "#atprogram(path.abspath(path.join(*project_path)), verbose=2)"
   ]
  },
  {
   "cell_type": "code",
   "execution_count": 8,
   "metadata": {},
   "outputs": [
    {
     "name": "stdout",
     "output_type": "stream",
     "text": [
      "{'text': 4408, 'data': 132, 'bss': 8332, 'dec': 12872, 'hex': 12872, 'filename': 'AES-256_Crypto-Accelerator.elf'}\n"
     ]
    },
    {
     "data": {
      "text/plain": [
       "{'text': 4408,\n",
       " 'data': 132,\n",
       " 'bss': 8332,\n",
       " 'dec': 12872,\n",
       " 'hex': 12872,\n",
       " 'filename': 'AES-256_Crypto-Accelerator.elf'}"
      ]
     },
     "execution_count": 8,
     "metadata": {},
     "output_type": "execute_result"
    }
   ],
   "source": [
    "atprogram.get_project_size(project_path, device_name = device_name, verbose=2)"
   ]
  },
  {
   "cell_type": "code",
   "execution_count": null,
   "metadata": {},
   "outputs": [],
   "source": []
  },
  {
   "cell_type": "markdown",
   "metadata": {},
   "source": [
    "## Data Logging"
   ]
  },
  {
   "cell_type": "code",
   "execution_count": 9,
   "metadata": {},
   "outputs": [],
   "source": [
    "live_plot = False"
   ]
  },
  {
   "cell_type": "markdown",
   "metadata": {},
   "source": [
    "Create a figure for the plot."
   ]
  },
  {
   "cell_type": "code",
   "execution_count": 10,
   "metadata": {},
   "outputs": [],
   "source": [
    "if live_plot:\n",
    "    fig = plt.figure(figsize=(10, 6))\n",
    "    fig.show()"
   ]
  },
  {
   "cell_type": "markdown",
   "metadata": {},
   "source": [
    "Create the configuration dictionary for `DGILibExtra`."
   ]
  },
  {
   "cell_type": "code",
   "execution_count": 11,
   "metadata": {},
   "outputs": [],
   "source": [
    "config_dict = {\n",
    "    \"loggers\": [LOGGER_OBJECT, LOGGER_CSV],\n",
    "    \"file_name_base\": \"experiment_aes_flash\"\n",
    "}\n",
    "config_dict_plot = {\n",
    "    \"loggers\": [LOGGER_OBJECT, LOGGER_PLOT, LOGGER_CSV],\n",
    "    \"plot_pins\": [False, False, True, True],\n",
    "    \"plot_pins_method\": \"line\",\n",
    "    \"plot_xmax\": 5,\n",
    "    \"window_title\": \"Experiment AES-128 Flash\",\n",
    "}"
   ]
  },
  {
   "cell_type": "markdown",
   "metadata": {},
   "source": [
    "Stop criteria to pass to the logger:"
   ]
  },
  {
   "cell_type": "code",
   "execution_count": 12,
   "metadata": {},
   "outputs": [],
   "source": [
    "def stop_fn(logger_data):\n",
    "    return all(logger_data.gpio.values[-1])"
   ]
  },
  {
   "cell_type": "code",
   "execution_count": 13,
   "metadata": {},
   "outputs": [],
   "source": [
    "#with DGILib() as dgilib:\n",
    "#     dgilib.get_major_version()"
   ]
  },
  {
   "cell_type": "markdown",
   "metadata": {},
   "source": [
    "Perform the measurement."
   ]
  },
  {
   "cell_type": "code",
   "execution_count": 14,
   "metadata": {},
   "outputs": [],
   "source": [
    "data = []\n",
    "cd = config_dict.copy()\n",
    "if live_plot:\n",
    "    fig.clf()\n",
    "    for ax in fig.get_axes():\n",
    "        ax.cla()\n",
    "    \n",
    "    cd.update(config_dict_plot)\n",
    "    cd[\"fig\"] = fig\n",
    "    \n",
    "with DGILibExtra(**cd) as dgilib:\n",
    "    dgilib.device_reset()\n",
    "    dgilib.logger.log(1000,stop_fn)\n",
    "    data = dgilib.data"
   ]
  },
  {
   "cell_type": "code",
   "execution_count": 15,
   "metadata": {},
   "outputs": [
    {
     "data": {
      "text/plain": [
       "{48: 6005, 256: 887000}"
      ]
     },
     "execution_count": 15,
     "metadata": {},
     "output_type": "execute_result"
    }
   ],
   "source": [
    "data.length()"
   ]
  },
  {
   "cell_type": "code",
   "execution_count": 16,
   "metadata": {},
   "outputs": [
    {
     "name": "stdout",
     "output_type": "stream",
     "text": [
      "Interfaces:\n",
      "\t  48:   gpio,    samples:    6005\n",
      "\t 256:   power,   samples:  887000\n",
      "\n"
     ]
    }
   ],
   "source": [
    "print(data)"
   ]
  },
  {
   "cell_type": "markdown",
   "metadata": {},
   "source": [
    "# Store Data"
   ]
  },
  {
   "cell_type": "code",
   "execution_count": 6,
   "metadata": {},
   "outputs": [],
   "source": [
    "import pickle"
   ]
  },
  {
   "cell_type": "code",
   "execution_count": 18,
   "metadata": {},
   "outputs": [],
   "source": [
    "pickle.dump(data, open(\"aes_flash_logger_data.p\", \"wb\"))"
   ]
  },
  {
   "cell_type": "markdown",
   "metadata": {},
   "source": [
    "# Load Data"
   ]
  },
  {
   "cell_type": "code",
   "execution_count": 7,
   "metadata": {},
   "outputs": [],
   "source": [
    "data = pickle.load(open(\"aes_flash_logger_data.p\", \"rb\"))"
   ]
  },
  {
   "cell_type": "code",
   "execution_count": 8,
   "metadata": {},
   "outputs": [],
   "source": [
    "#iteration = 0\n",
    "#name = \"AES-128_Flash\"\n",
    "#data = pickle.load(open(path.join(path.pardir, path.pardir, f\"{name}_{iteration}.p\"), \"rb\"))"
   ]
  },
  {
   "cell_type": "markdown",
   "metadata": {},
   "source": [
    "## Analysis"
   ]
  },
  {
   "cell_type": "markdown",
   "metadata": {},
   "source": [
    "Create Stop Function to stop parsing the data when all pins are high."
   ]
  },
  {
   "cell_type": "code",
   "execution_count": 9,
   "metadata": {},
   "outputs": [],
   "source": [
    "def stop_function(pin_values):\n",
    "    return all(pin_values)"
   ]
  },
  {
   "cell_type": "markdown",
   "metadata": {},
   "source": [
    "Parse the data."
   ]
  },
  {
   "cell_type": "code",
   "execution_count": 10,
   "metadata": {},
   "outputs": [],
   "source": [
    "aes_charge, aes_time = power_and_time_per_pulse(data, 2, stop_function=stop_function)"
   ]
  },
  {
   "cell_type": "code",
   "execution_count": 11,
   "metadata": {},
   "outputs": [],
   "source": [
    "flash_charge, flash_time = power_and_time_per_pulse(data, 3, stop_function=stop_function)"
   ]
  },
  {
   "cell_type": "code",
   "execution_count": 12,
   "metadata": {},
   "outputs": [
    {
     "name": "stdout",
     "output_type": "stream",
     "text": [
      "750 750 750 750\n"
     ]
    }
   ],
   "source": [
    "print(len(aes_charge), len(aes_time), len(flash_charge), len(flash_time))\n",
    "# cutoff = min(len(aes_charge), len(aes_time), len(flash_charge), len(flash_time))\n",
    "# aes_charge = aes_charge[:cutoff]\n",
    "# aes_time = aes_time[:cutoff]\n",
    "# flash_charge = flash_charge[:cutoff]\n",
    "# flash_time = flash_time[:cutoff]"
   ]
  },
  {
   "cell_type": "code",
   "execution_count": 13,
   "metadata": {},
   "outputs": [],
   "source": [
    "# length = len(aes_charge)\n",
    "# assert length == len(aes_time)\n",
    "# assert length == len(flash_charge)\n",
    "# assert length == len(flash_time)\n",
    "# print(length)"
   ]
  },
  {
   "cell_type": "code",
   "execution_count": 14,
   "metadata": {},
   "outputs": [],
   "source": [
    "aes_encrypt_charge = aes_charge[0::2]\n",
    "aes_decrypt_charge = aes_charge[1::2]\n",
    "aes_encrypt_time = aes_time[0::2]\n",
    "aes_decrypt_time = aes_time[1::2]"
   ]
  },
  {
   "cell_type": "code",
   "execution_count": 15,
   "metadata": {},
   "outputs": [],
   "source": [
    "aes_flash_write_charge = flash_charge[0::2]\n",
    "aes_flash_read_charge = flash_charge[1::2]\n",
    "aes_flash_write_time = flash_time[0::2]\n",
    "aes_flash_read_time = flash_time[1::2]"
   ]
  },
  {
   "cell_type": "code",
   "execution_count": 16,
   "metadata": {},
   "outputs": [
    {
     "data": {
      "text/plain": [
       "(375, 375, 375, 375, 375, 375, 375, 375)"
      ]
     },
     "execution_count": 16,
     "metadata": {},
     "output_type": "execute_result"
    }
   ],
   "source": [
    "len(aes_encrypt_charge), len(aes_decrypt_charge), len(aes_encrypt_time), len(aes_decrypt_time), len(aes_flash_write_charge), len(aes_flash_read_charge), len(aes_flash_write_time), len(aes_flash_read_time)"
   ]
  },
  {
   "cell_type": "code",
   "execution_count": 17,
   "metadata": {},
   "outputs": [],
   "source": [
    "drop = 0\n",
    "cutoff = min(len(aes_encrypt_charge), len(aes_decrypt_charge), len(aes_encrypt_time), len(aes_decrypt_time), len(aes_flash_write_charge), len(aes_flash_read_charge), len(aes_flash_write_time), len(aes_flash_read_time)) - drop\n",
    "aes_encrypt_charge = aes_encrypt_charge[:cutoff]\n",
    "aes_decrypt_charge = aes_decrypt_charge[:cutoff]\n",
    "aes_encrypt_time = aes_encrypt_time[:cutoff]\n",
    "aes_decrypt_time = aes_decrypt_time[:cutoff]\n",
    "aes_flash_write_charge = aes_flash_write_charge[:cutoff]\n",
    "aes_flash_read_charge = aes_flash_read_charge[:cutoff]\n",
    "aes_flash_write_time = aes_flash_write_time[:cutoff]\n",
    "aes_flash_read_time = aes_flash_read_time[:cutoff]"
   ]
  },
  {
   "cell_type": "code",
   "execution_count": 18,
   "metadata": {},
   "outputs": [
    {
     "name": "stdout",
     "output_type": "stream",
     "text": [
      "375\n"
     ]
    }
   ],
   "source": [
    "length = len(aes_encrypt_charge)\n",
    "assert length == len(aes_decrypt_charge)\n",
    "assert length == len(aes_encrypt_time)\n",
    "assert length == len(aes_decrypt_time)\n",
    "assert length == len(aes_flash_write_charge)\n",
    "assert length == len(aes_flash_read_charge)\n",
    "assert length == len(aes_flash_write_time)\n",
    "assert length == len(aes_flash_read_time)\n",
    "print(length)"
   ]
  },
  {
   "cell_type": "markdown",
   "metadata": {},
   "source": [
    "# Convert to Joule"
   ]
  },
  {
   "cell_type": "code",
   "execution_count": 19,
   "metadata": {},
   "outputs": [],
   "source": [
    "voltage = 3.31\n",
    "j_scale = 1e3 # m\n",
    "t_scale = 1e3 # m\n",
    "model_j_scale = 1e6 # n\n",
    "model_t_scale = 1e3 # u\n",
    "\n",
    "experiment_name = project_name"
   ]
  },
  {
   "cell_type": "code",
   "execution_count": 20,
   "metadata": {},
   "outputs": [],
   "source": [
    "aes_encrypt_energy = aes_encrypt_charge[:cutoff]\n",
    "aes_flash_write_energy = aes_flash_write_charge[:cutoff]\n",
    "aes_flash_read_energy = aes_flash_read_charge[:cutoff]\n",
    "aes_decrypt_energy = aes_decrypt_charge[:cutoff]\n",
    "aes_encrypt_time_s = aes_encrypt_time[:cutoff]\n",
    "aes_flash_write_time_s = aes_flash_write_time[:cutoff]\n",
    "aes_flash_read_time_s = aes_flash_read_time[:cutoff]\n",
    "aes_decrypt_time_s = aes_decrypt_time[:cutoff]\n",
    "\n",
    "for i in range(len(aes_encrypt_energy)):\n",
    "    aes_encrypt_energy[i] = aes_encrypt_energy[i] * voltage * j_scale\n",
    "for i in range(len(aes_flash_write_energy)):\n",
    "    aes_flash_write_energy[i] = aes_flash_write_energy[i] * voltage * j_scale\n",
    "for i in range(len(aes_flash_read_energy)):\n",
    "    aes_flash_read_energy[i] = aes_flash_read_energy[i] * voltage * j_scale\n",
    "for i in range(len(aes_decrypt_energy)):\n",
    "    aes_decrypt_energy[i] = aes_decrypt_energy[i] * voltage * j_scale\n",
    "    \n",
    "for i in range(len(aes_encrypt_time_s)):\n",
    "    aes_encrypt_time_s[i] = aes_encrypt_time_s[i] * t_scale\n",
    "for i in range(len(aes_flash_write_time_s)):\n",
    "    aes_flash_write_time_s[i] = aes_flash_write_time_s[i] * t_scale\n",
    "for i in range(len(aes_flash_read_time_s)):\n",
    "    aes_flash_read_time_s[i] = aes_flash_read_time_s[i] * t_scale\n",
    "for i in range(len(aes_decrypt_time_s)):\n",
    "    aes_decrypt_time_s[i] = aes_decrypt_time_s[i] * t_scale"
   ]
  },
  {
   "cell_type": "code",
   "execution_count": 21,
   "metadata": {},
   "outputs": [
    {
     "name": "stdout",
     "output_type": "stream",
     "text": [
      "MAX_NUM_BYTES: 6000\n"
     ]
    }
   ],
   "source": [
    "MBEDTLS_AES_BLOCK_SIZE = 16\n",
    "STEP_SIZE = MBEDTLS_AES_BLOCK_SIZE\n",
    "MIN_NUM_BYTES = STEP_SIZE\n",
    "num_bytes = range(MIN_NUM_BYTES, MIN_NUM_BYTES + STEP_SIZE * len(aes_encrypt_energy), STEP_SIZE)\n",
    "print(f\"MAX_NUM_BYTES: {num_bytes[-1]}\")"
   ]
  },
  {
   "cell_type": "code",
   "execution_count": 34,
   "metadata": {},
   "outputs": [],
   "source": [
    "from lmfit import Model\n",
    "\n",
    "def line(x, slope, intercept):\n",
    "    \"\"\"a line\"\"\"\n",
    "    return [slope*i + intercept for i in x]\n",
    "\n",
    "mod = Model(line)\n",
    "pars = mod.make_params(slope=0, intercept=1)\n",
    "# pars['intercept'].set(min=0)"
   ]
  },
  {
   "cell_type": "code",
   "execution_count": 35,
   "metadata": {},
   "outputs": [
    {
     "name": "stdout",
     "output_type": "stream",
     "text": [
      "[[Model]]\n",
      "    Model(line)\n",
      "[[Fit Statistics]]\n",
      "    # fitting method   = leastsq\n",
      "    # function evals   = 6\n",
      "    # data points      = 375\n",
      "    # variables        = 2\n",
      "    chi-square         = 1.4888e-06\n",
      "    reduced chi-square = 3.9915e-09\n",
      "    Akaike info crit   = -7250.16603\n",
      "    Bayesian info crit = -7242.31218\n",
      "[[Variables]]\n",
      "    slope:      9.0505e-06 +/- 1.8836e-09 (0.02%) (init = 0)\n",
      "    intercept:  2.6794e-04 +/- 6.5381e-06 (2.44%) (init = 1)\n",
      "[[Correlations]] (unreported correlations are < 0.100)\n",
      "    C(slope, intercept) = -0.867\n",
      "[[Model]]\n",
      "    Model(line)\n",
      "[[Fit Statistics]]\n",
      "    # fitting method   = leastsq\n",
      "    # function evals   = 6\n",
      "    # data points      = 375\n",
      "    # variables        = 2\n",
      "    chi-square         = 0.02260028\n",
      "    reduced chi-square = 6.0591e-05\n",
      "    Akaike info crit   = -3639.76958\n",
      "    Bayesian info crit = -3631.91572\n",
      "[[Variables]]\n",
      "    slope:      1.1166e-04 +/- 2.3207e-07 (0.21%) (init = 0)\n",
      "    intercept:  0.01250302 +/- 8.0554e-04 (6.44%) (init = 1)\n",
      "[[Correlations]] (unreported correlations are < 0.100)\n",
      "    C(slope, intercept) = -0.867\n",
      "[[Model]]\n",
      "    Model(line)\n",
      "[[Fit Statistics]]\n",
      "    # fitting method   = leastsq\n",
      "    # function evals   = 6\n",
      "    # data points      = 375\n",
      "    # variables        = 2\n",
      "    chi-square         = 9.9479e-07\n",
      "    reduced chi-square = 2.6670e-09\n",
      "    Akaike info crit   = -7401.37212\n",
      "    Bayesian info crit = -7393.51826\n",
      "[[Variables]]\n",
      "    slope:      2.6997e-06 +/- 1.5397e-09 (0.06%) (init = 0)\n",
      "    intercept: -1.3286e-04 +/- 5.3444e-06 (4.02%) (init = 1)\n",
      "[[Correlations]] (unreported correlations are < 0.100)\n",
      "    C(slope, intercept) = -0.867\n",
      "[[Model]]\n",
      "    Model(line)\n",
      "[[Fit Statistics]]\n",
      "    # fitting method   = leastsq\n",
      "    # function evals   = 6\n",
      "    # data points      = 375\n",
      "    # variables        = 2\n",
      "    chi-square         = 2.1516e-06\n",
      "    reduced chi-square = 5.7685e-09\n",
      "    Akaike info crit   = -7112.07681\n",
      "    Bayesian info crit = -7104.22296\n",
      "[[Variables]]\n",
      "    slope:      9.0421e-06 +/- 2.2644e-09 (0.03%) (init = 0)\n",
      "    intercept:  3.0932e-04 +/- 7.8598e-06 (2.54%) (init = 1)\n",
      "[[Correlations]] (unreported correlations are < 0.100)\n",
      "    C(slope, intercept) = -0.867\n",
      "[[Model]]\n",
      "    Model(line)\n",
      "[[Fit Statistics]]\n",
      "    # fitting method   = leastsq\n",
      "    # function evals   = 6\n",
      "    # data points      = 375\n",
      "    # variables        = 2\n",
      "    chi-square         = 0.26203968\n",
      "    reduced chi-square = 7.0252e-04\n",
      "    Akaike info crit   = -2720.81952\n",
      "    Bayesian info crit = -2712.96566\n",
      "[[Variables]]\n",
      "    slope:      0.00862692 +/- 7.9023e-07 (0.01%) (init = 0)\n",
      "    intercept:  0.19767527 +/- 0.00274292 (1.39%) (init = 1)\n",
      "[[Correlations]] (unreported correlations are < 0.100)\n",
      "    C(slope, intercept) = -0.867\n",
      "[[Model]]\n",
      "    Model(line)\n",
      "[[Fit Statistics]]\n",
      "    # fitting method   = leastsq\n",
      "    # function evals   = 6\n",
      "    # data points      = 375\n",
      "    # variables        = 2\n",
      "    chi-square         = 527.532165\n",
      "    reduced chi-square = 1.41429535\n",
      "    Akaike info crit   = 131.981430\n",
      "    Bayesian info crit = 139.835282\n",
      "[[Variables]]\n",
      "    slope:      0.02230543 +/- 3.5456e-05 (0.16%) (init = 0)\n",
      "    intercept:  2.86773828 +/- 0.12307039 (4.29%) (init = 1)\n",
      "[[Correlations]] (unreported correlations are < 0.100)\n",
      "    C(slope, intercept) = -0.867\n",
      "[[Model]]\n",
      "    Model(line)\n",
      "[[Fit Statistics]]\n",
      "    # fitting method   = leastsq\n",
      "    # function evals   = 6\n",
      "    # data points      = 375\n",
      "    # variables        = 2\n",
      "    chi-square         = 0.29086876\n",
      "    reduced chi-square = 7.7981e-04\n",
      "    Akaike info crit   = -2681.67842\n",
      "    Bayesian info crit = -2673.82457\n",
      "[[Variables]]\n",
      "    slope:      0.00212522 +/- 8.3257e-07 (0.04%) (init = 0)\n",
      "    intercept:  0.02534538 +/- 0.00288986 (11.40%) (init = 1)\n",
      "[[Correlations]] (unreported correlations are < 0.100)\n",
      "    C(slope, intercept) = -0.867\n",
      "[[Model]]\n",
      "    Model(line)\n",
      "[[Fit Statistics]]\n",
      "    # fitting method   = leastsq\n",
      "    # function evals   = 6\n",
      "    # data points      = 375\n",
      "    # variables        = 2\n",
      "    chi-square         = 0.76587112\n",
      "    reduced chi-square = 0.00205327\n",
      "    Akaike info crit   = -2318.62528\n",
      "    Bayesian info crit = -2310.77142\n",
      "[[Variables]]\n",
      "    slope:      0.00862439 +/- 1.3510e-06 (0.02%) (init = 0)\n",
      "    intercept:  0.21318812 +/- 0.00468929 (2.20%) (init = 1)\n",
      "[[Correlations]] (unreported correlations are < 0.100)\n",
      "    C(slope, intercept) = -0.867\n",
      "[[Model]]\n",
      "    Model(line)\n",
      "[[Fit Statistics]]\n",
      "    # fitting method   = leastsq\n",
      "    # function evals   = 6\n",
      "    # data points      = 375\n",
      "    # variables        = 2\n",
      "    chi-square         = 0.02249197\n",
      "    reduced chi-square = 6.0300e-05\n",
      "    Akaike info crit   = -3641.57113\n",
      "    Bayesian info crit = -3633.71728\n",
      "[[Variables]]\n",
      "    slope:      1.3245e-04 +/- 2.3152e-07 (0.17%) (init = 0)\n",
      "    intercept:  0.01294742 +/- 8.0361e-04 (6.21%) (init = 1)\n",
      "[[Correlations]] (unreported correlations are < 0.100)\n",
      "    C(slope, intercept) = -0.867\n",
      "[[Model]]\n",
      "    Model(line)\n",
      "[[Fit Statistics]]\n",
      "    # fitting method   = leastsq\n",
      "    # function evals   = 10\n",
      "    # data points      = 375\n",
      "    # variables        = 2\n",
      "    chi-square         = 532.060937\n",
      "    reduced chi-square = 1.42643683\n",
      "    Akaike info crit   = 135.187000\n",
      "    Bayesian info crit = 143.040852\n",
      "[[Variables]]\n",
      "    slope:      0.04168197 +/- 3.5608e-05 (0.09%) (init = 0)\n",
      "    intercept:  3.30394703 +/- 0.12359754 (3.74%) (init = 1)\n",
      "[[Correlations]] (unreported correlations are < 0.100)\n",
      "    C(slope, intercept) = -0.867\n"
     ]
    }
   ],
   "source": [
    "results = []\n",
    "ylabels = (['Energy [mJ]'] * 2 + ['Time [ms]'] * 2) * 2 + ['Energy [mJ]'] + ['Time [ms]']\n",
    "parameter_names = [\n",
    "    'Encrypt Energy',\n",
    "    'Flash Write Energy',\n",
    "    'Flash Read Energy',\n",
    "    'Decrypt Energy',\n",
    "    'Encrypt Time',\n",
    "    'Flash Write Time',\n",
    "    'Flash Read Time',\n",
    "    'Decrypt Time',\n",
    "    'Total Energy',\n",
    "    'Total Time',\n",
    "]\n",
    "for y in [aes_encrypt_energy, aes_flash_write_energy, aes_flash_read_energy, aes_decrypt_energy, aes_encrypt_time_s, aes_flash_write_time_s, aes_flash_read_time_s, aes_decrypt_time_s,\n",
    "          [e + w + r + d for (e,w,r,d) in zip(aes_encrypt_energy, aes_flash_write_energy, aes_flash_read_energy, aes_decrypt_energy)],\n",
    "          [e + w + r + d for (e,w,r,d) in zip(aes_encrypt_time_s, aes_flash_write_time_s, aes_flash_read_time_s, aes_decrypt_time_s)]]:\n",
    "    result = mod.fit(y, pars, x=num_bytes)\n",
    "    print(result.fit_report())\n",
    "    fig, grid = result.plot(\n",
    "        xlabel='Checkpoint Size [Bytes]',\n",
    "        ylabel=ylabels[len(results)])\n",
    "    fig.tight_layout(rect=(0.05, 0.05, 1, 1))\n",
    "    fig.set_size_inches(5, 4.5, forward=True)\n",
    "    fig.canvas.set_window_title(\n",
    "        f\"Residuals of {experiment_name} {parameter_names[len(results)]}\")\n",
    "    fig.savefig( f\"Residuals of {experiment_name} {parameter_names[len(results)]}\")\n",
    "    fig.show()\n",
    "    results.append(result)"
   ]
  },
  {
   "cell_type": "code",
   "execution_count": 36,
   "metadata": {},
   "outputs": [],
   "source": [
    "fig2 = plt.figure(figsize=(8, 6))\n",
    "fig2.canvas.set_window_title(f\"Analysis {experiment_name}\")"
   ]
  },
  {
   "cell_type": "code",
   "execution_count": 37,
   "metadata": {},
   "outputs": [],
   "source": [
    "charge_color = 'r'\n",
    "time_color = 'b'"
   ]
  },
  {
   "cell_type": "code",
   "execution_count": 38,
   "metadata": {},
   "outputs": [],
   "source": [
    "fig2.clf()\n",
    "# fig2.suptitle(\"Energy analysis of AES\")\n",
    "ax1 = fig2.add_subplot(1, 1, 1)\n",
    "ax2 = ax1.twinx()\n",
    "ax1.set_xlabel('Checkpoint Size [Bytes]')\n",
    "ax1.set_ylabel('Energy [mJ]', color=charge_color)\n",
    "ax2.set_ylabel('Time [ms]', color=time_color)\n",
    "ax1.tick_params('y', colors=charge_color)\n",
    "ax2.tick_params('y', colors=time_color)"
   ]
  },
  {
   "cell_type": "code",
   "execution_count": 39,
   "metadata": {},
   "outputs": [],
   "source": [
    "lines = []\n",
    "lines += ax1.plot(num_bytes, aes_encrypt_energy, charge_color+'-', label=f'{parameter_names[len(lines)]}')\n",
    "lines += ax1.plot(num_bytes, aes_flash_write_energy, charge_color+'-.', label=f'{parameter_names[len(lines)]}')\n",
    "lines += ax1.plot(num_bytes, aes_flash_read_energy, charge_color+':', label=f'{parameter_names[len(lines)]}')\n",
    "lines += ax1.plot(num_bytes, aes_decrypt_energy, charge_color+'--', label=f'{parameter_names[len(lines)]}')\n",
    "lines += ax2.plot(num_bytes, aes_encrypt_time_s, time_color+'-', label=f'{parameter_names[len(lines)]}')\n",
    "lines += ax2.plot(num_bytes, aes_flash_write_time_s, time_color+'-.', label=f'{parameter_names[len(lines)]}')\n",
    "lines += ax2.plot(num_bytes, aes_flash_read_time_s, time_color+':', label=f'{parameter_names[len(lines)]}')\n",
    "lines += ax2.plot(num_bytes, aes_decrypt_time_s, time_color+'--', label=f'{parameter_names[len(lines)]}')\n",
    "ax1.legend(handles=lines)\n",
    "ax1.set_title(\n",
    "    f\"{parameter_names[0]}: Slope {results[0].params['slope'].value * model_j_scale:.04} nJ/B, Intercept {results[0].params['intercept'].value * model_j_scale:.04} nJ\\n\" +\n",
    "    f\"{parameter_names[1]}: Slope {results[1].params['slope'].value * model_j_scale:.04} nJ/B, Intercept {results[1].params['intercept'].value * model_j_scale:.04} nJ\\n\" +\n",
    "    f\"{parameter_names[2]}: Slope {results[2].params['slope'].value * model_j_scale:.04} nJ/B, Intercept {results[2].params['intercept'].value * model_j_scale:.04} nJ\\n\" +\n",
    "    f\"{parameter_names[3]}: Slope {results[3].params['slope'].value * model_j_scale:.04} nJ/B, Intercept {results[3].params['intercept'].value * model_j_scale:.04} nJ\\n\" +\n",
    "    f\"{parameter_names[4]}: Slope {results[4].params['slope'].value * model_t_scale:.04} $\\mu$s/B, Intercept {results[4].params['intercept'].value * model_t_scale:.04} $\\mu$s\\n\" +\n",
    "    f\"{parameter_names[5]}: Slope {results[5].params['slope'].value * model_t_scale:.04} $\\mu$s/B, Intercept {results[5].params['intercept'].value * model_t_scale:.04} $\\mu$s\\n\" +\n",
    "    f\"{parameter_names[6]}: Slope {results[6].params['slope'].value * model_t_scale:.04} $\\mu$s/B, Intercept {results[6].params['intercept'].value * model_t_scale:.04} $\\mu$s\\n\" +\n",
    "    f\"{parameter_names[7]}: Slope {results[7].params['slope'].value * model_t_scale:.04} $\\mu$s/B, Intercept {results[7].params['intercept'].value * model_t_scale:.04} $\\mu$s\\n\" +\n",
    "    f\"{parameter_names[8]}: Slope {results[8].params['slope'].value * model_j_scale:.04} nJ/B, Intercept {results[8].params['intercept'].value * model_j_scale:.04} nJ\\n\" +\n",
    "    f\"{parameter_names[9]}: Slope {results[9].params['slope'].value * model_t_scale:.04} $\\mu$s/B, Intercept {results[9].params['intercept'].value * model_t_scale:.04} $\\mu$s\\n\")\n",
    "fig2.tight_layout()\n",
    "fig2.savefig(f\"Analysis {experiment_name}\")\n",
    "fig2.show()"
   ]
  },
  {
   "cell_type": "code",
   "execution_count": 40,
   "metadata": {},
   "outputs": [
    {
     "name": "stdout",
     "output_type": "stream",
     "text": [
      "Encrypt Energy: Slope 9.0504958137490447712 nJ/B, Intercept 267.93612112852025575 nJ\n",
      "Flash Write Energy: Slope 111.65605493514888735 nJ/B, Intercept 12503.018932040422442 nJ\n",
      "Flash Read Energy: Slope 2.699696031687938369 nJ/B, Intercept -132.86364072961907823 nJ\n",
      "Decrypt Energy: Slope 9.0421416755565307 nJ/B, Intercept 309.32403310213186387 nJ\n",
      "Encrypt Time: Slope 8.6269239099440113705 $\\mu$s/B, Intercept 197.67526756538677546 $\\mu$s\n",
      "Flash Write Time: Slope 22.305430425982702758 $\\mu$s/B, Intercept 2867.7382800389777913 $\\mu$s\n",
      "Flash Read Time: Slope 2.1252200805902634606 $\\mu$s/B, Intercept 25.345378929674922119 $\\mu$s\n",
      "Decrypt Time: Slope 8.6243922300638722334 $\\mu$s/B, Intercept 213.18811940037807062 $\\mu$s\n",
      "Total Energy: Slope 132.44838845614145839 nJ/B, Intercept 12947.415452089771861 nJ\n",
      "Total Time: Slope 41.68196665067362261 $\\mu$s/B, Intercept 3303.9470291852840091 $\\mu$s\n",
      "\n"
     ]
    }
   ],
   "source": [
    "print(\n",
    "    f\"{parameter_names[0]}: Slope {results[0].params['slope'].value * model_j_scale:.020} nJ/B, Intercept {results[0].params['intercept'].value * model_j_scale:.020} nJ\\n\" +\n",
    "    f\"{parameter_names[1]}: Slope {results[1].params['slope'].value * model_j_scale:.020} nJ/B, Intercept {results[1].params['intercept'].value * model_j_scale:.020} nJ\\n\" +\n",
    "    f\"{parameter_names[2]}: Slope {results[2].params['slope'].value * model_j_scale:.020} nJ/B, Intercept {results[2].params['intercept'].value * model_j_scale:.020} nJ\\n\" +\n",
    "    f\"{parameter_names[3]}: Slope {results[3].params['slope'].value * model_j_scale:.020} nJ/B, Intercept {results[3].params['intercept'].value * model_j_scale:.020} nJ\\n\" +\n",
    "    f\"{parameter_names[4]}: Slope {results[4].params['slope'].value * model_t_scale:.020} $\\mu$s/B, Intercept {results[4].params['intercept'].value * model_t_scale:.020} $\\mu$s\\n\" +\n",
    "    f\"{parameter_names[5]}: Slope {results[5].params['slope'].value * model_t_scale:.020} $\\mu$s/B, Intercept {results[5].params['intercept'].value * model_t_scale:.020} $\\mu$s\\n\" +\n",
    "    f\"{parameter_names[6]}: Slope {results[6].params['slope'].value * model_t_scale:.020} $\\mu$s/B, Intercept {results[6].params['intercept'].value * model_t_scale:.020} $\\mu$s\\n\" +\n",
    "    f\"{parameter_names[7]}: Slope {results[7].params['slope'].value * model_t_scale:.020} $\\mu$s/B, Intercept {results[7].params['intercept'].value * model_t_scale:.020} $\\mu$s\\n\" +\n",
    "    f\"{parameter_names[8]}: Slope {results[8].params['slope'].value * model_j_scale:.020} nJ/B, Intercept {results[8].params['intercept'].value * model_j_scale:.020} nJ\\n\" +\n",
    "    f\"{parameter_names[9]}: Slope {results[9].params['slope'].value * model_t_scale:.020} $\\mu$s/B, Intercept {results[9].params['intercept'].value * model_t_scale:.020} $\\mu$s\\n\"\n",
    ")"
   ]
  },
  {
   "cell_type": "code",
   "execution_count": 33,
   "metadata": {},
   "outputs": [
    {
     "name": "stdout",
     "output_type": "stream",
     "text": [
      "600.8886503335893\n",
      "39.87786915730428\n",
      "509.4812392548307\n"
     ]
    }
   ],
   "source": [
    "m_to_u = 1e3\n",
    "p=272\n",
    "print((aes_encrypt_energy[p]*m_to_u + aes_decrypt_energy[p]*m_to_u + aes_flash_write_energy[p]*m_to_u + aes_flash_read_energy[p]*m_to_u))\n",
    "print(aes_encrypt_energy[p]* m_to_u)\n",
    "print(aes_flash_write_energy[p]* m_to_u)"
   ]
  },
  {
   "cell_type": "code",
   "execution_count": 41,
   "metadata": {},
   "outputs": [],
   "source": [
    "# Save Charge amount list into pickle file\n",
    "import pickle\n",
    "pickle.dump(aes_encrypt_energy, open(\"aes_flash_encrypt_energy_mJ.p\", \"wb\"))\n",
    "pickle.dump(aes_decrypt_energy, open(\"aes_flash_decrypt_energy_mJ.p\", \"wb\"))\n",
    "pickle.dump(aes_flash_write_energy, open(\"aes_flash_write_energy_mJ.p\", \"wb\"))\n",
    "pickle.dump(aes_flash_read_energy, open(\"aes_flash_read_energy_mJ.p\", \"wb\"))\n",
    "pickle.dump(aes_encrypt_time_s, open(\"aes_flash_encrypt_time_ms.p\", \"wb\"))\n",
    "pickle.dump(aes_decrypt_time_s, open(\"aes_flash_decrypt_time_ms.p\", \"wb\"))\n",
    "pickle.dump(aes_flash_write_time_s, open(\"aes_flash_write_time_ms.p\", \"wb\"))\n",
    "pickle.dump(aes_flash_read_time_s, open(\"aes_flash_read_time_ms.p\", \"wb\"))"
   ]
  },
  {
   "cell_type": "code",
   "execution_count": 42,
   "metadata": {},
   "outputs": [
    {
     "name": "stdout",
     "output_type": "stream",
     "text": [
      "375 6000\n",
      "375 6000\n",
      "375 6000\n",
      "375 6000\n",
      "375 6000\n",
      "375 6000\n",
      "375 6000\n",
      "375 6000\n"
     ]
    }
   ],
   "source": [
    "aes = [aes_encrypt_energy, aes_flash_write_energy, aes_flash_read_energy, aes_decrypt_energy, aes_encrypt_time_s, aes_flash_write_time_s, aes_flash_read_time_s, aes_decrypt_time_s]\n",
    "for i in aes:\n",
    "    print(len(i), len(i)*16)"
   ]
  },
  {
   "cell_type": "markdown",
   "metadata": {},
   "source": [
    "## Write config file"
   ]
  },
  {
   "cell_type": "code",
   "execution_count": 43,
   "metadata": {},
   "outputs": [],
   "source": [
    "import json\n",
    "\n",
    "config = {}\n",
    "config[\"name\"] = \"AES-256 Flash\"\n",
    "config[\"project_paths\"] = [project_path]\n",
    "config[\"config_dict\"] = config_dict\n",
    "config[\"config_dict_plot\"] = config_dict_plot\n",
    "config[\"analysis\"] = {\"pins\":{2: [\"AES-256 Encrypt\", \"AES-256 Decrypt\"], 3: [\"AES-256 Flash Write\", \"AES-256 Flash Read\"]}, \n",
    "                      \"result_types\": [\"Charge\", \"Time\"],\n",
    "                      \"section_types\": {\"init\": [], \n",
    "                                        \"store\": [\"AES-256 Encrypt\", \"AES-256 Flash Write\"],\n",
    "                                        \"load\": [\"AES-256 Flash Read\", \"AES-256 Decrypt\"],\n",
    "                                        \"exit\": []},\n",
    "                      \"labels\": {\n",
    "                          \"Charge\": {\"x\":\"Data Size\", \"x_unit\": \"byte\", \"y\": \"Charge\", \"y_unit\": \"C\"},\n",
    "                          \"Time\": {\"x\":\"Data Size\", \"x_unit\": \"byte\", \"y\": \"Time\", \"y_unit\": \"s\"},\n",
    "                      },\n",
    "                      \"x_step\": MBEDTLS_AES_BLOCK_SIZE}\n",
    "\n",
    "with open(\"looped_experiment.json\", 'w') as config_file:  \n",
    "    json.dump(config, config_file, indent=4)"
   ]
  },
  {
   "cell_type": "markdown",
   "metadata": {},
   "source": [
    "# Write model data"
   ]
  },
  {
   "cell_type": "code",
   "execution_count": 44,
   "metadata": {},
   "outputs": [],
   "source": [
    "dump_pickle = True\n",
    "fit_lm = True\n",
    "verbose = 2\n",
    "show_lm_plot = 2\n",
    "# drop = 1"
   ]
  },
  {
   "cell_type": "code",
   "execution_count": 45,
   "metadata": {},
   "outputs": [],
   "source": [
    "# Parse data\n",
    "analysis_config = config.get(\"analysis\")\n",
    "result_types = analysis_config.get(\"result_types\")\n",
    "x_step = analysis_config.get(\"x_step\")\n",
    "parsed_data = {}\n",
    "for pin, parameter_names in analysis_config.get(\"pins\").items():\n",
    "    data2 = power_and_time_per_pulse(\n",
    "        data, int(pin), stop_function=stop_function)\n",
    "    num_names = len(parameter_names)\n",
    "    for i, parameter_name in enumerate(parameter_names):\n",
    "        end_index = -drop * num_names or None\n",
    "        parsed_data[parameter_name] = {\n",
    "            result_types[0]: data2[0][i:end_index:num_names],\n",
    "            result_types[1]: data2[1][i:end_index:num_names],\n",
    "            \"x_step\": x_step}\n",
    "if dump_pickle:\n",
    "    pickle.dump(parsed_data, open(\n",
    "        path.join(path.curdir,\n",
    "                  f\"{config_dict.get('file_name_base')}_looped.p\"), \"wb\"))"
   ]
  },
  {
   "cell_type": "code",
   "execution_count": 46,
   "metadata": {},
   "outputs": [
    {
     "name": "stdout",
     "output_type": "stream",
     "text": [
      "Fitting model to AES-256 Encrypt with 375 samples, from 16 to 6000 bytes in steps of 16.\n",
      "[[Model]]\n",
      "    Model(line)\n",
      "[[Fit Statistics]]\n",
      "    # fitting method   = leastsq\n",
      "    # function evals   = 10\n",
      "    # data points      = 375\n",
      "    # variables        = 2\n",
      "    chi-square         = 1.3589e-13\n",
      "    reduced chi-square = 3.6432e-16\n",
      "    Akaike info crit   = -13328.6936\n",
      "    Bayesian info crit = -13320.8398\n",
      "[[Variables]]\n",
      "    intercept:  8.0947e-08 +/- 1.9753e-09 (2.44%) (init = 0)\n",
      "    slope:      2.7343e-09 +/- 5.6907e-13 (0.02%) (init = 1)\n",
      "[[Correlations]] (unreported correlations are < 0.100)\n",
      "    C(intercept, slope) = -0.867\n",
      "[[Model]]\n",
      "    Model(line)\n",
      "[[Fit Statistics]]\n",
      "    # fitting method   = leastsq\n",
      "    # function evals   = 7\n",
      "    # data points      = 375\n",
      "    # variables        = 2\n",
      "    chi-square         = 2.6204e-07\n",
      "    reduced chi-square = 7.0252e-10\n",
      "    Akaike info crit   = -7901.63598\n",
      "    Bayesian info crit = -7893.78212\n",
      "[[Variables]]\n",
      "    intercept:  1.9768e-04 +/- 2.7429e-06 (1.39%) (init = 0)\n",
      "    slope:      8.6269e-06 +/- 7.9023e-10 (0.01%) (init = 1)\n",
      "[[Correlations]] (unreported correlations are < 0.100)\n",
      "    C(intercept, slope) = -0.867\n",
      "Fitting model to AES-256 Decrypt with 375 samples, from 16 to 6000 bytes in steps of 16.\n",
      "[[Model]]\n",
      "    Model(line)\n",
      "[[Fit Statistics]]\n",
      "    # fitting method   = leastsq\n",
      "    # function evals   = 10\n",
      "    # data points      = 375\n",
      "    # variables        = 2\n",
      "    chi-square         = 1.9639e-13\n",
      "    reduced chi-square = 5.2651e-16\n",
      "    Akaike info crit   = -13190.6044\n",
      "    Bayesian info crit = -13182.7506\n",
      "[[Variables]]\n",
      "    intercept:  9.3451e-08 +/- 2.3746e-09 (2.54%) (init = 0)\n",
      "    slope:      2.7318e-09 +/- 6.8411e-13 (0.03%) (init = 1)\n",
      "[[Correlations]] (unreported correlations are < 0.100)\n",
      "    C(intercept, slope) = -0.867\n",
      "[[Model]]\n",
      "    Model(line)\n",
      "[[Fit Statistics]]\n",
      "    # fitting method   = leastsq\n",
      "    # function evals   = 7\n",
      "    # data points      = 375\n",
      "    # variables        = 2\n",
      "    chi-square         = 7.6587e-07\n",
      "    reduced chi-square = 2.0533e-09\n",
      "    Akaike info crit   = -7499.44173\n",
      "    Bayesian info crit = -7491.58788\n",
      "[[Variables]]\n",
      "    intercept:  2.1319e-04 +/- 4.6893e-06 (2.20%) (init = 0)\n",
      "    slope:      8.6244e-06 +/- 1.3510e-09 (0.02%) (init = 1)\n",
      "[[Correlations]] (unreported correlations are < 0.100)\n",
      "    C(intercept, slope) = -0.867\n",
      "Fitting model to AES-256 Flash Write with 375 samples, from 16 to 6000 bytes in steps of 16.\n",
      "[[Model]]\n",
      "    Model(line)\n",
      "[[Fit Statistics]]\n",
      "    # fitting method   = leastsq\n",
      "    # function evals   = 9\n",
      "    # data points      = 375\n",
      "    # variables        = 2\n",
      "    chi-square         = 2.0628e-09\n",
      "    reduced chi-square = 5.5303e-12\n",
      "    Akaike info crit   = -9718.29718\n",
      "    Bayesian info crit = -9710.44333\n",
      "[[Variables]]\n",
      "    intercept:  3.7773e-06 +/- 2.4336e-07 (6.44%) (init = 0)\n",
      "    slope:      3.3733e-08 +/- 7.0113e-11 (0.21%) (init = 1)\n",
      "[[Correlations]] (unreported correlations are < 0.100)\n",
      "    C(intercept, slope) = -0.867\n",
      "[[Model]]\n",
      "    Model(line)\n",
      "[[Fit Statistics]]\n",
      "    # fitting method   = leastsq\n",
      "    # function evals   = 7\n",
      "    # data points      = 375\n",
      "    # variables        = 2\n",
      "    chi-square         = 5.2753e-04\n",
      "    reduced chi-square = 1.4143e-06\n",
      "    Akaike info crit   = -5048.83503\n",
      "    Bayesian info crit = -5040.98118\n",
      "[[Variables]]\n",
      "    intercept:  0.00286774 +/- 1.2307e-04 (4.29%) (init = 0)\n",
      "    slope:      2.2305e-05 +/- 3.5456e-08 (0.16%) (init = 1)\n",
      "[[Correlations]] (unreported correlations are < 0.100)\n",
      "    C(intercept, slope) = -0.867\n",
      "Fitting model to AES-256 Flash Read with 375 samples, from 16 to 6000 bytes in steps of 16.\n",
      "[[Model]]\n",
      "    Model(line)\n",
      "[[Fit Statistics]]\n",
      "    # fitting method   = leastsq\n",
      "    # function evals   = 10\n",
      "    # data points      = 375\n",
      "    # variables        = 2\n",
      "    chi-square         = 9.0798e-14\n",
      "    reduced chi-square = 2.4343e-16\n",
      "    Akaike info crit   = -13479.8997\n",
      "    Bayesian info crit = -13472.0459\n",
      "[[Variables]]\n",
      "    intercept: -4.0140e-08 +/- 1.6146e-09 (4.02%) (init = 0)\n",
      "    slope:      8.1562e-10 +/- 4.6517e-13 (0.06%) (init = 1)\n",
      "[[Correlations]] (unreported correlations are < 0.100)\n",
      "    C(intercept, slope) = -0.867\n",
      "[[Model]]\n",
      "    Model(line)\n",
      "[[Fit Statistics]]\n",
      "    # fitting method   = leastsq\n",
      "    # function evals   = 7\n",
      "    # data points      = 375\n",
      "    # variables        = 2\n",
      "    chi-square         = 2.9087e-07\n",
      "    reduced chi-square = 7.7981e-10\n",
      "    Akaike info crit   = -7862.49488\n",
      "    Bayesian info crit = -7854.64103\n",
      "[[Variables]]\n",
      "    intercept:  2.5345e-05 +/- 2.8899e-06 (11.40%) (init = 0)\n",
      "    slope:      2.1252e-06 +/- 8.3257e-10 (0.04%) (init = 1)\n",
      "[[Correlations]] (unreported correlations are < 0.100)\n",
      "    C(intercept, slope) = -0.867\n"
     ]
    }
   ],
   "source": [
    "# Fit lm\n",
    "if fit_lm:\n",
    "    model = None\n",
    "    if model is None:\n",
    "        def line(x, intercept, slope):\n",
    "            \"\"\"a line\"\"\"\n",
    "            return [intercept + slope*i for i in x]\n",
    "\n",
    "        model = Model(line)\n",
    "        params = model.make_params(intercept=0, slope=1)\n",
    "#         params['intercept'].set(min=0)\n",
    "    else:\n",
    "        params = model.params\n",
    "\n",
    "    model_results = {}\n",
    "    labels = analysis_config.get(\"labels\")\n",
    "    for parameter_name in parsed_data.keys():\n",
    "        length = len(parsed_data[parameter_name][result_types[0]])\n",
    "        x_step = parsed_data[parameter_name][\"x_step\"]\n",
    "        num_bytes = range(x_step, (length+1)*x_step, x_step)\n",
    "        if verbose:\n",
    "            print(\n",
    "                f\"Fitting model to {parameter_name} with {length} \" +\n",
    "                f\"samples, from {min(num_bytes)} to {max(num_bytes)} \"\n",
    "                f\"bytes in steps of {x_step}.\")\n",
    "        model_result = {}\n",
    "        for result_type in result_types:\n",
    "            model_result[result_type] = model.fit(\n",
    "                parsed_data[parameter_name][result_type], params,\n",
    "                x=num_bytes)\n",
    "            if verbose >= 2:\n",
    "                print(model_result[result_type].fit_report())\n",
    "            # Plot multiple view\n",
    "            if show_lm_plot >= 2:\n",
    "                fig, grid = model_result[result_type].plot(\n",
    "                    xlabel=f\"{labels[result_type]['x']} \" +\n",
    "                           f\"[{labels[result_type]['x_unit']}]\",\n",
    "                    ylabel=f\"{labels[result_type]['y']} \" +\n",
    "                           f\"[{labels[result_type]['y_unit']}]\")\n",
    "                fig.canvas.set_window_title(\n",
    "                    f\"Residuals of {parameter_name}\")\n",
    "                fig.tight_layout()\n",
    "                fig.show()\n",
    "            model_results[parameter_name] = model_result\n",
    "\n",
    "    # Plot single view\n",
    "    if show_lm_plot:\n",
    "        import matplotlib.pyplot as plt\n",
    "        fig = plt.figure(figsize=(9, 6))\n",
    "        fig.canvas.set_window_title(f\"Analysis {config.get('name')}\")\n",
    "        colors = dict(zip(result_types, ['r', 'b']))\n",
    "        line_styles = (\n",
    "            line_style for line_style in ('-', '--', '-.', ':') * 2)\n",
    "        # fig.suptitle(f\"Energy analysis of {config.get('name')}\")\n",
    "        ax = {}\n",
    "        ax[result_types[0]] = fig.add_subplot(1, 1, 1)\n",
    "        ax[result_types[1]] = ax[result_types[0]].twinx()\n",
    "        ax[result_types[0]].set_xlabel(\n",
    "            f\"{labels[result_types[0]]['x']} \" +\n",
    "            f\"[{labels[result_types[0]]['x_unit']}]\")\n",
    "        for result_type in result_types:\n",
    "            ax[result_type].set_ylabel(\n",
    "                f\"{labels[result_type]['y']} \" +\n",
    "                f\"[{labels[result_type]['y_unit']}]\",\n",
    "                color=colors[result_type])\n",
    "            ax[result_type].tick_params('y', colors=colors[result_type])\n",
    "\n",
    "        lines = []\n",
    "        title_str = \"\"\n",
    "        for parameter_name in parsed_data.keys():\n",
    "            length = len(parsed_data[parameter_name][result_types[0]])\n",
    "            x_step = parsed_data[parameter_name][\"x_step\"]\n",
    "            num_bytes = range(x_step, (length+1)*x_step, x_step)\n",
    "            model_result = {}\n",
    "            line_style = next(line_styles)\n",
    "            for result_type in result_types:\n",
    "                label = f\"{parameter_name} {labels[result_type]['y']}\"\n",
    "                lines += ax[result_type].plot(\n",
    "                    num_bytes, parsed_data[parameter_name][result_type],\n",
    "                    colors[result_type] + line_style, label=label)\n",
    "                title_str += f\"{label} \"\n",
    "                for param in params.keys():\n",
    "                    title_str += \"\".join(\n",
    "                        f\"{params[param].name.capitalize()}: \")\n",
    "                    title_str += \"\".join(\n",
    "                        f\"{model_results[parameter_name][result_type].params[param].value: .03} \")\n",
    "                    title_str += \"\".join(\n",
    "                        f\"{labels[result_type]['y_unit']}, \")\n",
    "                title_str = title_str[:-2] + \\\n",
    "                    f\" per {labels[result_type]['x_unit']}\\n\"\n",
    "        ax[result_types[0]].legend(handles=lines)\n",
    "        ax[result_types[0]].set_title(title_str[:-1])\n",
    "        # fig.tight_layout()\n",
    "        fig.tight_layout(rect=(0.05, 0.05, 1, 1))\n",
    "        fig.set_size_inches(8, 6, forward=True)\n",
    "        fig.show()\n",
    "\n",
    "    # Save model results to file\n",
    "    if dump_pickle:\n",
    "        model_results_dump = {}\n",
    "        for parameter_name in model_results.keys():\n",
    "            model_results_dump[parameter_name] = {}\n",
    "            for result_type in model_results[parameter_name].keys():\n",
    "                model_results_dump[parameter_name][result_type] = \\\n",
    "                    model_results[parameter_name][result_type].values\n",
    "\n",
    "        pickle.dump(model_results_dump, open(path.join(\n",
    "            path.curdir,\n",
    "            f\"{config_dict.get('file_name_base')}_model.p\"), \"wb\"))"
   ]
  },
  {
   "cell_type": "markdown",
   "metadata": {},
   "source": [
    "# Total from measurement"
   ]
  },
  {
   "cell_type": "code",
   "execution_count": 47,
   "metadata": {},
   "outputs": [
    {
     "name": "stdout",
     "output_type": "stream",
     "text": [
      "154.25706297386267 48256.23851946662\n"
     ]
    }
   ],
   "source": [
    "n_samples = 5995\n",
    "\n",
    "total_energy = sum(aes_encrypt_energy[:n_samples]) + sum(aes_flash_write_energy[:n_samples]) + sum(aes_flash_read_energy[:n_samples]) + sum(aes_decrypt_energy[:n_samples])\n",
    "total_time = sum(aes_encrypt_time_s[:n_samples]) + sum(aes_flash_write_time_s[:n_samples]) + sum(aes_flash_read_time_s[:n_samples]) + sum(aes_decrypt_time_s[:n_samples])\n",
    "print(total_energy, total_time)"
   ]
  },
  {
   "cell_type": "code",
   "execution_count": 48,
   "metadata": {},
   "outputs": [
    {
     "data": {
      "text/plain": [
       "[5.016162133333335,\n",
       " 5.7421856000000115,\n",
       " 5.742185599999991,\n",
       " 6.204200533333315,\n",
       " 6.798151466666679,\n",
       " 6.995773866666666,\n",
       " 7.655752533333338,\n",
       " 7.986280533333306,\n",
       " 8.382406399999958,\n",
       " 8.580224000000026,\n",
       " 9.173555199999962,\n",
       " 9.569535999999934,\n",
       " 10.032648533333354,\n",
       " 10.362669866666673,\n",
       " 10.691803733333282,\n",
       " 11.153549333333292,\n",
       " 16.23551786666666,\n",
       " 16.565598399999935,\n",
       " 17.226512533333292,\n",
       " 17.160693333333256,\n",
       " 17.88513280000004,\n",
       " 18.21545653333345,\n",
       " 18.679056533333128,\n",
       " 18.6783840000001,\n",
       " 19.337062400000104,\n",
       " 19.800588799999797,\n",
       " 20.130698666666834,\n",
       " 20.657332266666657,\n",
       " 21.053257600000098,\n",
       " 21.449133333333428,\n",
       " 21.583583999999604,\n",
       " 22.045093333333156,\n",
       " 27.124903999999894,\n",
       " 27.193459733333647,\n",
       " 27.78681066666655,\n",
       " 28.115402133332964,\n",
       " 28.183594133333266,\n",
       " 28.973354133333014,\n",
       " 29.368874666666485,\n",
       " 29.765313066666636,\n",
       " 30.1639498666666,\n",
       " 30.557787200000014,\n",
       " 30.88825386666661,\n",
       " 31.153103466666554,\n",
       " 31.480473599999833,\n",
       " 32.342351999999906,\n",
       " 32.6036533333336,\n",
       " 32.99876053333328,\n",
       " 37.88347946666626,\n",
       " 38.215219200000035,\n",
       " 38.608627199999916,\n",
       " 38.678500266665864,\n",
       " 39.20273280000019,\n",
       " 39.272033066667156,\n",
       " 40.06067786666678,\n",
       " 40.587936533333036,\n",
       " 40.65640960000039,\n",
       " 41.5141354666666,\n",
       " 41.579898133333515,\n",
       " 41.97658880000032,\n",
       " 42.37106613333275,\n",
       " 43.03277066666622,\n",
       " 43.4260736000005,\n",
       " 43.823677866666515,\n",
       " 49.03988373333324,\n",
       " 49.23585386666573,\n",
       " 49.23636906666618,\n",
       " 49.83026933333345,\n",
       " 50.488995199999835,\n",
       " 50.81786506666619,\n",
       " 51.217814399999284,\n",
       " 51.61046773333356,\n",
       " 51.94400906666674,\n",
       " 52.336723199999824,\n",
       " 52.867325333333596,\n",
       " 53.32584533333317,\n",
       " 53.527269333332846,\n",
       " 54.054033066667,\n",
       " 54.12269173333373,\n",
       " 54.31675253333212,\n",
       " 59.00584693333322,\n",
       " 59.52980800000063,\n",
       " 60.3262015999988,\n",
       " 60.19051359999761,\n",
       " 60.58973759999997,\n",
       " 61.050737066665306,\n",
       " 61.5767728000014,\n",
       " 62.03909173333244,\n",
       " 62.767553600000525,\n",
       " 62.89935626666754,\n",
       " 63.226822399998994,\n",
       " 63.6925621333333,\n",
       " 64.21563679999932,\n",
       " 64.5505919999998,\n",
       " 64.74511733333443,\n",
       " 65.34055626666645,\n",
       " 69.63198666666682,\n",
       " 70.28697546666507,\n",
       " 70.29227413333494,\n",
       " 70.8168346666671,\n",
       " 71.34641599999902,\n",
       " 71.87645120000053,\n",
       " 72.26676746666439,\n",
       " 72.53656586666501,\n",
       " 73.19384320000033,\n",
       " 73.58878720000028,\n",
       " 74.11939946666647,\n",
       " 74.44538773333242,\n",
       " 75.24319359999953,\n",
       " 75.24201439999968,\n",
       " 75.63565546666683,\n",
       " 75.96423786666762,\n",
       " 80.51951626666653,\n",
       " 80.7182623999978,\n",
       " 81.18092160000145,\n",
       " 81.51326079999954,\n",
       " 81.7710757333341,\n",
       " 82.56828000000117,\n",
       " 82.96360160000037,\n",
       " 83.49173653333341,\n",
       " 84.01462613333433,\n",
       " 84.54846986666541,\n",
       " 84.81026986666862,\n",
       " 84.94201013333402,\n",
       " 85.468834666667,\n",
       " 85.93353493333211,\n",
       " 86.45946346666733,\n",
       " 86.92215893333355,\n",
       " 91.34471199999794,\n",
       " 91.87211839999954,\n",
       " 92.00370719999995,\n",
       " 92.59878880000194,\n",
       " 93.19155466666906,\n",
       " 93.65420800000201,\n",
       " 94.04936960000043,\n",
       " 94.18154986666494,\n",
       " 94.90665493333417,\n",
       " 95.37231253333367,\n",
       " 95.96432053333537,\n",
       " 96.29353226666382,\n",
       " 96.4895866666673,\n",
       " 96.88907040000139,\n",
       " 97.68158613333178,\n",
       " 97.74797920000111,\n",
       " 101.83457173333288,\n",
       " 102.16995839999754,\n",
       " 102.69610240000127,\n",
       " 103.3555114666651,\n",
       " 103.95110666666518,\n",
       " 104.2135674666671,\n",
       " 105.0059146666662,\n",
       " 104.93522399999833,\n",
       " 105.73462986666726,\n",
       " 106.13039306667105,\n",
       " 106.45879306666473,\n",
       " 107.25039679999959,\n",
       " 107.77677920000173,\n",
       " 107.9109280000008,\n",
       " 108.36679786666537,\n",
       " 108.63879786666608,\n",
       " 112.72973066666836,\n",
       " 113.25641386666696,\n",
       " 113.78593066666376,\n",
       " 114.18112053333296,\n",
       " 114.51085653333415,\n",
       " 115.23489813333399,\n",
       " 115.10553013333258,\n",
       " 116.02807573333251,\n",
       " 116.41992479999885,\n",
       " 117.01893973333277,\n",
       " 117.21740960000027,\n",
       " 117.87431946666693,\n",
       " 118.1416901333332,\n",
       " 118.1416250666647,\n",
       " 118.53629919999875,\n",
       " 119.19748586666756,\n",
       " 123.48711573333304,\n",
       " 123.81769440000134,\n",
       " 124.21216640000132,\n",
       " 124.60932266666447,\n",
       " 125.07223786666621,\n",
       " 125.66350453333364,\n",
       " 126.39080799999824,\n",
       " 126.45687253333904,\n",
       " 127.24798400000381,\n",
       " 127.7778565333314,\n",
       " 127.90884159999294,\n",
       " 128.7004992000007,\n",
       " 128.83202453333098,\n",
       " 129.69194933332773,\n",
       " 129.6243093333338,\n",
       " 130.02090346666506,\n",
       " 134.37693173333187,\n",
       " 134.64069119999778,\n",
       " 135.1033391999934,\n",
       " 135.62804000000384,\n",
       " 135.69758399999898,\n",
       " 136.35797066666555,\n",
       " 137.01165280000183,\n",
       " 137.34771520000066,\n",
       " 137.67668053333182,\n",
       " 137.93670400000124,\n",
       " 138.53306506666385,\n",
       " 138.79614826667108,\n",
       " 139.45750719999594,\n",
       " 140.05253493333214,\n",
       " 140.7119034666664,\n",
       " 140.51449759999812,\n",
       " 144.41039733333128,\n",
       " 144.93376800000135,\n",
       " 145.6623189333328,\n",
       " 146.12156960000178,\n",
       " 147.30997439999882,\n",
       " 146.84978400000048,\n",
       " 147.77260746667054,\n",
       " 147.97310613332826,\n",
       " 148.63400746666144,\n",
       " 148.76084160000147,\n",
       " 149.35956213333412,\n",
       " 149.55659786667397,\n",
       " 150.1515040000001,\n",
       " 150.48290613333037,\n",
       " 151.0053151999955,\n",
       " 151.60610400000252,\n",
       " 155.42777279999953,\n",
       " 156.02222613333439,\n",
       " 156.818390399998,\n",
       " 156.747365333338,\n",
       " 156.9513829333289,\n",
       " 157.93797653333286,\n",
       " 158.398434133332,\n",
       " 158.86452213333868,\n",
       " 159.38780586666823,\n",
       " 159.52425866667141,\n",
       " 159.78387253333182,\n",
       " 160.24611733333316,\n",
       " 160.91003306666352,\n",
       " 161.10191573333665,\n",
       " 161.83200906666784,\n",
       " 162.09400426666676,\n",
       " 165.72851733333138,\n",
       " 166.5190741333369,\n",
       " 166.71505813333098,\n",
       " 167.24602400000066,\n",
       " 168.03429439999817,\n",
       " 168.69681706667095,\n",
       " 169.28949599999754,\n",
       " 169.16007306666714,\n",
       " 170.0822026666664,\n",
       " 170.4117082666663,\n",
       " 171.14163893333156,\n",
       " 171.07095679999773,\n",
       " 171.79804906666618,\n",
       " 171.995437333333,\n",
       " 172.19885066666407,\n",
       " 172.59087573333431,\n",
       " 176.4180352000011,\n",
       " 177.08038186666286,\n",
       " 177.4062794666662,\n",
       " 177.01534773333094,\n",
       " 178.5300469333322,\n",
       " 178.99227893333247,\n",
       " 179.25346613333915,\n",
       " 180.18267093333407,\n",
       " 180.64049493333556,\n",
       " 180.90976426666572,\n",
       " 180.84243839999914,\n",
       " 181.6983946666646,\n",
       " 182.0960453333349,\n",
       " 182.15802079999932,\n",
       " 181.96479946666244,\n",
       " 183.21414933333813,\n",
       " 186.8485925333303,\n",
       " 187.4407082666778,\n",
       " 187.77132746667036,\n",
       " 188.49628906666283,\n",
       " 189.4871850666675,\n",
       " 189.68298133333406,\n",
       " 189.8837610666746,\n",
       " 190.34250399999308,\n",
       " 190.87587680001405,\n",
       " 191.20076266666786,\n",
       " 191.93303733332812,\n",
       " 191.99313226666703,\n",
       " 192.5247253333353,\n",
       " 192.7847013333377,\n",
       " 193.18536053333446,\n",
       " 193.24728426666837,\n",
       " 197.53958346665712,\n",
       " 198.06633653333705,\n",
       " 198.3984613333334,\n",
       " 198.92534826666264,\n",
       " 199.38798773333843,\n",
       " 199.71647413334637,\n",
       " 200.44524213331982,\n",
       " 200.70602773332524,\n",
       " 201.50100053334796,\n",
       " 202.02584479999075,\n",
       " 201.89699039999454,\n",
       " 202.35443893332672,\n",
       " 203.349044266659,\n",
       " 203.27781493332964,\n",
       " 203.41415413332697,\n",
       " 204.40085813332587,\n",
       " 208.034003199991,\n",
       " 209.2183189333383,\n",
       " 209.75022986667113,\n",
       " 209.68200373333445,\n",
       " 210.1447194666619,\n",
       " 210.27698613333,\n",
       " 211.00412639999178,\n",
       " 211.26563946667432,\n",
       " 211.53316320000926,\n",
       " 211.85588800000943,\n",
       " 213.31371786666153,\n",
       " 213.2418997333474,\n",
       " 213.77555093333456,\n",
       " 214.5017343999953,\n",
       " 214.10459040000518,\n",
       " 214.56925226667067,\n",
       " 219.4490127999984,\n",
       " 219.45290506666026,\n",
       " 220.2429056000028,\n",
       " 220.70682879999026,\n",
       " 221.09833173333016,\n",
       " 220.9028074666719,\n",
       " 221.62356213333823,\n",
       " 221.76061280000425,\n",
       " 222.42071733333546,\n",
       " 222.48260106665896,\n",
       " 222.6863557333303,\n",
       " 223.34351519999274,\n",
       " 224.60021440000588,\n",
       " 224.00318986665724,\n",
       " 224.7978021333239,\n",
       " 225.38875679999393,\n",
       " 229.6161952000091,\n",
       " 229.8807754666541,\n",
       " 230.14123946666132,\n",
       " 230.60603946666447,\n",
       " 231.065055466658,\n",
       " 231.3982591999988,\n",
       " 232.1220714666694,\n",
       " 232.3859909333379,\n",
       " 232.71885493333144,\n",
       " 233.77073333333698,\n",
       " 233.90571999999565,\n",
       " 234.23229333333495,\n",
       " 234.96070453334283,\n",
       " 235.4251498666713,\n",
       " 235.6187967999972,\n",
       " 235.75016640000257,\n",
       " 239.58277973334674,\n",
       " 239.64802773333105,\n",
       " 240.76936106666835,\n",
       " 241.6919872000065,\n",
       " 241.16706400000254,\n",
       " 242.48322613333073,\n",
       " 242.2215786666655,\n",
       " 242.4842501333231,\n",
       " 242.74775679999294,\n",
       " 243.3437434666672,\n",
       " 243.737467199999,\n",
       " 244.13580266666912,\n",
       " 244.86302453333764,\n",
       " 245.58280320000136,\n",
       " 245.98500746667185,\n",
       " 245.5188229333416,\n",
       " 250.14206453334253,\n",
       " 249.9448191999889,\n",
       " 250.40622613333596,\n",
       " 251.06840799999475,\n",
       " 251.6565482666664,\n",
       " 251.52761013333702,\n",
       " 252.05639733333385]"
      ]
     },
     "execution_count": 48,
     "metadata": {},
     "output_type": "execute_result"
    }
   ],
   "source": [
    "          [e + w + r + d for (e,w,r,d) in zip(aes_encrypt_energy, aes_flash_write_energy, aes_flash_read_energy, aes_decrypt_energy)],\n",
    "          [e + w + r + d for (e,w,r,d) in zip(aes_encrypt_time_s, aes_flash_write_time_s, aes_flash_read_time_s, aes_decrypt_time_s)]"
   ]
  },
  {
   "cell_type": "code",
   "execution_count": null,
   "metadata": {},
   "outputs": [],
   "source": []
  },
  {
   "cell_type": "code",
   "execution_count": null,
   "metadata": {},
   "outputs": [],
   "source": []
  },
  {
   "cell_type": "code",
   "execution_count": null,
   "metadata": {},
   "outputs": [],
   "source": []
  },
  {
   "cell_type": "code",
   "execution_count": null,
   "metadata": {},
   "outputs": [],
   "source": []
  },
  {
   "cell_type": "code",
   "execution_count": null,
   "metadata": {},
   "outputs": [],
   "source": []
  },
  {
   "cell_type": "code",
   "execution_count": null,
   "metadata": {},
   "outputs": [],
   "source": []
  }
 ],
 "metadata": {
  "kernelspec": {
   "display_name": "Python 3",
   "language": "python",
   "name": "python3"
  },
  "language_info": {
   "codemirror_mode": {
    "name": "ipython",
    "version": 3
   },
   "file_extension": ".py",
   "mimetype": "text/x-python",
   "name": "python",
   "nbconvert_exporter": "python",
   "pygments_lexer": "ipython3",
   "version": "3.8.1"
  }
 },
 "nbformat": 4,
 "nbformat_minor": 4
}

{
 "cells": [
  {
   "cell_type": "code",
   "execution_count": 1,
   "metadata": {},
   "outputs": [],
   "source": [
    "# %matplotlib ipympl\n",
    "# %matplotlib inline\n",
    "%matplotlib wx"
   ]
  },
  {
   "cell_type": "code",
   "execution_count": 2,
   "metadata": {},
   "outputs": [],
   "source": [
    "import matplotlib.pyplot as plt\n",
    "import numpy as np"
   ]
  },
  {
   "cell_type": "markdown",
   "metadata": {},
   "source": [
    "## Load Pickles of checkpoint charges per byte"
   ]
  },
  {
   "cell_type": "code",
   "execution_count": 3,
   "metadata": {},
   "outputs": [],
   "source": [
    "from os import path, pardir, scandir\n",
    "import sys\n",
    "import pickle\n",
    "from math import ceil"
   ]
  },
  {
   "cell_type": "code",
   "execution_count": 4,
   "metadata": {},
   "outputs": [],
   "source": [
    "from pydgilib_extra import LOGGER_CSV"
   ]
  },
  {
   "cell_type": "code",
   "execution_count": 5,
   "metadata": {},
   "outputs": [],
   "source": [
    "sys.path.insert(0,'../..')"
   ]
  },
  {
   "cell_type": "code",
   "execution_count": 6,
   "metadata": {},
   "outputs": [],
   "source": [
    "measure_security = False\n",
    "show_lm_plot=2\n",
    "measure_workloads = True\n",
    "repetitions = 100"
   ]
  },
  {
   "cell_type": "code",
   "execution_count": 7,
   "metadata": {},
   "outputs": [],
   "source": [
    "from experiments.checkpoint_energy import CheckpointEnergy"
   ]
  },
  {
   "cell_type": "code",
   "execution_count": 8,
   "metadata": {},
   "outputs": [],
   "source": [
    "text_as_size = False\n",
    "security_method = 'wolfCrypt'\n",
    "\n",
    "#checkpoint_energy = CheckpointEnergy()\n",
    "# checkpoint_energy = CheckpointEnergy(security_projects=['AES_Flash', 'TrustZone_Flash', 'No_Security_Flash'])\n",
    "checkpoint_energy = CheckpointEnergy(workload_folder = \"../../Workloads\"\n",
    "                                     ,security_projects=['AES-256_wolfSSL_library_O1_4Mhz',\n",
    "                                                        'AES-256_wolfSSL_library_O1_12Mhz',\n",
    "                                                        'AES-256_wolfSSL_library_O3_4Mhz',\n",
    "                                                        'AES-256_wolfSSL_library_O3_12Mhz'], text_as_size=text_as_size)"
   ]
  },
  {
   "cell_type": "code",
   "execution_count": 9,
   "metadata": {},
   "outputs": [
    {
     "data": {
      "text/plain": [
       "['AES-256_wolfSSL_library_O1_4Mhz',\n",
       " 'AES-256_wolfSSL_library_O1_12Mhz',\n",
       " 'AES-256_wolfSSL_library_O3_4Mhz',\n",
       " 'AES-256_wolfSSL_library_O3_12Mhz']"
      ]
     },
     "execution_count": 9,
     "metadata": {},
     "output_type": "execute_result"
    }
   ],
   "source": [
    "checkpoint_energy.security_projects"
   ]
  },
  {
   "cell_type": "code",
   "execution_count": 10,
   "metadata": {},
   "outputs": [
    {
     "data": {
      "text/plain": [
       "['BitCounting', 'Dijkstra', 'FFT', 'Sorting']"
      ]
     },
     "execution_count": 10,
     "metadata": {},
     "output_type": "execute_result"
    }
   ],
   "source": [
    "checkpoint_energy.workload_projects"
   ]
  },
  {
   "cell_type": "markdown",
   "metadata": {},
   "source": [
    "### Smoothen?"
   ]
  },
  {
   "cell_type": "markdown",
   "metadata": {},
   "source": [
    "Get lookup function"
   ]
  },
  {
   "cell_type": "code",
   "execution_count": 11,
   "metadata": {},
   "outputs": [],
   "source": [
    "get_security_energy = checkpoint_energy.get_security_energy_function()"
   ]
  },
  {
   "cell_type": "code",
   "execution_count": 12,
   "metadata": {},
   "outputs": [
    {
     "name": "stdout",
     "output_type": "stream",
     "text": [
      "AES-256_wolfSSL_library_O1_4Mhz {'AES-256 Encrypt': 7.959586634234418e-05, 'AES-256 Decrypt': 7.829687143227047e-05, 'AES-256 Flash Write': 7.824490743531724e-05, 'AES-256 Flash Read': 2.0165258727368885e-06}\n",
      "AES-256_wolfSSL_library_O1_4Mhz {'AES-256 Encrypt': 7.907798980912079e-05, 'AES-256 Decrypt': 7.776228646349667e-05, 'AES-256 Flash Write': 7.438760149774559e-05, 'AES-256 Flash Read': 2.0013886860642058e-06}\n",
      "AES-256_wolfSSL_library_O1_4Mhz {'AES-256 Encrypt': 3.8755611818398727, 'AES-256 Decrypt': 3.8090305548065793, 'AES-256 Flash Write': 3.441937940049018, 'AES-256 Flash Read': 0.10022462861633885}\n",
      "AES-256_wolfSSL_library_O1_12Mhz {'AES-256 Encrypt': 7.295065429925719e-05, 'AES-256 Decrypt': 7.226817450872218e-05, 'AES-256 Flash Write': 9.044925941860011e-05, 'AES-256 Flash Read': 1.7774540844278908e-06}\n",
      "AES-256_wolfSSL_library_O1_12Mhz {'AES-256 Encrypt': 7.237110522668338e-05, 'AES-256 Decrypt': 7.172229360776549e-05, 'AES-256 Flash Write': 8.620965075807498e-05, 'AES-256 Flash Read': 1.7171144684760664e-06}\n",
      "AES-256_wolfSSL_library_O1_12Mhz {'AES-256 Encrypt': 3.544403805251188, 'AES-256 Decrypt': 3.4959504175722658, 'AES-256 Flash Write': 3.956779707894797, 'AES-256 Flash Read': 0.08809846759037589}\n",
      "AES-256_wolfSSL_library_O3_4Mhz {'AES-256 Encrypt': 7.261427876308227e-05, 'AES-256 Decrypt': 7.102308499852477e-05, 'AES-256 Flash Write': 7.665744821875083e-05, 'AES-256 Flash Read': 1.8856875119547604e-06}\n",
      "AES-256_wolfSSL_library_O3_4Mhz {'AES-256 Encrypt': 7.196636768220832e-05, 'AES-256 Decrypt': 7.049561836359485e-05, 'AES-256 Flash Write': 7.279944512670834e-05, 'AES-256 Flash Read': 1.8975498448274898e-06}\n",
      "AES-256_wolfSSL_library_O3_4Mhz {'AES-256 Encrypt': 3.5232199110626374, 'AES-256 Decrypt': 3.4565337078727065, 'AES-256 Flash Write': 3.36972960551208, 'AES-256 Flash Read': 0.09480579261828108}\n",
      "AES-256_wolfSSL_library_O3_12Mhz {'AES-256 Encrypt': 6.705208122955953e-05, 'AES-256 Decrypt': 6.403796715573539e-05, 'AES-256 Flash Write': 8.828157934186435e-05, 'AES-256 Flash Read': 1.5266125181074235e-06}\n",
      "AES-256_wolfSSL_library_O3_12Mhz {'AES-256 Encrypt': 6.64700469747025e-05, 'AES-256 Decrypt': 6.360721684017252e-05, 'AES-256 Flash Write': 8.308103456240503e-05, 'AES-256 Flash Read': 1.55622373575801e-06}\n",
      "AES-256_wolfSSL_library_O3_12Mhz {'AES-256 Encrypt': 3.2868702374618977, 'AES-256 Decrypt': 3.1490656859518635, 'AES-256 Flash Write': 3.889326585947291, 'AES-256 Flash Read': 0.08104393801622989}\n",
      "None {'None': 0}\n",
      "None {'None': 0}\n",
      "None {'None': 0}\n"
     ]
    }
   ],
   "source": [
    "for security_type in checkpoint_energy.security_projects + [\"None\"]:\n",
    "    print(security_type, get_security_energy(security_type,2048))\n",
    "    print(security_type, get_security_energy(security_type,2048, use_model=True))\n",
    "    print(security_type, get_security_energy(security_type,100000000))"
   ]
  },
  {
   "cell_type": "code",
   "execution_count": 13,
   "metadata": {},
   "outputs": [],
   "source": [
    "import numpy as np\n",
    "from math import sqrt, floor\n",
    "import matplotlib.pyplot as plt\n",
    "import matplotlib.animation as animation\n",
    "import matplotlib as mpl\n",
    "import matplotlib.patches as mpatches\n",
    "import matplotlib.ticker as tck\n"
   ]
  },
  {
   "cell_type": "code",
   "execution_count": 14,
   "metadata": {},
   "outputs": [],
   "source": [
    "c_scale = 1e3\n",
    "j_scale = 1e6\n",
    "t_scale = 1e3\n",
    "voltage = 3.31"
   ]
  },
  {
   "cell_type": "code",
   "execution_count": 15,
   "metadata": {},
   "outputs": [
    {
     "data": {
      "text/plain": [
       "['AES-256_wolfSSL_library_O1_4Mhz',\n",
       " 'AES-256_wolfSSL_library_O1_12Mhz',\n",
       " 'AES-256_wolfSSL_library_O3_4Mhz',\n",
       " 'AES-256_wolfSSL_library_O3_12Mhz']"
      ]
     },
     "execution_count": 15,
     "metadata": {},
     "output_type": "execute_result"
    }
   ],
   "source": [
    "checkpoint_energy.security_projects"
   ]
  },
  {
   "cell_type": "code",
   "execution_count": 16,
   "metadata": {},
   "outputs": [],
   "source": [
    "workload_colors = {'BitCounting':'tab:blue', 'Dijkstra':'tab:green', 'FFT':'tab:red', 'Sorting':'tab:orange'}\n",
    "# security_colors = {'AES_Flash':'#85e085', 'TrustZone_Flash':'#66b3ff', 'No_Security_Flash':'#b3b3cc'}\n",
    "security_colors = {'AES-256_wolfSSL_library_O1_4Mhz': '#C8B94E',#'#FFFFFF', \n",
    "                   'AES-256_wolfSSL_library_O1_12Mhz':'#C8B94E',#'#D3D3D3',\n",
    "                   'AES-256_wolfSSL_library_O3_4Mhz':'#C8B94E',\n",
    "                   'AES-256_wolfSSL_library_O3_12Mhz':'#C8B94E'}\n",
    "colors = {**workload_colors, **security_colors}"
   ]
  },
  {
   "cell_type": "code",
   "execution_count": 17,
   "metadata": {},
   "outputs": [],
   "source": [
    "security_projects=[ 'AES-256_wolfSSL_library_O1_4Mhz',\n",
    "                    'AES-256_wolfSSL_library_O1_12Mhz',\n",
    "                    'AES-256_wolfSSL_library_O3_4Mhz',\n",
    "                    'AES-256_wolfSSL_library_O3_12Mhz']"
   ]
  },
  {
   "cell_type": "code",
   "execution_count": 18,
   "metadata": {},
   "outputs": [],
   "source": [
    "hatches = ['-', '+', 'x', '\\\\', '*', 'o', 'O', '.']"
   ]
  },
  {
   "cell_type": "code",
   "execution_count": 99,
   "metadata": {},
   "outputs": [],
   "source": [
    "section_hatches = {'AES Encrypt': '\\\\\\\\', \n",
    "                   'AES Decrypt': '//', \n",
    "                   'AES-256 Encrypt': '\\\\\\\\', \n",
    "                   'AES-256 Decrypt': '//', \n",
    "                   'AES-128 Encrypt': '\\\\\\\\', \n",
    "                   'AES-128 Decrypt': '//', \n",
    "                   'Flash Write': 'xx', \n",
    "                   'Flash Read': '/////', \n",
    "                   'AES-256 Flash Write': 'xx', \n",
    "                   'AES-256 Flash Read': '/////', \n",
    "                   'AES-128 Flash Write': 'xx', \n",
    "                   'AES-128 Flash Read': '/////', \n",
    "                   'No Security Flash Write': 'xx', \n",
    "                   'No Security Flash Read': '/////', \n",
    "                   'TrustZone Flash Write': 'xx', \n",
    "                   'TrustZone Flash Read': '/////', \n",
    "                   'Bit Counting': 'ooo', \n",
    "                   'Create Graph': '0', \n",
    "                   'Dijkstra': 'ooo',\n",
    "                   'Allocate FFT': '0',\n",
    "                   'FFT': 'ooo',\n",
    "                   'Free FFT': '...',\n",
    "                   'Sorting': 'ooo'\n",
    "                  }\n",
    "\n",
    "\n",
    "circ1 = mpatches.Patch( facecolor='None', hatch='\\\\\\\\',label='AES-256 CBC Mode Encrypt')\n",
    "circ2 = mpatches.Patch( facecolor='None', hatch='//',label='AES-256 CBC Mode Decrypt')\n",
    "circ3 = mpatches.Patch( facecolor='None', hatch='xx',label='Flash Write')\n",
    "circ4 = mpatches.Patch( facecolor='None', hatch='/////',label='Flash Read')\n",
    "#circ5 = mpatches.Patch( facecolor='None',label='Least Code Optimization')        "
   ]
  },
  {
   "cell_type": "code",
   "execution_count": 106,
   "metadata": {},
   "outputs": [],
   "source": [
    "figsize = (3, 3)\n",
    "fig_leg = plt.figure(figsize=figsize, dpi=300)\n",
    "ax_leg = fig_leg.add_subplot(111)\n",
    "# add the legend from the previous axes\n",
    "leg = ax_leg.legend(handles = [circ1,circ2,circ3, circ4],loc='center',prop={'size': 12}, title=\"Legend\", title_fontsize=12, ncol=2, fancybox =False, scatterpoints = 7)\n",
    "leg.get_frame().set_edgecolor('black')\n",
    "leg.get_frame().set_linewidth(1)\n",
    "\n",
    "ax_leg.autoscale(enable=True) \n",
    "\n",
    "#ax_leg.set(adjustable=\"datalim\")\n",
    "# hide the axes frame and the x/y labels\n",
    "ax_leg.axis('off')\n",
    "#exportLegend = plt.legend(handles = [circ1,circ2,circ3, circ4],loc=6, prop={'size': 14})\n",
    "#plt.gca().set_axis_off()\n",
    "#plt.subplots_adjust(top = 1, bottom = 0, right = 1, left = 0, \n",
    "      #      hspace = 0, wspace = 0)\n",
    "#plt.margins(0,0)\n",
    "#plt.gca().xaxis.set_major_locator(plt.NullLocator())\n",
    "#plt.gca().yaxis.set_major_locator(plt.NullLocator())\n",
    "plt.gcf().set_size_inches(4.8, 0.9)\n",
    "plt.tight_layout()\n",
    " \n",
    "plt.savefig('legend.svg', bbox_inches='tight')\n",
    "plt.savefig('legend.pdf')\n",
    "fig_leg.show() "
   ]
  },
  {
   "cell_type": "code",
   "execution_count": 66,
   "metadata": {},
   "outputs": [],
   "source": [
    "edgecolor = 'black'\n",
    "linewidth = 0.8"
   ]
  },
  {
   "cell_type": "code",
   "execution_count": null,
   "metadata": {},
   "outputs": [],
   "source": []
  },
  {
   "cell_type": "code",
   "execution_count": 21,
   "metadata": {},
   "outputs": [],
   "source": [
    "xLabels = ['O1\\n4MHz','O1\\n12MHz','O3\\n4MHz',\n",
    "            'O3\\n12MHz']"
   ]
  },
  {
   "cell_type": "code",
   "execution_count": 22,
   "metadata": {},
   "outputs": [],
   "source": [
    "#security_projects=['AES-128_Flash', 'AES-256_Flash', 'TrustZone_Flash', 'No_Security_Flash']"
   ]
  },
  {
   "cell_type": "code",
   "execution_count": 23,
   "metadata": {},
   "outputs": [
    {
     "data": {
      "text/plain": [
       "1533.0368501531907"
      ]
     },
     "execution_count": 23,
     "metadata": {},
     "output_type": "execute_result"
    }
   ],
   "source": [
    "totalEnergy = get_security_energy('AES-256_wolfSSL_library_O1_4Mhz',4096, use_model=True)\n",
    "sum =0\n",
    "for evl in totalEnergy.values():\n",
    "    sum+=evl*j_scale*voltage\n",
    "sum    "
   ]
  },
  {
   "cell_type": "code",
   "execution_count": 107,
   "metadata": {},
   "outputs": [],
   "source": [
    "class WorkloadPlotter(object):\n",
    "    def __init__(self, checkpoint_energy=CheckpointEnergy(workload_folder = \"../../Workloads\",security_projects=security_projects), fig=None, ax=None, show=False):\n",
    "        self.checkpoint_energy = checkpoint_energy\n",
    "        self.fig = fig\n",
    "        self.ax = ax\n",
    "        if show:\n",
    "            self.make_fig()\n",
    "            self.update_fig()\n",
    "            \n",
    "        \n",
    "    def make_fig(self, *args, **kwargs):\n",
    "        self.fig, self.ax = plt.subplots(*args, **kwargs)\n",
    "    \n",
    "    def update_fig(self):\n",
    "        opacity = 0.8\n",
    "        self.ax.cla()\n",
    "        \n",
    "        self.bars = {}\n",
    "        for index, workload_project in enumerate(self.checkpoint_energy.workload_projects):\n",
    "            self.bars[workload_project] = {}\n",
    "            section_averages = self.checkpoint_energy.get_workload_average(workload_project)\n",
    "            section_stds = self.checkpoint_energy.get_workload_std(workload_project)\n",
    "            bottom = 0\n",
    "            for section in section_averages.keys():\n",
    "                self.bars[workload_project][section] = self.ax.bar(index, section_averages[section]*j_scale*voltage, color=colors[workload_project], \n",
    "                                                                   label=section, alpha=opacity, yerr=section_stds[section]*j_scale*voltage, bottom=bottom, \n",
    "                                                                   hatch=section_hatches[section], linewidth=linewidth, edgecolor=edgecolor)\n",
    "                bottom += section_averages[section]*j_scale*voltage\n",
    "        \n",
    "        self.ax.set_xticks(range(len(self.checkpoint_energy.workload_projects)))\n",
    "        self.ax.set_xticklabels(self.checkpoint_energy.workload_projects)\n",
    "        self.ax.legend()\n",
    "#         self.ax.set_yscale('log')\n",
    "        # self.ax.grid()\n",
    "\n",
    "        self.ax.set_xlabel('Workload')\n",
    "        self.ax.set_ylabel('Energy [$\\mu$J]')\n",
    "        self.ax.set_title('Energy per Section')\n",
    "        self.fig.canvas.set_window_title('Energy per Workload')\n",
    "        self.fig.show()"
   ]
  },
  {
   "cell_type": "code",
   "execution_count": 108,
   "metadata": {},
   "outputs": [],
   "source": [
    "workload_plotter = WorkloadPlotter(checkpoint_energy, show=True)"
   ]
  },
  {
   "cell_type": "code",
   "execution_count": 26,
   "metadata": {},
   "outputs": [],
   "source": [
    "# workload_plotter.make_fig()"
   ]
  },
  {
   "cell_type": "code",
   "execution_count": 27,
   "metadata": {},
   "outputs": [],
   "source": [
    "# workload_plotter.update_fig()"
   ]
  },
  {
   "cell_type": "code",
   "execution_count": 28,
   "metadata": {},
   "outputs": [
    {
     "data": {
      "text/plain": [
       "['AES-256_wolfSSL_library_O1_4Mhz',\n",
       " 'AES-256_wolfSSL_library_O1_12Mhz',\n",
       " 'AES-256_wolfSSL_library_O3_4Mhz',\n",
       " 'AES-256_wolfSSL_library_O3_12Mhz']"
      ]
     },
     "execution_count": 28,
     "metadata": {},
     "output_type": "execute_result"
    }
   ],
   "source": [
    "checkpoint_energy.security_projects\n",
    "#checkpoint_energy.get_security_energy('AES-256_Crypto-Accelerator', 4096)"
   ]
  },
  {
   "cell_type": "code",
   "execution_count": 29,
   "metadata": {},
   "outputs": [],
   "source": [
    "def set_size(w,h, ax=None):\n",
    "    \"\"\" w, h: width, height in inches \"\"\"\n",
    "    if not ax: ax=plt.gca()\n",
    "    l = ax.figure.subplotpars.left\n",
    "    r = ax.figure.subplotpars.right\n",
    "    t = ax.figure.subplotpars.top\n",
    "    b = ax.figure.subplotpars.bottom\n",
    "    figw = float(w)/(r-l)\n",
    "    figh = float(h)/(t-b)\n",
    "    ax.figure.set_size_inches(figw, figh)\n"
   ]
  },
  {
   "cell_type": "code",
   "execution_count": 30,
   "metadata": {},
   "outputs": [],
   "source": [
    "def set_xmargin(ax, left=0.0, right=0.3):\n",
    "    ax.set_xmargin(0)\n",
    "    ax.autoscale_view()\n",
    "    lim = ax.get_xlim()\n",
    "    delta = np.diff(lim)\n",
    "    left = lim[0] - delta*left\n",
    "    right = lim[1] + delta*right\n",
    "    ax.set_xlim(left,right)"
   ]
  },
  {
   "cell_type": "code",
   "execution_count": 31,
   "metadata": {},
   "outputs": [],
   "source": [
    "class SecurityPlotter(object):\n",
    "    def __init__(self, checkpoint_energy=CheckpointEnergy(workload_folder = \"../../Workloads\",security_projects=security_projects), num_bytes=4096, fig=None, ax=None, show=0, use_model=False):\n",
    "        self.checkpoint_energy = checkpoint_energy\n",
    "        self.fig = fig\n",
    "        self.ax = ax\n",
    "        self.num_bytes = num_bytes\n",
    "        self.use_model = use_model\n",
    "        if show:\n",
    "            self.make_fig(figsize=(12.8, 6.8),dpi= 300) #width, height in inches\n",
    "            self.update_fig()\n",
    "            if show >= 2:\n",
    "                self.animate()\n",
    "        \n",
    "    def make_fig(self, *args, **kwargs):\n",
    "        self.fig, self.ax = plt.subplots(*args, **kwargs)\n",
    "    \n",
    "    def update_fig(self, num_bytes=None):\n",
    "        if num_bytes is None:\n",
    "            num_bytes = self.num_bytes\n",
    "        opacity = 0.8\n",
    "        self.ax.cla()\n",
    "#         self.ax.grid(zorder=0)\n",
    "        self.ax.yaxis.grid(True, alpha=0.3)\n",
    "        \n",
    "        self.bars = {}\n",
    "        for index, security_project in enumerate(self.checkpoint_energy.security_projects):\n",
    "            self.bars[security_project] = {}\n",
    "            security_energy = self.checkpoint_energy.get_security_energy(security_project, num_bytes, use_model=self.use_model)\n",
    "            #print(f'{security_energy}')\n",
    "            bottom = 0\n",
    "            sectionEnergies = get_security_energy(security_project,num_bytes, use_model=self.use_model)\n",
    "            totalEnergy = 0\n",
    "            for sectionEnergy in sectionEnergies.values():\n",
    "                totalEnergy+=sectionEnergy * j_scale * voltage\n",
    "            #print(f'{totalEnergy}')\n",
    "            for section in security_energy.keys():\n",
    "                self.bars[security_project][section] = self.ax.bar(index, security_energy[section] * j_scale*voltage, color=colors[security_project], \n",
    "                                                                   label=section, width=0.4, alpha=opacity, bottom=bottom, zorder=3,\n",
    "                                                                   hatch=section_hatches[section], linewidth=linewidth, edgecolor=edgecolor)\n",
    "                sectionValue = security_energy[section] * j_scale*voltage\n",
    "                accumulatedValue = sectionValue + bottom\n",
    "                yValue = (totalEnergy - accumulatedValue/2)\n",
    "                bar = self.bars[security_project][section].get_children()\n",
    "                print(f'{index} : {sectionValue}')\n",
    "                self.ax.text(x=index + (bar[0].get_width()*1.01 ) , y= bottom + sectionValue/2 -15 , \n",
    "                             s=f\"{round(sectionValue)}\", ha = 'center', va = 'center', fontdict=dict(fontsize=11))\n",
    "                bottom += security_energy[section]*j_scale*voltage\n",
    "                \n",
    "            self.ax.text(x=index + 0.05 , y =bottom+70 , s=f\"{round(bottom, 2)}\" ,bbox=dict(boxstyle=\"square, pad=0.03\", fc=\"none\", ec=\"gray\", zorder=0.9, lw=0.5),\n",
    "                         va='baseline', horizontalalignment='center', fontdict=dict(fontsize=12))\n",
    "    \n",
    "            print(f'{security_project}: {bottom}')        \n",
    "        \n",
    "        self.ax.set_xticks(range(len(self.checkpoint_energy.security_projects)) )\n",
    "     ##   self.ax.set_xticklabels([s.replace('_',' ') for s in self.checkpoint_energy.security_projects])\n",
    "        self.ax.set_xticklabels(xLabels, fontdict=dict(fontsize=12))\n",
    "        self.ax.yaxis.set_tick_params(labelsize=12)\n",
    "\n",
    "     #   self.ax.set_xticklabels([\" \".join(s.split('_')[:-1]) for s in self.checkpoint_energy.security_projects])\n",
    "       \n",
    "      #  self.ax.set_yticks( fontdict=dict(fontsize=4))\n",
    "      #  self.ax.legend(handles = [circ1,circ2,circ3, circ4],loc=6, prop={'size': 4})\n",
    "       \n",
    "      #  self.ax.set_yscale('log')\n",
    "\n",
    "       # self.ax.set_xlabel('\\nDifferent AES-Modes execution on AES-Module')\n",
    "        self.ax.set_ylabel('Energy [$\\mu$J]', fontdict=dict(fontsize=12))\n",
    "        self.ax.set_title(f'(b) Security: wolfCrypt (Software-based)' ,  fontdict=dict(fontsize=12))\n",
    "        self.fig.canvas.set_window_title('Energy_per_parameter_mbedTLS')\n",
    "        self.ax.margins( y= 0.12)\n",
    "        self.ax.yaxis.set_minor_locator(tck.AutoMinorLocator())\n",
    "        \n",
    "       # self.ax.set(adjustable=\"datalim\")\n",
    "        #ratio = 0.5\n",
    "        #xleft, xright = self.ax.get_xlim()\n",
    "        #ybottom, ytop = self.ax.get_ylim()\n",
    "        # the abs method is used to make sure that all numbers are positive\n",
    "        # because x and y axis of an axes maybe inversed.\n",
    "        #self.ax.set_aspect(abs((xright-xleft)/(ybottom-ytop))*ratio)\n",
    "        \n",
    "        set_xmargin(self.ax, left=0.05, right=0.11)\n",
    "        #set_size(6.4,12.4, self.ax)\n",
    "        plt.gcf().set_size_inches(5, 7)\n",
    "\n",
    "        self.fig.tight_layout()\n",
    "        \n",
    "        self.fig.savefig('Energy_per_parameter_wolfCrypt.pdf', bbox_inches='tight', dpi=1000)\n",
    "        self.fig.savefig('Energy_per_parameter_wolfCrypt.svg', bbox_inches='tight', dpi=1000)\n",
    "        self.fig.show()\n",
    "    def anim_func(self, num_bytes, *fargs):\n",
    "        self.update_fig(num_bytes)\n",
    "        return flatten(self.bars)\n",
    "    \n",
    "    def animate(self, frames=range(100, 6001, 100), save=False, *save_args, **save_kwargs):\n",
    "        self.animation = animation.FuncAnimation(self.fig, self.anim_func, blit=True, interval=0,frames=frames ,repeat=False)\n",
    "        if save:\n",
    "            self.animation.save('Charge_per_Security.mp4', *save_args, **save_kwargs)\n",
    "        \n",
    "        \n",
    "def flatten(d, ret=None):\n",
    "    if ret is None:\n",
    "        ret = []\n",
    "    for k, v in sorted(d.items()):\n",
    "        if isinstance(v, dict):\n",
    "            flatten(v, ret)\n",
    "        else:\n",
    "            ret.extend(v.get_children())\n",
    "    return ret"
   ]
  },
  {
   "cell_type": "code",
   "execution_count": 32,
   "metadata": {},
   "outputs": [
    {
     "name": "stdout",
     "output_type": "stream",
     "text": [
      "0 : 527.3347508154035\n",
      "0 : 517.5083138605506\n",
      "0 : 493.57991576226016\n",
      "0 : 13.477602306216598\n",
      "AES-256_wolfSSL_library_O1_4Mhz: 1551.900582744431\n",
      "1 : 482.7909092777603\n",
      "1 : 477.01923979982126\n",
      "1 : 570.8587390194891\n",
      "1 : 11.652193178577605\n",
      "AES-256_wolfSSL_library_O1_12Mhz: 1542.3210812756483\n",
      "2 : 478.6535776064708\n",
      "2 : 468.6089634963294\n",
      "2 : 481.1424704708838\n",
      "2 : 12.706177483149009\n",
      "AES-256_wolfSSL_library_O3_4Mhz: 1441.1111890568332\n",
      "3 : 444.8072144100036\n",
      "3 : 425.7017775786608\n",
      "3 : 554.6045202848829\n",
      "3 : 10.53532632995853\n",
      "AES-256_wolfSSL_library_O3_12Mhz: 1435.6488386035057\n"
     ]
    }
   ],
   "source": [
    "security_plotter = SecurityPlotter(checkpoint_energy, show=1, use_model=False)\n",
    "# security_plotter = SecurityPlotter(checkpoint_energy, show=1, use_model=True)"
   ]
  },
  {
   "cell_type": "code",
   "execution_count": null,
   "metadata": {
    "jupyter": {
     "source_hidden": true
    }
   },
   "outputs": [],
   "source": []
  },
  {
   "cell_type": "markdown",
   "metadata": {},
   "source": [
    "## Security Time"
   ]
  },
  {
   "cell_type": "code",
   "execution_count": 33,
   "metadata": {},
   "outputs": [],
   "source": [
    "def get_security_time(project_name, num_bytes):\n",
    "    time_dict = {}\n",
    "    project_path = [\".\", project_name]\n",
    "    encrypt_time_ms = pickle.load(open(path.join(*project_path, \"aes_flash_encrypt_time_ms.p\"), \"rb\"))\n",
    "    decrypt_time_ms = pickle.load(open(path.join(*project_path, \"aes_flash_decrypt_time_ms.p\"), \"rb\"))\n",
    "    flash_write_time_ms = pickle.load(open(path.join(*project_path, \"aes_flash_write_time_ms.p\"), \"rb\"))\n",
    "    flash_read_time_ms = pickle.load(open(path.join(*project_path, \"aes_flash_read_time_ms.p\"), \"rb\"))\n",
    "    \n",
    "    i = round((num_bytes/16) - 1)\n",
    "    print(f'{i}')\n",
    "    time_dict['AES-256 Encrypt'] = encrypt_time_ms[i]\n",
    "    time_dict['AES-256 Decrypt'] = decrypt_time_ms[i]\n",
    "    time_dict['AES-256 Flash Write'] =  flash_write_time_ms[i]\n",
    "    time_dict['AES-256 Flash Read'] = flash_read_time_ms[i]\n",
    "    \n",
    "    return time_dict"
   ]
  },
  {
   "cell_type": "code",
   "execution_count": 40,
   "metadata": {},
   "outputs": [],
   "source": [
    "def export_legend(legend, filename=\"legend.png\", expand=[-5,-5,5,5]):\n",
    "    fig  = legend.figure\n",
    "    fig.canvas.draw()\n",
    "    bbox  = legend.get_window_extent()\n",
    "    bbox = bbox.from_extents(*(bbox.extents + np.array(expand)))\n",
    "    bbox = bbox.transformed(fig.dpi_scale_trans.inverted())\n",
    "    fig.savefig(filename, dpi=\"figure\", bbox_inches=bbox)"
   ]
  },
  {
   "cell_type": "code",
   "execution_count": 43,
   "metadata": {},
   "outputs": [],
   "source": [
    "class SecurityPlotter(object):\n",
    "    def __init__(self, checkpoint_energy=CheckpointEnergy(workload_folder = \"../../Workloads\",security_projects=security_projects), num_bytes=4096, fig=None, ax=None, show=0, use_model=False):\n",
    "        self.checkpoint_energy = checkpoint_energy\n",
    "        self.fig = fig\n",
    "        self.ax = ax\n",
    "        self.num_bytes = num_bytes\n",
    "        self.use_model = use_model\n",
    "        if show:\n",
    "            self.make_fig(figsize=(12.8, 6.8),dpi= 300) #width, height in inches\n",
    "            self.update_fig()\n",
    "            if show >= 2:\n",
    "                self.animate()\n",
    "        \n",
    "    def make_fig(self, *args, **kwargs):\n",
    "        self.fig, self.ax = plt.subplots(*args, **kwargs)\n",
    "    \n",
    "    def update_fig(self, num_bytes=None):\n",
    "        if num_bytes is None:\n",
    "            num_bytes = self.num_bytes\n",
    "        opacity = 0.8\n",
    "        self.ax.cla()\n",
    "#         self.ax.grid(zorder=0)\n",
    "        self.ax.yaxis.grid(True, alpha=0.3)\n",
    "        \n",
    "        self.bars = {}\n",
    "        for index, security_project in enumerate(self.checkpoint_energy.security_projects):\n",
    "            self.bars[security_project] = {}\n",
    "            security_time = get_security_time(security_project, num_bytes)\n",
    "            #print(f'{security_energy}')\n",
    "            bottom = 0\n",
    "            sectionTimes = get_security_time(security_project,num_bytes)\n",
    "            totalTime = 0\n",
    "            for sectionTime in sectionTimes.values():\n",
    "                totalTime+=sectionTime\n",
    "            #print(f'{totalEnergy}')\n",
    "            for section in security_time.keys():\n",
    "                self.bars[security_project][section] = self.ax.bar(index, security_time[section] , color=colors[security_project], \n",
    "                                                                   label=section, width=0.4, alpha=opacity, bottom=bottom, zorder=3,\n",
    "                                                                   hatch=section_hatches[section], linewidth=linewidth, edgecolor=edgecolor)\n",
    "                sectionValue = security_time[section] \n",
    "                accumulatedValue = sectionValue + bottom\n",
    "                yValue = (totalTime - accumulatedValue/2)\n",
    "                bar = self.bars[security_project][section].get_children()\n",
    "                print(f'{index} : {sectionValue}')\n",
    "                self.ax.text(x=index + (bar[0].get_width()*0.95 ) , y= bottom + sectionValue/3  , \n",
    "                             s=f\"{round(sectionValue)}\", ha = 'center', va = 'center', fontdict=dict(fontsize=11))\n",
    "                bottom += security_time[section]\n",
    "                \n",
    "            self.ax.text(x=index + 0.01 , y =bottom+30 , s=f\"{round(bottom, 2)}\" ,bbox=dict(boxstyle=\"square, pad=0.03\", fc=\"none\", ec=\"gray\", zorder=0.9, lw=0.5),\n",
    "                         va='baseline', horizontalalignment='center', fontdict=dict(fontsize=12))\n",
    "    \n",
    "            print(f'{security_project}: {bottom}')        \n",
    "        \n",
    "        self.ax.set_xticks(range(len(self.checkpoint_energy.security_projects)) )\n",
    "     ##   self.ax.set_xticklabels([s.replace('_',' ') for s in self.checkpoint_energy.security_projects])\n",
    "        self.ax.set_xticklabels(xLabels, fontdict=dict(fontsize=12))\n",
    "        self.ax.yaxis.set_tick_params(labelsize=12)\n",
    "\n",
    "     #   self.ax.set_xticklabels([\" \".join(s.split('_')[:-1]) for s in self.checkpoint_energy.security_projects])\n",
    "       \n",
    "      #  self.ax.set_yticks( fontdict=dict(fontsize=4))\n",
    "      #  exportLegend = plt.legend(handles = [circ1,circ2,circ3, circ4],loc=6, prop={'size': 4})\n",
    "      #  export_legend(exportLegend)       \n",
    "      #  self.ax.set_yscale('log')\n",
    "\n",
    "       # self.ax.set_xlabel('\\nDifferent AES-Modes execution on AES-Module')\n",
    "        self.ax.set_ylabel('Time [ms]', fontdict=dict(fontsize=12))\n",
    "        self.ax.set_title(f'(b) Security: {security_method} (Software-based)' ,  fontdict=dict(fontsize=12))\n",
    "        self.fig.canvas.set_window_title(f'Time_per_parameter_{security_method}')\n",
    "        self.ax.margins( y= 0.12)\n",
    "        self.ax.yaxis.set_minor_locator(tck.AutoMinorLocator())\n",
    "\n",
    "        # self.ax.set(adjustable=\"datalim\")\n",
    "        #ratio = 0.5\n",
    "        #xleft, xright = self.ax.get_xlim()\n",
    "        #ybottom, ytop = self.ax.get_ylim()\n",
    "        # the abs method is used to make sure that all numbers are positive\n",
    "        # because x and y axis of an axes maybe inversed.\n",
    "        #self.ax.set_aspect(abs((xright-xleft)/(ybottom-ytop))*ratio)\n",
    "        \n",
    "        set_xmargin(self.ax, left=0.05, right=0.11)\n",
    "        #set_size(6.4,12.4, self.ax)\n",
    "        plt.gcf().set_size_inches(5, 7)\n",
    "\n",
    "        self.fig.tight_layout()\n",
    "        \n",
    "        self.fig.savefig(f'Time_per_parameter_{security_method}.pdf', bbox_inches='tight', dpi=1000)\n",
    "        self.fig.savefig(f'Time_per_parameter_{security_method}.svg', bbox_inches='tight', dpi=1000)\n",
    "        self.fig.show()\n",
    "    def anim_func(self, num_bytes, *fargs):\n",
    "        self.update_fig(num_bytes)\n",
    "        return flatten(self.bars)\n",
    "    \n",
    "    def animate(self, frames=range(100, 6001, 100), save=False, *save_args, **save_kwargs):\n",
    "        self.animation = animation.FuncAnimation(self.fig, self.anim_func, blit=True, interval=0,frames=frames ,repeat=False)\n",
    "        if save:\n",
    "            self.animation.save('Charge_per_Security.mp4', *save_args, **save_kwargs)\n",
    "        \n",
    "        \n",
    "def flatten(d, ret=None):\n",
    "    if ret is None:\n",
    "        ret = []\n",
    "    for k, v in sorted(d.items()):\n",
    "        if isinstance(v, dict):\n",
    "            flatten(v, ret)\n",
    "        else:\n",
    "            ret.extend(v.get_children())\n",
    "    return ret"
   ]
  },
  {
   "cell_type": "code",
   "execution_count": 44,
   "metadata": {},
   "outputs": [
    {
     "name": "stdout",
     "output_type": "stream",
     "text": [
      "255\n",
      "255\n",
      "0 : 257.8640207999854\n",
      "0 : 257.0008901333267\n",
      "0 : 89.16409013333748\n",
      "0 : 8.712422400009245\n",
      "AES-256_wolfSSL_library_O1_4Mhz: 612.7414234666588\n",
      "255\n",
      "255\n",
      "1 : 85.66848853332942\n",
      "1 : 85.34110933333494\n",
      "1 : 58.2789658666627\n",
      "1 : 2.903906133333578\n",
      "AES-256_wolfSSL_library_O1_12Mhz: 232.19246986666064\n",
      "255\n",
      "255\n",
      "2 : 222.4894805333406\n",
      "2 : 220.0477109333292\n",
      "2 : 81.97002773333395\n",
      "2 : 8.249800000001528\n",
      "AES-256_wolfSSL_library_O3_4Mhz: 532.7570192000053\n",
      "255\n",
      "255\n",
      "3 : 73.92052800000215\n",
      "3 : 73.13009706666662\n",
      "3 : 56.16714133333289\n",
      "3 : 2.7059125333366296\n",
      "AES-256_wolfSSL_library_O3_12Mhz: 205.9236789333383\n"
     ]
    }
   ],
   "source": [
    "#Security Time Pass same parameters\n",
    "security_plotter = SecurityPlotter(checkpoint_energy, show=1, use_model=False)"
   ]
  },
  {
   "cell_type": "code",
   "execution_count": 38,
   "metadata": {},
   "outputs": [],
   "source": []
  },
  {
   "cell_type": "code",
   "execution_count": 39,
   "metadata": {},
   "outputs": [
    {
     "ename": "NameError",
     "evalue": "name 'exportLegend' is not defined",
     "output_type": "error",
     "traceback": [
      "\u001b[1;31m---------------------------------------------------------------------------\u001b[0m",
      "\u001b[1;31mNameError\u001b[0m                                 Traceback (most recent call last)",
      "\u001b[1;32m<ipython-input-39-311b02b7cc14>\u001b[0m in \u001b[0;36m<module>\u001b[1;34m\u001b[0m\n\u001b[1;32m----> 1\u001b[1;33m \u001b[0mexport_legend\u001b[0m\u001b[1;33m(\u001b[0m\u001b[0mexportLegend\u001b[0m\u001b[1;33m)\u001b[0m\u001b[1;33m\u001b[0m\u001b[1;33m\u001b[0m\u001b[0m\n\u001b[0m",
      "\u001b[1;31mNameError\u001b[0m: name 'exportLegend' is not defined"
     ]
    }
   ],
   "source": []
  },
  {
   "cell_type": "code",
   "execution_count": null,
   "metadata": {},
   "outputs": [],
   "source": []
  }
 ],
 "metadata": {
  "kernelspec": {
   "display_name": "Python 3",
   "language": "python",
   "name": "python3"
  },
  "language_info": {
   "codemirror_mode": {
    "name": "ipython",
    "version": 3
   },
   "file_extension": ".py",
   "mimetype": "text/x-python",
   "name": "python",
   "nbconvert_exporter": "python",
   "pygments_lexer": "ipython3",
   "version": "3.8.1"
  }
 },
 "nbformat": 4,
 "nbformat_minor": 4
}

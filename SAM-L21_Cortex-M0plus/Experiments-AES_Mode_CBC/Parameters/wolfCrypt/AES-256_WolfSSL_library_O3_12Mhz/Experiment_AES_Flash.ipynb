{
 "cells": [
  {
   "cell_type": "markdown",
   "metadata": {},
   "source": [
    "## Import Libraries"
   ]
  },
  {
   "cell_type": "code",
   "execution_count": 1,
   "metadata": {},
   "outputs": [],
   "source": [
    "# %matplotlib ipympl\n",
    "# %matplotlib inline\n",
    "%matplotlib wx"
   ]
  },
  {
   "cell_type": "code",
   "execution_count": 2,
   "metadata": {},
   "outputs": [],
   "source": [
    "import matplotlib.pyplot as plt\n",
    "plt.ion()"
   ]
  },
  {
   "cell_type": "code",
   "execution_count": 3,
   "metadata": {},
   "outputs": [],
   "source": [
    "from pydgilib_extra import *\n",
    "from atprogram import atprogram"
   ]
  },
  {
   "cell_type": "code",
   "execution_count": 4,
   "metadata": {},
   "outputs": [],
   "source": [
    "from os import getcwd, path, pardir\n",
    "import pickle"
   ]
  },
  {
   "cell_type": "markdown",
   "metadata": {},
   "source": [
    "## Compile and program project"
   ]
  },
  {
   "cell_type": "code",
   "execution_count": 5,
   "metadata": {},
   "outputs": [
    {
     "data": {
      "text/plain": [
       "'./AES-256_WolfSSL_library'"
      ]
     },
     "execution_count": 5,
     "metadata": {},
     "output_type": "execute_result"
    }
   ],
   "source": [
    "project_path = path.curdir + \"/\" + \"AES-256_WolfSSL_library\"\n",
    "project_name =  \"AES-256_WolfSSL_library\"\n",
    "device_name = \"ATSAML21J18B\"\n",
    "project_path"
   ]
  },
  {
   "cell_type": "code",
   "execution_count": 6,
   "metadata": {},
   "outputs": [
    {
     "name": "stdout",
     "output_type": "stream",
     "text": [
      "make: Nothing to be done for 'all'.\n",
      "\n",
      "[DEBUG] Starting execution of \"chiperase\"\n",
      "[DEBUG] Starting process 'C:\\Program Files (x86)\\Atmel\\Studio\\7.0\\atbackend\\atbackend.exe'\n",
      "[DEBUG] Connecting to TCP:127.0.0.1:51655\n",
      "[INFO] Connected to edbg, fw version: 3.25\n",
      "[INFO] Firmware check OK\n",
      "[DEBUG] Command \"chiperase\" finished with return code 0\n",
      "[DEBUG] Starting execution of \"program\"\n",
      "[DEBUG] Memory segment base written at 0x00000000. Size = 0x00004824.\n",
      "[DEBUG] Memory segment base written at 0x00004824. Size = 0x00000084.\n",
      "[DEBUG] Command \"program\" finished with return code 0\n",
      "[DEBUG] Starting execution of \"info\"\n",
      "[ERROR] Error in TCF lockbit format. Missed key Could not get Module LOCKBIT for ATSAML21J18B. (TCF Error code: 131120)\n",
      "[DEBUG] Command \"info\" finished with return code 0\n",
      "[DEBUG] Exit successfully.\n",
      "Firmware check OK\n",
      "Chiperase completed successfully\n",
      "Programming completed successfully.\n",
      "Tool edbg has firmware version: 03.25\n",
      "Target voltage: 3.31 V\n",
      "\n",
      "Device information:\n",
      "\n",
      "Name:       ATSAML21J18B  \n",
      "JtagId:     N/A           \n",
      "Revision:   C             \n",
      "Chip ID:    0x1081020f\n",
      "CPU arch.:  CORTEX-M0PLUS \n",
      "Series:     SAML21\n",
      "\n",
      "Memory Information:\n",
      "\n",
      "Address Space    StartAddress            Size\n",
      "\n",
      "base                      0x0     0x100000000\n",
      "  FLASH                   0x0         0x40000\n",
      "  CAL                0x800000             0x8\n",
      "  LOCKBIT            0x802000             0x4\n",
      "  AUX0               0x804000           0x100\n",
      "  AUX1               0x806000           0x100\n",
      "  RWW                0x400000          0x2000\n",
      "  HSRAM            0x20000000          0x8000\n",
      "  LPRAM            0x30000000          0x2000\n",
      "  HPB0             0x40000000          0x4000\n",
      "  HPB1             0x41000000         0x10000\n",
      "  HPB2             0x42000000          0x8000\n",
      "  HPB3             0x43000000          0x2000\n",
      "  HPB4             0x44000000          0x1000\n",
      "  PPB              0xe0000000        0x100000\n",
      "  SCS              0xe000e000          0x1000\n",
      "  PERIPHERALS      0x40000000      0x20000000\n",
      "\n",
      "fuses                     0x0      0x20000000\n",
      "\n",
      "OTP5_WORD_0 (0b01110111011001010010110110111111 <-> 0x77652dbf):\n",
      "   USB_TRIM      0x6\n",
      "   USB_TRANSP    0x19\n",
      "   USB_TRANSN    0x9\n",
      "   ADC_BIASCOMP  0x7\n",
      "   ADC_BIASREFBUF 0x7\n",
      "\n",
      "TEMP_LOG_WORD_1 (0b11010101010010111000100111111001 <-> 0xd54b89f9):\n",
      "   HOT_ADC_VAL   0xd54\n",
      "   ROOM_ADC_VAL  0xb89\n",
      "   HOT_INT1V_VAL 0xf9\n",
      "\n",
      "TEMP_LOG_WORD_0 (0b11111011100101010100100000011101 <-> 0xfb95481d):\n",
      "   ROOM_INT1V_VAL 0xfb\n",
      "   HOT_TEMP_VAL_DEC 0x9\n",
      "   HOT_TEMP_VAL_INT 0x54\n",
      "   ROOM_TEMP_VAL_DEC 0x8\n",
      "   ROOM_TEMP_VAL_INT 0x1d\n",
      "\n",
      "USER_WORD_1 (0b11111111111111111111100010111011 <-> 0xfffff8bb):\n",
      "   NVMCTRL_REGION_LOCKS 0xffff\n",
      "   BOD12_HYST    0\n",
      "   BOD33_HYST    0\n",
      "   WDT_WEN       0\n",
      "   WDT_EWOFFSET  0xb\n",
      "   WDT_WINDOW    0xb\n",
      "\n",
      "USER_WORD_0 (0b10110001000111101000011011111111 <-> 0xb11e86ff):\n",
      "   WDT_PER       0xb\n",
      "   WDT_ALWAYSON  0\n",
      "   WDT_ENABLE    0\n",
      "   BOD12_DIS     0\n",
      "   BOD33_ACTION  0x1\n",
      "   BOD33_DIS     0\n",
      "   BOD33USERLEVEL 0x6\n",
      "   NVMCTRL_EEPROM_SIZE 0x7\n",
      "   NVMCTRL_BOOTPROT 0x7\n",
      "\n",
      "\n"
     ]
    },
    {
     "data": {
      "text/plain": [
       "0"
      ]
     },
     "execution_count": 6,
     "metadata": {},
     "output_type": "execute_result"
    }
   ],
   "source": [
    "atprogram.atprogram(project_path, device_name = device_name ,verbose=3)"
   ]
  },
  {
   "cell_type": "code",
   "execution_count": 7,
   "metadata": {},
   "outputs": [],
   "source": [
    "#atprogram(path.abspath(path.join(*project_path)), verbose=2)"
   ]
  },
  {
   "cell_type": "code",
   "execution_count": 8,
   "metadata": {},
   "outputs": [
    {
     "name": "stdout",
     "output_type": "stream",
     "text": [
      "{'text': 18468, 'data': 132, 'bss': 8276, 'dec': 26876, 'hex': 26876, 'filename': 'AES-256_WolfSSL_library.elf'}\n"
     ]
    },
    {
     "data": {
      "text/plain": [
       "{'text': 18468,\n",
       " 'data': 132,\n",
       " 'bss': 8276,\n",
       " 'dec': 26876,\n",
       " 'hex': 26876,\n",
       " 'filename': 'AES-256_WolfSSL_library.elf'}"
      ]
     },
     "execution_count": 8,
     "metadata": {},
     "output_type": "execute_result"
    }
   ],
   "source": [
    "atprogram.get_project_size(project_path, device_name = device_name, verbose=2)"
   ]
  },
  {
   "cell_type": "code",
   "execution_count": null,
   "metadata": {},
   "outputs": [],
   "source": []
  },
  {
   "cell_type": "markdown",
   "metadata": {},
   "source": [
    "## Data Logging"
   ]
  },
  {
   "cell_type": "code",
   "execution_count": 9,
   "metadata": {},
   "outputs": [],
   "source": [
    "live_plot = False"
   ]
  },
  {
   "cell_type": "markdown",
   "metadata": {},
   "source": [
    "Create a figure for the plot."
   ]
  },
  {
   "cell_type": "code",
   "execution_count": 10,
   "metadata": {},
   "outputs": [],
   "source": [
    "if live_plot:\n",
    "    fig = plt.figure(figsize=(10, 6))\n",
    "    fig.show()"
   ]
  },
  {
   "cell_type": "markdown",
   "metadata": {},
   "source": [
    "Create the configuration dictionary for `DGILibExtra`."
   ]
  },
  {
   "cell_type": "code",
   "execution_count": 11,
   "metadata": {},
   "outputs": [],
   "source": [
    "config_dict = {\n",
    "    \"loggers\": [LOGGER_OBJECT, LOGGER_CSV],\n",
    "    \"file_name_base\": \"experiment_aes_flash\"\n",
    "}\n",
    "config_dict_plot = {\n",
    "    \"loggers\": [LOGGER_OBJECT, LOGGER_PLOT, LOGGER_CSV],\n",
    "    \"plot_pins\": [False, False, True, True],\n",
    "    \"plot_pins_method\": \"line\",\n",
    "    \"plot_xmax\": 5,\n",
    "    \"window_title\": \"Experiment AES-128 Flash\",\n",
    "}"
   ]
  },
  {
   "cell_type": "markdown",
   "metadata": {},
   "source": [
    "Stop criteria to pass to the logger:"
   ]
  },
  {
   "cell_type": "code",
   "execution_count": 12,
   "metadata": {},
   "outputs": [],
   "source": [
    "def stop_fn(logger_data):\n",
    "    return all(logger_data.gpio.values[-1])"
   ]
  },
  {
   "cell_type": "code",
   "execution_count": 13,
   "metadata": {},
   "outputs": [],
   "source": [
    "#with DGILib() as dgilib:\n",
    "#     dgilib.get_major_version()"
   ]
  },
  {
   "cell_type": "markdown",
   "metadata": {},
   "source": [
    "Perform the measurement."
   ]
  },
  {
   "cell_type": "code",
   "execution_count": 14,
   "metadata": {},
   "outputs": [],
   "source": [
    "data = []\n",
    "cd = config_dict.copy()\n",
    "if live_plot:\n",
    "    fig.clf()\n",
    "    for ax in fig.get_axes():\n",
    "        ax.cla()\n",
    "    \n",
    "    cd.update(config_dict_plot)\n",
    "    cd[\"fig\"] = fig\n",
    "    \n",
    "with DGILibExtra(**cd) as dgilib:\n",
    "    dgilib.device_reset()\n",
    "    dgilib.logger.log(1000,stop_fn)\n",
    "    data = dgilib.data"
   ]
  },
  {
   "cell_type": "code",
   "execution_count": 15,
   "metadata": {},
   "outputs": [
    {
     "data": {
      "text/plain": [
       "{48: 6004, 256: 992000}"
      ]
     },
     "execution_count": 15,
     "metadata": {},
     "output_type": "execute_result"
    }
   ],
   "source": [
    "data.length()"
   ]
  },
  {
   "cell_type": "code",
   "execution_count": 16,
   "metadata": {},
   "outputs": [
    {
     "name": "stdout",
     "output_type": "stream",
     "text": [
      "Interfaces:\n",
      "\t  48:   gpio,    samples:    6004\n",
      "\t 256:   power,   samples:  992000\n",
      "\n"
     ]
    }
   ],
   "source": [
    "print(data)"
   ]
  },
  {
   "cell_type": "markdown",
   "metadata": {},
   "source": [
    "# Store Data"
   ]
  },
  {
   "cell_type": "code",
   "execution_count": 17,
   "metadata": {},
   "outputs": [],
   "source": [
    "import pickle"
   ]
  },
  {
   "cell_type": "code",
   "execution_count": 18,
   "metadata": {},
   "outputs": [],
   "source": [
    "pickle.dump(data, open(\"aes_flash_logger_data.p\", \"wb\"))"
   ]
  },
  {
   "cell_type": "markdown",
   "metadata": {},
   "source": [
    "# Load Data"
   ]
  },
  {
   "cell_type": "code",
   "execution_count": 19,
   "metadata": {},
   "outputs": [],
   "source": [
    "data = pickle.load(open(\"aes_flash_logger_data.p\", \"rb\"))"
   ]
  },
  {
   "cell_type": "code",
   "execution_count": 20,
   "metadata": {},
   "outputs": [],
   "source": [
    "#iteration = 0\n",
    "#name = \"AES-128_Flash\"\n",
    "#data = pickle.load(open(path.join(path.pardir, path.pardir, f\"{name}_{iteration}.p\"), \"rb\"))"
   ]
  },
  {
   "cell_type": "markdown",
   "metadata": {},
   "source": [
    "## Analysis"
   ]
  },
  {
   "cell_type": "markdown",
   "metadata": {},
   "source": [
    "Create Stop Function to stop parsing the data when all pins are high."
   ]
  },
  {
   "cell_type": "code",
   "execution_count": 21,
   "metadata": {},
   "outputs": [],
   "source": [
    "def stop_function(pin_values):\n",
    "    return all(pin_values)"
   ]
  },
  {
   "cell_type": "markdown",
   "metadata": {},
   "source": [
    "Parse the data."
   ]
  },
  {
   "cell_type": "code",
   "execution_count": 22,
   "metadata": {},
   "outputs": [],
   "source": [
    "aes_charge, aes_time = power_and_time_per_pulse(data, 2, stop_function=stop_function)"
   ]
  },
  {
   "cell_type": "code",
   "execution_count": 23,
   "metadata": {},
   "outputs": [],
   "source": [
    "flash_charge, flash_time = power_and_time_per_pulse(data, 3, stop_function=stop_function)"
   ]
  },
  {
   "cell_type": "code",
   "execution_count": 24,
   "metadata": {},
   "outputs": [
    {
     "name": "stdout",
     "output_type": "stream",
     "text": [
      "750 750 750 750\n"
     ]
    }
   ],
   "source": [
    "print(len(aes_charge), len(aes_time), len(flash_charge), len(flash_time))\n",
    "# cutoff = min(len(aes_charge), len(aes_time), len(flash_charge), len(flash_time))\n",
    "# aes_charge = aes_charge[:cutoff]\n",
    "# aes_time = aes_time[:cutoff]\n",
    "# flash_charge = flash_charge[:cutoff]\n",
    "# flash_time = flash_time[:cutoff]"
   ]
  },
  {
   "cell_type": "code",
   "execution_count": 25,
   "metadata": {},
   "outputs": [],
   "source": [
    "# length = len(aes_charge)\n",
    "# assert length == len(aes_time)\n",
    "# assert length == len(flash_charge)\n",
    "# assert length == len(flash_time)\n",
    "# print(length)"
   ]
  },
  {
   "cell_type": "code",
   "execution_count": 26,
   "metadata": {},
   "outputs": [],
   "source": [
    "aes_encrypt_charge = aes_charge[0::2]\n",
    "aes_decrypt_charge = aes_charge[1::2]\n",
    "aes_encrypt_time = aes_time[0::2]\n",
    "aes_decrypt_time = aes_time[1::2]"
   ]
  },
  {
   "cell_type": "code",
   "execution_count": 27,
   "metadata": {},
   "outputs": [],
   "source": [
    "aes_flash_write_charge = flash_charge[0::2]\n",
    "aes_flash_read_charge = flash_charge[1::2]\n",
    "aes_flash_write_time = flash_time[0::2]\n",
    "aes_flash_read_time = flash_time[1::2]"
   ]
  },
  {
   "cell_type": "code",
   "execution_count": 28,
   "metadata": {},
   "outputs": [
    {
     "data": {
      "text/plain": [
       "(375, 375, 375, 375, 375, 375, 375, 375)"
      ]
     },
     "execution_count": 28,
     "metadata": {},
     "output_type": "execute_result"
    }
   ],
   "source": [
    "len(aes_encrypt_charge), len(aes_decrypt_charge), len(aes_encrypt_time), len(aes_decrypt_time), len(aes_flash_write_charge), len(aes_flash_read_charge), len(aes_flash_write_time), len(aes_flash_read_time)"
   ]
  },
  {
   "cell_type": "code",
   "execution_count": 29,
   "metadata": {},
   "outputs": [],
   "source": [
    "drop = 0\n",
    "cutoff = min(len(aes_encrypt_charge), len(aes_decrypt_charge), len(aes_encrypt_time), len(aes_decrypt_time), len(aes_flash_write_charge), len(aes_flash_read_charge), len(aes_flash_write_time), len(aes_flash_read_time)) - drop\n",
    "aes_encrypt_charge = aes_encrypt_charge[:cutoff]\n",
    "aes_decrypt_charge = aes_decrypt_charge[:cutoff]\n",
    "aes_encrypt_time = aes_encrypt_time[:cutoff]\n",
    "aes_decrypt_time = aes_decrypt_time[:cutoff]\n",
    "aes_flash_write_charge = aes_flash_write_charge[:cutoff]\n",
    "aes_flash_read_charge = aes_flash_read_charge[:cutoff]\n",
    "aes_flash_write_time = aes_flash_write_time[:cutoff]\n",
    "aes_flash_read_time = aes_flash_read_time[:cutoff]"
   ]
  },
  {
   "cell_type": "code",
   "execution_count": 30,
   "metadata": {},
   "outputs": [
    {
     "name": "stdout",
     "output_type": "stream",
     "text": [
      "375\n"
     ]
    }
   ],
   "source": [
    "length = len(aes_encrypt_charge)\n",
    "assert length == len(aes_decrypt_charge)\n",
    "assert length == len(aes_encrypt_time)\n",
    "assert length == len(aes_decrypt_time)\n",
    "assert length == len(aes_flash_write_charge)\n",
    "assert length == len(aes_flash_read_charge)\n",
    "assert length == len(aes_flash_write_time)\n",
    "assert length == len(aes_flash_read_time)\n",
    "print(length)"
   ]
  },
  {
   "cell_type": "markdown",
   "metadata": {},
   "source": [
    "# Convert to Joule"
   ]
  },
  {
   "cell_type": "code",
   "execution_count": 31,
   "metadata": {},
   "outputs": [],
   "source": [
    "voltage = 3.31\n",
    "j_scale = 1e3 # m\n",
    "t_scale = 1e3 # m\n",
    "model_j_scale = 1e6 # n\n",
    "model_t_scale = 1e3 # u\n",
    "\n",
    "experiment_name = project_name"
   ]
  },
  {
   "cell_type": "code",
   "execution_count": 32,
   "metadata": {},
   "outputs": [],
   "source": [
    "aes_encrypt_energy = aes_encrypt_charge[:cutoff]\n",
    "aes_flash_write_energy = aes_flash_write_charge[:cutoff]\n",
    "aes_flash_read_energy = aes_flash_read_charge[:cutoff]\n",
    "aes_decrypt_energy = aes_decrypt_charge[:cutoff]\n",
    "aes_encrypt_time_s = aes_encrypt_time[:cutoff]\n",
    "aes_flash_write_time_s = aes_flash_write_time[:cutoff]\n",
    "aes_flash_read_time_s = aes_flash_read_time[:cutoff]\n",
    "aes_decrypt_time_s = aes_decrypt_time[:cutoff]\n",
    "\n",
    "for i in range(len(aes_encrypt_energy)):\n",
    "    aes_encrypt_energy[i] = aes_encrypt_energy[i] * voltage * j_scale\n",
    "for i in range(len(aes_flash_write_energy)):\n",
    "    aes_flash_write_energy[i] = aes_flash_write_energy[i] * voltage * j_scale\n",
    "for i in range(len(aes_flash_read_energy)):\n",
    "    aes_flash_read_energy[i] = aes_flash_read_energy[i] * voltage * j_scale\n",
    "for i in range(len(aes_decrypt_energy)):\n",
    "    aes_decrypt_energy[i] = aes_decrypt_energy[i] * voltage * j_scale\n",
    "    \n",
    "for i in range(len(aes_encrypt_time_s)):\n",
    "    aes_encrypt_time_s[i] = aes_encrypt_time_s[i] * t_scale\n",
    "for i in range(len(aes_flash_write_time_s)):\n",
    "    aes_flash_write_time_s[i] = aes_flash_write_time_s[i] * t_scale\n",
    "for i in range(len(aes_flash_read_time_s)):\n",
    "    aes_flash_read_time_s[i] = aes_flash_read_time_s[i] * t_scale\n",
    "for i in range(len(aes_decrypt_time_s)):\n",
    "    aes_decrypt_time_s[i] = aes_decrypt_time_s[i] * t_scale"
   ]
  },
  {
   "cell_type": "code",
   "execution_count": 33,
   "metadata": {},
   "outputs": [
    {
     "name": "stdout",
     "output_type": "stream",
     "text": [
      "MAX_NUM_BYTES: 6000\n"
     ]
    }
   ],
   "source": [
    "MBEDTLS_AES_BLOCK_SIZE = 16\n",
    "STEP_SIZE = MBEDTLS_AES_BLOCK_SIZE\n",
    "MIN_NUM_BYTES = STEP_SIZE\n",
    "num_bytes = range(MIN_NUM_BYTES, MIN_NUM_BYTES + STEP_SIZE * len(aes_encrypt_energy), STEP_SIZE)\n",
    "print(f\"MAX_NUM_BYTES: {num_bytes[-1]}\")"
   ]
  },
  {
   "cell_type": "code",
   "execution_count": 34,
   "metadata": {},
   "outputs": [],
   "source": [
    "from lmfit import Model\n",
    "\n",
    "def line(x, slope, intercept):\n",
    "    \"\"\"a line\"\"\"\n",
    "    return [slope*i + intercept for i in x]\n",
    "\n",
    "mod = Model(line)\n",
    "pars = mod.make_params(slope=0, intercept=1)\n",
    "# pars['intercept'].set(min=0)"
   ]
  },
  {
   "cell_type": "code",
   "execution_count": 35,
   "metadata": {},
   "outputs": [
    {
     "name": "stdout",
     "output_type": "stream",
     "text": [
      "[[Model]]\n",
      "    Model(line)\n",
      "[[Fit Statistics]]\n",
      "    # fitting method   = leastsq\n",
      "    # function evals   = 6\n",
      "    # data points      = 375\n",
      "    # variables        = 2\n",
      "    chi-square         = 2.1131e-05\n",
      "    reduced chi-square = 5.6650e-08\n",
      "    Akaike info crit   = -6255.39324\n",
      "    Bayesian info crit = -6247.53939\n",
      "[[Variables]]\n",
      "    slope:      1.0880e-04 +/- 7.0962e-09 (0.01%) (init = 0)\n",
      "    intercept: -0.00279719 +/- 2.4631e-05 (0.88%) (init = 1)\n",
      "[[Correlations]] (unreported correlations are < 0.100)\n",
      "    C(slope, intercept) = -0.867\n",
      "[[Model]]\n",
      "    Model(line)\n",
      "[[Fit Statistics]]\n",
      "    # fitting method   = leastsq\n",
      "    # function evals   = 6\n",
      "    # data points      = 375\n",
      "    # variables        = 2\n",
      "    chi-square         = 0.02760934\n",
      "    reduced chi-square = 7.4020e-05\n",
      "    Akaike info crit   = -3564.69764\n",
      "    Bayesian info crit = -3556.84379\n",
      "[[Variables]]\n",
      "    slope:      1.2874e-04 +/- 2.5651e-07 (0.20%) (init = 0)\n",
      "    intercept:  0.01134567 +/- 8.9034e-04 (7.85%) (init = 1)\n",
      "[[Correlations]] (unreported correlations are < 0.100)\n",
      "    C(slope, intercept) = -0.867\n",
      "[[Model]]\n",
      "    Model(line)\n",
      "[[Fit Statistics]]\n",
      "    # fitting method   = leastsq\n",
      "    # function evals   = 6\n",
      "    # data points      = 375\n",
      "    # variables        = 2\n",
      "    chi-square         = 1.1362e-05\n",
      "    reduced chi-square = 3.0462e-08\n",
      "    Akaike info crit   = -6488.05369\n",
      "    Bayesian info crit = -6480.19983\n",
      "[[Variables]]\n",
      "    slope:      2.6826e-06 +/- 5.2036e-09 (0.19%) (init = 0)\n",
      "    intercept: -3.4278e-04 +/- 1.8062e-05 (5.27%) (init = 1)\n",
      "[[Correlations]] (unreported correlations are < 0.100)\n",
      "    C(slope, intercept) = -0.867\n",
      "[[Model]]\n",
      "    Model(line)\n",
      "[[Fit Statistics]]\n",
      "    # fitting method   = leastsq\n",
      "    # function evals   = 6\n",
      "    # data points      = 375\n",
      "    # variables        = 2\n",
      "    chi-square         = 3.9846e-04\n",
      "    reduced chi-square = 1.0683e-06\n",
      "    Akaike info crit   = -5154.06271\n",
      "    Bayesian info crit = -5146.20885\n",
      "[[Variables]]\n",
      "    slope:      1.0423e-04 +/- 3.0815e-08 (0.03%) (init = 0)\n",
      "    intercept: -0.00293156 +/- 1.0696e-04 (3.65%) (init = 1)\n",
      "[[Correlations]] (unreported correlations are < 0.100)\n",
      "    C(slope, intercept) = -0.867\n",
      "[[Model]]\n",
      "    Model(line)\n",
      "[[Fit Statistics]]\n",
      "    # fitting method   = leastsq\n",
      "    # function evals   = 7\n",
      "    # data points      = 375\n",
      "    # variables        = 2\n",
      "    chi-square         = 0.26712747\n",
      "    reduced chi-square = 7.1616e-04\n",
      "    Akaike info crit   = -2713.60825\n",
      "    Bayesian info crit = -2705.75440\n",
      "[[Variables]]\n",
      "    slope:      0.01805396 +/- 7.9789e-07 (0.00%) (init = 0)\n",
      "    intercept:  0.00690527 +/- 0.00276947 (40.11%) (init = 1)\n",
      "[[Correlations]] (unreported correlations are < 0.100)\n",
      "    C(slope, intercept) = -0.867\n",
      "[[Model]]\n",
      "    Model(line)\n",
      "[[Fit Statistics]]\n",
      "    # fitting method   = leastsq\n",
      "    # function evals   = 6\n",
      "    # data points      = 375\n",
      "    # variables        = 2\n",
      "    chi-square         = 257.183380\n",
      "    reduced chi-square = 0.68949968\n",
      "    Akaike info crit   = -137.426245\n",
      "    Bayesian info crit = -129.572393\n",
      "[[Variables]]\n",
      "    slope:      0.01341346 +/- 2.4757e-05 (0.18%) (init = 0)\n",
      "    intercept:  2.06518051 +/- 0.08593114 (4.16%) (init = 1)\n",
      "[[Correlations]] (unreported correlations are < 0.100)\n",
      "    C(slope, intercept) = -0.867\n",
      "[[Model]]\n",
      "    Model(line)\n",
      "[[Fit Statistics]]\n",
      "    # fitting method   = leastsq\n",
      "    # function evals   = 6\n",
      "    # data points      = 375\n",
      "    # variables        = 2\n",
      "    chi-square         = 0.26903727\n",
      "    reduced chi-square = 7.2128e-04\n",
      "    Akaike info crit   = -2710.93676\n",
      "    Bayesian info crit = -2703.08291\n",
      "[[Variables]]\n",
      "    slope:      6.6361e-04 +/- 8.0071e-07 (0.12%) (init = 0)\n",
      "    intercept:  0.01131961 +/- 0.00277930 (24.55%) (init = 1)\n",
      "[[Correlations]] (unreported correlations are < 0.100)\n",
      "    C(slope, intercept) = -0.867\n",
      "[[Model]]\n",
      "    Model(line)\n",
      "[[Fit Statistics]]\n",
      "    # fitting method   = leastsq\n",
      "    # function evals   = 6\n",
      "    # data points      = 375\n",
      "    # variables        = 2\n",
      "    chi-square         = 11.2408305\n",
      "    reduced chi-square = 0.03013627\n",
      "    Akaike info crit   = -1311.26499\n",
      "    Bayesian info crit = -1303.41114\n",
      "[[Variables]]\n",
      "    slope:      0.01784822 +/- 5.1757e-06 (0.03%) (init = 0)\n",
      "    intercept:  0.02504443 +/- 0.01796504 (71.73%) (init = 1)\n",
      "[[Correlations]] (unreported correlations are < 0.100)\n",
      "    C(slope, intercept) = -0.867\n",
      "[[Model]]\n",
      "    Model(line)\n",
      "[[Fit Statistics]]\n",
      "    # fitting method   = leastsq\n",
      "    # function evals   = 7\n",
      "    # data points      = 375\n",
      "    # variables        = 2\n",
      "    chi-square         = 0.02758880\n",
      "    reduced chi-square = 7.3965e-05\n",
      "    Akaike info crit   = -3564.97679\n",
      "    Bayesian info crit = -3557.12293\n",
      "[[Variables]]\n",
      "    slope:      3.4445e-04 +/- 2.5641e-07 (0.07%) (init = 0)\n",
      "    intercept:  0.00527415 +/- 8.9001e-04 (16.87%) (init = 1)\n",
      "[[Correlations]] (unreported correlations are < 0.100)\n",
      "    C(slope, intercept) = -0.867\n",
      "[[Model]]\n",
      "    Model(line)\n",
      "[[Fit Statistics]]\n",
      "    # fitting method   = leastsq\n",
      "    # function evals   = 10\n",
      "    # data points      = 375\n",
      "    # variables        = 2\n",
      "    chi-square         = 277.653147\n",
      "    reduced chi-square = 0.74437841\n",
      "    Akaike info crit   = -108.707512\n",
      "    Bayesian info crit = -100.853660\n",
      "[[Variables]]\n",
      "    slope:      0.04997925 +/- 2.5723e-05 (0.05%) (init = 0)\n",
      "    intercept:  2.10844972 +/- 0.08928541 (4.23%) (init = 1)\n",
      "[[Correlations]] (unreported correlations are < 0.100)\n",
      "    C(slope, intercept) = -0.867\n"
     ]
    }
   ],
   "source": [
    "results = []\n",
    "ylabels = (['Energy [mJ]'] * 2 + ['Time [ms]'] * 2) * 2 + ['Energy [mJ]'] + ['Time [ms]']\n",
    "parameter_names = [\n",
    "    'Encrypt Energy',\n",
    "    'Flash Write Energy',\n",
    "    'Flash Read Energy',\n",
    "    'Decrypt Energy',\n",
    "    'Encrypt Time',\n",
    "    'Flash Write Time',\n",
    "    'Flash Read Time',\n",
    "    'Decrypt Time',\n",
    "    'Total Energy',\n",
    "    'Total Time',\n",
    "]\n",
    "for y in [aes_encrypt_energy, aes_flash_write_energy, aes_flash_read_energy, aes_decrypt_energy, aes_encrypt_time_s, aes_flash_write_time_s, aes_flash_read_time_s, aes_decrypt_time_s,\n",
    "          [e + w + r + d for (e,w,r,d) in zip(aes_encrypt_energy, aes_flash_write_energy, aes_flash_read_energy, aes_decrypt_energy)],\n",
    "          [e + w + r + d for (e,w,r,d) in zip(aes_encrypt_time_s, aes_flash_write_time_s, aes_flash_read_time_s, aes_decrypt_time_s)]]:\n",
    "    result = mod.fit(y, pars, x=num_bytes)\n",
    "    print(result.fit_report())\n",
    "    fig, grid = result.plot(\n",
    "        xlabel='Checkpoint Size [Bytes]',\n",
    "        ylabel=ylabels[len(results)])\n",
    "    fig.tight_layout(rect=(0.05, 0.05, 1, 1))\n",
    "    fig.set_size_inches(5, 4.5, forward=True)\n",
    "    fig.canvas.set_window_title(\n",
    "        f\"Residuals of {experiment_name} {parameter_names[len(results)]}\")\n",
    "    fig.savefig( f\"Residuals of {experiment_name} {parameter_names[len(results)]}\")\n",
    "    fig.show()\n",
    "    results.append(result)"
   ]
  },
  {
   "cell_type": "code",
   "execution_count": 36,
   "metadata": {},
   "outputs": [],
   "source": [
    "fig2 = plt.figure(figsize=(8, 6))\n",
    "fig2.canvas.set_window_title(f\"Analysis {experiment_name}\")"
   ]
  },
  {
   "cell_type": "code",
   "execution_count": 37,
   "metadata": {},
   "outputs": [],
   "source": [
    "charge_color = 'r'\n",
    "time_color = 'b'"
   ]
  },
  {
   "cell_type": "code",
   "execution_count": 38,
   "metadata": {},
   "outputs": [],
   "source": [
    "fig2.clf()\n",
    "# fig2.suptitle(\"Energy analysis of AES\")\n",
    "ax1 = fig2.add_subplot(1, 1, 1)\n",
    "ax2 = ax1.twinx()\n",
    "ax1.set_xlabel('Checkpoint Size [Bytes]')\n",
    "ax1.set_ylabel('Energy [mJ]', color=charge_color)\n",
    "ax2.set_ylabel('Time [ms]', color=time_color)\n",
    "ax1.tick_params('y', colors=charge_color)\n",
    "ax2.tick_params('y', colors=time_color)"
   ]
  },
  {
   "cell_type": "code",
   "execution_count": 39,
   "metadata": {},
   "outputs": [],
   "source": [
    "lines = []\n",
    "lines += ax1.plot(num_bytes, aes_encrypt_energy, charge_color+'-', label=f'{parameter_names[len(lines)]}')\n",
    "lines += ax1.plot(num_bytes, aes_flash_write_energy, charge_color+'-.', label=f'{parameter_names[len(lines)]}')\n",
    "lines += ax1.plot(num_bytes, aes_flash_read_energy, charge_color+':', label=f'{parameter_names[len(lines)]}')\n",
    "lines += ax1.plot(num_bytes, aes_decrypt_energy, charge_color+'--', label=f'{parameter_names[len(lines)]}')\n",
    "lines += ax2.plot(num_bytes, aes_encrypt_time_s, time_color+'-', label=f'{parameter_names[len(lines)]}')\n",
    "lines += ax2.plot(num_bytes, aes_flash_write_time_s, time_color+'-.', label=f'{parameter_names[len(lines)]}')\n",
    "lines += ax2.plot(num_bytes, aes_flash_read_time_s, time_color+':', label=f'{parameter_names[len(lines)]}')\n",
    "lines += ax2.plot(num_bytes, aes_decrypt_time_s, time_color+'--', label=f'{parameter_names[len(lines)]}')\n",
    "ax1.legend(handles=lines)\n",
    "ax1.set_title(\n",
    "    f\"{parameter_names[0]}: Slope {results[0].params['slope'].value * model_j_scale:.04} nJ/B, Intercept {results[0].params['intercept'].value * model_j_scale:.04} nJ\\n\" +\n",
    "    f\"{parameter_names[1]}: Slope {results[1].params['slope'].value * model_j_scale:.04} nJ/B, Intercept {results[1].params['intercept'].value * model_j_scale:.04} nJ\\n\" +\n",
    "    f\"{parameter_names[2]}: Slope {results[2].params['slope'].value * model_j_scale:.04} nJ/B, Intercept {results[2].params['intercept'].value * model_j_scale:.04} nJ\\n\" +\n",
    "    f\"{parameter_names[3]}: Slope {results[3].params['slope'].value * model_j_scale:.04} nJ/B, Intercept {results[3].params['intercept'].value * model_j_scale:.04} nJ\\n\" +\n",
    "    f\"{parameter_names[4]}: Slope {results[4].params['slope'].value * model_t_scale:.04} $\\mu$s/B, Intercept {results[4].params['intercept'].value * model_t_scale:.04} $\\mu$s\\n\" +\n",
    "    f\"{parameter_names[5]}: Slope {results[5].params['slope'].value * model_t_scale:.04} $\\mu$s/B, Intercept {results[5].params['intercept'].value * model_t_scale:.04} $\\mu$s\\n\" +\n",
    "    f\"{parameter_names[6]}: Slope {results[6].params['slope'].value * model_t_scale:.04} $\\mu$s/B, Intercept {results[6].params['intercept'].value * model_t_scale:.04} $\\mu$s\\n\" +\n",
    "    f\"{parameter_names[7]}: Slope {results[7].params['slope'].value * model_t_scale:.04} $\\mu$s/B, Intercept {results[7].params['intercept'].value * model_t_scale:.04} $\\mu$s\\n\" +\n",
    "    f\"{parameter_names[8]}: Slope {results[8].params['slope'].value * model_j_scale:.04} nJ/B, Intercept {results[8].params['intercept'].value * model_j_scale:.04} nJ\\n\" +\n",
    "    f\"{parameter_names[9]}: Slope {results[9].params['slope'].value * model_t_scale:.04} $\\mu$s/B, Intercept {results[9].params['intercept'].value * model_t_scale:.04} $\\mu$s\\n\")\n",
    "fig2.tight_layout()\n",
    "fig2.savefig(f\"Analysis {experiment_name}\")\n",
    "fig2.show()"
   ]
  },
  {
   "cell_type": "code",
   "execution_count": 40,
   "metadata": {},
   "outputs": [
    {
     "name": "stdout",
     "output_type": "stream",
     "text": [
      "Encrypt Energy: Slope 108.79543282457244402 nJ/B, Intercept -2797.1909265862573193 nJ\n",
      "Flash Write Energy: Slope 128.73659646969500159 nJ/B, Intercept 11345.674961982687819 nJ\n",
      "Flash Read Energy: Slope 2.6825577641238367299 nJ/B, Intercept -342.77772116486636378 nJ\n",
      "Decrypt Energy: Slope 104.23410358185054747 nJ/B, Intercept -2931.5565164418353561 nJ\n",
      "Encrypt Time: Slope 18.053956364100450571 $\\mu$s/B, Intercept 6.9052714797988024031 $\\mu$s\n",
      "Flash Write Time: Slope 13.413461427146357252 $\\mu$s/B, Intercept 2065.1805136338466582 $\\mu$s\n",
      "Flash Read Time: Slope 0.6636092117504137633 $\\mu$s/B, Intercept 11.319613366292834655 $\\mu$s\n",
      "Decrypt Time: Slope 17.84822177018354239 $\\mu$s/B, Intercept 25.044434691950058891 $\\mu$s\n",
      "Total Energy: Slope 344.44869064024209138 nJ/B, Intercept 5274.1498043336050614 nJ\n",
      "Total Time: Slope 49.979248801289891446 $\\mu$s/B, Intercept 2108.4497208885909458 $\\mu$s\n",
      "\n"
     ]
    }
   ],
   "source": [
    "print(\n",
    "    f\"{parameter_names[0]}: Slope {results[0].params['slope'].value * model_j_scale:.020} nJ/B, Intercept {results[0].params['intercept'].value * model_j_scale:.020} nJ\\n\" +\n",
    "    f\"{parameter_names[1]}: Slope {results[1].params['slope'].value * model_j_scale:.020} nJ/B, Intercept {results[1].params['intercept'].value * model_j_scale:.020} nJ\\n\" +\n",
    "    f\"{parameter_names[2]}: Slope {results[2].params['slope'].value * model_j_scale:.020} nJ/B, Intercept {results[2].params['intercept'].value * model_j_scale:.020} nJ\\n\" +\n",
    "    f\"{parameter_names[3]}: Slope {results[3].params['slope'].value * model_j_scale:.020} nJ/B, Intercept {results[3].params['intercept'].value * model_j_scale:.020} nJ\\n\" +\n",
    "    f\"{parameter_names[4]}: Slope {results[4].params['slope'].value * model_t_scale:.020} $\\mu$s/B, Intercept {results[4].params['intercept'].value * model_t_scale:.020} $\\mu$s\\n\" +\n",
    "    f\"{parameter_names[5]}: Slope {results[5].params['slope'].value * model_t_scale:.020} $\\mu$s/B, Intercept {results[5].params['intercept'].value * model_t_scale:.020} $\\mu$s\\n\" +\n",
    "    f\"{parameter_names[6]}: Slope {results[6].params['slope'].value * model_t_scale:.020} $\\mu$s/B, Intercept {results[6].params['intercept'].value * model_t_scale:.020} $\\mu$s\\n\" +\n",
    "    f\"{parameter_names[7]}: Slope {results[7].params['slope'].value * model_t_scale:.020} $\\mu$s/B, Intercept {results[7].params['intercept'].value * model_t_scale:.020} $\\mu$s\\n\" +\n",
    "    f\"{parameter_names[8]}: Slope {results[8].params['slope'].value * model_j_scale:.020} nJ/B, Intercept {results[8].params['intercept'].value * model_j_scale:.020} nJ\\n\" +\n",
    "    f\"{parameter_names[9]}: Slope {results[9].params['slope'].value * model_t_scale:.020} $\\mu$s/B, Intercept {results[9].params['intercept'].value * model_t_scale:.020} $\\mu$s\\n\"\n",
    ")"
   ]
  },
  {
   "cell_type": "code",
   "execution_count": 41,
   "metadata": {},
   "outputs": [],
   "source": [
    "# Save Charge amount list into pickle file\n",
    "import pickle\n",
    "pickle.dump(aes_encrypt_energy, open(\"aes_flash_encrypt_energy_mJ.p\", \"wb\"))\n",
    "pickle.dump(aes_decrypt_energy, open(\"aes_flash_decrypt_energy_mJ.p\", \"wb\"))\n",
    "pickle.dump(aes_flash_write_energy, open(\"aes_flash_write_energy_mJ.p\", \"wb\"))\n",
    "pickle.dump(aes_flash_read_energy, open(\"aes_flash_read_energy_mJ.p\", \"wb\"))\n",
    "pickle.dump(aes_encrypt_time_s, open(\"aes_flash_encrypt_time_ms.p\", \"wb\"))\n",
    "pickle.dump(aes_decrypt_time_s, open(\"aes_flash_decrypt_time_ms.p\", \"wb\"))\n",
    "pickle.dump(aes_flash_write_time_s, open(\"aes_flash_write_time_ms.p\", \"wb\"))\n",
    "pickle.dump(aes_flash_read_time_s, open(\"aes_flash_read_time_ms.p\", \"wb\"))"
   ]
  },
  {
   "cell_type": "code",
   "execution_count": 42,
   "metadata": {},
   "outputs": [
    {
     "name": "stdout",
     "output_type": "stream",
     "text": [
      "375 6000\n",
      "375 6000\n",
      "375 6000\n",
      "375 6000\n",
      "375 6000\n",
      "375 6000\n",
      "375 6000\n",
      "375 6000\n"
     ]
    }
   ],
   "source": [
    "aes = [aes_encrypt_energy, aes_flash_write_energy, aes_flash_read_energy, aes_decrypt_energy, aes_encrypt_time_s, aes_flash_write_time_s, aes_flash_read_time_s, aes_decrypt_time_s]\n",
    "for i in aes:\n",
    "    print(len(i), len(i)*16)"
   ]
  },
  {
   "cell_type": "markdown",
   "metadata": {},
   "source": [
    "## Write config file"
   ]
  },
  {
   "cell_type": "code",
   "execution_count": 43,
   "metadata": {},
   "outputs": [],
   "source": [
    "import json\n",
    "\n",
    "config = {}\n",
    "config[\"name\"] = \"AES-256 Flash\"\n",
    "config[\"project_paths\"] = [project_path]\n",
    "config[\"config_dict\"] = config_dict\n",
    "config[\"config_dict_plot\"] = config_dict_plot\n",
    "config[\"analysis\"] = {\"pins\":{2: [\"AES-256 Encrypt\", \"AES-256 Decrypt\"], 3: [\"AES-256 Flash Write\", \"AES-256 Flash Read\"]}, \n",
    "                      \"result_types\": [\"Charge\", \"Time\"],\n",
    "                      \"section_types\": {\"init\": [], \n",
    "                                        \"store\": [\"AES-256 Encrypt\", \"AES-256 Flash Write\"],\n",
    "                                        \"load\": [\"AES-256 Flash Read\", \"AES-256 Decrypt\"],\n",
    "                                        \"exit\": []},\n",
    "                      \"labels\": {\n",
    "                          \"Charge\": {\"x\":\"Data Size\", \"x_unit\": \"byte\", \"y\": \"Charge\", \"y_unit\": \"C\"},\n",
    "                          \"Time\": {\"x\":\"Data Size\", \"x_unit\": \"byte\", \"y\": \"Time\", \"y_unit\": \"s\"},\n",
    "                      },\n",
    "                      \"x_step\": MBEDTLS_AES_BLOCK_SIZE}\n",
    "\n",
    "with open(\"looped_experiment.json\", 'w') as config_file:  \n",
    "    json.dump(config, config_file, indent=4)"
   ]
  },
  {
   "cell_type": "markdown",
   "metadata": {},
   "source": [
    "# Write model data"
   ]
  },
  {
   "cell_type": "code",
   "execution_count": 44,
   "metadata": {},
   "outputs": [],
   "source": [
    "dump_pickle = True\n",
    "fit_lm = True\n",
    "verbose = 2\n",
    "show_lm_plot = 2\n",
    "# drop = 1"
   ]
  },
  {
   "cell_type": "code",
   "execution_count": 45,
   "metadata": {},
   "outputs": [],
   "source": [
    "# Parse data\n",
    "analysis_config = config.get(\"analysis\")\n",
    "result_types = analysis_config.get(\"result_types\")\n",
    "x_step = analysis_config.get(\"x_step\")\n",
    "parsed_data = {}\n",
    "for pin, parameter_names in analysis_config.get(\"pins\").items():\n",
    "    data2 = power_and_time_per_pulse(\n",
    "        data, int(pin), stop_function=stop_function)\n",
    "    num_names = len(parameter_names)\n",
    "    for i, parameter_name in enumerate(parameter_names):\n",
    "        end_index = -drop * num_names or None\n",
    "        parsed_data[parameter_name] = {\n",
    "            result_types[0]: data2[0][i:end_index:num_names],\n",
    "            result_types[1]: data2[1][i:end_index:num_names],\n",
    "            \"x_step\": x_step}\n",
    "if dump_pickle:\n",
    "    pickle.dump(parsed_data, open(\n",
    "        path.join(path.curdir,\n",
    "                  f\"{config_dict.get('file_name_base')}_looped.p\"), \"wb\"))"
   ]
  },
  {
   "cell_type": "code",
   "execution_count": 46,
   "metadata": {},
   "outputs": [
    {
     "name": "stdout",
     "output_type": "stream",
     "text": [
      "Fitting model to AES-256 Encrypt with 375 samples, from 16 to 6000 bytes in steps of 16.\n",
      "[[Model]]\n",
      "    Model(line)\n",
      "[[Fit Statistics]]\n",
      "    # fitting method   = leastsq\n",
      "    # function evals   = 9\n",
      "    # data points      = 375\n",
      "    # variables        = 2\n",
      "    chi-square         = 1.9287e-12\n",
      "    reduced chi-square = 5.1707e-15\n",
      "    Akaike info crit   = -12333.9208\n",
      "    Bayesian info crit = -12326.0670\n",
      "[[Variables]]\n",
      "    intercept: -8.4507e-07 +/- 7.4414e-09 (0.88%) (init = 0)\n",
      "    slope:      3.2869e-08 +/- 2.1439e-12 (0.01%) (init = 1)\n",
      "[[Correlations]] (unreported correlations are < 0.100)\n",
      "    C(intercept, slope) = -0.867\n",
      "[[Model]]\n",
      "    Model(line)\n",
      "[[Fit Statistics]]\n",
      "    # fitting method   = leastsq\n",
      "    # function evals   = 7\n",
      "    # data points      = 375\n",
      "    # variables        = 2\n",
      "    chi-square         = 2.6713e-07\n",
      "    reduced chi-square = 7.1616e-10\n",
      "    Akaike info crit   = -7894.42471\n",
      "    Bayesian info crit = -7886.57086\n",
      "[[Variables]]\n",
      "    intercept:  6.9052e-06 +/- 2.7695e-06 (40.11%) (init = 0)\n",
      "    slope:      1.8054e-05 +/- 7.9791e-10 (0.00%) (init = 1)\n",
      "[[Correlations]] (unreported correlations are < 0.100)\n",
      "    C(intercept, slope) = -0.867\n",
      "Fitting model to AES-256 Decrypt with 375 samples, from 16 to 6000 bytes in steps of 16.\n",
      "[[Model]]\n",
      "    Model(line)\n",
      "[[Fit Statistics]]\n",
      "    # fitting method   = leastsq\n",
      "    # function evals   = 9\n",
      "    # data points      = 375\n",
      "    # variables        = 2\n",
      "    chi-square         = 3.6369e-11\n",
      "    reduced chi-square = 9.7503e-14\n",
      "    Akaike info crit   = -11232.5903\n",
      "    Bayesian info crit = -11224.7365\n",
      "[[Variables]]\n",
      "    intercept: -8.8567e-07 +/- 3.2314e-08 (3.65%) (init = 0)\n",
      "    slope:      3.1491e-08 +/- 9.3097e-12 (0.03%) (init = 1)\n",
      "[[Correlations]] (unreported correlations are < 0.100)\n",
      "    C(intercept, slope) = -0.867\n",
      "[[Model]]\n",
      "    Model(line)\n",
      "[[Fit Statistics]]\n",
      "    # fitting method   = leastsq\n",
      "    # function evals   = 7\n",
      "    # data points      = 375\n",
      "    # variables        = 2\n",
      "    chi-square         = 1.1241e-05\n",
      "    reduced chi-square = 3.0136e-08\n",
      "    Akaike info crit   = -6492.08145\n",
      "    Bayesian info crit = -6484.22759\n",
      "[[Variables]]\n",
      "    intercept:  2.5044e-05 +/- 1.7965e-05 (71.73%) (init = 0)\n",
      "    slope:      1.7848e-05 +/- 5.1757e-09 (0.03%) (init = 1)\n",
      "[[Correlations]] (unreported correlations are < 0.100)\n",
      "    C(intercept, slope) = -0.867\n",
      "Fitting model to AES-256 Flash Write with 375 samples, from 16 to 6000 bytes in steps of 16.\n",
      "[[Model]]\n",
      "    Model(line)\n",
      "[[Fit Statistics]]\n",
      "    # fitting method   = leastsq\n",
      "    # function evals   = 9\n",
      "    # data points      = 375\n",
      "    # variables        = 2\n",
      "    chi-square         = 2.5200e-09\n",
      "    reduced chi-square = 6.7560e-12\n",
      "    Akaike info crit   = -9643.22524\n",
      "    Bayesian info crit = -9635.37139\n",
      "[[Variables]]\n",
      "    intercept:  3.4277e-06 +/- 2.6899e-07 (7.85%) (init = 0)\n",
      "    slope:      3.8893e-08 +/- 7.7495e-11 (0.20%) (init = 1)\n",
      "[[Correlations]] (unreported correlations are < 0.100)\n",
      "    C(intercept, slope) = -0.867\n",
      "[[Model]]\n",
      "    Model(line)\n",
      "[[Fit Statistics]]\n",
      "    # fitting method   = leastsq\n",
      "    # function evals   = 7\n",
      "    # data points      = 375\n",
      "    # variables        = 2\n",
      "    chi-square         = 2.5718e-04\n",
      "    reduced chi-square = 6.8950e-07\n",
      "    Akaike info crit   = -5318.24270\n",
      "    Bayesian info crit = -5310.38885\n",
      "[[Variables]]\n",
      "    intercept:  0.00206518 +/- 8.5931e-05 (4.16%) (init = 0)\n",
      "    slope:      1.3413e-05 +/- 2.4757e-08 (0.18%) (init = 1)\n",
      "[[Correlations]] (unreported correlations are < 0.100)\n",
      "    C(intercept, slope) = -0.867\n",
      "Fitting model to AES-256 Flash Read with 375 samples, from 16 to 6000 bytes in steps of 16.\n",
      "[[Model]]\n",
      "    Model(line)\n",
      "[[Fit Statistics]]\n",
      "    # fitting method   = leastsq\n",
      "    # function evals   = 9\n",
      "    # data points      = 375\n",
      "    # variables        = 2\n",
      "    chi-square         = 1.0371e-12\n",
      "    reduced chi-square = 2.7803e-15\n",
      "    Akaike info crit   = -12566.5813\n",
      "    Bayesian info crit = -12558.7274\n",
      "[[Variables]]\n",
      "    intercept: -1.0356e-07 +/- 5.4567e-09 (5.27%) (init = 0)\n",
      "    slope:      8.1044e-10 +/- 1.5721e-12 (0.19%) (init = 1)\n",
      "[[Correlations]] (unreported correlations are < 0.100)\n",
      "    C(intercept, slope) = -0.867\n",
      "[[Model]]\n",
      "    Model(line)\n",
      "[[Fit Statistics]]\n",
      "    # fitting method   = leastsq\n",
      "    # function evals   = 7\n",
      "    # data points      = 375\n",
      "    # variables        = 2\n",
      "    chi-square         = 2.6904e-07\n",
      "    reduced chi-square = 7.2128e-10\n",
      "    Akaike info crit   = -7891.75322\n",
      "    Bayesian info crit = -7883.89937\n",
      "[[Variables]]\n",
      "    intercept:  1.1320e-05 +/- 2.7793e-06 (24.55%) (init = 0)\n",
      "    slope:      6.6361e-07 +/- 8.0071e-10 (0.12%) (init = 1)\n",
      "[[Correlations]] (unreported correlations are < 0.100)\n",
      "    C(intercept, slope) = -0.867\n"
     ]
    }
   ],
   "source": [
    "# Fit lm\n",
    "if fit_lm:\n",
    "    model = None\n",
    "    if model is None:\n",
    "        def line(x, intercept, slope):\n",
    "            \"\"\"a line\"\"\"\n",
    "            return [intercept + slope*i for i in x]\n",
    "\n",
    "        model = Model(line)\n",
    "        params = model.make_params(intercept=0, slope=1)\n",
    "#         params['intercept'].set(min=0)\n",
    "    else:\n",
    "        params = model.params\n",
    "\n",
    "    model_results = {}\n",
    "    labels = analysis_config.get(\"labels\")\n",
    "    for parameter_name in parsed_data.keys():\n",
    "        length = len(parsed_data[parameter_name][result_types[0]])\n",
    "        x_step = parsed_data[parameter_name][\"x_step\"]\n",
    "        num_bytes = range(x_step, (length+1)*x_step, x_step)\n",
    "        if verbose:\n",
    "            print(\n",
    "                f\"Fitting model to {parameter_name} with {length} \" +\n",
    "                f\"samples, from {min(num_bytes)} to {max(num_bytes)} \"\n",
    "                f\"bytes in steps of {x_step}.\")\n",
    "        model_result = {}\n",
    "        for result_type in result_types:\n",
    "            model_result[result_type] = model.fit(\n",
    "                parsed_data[parameter_name][result_type], params,\n",
    "                x=num_bytes)\n",
    "            if verbose >= 2:\n",
    "                print(model_result[result_type].fit_report())\n",
    "            # Plot multiple view\n",
    "            if show_lm_plot >= 2:\n",
    "                fig, grid = model_result[result_type].plot(\n",
    "                    xlabel=f\"{labels[result_type]['x']} \" +\n",
    "                           f\"[{labels[result_type]['x_unit']}]\",\n",
    "                    ylabel=f\"{labels[result_type]['y']} \" +\n",
    "                           f\"[{labels[result_type]['y_unit']}]\")\n",
    "                fig.canvas.set_window_title(\n",
    "                    f\"Residuals of {parameter_name}\")\n",
    "                fig.tight_layout()\n",
    "                fig.show()\n",
    "            model_results[parameter_name] = model_result\n",
    "\n",
    "    # Plot single view\n",
    "    if show_lm_plot:\n",
    "        import matplotlib.pyplot as plt\n",
    "        fig = plt.figure(figsize=(9, 6))\n",
    "        fig.canvas.set_window_title(f\"Analysis {config.get('name')}\")\n",
    "        colors = dict(zip(result_types, ['r', 'b']))\n",
    "        line_styles = (\n",
    "            line_style for line_style in ('-', '--', '-.', ':') * 2)\n",
    "        # fig.suptitle(f\"Energy analysis of {config.get('name')}\")\n",
    "        ax = {}\n",
    "        ax[result_types[0]] = fig.add_subplot(1, 1, 1)\n",
    "        ax[result_types[1]] = ax[result_types[0]].twinx()\n",
    "        ax[result_types[0]].set_xlabel(\n",
    "            f\"{labels[result_types[0]]['x']} \" +\n",
    "            f\"[{labels[result_types[0]]['x_unit']}]\")\n",
    "        for result_type in result_types:\n",
    "            ax[result_type].set_ylabel(\n",
    "                f\"{labels[result_type]['y']} \" +\n",
    "                f\"[{labels[result_type]['y_unit']}]\",\n",
    "                color=colors[result_type])\n",
    "            ax[result_type].tick_params('y', colors=colors[result_type])\n",
    "\n",
    "        lines = []\n",
    "        title_str = \"\"\n",
    "        for parameter_name in parsed_data.keys():\n",
    "            length = len(parsed_data[parameter_name][result_types[0]])\n",
    "            x_step = parsed_data[parameter_name][\"x_step\"]\n",
    "            num_bytes = range(x_step, (length+1)*x_step, x_step)\n",
    "            model_result = {}\n",
    "            line_style = next(line_styles)\n",
    "            for result_type in result_types:\n",
    "                label = f\"{parameter_name} {labels[result_type]['y']}\"\n",
    "                lines += ax[result_type].plot(\n",
    "                    num_bytes, parsed_data[parameter_name][result_type],\n",
    "                    colors[result_type] + line_style, label=label)\n",
    "                title_str += f\"{label} \"\n",
    "                for param in params.keys():\n",
    "                    title_str += \"\".join(\n",
    "                        f\"{params[param].name.capitalize()}: \")\n",
    "                    title_str += \"\".join(\n",
    "                        f\"{model_results[parameter_name][result_type].params[param].value: .03} \")\n",
    "                    title_str += \"\".join(\n",
    "                        f\"{labels[result_type]['y_unit']}, \")\n",
    "                title_str = title_str[:-2] + \\\n",
    "                    f\" per {labels[result_type]['x_unit']}\\n\"\n",
    "        ax[result_types[0]].legend(handles=lines)\n",
    "        ax[result_types[0]].set_title(title_str[:-1])\n",
    "        # fig.tight_layout()\n",
    "        fig.tight_layout(rect=(0.05, 0.05, 1, 1))\n",
    "        fig.set_size_inches(8, 6, forward=True)\n",
    "        fig.show()\n",
    "\n",
    "    # Save model results to file\n",
    "    if dump_pickle:\n",
    "        model_results_dump = {}\n",
    "        for parameter_name in model_results.keys():\n",
    "            model_results_dump[parameter_name] = {}\n",
    "            for result_type in model_results[parameter_name].keys():\n",
    "                model_results_dump[parameter_name][result_type] = \\\n",
    "                    model_results[parameter_name][result_type].values\n",
    "\n",
    "        pickle.dump(model_results_dump, open(path.join(\n",
    "            path.curdir,\n",
    "            f\"{config_dict.get('file_name_base')}_model.p\"), \"wb\"))"
   ]
  },
  {
   "cell_type": "markdown",
   "metadata": {},
   "source": [
    "# Total from measurement"
   ]
  },
  {
   "cell_type": "code",
   "execution_count": 47,
   "metadata": {},
   "outputs": [
    {
     "name": "stdout",
     "output_type": "stream",
     "text": [
      "390.51592921961617 57167.26130346662\n"
     ]
    }
   ],
   "source": [
    "n_samples = 5995\n",
    "\n",
    "total_energy = sum(aes_encrypt_energy[:n_samples]) + sum(aes_flash_write_energy[:n_samples]) + sum(aes_flash_read_energy[:n_samples]) + sum(aes_decrypt_energy[:n_samples])\n",
    "total_time = sum(aes_encrypt_time_s[:n_samples]) + sum(aes_flash_write_time_s[:n_samples]) + sum(aes_flash_read_time_s[:n_samples]) + sum(aes_decrypt_time_s[:n_samples])\n",
    "print(total_energy, total_time)"
   ]
  },
  {
   "cell_type": "code",
   "execution_count": 48,
   "metadata": {},
   "outputs": [
    {
     "data": {
      "text/plain": [
       "[3.4982261333333406,\n",
       " 4.092264533333334,\n",
       " 4.818311466666656,\n",
       " 5.346345599999968,\n",
       " 5.940383999999993,\n",
       " 6.6658783999999915,\n",
       " 7.325644800000003,\n",
       " 7.721879466666692,\n",
       " 8.514550400000015,\n",
       " 9.108588799999929,\n",
       " 9.569685333333354,\n",
       " 10.229504000000055,\n",
       " 10.890095999999959,\n",
       " 11.352825600000116,\n",
       " 12.210343999999985,\n",
       " 12.737382399999998,\n",
       " 16.433203200000023,\n",
       " 17.09317120000009,\n",
       " 17.62207146666661,\n",
       " 18.34918613333336,\n",
       " 18.941817066666534,\n",
       " 19.53526933333327,\n",
       " 20.196979200000076,\n",
       " 20.724371199999926,\n",
       " 21.38313600000008,\n",
       " 22.044510933333484,\n",
       " 22.57276373333328,\n",
       " 23.23087359999998,\n",
       " 23.824953600000033,\n",
       " 24.419222400000052,\n",
       " 25.08182399999992,\n",
       " 25.80603360000011,\n",
       " 29.435139200000297,\n",
       " 29.96545279999974,\n",
       " 30.755167999999998,\n",
       " 31.2841504000001,\n",
       " 31.944862400000048,\n",
       " 32.53694826666664,\n",
       " 33.06386239999992,\n",
       " 33.7926911999995,\n",
       " 34.386759466666696,\n",
       " 34.97956586666673,\n",
       " 35.50988373333341,\n",
       " 36.166246400000105,\n",
       " 36.76332800000014,\n",
       " 37.421667200000286,\n",
       " 38.01446399999997,\n",
       " 38.67593493333344,\n",
       " 42.307152000000016,\n",
       " 43.03128959999958,\n",
       " 43.627014400000164,\n",
       " 44.152897066666696,\n",
       " 44.88203519999967,\n",
       " 45.53784693333274,\n",
       " 46.06682506666671,\n",
       " 46.796353066666626,\n",
       " 47.38722986666666,\n",
       " 47.85201813333239,\n",
       " 48.508787199999404,\n",
       " 49.236966400000085,\n",
       " 49.7618688000001,\n",
       " 50.42409813333348,\n",
       " 51.019185066666594,\n",
       " 51.61157120000048,\n",
       " 55.30797119999997,\n",
       " 55.969316266667235,\n",
       " 56.627037866666456,\n",
       " 57.35174399999998,\n",
       " 57.818222933332834,\n",
       " 58.40951253333327,\n",
       " 59.069802666666945,\n",
       " 59.73145226666654,\n",
       " 60.2563514666663,\n",
       " 60.85156906666711,\n",
       " 61.51223840000064,\n",
       " 62.10785279999919,\n",
       " 62.63282826666661,\n",
       " 63.36224106666677,\n",
       " 63.951416000000094,\n",
       " 64.48349066666559,\n",
       " 68.30842560000062,\n",
       " 68.8388479999995,\n",
       " 69.43304319999922,\n",
       " 70.15546133333305,\n",
       " 70.68626133333389,\n",
       " 71.21203893333305,\n",
       " 71.94162453333242,\n",
       " 72.53544693333413,\n",
       " 73.0596352000008,\n",
       " 73.78898133333234,\n",
       " 74.3150202666678,\n",
       " 75.04360160000002,\n",
       " 75.7046533333341,\n",
       " 76.22691999999986,\n",
       " 76.89168693333315,\n",
       " 77.54934613333297,\n",
       " 80.7832565333344,\n",
       " 81.3797871999995,\n",
       " 81.96927733333226,\n",
       " 82.5680650666678,\n",
       " 83.49204906666507,\n",
       " 84.08532693333282,\n",
       " 84.74161493333466,\n",
       " 85.20852586666727,\n",
       " 86.26198080000069,\n",
       " 86.85642506666636,\n",
       " 87.3191632000001,\n",
       " 87.97659359999966,\n",
       " 88.6379232000003,\n",
       " 89.23308159999976,\n",
       " 89.82777280000053,\n",
       " 90.48391786666699,\n",
       " 93.72036693333285,\n",
       " 94.38226346666755,\n",
       " 94.84298079999931,\n",
       " 95.63196640000004,\n",
       " 96.49273546666936,\n",
       " 97.08818560000054,\n",
       " 97.61593973333405,\n",
       " 98.33838293332953,\n",
       " 99.1320896000012,\n",
       " 99.72709706666905,\n",
       " 100.45255040000178,\n",
       " 101.0449696000002,\n",
       " 101.57518719999814,\n",
       " 102.3002837333351,\n",
       " 102.89275840000123,\n",
       " 103.48917279999803,\n",
       " 106.72329546666681,\n",
       " 107.31651093333383,\n",
       " 107.90620959999764,\n",
       " 108.50583893333621,\n",
       " 109.49469760000063,\n",
       " 109.89088426666704,\n",
       " 110.61731413333575,\n",
       " 111.27553280000235,\n",
       " 111.86925280000004,\n",
       " 112.52675253333244,\n",
       " 113.3887381333345,\n",
       " 113.85120799999982,\n",
       " 114.70844906666677,\n",
       " 115.17107626666423,\n",
       " 115.56589546666807,\n",
       " 116.35789653333362,\n",
       " 119.65635253333318,\n",
       " 120.31962026666498,\n",
       " 120.97868160000047,\n",
       " 121.50100480000248,\n",
       " 122.16764799999957,\n",
       " 122.69655306666749,\n",
       " 123.35280320000308,\n",
       " 124.27821493333191,\n",
       " 124.8072687999997,\n",
       " 125.73038026666872,\n",
       " 126.06027733333036,\n",
       " 126.9832234666648,\n",
       " 127.51261120000201,\n",
       " 128.10730826666727,\n",
       " 128.56747733333052,\n",
       " 129.49148426666923,\n",
       " 132.66025440000107,\n",
       " 133.18736853333314,\n",
       " 133.9125114666686,\n",
       " 134.1784922666669,\n",
       " 135.03457280000043,\n",
       " 135.961626666667,\n",
       " 136.28870346666488,\n",
       " 137.21289653333102,\n",
       " 137.873767466667,\n",
       " 138.46742933333365,\n",
       " 139.32543733333347,\n",
       " 139.9184250666661,\n",
       " 140.58047519999838,\n",
       " 141.1095573333352,\n",
       " 141.8974666666699,\n",
       " 142.42938186666265,\n",
       " 145.2030933333326,\n",
       " 145.72509333333272,\n",
       " 146.65436373333662,\n",
       " 147.1801445333334,\n",
       " 148.0376469333322,\n",
       " 148.62961119999696,\n",
       " 149.35886506667018,\n",
       " 149.95166346666622,\n",
       " 150.8794879999975,\n",
       " 151.53229973333993,\n",
       " 152.00097280000335,\n",
       " 152.39425386667094,\n",
       " 153.3176074666649,\n",
       " 153.9761573333287,\n",
       " 154.30753279999365,\n",
       " 154.83695466667058,\n",
       " 157.9428037333379,\n",
       " 158.39758239999568,\n",
       " 158.99503040000695,\n",
       " 159.7184282666646,\n",
       " 160.70801813333802,\n",
       " 161.4377354666665,\n",
       " 161.82920800000034,\n",
       " 162.49195786666704,\n",
       " 163.2167461333367,\n",
       " 163.87713280000327,\n",
       " 164.80594080000088,\n",
       " 165.19608800000185,\n",
       " 165.9906661333359,\n",
       " 166.5847109333356,\n",
       " 167.17778133333638,\n",
       " 167.6433354666642,\n",
       " 170.60894933332804,\n",
       " 171.20139360000053,\n",
       " 171.79667733333304,\n",
       " 172.7935989333318,\n",
       " 173.38005919999944,\n",
       " 173.90892426666937,\n",
       " 174.63949226667097,\n",
       " 175.42553386666526,\n",
       " 176.0878218666697,\n",
       " 176.6803568000057,\n",
       " 177.34541759999445,\n",
       " 177.93457066666107,\n",
       " 178.52747893333998,\n",
       " 179.12802239999692,\n",
       " 179.71771360000233,\n",
       " 180.37616213333507,\n",
       " 183.41172479999557,\n",
       " 184.0101183999998,\n",
       " 184.6660245333318,\n",
       " 185.19822826666754,\n",
       " 185.98643893333033,\n",
       " 186.6456314666678,\n",
       " 187.24422399999696,\n",
       " 188.09582453333462,\n",
       " 188.43206986666416,\n",
       " 189.6165642666645,\n",
       " 190.0116549333326,\n",
       " 190.87124373333353,\n",
       " 191.1366085333377,\n",
       " 192.05769919999938,\n",
       " 192.46161226666203,\n",
       " 193.114936533334,\n",
       " 195.9575989333331,\n",
       " 196.74417066666905,\n",
       " 197.53965706666676,\n",
       " 198.13117333333352,\n",
       " 198.98754773333494,\n",
       " 199.38972639999264,\n",
       " 199.9782751999959,\n",
       " 200.6430911999999,\n",
       " 201.49580053333693,\n",
       " 202.36139146666687,\n",
       " 203.08012106666595,\n",
       " 203.54784426666583,\n",
       " 203.8732911999972,\n",
       " 204.66779466666907,\n",
       " 205.12518986666706,\n",
       " 205.9236789333383,\n",
       " 209.0188895999887,\n",
       " 209.4198602666566,\n",
       " 210.20683946667162,\n",
       " 210.87278453333624,\n",
       " 211.79228426667152,\n",
       " 212.5226181333204,\n",
       " 212.91273066667316,\n",
       " 213.71108213334367,\n",
       " 214.56121439999265,\n",
       " 214.89944319998955,\n",
       " 215.35533226666104,\n",
       " 216.01905333332638,\n",
       " 216.81005013333277,\n",
       " 217.53543146665777,\n",
       " 218.19587999999612,\n",
       " 218.92017706667133,\n",
       " 221.82937653332857,\n",
       " 222.28526293333317,\n",
       " 222.8192271999987,\n",
       " 223.27651359999123,\n",
       " 224.26917546665948,\n",
       " 225.12723840000604,\n",
       " 225.58797013333276,\n",
       " 226.38118613333802,\n",
       " 226.9781909333375,\n",
       " 227.49693386667502,\n",
       " 228.29664853333043,\n",
       " 228.8214389333305,\n",
       " 229.74541493334044,\n",
       " 230.08069759999472,\n",
       " 230.93131626665553,\n",
       " 231.2654373333345,\n",
       " 234.36913226667144,\n",
       " 234.82991360000227,\n",
       " 235.55006933333544,\n",
       " 236.1489242666721,\n",
       " 237.07189279999596,\n",
       " 237.66411039999724,\n",
       " 238.1953893333204,\n",
       " 238.985423999992,\n",
       " 239.84563733333886,\n",
       " 240.30424319999355,\n",
       " 241.2988021333291,\n",
       " 241.82592586665663,\n",
       " 242.21747573333374,\n",
       " 243.01224586666592,\n",
       " 243.40977333333313,\n",
       " 244.06953919999097,\n",
       " 247.23091946665932,\n",
       " 247.8955776000049,\n",
       " 248.4947178666772,\n",
       " 248.95142933333148,\n",
       " 249.94442880000634,\n",
       " 250.66572639999407,\n",
       " 251.13101653332848,\n",
       " 251.85676106666932,\n",
       " 252.71171680000748,\n",
       " 252.98012373333734,\n",
       " 253.96568639999373,\n",
       " 254.5642554666685,\n",
       " 254.95964373332924,\n",
       " 255.81473333333804,\n",
       " 256.34760159999814,\n",
       " 256.99932266667247,\n",
       " 259.5804106666648,\n",
       " 260.304419199997,\n",
       " 260.96471893332307,\n",
       " 261.56130346666373,\n",
       " 262.2141792000008,\n",
       " 263.0720303999965,\n",
       " 263.6717087999969,\n",
       " 264.19727946665716,\n",
       " 265.1229920000091,\n",
       " 265.38884906666027,\n",
       " 266.4413375999928,\n",
       " 267.0381541333313,\n",
       " 267.6952517333291,\n",
       " 268.22106613332863,\n",
       " 268.885776533331,\n",
       " 269.40791680001297,\n",
       " 272.1170117333216,\n",
       " 272.84421119999536,\n",
       " 273.37088266666854,\n",
       " 273.96602880000387,\n",
       " 274.89064586666956,\n",
       " 275.5511466666647,\n",
       " 276.0787253333348,\n",
       " 276.74037653334693,\n",
       " 278.05839039999825,\n",
       " 278.2569205333374,\n",
       " 278.9161488000076,\n",
       " 279.5740746666695,\n",
       " 279.97405119999996,\n",
       " 280.5023562666591,\n",
       " 281.1583728000002,\n",
       " 281.6917765333429,\n",
       " 284.6559514666822,\n",
       " 285.0519578666635,\n",
       " 285.8499994666701,\n",
       " 286.5730608000021,\n",
       " 287.4298277333409,\n",
       " 287.89140479998565,\n",
       " 288.42213546666784,\n",
       " 288.8813920000004,\n",
       " 290.0684410666656,\n",
       " 290.7303445333369,\n",
       " 291.1921658666685,\n",
       " 291.9826997333317,\n",
       " 292.7099146666592,\n",
       " 293.03816693333573,\n",
       " 293.8316090666717,\n",
       " 294.62808853333655,\n",
       " 296.86719253334104,\n",
       " 297.791526933338,\n",
       " 298.3864613333296,\n",
       " 299.04745973334457,\n",
       " 299.77592639997397,\n",
       " 300.10090613333773,\n",
       " 297.39513173333876]"
      ]
     },
     "execution_count": 48,
     "metadata": {},
     "output_type": "execute_result"
    }
   ],
   "source": [
    "          [e + w + r + d for (e,w,r,d) in zip(aes_encrypt_energy, aes_flash_write_energy, aes_flash_read_energy, aes_decrypt_energy)],\n",
    "          [e + w + r + d for (e,w,r,d) in zip(aes_encrypt_time_s, aes_flash_write_time_s, aes_flash_read_time_s, aes_decrypt_time_s)]"
   ]
  },
  {
   "cell_type": "code",
   "execution_count": null,
   "metadata": {},
   "outputs": [],
   "source": []
  },
  {
   "cell_type": "code",
   "execution_count": null,
   "metadata": {},
   "outputs": [],
   "source": []
  },
  {
   "cell_type": "code",
   "execution_count": null,
   "metadata": {},
   "outputs": [],
   "source": []
  },
  {
   "cell_type": "code",
   "execution_count": null,
   "metadata": {},
   "outputs": [],
   "source": []
  },
  {
   "cell_type": "code",
   "execution_count": null,
   "metadata": {},
   "outputs": [],
   "source": []
  },
  {
   "cell_type": "code",
   "execution_count": null,
   "metadata": {},
   "outputs": [],
   "source": []
  },
  {
   "cell_type": "code",
   "execution_count": null,
   "metadata": {},
   "outputs": [],
   "source": []
  },
  {
   "cell_type": "code",
   "execution_count": null,
   "metadata": {},
   "outputs": [],
   "source": []
  },
  {
   "cell_type": "code",
   "execution_count": null,
   "metadata": {},
   "outputs": [],
   "source": []
  },
  {
   "cell_type": "code",
   "execution_count": null,
   "metadata": {},
   "outputs": [],
   "source": []
  },
  {
   "cell_type": "code",
   "execution_count": null,
   "metadata": {},
   "outputs": [],
   "source": []
  },
  {
   "cell_type": "code",
   "execution_count": null,
   "metadata": {},
   "outputs": [],
   "source": []
  }
 ],
 "metadata": {
  "kernelspec": {
   "display_name": "Python 3",
   "language": "python",
   "name": "python3"
  },
  "language_info": {
   "codemirror_mode": {
    "name": "ipython",
    "version": 3
   },
   "file_extension": ".py",
   "mimetype": "text/x-python",
   "name": "python",
   "nbconvert_exporter": "python",
   "pygments_lexer": "ipython3",
   "version": "3.8.1"
  }
 },
 "nbformat": 4,
 "nbformat_minor": 4
}

{
 "cells": [
  {
   "cell_type": "markdown",
   "metadata": {},
   "source": [
    "## Import Libraries"
   ]
  },
  {
   "cell_type": "code",
   "execution_count": 1,
   "metadata": {},
   "outputs": [],
   "source": [
    "# %matplotlib ipympl\n",
    "# %matplotlib inline\n",
    "%matplotlib wx"
   ]
  },
  {
   "cell_type": "code",
   "execution_count": 2,
   "metadata": {},
   "outputs": [],
   "source": [
    "import matplotlib.pyplot as plt\n",
    "plt.ion()"
   ]
  },
  {
   "cell_type": "code",
   "execution_count": 3,
   "metadata": {},
   "outputs": [],
   "source": [
    "from pydgilib_extra import *\n",
    "from atprogram import atprogram"
   ]
  },
  {
   "cell_type": "code",
   "execution_count": 4,
   "metadata": {},
   "outputs": [],
   "source": [
    "from os import getcwd, path, pardir\n",
    "import pickle"
   ]
  },
  {
   "cell_type": "markdown",
   "metadata": {},
   "source": [
    "## Compile and program project"
   ]
  },
  {
   "cell_type": "code",
   "execution_count": 5,
   "metadata": {},
   "outputs": [
    {
     "data": {
      "text/plain": [
       "'./AES-256_mbedTLS_library'"
      ]
     },
     "execution_count": 5,
     "metadata": {},
     "output_type": "execute_result"
    }
   ],
   "source": [
    "project_path = path.curdir + \"/\" + \"AES-256_mbedTLS_library\"\n",
    "project_name =  \"AES-256_mbedTLS_library\"\n",
    "device_name = \"ATSAML21J18B\"\n",
    "project_path"
   ]
  },
  {
   "cell_type": "code",
   "execution_count": 6,
   "metadata": {},
   "outputs": [
    {
     "name": "stdout",
     "output_type": "stream",
     "text": [
      "make: Nothing to be done for 'all'.\n",
      "\n",
      "[DEBUG] Starting execution of \"chiperase\"\n",
      "[DEBUG] Starting process 'C:\\Program Files (x86)\\Atmel\\Studio\\7.0\\atbackend\\atbackend.exe'\n",
      "[DEBUG] Connecting to TCP:127.0.0.1:52620\n",
      "[INFO] Connected to edbg, fw version: 3.25\n",
      "[INFO] Firmware check OK\n",
      "[DEBUG] Command \"chiperase\" finished with return code 0\n",
      "[DEBUG] Starting execution of \"program\"\n",
      "[DEBUG] Memory segment base written at 0x00000000. Size = 0x00004328.\n",
      "[DEBUG] Memory segment base written at 0x00004328. Size = 0x00000088.\n",
      "[DEBUG] Command \"program\" finished with return code 0\n",
      "[DEBUG] Starting execution of \"info\"\n",
      "[ERROR] Error in TCF lockbit format. Missed key Could not get Module LOCKBIT for ATSAML21J18B. (TCF Error code: 131120)\n",
      "[DEBUG] Command \"info\" finished with return code 0\n",
      "[DEBUG] Exit successfully.\n",
      "Firmware check OK\n",
      "Chiperase completed successfully\n",
      "Programming completed successfully.\n",
      "Tool edbg has firmware version: 03.25\n",
      "Target voltage: 3.31 V\n",
      "\n",
      "Device information:\n",
      "\n",
      "Name:       ATSAML21J18B  \n",
      "JtagId:     N/A           \n",
      "Revision:   C             \n",
      "Chip ID:    0x1081020f\n",
      "CPU arch.:  CORTEX-M0PLUS \n",
      "Series:     SAML21\n",
      "\n",
      "Memory Information:\n",
      "\n",
      "Address Space    StartAddress            Size\n",
      "\n",
      "base                      0x0     0x100000000\n",
      "  FLASH                   0x0         0x40000\n",
      "  CAL                0x800000             0x8\n",
      "  LOCKBIT            0x802000             0x4\n",
      "  AUX0               0x804000           0x100\n",
      "  AUX1               0x806000           0x100\n",
      "  RWW                0x400000          0x2000\n",
      "  HSRAM            0x20000000          0x8000\n",
      "  LPRAM            0x30000000          0x2000\n",
      "  HPB0             0x40000000          0x4000\n",
      "  HPB1             0x41000000         0x10000\n",
      "  HPB2             0x42000000          0x8000\n",
      "  HPB3             0x43000000          0x2000\n",
      "  HPB4             0x44000000          0x1000\n",
      "  PPB              0xe0000000        0x100000\n",
      "  SCS              0xe000e000          0x1000\n",
      "  PERIPHERALS      0x40000000      0x20000000\n",
      "\n",
      "fuses                     0x0      0x20000000\n",
      "\n",
      "OTP5_WORD_0 (0b01110111011001010010110110111111 <-> 0x77652dbf):\n",
      "   USB_TRIM      0x6\n",
      "   USB_TRANSP    0x19\n",
      "   USB_TRANSN    0x9\n",
      "   ADC_BIASCOMP  0x7\n",
      "   ADC_BIASREFBUF 0x7\n",
      "\n",
      "TEMP_LOG_WORD_1 (0b11010101010010111000100111111001 <-> 0xd54b89f9):\n",
      "   HOT_ADC_VAL   0xd54\n",
      "   ROOM_ADC_VAL  0xb89\n",
      "   HOT_INT1V_VAL 0xf9\n",
      "\n",
      "TEMP_LOG_WORD_0 (0b11111011100101010100100000011101 <-> 0xfb95481d):\n",
      "   ROOM_INT1V_VAL 0xfb\n",
      "   HOT_TEMP_VAL_DEC 0x9\n",
      "   HOT_TEMP_VAL_INT 0x54\n",
      "   ROOM_TEMP_VAL_DEC 0x8\n",
      "   ROOM_TEMP_VAL_INT 0x1d\n",
      "\n",
      "USER_WORD_1 (0b11111111111111111111100010111011 <-> 0xfffff8bb):\n",
      "   NVMCTRL_REGION_LOCKS 0xffff\n",
      "   BOD12_HYST    0\n",
      "   BOD33_HYST    0\n",
      "   WDT_WEN       0\n",
      "   WDT_EWOFFSET  0xb\n",
      "   WDT_WINDOW    0xb\n",
      "\n",
      "USER_WORD_0 (0b10110001000111101000011011111111 <-> 0xb11e86ff):\n",
      "   WDT_PER       0xb\n",
      "   WDT_ALWAYSON  0\n",
      "   WDT_ENABLE    0\n",
      "   BOD12_DIS     0\n",
      "   BOD33_ACTION  0x1\n",
      "   BOD33_DIS     0\n",
      "   BOD33USERLEVEL 0x6\n",
      "   NVMCTRL_EEPROM_SIZE 0x7\n",
      "   NVMCTRL_BOOTPROT 0x7\n",
      "\n",
      "\n"
     ]
    },
    {
     "data": {
      "text/plain": [
       "0"
      ]
     },
     "execution_count": 6,
     "metadata": {},
     "output_type": "execute_result"
    }
   ],
   "source": [
    "atprogram.atprogram(project_name, device_name = device_name ,verbose=3)"
   ]
  },
  {
   "cell_type": "code",
   "execution_count": 7,
   "metadata": {},
   "outputs": [],
   "source": [
    "#atprogram(path.abspath(path.join(*project_path)), verbose=2)"
   ]
  },
  {
   "cell_type": "code",
   "execution_count": 8,
   "metadata": {},
   "outputs": [
    {
     "name": "stdout",
     "output_type": "stream",
     "text": [
      "{'text': 17192, 'data': 136, 'bss': 8832, 'dec': 26160, 'hex': 26160, 'filename': 'AES-256_mbedTLS_library.elf'}\n"
     ]
    },
    {
     "data": {
      "text/plain": [
       "{'text': 17192,\n",
       " 'data': 136,\n",
       " 'bss': 8832,\n",
       " 'dec': 26160,\n",
       " 'hex': 26160,\n",
       " 'filename': 'AES-256_mbedTLS_library.elf'}"
      ]
     },
     "execution_count": 8,
     "metadata": {},
     "output_type": "execute_result"
    }
   ],
   "source": [
    "atprogram.get_project_size(project_name, device_name = device_name, verbose=2)"
   ]
  },
  {
   "cell_type": "code",
   "execution_count": null,
   "metadata": {},
   "outputs": [],
   "source": []
  },
  {
   "cell_type": "markdown",
   "metadata": {},
   "source": [
    "## Data Logging"
   ]
  },
  {
   "cell_type": "code",
   "execution_count": 9,
   "metadata": {},
   "outputs": [],
   "source": [
    "live_plot = False"
   ]
  },
  {
   "cell_type": "markdown",
   "metadata": {},
   "source": [
    "Create a figure for the plot."
   ]
  },
  {
   "cell_type": "code",
   "execution_count": 10,
   "metadata": {},
   "outputs": [],
   "source": [
    "if live_plot:\n",
    "    fig = plt.figure(figsize=(10, 6))\n",
    "    fig.show()"
   ]
  },
  {
   "cell_type": "markdown",
   "metadata": {},
   "source": [
    "Create the configuration dictionary for `DGILibExtra`."
   ]
  },
  {
   "cell_type": "code",
   "execution_count": 11,
   "metadata": {},
   "outputs": [],
   "source": [
    "config_dict = {\n",
    "    \"loggers\": [LOGGER_OBJECT, LOGGER_CSV],\n",
    "    \"file_name_base\": \"experiment_aes_flash\"\n",
    "}\n",
    "config_dict_plot = {\n",
    "    \"loggers\": [LOGGER_OBJECT, LOGGER_PLOT, LOGGER_CSV],\n",
    "    \"plot_pins\": [False, False, True, True],\n",
    "    \"plot_pins_method\": \"line\",\n",
    "    \"plot_xmax\": 5,\n",
    "    \"window_title\": \"Experiment AES-128 Flash\",\n",
    "}"
   ]
  },
  {
   "cell_type": "markdown",
   "metadata": {},
   "source": [
    "Stop criteria to pass to the logger:"
   ]
  },
  {
   "cell_type": "code",
   "execution_count": 12,
   "metadata": {},
   "outputs": [],
   "source": [
    "def stop_fn(logger_data):\n",
    "    return all(logger_data.gpio.values[-1])"
   ]
  },
  {
   "cell_type": "code",
   "execution_count": 13,
   "metadata": {},
   "outputs": [],
   "source": [
    "#with DGILib() as dgilib:\n",
    "#     dgilib.get_major_version()"
   ]
  },
  {
   "cell_type": "markdown",
   "metadata": {},
   "source": [
    "Perform the measurement."
   ]
  },
  {
   "cell_type": "code",
   "execution_count": 14,
   "metadata": {},
   "outputs": [],
   "source": [
    "data = []\n",
    "cd = config_dict.copy()\n",
    "if live_plot:\n",
    "    fig.clf()\n",
    "    for ax in fig.get_axes():\n",
    "        ax.cla()\n",
    "    \n",
    "    cd.update(config_dict_plot)\n",
    "    cd[\"fig\"] = fig\n",
    "    \n",
    "with DGILibExtra(**cd) as dgilib:\n",
    "    dgilib.device_reset()\n",
    "    dgilib.logger.log(1000,stop_fn)\n",
    "    data = dgilib.data"
   ]
  },
  {
   "cell_type": "code",
   "execution_count": 15,
   "metadata": {},
   "outputs": [
    {
     "data": {
      "text/plain": [
       "{48: 6004, 256: 842000}"
      ]
     },
     "execution_count": 15,
     "metadata": {},
     "output_type": "execute_result"
    }
   ],
   "source": [
    "data.length()"
   ]
  },
  {
   "cell_type": "code",
   "execution_count": 16,
   "metadata": {},
   "outputs": [
    {
     "name": "stdout",
     "output_type": "stream",
     "text": [
      "Interfaces:\n",
      "\t  48:   gpio,    samples:    6004\n",
      "\t 256:   power,   samples:  842000\n",
      "\n"
     ]
    }
   ],
   "source": [
    "print(data)"
   ]
  },
  {
   "cell_type": "markdown",
   "metadata": {},
   "source": [
    "# Store Data"
   ]
  },
  {
   "cell_type": "code",
   "execution_count": 17,
   "metadata": {},
   "outputs": [],
   "source": [
    "import pickle"
   ]
  },
  {
   "cell_type": "code",
   "execution_count": 18,
   "metadata": {},
   "outputs": [],
   "source": [
    "pickle.dump(data, open(\"aes_flash_logger_data.p\", \"wb\"))"
   ]
  },
  {
   "cell_type": "markdown",
   "metadata": {},
   "source": [
    "# Load Data"
   ]
  },
  {
   "cell_type": "code",
   "execution_count": 19,
   "metadata": {},
   "outputs": [],
   "source": [
    "data = pickle.load(open(\"aes_flash_logger_data.p\", \"rb\"))"
   ]
  },
  {
   "cell_type": "code",
   "execution_count": 20,
   "metadata": {},
   "outputs": [],
   "source": [
    "#iteration = 0\n",
    "#name = \"AES-128_Flash\"\n",
    "#data = pickle.load(open(path.join(path.pardir, path.pardir, f\"{name}_{iteration}.p\"), \"rb\"))"
   ]
  },
  {
   "cell_type": "markdown",
   "metadata": {},
   "source": [
    "## Analysis"
   ]
  },
  {
   "cell_type": "markdown",
   "metadata": {},
   "source": [
    "Create Stop Function to stop parsing the data when all pins are high."
   ]
  },
  {
   "cell_type": "code",
   "execution_count": 21,
   "metadata": {},
   "outputs": [],
   "source": [
    "def stop_function(pin_values):\n",
    "    return all(pin_values)"
   ]
  },
  {
   "cell_type": "markdown",
   "metadata": {},
   "source": [
    "Parse the data."
   ]
  },
  {
   "cell_type": "code",
   "execution_count": 22,
   "metadata": {},
   "outputs": [],
   "source": [
    "aes_charge, aes_time = power_and_time_per_pulse(data, 2, stop_function=stop_function)"
   ]
  },
  {
   "cell_type": "code",
   "execution_count": 23,
   "metadata": {},
   "outputs": [],
   "source": [
    "flash_charge, flash_time = power_and_time_per_pulse(data, 3, stop_function=stop_function)"
   ]
  },
  {
   "cell_type": "code",
   "execution_count": 24,
   "metadata": {},
   "outputs": [
    {
     "name": "stdout",
     "output_type": "stream",
     "text": [
      "750 750 750 750\n"
     ]
    }
   ],
   "source": [
    "print(len(aes_charge), len(aes_time), len(flash_charge), len(flash_time))\n",
    "# cutoff = min(len(aes_charge), len(aes_time), len(flash_charge), len(flash_time))\n",
    "# aes_charge = aes_charge[:cutoff]\n",
    "# aes_time = aes_time[:cutoff]\n",
    "# flash_charge = flash_charge[:cutoff]\n",
    "# flash_time = flash_time[:cutoff]"
   ]
  },
  {
   "cell_type": "code",
   "execution_count": 25,
   "metadata": {},
   "outputs": [],
   "source": [
    "# length = len(aes_charge)\n",
    "# assert length == len(aes_time)\n",
    "# assert length == len(flash_charge)\n",
    "# assert length == len(flash_time)\n",
    "# print(length)"
   ]
  },
  {
   "cell_type": "code",
   "execution_count": 26,
   "metadata": {},
   "outputs": [],
   "source": [
    "aes_encrypt_charge = aes_charge[0::2]\n",
    "aes_decrypt_charge = aes_charge[1::2]\n",
    "aes_encrypt_time = aes_time[0::2]\n",
    "aes_decrypt_time = aes_time[1::2]"
   ]
  },
  {
   "cell_type": "code",
   "execution_count": 27,
   "metadata": {},
   "outputs": [],
   "source": [
    "aes_flash_write_charge = flash_charge[0::2]\n",
    "aes_flash_read_charge = flash_charge[1::2]\n",
    "aes_flash_write_time = flash_time[0::2]\n",
    "aes_flash_read_time = flash_time[1::2]"
   ]
  },
  {
   "cell_type": "code",
   "execution_count": 28,
   "metadata": {},
   "outputs": [
    {
     "data": {
      "text/plain": [
       "(375, 375, 375, 375, 375, 375, 375, 375)"
      ]
     },
     "execution_count": 28,
     "metadata": {},
     "output_type": "execute_result"
    }
   ],
   "source": [
    "len(aes_encrypt_charge), len(aes_decrypt_charge), len(aes_encrypt_time), len(aes_decrypt_time), len(aes_flash_write_charge), len(aes_flash_read_charge), len(aes_flash_write_time), len(aes_flash_read_time)"
   ]
  },
  {
   "cell_type": "code",
   "execution_count": 29,
   "metadata": {},
   "outputs": [],
   "source": [
    "drop = 0\n",
    "cutoff = min(len(aes_encrypt_charge), len(aes_decrypt_charge), len(aes_encrypt_time), len(aes_decrypt_time), len(aes_flash_write_charge), len(aes_flash_read_charge), len(aes_flash_write_time), len(aes_flash_read_time)) - drop\n",
    "aes_encrypt_charge = aes_encrypt_charge[:cutoff]\n",
    "aes_decrypt_charge = aes_decrypt_charge[:cutoff]\n",
    "aes_encrypt_time = aes_encrypt_time[:cutoff]\n",
    "aes_decrypt_time = aes_decrypt_time[:cutoff]\n",
    "aes_flash_write_charge = aes_flash_write_charge[:cutoff]\n",
    "aes_flash_read_charge = aes_flash_read_charge[:cutoff]\n",
    "aes_flash_write_time = aes_flash_write_time[:cutoff]\n",
    "aes_flash_read_time = aes_flash_read_time[:cutoff]"
   ]
  },
  {
   "cell_type": "code",
   "execution_count": 30,
   "metadata": {},
   "outputs": [
    {
     "name": "stdout",
     "output_type": "stream",
     "text": [
      "375\n"
     ]
    }
   ],
   "source": [
    "length = len(aes_encrypt_charge)\n",
    "assert length == len(aes_decrypt_charge)\n",
    "assert length == len(aes_encrypt_time)\n",
    "assert length == len(aes_decrypt_time)\n",
    "assert length == len(aes_flash_write_charge)\n",
    "assert length == len(aes_flash_read_charge)\n",
    "assert length == len(aes_flash_write_time)\n",
    "assert length == len(aes_flash_read_time)\n",
    "print(length)"
   ]
  },
  {
   "cell_type": "markdown",
   "metadata": {},
   "source": [
    "# Convert to Joule"
   ]
  },
  {
   "cell_type": "code",
   "execution_count": 31,
   "metadata": {},
   "outputs": [],
   "source": [
    "voltage = 3.31\n",
    "j_scale = 1e3 # m\n",
    "t_scale = 1e3 # m\n",
    "model_j_scale = 1e6 # n\n",
    "model_t_scale = 1e3 # u\n",
    "\n",
    "experiment_name = project_name"
   ]
  },
  {
   "cell_type": "code",
   "execution_count": 32,
   "metadata": {},
   "outputs": [],
   "source": [
    "aes_encrypt_energy = aes_encrypt_charge[:cutoff]\n",
    "aes_flash_write_energy = aes_flash_write_charge[:cutoff]\n",
    "aes_flash_read_energy = aes_flash_read_charge[:cutoff]\n",
    "aes_decrypt_energy = aes_decrypt_charge[:cutoff]\n",
    "aes_encrypt_time_s = aes_encrypt_time[:cutoff]\n",
    "aes_flash_write_time_s = aes_flash_write_time[:cutoff]\n",
    "aes_flash_read_time_s = aes_flash_read_time[:cutoff]\n",
    "aes_decrypt_time_s = aes_decrypt_time[:cutoff]\n",
    "\n",
    "for i in range(len(aes_encrypt_energy)):\n",
    "    aes_encrypt_energy[i] = aes_encrypt_energy[i] * voltage * j_scale\n",
    "for i in range(len(aes_flash_write_energy)):\n",
    "    aes_flash_write_energy[i] = aes_flash_write_energy[i] * voltage * j_scale\n",
    "for i in range(len(aes_flash_read_energy)):\n",
    "    aes_flash_read_energy[i] = aes_flash_read_energy[i] * voltage * j_scale\n",
    "for i in range(len(aes_decrypt_energy)):\n",
    "    aes_decrypt_energy[i] = aes_decrypt_energy[i] * voltage * j_scale\n",
    "    \n",
    "for i in range(len(aes_encrypt_time_s)):\n",
    "    aes_encrypt_time_s[i] = aes_encrypt_time_s[i] * t_scale\n",
    "for i in range(len(aes_flash_write_time_s)):\n",
    "    aes_flash_write_time_s[i] = aes_flash_write_time_s[i] * t_scale\n",
    "for i in range(len(aes_flash_read_time_s)):\n",
    "    aes_flash_read_time_s[i] = aes_flash_read_time_s[i] * t_scale\n",
    "for i in range(len(aes_decrypt_time_s)):\n",
    "    aes_decrypt_time_s[i] = aes_decrypt_time_s[i] * t_scale"
   ]
  },
  {
   "cell_type": "code",
   "execution_count": 33,
   "metadata": {},
   "outputs": [
    {
     "name": "stdout",
     "output_type": "stream",
     "text": [
      "MAX_NUM_BYTES: 6000\n"
     ]
    }
   ],
   "source": [
    "MBEDTLS_AES_BLOCK_SIZE = 16\n",
    "STEP_SIZE = MBEDTLS_AES_BLOCK_SIZE\n",
    "MIN_NUM_BYTES = STEP_SIZE\n",
    "num_bytes = range(MIN_NUM_BYTES, MIN_NUM_BYTES + STEP_SIZE * len(aes_encrypt_energy), STEP_SIZE)\n",
    "print(f\"MAX_NUM_BYTES: {num_bytes[-1]}\")"
   ]
  },
  {
   "cell_type": "code",
   "execution_count": 34,
   "metadata": {},
   "outputs": [],
   "source": [
    "from lmfit import Model\n",
    "\n",
    "def line(x, slope, intercept):\n",
    "    \"\"\"a line\"\"\"\n",
    "    return [slope*i + intercept for i in x]\n",
    "\n",
    "mod = Model(line)\n",
    "pars = mod.make_params(slope=0, intercept=1)\n",
    "# pars['intercept'].set(min=0)"
   ]
  },
  {
   "cell_type": "code",
   "execution_count": 35,
   "metadata": {},
   "outputs": [
    {
     "name": "stdout",
     "output_type": "stream",
     "text": [
      "[[Model]]\n",
      "    Model(line)\n",
      "[[Fit Statistics]]\n",
      "    # fitting method   = leastsq\n",
      "    # function evals   = 6\n",
      "    # data points      = 375\n",
      "    # variables        = 2\n",
      "    chi-square         = 1.9288e-05\n",
      "    reduced chi-square = 5.1710e-08\n",
      "    Akaike info crit   = -6289.60874\n",
      "    Bayesian info crit = -6281.75489\n",
      "[[Variables]]\n",
      "    slope:      8.2789e-05 +/- 6.7798e-09 (0.01%) (init = 0)\n",
      "    intercept: -0.00157761 +/- 2.3533e-05 (1.49%) (init = 1)\n",
      "[[Correlations]] (unreported correlations are < 0.100)\n",
      "    C(slope, intercept) = -0.867\n",
      "[[Model]]\n",
      "    Model(line)\n",
      "[[Fit Statistics]]\n",
      "    # fitting method   = leastsq\n",
      "    # function evals   = 6\n",
      "    # data points      = 375\n",
      "    # variables        = 2\n",
      "    chi-square         = 0.03134806\n",
      "    reduced chi-square = 8.4043e-05\n",
      "    Akaike info crit   = -3517.07340\n",
      "    Bayesian info crit = -3509.21955\n",
      "[[Variables]]\n",
      "    slope:      1.3083e-04 +/- 2.7332e-07 (0.21%) (init = 0)\n",
      "    intercept:  0.01780580 +/- 9.4871e-04 (5.33%) (init = 1)\n",
      "[[Correlations]] (unreported correlations are < 0.100)\n",
      "    C(slope, intercept) = -0.867\n",
      "[[Model]]\n",
      "    Model(line)\n",
      "[[Fit Statistics]]\n",
      "    # fitting method   = leastsq\n",
      "    # function evals   = 6\n",
      "    # data points      = 375\n",
      "    # variables        = 2\n",
      "    chi-square         = 5.2915e-06\n",
      "    reduced chi-square = 1.4186e-08\n",
      "    Akaike info crit   = -6774.62871\n",
      "    Bayesian info crit = -6766.77486\n",
      "[[Variables]]\n",
      "    slope:      2.9168e-06 +/- 3.5511e-09 (0.12%) (init = 0)\n",
      "    intercept: -2.7695e-04 +/- 1.2326e-05 (4.45%) (init = 1)\n",
      "[[Correlations]] (unreported correlations are < 0.100)\n",
      "    C(slope, intercept) = -0.867\n",
      "[[Model]]\n",
      "    Model(line)\n",
      "[[Fit Statistics]]\n",
      "    # fitting method   = leastsq\n",
      "    # function evals   = 6\n",
      "    # data points      = 375\n",
      "    # variables        = 2\n",
      "    chi-square         = 0.06618907\n",
      "    reduced chi-square = 1.7745e-04\n",
      "    Akaike info crit   = -3236.81224\n",
      "    Bayesian info crit = -3228.95839\n",
      "[[Variables]]\n",
      "    slope:      8.5928e-05 +/- 3.9716e-07 (0.46%) (init = 0)\n",
      "    intercept:  3.1644e-04 +/- 0.00137855 (435.64%) (init = 1)\n",
      "[[Correlations]] (unreported correlations are < 0.100)\n",
      "    C(slope, intercept) = -0.867\n",
      "[[Model]]\n",
      "    Model(line)\n",
      "[[Fit Statistics]]\n",
      "    # fitting method   = leastsq\n",
      "    # function evals   = 7\n",
      "    # data points      = 375\n",
      "    # variables        = 2\n",
      "    chi-square         = 0.25113293\n",
      "    reduced chi-square = 6.7328e-04\n",
      "    Akaike info crit   = -2736.76209\n",
      "    Bayesian info crit = -2728.90823\n",
      "[[Variables]]\n",
      "    slope:      0.01296272 +/- 7.7363e-07 (0.01%) (init = 0)\n",
      "    intercept:  0.00236885 +/- 0.00268522 (113.36%) (init = 1)\n",
      "[[Correlations]] (unreported correlations are < 0.100)\n",
      "    C(slope, intercept) = -0.867\n",
      "[[Model]]\n",
      "    Model(line)\n",
      "[[Fit Statistics]]\n",
      "    # fitting method   = leastsq\n",
      "    # function evals   = 6\n",
      "    # data points      = 375\n",
      "    # variables        = 2\n",
      "    chi-square         = 308.794372\n",
      "    reduced chi-square = 0.82786695\n",
      "    Akaike info crit   = -68.8439131\n",
      "    Bayesian info crit = -60.9900611\n",
      "[[Variables]]\n",
      "    slope:      0.01393072 +/- 2.7127e-05 (0.19%) (init = 0)\n",
      "    intercept:  2.19063741 +/- 0.09415943 (4.30%) (init = 1)\n",
      "[[Correlations]] (unreported correlations are < 0.100)\n",
      "    C(slope, intercept) = -0.867\n",
      "[[Model]]\n",
      "    Model(line)\n",
      "[[Fit Statistics]]\n",
      "    # fitting method   = leastsq\n",
      "    # function evals   = 6\n",
      "    # data points      = 375\n",
      "    # variables        = 2\n",
      "    chi-square         = 0.26484014\n",
      "    reduced chi-square = 7.1003e-04\n",
      "    Akaike info crit   = -2716.83309\n",
      "    Bayesian info crit = -2708.97924\n",
      "[[Variables]]\n",
      "    slope:      7.0651e-04 +/- 7.9444e-07 (0.11%) (init = 0)\n",
      "    intercept:  0.00918736 +/- 0.00275753 (30.01%) (init = 1)\n",
      "[[Correlations]] (unreported correlations are < 0.100)\n",
      "    C(slope, intercept) = -0.867\n",
      "[[Model]]\n",
      "    Model(line)\n",
      "[[Fit Statistics]]\n",
      "    # fitting method   = leastsq\n",
      "    # function evals   = 6\n",
      "    # data points      = 375\n",
      "    # variables        = 2\n",
      "    chi-square         = 1718.64071\n",
      "    reduced chi-square = 4.60761586\n",
      "    Akaike info crit   = 574.886106\n",
      "    Bayesian info crit = 582.739958\n",
      "[[Variables]]\n",
      "    slope:      0.01386260 +/- 6.3998e-05 (0.46%) (init = 0)\n",
      "    intercept:  0.23354987 +/- 0.22213743 (95.11%) (init = 1)\n",
      "[[Correlations]] (unreported correlations are < 0.100)\n",
      "    C(slope, intercept) = -0.867\n",
      "[[Model]]\n",
      "    Model(line)\n",
      "[[Fit Statistics]]\n",
      "    # fitting method   = leastsq\n",
      "    # function evals   = 6\n",
      "    # data points      = 375\n",
      "    # variables        = 2\n",
      "    chi-square         = 0.10463275\n",
      "    reduced chi-square = 2.8052e-04\n",
      "    Akaike info crit   = -3065.08428\n",
      "    Bayesian info crit = -3057.23042\n",
      "[[Variables]]\n",
      "    slope:      3.0246e-04 +/- 4.9935e-07 (0.17%) (init = 0)\n",
      "    intercept:  0.01626769 +/- 0.00173326 (10.65%) (init = 1)\n",
      "[[Correlations]] (unreported correlations are < 0.100)\n",
      "    C(slope, intercept) = -0.867\n",
      "[[Model]]\n",
      "    Model(line)\n",
      "[[Fit Statistics]]\n",
      "    # fitting method   = leastsq\n",
      "    # function evals   = 9\n",
      "    # data points      = 375\n",
      "    # variables        = 2\n",
      "    chi-square         = 2148.28750\n",
      "    reduced chi-square = 5.75948391\n",
      "    Akaike info crit   = 658.562600\n",
      "    Bayesian info crit = 666.416452\n",
      "[[Variables]]\n",
      "    slope:      0.04146254 +/- 7.1551e-05 (0.17%) (init = 0)\n",
      "    intercept:  2.43574336 +/- 0.24835636 (10.20%) (init = 1)\n",
      "[[Correlations]] (unreported correlations are < 0.100)\n",
      "    C(slope, intercept) = -0.867\n"
     ]
    }
   ],
   "source": [
    "results = []\n",
    "ylabels = (['Energy [mJ]'] * 2 + ['Time [ms]'] * 2) * 2 + ['Energy [mJ]'] + ['Time [ms]']\n",
    "parameter_names = [\n",
    "    'Encrypt Energy',\n",
    "    'Flash Write Energy',\n",
    "    'Flash Read Energy',\n",
    "    'Decrypt Energy',\n",
    "    'Encrypt Time',\n",
    "    'Flash Write Time',\n",
    "    'Flash Read Time',\n",
    "    'Decrypt Time',\n",
    "    'Total Energy',\n",
    "    'Total Time',\n",
    "]\n",
    "for y in [aes_encrypt_energy, aes_flash_write_energy, aes_flash_read_energy, aes_decrypt_energy, aes_encrypt_time_s, aes_flash_write_time_s, aes_flash_read_time_s, aes_decrypt_time_s,\n",
    "          [e + w + r + d for (e,w,r,d) in zip(aes_encrypt_energy, aes_flash_write_energy, aes_flash_read_energy, aes_decrypt_energy)],\n",
    "          [e + w + r + d for (e,w,r,d) in zip(aes_encrypt_time_s, aes_flash_write_time_s, aes_flash_read_time_s, aes_decrypt_time_s)]]:\n",
    "    result = mod.fit(y, pars, x=num_bytes)\n",
    "    print(result.fit_report())\n",
    "    fig, grid = result.plot(\n",
    "        xlabel='Checkpoint Size [Bytes]',\n",
    "        ylabel=ylabels[len(results)])\n",
    "    fig.tight_layout(rect=(0.05, 0.05, 1, 1))\n",
    "    fig.set_size_inches(5, 4.5, forward=True)\n",
    "    fig.canvas.set_window_title(\n",
    "        f\"Residuals of {experiment_name} {parameter_names[len(results)]}\")\n",
    "    fig.savefig( f\"Residuals of {experiment_name} {parameter_names[len(results)]}\")\n",
    "    fig.show()\n",
    "    results.append(result)"
   ]
  },
  {
   "cell_type": "code",
   "execution_count": 36,
   "metadata": {},
   "outputs": [],
   "source": [
    "fig2 = plt.figure(figsize=(8, 6))\n",
    "fig2.canvas.set_window_title(f\"Analysis {experiment_name}\")"
   ]
  },
  {
   "cell_type": "code",
   "execution_count": 37,
   "metadata": {},
   "outputs": [],
   "source": [
    "charge_color = 'r'\n",
    "time_color = 'b'"
   ]
  },
  {
   "cell_type": "code",
   "execution_count": 38,
   "metadata": {},
   "outputs": [],
   "source": [
    "fig2.clf()\n",
    "# fig2.suptitle(\"Energy analysis of AES\")\n",
    "ax1 = fig2.add_subplot(1, 1, 1)\n",
    "ax2 = ax1.twinx()\n",
    "ax1.set_xlabel('Checkpoint Size [Bytes]')\n",
    "ax1.set_ylabel('Energy [mJ]', color=charge_color)\n",
    "ax2.set_ylabel('Time [ms]', color=time_color)\n",
    "ax1.tick_params('y', colors=charge_color)\n",
    "ax2.tick_params('y', colors=time_color)"
   ]
  },
  {
   "cell_type": "code",
   "execution_count": 39,
   "metadata": {},
   "outputs": [],
   "source": [
    "lines = []\n",
    "lines += ax1.plot(num_bytes, aes_encrypt_energy, charge_color+'-', label=f'{parameter_names[len(lines)]}')\n",
    "lines += ax1.plot(num_bytes, aes_flash_write_energy, charge_color+'-.', label=f'{parameter_names[len(lines)]}')\n",
    "lines += ax1.plot(num_bytes, aes_flash_read_energy, charge_color+':', label=f'{parameter_names[len(lines)]}')\n",
    "lines += ax1.plot(num_bytes, aes_decrypt_energy, charge_color+'--', label=f'{parameter_names[len(lines)]}')\n",
    "lines += ax2.plot(num_bytes, aes_encrypt_time_s, time_color+'-', label=f'{parameter_names[len(lines)]}')\n",
    "lines += ax2.plot(num_bytes, aes_flash_write_time_s, time_color+'-.', label=f'{parameter_names[len(lines)]}')\n",
    "lines += ax2.plot(num_bytes, aes_flash_read_time_s, time_color+':', label=f'{parameter_names[len(lines)]}')\n",
    "lines += ax2.plot(num_bytes, aes_decrypt_time_s, time_color+'--', label=f'{parameter_names[len(lines)]}')\n",
    "ax1.legend(handles=lines)\n",
    "ax1.set_title(\n",
    "    f\"{parameter_names[0]}: Slope {results[0].params['slope'].value * model_j_scale:.04} nJ/B, Intercept {results[0].params['intercept'].value * model_j_scale:.04} nJ\\n\" +\n",
    "    f\"{parameter_names[1]}: Slope {results[1].params['slope'].value * model_j_scale:.04} nJ/B, Intercept {results[1].params['intercept'].value * model_j_scale:.04} nJ\\n\" +\n",
    "    f\"{parameter_names[2]}: Slope {results[2].params['slope'].value * model_j_scale:.04} nJ/B, Intercept {results[2].params['intercept'].value * model_j_scale:.04} nJ\\n\" +\n",
    "    f\"{parameter_names[3]}: Slope {results[3].params['slope'].value * model_j_scale:.04} nJ/B, Intercept {results[3].params['intercept'].value * model_j_scale:.04} nJ\\n\" +\n",
    "    f\"{parameter_names[4]}: Slope {results[4].params['slope'].value * model_t_scale:.04} $\\mu$s/B, Intercept {results[4].params['intercept'].value * model_t_scale:.04} $\\mu$s\\n\" +\n",
    "    f\"{parameter_names[5]}: Slope {results[5].params['slope'].value * model_t_scale:.04} $\\mu$s/B, Intercept {results[5].params['intercept'].value * model_t_scale:.04} $\\mu$s\\n\" +\n",
    "    f\"{parameter_names[6]}: Slope {results[6].params['slope'].value * model_t_scale:.04} $\\mu$s/B, Intercept {results[6].params['intercept'].value * model_t_scale:.04} $\\mu$s\\n\" +\n",
    "    f\"{parameter_names[7]}: Slope {results[7].params['slope'].value * model_t_scale:.04} $\\mu$s/B, Intercept {results[7].params['intercept'].value * model_t_scale:.04} $\\mu$s\\n\" +\n",
    "    f\"{parameter_names[8]}: Slope {results[8].params['slope'].value * model_j_scale:.04} nJ/B, Intercept {results[8].params['intercept'].value * model_j_scale:.04} nJ\\n\" +\n",
    "    f\"{parameter_names[9]}: Slope {results[9].params['slope'].value * model_t_scale:.04} $\\mu$s/B, Intercept {results[9].params['intercept'].value * model_t_scale:.04} $\\mu$s\\n\")\n",
    "fig2.tight_layout()\n",
    "fig2.savefig(f\"Analysis {experiment_name}\")\n",
    "fig2.show()"
   ]
  },
  {
   "cell_type": "code",
   "execution_count": 40,
   "metadata": {},
   "outputs": [
    {
     "name": "stdout",
     "output_type": "stream",
     "text": [
      "Encrypt Energy: Slope 82.788994246988593773 nJ/B, Intercept -1577.6078831186700882 nJ\n",
      "Flash Write Energy: Slope 130.82742148149927175 nJ/B, Intercept 17805.801108900843246 nJ\n",
      "Flash Read Energy: Slope 2.9168224159727733635 nJ/B, Intercept -276.94921687504427155 nJ\n",
      "Decrypt Energy: Slope 85.928048954982187979 nJ/B, Intercept 316.44236873951126654 nJ\n",
      "Encrypt Time: Slope 12.962716175080444714 $\\mu$s/B, Intercept 2.3688529964593918464 $\\mu$s\n",
      "Flash Write Time: Slope 13.930717095573946551 $\\mu$s/B, Intercept 2190.6374057630168863 $\\mu$s\n",
      "Flash Read Time: Slope 0.70650560445370103047 $\\mu$s/B, Intercept 9.1873558487474138445 $\\mu$s\n",
      "Decrypt Time: Slope 13.862600606621848343 $\\mu$s/B, Intercept 233.54986532639333063 $\\mu$s\n",
      "Total Energy: Slope 302.46128709944196089 nJ/B, Intercept 16267.686384193846607 nJ\n",
      "Total Time: Slope 41.462539477459998238 $\\mu$s/B, Intercept 2435.7433592427851181 $\\mu$s\n",
      "\n"
     ]
    }
   ],
   "source": [
    "print(\n",
    "    f\"{parameter_names[0]}: Slope {results[0].params['slope'].value * model_j_scale:.020} nJ/B, Intercept {results[0].params['intercept'].value * model_j_scale:.020} nJ\\n\" +\n",
    "    f\"{parameter_names[1]}: Slope {results[1].params['slope'].value * model_j_scale:.020} nJ/B, Intercept {results[1].params['intercept'].value * model_j_scale:.020} nJ\\n\" +\n",
    "    f\"{parameter_names[2]}: Slope {results[2].params['slope'].value * model_j_scale:.020} nJ/B, Intercept {results[2].params['intercept'].value * model_j_scale:.020} nJ\\n\" +\n",
    "    f\"{parameter_names[3]}: Slope {results[3].params['slope'].value * model_j_scale:.020} nJ/B, Intercept {results[3].params['intercept'].value * model_j_scale:.020} nJ\\n\" +\n",
    "    f\"{parameter_names[4]}: Slope {results[4].params['slope'].value * model_t_scale:.020} $\\mu$s/B, Intercept {results[4].params['intercept'].value * model_t_scale:.020} $\\mu$s\\n\" +\n",
    "    f\"{parameter_names[5]}: Slope {results[5].params['slope'].value * model_t_scale:.020} $\\mu$s/B, Intercept {results[5].params['intercept'].value * model_t_scale:.020} $\\mu$s\\n\" +\n",
    "    f\"{parameter_names[6]}: Slope {results[6].params['slope'].value * model_t_scale:.020} $\\mu$s/B, Intercept {results[6].params['intercept'].value * model_t_scale:.020} $\\mu$s\\n\" +\n",
    "    f\"{parameter_names[7]}: Slope {results[7].params['slope'].value * model_t_scale:.020} $\\mu$s/B, Intercept {results[7].params['intercept'].value * model_t_scale:.020} $\\mu$s\\n\" +\n",
    "    f\"{parameter_names[8]}: Slope {results[8].params['slope'].value * model_j_scale:.020} nJ/B, Intercept {results[8].params['intercept'].value * model_j_scale:.020} nJ\\n\" +\n",
    "    f\"{parameter_names[9]}: Slope {results[9].params['slope'].value * model_t_scale:.020} $\\mu$s/B, Intercept {results[9].params['intercept'].value * model_t_scale:.020} $\\mu$s\\n\"\n",
    ")"
   ]
  },
  {
   "cell_type": "code",
   "execution_count": 41,
   "metadata": {},
   "outputs": [],
   "source": [
    "# Save Charge amount list into pickle file\n",
    "import pickle\n",
    "pickle.dump(aes_encrypt_energy, open(\"aes_flash_encrypt_energy_mJ.p\", \"wb\"))\n",
    "pickle.dump(aes_decrypt_energy, open(\"aes_flash_decrypt_energy_mJ.p\", \"wb\"))\n",
    "pickle.dump(aes_flash_write_energy, open(\"aes_flash_write_energy_mJ.p\", \"wb\"))\n",
    "pickle.dump(aes_flash_read_energy, open(\"aes_flash_read_energy_mJ.p\", \"wb\"))\n",
    "pickle.dump(aes_encrypt_time_s, open(\"aes_flash_encrypt_time_ms.p\", \"wb\"))\n",
    "pickle.dump(aes_decrypt_time_s, open(\"aes_flash_decrypt_time_ms.p\", \"wb\"))\n",
    "pickle.dump(aes_flash_write_time_s, open(\"aes_flash_write_time_ms.p\", \"wb\"))\n",
    "pickle.dump(aes_flash_read_time_s, open(\"aes_flash_read_time_ms.p\", \"wb\"))"
   ]
  },
  {
   "cell_type": "code",
   "execution_count": 42,
   "metadata": {},
   "outputs": [
    {
     "name": "stdout",
     "output_type": "stream",
     "text": [
      "375 6000\n",
      "375 6000\n",
      "375 6000\n",
      "375 6000\n",
      "375 6000\n",
      "375 6000\n",
      "375 6000\n",
      "375 6000\n"
     ]
    }
   ],
   "source": [
    "aes = [aes_encrypt_energy, aes_flash_write_energy, aes_flash_read_energy, aes_decrypt_energy, aes_encrypt_time_s, aes_flash_write_time_s, aes_flash_read_time_s, aes_decrypt_time_s]\n",
    "for i in aes:\n",
    "    print(len(i), len(i)*16)"
   ]
  },
  {
   "cell_type": "markdown",
   "metadata": {},
   "source": [
    "## Write config file"
   ]
  },
  {
   "cell_type": "code",
   "execution_count": 43,
   "metadata": {},
   "outputs": [],
   "source": [
    "import json\n",
    "\n",
    "config = {}\n",
    "config[\"name\"] = \"AES-256 Flash\"\n",
    "config[\"project_paths\"] = [project_path]\n",
    "config[\"config_dict\"] = config_dict\n",
    "config[\"config_dict_plot\"] = config_dict_plot\n",
    "config[\"analysis\"] = {\"pins\":{2: [\"AES-256 Encrypt\", \"AES-256 Decrypt\"], 3: [\"AES-256 Flash Write\", \"AES-256 Flash Read\"]}, \n",
    "                      \"result_types\": [\"Charge\", \"Time\"],\n",
    "                      \"section_types\": {\"init\": [], \n",
    "                                        \"store\": [\"AES-256 Encrypt\", \"AES-256 Flash Write\"],\n",
    "                                        \"load\": [\"AES-256 Flash Read\", \"AES-256 Decrypt\"],\n",
    "                                        \"exit\": []},\n",
    "                      \"labels\": {\n",
    "                          \"Charge\": {\"x\":\"Data Size\", \"x_unit\": \"byte\", \"y\": \"Charge\", \"y_unit\": \"C\"},\n",
    "                          \"Time\": {\"x\":\"Data Size\", \"x_unit\": \"byte\", \"y\": \"Time\", \"y_unit\": \"s\"},\n",
    "                      },\n",
    "                      \"x_step\": MBEDTLS_AES_BLOCK_SIZE}\n",
    "\n",
    "with open(\"looped_experiment.json\", 'w') as config_file:  \n",
    "    json.dump(config, config_file, indent=4)"
   ]
  },
  {
   "cell_type": "markdown",
   "metadata": {},
   "source": [
    "# Write model data"
   ]
  },
  {
   "cell_type": "code",
   "execution_count": 44,
   "metadata": {},
   "outputs": [],
   "source": [
    "dump_pickle = True\n",
    "fit_lm = True\n",
    "verbose = 2\n",
    "show_lm_plot = 2\n",
    "# drop = 1"
   ]
  },
  {
   "cell_type": "code",
   "execution_count": 45,
   "metadata": {},
   "outputs": [],
   "source": [
    "# Parse data\n",
    "analysis_config = config.get(\"analysis\")\n",
    "result_types = analysis_config.get(\"result_types\")\n",
    "x_step = analysis_config.get(\"x_step\")\n",
    "parsed_data = {}\n",
    "for pin, parameter_names in analysis_config.get(\"pins\").items():\n",
    "    data2 = power_and_time_per_pulse(\n",
    "        data, int(pin), stop_function=stop_function)\n",
    "    num_names = len(parameter_names)\n",
    "    for i, parameter_name in enumerate(parameter_names):\n",
    "        end_index = -drop * num_names or None\n",
    "        parsed_data[parameter_name] = {\n",
    "            result_types[0]: data2[0][i:end_index:num_names],\n",
    "            result_types[1]: data2[1][i:end_index:num_names],\n",
    "            \"x_step\": x_step}\n",
    "if dump_pickle:\n",
    "    pickle.dump(parsed_data, open(\n",
    "        path.join(path.curdir,\n",
    "                  f\"{config_dict.get('file_name_base')}_looped.p\"), \"wb\"))"
   ]
  },
  {
   "cell_type": "code",
   "execution_count": 46,
   "metadata": {},
   "outputs": [
    {
     "name": "stdout",
     "output_type": "stream",
     "text": [
      "Fitting model to AES-256 Encrypt with 375 samples, from 16 to 6000 bytes in steps of 16.\n",
      "[[Model]]\n",
      "    Model(line)\n",
      "[[Fit Statistics]]\n",
      "    # fitting method   = leastsq\n",
      "    # function evals   = 10\n",
      "    # data points      = 375\n",
      "    # variables        = 2\n",
      "    chi-square         = 2.1814e-12\n",
      "    reduced chi-square = 5.8484e-15\n",
      "    Akaike info crit   = -12287.7354\n",
      "    Bayesian info crit = -12279.8815\n",
      "[[Variables]]\n",
      "    intercept: -2.9732e-07 +/- 7.9141e-09 (2.66%) (init = 0)\n",
      "    slope:      2.6895e-08 +/- 2.2800e-12 (0.01%) (init = 1)\n",
      "[[Correlations]] (unreported correlations are < 0.100)\n",
      "    C(intercept, slope) = -0.867\n",
      "[[Model]]\n",
      "    Model(line)\n",
      "[[Fit Statistics]]\n",
      "    # fitting method   = leastsq\n",
      "    # function evals   = 7\n",
      "    # data points      = 375\n",
      "    # variables        = 2\n",
      "    chi-square         = 3.3584e-07\n",
      "    reduced chi-square = 9.0039e-10\n",
      "    Akaike info crit   = -7808.57845\n",
      "    Bayesian info crit = -7800.72460\n",
      "[[Variables]]\n",
      "    intercept:  2.6357e-05 +/- 3.1053e-06 (11.78%) (init = 0)\n",
      "    slope:      3.8999e-05 +/- 8.9465e-10 (0.00%) (init = 1)\n",
      "[[Correlations]] (unreported correlations are < 0.100)\n",
      "    C(intercept, slope) = -0.867\n",
      "Fitting model to AES-256 Decrypt with 375 samples, from 16 to 6000 bytes in steps of 16.\n",
      "[[Model]]\n",
      "    Model(line)\n",
      "[[Fit Statistics]]\n",
      "    # fitting method   = leastsq\n",
      "    # function evals   = 10\n",
      "    # data points      = 375\n",
      "    # variables        = 2\n",
      "    chi-square         = 1.0081e-09\n",
      "    reduced chi-square = 2.7027e-12\n",
      "    Akaike info crit   = -9986.79841\n",
      "    Bayesian info crit = -9978.94456\n",
      "[[Variables]]\n",
      "    intercept:  2.6461e-08 +/- 1.7013e-07 (642.94%) (init = 0)\n",
      "    slope:      2.7883e-08 +/- 4.9014e-11 (0.18%) (init = 1)\n",
      "[[Correlations]] (unreported correlations are < 0.100)\n",
      "    C(intercept, slope) = -0.867\n",
      "[[Model]]\n",
      "    Model(line)\n",
      "[[Fit Statistics]]\n",
      "    # fitting method   = leastsq\n",
      "    # function evals   = 7\n",
      "    # data points      = 375\n",
      "    # variables        = 2\n",
      "    chi-square         = 0.00222792\n",
      "    reduced chi-square = 5.9730e-06\n",
      "    Akaike info crit   = -4508.60413\n",
      "    Bayesian info crit = -4500.75028\n",
      "[[Variables]]\n",
      "    intercept:  2.7672e-04 +/- 2.5292e-04 (91.40%) (init = 0)\n",
      "    slope:      4.1922e-05 +/- 7.2865e-08 (0.17%) (init = 1)\n",
      "[[Correlations]] (unreported correlations are < 0.100)\n",
      "    C(intercept, slope) = -0.867\n",
      "Fitting model to AES-256 Flash Write with 375 samples, from 16 to 6000 bytes in steps of 16.\n",
      "[[Model]]\n",
      "    Model(line)\n",
      "[[Fit Statistics]]\n",
      "    # fitting method   = leastsq\n",
      "    # function evals   = 9\n",
      "    # data points      = 375\n",
      "    # variables        = 2\n",
      "    chi-square         = 2.0284e-09\n",
      "    reduced chi-square = 5.4379e-12\n",
      "    Akaike info crit   = -9724.61272\n",
      "    Bayesian info crit = -9716.75887\n",
      "[[Variables]]\n",
      "    intercept:  3.8488e-06 +/- 2.4132e-07 (6.27%) (init = 0)\n",
      "    slope:      3.4205e-08 +/- 6.9525e-11 (0.20%) (init = 1)\n",
      "[[Correlations]] (unreported correlations are < 0.100)\n",
      "    C(intercept, slope) = -0.867\n",
      "[[Model]]\n",
      "    Model(line)\n",
      "[[Fit Statistics]]\n",
      "    # fitting method   = leastsq\n",
      "    # function evals   = 7\n",
      "    # data points      = 375\n",
      "    # variables        = 2\n",
      "    chi-square         = 4.5613e-04\n",
      "    reduced chi-square = 1.2229e-06\n",
      "    Akaike info crit   = -5103.37333\n",
      "    Bayesian info crit = -5095.51947\n",
      "[[Variables]]\n",
      "    intercept:  0.00268938 +/- 1.1444e-04 (4.26%) (init = 0)\n",
      "    slope:      2.1349e-05 +/- 3.2970e-08 (0.15%) (init = 1)\n",
      "[[Correlations]] (unreported correlations are < 0.100)\n",
      "    C(intercept, slope) = -0.867\n",
      "Fitting model to AES-256 Flash Read with 375 samples, from 16 to 6000 bytes in steps of 16.\n",
      "[[Model]]\n",
      "    Model(line)\n",
      "[[Fit Statistics]]\n",
      "    # fitting method   = leastsq\n",
      "    # function evals   = 10\n",
      "    # data points      = 375\n",
      "    # variables        = 2\n",
      "    chi-square         = 1.1073e-13\n",
      "    reduced chi-square = 2.9686e-16\n",
      "    Akaike info crit   = -13405.4761\n",
      "    Bayesian info crit = -13397.6222\n",
      "[[Variables]]\n",
      "    intercept: -4.9303e-08 +/- 1.7830e-09 (3.62%) (init = 0)\n",
      "    slope:      9.9859e-10 +/- 5.1369e-13 (0.05%) (init = 1)\n",
      "[[Correlations]] (unreported correlations are < 0.100)\n",
      "    C(intercept, slope) = -0.867\n",
      "[[Model]]\n",
      "    Model(line)\n",
      "[[Fit Statistics]]\n",
      "    # fitting method   = leastsq\n",
      "    # function evals   = 7\n",
      "    # data points      = 375\n",
      "    # variables        = 2\n",
      "    chi-square         = 2.6362e-07\n",
      "    reduced chi-square = 7.0677e-10\n",
      "    Akaike info crit   = -7899.37422\n",
      "    Bayesian info crit = -7891.52037\n",
      "[[Variables]]\n",
      "    intercept:  2.5366e-05 +/- 2.7512e-06 (10.85%) (init = 0)\n",
      "    slope:      2.1259e-06 +/- 7.9262e-10 (0.04%) (init = 1)\n",
      "[[Correlations]] (unreported correlations are < 0.100)\n",
      "    C(intercept, slope) = -0.867\n"
     ]
    }
   ],
   "source": [
    "# Fit lm\n",
    "if fit_lm:\n",
    "    model = None\n",
    "    if model is None:\n",
    "        def line(x, intercept, slope):\n",
    "            \"\"\"a line\"\"\"\n",
    "            return [intercept + slope*i for i in x]\n",
    "\n",
    "        model = Model(line)\n",
    "        params = model.make_params(intercept=0, slope=1)\n",
    "#         params['intercept'].set(min=0)\n",
    "    else:\n",
    "        params = model.params\n",
    "\n",
    "    model_results = {}\n",
    "    labels = analysis_config.get(\"labels\")\n",
    "    for parameter_name in parsed_data.keys():\n",
    "        length = len(parsed_data[parameter_name][result_types[0]])\n",
    "        x_step = parsed_data[parameter_name][\"x_step\"]\n",
    "        num_bytes = range(x_step, (length+1)*x_step, x_step)\n",
    "        if verbose:\n",
    "            print(\n",
    "                f\"Fitting model to {parameter_name} with {length} \" +\n",
    "                f\"samples, from {min(num_bytes)} to {max(num_bytes)} \"\n",
    "                f\"bytes in steps of {x_step}.\")\n",
    "        model_result = {}\n",
    "        for result_type in result_types:\n",
    "            model_result[result_type] = model.fit(\n",
    "                parsed_data[parameter_name][result_type], params,\n",
    "                x=num_bytes)\n",
    "            if verbose >= 2:\n",
    "                print(model_result[result_type].fit_report())\n",
    "            # Plot multiple view\n",
    "            if show_lm_plot >= 2:\n",
    "                fig, grid = model_result[result_type].plot(\n",
    "                    xlabel=f\"{labels[result_type]['x']} \" +\n",
    "                           f\"[{labels[result_type]['x_unit']}]\",\n",
    "                    ylabel=f\"{labels[result_type]['y']} \" +\n",
    "                           f\"[{labels[result_type]['y_unit']}]\")\n",
    "                fig.canvas.set_window_title(\n",
    "                    f\"Residuals of {parameter_name}\")\n",
    "                fig.tight_layout()\n",
    "                fig.show()\n",
    "            model_results[parameter_name] = model_result\n",
    "\n",
    "    # Plot single view\n",
    "    if show_lm_plot:\n",
    "        import matplotlib.pyplot as plt\n",
    "        fig = plt.figure(figsize=(9, 6))\n",
    "        fig.canvas.set_window_title(f\"Analysis {config.get('name')}\")\n",
    "        colors = dict(zip(result_types, ['r', 'b']))\n",
    "        line_styles = (\n",
    "            line_style for line_style in ('-', '--', '-.', ':') * 2)\n",
    "        # fig.suptitle(f\"Energy analysis of {config.get('name')}\")\n",
    "        ax = {}\n",
    "        ax[result_types[0]] = fig.add_subplot(1, 1, 1)\n",
    "        ax[result_types[1]] = ax[result_types[0]].twinx()\n",
    "        ax[result_types[0]].set_xlabel(\n",
    "            f\"{labels[result_types[0]]['x']} \" +\n",
    "            f\"[{labels[result_types[0]]['x_unit']}]\")\n",
    "        for result_type in result_types:\n",
    "            ax[result_type].set_ylabel(\n",
    "                f\"{labels[result_type]['y']} \" +\n",
    "                f\"[{labels[result_type]['y_unit']}]\",\n",
    "                color=colors[result_type])\n",
    "            ax[result_type].tick_params('y', colors=colors[result_type])\n",
    "\n",
    "        lines = []\n",
    "        title_str = \"\"\n",
    "        for parameter_name in parsed_data.keys():\n",
    "            length = len(parsed_data[parameter_name][result_types[0]])\n",
    "            x_step = parsed_data[parameter_name][\"x_step\"]\n",
    "            num_bytes = range(x_step, (length+1)*x_step, x_step)\n",
    "            model_result = {}\n",
    "            line_style = next(line_styles)\n",
    "            for result_type in result_types:\n",
    "                label = f\"{parameter_name} {labels[result_type]['y']}\"\n",
    "                lines += ax[result_type].plot(\n",
    "                    num_bytes, parsed_data[parameter_name][result_type],\n",
    "                    colors[result_type] + line_style, label=label)\n",
    "                title_str += f\"{label} \"\n",
    "                for param in params.keys():\n",
    "                    title_str += \"\".join(\n",
    "                        f\"{params[param].name.capitalize()}: \")\n",
    "                    title_str += \"\".join(\n",
    "                        f\"{model_results[parameter_name][result_type].params[param].value: .03} \")\n",
    "                    title_str += \"\".join(\n",
    "                        f\"{labels[result_type]['y_unit']}, \")\n",
    "                title_str = title_str[:-2] + \\\n",
    "                    f\" per {labels[result_type]['x_unit']}\\n\"\n",
    "        ax[result_types[0]].legend(handles=lines)\n",
    "        ax[result_types[0]].set_title(title_str[:-1])\n",
    "        # fig.tight_layout()\n",
    "        fig.tight_layout(rect=(0.05, 0.05, 1, 1))\n",
    "        fig.set_size_inches(8, 6, forward=True)\n",
    "        fig.show()\n",
    "\n",
    "    # Save model results to file\n",
    "    if dump_pickle:\n",
    "        model_results_dump = {}\n",
    "        for parameter_name in model_results.keys():\n",
    "            model_results_dump[parameter_name] = {}\n",
    "            for result_type in model_results[parameter_name].keys():\n",
    "                model_results_dump[parameter_name][result_type] = \\\n",
    "                    model_results[parameter_name][result_type].values\n",
    "\n",
    "        pickle.dump(model_results_dump, open(path.join(\n",
    "            path.curdir,\n",
    "            f\"{config_dict.get('file_name_base')}_model.p\"), \"wb\"))"
   ]
  },
  {
   "cell_type": "markdown",
   "metadata": {},
   "source": [
    "# Total from measurement"
   ]
  },
  {
   "cell_type": "code",
   "execution_count": 47,
   "metadata": {},
   "outputs": [
    {
     "name": "stdout",
     "output_type": "stream",
     "text": [
      "340.3414384184706 118890.33816693336\n"
     ]
    }
   ],
   "source": [
    "n_samples = 5995\n",
    "\n",
    "total_energy = sum(aes_encrypt_energy[:n_samples]) + sum(aes_flash_write_energy[:n_samples]) + sum(aes_flash_read_energy[:n_samples]) + sum(aes_decrypt_energy[:n_samples])\n",
    "total_time = sum(aes_encrypt_time_s[:n_samples]) + sum(aes_flash_write_time_s[:n_samples]) + sum(aes_flash_read_time_s[:n_samples]) + sum(aes_decrypt_time_s[:n_samples])\n",
    "print(total_energy, total_time)"
   ]
  },
  {
   "cell_type": "code",
   "execution_count": 48,
   "metadata": {},
   "outputs": [
    {
     "data": {
      "text/plain": [
       "[5.478265600000007,\n",
       " 6.996339200000007,\n",
       " 8.316403200000016,\n",
       " 9.768473600000007,\n",
       " 11.088249599999989,\n",
       " 12.605592533333347,\n",
       " 14.057968000000004,\n",
       " 15.44487359999999,\n",
       " 16.896410133333315,\n",
       " 18.34740693333331,\n",
       " 19.602052799999992,\n",
       " 21.055190933333357,\n",
       " 22.505297066666653,\n",
       " 23.890841599999934,\n",
       " 25.342771200000115,\n",
       " 26.796753066666625,\n",
       " 32.40675946666671,\n",
       " 33.85746293333336,\n",
       " 35.24599360000013,\n",
       " 36.62859679999997,\n",
       " 38.08308533333316,\n",
       " 39.53431093333337,\n",
       " 40.91871680000003,\n",
       " 42.30580426666675,\n",
       " 43.82444159999976,\n",
       " 45.14350719999993,\n",
       " 46.59649280000022,\n",
       " 47.9814975999997,\n",
       " 49.36841600000008,\n",
       " 50.883876266666796,\n",
       " 52.27224640000006,\n",
       " 53.65807359999986,\n",
       " 59.335666666666896,\n",
       " 60.586044266666576,\n",
       " 62.305576000000194,\n",
       " 63.556033600000056,\n",
       " 65.01177599999997,\n",
       " 66.5277717333328,\n",
       " 67.91549226666626,\n",
       " 69.36713973333352,\n",
       " 70.74916373333285,\n",
       " 72.13825386666662,\n",
       " 73.45782720000038,\n",
       " 75.0437381333331,\n",
       " 76.42959679999973,\n",
       " 77.87740320000003,\n",
       " 79.20179733333299,\n",
       " 80.65185546666686,\n",
       " 86.19532426666687,\n",
       " 87.71630880000015,\n",
       " 89.09940959999884,\n",
       " 90.55281066666689,\n",
       " 92.07126293333268,\n",
       " 93.39037439999974,\n",
       " 94.77361760000002,\n",
       " 96.09580746666691,\n",
       " 97.68075253333387,\n",
       " 99.13251520000088,\n",
       " 100.58336160000093,\n",
       " 101.9710992000009,\n",
       " 103.29025013333305,\n",
       " 104.74218826666615,\n",
       " 106.12908586666592,\n",
       " 107.58087999999955,\n",
       " 113.32312320000162,\n",
       " 114.70485120000083,\n",
       " 116.09611306666689,\n",
       " 117.6131199999997,\n",
       " 118.86536266666604,\n",
       " 120.38448213333373,\n",
       " 121.83633173333243,\n",
       " 123.2238842666673,\n",
       " 124.74076000000079,\n",
       " 125.99338400000005,\n",
       " 127.44570186666593,\n",
       " 128.89707786666713,\n",
       " 130.28382293333343,\n",
       " 131.80152533333356,\n",
       " 133.12125973333355,\n",
       " 134.63954666666658,\n",
       " 140.1178832000012,\n",
       " 141.6345109333328,\n",
       " 143.02065653333162,\n",
       " 144.40861013333262,\n",
       " 145.85974400000003,\n",
       " 147.31599199999934,\n",
       " 148.69542773332967,\n",
       " 150.1528304000015,\n",
       " 151.5371664000007,\n",
       " 153.11943039999852,\n",
       " 154.37285493333164,\n",
       " 155.8928064000007,\n",
       " 157.21199680000097,\n",
       " 158.73458293332908,\n",
       " 160.04740480000024,\n",
       " 161.56993599999936,\n",
       " 167.17704053333017,\n",
       " 168.69577920000012,\n",
       " 169.9535509333341,\n",
       " 171.40148533333564,\n",
       " 172.91680906666863,\n",
       " 174.17590613333368,\n",
       " 175.63102720000145,\n",
       " 177.076092266665,\n",
       " 178.52822186666373,\n",
       " 179.85415893333467,\n",
       " 181.36819733333277,\n",
       " 182.68825173333525,\n",
       " 184.14000159999944,\n",
       " 185.65822186666736,\n",
       " 186.91166133333326,\n",
       " 188.36881546666717,\n",
       " 193.57679893333392,\n",
       " 195.032617599999,\n",
       " 196.41526880000094,\n",
       " 197.9354853333337,\n",
       " 199.4527722666657,\n",
       " 200.90286506667,\n",
       " 202.29318773333205,\n",
       " 203.80591466666863,\n",
       " 205.52661919999872,\n",
       " 206.90904960000012,\n",
       " 208.16546240000022,\n",
       " 209.74451626666735,\n",
       " 211.2031818666651,\n",
       " 212.45074986666523,\n",
       " 213.9730570666707,\n",
       " 215.3574949333361,\n",
       " 220.17403519999235,\n",
       " 221.69726826667002,\n",
       " 223.14256106666974,\n",
       " 224.60194293333657,\n",
       " 226.1809493333331,\n",
       " 227.70037973333146,\n",
       " 229.02199093333664,\n",
       " 230.47429706666733,\n",
       " 232.31758399999336,\n",
       " 233.64344586666874,\n",
       " 235.02533226666955,\n",
       " 236.41124746666975,\n",
       " 237.80254506666765,\n",
       " 239.24902826666994,\n",
       " 240.76873653332953,\n",
       " 242.22073920000042,\n",
       " 247.17285386666532,\n",
       " 248.62223786667315,\n",
       " 250.07104746666187,\n",
       " 251.52737866666897,\n",
       " 253.17806773333373,\n",
       " 254.63033226666454,\n",
       " 256.0819919999986,\n",
       " 257.3311578666626,\n",
       " 258.98760693333145,\n",
       " 260.56363093333346,\n",
       " 262.02236853333716,\n",
       " 263.47409119999554,\n",
       " 264.9256037333316,\n",
       " 266.3114437333327,\n",
       " 267.69717813333216,\n",
       " 269.20941600000606,\n",
       " 273.83728639999913,\n",
       " 275.67863199999465,\n",
       " 277.06683253333256,\n",
       " 278.52302453333164,\n",
       " 280.23343199999573,\n",
       " 281.29126080000333,\n",
       " 282.7487093333332,\n",
       " 284.45770026666395,\n",
       " 286.1082719999999,\n",
       " 287.56774933333065,\n",
       " 288.7466533333303,\n",
       " 290.3991941333359,\n",
       " 291.78823999999895,\n",
       " 293.23889653333526,\n",
       " 294.29436106666884,\n",
       " 295.876997333334,\n",
       " 300.7620959999926,\n",
       " 302.2136384000014,\n",
       " 303.86296746666375,\n",
       " 304.9222810666698,\n",
       " 306.8976479999961,\n",
       " 308.1536794666704,\n",
       " 309.5393967999982,\n",
       " 310.79521173332836,\n",
       " 312.83930560000783,\n",
       " 314.2908373333384,\n",
       " 315.4148666666714,\n",
       " 316.8662672000053,\n",
       " 318.38414293333983,\n",
       " 319.9021466666778,\n",
       " 321.28985760000006,\n",
       " 322.9397589333374,\n",
       " 327.7581578666613,\n",
       " 328.74777440000713,\n",
       " 330.2633658666636,\n",
       " 331.58822666666765,\n",
       " 333.62732693333896,\n",
       " 334.75173706666084,\n",
       " 336.2007130666669,\n",
       " 337.4639877333365,\n",
       " 339.63769813335176,\n",
       " 340.76171999999616,\n",
       " 342.0780490666644,\n",
       " 343.7894634666705,\n",
       " 345.2515530666673,\n",
       " 346.63379200000577,\n",
       " 348.0846437333369,\n",
       " 349.20516533333057,\n",
       " 354.42219413334186,\n",
       " 355.5432496000037,\n",
       " 356.9974149333319,\n",
       " 358.44365493333186,\n",
       " 359.9656602666741,\n",
       " 361.41529706666375,\n",
       " 363.0020570666659,\n",
       " 364.381772266654,\n",
       " 366.1059072000086,\n",
       " 367.4243813333291,\n",
       " 368.80790613334113,\n",
       " 370.39673386666294,\n",
       " 371.64583733333245,\n",
       " 373.29870186665914,\n",
       " 374.8099327999981,\n",
       " 375.93867626666366,\n",
       " 381.022893866664,\n",
       " 382.33696106666315,\n",
       " 383.92201599999254,\n",
       " 385.1145509333378,\n",
       " 386.892309866667,\n",
       " 388.2790608000022,\n",
       " 389.60166186667067,\n",
       " 391.0492538666617,\n",
       " 392.8960607999983,\n",
       " 394.35395306666265,\n",
       " 395.60746773332767,\n",
       " 396.99322826666616,\n",
       " 398.2460058666675,\n",
       " 399.7593381333431,\n",
       " 401.2155770666652,\n",
       " 402.6672176000048,\n",
       " 407.5489583999996,\n",
       " 408.87062186666867,\n",
       " 410.38805173333515,\n",
       " 411.70837493334034,\n",
       " 413.4915365333285,\n",
       " 414.7469370666528,\n",
       " 416.3984165333403,\n",
       " 417.7812922666746,\n",
       " 419.3636746666627,\n",
       " 420.8820677333307,\n",
       " 422.3323733333402,\n",
       " 423.7836597333242,\n",
       " 425.1031237333436,\n",
       " 426.75407680000177,\n",
       " 427.9433984000036,\n",
       " 429.3950384000027,\n",
       " 434.1473173333341,\n",
       " 435.9294485333294,\n",
       " 437.1193856000133,\n",
       " 438.57088213333384,\n",
       " 440.15257493335014,\n",
       " 441.8713546666453,\n",
       " 442.9262181333513,\n",
       " 444.3774981333348,\n",
       " 446.0287402666694,\n",
       " 447.4786213333175,\n",
       " 448.9326399999811,\n",
       " 450.5835168000232,\n",
       " 451.97388053333043,\n",
       " 453.554965866644,\n",
       " 454.4758533333493,\n",
       " 456.3243157333403,\n",
       " 460.8808895999914,\n",
       " 462.20063786667254,\n",
       " 463.78345013332023,\n",
       " 465.4968442666956,\n",
       " 467.0811253333227,\n",
       " 468.2046303999954,\n",
       " 469.65549546665386,\n",
       " 471.1084906666798,\n",
       " 472.82403359999137,\n",
       " 474.07832853333787,\n",
       " 475.6009077333516,\n",
       " 477.31306026665266,\n",
       " 478.43359733333557,\n",
       " 479.95553333336716,\n",
       " 481.33492746666207,\n",
       " 482.5913055999962,\n",
       " 487.60706346666893,\n",
       " 489.3917861333392,\n",
       " 490.37831733335224,\n",
       " 492.3611893333373,\n",
       " 494.1416421333287,\n",
       " 495.20054133333247,\n",
       " 496.44924373333765,\n",
       " 498.16427093335847,\n",
       " 500.15146293330304,\n",
       " 501.2059093333363,\n",
       " 502.4583674666445,\n",
       " 503.7801935999937,\n",
       " 505.1648927999963,\n",
       " 506.4847290666705,\n",
       " 508.0049967999969,\n",
       " 509.519160533344,\n",
       " 514.4049221333233,\n",
       " 516.0589754666489,\n",
       " 517.1715285333249,\n",
       " 518.759120533332,\n",
       " 520.4102026666533,\n",
       " 521.7315792000079,\n",
       " 523.5135162666609,\n",
       " 524.6293637333252,\n",
       " 526.3519029333565,\n",
       " 527.8697386666948,\n",
       " 529.3838463999947,\n",
       " 530.7768336000009,\n",
       " 531.959783466661,\n",
       " 533.614580799977,\n",
       " 534.8016325333447,\n",
       " 536.4494794666683,\n",
       " 540.9973402666708,\n",
       " 542.5199253333233,\n",
       " 543.8413002666778,\n",
       " 545.2276517333274,\n",
       " 547.0041295999977,\n",
       " 548.593547733347,\n",
       " 549.9145951999935,\n",
       " 551.2364383999966,\n",
       " 552.9455141333415,\n",
       " 554.4700234666635,\n",
       " 555.8542074666661,\n",
       " 557.3019386666687,\n",
       " 558.6917653333217,\n",
       " 560.2120357333291,\n",
       " 561.8603802666797,\n",
       " 562.715520533331,\n",
       " 567.605589333354,\n",
       " 568.5917605333088,\n",
       " 570.0414725333616,\n",
       " 571.6270767999845,\n",
       " 573.5419199999967,\n",
       " 574.6598794666653,\n",
       " 576.1765274666573,\n",
       " 577.3710293333352,\n",
       " 579.1497978666484,\n",
       " 580.8021013333473,\n",
       " 582.1887178666572,\n",
       " 583.5748458666643,\n",
       " 584.958082666688,\n",
       " 586.2758207999974,\n",
       " 587.9927770666598,\n",
       " 589.1826154666546,\n",
       " 593.4713781333301,\n",
       " 595.1848437333354,\n",
       " 596.7077573333199,\n",
       " 598.0942725333449,\n",
       " 599.8714672000034,\n",
       " 601.0013600000121,\n",
       " 602.5801887999762,\n",
       " 603.8340037333398,\n",
       " 605.613636266682,\n",
       " 606.9327946666903,\n",
       " 608.3912431999892,\n",
       " 609.9070613333311,\n",
       " 611.4218415999915,\n",
       " 612.7428773333321,\n",
       " 614.19208800001,\n",
       " 615.5849146666554,\n",
       " 620.1396511999917,\n",
       " 621.5201626666698,\n",
       " 623.2405098666618,\n",
       " 624.3589648000096,\n",
       " 626.1431445333159,\n",
       " 627.3960991999985,\n",
       " 581.4637914666605]"
      ]
     },
     "execution_count": 48,
     "metadata": {},
     "output_type": "execute_result"
    }
   ],
   "source": [
    "          [e + w + r + d for (e,w,r,d) in zip(aes_encrypt_energy, aes_flash_write_energy, aes_flash_read_energy, aes_decrypt_energy)],\n",
    "          [e + w + r + d for (e,w,r,d) in zip(aes_encrypt_time_s, aes_flash_write_time_s, aes_flash_read_time_s, aes_decrypt_time_s)]"
   ]
  },
  {
   "cell_type": "code",
   "execution_count": null,
   "metadata": {},
   "outputs": [],
   "source": []
  },
  {
   "cell_type": "code",
   "execution_count": null,
   "metadata": {},
   "outputs": [],
   "source": []
  },
  {
   "cell_type": "code",
   "execution_count": null,
   "metadata": {},
   "outputs": [],
   "source": []
  },
  {
   "cell_type": "code",
   "execution_count": null,
   "metadata": {},
   "outputs": [],
   "source": []
  },
  {
   "cell_type": "code",
   "execution_count": null,
   "metadata": {},
   "outputs": [],
   "source": []
  },
  {
   "cell_type": "code",
   "execution_count": null,
   "metadata": {},
   "outputs": [],
   "source": []
  }
 ],
 "metadata": {
  "kernelspec": {
   "display_name": "Python 3",
   "language": "python",
   "name": "python3"
  },
  "language_info": {
   "codemirror_mode": {
    "name": "ipython",
    "version": 3
   },
   "file_extension": ".py",
   "mimetype": "text/x-python",
   "name": "python",
   "nbconvert_exporter": "python",
   "pygments_lexer": "ipython3",
   "version": "3.8.1"
  }
 },
 "nbformat": 4,
 "nbformat_minor": 4
}

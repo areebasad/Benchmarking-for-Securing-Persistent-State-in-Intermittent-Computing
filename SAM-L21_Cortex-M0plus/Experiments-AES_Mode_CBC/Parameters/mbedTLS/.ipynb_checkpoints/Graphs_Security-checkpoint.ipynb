{
 "cells": [
  {
   "cell_type": "code",
   "execution_count": 1,
   "metadata": {},
   "outputs": [],
   "source": [
    "# %matplotlib ipympl\n",
    "# %matplotlib inline\n",
    "%matplotlib wx"
   ]
  },
  {
   "cell_type": "code",
   "execution_count": 2,
   "metadata": {},
   "outputs": [],
   "source": [
    "import matplotlib.pyplot as plt\n",
    "import numpy as np"
   ]
  },
  {
   "cell_type": "markdown",
   "metadata": {},
   "source": [
    "## Load Pickles of checkpoint charges per byte"
   ]
  },
  {
   "cell_type": "code",
   "execution_count": 3,
   "metadata": {},
   "outputs": [],
   "source": [
    "from os import path, pardir, scandir\n",
    "import pickle\n",
    "from math import ceil"
   ]
  },
  {
   "cell_type": "code",
   "execution_count": 4,
   "metadata": {},
   "outputs": [],
   "source": [
    "from pydgilib_extra import LOGGER_CSV"
   ]
  },
  {
   "cell_type": "code",
   "execution_count": 5,
   "metadata": {},
   "outputs": [],
   "source": [
    "measure_security = False\n",
    "show_lm_plot=2\n",
    "measure_workloads = True\n",
    "repetitions = 100"
   ]
  },
  {
   "cell_type": "code",
   "execution_count": 6,
   "metadata": {},
   "outputs": [],
   "source": [
    "from experiments.checkpoint_energy import CheckpointEnergy"
   ]
  },
  {
   "cell_type": "code",
   "execution_count": 7,
   "metadata": {},
   "outputs": [],
   "source": [
    "text_as_size = False\n",
    "\n",
    "#checkpoint_energy = CheckpointEnergy()\n",
    "# checkpoint_energy = CheckpointEnergy(security_projects=['AES_Flash', 'TrustZone_Flash', 'No_Security_Flash'])\n",
    "checkpoint_energy = CheckpointEnergy(security_projects=['AES-256_mbedTLS_library_O1_4Mhz',\n",
    "                                                        'AES-256_mbedTLS_library_O1_12Mhz',\n",
    "                                                        'AES-256_mbedTLS_library_O3_4Mhz',\n",
    "                                                        'AES-256_mbedTLS_library_O3_12Mhz'], text_as_size=text_as_size)"
   ]
  },
  {
   "cell_type": "code",
   "execution_count": 8,
   "metadata": {},
   "outputs": [
    {
     "data": {
      "text/plain": [
       "['AES-256_mbedTLS_library_O1_4Mhz',\n",
       " 'AES-256_mbedTLS_library_O1_12Mhz',\n",
       " 'AES-256_mbedTLS_library_O3_4Mhz',\n",
       " 'AES-256_mbedTLS_library_O3_12Mhz']"
      ]
     },
     "execution_count": 8,
     "metadata": {},
     "output_type": "execute_result"
    }
   ],
   "source": [
    "checkpoint_energy.security_projects"
   ]
  },
  {
   "cell_type": "code",
   "execution_count": 9,
   "metadata": {},
   "outputs": [
    {
     "data": {
      "text/plain": [
       "['BitCounting', 'Dijkstra', 'FFT', 'Sorting']"
      ]
     },
     "execution_count": 9,
     "metadata": {},
     "output_type": "execute_result"
    }
   ],
   "source": [
    "checkpoint_energy.workload_projects"
   ]
  },
  {
   "cell_type": "markdown",
   "metadata": {},
   "source": [
    "### Smoothen?"
   ]
  },
  {
   "cell_type": "markdown",
   "metadata": {},
   "source": [
    "Get lookup function"
   ]
  },
  {
   "cell_type": "code",
   "execution_count": 10,
   "metadata": {},
   "outputs": [],
   "source": [
    "get_security_energy = checkpoint_energy.get_security_energy_function()"
   ]
  },
  {
   "cell_type": "code",
   "execution_count": 11,
   "metadata": {},
   "outputs": [
    {
     "name": "stdout",
     "output_type": "stream",
     "text": [
      "AES-256_mbedTLS_library_O1_4Mhz {'AES-256 Encrypt': 5.5073238537407735e-05, 'AES-256 Decrypt': 5.7610155677824296e-05, 'AES-256 Flash Write': 7.80541766042196e-05, 'AES-256 Flash Read': 2.0088334449804605e-06}\n",
      "AES-256_mbedTLS_library_O1_4Mhz {'AES-256 Encrypt': 5.4699074098274594e-05, 'AES-256 Decrypt': 5.7051506116837106e-05, 'AES-256 Flash Write': 7.393299376565765e-05, 'AES-256 Flash Read': 1.9978475767044544e-06}\n",
      "AES-256_mbedTLS_library_O1_4Mhz {'AES-256 Encrypt': 2.6865245970372698, 'AES-256 Decrypt': 2.7837382964179866, 'AES-256 Flash Write': 3.427248517127214, 'AES-256 Flash Read': 0.09985493607481974}\n",
      "AES-256_mbedTLS_library_O1_12Mhz {'AES-256 Encrypt': 5.027556848108576e-05, 'AES-256 Decrypt': 5.291071056374187e-05, 'AES-256 Flash Write': 9.082222840657206e-05, 'AES-256 Flash Read': 1.5675312545966353e-06}\n",
      "AES-256_mbedTLS_library_O1_12Mhz {'AES-256 Encrypt': 4.989618064626563e-05, 'AES-256 Decrypt': 5.2416269043851956e-05, 'AES-256 Flash Write': 8.455329234666236e-05, 'AES-256 Flash Read': 1.6291921882312165e-06}\n",
      "AES-256_mbedTLS_library_O1_12Mhz {'AES-256 Encrypt': 2.4817965172007073, 'AES-256 Decrypt': 2.5897767778523906, 'AES-256 Flash Write': 3.92771679435543, 'AES-256 Flash Read': 0.08556657542502642}\n",
      "AES-256_mbedTLS_library_O3_4Mhz {'AES-256 Encrypt': 5.515800809733795e-05, 'AES-256 Decrypt': 5.760372159555439e-05, 'AES-256 Flash Write': 7.794029962703819e-05, 'AES-256 Flash Read': 2.008095120169276e-06}\n",
      "AES-256_mbedTLS_library_O3_4Mhz {'AES-256 Encrypt': 5.4783615534638356e-05, 'AES-256 Decrypt': 5.713122882302955e-05, 'AES-256 Flash Write': 7.389976928505389e-05, 'AES-256 Flash Read': 1.995805861658618e-06}\n",
      "AES-256_mbedTLS_library_O3_4Mhz {'AES-256 Encrypt': 2.689498462498374, 'AES-256 Decrypt': 2.78831875903857, 'AES-256 Flash Write': 3.4204608094578077, 'AES-256 Flash Read': 0.09985875778137901}\n",
      "AES-256_mbedTLS_library_O3_12Mhz {'AES-256 Encrypt': 4.981203718891688e-05, 'AES-256 Decrypt': 5.190529738475189e-05, 'AES-256 Flash Write': 8.983915893452702e-05, 'AES-256 Flash Read': 1.576874499486171e-06}\n",
      "AES-256_mbedTLS_library_O3_12Mhz {'AES-256 Encrypt': 4.9478374467246304e-05, 'AES-256 Decrypt': 5.154384688370398e-05, 'AES-256 Flash Write': 8.381707993069138e-05, 'AES-256 Flash Read': 1.5882800584248836e-06}\n",
      "AES-256_mbedTLS_library_O3_12Mhz {'AES-256 Encrypt': 2.4462156484361945, 'AES-256 Decrypt': 2.5488122144103054, 'AES-256 Flash Write': 3.87401137811691, 'AES-256 Flash Read': 0.08249831742361713}\n",
      "None {'None': 0}\n",
      "None {'None': 0}\n",
      "None {'None': 0}\n"
     ]
    }
   ],
   "source": [
    "for security_type in checkpoint_energy.security_projects + [\"None\"]:\n",
    "    print(security_type, get_security_energy(security_type,2048))\n",
    "    print(security_type, get_security_energy(security_type,2048, use_model=True))\n",
    "    print(security_type, get_security_energy(security_type,100000000))"
   ]
  },
  {
   "cell_type": "code",
   "execution_count": 12,
   "metadata": {},
   "outputs": [],
   "source": [
    "import numpy as np\n",
    "from math import sqrt, floor\n",
    "import matplotlib.pyplot as plt\n",
    "import matplotlib.animation as animation\n",
    "import matplotlib as mpl\n",
    "import matplotlib.patches as mpatches\n"
   ]
  },
  {
   "cell_type": "code",
   "execution_count": 13,
   "metadata": {},
   "outputs": [],
   "source": [
    "c_scale = 1e3\n",
    "j_scale = 1e6\n",
    "t_scale = 1e3\n",
    "voltage = 3.31"
   ]
  },
  {
   "cell_type": "code",
   "execution_count": 14,
   "metadata": {},
   "outputs": [
    {
     "data": {
      "text/plain": [
       "['AES-256_mbedTLS_library_O1_4Mhz',\n",
       " 'AES-256_mbedTLS_library_O1_12Mhz',\n",
       " 'AES-256_mbedTLS_library_O3_4Mhz',\n",
       " 'AES-256_mbedTLS_library_O3_12Mhz']"
      ]
     },
     "execution_count": 14,
     "metadata": {},
     "output_type": "execute_result"
    }
   ],
   "source": [
    "checkpoint_energy.security_projects"
   ]
  },
  {
   "cell_type": "code",
   "execution_count": 15,
   "metadata": {},
   "outputs": [],
   "source": [
    "workload_colors = {'BitCounting':'tab:blue', 'Dijkstra':'tab:green', 'FFT':'tab:red', 'Sorting':'tab:orange'}\n",
    "# security_colors = {'AES_Flash':'#85e085', 'TrustZone_Flash':'#66b3ff', 'No_Security_Flash':'#b3b3cc'}\n",
    "security_colors = {'AES-256_mbedTLS_library_O1_4Mhz':'#FFFFFF', \n",
    "                   'AES-256_mbedTLS_library_O1_12Mhz':'#D3D3D3',\n",
    "                   'AES-256_mbedTLS_library_O3_4Mhz':'#FFFFFF',\n",
    "                   'AES-256_mbedTLS_library_O3_12Mhz':'#D3D3D3'}\n",
    "colors = {**workload_colors, **security_colors}"
   ]
  },
  {
   "cell_type": "code",
   "execution_count": 16,
   "metadata": {},
   "outputs": [],
   "source": [
    "hatches = ['-', '+', 'x', '\\\\', '*', 'o', 'O', '.']"
   ]
  },
  {
   "cell_type": "code",
   "execution_count": 17,
   "metadata": {},
   "outputs": [],
   "source": [
    "section_hatches = {'AES Encrypt': '\\\\\\\\', \n",
    "                   'AES Decrypt': '//', \n",
    "                   'AES-256 Encrypt': '\\\\\\\\', \n",
    "                   'AES-256 Decrypt': '//', \n",
    "                   'AES-128 Encrypt': '\\\\\\\\', \n",
    "                   'AES-128 Decrypt': '//', \n",
    "                   'Flash Write': 'xx', \n",
    "                   'Flash Read': '/////', \n",
    "                   'AES-256 Flash Write': 'xx', \n",
    "                   'AES-256 Flash Read': '/////', \n",
    "                   'AES-128 Flash Write': 'xx', \n",
    "                   'AES-128 Flash Read': '/////', \n",
    "                   'No Security Flash Write': 'xx', \n",
    "                   'No Security Flash Read': '/////', \n",
    "                   'TrustZone Flash Write': 'xx', \n",
    "                   'TrustZone Flash Read': '/////', \n",
    "                   'Bit Counting': 'ooo', \n",
    "                   'Create Graph': '0', \n",
    "                   'Dijkstra': 'ooo',\n",
    "                   'Allocate FFT': '0',\n",
    "                   'FFT': 'ooo',\n",
    "                   'Free FFT': '...',\n",
    "                   'Sorting': 'ooo'\n",
    "                  }\n",
    "\n",
    "\n",
    "circ1 = mpatches.Patch( facecolor='None', hatch=r'\\\\\\\\',label='AES CBC Mode Encrypt')\n",
    "circ2 = mpatches.Patch( facecolor='None', hatch='//',label='AES CBC Mode Decrypt')\n",
    "circ3 = mpatches.Patch( facecolor='None', hatch='xx',label='Flash Write')\n",
    "circ4 = mpatches.Patch( facecolor='None', hatch='/////',label='Flash Read')\n",
    "        "
   ]
  },
  {
   "cell_type": "code",
   "execution_count": 18,
   "metadata": {},
   "outputs": [],
   "source": [
    "edgecolor = 'black'\n",
    "linewidth = 1.0"
   ]
  },
  {
   "cell_type": "code",
   "execution_count": 19,
   "metadata": {},
   "outputs": [],
   "source": [
    "security_projects=['AES-256_mbedTLS_library_O1_4Mhz',\n",
    "                                                        'AES-256_mbedTLS_library_O1_12Mhz',\n",
    "                                                        'AES-256_mbedTLS_library_O3_4Mhz',\n",
    "                                                        'AES-256_mbedTLS_library_O3_12Mhz']"
   ]
  },
  {
   "cell_type": "code",
   "execution_count": 20,
   "metadata": {},
   "outputs": [],
   "source": [
    "xLabels = ['O1\\n4Mhz','O1\\n12Mhz','O3\\n4Mhz',\n",
    "            'O3\\n12Mhz']"
   ]
  },
  {
   "cell_type": "code",
   "execution_count": 21,
   "metadata": {},
   "outputs": [],
   "source": [
    "#security_projects=['AES-128_Flash', 'AES-256_Flash', 'TrustZone_Flash', 'No_Security_Flash']"
   ]
  },
  {
   "cell_type": "code",
   "execution_count": 22,
   "metadata": {},
   "outputs": [
    {
     "data": {
      "text/plain": [
       "1231.1459416277053"
      ]
     },
     "execution_count": 22,
     "metadata": {},
     "output_type": "execute_result"
    }
   ],
   "source": [
    "totalEnergy = get_security_energy('AES-256_mbedTLS_library_O1_4Mhz',4096, use_model=True)\n",
    "sum =0\n",
    "for evl in totalEnergy.values():\n",
    "    sum+=evl*j_scale*voltage\n",
    "sum    "
   ]
  },
  {
   "cell_type": "code",
   "execution_count": 23,
   "metadata": {},
   "outputs": [],
   "source": [
    "class WorkloadPlotter(object):\n",
    "    def __init__(self, checkpoint_energy=CheckpointEnergy(security_projects=security_projects), fig=None, ax=None, show=False):\n",
    "        self.checkpoint_energy = checkpoint_energy\n",
    "        self.fig = fig\n",
    "        self.ax = ax\n",
    "        if show:\n",
    "            self.make_fig()\n",
    "            self.update_fig()\n",
    "            \n",
    "        \n",
    "    def make_fig(self, *args, **kwargs):\n",
    "        self.fig, self.ax = plt.subplots(*args, **kwargs)\n",
    "    \n",
    "    def update_fig(self):\n",
    "        opacity = 0.8\n",
    "        self.ax.cla()\n",
    "        \n",
    "        self.bars = {}\n",
    "        for index, workload_project in enumerate(self.checkpoint_energy.workload_projects):\n",
    "            self.bars[workload_project] = {}\n",
    "            section_averages = self.checkpoint_energy.get_workload_average(workload_project)\n",
    "            section_stds = self.checkpoint_energy.get_workload_std(workload_project)\n",
    "            bottom = 0\n",
    "            for section in section_averages.keys():\n",
    "                self.bars[workload_project][section] = self.ax.bar(index, section_averages[section]*j_scale*voltage, color=colors[workload_project], \n",
    "                                                                   label=section, alpha=opacity, yerr=section_stds[section]*j_scale*voltage, bottom=bottom, \n",
    "                                                                   hatch=section_hatches[section], linewidth=linewidth, edgecolor=edgecolor)\n",
    "                bottom += section_averages[section]*j_scale*voltage\n",
    "        \n",
    "        self.ax.set_xticks(range(len(self.checkpoint_energy.workload_projects)))\n",
    "        self.ax.set_xticklabels(self.checkpoint_energy.workload_projects)\n",
    "        self.ax.legend()\n",
    "#         self.ax.set_yscale('log')\n",
    "        # self.ax.grid()\n",
    "\n",
    "        self.ax.set_xlabel('Workload')\n",
    "        self.ax.set_ylabel('Energy [$\\mu$J]')\n",
    "        self.ax.set_title('Energy per Section')\n",
    "        self.fig.canvas.set_window_title('Energy per Workload')\n",
    "        self.fig.show()"
   ]
  },
  {
   "cell_type": "code",
   "execution_count": 24,
   "metadata": {},
   "outputs": [],
   "source": [
    "workload_plotter = WorkloadPlotter(checkpoint_energy, show=True)"
   ]
  },
  {
   "cell_type": "code",
   "execution_count": 25,
   "metadata": {},
   "outputs": [],
   "source": [
    "# workload_plotter.make_fig()"
   ]
  },
  {
   "cell_type": "code",
   "execution_count": 26,
   "metadata": {},
   "outputs": [],
   "source": [
    "# workload_plotter.update_fig()"
   ]
  },
  {
   "cell_type": "code",
   "execution_count": 27,
   "metadata": {},
   "outputs": [
    {
     "data": {
      "text/plain": [
       "['AES-256_mbedTLS_library_O1_4Mhz',\n",
       " 'AES-256_mbedTLS_library_O1_12Mhz',\n",
       " 'AES-256_mbedTLS_library_O3_4Mhz',\n",
       " 'AES-256_mbedTLS_library_O3_12Mhz']"
      ]
     },
     "execution_count": 27,
     "metadata": {},
     "output_type": "execute_result"
    }
   ],
   "source": [
    "checkpoint_energy.security_projects\n",
    "#checkpoint_energy.get_security_energy('AES-256_Crypto-Accelerator', 4096)"
   ]
  },
  {
   "cell_type": "code",
   "execution_count": 28,
   "metadata": {},
   "outputs": [],
   "source": [
    "def set_size(w,h, ax=None):\n",
    "    \"\"\" w, h: width, height in inches \"\"\"\n",
    "    if not ax: ax=plt.gca()\n",
    "    l = ax.figure.subplotpars.left\n",
    "    r = ax.figure.subplotpars.right\n",
    "    t = ax.figure.subplotpars.top\n",
    "    b = ax.figure.subplotpars.bottom\n",
    "    figw = float(w)/(r-l)\n",
    "    figh = float(h)/(t-b)\n",
    "    ax.figure.set_size_inches(figw, figh)\n"
   ]
  },
  {
   "cell_type": "code",
   "execution_count": 29,
   "metadata": {},
   "outputs": [],
   "source": [
    "def set_xmargin(ax, left=0.0, right=0.3):\n",
    "    ax.set_xmargin(0)\n",
    "    ax.autoscale_view()\n",
    "    lim = ax.get_xlim()\n",
    "    delta = np.diff(lim)\n",
    "    left = lim[0] - delta*left\n",
    "    right = lim[1] + delta*right\n",
    "    ax.set_xlim(left,right)"
   ]
  },
  {
   "cell_type": "code",
   "execution_count": 32,
   "metadata": {},
   "outputs": [],
   "source": [
    "class SecurityPlotter(object):\n",
    "    def __init__(self, checkpoint_energy=CheckpointEnergy(security_projects=security_projects), num_bytes=4096, fig=None, ax=None, show=0, use_model=False):\n",
    "        self.checkpoint_energy = checkpoint_energy\n",
    "        self.fig = fig\n",
    "        self.ax = ax\n",
    "        self.num_bytes = num_bytes\n",
    "        self.use_model = use_model\n",
    "        if show:\n",
    "            self.make_fig(figsize=(3.2, 2.4),dpi= 250)\n",
    "            self.update_fig()\n",
    "            if show >= 2:\n",
    "                self.animate()\n",
    "        \n",
    "    def make_fig(self, *args, **kwargs):\n",
    "        self.fig, self.ax = plt.subplots(*args, **kwargs)\n",
    "    \n",
    "    def update_fig(self, num_bytes=None):\n",
    "        if num_bytes is None:\n",
    "            num_bytes = self.num_bytes\n",
    "        opacity = 0.8\n",
    "        self.ax.cla()\n",
    "#         self.ax.grid(zorder=0)\n",
    "        self.ax.yaxis.grid(True)\n",
    "        \n",
    "        self.bars = {}\n",
    "        for index, security_project in enumerate(self.checkpoint_energy.security_projects):\n",
    "            self.bars[security_project] = {}\n",
    "            security_energy = self.checkpoint_energy.get_security_energy(security_project, num_bytes, use_model=self.use_model)\n",
    "            #print(f'{security_energy}')\n",
    "            bottom = 0\n",
    "            sectionEnergies = get_security_energy(security_project,num_bytes, use_model=self.use_model)\n",
    "            totalEnergy = 0\n",
    "            for sectionEnergy in sectionEnergies.values():\n",
    "                totalEnergy+=sectionEnergy * j_scale * voltage\n",
    "            #print(f'{totalEnergy}')\n",
    "            for section in security_energy.keys():\n",
    "                self.bars[security_project][section] = self.ax.bar(index, security_energy[section] * j_scale*voltage, color=colors[security_project], \n",
    "                                                                   label=section, width=0.3, alpha=opacity, bottom=bottom, zorder=3,\n",
    "                                                                   hatch=section_hatches[section], linewidth=linewidth, edgecolor=edgecolor)\n",
    "                sectionValue = security_energy[section] * j_scale*voltage\n",
    "                accumulatedValue = sectionValue + bottom\n",
    "                yValue = (totalEnergy - accumulatedValue/2)\n",
    "                bar = self.bars[security_project][section].get_children()\n",
    "                print(f'{index} : {sectionValue}')\n",
    "                self.ax.text(x=index + (bar[0].get_width()*1.45 ) , y= bottom + sectionValue/2 , \n",
    "                             s=f\"{round(sectionValue,0)}\", ha = 'center', va = 'center', fontdict=dict(fontsize=6.5))\n",
    "                bottom += security_energy[section]*j_scale*voltage\n",
    "                \n",
    "            self.ax.text(x=index , y =1250+50 , s=f\"{round(bottom, 2)}\" , horizontalalignment='center', fontdict=dict(fontsize=6))\n",
    "    \n",
    "            print(f'{security_project}: {bottom}')        \n",
    "        \n",
    "        self.ax.set_xticks(range(len(self.checkpoint_energy.security_projects)) )\n",
    "     ##   self.ax.set_xticklabels([s.replace('_',' ') for s in self.checkpoint_energy.security_projects])\n",
    "        self.ax.set_xticklabels(xLabels, fontdict=dict(fontsize=8))\n",
    "        self.ax.yaxis.set_tick_params(labelsize=8)\n",
    "\n",
    "     #   self.ax.set_xticklabels([\" \".join(s.split('_')[:-1]) for s in self.checkpoint_energy.security_projects])\n",
    "       \n",
    "      #  self.ax.set_yticks( fontdict=dict(fontsize=4))\n",
    "      #  self.ax.legend(handles = [circ1,circ2,circ3, circ4],loc=6) #prop={'size': 6}\n",
    "       \n",
    "        # self.ax.set_yscale('log')\n",
    "\n",
    "       # self.ax.set_xlabel('\\nDifferent AES-Modes execution on AES-Module')\n",
    "        self.ax.set_ylabel('Energy [$\\mu$J]', fontdict=dict(fontsize=8))\n",
    "        self.ax.set_title(f'Security: mbedTLS (Software-based)' ,  fontdict=dict(fontsize=8))\n",
    "        self.fig.canvas.set_window_title('Energy_per_parameter_mbedTLS')\n",
    "        self.ax.margins( y= 0.1)\n",
    "       # self.ax.set(adjustable=\"datalim\")\n",
    "        #ratio = 0.5\n",
    "        #xleft, xright = self.ax.get_xlim()\n",
    "        #ybottom, ytop = self.ax.get_ylim()\n",
    "        # the abs method is used to make sure that all numbers are positive\n",
    "        # because x and y axis of an axes maybe inversed.\n",
    "        #self.ax.set_aspect(abs((xright-xleft)/(ybottom-ytop))*ratio)\n",
    "        \n",
    "        set_xmargin(self.ax, left=0.05, right=0.20)\n",
    "       # set_size(20,18, self.ax)\n",
    "        self.fig.tight_layout()\n",
    "        self.fig.show()\n",
    "        self.fig.savefig('Energy_per_parameter_mbedTLS.pdf', bbox_inches='tight', dpi=1000)\n",
    "        self.fig.savefig('Energy_per_parameter_mbedTLS.svg', bbox_inches='tight', dpi=1000)\n",
    "    def anim_func(self, num_bytes, *fargs):\n",
    "        self.update_fig(num_bytes)\n",
    "        return flatten(self.bars)\n",
    "    \n",
    "    def animate(self, frames=range(100, 6001, 100), save=False, *save_args, **save_kwargs):\n",
    "        self.animation = animation.FuncAnimation(self.fig, self.anim_func, blit=True, interval=0,frames=frames ,repeat=False)\n",
    "        if save:\n",
    "            self.animation.save('Charge_per_Security.mp4', *save_args, **save_kwargs)\n",
    "        \n",
    "        \n",
    "def flatten(d, ret=None):\n",
    "    if ret is None:\n",
    "        ret = []\n",
    "    for k, v in sorted(d.items()):\n",
    "        if isinstance(v, dict):\n",
    "            flatten(v, ret)\n",
    "        else:\n",
    "            ret.extend(v.get_children())\n",
    "    return ret"
   ]
  },
  {
   "cell_type": "code",
   "execution_count": 33,
   "metadata": {},
   "outputs": [
    {
     "name": "stdout",
     "output_type": "stream",
     "text": [
      "0 : 363.936813054608\n",
      "0 : 379.36258255206087\n",
      "0 : 490.81148244310197\n",
      "0 : 13.471643320021066\n",
      "AES-256_mbedTLS_library_O1_4Mhz: 1247.582521369792\n",
      "1 : 334.0481402452019\n",
      "1 : 350.82517875037803\n",
      "1 : 563.5293466142018\n",
      "1 : 11.19956923343456\n",
      "AES-256_mbedTLS_library_O1_12Mhz: 1259.6022348432164\n",
      "2 : 364.67927726455684\n",
      "2 : 380.08711604107214\n",
      "2 : 489.00721266279197\n",
      "2 : 13.444934042476618\n",
      "AES-256_mbedTLS_library_O3_4Mhz: 1247.2185400108976\n",
      "3 : 331.30023656011775\n",
      "3 : 344.2710086835901\n",
      "3 : 555.1188289300077\n",
      "3 : 10.988472865797144\n",
      "AES-256_mbedTLS_library_O3_12Mhz: 1241.6785470395125\n"
     ]
    }
   ],
   "source": [
    "security_plotter = SecurityPlotter(checkpoint_energy, show=1, use_model=False)\n",
    "# security_plotter = SecurityPlotter(checkpoint_energy, show=1, use_model=True)"
   ]
  },
  {
   "cell_type": "code",
   "execution_count": 486,
   "metadata": {},
   "outputs": [
    {
     "data": {
      "text/plain": [
       "2.893551147020096"
      ]
     },
     "execution_count": 486,
     "metadata": {},
     "output_type": "execute_result"
    }
   ],
   "source": [
    "1/(0.11839778592554952/ 0.3425900492695136)"
   ]
  },
  {
   "cell_type": "code",
   "execution_count": 356,
   "metadata": {},
   "outputs": [
    {
     "data": {
      "text/plain": [
       "1.005544903225084"
      ]
     },
     "execution_count": 356,
     "metadata": {},
     "output_type": "execute_result"
    }
   ],
   "source": [
    "220.0524181298544/218.8389771795176"
   ]
  },
  {
   "cell_type": "code",
   "execution_count": 88,
   "metadata": {},
   "outputs": [
    {
     "name": "stdout",
     "output_type": "stream",
     "text": [
      "dict_keys(['AES-128 Encrypt', 'AES-128 Decrypt', 'AES-128 Flash Write', 'AES-128 Flash Read'])\n",
      "AES-128_Crypto-Accelerator: 31.142170901798504\n",
      "dict_keys(['AES-128 Encrypt', 'AES-128 Decrypt', 'AES-128 Flash Write', 'AES-128 Flash Read'])\n",
      "AES-128_mbedTLS_library: 42.40738159274601\n",
      "dict_keys(['AES-128 Encrypt', 'AES-128 Decrypt', 'AES-128 Flash Write', 'AES-128 Flash Read'])\n",
      "AES-128_WolfSSL_library: 51.49845020272848\n",
      "dict_keys(['No Security Flash Write', 'No Security Flash Read'])\n",
      "No-Security: 21.130847120523605\n",
      "dict_keys(['AES-128 Encrypt', 'AES-128 Decrypt', 'AES-128 Flash Write', 'AES-128 Flash Read'])\n",
      "AES-128_Crypto-Accelerator: 31.142170901798504\n",
      "dict_keys(['AES-128 Encrypt', 'AES-128 Decrypt', 'AES-128 Flash Write', 'AES-128 Flash Read'])\n",
      "AES-128_mbedTLS_library: 42.40738159274601\n",
      "dict_keys(['AES-128 Encrypt', 'AES-128 Decrypt', 'AES-128 Flash Write', 'AES-128 Flash Read'])\n",
      "AES-128_WolfSSL_library: 51.49845020272848\n",
      "dict_keys(['No Security Flash Write', 'No Security Flash Read'])\n",
      "No-Security: 21.130847120523605\n",
      "dict_keys(['AES-128 Encrypt', 'AES-128 Decrypt', 'AES-128 Flash Write', 'AES-128 Flash Read'])\n",
      "AES-128_Crypto-Accelerator: 33.788576154604606\n",
      "dict_keys(['AES-128 Encrypt', 'AES-128 Decrypt', 'AES-128 Flash Write', 'AES-128 Flash Read'])\n",
      "AES-128_mbedTLS_library: 57.33477773236837\n",
      "dict_keys(['AES-128 Encrypt', 'AES-128 Decrypt', 'AES-128 Flash Write', 'AES-128 Flash Read'])\n",
      "AES-128_WolfSSL_library: 72.81361617378998\n",
      "dict_keys(['No Security Flash Write', 'No Security Flash Read'])\n",
      "No-Security: 24.682056263012385\n",
      "dict_keys(['AES-128 Encrypt', 'AES-128 Decrypt', 'AES-128 Flash Write', 'AES-128 Flash Read'])\n",
      "AES-128_Crypto-Accelerator: 65.06526521666997\n",
      "dict_keys(['AES-128 Encrypt', 'AES-128 Decrypt', 'AES-128 Flash Write', 'AES-128 Flash Read'])\n",
      "AES-128_mbedTLS_library: 100.47564462312923\n",
      "dict_keys(['AES-128 Encrypt', 'AES-128 Decrypt', 'AES-128 Flash Write', 'AES-128 Flash Read'])\n",
      "AES-128_WolfSSL_library: 122.59528768996952\n",
      "dict_keys(['No Security Flash Write', 'No Security Flash Read'])\n",
      "No-Security: 50.37671683164308\n",
      "dict_keys(['AES-128 Encrypt', 'AES-128 Decrypt', 'AES-128 Flash Write', 'AES-128 Flash Read'])\n",
      "AES-128_Crypto-Accelerator: 68.01534656665105\n",
      "dict_keys(['AES-128 Encrypt', 'AES-128 Decrypt', 'AES-128 Flash Write', 'AES-128 Flash Read'])\n",
      "AES-128_mbedTLS_library: 115.20304091154416\n",
      "dict_keys(['AES-128 Encrypt', 'AES-128 Decrypt', 'AES-128 Flash Write', 'AES-128 Flash Read'])\n",
      "AES-128_WolfSSL_library: 144.33132191765915\n",
      "dict_keys(['No Security Flash Write', 'No Security Flash Read'])\n",
      "No-Security: 54.758111694277176\n",
      "dict_keys(['AES-128 Encrypt', 'AES-128 Decrypt', 'AES-128 Flash Write', 'AES-128 Flash Read'])\n",
      "AES-128_Crypto-Accelerator: 99.68977291401045\n",
      "dict_keys(['AES-128 Encrypt', 'AES-128 Decrypt', 'AES-128 Flash Write', 'AES-128 Flash Read'])\n",
      "AES-128_mbedTLS_library: 161.72244408629322\n",
      "dict_keys(['AES-128 Encrypt', 'AES-128 Decrypt', 'AES-128 Flash Write', 'AES-128 Flash Read'])\n",
      "AES-128_WolfSSL_library: 198.344824356832\n",
      "dict_keys(['No Security Flash Write', 'No Security Flash Read'])\n",
      "No-Security: 55.37337148417221\n",
      "dict_keys(['AES-128 Encrypt', 'AES-128 Decrypt', 'AES-128 Flash Write', 'AES-128 Flash Read'])\n",
      "AES-128_Crypto-Accelerator: 102.62868168960101\n",
      "dict_keys(['AES-128 Encrypt', 'AES-128 Decrypt', 'AES-128 Flash Write', 'AES-128 Flash Read'])\n",
      "AES-128_mbedTLS_library: 177.2554673531434\n",
      "dict_keys(['AES-128 Encrypt', 'AES-128 Decrypt', 'AES-128 Flash Write', 'AES-128 Flash Read'])\n",
      "AES-128_WolfSSL_library: 218.56268586262718\n",
      "dict_keys(['No Security Flash Write', 'No Security Flash Read'])\n",
      "No-Security: 82.75175871605038\n",
      "dict_keys(['AES-128 Encrypt', 'AES-128 Decrypt', 'AES-128 Flash Write', 'AES-128 Flash Read'])\n",
      "AES-128_Crypto-Accelerator: 105.46866717556097\n",
      "dict_keys(['AES-128 Encrypt', 'AES-128 Decrypt', 'AES-128 Flash Write', 'AES-128 Flash Read'])\n",
      "AES-128_mbedTLS_library: 191.47237140608092\n",
      "dict_keys(['AES-128 Encrypt', 'AES-128 Decrypt', 'AES-128 Flash Write', 'AES-128 Flash Read'])\n",
      "AES-128_WolfSSL_library: 240.66922398020083\n",
      "dict_keys(['No Security Flash Write', 'No Security Flash Read'])\n",
      "No-Security: 86.32349534702033\n",
      "dict_keys(['AES-128 Encrypt', 'AES-128 Decrypt', 'AES-128 Flash Write', 'AES-128 Flash Read'])\n",
      "AES-128_Crypto-Accelerator: 136.4109587582924\n",
      "dict_keys(['AES-128 Encrypt', 'AES-128 Decrypt', 'AES-128 Flash Write', 'AES-128 Flash Read'])\n",
      "AES-128_mbedTLS_library: 235.18715178467974\n",
      "dict_keys(['AES-128 Encrypt', 'AES-128 Decrypt', 'AES-128 Flash Write', 'AES-128 Flash Read'])\n",
      "AES-128_WolfSSL_library: 290.6852386326567\n",
      "dict_keys(['No Security Flash Write', 'No Security Flash Read'])\n",
      "No-Security: 112.53343107746026\n",
      "dict_keys(['AES-128 Encrypt', 'AES-128 Decrypt', 'AES-128 Flash Write', 'AES-128 Flash Read'])\n",
      "AES-128_Crypto-Accelerator: 140.89406359178284\n",
      "dict_keys(['AES-128 Encrypt', 'AES-128 Decrypt', 'AES-128 Flash Write', 'AES-128 Flash Read'])\n",
      "AES-128_mbedTLS_library: 252.49176562665357\n",
      "dict_keys(['AES-128 Encrypt', 'AES-128 Decrypt', 'AES-128 Flash Write', 'AES-128 Flash Read'])\n",
      "AES-128_WolfSSL_library: 316.119196477712\n",
      "dict_keys(['No Security Flash Write', 'No Security Flash Read'])\n",
      "No-Security: 117.61600987229738\n",
      "dict_keys(['AES-128 Encrypt', 'AES-128 Decrypt', 'AES-128 Flash Write', 'AES-128 Flash Read'])\n",
      "AES-128_Crypto-Accelerator: 143.1657552963952\n",
      "dict_keys(['AES-128 Encrypt', 'AES-128 Decrypt', 'AES-128 Flash Write', 'AES-128 Flash Read'])\n",
      "AES-128_mbedTLS_library: 268.5299754440733\n",
      "dict_keys(['AES-128 Encrypt', 'AES-128 Decrypt', 'AES-128 Flash Write', 'AES-128 Flash Read'])\n",
      "AES-128_WolfSSL_library: 337.5053352259376\n",
      "dict_keys(['No Security Flash Write', 'No Security Flash Read'])\n",
      "No-Security: 118.83325721295292\n",
      "dict_keys(['AES-128 Encrypt', 'AES-128 Decrypt', 'AES-128 Flash Write', 'AES-128 Flash Read'])\n",
      "AES-128_Crypto-Accelerator: 175.55268556020164\n",
      "dict_keys(['AES-128 Encrypt', 'AES-128 Decrypt', 'AES-128 Flash Write', 'AES-128 Flash Read'])\n",
      "AES-128_mbedTLS_library: 312.1739184351991\n",
      "dict_keys(['AES-128 Encrypt', 'AES-128 Decrypt', 'AES-128 Flash Write', 'AES-128 Flash Read'])\n",
      "AES-128_WolfSSL_library: 387.52640756125436\n",
      "dict_keys(['No Security Flash Write', 'No Security Flash Read'])\n",
      "No-Security: 145.55124218577447\n",
      "dict_keys(['AES-128 Encrypt', 'AES-128 Decrypt', 'AES-128 Flash Write', 'AES-128 Flash Read'])\n",
      "AES-128_Crypto-Accelerator: 177.8342831223146\n",
      "dict_keys(['AES-128 Encrypt', 'AES-128 Decrypt', 'AES-128 Flash Write', 'AES-128 Flash Read'])\n",
      "AES-128_mbedTLS_library: 327.71860575012425\n",
      "dict_keys(['AES-128 Encrypt', 'AES-128 Decrypt', 'AES-128 Flash Write', 'AES-128 Flash Read'])\n",
      "AES-128_WolfSSL_library: 409.54293152227456\n",
      "dict_keys(['No Security Flash Write', 'No Security Flash Read'])\n",
      "No-Security: 149.70016828227716\n",
      "dict_keys(['AES-128 Encrypt', 'AES-128 Decrypt', 'AES-128 Flash Write', 'AES-128 Flash Read'])\n",
      "AES-128_Crypto-Accelerator: 209.6183572925519\n",
      "dict_keys(['AES-128 Encrypt', 'AES-128 Decrypt', 'AES-128 Flash Write', 'AES-128 Flash Read'])\n",
      "AES-128_mbedTLS_library: 372.39712146526233\n",
      "dict_keys(['AES-128 Encrypt', 'AES-128 Decrypt', 'AES-128 Flash Write', 'AES-128 Flash Read'])\n",
      "AES-128_WolfSSL_library: 458.47914082050437\n",
      "dict_keys(['No Security Flash Write', 'No Security Flash Read'])\n",
      "No-Security: 175.54497653776144\n",
      "dict_keys(['AES-128 Encrypt', 'AES-128 Decrypt', 'AES-128 Flash Write', 'AES-128 Flash Read'])\n",
      "AES-128_Crypto-Accelerator: 211.80463164475285\n",
      "dict_keys(['AES-128 Encrypt', 'AES-128 Decrypt', 'AES-128 Flash Write', 'AES-128 Flash Read'])\n",
      "AES-128_mbedTLS_library: 387.55832626570833\n",
      "dict_keys(['AES-128 Encrypt', 'AES-128 Decrypt', 'AES-128 Flash Write', 'AES-128 Flash Read'])\n",
      "AES-128_WolfSSL_library: 483.9498612957354\n",
      "dict_keys(['No Security Flash Write', 'No Security Flash Read'])\n",
      "No-Security: 177.7662849625007\n",
      "dict_keys(['AES-128 Encrypt', 'AES-128 Decrypt', 'AES-128 Flash Write', 'AES-128 Flash Read'])\n",
      "AES-128_Crypto-Accelerator: 215.22188582071485\n",
      "dict_keys(['AES-128 Encrypt', 'AES-128 Decrypt', 'AES-128 Flash Write', 'AES-128 Flash Read'])\n",
      "AES-128_mbedTLS_library: 402.84820644252835\n",
      "dict_keys(['AES-128 Encrypt', 'AES-128 Decrypt', 'AES-128 Flash Write', 'AES-128 Flash Read'])\n",
      "AES-128_WolfSSL_library: 505.6409602160722\n",
      "dict_keys(['No Security Flash Write', 'No Security Flash Read'])\n",
      "No-Security: 181.70285281490848\n",
      "dict_keys(['AES-128 Encrypt', 'AES-128 Decrypt', 'AES-128 Flash Write', 'AES-128 Flash Read'])\n",
      "AES-128_Crypto-Accelerator: 246.3452005669824\n",
      "dict_keys(['AES-128 Encrypt', 'AES-128 Decrypt', 'AES-128 Flash Write', 'AES-128 Flash Read'])\n",
      "AES-128_mbedTLS_library: 446.46571355128975\n",
      "dict_keys(['AES-128 Encrypt', 'AES-128 Decrypt', 'AES-128 Flash Write', 'AES-128 Flash Read'])\n",
      "AES-128_WolfSSL_library: 554.7824793888808\n",
      "dict_keys(['No Security Flash Write', 'No Security Flash Read'])\n",
      "No-Security: 207.69248281143712\n",
      "dict_keys(['AES-128 Encrypt', 'AES-128 Decrypt', 'AES-128 Flash Write', 'AES-128 Flash Read'])\n",
      "AES-128_Crypto-Accelerator: 249.44765346995177\n",
      "dict_keys(['AES-128 Encrypt', 'AES-128 Decrypt', 'AES-128 Flash Write', 'AES-128 Flash Read'])\n",
      "AES-128_mbedTLS_library: 463.5519610633072\n",
      "dict_keys(['AES-128 Encrypt', 'AES-128 Decrypt', 'AES-128 Flash Write', 'AES-128 Flash Read'])\n",
      "AES-128_WolfSSL_library: 581.0362989730282\n",
      "dict_keys(['No Security Flash Write', 'No Security Flash Read'])\n",
      "No-Security: 212.5208323575364\n",
      "dict_keys(['AES-128 Encrypt', 'AES-128 Decrypt', 'AES-128 Flash Write', 'AES-128 Flash Read'])\n",
      "AES-128_Crypto-Accelerator: 275.8503575314952\n",
      "dict_keys(['AES-128 Encrypt', 'AES-128 Decrypt', 'AES-128 Flash Write', 'AES-128 Flash Read'])\n",
      "AES-128_mbedTLS_library: 504.2015095114826\n",
      "dict_keys(['AES-128 Encrypt', 'AES-128 Decrypt', 'AES-128 Flash Write', 'AES-128 Flash Read'])\n",
      "AES-128_WolfSSL_library: 626.9557579284391\n",
      "dict_keys(['No Security Flash Write', 'No Security Flash Read'])\n",
      "No-Security: 237.4194152633744\n",
      "dict_keys(['AES-128 Encrypt', 'AES-128 Decrypt', 'AES-128 Flash Write', 'AES-128 Flash Read'])\n",
      "AES-128_Crypto-Accelerator: 280.625593232726\n",
      "dict_keys(['AES-128 Encrypt', 'AES-128 Decrypt', 'AES-128 Flash Write', 'AES-128 Flash Read'])\n",
      "AES-128_mbedTLS_library: 523.1109255462476\n",
      "dict_keys(['AES-128 Encrypt', 'AES-128 Decrypt', 'AES-128 Flash Write', 'AES-128 Flash Read'])\n",
      "AES-128_WolfSSL_library: 651.5177719188819\n",
      "dict_keys(['No Security Flash Write', 'No Security Flash Read'])\n",
      "No-Security: 240.21447184909454\n",
      "dict_keys(['AES-128 Encrypt', 'AES-128 Decrypt', 'AES-128 Flash Write', 'AES-128 Flash Read'])\n",
      "AES-128_Crypto-Accelerator: 286.9108312117873\n",
      "dict_keys(['AES-128 Encrypt', 'AES-128 Decrypt', 'AES-128 Flash Write', 'AES-128 Flash Read'])\n",
      "AES-128_mbedTLS_library: 536.6508802671826\n",
      "dict_keys(['AES-128 Encrypt', 'AES-128 Decrypt', 'AES-128 Flash Write', 'AES-128 Flash Read'])\n",
      "AES-128_WolfSSL_library: 674.632256154092\n",
      "dict_keys(['No Security Flash Write', 'No Security Flash Read'])\n",
      "No-Security: 244.06199288528302\n",
      "dict_keys(['AES-128 Encrypt', 'AES-128 Decrypt', 'AES-128 Flash Write', 'AES-128 Flash Read'])\n",
      "AES-128_Crypto-Accelerator: 314.74188990029313\n",
      "dict_keys(['AES-128 Encrypt', 'AES-128 Decrypt', 'AES-128 Flash Write', 'AES-128 Flash Read'])\n",
      "AES-128_mbedTLS_library: 582.3620461358144\n",
      "dict_keys(['AES-128 Encrypt', 'AES-128 Decrypt', 'AES-128 Flash Write', 'AES-128 Flash Read'])\n",
      "AES-128_WolfSSL_library: 725.9184897471087\n",
      "dict_keys(['No Security Flash Write', 'No Security Flash Read'])\n",
      "No-Security: 269.0034097973394\n",
      "dict_keys(['AES-128 Encrypt', 'AES-128 Decrypt', 'AES-128 Flash Write', 'AES-128 Flash Read'])\n",
      "AES-128_Crypto-Accelerator: 320.2438604588052\n",
      "dict_keys(['AES-128 Encrypt', 'AES-128 Decrypt', 'AES-128 Flash Write', 'AES-128 Flash Read'])\n",
      "AES-128_mbedTLS_library: 597.0619717677342\n",
      "dict_keys(['AES-128 Encrypt', 'AES-128 Decrypt', 'AES-128 Flash Write', 'AES-128 Flash Read'])\n",
      "AES-128_WolfSSL_library: 747.8567830359316\n",
      "dict_keys(['No Security Flash Write', 'No Security Flash Read'])\n",
      "No-Security: 273.8501468786922\n",
      "dict_keys(['AES-128 Encrypt', 'AES-128 Decrypt', 'AES-128 Flash Write', 'AES-128 Flash Read'])\n",
      "AES-128_Crypto-Accelerator: 346.23597336411416\n",
      "dict_keys(['AES-128 Encrypt', 'AES-128 Decrypt', 'AES-128 Flash Write', 'AES-128 Flash Read'])\n",
      "AES-128_mbedTLS_library: 639.2798827097785\n",
      "dict_keys(['AES-128 Encrypt', 'AES-128 Decrypt', 'AES-128 Flash Write', 'AES-128 Flash Read'])\n",
      "AES-128_WolfSSL_library: 793.8948997023599\n",
      "dict_keys(['No Security Flash Write', 'No Security Flash Read'])\n",
      "No-Security: 274.20235177670367\n",
      "dict_keys(['AES-128 Encrypt', 'AES-128 Decrypt', 'AES-128 Flash Write', 'AES-128 Flash Read'])\n",
      "AES-128_Crypto-Accelerator: 351.6333549553765\n",
      "dict_keys(['AES-128 Encrypt', 'AES-128 Decrypt', 'AES-128 Flash Write', 'AES-128 Flash Read'])\n",
      "AES-128_mbedTLS_library: 655.2592138212804\n",
      "dict_keys(['AES-128 Encrypt', 'AES-128 Decrypt', 'AES-128 Flash Write', 'AES-128 Flash Read'])\n",
      "AES-128_WolfSSL_library: 818.078426011862\n",
      "dict_keys(['No Security Flash Write', 'No Security Flash Read'])\n",
      "No-Security: 301.00279718670294\n",
      "dict_keys(['AES-128 Encrypt', 'AES-128 Decrypt', 'AES-128 Flash Write', 'AES-128 Flash Read'])\n",
      "AES-128_Crypto-Accelerator: 359.6449613470274\n",
      "dict_keys(['AES-128 Encrypt', 'AES-128 Decrypt', 'AES-128 Flash Write', 'AES-128 Flash Read'])\n",
      "AES-128_mbedTLS_library: 674.6571341204376\n",
      "dict_keys(['AES-128 Encrypt', 'AES-128 Decrypt', 'AES-128 Flash Write', 'AES-128 Flash Read'])\n",
      "AES-128_WolfSSL_library: 844.5131006055908\n",
      "dict_keys(['No Security Flash Write', 'No Security Flash Read'])\n",
      "No-Security: 305.46168374666894\n",
      "dict_keys(['AES-128 Encrypt', 'AES-128 Decrypt', 'AES-128 Flash Write', 'AES-128 Flash Read'])\n",
      "AES-128_Crypto-Accelerator: 379.9533965554542\n",
      "dict_keys(['AES-128 Encrypt', 'AES-128 Decrypt', 'AES-128 Flash Write', 'AES-128 Flash Read'])\n",
      "AES-128_mbedTLS_library: 715.6859360570082\n",
      "dict_keys(['AES-128 Encrypt', 'AES-128 Decrypt', 'AES-128 Flash Write', 'AES-128 Flash Read'])\n",
      "AES-128_WolfSSL_library: 891.0646542293455\n",
      "dict_keys(['No Security Flash Write', 'No Security Flash Read'])\n",
      "No-Security: 329.30411101505285\n",
      "dict_keys(['AES-128 Encrypt', 'AES-128 Decrypt', 'AES-128 Flash Write', 'AES-128 Flash Read'])\n",
      "AES-128_Crypto-Accelerator: 391.6939567343945\n",
      "dict_keys(['AES-128 Encrypt', 'AES-128 Decrypt', 'AES-128 Flash Write', 'AES-128 Flash Read'])\n",
      "AES-128_mbedTLS_library: 731.6359341527743\n",
      "dict_keys(['AES-128 Encrypt', 'AES-128 Decrypt', 'AES-128 Flash Write', 'AES-128 Flash Read'])\n",
      "AES-128_WolfSSL_library: 914.5364681496219\n",
      "dict_keys(['No Security Flash Write', 'No Security Flash Read'])\n",
      "No-Security: 334.80751952490596\n",
      "dict_keys(['AES-128 Encrypt', 'AES-128 Decrypt', 'AES-128 Flash Write', 'AES-128 Flash Read'])\n",
      "AES-128_Crypto-Accelerator: 393.9658484017759\n",
      "dict_keys(['AES-128 Encrypt', 'AES-128 Decrypt', 'AES-128 Flash Write', 'AES-128 Flash Read'])\n",
      "AES-128_mbedTLS_library: 746.2399321746279\n",
      "dict_keys(['AES-128 Encrypt', 'AES-128 Decrypt', 'AES-128 Flash Write', 'AES-128 Flash Read'])\n",
      "AES-128_WolfSSL_library: 935.4671945141524\n",
      "dict_keys(['No Security Flash Write', 'No Security Flash Read'])\n",
      "No-Security: 335.0429388395639\n",
      "dict_keys(['AES-128 Encrypt', 'AES-128 Decrypt', 'AES-128 Flash Write', 'AES-128 Flash Read'])\n",
      "AES-128_Crypto-Accelerator: 420.8554215912179\n",
      "dict_keys(['AES-128 Encrypt', 'AES-128 Decrypt', 'AES-128 Flash Write', 'AES-128 Flash Read'])\n",
      "AES-128_mbedTLS_library: 789.7642522266835\n",
      "dict_keys(['AES-128 Encrypt', 'AES-128 Decrypt', 'AES-128 Flash Write', 'AES-128 Flash Read'])\n",
      "AES-128_WolfSSL_library: 986.6655996062515\n",
      "dict_keys(['No Security Flash Write', 'No Security Flash Read'])\n",
      "No-Security: 359.675995181672\n",
      "dict_keys(['AES-128 Encrypt', 'AES-128 Decrypt', 'AES-128 Flash Write', 'AES-128 Flash Read'])\n",
      "AES-128_Crypto-Accelerator: 427.33813151752366\n",
      "dict_keys(['AES-128 Encrypt', 'AES-128 Decrypt', 'AES-128 Flash Write', 'AES-128 Flash Read'])\n",
      "AES-128_mbedTLS_library: 808.4218098808905\n",
      "dict_keys(['AES-128 Encrypt', 'AES-128 Decrypt', 'AES-128 Flash Write', 'AES-128 Flash Read'])\n",
      "AES-128_WolfSSL_library: 1011.2989346286519\n",
      "dict_keys(['No Security Flash Write', 'No Security Flash Read'])\n",
      "No-Security: 364.2167603458958\n",
      "dict_keys(['AES-128 Encrypt', 'AES-128 Decrypt', 'AES-128 Flash Write', 'AES-128 Flash Read'])\n",
      "AES-128_Crypto-Accelerator: 450.04342502084336\n",
      "dict_keys(['AES-128 Encrypt', 'AES-128 Decrypt', 'AES-128 Flash Write', 'AES-128 Flash Read'])\n",
      "AES-128_mbedTLS_library: 844.9264301344132\n",
      "dict_keys(['AES-128 Encrypt', 'AES-128 Decrypt', 'AES-128 Flash Write', 'AES-128 Flash Read'])\n",
      "AES-128_WolfSSL_library: 1053.2411180021356\n",
      "dict_keys(['No Security Flash Write', 'No Security Flash Read'])\n",
      "No-Security: 387.86485975234666\n",
      "dict_keys(['AES-128 Encrypt', 'AES-128 Decrypt', 'AES-128 Flash Write', 'AES-128 Flash Read'])\n",
      "AES-128_Crypto-Accelerator: 458.17016597887135\n",
      "dict_keys(['AES-128 Encrypt', 'AES-128 Decrypt', 'AES-128 Flash Write', 'AES-128 Flash Read'])\n",
      "AES-128_mbedTLS_library: 862.5822630009646\n",
      "dict_keys(['AES-128 Encrypt', 'AES-128 Decrypt', 'AES-128 Flash Write', 'AES-128 Flash Read'])\n",
      "AES-128_WolfSSL_library: 1078.7787080721905\n",
      "dict_keys(['No Security Flash Write', 'No Security Flash Read'])\n",
      "No-Security: 392.8336313425027\n",
      "dict_keys(['AES-128 Encrypt', 'AES-128 Decrypt', 'AES-128 Flash Write', 'AES-128 Flash Read'])\n",
      "AES-128_Crypto-Accelerator: 465.36557961573214\n",
      "dict_keys(['AES-128 Encrypt', 'AES-128 Decrypt', 'AES-128 Flash Write', 'AES-128 Flash Read'])\n",
      "AES-128_mbedTLS_library: 882.7292138131339\n",
      "dict_keys(['AES-128 Encrypt', 'AES-128 Decrypt', 'AES-128 Flash Write', 'AES-128 Flash Read'])\n",
      "AES-128_WolfSSL_library: 1103.273970510232\n",
      "dict_keys(['No Security Flash Write', 'No Security Flash Read'])\n",
      "No-Security: 393.45234837654596\n",
      "dict_keys(['AES-128 Encrypt', 'AES-128 Decrypt', 'AES-128 Flash Write', 'AES-128 Flash Read'])\n",
      "AES-128_Crypto-Accelerator: 489.48115376854616\n",
      "dict_keys(['AES-128 Encrypt', 'AES-128 Decrypt', 'AES-128 Flash Write', 'AES-128 Flash Read'])\n",
      "AES-128_mbedTLS_library: 921.6450159690409\n",
      "dict_keys(['AES-128 Encrypt', 'AES-128 Decrypt', 'AES-128 Flash Write', 'AES-128 Flash Read'])\n",
      "AES-128_WolfSSL_library: 1151.3912998067585\n",
      "dict_keys(['No Security Flash Write', 'No Security Flash Read'])\n",
      "No-Security: 419.529430409091\n",
      "dict_keys(['AES-128 Encrypt', 'AES-128 Decrypt', 'AES-128 Flash Write', 'AES-128 Flash Read'])\n",
      "AES-128_Crypto-Accelerator: 494.9399222261486\n",
      "dict_keys(['AES-128 Encrypt', 'AES-128 Decrypt', 'AES-128 Flash Write', 'AES-128 Flash Read'])\n",
      "AES-128_mbedTLS_library: 937.9493535104684\n",
      "dict_keys(['AES-128 Encrypt', 'AES-128 Decrypt', 'AES-128 Flash Write', 'AES-128 Flash Read'])\n",
      "AES-128_WolfSSL_library: 1173.5309077543984\n",
      "dict_keys(['No Security Flash Write', 'No Security Flash Read'])\n",
      "No-Security: 422.3194048856112\n",
      "dict_keys(['AES-128 Encrypt', 'AES-128 Decrypt', 'AES-128 Flash Write', 'AES-128 Flash Read'])\n",
      "AES-128_Crypto-Accelerator: 518.8107451421341\n",
      "dict_keys(['AES-128 Encrypt', 'AES-128 Decrypt', 'AES-128 Flash Write', 'AES-128 Flash Read'])\n",
      "AES-128_mbedTLS_library: 976.5355111593146\n",
      "dict_keys(['AES-128 Encrypt', 'AES-128 Decrypt', 'AES-128 Flash Write', 'AES-128 Flash Read'])\n",
      "AES-128_WolfSSL_library: 1219.1475563552735\n",
      "dict_keys(['No Security Flash Write', 'No Security Flash Read'])\n",
      "No-Security: 447.759279606903\n",
      "dict_keys(['AES-128 Encrypt', 'AES-128 Decrypt', 'AES-128 Flash Write', 'AES-128 Flash Read'])\n",
      "AES-128_Crypto-Accelerator: 527.7355730119243\n",
      "dict_keys(['AES-128 Encrypt', 'AES-128 Decrypt', 'AES-128 Flash Write', 'AES-128 Flash Read'])\n",
      "AES-128_mbedTLS_library: 997.8954134150496\n",
      "dict_keys(['AES-128 Encrypt', 'AES-128 Decrypt', 'AES-128 Flash Write', 'AES-128 Flash Read'])\n",
      "AES-128_WolfSSL_library: 1247.0601895227842\n",
      "dict_keys(['No Security Flash Write', 'No Security Flash Read'])\n",
      "No-Security: 449.2424240773511\n",
      "dict_keys(['AES-128 Encrypt', 'AES-128 Decrypt', 'AES-128 Flash Write', 'AES-128 Flash Read'])\n",
      "AES-128_Crypto-Accelerator: 529.4745340921572\n",
      "dict_keys(['AES-128 Encrypt', 'AES-128 Decrypt', 'AES-128 Flash Write', 'AES-128 Flash Read'])\n",
      "AES-128_mbedTLS_library: 1011.6226588743726\n",
      "dict_keys(['AES-128 Encrypt', 'AES-128 Decrypt', 'AES-128 Flash Write', 'AES-128 Flash Read'])\n",
      "AES-128_WolfSSL_library: 1268.4104921633736\n",
      "dict_keys(['No Security Flash Write', 'No Security Flash Read'])\n",
      "No-Security: 453.1943349280366\n",
      "dict_keys(['AES-128 Encrypt', 'AES-128 Decrypt', 'AES-128 Flash Write', 'AES-128 Flash Read'])\n",
      "AES-128_Crypto-Accelerator: 558.8934108055424\n",
      "dict_keys(['AES-128 Encrypt', 'AES-128 Decrypt', 'AES-128 Flash Write', 'AES-128 Flash Read'])\n",
      "AES-128_mbedTLS_library: 1054.3789943460622\n",
      "dict_keys(['AES-128 Encrypt', 'AES-128 Decrypt', 'AES-128 Flash Write', 'AES-128 Flash Read'])\n",
      "AES-128_WolfSSL_library: 1315.9254979167756\n",
      "dict_keys(['No Security Flash Write', 'No Security Flash Read'])\n",
      "No-Security: 477.5227553310191\n",
      "dict_keys(['AES-128 Encrypt', 'AES-128 Decrypt', 'AES-128 Flash Write', 'AES-128 Flash Read'])\n",
      "AES-128_Crypto-Accelerator: 563.7616623822353\n",
      "dict_keys(['AES-128 Encrypt', 'AES-128 Decrypt', 'AES-128 Flash Write', 'AES-128 Flash Read'])\n",
      "AES-128_mbedTLS_library: 1068.3298682756163\n",
      "dict_keys(['AES-128 Encrypt', 'AES-128 Decrypt', 'AES-128 Flash Write', 'AES-128 Flash Read'])\n",
      "AES-128_WolfSSL_library: 1338.3393930932023\n",
      "dict_keys(['No Security Flash Write', 'No Security Flash Read'])\n",
      "No-Security: 482.71823467532454\n",
      "dict_keys(['AES-128 Encrypt', 'AES-128 Decrypt', 'AES-128 Flash Write', 'AES-128 Flash Read'])\n",
      "AES-128_Crypto-Accelerator: 589.9713277989465\n",
      "dict_keys(['AES-128 Encrypt', 'AES-128 Decrypt', 'AES-128 Flash Write', 'AES-128 Flash Read'])\n",
      "AES-128_mbedTLS_library: 1109.4803885003755\n",
      "dict_keys(['AES-128 Encrypt', 'AES-128 Decrypt', 'AES-128 Flash Write', 'AES-128 Flash Read'])\n",
      "AES-128_WolfSSL_library: 1385.9700779722175\n",
      "dict_keys(['No Security Flash Write', 'No Security Flash Read'])\n",
      "No-Security: 506.04868844130493\n",
      "dict_keys(['AES-128 Encrypt', 'AES-128 Decrypt', 'AES-128 Flash Write', 'AES-128 Flash Read'])\n",
      "AES-128_Crypto-Accelerator: 593.1819873318789\n",
      "dict_keys(['AES-128 Encrypt', 'AES-128 Decrypt', 'AES-128 Flash Write', 'AES-128 Flash Read'])\n",
      "AES-128_mbedTLS_library: 1128.8493890134332\n",
      "dict_keys(['AES-128 Encrypt', 'AES-128 Decrypt', 'AES-128 Flash Write', 'AES-128 Flash Read'])\n",
      "AES-128_WolfSSL_library: 1410.2440866201605\n",
      "dict_keys(['No Security Flash Write', 'No Security Flash Read'])\n",
      "No-Security: 508.6216679095336\n",
      "dict_keys(['AES-128 Encrypt', 'AES-128 Decrypt', 'AES-128 Flash Write', 'AES-128 Flash Read'])\n",
      "AES-128_Crypto-Accelerator: 598.9316126180936\n",
      "dict_keys(['AES-128 Encrypt', 'AES-128 Decrypt', 'AES-128 Flash Write', 'AES-128 Flash Read'])\n",
      "AES-128_mbedTLS_library: 1143.0114846125632\n",
      "dict_keys(['AES-128 Encrypt', 'AES-128 Decrypt', 'AES-128 Flash Write', 'AES-128 Flash Read'])\n",
      "AES-128_WolfSSL_library: 1432.2310860877442\n",
      "dict_keys(['No Security Flash Write', 'No Security Flash Read'])\n",
      "No-Security: 512.7157019934086\n",
      "dict_keys(['AES-128 Encrypt', 'AES-128 Decrypt', 'AES-128 Flash Write', 'AES-128 Flash Read'])\n",
      "AES-128_Crypto-Accelerator: 622.9632566936746\n",
      "dict_keys(['AES-128 Encrypt', 'AES-128 Decrypt', 'AES-128 Flash Write', 'AES-128 Flash Read'])\n",
      "AES-128_mbedTLS_library: 1181.5482633238958\n",
      "dict_keys(['AES-128 Encrypt', 'AES-128 Decrypt', 'AES-128 Flash Write', 'AES-128 Flash Read'])\n",
      "AES-128_WolfSSL_library: 1476.6726198502074\n",
      "dict_keys(['No Security Flash Write', 'No Security Flash Read'])\n",
      "No-Security: 536.2000187453938\n",
      "dict_keys(['AES-128 Encrypt', 'AES-128 Decrypt', 'AES-128 Flash Write', 'AES-128 Flash Read'])\n",
      "AES-128_Crypto-Accelerator: 633.3328652084247\n",
      "dict_keys(['AES-128 Encrypt', 'AES-128 Decrypt', 'AES-128 Flash Write', 'AES-128 Flash Read'])\n",
      "AES-128_mbedTLS_library: 1202.3598056751644\n",
      "dict_keys(['AES-128 Encrypt', 'AES-128 Decrypt', 'AES-128 Flash Write', 'AES-128 Flash Read'])\n",
      "AES-128_WolfSSL_library: 1505.1217123347137\n",
      "dict_keys(['No Security Flash Write', 'No Security Flash Read'])\n",
      "No-Security: 540.4799248166968\n",
      "dict_keys(['AES-128 Encrypt', 'AES-128 Decrypt', 'AES-128 Flash Write', 'AES-128 Flash Read'])\n",
      "AES-128_Crypto-Accelerator: 655.8968679489233\n",
      "dict_keys(['AES-128 Encrypt', 'AES-128 Decrypt', 'AES-128 Flash Write', 'AES-128 Flash Read'])\n",
      "AES-128_mbedTLS_library: 1242.5866106890712\n",
      "dict_keys(['AES-128 Encrypt', 'AES-128 Decrypt', 'AES-128 Flash Write', 'AES-128 Flash Read'])\n",
      "AES-128_WolfSSL_library: 1549.2484446825724\n",
      "dict_keys(['No Security Flash Write', 'No Security Flash Read'])\n",
      "No-Security: 543.1301272750919\n",
      "dict_keys(['AES-128 Encrypt', 'AES-128 Decrypt', 'AES-128 Flash Write', 'AES-128 Flash Read'])\n",
      "AES-128_Crypto-Accelerator: 660.7105087937549\n",
      "dict_keys(['AES-128 Encrypt', 'AES-128 Decrypt', 'AES-128 Flash Write', 'AES-128 Flash Read'])\n",
      "AES-128_mbedTLS_library: 1257.466246697341\n",
      "dict_keys(['AES-128 Encrypt', 'AES-128 Decrypt', 'AES-128 Flash Write', 'AES-128 Flash Read'])\n",
      "AES-128_WolfSSL_library: 1574.001674763837\n",
      "dict_keys(['No Security Flash Write', 'No Security Flash Read'])\n",
      "No-Security: 567.8349379289454\n",
      "dict_keys(['AES-128 Encrypt', 'AES-128 Decrypt', 'AES-128 Flash Write', 'AES-128 Flash Read'])\n",
      "AES-128_Crypto-Accelerator: 668.4392003927026\n",
      "dict_keys(['AES-128 Encrypt', 'AES-128 Decrypt', 'AES-128 Flash Write', 'AES-128 Flash Read'])\n",
      "AES-128_mbedTLS_library: 1273.0788903822818\n",
      "dict_keys(['AES-128 Encrypt', 'AES-128 Decrypt', 'AES-128 Flash Write', 'AES-128 Flash Read'])\n",
      "AES-128_WolfSSL_library: 1598.0355400384046\n",
      "dict_keys(['No Security Flash Write', 'No Security Flash Read'])\n",
      "No-Security: 573.8251073152446\n",
      "dict_keys(['AES-128 Encrypt', 'AES-128 Decrypt', 'AES-128 Flash Write', 'AES-128 Flash Read'])\n",
      "AES-128_Crypto-Accelerator: 692.0435991952779\n",
      "dict_keys(['AES-128 Encrypt', 'AES-128 Decrypt', 'AES-128 Flash Write', 'AES-128 Flash Read'])\n",
      "AES-128_mbedTLS_library: 1315.9353505251836\n",
      "dict_keys(['AES-128 Encrypt', 'AES-128 Decrypt', 'AES-128 Flash Write', 'AES-128 Flash Read'])\n",
      "AES-128_WolfSSL_library: 1644.3842998643627\n",
      "dict_keys(['No Security Flash Write', 'No Security Flash Read'])\n",
      "No-Security: 597.7045588873875\n",
      "dict_keys(['AES-128 Encrypt', 'AES-128 Decrypt', 'AES-128 Flash Write', 'AES-128 Flash Read'])\n",
      "AES-128_Crypto-Accelerator: 700.683323317089\n",
      "dict_keys(['AES-128 Encrypt', 'AES-128 Decrypt', 'AES-128 Flash Write', 'AES-128 Flash Read'])\n",
      "AES-128_mbedTLS_library: 1334.828492599322\n",
      "dict_keys(['AES-128 Encrypt', 'AES-128 Decrypt', 'AES-128 Flash Write', 'AES-128 Flash Read'])\n",
      "AES-128_WolfSSL_library: 1670.1409915546633\n",
      "dict_keys(['No Security Flash Write', 'No Security Flash Read'])\n",
      "No-Security: 601.1761051051923\n",
      "dict_keys(['AES-128 Encrypt', 'AES-128 Decrypt', 'AES-128 Flash Write', 'AES-128 Flash Read'])\n",
      "AES-128_Crypto-Accelerator: 705.7482122934649\n",
      "dict_keys(['AES-128 Encrypt', 'AES-128 Decrypt', 'AES-128 Flash Write', 'AES-128 Flash Read'])\n",
      "AES-128_mbedTLS_library: 1350.0169447476917\n",
      "dict_keys(['AES-128 Encrypt', 'AES-128 Decrypt', 'AES-128 Flash Write', 'AES-128 Flash Read'])\n",
      "AES-128_WolfSSL_library: 1692.7140565594482\n",
      "dict_keys(['No Security Flash Write', 'No Security Flash Read'])\n",
      "No-Security: 602.0132475795664\n",
      "dict_keys(['AES-128 Encrypt', 'AES-128 Decrypt', 'AES-128 Flash Write', 'AES-128 Flash Read'])\n",
      "AES-128_Crypto-Accelerator: 727.2465365088826\n",
      "dict_keys(['AES-128 Encrypt', 'AES-128 Decrypt', 'AES-128 Flash Write', 'AES-128 Flash Read'])\n",
      "AES-128_mbedTLS_library: 1387.9863814304053\n",
      "dict_keys(['AES-128 Encrypt', 'AES-128 Decrypt', 'AES-128 Flash Write', 'AES-128 Flash Read'])\n",
      "AES-128_WolfSSL_library: 1736.362162625456\n",
      "dict_keys(['No Security Flash Write', 'No Security Flash Read'])\n",
      "No-Security: 625.0523435411274\n",
      "dict_keys(['AES-128 Encrypt', 'AES-128 Decrypt', 'AES-128 Flash Write', 'AES-128 Flash Read'])\n",
      "AES-128_Crypto-Accelerator: 734.7209381773777\n",
      "dict_keys(['AES-128 Encrypt', 'AES-128 Decrypt', 'AES-128 Flash Write', 'AES-128 Flash Read'])\n",
      "AES-128_mbedTLS_library: 1407.3094820822012\n",
      "dict_keys(['AES-128 Encrypt', 'AES-128 Decrypt', 'AES-128 Flash Write', 'AES-128 Flash Read'])\n",
      "AES-128_WolfSSL_library: 1763.7465329532283\n",
      "dict_keys(['No Security Flash Write', 'No Security Flash Read'])\n",
      "No-Security: 627.1472830050039\n",
      "dict_keys(['AES-128 Encrypt', 'AES-128 Decrypt', 'AES-128 Flash Write', 'AES-128 Flash Read'])\n",
      "AES-128_Crypto-Accelerator: 754.5726178938759\n",
      "dict_keys(['AES-128 Encrypt', 'AES-128 Decrypt', 'AES-128 Flash Write', 'AES-128 Flash Read'])\n",
      "AES-128_mbedTLS_library: 1443.1648754497644\n",
      "dict_keys(['AES-128 Encrypt', 'AES-128 Decrypt', 'AES-128 Flash Write', 'AES-128 Flash Read'])\n",
      "AES-128_WolfSSL_library: 1804.7869193518595\n",
      "dict_keys(['No Security Flash Write', 'No Security Flash Read'])\n",
      "No-Security: 649.6455716874129\n",
      "dict_keys(['AES-128 Encrypt', 'AES-128 Decrypt', 'AES-128 Flash Write', 'AES-128 Flash Read'])\n",
      "AES-128_Crypto-Accelerator: 766.2469893873213\n",
      "dict_keys(['AES-128 Encrypt', 'AES-128 Decrypt', 'AES-128 Flash Write', 'AES-128 Flash Read'])\n",
      "AES-128_mbedTLS_library: 1461.0521464035419\n",
      "dict_keys(['AES-128 Encrypt', 'AES-128 Decrypt', 'AES-128 Flash Write', 'AES-128 Flash Read'])\n",
      "AES-128_WolfSSL_library: 1831.111876687269\n",
      "dict_keys(['No Security Flash Write', 'No Security Flash Read'])\n",
      "No-Security: 652.9130755665965\n",
      "dict_keys(['AES-128 Encrypt', 'AES-128 Decrypt', 'AES-128 Flash Write', 'AES-128 Flash Read'])\n",
      "AES-128_Crypto-Accelerator: 767.6481040464422\n",
      "dict_keys(['AES-128 Encrypt', 'AES-128 Decrypt', 'AES-128 Flash Write', 'AES-128 Flash Read'])\n",
      "AES-128_mbedTLS_library: 1478.259279181389\n",
      "dict_keys(['AES-128 Encrypt', 'AES-128 Decrypt', 'AES-128 Flash Write', 'AES-128 Flash Read'])\n",
      "AES-128_WolfSSL_library: 1853.7087547276194\n",
      "dict_keys(['No Security Flash Write', 'No Security Flash Read'])\n",
      "No-Security: 659.0699466419557\n",
      "dict_keys(['AES-128 Encrypt', 'AES-128 Decrypt', 'AES-128 Flash Write', 'AES-128 Flash Read'])\n",
      "AES-128_Crypto-Accelerator: 793.4986061840153\n",
      "dict_keys(['AES-128 Encrypt', 'AES-128 Decrypt', 'AES-128 Flash Write', 'AES-128 Flash Read'])\n",
      "AES-128_mbedTLS_library: 1517.4647387741131\n",
      "dict_keys(['AES-128 Encrypt', 'AES-128 Decrypt', 'AES-128 Flash Write', 'AES-128 Flash Read'])\n",
      "AES-128_WolfSSL_library: 1902.5458356999213\n",
      "dict_keys(['No Security Flash Write', 'No Security Flash Read'])\n",
      "No-Security: 679.7202228083532\n",
      "dict_keys(['AES-128 Encrypt', 'AES-128 Decrypt', 'AES-128 Flash Write', 'AES-128 Flash Read'])\n",
      "AES-128_Crypto-Accelerator: 797.0590611186581\n",
      "dict_keys(['AES-128 Encrypt', 'AES-128 Decrypt', 'AES-128 Flash Write', 'AES-128 Flash Read'])\n",
      "AES-128_mbedTLS_library: 1535.8318172918132\n",
      "dict_keys(['AES-128 Encrypt', 'AES-128 Decrypt', 'AES-128 Flash Write', 'AES-128 Flash Read'])\n",
      "AES-128_WolfSSL_library: 1923.9399477710995\n",
      "dict_keys(['No Security Flash Write', 'No Security Flash Read'])\n",
      "No-Security: 684.0326964150574\n",
      "dict_keys(['AES-128 Encrypt', 'AES-128 Decrypt', 'AES-128 Flash Write', 'AES-128 Flash Read'])\n",
      "AES-128_Crypto-Accelerator: 820.9159362092031\n",
      "dict_keys(['AES-128 Encrypt', 'AES-128 Decrypt', 'AES-128 Flash Write', 'AES-128 Flash Read'])\n",
      "AES-128_mbedTLS_library: 1570.203212384374\n",
      "dict_keys(['AES-128 Encrypt', 'AES-128 Decrypt', 'AES-128 Flash Write', 'AES-128 Flash Read'])\n",
      "AES-128_WolfSSL_library: 1966.909072316333\n",
      "dict_keys(['No Security Flash Write', 'No Security Flash Read'])\n",
      "No-Security: 705.2152150783406\n",
      "dict_keys(['AES-128 Encrypt', 'AES-128 Decrypt', 'AES-128 Flash Write', 'AES-128 Flash Read'])\n",
      "AES-128_Crypto-Accelerator: 832.5759303564738\n",
      "dict_keys(['AES-128 Encrypt', 'AES-128 Decrypt', 'AES-128 Flash Write', 'AES-128 Flash Read'])\n",
      "AES-128_mbedTLS_library: 1591.1017691709376\n",
      "dict_keys(['AES-128 Encrypt', 'AES-128 Decrypt', 'AES-128 Flash Write', 'AES-128 Flash Read'])\n",
      "AES-128_WolfSSL_library: 1993.3897579656827\n",
      "dict_keys(['No Security Flash Write', 'No Security Flash Read'])\n",
      "No-Security: 716.4202028463859\n"
     ]
    }
   ],
   "source": [
    "\n",
    "#         self.fig.tight_layout() off\n",
    "#         figscale = 1.2\n",
    "security_plotter.animate(save=False, fps=5, bitrate=2048*8, dpi=600)"
   ]
  },
  {
   "cell_type": "code",
   "execution_count": 89,
   "metadata": {},
   "outputs": [],
   "source": [
    "# security_plotter.make_fig()"
   ]
  },
  {
   "cell_type": "code",
   "execution_count": 90,
   "metadata": {},
   "outputs": [],
   "source": [
    "# security_plotter.update_fig()"
   ]
  },
  {
   "cell_type": "code",
   "execution_count": 91,
   "metadata": {},
   "outputs": [],
   "source": [
    "# security_plotter.animate()"
   ]
  },
  {
   "cell_type": "code",
   "execution_count": 92,
   "metadata": {},
   "outputs": [],
   "source": [
    "# security_plotter.ax.grid()"
   ]
  },
  {
   "cell_type": "code",
   "execution_count": 93,
   "metadata": {},
   "outputs": [
    {
     "name": "stdout",
     "output_type": "stream",
     "text": [
      "dict_keys(['AES-128 Encrypt', 'AES-128 Decrypt', 'AES-128 Flash Write', 'AES-128 Flash Read'])\n",
      "AES-128_Crypto-Accelerator: 308.5451495441788\n",
      "dict_keys(['AES-128 Encrypt', 'AES-128 Decrypt', 'AES-128 Flash Write', 'AES-128 Flash Read'])\n",
      "AES-128_mbedTLS_library: 569.0539392595189\n",
      "dict_keys(['AES-128 Encrypt', 'AES-128 Decrypt', 'AES-128 Flash Write', 'AES-128 Flash Read'])\n",
      "AES-128_WolfSSL_library: 708.3552879999404\n",
      "dict_keys(['No Security Flash Write', 'No Security Flash Read'])\n",
      "No-Security: 267.70616713648474\n",
      "dict_keys(['AES-128 Encrypt', 'AES-128 Decrypt', 'AES-128 Flash Write', 'AES-128 Flash Read'])\n",
      "AES-128_Crypto-Accelerator: 31.142170901798504\n",
      "dict_keys(['AES-128 Encrypt', 'AES-128 Decrypt', 'AES-128 Flash Write', 'AES-128 Flash Read'])\n",
      "AES-128_mbedTLS_library: 42.40738159274601\n",
      "dict_keys(['AES-128 Encrypt', 'AES-128 Decrypt', 'AES-128 Flash Write', 'AES-128 Flash Read'])\n",
      "AES-128_WolfSSL_library: 51.49845020272848\n",
      "dict_keys(['No Security Flash Write', 'No Security Flash Read'])\n",
      "No-Security: 21.130847120523605\n"
     ]
    }
   ],
   "source": [
    "security_plotter.update_fig(2048)\n",
    "# self.fig.tight_layout() on\n",
    "figscale = 1.1\n",
    "# security_plotter.fig.get_figheight()\n",
    "security_plotter.fig.set_size_inches(6.4*figscale, 4.8*figscale, forward=True)\n",
    "# security_plotter.fig.set_size_inches(security_plotter.fig.get_figwidth()*figscale, security_plotter.fig.get_figheight()*figscale, forward=True)\n",
    "# security_plotter.ax.set_ylim(0,230)"
   ]
  },
  {
   "cell_type": "raw",
   "metadata": {},
   "source": [
    "Model 2048:\n",
    "AES-128_Flash: 540.0119285973523\n",
    "AES-256_Flash: 651.2938729978671\n",
    "TrustZone_Flash: 210.3366047607681\n",
    "No_Security_Flash: 208.6946743987858\n",
    "\n",
    "AES-128_Flash/No_Security_Flash = 2.587569281070711\n",
    "AES-256_Flash/No_Security_Flash = 3.1207977629239223\n",
    "TrustZone_Flash/No_Security_Flash = 1.0078676198456546\n",
    "\n",
    "No Model 2048:\n",
    "AES-128_Flash: 553.0399173128762\n",
    "AES-256_Flash: 665.4805861671292\n",
    "TrustZone_Flash: 220.0524181298544\n",
    "No_Security_Flash: 218.8389771795176\n",
    "\n",
    "AES-128_Flash/No_Security_Flash = 2.5271545519023677\n",
    "AES-256_Flash/No_Security_Flash = 3.0409600462591424\n",
    "TrustZone_Flash/No_Security_Flash = 1.005544903225084"
   ]
  },
  {
   "cell_type": "code",
   "execution_count": 119,
   "metadata": {},
   "outputs": [],
   "source": [
    "class IterationsPlotter(object):\n",
    "    def __init__(self, checkpoint_energy=CheckpointEnergy(security_projects=security_projects), num_iterations=3, fig=None, ax=None, show=0):\n",
    "        self.checkpoint_energy = checkpoint_energy\n",
    "        self.fig = fig\n",
    "        self.ax = ax\n",
    "        self.num_iterations = num_iterations\n",
    "        self.workload_section_types = {}\n",
    "        if show:\n",
    "            self.make_fig()\n",
    "            self.update_fig()\n",
    "            if show >= 2:\n",
    "                self.animate()\n",
    "        \n",
    "    def make_fig(self, *args, **kwargs):\n",
    "        self.fig, self.ax = plt.subplots(*args, **kwargs)\n",
    "        \n",
    "        for workload_project in self.checkpoint_energy.workload_projects:\n",
    "            self.workload_section_types[workload_project] = \\\n",
    "                self.checkpoint_energy.get_config(workload_project)[\"analysis\"][\"section_types\"]\n",
    "    \n",
    "    def update_fig(self, num_iterations=None):\n",
    "        if num_iterations is None:\n",
    "            num_iterations = self.num_iterations\n",
    "        opacity = 0.8\n",
    "\n",
    "        # ax.grid()\n",
    "        self.ax.cla()\n",
    "        self.ax.yaxis.grid(True)\n",
    "\n",
    "        self.bars = []\n",
    "        for index, workload_project in enumerate(self.checkpoint_energy.workload_projects):\n",
    "            section_averages = self.checkpoint_energy.get_workload_average(workload_project)\n",
    "            section_stds = self.checkpoint_energy.get_workload_std(workload_project)\n",
    "            \n",
    "            bottom = 0\n",
    "            for section_type, sections in self.workload_section_types[workload_project].items():\n",
    "                loop_factor = (1 + (section_type == \"loop\") * (num_iterations-1))\n",
    "                for section in sections:\n",
    "                    bar_height = section_averages[section]*j_scale*voltage * loop_factor\n",
    "                    self.bars.append(self.ax.bar(index, bar_height, label=section, color=colors[workload_project], \n",
    "                                                 alpha=opacity, yerr=section_stds[section]*j_scale*voltage / sqrt(loop_factor), \n",
    "                                                 bottom=bottom, hatch=section_hatches[section], zorder=3, \n",
    "                                                 linewidth=linewidth, edgecolor=edgecolor))\n",
    "                    bottom += bar_height\n",
    "        \n",
    "        self.ax.set_xticks(range(len(self.checkpoint_energy.workload_projects)))\n",
    "        self.ax.set_xticklabels(self.checkpoint_energy.workload_projects)\n",
    "        self.ax.legend()\n",
    "#         self.ax.set_yscale('log')\n",
    "\n",
    "        self.ax.set_xlabel('Workload')\n",
    "        self.ax.set_ylabel('Energy [$\\mu$J]')\n",
    "        self.ax.set_title(f'Energy for {num_iterations} iterations')\n",
    "        self.fig.canvas.set_window_title('Energy per Iteration')\n",
    "        self.fig.show()\n",
    "        \n",
    "    def anim_func(self, num_iterations, *fargs):\n",
    "        self.update_fig(num_iterations)\n",
    "        artist_list = []\n",
    "        for bar in self.bars:\n",
    "            artist_list += bar\n",
    "        return artist_list\n",
    "    \n",
    "    def animate(self, frames=range(51), save=False, file_name='ChargeperIteration.mp4', *save_args, **save_kwargs):\n",
    "        self.animation = animation.FuncAnimation(self.fig, self.anim_func, blit=True, interval=0, frames=frames, repeat=False)\n",
    "#         self.update_fig(max(frames))\n",
    "        if save:\n",
    "            self.animation.save(file_name, *save_args, **save_kwargs)"
   ]
  },
  {
   "cell_type": "code",
   "execution_count": 120,
   "metadata": {},
   "outputs": [],
   "source": [
    "iterations_plotter = IterationsPlotter(checkpoint_energy, show=1)"
   ]
  },
  {
   "cell_type": "code",
   "execution_count": 121,
   "metadata": {},
   "outputs": [],
   "source": [
    "iterations_plotter.update_fig(6000)"
   ]
  },
  {
   "cell_type": "code",
   "execution_count": 122,
   "metadata": {},
   "outputs": [],
   "source": [
    "figscale = 0.7\n",
    "iterations_plotter.fig.tight_layout()\n",
    "# iterations_plotter.fig.tight_layout(rect=(0, 0, 1, 1))\n",
    "# security_plotter.fig.get_figheight()\n",
    "iterations_plotter.fig.set_size_inches(6.4*figscale, 4.8*figscale, forward=True)"
   ]
  },
  {
   "cell_type": "code",
   "execution_count": 123,
   "metadata": {},
   "outputs": [
    {
     "name": "stderr",
     "output_type": "stream",
     "text": [
      "<ipython-input-119-b4d112d5ddfe>:41: RuntimeWarning: divide by zero encountered in double_scalars\n",
      "  alpha=opacity, yerr=section_stds[section]*j_scale*voltage / sqrt(loop_factor),\n"
     ]
    }
   ],
   "source": [
    "iterations_plotter.animate(save=False, file_name='ChargeperIterationHQ600.mp4', fps=5, bitrate=2048*8, dpi=600)"
   ]
  },
  {
   "cell_type": "code",
   "execution_count": 99,
   "metadata": {},
   "outputs": [
    {
     "name": "stderr",
     "output_type": "stream",
     "text": [
      "<ipython-input-94-b4d112d5ddfe>:41: RuntimeWarning: divide by zero encountered in double_scalars\n",
      "  alpha=opacity, yerr=section_stds[section]*j_scale*voltage / sqrt(loop_factor),\n"
     ]
    }
   ],
   "source": [
    "iterations_plotter.animate(save=False, file_name='ChargeperIterationHQ300.mp4', fps=5, bitrate=2048*8, dpi=300)"
   ]
  },
  {
   "cell_type": "code",
   "execution_count": 100,
   "metadata": {},
   "outputs": [
    {
     "name": "stderr",
     "output_type": "stream",
     "text": [
      "MovieWriter ffmpeg unavailable; trying to use <class 'matplotlib.animation.PillowWriter'> instead.\n",
      "<ipython-input-94-b4d112d5ddfe>:41: RuntimeWarning: divide by zero encountered in double_scalars\n",
      "  alpha=opacity, yerr=section_stds[section]*j_scale*voltage / sqrt(loop_factor),\n"
     ]
    },
    {
     "ename": "ValueError",
     "evalue": "unknown file extension: .mp4",
     "output_type": "error",
     "traceback": [
      "\u001b[1;31m---------------------------------------------------------------------------\u001b[0m",
      "\u001b[1;31mKeyError\u001b[0m                                  Traceback (most recent call last)",
      "\u001b[1;32mc:\\users\\areeb assad\\appdata\\local\\programs\\python\\python38-32\\lib\\site-packages\\PIL\\Image.py\u001b[0m in \u001b[0;36msave\u001b[1;34m(self, fp, format, **params)\u001b[0m\n\u001b[0;32m   2081\u001b[0m             \u001b[1;32mtry\u001b[0m\u001b[1;33m:\u001b[0m\u001b[1;33m\u001b[0m\u001b[1;33m\u001b[0m\u001b[0m\n\u001b[1;32m-> 2082\u001b[1;33m                 \u001b[0mformat\u001b[0m \u001b[1;33m=\u001b[0m \u001b[0mEXTENSION\u001b[0m\u001b[1;33m[\u001b[0m\u001b[0mext\u001b[0m\u001b[1;33m]\u001b[0m\u001b[1;33m\u001b[0m\u001b[1;33m\u001b[0m\u001b[0m\n\u001b[0m\u001b[0;32m   2083\u001b[0m             \u001b[1;32mexcept\u001b[0m \u001b[0mKeyError\u001b[0m\u001b[1;33m:\u001b[0m\u001b[1;33m\u001b[0m\u001b[1;33m\u001b[0m\u001b[0m\n",
      "\u001b[1;31mKeyError\u001b[0m: '.mp4'",
      "\nDuring handling of the above exception, another exception occurred:\n",
      "\u001b[1;31mValueError\u001b[0m                                Traceback (most recent call last)",
      "\u001b[1;32m<ipython-input-100-80b81ac4d23c>\u001b[0m in \u001b[0;36m<module>\u001b[1;34m\u001b[0m\n\u001b[1;32m----> 1\u001b[1;33m \u001b[0miterations_plotter\u001b[0m\u001b[1;33m.\u001b[0m\u001b[0manimate\u001b[0m\u001b[1;33m(\u001b[0m\u001b[0msave\u001b[0m\u001b[1;33m=\u001b[0m\u001b[1;32mTrue\u001b[0m\u001b[1;33m,\u001b[0m \u001b[0mfile_name\u001b[0m\u001b[1;33m=\u001b[0m\u001b[1;34m'ChargeperIteration.mp4'\u001b[0m\u001b[1;33m,\u001b[0m \u001b[0mfps\u001b[0m\u001b[1;33m=\u001b[0m\u001b[1;36m5\u001b[0m\u001b[1;33m,\u001b[0m \u001b[0mbitrate\u001b[0m\u001b[1;33m=\u001b[0m\u001b[1;36m2048\u001b[0m\u001b[1;33m*\u001b[0m\u001b[1;36m8\u001b[0m\u001b[1;33m)\u001b[0m\u001b[1;33m\u001b[0m\u001b[1;33m\u001b[0m\u001b[0m\n\u001b[0m",
      "\u001b[1;32m<ipython-input-94-b4d112d5ddfe>\u001b[0m in \u001b[0;36manimate\u001b[1;34m(self, frames, save, file_name, *save_args, **save_kwargs)\u001b[0m\n\u001b[0;32m     66\u001b[0m \u001b[1;31m#         self.update_fig(max(frames))\u001b[0m\u001b[1;33m\u001b[0m\u001b[1;33m\u001b[0m\u001b[1;33m\u001b[0m\u001b[0m\n\u001b[0;32m     67\u001b[0m         \u001b[1;32mif\u001b[0m \u001b[0msave\u001b[0m\u001b[1;33m:\u001b[0m\u001b[1;33m\u001b[0m\u001b[1;33m\u001b[0m\u001b[0m\n\u001b[1;32m---> 68\u001b[1;33m             \u001b[0mself\u001b[0m\u001b[1;33m.\u001b[0m\u001b[0manimation\u001b[0m\u001b[1;33m.\u001b[0m\u001b[0msave\u001b[0m\u001b[1;33m(\u001b[0m\u001b[0mfile_name\u001b[0m\u001b[1;33m,\u001b[0m \u001b[1;33m*\u001b[0m\u001b[0msave_args\u001b[0m\u001b[1;33m,\u001b[0m \u001b[1;33m**\u001b[0m\u001b[0msave_kwargs\u001b[0m\u001b[1;33m)\u001b[0m\u001b[1;33m\u001b[0m\u001b[1;33m\u001b[0m\u001b[0m\n\u001b[0m",
      "\u001b[1;32mc:\\users\\areeb assad\\appdata\\local\\programs\\python\\python38-32\\lib\\site-packages\\matplotlib\\animation.py\u001b[0m in \u001b[0;36msave\u001b[1;34m(self, filename, writer, fps, dpi, codec, bitrate, extra_args, metadata, extra_anim, savefig_kwargs, progress_callback)\u001b[0m\n\u001b[0;32m   1154\u001b[0m                             \u001b[0mprogress_callback\u001b[0m\u001b[1;33m(\u001b[0m\u001b[0mframe_number\u001b[0m\u001b[1;33m,\u001b[0m \u001b[0mtotal_frames\u001b[0m\u001b[1;33m)\u001b[0m\u001b[1;33m\u001b[0m\u001b[1;33m\u001b[0m\u001b[0m\n\u001b[0;32m   1155\u001b[0m                             \u001b[0mframe_number\u001b[0m \u001b[1;33m+=\u001b[0m \u001b[1;36m1\u001b[0m\u001b[1;33m\u001b[0m\u001b[1;33m\u001b[0m\u001b[0m\n\u001b[1;32m-> 1156\u001b[1;33m                     \u001b[0mwriter\u001b[0m\u001b[1;33m.\u001b[0m\u001b[0mgrab_frame\u001b[0m\u001b[1;33m(\u001b[0m\u001b[1;33m**\u001b[0m\u001b[0msavefig_kwargs\u001b[0m\u001b[1;33m)\u001b[0m\u001b[1;33m\u001b[0m\u001b[1;33m\u001b[0m\u001b[0m\n\u001b[0m\u001b[0;32m   1157\u001b[0m \u001b[1;33m\u001b[0m\u001b[0m\n\u001b[0;32m   1158\u001b[0m         \u001b[1;31m# Reconnect signal for first draw if necessary\u001b[0m\u001b[1;33m\u001b[0m\u001b[1;33m\u001b[0m\u001b[1;33m\u001b[0m\u001b[0m\n",
      "\u001b[1;32mc:\\users\\areeb assad\\appdata\\local\\programs\\python\\python38-32\\lib\\contextlib.py\u001b[0m in \u001b[0;36m__exit__\u001b[1;34m(self, type, value, traceback)\u001b[0m\n\u001b[0;32m    118\u001b[0m         \u001b[1;32mif\u001b[0m \u001b[0mtype\u001b[0m \u001b[1;32mis\u001b[0m \u001b[1;32mNone\u001b[0m\u001b[1;33m:\u001b[0m\u001b[1;33m\u001b[0m\u001b[1;33m\u001b[0m\u001b[0m\n\u001b[0;32m    119\u001b[0m             \u001b[1;32mtry\u001b[0m\u001b[1;33m:\u001b[0m\u001b[1;33m\u001b[0m\u001b[1;33m\u001b[0m\u001b[0m\n\u001b[1;32m--> 120\u001b[1;33m                 \u001b[0mnext\u001b[0m\u001b[1;33m(\u001b[0m\u001b[0mself\u001b[0m\u001b[1;33m.\u001b[0m\u001b[0mgen\u001b[0m\u001b[1;33m)\u001b[0m\u001b[1;33m\u001b[0m\u001b[1;33m\u001b[0m\u001b[0m\n\u001b[0m\u001b[0;32m    121\u001b[0m             \u001b[1;32mexcept\u001b[0m \u001b[0mStopIteration\u001b[0m\u001b[1;33m:\u001b[0m\u001b[1;33m\u001b[0m\u001b[1;33m\u001b[0m\u001b[0m\n\u001b[0;32m    122\u001b[0m                 \u001b[1;32mreturn\u001b[0m \u001b[1;32mFalse\u001b[0m\u001b[1;33m\u001b[0m\u001b[1;33m\u001b[0m\u001b[0m\n",
      "\u001b[1;32mc:\\users\\areeb assad\\appdata\\local\\programs\\python\\python38-32\\lib\\site-packages\\matplotlib\\animation.py\u001b[0m in \u001b[0;36msaving\u001b[1;34m(self, fig, outfile, dpi, *args, **kwargs)\u001b[0m\n\u001b[0;32m    230\u001b[0m             \u001b[1;32myield\u001b[0m \u001b[0mself\u001b[0m\u001b[1;33m\u001b[0m\u001b[1;33m\u001b[0m\u001b[0m\n\u001b[0;32m    231\u001b[0m         \u001b[1;32mfinally\u001b[0m\u001b[1;33m:\u001b[0m\u001b[1;33m\u001b[0m\u001b[1;33m\u001b[0m\u001b[0m\n\u001b[1;32m--> 232\u001b[1;33m             \u001b[0mself\u001b[0m\u001b[1;33m.\u001b[0m\u001b[0mfinish\u001b[0m\u001b[1;33m(\u001b[0m\u001b[1;33m)\u001b[0m\u001b[1;33m\u001b[0m\u001b[1;33m\u001b[0m\u001b[0m\n\u001b[0m\u001b[0;32m    233\u001b[0m \u001b[1;33m\u001b[0m\u001b[0m\n\u001b[0;32m    234\u001b[0m \u001b[1;33m\u001b[0m\u001b[0m\n",
      "\u001b[1;32mc:\\users\\areeb assad\\appdata\\local\\programs\\python\\python38-32\\lib\\site-packages\\matplotlib\\animation.py\u001b[0m in \u001b[0;36mfinish\u001b[1;34m(self)\u001b[0m\n\u001b[0;32m    573\u001b[0m \u001b[1;33m\u001b[0m\u001b[0m\n\u001b[0;32m    574\u001b[0m     \u001b[1;32mdef\u001b[0m \u001b[0mfinish\u001b[0m\u001b[1;33m(\u001b[0m\u001b[0mself\u001b[0m\u001b[1;33m)\u001b[0m\u001b[1;33m:\u001b[0m\u001b[1;33m\u001b[0m\u001b[1;33m\u001b[0m\u001b[0m\n\u001b[1;32m--> 575\u001b[1;33m         self._frames[0].save(\n\u001b[0m\u001b[0;32m    576\u001b[0m             \u001b[0mself\u001b[0m\u001b[1;33m.\u001b[0m\u001b[0m_outfile\u001b[0m\u001b[1;33m,\u001b[0m \u001b[0msave_all\u001b[0m\u001b[1;33m=\u001b[0m\u001b[1;32mTrue\u001b[0m\u001b[1;33m,\u001b[0m \u001b[0mappend_images\u001b[0m\u001b[1;33m=\u001b[0m\u001b[0mself\u001b[0m\u001b[1;33m.\u001b[0m\u001b[0m_frames\u001b[0m\u001b[1;33m[\u001b[0m\u001b[1;36m1\u001b[0m\u001b[1;33m:\u001b[0m\u001b[1;33m]\u001b[0m\u001b[1;33m,\u001b[0m\u001b[1;33m\u001b[0m\u001b[1;33m\u001b[0m\u001b[0m\n\u001b[0;32m    577\u001b[0m             duration=int(1000 / self.fps), loop=0)\n",
      "\u001b[1;32mc:\\users\\areeb assad\\appdata\\local\\programs\\python\\python38-32\\lib\\site-packages\\PIL\\Image.py\u001b[0m in \u001b[0;36msave\u001b[1;34m(self, fp, format, **params)\u001b[0m\n\u001b[0;32m   2082\u001b[0m                 \u001b[0mformat\u001b[0m \u001b[1;33m=\u001b[0m \u001b[0mEXTENSION\u001b[0m\u001b[1;33m[\u001b[0m\u001b[0mext\u001b[0m\u001b[1;33m]\u001b[0m\u001b[1;33m\u001b[0m\u001b[1;33m\u001b[0m\u001b[0m\n\u001b[0;32m   2083\u001b[0m             \u001b[1;32mexcept\u001b[0m \u001b[0mKeyError\u001b[0m\u001b[1;33m:\u001b[0m\u001b[1;33m\u001b[0m\u001b[1;33m\u001b[0m\u001b[0m\n\u001b[1;32m-> 2084\u001b[1;33m                 \u001b[1;32mraise\u001b[0m \u001b[0mValueError\u001b[0m\u001b[1;33m(\u001b[0m\u001b[1;34m\"unknown file extension: {}\"\u001b[0m\u001b[1;33m.\u001b[0m\u001b[0mformat\u001b[0m\u001b[1;33m(\u001b[0m\u001b[0mext\u001b[0m\u001b[1;33m)\u001b[0m\u001b[1;33m)\u001b[0m\u001b[1;33m\u001b[0m\u001b[1;33m\u001b[0m\u001b[0m\n\u001b[0m\u001b[0;32m   2085\u001b[0m \u001b[1;33m\u001b[0m\u001b[0m\n\u001b[0;32m   2086\u001b[0m         \u001b[1;32mif\u001b[0m \u001b[0mformat\u001b[0m\u001b[1;33m.\u001b[0m\u001b[0mupper\u001b[0m\u001b[1;33m(\u001b[0m\u001b[1;33m)\u001b[0m \u001b[1;32mnot\u001b[0m \u001b[1;32min\u001b[0m \u001b[0mSAVE\u001b[0m\u001b[1;33m:\u001b[0m\u001b[1;33m\u001b[0m\u001b[1;33m\u001b[0m\u001b[0m\n",
      "\u001b[1;31mValueError\u001b[0m: unknown file extension: .mp4"
     ]
    }
   ],
   "source": [
    "iterations_plotter.animate(save=True, file_name='ChargeperIteration.mp4', fps=5, bitrate=2048*8)"
   ]
  },
  {
   "cell_type": "code",
   "execution_count": 124,
   "metadata": {},
   "outputs": [],
   "source": [
    "# iterations_plotter.ax.set_ylim((0.0, 1058.9642554142717))"
   ]
  },
  {
   "cell_type": "code",
   "execution_count": 125,
   "metadata": {},
   "outputs": [],
   "source": [
    "class IterationsPlotter(object):\n",
    "    def __init__(self, checkpoint_energy=CheckpointEnergy(security_projects=security_projects), num_iterations=3, fig=None, ax=None, show=0):\n",
    "        self.checkpoint_energy = checkpoint_energy\n",
    "        self.fig = fig\n",
    "        self.ax = ax\n",
    "        self.num_iterations = num_iterations\n",
    "        self.workload_section_types = {}\n",
    "        if show:\n",
    "            self.make_fig()\n",
    "            self.update_fig()\n",
    "        \n",
    "    def make_fig(self, *args, **kwargs):\n",
    "        self.fig, self.ax = plt.subplots(*args, **kwargs)\n",
    "        \n",
    "        for workload_project in self.checkpoint_energy.workload_projects:\n",
    "            self.workload_section_types[workload_project] = \\\n",
    "                self.checkpoint_energy.get_workload_config(workload_project)[\"analysis\"][\"section_types\"]\n",
    "            \n",
    "        print(self.workload_section_types)\n",
    "    \n",
    "    def update_fig(self):\n",
    "        opacity = 0.8\n",
    "\n",
    "        # ax.grid()\n",
    "        self.ax.cla()\n",
    "\n",
    "        self.bars = []\n",
    "        for index, workload_project in enumerate(self.checkpoint_energy.workload_projects):\n",
    "            section_averages = self.checkpoint_energy.get_workload_average(workload_project)\n",
    "            section_stds = self.checkpoint_energy.get_workload_std(workload_project)\n",
    "            \n",
    "            bottom = 0\n",
    "            for section_type, sections in self.workload_section_types[workload_project].items():\n",
    "                print(section_type, sections)\n",
    "                print(type(section_type), section_type, \"loop\", section_type == \"loop\")\n",
    "                for i in range(1 + (section_type == \"loop\") * (self.num_iterations-1)):\n",
    "                    print(i)\n",
    "                    for section in sections:\n",
    "                        self.bars.append(self.ax.bar(index, section_averages[section], color=colors[workload_project], \n",
    "                                                     label=section, alpha=opacity, yerr=section_stds[section], \n",
    "                                                     bottom=bottom, hatch=section_hatches[section], zorder=3,\n",
    "                                                    linewidth=linewidth, edgecolor=edgecolor))\n",
    "                        bottom += section_averages[section]\n",
    "            \n",
    "#             section_averages = {}\n",
    "#             bottoms = [0] * len(workload_energy)\n",
    "#             for sub_index, section in enumerate(workload_energy.keys()):\n",
    "#                 section_averages[section] = np.average(workload_energy[section])\n",
    "#                 self.bars[workload_project][section] = self.ax.bar(index + sub_index * bar_width, section_averages[section], label=section, alpha=opacity, yerr=section_stds[section], bottom=bottoms[sub_index])\n",
    "#                 bottoms[sub_index] += section_averages[section]\n",
    "\n",
    "#             # rects += ax.bar(index + i*bar_width, [get_total_charge(application_name, security_type) for application_name in application_names], bar_width, label=security_type, color=colors[i], alpha=opacity)\n",
    "#         print(self.bars)\n",
    "        \n",
    "        self.ax.set_xticks(range(len(self.checkpoint_energy.workload_projects)))\n",
    "        self.ax.set_xticklabels(self.checkpoint_energy.workload_projects)\n",
    "        self.ax.legend()\n",
    "        self.ax.set_yscale('log')\n",
    "\n",
    "        self.ax.set_xlabel('Workload')\n",
    "        self.ax.set_ylabel('Charge [C]')\n",
    "        self.ax.set_title(f'Charge for {self.num_iterations} iterations')\n",
    "        self.fig.canvas.set_window_title('Charge per Iteration')\n",
    "        self.fig.show()"
   ]
  },
  {
   "cell_type": "code",
   "execution_count": 127,
   "metadata": {},
   "outputs": [
    {
     "ename": "KeyError",
     "evalue": "'FFT'",
     "output_type": "error",
     "traceback": [
      "\u001b[1;31m---------------------------------------------------------------------------\u001b[0m",
      "\u001b[1;31mKeyError\u001b[0m                                  Traceback (most recent call last)",
      "\u001b[1;32m<ipython-input-127-6564f67594f7>\u001b[0m in \u001b[0;36m<module>\u001b[1;34m\u001b[0m\n\u001b[0;32m      1\u001b[0m \u001b[1;31m# checkpoint_energy.get_checkpoint_size(\"FFT\")\u001b[0m\u001b[1;33m\u001b[0m\u001b[1;33m\u001b[0m\u001b[1;33m\u001b[0m\u001b[0m\n\u001b[1;32m----> 2\u001b[1;33m \u001b[0mcheckpoint_energy\u001b[0m\u001b[1;33m.\u001b[0m\u001b[0mget_workload_size\u001b[0m\u001b[1;33m(\u001b[0m\u001b[1;34m\"FFT\"\u001b[0m\u001b[1;33m)\u001b[0m\u001b[1;33m\u001b[0m\u001b[1;33m\u001b[0m\u001b[0m\n\u001b[0m\u001b[0;32m      3\u001b[0m \u001b[1;31m# security_type = \"AES\"\u001b[0m\u001b[1;33m\u001b[0m\u001b[1;33m\u001b[0m\u001b[1;33m\u001b[0m\u001b[0m\n\u001b[0;32m      4\u001b[0m \u001b[1;31m# workload_project = \"FFT\"\u001b[0m\u001b[1;33m\u001b[0m\u001b[1;33m\u001b[0m\u001b[1;33m\u001b[0m\u001b[0m\n\u001b[0;32m      5\u001b[0m \u001b[1;31m# checkpoint_energy.get_config(security_type)\u001b[0m\u001b[1;33m\u001b[0m\u001b[1;33m\u001b[0m\u001b[1;33m\u001b[0m\u001b[0m\n",
      "\u001b[1;32mC:\\Thesis\\Areebs_Code\\SAM-L21_Cortex-M0plus\\Experiments-AES_Mode_CBC\\experiments\\checkpoint_energy.py\u001b[0m in \u001b[0;36mget_workload_size\u001b[1;34m(self, workload_project)\u001b[0m\n\u001b[0;32m    179\u001b[0m         \u001b[1;32mif\u001b[0m \u001b[0mself\u001b[0m\u001b[1;33m.\u001b[0m\u001b[0mworkloads_size\u001b[0m \u001b[1;32mis\u001b[0m \u001b[1;32mNone\u001b[0m\u001b[1;33m:\u001b[0m\u001b[1;33m\u001b[0m\u001b[1;33m\u001b[0m\u001b[0m\n\u001b[0;32m    180\u001b[0m             \u001b[0mself\u001b[0m\u001b[1;33m.\u001b[0m\u001b[0mget_all_workload_info\u001b[0m\u001b[1;33m(\u001b[0m\u001b[1;33m)\u001b[0m\u001b[1;33m\u001b[0m\u001b[1;33m\u001b[0m\u001b[0m\n\u001b[1;32m--> 181\u001b[1;33m         \u001b[1;32mreturn\u001b[0m \u001b[0mself\u001b[0m\u001b[1;33m.\u001b[0m\u001b[0mworkloads_size\u001b[0m\u001b[1;33m[\u001b[0m\u001b[0mworkload_project\u001b[0m\u001b[1;33m]\u001b[0m\u001b[1;33m\u001b[0m\u001b[1;33m\u001b[0m\u001b[0m\n\u001b[0m\u001b[0;32m    182\u001b[0m \u001b[1;33m\u001b[0m\u001b[0m\n\u001b[0;32m    183\u001b[0m     \u001b[1;32mdef\u001b[0m \u001b[0mget_workload_average\u001b[0m\u001b[1;33m(\u001b[0m\u001b[0mself\u001b[0m\u001b[1;33m,\u001b[0m \u001b[0mworkload_project\u001b[0m\u001b[1;33m)\u001b[0m\u001b[1;33m:\u001b[0m\u001b[1;33m\u001b[0m\u001b[1;33m\u001b[0m\u001b[0m\n",
      "\u001b[1;31mKeyError\u001b[0m: 'FFT'"
     ]
    }
   ],
   "source": [
    "# checkpoint_energy.get_checkpoint_size(\"FFT\")\n",
    "checkpoint_energy.get_workload_size(\"FFT\")\n",
    "# security_type = \"AES\"\n",
    "# workload_project = \"FFT\"\n",
    "# checkpoint_energy.get_config(security_type)\n",
    "# checkpoint_energy.get_checkpoint_energy(security_type, workload_project)\n",
    "# checkpoint_energy.get_checkpoint_size(workload_project)\n",
    "# checkpoint_energy.get_security_energy(security_type, checkpoint_energy.get_checkpoint_size(workload_project))"
   ]
  },
  {
   "cell_type": "markdown",
   "metadata": {},
   "source": [
    "For example, in the picture above the total RAM usage is  \"data\" + \"bss\" = 15 bytes.\n",
    "In this case, the total checkpoint size will be: RAM usage + 12 GPR  + LR + PC = 29 Bytes."
   ]
  },
  {
   "cell_type": "code",
   "execution_count": 114,
   "metadata": {},
   "outputs": [],
   "source": [
    "def get_number_of_checkpoints(workload_charge, cap_size, security_charge):\n",
    "    if security_charge >= cap_size:\n",
    "#         print(f\"Cap size too small for security charge. Got cap_size: {cap_size}, security_charge: {security_charge}\")\n",
    "        return float(\"inf\")\n",
    "    return workload_charge / (cap_size - security_charge) #if workload_charge > cap_size else workload_charge"
   ]
  },
  {
   "cell_type": "code",
   "execution_count": 115,
   "metadata": {},
   "outputs": [],
   "source": [
    "def get_number_of_checkpoints_J(workload_energy, cap_size, security_energy):\n",
    "    if security_energy >= 0.5*cap_size*voltage*voltage:\n",
    "#         print(f\"Cap size too small for security charge. Got cap_size: {cap_size}, security_charge: {security_charge}\")\n",
    "        return float(\"inf\")\n",
    "    return workload_energy / (0.5*cap_size*voltage*voltage - security_energy) #if workload_charge > cap_size else workload_charge"
   ]
  },
  {
   "cell_type": "code",
   "execution_count": 116,
   "metadata": {},
   "outputs": [],
   "source": [
    "class ControllerGUI(object):\n",
    "    def __init__(self, artists, ax_kwargs = {'facecolor': 'lightgoldenrodyellow'}, left=0.15, width=0.7, space=0.1):\n",
    "        self.artists = artists\n",
    "        num = len(artists)\n",
    "        height = (1-(num+1)*space)/num\n",
    "        self.fig = plt.figure(figsize=(8,num))\n",
    "\n",
    "        for i, artist in enumerate(self.artists.values()):\n",
    "            artist['ax'] = plt.axes([left, space + i*(space+height) , width, height], **ax_kwargs)\n",
    "            artist['obj'] = artist['args']['type'](artist['ax'], artist['args']['label'], *artist['args']['args'], **artist['args']['kwargs'])"
   ]
  },
  {
   "cell_type": "code",
   "execution_count": 117,
   "metadata": {},
   "outputs": [],
   "source": [
    "from math import sqrt, floor\n",
    "import matplotlib as mpl\n",
    "import matplotlib.animation as animation\n",
    "import numpy as np\n",
    "\n",
    "j_scale = 1e3\n",
    "\n",
    "# writer=animation.FFMpegFileWriter()\n",
    "# writer=animation.FFMpegWriter()\n",
    "\n",
    "opacity = 0.8\n",
    "\n",
    "class CapacitorPlotter(object):\n",
    "    def __init__(self, checkpoint_energy=CheckpointEnergy(security_projects=security_projects), cap_size=1e-5, num_iterations=3, fig=None, ax=None, show=0, axes_switched=True, controller=True, use_model=False):\n",
    "        self.checkpoint_energy = checkpoint_energy\n",
    "        self.fig = fig\n",
    "        self.ax = ax\n",
    "        self.cap_size = cap_size\n",
    "        self.num_iterations = num_iterations\n",
    "        self.security_section_types = {}\n",
    "        self.workload_section_types = {}\n",
    "        self.axes_switched = axes_switched\n",
    "        self.use_model = use_model\n",
    "        \n",
    "        self.remove_duplicates_in_legend = True\n",
    "        self.draw_fractional = True\n",
    "        self.draw_rounded = False\n",
    "        \n",
    "        if show:\n",
    "            self.make_fig()\n",
    "            self.update_fig()\n",
    "            if show >= 2:\n",
    "                self.animate()\n",
    "        \n",
    "        if controller:\n",
    "            artists = {'cap': {'args': {'type': mpl.widgets.Slider, 'label': 'Capacitor size', 'args': [1e-7, 1e-2], 'kwargs': {'valinit': 3e-4, 'valstep': 1e-7, 'valfmt': \"%.2e C\"}}}, \n",
    "                'iterations': {'args': {'type': mpl.widgets.Slider, 'label': 'Iterations', 'args': [0, 100], 'kwargs': {'valinit': 1, 'valstep': 1, 'valfmt': \"%d\"}}}}\n",
    "\n",
    "            self.controller = ControllerGUI(artists)\n",
    "            \n",
    "            def update(val):\n",
    "                self.update_fig(self.controller.artists['cap']['obj'].val, int(self.controller.artists['iterations']['obj'].val))\n",
    "                self.controller.fig.canvas.draw_idle()\n",
    "\n",
    "            for artist in self.controller.artists.values():\n",
    "                artist['obj'].on_changed(update)\n",
    "\n",
    "            \n",
    "        \n",
    "    def make_fig(self, *args, **kwargs):\n",
    "        self.fig, self.ax = plt.subplots(*args, **kwargs)\n",
    "        self.fig.canvas.mpl_connect('key_press_event', self.resize_fig)\n",
    "        self.fig.canvas.set_window_title('Checkpoints per Workload')\n",
    "        \n",
    "        for security_project in self.checkpoint_energy.security_projects:\n",
    "            self.security_section_types[security_project] = \\\n",
    "                self.checkpoint_energy.get_config(security_project)[\"analysis\"][\"section_types\"]\n",
    "        for workload_project in self.checkpoint_energy.workload_projects:\n",
    "            self.workload_section_types[workload_project] = \\\n",
    "                self.checkpoint_energy.get_config(workload_project)[\"analysis\"][\"section_types\"]\n",
    "            \n",
    "        self.colors = {}\n",
    "        self.legend_artists = []\n",
    "    \n",
    "    def get_color(self, project, section):\n",
    "        color = colors[project]\n",
    "        if section not in self.colors:\n",
    "            self.colors[section] = color\n",
    "            self.legend_artists.append(mpl.patches.Patch(facecolor=color, label=section, hatch=section_hatches[section], \n",
    "                                                         linewidth=linewidth, edgecolor=edgecolor, alpha=opacity))\n",
    "        return color\n",
    "    \n",
    "    def resize_fig(self, *args):\n",
    "        self.update_fig()\n",
    "    \n",
    "    def update_fig(self, cap_size=None, num_iterations=None):\n",
    "        if cap_size is None:\n",
    "            cap_size = self.cap_size\n",
    "        else:\n",
    "            self.cap_size = cap_size\n",
    "        if num_iterations is None:\n",
    "            num_iterations = self.num_iterations\n",
    "        else:\n",
    "            self.num_iterations = num_iterations\n",
    "            \n",
    "        print(f'Cap energy {0.5*cap_size * j_scale*voltage*voltage} mJ')\n",
    "        \n",
    "        bar_width = 1/(len(self.checkpoint_energy.security_projects) + 1)\n",
    "        bar_width_factor = 0.9 * bar_width\n",
    "#         opacity = 0.8\n",
    "\n",
    "        self.ax.cla()\n",
    "        \n",
    "        self.bars = []\n",
    "        for workload_index, workload_project in enumerate(self.checkpoint_energy.workload_projects):\n",
    "            section_averages = self.checkpoint_energy.get_workload_average(workload_project)\n",
    "            section_stds = self.checkpoint_energy.get_workload_std(workload_project)\n",
    "            checkpoint_size = self.checkpoint_energy.get_checkpoint_size(workload_project)\n",
    "            \n",
    "            for security_index, security_project in enumerate(self.checkpoint_energy.security_projects):\n",
    "                bottom = 0\n",
    "                for workload_section_type, workload_sections in self.workload_section_types[workload_project].items():\n",
    "                    loop_factor = num_iterations if workload_section_type == \"loop\" else 1\n",
    "                    for workload_section in workload_sections:\n",
    "                        bar_height = section_averages[workload_section] * loop_factor\n",
    "                        self.bars.append(self.ax.bar(workload_index + security_index * bar_width, bar_height * j_scale*voltage, bar_width_factor, zorder=3, \n",
    "                                                     label=workload_section, alpha=opacity, yerr=section_stds[workload_section]*j_scale*voltage / sqrt(loop_factor), \n",
    "                                                     bottom=bottom * j_scale*voltage, color=self.get_color(workload_project, workload_section), hatch=section_hatches[workload_section],\n",
    "                                                     linewidth=linewidth, edgecolor=edgecolor))\n",
    "                        bottom += bar_height\n",
    "                \n",
    "                security_energy = self.checkpoint_energy.get_security_energy(security_project, checkpoint_size, use_model=self.use_model)\n",
    "#                 print(security_energy)\n",
    "#                 number_of_checkpoints = get_number_of_checkpoints(bottom, cap_size*voltage, self.checkpoint_energy.get_checkpoint_energy(security_project, workload_project, use_model=self.use_model))\n",
    "                \n",
    "                number_of_checkpoints = get_number_of_checkpoints_J(bottom*voltage, cap_size, self.checkpoint_energy.get_checkpoint_energy(security_project, workload_project, use_model=self.use_model)*voltage)\n",
    "#                 print(workload_project, security_project, number_of_checkpoints, floor(number_of_checkpoints))\n",
    "#                 print(workload_project,number_of_checkpoints, bottom * j_scale*voltage)\n",
    "                if number_of_checkpoints < float('inf'):\n",
    "                    if self.draw_fractional:\n",
    "                        security_bottom = bottom\n",
    "                        for security_section_type, security_sections in self.security_section_types[security_project].items():\n",
    "                            loop_factor = number_of_checkpoints if security_section_type in (\"load\", \"store\") else 1\n",
    "                            for security_section in security_sections:\n",
    "                                bar_height = security_energy[security_section] * loop_factor\n",
    "                                self.bars.append(self.ax.bar(workload_index + security_index * bar_width, bar_height * j_scale*voltage, bar_width_factor, label=security_section, zorder=3, \n",
    "                                                             alpha=opacity, bottom=security_bottom * j_scale*voltage, color=self.get_color(security_project, security_section), hatch=section_hatches[security_section],\n",
    "                                                             linewidth=linewidth, edgecolor=edgecolor))\n",
    "                                security_bottom += bar_height\n",
    "                        print(bottom * j_scale*voltage, security_bottom * j_scale*voltage)        \n",
    "                        print(f'Workload: {workload_project}, Security: {security_project}, Checkpoint percentage: {1-(bottom/security_bottom)}')\n",
    "                            \n",
    "                    if self.draw_rounded:\n",
    "                        number_of_checkpoints = np.ceil(number_of_checkpoints)\n",
    "                        opacity_factor = 0.5\n",
    "                        security_bottom = bottom\n",
    "                        for security_section_type, security_sections in self.security_section_types[security_project].items():\n",
    "                            loop_factor = number_of_checkpoints if security_section_type in (\"load\", \"store\") else 1\n",
    "                            for security_section in security_sections:\n",
    "                                bar_height = security_energy[security_section] * loop_factor\n",
    "                                self.bars.append(self.ax.bar(workload_index + security_index * bar_width, bar_height * j_scale*voltage, bar_width_factor, label=security_section, zorder=3, \n",
    "                                                             alpha=opacity*opacity_factor, bottom=security_bottom * j_scale*voltage, color=self.get_color(security_project, security_section), hatch=section_hatches[security_section],\n",
    "                                                             linewidth=linewidth, edgecolor=edgecolor))\n",
    "                                security_bottom += bar_height\n",
    "                else:\n",
    "                    self.ax.text(workload_index + security_index * bar_width, bottom * j_scale*voltage, ' Fail', rotation='vertical', verticalalignment='bottom', horizontalalignment='center')\n",
    "        \n",
    "        self.ax.set_xticks(np.arange(len(self.checkpoint_energy.workload_projects)) + bar_width * 1.5)\n",
    "        self.ax.set_xticklabels(self.checkpoint_energy.workload_projects)\n",
    "        \n",
    "        if self.remove_duplicates_in_legend:\n",
    "            self.legend_artists = [artist for artist in self.legend_artists if artist.get_label().find('Flash') == -1] + [\n",
    "                mpl.patches.Patch(facecolor='white', label='Flash Write', hatch=section_hatches['Flash Write'], \n",
    "                                  linewidth=linewidth, edgecolor=edgecolor, alpha=opacity),\n",
    "                mpl.patches.Patch(facecolor='white', label='Flash Read', hatch=section_hatches['Flash Read'], \n",
    "                                  linewidth=linewidth, edgecolor=edgecolor, alpha=opacity),\n",
    "#                 mpl.patches.Patch(facecolor=colors['TrustZone_Flash'], label='TrustZone', \n",
    "#                                   linewidth=linewidth, edgecolor=edgecolor, alpha=opacity),\n",
    "#                 mpl.patches.Patch(facecolor=colors['No_Security_Flash'], label='No Security', \n",
    "#                                   linewidth=linewidth, edgecolor=edgecolor, alpha=opacity),\n",
    "            ]\n",
    "        \n",
    "        self.ax.legend(loc='upper left', handles=self.legend_artists + [mpl.lines.Line2D([0], [0], linestyle='--', color='k', alpha=0.4, label='Checkpoints')])\n",
    "        \n",
    "        self.lines = []\n",
    "        ymin, ymax = self.ax.get_ylim()\n",
    "        for y in np.arange(ymin, ymax, 0.5*cap_size * j_scale*voltage*voltage):\n",
    "            self.lines.append(self.ax.axhline(y, linestyle='--', color='k', alpha=0.1, zorder=0))\n",
    "        \n",
    "        #self.ax.set_yscale('log')\n",
    "        # self.ax.callbacks.connect(\"ylim_changed\", self.convert_checkpoint_axis)\n",
    "        self.convert_checkpoint_axis(self.ax)\n",
    "        \n",
    "        self.ax.yaxis.set_label_position(\"right\")\n",
    "        self.ax.yaxis.set_ticks_position(\"right\")\n",
    "        \n",
    "        self.ax.set_xlabel('Workload')\n",
    "        self.ax.set_ylabel('Energy [mJ]')\n",
    "        self.ax.set_title(f'Checkpoints for {num_iterations} iterations with capacitor of {cap_size * 1000*j_scale:.02f} $\\mu$F')\n",
    "        self.switch_axes(self.axes_switched)\n",
    "        self.fig.tight_layout()\n",
    "        self.fig.show()\n",
    "        \n",
    "    def anim_func_iterations(self, num_iterations, *fargs):\n",
    "        self.update_fig(num_iterations=num_iterations)\n",
    "        artist_list = self.lines\n",
    "        for bar in self.bars:\n",
    "            artist_list += bar\n",
    "        return artist_list\n",
    "        \n",
    "    def anim_func_cap(self, frame, *fargs):\n",
    "        \n",
    "        cap_sizes = [0.000220] * 50 + list(reversed(np.arange(0.000022,0.0002200000001,(0.00022-0.000022)/100)))\n",
    "        num_iterations = list(range(1,51)) + [50] * 101\n",
    "        \n",
    "        self.update_fig(cap_size=cap_sizes[frame], num_iterations=num_iterations[frame])\n",
    "        artist_list = self.lines\n",
    "        for bar in self.bars:\n",
    "            artist_list += bar\n",
    "        return artist_list\n",
    "    \n",
    "    def animate_iterations(self, frames=range(101), save=False, *save_args, **save_kwargs):\n",
    "        self.animation = animation.FuncAnimation(self.fig, self.anim_func_iterations, blit=True, interval=0, frames=frames, repeat=False)\n",
    "        if save:\n",
    "            self.animation.save('Checkpoints_per_Workload_Iterations.mp4', *save_args, **save_kwargs)\n",
    "            \n",
    "    def animate_cap(self, frames=range(151), save=False, file_name='CheckpointsperWorkloadCap.mp4', *save_args, **save_kwargs):\n",
    "#         cap_sizes = [1.1**x/4*self.cap_size for x in reversed(frames)]\n",
    "        self.animation = animation.FuncAnimation(self.fig, self.anim_func_cap, blit=True, interval=0, frames=frames, repeat=False)\n",
    "        if save:\n",
    "            self.animation.save(file_name, *save_args, **save_kwargs)\n",
    "\n",
    "    def convert_checkpoint_axis(self, ax):\n",
    "        \"\"\"\n",
    "        Update second axis according with first axis.\n",
    "        \"\"\"\n",
    "        if hasattr(self, \"ax_checkpoint\"):\n",
    "            self.ax_checkpoint.remove()\n",
    "        self.ax_checkpoint = ax.twinx()\n",
    "        ymin, ymax = ax.get_ylim()\n",
    "        self.ax_checkpoint.set_ylim(ymin/(0.5*self.cap_size * j_scale * voltage * voltage), ymax/(0.5*self.cap_size * j_scale * voltage * voltage))\n",
    "        \n",
    "        self.ax_checkpoint.set_ylabel('Checkpoints')\n",
    "        #self.ax_checkpoint.set_yscale('log')\n",
    "        self.ax_checkpoint.tick_params(axis='y', which='minor')\n",
    "        self.ax_checkpoint.yaxis.set_major_formatter(mpl.ticker.FormatStrFormatter(\"%d\"))\n",
    "        self.ax_checkpoint.yaxis.set_minor_formatter(mpl.ticker.FormatStrFormatter(\"%d\"))\n",
    "        for tick in self.ax_checkpoint.yaxis.iter_ticks():\n",
    "            if tick[1] < 1 or round(tick[1]) - tick[1]:\n",
    "                tick[0].set_visible(False)\n",
    "    \n",
    "    def switch_axes(self, axes_switched=None):\n",
    "        if axes_switched is not None:\n",
    "            self.axes_switched = axes_switched\n",
    "        else:\n",
    "            self.axes_switched = not self.axes_switched\n",
    "        if self.axes_switched:\n",
    "            pos = (\"right\", \"left\")\n",
    "        else:\n",
    "            pos = (\"left\", \"right\")\n",
    "        self.ax.yaxis.set_label_position(pos[0])\n",
    "        self.ax.yaxis.set_ticks_position(pos[0])\n",
    "        self.ax_checkpoint.yaxis.set_label_position(pos[1])\n",
    "        self.ax_checkpoint.yaxis.set_ticks_position(pos[1])"
   ]
  },
  {
   "cell_type": "code",
   "execution_count": 118,
   "metadata": {},
   "outputs": [
    {
     "name": "stdout",
     "output_type": "stream",
     "text": [
      "Cap energy 1.2197790000000002 mJ\n"
     ]
    },
    {
     "ename": "KeyError",
     "evalue": "'BitCounting'",
     "output_type": "error",
     "traceback": [
      "\u001b[1;31m---------------------------------------------------------------------------\u001b[0m",
      "\u001b[1;31mKeyError\u001b[0m                                  Traceback (most recent call last)",
      "\u001b[1;32m<ipython-input-118-5a6bc7973a85>\u001b[0m in \u001b[0;36m<module>\u001b[1;34m\u001b[0m\n\u001b[1;32m----> 1\u001b[1;33m \u001b[0mcapacitor_plotter\u001b[0m \u001b[1;33m=\u001b[0m \u001b[0mCapacitorPlotter\u001b[0m\u001b[1;33m(\u001b[0m\u001b[0mcheckpoint_energy\u001b[0m\u001b[1;33m,\u001b[0m \u001b[0mshow\u001b[0m\u001b[1;33m=\u001b[0m\u001b[1;36m1\u001b[0m\u001b[1;33m,\u001b[0m \u001b[0mcap_size\u001b[0m\u001b[1;33m=\u001b[0m\u001b[1;36m0.00022\u001b[0m\u001b[1;33m,\u001b[0m \u001b[0mnum_iterations\u001b[0m\u001b[1;33m=\u001b[0m\u001b[1;36m50\u001b[0m\u001b[1;33m,\u001b[0m \u001b[0muse_model\u001b[0m\u001b[1;33m=\u001b[0m\u001b[1;32mFalse\u001b[0m\u001b[1;33m)\u001b[0m\u001b[1;33m\u001b[0m\u001b[1;33m\u001b[0m\u001b[0m\n\u001b[0m",
      "\u001b[1;32m<ipython-input-117-5e4ea28f28d6>\u001b[0m in \u001b[0;36m__init__\u001b[1;34m(self, checkpoint_energy, cap_size, num_iterations, fig, ax, show, axes_switched, controller, use_model)\u001b[0m\n\u001b[0;32m     29\u001b[0m         \u001b[1;32mif\u001b[0m \u001b[0mshow\u001b[0m\u001b[1;33m:\u001b[0m\u001b[1;33m\u001b[0m\u001b[1;33m\u001b[0m\u001b[0m\n\u001b[0;32m     30\u001b[0m             \u001b[0mself\u001b[0m\u001b[1;33m.\u001b[0m\u001b[0mmake_fig\u001b[0m\u001b[1;33m(\u001b[0m\u001b[1;33m)\u001b[0m\u001b[1;33m\u001b[0m\u001b[1;33m\u001b[0m\u001b[0m\n\u001b[1;32m---> 31\u001b[1;33m             \u001b[0mself\u001b[0m\u001b[1;33m.\u001b[0m\u001b[0mupdate_fig\u001b[0m\u001b[1;33m(\u001b[0m\u001b[1;33m)\u001b[0m\u001b[1;33m\u001b[0m\u001b[1;33m\u001b[0m\u001b[0m\n\u001b[0m\u001b[0;32m     32\u001b[0m             \u001b[1;32mif\u001b[0m \u001b[0mshow\u001b[0m \u001b[1;33m>=\u001b[0m \u001b[1;36m2\u001b[0m\u001b[1;33m:\u001b[0m\u001b[1;33m\u001b[0m\u001b[1;33m\u001b[0m\u001b[0m\n\u001b[0;32m     33\u001b[0m                 \u001b[0mself\u001b[0m\u001b[1;33m.\u001b[0m\u001b[0manimate\u001b[0m\u001b[1;33m(\u001b[0m\u001b[1;33m)\u001b[0m\u001b[1;33m\u001b[0m\u001b[1;33m\u001b[0m\u001b[0m\n",
      "\u001b[1;32m<ipython-input-117-5e4ea28f28d6>\u001b[0m in \u001b[0;36mupdate_fig\u001b[1;34m(self, cap_size, num_iterations)\u001b[0m\n\u001b[0;32m     96\u001b[0m             \u001b[0msection_averages\u001b[0m \u001b[1;33m=\u001b[0m \u001b[0mself\u001b[0m\u001b[1;33m.\u001b[0m\u001b[0mcheckpoint_energy\u001b[0m\u001b[1;33m.\u001b[0m\u001b[0mget_workload_average\u001b[0m\u001b[1;33m(\u001b[0m\u001b[0mworkload_project\u001b[0m\u001b[1;33m)\u001b[0m\u001b[1;33m\u001b[0m\u001b[1;33m\u001b[0m\u001b[0m\n\u001b[0;32m     97\u001b[0m             \u001b[0msection_stds\u001b[0m \u001b[1;33m=\u001b[0m \u001b[0mself\u001b[0m\u001b[1;33m.\u001b[0m\u001b[0mcheckpoint_energy\u001b[0m\u001b[1;33m.\u001b[0m\u001b[0mget_workload_std\u001b[0m\u001b[1;33m(\u001b[0m\u001b[0mworkload_project\u001b[0m\u001b[1;33m)\u001b[0m\u001b[1;33m\u001b[0m\u001b[1;33m\u001b[0m\u001b[0m\n\u001b[1;32m---> 98\u001b[1;33m             \u001b[0mcheckpoint_size\u001b[0m \u001b[1;33m=\u001b[0m \u001b[0mself\u001b[0m\u001b[1;33m.\u001b[0m\u001b[0mcheckpoint_energy\u001b[0m\u001b[1;33m.\u001b[0m\u001b[0mget_checkpoint_size\u001b[0m\u001b[1;33m(\u001b[0m\u001b[0mworkload_project\u001b[0m\u001b[1;33m)\u001b[0m\u001b[1;33m\u001b[0m\u001b[1;33m\u001b[0m\u001b[0m\n\u001b[0m\u001b[0;32m     99\u001b[0m \u001b[1;33m\u001b[0m\u001b[0m\n\u001b[0;32m    100\u001b[0m             \u001b[1;32mfor\u001b[0m \u001b[0msecurity_index\u001b[0m\u001b[1;33m,\u001b[0m \u001b[0msecurity_project\u001b[0m \u001b[1;32min\u001b[0m \u001b[0menumerate\u001b[0m\u001b[1;33m(\u001b[0m\u001b[0mself\u001b[0m\u001b[1;33m.\u001b[0m\u001b[0mcheckpoint_energy\u001b[0m\u001b[1;33m.\u001b[0m\u001b[0msecurity_projects\u001b[0m\u001b[1;33m)\u001b[0m\u001b[1;33m:\u001b[0m\u001b[1;33m\u001b[0m\u001b[1;33m\u001b[0m\u001b[0m\n",
      "\u001b[1;32mC:\\Thesis\\Areebs_Code\\SAM-L21_Cortex-M0plus\\Experiments-AES_Mode_CBC\\experiments\\checkpoint_energy.py\u001b[0m in \u001b[0;36mget_checkpoint_size\u001b[1;34m(self, workload_project)\u001b[0m\n\u001b[0;32m    193\u001b[0m             \"data\", \"bss\") if not self.text_as_size else (\"text\")\n\u001b[0;32m    194\u001b[0m \u001b[1;33m\u001b[0m\u001b[0m\n\u001b[1;32m--> 195\u001b[1;33m         \u001b[1;32mfor\u001b[0m \u001b[0mproject\u001b[0m \u001b[1;32min\u001b[0m \u001b[0mself\u001b[0m\u001b[1;33m.\u001b[0m\u001b[0mget_workload_size\u001b[0m\u001b[1;33m(\u001b[0m\u001b[0mworkload_project\u001b[0m\u001b[1;33m)\u001b[0m\u001b[1;33m.\u001b[0m\u001b[0mvalues\u001b[0m\u001b[1;33m(\u001b[0m\u001b[1;33m)\u001b[0m\u001b[1;33m:\u001b[0m\u001b[1;33m\u001b[0m\u001b[1;33m\u001b[0m\u001b[0m\n\u001b[0m\u001b[0;32m    196\u001b[0m             \u001b[1;32mfor\u001b[0m \u001b[0msize_type\u001b[0m\u001b[1;33m,\u001b[0m \u001b[0msize\u001b[0m \u001b[1;32min\u001b[0m \u001b[0mproject\u001b[0m\u001b[1;33m.\u001b[0m\u001b[0mitems\u001b[0m\u001b[1;33m(\u001b[0m\u001b[1;33m)\u001b[0m\u001b[1;33m:\u001b[0m\u001b[1;33m\u001b[0m\u001b[1;33m\u001b[0m\u001b[0m\n\u001b[0;32m    197\u001b[0m                 \u001b[1;32mif\u001b[0m \u001b[0msize_type\u001b[0m \u001b[1;32min\u001b[0m \u001b[0mcheckpoint_regions\u001b[0m\u001b[1;33m:\u001b[0m\u001b[1;33m\u001b[0m\u001b[1;33m\u001b[0m\u001b[0m\n",
      "\u001b[1;32mC:\\Thesis\\Areebs_Code\\SAM-L21_Cortex-M0plus\\Experiments-AES_Mode_CBC\\experiments\\checkpoint_energy.py\u001b[0m in \u001b[0;36mget_workload_size\u001b[1;34m(self, workload_project)\u001b[0m\n\u001b[0;32m    179\u001b[0m         \u001b[1;32mif\u001b[0m \u001b[0mself\u001b[0m\u001b[1;33m.\u001b[0m\u001b[0mworkloads_size\u001b[0m \u001b[1;32mis\u001b[0m \u001b[1;32mNone\u001b[0m\u001b[1;33m:\u001b[0m\u001b[1;33m\u001b[0m\u001b[1;33m\u001b[0m\u001b[0m\n\u001b[0;32m    180\u001b[0m             \u001b[0mself\u001b[0m\u001b[1;33m.\u001b[0m\u001b[0mget_all_workload_info\u001b[0m\u001b[1;33m(\u001b[0m\u001b[1;33m)\u001b[0m\u001b[1;33m\u001b[0m\u001b[1;33m\u001b[0m\u001b[0m\n\u001b[1;32m--> 181\u001b[1;33m         \u001b[1;32mreturn\u001b[0m \u001b[0mself\u001b[0m\u001b[1;33m.\u001b[0m\u001b[0mworkloads_size\u001b[0m\u001b[1;33m[\u001b[0m\u001b[0mworkload_project\u001b[0m\u001b[1;33m]\u001b[0m\u001b[1;33m\u001b[0m\u001b[1;33m\u001b[0m\u001b[0m\n\u001b[0m\u001b[0;32m    182\u001b[0m \u001b[1;33m\u001b[0m\u001b[0m\n\u001b[0;32m    183\u001b[0m     \u001b[1;32mdef\u001b[0m \u001b[0mget_workload_average\u001b[0m\u001b[1;33m(\u001b[0m\u001b[0mself\u001b[0m\u001b[1;33m,\u001b[0m \u001b[0mworkload_project\u001b[0m\u001b[1;33m)\u001b[0m\u001b[1;33m:\u001b[0m\u001b[1;33m\u001b[0m\u001b[1;33m\u001b[0m\u001b[0m\n",
      "\u001b[1;31mKeyError\u001b[0m: 'BitCounting'"
     ]
    }
   ],
   "source": [
    "capacitor_plotter = CapacitorPlotter(checkpoint_energy, show=1, cap_size=0.00022, num_iterations=50, use_model=False)"
   ]
  },
  {
   "cell_type": "code",
   "execution_count": 110,
   "metadata": {},
   "outputs": [
    {
     "data": {
      "text/plain": [
       "1"
      ]
     },
     "execution_count": 110,
     "metadata": {},
     "output_type": "execute_result"
    }
   ],
   "source": [
    "# figscale = 1.3\n",
    "# # capacitor_plotter.fig.get_figheight()\n",
    "# capacitor_plotter.fig.set_size_inches(6.4*figscale, 4.8*figscale, forward=True)\n",
    "# writer.finish()\n",
    "1"
   ]
  },
  {
   "cell_type": "code",
   "execution_count": 111,
   "metadata": {},
   "outputs": [],
   "source": [
    "# capacitor_plotter.animate_iterations(save=True, fps=2)\n",
    "# capacitor_plotter.num_iterations=50\n",
    "# capacitor_plotter.animate_cap(save=True, file_name='CheckpointsperWorkloadCapHQ600.mp4', fps=10, bitrate=2048*8, dpi=600)"
   ]
  },
  {
   "cell_type": "code",
   "execution_count": 112,
   "metadata": {},
   "outputs": [
    {
     "ename": "NameError",
     "evalue": "name 'capacitor_plotter' is not defined",
     "output_type": "error",
     "traceback": [
      "\u001b[1;31m---------------------------------------------------------------------------\u001b[0m",
      "\u001b[1;31mNameError\u001b[0m                                 Traceback (most recent call last)",
      "\u001b[1;32m<ipython-input-112-ee47877792b8>\u001b[0m in \u001b[0;36m<module>\u001b[1;34m\u001b[0m\n\u001b[1;32m----> 1\u001b[1;33m \u001b[0mcapacitor_plotter\u001b[0m\u001b[1;33m.\u001b[0m\u001b[0manimate_cap\u001b[0m\u001b[1;33m(\u001b[0m\u001b[0msave\u001b[0m\u001b[1;33m=\u001b[0m\u001b[1;32mTrue\u001b[0m\u001b[1;33m,\u001b[0m \u001b[0mfile_name\u001b[0m\u001b[1;33m=\u001b[0m\u001b[1;34m'CheckpointsperWorkloadCapHQ300_1024.mp4'\u001b[0m\u001b[1;33m,\u001b[0m \u001b[0mfps\u001b[0m\u001b[1;33m=\u001b[0m\u001b[1;36m10\u001b[0m\u001b[1;33m,\u001b[0m \u001b[0mbitrate\u001b[0m\u001b[1;33m=\u001b[0m\u001b[1;36m1024\u001b[0m\u001b[1;33m,\u001b[0m \u001b[0mdpi\u001b[0m\u001b[1;33m=\u001b[0m\u001b[1;36m300\u001b[0m\u001b[1;33m)\u001b[0m\u001b[1;33m\u001b[0m\u001b[1;33m\u001b[0m\u001b[0m\n\u001b[0m",
      "\u001b[1;31mNameError\u001b[0m: name 'capacitor_plotter' is not defined"
     ]
    }
   ],
   "source": [
    "capacitor_plotter.animate_cap(save=True, file_name='CheckpointsperWorkloadCapHQ300_1024.mp4', fps=10, bitrate=1024, dpi=300)"
   ]
  },
  {
   "cell_type": "code",
   "execution_count": null,
   "metadata": {},
   "outputs": [],
   "source": [
    "capacitor_plotter.animate_cap(save=True, file_name='CheckpointsperWorkloadCap1024.mp4', fps=10, bitrate=384, dpi=300)"
   ]
  },
  {
   "cell_type": "code",
   "execution_count": null,
   "metadata": {},
   "outputs": [],
   "source": [
    "capacitor_plotter.make_fig()"
   ]
  },
  {
   "cell_type": "code",
   "execution_count": null,
   "metadata": {},
   "outputs": [
    {
     "name": "stdout",
     "output_type": "stream",
     "text": [
      "Cap energy 1.2197790000000002 mJ\n",
      "0.022176121787195368 0.07141215767211999\n",
      "Workload: BitCounting, Security: TrustZone_Flash, Checkpoint percentage: 0.6894629358629063\n",
      "0.022176121787195368 0.07114762049879553\n",
      "Workload: BitCounting, Security: No_Security_Flash, Checkpoint percentage: 0.6883083140135264\n",
      "0.1015975211378093 0.1576723682917157\n",
      "Workload: Dijkstra, Security: AES-128_Flash, Checkpoint percentage: 0.35564156079751497\n",
      "0.1015975211378093 0.1782372349829927\n",
      "Workload: Dijkstra, Security: AES-256_Flash, Checkpoint percentage: 0.42998711157349545\n",
      "0.1015975211378093 0.1166228730635491\n",
      "Workload: Dijkstra, Security: TrustZone_Flash, Checkpoint percentage: 0.12883709285358047\n",
      "0.1015975211378093 0.11653987054642055\n",
      "Workload: Dijkstra, Security: No_Security_Flash, Checkpoint percentage: 0.12821662954104074\n",
      "1.0084740045097673 1.5650823255421995\n",
      "Workload: FFT, Security: AES-128_Flash, Checkpoint percentage: 0.35564156079751486\n",
      "1.0084740045097673 1.7692126353381508\n",
      "Workload: FFT, Security: AES-256_Flash, Checkpoint percentage: 0.42998711157349556\n",
      "1.0084740045097673 1.1576181633044085\n",
      "Workload: FFT, Security: TrustZone_Flash, Checkpoint percentage: 0.12883709285358036\n",
      "1.0084740045097673 1.1567942664229138\n",
      "Workload: FFT, Security: No_Security_Flash, Checkpoint percentage: 0.12821662954104063\n",
      "0.054061429517113666 0.11889933264423007\n",
      "Workload: Sorting, Security: AES-128_Flash, Checkpoint percentage: 0.5453176370730694\n",
      "0.054061429517113666 0.15971324803952425\n",
      "Workload: Sorting, Security: AES-256_Flash, Checkpoint percentage: 0.6615094227891785\n",
      "0.054061429517113666 0.06729065235797774\n",
      "Workload: Sorting, Security: TrustZone_Flash, Checkpoint percentage: 0.1965982254189822\n",
      "0.054061429517113666 0.06736172158318626\n",
      "Workload: Sorting, Security: No_Security_Flash, Checkpoint percentage: 0.19744584540713994\n"
     ]
    }
   ],
   "source": [
    "capacitor_plotter.switch_axes()"
   ]
  },
  {
   "cell_type": "code",
   "execution_count": 110,
   "metadata": {},
   "outputs": [
    {
     "name": "stdout",
     "output_type": "stream",
     "text": [
      "Cap energy 0.4546449000000001 mJ\n",
      "0.5375110242806871 11.725880605071337\n",
      "Workload: Dijkstra, Security: AES-128_Flash, Checkpoint percentage: 0.9541602850665034\n",
      "0.5375110242806871 0.8214558628180089\n",
      "Workload: Dijkstra, Security: TrustZone_Flash, Checkpoint percentage: 0.3456604930218009\n",
      "0.5375110242806871 0.8193713595869534\n",
      "Workload: Dijkstra, Security: No_Security_Flash, Checkpoint percentage: 0.3439958353540117\n",
      "10.09038212255445 220.12314293824429\n",
      "Workload: FFT, Security: AES-128_Flash, Checkpoint percentage: 0.9541602850665034\n",
      "10.09038212255445 15.420713582086426\n",
      "Workload: FFT, Security: TrustZone_Flash, Checkpoint percentage: 0.3456604930218009\n",
      "10.09038212255445 15.381582414190477\n",
      "Workload: FFT, Security: No_Security_Flash, Checkpoint percentage: 0.3439958353540117\n",
      "2.7030714758556833 5.720285634765644\n",
      "Workload: Sorting, Security: TrustZone_Flash, Checkpoint percentage: 0.5274586535631229\n",
      "2.7030714758556833 5.747947598249912\n",
      "Workload: Sorting, Security: No_Security_Flash, Checkpoint percentage: 0.529732755970376\n"
     ]
    },
    {
     "name": "stderr",
     "output_type": "stream",
     "text": [
      "<ipython-input-105-5e4ea28f28d6>:228: MatplotlibDeprecationWarning: \n",
      "The iter_ticks function was deprecated in Matplotlib 3.1 and will be removed in 3.3.\n",
      "  for tick in self.ax_checkpoint.yaxis.iter_ticks():\n"
     ]
    }
   ],
   "source": [
    "capacitor_plotter.update_fig(0.000082, 50)"
   ]
  },
  {
   "cell_type": "code",
   "execution_count": 111,
   "metadata": {},
   "outputs": [
    {
     "data": {
      "text/plain": [
       "True"
      ]
     },
     "execution_count": 111,
     "metadata": {},
     "output_type": "execute_result"
    }
   ],
   "source": [
    "float('3') < float('inf')"
   ]
  },
  {
   "cell_type": "code",
   "execution_count": 112,
   "metadata": {},
   "outputs": [
    {
     "data": {
      "text/plain": [
       "(0.12156862745098039, 0.4666666666666667, 0.7058823529411765, 0.8)"
      ]
     },
     "execution_count": 112,
     "metadata": {},
     "output_type": "execute_result"
    }
   ],
   "source": [
    "capacitor_plotter.legend_artists[0].get_facecolor()"
   ]
  },
  {
   "cell_type": "code",
   "execution_count": 113,
   "metadata": {},
   "outputs": [
    {
     "ename": "SyntaxError",
     "evalue": "cannot assign to function call (<ipython-input-113-f27a542d462e>, line 1)",
     "output_type": "error",
     "traceback": [
      "\u001b[1;36m  File \u001b[1;32m\"<ipython-input-113-f27a542d462e>\"\u001b[1;36m, line \u001b[1;32m1\u001b[0m\n\u001b[1;33m    capacitor_plotter.legend_artists[2].get_label() = []\u001b[0m\n\u001b[1;37m    ^\u001b[0m\n\u001b[1;31mSyntaxError\u001b[0m\u001b[1;31m:\u001b[0m cannot assign to function call\n"
     ]
    }
   ],
   "source": [
    "capacitor_plotter.legend_artists[2].get_label() = []"
   ]
  },
  {
   "cell_type": "code",
   "execution_count": 114,
   "metadata": {},
   "outputs": [],
   "source": [
    "def isFlash(artist):\n",
    "    return artist.get_label().find('flash')"
   ]
  },
  {
   "cell_type": "code",
   "execution_count": 115,
   "metadata": {},
   "outputs": [
    {
     "data": {
      "text/plain": [
       "[<matplotlib.patches.Patch at 0x2f9916b8>,\n",
       " <matplotlib.patches.Patch at 0x30be2f28>,\n",
       " <matplotlib.patches.Patch at 0x30be2838>,\n",
       " <matplotlib.patches.Patch at 0x30be2178>,\n",
       " <matplotlib.patches.Patch at 0x30be2658>,\n",
       " <matplotlib.patches.Patch at 0x30be2268>,\n",
       " <matplotlib.patches.Patch at 0x2fdbc3d0>,\n",
       " <matplotlib.patches.Patch at 0x355a21a8>,\n",
       " <matplotlib.patches.Patch at 0x355a2448>,\n",
       " <matplotlib.patches.Patch at 0x355a2d30>,\n",
       " <matplotlib.patches.Patch at 0x3d619880>]"
      ]
     },
     "execution_count": 115,
     "metadata": {},
     "output_type": "execute_result"
    }
   ],
   "source": [
    "[artist for artist in capacitor_plotter.legend_artists if artist.get_label().find('Flash') == -1]"
   ]
  },
  {
   "cell_type": "code",
   "execution_count": 116,
   "metadata": {},
   "outputs": [],
   "source": [
    "a = list(filter(isFlash, capacitor_plotter.legend_artists))"
   ]
  },
  {
   "cell_type": "code",
   "execution_count": 117,
   "metadata": {},
   "outputs": [
    {
     "data": {
      "text/plain": [
       "'Bit Counting'"
      ]
     },
     "execution_count": 117,
     "metadata": {},
     "output_type": "execute_result"
    }
   ],
   "source": [
    "a[0].get_label()"
   ]
  },
  {
   "cell_type": "code",
   "execution_count": 118,
   "metadata": {},
   "outputs": [
    {
     "data": {
      "text/plain": [
       "-1"
      ]
     },
     "execution_count": 118,
     "metadata": {},
     "output_type": "execute_result"
    }
   ],
   "source": [
    "capacitor_plotter.legend_artists[0].get_label().find('Flash')"
   ]
  },
  {
   "cell_type": "code",
   "execution_count": 119,
   "metadata": {},
   "outputs": [
    {
     "data": {
      "text/plain": [
       "[<matplotlib.patches.Patch at 0x2f9916b8>,\n",
       " <matplotlib.patches.Patch at 0x30be2f28>,\n",
       " <matplotlib.patches.Patch at 0x30be2838>,\n",
       " <matplotlib.patches.Patch at 0x30be2178>,\n",
       " <matplotlib.patches.Patch at 0x30be2658>,\n",
       " <matplotlib.patches.Patch at 0x30be2268>,\n",
       " <matplotlib.patches.Patch at 0x2fdbc3d0>,\n",
       " <matplotlib.patches.Patch at 0x355a21a8>,\n",
       " <matplotlib.patches.Patch at 0x355a2448>,\n",
       " <matplotlib.patches.Patch at 0x355a2d30>,\n",
       " <matplotlib.patches.Patch at 0x3d619880>,\n",
       " <matplotlib.patches.Patch at 0x2ba775b0>,\n",
       " <matplotlib.patches.Patch at 0x2db92628>]"
      ]
     },
     "execution_count": 119,
     "metadata": {},
     "output_type": "execute_result"
    }
   ],
   "source": [
    "capacitor_plotter.legend_artists"
   ]
  },
  {
   "cell_type": "code",
   "execution_count": 120,
   "metadata": {},
   "outputs": [
    {
     "data": {
      "text/plain": [
       "11.0889"
      ]
     },
     "execution_count": 120,
     "metadata": {},
     "output_type": "execute_result"
    }
   ],
   "source": [
    "voltage*voltage"
   ]
  },
  {
   "cell_type": "markdown",
   "metadata": {},
   "source": [
    "https://www.digikey.com/products/en/capacitors/ceramic-capacitors/60?k=&pkeyword=&sv=0&pv2049=u82%C2%B5F&pv2049=u220%C2%B5F&sf=1&FV=ffe0003c%2Cmu220%C2%B5F%7C2049%7C1%2Cmu82%C2%B5F%7C2049%7C0&quantity=&ColumnSort=0&page=1&pageSize=25"
   ]
  },
  {
   "cell_type": "code",
   "execution_count": null,
   "metadata": {},
   "outputs": [],
   "source": []
  },
  {
   "cell_type": "raw",
   "metadata": {},
   "source": [
    "No Security:\n",
    "Total Energy: Slope 93.193081483487546279 nJ/B, Intercept 17835.239909177274967 nJ\n",
    "Total Time: Slope 16.616274754555913518 $\\mu$s/B, Intercept 2731.259992423480071 $\\mu$s\n",
    "AES-128:\n",
    "Total Energy: Slope 255.29263860381644236 nJ/B, Intercept 17172.588424824694812 nJ\n",
    "Total Time: Slope 110.98992396040156905 $\\mu$s/B, Intercept 3063.3049385509443709 $\\mu$s\n",
    "AES-256:\n",
    "Total Energy: Slope 311.05041658406918259 nJ/B, Intercept 14262.617678520451591 nJ\n",
    "Total Time: Slope 142.2546519574131878 $\\mu$s/B, Intercept 2276.6353298404524139 $\\mu$s\n",
    "TrustZone:\n",
    "Total Energy: Slope 93.649110073866893345 nJ/B, Intercept 18543.225088251070702 nJ\n",
    "Total Time: Slope 16.663488309776166574 $\\mu$s/B, Intercept 2761.2188204863341525 $\\mu$s"
   ]
  },
  {
   "cell_type": "code",
   "execution_count": 121,
   "metadata": {},
   "outputs": [],
   "source": [
    "No_Security_Slope = 93.193081483487546279\n",
    "AES128_Slope = 255.29263860381644236\n",
    "AES256_Slope = 311.05041658406918259\n",
    "TrustZone_Slope = 93.649110073866893345"
   ]
  },
  {
   "cell_type": "code",
   "execution_count": 122,
   "metadata": {},
   "outputs": [
    {
     "data": {
      "text/plain": [
       "0.48933738762586554"
      ]
     },
     "execution_count": 122,
     "metadata": {},
     "output_type": "execute_result"
    }
   ],
   "source": [
    "(TrustZone_Slope/No_Security_Slope-1)*100"
   ]
  },
  {
   "cell_type": "code",
   "execution_count": 123,
   "metadata": {},
   "outputs": [
    {
     "data": {
      "text/plain": [
       "173.93947548461583"
      ]
     },
     "execution_count": 123,
     "metadata": {},
     "output_type": "execute_result"
    }
   ],
   "source": [
    "(AES128_Slope/No_Security_Slope-1)*100"
   ]
  },
  {
   "cell_type": "code",
   "execution_count": 124,
   "metadata": {},
   "outputs": [
    {
     "data": {
      "text/plain": [
       "233.76985891295243"
      ]
     },
     "execution_count": 124,
     "metadata": {},
     "output_type": "execute_result"
    }
   ],
   "source": [
    "(AES256_Slope/No_Security_Slope-1)*100"
   ]
  },
  {
   "cell_type": "code",
   "execution_count": null,
   "metadata": {},
   "outputs": [],
   "source": []
  },
  {
   "cell_type": "code",
   "execution_count": 125,
   "metadata": {},
   "outputs": [
    {
     "data": {
      "text/plain": [
       "[0, 1, 2]"
      ]
     },
     "execution_count": 125,
     "metadata": {},
     "output_type": "execute_result"
    }
   ],
   "source": [
    "list(range(3)) + []"
   ]
  },
  {
   "cell_type": "code",
   "execution_count": 126,
   "metadata": {},
   "outputs": [
    {
     "data": {
      "text/plain": [
       "101"
      ]
     },
     "execution_count": 126,
     "metadata": {},
     "output_type": "execute_result"
    }
   ],
   "source": [
    "len(list(reversed(np.arange(0.000022,0.0002200000001,(0.00022-0.000022)/100))))"
   ]
  },
  {
   "cell_type": "code",
   "execution_count": 127,
   "metadata": {},
   "outputs": [
    {
     "data": {
      "text/plain": [
       "151"
      ]
     },
     "execution_count": 127,
     "metadata": {},
     "output_type": "execute_result"
    }
   ],
   "source": [
    "len(list(range(1,51)) + [50] * 101)"
   ]
  },
  {
   "cell_type": "code",
   "execution_count": 128,
   "metadata": {},
   "outputs": [
    {
     "data": {
      "text/plain": [
       "151"
      ]
     },
     "execution_count": 128,
     "metadata": {},
     "output_type": "execute_result"
    }
   ],
   "source": [
    "len([0.000220] * 50 + list(reversed(np.arange(0.000082,0.0002200000001,(0.00022-0.000082)/100))))"
   ]
  },
  {
   "cell_type": "code",
   "execution_count": null,
   "metadata": {},
   "outputs": [],
   "source": []
  },
  {
   "cell_type": "code",
   "execution_count": null,
   "metadata": {},
   "outputs": [],
   "source": []
  },
  {
   "cell_type": "code",
   "execution_count": null,
   "metadata": {},
   "outputs": [],
   "source": []
  }
 ],
 "metadata": {
  "kernelspec": {
   "display_name": "Python 3",
   "language": "python",
   "name": "python3"
  },
  "language_info": {
   "codemirror_mode": {
    "name": "ipython",
    "version": 3
   },
   "file_extension": ".py",
   "mimetype": "text/x-python",
   "name": "python",
   "nbconvert_exporter": "python",
   "pygments_lexer": "ipython3",
   "version": "3.8.1"
  }
 },
 "nbformat": 4,
 "nbformat_minor": 4
}

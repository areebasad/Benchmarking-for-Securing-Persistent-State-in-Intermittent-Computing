{
 "cells": [
  {
   "cell_type": "code",
   "execution_count": 1,
   "metadata": {},
   "outputs": [],
   "source": [
    "# %matplotlib ipympl\n",
    "# %matplotlib inline\n",
    "%matplotlib wx"
   ]
  },
  {
   "cell_type": "code",
   "execution_count": 2,
   "metadata": {},
   "outputs": [],
   "source": [
    "import matplotlib.pyplot as plt\n",
    "import numpy as np"
   ]
  },
  {
   "cell_type": "markdown",
   "metadata": {},
   "source": [
    "## Load Pickles of checkpoint charges per byte"
   ]
  },
  {
   "cell_type": "code",
   "execution_count": 3,
   "metadata": {},
   "outputs": [],
   "source": [
    "from os import path, pardir, scandir\n",
    "import pickle\n",
    "import sys\n",
    "from math import ceil"
   ]
  },
  {
   "cell_type": "code",
   "execution_count": 4,
   "metadata": {},
   "outputs": [],
   "source": [
    "from pydgilib_extra import LOGGER_CSV"
   ]
  },
  {
   "cell_type": "code",
   "execution_count": 5,
   "metadata": {},
   "outputs": [],
   "source": [
    "sys.path.insert(0,'../..')"
   ]
  },
  {
   "cell_type": "code",
   "execution_count": 6,
   "metadata": {},
   "outputs": [],
   "source": [
    "measure_security = False\n",
    "show_lm_plot=2\n",
    "measure_workloads = True\n",
    "repetitions = 100"
   ]
  },
  {
   "cell_type": "code",
   "execution_count": 7,
   "metadata": {},
   "outputs": [],
   "source": [
    "from experiments.checkpoint_energy import CheckpointEnergy"
   ]
  },
  {
   "cell_type": "code",
   "execution_count": 8,
   "metadata": {},
   "outputs": [],
   "source": [
    "text_as_size = False\n",
    "security_method = 'mbedTLS'\n",
    "#checkpoint_energy = CheckpointEnergy()\n",
    "# checkpoint_energy = CheckpointEnergy(security_projects=['AES_Flash', 'TrustZone_Flash', 'No_Security_Flash'])\n",
    "checkpoint_energy = CheckpointEnergy(workload_folder = \"../../Workloads\",\n",
    "                                     security_projects=['AES-256_mbedTLS_library_O1_4Mhz',\n",
    "                                                        'AES-256_mbedTLS_library_O1_12Mhz',\n",
    "                                                        'AES-256_mbedTLS_library_O3_4Mhz',\n",
    "                                                        'AES-256_mbedTLS_library_O3_12Mhz'], text_as_size=text_as_size)"
   ]
  },
  {
   "cell_type": "code",
   "execution_count": 9,
   "metadata": {},
   "outputs": [
    {
     "data": {
      "text/plain": [
       "['AES-256_mbedTLS_library_O1_4Mhz',\n",
       " 'AES-256_mbedTLS_library_O1_12Mhz',\n",
       " 'AES-256_mbedTLS_library_O3_4Mhz',\n",
       " 'AES-256_mbedTLS_library_O3_12Mhz']"
      ]
     },
     "execution_count": 9,
     "metadata": {},
     "output_type": "execute_result"
    }
   ],
   "source": [
    "checkpoint_energy.security_projects"
   ]
  },
  {
   "cell_type": "code",
   "execution_count": 10,
   "metadata": {},
   "outputs": [
    {
     "data": {
      "text/plain": [
       "['BitCounting', 'Dijkstra', 'FFT', 'Sorting']"
      ]
     },
     "execution_count": 10,
     "metadata": {},
     "output_type": "execute_result"
    }
   ],
   "source": [
    "checkpoint_energy.workload_projects"
   ]
  },
  {
   "cell_type": "markdown",
   "metadata": {},
   "source": [
    "### Smoothen?"
   ]
  },
  {
   "cell_type": "markdown",
   "metadata": {},
   "source": [
    "Get lookup function"
   ]
  },
  {
   "cell_type": "code",
   "execution_count": 11,
   "metadata": {},
   "outputs": [],
   "source": [
    "get_security_energy = checkpoint_energy.get_security_energy_function()"
   ]
  },
  {
   "cell_type": "code",
   "execution_count": 12,
   "metadata": {},
   "outputs": [
    {
     "name": "stdout",
     "output_type": "stream",
     "text": [
      "AES-256_mbedTLS_library_O1_4Mhz {'AES-256 Encrypt': 5.5073238537407735e-05, 'AES-256 Decrypt': 5.7610155677824296e-05, 'AES-256 Flash Write': 7.80541766042196e-05, 'AES-256 Flash Read': 2.0088334449804605e-06}\n",
      "AES-256_mbedTLS_library_O1_4Mhz {'AES-256 Encrypt': 5.4699074098274594e-05, 'AES-256 Decrypt': 5.7051506116837106e-05, 'AES-256 Flash Write': 7.393299376565765e-05, 'AES-256 Flash Read': 1.9978475767044544e-06}\n",
      "AES-256_mbedTLS_library_O1_4Mhz {'AES-256 Encrypt': 2.6865245970372698, 'AES-256 Decrypt': 2.7837382964179866, 'AES-256 Flash Write': 3.427248517127214, 'AES-256 Flash Read': 0.09985493607481974}\n",
      "AES-256_mbedTLS_library_O1_12Mhz {'AES-256 Encrypt': 5.027556848108576e-05, 'AES-256 Decrypt': 5.291071056374187e-05, 'AES-256 Flash Write': 9.082222840657206e-05, 'AES-256 Flash Read': 1.5675312545966353e-06}\n",
      "AES-256_mbedTLS_library_O1_12Mhz {'AES-256 Encrypt': 4.989618064626563e-05, 'AES-256 Decrypt': 5.2416269043851956e-05, 'AES-256 Flash Write': 8.455329234666236e-05, 'AES-256 Flash Read': 1.6291921882312165e-06}\n",
      "AES-256_mbedTLS_library_O1_12Mhz {'AES-256 Encrypt': 2.4817965172007073, 'AES-256 Decrypt': 2.5897767778523906, 'AES-256 Flash Write': 3.92771679435543, 'AES-256 Flash Read': 0.08556657542502642}\n",
      "AES-256_mbedTLS_library_O3_4Mhz {'AES-256 Encrypt': 5.515800809733795e-05, 'AES-256 Decrypt': 5.760372159555439e-05, 'AES-256 Flash Write': 7.794029962703819e-05, 'AES-256 Flash Read': 2.008095120169276e-06}\n",
      "AES-256_mbedTLS_library_O3_4Mhz {'AES-256 Encrypt': 5.4783615534638356e-05, 'AES-256 Decrypt': 5.713122882302955e-05, 'AES-256 Flash Write': 7.389976928505389e-05, 'AES-256 Flash Read': 1.995805861658618e-06}\n",
      "AES-256_mbedTLS_library_O3_4Mhz {'AES-256 Encrypt': 2.689498462498374, 'AES-256 Decrypt': 2.78831875903857, 'AES-256 Flash Write': 3.4204608094578077, 'AES-256 Flash Read': 0.09985875778137901}\n",
      "AES-256_mbedTLS_library_O3_12Mhz {'AES-256 Encrypt': 4.981203718891688e-05, 'AES-256 Decrypt': 5.190529738475189e-05, 'AES-256 Flash Write': 8.983915893452702e-05, 'AES-256 Flash Read': 1.576874499486171e-06}\n",
      "AES-256_mbedTLS_library_O3_12Mhz {'AES-256 Encrypt': 4.9478374467246304e-05, 'AES-256 Decrypt': 5.154384688370398e-05, 'AES-256 Flash Write': 8.381707993069138e-05, 'AES-256 Flash Read': 1.5882800584248836e-06}\n",
      "AES-256_mbedTLS_library_O3_12Mhz {'AES-256 Encrypt': 2.4462156484361945, 'AES-256 Decrypt': 2.5488122144103054, 'AES-256 Flash Write': 3.87401137811691, 'AES-256 Flash Read': 0.08249831742361713}\n",
      "None {'None': 0}\n",
      "None {'None': 0}\n",
      "None {'None': 0}\n"
     ]
    }
   ],
   "source": [
    "for security_type in checkpoint_energy.security_projects + [\"None\"]:\n",
    "    print(security_type, get_security_energy(security_type,2048))\n",
    "    print(security_type, get_security_energy(security_type,2048, use_model=True))\n",
    "    print(security_type, get_security_energy(security_type,100000000))"
   ]
  },
  {
   "cell_type": "code",
   "execution_count": 58,
   "metadata": {},
   "outputs": [],
   "source": [
    "import numpy as np\n",
    "from math import sqrt, floor\n",
    "import matplotlib.pyplot as plt\n",
    "import matplotlib.animation as animation\n",
    "import matplotlib as mpl\n",
    "import matplotlib.patches as mpatches\n",
    "import matplotlib.ticker as tck\n"
   ]
  },
  {
   "cell_type": "code",
   "execution_count": 14,
   "metadata": {},
   "outputs": [],
   "source": [
    "c_scale = 1e3\n",
    "j_scale = 1e6\n",
    "t_scale = 1e3\n",
    "voltage = 3.31"
   ]
  },
  {
   "cell_type": "code",
   "execution_count": 15,
   "metadata": {},
   "outputs": [
    {
     "data": {
      "text/plain": [
       "['AES-256_mbedTLS_library_O1_4Mhz',\n",
       " 'AES-256_mbedTLS_library_O1_12Mhz',\n",
       " 'AES-256_mbedTLS_library_O3_4Mhz',\n",
       " 'AES-256_mbedTLS_library_O3_12Mhz']"
      ]
     },
     "execution_count": 15,
     "metadata": {},
     "output_type": "execute_result"
    }
   ],
   "source": [
    "checkpoint_energy.security_projects"
   ]
  },
  {
   "cell_type": "code",
   "execution_count": 16,
   "metadata": {},
   "outputs": [],
   "source": [
    "workload_colors = {'BitCounting':'tab:blue', 'Dijkstra':'tab:green', 'FFT':'tab:red', 'Sorting':'tab:orange'}\n",
    "# security_colors = {'AES_Flash':'#85e085', 'TrustZone_Flash':'#66b3ff', 'No_Security_Flash':'#b3b3cc'}\n",
    "security_colors = {'AES-256_mbedTLS_library_O1_4Mhz':'#258e25', \n",
    "                   'AES-256_mbedTLS_library_O1_12Mhz':'#258e25',\n",
    "                   'AES-256_mbedTLS_library_O3_4Mhz':'#258e25',\n",
    "                   'AES-256_mbedTLS_library_O3_12Mhz':'#258e25'}\n",
    "colors = {**workload_colors, **security_colors}"
   ]
  },
  {
   "cell_type": "code",
   "execution_count": 17,
   "metadata": {},
   "outputs": [],
   "source": [
    "hatches = ['-', '+', 'x', '\\\\', '*', 'o', 'O', '.']"
   ]
  },
  {
   "cell_type": "code",
   "execution_count": 18,
   "metadata": {},
   "outputs": [],
   "source": [
    "section_hatches = {'AES Encrypt': '\\\\\\\\', \n",
    "                   'AES Decrypt': '//', \n",
    "                   'AES-256 Encrypt': '\\\\\\\\', \n",
    "                   'AES-256 Decrypt': '//', \n",
    "                   'AES-128 Encrypt': '\\\\\\\\', \n",
    "                   'AES-128 Decrypt': '//', \n",
    "                   'Flash Write': 'xx', \n",
    "                   'Flash Read': '/////', \n",
    "                   'AES-256 Flash Write': 'xx', \n",
    "                   'AES-256 Flash Read': '/////', \n",
    "                   'AES-128 Flash Write': 'xx', \n",
    "                   'AES-128 Flash Read': '/////', \n",
    "                   'No Security Flash Write': 'xx', \n",
    "                   'No Security Flash Read': '/////', \n",
    "                   'TrustZone Flash Write': 'xx', \n",
    "                   'TrustZone Flash Read': '/////', \n",
    "                   'Bit Counting': 'ooo', \n",
    "                   'Create Graph': '0', \n",
    "                   'Dijkstra': 'ooo',\n",
    "                   'Allocate FFT': '0',\n",
    "                   'FFT': 'ooo',\n",
    "                   'Free FFT': '...',\n",
    "                   'Sorting': 'ooo'\n",
    "                  }\n",
    "\n",
    "\n",
    "circ1 = mpatches.Patch( facecolor='None', hatch=r'\\\\\\\\',label='AES CBC Mode Encrypt')\n",
    "circ2 = mpatches.Patch( facecolor='None', hatch='//',label='AES CBC Mode Decrypt')\n",
    "circ3 = mpatches.Patch( facecolor='None', hatch='xx',label='Flash Write')\n",
    "circ4 = mpatches.Patch( facecolor='None', hatch='/////',label='Flash Read')\n",
    "        "
   ]
  },
  {
   "cell_type": "code",
   "execution_count": 77,
   "metadata": {},
   "outputs": [],
   "source": [
    "edgecolor = 'black'\n",
    "linewidth = 0.8"
   ]
  },
  {
   "cell_type": "code",
   "execution_count": 78,
   "metadata": {},
   "outputs": [],
   "source": [
    "security_projects=['AES-256_mbedTLS_library_O1_4Mhz',\n",
    "                                                        'AES-256_mbedTLS_library_O1_12Mhz',\n",
    "                                                        'AES-256_mbedTLS_library_O3_4Mhz',\n",
    "                                                        'AES-256_mbedTLS_library_O3_12Mhz']"
   ]
  },
  {
   "cell_type": "code",
   "execution_count": 79,
   "metadata": {},
   "outputs": [],
   "source": [
    "xLabels = ['O1\\n4MHz','O1\\n12MHz','O3\\n4MHz',\n",
    "            'O3\\n12MHz']"
   ]
  },
  {
   "cell_type": "code",
   "execution_count": 80,
   "metadata": {},
   "outputs": [],
   "source": [
    "#security_projects=['AES-128_Flash', 'AES-256_Flash', 'TrustZone_Flash', 'No_Security_Flash']"
   ]
  },
  {
   "cell_type": "code",
   "execution_count": 81,
   "metadata": {},
   "outputs": [
    {
     "data": {
      "text/plain": [
       "1231.1459416277053"
      ]
     },
     "execution_count": 81,
     "metadata": {},
     "output_type": "execute_result"
    }
   ],
   "source": [
    "totalEnergy = get_security_energy('AES-256_mbedTLS_library_O1_4Mhz',4096, use_model=True)\n",
    "sum =0\n",
    "for evl in totalEnergy.values():\n",
    "    sum+=evl*j_scale*voltage\n",
    "sum    "
   ]
  },
  {
   "cell_type": "code",
   "execution_count": 82,
   "metadata": {},
   "outputs": [],
   "source": [
    "class WorkloadPlotter(object):\n",
    "    def __init__(self, checkpoint_energy=CheckpointEnergy(workload_folder = \"../../Workloads\",security_projects=security_projects), fig=None, ax=None, show=False):\n",
    "        self.checkpoint_energy = checkpoint_energy\n",
    "        self.fig = fig\n",
    "        self.ax = ax\n",
    "        if show:\n",
    "            self.make_fig()\n",
    "            self.update_fig()\n",
    "            \n",
    "        \n",
    "    def make_fig(self, *args, **kwargs):\n",
    "        self.fig, self.ax = plt.subplots(*args, **kwargs)\n",
    "    \n",
    "    def update_fig(self):\n",
    "        opacity = 0.8\n",
    "        self.ax.cla()\n",
    "        \n",
    "        self.bars = {}\n",
    "        for index, workload_project in enumerate(self.checkpoint_energy.workload_projects):\n",
    "            self.bars[workload_project] = {}\n",
    "            section_averages = self.checkpoint_energy.get_workload_average(workload_project)\n",
    "            section_stds = self.checkpoint_energy.get_workload_std(workload_project)\n",
    "            bottom = 0\n",
    "            for section in section_averages.keys():\n",
    "                self.bars[workload_project][section] = self.ax.bar(index, section_averages[section]*j_scale*voltage, color=colors[workload_project], \n",
    "                                                                   label=section, alpha=opacity, yerr=section_stds[section]*j_scale*voltage, bottom=bottom, \n",
    "                                                                   hatch=section_hatches[section], linewidth=linewidth, edgecolor=edgecolor)\n",
    "                bottom += section_averages[section]*j_scale*voltage\n",
    "        \n",
    "        self.ax.set_xticks(range(len(self.checkpoint_energy.workload_projects)))\n",
    "        self.ax.set_xticklabels(self.checkpoint_energy.workload_projects)\n",
    "        self.ax.legend()\n",
    "#         self.ax.set_yscale('log')\n",
    "        # self.ax.grid()\n",
    "\n",
    "        self.ax.set_xlabel('Workload')\n",
    "        self.ax.set_ylabel('Energy [$\\mu$J]')\n",
    "        self.ax.set_title('Energy per Section')\n",
    "        self.fig.canvas.set_window_title('Energy per Workload')\n",
    "        self.fig.show()"
   ]
  },
  {
   "cell_type": "code",
   "execution_count": 83,
   "metadata": {},
   "outputs": [],
   "source": [
    "workload_plotter = WorkloadPlotter(checkpoint_energy, show=True)"
   ]
  },
  {
   "cell_type": "code",
   "execution_count": 84,
   "metadata": {},
   "outputs": [],
   "source": [
    "# workload_plotter.make_fig()"
   ]
  },
  {
   "cell_type": "code",
   "execution_count": 85,
   "metadata": {},
   "outputs": [],
   "source": [
    "# workload_plotter.update_fig()"
   ]
  },
  {
   "cell_type": "code",
   "execution_count": 86,
   "metadata": {},
   "outputs": [
    {
     "data": {
      "text/plain": [
       "['AES-256_mbedTLS_library_O1_4Mhz',\n",
       " 'AES-256_mbedTLS_library_O1_12Mhz',\n",
       " 'AES-256_mbedTLS_library_O3_4Mhz',\n",
       " 'AES-256_mbedTLS_library_O3_12Mhz']"
      ]
     },
     "execution_count": 86,
     "metadata": {},
     "output_type": "execute_result"
    }
   ],
   "source": [
    "checkpoint_energy.security_projects\n",
    "#checkpoint_energy.get_security_energy('AES-256_Crypto-Accelerator', 4096)"
   ]
  },
  {
   "cell_type": "code",
   "execution_count": 87,
   "metadata": {},
   "outputs": [],
   "source": [
    "def set_size(w,h, ax=None):\n",
    "    \"\"\" w, h: width, height in inches \"\"\"\n",
    "    if not ax: ax=plt.gca()\n",
    "    l = ax.figure.subplotpars.left\n",
    "    r = ax.figure.subplotpars.right\n",
    "    t = ax.figure.subplotpars.top\n",
    "    b = ax.figure.subplotpars.bottom\n",
    "    figw = float(w)/(r-l)\n",
    "    figh = float(h)/(t-b)\n",
    "    ax.figure.set_size_inches(figw, figh)\n"
   ]
  },
  {
   "cell_type": "code",
   "execution_count": 88,
   "metadata": {},
   "outputs": [],
   "source": [
    "def set_xmargin(ax, left=0.0, right=0.3):\n",
    "    ax.set_xmargin(0)\n",
    "    ax.autoscale_view()\n",
    "    lim = ax.get_xlim()\n",
    "    delta = np.diff(lim)\n",
    "    left = lim[0] - delta*left\n",
    "    right = lim[1] + delta*right\n",
    "    ax.set_xlim(left,right)"
   ]
  },
  {
   "cell_type": "code",
   "execution_count": 91,
   "metadata": {},
   "outputs": [],
   "source": [
    "class SecurityPlotter(object):\n",
    "    def __init__(self, checkpoint_energy=CheckpointEnergy(workload_folder = \"../../Workloads\",security_projects=security_projects), num_bytes=4096, fig=None, ax=None, show=0, use_model=False):\n",
    "        self.checkpoint_energy = checkpoint_energy\n",
    "        self.fig = fig\n",
    "        self.ax = ax\n",
    "        self.num_bytes = num_bytes\n",
    "        self.use_model = use_model\n",
    "        if show:\n",
    "            self.make_fig(figsize=(12.8, 6.8),dpi= 300) #width, height in inches\n",
    "            self.update_fig()\n",
    "            if show >= 2:\n",
    "                self.animate()\n",
    "        \n",
    "    def make_fig(self, *args, **kwargs):\n",
    "        self.fig, self.ax = plt.subplots(*args, **kwargs)\n",
    "    \n",
    "    def update_fig(self, num_bytes=None):\n",
    "        if num_bytes is None:\n",
    "            num_bytes = self.num_bytes\n",
    "        opacity = 0.8\n",
    "        self.ax.cla()\n",
    "#         self.ax.grid(zorder=0)\n",
    "        self.ax.yaxis.grid(True, alpha=0.3)\n",
    "        \n",
    "        self.bars = {}\n",
    "        for index, security_project in enumerate(self.checkpoint_energy.security_projects):\n",
    "            self.bars[security_project] = {}\n",
    "            security_energy = self.checkpoint_energy.get_security_energy(security_project, num_bytes, use_model=self.use_model)\n",
    "            #print(f'{security_energy}')\n",
    "            bottom = 0\n",
    "            sectionEnergies = get_security_energy(security_project,num_bytes, use_model=self.use_model)\n",
    "            totalEnergy = 0\n",
    "            for sectionEnergy in sectionEnergies.values():\n",
    "                totalEnergy+=sectionEnergy * j_scale * voltage\n",
    "            #print(f'{totalEnergy}')\n",
    "            for section in security_energy.keys():\n",
    "                self.bars[security_project][section] = self.ax.bar(index, security_energy[section] * j_scale*voltage, color=colors[security_project], \n",
    "                                                                   label=section, width=0.4, alpha=opacity, bottom=bottom, zorder=3,\n",
    "                                                                   hatch=section_hatches[section], linewidth=linewidth, edgecolor=edgecolor)\n",
    "                sectionValue = security_energy[section] * j_scale*voltage\n",
    "                accumulatedValue = sectionValue + bottom\n",
    "                yValue = (totalEnergy - accumulatedValue/2)\n",
    "                bar = self.bars[security_project][section].get_children()\n",
    "                print(f'{index} : {sectionValue}')\n",
    "                self.ax.text(x=index + (bar[0].get_width()*1.01 ) , y= bottom + sectionValue/2 -15 , \n",
    "                             s=f\"{round(sectionValue)}\", ha = 'center', va = 'center', fontdict=dict(fontsize=11))\n",
    "                bottom += security_energy[section]*j_scale*voltage\n",
    "                \n",
    "            self.ax.text(x=index + 0.05 , y =1250+60 , s=f\"{round(bottom, 2)}\" ,bbox=dict(boxstyle=\"square, pad=0.03\", fc=\"none\", ec=\"gray\", zorder=0.9, lw=0.5),\n",
    "                         va='baseline', horizontalalignment='center', fontdict=dict(fontsize=12))\n",
    "    \n",
    "            print(f'{security_project}: {bottom}')        \n",
    "        \n",
    "        self.ax.set_xticks(range(len(self.checkpoint_energy.security_projects)) )\n",
    "     ##   self.ax.set_xticklabels([s.replace('_',' ') for s in self.checkpoint_energy.security_projects])\n",
    "        self.ax.set_xticklabels(xLabels, fontdict=dict(fontsize=12))\n",
    "        self.ax.yaxis.set_tick_params(labelsize=12)\n",
    "\n",
    "     #   self.ax.set_xticklabels([\" \".join(s.split('_')[:-1]) for s in self.checkpoint_energy.security_projects])\n",
    "       \n",
    "      #  self.ax.set_yticks( fontdict=dict(fontsize=4))\n",
    "      #  self.ax.legend(handles = [circ1,circ2,circ3, circ4],loc=6, prop={'size': 4})\n",
    "       \n",
    "      #  self.ax.set_yscale('log')\n",
    "\n",
    "       # self.ax.set_xlabel('\\nDifferent AES-Modes execution on AES-Module')\n",
    "        self.ax.set_ylabel('Energy [$\\mu$J]', fontdict=dict(fontsize=12))\n",
    "        self.ax.set_title(f'(c) Security: mbedtLS (Software-based)' ,  fontdict=dict(fontsize=12))\n",
    "        self.fig.canvas.set_window_title('Energy_per_parameter_mbedTLS')\n",
    "        self.ax.margins( y= 0.12)\n",
    "        self.ax.yaxis.set_minor_locator(tck.AutoMinorLocator())\n",
    "\n",
    "       # self.ax.set(adjustable=\"datalim\")\n",
    "        #ratio = 0.5\n",
    "        #xleft, xright = self.ax.get_xlim()\n",
    "        #ybottom, ytop = self.ax.get_ylim()\n",
    "        # the abs method is used to make sure that all numbers are positive\n",
    "        # because x and y axis of an axes maybe inversed.\n",
    "        #self.ax.set_aspect(abs((xright-xleft)/(ybottom-ytop))*ratio)\n",
    "        \n",
    "        set_xmargin(self.ax, left=0.05, right=0.11)\n",
    "        #set_size(6.4,12.4, self.ax)\n",
    "        plt.gcf().set_size_inches(5, 7)\n",
    "\n",
    "        self.fig.tight_layout()\n",
    "        \n",
    "        self.fig.savefig(f'Energy_per_parameter_{security_method}.pdf', bbox_inches='tight', dpi=1000)\n",
    "        self.fig.savefig(f'Energy_per_parameter_{security_method}.svg', bbox_inches='tight', dpi=1000)\n",
    "        self.fig.show()\n",
    "    def anim_func(self, num_bytes, *fargs):\n",
    "        self.update_fig(num_bytes)\n",
    "        return flatten(self.bars)\n",
    "    \n",
    "    def animate(self, frames=range(100, 6001, 100), save=False, *save_args, **save_kwargs):\n",
    "        self.animation = animation.FuncAnimation(self.fig, self.anim_func, blit=True, interval=0,frames=frames ,repeat=False)\n",
    "        if save:\n",
    "            self.animation.save('Charge_per_Security.mp4', *save_args, **save_kwargs)\n",
    "        \n",
    "        \n",
    "def flatten(d, ret=None):\n",
    "    if ret is None:\n",
    "        ret = []\n",
    "    for k, v in sorted(d.items()):\n",
    "        if isinstance(v, dict):\n",
    "            flatten(v, ret)\n",
    "        else:\n",
    "            ret.extend(v.get_children())\n",
    "    return ret"
   ]
  },
  {
   "cell_type": "code",
   "execution_count": 92,
   "metadata": {},
   "outputs": [
    {
     "name": "stdout",
     "output_type": "stream",
     "text": [
      "0 : 363.936813054608\n",
      "0 : 379.36258255206087\n",
      "0 : 490.81148244310197\n",
      "0 : 13.471643320021066\n",
      "AES-256_mbedTLS_library_O1_4Mhz: 1247.582521369792\n",
      "1 : 334.0481402452019\n",
      "1 : 350.82517875037803\n",
      "1 : 563.5293466142018\n",
      "1 : 11.19956923343456\n",
      "AES-256_mbedTLS_library_O1_12Mhz: 1259.6022348432164\n",
      "2 : 364.67927726455684\n",
      "2 : 380.08711604107214\n",
      "2 : 489.00721266279197\n",
      "2 : 13.444934042476618\n",
      "AES-256_mbedTLS_library_O3_4Mhz: 1247.2185400108976\n",
      "3 : 331.30023656011775\n",
      "3 : 344.2710086835901\n",
      "3 : 555.1188289300077\n",
      "3 : 10.988472865797144\n",
      "AES-256_mbedTLS_library_O3_12Mhz: 1241.6785470395125\n"
     ]
    }
   ],
   "source": [
    "security_plotter = SecurityPlotter(checkpoint_energy, show=1, use_model=False)\n",
    "# security_plotter = SecurityPlotter(checkpoint_energy, show=1, use_model=True)"
   ]
  },
  {
   "cell_type": "markdown",
   "metadata": {},
   "source": [
    "## Security Time"
   ]
  },
  {
   "cell_type": "code",
   "execution_count": 93,
   "metadata": {},
   "outputs": [],
   "source": [
    "def get_security_time(project_name, num_bytes):\n",
    "    time_dict = {}\n",
    "    project_path = [\".\", project_name]\n",
    "    encrypt_time_ms = pickle.load(open(path.join(*project_path, \"aes_flash_encrypt_time_ms.p\"), \"rb\"))\n",
    "    decrypt_time_ms = pickle.load(open(path.join(*project_path, \"aes_flash_decrypt_time_ms.p\"), \"rb\"))\n",
    "    flash_write_time_ms = pickle.load(open(path.join(*project_path, \"aes_flash_write_time_ms.p\"), \"rb\"))\n",
    "    flash_read_time_ms = pickle.load(open(path.join(*project_path, \"aes_flash_read_time_ms.p\"), \"rb\"))\n",
    "    \n",
    "    i = round((num_bytes/16) - 1)\n",
    "    print(f'{i}')\n",
    "    time_dict['AES-256 Encrypt'] = encrypt_time_ms[i]\n",
    "    time_dict['AES-256 Decrypt'] = decrypt_time_ms[i]\n",
    "    time_dict['AES-256 Flash Write'] =  flash_write_time_ms[i]\n",
    "    time_dict['AES-256 Flash Read'] = flash_read_time_ms[i]\n",
    "    \n",
    "    return time_dict"
   ]
  },
  {
   "cell_type": "code",
   "execution_count": 94,
   "metadata": {},
   "outputs": [],
   "source": [
    "class SecurityPlotter(object):\n",
    "    def __init__(self, checkpoint_energy=CheckpointEnergy(workload_folder = \"../../Workloads\",security_projects=security_projects), num_bytes=4096, fig=None, ax=None, show=0, use_model=False):\n",
    "        self.checkpoint_energy = checkpoint_energy\n",
    "        self.fig = fig\n",
    "        self.ax = ax\n",
    "        self.num_bytes = num_bytes\n",
    "        self.use_model = use_model\n",
    "        if show:\n",
    "            self.make_fig(figsize=(12.8, 6.8),dpi= 300) #width, height in inches\n",
    "            self.update_fig()\n",
    "            if show >= 2:\n",
    "                self.animate()\n",
    "        \n",
    "    def make_fig(self, *args, **kwargs):\n",
    "        self.fig, self.ax = plt.subplots(*args, **kwargs)\n",
    "    \n",
    "    def update_fig(self, num_bytes=None):\n",
    "        if num_bytes is None:\n",
    "            num_bytes = self.num_bytes\n",
    "        opacity = 0.8\n",
    "        self.ax.cla()\n",
    "#         self.ax.grid(zorder=0)\n",
    "        self.ax.yaxis.grid(True, alpha=0.3)\n",
    "        \n",
    "        self.bars = {}\n",
    "        for index, security_project in enumerate(self.checkpoint_energy.security_projects):\n",
    "            self.bars[security_project] = {}\n",
    "            security_time = get_security_time(security_project, num_bytes)\n",
    "            #print(f'{security_energy}')\n",
    "            bottom = 0\n",
    "            sectionTimes = get_security_time(security_project,num_bytes)\n",
    "            totalTime = 0\n",
    "            for sectionTime in sectionTimes.values():\n",
    "                totalTime+=sectionTime\n",
    "            #print(f'{totalEnergy}')\n",
    "            for section in security_time.keys():\n",
    "                self.bars[security_project][section] = self.ax.bar(index, security_time[section] , color=colors[security_project], \n",
    "                                                                   label=section, width=0.4, alpha=opacity, bottom=bottom, zorder=3,\n",
    "                                                                   hatch=section_hatches[section], linewidth=linewidth, edgecolor=edgecolor)\n",
    "                sectionValue = security_time[section] \n",
    "                accumulatedValue = sectionValue + bottom\n",
    "                yValue = (totalTime - accumulatedValue/2)\n",
    "                bar = self.bars[security_project][section].get_children()\n",
    "                print(f'{index} : {sectionValue}')\n",
    "                self.ax.text(x=index + (bar[0].get_width()*0.95 ) , y= bottom + sectionValue/2 -2 , \n",
    "                             s=f\"{round(sectionValue)}\", ha = 'center', va = 'center', fontdict=dict(fontsize=11))\n",
    "                bottom += security_time[section]\n",
    "                \n",
    "            self.ax.text(x=index + 0.01 , y =bottom+20 , s=f\"{round(bottom, 2)}\" ,bbox=dict(boxstyle=\"square, pad=0.03\", fc=\"none\", ec=\"gray\", zorder=0.9, lw=0.5),\n",
    "                         va='baseline', horizontalalignment='center', fontdict=dict(fontsize=12))\n",
    "    \n",
    "            print(f'{security_project}: {bottom}')        \n",
    "        \n",
    "        self.ax.set_xticks(range(len(self.checkpoint_energy.security_projects)) )\n",
    "     ##   self.ax.set_xticklabels([s.replace('_',' ') for s in self.checkpoint_energy.security_projects])\n",
    "        self.ax.set_xticklabels(xLabels, fontdict=dict(fontsize=12))\n",
    "        self.ax.yaxis.set_tick_params(labelsize=12)\n",
    "\n",
    "     #   self.ax.set_xticklabels([\" \".join(s.split('_')[:-1]) for s in self.checkpoint_energy.security_projects])\n",
    "       \n",
    "      #  self.ax.set_yticks( fontdict=dict(fontsize=4))\n",
    "      #  self.ax.legend(handles = [circ1,circ2,circ3, circ4],loc=6, prop={'size': 4})\n",
    "       \n",
    "      #  self.ax.set_yscale('log')\n",
    "\n",
    "       # self.ax.set_xlabel('\\nDifferent AES-Modes execution on AES-Module')\n",
    "        self.ax.set_ylabel('Time [ms]', fontdict=dict(fontsize=12))\n",
    "        self.ax.set_title(f'(c) Security: {security_method} (Software-based)' ,  fontdict=dict(fontsize=12))\n",
    "        self.fig.canvas.set_window_title(f'Time_per_parameter_{security_method}')\n",
    "        self.ax.margins( y= 0.12)\n",
    "        self.ax.yaxis.set_minor_locator(tck.AutoMinorLocator())\n",
    "\n",
    "       # self.ax.set(adjustable=\"datalim\")\n",
    "        #ratio = 0.5\n",
    "        #xleft, xright = self.ax.get_xlim()\n",
    "        #ybottom, ytop = self.ax.get_ylim()\n",
    "        # the abs method is used to make sure that all numbers are positive\n",
    "        # because x and y axis of an axes maybe inversed.\n",
    "        #self.ax.set_aspect(abs((xright-xleft)/(ybottom-ytop))*ratio)\n",
    "        \n",
    "        set_xmargin(self.ax, left=0.05, right=0.11)\n",
    "        #set_size(6.4,12.4, self.ax)\n",
    "        plt.gcf().set_size_inches(5, 7)\n",
    "\n",
    "        self.fig.tight_layout()\n",
    "        \n",
    "        self.fig.savefig(f'Time_per_parameter_{security_method}.pdf', bbox_inches='tight', dpi=1000)\n",
    "        self.fig.savefig(f'Time_per_parameter_{security_method}.svg', bbox_inches='tight', dpi=1000)\n",
    "        self.fig.show()\n",
    "    def anim_func(self, num_bytes, *fargs):\n",
    "        self.update_fig(num_bytes)\n",
    "        return flatten(self.bars)\n",
    "    \n",
    "    def animate(self, frames=range(100, 6001, 100), save=False, *save_args, **save_kwargs):\n",
    "        self.animation = animation.FuncAnimation(self.fig, self.anim_func, blit=True, interval=0,frames=frames ,repeat=False)\n",
    "        if save:\n",
    "            self.animation.save('Charge_per_Security.mp4', *save_args, **save_kwargs)\n",
    "        \n",
    "        \n",
    "def flatten(d, ret=None):\n",
    "    if ret is None:\n",
    "        ret = []\n",
    "    for k, v in sorted(d.items()):\n",
    "        if isinstance(v, dict):\n",
    "            flatten(v, ret)\n",
    "        else:\n",
    "            ret.extend(v.get_children())\n",
    "    return ret"
   ]
  },
  {
   "cell_type": "code",
   "execution_count": 95,
   "metadata": {},
   "outputs": [
    {
     "name": "stdout",
     "output_type": "stream",
     "text": [
      "255\n",
      "255\n",
      "0 : 159.85389973333497\n",
      "0 : 172.32475999999508\n",
      "0 : 88.90289440000032\n",
      "0 : 8.711648000002015\n",
      "AES-256_mbedTLS_library_O1_4Mhz: 429.7932021333324\n",
      "255\n",
      "255\n",
      "1 : 53.19769173333455\n",
      "1 : 57.356235733333705\n",
      "1 : 58.27617493333648\n",
      "1 : 2.9041877333320087\n",
      "AES-256_mbedTLS_library_O1_12Mhz: 171.73429013333674\n",
      "255\n",
      "255\n",
      "2 : 159.7901151999963\n",
      "2 : 172.25678293333857\n",
      "2 : 88.56957279999733\n",
      "2 : 8.778567466670495\n",
      "AES-256_mbedTLS_library_O3_4Mhz: 429.3950384000027\n",
      "255\n",
      "255\n",
      "3 : 51.28151519999946\n",
      "3 : 54.714070399999315\n",
      "3 : 55.90276426666918\n",
      "3 : 2.7061749333334717\n",
      "AES-256_mbedTLS_library_O3_12Mhz: 164.60452480000143\n"
     ]
    }
   ],
   "source": [
    "#Security Time Pass same parameters\n",
    "security_plotter = SecurityPlotter(checkpoint_energy, show=1, use_model=False)"
   ]
  },
  {
   "cell_type": "code",
   "execution_count": null,
   "metadata": {},
   "outputs": [],
   "source": []
  }
 ],
 "metadata": {
  "kernelspec": {
   "display_name": "Python 3",
   "language": "python",
   "name": "python3"
  },
  "language_info": {
   "codemirror_mode": {
    "name": "ipython",
    "version": 3
   },
   "file_extension": ".py",
   "mimetype": "text/x-python",
   "name": "python",
   "nbconvert_exporter": "python",
   "pygments_lexer": "ipython3",
   "version": "3.8.1"
  }
 },
 "nbformat": 4,
 "nbformat_minor": 4
}

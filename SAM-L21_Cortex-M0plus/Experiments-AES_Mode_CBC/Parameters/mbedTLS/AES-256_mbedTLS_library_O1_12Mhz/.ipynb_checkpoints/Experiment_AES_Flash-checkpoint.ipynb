{
 "cells": [
  {
   "cell_type": "markdown",
   "metadata": {},
   "source": [
    "## Import Libraries"
   ]
  },
  {
   "cell_type": "code",
   "execution_count": 1,
   "metadata": {},
   "outputs": [],
   "source": [
    "# %matplotlib ipympl\n",
    "# %matplotlib inline\n",
    "%matplotlib wx"
   ]
  },
  {
   "cell_type": "code",
   "execution_count": 2,
   "metadata": {},
   "outputs": [],
   "source": [
    "import matplotlib.pyplot as plt\n",
    "plt.ion()"
   ]
  },
  {
   "cell_type": "code",
   "execution_count": 3,
   "metadata": {},
   "outputs": [],
   "source": [
    "from pydgilib_extra import *\n",
    "from atprogram import atprogram"
   ]
  },
  {
   "cell_type": "code",
   "execution_count": 4,
   "metadata": {},
   "outputs": [],
   "source": [
    "from os import getcwd, path, pardir\n",
    "import pickle"
   ]
  },
  {
   "cell_type": "markdown",
   "metadata": {},
   "source": [
    "## Compile and program project"
   ]
  },
  {
   "cell_type": "code",
   "execution_count": 5,
   "metadata": {},
   "outputs": [
    {
     "data": {
      "text/plain": [
       "['.', '/', 'AES-256_ Crypto-Accelerator']"
      ]
     },
     "execution_count": 5,
     "metadata": {},
     "output_type": "execute_result"
    }
   ],
   "source": [
    "project_path = path.curdir + \"/\" + \"AES-256_mbedTLS_library\"\n",
    "project_name =  \"AES-256_mbedTLS_library\"\n",
    "device_name = \"ATSAML21J18B\"\n",
    "project_path"
   ]
  },
  {
   "cell_type": "code",
   "execution_count": 7,
   "metadata": {},
   "outputs": [
    {
     "name": "stdout",
     "output_type": "stream",
     "text": [
      "make: Nothing to be done for 'all'.\n",
      "\n",
      "[DEBUG] Starting execution of \"chiperase\"\n",
      "[DEBUG] Starting process 'C:\\Program Files (x86)\\Atmel\\Studio\\7.0\\atbackend\\atbackend.exe'\n",
      "[DEBUG] Connecting to TCP:127.0.0.1:61877\n",
      "[INFO] Connected to edbg, fw version: 3.25\n",
      "[INFO] Firmware check OK\n",
      "[DEBUG] Command \"chiperase\" finished with return code 0\n",
      "[DEBUG] Starting execution of \"program\"\n",
      "[DEBUG] Memory segment base written at 0x00000000. Size = 0x00004280.\n",
      "[DEBUG] Memory segment base written at 0x00004280. Size = 0x00000088.\n",
      "[DEBUG] Command \"program\" finished with return code 0\n",
      "[DEBUG] Starting execution of \"info\"\n",
      "[ERROR] Error in TCF lockbit format. Missed key Could not get Module LOCKBIT for ATSAML21J18B. (TCF Error code: 131120)\n",
      "[DEBUG] Command \"info\" finished with return code 0\n",
      "[DEBUG] Exit successfully.\n",
      "Firmware check OK\n",
      "Chiperase completed successfully\n",
      "Programming completed successfully.\n",
      "Tool edbg has firmware version: 03.25\n",
      "Target voltage: 3.31 V\n",
      "\n",
      "Device information:\n",
      "\n",
      "Name:       ATSAML21J18B  \n",
      "JtagId:     N/A           \n",
      "Revision:   C             \n",
      "Chip ID:    0x1081020f\n",
      "CPU arch.:  CORTEX-M0PLUS \n",
      "Series:     SAML21\n",
      "\n",
      "Memory Information:\n",
      "\n",
      "Address Space    StartAddress            Size\n",
      "\n",
      "base                      0x0     0x100000000\n",
      "  FLASH                   0x0         0x40000\n",
      "  CAL                0x800000             0x8\n",
      "  LOCKBIT            0x802000             0x4\n",
      "  AUX0               0x804000           0x100\n",
      "  AUX1               0x806000           0x100\n",
      "  RWW                0x400000          0x2000\n",
      "  HSRAM            0x20000000          0x8000\n",
      "  LPRAM            0x30000000          0x2000\n",
      "  HPB0             0x40000000          0x4000\n",
      "  HPB1             0x41000000         0x10000\n",
      "  HPB2             0x42000000          0x8000\n",
      "  HPB3             0x43000000          0x2000\n",
      "  HPB4             0x44000000          0x1000\n",
      "  PPB              0xe0000000        0x100000\n",
      "  SCS              0xe000e000          0x1000\n",
      "  PERIPHERALS      0x40000000      0x20000000\n",
      "\n",
      "fuses                     0x0      0x20000000\n",
      "\n",
      "OTP5_WORD_0 (0b01110111011001010010110110111111 <-> 0x77652dbf):\n",
      "   USB_TRIM      0x6\n",
      "   USB_TRANSP    0x19\n",
      "   USB_TRANSN    0x9\n",
      "   ADC_BIASCOMP  0x7\n",
      "   ADC_BIASREFBUF 0x7\n",
      "\n",
      "TEMP_LOG_WORD_1 (0b11010101010010111000100111111001 <-> 0xd54b89f9):\n",
      "   HOT_ADC_VAL   0xd54\n",
      "   ROOM_ADC_VAL  0xb89\n",
      "   HOT_INT1V_VAL 0xf9\n",
      "\n",
      "TEMP_LOG_WORD_0 (0b11111011100101010100100000011101 <-> 0xfb95481d):\n",
      "   ROOM_INT1V_VAL 0xfb\n",
      "   HOT_TEMP_VAL_DEC 0x9\n",
      "   HOT_TEMP_VAL_INT 0x54\n",
      "   ROOM_TEMP_VAL_DEC 0x8\n",
      "   ROOM_TEMP_VAL_INT 0x1d\n",
      "\n",
      "USER_WORD_1 (0b11111111111111111111100010111011 <-> 0xfffff8bb):\n",
      "   NVMCTRL_REGION_LOCKS 0xffff\n",
      "   BOD12_HYST    0\n",
      "   BOD33_HYST    0\n",
      "   WDT_WEN       0\n",
      "   WDT_EWOFFSET  0xb\n",
      "   WDT_WINDOW    0xb\n",
      "\n",
      "USER_WORD_0 (0b10110001000111101000011011111111 <-> 0xb11e86ff):\n",
      "   WDT_PER       0xb\n",
      "   WDT_ALWAYSON  0\n",
      "   WDT_ENABLE    0\n",
      "   BOD12_DIS     0\n",
      "   BOD33_ACTION  0x1\n",
      "   BOD33_DIS     0\n",
      "   BOD33USERLEVEL 0x6\n",
      "   NVMCTRL_EEPROM_SIZE 0x7\n",
      "   NVMCTRL_BOOTPROT 0x7\n",
      "\n",
      "\n"
     ]
    },
    {
     "data": {
      "text/plain": [
       "0"
      ]
     },
     "execution_count": 7,
     "metadata": {},
     "output_type": "execute_result"
    }
   ],
   "source": [
    "atprogram.atprogram(project_name, device_name = device_name ,verbose=3)"
   ]
  },
  {
   "cell_type": "code",
   "execution_count": 8,
   "metadata": {},
   "outputs": [],
   "source": [
    "#atprogram(path.abspath(path.join(*project_path)), verbose=2)"
   ]
  },
  {
   "cell_type": "code",
   "execution_count": 10,
   "metadata": {},
   "outputs": [
    {
     "name": "stdout",
     "output_type": "stream",
     "text": [
      "{'text': 17024, 'data': 136, 'bss': 8832, 'dec': 25992, 'hex': 25992, 'filename': 'AES-256_mbedTLS_library.elf'}\n"
     ]
    },
    {
     "data": {
      "text/plain": [
       "{'text': 17024,\n",
       " 'data': 136,\n",
       " 'bss': 8832,\n",
       " 'dec': 25992,\n",
       " 'hex': 25992,\n",
       " 'filename': 'AES-256_mbedTLS_library.elf'}"
      ]
     },
     "execution_count": 10,
     "metadata": {},
     "output_type": "execute_result"
    }
   ],
   "source": [
    "atprogram.get_project_size(project_name, device_name = device_name, verbose=2)"
   ]
  },
  {
   "cell_type": "code",
   "execution_count": null,
   "metadata": {},
   "outputs": [],
   "source": []
  },
  {
   "cell_type": "markdown",
   "metadata": {},
   "source": [
    "## Data Logging"
   ]
  },
  {
   "cell_type": "code",
   "execution_count": 11,
   "metadata": {},
   "outputs": [],
   "source": [
    "live_plot = False"
   ]
  },
  {
   "cell_type": "markdown",
   "metadata": {},
   "source": [
    "Create a figure for the plot."
   ]
  },
  {
   "cell_type": "code",
   "execution_count": 12,
   "metadata": {},
   "outputs": [],
   "source": [
    "if live_plot:\n",
    "    fig = plt.figure(figsize=(10, 6))\n",
    "    fig.show()"
   ]
  },
  {
   "cell_type": "markdown",
   "metadata": {},
   "source": [
    "Create the configuration dictionary for `DGILibExtra`."
   ]
  },
  {
   "cell_type": "code",
   "execution_count": 13,
   "metadata": {},
   "outputs": [],
   "source": [
    "config_dict = {\n",
    "    \"loggers\": [LOGGER_OBJECT, LOGGER_CSV],\n",
    "    \"file_name_base\": \"experiment_aes_flash\"\n",
    "}\n",
    "config_dict_plot = {\n",
    "    \"loggers\": [LOGGER_OBJECT, LOGGER_PLOT, LOGGER_CSV],\n",
    "    \"plot_pins\": [False, False, True, True],\n",
    "    \"plot_pins_method\": \"line\",\n",
    "    \"plot_xmax\": 5,\n",
    "    \"window_title\": \"Experiment AES-128 Flash\",\n",
    "}"
   ]
  },
  {
   "cell_type": "markdown",
   "metadata": {},
   "source": [
    "Stop criteria to pass to the logger:"
   ]
  },
  {
   "cell_type": "code",
   "execution_count": 14,
   "metadata": {},
   "outputs": [],
   "source": [
    "def stop_fn(logger_data):\n",
    "    return all(logger_data.gpio.values[-1])"
   ]
  },
  {
   "cell_type": "code",
   "execution_count": 15,
   "metadata": {},
   "outputs": [],
   "source": [
    "#with DGILib() as dgilib:\n",
    "#     dgilib.get_major_version()"
   ]
  },
  {
   "cell_type": "markdown",
   "metadata": {},
   "source": [
    "Perform the measurement."
   ]
  },
  {
   "cell_type": "code",
   "execution_count": 16,
   "metadata": {},
   "outputs": [
    {
     "name": "stdout",
     "output_type": "stream",
     "text": [
      "1\n"
     ]
    }
   ],
   "source": [
    "data = []\n",
    "cd = config_dict.copy()\n",
    "if live_plot:\n",
    "    fig.clf()\n",
    "    for ax in fig.get_axes():\n",
    "        ax.cla()\n",
    "    \n",
    "    cd.update(config_dict_plot)\n",
    "    cd[\"fig\"] = fig\n",
    "    \n",
    "with DGILibExtra(**cd) as dgilib:\n",
    "    dgilib.device_reset()\n",
    "    dgilib.logger.log(1000,stop_fn)\n",
    "    data = dgilib.data"
   ]
  },
  {
   "cell_type": "code",
   "execution_count": 17,
   "metadata": {},
   "outputs": [
    {
     "data": {
      "text/plain": [
       "{48: 6149, 256: 2036000}"
      ]
     },
     "execution_count": 17,
     "metadata": {},
     "output_type": "execute_result"
    }
   ],
   "source": [
    "data.length()"
   ]
  },
  {
   "cell_type": "code",
   "execution_count": 18,
   "metadata": {},
   "outputs": [
    {
     "name": "stdout",
     "output_type": "stream",
     "text": [
      "Interfaces:\n",
      "\t  48:   gpio,    samples:    6149\n",
      "\t 256:   power,   samples: 2036000\n",
      "\n"
     ]
    }
   ],
   "source": [
    "print(data)"
   ]
  },
  {
   "cell_type": "markdown",
   "metadata": {},
   "source": [
    "# Store Data"
   ]
  },
  {
   "cell_type": "code",
   "execution_count": 19,
   "metadata": {},
   "outputs": [],
   "source": [
    "import pickle"
   ]
  },
  {
   "cell_type": "code",
   "execution_count": 20,
   "metadata": {},
   "outputs": [],
   "source": [
    "pickle.dump(data, open(\"aes_flash_logger_data.p\", \"wb\"))"
   ]
  },
  {
   "cell_type": "markdown",
   "metadata": {},
   "source": [
    "# Load Data"
   ]
  },
  {
   "cell_type": "code",
   "execution_count": 21,
   "metadata": {},
   "outputs": [],
   "source": [
    "data = pickle.load(open(\"aes_flash_logger_data.p\", \"rb\"))"
   ]
  },
  {
   "cell_type": "code",
   "execution_count": 22,
   "metadata": {},
   "outputs": [],
   "source": [
    "#iteration = 0\n",
    "#name = \"AES-128_Flash\"\n",
    "#data = pickle.load(open(path.join(path.pardir, path.pardir, f\"{name}_{iteration}.p\"), \"rb\"))"
   ]
  },
  {
   "cell_type": "markdown",
   "metadata": {},
   "source": [
    "## Analysis"
   ]
  },
  {
   "cell_type": "markdown",
   "metadata": {},
   "source": [
    "Create Stop Function to stop parsing the data when all pins are high."
   ]
  },
  {
   "cell_type": "code",
   "execution_count": 23,
   "metadata": {},
   "outputs": [],
   "source": [
    "def stop_function(pin_values):\n",
    "    return all(pin_values)"
   ]
  },
  {
   "cell_type": "markdown",
   "metadata": {},
   "source": [
    "Parse the data."
   ]
  },
  {
   "cell_type": "code",
   "execution_count": 24,
   "metadata": {},
   "outputs": [],
   "source": [
    "aes_charge, aes_time = power_and_time_per_pulse(data, 2, stop_function=stop_function)"
   ]
  },
  {
   "cell_type": "code",
   "execution_count": 25,
   "metadata": {},
   "outputs": [],
   "source": [
    "flash_charge, flash_time = power_and_time_per_pulse(data, 3, stop_function=stop_function)"
   ]
  },
  {
   "cell_type": "code",
   "execution_count": 26,
   "metadata": {},
   "outputs": [
    {
     "name": "stdout",
     "output_type": "stream",
     "text": [
      "768 768 768 768\n"
     ]
    }
   ],
   "source": [
    "print(len(aes_charge), len(aes_time), len(flash_charge), len(flash_time))\n",
    "# cutoff = min(len(aes_charge), len(aes_time), len(flash_charge), len(flash_time))\n",
    "# aes_charge = aes_charge[:cutoff]\n",
    "# aes_time = aes_time[:cutoff]\n",
    "# flash_charge = flash_charge[:cutoff]\n",
    "# flash_time = flash_time[:cutoff]"
   ]
  },
  {
   "cell_type": "code",
   "execution_count": 27,
   "metadata": {},
   "outputs": [],
   "source": [
    "# length = len(aes_charge)\n",
    "# assert length == len(aes_time)\n",
    "# assert length == len(flash_charge)\n",
    "# assert length == len(flash_time)\n",
    "# print(length)"
   ]
  },
  {
   "cell_type": "code",
   "execution_count": 28,
   "metadata": {},
   "outputs": [],
   "source": [
    "aes_encrypt_charge = aes_charge[0::2]\n",
    "aes_decrypt_charge = aes_charge[1::2]\n",
    "aes_encrypt_time = aes_time[0::2]\n",
    "aes_decrypt_time = aes_time[1::2]"
   ]
  },
  {
   "cell_type": "code",
   "execution_count": 29,
   "metadata": {},
   "outputs": [],
   "source": [
    "aes_flash_write_charge = flash_charge[0::2]\n",
    "aes_flash_read_charge = flash_charge[1::2]\n",
    "aes_flash_write_time = flash_time[0::2]\n",
    "aes_flash_read_time = flash_time[1::2]"
   ]
  },
  {
   "cell_type": "code",
   "execution_count": 30,
   "metadata": {},
   "outputs": [
    {
     "data": {
      "text/plain": [
       "(384, 384, 384, 384, 384, 384, 384, 384)"
      ]
     },
     "execution_count": 30,
     "metadata": {},
     "output_type": "execute_result"
    }
   ],
   "source": [
    "len(aes_encrypt_charge), len(aes_decrypt_charge), len(aes_encrypt_time), len(aes_decrypt_time), len(aes_flash_write_charge), len(aes_flash_read_charge), len(aes_flash_write_time), len(aes_flash_read_time)"
   ]
  },
  {
   "cell_type": "code",
   "execution_count": 31,
   "metadata": {},
   "outputs": [],
   "source": [
    "drop = 0\n",
    "cutoff = min(len(aes_encrypt_charge), len(aes_decrypt_charge), len(aes_encrypt_time), len(aes_decrypt_time), len(aes_flash_write_charge), len(aes_flash_read_charge), len(aes_flash_write_time), len(aes_flash_read_time)) - drop\n",
    "aes_encrypt_charge = aes_encrypt_charge[:cutoff]\n",
    "aes_decrypt_charge = aes_decrypt_charge[:cutoff]\n",
    "aes_encrypt_time = aes_encrypt_time[:cutoff]\n",
    "aes_decrypt_time = aes_decrypt_time[:cutoff]\n",
    "aes_flash_write_charge = aes_flash_write_charge[:cutoff]\n",
    "aes_flash_read_charge = aes_flash_read_charge[:cutoff]\n",
    "aes_flash_write_time = aes_flash_write_time[:cutoff]\n",
    "aes_flash_read_time = aes_flash_read_time[:cutoff]"
   ]
  },
  {
   "cell_type": "code",
   "execution_count": 32,
   "metadata": {},
   "outputs": [
    {
     "name": "stdout",
     "output_type": "stream",
     "text": [
      "384\n"
     ]
    }
   ],
   "source": [
    "length = len(aes_encrypt_charge)\n",
    "assert length == len(aes_decrypt_charge)\n",
    "assert length == len(aes_encrypt_time)\n",
    "assert length == len(aes_decrypt_time)\n",
    "assert length == len(aes_flash_write_charge)\n",
    "assert length == len(aes_flash_read_charge)\n",
    "assert length == len(aes_flash_write_time)\n",
    "assert length == len(aes_flash_read_time)\n",
    "print(length)"
   ]
  },
  {
   "cell_type": "markdown",
   "metadata": {},
   "source": [
    "# Convert to Joule"
   ]
  },
  {
   "cell_type": "code",
   "execution_count": 33,
   "metadata": {},
   "outputs": [],
   "source": [
    "voltage = 3.31\n",
    "j_scale = 1e3 # m\n",
    "t_scale = 1e3 # m\n",
    "model_j_scale = 1e6 # n\n",
    "model_t_scale = 1e3 # u\n",
    "\n",
    "experiment_name = project_name"
   ]
  },
  {
   "cell_type": "code",
   "execution_count": 34,
   "metadata": {},
   "outputs": [],
   "source": [
    "aes_encrypt_energy = aes_encrypt_charge[:cutoff]\n",
    "aes_flash_write_energy = aes_flash_write_charge[:cutoff]\n",
    "aes_flash_read_energy = aes_flash_read_charge[:cutoff]\n",
    "aes_decrypt_energy = aes_decrypt_charge[:cutoff]\n",
    "aes_encrypt_time_s = aes_encrypt_time[:cutoff]\n",
    "aes_flash_write_time_s = aes_flash_write_time[:cutoff]\n",
    "aes_flash_read_time_s = aes_flash_read_time[:cutoff]\n",
    "aes_decrypt_time_s = aes_decrypt_time[:cutoff]\n",
    "\n",
    "for i in range(len(aes_encrypt_energy)):\n",
    "    aes_encrypt_energy[i] = aes_encrypt_energy[i] * voltage * j_scale\n",
    "for i in range(len(aes_flash_write_energy)):\n",
    "    aes_flash_write_energy[i] = aes_flash_write_energy[i] * voltage * j_scale\n",
    "for i in range(len(aes_flash_read_energy)):\n",
    "    aes_flash_read_energy[i] = aes_flash_read_energy[i] * voltage * j_scale\n",
    "for i in range(len(aes_decrypt_energy)):\n",
    "    aes_decrypt_energy[i] = aes_decrypt_energy[i] * voltage * j_scale\n",
    "    \n",
    "for i in range(len(aes_encrypt_time_s)):\n",
    "    aes_encrypt_time_s[i] = aes_encrypt_time_s[i] * t_scale\n",
    "for i in range(len(aes_flash_write_time_s)):\n",
    "    aes_flash_write_time_s[i] = aes_flash_write_time_s[i] * t_scale\n",
    "for i in range(len(aes_flash_read_time_s)):\n",
    "    aes_flash_read_time_s[i] = aes_flash_read_time_s[i] * t_scale\n",
    "for i in range(len(aes_decrypt_time_s)):\n",
    "    aes_decrypt_time_s[i] = aes_decrypt_time_s[i] * t_scale"
   ]
  },
  {
   "cell_type": "code",
   "execution_count": 35,
   "metadata": {},
   "outputs": [
    {
     "name": "stdout",
     "output_type": "stream",
     "text": [
      "MAX_NUM_BYTES: 6144\n"
     ]
    }
   ],
   "source": [
    "MBEDTLS_AES_BLOCK_SIZE = 16\n",
    "STEP_SIZE = MBEDTLS_AES_BLOCK_SIZE\n",
    "MIN_NUM_BYTES = STEP_SIZE\n",
    "num_bytes = range(MIN_NUM_BYTES, MIN_NUM_BYTES + STEP_SIZE * len(aes_encrypt_energy), STEP_SIZE)\n",
    "print(f\"MAX_NUM_BYTES: {num_bytes[-1]}\")"
   ]
  },
  {
   "cell_type": "code",
   "execution_count": 36,
   "metadata": {},
   "outputs": [],
   "source": [
    "from lmfit import Model\n",
    "\n",
    "def line(x, slope, intercept):\n",
    "    \"\"\"a line\"\"\"\n",
    "    return [slope*i + intercept for i in x]\n",
    "\n",
    "mod = Model(line)\n",
    "pars = mod.make_params(slope=0, intercept=1)\n",
    "# pars['intercept'].set(min=0)"
   ]
  },
  {
   "cell_type": "code",
   "execution_count": 37,
   "metadata": {},
   "outputs": [
    {
     "name": "stdout",
     "output_type": "stream",
     "text": [
      "[[Model]]\n",
      "    Model(line)\n",
      "[[Fit Statistics]]\n",
      "    # fitting method   = leastsq\n",
      "    # function evals   = 7\n",
      "    # data points      = 384\n",
      "    # variables        = 2\n",
      "    chi-square         = 2.3366e-05\n",
      "    reduced chi-square = 6.1168e-08\n",
      "    Akaike info crit   = -6376.10912\n",
      "    Bayesian info crit = -6368.20783\n",
      "[[Variables]]\n",
      "    slope:      8.9859e-05 +/- 7.1160e-09 (0.01%) (init = 0)\n",
      "    intercept: -1.7725e-04 +/- 2.5291e-05 (14.27%) (init = 1)\n",
      "[[Correlations]] (unreported correlations are < 0.100)\n",
      "    C(slope, intercept) = -0.867\n",
      "[[Model]]\n",
      "    Model(line)\n",
      "[[Fit Statistics]]\n",
      "    # fitting method   = leastsq\n",
      "    # function evals   = 6\n",
      "    # data points      = 384\n",
      "    # variables        = 2\n",
      "    chi-square         = 0.01970136\n",
      "    reduced chi-square = 5.1574e-05\n",
      "    Akaike info crit   = -3789.04065\n",
      "    Bayesian info crit = -3781.13937\n",
      "[[Variables]]\n",
      "    slope:      1.0946e-04 +/- 2.0663e-07 (0.19%) (init = 0)\n",
      "    intercept:  0.01593344 +/- 7.3439e-04 (4.61%) (init = 1)\n",
      "[[Correlations]] (unreported correlations are < 0.100)\n",
      "    C(slope, intercept) = -0.867\n",
      "[[Model]]\n",
      "    Model(line)\n",
      "[[Fit Statistics]]\n",
      "    # fitting method   = leastsq\n",
      "    # function evals   = 7\n",
      "    # data points      = 384\n",
      "    # variables        = 2\n",
      "    chi-square         = 8.7141e-07\n",
      "    reduced chi-square = 2.2812e-09\n",
      "    Akaike info crit   = -7639.05853\n",
      "    Bayesian info crit = -7631.15724\n",
      "[[Variables]]\n",
      "    slope:      3.3536e-06 +/- 1.3742e-09 (0.04%) (init = 0)\n",
      "    intercept:  2.8791e-06 +/- 4.8841e-06 (169.64%) (init = 1)\n",
      "[[Correlations]] (unreported correlations are < 0.100)\n",
      "    C(slope, intercept) = -0.867\n",
      "[[Model]]\n",
      "    Model(line)\n",
      "[[Fit Statistics]]\n",
      "    # fitting method   = leastsq\n",
      "    # function evals   = 7\n",
      "    # data points      = 384\n",
      "    # variables        = 2\n",
      "    chi-square         = 7.0168e-05\n",
      "    reduced chi-square = 1.8369e-07\n",
      "    Akaike info crit   = -5953.85963\n",
      "    Bayesian info crit = -5945.95835\n",
      "[[Variables]]\n",
      "    slope:      9.4118e-05 +/- 1.2331e-08 (0.01%) (init = 0)\n",
      "    intercept:  2.5129e-04 +/- 4.3828e-05 (17.44%) (init = 1)\n",
      "[[Correlations]] (unreported correlations are < 0.100)\n",
      "    C(slope, intercept) = -0.867\n",
      "[[Model]]\n",
      "    Model(line)\n",
      "[[Fit Statistics]]\n",
      "    # fitting method   = leastsq\n",
      "    # function evals   = 10\n",
      "    # data points      = 384\n",
      "    # variables        = 2\n",
      "    chi-square         = 0.41711784\n",
      "    reduced chi-square = 0.00109193\n",
      "    Akaike info crit   = -2616.81116\n",
      "    Bayesian info crit = -2608.90987\n",
      "[[Variables]]\n",
      "    slope:      0.03896679 +/- 9.5083e-07 (0.00%) (init = 0)\n",
      "    intercept:  0.01946866 +/- 0.00337929 (17.36%) (init = 1)\n",
      "[[Correlations]] (unreported correlations are < 0.100)\n",
      "    C(slope, intercept) = -0.867\n",
      "[[Model]]\n",
      "    Model(line)\n",
      "[[Fit Statistics]]\n",
      "    # fitting method   = leastsq\n",
      "    # function evals   = 6\n",
      "    # data points      = 384\n",
      "    # variables        = 2\n",
      "    chi-square         = 475.582613\n",
      "    reduced chi-square = 1.24498066\n",
      "    Akaike info crit   = 86.1368527\n",
      "    Bayesian info crit = 94.0381378\n",
      "[[Variables]]\n",
      "    slope:      0.02086208 +/- 3.2104e-05 (0.15%) (init = 0)\n",
      "    intercept:  2.22190680 +/- 0.11410233 (5.14%) (init = 1)\n",
      "[[Correlations]] (unreported correlations are < 0.100)\n",
      "    C(slope, intercept) = -0.867\n",
      "[[Model]]\n",
      "    Model(line)\n",
      "[[Fit Statistics]]\n",
      "    # fitting method   = leastsq\n",
      "    # function evals   = 6\n",
      "    # data points      = 384\n",
      "    # variables        = 2\n",
      "    chi-square         = 0.30421785\n",
      "    reduced chi-square = 7.9638e-04\n",
      "    Akaike info crit   = -2738.01105\n",
      "    Bayesian info crit = -2730.10976\n",
      "[[Variables]]\n",
      "    slope:      0.00212382 +/- 8.1196e-07 (0.04%) (init = 0)\n",
      "    intercept:  0.02720406 +/- 0.00288585 (10.61%) (init = 1)\n",
      "[[Correlations]] (unreported correlations are < 0.100)\n",
      "    C(slope, intercept) = -0.867\n",
      "[[Model]]\n",
      "    Model(line)\n",
      "[[Fit Statistics]]\n",
      "    # fitting method   = leastsq\n",
      "    # function evals   = 10\n",
      "    # data points      = 384\n",
      "    # variables        = 2\n",
      "    chi-square         = 0.47284875\n",
      "    reduced chi-square = 0.00123782\n",
      "    Akaike info crit   = -2568.65495\n",
      "    Bayesian info crit = -2560.75366\n",
      "[[Variables]]\n",
      "    slope:      0.04201406 +/- 1.0123e-06 (0.00%) (init = 0)\n",
      "    intercept:  0.01589579 +/- 0.00359784 (22.63%) (init = 1)\n",
      "[[Correlations]] (unreported correlations are < 0.100)\n",
      "    C(slope, intercept) = -0.867\n",
      "[[Model]]\n",
      "    Model(line)\n",
      "[[Fit Statistics]]\n",
      "    # fitting method   = leastsq\n",
      "    # function evals   = 6\n",
      "    # data points      = 384\n",
      "    # variables        = 2\n",
      "    chi-square         = 0.01989654\n",
      "    reduced chi-square = 5.2085e-05\n",
      "    Akaike info crit   = -3785.25526\n",
      "    Bayesian info crit = -3777.35397\n",
      "[[Variables]]\n",
      "    slope:      2.9679e-04 +/- 2.0765e-07 (0.07%) (init = 0)\n",
      "    intercept:  0.01601036 +/- 7.3802e-04 (4.61%) (init = 1)\n",
      "[[Correlations]] (unreported correlations are < 0.100)\n",
      "    C(slope, intercept) = -0.867\n",
      "[[Model]]\n",
      "    Model(line)\n",
      "[[Fit Statistics]]\n",
      "    # fitting method   = leastsq\n",
      "    # function evals   = 13\n",
      "    # data points      = 384\n",
      "    # variables        = 2\n",
      "    chi-square         = 468.240188\n",
      "    reduced chi-square = 1.22575965\n",
      "    Akaike info crit   = 80.1621119\n",
      "    Bayesian info crit = 88.0633970\n",
      "[[Variables]]\n",
      "    slope:      0.10396675 +/- 3.1855e-05 (0.03%) (init = 0)\n",
      "    intercept:  2.28447530 +/- 0.11321816 (4.96%) (init = 1)\n",
      "[[Correlations]] (unreported correlations are < 0.100)\n",
      "    C(slope, intercept) = -0.867\n"
     ]
    }
   ],
   "source": [
    "results = []\n",
    "ylabels = (['Energy [mJ]'] * 2 + ['Time [ms]'] * 2) * 2 + ['Energy [mJ]'] + ['Time [ms]']\n",
    "parameter_names = [\n",
    "    'Encrypt Energy',\n",
    "    'Flash Write Energy',\n",
    "    'Flash Read Energy',\n",
    "    'Decrypt Energy',\n",
    "    'Encrypt Time',\n",
    "    'Flash Write Time',\n",
    "    'Flash Read Time',\n",
    "    'Decrypt Time',\n",
    "    'Total Energy',\n",
    "    'Total Time',\n",
    "]\n",
    "for y in [aes_encrypt_energy, aes_flash_write_energy, aes_flash_read_energy, aes_decrypt_energy, aes_encrypt_time_s, aes_flash_write_time_s, aes_flash_read_time_s, aes_decrypt_time_s,\n",
    "          [e + w + r + d for (e,w,r,d) in zip(aes_encrypt_energy, aes_flash_write_energy, aes_flash_read_energy, aes_decrypt_energy)],\n",
    "          [e + w + r + d for (e,w,r,d) in zip(aes_encrypt_time_s, aes_flash_write_time_s, aes_flash_read_time_s, aes_decrypt_time_s)]]:\n",
    "    result = mod.fit(y, pars, x=num_bytes)\n",
    "    print(result.fit_report())\n",
    "    fig, grid = result.plot(\n",
    "        xlabel='Checkpoint Size [Bytes]',\n",
    "        ylabel=ylabels[len(results)])\n",
    "    fig.tight_layout(rect=(0.05, 0.05, 1, 1))\n",
    "    fig.set_size_inches(5, 4.5, forward=True)\n",
    "    fig.canvas.set_window_title(\n",
    "        f\"Residuals of {experiment_name} {parameter_names[len(results)]}\")\n",
    "    fig.savefig( f\"Residuals of {experiment_name} {parameter_names[len(results)]}\")\n",
    "    fig.show()\n",
    "    results.append(result)"
   ]
  },
  {
   "cell_type": "code",
   "execution_count": 38,
   "metadata": {},
   "outputs": [],
   "source": [
    "fig2 = plt.figure(figsize=(8, 6))\n",
    "fig2.canvas.set_window_title(f\"Analysis {experiment_name}\")"
   ]
  },
  {
   "cell_type": "code",
   "execution_count": 39,
   "metadata": {},
   "outputs": [],
   "source": [
    "charge_color = 'r'\n",
    "time_color = 'b'"
   ]
  },
  {
   "cell_type": "code",
   "execution_count": 40,
   "metadata": {},
   "outputs": [],
   "source": [
    "fig2.clf()\n",
    "# fig2.suptitle(\"Energy analysis of AES\")\n",
    "ax1 = fig2.add_subplot(1, 1, 1)\n",
    "ax2 = ax1.twinx()\n",
    "ax1.set_xlabel('Checkpoint Size [Bytes]')\n",
    "ax1.set_ylabel('Energy [mJ]', color=charge_color)\n",
    "ax2.set_ylabel('Time [ms]', color=time_color)\n",
    "ax1.tick_params('y', colors=charge_color)\n",
    "ax2.tick_params('y', colors=time_color)"
   ]
  },
  {
   "cell_type": "code",
   "execution_count": 41,
   "metadata": {},
   "outputs": [],
   "source": [
    "lines = []\n",
    "lines += ax1.plot(num_bytes, aes_encrypt_energy, charge_color+'-', label=f'{parameter_names[len(lines)]}')\n",
    "lines += ax1.plot(num_bytes, aes_flash_write_energy, charge_color+'-.', label=f'{parameter_names[len(lines)]}')\n",
    "lines += ax1.plot(num_bytes, aes_flash_read_energy, charge_color+':', label=f'{parameter_names[len(lines)]}')\n",
    "lines += ax1.plot(num_bytes, aes_decrypt_energy, charge_color+'--', label=f'{parameter_names[len(lines)]}')\n",
    "lines += ax2.plot(num_bytes, aes_encrypt_time_s, time_color+'-', label=f'{parameter_names[len(lines)]}')\n",
    "lines += ax2.plot(num_bytes, aes_flash_write_time_s, time_color+'-.', label=f'{parameter_names[len(lines)]}')\n",
    "lines += ax2.plot(num_bytes, aes_flash_read_time_s, time_color+':', label=f'{parameter_names[len(lines)]}')\n",
    "lines += ax2.plot(num_bytes, aes_decrypt_time_s, time_color+'--', label=f'{parameter_names[len(lines)]}')\n",
    "ax1.legend(handles=lines)\n",
    "ax1.set_title(\n",
    "    f\"{parameter_names[0]}: Slope {results[0].params['slope'].value * model_j_scale:.04} nJ/B, Intercept {results[0].params['intercept'].value * model_j_scale:.04} nJ\\n\" +\n",
    "    f\"{parameter_names[1]}: Slope {results[1].params['slope'].value * model_j_scale:.04} nJ/B, Intercept {results[1].params['intercept'].value * model_j_scale:.04} nJ\\n\" +\n",
    "    f\"{parameter_names[2]}: Slope {results[2].params['slope'].value * model_j_scale:.04} nJ/B, Intercept {results[2].params['intercept'].value * model_j_scale:.04} nJ\\n\" +\n",
    "    f\"{parameter_names[3]}: Slope {results[3].params['slope'].value * model_j_scale:.04} nJ/B, Intercept {results[3].params['intercept'].value * model_j_scale:.04} nJ\\n\" +\n",
    "    f\"{parameter_names[4]}: Slope {results[4].params['slope'].value * model_t_scale:.04} $\\mu$s/B, Intercept {results[4].params['intercept'].value * model_t_scale:.04} $\\mu$s\\n\" +\n",
    "    f\"{parameter_names[5]}: Slope {results[5].params['slope'].value * model_t_scale:.04} $\\mu$s/B, Intercept {results[5].params['intercept'].value * model_t_scale:.04} $\\mu$s\\n\" +\n",
    "    f\"{parameter_names[6]}: Slope {results[6].params['slope'].value * model_t_scale:.04} $\\mu$s/B, Intercept {results[6].params['intercept'].value * model_t_scale:.04} $\\mu$s\\n\" +\n",
    "    f\"{parameter_names[7]}: Slope {results[7].params['slope'].value * model_t_scale:.04} $\\mu$s/B, Intercept {results[7].params['intercept'].value * model_t_scale:.04} $\\mu$s\\n\" +\n",
    "    f\"{parameter_names[8]}: Slope {results[8].params['slope'].value * model_j_scale:.04} nJ/B, Intercept {results[8].params['intercept'].value * model_j_scale:.04} nJ\\n\" +\n",
    "    f\"{parameter_names[9]}: Slope {results[9].params['slope'].value * model_t_scale:.04} $\\mu$s/B, Intercept {results[9].params['intercept'].value * model_t_scale:.04} $\\mu$s\\n\")\n",
    "fig2.tight_layout()\n",
    "fig2.savefig(f\"Analysis {experiment_name}\")\n",
    "fig2.show()"
   ]
  },
  {
   "cell_type": "code",
   "execution_count": 42,
   "metadata": {},
   "outputs": [
    {
     "name": "stdout",
     "output_type": "stream",
     "text": [
      "Encrypt Energy: Slope 89.85884723820770148 nJ/B, Intercept -177.24843180944026244 nJ\n",
      "Flash Write Energy: Slope 109.45633700954456913 nJ/B, Intercept 15933.43937214863945 nJ\n",
      "Flash Read Energy: Slope 3.3536216393029492089 nJ/B, Intercept 2.8790512387466549171 nJ\n",
      "Decrypt Energy: Slope 94.117590939472577816 nJ/B, Intercept 251.28503759275221796 nJ\n",
      "Encrypt Time: Slope 38.966794840782156939 $\\mu$s/B, Intercept 19.468658055767917858 $\\mu$s\n",
      "Flash Write Time: Slope 20.862078238378373385 $\\mu$s/B, Intercept 2221.9068009378929673 $\\mu$s\n",
      "Flash Read Time: Slope 2.12382022773992718 $\\mu$s/B, Intercept 27.20405551753091089 $\\mu$s\n",
      "Decrypt Time: Slope 42.014060888983770781 $\\mu$s/B, Intercept 15.895792516188112842 $\\mu$s\n",
      "Total Energy: Slope 296.78639682652868714 nJ/B, Intercept 16010.355035709466392 nJ\n",
      "Total Time: Slope 103.9667542883414626 $\\mu$s/B, Intercept 2284.4753040579776098 $\\mu$s\n",
      "\n"
     ]
    }
   ],
   "source": [
    "print(\n",
    "    f\"{parameter_names[0]}: Slope {results[0].params['slope'].value * model_j_scale:.020} nJ/B, Intercept {results[0].params['intercept'].value * model_j_scale:.020} nJ\\n\" +\n",
    "    f\"{parameter_names[1]}: Slope {results[1].params['slope'].value * model_j_scale:.020} nJ/B, Intercept {results[1].params['intercept'].value * model_j_scale:.020} nJ\\n\" +\n",
    "    f\"{parameter_names[2]}: Slope {results[2].params['slope'].value * model_j_scale:.020} nJ/B, Intercept {results[2].params['intercept'].value * model_j_scale:.020} nJ\\n\" +\n",
    "    f\"{parameter_names[3]}: Slope {results[3].params['slope'].value * model_j_scale:.020} nJ/B, Intercept {results[3].params['intercept'].value * model_j_scale:.020} nJ\\n\" +\n",
    "    f\"{parameter_names[4]}: Slope {results[4].params['slope'].value * model_t_scale:.020} $\\mu$s/B, Intercept {results[4].params['intercept'].value * model_t_scale:.020} $\\mu$s\\n\" +\n",
    "    f\"{parameter_names[5]}: Slope {results[5].params['slope'].value * model_t_scale:.020} $\\mu$s/B, Intercept {results[5].params['intercept'].value * model_t_scale:.020} $\\mu$s\\n\" +\n",
    "    f\"{parameter_names[6]}: Slope {results[6].params['slope'].value * model_t_scale:.020} $\\mu$s/B, Intercept {results[6].params['intercept'].value * model_t_scale:.020} $\\mu$s\\n\" +\n",
    "    f\"{parameter_names[7]}: Slope {results[7].params['slope'].value * model_t_scale:.020} $\\mu$s/B, Intercept {results[7].params['intercept'].value * model_t_scale:.020} $\\mu$s\\n\" +\n",
    "    f\"{parameter_names[8]}: Slope {results[8].params['slope'].value * model_j_scale:.020} nJ/B, Intercept {results[8].params['intercept'].value * model_j_scale:.020} nJ\\n\" +\n",
    "    f\"{parameter_names[9]}: Slope {results[9].params['slope'].value * model_t_scale:.020} $\\mu$s/B, Intercept {results[9].params['intercept'].value * model_t_scale:.020} $\\mu$s\\n\"\n",
    ")"
   ]
  },
  {
   "cell_type": "code",
   "execution_count": 43,
   "metadata": {},
   "outputs": [],
   "source": [
    "# Save Charge amount list into pickle file\n",
    "import pickle\n",
    "pickle.dump(aes_encrypt_energy, open(\"aes_flash_encrypt_energy_mJ.p\", \"wb\"))\n",
    "pickle.dump(aes_decrypt_energy, open(\"aes_flash_decrypt_energy_mJ.p\", \"wb\"))\n",
    "pickle.dump(aes_flash_write_energy, open(\"aes_flash_write_energy_mJ.p\", \"wb\"))\n",
    "pickle.dump(aes_flash_read_energy, open(\"aes_flash_read_energy_mJ.p\", \"wb\"))\n",
    "pickle.dump(aes_encrypt_time_s, open(\"aes_flash_encrypt_time_ms.p\", \"wb\"))\n",
    "pickle.dump(aes_decrypt_time_s, open(\"aes_flash_decrypt_time_ms.p\", \"wb\"))\n",
    "pickle.dump(aes_flash_write_time_s, open(\"aes_flash_write_time_ms.p\", \"wb\"))\n",
    "pickle.dump(aes_flash_read_time_s, open(\"aes_flash_read_time_ms.p\", \"wb\"))"
   ]
  },
  {
   "cell_type": "code",
   "execution_count": 44,
   "metadata": {},
   "outputs": [
    {
     "name": "stdout",
     "output_type": "stream",
     "text": [
      "384 6144\n",
      "384 6144\n",
      "384 6144\n",
      "384 6144\n",
      "384 6144\n",
      "384 6144\n",
      "384 6144\n",
      "384 6144\n"
     ]
    }
   ],
   "source": [
    "aes = [aes_encrypt_energy, aes_flash_write_energy, aes_flash_read_energy, aes_decrypt_energy, aes_encrypt_time_s, aes_flash_write_time_s, aes_flash_read_time_s, aes_decrypt_time_s]\n",
    "for i in aes:\n",
    "    print(len(i), len(i)*16)"
   ]
  },
  {
   "cell_type": "markdown",
   "metadata": {},
   "source": [
    "## Write config file"
   ]
  },
  {
   "cell_type": "code",
   "execution_count": 45,
   "metadata": {},
   "outputs": [],
   "source": [
    "import json\n",
    "\n",
    "config = {}\n",
    "config[\"name\"] = \"AES-256 Flash\"\n",
    "config[\"project_paths\"] = [project_path]\n",
    "config[\"config_dict\"] = config_dict\n",
    "config[\"config_dict_plot\"] = config_dict_plot\n",
    "config[\"analysis\"] = {\"pins\":{2: [\"AES-256 Encrypt\", \"AES-256 Decrypt\"], 3: [\"AES-256 Flash Write\", \"AES-256 Flash Read\"]}, \n",
    "                      \"result_types\": [\"Charge\", \"Time\"],\n",
    "                      \"section_types\": {\"init\": [], \n",
    "                                        \"store\": [\"AES-256 Encrypt\", \"AES-256 Flash Write\"],\n",
    "                                        \"load\": [\"AES-256 Flash Read\", \"AES-256 Decrypt\"],\n",
    "                                        \"exit\": []},\n",
    "                      \"labels\": {\n",
    "                          \"Charge\": {\"x\":\"Data Size\", \"x_unit\": \"byte\", \"y\": \"Charge\", \"y_unit\": \"C\"},\n",
    "                          \"Time\": {\"x\":\"Data Size\", \"x_unit\": \"byte\", \"y\": \"Time\", \"y_unit\": \"s\"},\n",
    "                      },\n",
    "                      \"x_step\": MBEDTLS_AES_BLOCK_SIZE}\n",
    "\n",
    "with open(\"looped_experiment.json\", 'w') as config_file:  \n",
    "    json.dump(config, config_file, indent=4)"
   ]
  },
  {
   "cell_type": "markdown",
   "metadata": {},
   "source": [
    "# Write model data"
   ]
  },
  {
   "cell_type": "code",
   "execution_count": 46,
   "metadata": {},
   "outputs": [],
   "source": [
    "dump_pickle = True\n",
    "fit_lm = True\n",
    "verbose = 2\n",
    "show_lm_plot = 2\n",
    "# drop = 1"
   ]
  },
  {
   "cell_type": "code",
   "execution_count": 47,
   "metadata": {},
   "outputs": [],
   "source": [
    "# Parse data\n",
    "analysis_config = config.get(\"analysis\")\n",
    "result_types = analysis_config.get(\"result_types\")\n",
    "x_step = analysis_config.get(\"x_step\")\n",
    "parsed_data = {}\n",
    "for pin, parameter_names in analysis_config.get(\"pins\").items():\n",
    "    data2 = power_and_time_per_pulse(\n",
    "        data, int(pin), stop_function=stop_function)\n",
    "    num_names = len(parameter_names)\n",
    "    for i, parameter_name in enumerate(parameter_names):\n",
    "        end_index = -drop * num_names or None\n",
    "        parsed_data[parameter_name] = {\n",
    "            result_types[0]: data2[0][i:end_index:num_names],\n",
    "            result_types[1]: data2[1][i:end_index:num_names],\n",
    "            \"x_step\": x_step}\n",
    "if dump_pickle:\n",
    "    pickle.dump(parsed_data, open(\n",
    "        path.join(path.curdir,\n",
    "                  f\"{config_dict.get('file_name_base')}_looped.p\"), \"wb\"))"
   ]
  },
  {
   "cell_type": "code",
   "execution_count": 48,
   "metadata": {},
   "outputs": [
    {
     "name": "stdout",
     "output_type": "stream",
     "text": [
      "Fitting model to AES-256 Encrypt with 384 samples, from 16 to 6144 bytes in steps of 16.\n",
      "[[Model]]\n",
      "    Model(line)\n",
      "[[Fit Statistics]]\n",
      "    # fitting method   = leastsq\n",
      "    # function evals   = 10\n",
      "    # data points      = 384\n",
      "    # variables        = 2\n",
      "    chi-square         = 2.1072e-12\n",
      "    reduced chi-square = 5.5161e-15\n",
      "    Akaike info crit   = -12605.1479\n",
      "    Bayesian info crit = -12597.2466\n",
      "[[Variables]]\n",
      "    intercept: -5.3228e-08 +/- 7.5950e-09 (14.27%) (init = 0)\n",
      "    slope:      2.6985e-08 +/- 2.1369e-12 (0.01%) (init = 1)\n",
      "[[Correlations]] (unreported correlations are < 0.100)\n",
      "    C(intercept, slope) = -0.867\n",
      "[[Model]]\n",
      "    Model(line)\n",
      "[[Fit Statistics]]\n",
      "    # fitting method   = leastsq\n",
      "    # function evals   = 7\n",
      "    # data points      = 384\n",
      "    # variables        = 2\n",
      "    chi-square         = 4.1712e-07\n",
      "    reduced chi-square = 1.0919e-09\n",
      "    Akaike info crit   = -7921.96721\n",
      "    Bayesian info crit = -7914.06593\n",
      "[[Variables]]\n",
      "    intercept:  1.9469e-05 +/- 3.3792e-06 (17.36%) (init = 0)\n",
      "    slope:      3.8967e-05 +/- 9.5075e-10 (0.00%) (init = 1)\n",
      "[[Correlations]] (unreported correlations are < 0.100)\n",
      "    C(intercept, slope) = -0.867\n",
      "Fitting model to AES-256 Decrypt with 384 samples, from 16 to 6144 bytes in steps of 16.\n",
      "[[Model]]\n",
      "    Model(line)\n",
      "[[Fit Statistics]]\n",
      "    # fitting method   = leastsq\n",
      "    # function evals   = 10\n",
      "    # data points      = 384\n",
      "    # variables        = 2\n",
      "    chi-square         = 6.3278e-12\n",
      "    reduced chi-square = 1.6565e-14\n",
      "    Akaike info crit   = -12182.8984\n",
      "    Bayesian info crit = -12174.9971\n",
      "[[Variables]]\n",
      "    intercept:  7.5460e-08 +/- 1.3162e-08 (17.44%) (init = 0)\n",
      "    slope:      2.8264e-08 +/- 3.7031e-12 (0.01%) (init = 1)\n",
      "[[Correlations]] (unreported correlations are < 0.100)\n",
      "    C(intercept, slope) = -0.867\n",
      "[[Model]]\n",
      "    Model(line)\n",
      "[[Fit Statistics]]\n",
      "    # fitting method   = leastsq\n",
      "    # function evals   = 7\n",
      "    # data points      = 384\n",
      "    # variables        = 2\n",
      "    chi-square         = 4.7285e-07\n",
      "    reduced chi-square = 1.2378e-09\n",
      "    Akaike info crit   = -7873.81100\n",
      "    Bayesian info crit = -7865.90972\n",
      "[[Variables]]\n",
      "    intercept:  1.5896e-05 +/- 3.5978e-06 (22.63%) (init = 0)\n",
      "    slope:      4.2014e-05 +/- 1.0123e-09 (0.00%) (init = 1)\n",
      "[[Correlations]] (unreported correlations are < 0.100)\n",
      "    C(intercept, slope) = -0.867\n",
      "Fitting model to AES-256 Flash Write with 384 samples, from 16 to 6144 bytes in steps of 16.\n",
      "[[Model]]\n",
      "    Model(line)\n",
      "[[Fit Statistics]]\n",
      "    # fitting method   = leastsq\n",
      "    # function evals   = 9\n",
      "    # data points      = 384\n",
      "    # variables        = 2\n",
      "    chi-square         = 1.7767e-09\n",
      "    reduced chi-square = 4.6510e-12\n",
      "    Akaike info crit   = -10018.0794\n",
      "    Bayesian info crit = -10010.1782\n",
      "[[Variables]]\n",
      "    intercept:  4.7848e-06 +/- 2.2054e-07 (4.61%) (init = 0)\n",
      "    slope:      3.2870e-08 +/- 6.2051e-11 (0.19%) (init = 1)\n",
      "[[Correlations]] (unreported correlations are < 0.100)\n",
      "    C(intercept, slope) = -0.867\n",
      "[[Model]]\n",
      "    Model(line)\n",
      "[[Fit Statistics]]\n",
      "    # fitting method   = leastsq\n",
      "    # function evals   = 7\n",
      "    # data points      = 384\n",
      "    # variables        = 2\n",
      "    chi-square         = 4.7558e-04\n",
      "    reduced chi-square = 1.2450e-06\n",
      "    Akaike info crit   = -5219.01920\n",
      "    Bayesian info crit = -5211.11792\n",
      "[[Variables]]\n",
      "    intercept:  0.00222191 +/- 1.1410e-04 (5.14%) (init = 0)\n",
      "    slope:      2.0862e-05 +/- 3.2104e-08 (0.15%) (init = 1)\n",
      "[[Correlations]] (unreported correlations are < 0.100)\n",
      "    C(intercept, slope) = -0.867\n",
      "Fitting model to AES-256 Flash Read with 384 samples, from 16 to 6144 bytes in steps of 16.\n",
      "[[Model]]\n",
      "    Model(line)\n",
      "[[Fit Statistics]]\n",
      "    # fitting method   = leastsq\n",
      "    # function evals   = 10\n",
      "    # data points      = 384\n",
      "    # variables        = 2\n",
      "    chi-square         = 7.8584e-14\n",
      "    reduced chi-square = 2.0572e-16\n",
      "    Akaike info crit   = -13868.0973\n",
      "    Bayesian info crit = -13860.1960\n",
      "[[Variables]]\n",
      "    intercept:  8.6457e-10 +/- 1.4667e-09 (169.65%) (init = 0)\n",
      "    slope:      1.0071e-09 +/- 4.1268e-13 (0.04%) (init = 1)\n",
      "[[Correlations]] (unreported correlations are < 0.100)\n",
      "    C(intercept, slope) = -0.867\n",
      "[[Model]]\n",
      "    Model(line)\n",
      "[[Fit Statistics]]\n",
      "    # fitting method   = leastsq\n",
      "    # function evals   = 7\n",
      "    # data points      = 384\n",
      "    # variables        = 2\n",
      "    chi-square         = 3.0422e-07\n",
      "    reduced chi-square = 7.9638e-10\n",
      "    Akaike info crit   = -8043.16710\n",
      "    Bayesian info crit = -8035.26582\n",
      "[[Variables]]\n",
      "    intercept:  2.7204e-05 +/- 2.8859e-06 (10.61%) (init = 0)\n",
      "    slope:      2.1238e-06 +/- 8.1196e-10 (0.04%) (init = 1)\n",
      "[[Correlations]] (unreported correlations are < 0.100)\n",
      "    C(intercept, slope) = -0.867\n"
     ]
    }
   ],
   "source": [
    "# Fit lm\n",
    "if fit_lm:\n",
    "    model = None\n",
    "    if model is None:\n",
    "        def line(x, intercept, slope):\n",
    "            \"\"\"a line\"\"\"\n",
    "            return [intercept + slope*i for i in x]\n",
    "\n",
    "        model = Model(line)\n",
    "        params = model.make_params(intercept=0, slope=1)\n",
    "#         params['intercept'].set(min=0)\n",
    "    else:\n",
    "        params = model.params\n",
    "\n",
    "    model_results = {}\n",
    "    labels = analysis_config.get(\"labels\")\n",
    "    for parameter_name in parsed_data.keys():\n",
    "        length = len(parsed_data[parameter_name][result_types[0]])\n",
    "        x_step = parsed_data[parameter_name][\"x_step\"]\n",
    "        num_bytes = range(x_step, (length+1)*x_step, x_step)\n",
    "        if verbose:\n",
    "            print(\n",
    "                f\"Fitting model to {parameter_name} with {length} \" +\n",
    "                f\"samples, from {min(num_bytes)} to {max(num_bytes)} \"\n",
    "                f\"bytes in steps of {x_step}.\")\n",
    "        model_result = {}\n",
    "        for result_type in result_types:\n",
    "            model_result[result_type] = model.fit(\n",
    "                parsed_data[parameter_name][result_type], params,\n",
    "                x=num_bytes)\n",
    "            if verbose >= 2:\n",
    "                print(model_result[result_type].fit_report())\n",
    "            # Plot multiple view\n",
    "            if show_lm_plot >= 2:\n",
    "                fig, grid = model_result[result_type].plot(\n",
    "                    xlabel=f\"{labels[result_type]['x']} \" +\n",
    "                           f\"[{labels[result_type]['x_unit']}]\",\n",
    "                    ylabel=f\"{labels[result_type]['y']} \" +\n",
    "                           f\"[{labels[result_type]['y_unit']}]\")\n",
    "                fig.canvas.set_window_title(\n",
    "                    f\"Residuals of {parameter_name}\")\n",
    "                fig.tight_layout()\n",
    "                fig.show()\n",
    "            model_results[parameter_name] = model_result\n",
    "\n",
    "    # Plot single view\n",
    "    if show_lm_plot:\n",
    "        import matplotlib.pyplot as plt\n",
    "        fig = plt.figure(figsize=(9, 6))\n",
    "        fig.canvas.set_window_title(f\"Analysis {config.get('name')}\")\n",
    "        colors = dict(zip(result_types, ['r', 'b']))\n",
    "        line_styles = (\n",
    "            line_style for line_style in ('-', '--', '-.', ':') * 2)\n",
    "        # fig.suptitle(f\"Energy analysis of {config.get('name')}\")\n",
    "        ax = {}\n",
    "        ax[result_types[0]] = fig.add_subplot(1, 1, 1)\n",
    "        ax[result_types[1]] = ax[result_types[0]].twinx()\n",
    "        ax[result_types[0]].set_xlabel(\n",
    "            f\"{labels[result_types[0]]['x']} \" +\n",
    "            f\"[{labels[result_types[0]]['x_unit']}]\")\n",
    "        for result_type in result_types:\n",
    "            ax[result_type].set_ylabel(\n",
    "                f\"{labels[result_type]['y']} \" +\n",
    "                f\"[{labels[result_type]['y_unit']}]\",\n",
    "                color=colors[result_type])\n",
    "            ax[result_type].tick_params('y', colors=colors[result_type])\n",
    "\n",
    "        lines = []\n",
    "        title_str = \"\"\n",
    "        for parameter_name in parsed_data.keys():\n",
    "            length = len(parsed_data[parameter_name][result_types[0]])\n",
    "            x_step = parsed_data[parameter_name][\"x_step\"]\n",
    "            num_bytes = range(x_step, (length+1)*x_step, x_step)\n",
    "            model_result = {}\n",
    "            line_style = next(line_styles)\n",
    "            for result_type in result_types:\n",
    "                label = f\"{parameter_name} {labels[result_type]['y']}\"\n",
    "                lines += ax[result_type].plot(\n",
    "                    num_bytes, parsed_data[parameter_name][result_type],\n",
    "                    colors[result_type] + line_style, label=label)\n",
    "                title_str += f\"{label} \"\n",
    "                for param in params.keys():\n",
    "                    title_str += \"\".join(\n",
    "                        f\"{params[param].name.capitalize()}: \")\n",
    "                    title_str += \"\".join(\n",
    "                        f\"{model_results[parameter_name][result_type].params[param].value: .03} \")\n",
    "                    title_str += \"\".join(\n",
    "                        f\"{labels[result_type]['y_unit']}, \")\n",
    "                title_str = title_str[:-2] + \\\n",
    "                    f\" per {labels[result_type]['x_unit']}\\n\"\n",
    "        ax[result_types[0]].legend(handles=lines)\n",
    "        ax[result_types[0]].set_title(title_str[:-1])\n",
    "        # fig.tight_layout()\n",
    "        fig.tight_layout(rect=(0.05, 0.05, 1, 1))\n",
    "        fig.set_size_inches(8, 6, forward=True)\n",
    "        fig.show()\n",
    "\n",
    "    # Save model results to file\n",
    "    if dump_pickle:\n",
    "        model_results_dump = {}\n",
    "        for parameter_name in model_results.keys():\n",
    "            model_results_dump[parameter_name] = {}\n",
    "            for result_type in model_results[parameter_name].keys():\n",
    "                model_results_dump[parameter_name][result_type] = \\\n",
    "                    model_results[parameter_name][result_type].values\n",
    "\n",
    "        pickle.dump(model_results_dump, open(path.join(\n",
    "            path.curdir,\n",
    "            f\"{config_dict.get('file_name_base')}_model.p\"), \"wb\"))"
   ]
  },
  {
   "cell_type": "markdown",
   "metadata": {},
   "source": [
    "# Total from measurement"
   ]
  },
  {
   "cell_type": "code",
   "execution_count": 49,
   "metadata": {},
   "outputs": [
    {
     "name": "stdout",
     "output_type": "stream",
     "text": [
      "357.16318358919904 123840.7981093336\n"
     ]
    }
   ],
   "source": [
    "n_samples = 5995\n",
    "\n",
    "total_energy = sum(aes_encrypt_energy[:n_samples]) + sum(aes_flash_write_energy[:n_samples]) + sum(aes_flash_read_energy[:n_samples]) + sum(aes_decrypt_energy[:n_samples])\n",
    "total_time = sum(aes_encrypt_time_s[:n_samples]) + sum(aes_flash_write_time_s[:n_samples]) + sum(aes_flash_read_time_s[:n_samples]) + sum(aes_decrypt_time_s[:n_samples])\n",
    "print(total_energy, total_time)"
   ]
  },
  {
   "cell_type": "code",
   "execution_count": 50,
   "metadata": {},
   "outputs": [
    {
     "data": {
      "text/plain": [
       "[5.213662933333328,\n",
       " 6.665569066666668,\n",
       " 8.051479466666663,\n",
       " 9.437389866666646,\n",
       " 10.823381866666661,\n",
       " 12.341501333333365,\n",
       " 13.793629333333335,\n",
       " 15.114610666666666,\n",
       " 16.63208960000001,\n",
       " 17.95069440000002,\n",
       " 19.53534080000002,\n",
       " 20.856505599999963,\n",
       " 22.307057066666637,\n",
       " 23.692652800000047,\n",
       " 25.080810666666732,\n",
       " 26.59698560000001,\n",
       " 31.941604266666705,\n",
       " 33.32784533333344,\n",
       " 34.71628053333331,\n",
       " 36.165787199999855,\n",
       " 37.685002133333256,\n",
       " 39.005308266666596,\n",
       " 40.39070933333345,\n",
       " 41.84293013333329,\n",
       " 43.16043199999986,\n",
       " 44.67985280000031,\n",
       " 46.199895466666696,\n",
       " 47.51727253333327,\n",
       " 48.90648373333373,\n",
       " 50.290467199999966,\n",
       " 51.809739200000315,\n",
       " 53.258683733333314,\n",
       " 58.67315839999976,\n",
       " 60.05807199999969,\n",
       " 61.51216799999993,\n",
       " 62.764305066666644,\n",
       " 64.34830720000018,\n",
       " 65.79810133333353,\n",
       " 67.05595626666661,\n",
       " 68.43813759999983,\n",
       " 69.89201973333348,\n",
       " 71.41190880000003,\n",
       " 72.79300160000047,\n",
       " 74.24838346666718,\n",
       " 75.63140320000005,\n",
       " 77.15133600000001,\n",
       " 78.47421973333235,\n",
       " 79.9869034666667,\n",
       " 85.33598079999959,\n",
       " 86.78913066666638,\n",
       " 88.37332266666652,\n",
       " 89.5548922666669,\n",
       " 91.01203786666633,\n",
       " 92.46352160000004,\n",
       " 93.91363253333341,\n",
       " 95.29821173333409,\n",
       " 96.62281439999943,\n",
       " 98.07394666666625,\n",
       " 99.59295839999882,\n",
       " 101.03925546666571,\n",
       " 102.36487573333264,\n",
       " 103.81844426666653,\n",
       " 105.20196799999937,\n",
       " 106.58559520000122,\n",
       " 112.13145279999992,\n",
       " 113.51639733333396,\n",
       " 114.89967520000022,\n",
       " 116.22480319999971,\n",
       " 117.7435962666671,\n",
       " 119.19409279999994,\n",
       " 120.58138986666657,\n",
       " 121.96547360000042,\n",
       " 123.48480960000074,\n",
       " 124.80242239999927,\n",
       " 126.32091306666648,\n",
       " 127.70393226666688,\n",
       " 129.0252394666682,\n",
       " 130.54511466666608,\n",
       " 131.99503519999922,\n",
       " 133.31444586666663,\n",
       " 138.9945957333323,\n",
       " 140.11275306666704,\n",
       " 141.56342239999995,\n",
       " 142.95321866666643,\n",
       " 144.46719786666762,\n",
       " 145.8594901333319,\n",
       " 147.1760160000013,\n",
       " 148.5595888000013,\n",
       " 150.07873226666746,\n",
       " 151.5352560000025,\n",
       " 152.9162224000018,\n",
       " 154.63501386666678,\n",
       " 155.8190303999982,\n",
       " 157.2039984,\n",
       " 158.59533919999967,\n",
       " 160.2409920000003,\n",
       " 165.3963626666677,\n",
       " 167.10425013333287,\n",
       " 168.22640373333365,\n",
       " 169.68220160000058,\n",
       " 171.13008533333306,\n",
       " 172.45709973333413,\n",
       " 174.1695397333345,\n",
       " 175.2277653333323,\n",
       " 176.74018453333318,\n",
       " 178.12725973333164,\n",
       " 179.91526079999966,\n",
       " 181.0306602666678,\n",
       " 182.47897386666347,\n",
       " 183.87073813333288,\n",
       " 185.2627557333335,\n",
       " 186.71204426666677,\n",
       " 192.12310613333372,\n",
       " 193.57271040000157,\n",
       " 194.9619632000008,\n",
       " 196.61519093333268,\n",
       " 197.6656880000025,\n",
       " 199.32185333333229,\n",
       " 200.69952266666746,\n",
       " 202.02400373333163,\n",
       " 203.40485813333407,\n",
       " 204.92987840000154,\n",
       " 206.3772506666659,\n",
       " 207.76912479999865,\n",
       " 209.2106506666678,\n",
       " 210.60258986666724,\n",
       " 212.04948800000167,\n",
       " 213.44280319999953,\n",
       " 218.91061493333197,\n",
       " 220.23799306667158,\n",
       " 221.81810079999664,\n",
       " 223.20621599999768,\n",
       " 224.59841600000274,\n",
       " 225.97821066666768,\n",
       " 227.1756042666624,\n",
       " 228.75361599999877,\n",
       " 230.27579786666408,\n",
       " 231.59129226666408,\n",
       " 232.97936319999835,\n",
       " 234.42336533332764,\n",
       " 235.87705973333328,\n",
       " 237.26578506667195,\n",
       " 238.775640533337,\n",
       " 240.2313818666677,\n",
       " 245.51721066666587,\n",
       " 247.2284730666665,\n",
       " 248.34665280000223,\n",
       " 249.80031413333492,\n",
       " 251.58554453333437,\n",
       " 252.5070325333374,\n",
       " 254.09436053333678,\n",
       " 255.61082826666492,\n",
       " 256.92631999999446,\n",
       " 258.31552266665983,\n",
       " 259.70784479999764,\n",
       " 261.2283941333331,\n",
       " 262.61225920000084,\n",
       " 263.9916597333389,\n",
       " 265.38346240000266,\n",
       " 266.83119413333145,\n",
       " 272.38028426667074,\n",
       " 273.70184640000514,\n",
       " 275.27845546666896,\n",
       " 276.3986911999972,\n",
       " 278.25409653333463,\n",
       " 279.3064693333349,\n",
       " 280.69336586666793,\n",
       " 282.14721973333565,\n",
       " 283.600889600006,\n",
       " 284.8526666666693,\n",
       " 286.56841013333076,\n",
       " 287.81983893333415,\n",
       " 289.34407466666556,\n",
       " 290.99593973333526,\n",
       " 292.3747493333302,\n",
       " 293.82533759999774,\n",
       " 299.24700426666817,\n",
       " 300.4985904000037,\n",
       " 302.0739226666684,\n",
       " 303.3945583999973,\n",
       " 304.71381759999616,\n",
       " 306.03610613332677,\n",
       " 307.6862528000035,\n",
       " 309.0753536000008,\n",
       " 310.39417120000934,\n",
       " 311.9732981333385,\n",
       " 313.15908800000614,\n",
       " 314.4859594666798,\n",
       " 315.99821066667033,\n",
       " 317.317628800005,\n",
       " 318.837605866662,\n",
       " 320.42353119999945,\n",
       " 325.70147253333914,\n",
       " 327.0826709333221,\n",
       " 328.4028170666673,\n",
       " 329.93054933334065,\n",
       " 331.6387397333216,\n",
       " 332.62848853334503,\n",
       " 334.21810986666145,\n",
       " 335.73795413333585,\n",
       " 337.26301279999404,\n",
       " 338.5749258666735,\n",
       " 339.8222757333258,\n",
       " 341.4110928000085,\n",
       " 342.6627477333355,\n",
       " 344.1183824000049,\n",
       " 345.4994858666609,\n",
       " 347.0850586666714,\n",
       " 351.50693066666605,\n",
       " 353.1566330666749,\n",
       " 354.6152442666681,\n",
       " 356.0630421333357,\n",
       " 357.5150794666726,\n",
       " 359.29283040000826,\n",
       " 360.55224479999737,\n",
       " 361.79717920001053,\n",
       " 363.7861162666667,\n",
       " 365.0978517333314,\n",
       " 366.61848693333354,\n",
       " 367.87154079999596,\n",
       " 369.1306149333329,\n",
       " 370.7181903999981,\n",
       " 372.1598159999999,\n",
       " 373.61639093334986,\n",
       " 378.3674805333419,\n",
       " 379.9546549333357,\n",
       " 381.2818271999987,\n",
       " 382.73492853332414,\n",
       " 384.2406533333289,\n",
       " 385.7673712000107,\n",
       " 387.14854826665857,\n",
       " 388.4028117333429,\n",
       " 390.26081440000127,\n",
       " 391.71452906667525,\n",
       " 393.16569759999,\n",
       " 394.67611733333285,\n",
       " 395.9907408000021,\n",
       " 396.91291519999794,\n",
       " 398.7556800000007,\n",
       " 400.3472421333285,\n",
       " 405.3654346666704,\n",
       " 406.55055733333967,\n",
       " 407.6865797333298,\n",
       " 409.4545845333357,\n",
       " 410.77461813333827,\n",
       " 412.4915317333375,\n",
       " 413.8033375999868,\n",
       " 415.45856320000496,\n",
       " 417.044446933339,\n",
       " 418.5673386666835,\n",
       " 419.7532815999949,\n",
       " 420.9355050666659,\n",
       " 422.45383040000206,\n",
       " 424.2358010666649,\n",
       " 425.42830560000056,\n",
       " 426.87530453332556,\n",
       " 431.4295509333377,\n",
       " 432.8128821333337,\n",
       " 434.60151093333366,\n",
       " 435.9158832000034,\n",
       " 437.5707045333286,\n",
       " 438.7552309333316,\n",
       " 440.4048864000174,\n",
       " 441.98532693332027,\n",
       " 443.70434613334453,\n",
       " 444.889019200005,\n",
       " 446.27744373330813,\n",
       " 447.794373866671,\n",
       " 449.2475200000001,\n",
       " 450.6359232000108,\n",
       " 452.2824154666978,\n",
       " 453.20471466668266,\n",
       " 458.1627818666476,\n",
       " 459.7463029333113,\n",
       " 460.4108549333432,\n",
       " 461.86032266668064,\n",
       " 464.1633637333342,\n",
       " 465.35070293332126,\n",
       " 466.7449648000144,\n",
       " 467.98699466665994,\n",
       " 469.90555679998636,\n",
       " 471.35899253332525,\n",
       " 472.6778448000033,\n",
       " 473.93319199998984,\n",
       " 475.3801279999976,\n",
       " 476.96260266667423,\n",
       " 478.1526389333095,\n",
       " 480.0678442666566,\n",
       " 484.84191466667426,\n",
       " 485.7627765333348,\n",
       " 487.8069562666809,\n",
       " 488.9815839999869,\n",
       " 490.30072053332674,\n",
       " 492.2113029333559,\n",
       " 493.3413546666543,\n",
       " 494.51806613333815,\n",
       " 496.4392650666696,\n",
       " 497.82101653333655,\n",
       " 499.80168053333784,\n",
       " 500.8603295999876,\n",
       " 502.2526751999976,\n",
       " 503.76587680001705,\n",
       " 505.1523098666877,\n",
       " 506.598495466676,\n",
       " 510.49086240000463,\n",
       " 512.345281066672,\n",
       " 513.992326933348,\n",
       " 515.505078933316,\n",
       " 517.5039583999848,\n",
       " 518.6211999999841,\n",
       " 519.7434469333189,\n",
       " 521.5921114666884,\n",
       " 522.7739466666748,\n",
       " 524.2256058666754,\n",
       " 525.6717034666565,\n",
       " 526.7978848000183,\n",
       " 528.0563413333539,\n",
       " 529.9627589333369,\n",
       " 531.4104911999777,\n",
       " 533.2634544000143,\n",
       " 537.8150997333222,\n",
       " 539.0675583999922,\n",
       " 540.3316570666448,\n",
       " 541.9146026666652,\n",
       " 543.7052981333039,\n",
       " 544.6177253333389,\n",
       " 545.544014933327,\n",
       " 548.2528112000011,\n",
       " 549.9692021333686,\n",
       " 550.8259066666454,\n",
       " 552.7303610666792,\n",
       " 553.6690160000006,\n",
       " 554.8557445333273,\n",
       " 556.8192672000123,\n",
       " 557.350580800005,\n",
       " 559.4644341333321,\n",
       " 563.755743999991,\n",
       " 565.2721951999808,\n",
       " 566.5228095999879,\n",
       " 568.3769333333544,\n",
       " 570.1617402666557,\n",
       " 571.6038864000126,\n",
       " 573.2033413333113,\n",
       " 574.1806469333142,\n",
       " 575.8306362666588,\n",
       " 577.022152533317,\n",
       " 578.7422410666778,\n",
       " 579.7948533333255,\n",
       " 581.7071311999911,\n",
       " 582.6972394666825,\n",
       " 584.7439669333454,\n",
       " 585.9461909333561,\n",
       " 590.6964426666832,\n",
       " 591.7404570666491,\n",
       " 593.3240890666696,\n",
       " 595.3026778666697,\n",
       " 596.3114949333459,\n",
       " 598.085603200019,\n",
       " 599.4031488000076,\n",
       " 601.3860970666656,\n",
       " 602.6393285333143,\n",
       " 603.7597093333318,\n",
       " 605.5427237333504,\n",
       " 606.4695168000185,\n",
       " 607.843055999993,\n",
       " 609.6918053333269,\n",
       " 611.483758933332,\n",
       " 612.1532896000161,\n",
       " 616.900670400014,\n",
       " 618.8735647999977,\n",
       " 620.0714890666319,\n",
       " 621.3150128000251,\n",
       " 623.0391904000214,\n",
       " 623.6920047999917,\n",
       " 625.9314629333375,\n",
       " 627.0503813333903,\n",
       " 629.0898495999784,\n",
       " 630.4190122666284,\n",
       " 631.6645898667161,\n",
       " 633.5091658666272,\n",
       " 634.7052613333801,\n",
       " 636.0332522666567,\n",
       " 638.13426826664,\n",
       " 638.9996186666735]"
      ]
     },
     "execution_count": 50,
     "metadata": {},
     "output_type": "execute_result"
    }
   ],
   "source": [
    "          [e + w + r + d for (e,w,r,d) in zip(aes_encrypt_energy, aes_flash_write_energy, aes_flash_read_energy, aes_decrypt_energy)],\n",
    "          [e + w + r + d for (e,w,r,d) in zip(aes_encrypt_time_s, aes_flash_write_time_s, aes_flash_read_time_s, aes_decrypt_time_s)]"
   ]
  },
  {
   "cell_type": "code",
   "execution_count": null,
   "metadata": {},
   "outputs": [],
   "source": []
  },
  {
   "cell_type": "code",
   "execution_count": null,
   "metadata": {},
   "outputs": [],
   "source": []
  },
  {
   "cell_type": "code",
   "execution_count": null,
   "metadata": {},
   "outputs": [],
   "source": []
  }
 ],
 "metadata": {
  "kernelspec": {
   "display_name": "Python 3",
   "language": "python",
   "name": "python3"
  },
  "language_info": {
   "codemirror_mode": {
    "name": "ipython",
    "version": 3
   },
   "file_extension": ".py",
   "mimetype": "text/x-python",
   "name": "python",
   "nbconvert_exporter": "python",
   "pygments_lexer": "ipython3",
   "version": "3.8.1"
  }
 },
 "nbformat": 4,
 "nbformat_minor": 4
}

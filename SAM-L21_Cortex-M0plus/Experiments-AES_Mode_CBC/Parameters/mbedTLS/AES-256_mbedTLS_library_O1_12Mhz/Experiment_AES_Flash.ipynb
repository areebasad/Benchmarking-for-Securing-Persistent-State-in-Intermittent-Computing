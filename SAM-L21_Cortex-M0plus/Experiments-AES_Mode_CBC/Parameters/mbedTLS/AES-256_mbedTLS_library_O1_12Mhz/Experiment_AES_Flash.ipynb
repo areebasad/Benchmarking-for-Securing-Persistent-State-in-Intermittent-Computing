{
 "cells": [
  {
   "cell_type": "markdown",
   "metadata": {},
   "source": [
    "## Import Libraries"
   ]
  },
  {
   "cell_type": "code",
   "execution_count": 29,
   "metadata": {},
   "outputs": [],
   "source": [
    "# %matplotlib ipympl\n",
    "# %matplotlib inline\n",
    "%matplotlib wx"
   ]
  },
  {
   "cell_type": "code",
   "execution_count": 30,
   "metadata": {},
   "outputs": [],
   "source": [
    "import matplotlib.pyplot as plt\n",
    "plt.ion()"
   ]
  },
  {
   "cell_type": "code",
   "execution_count": 31,
   "metadata": {},
   "outputs": [],
   "source": [
    "from pydgilib_extra import *\n",
    "from atprogram import atprogram"
   ]
  },
  {
   "cell_type": "code",
   "execution_count": 32,
   "metadata": {},
   "outputs": [],
   "source": [
    "from os import getcwd, path, pardir\n",
    "import pickle"
   ]
  },
  {
   "cell_type": "markdown",
   "metadata": {},
   "source": [
    "## Compile and program project"
   ]
  },
  {
   "cell_type": "code",
   "execution_count": 33,
   "metadata": {},
   "outputs": [
    {
     "data": {
      "text/plain": [
       "'./AES-256_mbedTLS_library'"
      ]
     },
     "execution_count": 33,
     "metadata": {},
     "output_type": "execute_result"
    }
   ],
   "source": [
    "project_path = path.curdir + \"/\" + \"AES-256_mbedTLS_library\"\n",
    "project_name =  \"AES-256_mbedTLS_library\"\n",
    "device_name = \"ATSAML21J18B\"\n",
    "project_path"
   ]
  },
  {
   "cell_type": "code",
   "execution_count": 34,
   "metadata": {},
   "outputs": [
    {
     "name": "stdout",
     "output_type": "stream",
     "text": [
      "make: Nothing to be done for 'all'.\n",
      "\n",
      "[DEBUG] Starting execution of \"chiperase\"\n",
      "[DEBUG] Starting process 'C:\\Program Files (x86)\\Atmel\\Studio\\7.0\\atbackend\\atbackend.exe'\n",
      "[DEBUG] Connecting to TCP:127.0.0.1:52401\n",
      "[INFO] Connected to edbg, fw version: 3.25\n",
      "[INFO] Firmware check OK\n",
      "[DEBUG] Command \"chiperase\" finished with return code 0\n",
      "[DEBUG] Starting execution of \"program\"\n",
      "[DEBUG] Memory segment base written at 0x00000000. Size = 0x00004328.\n",
      "[DEBUG] Memory segment base written at 0x00004328. Size = 0x00000088.\n",
      "[DEBUG] Command \"program\" finished with return code 0\n",
      "[DEBUG] Starting execution of \"info\"\n",
      "[ERROR] Error in TCF lockbit format. Missed key Could not get Module LOCKBIT for ATSAML21J18B. (TCF Error code: 131120)\n",
      "[DEBUG] Command \"info\" finished with return code 0\n",
      "[DEBUG] Exit successfully.\n",
      "Firmware check OK\n",
      "Chiperase completed successfully\n",
      "Programming completed successfully.\n",
      "Tool edbg has firmware version: 03.25\n",
      "Target voltage: 3.31 V\n",
      "\n",
      "Device information:\n",
      "\n",
      "Name:       ATSAML21J18B  \n",
      "JtagId:     N/A           \n",
      "Revision:   C             \n",
      "Chip ID:    0x1081020f\n",
      "CPU arch.:  CORTEX-M0PLUS \n",
      "Series:     SAML21\n",
      "\n",
      "Memory Information:\n",
      "\n",
      "Address Space    StartAddress            Size\n",
      "\n",
      "base                      0x0     0x100000000\n",
      "  FLASH                   0x0         0x40000\n",
      "  CAL                0x800000             0x8\n",
      "  LOCKBIT            0x802000             0x4\n",
      "  AUX0               0x804000           0x100\n",
      "  AUX1               0x806000           0x100\n",
      "  RWW                0x400000          0x2000\n",
      "  HSRAM            0x20000000          0x8000\n",
      "  LPRAM            0x30000000          0x2000\n",
      "  HPB0             0x40000000          0x4000\n",
      "  HPB1             0x41000000         0x10000\n",
      "  HPB2             0x42000000          0x8000\n",
      "  HPB3             0x43000000          0x2000\n",
      "  HPB4             0x44000000          0x1000\n",
      "  PPB              0xe0000000        0x100000\n",
      "  SCS              0xe000e000          0x1000\n",
      "  PERIPHERALS      0x40000000      0x20000000\n",
      "\n",
      "fuses                     0x0      0x20000000\n",
      "\n",
      "OTP5_WORD_0 (0b01110111011001010010110110111111 <-> 0x77652dbf):\n",
      "   USB_TRIM      0x6\n",
      "   USB_TRANSP    0x19\n",
      "   USB_TRANSN    0x9\n",
      "   ADC_BIASCOMP  0x7\n",
      "   ADC_BIASREFBUF 0x7\n",
      "\n",
      "TEMP_LOG_WORD_1 (0b11010101010010111000100111111001 <-> 0xd54b89f9):\n",
      "   HOT_ADC_VAL   0xd54\n",
      "   ROOM_ADC_VAL  0xb89\n",
      "   HOT_INT1V_VAL 0xf9\n",
      "\n",
      "TEMP_LOG_WORD_0 (0b11111011100101010100100000011101 <-> 0xfb95481d):\n",
      "   ROOM_INT1V_VAL 0xfb\n",
      "   HOT_TEMP_VAL_DEC 0x9\n",
      "   HOT_TEMP_VAL_INT 0x54\n",
      "   ROOM_TEMP_VAL_DEC 0x8\n",
      "   ROOM_TEMP_VAL_INT 0x1d\n",
      "\n",
      "USER_WORD_1 (0b11111111111111111111100010111011 <-> 0xfffff8bb):\n",
      "   NVMCTRL_REGION_LOCKS 0xffff\n",
      "   BOD12_HYST    0\n",
      "   BOD33_HYST    0\n",
      "   WDT_WEN       0\n",
      "   WDT_EWOFFSET  0xb\n",
      "   WDT_WINDOW    0xb\n",
      "\n",
      "USER_WORD_0 (0b10110001000111101000011011111111 <-> 0xb11e86ff):\n",
      "   WDT_PER       0xb\n",
      "   WDT_ALWAYSON  0\n",
      "   WDT_ENABLE    0\n",
      "   BOD12_DIS     0\n",
      "   BOD33_ACTION  0x1\n",
      "   BOD33_DIS     0\n",
      "   BOD33USERLEVEL 0x6\n",
      "   NVMCTRL_EEPROM_SIZE 0x7\n",
      "   NVMCTRL_BOOTPROT 0x7\n",
      "\n",
      "\n"
     ]
    },
    {
     "data": {
      "text/plain": [
       "0"
      ]
     },
     "execution_count": 34,
     "metadata": {},
     "output_type": "execute_result"
    }
   ],
   "source": [
    "atprogram.atprogram(project_name, device_name = device_name ,verbose=3)"
   ]
  },
  {
   "cell_type": "code",
   "execution_count": 35,
   "metadata": {},
   "outputs": [],
   "source": [
    "#atprogram(path.abspath(path.join(*project_path)), verbose=2)"
   ]
  },
  {
   "cell_type": "code",
   "execution_count": 36,
   "metadata": {},
   "outputs": [
    {
     "name": "stdout",
     "output_type": "stream",
     "text": [
      "{'text': 17192, 'data': 136, 'bss': 8832, 'dec': 26160, 'hex': 26160, 'filename': 'AES-256_mbedTLS_library.elf'}\n"
     ]
    },
    {
     "data": {
      "text/plain": [
       "{'text': 17192,\n",
       " 'data': 136,\n",
       " 'bss': 8832,\n",
       " 'dec': 26160,\n",
       " 'hex': 26160,\n",
       " 'filename': 'AES-256_mbedTLS_library.elf'}"
      ]
     },
     "execution_count": 36,
     "metadata": {},
     "output_type": "execute_result"
    }
   ],
   "source": [
    "atprogram.get_project_size(project_name, device_name = device_name, verbose=2)"
   ]
  },
  {
   "cell_type": "code",
   "execution_count": null,
   "metadata": {},
   "outputs": [],
   "source": []
  },
  {
   "cell_type": "markdown",
   "metadata": {},
   "source": [
    "## Data Logging"
   ]
  },
  {
   "cell_type": "code",
   "execution_count": 37,
   "metadata": {},
   "outputs": [],
   "source": [
    "live_plot = False"
   ]
  },
  {
   "cell_type": "markdown",
   "metadata": {},
   "source": [
    "Create a figure for the plot."
   ]
  },
  {
   "cell_type": "code",
   "execution_count": 38,
   "metadata": {},
   "outputs": [],
   "source": [
    "if live_plot:\n",
    "    fig = plt.figure(figsize=(10, 6))\n",
    "    fig.show()"
   ]
  },
  {
   "cell_type": "markdown",
   "metadata": {},
   "source": [
    "Create the configuration dictionary for `DGILibExtra`."
   ]
  },
  {
   "cell_type": "code",
   "execution_count": 39,
   "metadata": {},
   "outputs": [],
   "source": [
    "config_dict = {\n",
    "    \"loggers\": [LOGGER_OBJECT, LOGGER_CSV],\n",
    "    \"file_name_base\": \"experiment_aes_flash\"\n",
    "}\n",
    "config_dict_plot = {\n",
    "    \"loggers\": [LOGGER_OBJECT, LOGGER_PLOT, LOGGER_CSV],\n",
    "    \"plot_pins\": [False, False, True, True],\n",
    "    \"plot_pins_method\": \"line\",\n",
    "    \"plot_xmax\": 5,\n",
    "    \"window_title\": \"Experiment AES-128 Flash\",\n",
    "}"
   ]
  },
  {
   "cell_type": "markdown",
   "metadata": {},
   "source": [
    "Stop criteria to pass to the logger:"
   ]
  },
  {
   "cell_type": "code",
   "execution_count": 40,
   "metadata": {},
   "outputs": [],
   "source": [
    "def stop_fn(logger_data):\n",
    "    return all(logger_data.gpio.values[-1])"
   ]
  },
  {
   "cell_type": "code",
   "execution_count": 41,
   "metadata": {},
   "outputs": [],
   "source": [
    "#with DGILib() as dgilib:\n",
    "#     dgilib.get_major_version()"
   ]
  },
  {
   "cell_type": "markdown",
   "metadata": {},
   "source": [
    "Perform the measurement."
   ]
  },
  {
   "cell_type": "code",
   "execution_count": 42,
   "metadata": {},
   "outputs": [],
   "source": [
    "data = []\n",
    "cd = config_dict.copy()\n",
    "if live_plot:\n",
    "    fig.clf()\n",
    "    for ax in fig.get_axes():\n",
    "        ax.cla()\n",
    "    \n",
    "    cd.update(config_dict_plot)\n",
    "    cd[\"fig\"] = fig\n",
    "    \n",
    "with DGILibExtra(**cd) as dgilib:\n",
    "    dgilib.device_reset()\n",
    "    dgilib.logger.log(1000,stop_fn)\n",
    "    data = dgilib.data"
   ]
  },
  {
   "cell_type": "code",
   "execution_count": 43,
   "metadata": {},
   "outputs": [
    {
     "data": {
      "text/plain": [
       "{48: 6004, 256: 844000}"
      ]
     },
     "execution_count": 43,
     "metadata": {},
     "output_type": "execute_result"
    }
   ],
   "source": [
    "data.length()"
   ]
  },
  {
   "cell_type": "code",
   "execution_count": 44,
   "metadata": {},
   "outputs": [
    {
     "name": "stdout",
     "output_type": "stream",
     "text": [
      "Interfaces:\n",
      "\t  48:   gpio,    samples:    6004\n",
      "\t 256:   power,   samples:  844000\n",
      "\n"
     ]
    }
   ],
   "source": [
    "print(data)"
   ]
  },
  {
   "cell_type": "markdown",
   "metadata": {},
   "source": [
    "# Store Data"
   ]
  },
  {
   "cell_type": "code",
   "execution_count": 45,
   "metadata": {},
   "outputs": [],
   "source": [
    "import pickle"
   ]
  },
  {
   "cell_type": "code",
   "execution_count": 46,
   "metadata": {},
   "outputs": [],
   "source": [
    "pickle.dump(data, open(\"aes_flash_logger_data.p\", \"wb\"))"
   ]
  },
  {
   "cell_type": "markdown",
   "metadata": {},
   "source": [
    "# Load Data"
   ]
  },
  {
   "cell_type": "code",
   "execution_count": 47,
   "metadata": {},
   "outputs": [],
   "source": [
    "data = pickle.load(open(\"aes_flash_logger_data.p\", \"rb\"))"
   ]
  },
  {
   "cell_type": "code",
   "execution_count": 48,
   "metadata": {},
   "outputs": [],
   "source": [
    "#iteration = 0\n",
    "#name = \"AES-128_Flash\"\n",
    "#data = pickle.load(open(path.join(path.pardir, path.pardir, f\"{name}_{iteration}.p\"), \"rb\"))"
   ]
  },
  {
   "cell_type": "markdown",
   "metadata": {},
   "source": [
    "## Analysis"
   ]
  },
  {
   "cell_type": "markdown",
   "metadata": {},
   "source": [
    "Create Stop Function to stop parsing the data when all pins are high."
   ]
  },
  {
   "cell_type": "code",
   "execution_count": 49,
   "metadata": {},
   "outputs": [],
   "source": [
    "def stop_function(pin_values):\n",
    "    return all(pin_values)"
   ]
  },
  {
   "cell_type": "markdown",
   "metadata": {},
   "source": [
    "Parse the data."
   ]
  },
  {
   "cell_type": "code",
   "execution_count": 50,
   "metadata": {},
   "outputs": [],
   "source": [
    "aes_charge, aes_time = power_and_time_per_pulse(data, 2, stop_function=stop_function)"
   ]
  },
  {
   "cell_type": "code",
   "execution_count": 51,
   "metadata": {},
   "outputs": [],
   "source": [
    "flash_charge, flash_time = power_and_time_per_pulse(data, 3, stop_function=stop_function)"
   ]
  },
  {
   "cell_type": "code",
   "execution_count": 52,
   "metadata": {},
   "outputs": [
    {
     "name": "stdout",
     "output_type": "stream",
     "text": [
      "750 750 750 750\n"
     ]
    }
   ],
   "source": [
    "print(len(aes_charge), len(aes_time), len(flash_charge), len(flash_time))\n",
    "# cutoff = min(len(aes_charge), len(aes_time), len(flash_charge), len(flash_time))\n",
    "# aes_charge = aes_charge[:cutoff]\n",
    "# aes_time = aes_time[:cutoff]\n",
    "# flash_charge = flash_charge[:cutoff]\n",
    "# flash_time = flash_time[:cutoff]"
   ]
  },
  {
   "cell_type": "code",
   "execution_count": 53,
   "metadata": {},
   "outputs": [],
   "source": [
    "# length = len(aes_charge)\n",
    "# assert length == len(aes_time)\n",
    "# assert length == len(flash_charge)\n",
    "# assert length == len(flash_time)\n",
    "# print(length)"
   ]
  },
  {
   "cell_type": "code",
   "execution_count": 54,
   "metadata": {},
   "outputs": [],
   "source": [
    "aes_encrypt_charge = aes_charge[0::2]\n",
    "aes_decrypt_charge = aes_charge[1::2]\n",
    "aes_encrypt_time = aes_time[0::2]\n",
    "aes_decrypt_time = aes_time[1::2]"
   ]
  },
  {
   "cell_type": "code",
   "execution_count": 55,
   "metadata": {},
   "outputs": [],
   "source": [
    "aes_flash_write_charge = flash_charge[0::2]\n",
    "aes_flash_read_charge = flash_charge[1::2]\n",
    "aes_flash_write_time = flash_time[0::2]\n",
    "aes_flash_read_time = flash_time[1::2]"
   ]
  },
  {
   "cell_type": "code",
   "execution_count": 56,
   "metadata": {},
   "outputs": [
    {
     "data": {
      "text/plain": [
       "(375, 375, 375, 375, 375, 375, 375, 375)"
      ]
     },
     "execution_count": 56,
     "metadata": {},
     "output_type": "execute_result"
    }
   ],
   "source": [
    "len(aes_encrypt_charge), len(aes_decrypt_charge), len(aes_encrypt_time), len(aes_decrypt_time), len(aes_flash_write_charge), len(aes_flash_read_charge), len(aes_flash_write_time), len(aes_flash_read_time)"
   ]
  },
  {
   "cell_type": "code",
   "execution_count": 57,
   "metadata": {},
   "outputs": [],
   "source": [
    "drop = 0\n",
    "cutoff = min(len(aes_encrypt_charge), len(aes_decrypt_charge), len(aes_encrypt_time), len(aes_decrypt_time), len(aes_flash_write_charge), len(aes_flash_read_charge), len(aes_flash_write_time), len(aes_flash_read_time)) - drop\n",
    "aes_encrypt_charge = aes_encrypt_charge[:cutoff]\n",
    "aes_decrypt_charge = aes_decrypt_charge[:cutoff]\n",
    "aes_encrypt_time = aes_encrypt_time[:cutoff]\n",
    "aes_decrypt_time = aes_decrypt_time[:cutoff]\n",
    "aes_flash_write_charge = aes_flash_write_charge[:cutoff]\n",
    "aes_flash_read_charge = aes_flash_read_charge[:cutoff]\n",
    "aes_flash_write_time = aes_flash_write_time[:cutoff]\n",
    "aes_flash_read_time = aes_flash_read_time[:cutoff]"
   ]
  },
  {
   "cell_type": "code",
   "execution_count": 58,
   "metadata": {},
   "outputs": [
    {
     "name": "stdout",
     "output_type": "stream",
     "text": [
      "375\n"
     ]
    }
   ],
   "source": [
    "length = len(aes_encrypt_charge)\n",
    "assert length == len(aes_decrypt_charge)\n",
    "assert length == len(aes_encrypt_time)\n",
    "assert length == len(aes_decrypt_time)\n",
    "assert length == len(aes_flash_write_charge)\n",
    "assert length == len(aes_flash_read_charge)\n",
    "assert length == len(aes_flash_write_time)\n",
    "assert length == len(aes_flash_read_time)\n",
    "print(length)"
   ]
  },
  {
   "cell_type": "markdown",
   "metadata": {},
   "source": [
    "# Convert to Joule"
   ]
  },
  {
   "cell_type": "code",
   "execution_count": 59,
   "metadata": {},
   "outputs": [],
   "source": [
    "voltage = 3.31\n",
    "j_scale = 1e3 # m\n",
    "t_scale = 1e3 # m\n",
    "model_j_scale = 1e6 # n\n",
    "model_t_scale = 1e3 # u\n",
    "\n",
    "experiment_name = project_name"
   ]
  },
  {
   "cell_type": "code",
   "execution_count": 60,
   "metadata": {},
   "outputs": [],
   "source": [
    "aes_encrypt_energy = aes_encrypt_charge[:cutoff]\n",
    "aes_flash_write_energy = aes_flash_write_charge[:cutoff]\n",
    "aes_flash_read_energy = aes_flash_read_charge[:cutoff]\n",
    "aes_decrypt_energy = aes_decrypt_charge[:cutoff]\n",
    "aes_encrypt_time_s = aes_encrypt_time[:cutoff]\n",
    "aes_flash_write_time_s = aes_flash_write_time[:cutoff]\n",
    "aes_flash_read_time_s = aes_flash_read_time[:cutoff]\n",
    "aes_decrypt_time_s = aes_decrypt_time[:cutoff]\n",
    "\n",
    "for i in range(len(aes_encrypt_energy)):\n",
    "    aes_encrypt_energy[i] = aes_encrypt_energy[i] * voltage * j_scale\n",
    "for i in range(len(aes_flash_write_energy)):\n",
    "    aes_flash_write_energy[i] = aes_flash_write_energy[i] * voltage * j_scale\n",
    "for i in range(len(aes_flash_read_energy)):\n",
    "    aes_flash_read_energy[i] = aes_flash_read_energy[i] * voltage * j_scale\n",
    "for i in range(len(aes_decrypt_energy)):\n",
    "    aes_decrypt_energy[i] = aes_decrypt_energy[i] * voltage * j_scale\n",
    "    \n",
    "for i in range(len(aes_encrypt_time_s)):\n",
    "    aes_encrypt_time_s[i] = aes_encrypt_time_s[i] * t_scale\n",
    "for i in range(len(aes_flash_write_time_s)):\n",
    "    aes_flash_write_time_s[i] = aes_flash_write_time_s[i] * t_scale\n",
    "for i in range(len(aes_flash_read_time_s)):\n",
    "    aes_flash_read_time_s[i] = aes_flash_read_time_s[i] * t_scale\n",
    "for i in range(len(aes_decrypt_time_s)):\n",
    "    aes_decrypt_time_s[i] = aes_decrypt_time_s[i] * t_scale"
   ]
  },
  {
   "cell_type": "code",
   "execution_count": 61,
   "metadata": {},
   "outputs": [
    {
     "name": "stdout",
     "output_type": "stream",
     "text": [
      "MAX_NUM_BYTES: 6000\n"
     ]
    }
   ],
   "source": [
    "MBEDTLS_AES_BLOCK_SIZE = 16\n",
    "STEP_SIZE = MBEDTLS_AES_BLOCK_SIZE\n",
    "MIN_NUM_BYTES = STEP_SIZE\n",
    "num_bytes = range(MIN_NUM_BYTES, MIN_NUM_BYTES + STEP_SIZE * len(aes_encrypt_energy), STEP_SIZE)\n",
    "print(f\"MAX_NUM_BYTES: {num_bytes[-1]}\")"
   ]
  },
  {
   "cell_type": "code",
   "execution_count": 62,
   "metadata": {},
   "outputs": [],
   "source": [
    "from lmfit import Model\n",
    "\n",
    "def line(x, slope, intercept):\n",
    "    \"\"\"a line\"\"\"\n",
    "    return [slope*i + intercept for i in x]\n",
    "\n",
    "mod = Model(line)\n",
    "pars = mod.make_params(slope=0, intercept=1)\n",
    "# pars['intercept'].set(min=0)"
   ]
  },
  {
   "cell_type": "code",
   "execution_count": 63,
   "metadata": {},
   "outputs": [
    {
     "name": "stdout",
     "output_type": "stream",
     "text": [
      "[[Model]]\n",
      "    Model(line)\n",
      "[[Fit Statistics]]\n",
      "    # fitting method   = leastsq\n",
      "    # function evals   = 6\n",
      "    # data points      = 375\n",
      "    # variables        = 2\n",
      "    chi-square         = 3.1095e-05\n",
      "    reduced chi-square = 8.3365e-08\n",
      "    Akaike info crit   = -6110.51758\n",
      "    Bayesian info crit = -6102.66373\n",
      "[[Variables]]\n",
      "    slope:      8.2147e-05 +/- 8.6083e-09 (0.01%) (init = 0)\n",
      "    intercept: -0.00308171 +/- 2.9880e-05 (0.97%) (init = 1)\n",
      "[[Correlations]] (unreported correlations are < 0.100)\n",
      "    C(slope, intercept) = -0.867\n",
      "[[Model]]\n",
      "    Model(line)\n",
      "[[Fit Statistics]]\n",
      "    # fitting method   = leastsq\n",
      "    # function evals   = 6\n",
      "    # data points      = 375\n",
      "    # variables        = 2\n",
      "    chi-square         = 0.03261931\n",
      "    reduced chi-square = 8.7451e-05\n",
      "    Akaike info crit   = -3502.16630\n",
      "    Bayesian info crit = -3494.31245\n",
      "[[Variables]]\n",
      "    slope:      1.3001e-04 +/- 2.7881e-07 (0.21%) (init = 0)\n",
      "    intercept:  0.01361647 +/- 9.6776e-04 (7.11%) (init = 1)\n",
      "[[Correlations]] (unreported correlations are < 0.100)\n",
      "    C(slope, intercept) = -0.867\n",
      "[[Model]]\n",
      "    Model(line)\n",
      "[[Fit Statistics]]\n",
      "    # fitting method   = leastsq\n",
      "    # function evals   = 6\n",
      "    # data points      = 375\n",
      "    # variables        = 2\n",
      "    chi-square         = 1.2002e-05\n",
      "    reduced chi-square = 3.2177e-08\n",
      "    Akaike info crit   = -6467.51259\n",
      "    Bayesian info crit = -6459.65874\n",
      "[[Variables]]\n",
      "    slope:      2.8323e-06 +/- 5.3481e-09 (0.19%) (init = 0)\n",
      "    intercept: -4.0784e-04 +/- 1.8563e-05 (4.55%) (init = 1)\n",
      "[[Correlations]] (unreported correlations are < 0.100)\n",
      "    C(slope, intercept) = -0.867\n",
      "[[Model]]\n",
      "    Model(line)\n",
      "[[Fit Statistics]]\n",
      "    # fitting method   = leastsq\n",
      "    # function evals   = 6\n",
      "    # data points      = 375\n",
      "    # variables        = 2\n",
      "    chi-square         = 0.00735064\n",
      "    reduced chi-square = 1.9707e-05\n",
      "    Akaike info crit   = -4060.96044\n",
      "    Bayesian info crit = -4053.10659\n",
      "[[Variables]]\n",
      "    slope:      8.5722e-05 +/- 1.3235e-07 (0.15%) (init = 0)\n",
      "    intercept: -0.00206005 +/- 4.5940e-04 (22.30%) (init = 1)\n",
      "[[Correlations]] (unreported correlations are < 0.100)\n",
      "    C(slope, intercept) = -0.867\n",
      "[[Model]]\n",
      "    Model(line)\n",
      "[[Fit Statistics]]\n",
      "    # fitting method   = leastsq\n",
      "    # function evals   = 7\n",
      "    # data points      = 375\n",
      "    # variables        = 2\n",
      "    chi-square         = 0.27493846\n",
      "    reduced chi-square = 7.3710e-04\n",
      "    Akaike info crit   = -2702.80026\n",
      "    Bayesian info crit = -2694.94641\n",
      "[[Variables]]\n",
      "    slope:      0.01297775 +/- 8.0942e-07 (0.01%) (init = 0)\n",
      "    intercept:  0.00712801 +/- 0.00280959 (39.42%) (init = 1)\n",
      "[[Correlations]] (unreported correlations are < 0.100)\n",
      "    C(slope, intercept) = -0.867\n",
      "[[Model]]\n",
      "    Model(line)\n",
      "[[Fit Statistics]]\n",
      "    # fitting method   = leastsq\n",
      "    # function evals   = 6\n",
      "    # data points      = 375\n",
      "    # variables        = 2\n",
      "    chi-square         = 321.148002\n",
      "    reduced chi-square = 0.86098660\n",
      "    Akaike info crit   = -54.1339791\n",
      "    Bayesian info crit = -46.2801271\n",
      "[[Variables]]\n",
      "    slope:      0.01397332 +/- 2.7665e-05 (0.20%) (init = 0)\n",
      "    intercept:  2.20666501 +/- 0.09602443 (4.35%) (init = 1)\n",
      "[[Correlations]] (unreported correlations are < 0.100)\n",
      "    C(slope, intercept) = -0.867\n",
      "[[Model]]\n",
      "    Model(line)\n",
      "[[Fit Statistics]]\n",
      "    # fitting method   = leastsq\n",
      "    # function evals   = 6\n",
      "    # data points      = 375\n",
      "    # variables        = 2\n",
      "    chi-square         = 0.28018350\n",
      "    reduced chi-square = 7.5116e-04\n",
      "    Akaike info crit   = -2695.71371\n",
      "    Bayesian info crit = -2687.85986\n",
      "[[Variables]]\n",
      "    slope:      7.0590e-04 +/- 8.1713e-07 (0.12%) (init = 0)\n",
      "    intercept:  0.01295783 +/- 0.00283629 (21.89%) (init = 1)\n",
      "[[Correlations]] (unreported correlations are < 0.100)\n",
      "    C(slope, intercept) = -0.867\n",
      "[[Model]]\n",
      "    Model(line)\n",
      "[[Fit Statistics]]\n",
      "    # fitting method   = leastsq\n",
      "    # function evals   = 6\n",
      "    # data points      = 375\n",
      "    # variables        = 2\n",
      "    chi-square         = 194.076529\n",
      "    reduced chi-square = 0.52031241\n",
      "    Akaike info crit   = -243.002549\n",
      "    Bayesian info crit = -235.148697\n",
      "[[Variables]]\n",
      "    slope:      0.01395397 +/- 2.1506e-05 (0.15%) (init = 0)\n",
      "    intercept:  0.08745763 +/- 0.07464759 (85.35%) (init = 1)\n",
      "[[Correlations]] (unreported correlations are < 0.100)\n",
      "    C(slope, intercept) = -0.867\n",
      "[[Model]]\n",
      "    Model(line)\n",
      "[[Fit Statistics]]\n",
      "    # fitting method   = leastsq\n",
      "    # function evals   = 6\n",
      "    # data points      = 375\n",
      "    # variables        = 2\n",
      "    chi-square         = 0.04105396\n",
      "    reduced chi-square = 1.1006e-04\n",
      "    Akaike info crit   = -3415.92276\n",
      "    Bayesian info crit = -3408.06891\n",
      "[[Variables]]\n",
      "    slope:      3.0071e-04 +/- 3.1279e-07 (0.10%) (init = 0)\n",
      "    intercept:  0.00806687 +/- 0.00108569 (13.46%) (init = 1)\n",
      "[[Correlations]] (unreported correlations are < 0.100)\n",
      "    C(slope, intercept) = -0.867\n",
      "[[Model]]\n",
      "    Model(line)\n",
      "[[Fit Statistics]]\n",
      "    # fitting method   = leastsq\n",
      "    # function evals   = 10\n",
      "    # data points      = 375\n",
      "    # variables        = 2\n",
      "    chi-square         = 538.430418\n",
      "    reduced chi-square = 1.44351319\n",
      "    Akaike info crit   = 139.649593\n",
      "    Bayesian info crit = 147.503445\n",
      "[[Variables]]\n",
      "    slope:      0.04161093 +/- 3.5821e-05 (0.09%) (init = 0)\n",
      "    intercept:  2.31420844 +/- 0.12433517 (5.37%) (init = 1)\n",
      "[[Correlations]] (unreported correlations are < 0.100)\n",
      "    C(slope, intercept) = -0.867\n"
     ]
    }
   ],
   "source": [
    "results = []\n",
    "ylabels = (['Energy [mJ]'] * 2 + ['Time [ms]'] * 2) * 2 + ['Energy [mJ]'] + ['Time [ms]']\n",
    "parameter_names = [\n",
    "    'Encrypt Energy',\n",
    "    'Flash Write Energy',\n",
    "    'Flash Read Energy',\n",
    "    'Decrypt Energy',\n",
    "    'Encrypt Time',\n",
    "    'Flash Write Time',\n",
    "    'Flash Read Time',\n",
    "    'Decrypt Time',\n",
    "    'Total Energy',\n",
    "    'Total Time',\n",
    "]\n",
    "for y in [aes_encrypt_energy, aes_flash_write_energy, aes_flash_read_energy, aes_decrypt_energy, aes_encrypt_time_s, aes_flash_write_time_s, aes_flash_read_time_s, aes_decrypt_time_s,\n",
    "          [e + w + r + d for (e,w,r,d) in zip(aes_encrypt_energy, aes_flash_write_energy, aes_flash_read_energy, aes_decrypt_energy)],\n",
    "          [e + w + r + d for (e,w,r,d) in zip(aes_encrypt_time_s, aes_flash_write_time_s, aes_flash_read_time_s, aes_decrypt_time_s)]]:\n",
    "    result = mod.fit(y, pars, x=num_bytes)\n",
    "    print(result.fit_report())\n",
    "    fig, grid = result.plot(\n",
    "        xlabel='Checkpoint Size [Bytes]',\n",
    "        ylabel=ylabels[len(results)])\n",
    "    fig.tight_layout(rect=(0.05, 0.05, 1, 1))\n",
    "    fig.set_size_inches(5, 4.5, forward=True)\n",
    "    fig.canvas.set_window_title(\n",
    "        f\"Residuals of {experiment_name} {parameter_names[len(results)]}\")\n",
    "    fig.savefig( f\"Residuals of {experiment_name} {parameter_names[len(results)]}\")\n",
    "    fig.show()\n",
    "    results.append(result)"
   ]
  },
  {
   "cell_type": "code",
   "execution_count": 64,
   "metadata": {},
   "outputs": [],
   "source": [
    "fig2 = plt.figure(figsize=(8, 6))\n",
    "fig2.canvas.set_window_title(f\"Analysis {experiment_name}\")"
   ]
  },
  {
   "cell_type": "code",
   "execution_count": 65,
   "metadata": {},
   "outputs": [],
   "source": [
    "charge_color = 'r'\n",
    "time_color = 'b'"
   ]
  },
  {
   "cell_type": "code",
   "execution_count": 66,
   "metadata": {},
   "outputs": [],
   "source": [
    "fig2.clf()\n",
    "# fig2.suptitle(\"Energy analysis of AES\")\n",
    "ax1 = fig2.add_subplot(1, 1, 1)\n",
    "ax2 = ax1.twinx()\n",
    "ax1.set_xlabel('Checkpoint Size [Bytes]')\n",
    "ax1.set_ylabel('Energy [mJ]', color=charge_color)\n",
    "ax2.set_ylabel('Time [ms]', color=time_color)\n",
    "ax1.tick_params('y', colors=charge_color)\n",
    "ax2.tick_params('y', colors=time_color)"
   ]
  },
  {
   "cell_type": "code",
   "execution_count": 67,
   "metadata": {},
   "outputs": [],
   "source": [
    "lines = []\n",
    "lines += ax1.plot(num_bytes, aes_encrypt_energy, charge_color+'-', label=f'{parameter_names[len(lines)]}')\n",
    "lines += ax1.plot(num_bytes, aes_flash_write_energy, charge_color+'-.', label=f'{parameter_names[len(lines)]}')\n",
    "lines += ax1.plot(num_bytes, aes_flash_read_energy, charge_color+':', label=f'{parameter_names[len(lines)]}')\n",
    "lines += ax1.plot(num_bytes, aes_decrypt_energy, charge_color+'--', label=f'{parameter_names[len(lines)]}')\n",
    "lines += ax2.plot(num_bytes, aes_encrypt_time_s, time_color+'-', label=f'{parameter_names[len(lines)]}')\n",
    "lines += ax2.plot(num_bytes, aes_flash_write_time_s, time_color+'-.', label=f'{parameter_names[len(lines)]}')\n",
    "lines += ax2.plot(num_bytes, aes_flash_read_time_s, time_color+':', label=f'{parameter_names[len(lines)]}')\n",
    "lines += ax2.plot(num_bytes, aes_decrypt_time_s, time_color+'--', label=f'{parameter_names[len(lines)]}')\n",
    "ax1.legend(handles=lines)\n",
    "ax1.set_title(\n",
    "    f\"{parameter_names[0]}: Slope {results[0].params['slope'].value * model_j_scale:.04} nJ/B, Intercept {results[0].params['intercept'].value * model_j_scale:.04} nJ\\n\" +\n",
    "    f\"{parameter_names[1]}: Slope {results[1].params['slope'].value * model_j_scale:.04} nJ/B, Intercept {results[1].params['intercept'].value * model_j_scale:.04} nJ\\n\" +\n",
    "    f\"{parameter_names[2]}: Slope {results[2].params['slope'].value * model_j_scale:.04} nJ/B, Intercept {results[2].params['intercept'].value * model_j_scale:.04} nJ\\n\" +\n",
    "    f\"{parameter_names[3]}: Slope {results[3].params['slope'].value * model_j_scale:.04} nJ/B, Intercept {results[3].params['intercept'].value * model_j_scale:.04} nJ\\n\" +\n",
    "    f\"{parameter_names[4]}: Slope {results[4].params['slope'].value * model_t_scale:.04} $\\mu$s/B, Intercept {results[4].params['intercept'].value * model_t_scale:.04} $\\mu$s\\n\" +\n",
    "    f\"{parameter_names[5]}: Slope {results[5].params['slope'].value * model_t_scale:.04} $\\mu$s/B, Intercept {results[5].params['intercept'].value * model_t_scale:.04} $\\mu$s\\n\" +\n",
    "    f\"{parameter_names[6]}: Slope {results[6].params['slope'].value * model_t_scale:.04} $\\mu$s/B, Intercept {results[6].params['intercept'].value * model_t_scale:.04} $\\mu$s\\n\" +\n",
    "    f\"{parameter_names[7]}: Slope {results[7].params['slope'].value * model_t_scale:.04} $\\mu$s/B, Intercept {results[7].params['intercept'].value * model_t_scale:.04} $\\mu$s\\n\" +\n",
    "    f\"{parameter_names[8]}: Slope {results[8].params['slope'].value * model_j_scale:.04} nJ/B, Intercept {results[8].params['intercept'].value * model_j_scale:.04} nJ\\n\" +\n",
    "    f\"{parameter_names[9]}: Slope {results[9].params['slope'].value * model_t_scale:.04} $\\mu$s/B, Intercept {results[9].params['intercept'].value * model_t_scale:.04} $\\mu$s\\n\")\n",
    "fig2.tight_layout()\n",
    "fig2.savefig(f\"Analysis {experiment_name}\")\n",
    "fig2.show()"
   ]
  },
  {
   "cell_type": "code",
   "execution_count": 68,
   "metadata": {},
   "outputs": [
    {
     "name": "stdout",
     "output_type": "stream",
     "text": [
      "Encrypt Energy: Slope 82.147495558463489829 nJ/B, Intercept -3081.7130103961699206 nJ\n",
      "Flash Write Energy: Slope 130.00728964284425615 nJ/B, Intercept 13616.468647485557085 nJ\n",
      "Flash Read Energy: Slope 2.8322577355597693405 nJ/B, Intercept -407.83772238528467824 nJ\n",
      "Decrypt Energy: Slope 85.721631919744623929 nJ/B, Intercept -2060.0515833828490031 nJ\n",
      "Encrypt Time: Slope 12.977746420561475205 $\\mu$s/B, Intercept 7.1280093450355463958 $\\mu$s\n",
      "Flash Write Time: Slope 13.973317641976864323 $\\mu$s/B, Intercept 2206.6650116056853221 $\\mu$s\n",
      "Flash Read Time: Slope 0.70589615732656751934 $\\mu$s/B, Intercept 12.957827207130122815 $\\mu$s\n",
      "Decrypt Time: Slope 13.953965364850027697 $\\mu$s/B, Intercept 87.457631865017759765 $\\mu$s\n",
      "Total Energy: Slope 300.70867485661170804 nJ/B, Intercept 8066.8663378666851713 nJ\n",
      "Total Time: Slope 41.61092559373993538 $\\mu$s/B, Intercept 2314.2084436366453701 $\\mu$s\n",
      "\n"
     ]
    }
   ],
   "source": [
    "print(\n",
    "    f\"{parameter_names[0]}: Slope {results[0].params['slope'].value * model_j_scale:.020} nJ/B, Intercept {results[0].params['intercept'].value * model_j_scale:.020} nJ\\n\" +\n",
    "    f\"{parameter_names[1]}: Slope {results[1].params['slope'].value * model_j_scale:.020} nJ/B, Intercept {results[1].params['intercept'].value * model_j_scale:.020} nJ\\n\" +\n",
    "    f\"{parameter_names[2]}: Slope {results[2].params['slope'].value * model_j_scale:.020} nJ/B, Intercept {results[2].params['intercept'].value * model_j_scale:.020} nJ\\n\" +\n",
    "    f\"{parameter_names[3]}: Slope {results[3].params['slope'].value * model_j_scale:.020} nJ/B, Intercept {results[3].params['intercept'].value * model_j_scale:.020} nJ\\n\" +\n",
    "    f\"{parameter_names[4]}: Slope {results[4].params['slope'].value * model_t_scale:.020} $\\mu$s/B, Intercept {results[4].params['intercept'].value * model_t_scale:.020} $\\mu$s\\n\" +\n",
    "    f\"{parameter_names[5]}: Slope {results[5].params['slope'].value * model_t_scale:.020} $\\mu$s/B, Intercept {results[5].params['intercept'].value * model_t_scale:.020} $\\mu$s\\n\" +\n",
    "    f\"{parameter_names[6]}: Slope {results[6].params['slope'].value * model_t_scale:.020} $\\mu$s/B, Intercept {results[6].params['intercept'].value * model_t_scale:.020} $\\mu$s\\n\" +\n",
    "    f\"{parameter_names[7]}: Slope {results[7].params['slope'].value * model_t_scale:.020} $\\mu$s/B, Intercept {results[7].params['intercept'].value * model_t_scale:.020} $\\mu$s\\n\" +\n",
    "    f\"{parameter_names[8]}: Slope {results[8].params['slope'].value * model_j_scale:.020} nJ/B, Intercept {results[8].params['intercept'].value * model_j_scale:.020} nJ\\n\" +\n",
    "    f\"{parameter_names[9]}: Slope {results[9].params['slope'].value * model_t_scale:.020} $\\mu$s/B, Intercept {results[9].params['intercept'].value * model_t_scale:.020} $\\mu$s\\n\"\n",
    ")"
   ]
  },
  {
   "cell_type": "code",
   "execution_count": 69,
   "metadata": {},
   "outputs": [],
   "source": [
    "# Save Charge amount list into pickle file\n",
    "import pickle\n",
    "pickle.dump(aes_encrypt_energy, open(\"aes_flash_encrypt_energy_mJ.p\", \"wb\"))\n",
    "pickle.dump(aes_decrypt_energy, open(\"aes_flash_decrypt_energy_mJ.p\", \"wb\"))\n",
    "pickle.dump(aes_flash_write_energy, open(\"aes_flash_write_energy_mJ.p\", \"wb\"))\n",
    "pickle.dump(aes_flash_read_energy, open(\"aes_flash_read_energy_mJ.p\", \"wb\"))\n",
    "pickle.dump(aes_encrypt_time_s, open(\"aes_flash_encrypt_time_ms.p\", \"wb\"))\n",
    "pickle.dump(aes_decrypt_time_s, open(\"aes_flash_decrypt_time_ms.p\", \"wb\"))\n",
    "pickle.dump(aes_flash_write_time_s, open(\"aes_flash_write_time_ms.p\", \"wb\"))\n",
    "pickle.dump(aes_flash_read_time_s, open(\"aes_flash_read_time_ms.p\", \"wb\"))"
   ]
  },
  {
   "cell_type": "code",
   "execution_count": 70,
   "metadata": {},
   "outputs": [
    {
     "name": "stdout",
     "output_type": "stream",
     "text": [
      "375 6000\n",
      "375 6000\n",
      "375 6000\n",
      "375 6000\n",
      "375 6000\n",
      "375 6000\n",
      "375 6000\n",
      "375 6000\n"
     ]
    }
   ],
   "source": [
    "aes = [aes_encrypt_energy, aes_flash_write_energy, aes_flash_read_energy, aes_decrypt_energy, aes_encrypt_time_s, aes_flash_write_time_s, aes_flash_read_time_s, aes_decrypt_time_s]\n",
    "for i in aes:\n",
    "    print(len(i), len(i)*16)"
   ]
  },
  {
   "cell_type": "markdown",
   "metadata": {},
   "source": [
    "## Write config file"
   ]
  },
  {
   "cell_type": "code",
   "execution_count": 71,
   "metadata": {},
   "outputs": [],
   "source": [
    "import json\n",
    "\n",
    "config = {}\n",
    "config[\"name\"] = \"AES-256 Flash\"\n",
    "config[\"project_paths\"] = [project_path]\n",
    "config[\"config_dict\"] = config_dict\n",
    "config[\"config_dict_plot\"] = config_dict_plot\n",
    "config[\"analysis\"] = {\"pins\":{2: [\"AES-256 Encrypt\", \"AES-256 Decrypt\"], 3: [\"AES-256 Flash Write\", \"AES-256 Flash Read\"]}, \n",
    "                      \"result_types\": [\"Charge\", \"Time\"],\n",
    "                      \"section_types\": {\"init\": [], \n",
    "                                        \"store\": [\"AES-256 Encrypt\", \"AES-256 Flash Write\"],\n",
    "                                        \"load\": [\"AES-256 Flash Read\", \"AES-256 Decrypt\"],\n",
    "                                        \"exit\": []},\n",
    "                      \"labels\": {\n",
    "                          \"Charge\": {\"x\":\"Data Size\", \"x_unit\": \"byte\", \"y\": \"Charge\", \"y_unit\": \"C\"},\n",
    "                          \"Time\": {\"x\":\"Data Size\", \"x_unit\": \"byte\", \"y\": \"Time\", \"y_unit\": \"s\"},\n",
    "                      },\n",
    "                      \"x_step\": MBEDTLS_AES_BLOCK_SIZE}\n",
    "\n",
    "with open(\"looped_experiment.json\", 'w') as config_file:  \n",
    "    json.dump(config, config_file, indent=4)"
   ]
  },
  {
   "cell_type": "markdown",
   "metadata": {},
   "source": [
    "# Write model data"
   ]
  },
  {
   "cell_type": "code",
   "execution_count": 72,
   "metadata": {},
   "outputs": [],
   "source": [
    "dump_pickle = True\n",
    "fit_lm = True\n",
    "verbose = 2\n",
    "show_lm_plot = 2\n",
    "# drop = 1"
   ]
  },
  {
   "cell_type": "code",
   "execution_count": 73,
   "metadata": {},
   "outputs": [],
   "source": [
    "# Parse data\n",
    "analysis_config = config.get(\"analysis\")\n",
    "result_types = analysis_config.get(\"result_types\")\n",
    "x_step = analysis_config.get(\"x_step\")\n",
    "parsed_data = {}\n",
    "for pin, parameter_names in analysis_config.get(\"pins\").items():\n",
    "    data2 = power_and_time_per_pulse(\n",
    "        data, int(pin), stop_function=stop_function)\n",
    "    num_names = len(parameter_names)\n",
    "    for i, parameter_name in enumerate(parameter_names):\n",
    "        end_index = -drop * num_names or None\n",
    "        parsed_data[parameter_name] = {\n",
    "            result_types[0]: data2[0][i:end_index:num_names],\n",
    "            result_types[1]: data2[1][i:end_index:num_names],\n",
    "            \"x_step\": x_step}\n",
    "if dump_pickle:\n",
    "    pickle.dump(parsed_data, open(\n",
    "        path.join(path.curdir,\n",
    "                  f\"{config_dict.get('file_name_base')}_looped.p\"), \"wb\"))"
   ]
  },
  {
   "cell_type": "code",
   "execution_count": 74,
   "metadata": {},
   "outputs": [
    {
     "name": "stdout",
     "output_type": "stream",
     "text": [
      "Fitting model to AES-256 Encrypt with 375 samples, from 16 to 6000 bytes in steps of 16.\n",
      "[[Model]]\n",
      "    Model(line)\n",
      "[[Fit Statistics]]\n",
      "    # fitting method   = leastsq\n",
      "    # function evals   = 9\n",
      "    # data points      = 375\n",
      "    # variables        = 2\n",
      "    chi-square         = 2.8382e-12\n",
      "    reduced chi-square = 7.6090e-15\n",
      "    Akaike info crit   = -12189.0452\n",
      "    Bayesian info crit = -12181.1913\n",
      "[[Variables]]\n",
      "    intercept: -9.3103e-07 +/- 9.0271e-09 (0.97%) (init = 0)\n",
      "    slope:      2.4818e-08 +/- 2.6007e-12 (0.01%) (init = 1)\n",
      "[[Correlations]] (unreported correlations are < 0.100)\n",
      "    C(intercept, slope) = -0.867\n",
      "[[Model]]\n",
      "    Model(line)\n",
      "[[Fit Statistics]]\n",
      "    # fitting method   = leastsq\n",
      "    # function evals   = 7\n",
      "    # data points      = 375\n",
      "    # variables        = 2\n",
      "    chi-square         = 2.7494e-07\n",
      "    reduced chi-square = 7.3710e-10\n",
      "    Akaike info crit   = -7883.61672\n",
      "    Bayesian info crit = -7875.76286\n",
      "[[Variables]]\n",
      "    intercept:  7.1281e-06 +/- 2.8095e-06 (39.42%) (init = 0)\n",
      "    slope:      1.2978e-05 +/- 8.0941e-10 (0.01%) (init = 1)\n",
      "[[Correlations]] (unreported correlations are < 0.100)\n",
      "    C(intercept, slope) = -0.867\n",
      "Fitting model to AES-256 Decrypt with 375 samples, from 16 to 6000 bytes in steps of 16.\n",
      "[[Model]]\n",
      "    Model(line)\n",
      "[[Fit Statistics]]\n",
      "    # fitting method   = leastsq\n",
      "    # function evals   = 9\n",
      "    # data points      = 375\n",
      "    # variables        = 2\n",
      "    chi-square         = 6.7092e-10\n",
      "    reduced chi-square = 1.7987e-12\n",
      "    Akaike info crit   = -10139.4880\n",
      "    Bayesian info crit = -10131.6342\n",
      "[[Variables]]\n",
      "    intercept: -6.2237e-07 +/- 1.3879e-07 (22.30%) (init = 0)\n",
      "    slope:      2.5898e-08 +/- 3.9986e-11 (0.15%) (init = 1)\n",
      "[[Correlations]] (unreported correlations are < 0.100)\n",
      "    C(intercept, slope) = -0.867\n",
      "[[Model]]\n",
      "    Model(line)\n",
      "[[Fit Statistics]]\n",
      "    # fitting method   = leastsq\n",
      "    # function evals   = 7\n",
      "    # data points      = 375\n",
      "    # variables        = 2\n",
      "    chi-square         = 1.9408e-04\n",
      "    reduced chi-square = 5.2031e-07\n",
      "    Akaike info crit   = -5423.81901\n",
      "    Bayesian info crit = -5415.96516\n",
      "[[Variables]]\n",
      "    intercept:  8.7458e-05 +/- 7.4648e-05 (85.35%) (init = 0)\n",
      "    slope:      1.3954e-05 +/- 2.1506e-08 (0.15%) (init = 1)\n",
      "[[Correlations]] (unreported correlations are < 0.100)\n",
      "    C(intercept, slope) = -0.867\n",
      "Fitting model to AES-256 Flash Write with 375 samples, from 16 to 6000 bytes in steps of 16.\n",
      "[[Model]]\n",
      "    Model(line)\n",
      "[[Fit Statistics]]\n",
      "    # fitting method   = leastsq\n",
      "    # function evals   = 9\n",
      "    # data points      = 375\n",
      "    # variables        = 2\n",
      "    chi-square         = 2.9773e-09\n",
      "    reduced chi-square = 7.9820e-12\n",
      "    Akaike info crit   = -9580.69390\n",
      "    Bayesian info crit = -9572.84005\n",
      "[[Variables]]\n",
      "    intercept:  4.1137e-06 +/- 2.9237e-07 (7.11%) (init = 0)\n",
      "    slope:      3.9277e-08 +/- 8.4233e-11 (0.21%) (init = 1)\n",
      "[[Correlations]] (unreported correlations are < 0.100)\n",
      "    C(intercept, slope) = -0.867\n",
      "[[Model]]\n",
      "    Model(line)\n",
      "[[Fit Statistics]]\n",
      "    # fitting method   = leastsq\n",
      "    # function evals   = 7\n",
      "    # data points      = 375\n",
      "    # variables        = 2\n",
      "    chi-square         = 3.2115e-04\n",
      "    reduced chi-square = 8.6099e-07\n",
      "    Akaike info crit   = -5234.95044\n",
      "    Bayesian info crit = -5227.09659\n",
      "[[Variables]]\n",
      "    intercept:  0.00220666 +/- 9.6024e-05 (4.35%) (init = 0)\n",
      "    slope:      1.3973e-05 +/- 2.7665e-08 (0.20%) (init = 1)\n",
      "[[Correlations]] (unreported correlations are < 0.100)\n",
      "    C(intercept, slope) = -0.867\n",
      "Fitting model to AES-256 Flash Read with 375 samples, from 16 to 6000 bytes in steps of 16.\n",
      "[[Model]]\n",
      "    Model(line)\n",
      "[[Fit Statistics]]\n",
      "    # fitting method   = leastsq\n",
      "    # function evals   = 10\n",
      "    # data points      = 375\n",
      "    # variables        = 2\n",
      "    chi-square         = 1.0955e-12\n",
      "    reduced chi-square = 2.9369e-15\n",
      "    Akaike info crit   = -12546.0402\n",
      "    Bayesian info crit = -12538.1863\n",
      "[[Variables]]\n",
      "    intercept: -1.2321e-07 +/- 5.6082e-09 (4.55%) (init = 0)\n",
      "    slope:      8.5567e-10 +/- 1.6157e-12 (0.19%) (init = 1)\n",
      "[[Correlations]] (unreported correlations are < 0.100)\n",
      "    C(intercept, slope) = -0.867\n",
      "[[Model]]\n",
      "    Model(line)\n",
      "[[Fit Statistics]]\n",
      "    # fitting method   = leastsq\n",
      "    # function evals   = 7\n",
      "    # data points      = 375\n",
      "    # variables        = 2\n",
      "    chi-square         = 2.8018e-07\n",
      "    reduced chi-square = 7.5116e-10\n",
      "    Akaike info crit   = -7876.53017\n",
      "    Bayesian info crit = -7868.67632\n",
      "[[Variables]]\n",
      "    intercept:  1.2958e-05 +/- 2.8363e-06 (21.89%) (init = 0)\n",
      "    slope:      7.0590e-07 +/- 8.1713e-10 (0.12%) (init = 1)\n",
      "[[Correlations]] (unreported correlations are < 0.100)\n",
      "    C(intercept, slope) = -0.867\n"
     ]
    }
   ],
   "source": [
    "# Fit lm\n",
    "if fit_lm:\n",
    "    model = None\n",
    "    if model is None:\n",
    "        def line(x, intercept, slope):\n",
    "            \"\"\"a line\"\"\"\n",
    "            return [intercept + slope*i for i in x]\n",
    "\n",
    "        model = Model(line)\n",
    "        params = model.make_params(intercept=0, slope=1)\n",
    "#         params['intercept'].set(min=0)\n",
    "    else:\n",
    "        params = model.params\n",
    "\n",
    "    model_results = {}\n",
    "    labels = analysis_config.get(\"labels\")\n",
    "    for parameter_name in parsed_data.keys():\n",
    "        length = len(parsed_data[parameter_name][result_types[0]])\n",
    "        x_step = parsed_data[parameter_name][\"x_step\"]\n",
    "        num_bytes = range(x_step, (length+1)*x_step, x_step)\n",
    "        if verbose:\n",
    "            print(\n",
    "                f\"Fitting model to {parameter_name} with {length} \" +\n",
    "                f\"samples, from {min(num_bytes)} to {max(num_bytes)} \"\n",
    "                f\"bytes in steps of {x_step}.\")\n",
    "        model_result = {}\n",
    "        for result_type in result_types:\n",
    "            model_result[result_type] = model.fit(\n",
    "                parsed_data[parameter_name][result_type], params,\n",
    "                x=num_bytes)\n",
    "            if verbose >= 2:\n",
    "                print(model_result[result_type].fit_report())\n",
    "            # Plot multiple view\n",
    "            if show_lm_plot >= 2:\n",
    "                fig, grid = model_result[result_type].plot(\n",
    "                    xlabel=f\"{labels[result_type]['x']} \" +\n",
    "                           f\"[{labels[result_type]['x_unit']}]\",\n",
    "                    ylabel=f\"{labels[result_type]['y']} \" +\n",
    "                           f\"[{labels[result_type]['y_unit']}]\")\n",
    "                fig.canvas.set_window_title(\n",
    "                    f\"Residuals of {parameter_name}\")\n",
    "                fig.tight_layout()\n",
    "                fig.show()\n",
    "            model_results[parameter_name] = model_result\n",
    "\n",
    "    # Plot single view\n",
    "    if show_lm_plot:\n",
    "        import matplotlib.pyplot as plt\n",
    "        fig = plt.figure(figsize=(9, 6))\n",
    "        fig.canvas.set_window_title(f\"Analysis {config.get('name')}\")\n",
    "        colors = dict(zip(result_types, ['r', 'b']))\n",
    "        line_styles = (\n",
    "            line_style for line_style in ('-', '--', '-.', ':') * 2)\n",
    "        # fig.suptitle(f\"Energy analysis of {config.get('name')}\")\n",
    "        ax = {}\n",
    "        ax[result_types[0]] = fig.add_subplot(1, 1, 1)\n",
    "        ax[result_types[1]] = ax[result_types[0]].twinx()\n",
    "        ax[result_types[0]].set_xlabel(\n",
    "            f\"{labels[result_types[0]]['x']} \" +\n",
    "            f\"[{labels[result_types[0]]['x_unit']}]\")\n",
    "        for result_type in result_types:\n",
    "            ax[result_type].set_ylabel(\n",
    "                f\"{labels[result_type]['y']} \" +\n",
    "                f\"[{labels[result_type]['y_unit']}]\",\n",
    "                color=colors[result_type])\n",
    "            ax[result_type].tick_params('y', colors=colors[result_type])\n",
    "\n",
    "        lines = []\n",
    "        title_str = \"\"\n",
    "        for parameter_name in parsed_data.keys():\n",
    "            length = len(parsed_data[parameter_name][result_types[0]])\n",
    "            x_step = parsed_data[parameter_name][\"x_step\"]\n",
    "            num_bytes = range(x_step, (length+1)*x_step, x_step)\n",
    "            model_result = {}\n",
    "            line_style = next(line_styles)\n",
    "            for result_type in result_types:\n",
    "                label = f\"{parameter_name} {labels[result_type]['y']}\"\n",
    "                lines += ax[result_type].plot(\n",
    "                    num_bytes, parsed_data[parameter_name][result_type],\n",
    "                    colors[result_type] + line_style, label=label)\n",
    "                title_str += f\"{label} \"\n",
    "                for param in params.keys():\n",
    "                    title_str += \"\".join(\n",
    "                        f\"{params[param].name.capitalize()}: \")\n",
    "                    title_str += \"\".join(\n",
    "                        f\"{model_results[parameter_name][result_type].params[param].value: .03} \")\n",
    "                    title_str += \"\".join(\n",
    "                        f\"{labels[result_type]['y_unit']}, \")\n",
    "                title_str = title_str[:-2] + \\\n",
    "                    f\" per {labels[result_type]['x_unit']}\\n\"\n",
    "        ax[result_types[0]].legend(handles=lines)\n",
    "        ax[result_types[0]].set_title(title_str[:-1])\n",
    "        # fig.tight_layout()\n",
    "        fig.tight_layout(rect=(0.05, 0.05, 1, 1))\n",
    "        fig.set_size_inches(8, 6, forward=True)\n",
    "        fig.show()\n",
    "\n",
    "    # Save model results to file\n",
    "    if dump_pickle:\n",
    "        model_results_dump = {}\n",
    "        for parameter_name in model_results.keys():\n",
    "            model_results_dump[parameter_name] = {}\n",
    "            for result_type in model_results[parameter_name].keys():\n",
    "                model_results_dump[parameter_name][result_type] = \\\n",
    "                    model_results[parameter_name][result_type].values\n",
    "\n",
    "        pickle.dump(model_results_dump, open(path.join(\n",
    "            path.curdir,\n",
    "            f\"{config_dict.get('file_name_base')}_model.p\"), \"wb\"))"
   ]
  },
  {
   "cell_type": "markdown",
   "metadata": {},
   "source": [
    "# Total from measurement"
   ]
  },
  {
   "cell_type": "code",
   "execution_count": 75,
   "metadata": {},
   "outputs": [
    {
     "name": "stdout",
     "output_type": "stream",
     "text": [
      "342.2244601157556 47804.952239466606\n"
     ]
    }
   ],
   "source": [
    "n_samples = 5995\n",
    "\n",
    "total_energy = sum(aes_encrypt_energy[:n_samples]) + sum(aes_flash_write_energy[:n_samples]) + sum(aes_flash_read_energy[:n_samples]) + sum(aes_decrypt_energy[:n_samples])\n",
    "total_time = sum(aes_encrypt_time_s[:n_samples]) + sum(aes_flash_write_time_s[:n_samples]) + sum(aes_flash_read_time_s[:n_samples]) + sum(aes_decrypt_time_s[:n_samples])\n",
    "print(total_energy, total_time)"
   ]
  },
  {
   "cell_type": "code",
   "execution_count": 76,
   "metadata": {},
   "outputs": [
    {
     "data": {
      "text/plain": [
       "[3.5641727999999877,\n",
       " 3.96019199999998,\n",
       " 4.554220799999994,\n",
       " 4.950240000000008,\n",
       " 5.478265599999977,\n",
       " 6.005945066666685,\n",
       " 6.335743999999977,\n",
       " 6.863722666666683,\n",
       " 7.260410666666689,\n",
       " 7.722436800000009,\n",
       " 8.316171733333377,\n",
       " 8.777503466666726,\n",
       " 9.305473599999946,\n",
       " 9.636467199999998,\n",
       " 10.03248640000004,\n",
       " 10.625922666666675,\n",
       " 14.25542399999996,\n",
       " 14.849297599999975,\n",
       " 15.37713013333336,\n",
       " 15.64201866666659,\n",
       " 16.23691839999986,\n",
       " 16.697710400000123,\n",
       " 17.02717440000001,\n",
       " 17.49053173333337,\n",
       " 18.151026666666567,\n",
       " 18.479253333333332,\n",
       " 19.007911466666695,\n",
       " 19.603425599999944,\n",
       " 19.99863039999994,\n",
       " 20.45900800000022,\n",
       " 20.920985599999888,\n",
       " 21.449376000000186,\n",
       " 25.081823999999695,\n",
       " 25.60815999999999,\n",
       " 26.135301866666573,\n",
       " 26.599289600000244,\n",
       " 26.99351679999995,\n",
       " 27.455494400000056,\n",
       " 27.98535679999992,\n",
       " 28.511200000000066,\n",
       " 28.97259520000017,\n",
       " 29.43463253333301,\n",
       " 29.89993280000003,\n",
       " 30.425734399999847,\n",
       " 30.821785066666997,\n",
       " 31.285769599999956,\n",
       " 31.744717333333398,\n",
       " 32.34068213333363,\n",
       " 35.97073599999989,\n",
       " 36.43084640000027,\n",
       " 36.89261920000031,\n",
       " 37.358716800000245,\n",
       " 37.88240320000047,\n",
       " 38.47922560000016,\n",
       " 38.874285866665744,\n",
       " 39.27019626666617,\n",
       " 39.66715679999977,\n",
       " 40.324370666667164,\n",
       " 40.720866666665856,\n",
       " 41.12032586666725,\n",
       " 41.71065173333366,\n",
       " 42.10960533333319,\n",
       " 42.56877600000042,\n",
       " 43.164895999999956,\n",
       " 46.924927466667214,\n",
       " 47.38570239999973,\n",
       " 47.91752213333345,\n",
       " 48.37741119999927,\n",
       " 48.64362506666664,\n",
       " 49.300635733332754,\n",
       " 49.76672319999986,\n",
       " 50.22411679999949,\n",
       " 50.554346666666916,\n",
       " 51.152662933333204,\n",
       " 51.610612266666855,\n",
       " 51.943734933333374,\n",
       " 52.60169119999958,\n",
       " 53.06519839999879,\n",
       " 53.39097973333341,\n",
       " 53.92186879999983,\n",
       " 57.683666133333304,\n",
       " 58.08222346666714,\n",
       " 58.60592106666606,\n",
       " 59.005361599999695,\n",
       " 59.529286399999215,\n",
       " 59.995518400001835,\n",
       " 60.52061600000158,\n",
       " 60.7884181333338,\n",
       " 61.37927893333295,\n",
       " 61.90891839999946,\n",
       " 62.36697600000163,\n",
       " 62.83478933333253,\n",
       " 63.22729333333399,\n",
       " 63.822636266666066,\n",
       " 64.08771146666493,\n",
       " 64.7429877333332,\n",
       " 68.6394400000001,\n",
       " 68.97057173333377,\n",
       " 69.43339360000067,\n",
       " 69.95946453333346,\n",
       " 70.42219146666628,\n",
       " 70.81621759999912,\n",
       " 71.34700586666742,\n",
       " 71.67781173333321,\n",
       " 72.20336106666724,\n",
       " 72.73133546666611,\n",
       " 73.19185600000023,\n",
       " 73.65745013333225,\n",
       " 74.1857082666666,\n",
       " 74.64507466666603,\n",
       " 75.04101599999835,\n",
       " 75.4373056000004,\n",
       " 79.26509599999943,\n",
       " 79.86170186666719,\n",
       " 80.38941760000017,\n",
       " 80.9124949333322,\n",
       " 81.18217653333382,\n",
       " 81.64249066666684,\n",
       " 82.16909973333308,\n",
       " 82.63415359999993,\n",
       " 83.22354186666647,\n",
       " 83.5572277333334,\n",
       " 83.9529679999984,\n",
       " 84.54590293333285,\n",
       " 84.87279359999977,\n",
       " 85.6042138666675,\n",
       " 85.93167893333487,\n",
       " 86.3284821333341,\n",
       " 90.0244165333337,\n",
       " 90.35313600000094,\n",
       " 90.94777173333313,\n",
       " 91.34399786666769,\n",
       " 91.87373439999824,\n",
       " 92.33251466666736,\n",
       " 92.8624400000011,\n",
       " 93.39132266666894,\n",
       " 93.7869717333335,\n",
       " 94.24614133333087,\n",
       " 94.84228799999883,\n",
       " 95.17281653333498,\n",
       " 95.63507626666912,\n",
       " 96.09417173333412,\n",
       " 96.62370400000064,\n",
       " 97.08699253333286,\n",
       " 100.9157248000001,\n",
       " 101.37475093333315,\n",
       " 101.77324533333199,\n",
       " 102.36652320000061,\n",
       " 102.69479893333155,\n",
       " 103.48913706666707,\n",
       " 103.68638026666943,\n",
       " 104.0830197333289,\n",
       " 104.47366079999831,\n",
       " 105.13855306666642,\n",
       " 105.60072853333224,\n",
       " 106.39266239999934,\n",
       " 106.52289279999749,\n",
       " 107.05219946666844,\n",
       " 107.11639093333503,\n",
       " 107.84361493333172,\n",
       " 111.67235146666599,\n",
       " 112.13513226666727,\n",
       " 112.59584000000089,\n",
       " 113.18637546666821,\n",
       " 113.78500853333406,\n",
       " 114.31239573333407,\n",
       " 114.44383466666785,\n",
       " 115.17161013333421,\n",
       " 115.69865013333036,\n",
       " 115.89620533333189,\n",
       " 116.4222709333309,\n",
       " 117.02013759999907,\n",
       " 117.28226399999997,\n",
       " 117.6740837333341,\n",
       " 118.5377210666676,\n",
       " 118.6698069333314,\n",
       " 122.0329994666649,\n",
       " 122.36522346666767,\n",
       " 122.9576490666684,\n",
       " 123.28951519999976,\n",
       " 123.81534240000036,\n",
       " 124.47604426666636,\n",
       " 124.80648959999918,\n",
       " 125.13493760000216,\n",
       " 126.06212266666361,\n",
       " 126.58755093333696,\n",
       " 127.04643733333398,\n",
       " 127.51410773333305,\n",
       " 127.97406720000382,\n",
       " 128.4990298666635,\n",
       " 129.03225280000186,\n",
       " 129.36253280000187,\n",
       " 132.39161066666938,\n",
       " 132.79426133333416,\n",
       " 133.51972960000325,\n",
       " 133.77846080000566,\n",
       " 134.50924800000408,\n",
       " 134.9728768000027,\n",
       " 135.42840799999922,\n",
       " 135.9626367999951,\n",
       " 136.6197455999938,\n",
       " 137.14385439999788,\n",
       " 137.81054826666406,\n",
       " 138.0734511999968,\n",
       " 138.79601066666325,\n",
       " 138.9316501333333,\n",
       " 139.45716159999932,\n",
       " 140.1170874666633,\n",
       " 142.82550346667122,\n",
       " 143.48356746667434,\n",
       " 144.21084853333355,\n",
       " 144.20965066666724,\n",
       " 145.26531893333328,\n",
       " 145.59590613333384,\n",
       " 145.99505706666704,\n",
       " 146.7819653333322,\n",
       " 147.64330293333572,\n",
       " 148.0389925333334,\n",
       " 148.30179253333498,\n",
       " 148.89654133333607,\n",
       " 149.42346346666824,\n",
       " 149.554947733332,\n",
       " 150.28268266666345,\n",
       " 150.47805653333413,\n",
       " 153.51774400000195,\n",
       " 154.046825066672,\n",
       " 154.57042239999907,\n",
       " 154.90271679999879,\n",
       " 155.62812053333275,\n",
       " 156.08817653333418,\n",
       " 156.81783306666475,\n",
       " 157.2091279999981,\n",
       " 157.8750709333292,\n",
       " 158.20046400000365,\n",
       " 158.92643786666483,\n",
       " 159.45629919999504,\n",
       " 159.6511583999991,\n",
       " 160.18512746666502,\n",
       " 160.5784074666694,\n",
       " 161.36953066666848,\n",
       " 164.53602720000404,\n",
       " 164.86526933333323,\n",
       " 165.06917759999595,\n",
       " 165.59376000000015,\n",
       " 166.5825770666629,\n",
       " 166.71572639999965,\n",
       " 167.37452053333257,\n",
       " 167.90563786666723,\n",
       " 168.76004800001,\n",
       " 169.15591146666387,\n",
       " 169.42474133333363,\n",
       " 169.88116373333284,\n",
       " 170.61138026667066,\n",
       " 171.0714090666663,\n",
       " 171.27154506666287,\n",
       " 171.73429013333674,\n",
       " 174.96440533333057,\n",
       " 175.3617871999964,\n",
       " 175.82240693333517,\n",
       " 176.0900677333339,\n",
       " 176.81236479999995,\n",
       " 177.6067599999962,\n",
       " 178.00428480000008,\n",
       " 178.39500799999897,\n",
       " 178.92721546666834,\n",
       " 179.7157178666673,\n",
       " 180.24624639999942,\n",
       " 180.50786773333627,\n",
       " 181.17199946666318,\n",
       " 181.56498719999803,\n",
       " 181.82746773333136,\n",
       " 182.5600693333307,\n",
       " 185.26041866666532,\n",
       " 185.72243733333238,\n",
       " 186.38417013333353,\n",
       " 186.97817600000022,\n",
       " 187.4386938666639,\n",
       " 188.1034234666643,\n",
       " 188.36120746666296,\n",
       " 188.89224959999495,\n",
       " 189.6171909333333,\n",
       " 190.07839253333714,\n",
       " 190.6107749333259,\n",
       " 191.132628266665,\n",
       " 191.9287872000055,\n",
       " 191.86061279999223,\n",
       " 192.58723146667478,\n",
       " 192.8503632000016,\n",
       " 195.9556304000003,\n",
       " 196.67728533333673,\n",
       " 197.07822933333574,\n",
       " 197.4687098666621,\n",
       " 198.1367514666701,\n",
       " 198.3929839999945,\n",
       " 199.38865759998947,\n",
       " 199.5155722666695,\n",
       " 200.50883946667142,\n",
       " 201.10161493332157,\n",
       " 201.49712319999935,\n",
       " 202.02588800000143,\n",
       " 202.48346346667745,\n",
       " 202.42448586665773,\n",
       " 203.2112319999939,\n",
       " 203.5458533333383,\n",
       " 206.77445013333084,\n",
       " 206.9772757333368,\n",
       " 207.5001280000066,\n",
       " 207.83620586666274,\n",
       " 208.952493333328,\n",
       " 209.48587840000243,\n",
       " 209.6145114666612,\n",
       " 210.14469920000067,\n",
       " 211.06380213333154,\n",
       " 211.39980906665556,\n",
       " 211.92283626666608,\n",
       " 212.191669333329,\n",
       " 212.7160202666616,\n",
       " 213.24698506666806,\n",
       " 213.83930133333706,\n",
       " 214.03719786666642,\n",
       " 216.9423376000026,\n",
       " 217.33637439999853,\n",
       " 217.99870720000314,\n",
       " 218.52420373332393,\n",
       " 219.32134080000765,\n",
       " 219.51102826665903,\n",
       " 220.17790933334425,\n",
       " 220.50320480001062,\n",
       " 221.62650239999948,\n",
       " 221.693992533325,\n",
       " 222.2229600000034,\n",
       " 222.81609333332142,\n",
       " 223.4116240000006,\n",
       " 223.47185013332904,\n",
       " 224.33719146665965,\n",
       " 224.79230933333838,\n",
       " 227.50164159999287,\n",
       " 227.83379199999843,\n",
       " 228.490390933338,\n",
       " 228.8895514666649,\n",
       " 229.61113546667633,\n",
       " 229.74519306666963,\n",
       " 230.53889813333228,\n",
       " 230.9357333333324,\n",
       " 231.59063626666665,\n",
       " 232.25563679999084,\n",
       " 232.97932693333223,\n",
       " 232.84633386666798,\n",
       " 233.31234613333152,\n",
       " 233.96572853333453,\n",
       " 234.50012586666702,\n",
       " 235.0937018666741,\n",
       " 237.79864426666109,\n",
       " 238.05869653333644,\n",
       " 238.45955733332858,\n",
       " 239.51600053333522,\n",
       " 239.57676320000587,\n",
       " 240.10920479999953,\n",
       " 240.8352037333259,\n",
       " 241.0982869333509,\n",
       " 242.01799466666074,\n",
       " 242.88136746666567,\n",
       " 242.81529973332994,\n",
       " 243.468387733337,\n",
       " 243.60800106666858,\n",
       " 244.33345333333278,\n",
       " 244.9948970666611,\n",
       " 245.1870394666713,\n",
       " 247.89680053332575,\n",
       " 248.29331253333464,\n",
       " 248.82013706666584,\n",
       " 249.41693333332893,\n",
       " 250.07094453334133,\n",
       " 250.86604959999192,\n",
       " 237.40483466666262]"
      ]
     },
     "execution_count": 76,
     "metadata": {},
     "output_type": "execute_result"
    }
   ],
   "source": [
    "          [e + w + r + d for (e,w,r,d) in zip(aes_encrypt_energy, aes_flash_write_energy, aes_flash_read_energy, aes_decrypt_energy)],\n",
    "          [e + w + r + d for (e,w,r,d) in zip(aes_encrypt_time_s, aes_flash_write_time_s, aes_flash_read_time_s, aes_decrypt_time_s)]"
   ]
  },
  {
   "cell_type": "code",
   "execution_count": null,
   "metadata": {},
   "outputs": [],
   "source": []
  },
  {
   "cell_type": "code",
   "execution_count": null,
   "metadata": {},
   "outputs": [],
   "source": []
  },
  {
   "cell_type": "code",
   "execution_count": null,
   "metadata": {},
   "outputs": [],
   "source": []
  },
  {
   "cell_type": "code",
   "execution_count": null,
   "metadata": {},
   "outputs": [],
   "source": []
  },
  {
   "cell_type": "code",
   "execution_count": null,
   "metadata": {},
   "outputs": [],
   "source": []
  },
  {
   "cell_type": "code",
   "execution_count": null,
   "metadata": {},
   "outputs": [],
   "source": []
  },
  {
   "cell_type": "code",
   "execution_count": null,
   "metadata": {},
   "outputs": [],
   "source": []
  },
  {
   "cell_type": "code",
   "execution_count": null,
   "metadata": {},
   "outputs": [],
   "source": []
  },
  {
   "cell_type": "code",
   "execution_count": null,
   "metadata": {},
   "outputs": [],
   "source": []
  }
 ],
 "metadata": {
  "kernelspec": {
   "display_name": "Python 3",
   "language": "python",
   "name": "python3"
  },
  "language_info": {
   "codemirror_mode": {
    "name": "ipython",
    "version": 3
   },
   "file_extension": ".py",
   "mimetype": "text/x-python",
   "name": "python",
   "nbconvert_exporter": "python",
   "pygments_lexer": "ipython3",
   "version": "3.8.1"
  }
 },
 "nbformat": 4,
 "nbformat_minor": 4
}

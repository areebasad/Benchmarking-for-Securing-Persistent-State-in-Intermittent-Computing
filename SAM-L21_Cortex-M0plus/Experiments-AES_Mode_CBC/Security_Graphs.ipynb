{
 "cells": [
  {
   "cell_type": "code",
   "execution_count": 1,
   "metadata": {},
   "outputs": [],
   "source": [
    "# %matplotlib ipympl\n",
    "# %matplotlib inline\n",
    "%matplotlib wx"
   ]
  },
  {
   "cell_type": "code",
   "execution_count": 2,
   "metadata": {},
   "outputs": [],
   "source": [
    "import matplotlib.pyplot as plt\n",
    "import numpy as np\n",
    "import pickle\n",
    "from os import path"
   ]
  },
  {
   "cell_type": "code",
   "execution_count": 3,
   "metadata": {},
   "outputs": [],
   "source": [
    "security_projects=['AES_Flash', 'TrustZone_Flash', 'No_Security_Flash']"
   ]
  },
  {
   "cell_type": "code",
   "execution_count": 4,
   "metadata": {},
   "outputs": [
    {
     "ename": "FileNotFoundError",
     "evalue": "[Errno 2] No such file or directory: 'Security\\\\AES_Flash\\\\aes_flash_encrypt_charge.p'",
     "output_type": "error",
     "traceback": [
      "\u001b[1;31m---------------------------------------------------------------------------\u001b[0m",
      "\u001b[1;31mFileNotFoundError\u001b[0m                         Traceback (most recent call last)",
      "\u001b[1;32m<ipython-input-4-ffae19770e15>\u001b[0m in \u001b[0;36m<module>\u001b[1;34m\u001b[0m\n\u001b[1;32m----> 1\u001b[1;33m \u001b[0maes_encrypt_charge\u001b[0m \u001b[1;33m=\u001b[0m \u001b[0mpickle\u001b[0m\u001b[1;33m.\u001b[0m\u001b[0mload\u001b[0m\u001b[1;33m(\u001b[0m\u001b[0mopen\u001b[0m\u001b[1;33m(\u001b[0m\u001b[0mpath\u001b[0m\u001b[1;33m.\u001b[0m\u001b[0mjoin\u001b[0m\u001b[1;33m(\u001b[0m\u001b[1;34m\"Security\"\u001b[0m\u001b[1;33m,\u001b[0m \u001b[1;34m\"AES_Flash\"\u001b[0m\u001b[1;33m,\u001b[0m \u001b[1;34m\"aes_flash_encrypt_charge.p\"\u001b[0m\u001b[1;33m)\u001b[0m\u001b[1;33m,\u001b[0m \u001b[1;34m\"rb\"\u001b[0m\u001b[1;33m)\u001b[0m\u001b[1;33m)\u001b[0m\u001b[1;33m\u001b[0m\u001b[1;33m\u001b[0m\u001b[0m\n\u001b[0m\u001b[0;32m      2\u001b[0m \u001b[0maes_decrypt_charge\u001b[0m \u001b[1;33m=\u001b[0m \u001b[0mpickle\u001b[0m\u001b[1;33m.\u001b[0m\u001b[0mload\u001b[0m\u001b[1;33m(\u001b[0m\u001b[0mopen\u001b[0m\u001b[1;33m(\u001b[0m\u001b[0mpath\u001b[0m\u001b[1;33m.\u001b[0m\u001b[0mjoin\u001b[0m\u001b[1;33m(\u001b[0m\u001b[1;34m\"Security\"\u001b[0m\u001b[1;33m,\u001b[0m \u001b[1;34m\"AES_Flash\"\u001b[0m\u001b[1;33m,\u001b[0m \u001b[1;34m\"aes_flash_decrypt_charge.p\"\u001b[0m\u001b[1;33m)\u001b[0m\u001b[1;33m,\u001b[0m \u001b[1;34m\"rb\"\u001b[0m\u001b[1;33m)\u001b[0m\u001b[1;33m)\u001b[0m\u001b[1;33m\u001b[0m\u001b[1;33m\u001b[0m\u001b[0m\n\u001b[0;32m      3\u001b[0m \u001b[0maes_flash_write_charge\u001b[0m \u001b[1;33m=\u001b[0m \u001b[0mpickle\u001b[0m\u001b[1;33m.\u001b[0m\u001b[0mload\u001b[0m\u001b[1;33m(\u001b[0m\u001b[0mopen\u001b[0m\u001b[1;33m(\u001b[0m\u001b[0mpath\u001b[0m\u001b[1;33m.\u001b[0m\u001b[0mjoin\u001b[0m\u001b[1;33m(\u001b[0m\u001b[1;34m\"Security\"\u001b[0m\u001b[1;33m,\u001b[0m \u001b[1;34m\"AES_Flash\"\u001b[0m\u001b[1;33m,\u001b[0m \u001b[1;34m\"aes_flash_write_charge.p\"\u001b[0m\u001b[1;33m)\u001b[0m\u001b[1;33m,\u001b[0m \u001b[1;34m\"rb\"\u001b[0m\u001b[1;33m)\u001b[0m\u001b[1;33m)\u001b[0m\u001b[1;33m\u001b[0m\u001b[1;33m\u001b[0m\u001b[0m\n\u001b[0;32m      4\u001b[0m \u001b[0maes_flash_read_charge\u001b[0m \u001b[1;33m=\u001b[0m \u001b[0mpickle\u001b[0m\u001b[1;33m.\u001b[0m\u001b[0mload\u001b[0m\u001b[1;33m(\u001b[0m\u001b[0mopen\u001b[0m\u001b[1;33m(\u001b[0m\u001b[0mpath\u001b[0m\u001b[1;33m.\u001b[0m\u001b[0mjoin\u001b[0m\u001b[1;33m(\u001b[0m\u001b[1;34m\"Security\"\u001b[0m\u001b[1;33m,\u001b[0m \u001b[1;34m\"AES_Flash\"\u001b[0m\u001b[1;33m,\u001b[0m \u001b[1;34m\"aes_flash_read_charge.p\"\u001b[0m\u001b[1;33m)\u001b[0m\u001b[1;33m,\u001b[0m \u001b[1;34m\"rb\"\u001b[0m\u001b[1;33m)\u001b[0m\u001b[1;33m)\u001b[0m\u001b[1;33m\u001b[0m\u001b[1;33m\u001b[0m\u001b[0m\n\u001b[0;32m      5\u001b[0m \u001b[0maes_encrypt_time\u001b[0m \u001b[1;33m=\u001b[0m \u001b[0mpickle\u001b[0m\u001b[1;33m.\u001b[0m\u001b[0mload\u001b[0m\u001b[1;33m(\u001b[0m\u001b[0mopen\u001b[0m\u001b[1;33m(\u001b[0m\u001b[0mpath\u001b[0m\u001b[1;33m.\u001b[0m\u001b[0mjoin\u001b[0m\u001b[1;33m(\u001b[0m\u001b[1;34m\"Security\"\u001b[0m\u001b[1;33m,\u001b[0m \u001b[1;34m\"AES_Flash\"\u001b[0m\u001b[1;33m,\u001b[0m \u001b[1;34m\"aes_flash_encrypt_time.p\"\u001b[0m\u001b[1;33m)\u001b[0m\u001b[1;33m,\u001b[0m \u001b[1;34m\"rb\"\u001b[0m\u001b[1;33m)\u001b[0m\u001b[1;33m)\u001b[0m\u001b[1;33m\u001b[0m\u001b[1;33m\u001b[0m\u001b[0m\n",
      "\u001b[1;31mFileNotFoundError\u001b[0m: [Errno 2] No such file or directory: 'Security\\\\AES_Flash\\\\aes_flash_encrypt_charge.p'"
     ]
    }
   ],
   "source": [
    "aes_encrypt_charge = pickle.load(open(path.join(\"Security\", \"AES_Flash\", \"aes_flash_encrypt_charge.p\"), \"rb\"))\n",
    "aes_decrypt_charge = pickle.load(open(path.join(\"Security\", \"AES_Flash\", \"aes_flash_decrypt_charge.p\"), \"rb\"))\n",
    "aes_flash_write_charge = pickle.load(open(path.join(\"Security\", \"AES_Flash\", \"aes_flash_write_charge.p\"), \"rb\"))\n",
    "aes_flash_read_charge = pickle.load(open(path.join(\"Security\", \"AES_Flash\", \"aes_flash_read_charge.p\"), \"rb\"))\n",
    "aes_encrypt_time = pickle.load(open(path.join(\"Security\", \"AES_Flash\", \"aes_flash_encrypt_time.p\"), \"rb\"))\n",
    "aes_decrypt_time = pickle.load(open(path.join(\"Security\", \"AES_Flash\", \"aes_flash_decrypt_time.p\"), \"rb\"))\n",
    "aes_flash_write_time = pickle.load(open(path.join(\"Security\", \"AES_Flash\", \"aes_flash_write_time.p\"), \"rb\"))\n",
    "aes_flash_read_time = pickle.load(open(path.join(\"Security\", \"AES_Flash\", \"aes_flash_read_time.p\"), \"rb\"))\n",
    "aes = [aes_encrypt_charge, aes_decrypt_charge, aes_flash_write_charge, aes_flash_read_charge, aes_encrypt_time, aes_decrypt_time, aes_flash_write_time, aes_flash_read_time]\n",
    "for i in aes:\n",
    "    print(len(i), len(i)*16)"
   ]
  },
  {
   "cell_type": "code",
   "execution_count": 5,
   "metadata": {},
   "outputs": [
    {
     "name": "stdout",
     "output_type": "stream",
     "text": [
      "5999\n",
      "5999\n",
      "5999\n",
      "5999\n"
     ]
    }
   ],
   "source": [
    "flash_write_charge = pickle.load(open(path.join(\"Security\", \"No_Security_Flash\", \"no_security_flash_write_charge.p\"), \"rb\"))\n",
    "flash_read_charge = pickle.load(open(path.join(\"Security\", \"No_Security_Flash\", \"no_security_flash_read_charge.p\"), \"rb\"))\n",
    "flash_write_time = pickle.load(open(path.join(\"Security\", \"No_Security_Flash\", \"no_security_flash_write_time.p\"), \"rb\"))\n",
    "flash_read_time = pickle.load(open(path.join(\"Security\", \"No_Security_Flash\", \"no_security_flash_read_time.p\"), \"rb\"))\n",
    "no_security = [flash_write_charge, flash_read_charge, flash_write_time, flash_read_time]\n",
    "for i in no_security:\n",
    "    print(len(i))"
   ]
  },
  {
   "cell_type": "code",
   "execution_count": 6,
   "metadata": {},
   "outputs": [
    {
     "name": "stdout",
     "output_type": "stream",
     "text": [
      "6000\n",
      "6000\n",
      "6000\n",
      "6000\n"
     ]
    }
   ],
   "source": [
    "nsc_store_charge = pickle.load(open(path.join(\"Security\", \"TrustZone_Flash\", \"trustzone_flash_store_charge.p\"), \"rb\"))\n",
    "nsc_load_charge = pickle.load(open(path.join(\"Security\", \"TrustZone_Flash\", \"trustzone_flash_load_charge.p\"), \"rb\"))\n",
    "nsc_store_time = pickle.load(open(path.join(\"Security\", \"TrustZone_Flash\", \"trustzone_flash_store_time.p\"), \"rb\"))\n",
    "nsc_load_time = pickle.load(open(path.join(\"Security\", \"TrustZone_Flash\", \"trustzone_flash_load_time.p\"), \"rb\"))\n",
    "trustzone = [nsc_store_charge, nsc_load_charge, nsc_store_time, nsc_load_time]\n",
    "for i in trustzone:\n",
    "    print(len(i))"
   ]
  },
  {
   "cell_type": "code",
   "execution_count": 7,
   "metadata": {},
   "outputs": [],
   "source": [
    "min_num = 6000-1"
   ]
  },
  {
   "cell_type": "code",
   "execution_count": 8,
   "metadata": {},
   "outputs": [],
   "source": [
    "j_scale = 1e6\n",
    "voltage = 3.33"
   ]
  },
  {
   "cell_type": "code",
   "execution_count": 9,
   "metadata": {},
   "outputs": [
    {
     "ename": "NameError",
     "evalue": "name 'aes_encrypt_charge' is not defined",
     "output_type": "error",
     "traceback": [
      "\u001b[1;31m---------------------------------------------------------------------------\u001b[0m",
      "\u001b[1;31mNameError\u001b[0m                                 Traceback (most recent call last)",
      "\u001b[1;32m<ipython-input-9-a35ac48a7499>\u001b[0m in \u001b[0;36m<module>\u001b[1;34m\u001b[0m\n\u001b[0;32m      7\u001b[0m \u001b[1;32mfor\u001b[0m \u001b[0mi\u001b[0m \u001b[1;32min\u001b[0m \u001b[0mrange\u001b[0m\u001b[1;33m(\u001b[0m\u001b[1;36m0\u001b[0m\u001b[1;33m,\u001b[0m \u001b[0mmin_num\u001b[0m\u001b[1;33m//\u001b[0m\u001b[0mSTEP_SIZE\u001b[0m\u001b[1;33m)\u001b[0m\u001b[1;33m:\u001b[0m\u001b[1;33m\u001b[0m\u001b[1;33m\u001b[0m\u001b[0m\n\u001b[0;32m      8\u001b[0m     \u001b[0maes_x\u001b[0m\u001b[1;33m.\u001b[0m\u001b[0mappend\u001b[0m\u001b[1;33m(\u001b[0m\u001b[0mMIN_NUM_BYTES\u001b[0m \u001b[1;33m+\u001b[0m \u001b[0mi\u001b[0m\u001b[1;33m*\u001b[0m\u001b[0mSTEP_SIZE\u001b[0m\u001b[1;33m)\u001b[0m\u001b[1;33m\u001b[0m\u001b[1;33m\u001b[0m\u001b[0m\n\u001b[1;32m----> 9\u001b[1;33m     \u001b[0maes_chkp\u001b[0m\u001b[1;33m.\u001b[0m\u001b[0mappend\u001b[0m\u001b[1;33m(\u001b[0m\u001b[1;33m(\u001b[0m\u001b[0maes_encrypt_charge\u001b[0m\u001b[1;33m[\u001b[0m\u001b[0mi\u001b[0m\u001b[1;33m]\u001b[0m \u001b[1;33m+\u001b[0m \u001b[0maes_flash_write_charge\u001b[0m\u001b[1;33m[\u001b[0m\u001b[0mi\u001b[0m\u001b[1;33m]\u001b[0m\u001b[1;33m)\u001b[0m \u001b[1;33m*\u001b[0m \u001b[0mvoltage\u001b[0m \u001b[1;33m*\u001b[0m \u001b[0mj_scale\u001b[0m\u001b[1;33m)\u001b[0m\u001b[1;33m\u001b[0m\u001b[1;33m\u001b[0m\u001b[0m\n\u001b[0m\u001b[0;32m     10\u001b[0m     \u001b[0maes_rest\u001b[0m\u001b[1;33m.\u001b[0m\u001b[0mappend\u001b[0m\u001b[1;33m(\u001b[0m\u001b[1;33m(\u001b[0m\u001b[0maes_decrypt_charge\u001b[0m\u001b[1;33m[\u001b[0m\u001b[0mi\u001b[0m\u001b[1;33m]\u001b[0m \u001b[1;33m+\u001b[0m \u001b[0maes_flash_read_charge\u001b[0m\u001b[1;33m[\u001b[0m\u001b[0mi\u001b[0m\u001b[1;33m]\u001b[0m\u001b[1;33m)\u001b[0m \u001b[1;33m*\u001b[0m \u001b[0mvoltage\u001b[0m \u001b[1;33m*\u001b[0m \u001b[0mj_scale\u001b[0m\u001b[1;33m)\u001b[0m\u001b[1;33m\u001b[0m\u001b[1;33m\u001b[0m\u001b[0m\n",
      "\u001b[1;31mNameError\u001b[0m: name 'aes_encrypt_charge' is not defined"
     ]
    }
   ],
   "source": [
    "MBEDTLS_AES_BLOCK_SIZE = 16\n",
    "STEP_SIZE = MBEDTLS_AES_BLOCK_SIZE\n",
    "MIN_NUM_BYTES = STEP_SIZE\n",
    "aes_chkp = []\n",
    "aes_rest = []\n",
    "aes_x = []\n",
    "for i in range(0, min_num//STEP_SIZE):\n",
    "    aes_x.append(MIN_NUM_BYTES + i*STEP_SIZE)\n",
    "    aes_chkp.append((aes_encrypt_charge[i] + aes_flash_write_charge[i]) * voltage * j_scale)\n",
    "    aes_rest.append((aes_decrypt_charge[i] + aes_flash_read_charge[i]) * voltage * j_scale)"
   ]
  },
  {
   "cell_type": "code",
   "execution_count": 34,
   "metadata": {},
   "outputs": [],
   "source": [
    "no_security_chkp = []\n",
    "no_security_rest = []\n",
    "no_security_x = []\n",
    "for i in range(0, min_num):\n",
    "    no_security_x.append(i+1)\n",
    "    no_security_chkp.append(flash_write_charge[i] * voltage * j_scale)\n",
    "    no_security_rest.append(flash_read_charge[i] * voltage * j_scale)"
   ]
  },
  {
   "cell_type": "code",
   "execution_count": 35,
   "metadata": {},
   "outputs": [],
   "source": [
    "trustzone_chkp = []\n",
    "trustzone_rest = []\n",
    "trustzone_x = []\n",
    "for i in range(0, min_num):\n",
    "    trustzone_x.append(i+1)\n",
    "    trustzone_chkp.append(nsc_store_charge[i] * voltage * j_scale)\n",
    "    trustzone_rest.append(nsc_load_charge[i] * voltage * j_scale)"
   ]
  },
  {
   "cell_type": "code",
   "execution_count": 36,
   "metadata": {},
   "outputs": [],
   "source": [
    "every = 500\n",
    "everies= [every//MBEDTLS_AES_BLOCK_SIZE*2, every//MBEDTLS_AES_BLOCK_SIZE, every, every*2, every*2, every]\n",
    "colors = ['', '', '', '', '', ''] #'k'\n",
    "linestyles = [(0, (1.0, 0)), (0, (1.0, 0.5)), (0, (2.0, 1.0)), (0, (3.0, 1.5)), (0, (4.0, 2.0)), (0, (5.0, 1.5))]\n",
    "markers = ['v', '^', 'o', 'D', '<', '>']"
   ]
  },
  {
   "cell_type": "code",
   "execution_count": 37,
   "metadata": {},
   "outputs": [],
   "source": [
    "fig_energy = plt.figure(figsize=(6, 4))\n",
    "fig_energy.canvas.set_window_title(\"Analysis Energy\")"
   ]
  },
  {
   "cell_type": "code",
   "execution_count": 38,
   "metadata": {},
   "outputs": [
    {
     "data": {
      "text/plain": [
       "Text(0, 0.5, 'Energy [$\\\\mu$J]')"
      ]
     },
     "execution_count": 38,
     "metadata": {},
     "output_type": "execute_result"
    }
   ],
   "source": [
    "fig_energy.clf()\n",
    "ax1 = fig_energy.add_subplot(1, 1, 1)\n",
    "ax1.set_xlabel('Checkpoint Size [Bytes]')\n",
    "ax1.set_ylabel('Energy [$\\mu$J]') # $\\mu$"
   ]
  },
  {
   "cell_type": "code",
   "execution_count": 39,
   "metadata": {},
   "outputs": [],
   "source": [
    "lines = []\n",
    "lines += ax1.plot(aes_x, aes_chkp, label='AES Checkpoint')\n",
    "lines += ax1.plot(aes_x, aes_rest, label='AES Restore')\n",
    "lines += ax1.plot(no_security_x, no_security_chkp, label='No Security Checkpoint')\n",
    "lines += ax1.plot(no_security_x, no_security_rest, label='No Security Restore')\n",
    "lines += ax1.plot(trustzone_x, trustzone_chkp, label='TrustZone Checkpoint')\n",
    "lines += ax1.plot(trustzone_x, trustzone_rest, label='TrustZone Restore')\n",
    "for i in range(len(lines)):\n",
    "    lines[i].set_markevery(everies[i])\n",
    "    lines[i].set_linestyle(linestyles[i])\n",
    "    lines[i].set_marker(markers[i])\n",
    "#     lines[i].set_color(colors[i])\n",
    "\n",
    "ax1.legend(handles=lines)\n",
    "# ax1.set_yscale('log')\n",
    "ax1.grid()\n",
    "fig_energy.tight_layout()\n",
    "fig_energy.show()"
   ]
  },
  {
   "cell_type": "code",
   "execution_count": 19,
   "metadata": {},
   "outputs": [],
   "source": [
    "t_scale = 1e3\n",
    "# min_num = 512"
   ]
  },
  {
   "cell_type": "code",
   "execution_count": 20,
   "metadata": {},
   "outputs": [],
   "source": [
    "MBEDTLS_AES_BLOCK_SIZE = 16\n",
    "STEP_SIZE = MBEDTLS_AES_BLOCK_SIZE\n",
    "MIN_NUM_BYTES = STEP_SIZE\n",
    "aes_time_chkp = []\n",
    "aes_time_rest = []\n",
    "aes_time_x = []\n",
    "for i in range(0, min_num//STEP_SIZE):\n",
    "    aes_time_x.append(MIN_NUM_BYTES + i*STEP_SIZE)\n",
    "    aes_time_chkp.append((aes_encrypt_time[i] + aes_flash_write_time[i]) * t_scale)\n",
    "    aes_time_rest.append((aes_decrypt_time[i] + aes_flash_read_time[i]) * t_scale)"
   ]
  },
  {
   "cell_type": "code",
   "execution_count": 21,
   "metadata": {},
   "outputs": [],
   "source": [
    "no_security_time_chkp = []\n",
    "no_security_time_rest = []\n",
    "no_security_time_x = []\n",
    "for i in range(0, min_num):\n",
    "    no_security_time_x.append(i+1)\n",
    "    no_security_time_chkp.append(flash_write_time[i] * t_scale)\n",
    "    no_security_time_rest.append(flash_read_time[i] * t_scale)"
   ]
  },
  {
   "cell_type": "code",
   "execution_count": 22,
   "metadata": {},
   "outputs": [],
   "source": [
    "trustzone_time_chkp = []\n",
    "trustzone_time_rest = []\n",
    "trustzone_time_x = []\n",
    "for i in range(0, min_num):\n",
    "    trustzone_time_x.append(i+1)\n",
    "    trustzone_time_chkp.append(nsc_store_time[i] * t_scale)\n",
    "    trustzone_time_rest.append(nsc_load_time[i] * t_scale)"
   ]
  },
  {
   "cell_type": "code",
   "execution_count": 29,
   "metadata": {},
   "outputs": [],
   "source": [
    "fig_time = plt.figure(figsize=(6, 4))\n",
    "fig_time.canvas.set_window_title(\"Analysis Time\")"
   ]
  },
  {
   "cell_type": "code",
   "execution_count": 30,
   "metadata": {},
   "outputs": [
    {
     "data": {
      "text/plain": [
       "Text(0, 0.5, 'Time [ms]')"
      ]
     },
     "execution_count": 30,
     "metadata": {},
     "output_type": "execute_result"
    }
   ],
   "source": [
    "fig_time.clf()\n",
    "ax2 = fig_time.add_subplot(1, 1, 1)\n",
    "ax2.set_xlabel('Checkpoint Size [Bytes]')\n",
    "ax2.set_ylabel('Time [ms]') # $\\mu$"
   ]
  },
  {
   "cell_type": "code",
   "execution_count": 31,
   "metadata": {},
   "outputs": [],
   "source": [
    "lines = []\n",
    "lines += ax2.plot(aes_time_x, aes_time_chkp, label='AES Checkpoint')\n",
    "lines += ax2.plot(aes_time_x, aes_time_rest, label='AES Restore')\n",
    "lines += ax2.plot(no_security_time_x, no_security_time_chkp, label='No Security Checkpoint')\n",
    "lines += ax2.plot(no_security_time_x, no_security_time_rest, label='No Security Restore')\n",
    "lines += ax2.plot(trustzone_time_x, trustzone_time_chkp, label='TrustZone Checkpoint')\n",
    "lines += ax2.plot(trustzone_time_x, trustzone_time_rest, label='TrustZone Restore')\n",
    "\n",
    "for i in range(len(lines)):\n",
    "    lines[i].set_markevery(everies[i])\n",
    "    lines[i].set_linestyle(linestyles[i])\n",
    "    lines[i].set_marker(markers[i])\n",
    "#     lines[i].set_color(colors[i])\n",
    "ax2.legend(handles=lines)\n",
    "# ax2.set_yscale('log')\n",
    "ax2.grid()\n",
    "fig_time.tight_layout()\n",
    "fig_time.show()"
   ]
  },
  {
   "cell_type": "code",
   "execution_count": null,
   "metadata": {},
   "outputs": [],
   "source": []
  },
  {
   "cell_type": "code",
   "execution_count": null,
   "metadata": {},
   "outputs": [],
   "source": []
  },
  {
   "cell_type": "code",
   "execution_count": null,
   "metadata": {},
   "outputs": [],
   "source": []
  },
  {
   "cell_type": "code",
   "execution_count": null,
   "metadata": {},
   "outputs": [],
   "source": []
  },
  {
   "cell_type": "code",
   "execution_count": null,
   "metadata": {},
   "outputs": [],
   "source": []
  },
  {
   "cell_type": "code",
   "execution_count": null,
   "metadata": {},
   "outputs": [],
   "source": []
  },
  {
   "cell_type": "code",
   "execution_count": 49,
   "metadata": {},
   "outputs": [
    {
     "name": "stdout",
     "output_type": "stream",
     "text": [
      "6000\n",
      "6000\n",
      "6000\n",
      "6000\n"
     ]
    }
   ],
   "source": [
    "tz_flash_write_charge = pickle.load(open(path.join(\"Validation\", \"No_Security_Flash\", \"no_security_flash_write_charge.p\"), \"rb\"))\n",
    "tz_flash_read_charge = pickle.load(open(path.join(\"Validation\", \"No_Security_Flash\", \"no_security_flash_read_charge.p\"), \"rb\"))\n",
    "tz_flash_write_time = pickle.load(open(path.join(\"Validation\", \"No_Security_Flash\", \"no_security_flash_write_time.p\"), \"rb\"))\n",
    "tz_flash_read_time = pickle.load(open(path.join(\"Validation\", \"No_Security_Flash\", \"no_security_flash_read_time.p\"), \"rb\"))\n",
    "tz_no_security = [tz_flash_write_charge, tz_flash_read_charge, tz_flash_write_time, tz_flash_read_time]\n",
    "for i in tz_no_security:\n",
    "    print(len(i))\n",
    "    \n",
    "tz_no_security_chkp = []\n",
    "tz_no_security_rest = []\n",
    "tz_no_security_x = []\n",
    "for i in range(0, min_num):\n",
    "    tz_no_security_x.append(i+1)\n",
    "    tz_no_security_chkp.append(tz_flash_write_charge[i] * voltage * j_scale)\n",
    "    tz_no_security_rest.append(tz_flash_read_charge[i] * voltage * j_scale)"
   ]
  },
  {
   "cell_type": "code",
   "execution_count": 54,
   "metadata": {},
   "outputs": [],
   "source": [
    "fig_comp = plt.figure(figsize=(6, 4))\n",
    "fig_comp.canvas.set_window_title(\"Analysis Compare\")"
   ]
  },
  {
   "cell_type": "code",
   "execution_count": 55,
   "metadata": {},
   "outputs": [
    {
     "data": {
      "text/plain": [
       "Text(0, 0.5, 'Energy [$\\\\mu$J]')"
      ]
     },
     "execution_count": 55,
     "metadata": {},
     "output_type": "execute_result"
    }
   ],
   "source": [
    "fig_comp.clf()\n",
    "ax1 = fig_comp.add_subplot(1, 1, 1)\n",
    "ax1.set_xlabel('Checkpoint Size [Bytes]')\n",
    "ax1.set_ylabel('Energy [$\\mu$J]') # $\\mu$"
   ]
  },
  {
   "cell_type": "code",
   "execution_count": 56,
   "metadata": {},
   "outputs": [],
   "source": [
    "lines = []\n",
    "lines += ax1.plot(tz_no_security_x, tz_no_security_chkp, label='TZ No Security Checkpoint')\n",
    "lines += ax1.plot(tz_no_security_x, tz_no_security_rest, label='TZ No Security Restore')\n",
    "lines += ax1.plot(no_security_x, no_security_chkp, label='No Security Checkpoint')\n",
    "lines += ax1.plot(no_security_x, no_security_rest, label='No Security Restore')\n",
    "for i in range(len(lines)):\n",
    "    lines[i].set_markevery(everies[i+2])\n",
    "    lines[i].set_linestyle(linestyles[i])\n",
    "    lines[i].set_marker(markers[i])\n",
    "#     lines[i].set_color(colors[i])\n",
    "\n",
    "ax1.legend(handles=lines)\n",
    "# ax1.set_yscale('log')\n",
    "ax1.grid()\n",
    "fig_comp.tight_layout()\n",
    "fig_comp.show()"
   ]
  },
  {
   "cell_type": "code",
   "execution_count": null,
   "metadata": {},
   "outputs": [],
   "source": []
  },
  {
   "cell_type": "code",
   "execution_count": null,
   "metadata": {},
   "outputs": [],
   "source": []
  },
  {
   "cell_type": "code",
   "execution_count": null,
   "metadata": {},
   "outputs": [],
   "source": []
  },
  {
   "cell_type": "code",
   "execution_count": null,
   "metadata": {},
   "outputs": [],
   "source": []
  },
  {
   "cell_type": "code",
   "execution_count": null,
   "metadata": {},
   "outputs": [],
   "source": []
  },
  {
   "cell_type": "code",
   "execution_count": null,
   "metadata": {},
   "outputs": [],
   "source": []
  },
  {
   "cell_type": "code",
   "execution_count": null,
   "metadata": {},
   "outputs": [],
   "source": []
  },
  {
   "cell_type": "code",
   "execution_count": null,
   "metadata": {},
   "outputs": [],
   "source": []
  },
  {
   "cell_type": "code",
   "execution_count": null,
   "metadata": {},
   "outputs": [],
   "source": []
  },
  {
   "cell_type": "code",
   "execution_count": null,
   "metadata": {},
   "outputs": [],
   "source": []
  },
  {
   "cell_type": "code",
   "execution_count": null,
   "metadata": {},
   "outputs": [],
   "source": []
  }
 ],
 "metadata": {
  "kernelspec": {
   "display_name": "Python 3",
   "language": "python",
   "name": "python3"
  },
  "language_info": {
   "codemirror_mode": {
    "name": "ipython",
    "version": 3
   },
   "file_extension": ".py",
   "mimetype": "text/x-python",
   "name": "python",
   "nbconvert_exporter": "python",
   "pygments_lexer": "ipython3",
   "version": "3.8.1"
  }
 },
 "nbformat": 4,
 "nbformat_minor": 4
}

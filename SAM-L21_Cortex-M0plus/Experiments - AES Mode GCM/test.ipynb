{
 "cells": [
  {
   "cell_type": "code",
   "execution_count": 1,
   "metadata": {},
   "outputs": [],
   "source": [
    "# %matplotlib ipympl\n",
    "# %matplotlib inline\n",
    "%matplotlib wx"
   ]
  },
  {
   "cell_type": "code",
   "execution_count": 2,
   "metadata": {},
   "outputs": [],
   "source": [
    "import matplotlib.pyplot as plt\n",
    "import numpy as np"
   ]
  },
  {
   "cell_type": "code",
   "execution_count": 3,
   "metadata": {},
   "outputs": [
    {
     "name": "stderr",
     "output_type": "stream",
     "text": [
      "c:\\users\\areeb assad\\appdata\\local\\programs\\python\\python38-32\\lib\\site-packages\\IPython\\lib\\pretty.py:695: MatplotlibDeprecationWarning: \n",
      "The examples.directory rcparam was deprecated in Matplotlib 3.0 and will be removed in 3.2. In the future, examples will be found relative to the 'datapath' directory.\n",
      "  output = repr(obj)\n"
     ]
    },
    {
     "data": {
      "text/plain": [
       "RcParams({'_internal.classic_mode': False,\n",
       "          'agg.path.chunksize': 0,\n",
       "          'animation.avconv_args': [],\n",
       "          'animation.avconv_path': 'avconv',\n",
       "          'animation.bitrate': -1,\n",
       "          'animation.codec': 'h264',\n",
       "          'animation.convert_args': [],\n",
       "          'animation.convert_path': 'convert',\n",
       "          'animation.embed_limit': 20.0,\n",
       "          'animation.ffmpeg_args': [],\n",
       "          'animation.ffmpeg_path': 'ffmpeg',\n",
       "          'animation.frame_format': 'png',\n",
       "          'animation.html': 'none',\n",
       "          'animation.html_args': [],\n",
       "          'animation.writer': 'ffmpeg',\n",
       "          'axes.autolimit_mode': 'data',\n",
       "          'axes.axisbelow': 'line',\n",
       "          'axes.edgecolor': 'black',\n",
       "          'axes.facecolor': 'white',\n",
       "          'axes.formatter.limits': [-7, 7],\n",
       "          'axes.formatter.min_exponent': 0,\n",
       "          'axes.formatter.offset_threshold': 4,\n",
       "          'axes.formatter.use_locale': False,\n",
       "          'axes.formatter.use_mathtext': False,\n",
       "          'axes.formatter.useoffset': True,\n",
       "          'axes.grid': False,\n",
       "          'axes.grid.axis': 'both',\n",
       "          'axes.grid.which': 'major',\n",
       "          'axes.labelcolor': 'black',\n",
       "          'axes.labelpad': 4.0,\n",
       "          'axes.labelsize': 'medium',\n",
       "          'axes.labelweight': 'normal',\n",
       "          'axes.linewidth': 0.8,\n",
       "          'axes.prop_cycle': cycler('color', ['#1f77b4', '#ff7f0e', '#2ca02c', '#d62728', '#9467bd', '#8c564b', '#e377c2', '#7f7f7f', '#bcbd22', '#17becf']),\n",
       "          'axes.spines.bottom': True,\n",
       "          'axes.spines.left': True,\n",
       "          'axes.spines.right': True,\n",
       "          'axes.spines.top': True,\n",
       "          'axes.titlepad': 6.0,\n",
       "          'axes.titlesize': 'large',\n",
       "          'axes.titleweight': 'normal',\n",
       "          'axes.unicode_minus': True,\n",
       "          'axes.xmargin': 0.05,\n",
       "          'axes.ymargin': 0.05,\n",
       "          'axes3d.grid': True,\n",
       "          'backend': 'WXAgg',\n",
       "          'backend_fallback': True,\n",
       "          'boxplot.bootstrap': None,\n",
       "          'boxplot.boxprops.color': 'black',\n",
       "          'boxplot.boxprops.linestyle': '-',\n",
       "          'boxplot.boxprops.linewidth': 1.0,\n",
       "          'boxplot.capprops.color': 'black',\n",
       "          'boxplot.capprops.linestyle': '-',\n",
       "          'boxplot.capprops.linewidth': 1.0,\n",
       "          'boxplot.flierprops.color': 'black',\n",
       "          'boxplot.flierprops.linestyle': 'none',\n",
       "          'boxplot.flierprops.linewidth': 1.0,\n",
       "          'boxplot.flierprops.marker': 'o',\n",
       "          'boxplot.flierprops.markeredgecolor': 'black',\n",
       "          'boxplot.flierprops.markeredgewidth': 1.0,\n",
       "          'boxplot.flierprops.markerfacecolor': 'none',\n",
       "          'boxplot.flierprops.markersize': 6.0,\n",
       "          'boxplot.meanline': False,\n",
       "          'boxplot.meanprops.color': 'C2',\n",
       "          'boxplot.meanprops.linestyle': '--',\n",
       "          'boxplot.meanprops.linewidth': 1.0,\n",
       "          'boxplot.meanprops.marker': '^',\n",
       "          'boxplot.meanprops.markeredgecolor': 'C2',\n",
       "          'boxplot.meanprops.markerfacecolor': 'C2',\n",
       "          'boxplot.meanprops.markersize': 6.0,\n",
       "          'boxplot.medianprops.color': 'C1',\n",
       "          'boxplot.medianprops.linestyle': '-',\n",
       "          'boxplot.medianprops.linewidth': 1.0,\n",
       "          'boxplot.notch': False,\n",
       "          'boxplot.patchartist': False,\n",
       "          'boxplot.showbox': True,\n",
       "          'boxplot.showcaps': True,\n",
       "          'boxplot.showfliers': True,\n",
       "          'boxplot.showmeans': False,\n",
       "          'boxplot.vertical': True,\n",
       "          'boxplot.whiskerprops.color': 'black',\n",
       "          'boxplot.whiskerprops.linestyle': '-',\n",
       "          'boxplot.whiskerprops.linewidth': 1.0,\n",
       "          'boxplot.whiskers': 1.5,\n",
       "          'contour.corner_mask': True,\n",
       "          'contour.negative_linestyle': 'dashed',\n",
       "          'datapath': 'c:\\\\users\\\\areeb '\n",
       "                      'assad\\\\appdata\\\\local\\\\programs\\\\python\\\\python38-32\\\\lib\\\\site-packages\\\\matplotlib\\\\mpl-data',\n",
       "          'date.autoformatter.day': '%Y-%m-%d',\n",
       "          'date.autoformatter.hour': '%m-%d %H',\n",
       "          'date.autoformatter.microsecond': '%M:%S.%f',\n",
       "          'date.autoformatter.minute': '%d %H:%M',\n",
       "          'date.autoformatter.month': '%Y-%m',\n",
       "          'date.autoformatter.second': '%H:%M:%S',\n",
       "          'date.autoformatter.year': '%Y',\n",
       "          'docstring.hardcopy': False,\n",
       "          'errorbar.capsize': 0.0,\n",
       "          'examples.directory': '',\n",
       "          'figure.autolayout': False,\n",
       "          'figure.constrained_layout.h_pad': 0.04167,\n",
       "          'figure.constrained_layout.hspace': 0.02,\n",
       "          'figure.constrained_layout.use': False,\n",
       "          'figure.constrained_layout.w_pad': 0.04167,\n",
       "          'figure.constrained_layout.wspace': 0.02,\n",
       "          'figure.dpi': 100.0,\n",
       "          'figure.edgecolor': 'white',\n",
       "          'figure.facecolor': 'white',\n",
       "          'figure.figsize': [6.4, 4.8],\n",
       "          'figure.frameon': True,\n",
       "          'figure.max_open_warning': 20,\n",
       "          'figure.subplot.bottom': 0.11,\n",
       "          'figure.subplot.hspace': 0.2,\n",
       "          'figure.subplot.left': 0.125,\n",
       "          'figure.subplot.right': 0.9,\n",
       "          'figure.subplot.top': 0.88,\n",
       "          'figure.subplot.wspace': 0.2,\n",
       "          'figure.titlesize': 'large',\n",
       "          'figure.titleweight': 'normal',\n",
       "          'font.cursive': ['Apple Chancery',\n",
       "                           'Textile',\n",
       "                           'Zapf Chancery',\n",
       "                           'Sand',\n",
       "                           'Script MT',\n",
       "                           'Felipa',\n",
       "                           'cursive'],\n",
       "          'font.family': ['sans-serif'],\n",
       "          'font.fantasy': ['Comic Sans MS',\n",
       "                           'Chicago',\n",
       "                           'Charcoal',\n",
       "                           'Impact',\n",
       "                           'Western',\n",
       "                           'Humor Sans',\n",
       "                           'xkcd',\n",
       "                           'fantasy'],\n",
       "          'font.monospace': ['DejaVu Sans Mono',\n",
       "                             'Bitstream Vera Sans Mono',\n",
       "                             'Computer Modern Typewriter',\n",
       "                             'Andale Mono',\n",
       "                             'Nimbus Mono L',\n",
       "                             'Courier New',\n",
       "                             'Courier',\n",
       "                             'Fixed',\n",
       "                             'Terminal',\n",
       "                             'monospace'],\n",
       "          'font.sans-serif': ['DejaVu Sans',\n",
       "                              'Bitstream Vera Sans',\n",
       "                              'Computer Modern Sans Serif',\n",
       "                              'Lucida Grande',\n",
       "                              'Verdana',\n",
       "                              'Geneva',\n",
       "                              'Lucid',\n",
       "                              'Arial',\n",
       "                              'Helvetica',\n",
       "                              'Avant Garde',\n",
       "                              'sans-serif'],\n",
       "          'font.serif': ['DejaVu Serif',\n",
       "                         'Bitstream Vera Serif',\n",
       "                         'Computer Modern Roman',\n",
       "                         'New Century Schoolbook',\n",
       "                         'Century Schoolbook L',\n",
       "                         'Utopia',\n",
       "                         'ITC Bookman',\n",
       "                         'Bookman',\n",
       "                         'Nimbus Roman No9 L',\n",
       "                         'Times New Roman',\n",
       "                         'Times',\n",
       "                         'Palatino',\n",
       "                         'Charter',\n",
       "                         'serif'],\n",
       "          'font.size': 10.0,\n",
       "          'font.stretch': 'normal',\n",
       "          'font.style': 'normal',\n",
       "          'font.variant': 'normal',\n",
       "          'font.weight': 'normal',\n",
       "          'grid.alpha': 1.0,\n",
       "          'grid.color': '#b0b0b0',\n",
       "          'grid.linestyle': '-',\n",
       "          'grid.linewidth': 0.8,\n",
       "          'hatch.color': 'black',\n",
       "          'hatch.linewidth': 1.0,\n",
       "          'hist.bins': 10,\n",
       "          'image.aspect': 'equal',\n",
       "          'image.cmap': 'viridis',\n",
       "          'image.composite_image': True,\n",
       "          'image.interpolation': 'nearest',\n",
       "          'image.lut': 256,\n",
       "          'image.origin': 'upper',\n",
       "          'image.resample': True,\n",
       "          'interactive': True,\n",
       "          'keymap.all_axes': ['a'],\n",
       "          'keymap.back': ['left', 'c', 'backspace', 'MouseButton.BACK'],\n",
       "          'keymap.copy': ['ctrl+c', 'cmd+c'],\n",
       "          'keymap.forward': ['right', 'v', 'MouseButton.FORWARD'],\n",
       "          'keymap.fullscreen': ['f', 'ctrl+f'],\n",
       "          'keymap.grid': ['g'],\n",
       "          'keymap.grid_minor': ['G'],\n",
       "          'keymap.help': ['f1'],\n",
       "          'keymap.home': ['h', 'r', 'home'],\n",
       "          'keymap.pan': ['p'],\n",
       "          'keymap.quit': ['ctrl+w', 'cmd+w', 'q'],\n",
       "          'keymap.quit_all': ['W', 'cmd+W', 'Q'],\n",
       "          'keymap.save': ['s', 'ctrl+s'],\n",
       "          'keymap.xscale': ['k', 'L'],\n",
       "          'keymap.yscale': ['l'],\n",
       "          'keymap.zoom': ['o'],\n",
       "          'legend.borderaxespad': 0.5,\n",
       "          'legend.borderpad': 0.4,\n",
       "          'legend.columnspacing': 2.0,\n",
       "          'legend.edgecolor': '0.8',\n",
       "          'legend.facecolor': 'inherit',\n",
       "          'legend.fancybox': True,\n",
       "          'legend.fontsize': 'medium',\n",
       "          'legend.framealpha': 0.8,\n",
       "          'legend.frameon': True,\n",
       "          'legend.handleheight': 0.7,\n",
       "          'legend.handlelength': 2.0,\n",
       "          'legend.handletextpad': 0.8,\n",
       "          'legend.labelspacing': 0.5,\n",
       "          'legend.loc': 'best',\n",
       "          'legend.markerscale': 1.0,\n",
       "          'legend.numpoints': 1,\n",
       "          'legend.scatterpoints': 1,\n",
       "          'legend.shadow': False,\n",
       "          'legend.title_fontsize': None,\n",
       "          'lines.antialiased': True,\n",
       "          'lines.color': 'C0',\n",
       "          'lines.dash_capstyle': 'butt',\n",
       "          'lines.dash_joinstyle': 'round',\n",
       "          'lines.dashdot_pattern': [6.4, 1.6, 1.0, 1.6],\n",
       "          'lines.dashed_pattern': [3.7, 1.6],\n",
       "          'lines.dotted_pattern': [1.0, 1.65],\n",
       "          'lines.linestyle': '-',\n",
       "          'lines.linewidth': 1.5,\n",
       "          'lines.marker': 'None',\n",
       "          'lines.markeredgecolor': 'auto',\n",
       "          'lines.markeredgewidth': 1.0,\n",
       "          'lines.markerfacecolor': 'auto',\n",
       "          'lines.markersize': 6.0,\n",
       "          'lines.scale_dashes': True,\n",
       "          'lines.solid_capstyle': 'projecting',\n",
       "          'lines.solid_joinstyle': 'round',\n",
       "          'markers.fillstyle': 'full',\n",
       "          'mathtext.bf': 'sans:bold',\n",
       "          'mathtext.cal': 'cursive',\n",
       "          'mathtext.default': 'it',\n",
       "          'mathtext.fallback_to_cm': True,\n",
       "          'mathtext.fontset': 'dejavusans',\n",
       "          'mathtext.it': 'sans:italic',\n",
       "          'mathtext.rm': 'sans',\n",
       "          'mathtext.sf': 'sans',\n",
       "          'mathtext.tt': 'monospace',\n",
       "          'patch.antialiased': True,\n",
       "          'patch.edgecolor': 'black',\n",
       "          'patch.facecolor': 'C0',\n",
       "          'patch.force_edgecolor': False,\n",
       "          'patch.linewidth': 1.0,\n",
       "          'path.effects': [],\n",
       "          'path.simplify': True,\n",
       "          'path.simplify_threshold': 0.1111111111111111,\n",
       "          'path.sketch': None,\n",
       "          'path.snap': True,\n",
       "          'pdf.compression': 6,\n",
       "          'pdf.fonttype': 3,\n",
       "          'pdf.inheritcolor': False,\n",
       "          'pdf.use14corefonts': False,\n",
       "          'pgf.preamble': '',\n",
       "          'pgf.rcfonts': True,\n",
       "          'pgf.texsystem': 'xelatex',\n",
       "          'polaraxes.grid': True,\n",
       "          'ps.distiller.res': 6000,\n",
       "          'ps.fonttype': 3,\n",
       "          'ps.papersize': 'letter',\n",
       "          'ps.useafm': False,\n",
       "          'ps.usedistiller': False,\n",
       "          'savefig.bbox': None,\n",
       "          'savefig.directory': '~',\n",
       "          'savefig.dpi': 'figure',\n",
       "          'savefig.edgecolor': 'white',\n",
       "          'savefig.facecolor': 'white',\n",
       "          'savefig.format': 'png',\n",
       "          'savefig.frameon': True,\n",
       "          'savefig.jpeg_quality': 95,\n",
       "          'savefig.orientation': 'portrait',\n",
       "          'savefig.pad_inches': 0.1,\n",
       "          'savefig.transparent': False,\n",
       "          'scatter.edgecolors': 'face',\n",
       "          'scatter.marker': 'o',\n",
       "          'svg.fonttype': 'path',\n",
       "          'svg.hashsalt': None,\n",
       "          'svg.image_inline': True,\n",
       "          'text.antialiased': True,\n",
       "          'text.color': 'black',\n",
       "          'text.hinting': 'auto',\n",
       "          'text.hinting_factor': 8,\n",
       "          'text.latex.preamble': '',\n",
       "          'text.latex.preview': False,\n",
       "          'text.latex.unicode': True,\n",
       "          'text.usetex': False,\n",
       "          'timezone': 'UTC',\n",
       "          'tk.window_focus': False,\n",
       "          'toolbar': 'toolbar2',\n",
       "          'verbose.fileo': 'sys.stdout',\n",
       "          'verbose.level': 'silent',\n",
       "          'webagg.address': '127.0.0.1',\n",
       "          'webagg.open_in_browser': True,\n",
       "          'webagg.port': 8988,\n",
       "          'webagg.port_retries': 50,\n",
       "          'xtick.alignment': 'center',\n",
       "          'xtick.bottom': True,\n",
       "          'xtick.color': 'black',\n",
       "          'xtick.direction': 'out',\n",
       "          'xtick.labelbottom': True,\n",
       "          'xtick.labelsize': 'medium',\n",
       "          'xtick.labeltop': False,\n",
       "          'xtick.major.bottom': True,\n",
       "          'xtick.major.pad': 3.5,\n",
       "          'xtick.major.size': 3.5,\n",
       "          'xtick.major.top': True,\n",
       "          'xtick.major.width': 0.8,\n",
       "          'xtick.minor.bottom': True,\n",
       "          'xtick.minor.pad': 3.4,\n",
       "          'xtick.minor.size': 2.0,\n",
       "          'xtick.minor.top': True,\n",
       "          'xtick.minor.visible': False,\n",
       "          'xtick.minor.width': 0.6,\n",
       "          'xtick.top': False,\n",
       "          'ytick.alignment': 'center_baseline',\n",
       "          'ytick.color': 'black',\n",
       "          'ytick.direction': 'out',\n",
       "          'ytick.labelleft': True,\n",
       "          'ytick.labelright': False,\n",
       "          'ytick.labelsize': 'medium',\n",
       "          'ytick.left': True,\n",
       "          'ytick.major.left': True,\n",
       "          'ytick.major.pad': 3.5,\n",
       "          'ytick.major.right': True,\n",
       "          'ytick.major.size': 3.5,\n",
       "          'ytick.major.width': 0.8,\n",
       "          'ytick.minor.left': True,\n",
       "          'ytick.minor.pad': 3.4,\n",
       "          'ytick.minor.right': True,\n",
       "          'ytick.minor.size': 2.0,\n",
       "          'ytick.minor.visible': False,\n",
       "          'ytick.minor.width': 0.6,\n",
       "          'ytick.right': False})"
      ]
     },
     "execution_count": 3,
     "metadata": {},
     "output_type": "execute_result"
    }
   ],
   "source": [
    "from pylab import rcParams\n",
    "rcParams['figure.figsize']\n",
    "rcParams[\"savefig.dpi\"]\n",
    "rcParams"
   ]
  },
  {
   "cell_type": "code",
   "execution_count": 4,
   "metadata": {},
   "outputs": [
    {
     "name": "stderr",
     "output_type": "stream",
     "text": [
      "C:\\Users\\Areeb Assad\\Desktop\\Thesis\\Erik Code\\Atmel-SAML11-master\\Experiments\\experiments\\checkpoint_energy.py:107: SyntaxWarning: \"is\" with a literal. Did you mean \"==\"?\n",
      "  elif security_type is \"None\":\n"
     ]
    }
   ],
   "source": [
    "from experiments.checkpoint_energy import CheckpointEnergy"
   ]
  },
  {
   "cell_type": "code",
   "execution_count": 5,
   "metadata": {},
   "outputs": [],
   "source": [
    "checkpoint_energy = CheckpointEnergy()"
   ]
  },
  {
   "cell_type": "code",
   "execution_count": 6,
   "metadata": {},
   "outputs": [
    {
     "data": {
      "text/plain": [
       "['AES',\n",
       " 'AES-128_Flash',\n",
       " 'AES-128_Flash_WolfSSL_library',\n",
       " 'AES-256_Flash',\n",
       " 'AES-256_Flash_WolfSSL_library',\n",
       " 'Crypto-Current',\n",
       " 'No_Security_Flash',\n",
       " 'No_Security_Flash_NS',\n",
       " 'TrustZone',\n",
       " 'TrustZone_Flash']"
      ]
     },
     "execution_count": 6,
     "metadata": {},
     "output_type": "execute_result"
    }
   ],
   "source": [
    "checkpoint_energy.security_projects"
   ]
  },
  {
   "cell_type": "code",
   "execution_count": 7,
   "metadata": {},
   "outputs": [
    {
     "data": {
      "text/plain": [
       "['BitCounting', 'Dijkstra', 'FFT', 'Sorting']"
      ]
     },
     "execution_count": 7,
     "metadata": {},
     "output_type": "execute_result"
    }
   ],
   "source": [
    "checkpoint_energy.workload_projects"
   ]
  },
  {
   "cell_type": "code",
   "execution_count": 8,
   "metadata": {},
   "outputs": [],
   "source": [
    "# checkpoint_energy.get_device_info(verbose=1)"
   ]
  },
  {
   "cell_type": "code",
   "execution_count": 9,
   "metadata": {},
   "outputs": [
    {
     "name": "stdout",
     "output_type": "stream",
     "text": [
      "[ERROR] Could not find tool.\n",
      "\n",
      "14\n",
      "Exit codes for atprogram\n",
      "    \n",
      "atprogram is the Atmel Studio Command Line Interface which is deployed with \n",
      "Atmel Studio 6 as well as in a standalone package.  It replaces the individual\n",
      "Tools' command line interfaces, including:\n",
      "  - Stk500.exe\n",
      "  - Stk600.exe\n",
      "  - jtagiceii.exe\n",
      "  - AVRDragon.exe\n",
      "  - avrone.exe\n",
      "    \n",
      "atprogram also replaces the command line interface to UC3 devices- avr32program\n",
      "atprogram also provides command line access to JTAGICE3 and SAMICE.\n",
      "    \n",
      "atprogram makes use of the Atmel Studio backend, which means that all tools\n",
      "and devices supported by Atmel Studio are supported by atprogram.exe\n",
      "    \n",
      "This guide is intended to be used as a reference when using atprogram \n",
      "in script utilities.\n",
      "\n",
      "Code ranges:\n",
      " 0-9         Exit codes that is locked or unknown\n",
      " 10-50       Exit codes due to errors in atprogram itself\n",
      " 100-200     Exit codes from atbackend\n",
      "\n",
      "\n",
      "Exits Codes:\n",
      "\n",
      "0    Success                       The program executed with no errors \n",
      "1    Unexpected Error              A run time error that was not anticipated\n",
      "2    User Interrupt Error          A user interrupted the program\n",
      "10   Command Error                 Exception which indicates that a command has\n",
      "                                   failed for some internal reason.\n",
      "11   Command Argument Error        Raised when there are error in the arguments\n",
      "                                   passed to the command\n",
      "12   Missing Command Error         An error which occurs if there is no command\n",
      "13   Command Parser Error          Error when parsing command line arguments.\n",
      "14   Tool Error                    Exception raised when there is an error with\n",
      "                                   the setup or use of a tool\n",
      "15   Resource Error                Exception raised when there is an error in\n",
      "                                   creating or serving a resource.\n",
      "16   Tcf Error                     A TCF command returned an error.\n",
      "17   Timeout Error                 Error because of an timeout.\n",
      "18   Missing Or Wrong Input Error  An error caused by incomplete information\n",
      "                                   specified by user\n",
      "19   Old Fw Exception              Firmware must be upgraded\n",
      "20   Backend Creation Error        Exception raised when there is an error in\n",
      "                                   creating or serving a resource.\n",
      "21   Options Parse Error           Error in parsing an option.\n",
      "22   Json Parse Error              Exception which can be thrown if a TCF\n",
      "                                   response could not be parsed.\n",
      "23   Verify Error                  An error given when failing to verify memory\n",
      "                                   content\n",
      "\n",
      "\n"
     ]
    },
    {
     "ename": "NotADirectoryError",
     "evalue": "[WinError 267] The directory name is invalid",
     "output_type": "error",
     "traceback": [
      "\u001b[1;31m---------------------------------------------------------------------------\u001b[0m",
      "\u001b[1;31mNotADirectoryError\u001b[0m                        Traceback (most recent call last)",
      "\u001b[1;32m<ipython-input-9-e9888e8c47d7>\u001b[0m in \u001b[0;36m<module>\u001b[1;34m\u001b[0m\n\u001b[1;32m----> 1\u001b[1;33m \u001b[0mcheckpoint_energy\u001b[0m\u001b[1;33m.\u001b[0m\u001b[0mmeasure_workload_energy\u001b[0m\u001b[1;33m(\u001b[0m\u001b[1;34m\"Sorting\"\u001b[0m\u001b[1;33m)\u001b[0m\u001b[1;33m\u001b[0m\u001b[1;33m\u001b[0m\u001b[0m\n\u001b[0m",
      "\u001b[1;32m~\\Desktop\\Thesis\\Erik Code\\Atmel-SAML11-master\\Experiments\\experiments\\checkpoint_energy.py\u001b[0m in \u001b[0;36mmeasure_workload_energy\u001b[1;34m(self, workload_project, config_file, extract_project_size, extract_device_info, **kwargs)\u001b[0m\n\u001b[0;32m     61\u001b[0m                                 \u001b[0mextract_project_size\u001b[0m\u001b[1;33m=\u001b[0m\u001b[1;32mTrue\u001b[0m\u001b[1;33m,\u001b[0m\u001b[1;33m\u001b[0m\u001b[1;33m\u001b[0m\u001b[0m\n\u001b[0;32m     62\u001b[0m                                 extract_device_info=True, **kwargs):\n\u001b[1;32m---> 63\u001b[1;33m         repeated_experiment(path.join(self.get_config_file_path(\n\u001b[0m\u001b[0;32m     64\u001b[0m             workload_project), config_file or self.repeated_config_file),\n\u001b[0;32m     65\u001b[0m             \u001b[0mextract_project_size\u001b[0m\u001b[1;33m=\u001b[0m\u001b[0mextract_project_size\u001b[0m\u001b[1;33m,\u001b[0m\u001b[1;33m\u001b[0m\u001b[1;33m\u001b[0m\u001b[0m\n",
      "\u001b[1;32m~\\Desktop\\Thesis\\Erik Code\\Atmel-SAML11-master\\Experiments\\experiments\\repeated_experiment.py\u001b[0m in \u001b[0;36mrepeated_experiment\u001b[1;34m(config_file, verbose, config_dict, live_plot, max_log_time, log_stop_function, analysis_stop_function, repetitions, dump_pickle, extract_project_size, extract_device_info)\u001b[0m\n\u001b[0;32m     78\u001b[0m         \u001b[1;32mif\u001b[0m \u001b[0mextract_project_size\u001b[0m\u001b[1;33m:\u001b[0m\u001b[1;33m\u001b[0m\u001b[1;33m\u001b[0m\u001b[0m\n\u001b[0;32m     79\u001b[0m             extract_results[\"size\"][path.basename(path.normpath(\n\u001b[1;32m---> 80\u001b[1;33m                 project_path))] = get_project_size(project_path,\n\u001b[0m\u001b[0;32m     81\u001b[0m                                                    verbose=verbose)\n\u001b[0;32m     82\u001b[0m         atprogram(project_path, clean=False, build=True, erase=False,\n",
      "\u001b[1;32mc:\\users\\areeb assad\\desktop\\thesis\\erik code\\pydgilib\\atprogram\\atprogram.py\u001b[0m in \u001b[0;36mget_project_size\u001b[1;34m(project_path, device_name, verbose, tool, interface, atmel_studio_path, make_path, configuration, device_sn, jobs)\u001b[0m\n\u001b[0;32m    475\u001b[0m \u001b[1;33m\u001b[0m\u001b[0m\n\u001b[0;32m    476\u001b[0m     \"\"\"\n\u001b[1;32m--> 477\u001b[1;33m     (text, data, bss, dec, hex, filename) = size_regexp.findall(atprogram(\n\u001b[0m\u001b[0;32m    478\u001b[0m         \u001b[0mproject_path\u001b[0m\u001b[1;33m,\u001b[0m \u001b[0mclean\u001b[0m\u001b[1;33m=\u001b[0m\u001b[1;32mTrue\u001b[0m\u001b[1;33m,\u001b[0m \u001b[0mbuild\u001b[0m\u001b[1;33m=\u001b[0m\u001b[1;32mTrue\u001b[0m\u001b[1;33m,\u001b[0m \u001b[0merase\u001b[0m\u001b[1;33m=\u001b[0m\u001b[1;32mFalse\u001b[0m\u001b[1;33m,\u001b[0m \u001b[0mprogram\u001b[0m\u001b[1;33m=\u001b[0m\u001b[1;32mFalse\u001b[0m\u001b[1;33m,\u001b[0m\u001b[1;33m\u001b[0m\u001b[1;33m\u001b[0m\u001b[0m\n\u001b[0;32m    479\u001b[0m         verify=False, return_output=True, verbose=1, dry_run=False))[0]\n",
      "\u001b[1;32mc:\\users\\areeb assad\\desktop\\thesis\\erik code\\pydgilib\\atprogram\\atprogram.py\u001b[0m in \u001b[0;36matprogram\u001b[1;34m(project_path, device_name, verbose, clean, build, erase, program, verify, tool, interface, atmel_studio_path, make_path, atprogram_path, configuration, device_sn, jobs, make_command, atprogram_command, return_output, dry_run)\u001b[0m\n\u001b[0;32m    206\u001b[0m             \u001b[0mreturncode\u001b[0m \u001b[1;33m=\u001b[0m \u001b[0mmake_caller\u001b[0m\u001b[1;33m(\u001b[0m\u001b[0mmake_command\u001b[0m\u001b[1;33m)\u001b[0m\u001b[1;33m\u001b[0m\u001b[1;33m\u001b[0m\u001b[0m\n\u001b[0;32m    207\u001b[0m         \u001b[1;32mif\u001b[0m \u001b[0mclean\u001b[0m \u001b[1;32mand\u001b[0m \u001b[1;32mnot\u001b[0m \u001b[0mreturncode\u001b[0m\u001b[1;33m:\u001b[0m\u001b[1;33m\u001b[0m\u001b[1;33m\u001b[0m\u001b[0m\n\u001b[1;32m--> 208\u001b[1;33m             \u001b[0mreturncode\u001b[0m \u001b[1;33m=\u001b[0m \u001b[0mmake_caller\u001b[0m\u001b[1;33m(\u001b[0m\u001b[1;34m\"clean\"\u001b[0m\u001b[1;33m)\u001b[0m\u001b[1;33m\u001b[0m\u001b[1;33m\u001b[0m\u001b[0m\n\u001b[0m\u001b[0;32m    209\u001b[0m         \u001b[1;32mif\u001b[0m \u001b[0mbuild\u001b[0m \u001b[1;32mand\u001b[0m \u001b[1;32mnot\u001b[0m \u001b[0mreturncode\u001b[0m\u001b[1;33m:\u001b[0m\u001b[1;33m\u001b[0m\u001b[1;33m\u001b[0m\u001b[0m\n\u001b[0;32m    210\u001b[0m             \u001b[0mreturncode\u001b[0m \u001b[1;33m=\u001b[0m \u001b[0mmake_caller\u001b[0m\u001b[1;33m(\u001b[0m\u001b[1;34mf\"all --jobs {jobs} --output-sync\"\u001b[0m\u001b[1;33m)\u001b[0m\u001b[1;33m\u001b[0m\u001b[1;33m\u001b[0m\u001b[0m\n",
      "\u001b[1;32mc:\\users\\areeb assad\\desktop\\thesis\\erik code\\pydgilib\\atprogram\\atprogram.py\u001b[0m in \u001b[0;36mmake_caller\u001b[1;34m(command)\u001b[0m\n\u001b[0;32m    199\u001b[0m                                      ) + \"> \" + \" \".join(args))\n\u001b[0;32m    200\u001b[0m                 \u001b[1;32mreturn\u001b[0m \u001b[1;36m0\u001b[0m\u001b[1;33m\u001b[0m\u001b[1;33m\u001b[0m\u001b[0m\n\u001b[1;32m--> 201\u001b[1;33m             \u001b[0mres\u001b[0m \u001b[1;33m=\u001b[0m \u001b[0mrun\u001b[0m\u001b[1;33m(\u001b[0m\u001b[0margs\u001b[0m\u001b[1;33m,\u001b[0m \u001b[1;33m**\u001b[0m\u001b[0mkwargs\u001b[0m\u001b[1;33m)\u001b[0m\u001b[1;33m\u001b[0m\u001b[1;33m\u001b[0m\u001b[0m\n\u001b[0m\u001b[0;32m    202\u001b[0m             \u001b[1;32mif\u001b[0m \u001b[0mverbose\u001b[0m\u001b[1;33m:\u001b[0m\u001b[1;33m\u001b[0m\u001b[1;33m\u001b[0m\u001b[0m\n\u001b[0;32m    203\u001b[0m                 \u001b[0moutput\u001b[0m\u001b[1;33m.\u001b[0m\u001b[0mprint\u001b[0m\u001b[1;33m(\u001b[0m\u001b[0mres\u001b[0m\u001b[1;33m.\u001b[0m\u001b[0mstdout\u001b[0m\u001b[1;33m.\u001b[0m\u001b[0mdecode\u001b[0m\u001b[1;33m(\u001b[0m\u001b[1;33m)\u001b[0m\u001b[1;33m)\u001b[0m\u001b[1;33m\u001b[0m\u001b[1;33m\u001b[0m\u001b[0m\n",
      "\u001b[1;32mc:\\users\\areeb assad\\appdata\\local\\programs\\python\\python38-32\\lib\\subprocess.py\u001b[0m in \u001b[0;36mrun\u001b[1;34m(input, capture_output, timeout, check, *popenargs, **kwargs)\u001b[0m\n\u001b[0;32m    487\u001b[0m         \u001b[0mkwargs\u001b[0m\u001b[1;33m[\u001b[0m\u001b[1;34m'stderr'\u001b[0m\u001b[1;33m]\u001b[0m \u001b[1;33m=\u001b[0m \u001b[0mPIPE\u001b[0m\u001b[1;33m\u001b[0m\u001b[1;33m\u001b[0m\u001b[0m\n\u001b[0;32m    488\u001b[0m \u001b[1;33m\u001b[0m\u001b[0m\n\u001b[1;32m--> 489\u001b[1;33m     \u001b[1;32mwith\u001b[0m \u001b[0mPopen\u001b[0m\u001b[1;33m(\u001b[0m\u001b[1;33m*\u001b[0m\u001b[0mpopenargs\u001b[0m\u001b[1;33m,\u001b[0m \u001b[1;33m**\u001b[0m\u001b[0mkwargs\u001b[0m\u001b[1;33m)\u001b[0m \u001b[1;32mas\u001b[0m \u001b[0mprocess\u001b[0m\u001b[1;33m:\u001b[0m\u001b[1;33m\u001b[0m\u001b[1;33m\u001b[0m\u001b[0m\n\u001b[0m\u001b[0;32m    490\u001b[0m         \u001b[1;32mtry\u001b[0m\u001b[1;33m:\u001b[0m\u001b[1;33m\u001b[0m\u001b[1;33m\u001b[0m\u001b[0m\n\u001b[0;32m    491\u001b[0m             \u001b[0mstdout\u001b[0m\u001b[1;33m,\u001b[0m \u001b[0mstderr\u001b[0m \u001b[1;33m=\u001b[0m \u001b[0mprocess\u001b[0m\u001b[1;33m.\u001b[0m\u001b[0mcommunicate\u001b[0m\u001b[1;33m(\u001b[0m\u001b[0minput\u001b[0m\u001b[1;33m,\u001b[0m \u001b[0mtimeout\u001b[0m\u001b[1;33m=\u001b[0m\u001b[0mtimeout\u001b[0m\u001b[1;33m)\u001b[0m\u001b[1;33m\u001b[0m\u001b[1;33m\u001b[0m\u001b[0m\n",
      "\u001b[1;32mc:\\users\\areeb assad\\appdata\\local\\programs\\python\\python38-32\\lib\\subprocess.py\u001b[0m in \u001b[0;36m__init__\u001b[1;34m(self, args, bufsize, executable, stdin, stdout, stderr, preexec_fn, close_fds, shell, cwd, env, universal_newlines, startupinfo, creationflags, restore_signals, start_new_session, pass_fds, encoding, errors, text)\u001b[0m\n\u001b[0;32m    852\u001b[0m                             encoding=encoding, errors=errors)\n\u001b[0;32m    853\u001b[0m \u001b[1;33m\u001b[0m\u001b[0m\n\u001b[1;32m--> 854\u001b[1;33m             self._execute_child(args, executable, preexec_fn, close_fds,\n\u001b[0m\u001b[0;32m    855\u001b[0m                                 \u001b[0mpass_fds\u001b[0m\u001b[1;33m,\u001b[0m \u001b[0mcwd\u001b[0m\u001b[1;33m,\u001b[0m \u001b[0menv\u001b[0m\u001b[1;33m,\u001b[0m\u001b[1;33m\u001b[0m\u001b[1;33m\u001b[0m\u001b[0m\n\u001b[0;32m    856\u001b[0m                                 \u001b[0mstartupinfo\u001b[0m\u001b[1;33m,\u001b[0m \u001b[0mcreationflags\u001b[0m\u001b[1;33m,\u001b[0m \u001b[0mshell\u001b[0m\u001b[1;33m,\u001b[0m\u001b[1;33m\u001b[0m\u001b[1;33m\u001b[0m\u001b[0m\n",
      "\u001b[1;32mc:\\users\\areeb assad\\appdata\\local\\programs\\python\\python38-32\\lib\\subprocess.py\u001b[0m in \u001b[0;36m_execute_child\u001b[1;34m(self, args, executable, preexec_fn, close_fds, pass_fds, cwd, env, startupinfo, creationflags, shell, p2cread, p2cwrite, c2pread, c2pwrite, errread, errwrite, unused_restore_signals, unused_start_new_session)\u001b[0m\n\u001b[0;32m   1305\u001b[0m             \u001b[1;31m# Start the process\u001b[0m\u001b[1;33m\u001b[0m\u001b[1;33m\u001b[0m\u001b[1;33m\u001b[0m\u001b[0m\n\u001b[0;32m   1306\u001b[0m             \u001b[1;32mtry\u001b[0m\u001b[1;33m:\u001b[0m\u001b[1;33m\u001b[0m\u001b[1;33m\u001b[0m\u001b[0m\n\u001b[1;32m-> 1307\u001b[1;33m                 hp, ht, pid, tid = _winapi.CreateProcess(executable, args,\n\u001b[0m\u001b[0;32m   1308\u001b[0m                                          \u001b[1;31m# no special security\u001b[0m\u001b[1;33m\u001b[0m\u001b[1;33m\u001b[0m\u001b[1;33m\u001b[0m\u001b[0m\n\u001b[0;32m   1309\u001b[0m                                          \u001b[1;32mNone\u001b[0m\u001b[1;33m,\u001b[0m \u001b[1;32mNone\u001b[0m\u001b[1;33m,\u001b[0m\u001b[1;33m\u001b[0m\u001b[1;33m\u001b[0m\u001b[0m\n",
      "\u001b[1;31mNotADirectoryError\u001b[0m: [WinError 267] The directory name is invalid"
     ]
    }
   ],
   "source": [
    "checkpoint_energy.measure_workload_energy(\"Sorting\")"
   ]
  },
  {
   "cell_type": "code",
   "execution_count": 7,
   "metadata": {},
   "outputs": [
    {
     "data": {
      "text/plain": [
       "{'size': {'Sorting-S': {'text': 1796,\n",
       "   'data': 1024,\n",
       "   'bss': 1568,\n",
       "   'dec': 4388,\n",
       "   'hex': 4388,\n",
       "   'filename': 'Sorting-S.elf'}},\n",
       " 'info': {'Target voltage': 3.33,\n",
       "  'Device information': {'Name': 'ATSAML11E16A',\n",
       "   'JtagId': 'N/A',\n",
       "   'CPU arch.': 'CORTEX-M23',\n",
       "   'Series': 'SAML11',\n",
       "   'DAL': 2},\n",
       "  'Memory Information': {'base': {'FLASH': [0, 65536],\n",
       "    'BOCOR': [8437760, 256],\n",
       "    'SW_CALIB': [8413216, 8],\n",
       "    'USER_PAGE': [8404992, 256],\n",
       "    'HPB0': [1073741824, 32768],\n",
       "    'HPB2': [1107296256, 16384],\n",
       "    'SCS': [3758153728, 4096]},\n",
       "   'fuses': {'BOOTROM_BOOTKEY_7': 4294967295,\n",
       "    'BOOTROM_BOOTKEY_6': 4294967295,\n",
       "    'BOOTROM_BOOTKEY_5': 4294967295,\n",
       "    'BOOTROM_BOOTKEY_4': 4294967295,\n",
       "    'BOOTROM_BOOTKEY_3': 4294967295,\n",
       "    'BOOTROM_BOOTKEY_2': 4294967295,\n",
       "    'BOOTROM_BOOTKEY_1': 4294967295,\n",
       "    'BOOTROM_BOOTKEY_0': 4294967295,\n",
       "    'BOOTROM_CRCKEY_3': 4294967295,\n",
       "    'BOOTROM_CRCKEY_2': 4294967295,\n",
       "    'BOOTROM_CRCKEY_1': 4294967295,\n",
       "    'BOOTROM_CRCKEY_0': 4294967295,\n",
       "    'BOOTROM_CEKEY2_3': 4294967295,\n",
       "    'BOOTROM_CEKEY2_2': 4294967295,\n",
       "    'BOOTROM_CEKEY2_1': 4294967295,\n",
       "    'BOOTROM_CEKEY2_0': 4294967295,\n",
       "    'BOOTROM_CEKEY1_3': 4294967295,\n",
       "    'BOOTROM_CEKEY1_2': 4294967295,\n",
       "    'BOOTROM_CEKEY1_1': 4294967295,\n",
       "    'BOOTROM_CEKEY1_0': 4294967295,\n",
       "    'BOOTROM_CEKEY0_3': 4294967295,\n",
       "    'BOOTROM_CEKEY0_2': 4294967295,\n",
       "    'BOOTROM_CEKEY0_1': 4294967295,\n",
       "    'BOOTROM_CEKEY0_0': 4294967295,\n",
       "    'BOOTROM_ROMVERSION': 61,\n",
       "    'IDAU_BOOTPROT': 0,\n",
       "    'BOOTROM_BOOTOPT': 160,\n",
       "    'IDAU_BS': 0,\n",
       "    'DFLLULP_DIV_PL2': 0,\n",
       "    'ADC_BIASCOMP': 7,\n",
       "    'HOT_ADC_VAL_PTAT': 3210,\n",
       "    'HOT_INT1V_VAL': 252,\n",
       "    'ROOM_INT1V_VAL': 3,\n",
       "    'HOT_TEMP_VAL_INT': 85,\n",
       "    'ROOM_TEMP_VAL_INT': 30,\n",
       "    'IDAU_RS': 127,\n",
       "    'IDAU_ANSC': 32,\n",
       "    'WDT_EWOFFSET': 11,\n",
       "    'WDT_PER': 11,\n",
       "    'BOD33_ACTION': 1,\n",
       "    'BOD33USERLEVEL': 6,\n",
       "    'NVMCTRL_SULCK': 7}}}}"
      ]
     },
     "execution_count": 7,
     "metadata": {},
     "output_type": "execute_result"
    }
   ],
   "source": [
    "checkpoint_energy.get_workload_info(\"Sorting\", verbose=1)"
   ]
  },
  {
   "cell_type": "code",
   "execution_count": null,
   "metadata": {},
   "outputs": [],
   "source": []
  },
  {
   "cell_type": "code",
   "execution_count": 6,
   "metadata": {},
   "outputs": [
    {
     "data": {
      "text/plain": [
       "{'Sorting-S': {'text': 1796,\n",
       "  'data': 1024,\n",
       "  'bss': 1568,\n",
       "  'dec': 4388,\n",
       "  'hex': 4388,\n",
       "  'filename': 'Sorting-S.elf'}}"
      ]
     },
     "execution_count": 6,
     "metadata": {},
     "output_type": "execute_result"
    }
   ],
   "source": [
    "checkpoint_energy.get_workload_size(\"Sorting\")"
   ]
  },
  {
   "cell_type": "code",
   "execution_count": 3,
   "metadata": {},
   "outputs": [
    {
     "data": {
      "text/plain": [
       "{'Sorting': 1.6107141865167163e-05}"
      ]
     },
     "execution_count": 3,
     "metadata": {},
     "output_type": "execute_result"
    }
   ],
   "source": [
    "checkpoint_energy.get_workload_average(\"Sorting\")"
   ]
  },
  {
   "cell_type": "code",
   "execution_count": 8,
   "metadata": {},
   "outputs": [
    {
     "data": {
      "text/plain": [
       "{'BitCounting': {'Bit Counting': 1.4511161080478877e-08},\n",
       " 'FFT': {'Allocate': 1.0496720267094133e-07,\n",
       "  'Free': 8.738125884591753e-09,\n",
       "  'FFT': 5.340140131981497e-06},\n",
       " 'Sorting': {'Sorting': 2.0416584652832552e-08}}"
      ]
     },
     "execution_count": 8,
     "metadata": {},
     "output_type": "execute_result"
    }
   ],
   "source": [
    "checkpoint_energy.get_workload_std(\"Sorting\")\n",
    "checkpoint_energy.workloads_std"
   ]
  },
  {
   "cell_type": "code",
   "execution_count": 11,
   "metadata": {},
   "outputs": [
    {
     "data": {
      "text/plain": [
       "{'Sorting': [1.6104086675659492e-05,\n",
       "  1.6100090124125785e-05,\n",
       "  1.6079797611470974e-05,\n",
       "  1.6092591750580968e-05,\n",
       "  1.611804752540888e-05,\n",
       "  1.6115803192588642e-05,\n",
       "  1.611327665472872e-05,\n",
       "  1.6106261755530555e-05,\n",
       "  1.6055739272850535e-05,\n",
       "  1.6081842829463567e-05,\n",
       "  1.6109378656153478e-05,\n",
       "  1.6104309631034835e-05,\n",
       "  1.6091389904534056e-05,\n",
       "  1.6093076334563843e-05,\n",
       "  1.609132291771185e-05,\n",
       "  1.6110251704558085e-05,\n",
       "  1.6102686289468515e-05,\n",
       "  1.6101193058048057e-05,\n",
       "  1.6122106265197334e-05,\n",
       "  1.61362254876109e-05,\n",
       "  1.6105932955314317e-05,\n",
       "  1.606060934266749e-05,\n",
       "  1.6122166317196298e-05,\n",
       "  1.6071777980952354e-05,\n",
       "  1.6091322934998647e-05,\n",
       "  1.610849812723911e-05,\n",
       "  1.607353131937625e-05,\n",
       "  1.6096260421646795e-05,\n",
       "  1.6116554240388487e-05,\n",
       "  1.6129471344640944e-05,\n",
       "  1.609700459590713e-05,\n",
       "  1.6085641256803367e-05,\n",
       "  1.60896995953531e-05,\n",
       "  1.612710705564016e-05,\n",
       "  1.6128991219356393e-05,\n",
       "  1.609875802602074e-05,\n",
       "  1.6115872728242786e-05,\n",
       "  1.608814291105458e-05,\n",
       "  1.6097655022991354e-05,\n",
       "  1.610895735787824e-05,\n",
       "  1.611512177531491e-05,\n",
       "  1.613668827528887e-05,\n",
       "  1.609814409262275e-05,\n",
       "  1.6146560155091488e-05,\n",
       "  1.610259323195283e-05,\n",
       "  1.6126295280376804e-05,\n",
       "  1.609077132357047e-05,\n",
       "  1.609109819934791e-05,\n",
       "  1.6122076120171133e-05,\n",
       "  1.610184363374717e-05,\n",
       "  1.6096359052191126e-05,\n",
       "  1.6069180171625992e-05,\n",
       "  1.61145705254427e-05,\n",
       "  1.6070739051539453e-05,\n",
       "  1.6101261058838176e-05,\n",
       "  1.610963897370809e-05,\n",
       "  1.611398880482988e-05,\n",
       "  1.608320623292932e-05,\n",
       "  1.6084017897950205e-05,\n",
       "  1.61498361540688e-05,\n",
       "  1.6107525583589454e-05,\n",
       "  1.6103367803537472e-05,\n",
       "  1.6105710244083174e-05,\n",
       "  1.6146299241441614e-05,\n",
       "  1.61091490211547e-05,\n",
       "  1.614548743801955e-05,\n",
       "  1.61028163916044e-05,\n",
       "  1.6082330684040307e-05,\n",
       "  1.613171690132622e-05,\n",
       "  1.6117496245784857e-05,\n",
       "  1.6108367942693914e-05,\n",
       "  1.6113789186859833e-05,\n",
       "  1.6087686228589056e-05,\n",
       "  1.6142530376478744e-05,\n",
       "  1.6112556506268186e-05,\n",
       "  1.6101391163548845e-05,\n",
       "  1.6087071166673043e-05,\n",
       "  1.6116354406150002e-05,\n",
       "  1.6151329141345457e-05,\n",
       "  1.611736604254529e-05,\n",
       "  1.6117917261823613e-05,\n",
       "  1.610930980073999e-05,\n",
       "  1.609544869248653e-05,\n",
       "  1.614502349624376e-05,\n",
       "  1.611749625731073e-05,\n",
       "  1.6116745131593583e-05,\n",
       "  1.6087264586845154e-05,\n",
       "  1.608164884341516e-05,\n",
       "  1.6116424037945673e-05,\n",
       "  1.6135964684015616e-05,\n",
       "  1.612372975266056e-05,\n",
       "  1.610174448661415e-05,\n",
       "  1.6114179843666098e-05,\n",
       "  1.6141747725716945e-05,\n",
       "  1.609619292320322e-05,\n",
       "  1.6080479358157903e-05,\n",
       "  1.614908188487674e-05,\n",
       "  1.612532323907177e-05,\n",
       "  1.6085057730943848e-05,\n",
       "  1.6115642658085555e-05]}"
      ]
     },
     "execution_count": 11,
     "metadata": {},
     "output_type": "execute_result"
    }
   ],
   "source": [
    "checkpoint_energy.get_workload_energy(\"Sorting\")"
   ]
  },
  {
   "cell_type": "code",
   "execution_count": null,
   "metadata": {},
   "outputs": [],
   "source": []
  },
  {
   "cell_type": "code",
   "execution_count": null,
   "metadata": {},
   "outputs": [],
   "source": []
  },
  {
   "cell_type": "code",
   "execution_count": null,
   "metadata": {},
   "outputs": [],
   "source": []
  },
  {
   "cell_type": "code",
   "execution_count": 1,
   "metadata": {},
   "outputs": [],
   "source": [
    "from os import path, getenv"
   ]
  },
  {
   "cell_type": "code",
   "execution_count": 2,
   "metadata": {},
   "outputs": [],
   "source": [
    "from atprogram.atprogram import atprogram, get_project_size"
   ]
  },
  {
   "cell_type": "code",
   "execution_count": 3,
   "metadata": {},
   "outputs": [
    {
     "data": {
      "text/plain": [
       "'C:\\\\Users\\\\erikw_000\\\\Documents\\\\GitHub\\\\Atmel-SAML11\\\\Experiments\\\\Workloads\\\\BitCounting\\\\BitCounting-S'"
      ]
     },
     "execution_count": 3,
     "metadata": {},
     "output_type": "execute_result"
    }
   ],
   "source": [
    "project_path = path.abspath(path.join(path.curdir, \"Workloads\", \"BitCounting\", \"BitCounting-S\"))\n",
    "project_path"
   ]
  },
  {
   "cell_type": "code",
   "execution_count": 25,
   "metadata": {},
   "outputs": [],
   "source": [
    "str = atprogram(project_path, clean=True, \n",
    "          build=True, erase=False, \n",
    "          program=False, verify=False, \n",
    "          return_output=True, verbose=1, dry_run=False)"
   ]
  },
  {
   "cell_type": "code",
   "execution_count": 19,
   "metadata": {},
   "outputs": [],
   "source": [
    "str"
   ]
  },
  {
   "cell_type": "code",
   "execution_count": 6,
   "metadata": {},
   "outputs": [],
   "source": [
    "import re"
   ]
  },
  {
   "cell_type": "code",
   "execution_count": 27,
   "metadata": {},
   "outputs": [],
   "source": [
    "regexp = re.compile(r\"\\.elf\\\"\\n\\s*text\\t\\s*data\\t\\s*bss\\t\\s*dec\\t\\s*hex\\t\\s*filename\\r\\n\\s*(\\d+)\\t\\s*(\\d+)\\t\\s*(\\d+)\\t\\s*(\\d+)\\t\\s*([0-9a-fA-F]+)\\t\\s*(\\S+).elf\")"
   ]
  },
  {
   "cell_type": "code",
   "execution_count": null,
   "metadata": {},
   "outputs": [],
   "source": [
    "m = re.findall(pattern, str)"
   ]
  },
  {
   "cell_type": "code",
   "execution_count": 28,
   "metadata": {},
   "outputs": [
    {
     "data": {
      "text/plain": [
       "[('2372', '100', '1588', '4060', 'fdc', 'BitCounting-S')]"
      ]
     },
     "execution_count": 28,
     "metadata": {},
     "output_type": "execute_result"
    }
   ],
   "source": [
    "regexp.findall(str)"
   ]
  },
  {
   "cell_type": "code",
   "execution_count": 32,
   "metadata": {},
   "outputs": [
    {
     "ename": "NameError",
     "evalue": "name 'm' is not defined",
     "output_type": "error",
     "traceback": [
      "\u001b[1;31m---------------------------------------------------------------------------\u001b[0m",
      "\u001b[1;31mNameError\u001b[0m                                 Traceback (most recent call last)",
      "\u001b[1;32m<ipython-input-32-9a40b379906c>\u001b[0m in \u001b[0;36m<module>\u001b[1;34m\u001b[0m\n\u001b[1;32m----> 1\u001b[1;33m \u001b[0mm\u001b[0m\u001b[1;33m\u001b[0m\u001b[1;33m\u001b[0m\u001b[0m\n\u001b[0m",
      "\u001b[1;31mNameError\u001b[0m: name 'm' is not defined"
     ]
    }
   ],
   "source": []
  },
  {
   "cell_type": "code",
   "execution_count": null,
   "metadata": {},
   "outputs": [],
   "source": []
  },
  {
   "cell_type": "code",
   "execution_count": null,
   "metadata": {},
   "outputs": [],
   "source": [
    "\\.elf\\\"\\\\n\\s*text\\\\t\\s*data\\\\t\\s*bss\\\\t\\s*dec\\\\t\\s*hex\\\\t\\s*filename\\\\r\\\\n\\s*(\\d+)\\\\t\\s*(\\d+)\\\\t\\s*(\\d+)\\\\t\\s*(\\d+)\\\\t\\s*([0-9a-fA-F]+)\\\\t\\s*(\\S+)\\\\r\\\\n"
   ]
  },
  {
   "cell_type": "code",
   "execution_count": null,
   "metadata": {},
   "outputs": [],
   "source": []
  },
  {
   "cell_type": "code",
   "execution_count": 29,
   "metadata": {},
   "outputs": [],
   "source": [
    "size_regexp = re.compile(\n",
    "    r\"\\.elf\\\"\\n\\s*text\\t\\s*data\\t\\s*bss\\t\\s*dec\\t\\s*hex\\t\\s*filename\\r\\n\\s*\" +\n",
    "    r\"(\\d+)\\t\\s*(\\d+)\\t\\s*(\\d+)\\t\\s*(\\d+)\\t\\s*([0-9a-fA-F]+)\\t\\s*(\\S+).elf\")"
   ]
  },
  {
   "cell_type": "code",
   "execution_count": 31,
   "metadata": {},
   "outputs": [
    {
     "data": {
      "text/plain": [
       "[('2372', '100', '1588', '4060', 'fdc', 'BitCounting-S')]"
      ]
     },
     "execution_count": 31,
     "metadata": {},
     "output_type": "execute_result"
    }
   ],
   "source": [
    "size_regexp.findall(str)"
   ]
  },
  {
   "cell_type": "code",
   "execution_count": null,
   "metadata": {},
   "outputs": [],
   "source": []
  },
  {
   "cell_type": "code",
   "execution_count": 32,
   "metadata": {},
   "outputs": [
    {
     "data": {
      "text/plain": [
       "4045"
      ]
     },
     "execution_count": 32,
     "metadata": {},
     "output_type": "execute_result"
    }
   ],
   "source": [
    "int(\"fcd\", 16)"
   ]
  },
  {
   "cell_type": "code",
   "execution_count": null,
   "metadata": {},
   "outputs": [],
   "source": []
  },
  {
   "cell_type": "code",
   "execution_count": 4,
   "metadata": {},
   "outputs": [
    {
     "name": "stdout",
     "output_type": "stream",
     "text": [
      "{'text': 2372, 'data': 100, 'bss': 1588, 'dec': 4060, 'hex': 4060, 'filename': 'BitCounting-S'}\n"
     ]
    },
    {
     "data": {
      "text/plain": [
       "{'text': 2372,\n",
       " 'data': 100,\n",
       " 'bss': 1588,\n",
       " 'dec': 4060,\n",
       " 'hex': 4060,\n",
       " 'filename': 'BitCounting-S'}"
      ]
     },
     "execution_count": 4,
     "metadata": {},
     "output_type": "execute_result"
    }
   ],
   "source": [
    "get_project_size(project_path, verbose=1)"
   ]
  },
  {
   "cell_type": "code",
   "execution_count": 15,
   "metadata": {},
   "outputs": [],
   "source": []
  },
  {
   "cell_type": "code",
   "execution_count": 9,
   "metadata": {},
   "outputs": [
    {
     "data": {
      "image/png": "[encoded data removed]",
      "text/plain": [
       "<Figure size 432x288 with 5 Axes>"
      ]
     },
     "metadata": {
      "needs_background": "light"
     },
     "output_type": "display_data"
    }
   ],
   "source": [
    "import numpy as np\n",
    "import matplotlib.pyplot as plt\n",
    "from matplotlib.widgets import Slider, Button, RadioButtons\n",
    "\n",
    "fig, ax = plt.subplots()\n",
    "plt.subplots_adjust(left=0.25, bottom=0.25)\n",
    "t = np.arange(0.0, 1.0, 0.001)\n",
    "a0 = 5\n",
    "f0 = 3\n",
    "delta_f = 5.0\n",
    "s = a0*np.sin(2*np.pi*f0*t)\n",
    "l, = plt.plot(t, s, lw=2, color='red')\n",
    "plt.axis([0, 1, -10, 10])\n",
    "\n",
    "axcolor = 'lightgoldenrodyellow'\n",
    "axfreq = plt.axes([0.25, 0.1, 0.65, 0.03], facecolor=axcolor)\n",
    "axamp = plt.axes([0.25, 0.15, 0.65, 0.03], facecolor=axcolor)\n",
    "\n",
    "sfreq = Slider(axfreq, 'Freq', 0.1, 30.0, valinit=f0, valstep=delta_f)\n",
    "samp = Slider(axamp, 'Amp', 0.1, 10.0, valinit=a0)\n",
    "\n",
    "\n",
    "def update(val):\n",
    "    amp = samp.val\n",
    "    freq = sfreq.val\n",
    "    l.set_ydata(amp*np.sin(2*np.pi*freq*t))\n",
    "    fig.canvas.draw_idle()\n",
    "sfreq.on_changed(update)\n",
    "samp.on_changed(update)\n",
    "\n",
    "resetax = plt.axes([0.8, 0.025, 0.1, 0.04])\n",
    "button = Button(resetax, 'Reset', color=axcolor, hovercolor='0.975')\n",
    "\n",
    "\n",
    "def reset(event):\n",
    "    sfreq.reset()\n",
    "    samp.reset()\n",
    "button.on_clicked(reset)\n",
    "\n",
    "rax = plt.axes([0.025, 0.5, 0.15, 0.15], facecolor=axcolor)\n",
    "radio = RadioButtons(rax, ('red', 'blue', 'green'), active=0)\n",
    "\n",
    "\n",
    "def colorfunc(label):\n",
    "    l.set_color(label)\n",
    "    fig.canvas.draw_idle()\n",
    "radio.on_clicked(colorfunc)\n",
    "\n",
    "plt.show()"
   ]
  },
  {
   "cell_type": "code",
   "execution_count": 1,
   "metadata": {},
   "outputs": [],
   "source": [
    "\"\"\"This module holds the automated tests for DGILib.\"\"\"\n",
    "\n",
    "from pydgilib_extra.dgilib_extra_config import NUM_PINS\n",
    "from pydgilib_extra.dgilib_interface_gpio import (int2bool, bool2int)\n",
    "\n",
    "from pydgilib_extra import (\n",
    "    DGILibExtra, LOGGER_CSV, LOGGER_OBJECT, LOGGER_PLOT, INTERFACE_POWER, INTERFACE_GPIO)"
   ]
  },
  {
   "cell_type": "code",
   "execution_count": 10,
   "metadata": {},
   "outputs": [
    {
     "name": "stdout",
     "output_type": "stream",
     "text": [
      "30000\n"
     ]
    }
   ],
   "source": [
    "config_dict = {\n",
    "    \"interfaces\": [INTERFACE_POWER, INTERFACE_GPIO],\n",
    "    \"loggers\": [LOGGER_OBJECT, LOGGER_CSV],\n",
    "    \"gpio_delay_time\": 0.010795,\n",
    "}\n",
    "\n",
    "\n",
    "with DGILibExtra(**config_dict) as dgilib:\n",
    "    info = dgilib.get_time_factor()\n",
    "    dgilib.logger.log(2)\n",
    "    print(len(dgilib.data.power))"
   ]
  },
  {
   "cell_type": "code",
   "execution_count": 4,
   "metadata": {},
   "outputs": [
    {
     "data": {
      "text/plain": [
       "1875000.0"
      ]
     },
     "execution_count": 4,
     "metadata": {},
     "output_type": "execute_result"
    }
   ],
   "source": [
    "1/info"
   ]
  },
  {
   "cell_type": "code",
   "execution_count": null,
   "metadata": {},
   "outputs": [],
   "source": []
  },
  {
   "cell_type": "code",
   "execution_count": null,
   "metadata": {},
   "outputs": [],
   "source": []
  },
  {
   "cell_type": "code",
   "execution_count": 6,
   "metadata": {},
   "outputs": [],
   "source": [
    "from atprogram.atprogram import (atprogram, get_device_info, get_project_size)\n",
    "from os import path, getcwd\n",
    "\n",
    "project_path = path.join(getcwd(), \"..\", \"Python\", \"pydgilib\", \"UnitTest\", \"UnitTest\")\n",
    "\n"
   ]
  },
  {
   "cell_type": "code",
   "execution_count": 12,
   "metadata": {},
   "outputs": [
    {
     "data": {
      "text/plain": [
       "False"
      ]
     },
     "execution_count": 12,
     "metadata": {},
     "output_type": "execute_result"
    }
   ],
   "source": [
    "True ^ (not False)"
   ]
  },
  {
   "cell_type": "code",
   "execution_count": 14,
   "metadata": {},
   "outputs": [
    {
     "data": {
      "text/plain": [
       "False"
      ]
     },
     "execution_count": 14,
     "metadata": {},
     "output_type": "execute_result"
    }
   ],
   "source": [
    "(not True) ^ (not True)"
   ]
  },
  {
   "cell_type": "code",
   "execution_count": 18,
   "metadata": {},
   "outputs": [
    {
     "name": "stdout",
     "output_type": "stream",
     "text": [
      "True^True = False\n",
      "(not True)^True = True\n",
      "True^(not True) = True\n",
      "(not True)^(not True) = False\n",
      "\n",
      "True^False = True\n",
      "(not True)^False = False\n",
      "True^(not False) = False\n",
      "(not True)^(not False) = True\n",
      "\n",
      "False^True = True\n",
      "(not False)^True = False\n",
      "False^(not True) = False\n",
      "(not False)^(not True) = True\n",
      "\n",
      "False^False = False\n",
      "(not False)^False = True\n",
      "False^(not False) = True\n",
      "(not False)^(not False) = False\n",
      "\n"
     ]
    }
   ],
   "source": [
    "for a in (True, False):\n",
    "    for b in (True, False):\n",
    "        print(f\"{a}^{b} = {a^b}\")\n",
    "        print(f\"(not {a})^{b} = {(not a)^b}\")\n",
    "        print(f\"{a}^(not {b}) = {a^(not b)}\")\n",
    "        print(f\"(not {a})^(not {b}) = {(not a)^(not b)}\")\n",
    "        print()"
   ]
  },
  {
   "cell_type": "code",
   "execution_count": 13,
   "metadata": {},
   "outputs": [],
   "source": [
    "from os import path\n",
    "from pydgilib_extra import *"
   ]
  },
  {
   "cell_type": "code",
   "execution_count": 14,
   "metadata": {},
   "outputs": [],
   "source": [
    "fig = plt.figure()"
   ]
  },
  {
   "cell_type": "code",
   "execution_count": 15,
   "metadata": {},
   "outputs": [],
   "source": [
    "config = {\n",
    "    \"plot_pins\": [False, False, False, True],\n",
    "    \"plot_pins_method\": \"line\",\n",
    "}\n",
    "\n",
    "verbose = 0"
   ]
  },
  {
   "cell_type": "code",
   "execution_count": 16,
   "metadata": {},
   "outputs": [],
   "source": [
    "power_and_time = 0\n",
    "rise_and_fall = 0\n",
    "average = 0"
   ]
  },
  {
   "cell_type": "code",
   "execution_count": 20,
   "metadata": {},
   "outputs": [
    {
     "ename": "DeviceReturnError",
     "evalue": "connect returned: 17",
     "output_type": "error",
     "traceback": [
      "\u001b[1;31m---------------------------------------------------------------------------\u001b[0m",
      "\u001b[1;31mDeviceReturnError\u001b[0m                         Traceback (most recent call last)",
      "\u001b[1;32m<ipython-input-20-a0d1d58610e6>\u001b[0m in \u001b[0;36m<module>\u001b[1;34m\u001b[0m\n\u001b[0;32m      8\u001b[0m \u001b[1;33m\u001b[0m\u001b[0m\n\u001b[0;32m      9\u001b[0m \u001b[0mlogger_data\u001b[0m \u001b[1;33m=\u001b[0m \u001b[0mLoggerData\u001b[0m\u001b[1;33m(\u001b[0m\u001b[1;33m)\u001b[0m\u001b[1;33m\u001b[0m\u001b[1;33m\u001b[0m\u001b[0m\n\u001b[1;32m---> 10\u001b[1;33m \u001b[1;32mwith\u001b[0m \u001b[0mDGILibExtra\u001b[0m\u001b[1;33m(\u001b[0m\u001b[0mverbose\u001b[0m\u001b[1;33m=\u001b[0m\u001b[0mverbose\u001b[0m\u001b[1;33m,\u001b[0m \u001b[0mfig\u001b[0m\u001b[1;33m=\u001b[0m\u001b[0mfig\u001b[0m\u001b[1;33m,\u001b[0m \u001b[1;33m**\u001b[0m\u001b[0mconfig\u001b[0m\u001b[1;33m)\u001b[0m \u001b[1;32mas\u001b[0m \u001b[0mdgilib\u001b[0m\u001b[1;33m:\u001b[0m\u001b[1;33m\u001b[0m\u001b[1;33m\u001b[0m\u001b[0m\n\u001b[0m\u001b[0;32m     11\u001b[0m     \u001b[0mdgilib\u001b[0m\u001b[1;33m.\u001b[0m\u001b[0mdevice_reset\u001b[0m\u001b[1;33m(\u001b[0m\u001b[1;33m)\u001b[0m\u001b[1;33m\u001b[0m\u001b[1;33m\u001b[0m\u001b[0m\n\u001b[0;32m     12\u001b[0m     \u001b[0mdgilib\u001b[0m\u001b[1;33m.\u001b[0m\u001b[0mlogger\u001b[0m\u001b[1;33m.\u001b[0m\u001b[0mlog\u001b[0m\u001b[1;33m(\u001b[0m\u001b[1;36m4\u001b[0m\u001b[1;33m,\u001b[0m \u001b[0mlog_stop_function\u001b[0m\u001b[1;33m)\u001b[0m\u001b[1;33m\u001b[0m\u001b[1;33m\u001b[0m\u001b[0m\n",
      "\u001b[1;32mc:\\users\\erikw_000\\documents\\github\\atmel-saml11\\python\\pydgilib\\pydgilib_extra\\dgilib_extra.py\u001b[0m in \u001b[0;36m__enter__\u001b[1;34m(self)\u001b[0m\n\u001b[0;32m     48\u001b[0m     \u001b[1;32mdef\u001b[0m \u001b[0m__enter__\u001b[0m\u001b[1;33m(\u001b[0m\u001b[0mself\u001b[0m\u001b[1;33m)\u001b[0m\u001b[1;33m:\u001b[0m\u001b[1;33m\u001b[0m\u001b[1;33m\u001b[0m\u001b[0m\n\u001b[0;32m     49\u001b[0m         \u001b[1;34m\"\"\"For usage in `with DGILibExtra() as dgilib:` syntax.\"\"\"\u001b[0m\u001b[1;33m\u001b[0m\u001b[1;33m\u001b[0m\u001b[0m\n\u001b[1;32m---> 50\u001b[1;33m         \u001b[0mDGILib\u001b[0m\u001b[1;33m.\u001b[0m\u001b[0m__enter__\u001b[0m\u001b[1;33m(\u001b[0m\u001b[0mself\u001b[0m\u001b[1;33m)\u001b[0m\u001b[1;33m\u001b[0m\u001b[1;33m\u001b[0m\u001b[0m\n\u001b[0m\u001b[0;32m     51\u001b[0m         \u001b[0mself\u001b[0m\u001b[1;33m.\u001b[0m\u001b[0mavailable_interfaces\u001b[0m \u001b[1;33m=\u001b[0m \u001b[0mself\u001b[0m\u001b[1;33m.\u001b[0m\u001b[0minterface_list\u001b[0m\u001b[1;33m(\u001b[0m\u001b[1;33m)\u001b[0m\u001b[1;33m\u001b[0m\u001b[1;33m\u001b[0m\u001b[0m\n\u001b[0;32m     52\u001b[0m         \u001b[1;32mif\u001b[0m \u001b[0mINTERFACE_POWER_DATA\u001b[0m \u001b[1;32min\u001b[0m \u001b[0mself\u001b[0m\u001b[1;33m.\u001b[0m\u001b[0mavailable_interfaces\u001b[0m\u001b[1;33m:\u001b[0m\u001b[1;33m\u001b[0m\u001b[1;33m\u001b[0m\u001b[0m\n",
      "\u001b[1;32mc:\\users\\erikw_000\\documents\\github\\atmel-saml11\\python\\pydgilib\\pydgilib\\dgilib.py\u001b[0m in \u001b[0;36m__enter__\u001b[1;34m(self)\u001b[0m\n\u001b[0;32m    162\u001b[0m \u001b[1;33m\u001b[0m\u001b[0m\n\u001b[0;32m    163\u001b[0m         \u001b[1;31m# Housekeeping\u001b[0m\u001b[1;33m\u001b[0m\u001b[1;33m\u001b[0m\u001b[1;33m\u001b[0m\u001b[0m\n\u001b[1;32m--> 164\u001b[1;33m         \u001b[0mself\u001b[0m\u001b[1;33m.\u001b[0m\u001b[0mdgi_hndl\u001b[0m \u001b[1;33m=\u001b[0m \u001b[0mself\u001b[0m\u001b[1;33m.\u001b[0m\u001b[0mconnect\u001b[0m\u001b[1;33m(\u001b[0m\u001b[0mself\u001b[0m\u001b[1;33m.\u001b[0m\u001b[0mdevice_sn\u001b[0m\u001b[1;33m)\u001b[0m\u001b[1;33m\u001b[0m\u001b[1;33m\u001b[0m\u001b[0m\n\u001b[0m\u001b[0;32m    165\u001b[0m         \u001b[0mc_status\u001b[0m \u001b[1;33m=\u001b[0m \u001b[0mself\u001b[0m\u001b[1;33m.\u001b[0m\u001b[0mconnection_status\u001b[0m\u001b[1;33m(\u001b[0m\u001b[1;33m)\u001b[0m\u001b[1;33m\u001b[0m\u001b[1;33m\u001b[0m\u001b[0m\n\u001b[0;32m    166\u001b[0m         \u001b[1;32mif\u001b[0m \u001b[0mc_status\u001b[0m\u001b[1;33m:\u001b[0m\u001b[1;33m\u001b[0m\u001b[1;33m\u001b[0m\u001b[0m\n",
      "\u001b[1;32mc:\\users\\erikw_000\\documents\\github\\atmel-saml11\\python\\pydgilib\\pydgilib\\dgilib_housekeeping.py\u001b[0m in \u001b[0;36mconnect\u001b[1;34m(self, device_sn)\u001b[0m\n\u001b[0;32m     53\u001b[0m             \u001b[0mprint\u001b[0m\u001b[1;33m(\u001b[0m\u001b[1;34mf\"\\t{res} connect\"\u001b[0m\u001b[1;33m)\u001b[0m\u001b[1;33m\u001b[0m\u001b[1;33m\u001b[0m\u001b[0m\n\u001b[0;32m     54\u001b[0m         \u001b[1;32mif\u001b[0m \u001b[0mres\u001b[0m\u001b[1;33m:\u001b[0m\u001b[1;33m\u001b[0m\u001b[1;33m\u001b[0m\u001b[0m\n\u001b[1;32m---> 55\u001b[1;33m             \u001b[1;32mraise\u001b[0m \u001b[0mDeviceReturnError\u001b[0m\u001b[1;33m(\u001b[0m\u001b[1;34mf\"connect returned: {res}\"\u001b[0m\u001b[1;33m)\u001b[0m\u001b[1;33m\u001b[0m\u001b[1;33m\u001b[0m\u001b[0m\n\u001b[0m\u001b[0;32m     56\u001b[0m \u001b[1;33m\u001b[0m\u001b[0m\n\u001b[0;32m     57\u001b[0m         \u001b[1;32mreturn\u001b[0m \u001b[0mdgi_hndl\u001b[0m\u001b[1;33m\u001b[0m\u001b[1;33m\u001b[0m\u001b[0m\n",
      "\u001b[1;31mDeviceReturnError\u001b[0m: connect returned: 17"
     ]
    }
   ],
   "source": [
    "fig.clf()\n",
    "\n",
    "def log_stop_function(logger_data):\n",
    "    return len(logger_data.gpio) and all(logger_data.gpio.values[-1])\n",
    "\n",
    "def analysis_stop_function(pin_values):\n",
    "    return all(pin_values)\n",
    "\n",
    "logger_data = LoggerData()\n",
    "with DGILibExtra(verbose=verbose, fig=fig, **config) as dgilib:\n",
    "    dgilib.device_reset()\n",
    "    dgilib.logger.log(4, log_stop_function)\n",
    "    \n",
    "    print(dgilib.get_time_factor())\n",
    "\n",
    "    # Get data from object\n",
    "    if LOGGER_OBJECT in dgilib.logger.loggers:\n",
    "        logger_data = dgilib.data\n",
    "    # Get data from csv files\n",
    "    elif LOGGER_CSV in dgilib.logger.loggers:\n",
    "        for interface_id, interface in dgilib.interfaces.items():\n",
    "            logger_data[interface_id] += interface.csv_read_file(\n",
    "                path.join(dgilib.logger.log_folder,\n",
    "                          (interface.file_name_base + '_' +\n",
    "                           interface.name + \".csv\")))\n",
    "\n",
    "    power_and_time = power_and_time_per_pulse(\n",
    "        logger_data, 2,\n",
    "        stop_function=analysis_stop_function)\n",
    "    assert len(power_and_time[0]) == len(power_and_time[1])\n",
    "\n",
    "    rise_and_fall = rise_and_fall_times(\n",
    "        logger_data, 2,\n",
    "        stop_function=analysis_stop_function)\n",
    "    assert len(rise_and_fall[0]) == len(rise_and_fall[1])\n",
    "\n",
    "#     assert 1e-4 > abs(sum(power_and_time[1]) - sum((end-start for start, end in zip(*rise_and_fall))))\n",
    "\n",
    "    average = calculate_average(logger_data.power)"
   ]
  },
  {
   "cell_type": "code",
   "execution_count": null,
   "metadata": {},
   "outputs": [],
   "source": [
    "print(logger_data.power)"
   ]
  },
  {
   "cell_type": "code",
   "execution_count": 9,
   "metadata": {},
   "outputs": [
    {
     "name": "stdout",
     "output_type": "stream",
     "text": [
      "\n"
     ]
    }
   ],
   "source": [
    "power_and_time = power_and_time_per_pulse(\n",
    "    logger_data, 2,\n",
    "    stop_function=analysis_stop_function)\n",
    "print()\n",
    "rise_and_fall = rise_and_fall_times(\n",
    "    logger_data, 2,\n",
    "    stop_function=analysis_stop_function)"
   ]
  },
  {
   "cell_type": "code",
   "execution_count": 33,
   "metadata": {},
   "outputs": [
    {
     "data": {
      "text/plain": [
       "0.001917340614406944"
      ]
     },
     "execution_count": 33,
     "metadata": {},
     "output_type": "execute_result"
    }
   ],
   "source": [
    "average"
   ]
  },
  {
   "cell_type": "code",
   "execution_count": 48,
   "metadata": {},
   "outputs": [
    {
     "data": {
      "text/plain": [
       "([1.0504525588855471e-05,\n",
       "  1.0545960870687614e-05,\n",
       "  1.0542543597068461e-05,\n",
       "  1.056379632581099e-05,\n",
       "  1.0560302546839404e-05,\n",
       "  1.052627033904689e-05,\n",
       "  1.0564673959164324e-05,\n",
       "  1.0576336625669939e-05,\n",
       "  1.057790546509076e-05,\n",
       "  1.0581310995257417e-05],\n",
       " [0.03016029386666666,\n",
       "  0.03016273119999996,\n",
       "  0.030162243733333316,\n",
       "  0.030160354666666667,\n",
       "  0.03016196959999995,\n",
       "  0.030159806399999933,\n",
       "  0.030160537600000037,\n",
       "  0.03022970986666662,\n",
       "  0.030161234666666648,\n",
       "  0.03022769386666635])"
      ]
     },
     "execution_count": 48,
     "metadata": {},
     "output_type": "execute_result"
    }
   ],
   "source": [
    "power_and_time"
   ]
  },
  {
   "cell_type": "code",
   "execution_count": 49,
   "metadata": {},
   "outputs": [
    {
     "data": {
      "text/plain": [
       "([0.15227653333333335,\n",
       "  0.36171866666666663,\n",
       "  0.5711549333333333,\n",
       "  0.7805805333333334,\n",
       "  0.9900077333333334,\n",
       "  1.1994541333333333,\n",
       "  1.4088957333333332,\n",
       "  1.6183384,\n",
       "  1.8277853333333334,\n",
       "  2.037230666666667],\n",
       " [0.18246106666666667,\n",
       "  0.3919026666666667,\n",
       "  0.6013357333333333,\n",
       "  0.8107624000000001,\n",
       "  1.0201912,\n",
       "  1.2296381333333333,\n",
       "  1.4390792,\n",
       "  1.6485218666666666,\n",
       "  1.8579682666666666,\n",
       "  2.0674141333333336])"
      ]
     },
     "execution_count": 49,
     "metadata": {},
     "output_type": "execute_result"
    }
   ],
   "source": [
    "rise_and_fall"
   ]
  },
  {
   "cell_type": "code",
   "execution_count": 50,
   "metadata": {},
   "outputs": [
    {
     "data": {
      "text/plain": [
       "0.30174657546666617"
      ]
     },
     "execution_count": 50,
     "metadata": {},
     "output_type": "execute_result"
    }
   ],
   "source": [
    "sum(power_and_time[1])"
   ]
  },
  {
   "cell_type": "code",
   "execution_count": 51,
   "metadata": {},
   "outputs": [
    {
     "data": {
      "text/plain": [
       "0.30183199999999977"
      ]
     },
     "execution_count": 51,
     "metadata": {},
     "output_type": "execute_result"
    }
   ],
   "source": [
    "sum((end-start for start, end in zip(*rise_and_fall)))"
   ]
  },
  {
   "cell_type": "code",
   "execution_count": 52,
   "metadata": {},
   "outputs": [
    {
     "data": {
      "text/plain": [
       "-8.542453333360012e-05"
      ]
     },
     "execution_count": 52,
     "metadata": {},
     "output_type": "execute_result"
    }
   ],
   "source": [
    "sum(power_and_time[1])-sum((end-start for start, end in zip(*rise_and_fall)))"
   ]
  },
  {
   "cell_type": "code",
   "execution_count": 59,
   "metadata": {},
   "outputs": [
    {
     "data": {
      "text/plain": [
       "[(0.030188799999999988, 0.030226290133333333, -3.74901333333455e-05),\n",
       " (0.030185066666666704, 0.030163218666666658, 2.1848000000046497e-05),\n",
       " (0.030187733333333355, 0.0301637061333333, 2.4027200000054094e-05),\n",
       " (0.03018933333333329, 0.030162387199999974, 2.6946133333316524e-05),\n",
       " (0.03018826666666663, 0.030162794133333337, 2.54725333332928e-05),\n",
       " (0.030188799999999905, 0.030227755733333472, -3.895573333356772e-05),\n",
       " (0.030186666666666806, 0.030228244266666815, -4.1577600000008985e-05),\n",
       " (0.030191466666666722, 0.030230442666666635, -3.897599999991286e-05),\n",
       " (0.030189866666666676, 0.030227693333333416, -3.7826666666740394e-05),\n",
       " (0.030196266666666638, 0.03016323306666635, 3.303360000028732e-05)]"
      ]
     },
     "execution_count": 59,
     "metadata": {},
     "output_type": "execute_result"
    }
   ],
   "source": [
    "[(end-start, pt, end-start-pt) for start, end, pt in zip(*rise_and_fall, power_and_time[1])]"
   ]
  },
  {
   "cell_type": "code",
   "execution_count": 69,
   "metadata": {},
   "outputs": [],
   "source": []
  },
  {
   "cell_type": "code",
   "execution_count": 65,
   "metadata": {},
   "outputs": [],
   "source": [
    "a = b = 5"
   ]
  },
  {
   "cell_type": "code",
   "execution_count": 66,
   "metadata": {},
   "outputs": [],
   "source": [
    "b = 4"
   ]
  },
  {
   "cell_type": "code",
   "execution_count": 67,
   "metadata": {},
   "outputs": [
    {
     "data": {
      "text/plain": [
       "(5, 4)"
      ]
     },
     "execution_count": 67,
     "metadata": {},
     "output_type": "execute_result"
    }
   ],
   "source": [
    "a, b"
   ]
  },
  {
   "cell_type": "code",
   "execution_count": 1,
   "metadata": {},
   "outputs": [],
   "source": [
    "# %matplotlib ipympl\n",
    "# %matplotlib inline\n",
    "%matplotlib wx"
   ]
  },
  {
   "cell_type": "code",
   "execution_count": 2,
   "metadata": {},
   "outputs": [],
   "source": [
    "import matplotlib.pyplot as plt\n",
    "import numpy as np"
   ]
  },
  {
   "cell_type": "markdown",
   "metadata": {},
   "source": [
    "## Load Pickles of checkpoint charges per byte"
   ]
  },
  {
   "cell_type": "code",
   "execution_count": 3,
   "metadata": {},
   "outputs": [],
   "source": [
    "from os import path, pardir, scandir\n",
    "import pickle\n",
    "from math import ceil"
   ]
  },
  {
   "cell_type": "code",
   "execution_count": 4,
   "metadata": {},
   "outputs": [],
   "source": [
    "from pydgilib_extra import LOGGER_CSV"
   ]
  },
  {
   "cell_type": "code",
   "execution_count": 5,
   "metadata": {},
   "outputs": [],
   "source": [
    "measure_security = False\n",
    "show_lm_plot=2\n",
    "measure_workloads = True\n",
    "repetitions = 100"
   ]
  },
  {
   "cell_type": "code",
   "execution_count": 6,
   "metadata": {},
   "outputs": [],
   "source": [
    "from experiments.checkpoint_energy import CheckpointEnergy"
   ]
  },
  {
   "cell_type": "code",
   "execution_count": 7,
   "metadata": {},
   "outputs": [],
   "source": [
    "checkpoint_energy = CheckpointEnergy()"
   ]
  },
  {
   "cell_type": "code",
   "execution_count": 8,
   "metadata": {},
   "outputs": [
    {
     "data": {
      "text/plain": [
       "['AES', 'AES_Flash', 'TrustZone', 'TrustZone_Flash']"
      ]
     },
     "execution_count": 8,
     "metadata": {},
     "output_type": "execute_result"
    }
   ],
   "source": [
    "checkpoint_energy.security_projects"
   ]
  },
  {
   "cell_type": "code",
   "execution_count": 9,
   "metadata": {},
   "outputs": [
    {
     "data": {
      "text/plain": [
       "['BitCounting', 'Dijkstra', 'FFT', 'Sorting']"
      ]
     },
     "execution_count": 9,
     "metadata": {},
     "output_type": "execute_result"
    }
   ],
   "source": [
    "checkpoint_energy.workload_projects"
   ]
  },
  {
   "cell_type": "code",
   "execution_count": 10,
   "metadata": {},
   "outputs": [
    {
     "data": {
      "text/plain": [
       "{'Target voltage': 3.33,\n",
       " 'Device information': {'Name': 'ATSAML11E16A',\n",
       "  'JtagId': 'N/A',\n",
       "  'CPU arch.': 'CORTEX-M23',\n",
       "  'Series': 'SAML11',\n",
       "  'DAL': 2},\n",
       " 'Memory Information': {'base': {'FLASH': [0, 65536],\n",
       "   'BOCOR': [8437760, 256],\n",
       "   'SW_CALIB': [8413216, 8],\n",
       "   'USER_PAGE': [8404992, 256],\n",
       "   'HPB0': [1073741824, 32768],\n",
       "   'HPB2': [1107296256, 16384],\n",
       "   'SCS': [3758153728, 4096]},\n",
       "  'fuses': {'BOOTROM_BOOTKEY_7': 4294967295,\n",
       "   'BOOTROM_BOOTKEY_6': 4294967295,\n",
       "   'BOOTROM_BOOTKEY_5': 4294967295,\n",
       "   'BOOTROM_BOOTKEY_4': 4294967295,\n",
       "   'BOOTROM_BOOTKEY_3': 4294967295,\n",
       "   'BOOTROM_BOOTKEY_2': 4294967295,\n",
       "   'BOOTROM_BOOTKEY_1': 4294967295,\n",
       "   'BOOTROM_BOOTKEY_0': 4294967295,\n",
       "   'BOOTROM_CRCKEY_3': 4294967295,\n",
       "   'BOOTROM_CRCKEY_2': 4294967295,\n",
       "   'BOOTROM_CRCKEY_1': 4294967295,\n",
       "   'BOOTROM_CRCKEY_0': 4294967295,\n",
       "   'BOOTROM_CEKEY2_3': 4294967295,\n",
       "   'BOOTROM_CEKEY2_2': 4294967295,\n",
       "   'BOOTROM_CEKEY2_1': 4294967295,\n",
       "   'BOOTROM_CEKEY2_0': 4294967295,\n",
       "   'BOOTROM_CEKEY1_3': 4294967295,\n",
       "   'BOOTROM_CEKEY1_2': 4294967295,\n",
       "   'BOOTROM_CEKEY1_1': 4294967295,\n",
       "   'BOOTROM_CEKEY1_0': 4294967295,\n",
       "   'BOOTROM_CEKEY0_3': 4294967295,\n",
       "   'BOOTROM_CEKEY0_2': 4294967295,\n",
       "   'BOOTROM_CEKEY0_1': 4294967295,\n",
       "   'BOOTROM_CEKEY0_0': 4294967295,\n",
       "   'BOOTROM_ROMVERSION': 61,\n",
       "   'IDAU_BOOTPROT': 0,\n",
       "   'BOOTROM_BOOTOPT': 160,\n",
       "   'IDAU_BS': 0,\n",
       "   'DFLLULP_DIV_PL2': 0,\n",
       "   'ADC_BIASCOMP': 7,\n",
       "   'HOT_ADC_VAL_PTAT': 3210,\n",
       "   'HOT_INT1V_VAL': 252,\n",
       "   'ROOM_INT1V_VAL': 3,\n",
       "   'HOT_TEMP_VAL_INT': 85,\n",
       "   'ROOM_TEMP_VAL_INT': 30,\n",
       "   'IDAU_RS': 127,\n",
       "   'IDAU_ANSC': 0,\n",
       "   'WDT_EWOFFSET': 11,\n",
       "   'WDT_PER': 11,\n",
       "   'BOD33_ACTION': 1,\n",
       "   'BOD33USERLEVEL': 6,\n",
       "   'NVMCTRL_SULCK': 7}}}"
      ]
     },
     "execution_count": 10,
     "metadata": {},
     "output_type": "execute_result"
    }
   ],
   "source": [
    "checkpoint_energy.get_device_info(verbose=0)"
   ]
  },
  {
   "cell_type": "code",
   "execution_count": 11,
   "metadata": {},
   "outputs": [],
   "source": [
    "# checkpoint_energy.measure_security_energy('AES_Flash', live_plot=True, max_log_time=200, show_lm_plot=2)"
   ]
  },
  {
   "cell_type": "code",
   "execution_count": 12,
   "metadata": {},
   "outputs": [
    {
     "name": "stdout",
     "output_type": "stream",
     "text": [
      "Firmware check OK\n",
      "Chiperase completed successfully\n",
      "\n",
      "make: Nothing to be done for 'all'.\n",
      "\n",
      "Firmware check OK\n",
      "Programming completed successfully.\n",
      "\n",
      "Starting DGILibExtra with config: \n",
      "{'interfaces': [256, 48], 'loggers': [0], 'gpio_delay_time': 0.0007, 'file_name_base': 'experiment_aes', 'log_folder': 'C:\\\\Users\\\\erikw_000\\\\Documents\\\\GitHub\\\\Atmel-SAML11\\\\Experiments\\\\Security\\\\AES'}\n",
      "\n",
      "DGILibExtra logger_data: Interfaces:\n",
      "\t  48:   gpio,    samples:    6401\n",
      "\t 256:   power,   samples: 9945000\n",
      "\n",
      "Fitting model to AES Encrypt with maximum 12784 bytes.\n",
      "Fitting model to AES Decrypt with maximum 12784 bytes.\n",
      "Firmware check OK\n",
      "Chiperase completed successfully\n",
      "\n",
      "make: Nothing to be done for 'all'.\n",
      "\n",
      "Firmware check OK\n",
      "Programming completed successfully.\n",
      "\n",
      "Starting DGILibExtra with config: \n",
      "{'interfaces': [256, 48], 'loggers': [0], 'gpio_delay_time': 0.0007, 'file_name_base': 'experiment_aes_flash', 'log_folder': 'C:\\\\Users\\\\erikw_000\\\\Documents\\\\GitHub\\\\Atmel-SAML11\\\\Experiments\\\\Security\\\\AES_Flash'}\n",
      "\n",
      "DGILibExtra logger_data: Interfaces:\n",
      "\t  48:   gpio,    samples:   12777\n",
      "\t 256:   power,   samples: 11342000\n",
      "\n",
      "Fitting model to AES Encrypt with maximum 12768 bytes.\n",
      "Fitting model to AES Decrypt with maximum 12768 bytes.\n",
      "Fitting model to Flash Write with maximum 12768 bytes.\n",
      "Fitting model to Flash Read with maximum 12768 bytes.\n",
      "Firmware check OK\n",
      "Chiperase completed successfully\n",
      "\n",
      "make: Nothing to be done for 'all'.\n",
      "\n",
      "Firmware check OK\n",
      "Programming completed successfully.\n",
      "\n",
      "make: Nothing to be done for 'all'.\n",
      "\n",
      "Firmware check OK\n",
      "Programming completed successfully.\n",
      "\n",
      "Starting DGILibExtra with config: \n",
      "{'interfaces': [256, 48], 'loggers': [0], 'gpio_delay_time': 0.0007, 'file_name_base': 'experiment_trustzone', 'log_folder': 'C:\\\\Users\\\\erikw_000\\\\Documents\\\\GitHub\\\\Atmel-SAML11\\\\Experiments\\\\Security\\\\TrustZone'}\n",
      "\n",
      "DGILibExtra logger_data: Interfaces:\n",
      "\t  48:   gpio,    samples:   48005\n",
      "\t 256:   power,   samples: 2581000\n",
      "\n",
      "Fitting model to TrustZone Store with maximum 5999 bytes.\n",
      "Fitting model to TrustZone Load with maximum 5999 bytes.\n",
      "Firmware check OK\n",
      "Chiperase completed successfully\n",
      "\n",
      "make: Nothing to be done for 'all'.\n",
      "\n",
      "Firmware check OK\n",
      "Programming completed successfully.\n",
      "\n",
      "make: Nothing to be done for 'all'.\n",
      "\n",
      "Firmware check OK\n",
      "Programming completed successfully.\n",
      "\n",
      "Starting DGILibExtra with config: \n",
      "{'interfaces': [256, 48], 'loggers': [0], 'gpio_delay_time': 0.0007, 'file_name_base': 'experiment_trustzone_flash', 'log_folder': 'C:\\\\Users\\\\erikw_000\\\\Documents\\\\GitHub\\\\Atmel-SAML11\\\\Experiments\\\\Security\\\\TrustZone_Flash'}\n",
      "\n",
      "DGILibExtra logger_data: Interfaces:\n",
      "\t  48:   gpio,    samples:   47996\n",
      "\t 256:   power,   samples: 5761000\n",
      "\n",
      "Fitting model to TrustZone Flash Store with maximum 5998 bytes.\n"
     ]
    },
    {
     "name": "stderr",
     "output_type": "stream",
     "text": [
      "D:\\Anaconda3\\envs\\SAML11-32\\lib\\site-packages\\matplotlib\\pyplot.py:514: RuntimeWarning: More than 20 figures have been opened. Figures created through the pyplot interface (`matplotlib.pyplot.figure`) are retained until explicitly closed and may consume too much memory. (To control this warning, see the rcParam `figure.max_open_warning`).\n",
      "  max_open_warning, RuntimeWarning)\n"
     ]
    },
    {
     "name": "stdout",
     "output_type": "stream",
     "text": [
      "Fitting model to TrustZone Flash Load with maximum 5999 bytes.\n"
     ]
    }
   ],
   "source": [
    "if measure_security:\n",
    "    checkpoint_energy.measure_all_security_energy(config_dict={\"loggers\": [LOGGER_CSV]}, show_lm_plot=show_lm_plot)"
   ]
  },
  {
   "cell_type": "markdown",
   "metadata": {},
   "source": [
    "### Smoothen?"
   ]
  },
  {
   "cell_type": "markdown",
   "metadata": {},
   "source": [
    "Get lookup function"
   ]
  },
  {
   "cell_type": "code",
   "execution_count": 13,
   "metadata": {},
   "outputs": [],
   "source": [
    "get_security_energy = checkpoint_energy.get_security_energy_function()"
   ]
  },
  {
   "cell_type": "code",
   "execution_count": 14,
   "metadata": {},
   "outputs": [
    {
     "name": "stdout",
     "output_type": "stream",
     "text": [
      "AES {'AES Encrypt': 4.618429680329748e-06, 'AES Decrypt': 4.760472761953105e-06}\n",
      "AES {'AES Encrypt': 3.206044320637238, 'AES Decrypt': 3.3284544729845975}\n",
      "AES_Flash {'AES Encrypt': 5.151138088341776e-06, 'AES Decrypt': 5.331405762945281e-06, 'Flash Write': 6.5229350418467875e-06, 'Flash Read': 1.1769855241474227e-07}\n",
      "AES_Flash {'AES Encrypt': 3.23922549937155, 'AES Decrypt': 3.343302276044463, 'Flash Write': 2.4002336653118763, 'Flash Read': 0.0767785587343069}\n",
      "TrustZone {'TrustZone Store': 9.659164384163584e-08, 'TrustZone Load': 1.1363722748402499e-07}\n",
      "TrustZone {'TrustZone Store': 0.09007525073366786, 'TrustZone Load': 0.08953439418573608}\n",
      "TrustZone_Flash {'TrustZone Flash Store': 5.752943711745438e-06, 'TrustZone Flash Load': 9.57876867401446e-08}\n",
      "TrustZone_Flash {'TrustZone Flash Store': 2.573304627986952, 'TrustZone Flash Load': 0.07985659786702963}\n",
      "None {'None': 0}\n",
      "None {'None': 0}\n"
     ]
    }
   ],
   "source": [
    "for security_type in checkpoint_energy.security_projects + [\"None\"]:\n",
    "    print(security_type, get_security_energy(security_type,100))\n",
    "    print(security_type, get_security_energy(security_type,100000000))"
   ]
  },
  {
   "cell_type": "code",
   "execution_count": 12,
   "metadata": {},
   "outputs": [
    {
     "name": "stdout",
     "output_type": "stream",
     "text": [
      "Firmware check OK\n",
      "Chiperase completed successfully\n",
      "\n",
      "make: Nothing to be done for 'all'.\n",
      "\n",
      "Firmware check OK\n",
      "Programming completed successfully.\n",
      "\n",
      "Starting DGILibExtra with config: \n",
      "{'loggers': [1, 2, 0], 'file_name_base': 'experiment_bit_counting', 'plot_pins': [True, True, True, True], 'plot_pins_method': 'line', 'plot_xmax': 1, 'window_title': 'Experiment BitCounting', 'log_folder': 'C:\\\\Users\\\\erikw_000\\\\Documents\\\\GitHub\\\\Atmel-SAML11\\\\Experiments\\\\Workloads\\\\BitCounting'}\n",
      "\n",
      "Firmware check OK\n",
      "Chiperase completed successfully\n",
      "\n",
      "make: Nothing to be done for 'all'.\n",
      "\n",
      "Firmware check OK\n",
      "Programming completed successfully.\n",
      "\n",
      "Starting DGILibExtra with config: \n",
      "{'loggers': [1, 2, 0], 'file_name_base': 'experiment_dijkstra', 'plot_pins': [False, False, True, True], 'plot_pins_method': 'line', 'plot_xmax': 0.4, 'window_title': 'Experiment Dijkstra', 'log_folder': 'C:\\\\Users\\\\erikw_000\\\\Documents\\\\GitHub\\\\Atmel-SAML11\\\\Experiments\\\\Workloads\\\\Dijkstra'}\n",
      "\n",
      "Firmware check OK\n",
      "Chiperase completed successfully\n",
      "\n",
      "make: Nothing to be done for 'all'.\n",
      "\n",
      "Firmware check OK\n",
      "Programming completed successfully.\n",
      "\n",
      "Starting DGILibExtra with config: \n",
      "{'loggers': [1, 2, 0], 'file_name_base': 'experiment_fft', 'plot_pins': [False, False, True, True], 'plot_pins_method': 'line', 'plot_xmax': 1, 'window_title': 'Experiment FFT', 'log_folder': 'C:\\\\Users\\\\erikw_000\\\\Documents\\\\GitHub\\\\Atmel-SAML11\\\\Experiments\\\\Workloads\\\\FFT'}\n",
      "\n",
      "Firmware check OK\n",
      "Chiperase completed successfully\n",
      "\n"
     ]
    },
    {
     "ename": "IndexError",
     "evalue": "list index out of range",
     "output_type": "error",
     "traceback": [
      "\u001b[1;31m---------------------------------------------------------------------------\u001b[0m",
      "\u001b[1;31mIndexError\u001b[0m                                Traceback (most recent call last)",
      "\u001b[1;32m<ipython-input-12-a1bc7b385e6c>\u001b[0m in \u001b[0;36m<module>\u001b[1;34m\u001b[0m\n\u001b[0;32m      1\u001b[0m \u001b[1;32mif\u001b[0m \u001b[0mmeasure_workloads\u001b[0m\u001b[1;33m:\u001b[0m\u001b[1;33m\u001b[0m\u001b[1;33m\u001b[0m\u001b[0m\n\u001b[1;32m----> 2\u001b[1;33m     \u001b[0mcheckpoint_energy\u001b[0m\u001b[1;33m.\u001b[0m\u001b[0mmeasure_all_workload_energy\u001b[0m\u001b[1;33m(\u001b[0m\u001b[0mlive_plot\u001b[0m\u001b[1;33m=\u001b[0m\u001b[1;32mTrue\u001b[0m\u001b[1;33m,\u001b[0m \u001b[0mrepetitions\u001b[0m\u001b[1;33m=\u001b[0m\u001b[0mrepetitions\u001b[0m\u001b[1;33m)\u001b[0m\u001b[1;33m\u001b[0m\u001b[1;33m\u001b[0m\u001b[0m\n\u001b[0m",
      "\u001b[1;32m~\\Documents\\GitHub\\Atmel-SAML11\\Experiments\\experiments\\checkpoint_energy.py\u001b[0m in \u001b[0;36mmeasure_all_workload_energy\u001b[1;34m(self, **kwargs)\u001b[0m\n\u001b[0;32m     47\u001b[0m     \u001b[1;32mdef\u001b[0m \u001b[0mmeasure_all_workload_energy\u001b[0m\u001b[1;33m(\u001b[0m\u001b[0mself\u001b[0m\u001b[1;33m,\u001b[0m \u001b[1;33m**\u001b[0m\u001b[0mkwargs\u001b[0m\u001b[1;33m)\u001b[0m\u001b[1;33m:\u001b[0m\u001b[1;33m\u001b[0m\u001b[1;33m\u001b[0m\u001b[0m\n\u001b[0;32m     48\u001b[0m         \u001b[1;32mfor\u001b[0m \u001b[0mworkload_project\u001b[0m \u001b[1;32min\u001b[0m \u001b[0mself\u001b[0m\u001b[1;33m.\u001b[0m\u001b[0mworkload_projects\u001b[0m\u001b[1;33m:\u001b[0m\u001b[1;33m\u001b[0m\u001b[1;33m\u001b[0m\u001b[0m\n\u001b[1;32m---> 49\u001b[1;33m             \u001b[0mself\u001b[0m\u001b[1;33m.\u001b[0m\u001b[0mmeasure_workload_energy\u001b[0m\u001b[1;33m(\u001b[0m\u001b[0mworkload_project\u001b[0m\u001b[1;33m,\u001b[0m \u001b[1;33m**\u001b[0m\u001b[0mkwargs\u001b[0m\u001b[1;33m)\u001b[0m\u001b[1;33m\u001b[0m\u001b[1;33m\u001b[0m\u001b[0m\n\u001b[0m\u001b[0;32m     50\u001b[0m         \u001b[0mself\u001b[0m\u001b[1;33m.\u001b[0m\u001b[0mget_workload_energy\u001b[0m \u001b[1;33m=\u001b[0m \u001b[0mself\u001b[0m\u001b[1;33m.\u001b[0m\u001b[0mget_workload_energy_function\u001b[0m\u001b[1;33m(\u001b[0m\u001b[1;33m)\u001b[0m\u001b[1;33m\u001b[0m\u001b[1;33m\u001b[0m\u001b[0m\n\u001b[0;32m     51\u001b[0m \u001b[1;33m\u001b[0m\u001b[0m\n",
      "\u001b[1;32m~\\Documents\\GitHub\\Atmel-SAML11\\Experiments\\experiments\\checkpoint_energy.py\u001b[0m in \u001b[0;36mmeasure_workload_energy\u001b[1;34m(self, workload_project, config_file, extract_project_size, extract_device_info, **kwargs)\u001b[0m\n\u001b[0;32m     61\u001b[0m             workload_project), config_file or self.repeated_config_file),\n\u001b[0;32m     62\u001b[0m             \u001b[0mextract_project_size\u001b[0m\u001b[1;33m=\u001b[0m\u001b[0mextract_project_size\u001b[0m\u001b[1;33m,\u001b[0m\u001b[1;33m\u001b[0m\u001b[1;33m\u001b[0m\u001b[0m\n\u001b[1;32m---> 63\u001b[1;33m             extract_device_info=extract_device_info, **kwargs)\n\u001b[0m\u001b[0;32m     64\u001b[0m \u001b[1;33m\u001b[0m\u001b[0m\n\u001b[0;32m     65\u001b[0m     \u001b[1;32mdef\u001b[0m \u001b[0mget_security_energy_function\u001b[0m\u001b[1;33m(\u001b[0m\u001b[0mself\u001b[0m\u001b[1;33m,\u001b[0m \u001b[0mconfig_file\u001b[0m\u001b[1;33m=\u001b[0m\u001b[1;32mNone\u001b[0m\u001b[1;33m)\u001b[0m\u001b[1;33m:\u001b[0m\u001b[1;33m\u001b[0m\u001b[1;33m\u001b[0m\u001b[0m\n",
      "\u001b[1;32m~\\Documents\\GitHub\\Atmel-SAML11\\Experiments\\experiments\\repeated_experiment.py\u001b[0m in \u001b[0;36mrepeated_experiment\u001b[1;34m(config_file, verbose, config_dict, live_plot, max_log_time, log_stop_function, analysis_stop_function, repetitions, dump_pickle, extract_project_size, extract_device_info)\u001b[0m\n\u001b[0;32m     79\u001b[0m             extract_results[\"size\"][path.basename(path.normpath(\n\u001b[0;32m     80\u001b[0m                 project_path))] = get_project_size(project_path,\n\u001b[1;32m---> 81\u001b[1;33m                                                    verbose=verbose)\n\u001b[0m\u001b[0;32m     82\u001b[0m         atprogram(project_path, clean=False, build=True, erase=False,\n\u001b[0;32m     83\u001b[0m                   program=True, verify=False, verbose=verbose)\n",
      "\u001b[1;32mc:\\users\\erikw_000\\documents\\github\\pydgilib\\atprogram\\atprogram.py\u001b[0m in \u001b[0;36mget_project_size\u001b[1;34m(project_path, device_name, verbose, tool, interface, atmel_studio_path, make_path, configuration, device_sn, jobs)\u001b[0m\n\u001b[0;32m    382\u001b[0m     (text, data, bss, dec, hex, filename) = size_regexp.findall(atprogram(\n\u001b[0;32m    383\u001b[0m         \u001b[0mproject_path\u001b[0m\u001b[1;33m,\u001b[0m \u001b[0mclean\u001b[0m\u001b[1;33m=\u001b[0m\u001b[1;32mTrue\u001b[0m\u001b[1;33m,\u001b[0m \u001b[0mbuild\u001b[0m\u001b[1;33m=\u001b[0m\u001b[1;32mTrue\u001b[0m\u001b[1;33m,\u001b[0m \u001b[0merase\u001b[0m\u001b[1;33m=\u001b[0m\u001b[1;32mFalse\u001b[0m\u001b[1;33m,\u001b[0m \u001b[0mprogram\u001b[0m\u001b[1;33m=\u001b[0m\u001b[1;32mFalse\u001b[0m\u001b[1;33m,\u001b[0m\u001b[1;33m\u001b[0m\u001b[1;33m\u001b[0m\u001b[0m\n\u001b[1;32m--> 384\u001b[1;33m         verify=False, return_output=True, verbose=1, dry_run=False))[0]\n\u001b[0m\u001b[0;32m    385\u001b[0m     result = {\"text\": int(text), \"data\": int(data), \"bss\": int(\n\u001b[0;32m    386\u001b[0m         bss), \"dec\": int(dec), \"hex\": int(hex, 16), \"filename\": filename}\n",
      "\u001b[1;31mIndexError\u001b[0m: list index out of range"
     ]
    }
   ],
   "source": [
    "if measure_workloads:\n",
    "    checkpoint_energy.measure_all_workload_energy(live_plot=True, repetitions=repetitions)"
   ]
  },
  {
   "cell_type": "code",
   "execution_count": 13,
   "metadata": {},
   "outputs": [
    {
     "name": "stdout",
     "output_type": "stream",
     "text": [
      "Firmware check OK\n",
      "Chiperase completed successfully\n",
      "\n",
      "make: Nothing to be done for 'all'.\n",
      "\n",
      "Firmware check OK\n",
      "Programming completed successfully.\n",
      "\n",
      "Starting DGILibExtra with config: \n",
      "{'loggers': [1, 2, 0], 'file_name_base': 'experiment_dijkstra', 'plot_pins': [False, False, True, True], 'plot_pins_method': 'line', 'plot_xmax': 0.4, 'window_title': 'Experiment Dijkstra', 'log_folder': 'C:\\\\Users\\\\erikw_000\\\\Documents\\\\GitHub\\\\Atmel-SAML11\\\\Experiments\\\\Workloads\\\\Dijkstra'}\n",
      "\n"
     ]
    }
   ],
   "source": [
    "checkpoint_energy.measure_workload_energy('Dijkstra', live_plot=True)"
   ]
  },
  {
   "cell_type": "code",
   "execution_count": 14,
   "metadata": {},
   "outputs": [],
   "source": [
    "get_workload_energy = checkpoint_energy.get_workload_energy_function()"
   ]
  },
  {
   "cell_type": "code",
   "execution_count": 15,
   "metadata": {},
   "outputs": [
    {
     "name": "stdout",
     "output_type": "stream",
     "text": [
      "BitCounting 100\n",
      "Dijkstra 10\n",
      "FFT 100\n",
      "Sorting 100\n"
     ]
    }
   ],
   "source": [
    "for workload_type in checkpoint_energy.workload_projects:\n",
    "#     print(workload_type, len(list(get_workload_energy(workload_type).values())[0]), get_workload_energy(workload_type))\n",
    "    print(workload_type, len(list(get_workload_energy(workload_type).values())[0]))"
   ]
  },
  {
   "cell_type": "code",
   "execution_count": 16,
   "metadata": {},
   "outputs": [],
   "source": [
    "# project_path = path.abspath(path.join(path.curdir, \"Workloads\", \"BitCounting\", \"BitCounting-S\"))\n",
    "# project_path"
   ]
  },
  {
   "cell_type": "code",
   "execution_count": 17,
   "metadata": {},
   "outputs": [],
   "source": [
    "# checkpoint_energy.get_all_workload_info()"
   ]
  },
  {
   "cell_type": "code",
   "execution_count": 18,
   "metadata": {},
   "outputs": [],
   "source": [
    "capacitor_size = 1e-5"
   ]
  },
  {
   "cell_type": "code",
   "execution_count": 19,
   "metadata": {},
   "outputs": [],
   "source": [
    "import numpy as np\n",
    "import matplotlib.pyplot as plt"
   ]
  },
  {
   "cell_type": "code",
   "execution_count": 20,
   "metadata": {},
   "outputs": [],
   "source": [
    "# # create plot\n",
    "# fig, ax = plt.subplots(figsize=(10,9))\n",
    "# index = np.arange(len(checkpoint_energy.workload_projects))\n",
    "# bar_width = 0.18\n",
    "# opacity = 0.8\n",
    "\n",
    "# # ax.grid()\n",
    "\n",
    "# get_workload_energy = checkpoint_energy.get_workload_energy_function()\n",
    "\n",
    "# colors = [\"blue\", \"red\", \"green\", \"cyan\", \"magenta\", \"yellow\", \"black\", \"white\"]\n",
    "\n",
    "# rects = {}\n",
    "# for workload_project in checkpoint_energy.workload_projects:\n",
    "#     energy = get_workload_energy(workload_project)\n",
    "#     #print(energy)\n",
    "#     rects[workload_project] = {}\n",
    "#     section_averages = {}\n",
    "#     section_stds = {}\n",
    "#     last_key = None\n",
    "#     for section in energy.keys():\n",
    "#         section_averages[section] = np.average(energy[section])\n",
    "#         section_stds[section] = np.std(energy[section])\n",
    "#         kwargs = {} if last_key is None else {\"bottom\": section_averages[last_key]}\n",
    "#         rects[workload_project][section] = ax.bar(index, section_averages[section], bar_width, label=section, alpha=opacity, yerr=section_stds[section], **kwargs)\n",
    "#         last_key = section\n",
    "    \n",
    "#     # rects += ax.bar(index + i*bar_width, [get_total_charge(application_name, security_type) for application_name in application_names], bar_width, label=security_type, color=colors[i], alpha=opacity)\n",
    "# print(rects)\n",
    "# ax.set_xlabel('Workload')\n",
    "# ax.set_ylabel('Charge [C]')\n",
    "# ax.set_title('Charge per Iteration')\n",
    "# fig.canvas.set_window_title('Charge per Workload')\n",
    "# ax.set_xticks(index)\n",
    "# ax.set_xticklabels(checkpoint_energy.workload_projects)\n",
    "# ax.legend()\n",
    "\n",
    "# fig.tight_layout()\n",
    "# fig.show()"
   ]
  },
  {
   "cell_type": "code",
   "execution_count": 21,
   "metadata": {},
   "outputs": [],
   "source": [
    "class WorkloadPlotter(object):\n",
    "    def __init__(self, checkpoint_energy=CheckpointEnergy(), fig=None, ax=None, show=False):\n",
    "        self.checkpoint_energy = checkpoint_energy\n",
    "        self.fig = fig\n",
    "        self.ax = ax\n",
    "        if show:\n",
    "            self.make_fig()\n",
    "            self.update_fig()\n",
    "            \n",
    "        \n",
    "    def make_fig(self, *args, **kwargs):\n",
    "        self.fig, self.ax = plt.subplots(*args, **kwargs)\n",
    "    \n",
    "    def update_fig(self):\n",
    "        opacity = 0.8\n",
    "        self.ax.cla()\n",
    "        \n",
    "        self.bars = {}\n",
    "        for index, workload_project in enumerate(self.checkpoint_energy.workload_projects):\n",
    "            self.bars[workload_project] = {}\n",
    "            section_averages = self.checkpoint_energy.get_workload_average(workload_project)\n",
    "            section_stds = self.checkpoint_energy.get_workload_std(workload_project)\n",
    "            bottom = 0\n",
    "            for section in section_averages.keys():\n",
    "                self.bars[workload_project][section] = self.ax.bar(index, section_averages[section], label=section, alpha=opacity, yerr=section_stds[section], bottom=bottom)\n",
    "                bottom += section_averages[section]\n",
    "        \n",
    "        self.ax.set_xticks(range(len(self.checkpoint_energy.workload_projects)))\n",
    "        self.ax.set_xticklabels(self.checkpoint_energy.workload_projects)\n",
    "        self.ax.legend()\n",
    "        self.ax.set_yscale('log')\n",
    "        # self.ax.grid()\n",
    "\n",
    "        self.ax.set_xlabel('Workload')\n",
    "        self.ax.set_ylabel('Charge [C]')\n",
    "        self.ax.set_title('Charge per Section')\n",
    "        self.fig.canvas.set_window_title('Charge per Workload')\n",
    "        self.fig.show()"
   ]
  },
  {
   "cell_type": "code",
   "execution_count": 22,
   "metadata": {},
   "outputs": [],
   "source": [
    "workload_plotter = WorkloadPlotter(checkpoint_energy, show=True)"
   ]
  },
  {
   "cell_type": "code",
   "execution_count": 23,
   "metadata": {},
   "outputs": [],
   "source": [
    "# workload_plotter.make_fig()"
   ]
  },
  {
   "cell_type": "code",
   "execution_count": 24,
   "metadata": {},
   "outputs": [],
   "source": [
    "# workload_plotter.update_fig()"
   ]
  },
  {
   "cell_type": "code",
   "execution_count": 25,
   "metadata": {},
   "outputs": [],
   "source": [
    "import matplotlib.animation as animation"
   ]
  },
  {
   "cell_type": "code",
   "execution_count": 26,
   "metadata": {},
   "outputs": [],
   "source": [
    "class SecurityPlotter(object):\n",
    "    def __init__(self, checkpoint_energy=CheckpointEnergy(), num_bytes=100, fig=None, ax=None, show=0):\n",
    "        self.checkpoint_energy = checkpoint_energy\n",
    "        self.fig = fig\n",
    "        self.ax = ax\n",
    "        self.num_bytes = num_bytes\n",
    "        if show:\n",
    "            self.make_fig()\n",
    "            self.update_fig()\n",
    "            if show >= 2:\n",
    "                self.animate()\n",
    "        \n",
    "    def make_fig(self, *args, **kwargs):\n",
    "        self.fig, self.ax = plt.subplots(*args, **kwargs)\n",
    "    \n",
    "    def update_fig(self, num_bytes=None):\n",
    "        if num_bytes is None:\n",
    "            num_bytes = self.num_bytes\n",
    "        opacity = 0.8\n",
    "        self.ax.cla()\n",
    "        \n",
    "        self.bars = {}\n",
    "        for index, security_project in enumerate(self.checkpoint_energy.security_projects):\n",
    "            self.bars[security_project] = {}\n",
    "            security_energy = self.checkpoint_energy.get_security_energy(security_project, num_bytes)\n",
    "            bottom = 0\n",
    "            for section in security_energy.keys():\n",
    "                self.bars[security_project][section] = self.ax.bar(index, security_energy[section], label=section, alpha=opacity, bottom=bottom)\n",
    "                bottom += security_energy[section]\n",
    "        \n",
    "        self.ax.set_xticks(range(len(self.checkpoint_energy.security_projects)))\n",
    "        self.ax.set_xticklabels(self.checkpoint_energy.security_projects)\n",
    "        self.ax.legend()\n",
    "        # self.ax.set_yscale('log')\n",
    "        # self.ax.grid()\n",
    "\n",
    "        self.ax.set_xlabel('Security')\n",
    "        self.ax.set_ylabel('Charge [C]')\n",
    "        self.ax.set_title(f'Charge for {num_bytes} bytes')\n",
    "        self.fig.canvas.set_window_title('Charge per Security')\n",
    "        self.fig.show()\n",
    "        \n",
    "    def anim_func(self, num_bytes, *fargs):\n",
    "        self.update_fig(num_bytes)\n",
    "        return flatten(self.bars)\n",
    "    \n",
    "    def animate(self, frames=range(100, 10001, 100)):\n",
    "        self.animation = animation.FuncAnimation(self.fig, self.anim_func, blit=True, interval=0,frames=frames ,repeat=False)\n",
    "        \n",
    "def flatten(d, ret=None):\n",
    "    if ret is None:\n",
    "        ret = []\n",
    "    for k, v in sorted(d.items()):\n",
    "        if isinstance(v, dict):\n",
    "            flatten(v, ret)\n",
    "        else:\n",
    "            ret.extend(v.get_children())\n",
    "    return ret"
   ]
  },
  {
   "cell_type": "code",
   "execution_count": 27,
   "metadata": {},
   "outputs": [],
   "source": [
    "security_plotter = SecurityPlotter(checkpoint_energy, show=2)"
   ]
  },
  {
   "cell_type": "code",
   "execution_count": 28,
   "metadata": {},
   "outputs": [],
   "source": [
    "# security_plotter.make_fig()"
   ]
  },
  {
   "cell_type": "code",
   "execution_count": 29,
   "metadata": {},
   "outputs": [],
   "source": [
    "# security_plotter.update_fig()"
   ]
  },
  {
   "cell_type": "code",
   "execution_count": 30,
   "metadata": {},
   "outputs": [],
   "source": [
    "# security_plotter.animate()"
   ]
  },
  {
   "cell_type": "code",
   "execution_count": 31,
   "metadata": {},
   "outputs": [],
   "source": [
    "# security_plotter.update_fig(1000000)"
   ]
  },
  {
   "cell_type": "code",
   "execution_count": 34,
   "metadata": {},
   "outputs": [],
   "source": [
    "from math import sqrt\n",
    "\n",
    "class IterationsPlotter(object):\n",
    "    def __init__(self, checkpoint_energy=CheckpointEnergy(), num_iterations=3, fig=None, ax=None, show=0):\n",
    "        self.checkpoint_energy = checkpoint_energy\n",
    "        self.fig = fig\n",
    "        self.ax = ax\n",
    "        self.num_iterations = num_iterations\n",
    "        self.workload_section_types = {}\n",
    "        if show:\n",
    "            self.make_fig()\n",
    "            self.update_fig()\n",
    "            if show >= 2:\n",
    "                self.animate()\n",
    "        \n",
    "    def make_fig(self, *args, **kwargs):\n",
    "        self.fig, self.ax = plt.subplots(*args, **kwargs)\n",
    "        \n",
    "        for workload_project in self.checkpoint_energy.workload_projects:\n",
    "            self.workload_section_types[workload_project] = \\\n",
    "                self.checkpoint_energy.get_config(workload_project)[\"analysis\"][\"section_types\"]\n",
    "    \n",
    "    def update_fig(self, num_iterations=None):\n",
    "        if num_iterations is None:\n",
    "            num_iterations = self.num_iterations\n",
    "        opacity = 0.8\n",
    "\n",
    "        # ax.grid()\n",
    "        self.ax.cla()\n",
    "\n",
    "        self.bars = []\n",
    "        for index, workload_project in enumerate(self.checkpoint_energy.workload_projects):\n",
    "            section_averages = self.checkpoint_energy.get_workload_average(workload_project)\n",
    "            section_stds = self.checkpoint_energy.get_workload_std(workload_project)\n",
    "            \n",
    "            bottom = 0\n",
    "            for section_type, sections in self.workload_section_types[workload_project].items():\n",
    "                loop_factor = (1 + (section_type == \"loop\") * (num_iterations-1))\n",
    "                for section in sections:\n",
    "                    bar_height = section_averages[section] * loop_factor\n",
    "                    self.bars.append(self.ax.bar(index, bar_height, label=section, alpha=opacity, yerr=section_stds[section] / sqrt(loop_factor), bottom=bottom))\n",
    "                    bottom += bar_height\n",
    "        \n",
    "        self.ax.set_xticks(range(len(self.checkpoint_energy.workload_projects)))\n",
    "        self.ax.set_xticklabels(self.checkpoint_energy.workload_projects)\n",
    "        self.ax.legend()\n",
    "        self.ax.set_yscale('log')\n",
    "\n",
    "        self.ax.set_xlabel('Workload')\n",
    "        self.ax.set_ylabel('Charge [C]')\n",
    "        self.ax.set_title(f'Charge for {num_iterations} iterations')\n",
    "        self.fig.canvas.set_window_title('Charge per Workload')\n",
    "        self.fig.show()\n",
    "        \n",
    "    def anim_func(self, num_iterations, *fargs):\n",
    "        self.update_fig(num_iterations)\n",
    "        artist_list = []\n",
    "        for bar in self.bars:\n",
    "            artist_list += bar\n",
    "        return artist_list\n",
    "    \n",
    "    def animate(self, frames=range(101)):\n",
    "        self.animation = animation.FuncAnimation(self.fig, self.anim_func, blit=True, interval=0, frames=frames, repeat=False)\n",
    "#         self.update_fig(max(frames))"
   ]
  },
  {
   "cell_type": "code",
   "execution_count": 35,
   "metadata": {},
   "outputs": [
    {
     "ename": "KeyError",
     "evalue": "'Allocate FFT'",
     "output_type": "error",
     "traceback": [
      "\u001b[1;31m---------------------------------------------------------------------------\u001b[0m",
      "\u001b[1;31mKeyError\u001b[0m                                  Traceback (most recent call last)",
      "\u001b[1;32m<ipython-input-35-7631ce1ea7e0>\u001b[0m in \u001b[0;36m<module>\u001b[1;34m\u001b[0m\n\u001b[1;32m----> 1\u001b[1;33m \u001b[0miterations_plotter\u001b[0m \u001b[1;33m=\u001b[0m \u001b[0mIterationsPlotter\u001b[0m\u001b[1;33m(\u001b[0m\u001b[0mcheckpoint_energy\u001b[0m\u001b[1;33m,\u001b[0m \u001b[0mshow\u001b[0m\u001b[1;33m=\u001b[0m\u001b[1;36m2\u001b[0m\u001b[1;33m)\u001b[0m\u001b[1;33m\u001b[0m\u001b[1;33m\u001b[0m\u001b[0m\n\u001b[0m",
      "\u001b[1;32m<ipython-input-34-4134b27a9c23>\u001b[0m in \u001b[0;36m__init__\u001b[1;34m(self, checkpoint_energy, num_iterations, fig, ax, show)\u001b[0m\n\u001b[0;32m     10\u001b[0m         \u001b[1;32mif\u001b[0m \u001b[0mshow\u001b[0m\u001b[1;33m:\u001b[0m\u001b[1;33m\u001b[0m\u001b[1;33m\u001b[0m\u001b[0m\n\u001b[0;32m     11\u001b[0m             \u001b[0mself\u001b[0m\u001b[1;33m.\u001b[0m\u001b[0mmake_fig\u001b[0m\u001b[1;33m(\u001b[0m\u001b[1;33m)\u001b[0m\u001b[1;33m\u001b[0m\u001b[1;33m\u001b[0m\u001b[0m\n\u001b[1;32m---> 12\u001b[1;33m             \u001b[0mself\u001b[0m\u001b[1;33m.\u001b[0m\u001b[0mupdate_fig\u001b[0m\u001b[1;33m(\u001b[0m\u001b[1;33m)\u001b[0m\u001b[1;33m\u001b[0m\u001b[1;33m\u001b[0m\u001b[0m\n\u001b[0m\u001b[0;32m     13\u001b[0m             \u001b[1;32mif\u001b[0m \u001b[0mshow\u001b[0m \u001b[1;33m>=\u001b[0m \u001b[1;36m2\u001b[0m\u001b[1;33m:\u001b[0m\u001b[1;33m\u001b[0m\u001b[1;33m\u001b[0m\u001b[0m\n\u001b[0;32m     14\u001b[0m                 \u001b[0mself\u001b[0m\u001b[1;33m.\u001b[0m\u001b[0manimate\u001b[0m\u001b[1;33m(\u001b[0m\u001b[1;33m)\u001b[0m\u001b[1;33m\u001b[0m\u001b[1;33m\u001b[0m\u001b[0m\n",
      "\u001b[1;32m<ipython-input-34-4134b27a9c23>\u001b[0m in \u001b[0;36mupdate_fig\u001b[1;34m(self, num_iterations)\u001b[0m\n\u001b[0;32m     38\u001b[0m                 \u001b[0mloop_factor\u001b[0m \u001b[1;33m=\u001b[0m \u001b[1;33m(\u001b[0m\u001b[1;36m1\u001b[0m \u001b[1;33m+\u001b[0m \u001b[1;33m(\u001b[0m\u001b[0msection_type\u001b[0m \u001b[1;33m==\u001b[0m \u001b[1;34m\"loop\"\u001b[0m\u001b[1;33m)\u001b[0m \u001b[1;33m*\u001b[0m \u001b[1;33m(\u001b[0m\u001b[0mnum_iterations\u001b[0m\u001b[1;33m-\u001b[0m\u001b[1;36m1\u001b[0m\u001b[1;33m)\u001b[0m\u001b[1;33m)\u001b[0m\u001b[1;33m\u001b[0m\u001b[1;33m\u001b[0m\u001b[0m\n\u001b[0;32m     39\u001b[0m                 \u001b[1;32mfor\u001b[0m \u001b[0msection\u001b[0m \u001b[1;32min\u001b[0m \u001b[0msections\u001b[0m\u001b[1;33m:\u001b[0m\u001b[1;33m\u001b[0m\u001b[1;33m\u001b[0m\u001b[0m\n\u001b[1;32m---> 40\u001b[1;33m                     \u001b[0mbar_height\u001b[0m \u001b[1;33m=\u001b[0m \u001b[0msection_averages\u001b[0m\u001b[1;33m[\u001b[0m\u001b[0msection\u001b[0m\u001b[1;33m]\u001b[0m \u001b[1;33m*\u001b[0m \u001b[0mloop_factor\u001b[0m\u001b[1;33m\u001b[0m\u001b[1;33m\u001b[0m\u001b[0m\n\u001b[0m\u001b[0;32m     41\u001b[0m                     \u001b[0mself\u001b[0m\u001b[1;33m.\u001b[0m\u001b[0mbars\u001b[0m\u001b[1;33m.\u001b[0m\u001b[0mappend\u001b[0m\u001b[1;33m(\u001b[0m\u001b[0mself\u001b[0m\u001b[1;33m.\u001b[0m\u001b[0max\u001b[0m\u001b[1;33m.\u001b[0m\u001b[0mbar\u001b[0m\u001b[1;33m(\u001b[0m\u001b[0mindex\u001b[0m\u001b[1;33m,\u001b[0m \u001b[0mbar_height\u001b[0m\u001b[1;33m,\u001b[0m \u001b[0mlabel\u001b[0m\u001b[1;33m=\u001b[0m\u001b[0msection\u001b[0m\u001b[1;33m,\u001b[0m \u001b[0malpha\u001b[0m\u001b[1;33m=\u001b[0m\u001b[0mopacity\u001b[0m\u001b[1;33m,\u001b[0m \u001b[0myerr\u001b[0m\u001b[1;33m=\u001b[0m\u001b[0msection_stds\u001b[0m\u001b[1;33m[\u001b[0m\u001b[0msection\u001b[0m\u001b[1;33m]\u001b[0m \u001b[1;33m/\u001b[0m \u001b[0msqrt\u001b[0m\u001b[1;33m(\u001b[0m\u001b[0mloop_factor\u001b[0m\u001b[1;33m)\u001b[0m\u001b[1;33m,\u001b[0m \u001b[0mbottom\u001b[0m\u001b[1;33m=\u001b[0m\u001b[0mbottom\u001b[0m\u001b[1;33m)\u001b[0m\u001b[1;33m)\u001b[0m\u001b[1;33m\u001b[0m\u001b[1;33m\u001b[0m\u001b[0m\n\u001b[0;32m     42\u001b[0m                     \u001b[0mbottom\u001b[0m \u001b[1;33m+=\u001b[0m \u001b[0mbar_height\u001b[0m\u001b[1;33m\u001b[0m\u001b[1;33m\u001b[0m\u001b[0m\n",
      "\u001b[1;31mKeyError\u001b[0m: 'Allocate FFT'"
     ]
    }
   ],
   "source": [
    "iterations_plotter = IterationsPlotter(checkpoint_energy, show=2)"
   ]
  },
  {
   "cell_type": "code",
   "execution_count": 37,
   "metadata": {},
   "outputs": [
    {
     "name": "stderr",
     "output_type": "stream",
     "text": [
      "D:\\Anaconda3\\envs\\SAML11-32\\lib\\site-packages\\ipykernel_launcher.py:41: RuntimeWarning: divide by zero encountered in double_scalars\n"
     ]
    }
   ],
   "source": [
    "iterations_plotter.update_fig(4000)"
   ]
  },
  {
   "cell_type": "code",
   "execution_count": 36,
   "metadata": {},
   "outputs": [],
   "source": [
    "class IterationsPlotter(object):\n",
    "    def __init__(self, checkpoint_energy=CheckpointEnergy(), num_iterations=3, fig=None, ax=None, show=0):\n",
    "        self.checkpoint_energy = checkpoint_energy\n",
    "        self.fig = fig\n",
    "        self.ax = ax\n",
    "        self.num_iterations = num_iterations\n",
    "        self.workload_section_types = {}\n",
    "        if show:\n",
    "            self.make_fig()\n",
    "            self.update_fig()\n",
    "        \n",
    "    def make_fig(self, *args, **kwargs):\n",
    "        self.fig, self.ax = plt.subplots(*args, **kwargs)\n",
    "        \n",
    "        for workload_project in self.checkpoint_energy.workload_projects:\n",
    "            self.workload_section_types[workload_project] = \\\n",
    "                self.checkpoint_energy.get_workload_config(workload_project)[\"analysis\"][\"section_types\"]\n",
    "            \n",
    "        print(self.workload_section_types)\n",
    "    \n",
    "    def update_fig(self):\n",
    "        opacity = 0.8\n",
    "\n",
    "        # ax.grid()\n",
    "        self.ax.cla()\n",
    "\n",
    "        self.bars = []\n",
    "        for index, workload_project in enumerate(self.checkpoint_energy.workload_projects):\n",
    "            section_averages = self.checkpoint_energy.get_workload_average(workload_project)\n",
    "            section_stds = self.checkpoint_energy.get_workload_std(workload_project)\n",
    "            \n",
    "            bottom = 0\n",
    "            for section_type, sections in self.workload_section_types[workload_project].items():\n",
    "                print(section_type, sections)\n",
    "                print(type(section_type), section_type, \"loop\", section_type == \"loop\")\n",
    "                for i in range(1 + (section_type == \"loop\") * (self.num_iterations-1)):\n",
    "                    print(i)\n",
    "                    for section in sections:\n",
    "                        self.bars.append(self.ax.bar(index, section_averages[section], label=section, alpha=opacity, yerr=section_stds[section], bottom=bottom))\n",
    "                        bottom += section_averages[section]\n",
    "            \n",
    "#             section_averages = {}\n",
    "#             bottoms = [0] * len(workload_energy)\n",
    "#             for sub_index, section in enumerate(workload_energy.keys()):\n",
    "#                 section_averages[section] = np.average(workload_energy[section])\n",
    "#                 self.bars[workload_project][section] = self.ax.bar(index + sub_index * bar_width, section_averages[section], label=section, alpha=opacity, yerr=section_stds[section], bottom=bottoms[sub_index])\n",
    "#                 bottoms[sub_index] += section_averages[section]\n",
    "\n",
    "#             # rects += ax.bar(index + i*bar_width, [get_total_charge(application_name, security_type) for application_name in application_names], bar_width, label=security_type, color=colors[i], alpha=opacity)\n",
    "#         print(self.bars)\n",
    "        \n",
    "        self.ax.set_xticks(range(len(self.checkpoint_energy.workload_projects)))\n",
    "        self.ax.set_xticklabels(self.checkpoint_energy.workload_projects)\n",
    "        self.ax.legend()\n",
    "        self.ax.set_yscale('log')\n",
    "\n",
    "        self.ax.set_xlabel('Workload')\n",
    "        self.ax.set_ylabel('Charge [C]')\n",
    "        self.ax.set_title(f'Charge for {self.num_iterations} iterations')\n",
    "        self.fig.canvas.set_window_title('Charge per Workload')\n",
    "        self.fig.show()"
   ]
  },
  {
   "cell_type": "code",
   "execution_count": 37,
   "metadata": {},
   "outputs": [
    {
     "data": {
      "text/plain": [
       "{'FFT-S': {'text': 22600,\n",
       "  'data': 104,\n",
       "  'bss': 1584,\n",
       "  'dec': 24288,\n",
       "  'hex': 24288,\n",
       "  'filename': 'FFT-S.elf'}}"
      ]
     },
     "execution_count": 37,
     "metadata": {},
     "output_type": "execute_result"
    }
   ],
   "source": [
    "checkpoint_energy.get_checkpoint_size(\"FFT\")\n",
    "checkpoint_energy.get_workload_size(\"FFT\")"
   ]
  },
  {
   "cell_type": "code",
   "execution_count": 40,
   "metadata": {},
   "outputs": [],
   "source": [
    "security_type = \"AES\"\n",
    "workload_project = \"FFT\""
   ]
  },
  {
   "cell_type": "code",
   "execution_count": 41,
   "metadata": {},
   "outputs": [
    {
     "data": {
      "text/plain": [
       "{'name': 'AES',\n",
       " 'project_paths': [['.', 'AES-S']],\n",
       " 'config_dict': {'interfaces': [256, 48],\n",
       "  'loggers': [1, 0],\n",
       "  'gpio_delay_time': 0.0007,\n",
       "  'file_name_base': 'experiment_aes'},\n",
       " 'config_dict_plot': {'loggers': [1, 2, 0],\n",
       "  'plot_pins': [False, False, True, True],\n",
       "  'plot_pins_method': 'line',\n",
       "  'plot_xmax': 5,\n",
       "  'window_title': 'Experiment AES'},\n",
       " 'analysis': {'pins': {'2': ['AES Encrypt'], '3': ['AES Decrypt']},\n",
       "  'result_types': ['Charge', 'Time'],\n",
       "  'section_types': {'init': [],\n",
       "   'store': ['AES Encrypt'],\n",
       "   'load': ['AES Decrypt'],\n",
       "   'exit': []},\n",
       "  'labels': {'Charge': {'x': 'Data Size',\n",
       "    'x_unit': 'byte',\n",
       "    'y': 'Charge',\n",
       "    'y_unit': 'C'},\n",
       "   'Time': {'x': 'Data Size', 'x_unit': 'byte', 'y': 'Time', 'y_unit': 's'}},\n",
       "  'x_step': 16}}"
      ]
     },
     "execution_count": 41,
     "metadata": {},
     "output_type": "execute_result"
    }
   ],
   "source": [
    "checkpoint_energy.get_config(security_type)"
   ]
  },
  {
   "cell_type": "code",
   "execution_count": 42,
   "metadata": {},
   "outputs": [
    {
     "data": {
      "text/plain": [
       "0.00011345930589121682"
      ]
     },
     "execution_count": 42,
     "metadata": {},
     "output_type": "execute_result"
    }
   ],
   "source": [
    "checkpoint_energy.get_checkpoint_energy(security_type, workload_project)"
   ]
  },
  {
   "cell_type": "code",
   "execution_count": 43,
   "metadata": {},
   "outputs": [
    {
     "data": {
      "text/plain": [
       "1702"
      ]
     },
     "execution_count": 43,
     "metadata": {},
     "output_type": "execute_result"
    }
   ],
   "source": [
    "checkpoint_energy.get_checkpoint_size(workload_project)"
   ]
  },
  {
   "cell_type": "code",
   "execution_count": 44,
   "metadata": {},
   "outputs": [
    {
     "data": {
      "text/plain": [
       "{'AES Encrypt': 5.566584660753828e-05, 'AES Decrypt': 5.779345928367853e-05}"
      ]
     },
     "execution_count": 44,
     "metadata": {},
     "output_type": "execute_result"
    }
   ],
   "source": [
    "checkpoint_energy.get_security_energy(security_type, checkpoint_energy.get_checkpoint_size(workload_project))"
   ]
  },
  {
   "cell_type": "markdown",
   "metadata": {},
   "source": [
    "For example, in the picture above the total RAM usage is  \"data\" + \"bss\" = 15 bytes.\n",
    "In this case, the total checkpoint size will be: RAM usage + 12 GPR  + LR + PC = 29 Bytes."
   ]
  },
  {
   "cell_type": "code",
   "execution_count": 38,
   "metadata": {},
   "outputs": [],
   "source": [
    "def get_number_of_checkpoints(workload_charge, cap_size, security_charge):\n",
    "    if security_charge >= cap_size:\n",
    "        print(f\"Cap size too small for security charge. Got cap_size: {cap_size}, security_charge: {security_charge}\")\n",
    "        return float(\"inf\")\n",
    "    return workload_charge / (cap_size - security_charge)"
   ]
  },
  {
   "cell_type": "code",
   "execution_count": 39,
   "metadata": {},
   "outputs": [],
   "source": [
    "class ControllerGUI(object):\n",
    "    def __init__(self, artists, ax_kwargs = {'facecolor': 'lightgoldenrodyellow'}, left=0.15, width=0.7, space=0.1):\n",
    "        self.artists = artists\n",
    "        num = len(artists)\n",
    "        height = (1-(num+1)*space)/num\n",
    "        self.fig = plt.figure(figsize=(8,num))\n",
    "\n",
    "        for i, artist in enumerate(self.artists.values()):\n",
    "            artist['ax'] = plt.axes([left, space + i*(space+height) , width, height], **ax_kwargs)\n",
    "            artist['obj'] = artist['args']['type'](artist['ax'], artist['args']['label'], *artist['args']['args'], **artist['args']['kwargs'])"
   ]
  },
  {
   "cell_type": "code",
   "execution_count": 40,
   "metadata": {},
   "outputs": [],
   "source": [
    "from math import sqrt, floor\n",
    "import matplotlib as mpl\n",
    "import matplotlib.animation as animation\n",
    "import numpy as np\n",
    "\n",
    "class CapacitorPlotter(object):\n",
    "    def __init__(self, checkpoint_energy=CheckpointEnergy(), cap_size=1e-5, num_iterations=3, fig=None, ax=None, show=0, axes_switched=True, controller=True):\n",
    "        self.checkpoint_energy = checkpoint_energy\n",
    "        self.fig = fig\n",
    "        self.ax = ax\n",
    "        self.cap_size = cap_size\n",
    "        self.num_iterations = num_iterations\n",
    "        self.security_section_types = {}\n",
    "        self.workload_section_types = {}\n",
    "        self.axes_switched = axes_switched\n",
    "        \n",
    "        if show:\n",
    "            self.make_fig()\n",
    "            self.update_fig()\n",
    "            if show >= 2:\n",
    "                self.animate()\n",
    "        \n",
    "        if controller:\n",
    "            artists = {'cap': {'args': {'type': mpl.widgets.Slider, 'label': 'Capacitor size', 'args': [1e-7, 1e-2], 'kwargs': {'valinit': 3e-4, 'valstep': 1e-7, 'valfmt': \"%.2e C\"}}}, \n",
    "                'iterations': {'args': {'type': mpl.widgets.Slider, 'label': 'Iterations', 'args': [0, 100], 'kwargs': {'valinit': 1, 'valstep': 1, 'valfmt': \"%d\"}}}}\n",
    "\n",
    "            self.controller = ControllerGUI(artists)\n",
    "            \n",
    "            def update(val):\n",
    "                self.update_fig(self.controller.artists['cap']['obj'].val, int(self.controller.artists['iterations']['obj'].val))\n",
    "                self.controller.fig.canvas.draw_idle()\n",
    "\n",
    "            for artist in self.controller.artists.values():\n",
    "                artist['obj'].on_changed(update)\n",
    "\n",
    "            \n",
    "        \n",
    "    def make_fig(self, *args, **kwargs):\n",
    "        self.fig, self.ax = plt.subplots(*args, **kwargs)\n",
    "        self.fig.canvas.mpl_connect('key_press_event', self.resize_fig)\n",
    "        self.fig.canvas.set_window_title('Charge per Workload')\n",
    "        \n",
    "        for security_project in self.checkpoint_energy.security_projects:\n",
    "            self.security_section_types[security_project] = \\\n",
    "                self.checkpoint_energy.get_config(security_project)[\"analysis\"][\"section_types\"]\n",
    "        for workload_project in self.checkpoint_energy.workload_projects:\n",
    "            self.workload_section_types[workload_project] = \\\n",
    "                self.checkpoint_energy.get_config(workload_project)[\"analysis\"][\"section_types\"]\n",
    "            \n",
    "        self.colormap = mpl.cm.nipy_spectral   # Qualitative colormap\n",
    "        self.max_num_colors = 15\n",
    "        self.colors = {}\n",
    "        self.legend_artists = []\n",
    "    \n",
    "    def get_color(self, section_type, hatch):\n",
    "        if section_type in self.colors:\n",
    "            color = self.colors[section_type]\n",
    "        else:\n",
    "            color = self.colormap(len(self.colors)/self.max_num_colors)\n",
    "            self.colors[section_type] = color\n",
    "            self.legend_artists.append(mpl.patches.Patch(facecolor=color, label=section_type, hatch=hatch))\n",
    "        return color\n",
    "    \n",
    "    def resize_fig(self, *args):\n",
    "        self.update_fig()\n",
    "    \n",
    "    def update_fig(self, cap_size=None, num_iterations=None):\n",
    "        if cap_size is None:\n",
    "            cap_size = self.cap_size\n",
    "        else:\n",
    "            self.cap_size = cap_size\n",
    "        if num_iterations is None:\n",
    "            num_iterations = self.num_iterations\n",
    "        else:\n",
    "            self.num_iterations = num_iterations\n",
    "        \n",
    "        bar_width = 1/(len(self.checkpoint_energy.security_projects) + 1)\n",
    "        bar_width_factor = 0.9 * bar_width\n",
    "        opacity = 0.8\n",
    "\n",
    "        self.ax.cla()\n",
    "        \n",
    "        self.bars = []\n",
    "        for workload_index, workload_project in enumerate(self.checkpoint_energy.workload_projects):\n",
    "            section_averages = self.checkpoint_energy.get_workload_average(workload_project)\n",
    "            section_stds = self.checkpoint_energy.get_workload_std(workload_project)\n",
    "            checkpoint_size = self.checkpoint_energy.get_checkpoint_size(workload_project)\n",
    "            \n",
    "            for security_index, security_project in enumerate(self.checkpoint_energy.security_projects):\n",
    "                bottom = 0\n",
    "                for workload_section_type, workload_sections in self.workload_section_types[workload_project].items():\n",
    "                    loop_factor = num_iterations if workload_section_type == \"loop\" else 1\n",
    "                    for workload_section in workload_sections:\n",
    "                        bar_height = section_averages[workload_section] * loop_factor\n",
    "                        self.bars.append(self.ax.bar(workload_index + security_index * bar_width, bar_height, bar_width_factor, label=workload_section, alpha=opacity, yerr=section_stds[workload_section] / sqrt(loop_factor), bottom=bottom, color=self.get_color(workload_section, 'x'), hatch='x'))\n",
    "                        bottom += bar_height\n",
    "                \n",
    "                security_energy = self.checkpoint_energy.get_security_energy(security_project, checkpoint_size)\n",
    "                number_of_checkpoints = get_number_of_checkpoints(bottom, cap_size, self.checkpoint_energy.get_checkpoint_energy(security_project, workload_project))\n",
    "#                 print(workload_project, security_project, number_of_checkpoints, floor(number_of_checkpoints))\n",
    "\n",
    "                for security_section_type, security_sections in self.security_section_types[security_project].items():\n",
    "                    loop_factor = number_of_checkpoints if security_section_type in (\"load\", \"store\") else 1\n",
    "                    security_bottom = bottom\n",
    "                    for security_section in security_sections:\n",
    "                        bar_height = security_energy[security_section] * loop_factor\n",
    "                        self.bars.append(self.ax.bar(workload_index + security_index * bar_width, bar_height, bar_width_factor, label=security_section, alpha=opacity, bottom=security_bottom, color=self.get_color(security_section, '//'), hatch='//'))\n",
    "                        security_bottom += bar_height\n",
    "        \n",
    "        self.ax.set_xticks(range(len(self.checkpoint_energy.workload_projects)))\n",
    "        self.ax.set_xticklabels(self.checkpoint_energy.workload_projects)\n",
    "        self.ax.legend(loc='upper right', handles=self.legend_artists + [mpl.lines.Line2D([0], [0], linestyle='--', color='k', alpha=0.4, label='Checkpoints')])\n",
    "        \n",
    "        self.lines = []\n",
    "        ymin, ymax = self.ax.get_ylim()\n",
    "        for y in np.arange(ymin, ymax, self.cap_size):\n",
    "            self.lines.append(self.ax.axhline(y, linestyle='--', color='k', alpha=0.4, zorder=0))\n",
    "        \n",
    "        #self.ax.set_yscale('log')\n",
    "        # self.ax.callbacks.connect(\"ylim_changed\", self.convert_checkpoint_axis)\n",
    "        self.convert_checkpoint_axis(self.ax)\n",
    "        \n",
    "        self.ax.yaxis.set_label_position(\"right\")\n",
    "        self.ax.yaxis.set_ticks_position(\"right\")\n",
    "        \n",
    "        self.ax.set_xlabel('Workload')\n",
    "        self.ax.set_ylabel('Charge [C]')\n",
    "        self.ax.set_title(f'Charge for {num_iterations} iterations with capacitor of {cap_size:.2e} C')\n",
    "        self.switch_axes(self.axes_switched)\n",
    "        self.fig.show()\n",
    "        \n",
    "    def anim_func(self, num_iterations, *fargs):\n",
    "        self.update_fig(num_iterations=num_iterations)\n",
    "        artist_list = self.lines\n",
    "        for bar in self.bars:\n",
    "            artist_list += bar\n",
    "        return artist_list\n",
    "    \n",
    "    def animate(self, frames=range(1,20)):\n",
    "        self.animation = animation.FuncAnimation(self.fig, self.anim_func, blit=True, interval=0, frames=frames, repeat=False)\n",
    "    \n",
    "    def convert_checkpoint_axis(self, ax):\n",
    "        \"\"\"\n",
    "        Update second axis according with first axis.\n",
    "        \"\"\"\n",
    "        if hasattr(self, \"ax_checkpoint\"):\n",
    "            self.ax_checkpoint.remove()\n",
    "        self.ax_checkpoint = ax.twinx()\n",
    "        ymin, ymax = ax.get_ylim()\n",
    "        self.ax_checkpoint.set_ylim(ymin/self.cap_size, ymax/self.cap_size)\n",
    "        \n",
    "        self.ax_checkpoint.set_ylabel('Checkpoints')\n",
    "        #self.ax_checkpoint.set_yscale('log')\n",
    "        self.ax_checkpoint.tick_params(axis='y', which='minor')\n",
    "        self.ax_checkpoint.yaxis.set_major_formatter(mpl.ticker.FormatStrFormatter(\"%d\"))\n",
    "        self.ax_checkpoint.yaxis.set_minor_formatter(mpl.ticker.FormatStrFormatter(\"%d\"))\n",
    "        for tick in self.ax_checkpoint.yaxis.iter_ticks():\n",
    "            if tick[1] < 1 or round(tick[1]) - tick[1]:\n",
    "                tick[0].set_visible(False)\n",
    "    \n",
    "    def switch_axes(self, axes_switched=None):\n",
    "        if axes_switched is not None:\n",
    "            self.axes_switched = axes_switched\n",
    "        else:\n",
    "            self.axes_switched = not self.axes_switched\n",
    "        if self.axes_switched:\n",
    "            pos = (\"right\", \"left\")\n",
    "        else:\n",
    "            pos = (\"left\", \"right\")\n",
    "        self.ax.yaxis.set_label_position(pos[0])\n",
    "        self.ax.yaxis.set_ticks_position(pos[0])\n",
    "        self.ax_checkpoint.yaxis.set_label_position(pos[1])\n",
    "        self.ax_checkpoint.yaxis.set_ticks_position(pos[1])"
   ]
  },
  {
   "cell_type": "code",
   "execution_count": 41,
   "metadata": {},
   "outputs": [
    {
     "ename": "KeyError",
     "evalue": "'Allocate FFT'",
     "output_type": "error",
     "traceback": [
      "\u001b[1;31m---------------------------------------------------------------------------\u001b[0m",
      "\u001b[1;31mKeyError\u001b[0m                                  Traceback (most recent call last)",
      "\u001b[1;32m<ipython-input-41-70d2e8bf8169>\u001b[0m in \u001b[0;36m<module>\u001b[1;34m\u001b[0m\n\u001b[1;32m----> 1\u001b[1;33m \u001b[0mcapacitor_plotter\u001b[0m \u001b[1;33m=\u001b[0m \u001b[0mCapacitorPlotter\u001b[0m\u001b[1;33m(\u001b[0m\u001b[0mcheckpoint_energy\u001b[0m\u001b[1;33m,\u001b[0m \u001b[0mshow\u001b[0m\u001b[1;33m=\u001b[0m\u001b[1;36m1\u001b[0m\u001b[1;33m,\u001b[0m \u001b[0mcap_size\u001b[0m\u001b[1;33m=\u001b[0m\u001b[1;36m0.0003\u001b[0m\u001b[1;33m,\u001b[0m \u001b[0mnum_iterations\u001b[0m\u001b[1;33m=\u001b[0m\u001b[1;36m2\u001b[0m\u001b[1;33m)\u001b[0m\u001b[1;33m\u001b[0m\u001b[1;33m\u001b[0m\u001b[0m\n\u001b[0m",
      "\u001b[1;32m<ipython-input-40-993f074b2fb5>\u001b[0m in \u001b[0;36m__init__\u001b[1;34m(self, checkpoint_energy, cap_size, num_iterations, fig, ax, show, axes_switched, controller)\u001b[0m\n\u001b[0;32m     17\u001b[0m         \u001b[1;32mif\u001b[0m \u001b[0mshow\u001b[0m\u001b[1;33m:\u001b[0m\u001b[1;33m\u001b[0m\u001b[1;33m\u001b[0m\u001b[0m\n\u001b[0;32m     18\u001b[0m             \u001b[0mself\u001b[0m\u001b[1;33m.\u001b[0m\u001b[0mmake_fig\u001b[0m\u001b[1;33m(\u001b[0m\u001b[1;33m)\u001b[0m\u001b[1;33m\u001b[0m\u001b[1;33m\u001b[0m\u001b[0m\n\u001b[1;32m---> 19\u001b[1;33m             \u001b[0mself\u001b[0m\u001b[1;33m.\u001b[0m\u001b[0mupdate_fig\u001b[0m\u001b[1;33m(\u001b[0m\u001b[1;33m)\u001b[0m\u001b[1;33m\u001b[0m\u001b[1;33m\u001b[0m\u001b[0m\n\u001b[0m\u001b[0;32m     20\u001b[0m             \u001b[1;32mif\u001b[0m \u001b[0mshow\u001b[0m \u001b[1;33m>=\u001b[0m \u001b[1;36m2\u001b[0m\u001b[1;33m:\u001b[0m\u001b[1;33m\u001b[0m\u001b[1;33m\u001b[0m\u001b[0m\n\u001b[0;32m     21\u001b[0m                 \u001b[0mself\u001b[0m\u001b[1;33m.\u001b[0m\u001b[0manimate\u001b[0m\u001b[1;33m(\u001b[0m\u001b[1;33m)\u001b[0m\u001b[1;33m\u001b[0m\u001b[1;33m\u001b[0m\u001b[0m\n",
      "\u001b[1;32m<ipython-input-40-993f074b2fb5>\u001b[0m in \u001b[0;36mupdate_fig\u001b[1;34m(self, cap_size, num_iterations)\u001b[0m\n\u001b[0;32m     92\u001b[0m                     \u001b[0mloop_factor\u001b[0m \u001b[1;33m=\u001b[0m \u001b[0mnum_iterations\u001b[0m \u001b[1;32mif\u001b[0m \u001b[0mworkload_section_type\u001b[0m \u001b[1;33m==\u001b[0m \u001b[1;34m\"loop\"\u001b[0m \u001b[1;32melse\u001b[0m \u001b[1;36m1\u001b[0m\u001b[1;33m\u001b[0m\u001b[1;33m\u001b[0m\u001b[0m\n\u001b[0;32m     93\u001b[0m                     \u001b[1;32mfor\u001b[0m \u001b[0mworkload_section\u001b[0m \u001b[1;32min\u001b[0m \u001b[0mworkload_sections\u001b[0m\u001b[1;33m:\u001b[0m\u001b[1;33m\u001b[0m\u001b[1;33m\u001b[0m\u001b[0m\n\u001b[1;32m---> 94\u001b[1;33m                         \u001b[0mbar_height\u001b[0m \u001b[1;33m=\u001b[0m \u001b[0msection_averages\u001b[0m\u001b[1;33m[\u001b[0m\u001b[0mworkload_section\u001b[0m\u001b[1;33m]\u001b[0m \u001b[1;33m*\u001b[0m \u001b[0mloop_factor\u001b[0m\u001b[1;33m\u001b[0m\u001b[1;33m\u001b[0m\u001b[0m\n\u001b[0m\u001b[0;32m     95\u001b[0m                         \u001b[0mself\u001b[0m\u001b[1;33m.\u001b[0m\u001b[0mbars\u001b[0m\u001b[1;33m.\u001b[0m\u001b[0mappend\u001b[0m\u001b[1;33m(\u001b[0m\u001b[0mself\u001b[0m\u001b[1;33m.\u001b[0m\u001b[0max\u001b[0m\u001b[1;33m.\u001b[0m\u001b[0mbar\u001b[0m\u001b[1;33m(\u001b[0m\u001b[0mworkload_index\u001b[0m \u001b[1;33m+\u001b[0m \u001b[0msecurity_index\u001b[0m \u001b[1;33m*\u001b[0m \u001b[0mbar_width\u001b[0m\u001b[1;33m,\u001b[0m \u001b[0mbar_height\u001b[0m\u001b[1;33m,\u001b[0m \u001b[0mbar_width_factor\u001b[0m\u001b[1;33m,\u001b[0m \u001b[0mlabel\u001b[0m\u001b[1;33m=\u001b[0m\u001b[0mworkload_section\u001b[0m\u001b[1;33m,\u001b[0m \u001b[0malpha\u001b[0m\u001b[1;33m=\u001b[0m\u001b[0mopacity\u001b[0m\u001b[1;33m,\u001b[0m \u001b[0myerr\u001b[0m\u001b[1;33m=\u001b[0m\u001b[0msection_stds\u001b[0m\u001b[1;33m[\u001b[0m\u001b[0mworkload_section\u001b[0m\u001b[1;33m]\u001b[0m \u001b[1;33m/\u001b[0m \u001b[0msqrt\u001b[0m\u001b[1;33m(\u001b[0m\u001b[0mloop_factor\u001b[0m\u001b[1;33m)\u001b[0m\u001b[1;33m,\u001b[0m \u001b[0mbottom\u001b[0m\u001b[1;33m=\u001b[0m\u001b[0mbottom\u001b[0m\u001b[1;33m,\u001b[0m \u001b[0mcolor\u001b[0m\u001b[1;33m=\u001b[0m\u001b[0mself\u001b[0m\u001b[1;33m.\u001b[0m\u001b[0mget_color\u001b[0m\u001b[1;33m(\u001b[0m\u001b[0mworkload_section\u001b[0m\u001b[1;33m,\u001b[0m \u001b[1;34m'x'\u001b[0m\u001b[1;33m)\u001b[0m\u001b[1;33m,\u001b[0m \u001b[0mhatch\u001b[0m\u001b[1;33m=\u001b[0m\u001b[1;34m'x'\u001b[0m\u001b[1;33m)\u001b[0m\u001b[1;33m)\u001b[0m\u001b[1;33m\u001b[0m\u001b[1;33m\u001b[0m\u001b[0m\n\u001b[0;32m     96\u001b[0m                         \u001b[0mbottom\u001b[0m \u001b[1;33m+=\u001b[0m \u001b[0mbar_height\u001b[0m\u001b[1;33m\u001b[0m\u001b[1;33m\u001b[0m\u001b[0m\n",
      "\u001b[1;31mKeyError\u001b[0m: 'Allocate FFT'"
     ]
    }
   ],
   "source": [
    "capacitor_plotter = CapacitorPlotter(checkpoint_energy, show=1, cap_size=0.0003, num_iterations=2)"
   ]
  },
  {
   "cell_type": "code",
   "execution_count": 49,
   "metadata": {},
   "outputs": [],
   "source": [
    "capacitor_plotter.make_fig()"
   ]
  },
  {
   "cell_type": "code",
   "execution_count": 50,
   "metadata": {},
   "outputs": [
    {
     "name": "stdout",
     "output_type": "stream",
     "text": [
      "Cap size too small for security charge. Got cap_size: 3e-05, security_charge: 0.00011345930589121682\n",
      "Cap size too small for security charge. Got cap_size: 3e-05, security_charge: 0.00016577251304141313\n",
      "Cap size too small for security charge. Got cap_size: 3e-05, security_charge: 4.965093095499258e-05\n",
      "Cap size too small for security charge. Got cap_size: 3e-05, security_charge: 0.00011345930589121682\n",
      "Cap size too small for security charge. Got cap_size: 3e-05, security_charge: 0.00016577251304141313\n",
      "Cap size too small for security charge. Got cap_size: 3e-05, security_charge: 4.965093095499258e-05\n",
      "Cap size too small for security charge. Got cap_size: 3e-05, security_charge: 0.00017180180404488212\n",
      "Cap size too small for security charge. Got cap_size: 3e-05, security_charge: 0.00025100758614677454\n",
      "Cap size too small for security charge. Got cap_size: 3e-05, security_charge: 7.639538390333953e-05\n"
     ]
    },
    {
     "name": "stderr",
     "output_type": "stream",
     "text": [
      "D:\\Anaconda3\\envs\\SAML11-32\\lib\\site-packages\\matplotlib\\transforms.py:429: RuntimeWarning: invalid value encountered in double_scalars\n",
      "  return (x0, y0, x1 - x0, y1 - y0)\n"
     ]
    }
   ],
   "source": [
    "capacitor_plotter.update_fig(0.00003, 10)"
   ]
  },
  {
   "cell_type": "code",
   "execution_count": null,
   "metadata": {},
   "outputs": [],
   "source": []
  },
  {
   "cell_type": "code",
   "execution_count": 51,
   "metadata": {},
   "outputs": [],
   "source": [
    "security_types = [\"None\", \"AES\", \"AES_Flash\", \"TrustZone\", \"TrustZone_Flash\"]\n",
    "# security_types = [\"None\", \"AES_Flash\", \"TruseZone_Flash\"]\n",
    "application_names = [\"Kalman\", \"AR\", \"Dijkstra\", \"Sorting 1024\", \"Bit Counting\", \"FFT 128\"]"
   ]
  },
  {
   "cell_type": "code",
   "execution_count": 52,
   "metadata": {},
   "outputs": [],
   "source": [
    "# app_charge_scale = 1e-4\n",
    "application_charges = np.array([0.000326812, 1e-10, 1e-10, 0.00001984909516280825944492365031646130546505446545779705047607421875, 0.0000066193645743728758915470737622666064225995796732604503631591796875, 0.00098674225419147416384080262474753908463753759860992431640625]) # TODO\n",
    "# app_number_of_bytes_scale = 1000\n",
    "application_number_of_bytes = np.array([4000, 1, 1, 1544 + 2**10, 90, 1975+24*128]) # TODO"
   ]
  },
  {
   "cell_type": "code",
   "execution_count": 53,
   "metadata": {},
   "outputs": [],
   "source": [
    "base_charge_per_app = dict(zip(application_names, application_charges))\n",
    "number_of_bytes_per_app = dict(zip(application_names, application_number_of_bytes))"
   ]
  },
  {
   "cell_type": "code",
   "execution_count": 54,
   "metadata": {},
   "outputs": [],
   "source": [
    "def get_total_charge(application_name, security_type):\n",
    "    print(application_name, security_type, f\"base: {base_charge_per_app[application_name]}, sec: {get_security_charge(security_type, number_of_bytes_per_app[application_name])}\")\n",
    "    return base_charge_per_app[application_name] + get_security_charge(security_type, number_of_bytes_per_app[application_name])"
   ]
  },
  {
   "cell_type": "markdown",
   "metadata": {},
   "source": [
    "# Bar chart"
   ]
  },
  {
   "cell_type": "code",
   "execution_count": 55,
   "metadata": {},
   "outputs": [],
   "source": [
    "import numpy as np\n",
    "import matplotlib.pyplot as plt"
   ]
  },
  {
   "cell_type": "code",
   "execution_count": 56,
   "metadata": {},
   "outputs": [
    {
     "ename": "NameError",
     "evalue": "name 'get_security_charge' is not defined",
     "output_type": "error",
     "traceback": [
      "\u001b[1;31m---------------------------------------------------------------------------\u001b[0m",
      "\u001b[1;31mNameError\u001b[0m                                 Traceback (most recent call last)",
      "\u001b[1;32m<ipython-input-56-a2a54ed73f19>\u001b[0m in \u001b[0;36m<module>\u001b[1;34m\u001b[0m\n\u001b[0;32m     11\u001b[0m \u001b[0mrects\u001b[0m \u001b[1;33m=\u001b[0m \u001b[1;33m[\u001b[0m\u001b[1;33m]\u001b[0m\u001b[1;33m\u001b[0m\u001b[1;33m\u001b[0m\u001b[0m\n\u001b[0;32m     12\u001b[0m \u001b[1;32mfor\u001b[0m \u001b[0mi\u001b[0m\u001b[1;33m,\u001b[0m\u001b[0msecurity_type\u001b[0m \u001b[1;32min\u001b[0m \u001b[0menumerate\u001b[0m\u001b[1;33m(\u001b[0m\u001b[0msecurity_types\u001b[0m\u001b[1;33m)\u001b[0m\u001b[1;33m:\u001b[0m\u001b[1;33m\u001b[0m\u001b[1;33m\u001b[0m\u001b[0m\n\u001b[1;32m---> 13\u001b[1;33m     \u001b[0mrects\u001b[0m \u001b[1;33m+=\u001b[0m \u001b[0max\u001b[0m\u001b[1;33m.\u001b[0m\u001b[0mbar\u001b[0m\u001b[1;33m(\u001b[0m\u001b[0mindex\u001b[0m \u001b[1;33m+\u001b[0m \u001b[0mi\u001b[0m\u001b[1;33m*\u001b[0m\u001b[0mbar_width\u001b[0m\u001b[1;33m,\u001b[0m \u001b[1;33m[\u001b[0m\u001b[0mget_total_charge\u001b[0m\u001b[1;33m(\u001b[0m\u001b[0mapplication_name\u001b[0m\u001b[1;33m,\u001b[0m \u001b[0msecurity_type\u001b[0m\u001b[1;33m)\u001b[0m \u001b[1;32mfor\u001b[0m \u001b[0mapplication_name\u001b[0m \u001b[1;32min\u001b[0m \u001b[0mapplication_names\u001b[0m\u001b[1;33m]\u001b[0m\u001b[1;33m,\u001b[0m \u001b[0mbar_width\u001b[0m\u001b[1;33m,\u001b[0m \u001b[0mlabel\u001b[0m\u001b[1;33m=\u001b[0m\u001b[0msecurity_type\u001b[0m\u001b[1;33m,\u001b[0m \u001b[0mcolor\u001b[0m\u001b[1;33m=\u001b[0m\u001b[0mcolors\u001b[0m\u001b[1;33m[\u001b[0m\u001b[0mi\u001b[0m\u001b[1;33m]\u001b[0m\u001b[1;33m,\u001b[0m \u001b[0malpha\u001b[0m\u001b[1;33m=\u001b[0m\u001b[0mopacity\u001b[0m\u001b[1;33m)\u001b[0m\u001b[1;33m\u001b[0m\u001b[1;33m\u001b[0m\u001b[0m\n\u001b[0m\u001b[0;32m     14\u001b[0m \u001b[1;33m\u001b[0m\u001b[0m\n\u001b[0;32m     15\u001b[0m \u001b[0max\u001b[0m\u001b[1;33m.\u001b[0m\u001b[0mset_xlabel\u001b[0m\u001b[1;33m(\u001b[0m\u001b[1;34m'Application'\u001b[0m\u001b[1;33m)\u001b[0m\u001b[1;33m\u001b[0m\u001b[1;33m\u001b[0m\u001b[0m\n",
      "\u001b[1;32m<ipython-input-56-a2a54ed73f19>\u001b[0m in \u001b[0;36m<listcomp>\u001b[1;34m(.0)\u001b[0m\n\u001b[0;32m     11\u001b[0m \u001b[0mrects\u001b[0m \u001b[1;33m=\u001b[0m \u001b[1;33m[\u001b[0m\u001b[1;33m]\u001b[0m\u001b[1;33m\u001b[0m\u001b[1;33m\u001b[0m\u001b[0m\n\u001b[0;32m     12\u001b[0m \u001b[1;32mfor\u001b[0m \u001b[0mi\u001b[0m\u001b[1;33m,\u001b[0m\u001b[0msecurity_type\u001b[0m \u001b[1;32min\u001b[0m \u001b[0menumerate\u001b[0m\u001b[1;33m(\u001b[0m\u001b[0msecurity_types\u001b[0m\u001b[1;33m)\u001b[0m\u001b[1;33m:\u001b[0m\u001b[1;33m\u001b[0m\u001b[1;33m\u001b[0m\u001b[0m\n\u001b[1;32m---> 13\u001b[1;33m     \u001b[0mrects\u001b[0m \u001b[1;33m+=\u001b[0m \u001b[0max\u001b[0m\u001b[1;33m.\u001b[0m\u001b[0mbar\u001b[0m\u001b[1;33m(\u001b[0m\u001b[0mindex\u001b[0m \u001b[1;33m+\u001b[0m \u001b[0mi\u001b[0m\u001b[1;33m*\u001b[0m\u001b[0mbar_width\u001b[0m\u001b[1;33m,\u001b[0m \u001b[1;33m[\u001b[0m\u001b[0mget_total_charge\u001b[0m\u001b[1;33m(\u001b[0m\u001b[0mapplication_name\u001b[0m\u001b[1;33m,\u001b[0m \u001b[0msecurity_type\u001b[0m\u001b[1;33m)\u001b[0m \u001b[1;32mfor\u001b[0m \u001b[0mapplication_name\u001b[0m \u001b[1;32min\u001b[0m \u001b[0mapplication_names\u001b[0m\u001b[1;33m]\u001b[0m\u001b[1;33m,\u001b[0m \u001b[0mbar_width\u001b[0m\u001b[1;33m,\u001b[0m \u001b[0mlabel\u001b[0m\u001b[1;33m=\u001b[0m\u001b[0msecurity_type\u001b[0m\u001b[1;33m,\u001b[0m \u001b[0mcolor\u001b[0m\u001b[1;33m=\u001b[0m\u001b[0mcolors\u001b[0m\u001b[1;33m[\u001b[0m\u001b[0mi\u001b[0m\u001b[1;33m]\u001b[0m\u001b[1;33m,\u001b[0m \u001b[0malpha\u001b[0m\u001b[1;33m=\u001b[0m\u001b[0mopacity\u001b[0m\u001b[1;33m)\u001b[0m\u001b[1;33m\u001b[0m\u001b[1;33m\u001b[0m\u001b[0m\n\u001b[0m\u001b[0;32m     14\u001b[0m \u001b[1;33m\u001b[0m\u001b[0m\n\u001b[0;32m     15\u001b[0m \u001b[0max\u001b[0m\u001b[1;33m.\u001b[0m\u001b[0mset_xlabel\u001b[0m\u001b[1;33m(\u001b[0m\u001b[1;34m'Application'\u001b[0m\u001b[1;33m)\u001b[0m\u001b[1;33m\u001b[0m\u001b[1;33m\u001b[0m\u001b[0m\n",
      "\u001b[1;32m<ipython-input-54-6e87c55f54bb>\u001b[0m in \u001b[0;36mget_total_charge\u001b[1;34m(application_name, security_type)\u001b[0m\n\u001b[0;32m      1\u001b[0m \u001b[1;32mdef\u001b[0m \u001b[0mget_total_charge\u001b[0m\u001b[1;33m(\u001b[0m\u001b[0mapplication_name\u001b[0m\u001b[1;33m,\u001b[0m \u001b[0msecurity_type\u001b[0m\u001b[1;33m)\u001b[0m\u001b[1;33m:\u001b[0m\u001b[1;33m\u001b[0m\u001b[1;33m\u001b[0m\u001b[0m\n\u001b[1;32m----> 2\u001b[1;33m     \u001b[0mprint\u001b[0m\u001b[1;33m(\u001b[0m\u001b[0mapplication_name\u001b[0m\u001b[1;33m,\u001b[0m \u001b[0msecurity_type\u001b[0m\u001b[1;33m,\u001b[0m \u001b[1;34mf\"base: {base_charge_per_app[application_name]}, sec: {get_security_charge(security_type, number_of_bytes_per_app[application_name])}\"\u001b[0m\u001b[1;33m)\u001b[0m\u001b[1;33m\u001b[0m\u001b[1;33m\u001b[0m\u001b[0m\n\u001b[0m\u001b[0;32m      3\u001b[0m     \u001b[1;32mreturn\u001b[0m \u001b[0mbase_charge_per_app\u001b[0m\u001b[1;33m[\u001b[0m\u001b[0mapplication_name\u001b[0m\u001b[1;33m]\u001b[0m \u001b[1;33m+\u001b[0m \u001b[0mget_security_charge\u001b[0m\u001b[1;33m(\u001b[0m\u001b[0msecurity_type\u001b[0m\u001b[1;33m,\u001b[0m \u001b[0mnumber_of_bytes_per_app\u001b[0m\u001b[1;33m[\u001b[0m\u001b[0mapplication_name\u001b[0m\u001b[1;33m]\u001b[0m\u001b[1;33m)\u001b[0m\u001b[1;33m\u001b[0m\u001b[1;33m\u001b[0m\u001b[0m\n",
      "\u001b[1;31mNameError\u001b[0m: name 'get_security_charge' is not defined"
     ]
    }
   ],
   "source": [
    "# create plot\n",
    "fig, ax = plt.subplots(figsize=(10,9))\n",
    "index = np.arange(len(application_names))\n",
    "bar_width = 0.18\n",
    "opacity = 0.8\n",
    "\n",
    "# ax.grid()\n",
    "\n",
    "colors = [\"blue\", \"red\", \"green\", \"cyan\", \"magenta\", \"yellow\", \"black\", \"white\"]\n",
    "\n",
    "rects = []\n",
    "for i,security_type in enumerate(security_types):\n",
    "    rects += ax.bar(index + i*bar_width, [get_total_charge(application_name, security_type) for application_name in application_names], bar_width, label=security_type, color=colors[i], alpha=opacity)\n",
    " \n",
    "ax.set_xlabel('Application')\n",
    "ax.set_ylabel('Charge [C]')\n",
    "ax.set_title('Charge per Application')\n",
    "fig.canvas.set_window_title('Charge per Application')\n",
    "ax.set_xticks(index + bar_width)\n",
    "ax.set_xticklabels(application_names)\n",
    "ax.legend()\n",
    " \n",
    "fig.tight_layout()\n",
    "fig.show()"
   ]
  },
  {
   "cell_type": "markdown",
   "metadata": {},
   "source": [
    "# Number of Checkpoints"
   ]
  },
  {
   "cell_type": "code",
   "execution_count": null,
   "metadata": {},
   "outputs": [],
   "source": [
    "security_types = [\"None\", \"AES_Flash\", \"TrustZone_Flash\"]"
   ]
  },
  {
   "cell_type": "code",
   "execution_count": null,
   "metadata": {},
   "outputs": [],
   "source": [
    "min_cap_size_over_sec_charge = 10\n",
    "number_of_points = 1e5\n",
    "iterations = 1\n",
    "min_cap_factor = 10\n",
    "min_step_size = 1e-7"
   ]
  },
  {
   "cell_type": "code",
   "execution_count": null,
   "metadata": {},
   "outputs": [],
   "source": [
    "opacity = 0.8\n",
    "colors = [\"blue\", \"red\", \"green\", \"cyan\", \"magenta\", \"yellow\", \"black\", \"white\"]\n",
    "\n",
    "figs = {}\n",
    "axs = {}\n",
    "for application_name in application_names:\n",
    "# for application_name in [\"Sorting 1024\", \"FFT 128\"]:\n",
    "    fig, ax = plt.subplots(figsize=(10,9))\n",
    "    figs[application_name] = fig\n",
    "    axs[application_name] = ax\n",
    "    fig.canvas.set_window_title(application_name)\n",
    "    for i,security_type in enumerate(security_types):\n",
    "        security_charge = get_security_charge(security_type, number_of_bytes_per_app[application_name])\n",
    "        base_charge = base_charge_per_app[application_name]\n",
    "        capacitor_sizes = np.arange(base_charge/min_cap_factor,base_charge*iterations, (base_charge*iterations-base_charge/min_cap_factor)/number_of_points)\n",
    "        capacitor_sizes = capacitor_sizes[capacitor_sizes>security_charge]\n",
    "        y = base_charge/(capacitor_sizes - security_charge)\n",
    "#         ax.plot(capacitor_sizes, base_charge/(capacitor_sizes - security_charge)/(base_charge/capacitor_sizes), label=security_type, color=colors[i], alpha=opacity)\n",
    "        ax.plot(capacitor_sizes, y, label=security_type, color=colors[i], alpha=opacity)\n",
    "        ax.plot(capacitor_sizes, np.floor(y), color=colors[i], alpha=opacity/2)\n",
    "#         ax.plot(capacitor_sizes, np.floor(base_charge/(capacitor_sizes - security_charge)), '.', label=security_type, color=colors[i], alpha=opacity/2)\n",
    "#         ax.plot(capacitor_sizes, base_charge/(capacitor_sizes - security_charge), label=security_type, color=colors[i], alpha=opacity)\n",
    "    ax.plot([base_charge/min_cap_factor, base_charge*iterations], [1,1])\n",
    "    ax.set_xscale('log')\n",
    "#     ax.set_yscale('log')\n",
    "    ax.set_ylim(-1,10)\n",
    "    ax.set_xlabel('Capacitor Size [C]')\n",
    "    ax.set_ylabel('Number of Checkpoints')\n",
    "    ax.set_title(f'Number of Checkpoints per Security Type {application_name}')\n",
    "    fig.canvas.set_window_title(f\"Number of Checkpoints {application_name}\")\n",
    "    ax.legend()\n",
    "    fig.tight_layout()\n",
    "    fig.show()"
   ]
  },
  {
   "cell_type": "code",
   "execution_count": null,
   "metadata": {},
   "outputs": [],
   "source": [
    "# opacity = 0.8\n",
    "# colors = [\"blue\", \"red\", \"green\", \"cyan\", \"magenta\", \"yellow\", \"black\", \"white\"]\n",
    "\n",
    "# figs = {}\n",
    "# axs = {}\n",
    "# # for application_name in application_names:\n",
    "# for application_name in [\"Sorting 1024\", \"FFT 128\"]:\n",
    "#     fig, ax = plt.subplots(figsize=(10,9))\n",
    "#     figs[application_name] = fig\n",
    "#     axs[application_name] = ax\n",
    "#     fig.canvas.set_window_title(application_name)\n",
    "#     security_charge_aes = get_security_charge(\"AES_Flash\", number_of_bytes_per_app[application_name])\n",
    "#     security_charge_trustzone = get_security_charge(\"TrustZone_Flash\", number_of_bytes_per_app[application_name])\n",
    "#     base_charge = base_charge_per_app[application_name]\n",
    "#     capacitor_sizes = np.arange(base_charge/min_cap_factor,base_charge*iterations, (base_charge*iterations-base_charge/min_cap_factor)/number_of_points)\n",
    "#     capacitor_sizes = capacitor_sizes[capacitor_sizes>security_charge_aes]\n",
    "# #         ax.plot(capacitor_sizes, base_charge/(capacitor_sizes - security_charge)/(base_charge/capacitor_sizes), label=security_type, color=colors[i], alpha=opacity)\n",
    "#     y = base_charge/(capacitor_sizes - security_charge_aes)/(base_charge/(capacitor_sizes - security_charge_trustzone))\n",
    "#     ax.plot(capacitor_sizes, y, label=security_type, color=colors[i], alpha=opacity)\n",
    "#     ax.plot(capacitor_sizes, np.floor(y), color=colors[i], alpha=opacity/2)\n",
    "# #         ax.plot(capacitor_sizes, np.floor(base_charge/(capacitor_sizes - security_charge)), '.', label=security_type, color=colors[i], alpha=opacity/2)\n",
    "# #         ax.plot(capacitor_sizes, base_charge/(capacitor_sizes - security_charge), label=security_type, color=colors[i], alpha=opacity)\n",
    "#     ax.plot([base_charge/min_cap_factor, base_charge*iterations], [1,1])\n",
    "#     ax.set_xscale('log')\n",
    "# #     ax.set_yscale('log')\n",
    "#     ax.set_ylim(-1,10)\n",
    "#     ax.set_xlabel('Capacitor Size [C]')\n",
    "#     ax.set_ylabel('Number of Checkpoints')\n",
    "#     ax.set_title(f'Number of Checkpoints per Security Type {application_name}')\n",
    "#     fig.canvas.set_window_title(f\"Number of Checkpoints {application_name}\")\n",
    "#     ax.legend()\n",
    "#     fig.tight_layout()\n",
    "#     fig.show()"
   ]
  },
  {
   "cell_type": "markdown",
   "metadata": {},
   "source": [
    "## Scales"
   ]
  },
  {
   "cell_type": "code",
   "execution_count": null,
   "metadata": {},
   "outputs": [],
   "source": [
    "print(\"Cap Size:\")\n",
    "print(f\"\\tmin: {min(capacitor_sizes)}, max: {max(capacitor_sizes)}\")"
   ]
  },
  {
   "cell_type": "code",
   "execution_count": null,
   "metadata": {},
   "outputs": [],
   "source": [
    "print(\"Base Charge:\")\n",
    "for application_name in application_names:\n",
    "    print(f\"\\t{application_name}: {base_charge_per_app[application_name]}\")"
   ]
  },
  {
   "cell_type": "code",
   "execution_count": null,
   "metadata": {},
   "outputs": [],
   "source": [
    "print(\"Security Charge:\")\n",
    "for security_type in security_types:\n",
    "    print(f\"\\t{security_type} min: {get_security_charge(security_type, min(number_of_bytes_per_app.values()))},  max: {get_security_charge(security_type, max(number_of_bytes_per_app.values()))}\")\n",
    "# number_of_bytes_per_app = dict(zip(application_names, application_number_of_bytes))"
   ]
  },
  {
   "cell_type": "code",
   "execution_count": null,
   "metadata": {},
   "outputs": [],
   "source": [
    "base_charge_per_app"
   ]
  },
  {
   "cell_type": "code",
   "execution_count": null,
   "metadata": {},
   "outputs": [],
   "source": [
    "min(number_of_bytes_per_app.values())"
   ]
  },
  {
   "cell_type": "code",
   "execution_count": null,
   "metadata": {},
   "outputs": [],
   "source": [
    "get_security_charge(\"None\", min(number_of_bytes_per_app.values()))"
   ]
  },
  {
   "cell_type": "code",
   "execution_count": null,
   "metadata": {},
   "outputs": [],
   "source": [
    "get_security_charge(\"TrustZone_Flash\", 4000)"
   ]
  },
  {
   "cell_type": "code",
   "execution_count": null,
   "metadata": {},
   "outputs": [],
   "source": []
  },
  {
   "cell_type": "code",
   "execution_count": null,
   "metadata": {},
   "outputs": [],
   "source": [
    "a = [1,3,4,5]\n",
    "b = [9,8,7,6]"
   ]
  },
  {
   "cell_type": "code",
   "execution_count": null,
   "metadata": {},
   "outputs": [],
   "source": [
    "def g(x):\n",
    "    return x if x > 4 else 2"
   ]
  },
  {
   "cell_type": "code",
   "execution_count": null,
   "metadata": {},
   "outputs": [],
   "source": [
    "g(1)"
   ]
  },
  {
   "cell_type": "code",
   "execution_count": null,
   "metadata": {},
   "outputs": [],
   "source": []
  },
  {
   "cell_type": "code",
   "execution_count": null,
   "metadata": {},
   "outputs": [],
   "source": []
  },
  {
   "cell_type": "markdown",
   "metadata": {},
   "source": [
    "## Plot stuff"
   ]
  },
  {
   "cell_type": "code",
   "execution_count": null,
   "metadata": {},
   "outputs": [],
   "source": [
    "# fig = plt.figure(figsize=(10, 6))\n",
    "# ax = fig.add_subplot(1, 1, 1)\n",
    "# ax.set_xlabel(\"Capacitor Size [C]\")\n",
    "# ax.set_ylabel(\"Number of Checkpoints\")"
   ]
  },
  {
   "cell_type": "code",
   "execution_count": null,
   "metadata": {},
   "outputs": [],
   "source": [
    "# capacitor_sizes = range(1,101)\n",
    "# def get_number_of_checkpoints(application_number):\n",
    "#     return [application_charges[application_number]/(capacitor_size - get_security_charge(\"trustzone_flash\", application_number_of_bytes[application_number])) for capacitor_size in capacitor_sizes]"
   ]
  },
  {
   "cell_type": "code",
   "execution_count": null,
   "metadata": {},
   "outputs": [],
   "source": [
    "# for application_number in range(5):\n",
    "#     ax.plot(capacitor_sizes, get_number_of_checkpoints(application_number), label=application_names[application_number])\n",
    "# ax.legend()\n",
    "# # ax.set_yscale('log')\n",
    "# # ax.set_xscale('log')\n",
    "# # ax.invert_xaxis()"
   ]
  },
  {
   "cell_type": "code",
   "execution_count": null,
   "metadata": {},
   "outputs": [],
   "source": []
  },
  {
   "cell_type": "code",
   "execution_count": null,
   "metadata": {},
   "outputs": [],
   "source": [
    "# fig2 = plt.figure(figsize=(10, 6))\n",
    "# ax2 = fig2.add_subplot(111, projection='3d')\n",
    "\n",
    "# ax2.set_xlabel(\"Capacitor Size [C]\")\n",
    "# ax2.set_ylabel(\"Number of Bytes\")\n",
    "# ax2.set_zlabel(\"Number of Checkpoints\")"
   ]
  },
  {
   "cell_type": "code",
   "execution_count": null,
   "metadata": {},
   "outputs": [],
   "source": [
    "# capacitor_sizes = range(1,1001)\n",
    "# application_charge = 50\n",
    "# number_of_bytes = range(1,1001)"
   ]
  },
  {
   "cell_type": "code",
   "execution_count": null,
   "metadata": {},
   "outputs": [],
   "source": [
    "# def get_number_of_checkpoints(application_charge, capacitor_size, number_of_bytes, security_type=\"trustzone_flash\"):\n",
    "#     return application_charge/(capacitor_size - get_security_charge(security_type, number_of_bytes))"
   ]
  },
  {
   "cell_type": "code",
   "execution_count": null,
   "metadata": {},
   "outputs": [],
   "source": [
    "# X, Y = np.meshgrid(capacitor_sizes, number_of_bytes)\n",
    "# Z = np.zeros(shape=(1000,1000))\n",
    "# for i,capacitor_size in enumerate(capacitor_sizes):\n",
    "#     for j,number_of_byte in enumerate(number_of_bytes):\n",
    "#         Z[i,j] = get_number_of_checkpoints(application_charge, capacitor_size, number_of_byte)\n",
    "# #Z = np.array([np.array([get_number_of_checkpoints(capacitor_size,application_charge) for application_charge in application_charges]) for  capacitor_size in capacitor_sizes])\n",
    "# Z.shape"
   ]
  },
  {
   "cell_type": "code",
   "execution_count": null,
   "metadata": {},
   "outputs": [],
   "source": [
    "# surf = ax2.plot_surface(X, Y, Z)"
   ]
  },
  {
   "cell_type": "code",
   "execution_count": null,
   "metadata": {},
   "outputs": [],
   "source": []
  },
  {
   "cell_type": "code",
   "execution_count": null,
   "metadata": {},
   "outputs": [],
   "source": []
  },
  {
   "cell_type": "code",
   "execution_count": null,
   "metadata": {},
   "outputs": [],
   "source": []
  },
  {
   "cell_type": "code",
   "execution_count": null,
   "metadata": {},
   "outputs": [],
   "source": []
  },
  {
   "cell_type": "code",
   "execution_count": null,
   "metadata": {},
   "outputs": [
    {
     "name": "stderr",
     "output_type": "stream",
     "text": [
      "D:\\Anaconda3\\envs\\SAML11-32\\lib\\site-packages\\ipykernel_launcher.py:41: RuntimeWarning: divide by zero encountered in double_scalars\n"
     ]
    },
    {
     "name": "stdout",
     "output_type": "stream",
     "text": [
      "Cap size too small for security charge. Got cap_size: 0.0001787, security_charge: 0.00025100758614677454\n"
     ]
    }
   ],
   "source": [
    "from math import sqrt, floor\n",
    "\n",
    "class CapacitorPlotter(object):\n",
    "    def __init__(self, checkpoint_energy=CheckpointEnergy(), cap_size=1e-5, num_iterations=3, fig=None, ax=None, show=0):\n",
    "        self.checkpoint_energy = checkpoint_energy\n",
    "        self.fig = fig\n",
    "        self.ax = ax\n",
    "        self.cap_size = cap_size\n",
    "        self.num_iterations = num_iterations\n",
    "        self.security_section_types = {}\n",
    "        self.workload_section_types = {}\n",
    "        if show:\n",
    "            self.make_fig()\n",
    "            self.update_fig()\n",
    "            \n",
    "        self.hatches_generator = ('/', '\\\\', '|', '-', '+', 'x', 'o', 'O', '.', '*')\n",
    "        self.hatches = {}\n",
    "        self.colors_generator = (\"blue\", \"red\", \"green\", \"cyan\", \"magenta\", \"yellow\", \"black\", \"white\")\n",
    "        self.colors = {}\n",
    "        self.legend_artists = []\n",
    "        \n",
    "    def make_fig(self, *args, **kwargs):\n",
    "        self.fig, self.ax = plt.subplots(*args, **kwargs)\n",
    "        \n",
    "        for security_project in self.checkpoint_energy.security_projects:\n",
    "            self.security_section_types[security_project] = \\\n",
    "                self.checkpoint_energy.get_security_config(security_project)[\"analysis\"][\"section_types\"]\n",
    "        for workload_project in self.checkpoint_energy.workload_projects:\n",
    "            self.workload_section_types[workload_project] = \\\n",
    "                self.checkpoint_energy.get_workload_config(workload_project)[\"analysis\"][\"section_types\"]\n",
    "    \n",
    "    def get_hatch_and_color(self, workload_section_type, security_section_type):\n",
    "        if workload_section_type in self.colors:\n",
    "            color = self.colors[workload_section_type]\n",
    "        else:\n",
    "            color = next(self.colors_generator)\n",
    "        if security_section_type in self.hatches:\n",
    "            hatch = self.hatches[security_section_type]\n",
    "        else:\n",
    "            hatch = next(self.hatches_generator)\n",
    "        return color, hatch\n",
    "            \n",
    "    \n",
    "    def update_fig(self, cap_size=None, num_iterations=None):\n",
    "        if cap_size is None:\n",
    "            cap_size = self.cap_size\n",
    "        if num_iterations is None:\n",
    "            num_iterations = self.num_iterations\n",
    "        \n",
    "        bar_width = 1/(len(self.checkpoint_energy.security_projects) + 1)\n",
    "        bar_width_factor = 0.9 * bar_width\n",
    "        opacity = 0.8\n",
    "\n",
    "        # ax.grid()\n",
    "        self.ax.cla()\n",
    "\n",
    "        self.bars = []\n",
    "        for workload_index, workload_project in enumerate(self.checkpoint_energy.workload_projects):\n",
    "            section_averages = self.checkpoint_energy.get_workload_average(workload_project)\n",
    "            section_stds = self.checkpoint_energy.get_workload_std(workload_project)\n",
    "            checkpoint_size = self.checkpoint_energy.get_checkpoint_size(workload_project)\n",
    "            \n",
    "            for security_index, security_project in enumerate(self.checkpoint_energy.security_projects):\n",
    "                bottom = 0\n",
    "                for workload_section_type, workload_sections in self.workload_section_types[workload_project].items():\n",
    "                    loop_factor = num_iterations if workload_section_type == \"loop\" else 1\n",
    "                    for workload_section in workload_sections:\n",
    "                        bar_height = section_averages[workload_section] * loop_factor\n",
    "                        color, hatch = self.get_hatch_and_color(workload_section_type, security_section_type)\n",
    "                        bar = self.ax.bar(workload_index + security_index * bar_width, bar_height, bar_width_factor, label=workload_section, alpha=opacity, yerr=section_stds[workload_section] / sqrt(loop_factor), bottom=bottom, hatch=hatch, color=color)\n",
    "                        self.bars.append(bar)\n",
    "                        \n",
    "                        bottom += bar_height\n",
    "                \n",
    "                security_energy = self.checkpoint_energy.get_security_energy(security_project, checkpoint_size)\n",
    "\n",
    "#                 self.checkpoint_energy..get_security_energy(security_type, checkpoint_size)\n",
    "\n",
    "                number_of_checkpoints = get_number_of_checkpoints(bottom, cap_size, self.checkpoint_energy.get_checkpoint_energy(security_project, workload_project))\n",
    "#                 print(number_of_checkpoints, floor(number_of_checkpoints))\n",
    "\n",
    "                for security_section_type, security_sections in self.security_section_types[security_project].items():\n",
    "                    loop_factor = number_of_checkpoints if security_section_type in (\"load\", \"store\") else 1\n",
    "                    security_bottom = bottom\n",
    "                    for security_section in security_sections:\n",
    "                        bar_height = security_energy[security_section] * loop_factor\n",
    "                        self.bars.append(self.ax.bar(workload_index + security_index * bar_width, bar_height, bar_width_factor, label=workload_section + ' ' + security_section, alpha=opacity, bottom=security_bottom))\n",
    "                        security_bottom += bar_height\n",
    "\n",
    "        \n",
    "        self.ax.set_xticks(range(len(self.checkpoint_energy.workload_projects)))\n",
    "        self.ax.set_xticklabels(self.checkpoint_energy.workload_projects)\n",
    "        self.ax.legend()\n",
    "        self.ax.set_yscale('log')\n",
    "\n",
    "        self.ax.set_xlabel('Workload')\n",
    "        self.ax.set_ylabel('Charge [C]')\n",
    "        self.ax.set_title(f'Charge for {num_iterations} iterations')\n",
    "        self.fig.canvas.set_window_title('Charge per Workload')\n",
    "        self.fig.show()\n",
    "        "
   ]
  },
  {
   "cell_type": "code",
   "execution_count": 1,
   "metadata": {},
   "outputs": [],
   "source": [
    "from os import path, scandir\n",
    "import json\n",
    "import pickle"
   ]
  },
  {
   "cell_type": "code",
   "execution_count": 6,
   "metadata": {},
   "outputs": [],
   "source": [
    "looped_config_file = \"looped_experiment.json\"\n",
    "repeated_config_file = \"repeated_experiment.json\"\n",
    "security_folder=\"Security\"\n",
    "workload_folder=\"Workloads\"\n",
    "projects_folder=[path.curdir]"
   ]
  },
  {
   "cell_type": "code",
   "execution_count": 12,
   "metadata": {},
   "outputs": [
    {
     "data": {
      "text/plain": [
       "['AES', 'AES_Flash', 'TrustZone', 'TrustZone_Flash']"
      ]
     },
     "execution_count": 12,
     "metadata": {},
     "output_type": "execute_result"
    }
   ],
   "source": [
    "security_projects = [f.name for f in scandir(path.join(*projects_folder, security_folder))\n",
    "                if f.is_dir()]\n",
    "security_projects"
   ]
  },
  {
   "cell_type": "code",
   "execution_count": 11,
   "metadata": {},
   "outputs": [
    {
     "data": {
      "text/plain": [
       "['BitCounting', 'Dijkstra', 'FFT', 'Sorting']"
      ]
     },
     "execution_count": 11,
     "metadata": {},
     "output_type": "execute_result"
    }
   ],
   "source": [
    "workload_projects = [f.name for f in scandir(\n",
    "                path.join(*projects_folder, workload_folder))\n",
    "                if f.is_dir()]\n",
    "workload_projects"
   ]
  },
  {
   "cell_type": "code",
   "execution_count": 37,
   "metadata": {},
   "outputs": [],
   "source": [
    "security_project = 'TrustZone_Flash'"
   ]
  },
  {
   "cell_type": "code",
   "execution_count": null,
   "metadata": {},
   "outputs": [],
   "source": []
  },
  {
   "cell_type": "code",
   "execution_count": 38,
   "metadata": {},
   "outputs": [
    {
     "data": {
      "text/plain": [
       "{'name': 'TrustZone Flash',\n",
       " 'project_paths': [['.', 'TrustZone_Flash-NS'], ['.', 'TrustZone_Flash-S']],\n",
       " 'config_dict': {'interfaces': [256, 48],\n",
       "  'loggers': [1, 0],\n",
       "  'gpio_delay_time': 0.0007,\n",
       "  'file_name_base': 'experiment_trustzone_flash'},\n",
       " 'config_dict_plot': {'loggers': [1, 2, 0],\n",
       "  'plot_pins': [False, False, True, True],\n",
       "  'plot_pins_method': 'line',\n",
       "  'plot_xmax': 1,\n",
       "  'window_title': 'Experiment TrustZone Flash'},\n",
       " 'analysis': {'pins': {'2': ['TrustZone Flash Write'],\n",
       "   '3': ['TrustZone Flash Read']},\n",
       "  'result_types': ['Charge', 'Time'],\n",
       "  'section_types': {'init': [],\n",
       "   'store': ['TrustZone Flash Write'],\n",
       "   'load': ['TrustZone Flash Read'],\n",
       "   'exit': []},\n",
       "  'labels': {'Charge': {'x': 'Data Size',\n",
       "    'x_unit': 'byte',\n",
       "    'y': 'Charge',\n",
       "    'y_unit': 'C'},\n",
       "   'Time': {'x': 'Data Size', 'x_unit': 'byte', 'y': 'Time', 'y_unit': 's'}},\n",
       "  'x_step': 1}}"
      ]
     },
     "execution_count": 38,
     "metadata": {},
     "output_type": "execute_result"
    }
   ],
   "source": [
    "config_file_path = path.abspath(path.join(\n",
    "            *projects_folder, security_folder, security_project, looped_config_file))\n",
    "\n",
    "config = ''\n",
    "with open(config_file_path) as json_file:\n",
    "    config = json.load(json_file)\n",
    "config"
   ]
  },
  {
   "cell_type": "code",
   "execution_count": 39,
   "metadata": {},
   "outputs": [
    {
     "data": {
      "text/plain": [
       "'C:\\\\Users\\\\erikw_000\\\\Documents\\\\GitHub\\\\Atmel-SAML11\\\\Experiments\\\\Security\\\\TrustZone_Flash\\\\experiment_trustzone_flash'"
      ]
     },
     "execution_count": 39,
     "metadata": {},
     "output_type": "execute_result"
    }
   ],
   "source": [
    "pickle_path_base = path.abspath(path.join(\n",
    "                *projects_folder, security_folder, security_project,\n",
    "                config[\"config_dict\"].get(\"file_name_base\", \"log\")))\n",
    "pickle_path_base"
   ]
  },
  {
   "cell_type": "code",
   "execution_count": 40,
   "metadata": {},
   "outputs": [],
   "source": [
    "pickle_path_base = path.abspath(path.join(\n",
    "                *projects_folder, security_folder, security_project,\n",
    "                config[\"config_dict\"].get(\"file_name_base\", \"log\")))"
   ]
  },
  {
   "cell_type": "code",
   "execution_count": null,
   "metadata": {},
   "outputs": [],
   "source": []
  },
  {
   "cell_type": "code",
   "execution_count": 41,
   "metadata": {},
   "outputs": [],
   "source": [
    "p = pickle.load(open(f\"{pickle_path_base}_looped.p\", \"rb\"))"
   ]
  },
  {
   "cell_type": "code",
   "execution_count": 42,
   "metadata": {},
   "outputs": [
    {
     "data": {
      "text/plain": [
       "dict_keys(['TrustZone Flash Store', 'TrustZone Flash Load'])"
      ]
     },
     "execution_count": 42,
     "metadata": {},
     "output_type": "execute_result"
    }
   ],
   "source": [
    "p.keys()"
   ]
  },
  {
   "cell_type": "code",
   "execution_count": 47,
   "metadata": {},
   "outputs": [],
   "source": [
    "p['TrustZone Flash Write'] = p.pop('TrustZone Flash Store')"
   ]
  },
  {
   "cell_type": "code",
   "execution_count": 45,
   "metadata": {},
   "outputs": [],
   "source": [
    "p['TrustZone Flash Read'] = p.pop('TrustZone Flash Load')"
   ]
  },
  {
   "cell_type": "code",
   "execution_count": 48,
   "metadata": {},
   "outputs": [
    {
     "data": {
      "text/plain": [
       "dict_keys(['TrustZone Flash Read', 'TrustZone Flash Write'])"
      ]
     },
     "execution_count": 48,
     "metadata": {},
     "output_type": "execute_result"
    }
   ],
   "source": [
    "p.keys()"
   ]
  },
  {
   "cell_type": "code",
   "execution_count": 49,
   "metadata": {},
   "outputs": [],
   "source": [
    "pickle.dump(p, open(\n",
    "            path.join(path.dirname(looped_config_file),\n",
    "                      f\"{config['config_dict'].get('file_name_base')}_looped_renamed.p\"), \"wb\"))"
   ]
  },
  {
   "cell_type": "code",
   "execution_count": null,
   "metadata": {},
   "outputs": [],
   "source": []
  },
  {
   "cell_type": "code",
   "execution_count": null,
   "metadata": {},
   "outputs": [],
   "source": []
  },
  {
   "cell_type": "code",
   "execution_count": null,
   "metadata": {},
   "outputs": [],
   "source": []
  },
  {
   "cell_type": "code",
   "execution_count": null,
   "metadata": {},
   "outputs": [],
   "source": []
  },
  {
   "cell_type": "code",
   "execution_count": 36,
   "metadata": {},
   "outputs": [],
   "source": [
    "import matplotlib.pyplot as plt\n",
    "import matplotlib.animation as animation\n",
    "import numpy as np\n",
    "\n",
    "# Paste your code here\n",
    "fig, ax = plt.subplots()\n",
    "ims = []\n",
    "N = 500\n",
    "x = np.random.rand(N, 50, 2)\n",
    "fakenp = np.random.rand(N, 50, 2)\n",
    "for i in range(N):\n",
    "    im1, = plt.plot(x[i, :, 0], x[i, :, 1], 'b.')\n",
    "    im2, = plt.plot(fakenp[i, :, 0], fakenp[i, :, 1], 'rx')\n",
    "    ims.append([im1, im2])\n",
    "ani = animation.ArtistAnimation(fig, ims, interval=100, blit=True,\n",
    "                                repeat_delay=1000)\n",
    "ani.save('sample.mp4', writer='ffmpeg')"
   ]
  },
  {
   "cell_type": "code",
   "execution_count": null,
   "metadata": {},
   "outputs": [],
   "source": []
  },
  {
   "cell_type": "code",
   "execution_count": 50,
   "metadata": {},
   "outputs": [
    {
     "data": {
      "text/plain": [
       "[1.1,\n",
       " 1.2100000000000002,\n",
       " 1.3310000000000004,\n",
       " 1.4641000000000004,\n",
       " 1.6105100000000006,\n",
       " 1.7715610000000008,\n",
       " 1.9487171000000012,\n",
       " 2.1435888100000016,\n",
       " 2.357947691000002,\n",
       " 2.5937424601000023,\n",
       " 2.8531167061100025,\n",
       " 3.138428376721003,\n",
       " 3.452271214393104,\n",
       " 3.7974983358324144,\n",
       " 4.177248169415656,\n",
       " 4.594972986357222,\n",
       " 5.054470284992945,\n",
       " 5.55991731349224,\n",
       " 6.115909044841464]"
      ]
     },
     "execution_count": 50,
     "metadata": {},
     "output_type": "execute_result"
    }
   ],
   "source": [
    "[1.1**x/2*cap_size for x in range(1,20)]"
   ]
  },
  {
   "cell_type": "code",
   "execution_count": null,
   "metadata": {},
   "outputs": [],
   "source": []
  },
  {
   "cell_type": "code",
   "execution_count": null,
   "metadata": {},
   "outputs": [],
   "source": []
  }
 ],
 "metadata": {
  "kernelspec": {
   "display_name": "Python 3",
   "language": "python",
   "name": "python3"
  },
  "language_info": {
   "codemirror_mode": {
    "name": "ipython",
    "version": 3
   },
   "file_extension": ".py",
   "mimetype": "text/x-python",
   "name": "python",
   "nbconvert_exporter": "python",
   "pygments_lexer": "ipython3",
   "version": "3.8.1"
  }
 },
 "nbformat": 4,
 "nbformat_minor": 4
}
